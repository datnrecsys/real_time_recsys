{
 "cells": [
  {
   "cell_type": "markdown",
   "metadata": {},
   "source": [
    "## Setup"
   ]
  },
  {
   "cell_type": "code",
   "execution_count": 2,
   "metadata": {},
   "outputs": [],
   "source": [
    "import torch\n",
    "import torch.nn.functional as F\n",
    "import torch.nn as nn"
   ]
  },
  {
   "cell_type": "markdown",
   "metadata": {},
   "source": [
    "## MSE Loss"
   ]
  },
  {
   "cell_type": "code",
   "execution_count": 3,
   "metadata": {},
   "outputs": [],
   "source": [
    "pred = torch.tensor([0.5, 0.6, 0.7, 0.8])\n",
    "target = torch.tensor([0.0, 3.0, 4.0, 5.0])"
   ]
  },
  {
   "cell_type": "code",
   "execution_count": 4,
   "metadata": {},
   "outputs": [
    {
     "data": {
      "text/plain": [
       "tensor(8.6350)"
      ]
     },
     "execution_count": 4,
     "metadata": {},
     "output_type": "execute_result"
    }
   ],
   "source": [
    "# reduction default is 'mean'\n",
    "loss = F.mse_loss(pred, target)\n",
    "loss"
   ]
  },
  {
   "cell_type": "code",
   "execution_count": 5,
   "metadata": {},
   "outputs": [
    {
     "data": {
      "text/plain": [
       "tensor([ 0.2500,  5.7600, 10.8900, 17.6400])"
      ]
     },
     "execution_count": 5,
     "metadata": {},
     "output_type": "execute_result"
    }
   ],
   "source": [
    "# reduction = \"none\"\n",
    "loss = F.mse_loss(pred, target, reduction='none')\n",
    "loss"
   ]
  },
  {
   "cell_type": "code",
   "execution_count": 6,
   "metadata": {},
   "outputs": [
    {
     "data": {
      "text/plain": [
       "tensor(34.3525)"
      ]
     },
     "execution_count": 6,
     "metadata": {},
     "output_type": "execute_result"
    }
   ],
   "source": [
    "# Apply weights\n",
    "pos_weight = 4\n",
    "neg_weight = 1\n",
    "\n",
    "weight = torch.where(\n",
    "    target > 0,\n",
    "    torch.ones_like(pred) * pos_weight,\n",
    "    torch.ones_like(pred) * neg_weight\n",
    ")\n",
    "\n",
    "loss = loss * weight\n",
    "loss = loss.mean()\n",
    "loss"
   ]
  },
  {
   "cell_type": "markdown",
   "metadata": {},
   "source": [
    "## Custom Loss"
   ]
  },
  {
   "cell_type": "code",
   "execution_count": 7,
   "metadata": {},
   "outputs": [],
   "source": [
    "class WeightedMSELoss(nn.Module):\n",
    "    def __init__(self, pos_weight=4, neg_weight=1):\n",
    "        super(WeightedMSELoss, self).__init__()\n",
    "        self.pos_weight = pos_weight\n",
    "        self.neg_weight = neg_weight\n",
    "\n",
    "    def forward(self, pred, target):\n",
    "        weight = torch.where(\n",
    "            target > 0,\n",
    "            torch.ones_like(pred) * self.pos_weight,\n",
    "            torch.ones_like(pred) * self.neg_weight\n",
    "        )\n",
    "        loss = F.mse_loss(pred, target, reduction='none')\n",
    "        loss = loss * weight\n",
    "        return loss.mean()"
   ]
  },
  {
   "cell_type": "code",
   "execution_count": 8,
   "metadata": {},
   "outputs": [],
   "source": [
    "pred = torch.tensor([\n",
    "    [0.1, 0.2, 0.3],\n",
    "    [0.4, 0.5, 0.6],\n",
    "])\n",
    "\n",
    "target = torch.tensor([\n",
    "    [0.0, 1.0, 2.0],\n",
    "    [3.0, 4.0, 5.0],\n",
    "])"
   ]
  },
  {
   "cell_type": "code",
   "execution_count": 9,
   "metadata": {},
   "outputs": [
    {
     "data": {
      "text/plain": [
       "tensor(6.9850)"
      ]
     },
     "execution_count": 9,
     "metadata": {},
     "output_type": "execute_result"
    }
   ],
   "source": [
    "F.mse_loss(pred, target)"
   ]
  },
  {
   "cell_type": "code",
   "execution_count": 10,
   "metadata": {},
   "outputs": [
    {
     "data": {
      "text/plain": [
       "tensor(27.9350)"
      ]
     },
     "execution_count": 10,
     "metadata": {},
     "output_type": "execute_result"
    }
   ],
   "source": [
    "loss = WeightedMSELoss()\n",
    "\n",
    "loss_value = loss(pred, target)\n",
    "loss_value"
   ]
  },
  {
   "cell_type": "markdown",
   "metadata": {},
   "source": [
    "## Weighted BCE Loss"
   ]
  },
  {
   "cell_type": "code",
   "execution_count": 2,
   "metadata": {},
   "outputs": [
    {
     "name": "stdout",
     "output_type": "stream",
     "text": [
      "BCELoss without class weights: 0.4188944399356842\n",
      "BCELoss with class weights: 0.7037529945373535\n"
     ]
    }
   ],
   "source": [
    "import torch\n",
    "import torch.nn as nn\n",
    "\n",
    "# Example tensor of predictions (sigmoid output)\n",
    "predictions = torch.tensor([0.1, 0.4, 0.35, 0.8], requires_grad=True)\n",
    "\n",
    "# Example tensor of target labels (0 or 1)\n",
    "targets = torch.tensor([0, 1, 0, 1], dtype=torch.float32)\n",
    "\n",
    "# Define the weights for the classes\n",
    "class_weights = torch.tensor([1.0, 2.0, 1.0, 2.0])  # Weight for class 0 and class 1\n",
    "\n",
    "# Initialize the BCELoss function\n",
    "criterion = nn.BCELoss()\n",
    "\n",
    "# Calculate the loss\n",
    "loss = criterion(predictions, targets)\n",
    "\n",
    "print('BCELoss without class weights:', loss.item())\n",
    "\n",
    "# Now using weighted BCE loss by incorporating weights\n",
    "loss_with_weights = nn.BCELoss(weight=class_weights)(predictions, targets)\n",
    "\n",
    "print('BCELoss with class weights:', loss_with_weights.item())\n"
   ]
  }
 ],
 "metadata": {
  "kernelspec": {
   "display_name": "Python 3",
   "language": "python",
   "name": "python3"
  },
  "language_info": {
   "codemirror_mode": {
    "name": "ipython",
    "version": 3
   },
   "file_extension": ".py",
   "mimetype": "text/x-python",
   "name": "python",
   "nbconvert_exporter": "python",
   "pygments_lexer": "ipython3",
   "version": "3.11.9"
  }
 },
 "nbformat": 4,
 "nbformat_minor": 2
}
