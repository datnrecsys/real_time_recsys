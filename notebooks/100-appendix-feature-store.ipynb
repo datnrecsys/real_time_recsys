{
 "cells": [
  {
   "cell_type": "code",
   "execution_count": 1,
   "id": "3cdf507b",
   "metadata": {},
   "outputs": [],
   "source": [
    "%load_ext autoreload\n",
    "%autoreload 2"
   ]
  },
  {
   "cell_type": "code",
   "execution_count": 2,
   "id": "a3914aba",
   "metadata": {},
   "outputs": [],
   "source": [
    "from feast import FeatureStore\n",
    "import pandas as pd\n",
    "from datetime import datetime"
   ]
  },
  {
   "cell_type": "code",
   "execution_count": 3,
   "id": "b24399ea",
   "metadata": {},
   "outputs": [],
   "source": [
    "store = FeatureStore(repo_path=\"../feature_pipeline/feature_store/feature_repo\")"
   ]
  },
  {
   "cell_type": "code",
   "execution_count": 4,
   "id": "c8a3ce1c",
   "metadata": {},
   "outputs": [
    {
     "name": "stderr",
     "output_type": "stream",
     "text": [
      "/home/dinhln/Desktop/real_time_recsys/.venv/lib/python3.11/site-packages/feast/infra/utils/postgres/connection_utils.py:116: UserWarning: pandas only supports SQLAlchemy connectable (engine/connection) or database string URI or sqlite3 DBAPI2 connection. Other DBAPI2 objects are not tested. Please consider using SQLAlchemy.\n",
      "  df = pd.read_sql(\n"
     ]
    }
   ],
   "source": [
    "entity_sql = f\"\"\"\n",
    "    SELECT\n",
    "        parent_asin,\n",
    "        timestamp as event_timestamp\n",
    "    FROM {store.get_data_source(\"parent_asin_rating_stats_source\").get_table_query_string()}\n",
    "    WHERE timestamp BETWEEN '2019-01-01' and '2021-12-31'\n",
    "\"\"\"\n",
    "training_df = store.get_historical_features(\n",
    "    entity_df=entity_sql,\n",
    "    features=[\n",
    "        \"parent_asin_rating_stats_fresh:parent_asin_rating_cnt_365d\",\n",
    "    ],\n",
    ").to_df()"
   ]
  },
  {
   "cell_type": "code",
   "execution_count": 5,
   "id": "e6192ddb",
   "metadata": {},
   "outputs": [
    {
     "data": {
      "text/html": [
       "<div>\n",
       "<style scoped>\n",
       "    .dataframe tbody tr th:only-of-type {\n",
       "        vertical-align: middle;\n",
       "    }\n",
       "\n",
       "    .dataframe tbody tr th {\n",
       "        vertical-align: top;\n",
       "    }\n",
       "\n",
       "    .dataframe thead th {\n",
       "        text-align: right;\n",
       "    }\n",
       "</style>\n",
       "<table border=\"1\" class=\"dataframe\">\n",
       "  <thead>\n",
       "    <tr style=\"text-align: right;\">\n",
       "      <th></th>\n",
       "      <th>parent_asin</th>\n",
       "      <th>event_timestamp</th>\n",
       "      <th>parent_asin_rating_cnt_365d</th>\n",
       "    </tr>\n",
       "  </thead>\n",
       "  <tbody>\n",
       "    <tr>\n",
       "      <th>0</th>\n",
       "      <td>B00ASLSQHK</td>\n",
       "      <td>2019-06-18 19:14:47.758</td>\n",
       "      <td>0</td>\n",
       "    </tr>\n",
       "    <tr>\n",
       "      <th>1</th>\n",
       "      <td>B003FVYXY0</td>\n",
       "      <td>2019-02-20 19:45:07.082</td>\n",
       "      <td>4</td>\n",
       "    </tr>\n",
       "    <tr>\n",
       "      <th>2</th>\n",
       "      <td>B00LT0ZWJE</td>\n",
       "      <td>2019-04-24 13:56:55.072</td>\n",
       "      <td>4</td>\n",
       "    </tr>\n",
       "    <tr>\n",
       "      <th>3</th>\n",
       "      <td>B00RXEWOAA</td>\n",
       "      <td>2019-08-30 21:06:05.171</td>\n",
       "      <td>6</td>\n",
       "    </tr>\n",
       "    <tr>\n",
       "      <th>4</th>\n",
       "      <td>B00HNFPZF0</td>\n",
       "      <td>2019-08-09 15:35:42.549</td>\n",
       "      <td>2</td>\n",
       "    </tr>\n",
       "    <tr>\n",
       "      <th>...</th>\n",
       "      <td>...</td>\n",
       "      <td>...</td>\n",
       "      <td>...</td>\n",
       "    </tr>\n",
       "    <tr>\n",
       "      <th>26249</th>\n",
       "      <td>B014UWIKX2</td>\n",
       "      <td>2021-03-22 23:43:29.604</td>\n",
       "      <td>1</td>\n",
       "    </tr>\n",
       "    <tr>\n",
       "      <th>26250</th>\n",
       "      <td>B01LW71IBJ</td>\n",
       "      <td>2020-02-29 02:11:23.770</td>\n",
       "      <td>5</td>\n",
       "    </tr>\n",
       "    <tr>\n",
       "      <th>26251</th>\n",
       "      <td>B01MS1PMML</td>\n",
       "      <td>2019-01-16 05:30:29.053</td>\n",
       "      <td>6</td>\n",
       "    </tr>\n",
       "    <tr>\n",
       "      <th>26252</th>\n",
       "      <td>B08F1P3BCC</td>\n",
       "      <td>2021-02-09 20:51:29.752</td>\n",
       "      <td>42</td>\n",
       "    </tr>\n",
       "    <tr>\n",
       "      <th>26253</th>\n",
       "      <td>B0B6HR2RKV</td>\n",
       "      <td>2019-04-09 15:32:39.535</td>\n",
       "      <td>8</td>\n",
       "    </tr>\n",
       "  </tbody>\n",
       "</table>\n",
       "<p>26254 rows × 3 columns</p>\n",
       "</div>"
      ],
      "text/plain": [
       "      parent_asin         event_timestamp  parent_asin_rating_cnt_365d\n",
       "0      B00ASLSQHK 2019-06-18 19:14:47.758                            0\n",
       "1      B003FVYXY0 2019-02-20 19:45:07.082                            4\n",
       "2      B00LT0ZWJE 2019-04-24 13:56:55.072                            4\n",
       "3      B00RXEWOAA 2019-08-30 21:06:05.171                            6\n",
       "4      B00HNFPZF0 2019-08-09 15:35:42.549                            2\n",
       "...           ...                     ...                          ...\n",
       "26249  B014UWIKX2 2021-03-22 23:43:29.604                            1\n",
       "26250  B01LW71IBJ 2020-02-29 02:11:23.770                            5\n",
       "26251  B01MS1PMML 2019-01-16 05:30:29.053                            6\n",
       "26252  B08F1P3BCC 2021-02-09 20:51:29.752                           42\n",
       "26253  B0B6HR2RKV 2019-04-09 15:32:39.535                            8\n",
       "\n",
       "[26254 rows x 3 columns]"
      ]
     },
     "execution_count": 5,
     "metadata": {},
     "output_type": "execute_result"
    }
   ],
   "source": [
    "training_df"
   ]
  },
  {
   "cell_type": "code",
   "execution_count": 16,
   "id": "629c5dfd",
   "metadata": {},
   "outputs": [],
   "source": [
    "# get online features\n",
    "\n",
    "features = store.get_online_features(\n",
    "    features=[\n",
    "        \"parent_asin_rating_stats_fresh:parent_asin_rating_cnt_365d\",\n",
    "    ],\n",
    "    entity_rows=[\n",
    "        {\n",
    "            \"parent_asin\": \"B00RXEWOAA\",\n",
    "        }\n",
    "    ],\n",
    ").to_dict()"
   ]
  },
  {
   "cell_type": "code",
   "execution_count": 17,
   "id": "253ae4c2",
   "metadata": {},
   "outputs": [
    {
     "data": {
      "text/plain": [
       "{'parent_asin': ['B00RXEWOAA'], 'parent_asin_rating_cnt_365d': [2]}"
      ]
     },
     "execution_count": 17,
     "metadata": {},
     "output_type": "execute_result"
    }
   ],
   "source": [
    "features"
   ]
  },
  {
   "cell_type": "code",
   "execution_count": 31,
   "id": "a2ffea76",
   "metadata": {},
   "outputs": [],
   "source": [
    "# get online features\n",
    "\n",
    "features = store.get_online_features(\n",
    "    features=[\n",
    "        \"user_rating_stats_fresh:user_rating_list_10_recent_asin\",\n",
    "        \"user_rating_stats_fresh:user_rating_list_10_recent_asin_timestamp\",\n",
    "        # \"parent_asin_rating_stats_fresh:parent_asin_rating_cnt_365d\"\n",
    "    ],\n",
    "    entity_rows=[\n",
    "        {\n",
    "            \"user_id\": \"AE22236AFRRSMQIKGG7TPTB75QEA\",\n",
    "            # \"parent_asin\": \"B00RXEWOAA\",\n",
    "        }\n",
    "    ],\n",
    ").to_dict()"
   ]
  },
  {
   "cell_type": "code",
   "execution_count": 24,
   "id": "a9c0dd87",
   "metadata": {},
   "outputs": [
    {
     "data": {
      "text/plain": [
       "{'user_id': ['AE22236AFRRSMQIKGG7TPTB75QEA'],\n",
       " 'user_rating_list_10_recent_asin_timestamp': ['1368320561,1426609328,1426609961,1530219104'],\n",
       " 'user_rating_list_10_recent_asin': ['B008GFRE5A,B00M4I1BAY,B08QKWQS9J,B000WYVBR0']}"
      ]
     },
     "execution_count": 24,
     "metadata": {},
     "output_type": "execute_result"
    }
   ],
   "source": [
    "features"
   ]
  },
  {
   "cell_type": "code",
   "execution_count": 34,
   "id": "156aed41",
   "metadata": {},
   "outputs": [
    {
     "data": {
      "text/plain": [
       "{'user_id': ['AE22236AFRRSMQIKGG7TPTB75QEA'],\n",
       " 'user_rating_list_10_recent_asin_timestamp': ['1368320561,1426609328,1426609961,1530219104'],\n",
       " 'user_rating_list_10_recent_asin': ['B008GFRE5A,B00M4I1BAY,B08QKWQS9J,B000WYVBR0']}"
      ]
     },
     "execution_count": 34,
     "metadata": {},
     "output_type": "execute_result"
    }
   ],
   "source": [
    "# Get from unified feature service\n",
    "\n",
    "feature_service = store.get_feature_service(\"sequence_stats_v1\")\n",
    "\n",
    "features = store.get_online_features(\n",
    "    features=feature_service, \n",
    "    entity_rows=[\n",
    "        {\n",
    "            \"user_id\": \"AE22236AFRRSMQIKGG7TPTB75QEA\",\n",
    "            # \"parent_asin\": \"B00RXEWOAA\",\n",
    "        }\n",
    "    ],\n",
    ")\n",
    "features.to_dict()"
   ]
  },
  {
   "cell_type": "markdown",
   "id": "0259913d",
   "metadata": {},
   "source": [
    "# Server\n",
    "\n",
    "This assumes that you've already run:\n",
    "\n",
    "- feast serve"
   ]
  },
  {
   "cell_type": "code",
   "execution_count": 19,
   "id": "8bcde2dc",
   "metadata": {},
   "outputs": [],
   "source": [
    "import httpx\n",
    "\n",
    "from pydantic import BaseModel\n",
    "from typing import Dict, List, Optional, Any\n",
    "from datetime import datetime\n"
   ]
  },
  {
   "cell_type": "code",
   "execution_count": 20,
   "id": "8ca74ed6",
   "metadata": {},
   "outputs": [],
   "source": [
    "class FeatureRequest(BaseModel):\n",
    "    feature_service: str\n",
    "    entities: Dict[str, List[str]]"
   ]
  },
  {
   "cell_type": "code",
   "execution_count": 21,
   "id": "7d134480",
   "metadata": {},
   "outputs": [
    {
     "data": {
      "text/plain": [
       "{'feature_service': 'sequence_stats_v1',\n",
       " 'entities': {'user_id': ['AE22236AFRRSMQIKGG7TPTB75QEA']}}"
      ]
     },
     "execution_count": 21,
     "metadata": {},
     "output_type": "execute_result"
    }
   ],
   "source": [
    "request = FeatureRequest(\n",
    "    feature_service=\"sequence_stats_v1\",\n",
    "    entities={\n",
    "        \"user_id\": [\"AE22236AFRRSMQIKGG7TPTB75QEA\"],\n",
    "    }\n",
    ")\n",
    "\n",
    "request.model_dump()"
   ]
  },
  {
   "cell_type": "code",
   "execution_count": 22,
   "id": "33747261",
   "metadata": {},
   "outputs": [],
   "source": [
    "with httpx.Client() as client:\n",
    "    response = client.post(\n",
    "        \"http://138.2.61.6:6566/get-online-features\",\n",
    "        json=request.model_dump(),\n",
    "    )\n",
    "    response.raise_for_status()\n",
    "    features = response.json()"
   ]
  },
  {
   "cell_type": "code",
   "execution_count": 23,
   "id": "6afdca0f",
   "metadata": {},
   "outputs": [
    {
     "data": {
      "text/plain": [
       "{'metadata': {'feature_names': ['user_id',\n",
       "   'user_rating_list_10_recent_asin_timestamp',\n",
       "   'user_rating_list_10_recent_asin']},\n",
       " 'results': [{'values': ['AE22236AFRRSMQIKGG7TPTB75QEA'],\n",
       "   'statuses': ['PRESENT'],\n",
       "   'event_timestamps': ['1970-01-01T00:00:00Z']},\n",
       "  {'values': ['1368320561,1426609328,1426609961,1530219104'],\n",
       "   'statuses': ['PRESENT'],\n",
       "   'event_timestamps': ['2018-12-26T23:25:00.477Z']},\n",
       "  {'values': ['B008GFRE5A,B00M4I1BAY,B08QKWQS9J,B000WYVBR0'],\n",
       "   'statuses': ['PRESENT'],\n",
       "   'event_timestamps': ['2018-12-26T23:25:00.477Z']}]}"
      ]
     },
     "execution_count": 23,
     "metadata": {},
     "output_type": "execute_result"
    }
   ],
   "source": [
    "features"
   ]
  },
  {
   "cell_type": "code",
   "execution_count": 24,
   "id": "a9700072",
   "metadata": {},
   "outputs": [],
   "source": [
    "class FeatureRequestResult(BaseModel):\n",
    "    class Metadata(BaseModel):\n",
    "        feature_names: List[str]\n",
    "\n",
    "    class Result(BaseModel):\n",
    "        values: List[Optional[str]]\n",
    "        statuses: List[str]\n",
    "        event_timestamps: List[datetime]\n",
    "\n",
    "    metadata: Metadata\n",
    "    results: List[Result]\n",
    "    \n",
    "\n",
    "    def get_feature(self, feature_name: str) -> Any:\n",
    "        try:\n",
    "            feature_idx = self.metadata.feature_names.index(feature_name)\n",
    "        except ValueError:\n",
    "            raise ValueError(f\"Feature '{feature_name}' not found.\")\n",
    "        \n",
    "        feature_results = self.results\n",
    "        \n",
    "        def get_feature_values(idx):\n",
    "            return feature_results[idx].values[0]\n",
    "        \n",
    "        feature_value = get_feature_values(feature_idx)\n",
    "        \n",
    "        if \"list\" in feature_name and isinstance(feature_value, str):\n",
    "            # If the feature is a list, we need to convert it to a Python list\n",
    "            if feature_value is not None:\n",
    "                feature_value = feature_value.split(\",\")\n",
    "                \n",
    "        return feature_value\n",
    "        "
   ]
  },
  {
   "cell_type": "code",
   "execution_count": 25,
   "id": "c30865e3",
   "metadata": {},
   "outputs": [
    {
     "data": {
      "text/plain": [
       "'AE22236AFRRSMQIKGG7TPTB75QEA'"
      ]
     },
     "execution_count": 25,
     "metadata": {},
     "output_type": "execute_result"
    }
   ],
   "source": [
    "FeatureRequestResult.model_validate(features).get_feature(\"user_id\")"
   ]
  },
  {
   "cell_type": "code",
   "execution_count": 26,
   "id": "cd10c4ee",
   "metadata": {},
   "outputs": [
    {
     "data": {
      "text/plain": [
       "['B008GFRE5A', 'B00M4I1BAY', 'B08QKWQS9J', 'B000WYVBR0']"
      ]
     },
     "execution_count": 26,
     "metadata": {},
     "output_type": "execute_result"
    }
   ],
   "source": [
    "FeatureRequestResult.model_validate(features).get_feature(\"user_rating_list_10_recent_asin\")"
   ]
  },
  {
   "cell_type": "code",
   "execution_count": 27,
   "id": "1f4447e9",
   "metadata": {},
   "outputs": [
    {
     "data": {
      "text/plain": [
       "FeatureRequestResult(metadata=Metadata(feature_names=['user_id', 'user_rating_list_10_recent_asin_timestamp', 'user_rating_list_10_recent_asin']), results=[Result(values=['AE22236AFRRSMQIKGG7TPTB75QEA'], statuses=['PRESENT'], event_timestamps=[datetime.datetime(1970, 1, 1, 0, 0, tzinfo=TzInfo(UTC))]), Result(values=['1368320561,1426609328,1426609961,1530219104'], statuses=['PRESENT'], event_timestamps=[datetime.datetime(2018, 12, 26, 23, 25, 0, 477000, tzinfo=TzInfo(UTC))]), Result(values=['B008GFRE5A,B00M4I1BAY,B08QKWQS9J,B000WYVBR0'], statuses=['PRESENT'], event_timestamps=[datetime.datetime(2018, 12, 26, 23, 25, 0, 477000, tzinfo=TzInfo(UTC))])])"
      ]
     },
     "execution_count": 27,
     "metadata": {},
     "output_type": "execute_result"
    }
   ],
   "source": [
    "FeatureRequestResult.model_validate(features)"
   ]
  },
  {
   "cell_type": "code",
   "execution_count": null,
   "id": "228da60c",
   "metadata": {},
   "outputs": [],
   "source": []
  }
 ],
 "metadata": {
  "kernelspec": {
   "display_name": "Python 3",
   "language": "python",
   "name": "python3"
  },
  "language_info": {
   "codemirror_mode": {
    "name": "ipython",
    "version": 3
   },
   "file_extension": ".py",
   "mimetype": "text/x-python",
   "name": "python",
   "nbconvert_exporter": "python",
   "pygments_lexer": "ipython3",
   "version": "3.11.9"
  }
 },
 "nbformat": 4,
 "nbformat_minor": 5
}
