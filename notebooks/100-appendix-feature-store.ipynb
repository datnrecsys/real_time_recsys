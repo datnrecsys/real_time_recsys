{
 "cells": [
  {
   "cell_type": "code",
   "execution_count": 78,
   "id": "3cdf507b",
   "metadata": {},
   "outputs": [
    {
     "name": "stdout",
     "output_type": "stream",
     "text": [
      "The autoreload extension is already loaded. To reload it, use:\n",
      "  %reload_ext autoreload\n"
     ]
    }
   ],
   "source": [
    "%load_ext autoreload\n",
    "%autoreload 2"
   ]
  },
  {
   "cell_type": "code",
   "execution_count": 79,
   "id": "a3914aba",
   "metadata": {},
   "outputs": [],
   "source": [
    "from feast import FeatureStore\n",
    "import pandas as pd\n",
    "from datetime import datetime"
   ]
  },
  {
   "cell_type": "code",
   "execution_count": 80,
   "id": "b24399ea",
   "metadata": {},
   "outputs": [],
   "source": [
    "store = FeatureStore(repo_path=\"../feature_pipeline/feature_store/feature_repo\")"
   ]
  },
  {
   "cell_type": "code",
   "execution_count": 81,
   "id": "c8a3ce1c",
   "metadata": {},
   "outputs": [
    {
     "name": "stderr",
     "output_type": "stream",
     "text": [
      "/home/dinhln/Desktop/real_time_recsys/.venv/lib/python3.11/site-packages/feast/infra/utils/postgres/connection_utils.py:116: UserWarning: pandas only supports SQLAlchemy connectable (engine/connection) or database string URI or sqlite3 DBAPI2 connection. Other DBAPI2 objects are not tested. Please consider using SQLAlchemy.\n",
      "  df = pd.read_sql(\n"
     ]
    }
   ],
   "source": [
    "entity_sql = f\"\"\"\n",
    "    SELECT\n",
    "        parent_asin,\n",
    "        timestamp as event_timestamp\n",
    "    FROM {store.get_data_source(\"parent_asin_rating_stats_source\").get_table_query_string()}\n",
    "    WHERE timestamp BETWEEN '2019-01-01' and '2021-12-31'\n",
    "\"\"\"\n",
    "training_df = store.get_historical_features(\n",
    "    entity_df=entity_sql,\n",
    "    features=[\n",
    "        \"parent_asin_rating_stats_fresh:parent_asin_rating_cnt_365d\",\n",
    "    ],\n",
    ").to_df()"
   ]
  },
  {
   "cell_type": "code",
   "execution_count": 82,
   "id": "e6192ddb",
   "metadata": {},
   "outputs": [
    {
     "data": {
      "text/html": [
       "<div>\n",
       "<style scoped>\n",
       "    .dataframe tbody tr th:only-of-type {\n",
       "        vertical-align: middle;\n",
       "    }\n",
       "\n",
       "    .dataframe tbody tr th {\n",
       "        vertical-align: top;\n",
       "    }\n",
       "\n",
       "    .dataframe thead th {\n",
       "        text-align: right;\n",
       "    }\n",
       "</style>\n",
       "<table border=\"1\" class=\"dataframe\">\n",
       "  <thead>\n",
       "    <tr style=\"text-align: right;\">\n",
       "      <th></th>\n",
       "      <th>parent_asin</th>\n",
       "      <th>event_timestamp</th>\n",
       "      <th>parent_asin_rating_cnt_365d</th>\n",
       "    </tr>\n",
       "  </thead>\n",
       "  <tbody>\n",
       "    <tr>\n",
       "      <th>0</th>\n",
       "      <td>B00ASLSQHK</td>\n",
       "      <td>2019-06-18 19:14:47.758</td>\n",
       "      <td>0</td>\n",
       "    </tr>\n",
       "    <tr>\n",
       "      <th>1</th>\n",
       "      <td>B003FVYXY0</td>\n",
       "      <td>2019-02-20 19:45:07.082</td>\n",
       "      <td>4</td>\n",
       "    </tr>\n",
       "    <tr>\n",
       "      <th>2</th>\n",
       "      <td>B00LT0ZWJE</td>\n",
       "      <td>2019-04-24 13:56:55.072</td>\n",
       "      <td>4</td>\n",
       "    </tr>\n",
       "    <tr>\n",
       "      <th>3</th>\n",
       "      <td>B00RXEWOAA</td>\n",
       "      <td>2019-08-30 21:06:05.171</td>\n",
       "      <td>6</td>\n",
       "    </tr>\n",
       "    <tr>\n",
       "      <th>4</th>\n",
       "      <td>B00HNFPZF0</td>\n",
       "      <td>2019-08-09 15:35:42.549</td>\n",
       "      <td>2</td>\n",
       "    </tr>\n",
       "    <tr>\n",
       "      <th>...</th>\n",
       "      <td>...</td>\n",
       "      <td>...</td>\n",
       "      <td>...</td>\n",
       "    </tr>\n",
       "    <tr>\n",
       "      <th>26249</th>\n",
       "      <td>B014UWIKX2</td>\n",
       "      <td>2021-03-22 23:43:29.604</td>\n",
       "      <td>1</td>\n",
       "    </tr>\n",
       "    <tr>\n",
       "      <th>26250</th>\n",
       "      <td>B01LW71IBJ</td>\n",
       "      <td>2020-02-29 02:11:23.770</td>\n",
       "      <td>5</td>\n",
       "    </tr>\n",
       "    <tr>\n",
       "      <th>26251</th>\n",
       "      <td>B01MS1PMML</td>\n",
       "      <td>2019-01-16 05:30:29.053</td>\n",
       "      <td>6</td>\n",
       "    </tr>\n",
       "    <tr>\n",
       "      <th>26252</th>\n",
       "      <td>B08F1P3BCC</td>\n",
       "      <td>2021-02-09 20:51:29.752</td>\n",
       "      <td>42</td>\n",
       "    </tr>\n",
       "    <tr>\n",
       "      <th>26253</th>\n",
       "      <td>B0B6HR2RKV</td>\n",
       "      <td>2019-04-09 15:32:39.535</td>\n",
       "      <td>8</td>\n",
       "    </tr>\n",
       "  </tbody>\n",
       "</table>\n",
       "<p>26254 rows × 3 columns</p>\n",
       "</div>"
      ],
      "text/plain": [
       "      parent_asin         event_timestamp  parent_asin_rating_cnt_365d\n",
       "0      B00ASLSQHK 2019-06-18 19:14:47.758                            0\n",
       "1      B003FVYXY0 2019-02-20 19:45:07.082                            4\n",
       "2      B00LT0ZWJE 2019-04-24 13:56:55.072                            4\n",
       "3      B00RXEWOAA 2019-08-30 21:06:05.171                            6\n",
       "4      B00HNFPZF0 2019-08-09 15:35:42.549                            2\n",
       "...           ...                     ...                          ...\n",
       "26249  B014UWIKX2 2021-03-22 23:43:29.604                            1\n",
       "26250  B01LW71IBJ 2020-02-29 02:11:23.770                            5\n",
       "26251  B01MS1PMML 2019-01-16 05:30:29.053                            6\n",
       "26252  B08F1P3BCC 2021-02-09 20:51:29.752                           42\n",
       "26253  B0B6HR2RKV 2019-04-09 15:32:39.535                            8\n",
       "\n",
       "[26254 rows x 3 columns]"
      ]
     },
     "execution_count": 82,
     "metadata": {},
     "output_type": "execute_result"
    }
   ],
   "source": [
    "training_df"
   ]
  },
  {
   "cell_type": "code",
   "execution_count": 83,
   "id": "629c5dfd",
   "metadata": {},
   "outputs": [],
   "source": [
    "# get online features\n",
    "\n",
    "features = store.get_online_features(\n",
    "    features=[\n",
    "        \"parent_asin_rating_stats_fresh:parent_asin_rating_cnt_365d\",\n",
    "    ],\n",
    "    entity_rows=[\n",
    "        {\n",
    "            \"parent_asin\": \"B00RXEWOAA\",\n",
    "        }\n",
    "    ],\n",
    ").to_dict()"
   ]
  },
  {
   "cell_type": "code",
   "execution_count": 84,
   "id": "253ae4c2",
   "metadata": {},
   "outputs": [
    {
     "data": {
      "text/plain": [
       "{'parent_asin': ['B00RXEWOAA'], 'parent_asin_rating_cnt_365d': [None]}"
      ]
     },
     "execution_count": 84,
     "metadata": {},
     "output_type": "execute_result"
    }
   ],
   "source": [
    "features"
   ]
  },
  {
   "cell_type": "code",
   "execution_count": 85,
   "id": "a2ffea76",
   "metadata": {},
   "outputs": [],
   "source": [
    "# get online features\n",
    "\n",
    "features = store.get_online_features(\n",
    "    features=[\n",
    "        \"user_rating_stats_fresh:user_rating_list_10_recent_asin\",\n",
    "        \"parent_asin_rating_stats_fresh:parent_asin_rating_cnt_365d\"\n",
    "        \"\"\n",
    "    ],\n",
    "    entity_rows=[\n",
    "        {\n",
    "            \"user_id\": \"B00RXEWOAA\",\n",
    "            \"parent_asin\": \"B00RXEWOAA\",\n",
    "        }\n",
    "    ],\n",
    ").to_dict()"
   ]
  },
  {
   "cell_type": "code",
   "execution_count": 86,
   "id": "a9c0dd87",
   "metadata": {},
   "outputs": [
    {
     "data": {
      "text/plain": [
       "{'user_id': ['B00RXEWOAA'],\n",
       " 'parent_asin': ['B00RXEWOAA'],\n",
       " 'user_rating_list_10_recent_asin': [None],\n",
       " 'parent_asin_rating_cnt_365d': [None]}"
      ]
     },
     "execution_count": 86,
     "metadata": {},
     "output_type": "execute_result"
    }
   ],
   "source": [
    "features"
   ]
  },
  {
   "cell_type": "code",
   "execution_count": 87,
   "id": "77783e25",
   "metadata": {},
   "outputs": [
    {
     "data": {
      "text/plain": [
       "'2025-06-29T08:55:50'"
      ]
     },
     "execution_count": 87,
     "metadata": {},
     "output_type": "execute_result"
    }
   ],
   "source": [
    "from datetime import timezone\n",
    "\n",
    "datetime.now(timezone.utc).strftime(\"%Y-%m-%dT%H:%M:%S\")"
   ]
  },
  {
   "cell_type": "code",
   "execution_count": 88,
   "id": "ecec70ec",
   "metadata": {},
   "outputs": [
    {
     "name": "stdout",
     "output_type": "stream",
     "text": [
      "Materializing \u001b[1m\u001b[32m2\u001b[0m feature views to \u001b[1m\u001b[32m2022-10-02 07:00:00+07:00\u001b[0m into the \u001b[1m\u001b[32mpostgres\u001b[0m online store.\n",
      "\n",
      "\u001b[1m\u001b[32mparent_asin_rating_stats_fresh\u001b[0m from \u001b[1m\u001b[32m2025-06-28 15:55:52+07:00\u001b[0m to \u001b[1m\u001b[32m2022-10-02 07:00:00+07:00\u001b[0m:\n"
     ]
    },
    {
     "name": "stderr",
     "output_type": "stream",
     "text": [
      "0it [00:00, ?it/s]\n"
     ]
    },
    {
     "name": "stdout",
     "output_type": "stream",
     "text": [
      "\u001b[1m\u001b[32muser_rating_stats_fresh\u001b[0m from \u001b[1m\u001b[32m2025-06-28 15:56:03+07:00\u001b[0m to \u001b[1m\u001b[32m2022-10-02 07:00:00+07:00\u001b[0m:\n"
     ]
    },
    {
     "name": "stderr",
     "output_type": "stream",
     "text": [
      "0it [00:00, ?it/s]\n"
     ]
    }
   ],
   "source": [
    "store.materialize_incremental(\n",
    "    end_date=datetime(2022, 10, 2, tzinfo=timezone.utc))"
   ]
  },
  {
   "cell_type": "code",
   "execution_count": null,
   "id": "6dcaffa9",
   "metadata": {},
   "outputs": [],
   "source": []
  }
 ],
 "metadata": {
  "kernelspec": {
   "display_name": "Python 3",
   "language": "python",
   "name": "python3"
  },
  "language_info": {
   "codemirror_mode": {
    "name": "ipython",
    "version": 3
   },
   "file_extension": ".py",
   "mimetype": "text/x-python",
   "name": "python",
   "nbconvert_exporter": "python",
   "pygments_lexer": "ipython3",
   "version": "3.11.9"
  }
 },
 "nbformat": 4,
 "nbformat_minor": 5
}
