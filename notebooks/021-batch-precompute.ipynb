{
 "cells": [
  {
   "cell_type": "code",
   "execution_count": 1,
   "id": "57113eba",
   "metadata": {},
   "outputs": [],
   "source": [
    "%load_ext autoreload\n",
    "%autoreload 2"
   ]
  },
  {
   "cell_type": "code",
   "execution_count": 2,
   "id": "89f0214c",
   "metadata": {},
   "outputs": [],
   "source": [
    "import json\n",
    "import os\n",
    "import sys\n",
    "import time\n",
    "\n",
    "import torch\n",
    "from dotenv import load_dotenv\n",
    "from loguru import logger\n",
    "from pydantic import BaseModel\n",
    "from qdrant_client import QdrantClient\n",
    "from tqdm.auto import tqdm\n",
    "\n",
    "import mlflow\n",
    "\n",
    "load_dotenv()\n",
    "\n",
    "sys.path.insert(0, \"..\")"
   ]
  },
  {
   "cell_type": "code",
   "execution_count": 3,
   "id": "39644421",
   "metadata": {},
   "outputs": [
    {
     "name": "stdout",
     "output_type": "stream",
     "text": [
      "{\n",
      "  \"testing\": false,\n",
      "  \"run_name\": \"000-first-attempt\",\n",
      "  \"notebook_persist_dp\": \"/home/dinhln/Desktop/real_time_recsys/notebooks/data/000-first-attempt\",\n",
      "  \"random_seed\": 41,\n",
      "  \"device\": null,\n",
      "  \"top_K\": 100,\n",
      "  \"top_k\": 10,\n",
      "  \"mlf_model_name\": \"sequence_two_tower\",\n",
      "  \"batch_recs_fp\": \"/home/dinhln/Desktop/real_time_recsys/notebooks/data/000-first-attempt/batch_recs.jsonl\",\n",
      "  \"qdrant_url\": \"138.2.61.6:6333\",\n",
      "  \"qdrant_collection_name\": \"item2vec_item\"\n",
      "}\n"
     ]
    }
   ],
   "source": [
    "class Args(BaseModel):\n",
    "    testing: bool = False\n",
    "    run_name: str = \"000-first-attempt\"\n",
    "    notebook_persist_dp: str = None\n",
    "    random_seed: int = 41\n",
    "    device: str = None\n",
    "\n",
    "    top_K: int = 100\n",
    "    top_k: int = 10\n",
    "\n",
    "    mlf_model_name: str = \"sequence_two_tower\"\n",
    "\n",
    "    batch_recs_fp: str = None\n",
    "\n",
    "    qdrant_url: str = None\n",
    "    qdrant_collection_name: str = None\n",
    "\n",
    "    def init(self):\n",
    "        self.notebook_persist_dp = os.path.abspath(f\"data/{self.run_name}\")\n",
    "        os.makedirs(self.notebook_persist_dp, exist_ok=True)\n",
    "        self.batch_recs_fp = f\"{self.notebook_persist_dp}/batch_recs.jsonl\"\n",
    "\n",
    "        if not (qdrant_host := os.getenv(\"QDRANT_HOST\")):\n",
    "            raise Exception(f\"Environment variable QDRANT_HOST is not set.\")\n",
    "\n",
    "        qdrant_port = os.getenv(\"QDRANT_PORT\")\n",
    "        self.qdrant_url = f\"{qdrant_host}:{qdrant_port}\"\n",
    "        self.qdrant_collection_name = os.getenv(\"QDRANT_COLLECTION_NAME\") + \"_item\"\n",
    "\n",
    "        return self\n",
    "\n",
    "\n",
    "args = Args().init()\n",
    "\n",
    "print(args.model_dump_json(indent=2))"
   ]
  },
  {
   "cell_type": "code",
   "execution_count": 4,
   "id": "77850697",
   "metadata": {},
   "outputs": [
    {
     "name": "stderr",
     "output_type": "stream",
     "text": [
      "/tmp/ipykernel_2662744/1992658896.py:1: UserWarning: Qdrant client version 1.14.3 is incompatible with server version 1.12.0. Major versions should match and minor version difference must not exceed 1. Set check_compatibility=False to skip version check.\n",
      "  ann_index = QdrantClient(url=args.qdrant_url)\n"
     ]
    }
   ],
   "source": [
    "ann_index = QdrantClient(url=args.qdrant_url)\n",
    "if not ann_index.collection_exists(args.qdrant_collection_name):\n",
    "    raise Exception(\n",
    "        f\"Required Qdrant collection {args.qdrant_collection_name} does not exist\"\n",
    "    )"
   ]
  },
  {
   "cell_type": "code",
   "execution_count": 5,
   "id": "ae2e34fd",
   "metadata": {},
   "outputs": [],
   "source": [
    "def get_vector_by_id(id_: int):\n",
    "    record = ann_index.retrieve(\n",
    "        collection_name=args.qdrant_collection_name, ids=[id_], with_vectors=True\n",
    "    )[0]\n",
    "    return record.vector"
   ]
  },
  {
   "cell_type": "code",
   "execution_count": 6,
   "id": "691ea1b4",
   "metadata": {},
   "outputs": [
    {
     "data": {
      "text/plain": [
       "1"
      ]
     },
     "execution_count": 6,
     "metadata": {},
     "output_type": "execute_result"
    }
   ],
   "source": [
    "len(ann_index.retrieve(\n",
    "        collection_name=args.qdrant_collection_name, ids=[1,1], with_vectors=True\n",
    "    ))"
   ]
  },
  {
   "cell_type": "code",
   "execution_count": 7,
   "id": "c723d7c4",
   "metadata": {},
   "outputs": [
    {
     "name": "stderr",
     "output_type": "stream",
     "text": [
      "/tmp/ipykernel_2662744/59868858.py:2: DeprecationWarning: `search` method is deprecated and will be removed in the future. Use `query_points` instead.\n",
      "  neighbors = ann_index.search(\n"
     ]
    }
   ],
   "source": [
    "vector = get_vector_by_id(0)\n",
    "neighbors = ann_index.search(\n",
    "    collection_name=args.qdrant_collection_name, query_vector=vector, limit=5\n",
    ")"
   ]
  },
  {
   "cell_type": "code",
   "execution_count": 8,
   "id": "2bab7fc4",
   "metadata": {},
   "outputs": [
    {
     "data": {
      "text/plain": [
       "[ScoredPoint(id=0, version=0, score=1.0000001, payload={'average_rating': 4.6, 'parent_asin': '0972683275', 'categories': '[\"Electronics\", \"Television & Video\", \"Accessories\", \"TV Mounts, Stands & Turntables\", \"TV Wall & Ceiling Mounts\"]', 'main_category': 'All Electronics', 'description': '[\"The videosecu TV mount is a mounting solution for most 22\\\\\"-47\\\\\" LCD LED Plasma TV and some LED up to 55\\\\\" with VESA 600x400mm (24\\\\\"x16\\\\\"), 400x400mm (16\\\\\"x16\\\\\"),600x300mm(24\\\\\"x12\\\\\"), 400x200mm (16\\\\\"x8\\\\\"),300x300mm (12\\\\\"x12\\\\\"),300x200mm(12\\\\\"x8\\\\\"),200x200mm (8\\\\\"x8\\\\\"),200x100mm (8\\\\\"x4\\\\\") mounting hole pattern .Heavy gauge steel construction provides safety loading up to 66lbs display .It can tilt 15 degree forward or backward and swivel 180 degree. The removable VESA plate can be taken off for easy installation. Post-installation level adjustment allows the TV to perfectly level. The on arm cable management ring system design, guides wires and prevent cable pinching. Standard hardware and user manual included. Notice: This mount fits most 22-47\\\\\" TVs (VESA 200x200mm (8x8\\\\\")/200x100mm(8x4\\\\\")/100x100mm(4x4\\\\\") without extender, fits VESA 600x400(24x16\\\\\")/400x400mm(16x16\\\\\")/600x300mm(24x12\\\\\")/400x200mm(16x8\\\\\")/300x300mm(12x12\\\\\")/300x200mm(12x8\\\\\")with 4 plate extender), some up to 50 55 inch TVs manufactured in recent 3 years.\"]', 'title': 'VideoSecu 24\" Long Arm TV Wall Mount Low Profile Articulating Full Motion Swing Tilt Wall Bracket for Most 22\" to 55\" LED LCD UHD TV Monitor Flat Screen VESA 200x200 400x400 up to 600x400mm MAH'}, vector=None, shard_key=None, order_value=None),\n",
       " ScoredPoint(id=653, version=0, score=0.38755763, payload={'title': 'Roku 2 XD Streaming Player 1080p (Old Version)', 'categories': '[\"Electronics\", \"Television & Video\", \"Streaming Media Players\"]', 'description': '[\"Product Description\", \"Instantly stream 600+ entertainment channels in up to 1080p HD quality. Includes one stop search for finding the perfect moviefrom top channels like Netflix, Hulu Plus and Amazon Instant Video. The free app for iOS and Android even lets you stream music and photos from your phone to your TV. Includes built in wireless, and works with virtually any TV.\", \"From the Manufacturer\", \"Instantly stream 750+ entertainment channels in up to 1080p HD quality to virtually any TV. Simple to use, amazingly affordable, and full of convenient features like one-stop search.\", \"750+ channels and growing\", \". Movies and TV shows from Netflix, Amazon Instant Video, Hulu Plus, VUDU and HBO GO, plus live sports, music, news, international, and more, up to 1080p HD.\", \"One-stop search.\", \"Find your favorite movies and TV shows all from one place\\\\u2014no matter if they\\\\u2019re on Netflix, Amazon Instant Video or Hulu Plus.\", \"Free iOS and Android app\", \".\", \"Use it like a remote. Browse and add new channels. Even stream your music and photos from your phone or tablet to your HDTV.\", \"The easiest setup.\", \"Works with virtually any TV, includes built-in wireless, and sets up in minutes.\", \"Tiny little thing.\", \"Has the footprint of a hockey puck, streams silently and uses less power than a night-light.\", \"The best in movies and TV\", \"Roku puts over 150,000 titles at your fingertips so you\\\\u2019ll always find that perfect movie or show to fit your mood, including:\", \"The biggest Netflix experience around, with support for 1080p HD video, and English subtitles\", \"The biggest Netflix experience around, with support for 1080p HD video, and English subtitles\", \"Hulu Plus, with an amazing selection of current TV shows from the biggest networks\", \"Hulu Plus, with an amazing selection of current TV shows from the biggest networks\", \"Amazon Instant Video and VUDU, featuring the latest movie releases, virtually all the blockbusters of the past, hit TV series, and much more\\\\u2014all on demand\", \"Amazon Instant Video and VUDU, featuring the latest movie releases, virtually all the blockbusters of the past, hit TV series, and much more\\\\u2014all on demand\", \"Hundreds of free Hollywood movies from Crackle\", \"Hundreds of free Hollywood movies from Crackle\", \"Access to premium services like HBO GO and EPIX, available via participating providers\", \"Access to premium services like HBO GO and EPIX, available via participating providers\", \"Plus even more choices\", \"With over 750+ entertainment channels and counting, there\\\\u2019s something for virtually everyone, including\", \"Unlimited music from Pandora, MOG, Rdio, and Live365\", \"Unlimited music from Pandora, MOG, Rdio, and Live365\", \"Live sports packages including NBA League Pass, NHL GameCenter Live, MLS Matchday, UFC, and MLB.TV\", \"Live sports packages including NBA League Pass, NHL GameCenter Live, MLS Matchday, UFC, and MLB.TV\", \"Photo and video sharing via Facebook, Flickr, and Picasa\", \"Photo and video sharing via Facebook, Flickr, and Picasa\", \"The top news sources like MSNBC, Fox News, and WSJ\", \"The top news sources like MSNBC, Fox News, and WSJ\", \"Of course, there are also tons of international and lifestyle programming, tech news, social networking, podcasts, cartoons, clips, cat tricks, and\\\\u2026 well, you get the idea.\", \"Compare Roku models\", \"750+ entertainment channels Built-in wireless (Wi-Fi b/g/n compatible) New on-screen experience with one-stop search Plays 720p HD video Instant replay control on remote Plays 1080p HD video Remote with headphone jack (includes in-ear headphones)   Motion control for games (Angry Birds Space included free) Dual-band wireless, Ethernet port & USB port**\", \"** See product description below for list of file formats supported via USB\", \"It\\'s ridiculously easy\", \"From the simple remote to the easy-to-use interface, Roku 2 was designed to please everyone. All you need to get started is a high-speed Internet connection (and a TV, of course). The built-in wireless and guided setup mean you can be up and running in minutes. And we bet you don\\\\u2019t even have to call your nerdy nephew for help.\", \"Included with the Roku 2 XD\", \"Remote control\", \"Remote control\", \"Two AAA batteries\", \"Two AAA batteries\", \"HDMI video output (for high-definition)\", \"HDMI video output (for high-definition)\", \"Composite A/V combo output (for standard-definition; works with included A/V cable)\", \"Composite A/V combo output (for standard-definition; works with included A/V cable)\", \"Wireless (Wi-Fi b/g/n)\", \"Wireless (Wi-Fi b/g/n)\", \"Bluetooth (for using Roku Game Remote, sold separately)\", \"Bluetooth (for using Roku Game Remote, sold separately)\", \"MicroSD memory card slot (for adding extra storage for channels and games)\", \"MicroSD memory card slot (for adding extra storage for channels and games)\", \"A/V cable (red/white/yellow)\", \"A/V cable (red/white/yellow)\", \"Power adapter\", \"Power adapter\", \"Get Started guide\", \"Get Started guide\", \"90-day manufacturer warranty\", \"90-day manufacturer warranty\", \"What you need\", \"A TV\", \"A TV\", \"High-speed Internet service with a speed of at least 1.2 Mbps (such as mid-level DSL). For HD video, 5 Mbps is recommended.\", \"High-speed Internet service with a speed of at least 1.2 Mbps (such as mid-level DSL). For HD video, 5 Mbps is recommended.\", \"A wireless router\", \"A wireless router\"]', 'parent_asin': 'B005CLPP8E', 'main_category': 'All Electronics', 'average_rating': 4.3}, vector=None, shard_key=None, order_value=None),\n",
       " ScoredPoint(id=4294, version=0, score=0.3859591, payload={'title': 'Aurum Ultra Series High Speed HDMI Cable with Ethernet - Braided 10 Ft HDMI Cable Extender Supports 3D and Audio Return Channel up to 4k Resolution - Compatible with TV, PC, Laptops, PS3-5 Pack', 'parent_asin': 'B09SBJ38J7', 'average_rating': 4.7, 'main_category': 'All Electronics', 'description': '[]', 'categories': '[\"Electronics\", \"Television & Video\", \"Accessories\", \"Cables\", \"HDMI Cables\"]'}, vector=None, shard_key=None, order_value=None),\n",
       " ScoredPoint(id=605, version=0, score=0.37837932, payload={'categories': '[\"Electronics\", \"Computers & Accessories\", \"Computers & Tablets\", \"Tablets\"]', 'average_rating': 3.8, 'main_category': 'Computers', 'description': '[\"Product description\", \"This 16GB WiFi-enabled Acer Iconia Tab A500 provides the ultimate tablet experience with a gleaming 10.1 touch-screen and attention grabbing metallic design fueled by top-of-the-line technology and the latest build of Android Honeycomb OS. The A500 delivers powerful tablet performance and effortless multimedia enjoyment in a flash Have fun with Google Apps like Google Movies and Google Music, connect to social networks, play full-version games in console-quality, and browse the Web in accelerated speeds. The combination of power from the dual-core NVIDIA Tegra 2 CPU and HD-optimized graphics from the ultra-low power NVIDIA GeForce GPU with Flash 10.2 support delivers a superior entertainment experience.\", \"Amazon.com\"]', 'parent_asin': 'B004XZL980', 'title': 'Acer Iconia Tab A500-10S16u 10.1-Inch Tablet Computer (Aluminum Metallic)'}, vector=None, shard_key=None, order_value=None),\n",
       " ScoredPoint(id=617, version=0, score=0.37691307, payload={'title': 'Satechi 12 Port USB Hub with Power Adapter & 2 Control Switches for 2015 MacBook Pro, 2014 MacBook, iMac, Surface Pro, Dell XPS, PC and More', 'description': '[\"Satechi UH-12P USB 2.0 Hub with Power adds twelve additional USB 2.0 ports to PC or Mac, allowing you to connect USB devices such as digital cameras, external hard drives, flash drives, and printers. The hub is uniquely designed so that the two switches can control first six or second six usb ports with the blue Led indicators. Providing data rates of up to 480Mbps, this 12-port hub is the ideal solution for transferring data between your computer and external USB storage devices. Equipped with a power supply, the Satechi UH-12P USB 2.0 hub guarantees the electric current stability and the effective operation of connected USB devices. It does not require any software or complicated installation process. With the slim, strip-shape design, it saves your precious desktop space. It\\\\u2019s extremely portable and easy to move between systems or take on the road.\", \"Please Note:\", \"For a stable connection, the devices connected to the 12 Port hub must not exceed a combined current of 5 volt 2A. Each USB port on our 12 Port hub will only provide 5 volts 250 Milliamps. External hard-drives should be connected to an external power source.\", \"This hub functions as a USB hub only, to connect USB 2.0 and USB 1.0 devices to your computer, and is not a standalone device charger.\", \"This hub is not recommended for asic bitcoin miners.\"]', 'categories': '[\"Electronics\", \"Computers & Accessories\", \"Networking Products\", \"Hubs\"]', 'parent_asin': 'B0051PGX2I', 'main_category': 'Computers', 'average_rating': 4.2}, vector=None, shard_key=None, order_value=None)]"
      ]
     },
     "execution_count": 8,
     "metadata": {},
     "output_type": "execute_result"
    }
   ],
   "source": [
    "neighbors"
   ]
  },
  {
   "cell_type": "code",
   "execution_count": 9,
   "id": "2f1c9cd2",
   "metadata": {},
   "outputs": [],
   "source": [
    "mlf_client = mlflow.MlflowClient()"
   ]
  },
  {
   "cell_type": "code",
   "execution_count": 10,
   "id": "a56fcf75",
   "metadata": {},
   "outputs": [
    {
     "data": {
      "application/vnd.jupyter.widget-view+json": {
       "model_id": "86930a50439a4d8ba283dac76994c2ff",
       "version_major": 2,
       "version_minor": 0
      },
      "text/plain": [
       "Downloading artifacts:   0%|          | 0/8 [00:00<?, ?it/s]"
      ]
     },
     "metadata": {},
     "output_type": "display_data"
    },
    {
     "name": "stderr",
     "output_type": "stream",
     "text": [
      "/home/dinhln/Desktop/real_time_recsys/.venv/lib/python3.11/site-packages/mlflow/pyfunc/utils/data_validation.py:186: UserWarning: \u001b[33mAdd type hints to the `predict` method to enable data validation and automatic signature inference during model logging. Check https://mlflow.org/docs/latest/model/python_model.html#type-hint-usage-in-pythonmodel for more details.\u001b[0m\n",
      "  color_warning(\n"
     ]
    }
   ],
   "source": [
    "model = mlflow.pyfunc.load_model(model_uri=f\"models:/{args.mlf_model_name}@champion\")"
   ]
  },
  {
   "cell_type": "code",
   "execution_count": 11,
   "id": "3fe091c1",
   "metadata": {},
   "outputs": [],
   "source": [
    "run_id = model.metadata.run_id\n",
    "run_info = mlf_client.get_run(run_id).info\n",
    "artifact_uri = run_info.artifact_uri"
   ]
  },
  {
   "cell_type": "code",
   "execution_count": 12,
   "id": "d17ad256",
   "metadata": {},
   "outputs": [
    {
     "data": {
      "application/vnd.jupyter.widget-view+json": {
       "model_id": "42c7624d1a974a77861bb10be20c8c25",
       "version_major": 2,
       "version_minor": 0
      },
      "text/plain": [
       "Downloading artifacts:   0%|          | 0/1 [00:00<?, ?it/s]"
      ]
     },
     "metadata": {},
     "output_type": "display_data"
    },
    {
     "data": {
      "text/plain": [
       "{'user_ids': ['AE22236AFRRSMQIKGG7TPTB75QEA'],\n",
       " 'item_sequences': [['0972683275', '1449410243']],\n",
       " 'item_ids': ['0972683275']}"
      ]
     },
     "execution_count": 12,
     "metadata": {},
     "output_type": "execute_result"
    }
   ],
   "source": [
    "sample_input = mlflow.artifacts.load_dict(f\"{artifact_uri}/inferrer/input_example.json\")\n",
    "sample_input"
   ]
  },
  {
   "cell_type": "code",
   "execution_count": 13,
   "id": "bae6807c",
   "metadata": {},
   "outputs": [
    {
     "name": "stderr",
     "output_type": "stream",
     "text": [
      "/home/dinhln/Desktop/real_time_recsys/notebooks/../src/algo/sequence/inference.py:68: UserWarning: Creating a tensor from a list of numpy.ndarrays is extremely slow. Please consider converting the list to a single numpy.ndarray with numpy.array() before converting to a tensor. (Triggered internally at /pytorch/torch/csrc/utils/tensor_new.cpp:254.)\n",
      "  item_sequences = torch.tensor(item_sequences, device=self.device)\n"
     ]
    },
    {
     "data": {
      "text/plain": [
       "{'user_ids': ['AE22236AFRRSMQIKGG7TPTB75QEA'],\n",
       " 'item_sequences': [['0972683275', '1449410243']],\n",
       " 'item_ids': ['0972683275'],\n",
       " 'scores': [0.5657538175582886]}"
      ]
     },
     "execution_count": 13,
     "metadata": {},
     "output_type": "execute_result"
    }
   ],
   "source": [
    "prediction = model.predict(sample_input)\n",
    "prediction"
   ]
  },
  {
   "cell_type": "markdown",
   "id": "8f8e1e88",
   "metadata": {},
   "source": [
    "# Batch recs"
   ]
  },
  {
   "cell_type": "code",
   "execution_count": 14,
   "id": "9d63ba7b",
   "metadata": {},
   "outputs": [
    {
     "data": {
      "text/plain": [
       "[0, 1, 2, 3, 4]"
      ]
     },
     "execution_count": 14,
     "metadata": {},
     "output_type": "execute_result"
    }
   ],
   "source": [
    "idm = model.unwrap_python_model().idm\n",
    "\n",
    "all_items = list(idm.item_to_index.values())\n",
    "all_items[0:5]"
   ]
  },
  {
   "cell_type": "code",
   "execution_count": 15,
   "id": "3f020ef9",
   "metadata": {},
   "outputs": [
    {
     "data": {
      "text/plain": [
       "4817"
      ]
     },
     "execution_count": 15,
     "metadata": {},
     "output_type": "execute_result"
    }
   ],
   "source": [
    "len(all_items)"
   ]
  },
  {
   "cell_type": "code",
   "execution_count": 16,
   "id": "e7703304",
   "metadata": {},
   "outputs": [
    {
     "data": {
      "application/vnd.jupyter.widget-view+json": {
       "model_id": "864ec3a9a8c643509fa7c41d232a9258",
       "version_major": 2,
       "version_minor": 0
      },
      "text/plain": [
       "Batch recs:   0%|          | 0/4817 [00:00<?, ?it/s]"
      ]
     },
     "metadata": {},
     "output_type": "display_data"
    },
    {
     "name": "stderr",
     "output_type": "stream",
     "text": [
      "/tmp/ipykernel_2662744/3432473332.py:10: DeprecationWarning: `search` method is deprecated and will be removed in the future. Use `query_points` instead.\n",
      "  neighbor_records = ann_index.search(\n"
     ]
    }
   ],
   "source": [
    "# papermill_description=batch-precompute\n",
    "recs = []\n",
    "records = ann_index.retrieve(\n",
    "    collection_name=args.qdrant_collection_name, ids=all_items, with_vectors=True\n",
    ")\n",
    "vectors = [record.vector for record in records]\n",
    "model_pred_times = []\n",
    "\n",
    "for indice, query_embedding in tqdm(zip(all_items, vectors), total=len(all_items), desc=\"Batch recs\"):\n",
    "    neighbor_records = ann_index.search(\n",
    "        collection_name=args.qdrant_collection_name,\n",
    "        query_vector=query_embedding,\n",
    "        limit=args.top_K + 1,\n",
    "    )\n",
    "    neighbors = [neighbor.id for neighbor in neighbor_records]\n",
    "    scores = [neighbor.score for neighbor in neighbor_records]\n",
    "    \n",
    "    \n",
    "    # Remove self-recommendation\n",
    "    neighbours_indexes = [i for i, neighbor in enumerate(neighbors) if neighbor != indice]\n",
    "    neighbors = [neighbors[i] for i in neighbours_indexes]\n",
    "    scores = [scores[i] for i in neighbours_indexes]\n",
    "    # # Recalculate prediction scores for all neighbors\n",
    "    # t0 = time.time()\n",
    "    # scores = (\n",
    "    #     skipgram_model(torch.tensor([indice] * len(neighbors)), torch.tensor(neighbors))\n",
    "    #     .detach()\n",
    "    #     .numpy()\n",
    "    #     .astype(float)\n",
    "    # )\n",
    "    # t1 = time.time()\n",
    "    # model_pred_times.append(t1 - t0)\n",
    "    # # Rerank scores based on model output predictions\n",
    "    # neighbors, scores = zip(\n",
    "    #     *sorted(zip(neighbors, scores), key=lambda x: x[1], reverse=True)\n",
    "    # )\n",
    "    neighbor_ids = [idm.index_to_item[idx] for idx in neighbors]\n",
    "    id_ = idm.index_to_item[indice]\n",
    "    recs.append(\n",
    "        {\"target_item\": id_, \"rec_item_ids\": neighbor_ids, \"rec_scores\": list(scores)}\n",
    "    )"
   ]
  },
  {
   "cell_type": "code",
   "execution_count": 20,
   "id": "91a7ab04",
   "metadata": {},
   "outputs": [
    {
     "data": {
      "text/plain": [
       "{'target_item': 'B00000K2YR',\n",
       " 'rec_item_ids': ['B0BXP3P132',\n",
       "  'B06WP2ZT5N',\n",
       "  'B09P4Q7JK4',\n",
       "  'B0C5829XY7',\n",
       "  'B07S9THRC5',\n",
       "  'B07DHLZ7Z2',\n",
       "  'B07GPGVYGX',\n",
       "  'B07DNZZCPX',\n",
       "  'B00BCA40S0',\n",
       "  'B09ZLL36JF',\n",
       "  'B07QH5HD3R',\n",
       "  'B00XBZY0EI',\n",
       "  'B0BLM2HK53',\n",
       "  'B07MN67BCR',\n",
       "  'B06ZZY14LK',\n",
       "  'B08Y8FSTMT',\n",
       "  'B09WBKKRFN',\n",
       "  'B07GTGHQHB',\n",
       "  'B0B4NCQ3XF',\n",
       "  'B07ZWJR9GD',\n",
       "  'B0B7N8S4T5',\n",
       "  'B077ZVBJH2',\n",
       "  'B07GT37484',\n",
       "  'B0762QT7S6',\n",
       "  'B077SF8KMG',\n",
       "  'B098RJMJTW',\n",
       "  'B0C5MBN688',\n",
       "  'B077ZT29P2',\n",
       "  'B09VDNQH8B',\n",
       "  'B07BTHNW9W',\n",
       "  'B07RS8J6QP',\n",
       "  'B07RJZPTLX',\n",
       "  'B01IQEAEDY',\n",
       "  'B0BTVN2YTV',\n",
       "  'B074JKT894',\n",
       "  'B0BMK6DC5W',\n",
       "  'B09P4FVYK9',\n",
       "  'B09PRD4T26',\n",
       "  'B088RBT8RH',\n",
       "  'B07PDHSLM6',\n",
       "  'B07FQDMKFT',\n",
       "  'B0C2TZSCPT',\n",
       "  'B071WL63HB',\n",
       "  'B07MNFH1PX',\n",
       "  'B07P5JV6HT',\n",
       "  'B0B35BGQ55',\n",
       "  'B06XKPQ6YZ',\n",
       "  'B07W371S8F',\n",
       "  'B077XGL4PG',\n",
       "  'B01NBTFNVA',\n",
       "  'B0BMQN7L6B',\n",
       "  'B07DC4PZC4',\n",
       "  'B0BKVV246Q',\n",
       "  'B07H4VQ4BZ',\n",
       "  'B00XIXCDLA',\n",
       "  'B08TJ3JC8Y',\n",
       "  'B01JW0ASNW',\n",
       "  'B00I8Y6V9E',\n",
       "  'B07D4734HR',\n",
       "  'B08D7JPKLZ',\n",
       "  'B0C5QB1B1X',\n",
       "  'B07GYRQVJF',\n",
       "  'B09CGC842P',\n",
       "  'B09NNGN2WG',\n",
       "  'B01N9EX0YR',\n",
       "  'B08XM7BLKF',\n",
       "  'B0B46FYQVX',\n",
       "  'B07VD3M6M3',\n",
       "  'B0BPMNH8LD',\n",
       "  'B073CTNHTH',\n",
       "  'B0BXZ4D1C2',\n",
       "  'B07LFM1TH7',\n",
       "  'B08XNCHTCY',\n",
       "  'B07MLY3JKV',\n",
       "  'B08J9NQ6CS',\n",
       "  'B07DNSZPXG',\n",
       "  'B0C6QKB234',\n",
       "  'B07CQDHPFT',\n",
       "  'B07HL4PSH4',\n",
       "  'B098L1QK3G',\n",
       "  'B0721PM15W',\n",
       "  'B0C682GZ5X',\n",
       "  'B01M0GB8CC',\n",
       "  'B01C4UY0JK',\n",
       "  'B07GW9TJ3G',\n",
       "  'B07XBNWBC1',\n",
       "  'B01N5HB4U5',\n",
       "  'B07725JKKY',\n",
       "  'B08BZSCHZ3',\n",
       "  'B0BV2BDGV7',\n",
       "  'B07JQWGPYJ',\n",
       "  'B0B7JYBD4L',\n",
       "  'B0C556BW5M',\n",
       "  'B07VXXBTX4',\n",
       "  'B0BXXHD8NZ',\n",
       "  'B07LG5WBTS',\n",
       "  'B076GVVB6R',\n",
       "  'B013Q0CNQE',\n",
       "  'B01I2JJ7BI',\n",
       "  'B0791T9CV7'],\n",
       " 'rec_scores': [0.42770797,\n",
       "  0.41381267,\n",
       "  0.41179466,\n",
       "  0.40261096,\n",
       "  0.40235433,\n",
       "  0.39990944,\n",
       "  0.3973647,\n",
       "  0.38529864,\n",
       "  0.38473368,\n",
       "  0.38349032,\n",
       "  0.3815717,\n",
       "  0.38111037,\n",
       "  0.3807071,\n",
       "  0.38029042,\n",
       "  0.37928057,\n",
       "  0.3788275,\n",
       "  0.37840295,\n",
       "  0.37707254,\n",
       "  0.37619445,\n",
       "  0.37543395,\n",
       "  0.37506977,\n",
       "  0.3741837,\n",
       "  0.3732295,\n",
       "  0.37260917,\n",
       "  0.37202603,\n",
       "  0.36917365,\n",
       "  0.36674047,\n",
       "  0.3660993,\n",
       "  0.36489797,\n",
       "  0.36425456,\n",
       "  0.3634938,\n",
       "  0.36321512,\n",
       "  0.36313617,\n",
       "  0.36306676,\n",
       "  0.36243895,\n",
       "  0.36171794,\n",
       "  0.3616063,\n",
       "  0.36011934,\n",
       "  0.35968527,\n",
       "  0.35956222,\n",
       "  0.35869837,\n",
       "  0.35799196,\n",
       "  0.35667175,\n",
       "  0.35624564,\n",
       "  0.35551137,\n",
       "  0.35435528,\n",
       "  0.3531129,\n",
       "  0.35290486,\n",
       "  0.35182643,\n",
       "  0.3516115,\n",
       "  0.35158795,\n",
       "  0.35117203,\n",
       "  0.35044885,\n",
       "  0.34955,\n",
       "  0.34914637,\n",
       "  0.34834442,\n",
       "  0.3474491,\n",
       "  0.34731683,\n",
       "  0.34662205,\n",
       "  0.3464582,\n",
       "  0.34622306,\n",
       "  0.34584403,\n",
       "  0.3450573,\n",
       "  0.34416348,\n",
       "  0.34359914,\n",
       "  0.34344375,\n",
       "  0.3426929,\n",
       "  0.34046105,\n",
       "  0.3402781,\n",
       "  0.33995557,\n",
       "  0.33991438,\n",
       "  0.33939093,\n",
       "  0.33910522,\n",
       "  0.33892983,\n",
       "  0.33872283,\n",
       "  0.33838424,\n",
       "  0.3382101,\n",
       "  0.33785215,\n",
       "  0.33742383,\n",
       "  0.33722118,\n",
       "  0.33603472,\n",
       "  0.33586162,\n",
       "  0.3353499,\n",
       "  0.33445537,\n",
       "  0.33444315,\n",
       "  0.33419517,\n",
       "  0.33349693,\n",
       "  0.33308285,\n",
       "  0.33298084,\n",
       "  0.33294457,\n",
       "  0.332844,\n",
       "  0.33233875,\n",
       "  0.33232147,\n",
       "  0.33215714,\n",
       "  0.3321231,\n",
       "  0.33209515,\n",
       "  0.33188313,\n",
       "  0.3318139,\n",
       "  0.3310604,\n",
       "  0.33057404]}"
      ]
     },
     "execution_count": 20,
     "metadata": {},
     "output_type": "execute_result"
    }
   ],
   "source": [
    "recs[3]"
   ]
  },
  {
   "cell_type": "code",
   "execution_count": 19,
   "id": "7a1bf84d",
   "metadata": {},
   "outputs": [
    {
     "name": "stderr",
     "output_type": "stream",
     "text": [
      "\u001b[32m2025-06-28 22:05:34.565\u001b[0m | \u001b[1mINFO    \u001b[0m | \u001b[36m__main__\u001b[0m:\u001b[36m<module>\u001b[0m:\u001b[36m1\u001b[0m - \u001b[1mSaving batch recs output to /home/dinhln/Desktop/real_time_recsys/notebooks/data/000-first-attempt/batch_recs.jsonl...\u001b[0m\n"
     ]
    }
   ],
   "source": [
    "logger.info(f\"Saving batch recs output to {args.batch_recs_fp}...\")\n",
    "with open(args.batch_recs_fp, \"w\") as f:\n",
    "    for rec in recs:\n",
    "        f.write(json.dumps(rec) + \"\\n\")"
   ]
  }
 ],
 "metadata": {
  "kernelspec": {
   "display_name": "Python 3",
   "language": "python",
   "name": "python3"
  },
  "language_info": {
   "codemirror_mode": {
    "name": "ipython",
    "version": 3
   },
   "file_extension": ".py",
   "mimetype": "text/x-python",
   "name": "python",
   "nbconvert_exporter": "python",
   "pygments_lexer": "ipython3",
   "version": "3.11.9"
  }
 },
 "nbformat": 4,
 "nbformat_minor": 5
}
