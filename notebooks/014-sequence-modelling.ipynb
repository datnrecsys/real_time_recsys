{
 "cells": [
  {
   "cell_type": "markdown",
   "metadata": {},
   "source": [
    "## Setup"
   ]
  },
  {
   "cell_type": "code",
   "execution_count": 68,
   "metadata": {},
   "outputs": [
    {
     "name": "stdout",
     "output_type": "stream",
     "text": [
      "The autoreload extension is already loaded. To reload it, use:\n",
      "  %reload_ext autoreload\n",
      "The tensorboard extension is already loaded. To reload it, use:\n",
      "  %reload_ext tensorboard\n"
     ]
    }
   ],
   "source": [
    "%load_ext autoreload\n",
    "%autoreload 2\n",
    "%load_ext tensorboard"
   ]
  },
  {
   "cell_type": "code",
   "execution_count": 69,
   "metadata": {},
   "outputs": [],
   "source": [
    "import pandas as pd\n",
    "from pydantic import BaseModel\n",
    "import sys\n",
    "import os\n",
    "from lightning.pytorch.loggers import MLFlowLogger\n",
    "from loguru import logger\n",
    "from load_dotenv import load_dotenv\n",
    "import torch\n",
    "from torch.utils.data import DataLoader\n",
    "import lightning as L\n",
    "from lightning.pytorch.callbacks.early_stopping import EarlyStopping\n",
    "from lightning.pytorch.callbacks import ModelCheckpoint\n",
    "import mlflow\n",
    "\n",
    "sys.path.insert(0, \"..\")\n",
    "\n",
    "from src.utils.embedding_id_mapper import IDMapper\n",
    "from src.algo.sequence.model import SequenceRatingPrediction\n",
    "from src.algo.sequence.dataset import UserItemBinaryRatingDFDataset\n",
    "from src.algo.sequence.trainer import SeqModellingLitModule\n",
    "from src.eval.utils import create_rec_df, create_label_df, merge_recs_with_target\n",
    "from src.eval.log_metrics import log_ranking_metrics, log_classification_metrics"
   ]
  },
  {
   "cell_type": "code",
   "execution_count": 70,
   "metadata": {},
   "outputs": [
    {
     "data": {
      "text/plain": [
       "True"
      ]
     },
     "execution_count": 70,
     "metadata": {},
     "output_type": "execute_result"
    }
   ],
   "source": [
    "load_dotenv(override = True)"
   ]
  },
  {
   "cell_type": "code",
   "execution_count": 71,
   "metadata": {},
   "outputs": [
    {
     "name": "stderr",
     "output_type": "stream",
     "text": [
      "\u001b[32m2025-06-21 03:02:33.141\u001b[0m | \u001b[1mINFO    \u001b[0m | \u001b[36m__main__\u001b[0m:\u001b[36minit\u001b[0m:\u001b[36m43\u001b[0m - \u001b[1mSetting up Mlflow experiment: first-attempt, run_name: 006-sequence-modelling-attn-256-dim-bce-prelu\u001b[0m\n"
     ]
    },
    {
     "name": "stdout",
     "output_type": "stream",
     "text": [
      "{\n",
      "  \"testing\": false,\n",
      "  \"log_to_mlflow\": true,\n",
      "  \"experiment_name\": \"first-attempt\",\n",
      "  \"notebook_persit_dp\": \"/home/dinhln/Desktop/real_time_recsys/notebooks/data/first-attempt/006-sequence-modelling-attn-256-dim-bce-prelu\",\n",
      "  \"run_name\": \"006-sequence-modelling-attn-256-dim-bce-prelu\",\n",
      "  \"user_col\": \"user_id\",\n",
      "  \"item_col\": \"parent_asin\",\n",
      "  \"rating_col\": \"rating\",\n",
      "  \"timestamp_col\": \"timestamp\",\n",
      "  \"group_name\": \"seq-modelling\",\n",
      "  \"top_K\": 100,\n",
      "  \"top_k\": 10,\n",
      "  \"batch_size\": 128,\n",
      "  \"learning_rate\": 0.001,\n",
      "  \"l2_reg\": 1e-6,\n",
      "  \"early_stopping_patience\": 10,\n",
      "  \"device\": \"cuda\",\n",
      "  \"max_epochs\": 100,\n",
      "  \"dropout\": 0.3,\n",
      "  \"embedding_dim\": 256,\n",
      "  \"train_data_fp\": \"/home/dinhln/Desktop/real_time_recsys/data_for_ai/interim/train_sample_interactions_16407u_neg_seq_2.parquet\",\n",
      "  \"val_data_fp\": \"/home/dinhln/Desktop/real_time_recsys/data_for_ai/interim/val_sample_interactions_16407u_neg_seq_2.parquet\",\n",
      "  \"best_checkpoint_path\": null\n",
      "}\n"
     ]
    }
   ],
   "source": [
    "class Args(BaseModel):\n",
    "    testing: bool = False\n",
    "    log_to_mlflow: bool = True\n",
    "    experiment_name: str = \"first-attempt\"\n",
    "    notebook_persit_dp: str = None\n",
    "    \n",
    "    run_name: str = None\n",
    "\n",
    "    user_col: str = \"user_id\"\n",
    "    item_col: str = \"parent_asin\"\n",
    "    rating_col: str = \"rating\"\n",
    "    timestamp_col: str = \"timestamp\"\n",
    "    group_name: str = \"seq-modelling\"\n",
    "\n",
    "    top_K: int = 100\n",
    "    top_k: int = 10\n",
    "\n",
    "    batch_size: int = 128\n",
    "    learning_rate: float = 0.001\n",
    "    l2_reg: float = 1e-6\n",
    "    early_stopping_patience: int = 10\n",
    "    device: str = \"cuda\" if torch.cuda.is_available() else \"cpu\"\n",
    "    max_epochs: int = 100\n",
    "\n",
    "    # TwoTower specific\n",
    "    dropout: float = 0.3\n",
    "    embedding_dim: int = 256\n",
    "\n",
    "\n",
    "    train_data_fp: str = os.path.abspath(\"../data_for_ai/interim/train_sample_interactions_16407u_neg_seq_2.parquet\")\n",
    "    val_data_fp: str = os.path.abspath(\"../data_for_ai/interim/val_sample_interactions_16407u_neg_seq_2.parquet\")\n",
    "\n",
    "    best_checkpoint_path: str = None\n",
    "    def init(self):\n",
    "        self.run_name: str = f\"006-sequence-modelling-attn-{self.embedding_dim}-dim-bce-prelu\"\n",
    "        self.notebook_persit_dp = os.path.abspath(f\"data/{self.experiment_name}/{self.run_name}\")\n",
    "\n",
    "        if not (mlflow_uri := os.environ.get(\"MLFLOW_TRACKING_URI\")):\n",
    "            self.log_to_mlflow = False\n",
    "            logger.warning(\"MLFlow is not enabled. Turn off tracking to Mlflow.\")\n",
    "\n",
    "        if self.log_to_mlflow:\n",
    "            logger.info(\n",
    "                f\"Setting up Mlflow experiment: {self.experiment_name}, run_name: {self.run_name}\"\n",
    "            )\n",
    "\n",
    "            self._mlf_logger = MLFlowLogger(\n",
    "                experiment_name=self.experiment_name,\n",
    "                run_name=self.run_name,\n",
    "                tracking_uri=mlflow_uri,\n",
    "                log_model=True,\n",
    "            )\n",
    "\n",
    "        if not self.testing:\n",
    "            os.makedirs(self.notebook_persit_dp, exist_ok=True)\n",
    "        return self\n",
    "    \n",
    "args = Args().init()\n",
    "print(args.model_dump_json(indent=2))"
   ]
  },
  {
   "cell_type": "markdown",
   "metadata": {},
   "source": [
    "## Init model"
   ]
  },
  {
   "cell_type": "code",
   "execution_count": 72,
   "metadata": {},
   "outputs": [],
   "source": [
    "def init_model(n_users, n_items, embedding_dim, dropout, item_embedding=None):\n",
    "    return SequenceRatingPrediction(\n",
    "        item_embedding=item_embedding,\n",
    "        num_users=n_users,\n",
    "        num_items=n_items,\n",
    "        embedding_dim=embedding_dim,\n",
    "        dropout=dropout,\n",
    "    )"
   ]
  },
  {
   "cell_type": "markdown",
   "metadata": {},
   "source": [
    "## Test implementation"
   ]
  },
  {
   "cell_type": "code",
   "execution_count": 73,
   "metadata": {},
   "outputs": [
    {
     "name": "stderr",
     "output_type": "stream",
     "text": [
      "/home/dinhln/Desktop/real_time_recsys/.venv/lib/python3.11/site-packages/torch/nn/modules/transformer.py:385: UserWarning:\n",
      "\n",
      "enable_nested_tensor is True, but self.use_nested_tensor is False because encoder_layer.activation_relu_or_gelu was not True\n",
      "\n",
      "\u001b[32m2025-06-21 03:02:33.411\u001b[0m | \u001b[1mINFO    \u001b[0m | \u001b[36msrc.algo.sequence.model\u001b[0m:\u001b[36m__init__\u001b[0m:\u001b[36m118\u001b[0m - \u001b[1mStart token used: 4, Padding token used: 5\u001b[0m\n"
     ]
    },
    {
     "name": "stdout",
     "output_type": "stream",
     "text": [
      "tensor([[0.0779]], grad_fn=<MaskedFillBackward0>)\n"
     ]
    },
    {
     "data": {
      "text/plain": [
       "SequenceRatingPrediction(\n",
       "  (item_embedding): Embedding(6, 32, padding_idx=5)\n",
       "  (encoder_layer): TransformerEncoderLayer(\n",
       "    (self_attn): MultiheadAttention(\n",
       "      (out_proj): NonDynamicallyQuantizableLinear(in_features=32, out_features=32, bias=True)\n",
       "    )\n",
       "    (linear1): Linear(in_features=32, out_features=32, bias=True)\n",
       "    (dropout): Dropout(p=0.3, inplace=False)\n",
       "    (linear2): Linear(in_features=32, out_features=32, bias=True)\n",
       "    (norm1): LayerNorm((32,), eps=1e-05, elementwise_affine=True)\n",
       "    (norm2): LayerNorm((32,), eps=1e-05, elementwise_affine=True)\n",
       "    (dropout1): Dropout(p=0.3, inplace=False)\n",
       "    (dropout2): Dropout(p=0.3, inplace=False)\n",
       "    (activation): PReLU(num_parameters=1)\n",
       "  )\n",
       "  (encoder): TransformerEncoder(\n",
       "    (layers): ModuleList(\n",
       "      (0): TransformerEncoderLayer(\n",
       "        (self_attn): MultiheadAttention(\n",
       "          (out_proj): NonDynamicallyQuantizableLinear(in_features=32, out_features=32, bias=True)\n",
       "        )\n",
       "        (linear1): Linear(in_features=32, out_features=32, bias=True)\n",
       "        (dropout): Dropout(p=0.3, inplace=False)\n",
       "        (linear2): Linear(in_features=32, out_features=32, bias=True)\n",
       "        (norm1): LayerNorm((32,), eps=1e-05, elementwise_affine=True)\n",
       "        (norm2): LayerNorm((32,), eps=1e-05, elementwise_affine=True)\n",
       "        (dropout1): Dropout(p=0.3, inplace=False)\n",
       "        (dropout2): Dropout(p=0.3, inplace=False)\n",
       "        (activation): PReLU(num_parameters=1)\n",
       "      )\n",
       "    )\n",
       "  )\n",
       "  (prelu1): PReLU(num_parameters=1)\n",
       "  (dropout): Dropout(p=0.3, inplace=False)\n",
       "  (user_embedding): Embedding(3, 32)\n",
       "  (final_fc): Linear(in_features=96, out_features=32, bias=True)\n",
       "  (score_fc): Linear(in_features=32, out_features=1, bias=True)\n",
       ")"
      ]
     },
     "execution_count": 73,
     "metadata": {},
     "output_type": "execute_result"
    }
   ],
   "source": [
    "embedding_dim = 32\n",
    "batch_size = 2\n",
    "\n",
    "# Mock data\n",
    "user_indices = [0, 0, 1, 2, 2]\n",
    "item_indices = [0, 1, 2, 3, 4]\n",
    "timestamps = [0, 1, 2, 3, 4]\n",
    "ratings = [0, 3, 1, 3, 0]\n",
    "# item_sequences = [\n",
    "#     [2, 3, -1, -1],\n",
    "#     [2, 4, -1, -1],\n",
    "#     [1, 3, -1, -1],\n",
    "#     [2, 1, -1, -1],\n",
    "#     [4, 1, -1, -1],\n",
    "# ]\n",
    "\n",
    "item_sequences = [\n",
    "    [-1, -1, 2, 3],\n",
    "    [-1, -1, 2, 4],\n",
    "    [-1, -1, 1, 3],\n",
    "    [-1, -1, 2, 1],\n",
    "    [-1, -1, 4, 1],\n",
    "]\n",
    "\n",
    "\n",
    "n_users = len(set(user_indices))\n",
    "\n",
    "n_items = len(set(item_indices))\n",
    "\n",
    "train_df = pd.DataFrame(\n",
    "    {\n",
    "        \"user_indice\": user_indices,\n",
    "        \"item_indice\": item_indices,\n",
    "        args.timestamp_col: timestamps,\n",
    "        args.rating_col: ratings,\n",
    "        \"item_sequence\": item_sequences,\n",
    "    }\n",
    ")\n",
    "\n",
    "model = init_model(n_users, n_items, embedding_dim, args.dropout)\n",
    "\n",
    "# Example forward pass\n",
    "model.eval()\n",
    "user = torch.tensor([0])\n",
    "item_sequence = torch.tensor([[-0, 1, -1, -1]])\n",
    "target_item = torch.tensor([2])\n",
    "predictions = model(user, item_sequence, target_item)\n",
    "print(predictions)\n",
    "model.train()"
   ]
  },
  {
   "cell_type": "code",
   "execution_count": 74,
   "metadata": {},
   "outputs": [],
   "source": [
    "rating_dataset = UserItemBinaryRatingDFDataset(\n",
    "    train_df, \"user_indice\", \"item_indice\", args.rating_col, args.timestamp_col,\"item_sequence\"\n",
    ")\n",
    "\n",
    "train_loader = DataLoader(\n",
    "    rating_dataset, batch_size=batch_size, shuffle=False, drop_last=True\n",
    ")"
   ]
  },
  {
   "cell_type": "code",
   "execution_count": 75,
   "metadata": {},
   "outputs": [
    {
     "name": "stdout",
     "output_type": "stream",
     "text": [
      "{'user': tensor([0, 0]), 'item': tensor([0, 1]), 'rating': tensor([0., 1.]), 'item_sequence': tensor([[-1, -1,  2,  3],\n",
      "        [-1, -1,  2,  4]], dtype=torch.int32)}\n",
      "{'user': tensor([1, 2]), 'item': tensor([2, 3]), 'rating': tensor([1., 1.]), 'item_sequence': tensor([[-1, -1,  1,  3],\n",
      "        [-1, -1,  2,  1]], dtype=torch.int32)}\n"
     ]
    }
   ],
   "source": [
    "for batch_input in train_loader:\n",
    "    print(batch_input)"
   ]
  },
  {
   "cell_type": "code",
   "execution_count": 76,
   "metadata": {},
   "outputs": [
    {
     "name": "stderr",
     "output_type": "stream",
     "text": [
      "You are using the plain ModelCheckpoint callback. Consider using LitModelCheckpoint which with seamless uploading to Model registry.\n",
      "GPU available: True (cuda), used: True\n",
      "TPU available: False, using: 0 TPU cores\n",
      "HPU available: False, using: 0 HPUs\n",
      "LOCAL_RANK: 0 - CUDA_VISIBLE_DEVICES: [0]\n",
      "\n",
      "  | Name               | Type                     | Params | Mode \n",
      "------------------------------------------------------------------------\n",
      "0 | model              | SequenceRatingPrediction | 16.4 K | train\n",
      "1 | val_roc_auc_metric | BinaryAUROC              | 0      | train\n",
      "2 | val_pr_auc_metric  | BinaryAveragePrecision   | 0      | train\n",
      "------------------------------------------------------------------------\n",
      "16.4 K    Trainable params\n",
      "0         Non-trainable params\n",
      "16.4 K    Total params\n",
      "0.065     Total estimated model params size (MB)\n",
      "33        Modules in train mode\n",
      "0         Modules in eval mode\n"
     ]
    },
    {
     "data": {
      "application/vnd.jupyter.widget-view+json": {
       "model_id": "01f76a7f8b424efdb874798b6c1e07ba",
       "version_major": 2,
       "version_minor": 0
      },
      "text/plain": [
       "Sanity Checking: |          | 0/? [00:00<?, ?it/s]"
      ]
     },
     "metadata": {},
     "output_type": "display_data"
    },
    {
     "name": "stderr",
     "output_type": "stream",
     "text": [
      "/home/dinhln/Desktop/real_time_recsys/.venv/lib/python3.11/site-packages/lightning/pytorch/trainer/connectors/data_connector.py:425: PossibleUserWarning:\n",
      "\n",
      "The 'val_dataloader' does not have many workers which may be a bottleneck. Consider increasing the value of the `num_workers` argument` to `num_workers=19` in the `DataLoader` to improve performance.\n",
      "\n",
      "/home/dinhln/Desktop/real_time_recsys/.venv/lib/python3.11/site-packages/lightning/pytorch/trainer/connectors/data_connector.py:425: PossibleUserWarning:\n",
      "\n",
      "The 'train_dataloader' does not have many workers which may be a bottleneck. Consider increasing the value of the `num_workers` argument` to `num_workers=19` in the `DataLoader` to improve performance.\n",
      "\n",
      "/home/dinhln/Desktop/real_time_recsys/.venv/lib/python3.11/site-packages/lightning/pytorch/loops/fit_loop.py:310: PossibleUserWarning:\n",
      "\n",
      "The number of training batches (2) is smaller than the logging interval Trainer(log_every_n_steps=50). Set a lower value for log_every_n_steps if you want to see logs for the training epoch.\n",
      "\n"
     ]
    },
    {
     "data": {
      "application/vnd.jupyter.widget-view+json": {
       "model_id": "4f65752854174550835fe23b52531867",
       "version_major": 2,
       "version_minor": 0
      },
      "text/plain": [
       "Training: |          | 0/? [00:00<?, ?it/s]"
      ]
     },
     "metadata": {},
     "output_type": "display_data"
    },
    {
     "data": {
      "application/vnd.jupyter.widget-view+json": {
       "model_id": "0f6dc655120045ba9a3b47fd6a586572",
       "version_major": 2,
       "version_minor": 0
      },
      "text/plain": [
       "Validation: |          | 0/? [00:00<?, ?it/s]"
      ]
     },
     "metadata": {},
     "output_type": "display_data"
    },
    {
     "data": {
      "application/vnd.jupyter.widget-view+json": {
       "model_id": "747d196d5ad14f61bc256bd292c96cc5",
       "version_major": 2,
       "version_minor": 0
      },
      "text/plain": [
       "Validation: |          | 0/? [00:00<?, ?it/s]"
      ]
     },
     "metadata": {},
     "output_type": "display_data"
    },
    {
     "data": {
      "application/vnd.jupyter.widget-view+json": {
       "model_id": "988a416f1a6549f98f479459e53acb41",
       "version_major": 2,
       "version_minor": 0
      },
      "text/plain": [
       "Validation: |          | 0/? [00:00<?, ?it/s]"
      ]
     },
     "metadata": {},
     "output_type": "display_data"
    },
    {
     "data": {
      "application/vnd.jupyter.widget-view+json": {
       "model_id": "7ff52cdb057d434d8822b734c3d9d324",
       "version_major": 2,
       "version_minor": 0
      },
      "text/plain": [
       "Validation: |          | 0/? [00:00<?, ?it/s]"
      ]
     },
     "metadata": {},
     "output_type": "display_data"
    },
    {
     "data": {
      "application/vnd.jupyter.widget-view+json": {
       "model_id": "e1d80a317045443f94bb5071c88955df",
       "version_major": 2,
       "version_minor": 0
      },
      "text/plain": [
       "Validation: |          | 0/? [00:00<?, ?it/s]"
      ]
     },
     "metadata": {},
     "output_type": "display_data"
    },
    {
     "data": {
      "application/vnd.jupyter.widget-view+json": {
       "model_id": "782be3330500459989a94a52d8617ba2",
       "version_major": 2,
       "version_minor": 0
      },
      "text/plain": [
       "Validation: |          | 0/? [00:00<?, ?it/s]"
      ]
     },
     "metadata": {},
     "output_type": "display_data"
    },
    {
     "data": {
      "application/vnd.jupyter.widget-view+json": {
       "model_id": "2aa9a957ecfa472792d4befd4f5c9619",
       "version_major": 2,
       "version_minor": 0
      },
      "text/plain": [
       "Validation: |          | 0/? [00:00<?, ?it/s]"
      ]
     },
     "metadata": {},
     "output_type": "display_data"
    },
    {
     "data": {
      "application/vnd.jupyter.widget-view+json": {
       "model_id": "ed155c861e4d410b999ab03a3a3ccdbc",
       "version_major": 2,
       "version_minor": 0
      },
      "text/plain": [
       "Validation: |          | 0/? [00:00<?, ?it/s]"
      ]
     },
     "metadata": {},
     "output_type": "display_data"
    },
    {
     "data": {
      "application/vnd.jupyter.widget-view+json": {
       "model_id": "70facde48dbf401d8d289b9e24a02ed4",
       "version_major": 2,
       "version_minor": 0
      },
      "text/plain": [
       "Validation: |          | 0/? [00:00<?, ?it/s]"
      ]
     },
     "metadata": {},
     "output_type": "display_data"
    },
    {
     "data": {
      "application/vnd.jupyter.widget-view+json": {
       "model_id": "b7a3e23a6ade48c3a8ced1c52eb0c9ff",
       "version_major": 2,
       "version_minor": 0
      },
      "text/plain": [
       "Validation: |          | 0/? [00:00<?, ?it/s]"
      ]
     },
     "metadata": {},
     "output_type": "display_data"
    },
    {
     "data": {
      "application/vnd.jupyter.widget-view+json": {
       "model_id": "485cd038a7714a1097f5d3f4eafb1371",
       "version_major": 2,
       "version_minor": 0
      },
      "text/plain": [
       "Validation: |          | 0/? [00:00<?, ?it/s]"
      ]
     },
     "metadata": {},
     "output_type": "display_data"
    },
    {
     "data": {
      "application/vnd.jupyter.widget-view+json": {
       "model_id": "82800d7825df41f5a70b64740e1df426",
       "version_major": 2,
       "version_minor": 0
      },
      "text/plain": [
       "Validation: |          | 0/? [00:00<?, ?it/s]"
      ]
     },
     "metadata": {},
     "output_type": "display_data"
    },
    {
     "data": {
      "application/vnd.jupyter.widget-view+json": {
       "model_id": "47b1f8630a5e404aa429b2cb05851ceb",
       "version_major": 2,
       "version_minor": 0
      },
      "text/plain": [
       "Validation: |          | 0/? [00:00<?, ?it/s]"
      ]
     },
     "metadata": {},
     "output_type": "display_data"
    },
    {
     "data": {
      "application/vnd.jupyter.widget-view+json": {
       "model_id": "daffe01895c6469388c00b8ce06a5b96",
       "version_major": 2,
       "version_minor": 0
      },
      "text/plain": [
       "Validation: |          | 0/? [00:00<?, ?it/s]"
      ]
     },
     "metadata": {},
     "output_type": "display_data"
    },
    {
     "data": {
      "application/vnd.jupyter.widget-view+json": {
       "model_id": "27993e28ae50462eb4ef748e6462aa02",
       "version_major": 2,
       "version_minor": 0
      },
      "text/plain": [
       "Validation: |          | 0/? [00:00<?, ?it/s]"
      ]
     },
     "metadata": {},
     "output_type": "display_data"
    },
    {
     "data": {
      "application/vnd.jupyter.widget-view+json": {
       "model_id": "f3b463936340430c96e6fc2d01861249",
       "version_major": 2,
       "version_minor": 0
      },
      "text/plain": [
       "Validation: |          | 0/? [00:00<?, ?it/s]"
      ]
     },
     "metadata": {},
     "output_type": "display_data"
    },
    {
     "data": {
      "application/vnd.jupyter.widget-view+json": {
       "model_id": "f49cb8415acf4cbe935a1aeae2504d16",
       "version_major": 2,
       "version_minor": 0
      },
      "text/plain": [
       "Validation: |          | 0/? [00:00<?, ?it/s]"
      ]
     },
     "metadata": {},
     "output_type": "display_data"
    },
    {
     "data": {
      "application/vnd.jupyter.widget-view+json": {
       "model_id": "c11b75d4581748f5953bcab2aa7d97fd",
       "version_major": 2,
       "version_minor": 0
      },
      "text/plain": [
       "Validation: |          | 0/? [00:00<?, ?it/s]"
      ]
     },
     "metadata": {},
     "output_type": "display_data"
    },
    {
     "data": {
      "application/vnd.jupyter.widget-view+json": {
       "model_id": "dc700c0708fd4601bd27ea16c6c40938",
       "version_major": 2,
       "version_minor": 0
      },
      "text/plain": [
       "Validation: |          | 0/? [00:00<?, ?it/s]"
      ]
     },
     "metadata": {},
     "output_type": "display_data"
    },
    {
     "data": {
      "application/vnd.jupyter.widget-view+json": {
       "model_id": "4f67c355fd69441cb6646d04d395f62f",
       "version_major": 2,
       "version_minor": 0
      },
      "text/plain": [
       "Validation: |          | 0/? [00:00<?, ?it/s]"
      ]
     },
     "metadata": {},
     "output_type": "display_data"
    },
    {
     "data": {
      "application/vnd.jupyter.widget-view+json": {
       "model_id": "fd64c2421c3f45e19a3e83ab54ae37af",
       "version_major": 2,
       "version_minor": 0
      },
      "text/plain": [
       "Validation: |          | 0/? [00:00<?, ?it/s]"
      ]
     },
     "metadata": {},
     "output_type": "display_data"
    },
    {
     "data": {
      "application/vnd.jupyter.widget-view+json": {
       "model_id": "8cbb43dc4af2406295575690b676e786",
       "version_major": 2,
       "version_minor": 0
      },
      "text/plain": [
       "Validation: |          | 0/? [00:00<?, ?it/s]"
      ]
     },
     "metadata": {},
     "output_type": "display_data"
    },
    {
     "data": {
      "application/vnd.jupyter.widget-view+json": {
       "model_id": "2255e5f6f6e649fc9af805ece98371bb",
       "version_major": 2,
       "version_minor": 0
      },
      "text/plain": [
       "Validation: |          | 0/? [00:00<?, ?it/s]"
      ]
     },
     "metadata": {},
     "output_type": "display_data"
    },
    {
     "data": {
      "application/vnd.jupyter.widget-view+json": {
       "model_id": "87a5362dc4704eb888286614779b947e",
       "version_major": 2,
       "version_minor": 0
      },
      "text/plain": [
       "Validation: |          | 0/? [00:00<?, ?it/s]"
      ]
     },
     "metadata": {},
     "output_type": "display_data"
    },
    {
     "data": {
      "application/vnd.jupyter.widget-view+json": {
       "model_id": "3c1760a451e045b1ae6ec7d8b683646b",
       "version_major": 2,
       "version_minor": 0
      },
      "text/plain": [
       "Validation: |          | 0/? [00:00<?, ?it/s]"
      ]
     },
     "metadata": {},
     "output_type": "display_data"
    },
    {
     "data": {
      "application/vnd.jupyter.widget-view+json": {
       "model_id": "7a4bcc87bdbb473bbd38a1172b9ac5e8",
       "version_major": 2,
       "version_minor": 0
      },
      "text/plain": [
       "Validation: |          | 0/? [00:00<?, ?it/s]"
      ]
     },
     "metadata": {},
     "output_type": "display_data"
    },
    {
     "data": {
      "application/vnd.jupyter.widget-view+json": {
       "model_id": "932f762f4fb94b1bb7890d12d236b8fe",
       "version_major": 2,
       "version_minor": 0
      },
      "text/plain": [
       "Validation: |          | 0/? [00:00<?, ?it/s]"
      ]
     },
     "metadata": {},
     "output_type": "display_data"
    },
    {
     "data": {
      "application/vnd.jupyter.widget-view+json": {
       "model_id": "8d2e6a3203f744d78fc757121615d813",
       "version_major": 2,
       "version_minor": 0
      },
      "text/plain": [
       "Validation: |          | 0/? [00:00<?, ?it/s]"
      ]
     },
     "metadata": {},
     "output_type": "display_data"
    },
    {
     "data": {
      "application/vnd.jupyter.widget-view+json": {
       "model_id": "c79da56a453f4457acc632c90520c2bb",
       "version_major": 2,
       "version_minor": 0
      },
      "text/plain": [
       "Validation: |          | 0/? [00:00<?, ?it/s]"
      ]
     },
     "metadata": {},
     "output_type": "display_data"
    },
    {
     "data": {
      "application/vnd.jupyter.widget-view+json": {
       "model_id": "0edf92a3a8e94f59b0e11de2dea42cc2",
       "version_major": 2,
       "version_minor": 0
      },
      "text/plain": [
       "Validation: |          | 0/? [00:00<?, ?it/s]"
      ]
     },
     "metadata": {},
     "output_type": "display_data"
    },
    {
     "data": {
      "application/vnd.jupyter.widget-view+json": {
       "model_id": "d50e8ea1d5f64c6093768bdde7ec51f5",
       "version_major": 2,
       "version_minor": 0
      },
      "text/plain": [
       "Validation: |          | 0/? [00:00<?, ?it/s]"
      ]
     },
     "metadata": {},
     "output_type": "display_data"
    },
    {
     "data": {
      "application/vnd.jupyter.widget-view+json": {
       "model_id": "85a2f4d4501b4ae5a599baa30a77c3a9",
       "version_major": 2,
       "version_minor": 0
      },
      "text/plain": [
       "Validation: |          | 0/? [00:00<?, ?it/s]"
      ]
     },
     "metadata": {},
     "output_type": "display_data"
    },
    {
     "data": {
      "application/vnd.jupyter.widget-view+json": {
       "model_id": "b8b9d5ed6899477c853166d0ca9b8296",
       "version_major": 2,
       "version_minor": 0
      },
      "text/plain": [
       "Validation: |          | 0/? [00:00<?, ?it/s]"
      ]
     },
     "metadata": {},
     "output_type": "display_data"
    },
    {
     "data": {
      "application/vnd.jupyter.widget-view+json": {
       "model_id": "eb328a1e986f482abff8f64b1d1540fc",
       "version_major": 2,
       "version_minor": 0
      },
      "text/plain": [
       "Validation: |          | 0/? [00:00<?, ?it/s]"
      ]
     },
     "metadata": {},
     "output_type": "display_data"
    },
    {
     "data": {
      "application/vnd.jupyter.widget-view+json": {
       "model_id": "b3757eecb53c4ef3919482d285cefea5",
       "version_major": 2,
       "version_minor": 0
      },
      "text/plain": [
       "Validation: |          | 0/? [00:00<?, ?it/s]"
      ]
     },
     "metadata": {},
     "output_type": "display_data"
    },
    {
     "data": {
      "application/vnd.jupyter.widget-view+json": {
       "model_id": "b4f64d1151ff4db695f94e0b28e32ecf",
       "version_major": 2,
       "version_minor": 0
      },
      "text/plain": [
       "Validation: |          | 0/? [00:00<?, ?it/s]"
      ]
     },
     "metadata": {},
     "output_type": "display_data"
    },
    {
     "data": {
      "application/vnd.jupyter.widget-view+json": {
       "model_id": "5bd5f8fd0219477c9b25d49446b8383e",
       "version_major": 2,
       "version_minor": 0
      },
      "text/plain": [
       "Validation: |          | 0/? [00:00<?, ?it/s]"
      ]
     },
     "metadata": {},
     "output_type": "display_data"
    },
    {
     "data": {
      "application/vnd.jupyter.widget-view+json": {
       "model_id": "17d94d11519b4c92bdc82f09346ab785",
       "version_major": 2,
       "version_minor": 0
      },
      "text/plain": [
       "Validation: |          | 0/? [00:00<?, ?it/s]"
      ]
     },
     "metadata": {},
     "output_type": "display_data"
    },
    {
     "data": {
      "application/vnd.jupyter.widget-view+json": {
       "model_id": "05bcaefd79b44cc48b2ab72ecfa61ccd",
       "version_major": 2,
       "version_minor": 0
      },
      "text/plain": [
       "Validation: |          | 0/? [00:00<?, ?it/s]"
      ]
     },
     "metadata": {},
     "output_type": "display_data"
    },
    {
     "data": {
      "application/vnd.jupyter.widget-view+json": {
       "model_id": "371b606740bb4c64a5052f80e511a465",
       "version_major": 2,
       "version_minor": 0
      },
      "text/plain": [
       "Validation: |          | 0/? [00:00<?, ?it/s]"
      ]
     },
     "metadata": {},
     "output_type": "display_data"
    },
    {
     "data": {
      "application/vnd.jupyter.widget-view+json": {
       "model_id": "582e8f9ca54a4f88b2f69dd41dfb870b",
       "version_major": 2,
       "version_minor": 0
      },
      "text/plain": [
       "Validation: |          | 0/? [00:00<?, ?it/s]"
      ]
     },
     "metadata": {},
     "output_type": "display_data"
    },
    {
     "data": {
      "application/vnd.jupyter.widget-view+json": {
       "model_id": "b2b8629c0e9844f59319d93779ad7415",
       "version_major": 2,
       "version_minor": 0
      },
      "text/plain": [
       "Validation: |          | 0/? [00:00<?, ?it/s]"
      ]
     },
     "metadata": {},
     "output_type": "display_data"
    },
    {
     "data": {
      "application/vnd.jupyter.widget-view+json": {
       "model_id": "c0bb817fa2884932904cf1196d50ed7d",
       "version_major": 2,
       "version_minor": 0
      },
      "text/plain": [
       "Validation: |          | 0/? [00:00<?, ?it/s]"
      ]
     },
     "metadata": {},
     "output_type": "display_data"
    },
    {
     "data": {
      "application/vnd.jupyter.widget-view+json": {
       "model_id": "096af8c3c76049238c805e387348374c",
       "version_major": 2,
       "version_minor": 0
      },
      "text/plain": [
       "Validation: |          | 0/? [00:00<?, ?it/s]"
      ]
     },
     "metadata": {},
     "output_type": "display_data"
    },
    {
     "data": {
      "application/vnd.jupyter.widget-view+json": {
       "model_id": "abb88f550856442eb4832da09e8acb32",
       "version_major": 2,
       "version_minor": 0
      },
      "text/plain": [
       "Validation: |          | 0/? [00:00<?, ?it/s]"
      ]
     },
     "metadata": {},
     "output_type": "display_data"
    },
    {
     "data": {
      "application/vnd.jupyter.widget-view+json": {
       "model_id": "b4ff4a7af591410897dbf51edbf64109",
       "version_major": 2,
       "version_minor": 0
      },
      "text/plain": [
       "Validation: |          | 0/? [00:00<?, ?it/s]"
      ]
     },
     "metadata": {},
     "output_type": "display_data"
    },
    {
     "data": {
      "application/vnd.jupyter.widget-view+json": {
       "model_id": "a098e7af56dc4916b0ce6e744b363c2e",
       "version_major": 2,
       "version_minor": 0
      },
      "text/plain": [
       "Validation: |          | 0/? [00:00<?, ?it/s]"
      ]
     },
     "metadata": {},
     "output_type": "display_data"
    },
    {
     "data": {
      "application/vnd.jupyter.widget-view+json": {
       "model_id": "d02d884c5b4b466cba9ea08e5ba90640",
       "version_major": 2,
       "version_minor": 0
      },
      "text/plain": [
       "Validation: |          | 0/? [00:00<?, ?it/s]"
      ]
     },
     "metadata": {},
     "output_type": "display_data"
    },
    {
     "data": {
      "application/vnd.jupyter.widget-view+json": {
       "model_id": "05c7ea310ed2411a94a74728e71e7d28",
       "version_major": 2,
       "version_minor": 0
      },
      "text/plain": [
       "Validation: |          | 0/? [00:00<?, ?it/s]"
      ]
     },
     "metadata": {},
     "output_type": "display_data"
    },
    {
     "data": {
      "application/vnd.jupyter.widget-view+json": {
       "model_id": "ec86c954f45c43bcbd22ace0b2e77c52",
       "version_major": 2,
       "version_minor": 0
      },
      "text/plain": [
       "Validation: |          | 0/? [00:00<?, ?it/s]"
      ]
     },
     "metadata": {},
     "output_type": "display_data"
    },
    {
     "data": {
      "application/vnd.jupyter.widget-view+json": {
       "model_id": "e15885f1cc97432e90fa546b9c47450c",
       "version_major": 2,
       "version_minor": 0
      },
      "text/plain": [
       "Validation: |          | 0/? [00:00<?, ?it/s]"
      ]
     },
     "metadata": {},
     "output_type": "display_data"
    },
    {
     "data": {
      "application/vnd.jupyter.widget-view+json": {
       "model_id": "9c9ad3fe542a4bcb905b11bcee680925",
       "version_major": 2,
       "version_minor": 0
      },
      "text/plain": [
       "Validation: |          | 0/? [00:00<?, ?it/s]"
      ]
     },
     "metadata": {},
     "output_type": "display_data"
    },
    {
     "data": {
      "application/vnd.jupyter.widget-view+json": {
       "model_id": "d0f0aa36c339424e83647fed92363819",
       "version_major": 2,
       "version_minor": 0
      },
      "text/plain": [
       "Validation: |          | 0/? [00:00<?, ?it/s]"
      ]
     },
     "metadata": {},
     "output_type": "display_data"
    },
    {
     "data": {
      "application/vnd.jupyter.widget-view+json": {
       "model_id": "72b0ade40b814db39f911dcab93aa1c3",
       "version_major": 2,
       "version_minor": 0
      },
      "text/plain": [
       "Validation: |          | 0/? [00:00<?, ?it/s]"
      ]
     },
     "metadata": {},
     "output_type": "display_data"
    },
    {
     "data": {
      "application/vnd.jupyter.widget-view+json": {
       "model_id": "939d8ce4692b4334929fbf9f5f8380a6",
       "version_major": 2,
       "version_minor": 0
      },
      "text/plain": [
       "Validation: |          | 0/? [00:00<?, ?it/s]"
      ]
     },
     "metadata": {},
     "output_type": "display_data"
    },
    {
     "data": {
      "application/vnd.jupyter.widget-view+json": {
       "model_id": "f89956f72f264b508c284cc9a492ac70",
       "version_major": 2,
       "version_minor": 0
      },
      "text/plain": [
       "Validation: |          | 0/? [00:00<?, ?it/s]"
      ]
     },
     "metadata": {},
     "output_type": "display_data"
    },
    {
     "data": {
      "application/vnd.jupyter.widget-view+json": {
       "model_id": "5267270e910440e687d359297573310f",
       "version_major": 2,
       "version_minor": 0
      },
      "text/plain": [
       "Validation: |          | 0/? [00:00<?, ?it/s]"
      ]
     },
     "metadata": {},
     "output_type": "display_data"
    },
    {
     "data": {
      "application/vnd.jupyter.widget-view+json": {
       "model_id": "85ddb636d793467cbacc3be95528da27",
       "version_major": 2,
       "version_minor": 0
      },
      "text/plain": [
       "Validation: |          | 0/? [00:00<?, ?it/s]"
      ]
     },
     "metadata": {},
     "output_type": "display_data"
    },
    {
     "data": {
      "application/vnd.jupyter.widget-view+json": {
       "model_id": "3682fbd9a452480e852da5c6c8557401",
       "version_major": 2,
       "version_minor": 0
      },
      "text/plain": [
       "Validation: |          | 0/? [00:00<?, ?it/s]"
      ]
     },
     "metadata": {},
     "output_type": "display_data"
    },
    {
     "data": {
      "application/vnd.jupyter.widget-view+json": {
       "model_id": "f6451eea8be54a86a87dd57786d7da49",
       "version_major": 2,
       "version_minor": 0
      },
      "text/plain": [
       "Validation: |          | 0/? [00:00<?, ?it/s]"
      ]
     },
     "metadata": {},
     "output_type": "display_data"
    },
    {
     "data": {
      "application/vnd.jupyter.widget-view+json": {
       "model_id": "0f8ba3867fff47d2aba6ebf5bb50aaa4",
       "version_major": 2,
       "version_minor": 0
      },
      "text/plain": [
       "Validation: |          | 0/? [00:00<?, ?it/s]"
      ]
     },
     "metadata": {},
     "output_type": "display_data"
    },
    {
     "data": {
      "application/vnd.jupyter.widget-view+json": {
       "model_id": "6ca4a1ee65bf49c58df840434ca117e7",
       "version_major": 2,
       "version_minor": 0
      },
      "text/plain": [
       "Validation: |          | 0/? [00:00<?, ?it/s]"
      ]
     },
     "metadata": {},
     "output_type": "display_data"
    },
    {
     "data": {
      "application/vnd.jupyter.widget-view+json": {
       "model_id": "1511df7b90914700a809afbb8ca6667c",
       "version_major": 2,
       "version_minor": 0
      },
      "text/plain": [
       "Validation: |          | 0/? [00:00<?, ?it/s]"
      ]
     },
     "metadata": {},
     "output_type": "display_data"
    },
    {
     "data": {
      "application/vnd.jupyter.widget-view+json": {
       "model_id": "edecd9a2a3f74a38b0a6364af91bbcf7",
       "version_major": 2,
       "version_minor": 0
      },
      "text/plain": [
       "Validation: |          | 0/? [00:00<?, ?it/s]"
      ]
     },
     "metadata": {},
     "output_type": "display_data"
    },
    {
     "data": {
      "application/vnd.jupyter.widget-view+json": {
       "model_id": "ebe36ec0ed69481dbd28d13e5a6975e9",
       "version_major": 2,
       "version_minor": 0
      },
      "text/plain": [
       "Validation: |          | 0/? [00:00<?, ?it/s]"
      ]
     },
     "metadata": {},
     "output_type": "display_data"
    },
    {
     "data": {
      "application/vnd.jupyter.widget-view+json": {
       "model_id": "39552a2b75af4a1797ac383d508d2d93",
       "version_major": 2,
       "version_minor": 0
      },
      "text/plain": [
       "Validation: |          | 0/? [00:00<?, ?it/s]"
      ]
     },
     "metadata": {},
     "output_type": "display_data"
    },
    {
     "data": {
      "application/vnd.jupyter.widget-view+json": {
       "model_id": "334f22fb6ba64c32b68fa65a6d068003",
       "version_major": 2,
       "version_minor": 0
      },
      "text/plain": [
       "Validation: |          | 0/? [00:00<?, ?it/s]"
      ]
     },
     "metadata": {},
     "output_type": "display_data"
    },
    {
     "data": {
      "application/vnd.jupyter.widget-view+json": {
       "model_id": "6ede4407c1d04f0aa13178520c740c28",
       "version_major": 2,
       "version_minor": 0
      },
      "text/plain": [
       "Validation: |          | 0/? [00:00<?, ?it/s]"
      ]
     },
     "metadata": {},
     "output_type": "display_data"
    },
    {
     "data": {
      "application/vnd.jupyter.widget-view+json": {
       "model_id": "b96fdfbff9f242f3808c2c63e5878466",
       "version_major": 2,
       "version_minor": 0
      },
      "text/plain": [
       "Validation: |          | 0/? [00:00<?, ?it/s]"
      ]
     },
     "metadata": {},
     "output_type": "display_data"
    },
    {
     "data": {
      "application/vnd.jupyter.widget-view+json": {
       "model_id": "3697cf2beb07448f845a29b55d4f3944",
       "version_major": 2,
       "version_minor": 0
      },
      "text/plain": [
       "Validation: |          | 0/? [00:00<?, ?it/s]"
      ]
     },
     "metadata": {},
     "output_type": "display_data"
    },
    {
     "data": {
      "application/vnd.jupyter.widget-view+json": {
       "model_id": "a40fe135500c4c95b9a8e84a25b9aaaa",
       "version_major": 2,
       "version_minor": 0
      },
      "text/plain": [
       "Validation: |          | 0/? [00:00<?, ?it/s]"
      ]
     },
     "metadata": {},
     "output_type": "display_data"
    },
    {
     "data": {
      "application/vnd.jupyter.widget-view+json": {
       "model_id": "6b3f5581204d4ee89fe8c542e8affab7",
       "version_major": 2,
       "version_minor": 0
      },
      "text/plain": [
       "Validation: |          | 0/? [00:00<?, ?it/s]"
      ]
     },
     "metadata": {},
     "output_type": "display_data"
    },
    {
     "data": {
      "application/vnd.jupyter.widget-view+json": {
       "model_id": "8d264708b3eb45489c96b3e561b0d4a2",
       "version_major": 2,
       "version_minor": 0
      },
      "text/plain": [
       "Validation: |          | 0/? [00:00<?, ?it/s]"
      ]
     },
     "metadata": {},
     "output_type": "display_data"
    },
    {
     "data": {
      "application/vnd.jupyter.widget-view+json": {
       "model_id": "a6dc681898e74d34a173cdf714f41def",
       "version_major": 2,
       "version_minor": 0
      },
      "text/plain": [
       "Validation: |          | 0/? [00:00<?, ?it/s]"
      ]
     },
     "metadata": {},
     "output_type": "display_data"
    },
    {
     "data": {
      "application/vnd.jupyter.widget-view+json": {
       "model_id": "d9430c2eddec44e4a9a5cf3738da42a6",
       "version_major": 2,
       "version_minor": 0
      },
      "text/plain": [
       "Validation: |          | 0/? [00:00<?, ?it/s]"
      ]
     },
     "metadata": {},
     "output_type": "display_data"
    },
    {
     "data": {
      "application/vnd.jupyter.widget-view+json": {
       "model_id": "8821187102b84f508ddd00c07901e9b2",
       "version_major": 2,
       "version_minor": 0
      },
      "text/plain": [
       "Validation: |          | 0/? [00:00<?, ?it/s]"
      ]
     },
     "metadata": {},
     "output_type": "display_data"
    },
    {
     "data": {
      "application/vnd.jupyter.widget-view+json": {
       "model_id": "501e9017cb2e4a088dc629875cafe618",
       "version_major": 2,
       "version_minor": 0
      },
      "text/plain": [
       "Validation: |          | 0/? [00:00<?, ?it/s]"
      ]
     },
     "metadata": {},
     "output_type": "display_data"
    },
    {
     "data": {
      "application/vnd.jupyter.widget-view+json": {
       "model_id": "6c51c663e69d4224a2e3d8877706b5e8",
       "version_major": 2,
       "version_minor": 0
      },
      "text/plain": [
       "Validation: |          | 0/? [00:00<?, ?it/s]"
      ]
     },
     "metadata": {},
     "output_type": "display_data"
    },
    {
     "data": {
      "application/vnd.jupyter.widget-view+json": {
       "model_id": "7c8e23fe47f74bac9d6d2d7a46c95f54",
       "version_major": 2,
       "version_minor": 0
      },
      "text/plain": [
       "Validation: |          | 0/? [00:00<?, ?it/s]"
      ]
     },
     "metadata": {},
     "output_type": "display_data"
    },
    {
     "data": {
      "application/vnd.jupyter.widget-view+json": {
       "model_id": "b351c36c11d346fead946cf1402e4e62",
       "version_major": 2,
       "version_minor": 0
      },
      "text/plain": [
       "Validation: |          | 0/? [00:00<?, ?it/s]"
      ]
     },
     "metadata": {},
     "output_type": "display_data"
    },
    {
     "data": {
      "application/vnd.jupyter.widget-view+json": {
       "model_id": "f1f39d01617e4424baac348467566468",
       "version_major": 2,
       "version_minor": 0
      },
      "text/plain": [
       "Validation: |          | 0/? [00:00<?, ?it/s]"
      ]
     },
     "metadata": {},
     "output_type": "display_data"
    },
    {
     "data": {
      "application/vnd.jupyter.widget-view+json": {
       "model_id": "640f7fc1e80d4fc7a72f25124288d97c",
       "version_major": 2,
       "version_minor": 0
      },
      "text/plain": [
       "Validation: |          | 0/? [00:00<?, ?it/s]"
      ]
     },
     "metadata": {},
     "output_type": "display_data"
    },
    {
     "data": {
      "application/vnd.jupyter.widget-view+json": {
       "model_id": "3490c79ece454bc3821d2f7c206ca663",
       "version_major": 2,
       "version_minor": 0
      },
      "text/plain": [
       "Validation: |          | 0/? [00:00<?, ?it/s]"
      ]
     },
     "metadata": {},
     "output_type": "display_data"
    },
    {
     "data": {
      "application/vnd.jupyter.widget-view+json": {
       "model_id": "e2fe40bbfc634971b957bd1cc105def3",
       "version_major": 2,
       "version_minor": 0
      },
      "text/plain": [
       "Validation: |          | 0/? [00:00<?, ?it/s]"
      ]
     },
     "metadata": {},
     "output_type": "display_data"
    },
    {
     "data": {
      "application/vnd.jupyter.widget-view+json": {
       "model_id": "09692895259244698b916a9a323cac4d",
       "version_major": 2,
       "version_minor": 0
      },
      "text/plain": [
       "Validation: |          | 0/? [00:00<?, ?it/s]"
      ]
     },
     "metadata": {},
     "output_type": "display_data"
    },
    {
     "data": {
      "application/vnd.jupyter.widget-view+json": {
       "model_id": "6e337441a0ee4b339734aed972232425",
       "version_major": 2,
       "version_minor": 0
      },
      "text/plain": [
       "Validation: |          | 0/? [00:00<?, ?it/s]"
      ]
     },
     "metadata": {},
     "output_type": "display_data"
    },
    {
     "data": {
      "application/vnd.jupyter.widget-view+json": {
       "model_id": "57d7bbf8635f42f48fab3f804fedea9a",
       "version_major": 2,
       "version_minor": 0
      },
      "text/plain": [
       "Validation: |          | 0/? [00:00<?, ?it/s]"
      ]
     },
     "metadata": {},
     "output_type": "display_data"
    },
    {
     "data": {
      "application/vnd.jupyter.widget-view+json": {
       "model_id": "097812a092604bb1aba859e74eb9617e",
       "version_major": 2,
       "version_minor": 0
      },
      "text/plain": [
       "Validation: |          | 0/? [00:00<?, ?it/s]"
      ]
     },
     "metadata": {},
     "output_type": "display_data"
    },
    {
     "data": {
      "application/vnd.jupyter.widget-view+json": {
       "model_id": "9dee86422911449ca644bbdbb88000cc",
       "version_major": 2,
       "version_minor": 0
      },
      "text/plain": [
       "Validation: |          | 0/? [00:00<?, ?it/s]"
      ]
     },
     "metadata": {},
     "output_type": "display_data"
    },
    {
     "data": {
      "application/vnd.jupyter.widget-view+json": {
       "model_id": "8c8ac351b9b74f4baea70c68b7acd302",
       "version_major": 2,
       "version_minor": 0
      },
      "text/plain": [
       "Validation: |          | 0/? [00:00<?, ?it/s]"
      ]
     },
     "metadata": {},
     "output_type": "display_data"
    },
    {
     "data": {
      "application/vnd.jupyter.widget-view+json": {
       "model_id": "bdcaeefa65c54f34a1e144106f55a265",
       "version_major": 2,
       "version_minor": 0
      },
      "text/plain": [
       "Validation: |          | 0/? [00:00<?, ?it/s]"
      ]
     },
     "metadata": {},
     "output_type": "display_data"
    },
    {
     "data": {
      "application/vnd.jupyter.widget-view+json": {
       "model_id": "e93dcc9c4f9e4ee4a8838ea1c215ad68",
       "version_major": 2,
       "version_minor": 0
      },
      "text/plain": [
       "Validation: |          | 0/? [00:00<?, ?it/s]"
      ]
     },
     "metadata": {},
     "output_type": "display_data"
    },
    {
     "data": {
      "application/vnd.jupyter.widget-view+json": {
       "model_id": "9ff6263328c84d07aabdffae3730da7c",
       "version_major": 2,
       "version_minor": 0
      },
      "text/plain": [
       "Validation: |          | 0/? [00:00<?, ?it/s]"
      ]
     },
     "metadata": {},
     "output_type": "display_data"
    },
    {
     "data": {
      "application/vnd.jupyter.widget-view+json": {
       "model_id": "73579637b93144c0bb7535425d0a63ad",
       "version_major": 2,
       "version_minor": 0
      },
      "text/plain": [
       "Validation: |          | 0/? [00:00<?, ?it/s]"
      ]
     },
     "metadata": {},
     "output_type": "display_data"
    },
    {
     "data": {
      "application/vnd.jupyter.widget-view+json": {
       "model_id": "7ebb375ae549450da235c3e62515057a",
       "version_major": 2,
       "version_minor": 0
      },
      "text/plain": [
       "Validation: |          | 0/? [00:00<?, ?it/s]"
      ]
     },
     "metadata": {},
     "output_type": "display_data"
    },
    {
     "data": {
      "application/vnd.jupyter.widget-view+json": {
       "model_id": "39d406693a5c4f65ade0678ecef0cb28",
       "version_major": 2,
       "version_minor": 0
      },
      "text/plain": [
       "Validation: |          | 0/? [00:00<?, ?it/s]"
      ]
     },
     "metadata": {},
     "output_type": "display_data"
    },
    {
     "data": {
      "application/vnd.jupyter.widget-view+json": {
       "model_id": "f29049a47aca4c00af8474fa26248bf4",
       "version_major": 2,
       "version_minor": 0
      },
      "text/plain": [
       "Validation: |          | 0/? [00:00<?, ?it/s]"
      ]
     },
     "metadata": {},
     "output_type": "display_data"
    },
    {
     "data": {
      "application/vnd.jupyter.widget-view+json": {
       "model_id": "d5463a420b134631a164d36eebced2d9",
       "version_major": 2,
       "version_minor": 0
      },
      "text/plain": [
       "Validation: |          | 0/? [00:00<?, ?it/s]"
      ]
     },
     "metadata": {},
     "output_type": "display_data"
    },
    {
     "data": {
      "application/vnd.jupyter.widget-view+json": {
       "model_id": "5e6c9b60e7a945348929eabc8c7f7ae0",
       "version_major": 2,
       "version_minor": 0
      },
      "text/plain": [
       "Validation: |          | 0/? [00:00<?, ?it/s]"
      ]
     },
     "metadata": {},
     "output_type": "display_data"
    },
    {
     "data": {
      "application/vnd.jupyter.widget-view+json": {
       "model_id": "090b927cd0cd416db83a8e1de53de254",
       "version_major": 2,
       "version_minor": 0
      },
      "text/plain": [
       "Validation: |          | 0/? [00:00<?, ?it/s]"
      ]
     },
     "metadata": {},
     "output_type": "display_data"
    },
    {
     "name": "stderr",
     "output_type": "stream",
     "text": [
      "`Trainer.fit` stopped: `max_epochs=100` reached.\n"
     ]
    }
   ],
   "source": [
    "# model\n",
    "lit_model = SeqModellingLitModule(model, log_dir=args.notebook_persit_dp)\n",
    "\n",
    "# train model\n",
    "trainer = L.Trainer(\n",
    "    default_root_dir=f\"{args.notebook_persit_dp}/test\",\n",
    "    max_epochs=100,\n",
    "    accelerator=args.device if args.device else \"auto\",\n",
    ")\n",
    "trainer.fit(\n",
    "    model=lit_model, train_dataloaders=train_loader, val_dataloaders=train_loader\n",
    ")"
   ]
  },
  {
   "cell_type": "code",
   "execution_count": 77,
   "metadata": {},
   "outputs": [
    {
     "name": "stdout",
     "output_type": "stream",
     "text": [
      "tensor([[0.9969]], grad_fn=<SigmoidBackward0>)\n"
     ]
    }
   ],
   "source": [
    "model.eval()\n",
    "user = torch.tensor([0])\n",
    "item_sequence = torch.tensor([[-1, -1, -1, 0, 1]])\n",
    "target_item = torch.tensor([2])\n",
    "predictions = model.predict(user, item_sequence, target_item)\n",
    "print(predictions)"
   ]
  },
  {
   "cell_type": "markdown",
   "metadata": {},
   "source": [
    "## Training loop"
   ]
  },
  {
   "cell_type": "code",
   "execution_count": 78,
   "metadata": {},
   "outputs": [],
   "source": [
    "train_df = pd.read_parquet(args.train_data_fp)\n",
    "val_df = pd.read_parquet(args.val_data_fp)\n",
    "\n",
    "assert set(val_df[args.user_col].unique()).issubset(set(train_df[args.user_col].unique())), \"Validation users must be present in training users.\"\n",
    "\n",
    "assert set(val_df[args.item_col].unique()).issubset(set(train_df[args.item_col].unique())), \"Validation items must be present in training items.\"\n",
    "assert train_df[args.timestamp_col].max() < val_df[args.timestamp_col].min(), \"Validation data must be after training data. Otherwise, its a data contamination problem.\""
   ]
  },
  {
   "cell_type": "code",
   "execution_count": 79,
   "metadata": {},
   "outputs": [
    {
     "data": {
      "text/html": [
       "<div>\n",
       "<style scoped>\n",
       "    .dataframe tbody tr th:only-of-type {\n",
       "        vertical-align: middle;\n",
       "    }\n",
       "\n",
       "    .dataframe tbody tr th {\n",
       "        vertical-align: top;\n",
       "    }\n",
       "\n",
       "    .dataframe thead th {\n",
       "        text-align: right;\n",
       "    }\n",
       "</style>\n",
       "<table border=\"1\" class=\"dataframe\">\n",
       "  <thead>\n",
       "    <tr style=\"text-align: right;\">\n",
       "      <th></th>\n",
       "      <th>user_id</th>\n",
       "      <th>parent_asin</th>\n",
       "      <th>rating</th>\n",
       "      <th>timestamp</th>\n",
       "      <th>user_indice</th>\n",
       "      <th>item_indice</th>\n",
       "      <th>item_sequence</th>\n",
       "    </tr>\n",
       "  </thead>\n",
       "  <tbody>\n",
       "    <tr>\n",
       "      <th>266890</th>\n",
       "      <td>AETCSNOCHP5YL3C67YWXHB54RCNA</td>\n",
       "      <td>B09BW3XJQV</td>\n",
       "      <td>0.0</td>\n",
       "      <td>2016-11-18 05:32:16.000</td>\n",
       "      <td>3257</td>\n",
       "      <td>1248</td>\n",
       "      <td>[-1.0, -1.0, -1.0, -1.0, -1.0, -1.0, -1.0, 142...</td>\n",
       "    </tr>\n",
       "    <tr>\n",
       "      <th>183685</th>\n",
       "      <td>AHUDTHSVE5XAFVPOHHBSPL7T7TNA</td>\n",
       "      <td>B00B3OA7R8</td>\n",
       "      <td>0.0</td>\n",
       "      <td>2014-11-23 14:06:52.000</td>\n",
       "      <td>15687</td>\n",
       "      <td>2394</td>\n",
       "      <td>[-1.0, -1.0, -1.0, -1.0, 3375.0, 3642.0, 954.0...</td>\n",
       "    </tr>\n",
       "    <tr>\n",
       "      <th>308523</th>\n",
       "      <td>AGYLXGPK4SKKQZ2OV3LXYGHFYM2A</td>\n",
       "      <td>B0895KGSY1</td>\n",
       "      <td>0.0</td>\n",
       "      <td>2017-12-31 06:21:06.077</td>\n",
       "      <td>12067</td>\n",
       "      <td>4591</td>\n",
       "      <td>[-1.0, -1.0, -1.0, -1.0, -1.0, 4458.0, 1570.0,...</td>\n",
       "    </tr>\n",
       "    <tr>\n",
       "      <th>99169</th>\n",
       "      <td>AENO3VFOX37KYSKS6FQOXWSHR74Q</td>\n",
       "      <td>B078CQSHDV</td>\n",
       "      <td>5.0</td>\n",
       "      <td>2018-08-06 20:46:04.598</td>\n",
       "      <td>2540</td>\n",
       "      <td>3168</td>\n",
       "      <td>[-1.0, -1.0, -1.0, 650.0, 2326.0, 3089.0, 2787...</td>\n",
       "    </tr>\n",
       "    <tr>\n",
       "      <th>64744</th>\n",
       "      <td>AHGMLXGDYDPBY3MIJZPHUAOVZFVQ</td>\n",
       "      <td>B08NW1RXPF</td>\n",
       "      <td>5.0</td>\n",
       "      <td>2016-09-14 05:18:06.000</td>\n",
       "      <td>13900</td>\n",
       "      <td>3988</td>\n",
       "      <td>[-1.0, -1.0, -1.0, -1.0, -1.0, -1.0, -1.0, 820...</td>\n",
       "    </tr>\n",
       "    <tr>\n",
       "      <th>...</th>\n",
       "      <td>...</td>\n",
       "      <td>...</td>\n",
       "      <td>...</td>\n",
       "      <td>...</td>\n",
       "      <td>...</td>\n",
       "      <td>...</td>\n",
       "      <td>...</td>\n",
       "    </tr>\n",
       "    <tr>\n",
       "      <th>250960</th>\n",
       "      <td>AFV5AGWZ6DBOVMW46FMMI2NSQCVA</td>\n",
       "      <td>B00OUUXOUY</td>\n",
       "      <td>0.0</td>\n",
       "      <td>2016-06-23 01:00:28.000</td>\n",
       "      <td>7553</td>\n",
       "      <td>3585</td>\n",
       "      <td>[843.0, 1601.0, 4169.0, 1691.0, 4546.0, 1814.0...</td>\n",
       "    </tr>\n",
       "    <tr>\n",
       "      <th>217058</th>\n",
       "      <td>AFSFLSMTEC4M3I6EBPF72B4PLEPQ</td>\n",
       "      <td>B0047E8DN6</td>\n",
       "      <td>0.0</td>\n",
       "      <td>2015-09-05 23:31:51.000</td>\n",
       "      <td>7208</td>\n",
       "      <td>2500</td>\n",
       "      <td>[-1.0, -1.0, -1.0, -1.0, -1.0, -1.0, -1.0, -1....</td>\n",
       "    </tr>\n",
       "    <tr>\n",
       "      <th>323468</th>\n",
       "      <td>AEKDV6VVNKWG2WIXFOVCJBRORELQ</td>\n",
       "      <td>B0BZ5KPQZK</td>\n",
       "      <td>0.0</td>\n",
       "      <td>2018-05-27 21:31:44.724</td>\n",
       "      <td>2106</td>\n",
       "      <td>2818</td>\n",
       "      <td>[667.0, 856.0, 984.0, 3151.0, 1499.0, 3774.0, ...</td>\n",
       "    </tr>\n",
       "    <tr>\n",
       "      <th>132003</th>\n",
       "      <td>AEXSP5TFL7PDBHBCWOSLKXXMCMNA</td>\n",
       "      <td>B004VFH76A</td>\n",
       "      <td>0.0</td>\n",
       "      <td>2009-12-29 14:04:58.000</td>\n",
       "      <td>3839</td>\n",
       "      <td>1935</td>\n",
       "      <td>[-1.0, -1.0, -1.0, -1.0, -1.0, -1.0, -1.0, -1....</td>\n",
       "    </tr>\n",
       "    <tr>\n",
       "      <th>296896</th>\n",
       "      <td>AHF35LRUNYZOMRV4544TOXUZKIWA</td>\n",
       "      <td>B092WHC7C1</td>\n",
       "      <td>0.0</td>\n",
       "      <td>2017-08-20 14:39:36.983</td>\n",
       "      <td>13703</td>\n",
       "      <td>3652</td>\n",
       "      <td>[-1.0, -1.0, -1.0, -1.0, -1.0, -1.0, -1.0, -1....</td>\n",
       "    </tr>\n",
       "  </tbody>\n",
       "</table>\n",
       "<p>382176 rows × 7 columns</p>\n",
       "</div>"
      ],
      "text/plain": [
       "                             user_id parent_asin  rating  \\\n",
       "266890  AETCSNOCHP5YL3C67YWXHB54RCNA  B09BW3XJQV     0.0   \n",
       "183685  AHUDTHSVE5XAFVPOHHBSPL7T7TNA  B00B3OA7R8     0.0   \n",
       "308523  AGYLXGPK4SKKQZ2OV3LXYGHFYM2A  B0895KGSY1     0.0   \n",
       "99169   AENO3VFOX37KYSKS6FQOXWSHR74Q  B078CQSHDV     5.0   \n",
       "64744   AHGMLXGDYDPBY3MIJZPHUAOVZFVQ  B08NW1RXPF     5.0   \n",
       "...                              ...         ...     ...   \n",
       "250960  AFV5AGWZ6DBOVMW46FMMI2NSQCVA  B00OUUXOUY     0.0   \n",
       "217058  AFSFLSMTEC4M3I6EBPF72B4PLEPQ  B0047E8DN6     0.0   \n",
       "323468  AEKDV6VVNKWG2WIXFOVCJBRORELQ  B0BZ5KPQZK     0.0   \n",
       "132003  AEXSP5TFL7PDBHBCWOSLKXXMCMNA  B004VFH76A     0.0   \n",
       "296896  AHF35LRUNYZOMRV4544TOXUZKIWA  B092WHC7C1     0.0   \n",
       "\n",
       "                     timestamp  user_indice  item_indice  \\\n",
       "266890 2016-11-18 05:32:16.000         3257         1248   \n",
       "183685 2014-11-23 14:06:52.000        15687         2394   \n",
       "308523 2017-12-31 06:21:06.077        12067         4591   \n",
       "99169  2018-08-06 20:46:04.598         2540         3168   \n",
       "64744  2016-09-14 05:18:06.000        13900         3988   \n",
       "...                        ...          ...          ...   \n",
       "250960 2016-06-23 01:00:28.000         7553         3585   \n",
       "217058 2015-09-05 23:31:51.000         7208         2500   \n",
       "323468 2018-05-27 21:31:44.724         2106         2818   \n",
       "132003 2009-12-29 14:04:58.000         3839         1935   \n",
       "296896 2017-08-20 14:39:36.983        13703         3652   \n",
       "\n",
       "                                            item_sequence  \n",
       "266890  [-1.0, -1.0, -1.0, -1.0, -1.0, -1.0, -1.0, 142...  \n",
       "183685  [-1.0, -1.0, -1.0, -1.0, 3375.0, 3642.0, 954.0...  \n",
       "308523  [-1.0, -1.0, -1.0, -1.0, -1.0, 4458.0, 1570.0,...  \n",
       "99169   [-1.0, -1.0, -1.0, 650.0, 2326.0, 3089.0, 2787...  \n",
       "64744   [-1.0, -1.0, -1.0, -1.0, -1.0, -1.0, -1.0, 820...  \n",
       "...                                                   ...  \n",
       "250960  [843.0, 1601.0, 4169.0, 1691.0, 4546.0, 1814.0...  \n",
       "217058  [-1.0, -1.0, -1.0, -1.0, -1.0, -1.0, -1.0, -1....  \n",
       "323468  [667.0, 856.0, 984.0, 3151.0, 1499.0, 3774.0, ...  \n",
       "132003  [-1.0, -1.0, -1.0, -1.0, -1.0, -1.0, -1.0, -1....  \n",
       "296896  [-1.0, -1.0, -1.0, -1.0, -1.0, -1.0, -1.0, -1....  \n",
       "\n",
       "[382176 rows x 7 columns]"
      ]
     },
     "execution_count": 79,
     "metadata": {},
     "output_type": "execute_result"
    }
   ],
   "source": [
    "train_df"
   ]
  },
  {
   "cell_type": "code",
   "execution_count": 80,
   "metadata": {},
   "outputs": [
    {
     "data": {
      "text/html": [
       "<div>\n",
       "<style scoped>\n",
       "    .dataframe tbody tr th:only-of-type {\n",
       "        vertical-align: middle;\n",
       "    }\n",
       "\n",
       "    .dataframe tbody tr th {\n",
       "        vertical-align: top;\n",
       "    }\n",
       "\n",
       "    .dataframe thead th {\n",
       "        text-align: right;\n",
       "    }\n",
       "</style>\n",
       "<table border=\"1\" class=\"dataframe\">\n",
       "  <thead>\n",
       "    <tr style=\"text-align: right;\">\n",
       "      <th></th>\n",
       "      <th>user_id</th>\n",
       "      <th>parent_asin</th>\n",
       "      <th>rating</th>\n",
       "      <th>timestamp</th>\n",
       "      <th>user_indice</th>\n",
       "      <th>item_indice</th>\n",
       "      <th>item_sequence</th>\n",
       "    </tr>\n",
       "  </thead>\n",
       "  <tbody>\n",
       "    <tr>\n",
       "      <th>213464</th>\n",
       "      <td>AEEV5YWQKPBTLFWHKOBBULYA2RDQ</td>\n",
       "      <td>B07C1RSV9C</td>\n",
       "      <td>0.0</td>\n",
       "      <td>2015-08-05 16:31:49</td>\n",
       "      <td>1412</td>\n",
       "      <td>4273</td>\n",
       "      <td>[-1.0, -1.0, -1.0, 4559.0, 4443.0, 3164.0, 1047.0, 4685.0, 107.0, 3295.0]</td>\n",
       "    </tr>\n",
       "    <tr>\n",
       "      <th>41296</th>\n",
       "      <td>AEEV5YWQKPBTLFWHKOBBULYA2RDQ</td>\n",
       "      <td>B07C1RSV9C</td>\n",
       "      <td>5.0</td>\n",
       "      <td>2015-08-05 16:31:49</td>\n",
       "      <td>1412</td>\n",
       "      <td>3276</td>\n",
       "      <td>[-1.0, -1.0, -1.0, 4559.0, 4443.0, 3164.0, 1047.0, 4685.0, 107.0, 3295.0]</td>\n",
       "    </tr>\n",
       "    <tr>\n",
       "      <th>213463</th>\n",
       "      <td>AEEV5YWQKPBTLFWHKOBBULYA2RDQ</td>\n",
       "      <td>B07C1RSV9C</td>\n",
       "      <td>0.0</td>\n",
       "      <td>2015-08-05 16:31:49</td>\n",
       "      <td>1412</td>\n",
       "      <td>2770</td>\n",
       "      <td>[-1.0, -1.0, -1.0, 4559.0, 4443.0, 3164.0, 1047.0, 4685.0, 107.0, 3295.0]</td>\n",
       "    </tr>\n",
       "    <tr>\n",
       "      <th>171822</th>\n",
       "      <td>AEEV5YWQKPBTLFWHKOBBULYA2RDQ</td>\n",
       "      <td>B07CB22VVJ</td>\n",
       "      <td>0.0</td>\n",
       "      <td>2014-07-17 19:19:28</td>\n",
       "      <td>1412</td>\n",
       "      <td>3078</td>\n",
       "      <td>[-1.0, -1.0, -1.0, -1.0, 4559.0, 4443.0, 3164.0, 1047.0, 4685.0, 107.0]</td>\n",
       "    </tr>\n",
       "    <tr>\n",
       "      <th>171821</th>\n",
       "      <td>AEEV5YWQKPBTLFWHKOBBULYA2RDQ</td>\n",
       "      <td>B07CB22VVJ</td>\n",
       "      <td>0.0</td>\n",
       "      <td>2014-07-17 19:19:28</td>\n",
       "      <td>1412</td>\n",
       "      <td>1496</td>\n",
       "      <td>[-1.0, -1.0, -1.0, -1.0, 4559.0, 4443.0, 3164.0, 1047.0, 4685.0, 107.0]</td>\n",
       "    </tr>\n",
       "    <tr>\n",
       "      <th>20475</th>\n",
       "      <td>AEEV5YWQKPBTLFWHKOBBULYA2RDQ</td>\n",
       "      <td>B07CB22VVJ</td>\n",
       "      <td>5.0</td>\n",
       "      <td>2014-07-17 19:19:28</td>\n",
       "      <td>1412</td>\n",
       "      <td>3295</td>\n",
       "      <td>[-1.0, -1.0, -1.0, -1.0, 4559.0, 4443.0, 3164.0, 1047.0, 4685.0, 107.0]</td>\n",
       "    </tr>\n",
       "    <tr>\n",
       "      <th>171820</th>\n",
       "      <td>AEEV5YWQKPBTLFWHKOBBULYA2RDQ</td>\n",
       "      <td>B000I23TTE</td>\n",
       "      <td>0.0</td>\n",
       "      <td>2014-07-17 19:16:43</td>\n",
       "      <td>1412</td>\n",
       "      <td>6</td>\n",
       "      <td>[-1.0, -1.0, -1.0, -1.0, -1.0, 4559.0, 4443.0, 3164.0, 1047.0, 4685.0]</td>\n",
       "    </tr>\n",
       "    <tr>\n",
       "      <th>171819</th>\n",
       "      <td>AEEV5YWQKPBTLFWHKOBBULYA2RDQ</td>\n",
       "      <td>B000I23TTE</td>\n",
       "      <td>0.0</td>\n",
       "      <td>2014-07-17 19:16:43</td>\n",
       "      <td>1412</td>\n",
       "      <td>4771</td>\n",
       "      <td>[-1.0, -1.0, -1.0, -1.0, -1.0, 4559.0, 4443.0, 3164.0, 1047.0, 4685.0]</td>\n",
       "    </tr>\n",
       "    <tr>\n",
       "      <th>20474</th>\n",
       "      <td>AEEV5YWQKPBTLFWHKOBBULYA2RDQ</td>\n",
       "      <td>B000I23TTE</td>\n",
       "      <td>5.0</td>\n",
       "      <td>2014-07-17 19:16:43</td>\n",
       "      <td>1412</td>\n",
       "      <td>107</td>\n",
       "      <td>[-1.0, -1.0, -1.0, -1.0, -1.0, 4559.0, 4443.0, 3164.0, 1047.0, 4685.0]</td>\n",
       "    </tr>\n",
       "    <tr>\n",
       "      <th>171818</th>\n",
       "      <td>AEEV5YWQKPBTLFWHKOBBULYA2RDQ</td>\n",
       "      <td>B0BYSP9676</td>\n",
       "      <td>0.0</td>\n",
       "      <td>2014-07-17 19:16:20</td>\n",
       "      <td>1412</td>\n",
       "      <td>1903</td>\n",
       "      <td>[-1.0, -1.0, -1.0, -1.0, -1.0, -1.0, 4559.0, 4443.0, 3164.0, 1047.0]</td>\n",
       "    </tr>\n",
       "    <tr>\n",
       "      <th>20473</th>\n",
       "      <td>AEEV5YWQKPBTLFWHKOBBULYA2RDQ</td>\n",
       "      <td>B0BYSP9676</td>\n",
       "      <td>5.0</td>\n",
       "      <td>2014-07-17 19:16:20</td>\n",
       "      <td>1412</td>\n",
       "      <td>4685</td>\n",
       "      <td>[-1.0, -1.0, -1.0, -1.0, -1.0, -1.0, 4559.0, 4443.0, 3164.0, 1047.0]</td>\n",
       "    </tr>\n",
       "    <tr>\n",
       "      <th>171817</th>\n",
       "      <td>AEEV5YWQKPBTLFWHKOBBULYA2RDQ</td>\n",
       "      <td>B0BYSP9676</td>\n",
       "      <td>0.0</td>\n",
       "      <td>2014-07-17 19:16:20</td>\n",
       "      <td>1412</td>\n",
       "      <td>2919</td>\n",
       "      <td>[-1.0, -1.0, -1.0, -1.0, -1.0, -1.0, 4559.0, 4443.0, 3164.0, 1047.0]</td>\n",
       "    </tr>\n",
       "    <tr>\n",
       "      <th>171815</th>\n",
       "      <td>AEEV5YWQKPBTLFWHKOBBULYA2RDQ</td>\n",
       "      <td>B009RUZ7TS</td>\n",
       "      <td>0.0</td>\n",
       "      <td>2014-07-17 19:15:55</td>\n",
       "      <td>1412</td>\n",
       "      <td>3023</td>\n",
       "      <td>[-1.0, -1.0, -1.0, -1.0, -1.0, -1.0, -1.0, 4559.0, 4443.0, 3164.0]</td>\n",
       "    </tr>\n",
       "    <tr>\n",
       "      <th>20472</th>\n",
       "      <td>AEEV5YWQKPBTLFWHKOBBULYA2RDQ</td>\n",
       "      <td>B009RUZ7TS</td>\n",
       "      <td>5.0</td>\n",
       "      <td>2014-07-17 19:15:55</td>\n",
       "      <td>1412</td>\n",
       "      <td>1047</td>\n",
       "      <td>[-1.0, -1.0, -1.0, -1.0, -1.0, -1.0, -1.0, 4559.0, 4443.0, 3164.0]</td>\n",
       "    </tr>\n",
       "    <tr>\n",
       "      <th>171816</th>\n",
       "      <td>AEEV5YWQKPBTLFWHKOBBULYA2RDQ</td>\n",
       "      <td>B009RUZ7TS</td>\n",
       "      <td>0.0</td>\n",
       "      <td>2014-07-17 19:15:55</td>\n",
       "      <td>1412</td>\n",
       "      <td>4592</td>\n",
       "      <td>[-1.0, -1.0, -1.0, -1.0, -1.0, -1.0, -1.0, 4559.0, 4443.0, 3164.0]</td>\n",
       "    </tr>\n",
       "    <tr>\n",
       "      <th>171814</th>\n",
       "      <td>AEEV5YWQKPBTLFWHKOBBULYA2RDQ</td>\n",
       "      <td>B0787JNNXH</td>\n",
       "      <td>0.0</td>\n",
       "      <td>2014-07-17 19:12:09</td>\n",
       "      <td>1412</td>\n",
       "      <td>1264</td>\n",
       "      <td>[-1.0, -1.0, -1.0, -1.0, -1.0, -1.0, -1.0, -1.0, 4559.0, 4443.0]</td>\n",
       "    </tr>\n",
       "    <tr>\n",
       "      <th>20471</th>\n",
       "      <td>AEEV5YWQKPBTLFWHKOBBULYA2RDQ</td>\n",
       "      <td>B0787JNNXH</td>\n",
       "      <td>5.0</td>\n",
       "      <td>2014-07-17 19:12:09</td>\n",
       "      <td>1412</td>\n",
       "      <td>3164</td>\n",
       "      <td>[-1.0, -1.0, -1.0, -1.0, -1.0, -1.0, -1.0, -1.0, 4559.0, 4443.0]</td>\n",
       "    </tr>\n",
       "    <tr>\n",
       "      <th>171813</th>\n",
       "      <td>AEEV5YWQKPBTLFWHKOBBULYA2RDQ</td>\n",
       "      <td>B0787JNNXH</td>\n",
       "      <td>0.0</td>\n",
       "      <td>2014-07-17 19:12:09</td>\n",
       "      <td>1412</td>\n",
       "      <td>3730</td>\n",
       "      <td>[-1.0, -1.0, -1.0, -1.0, -1.0, -1.0, -1.0, -1.0, 4559.0, 4443.0]</td>\n",
       "    </tr>\n",
       "    <tr>\n",
       "      <th>171812</th>\n",
       "      <td>AEEV5YWQKPBTLFWHKOBBULYA2RDQ</td>\n",
       "      <td>B0B7FN67QT</td>\n",
       "      <td>0.0</td>\n",
       "      <td>2014-07-17 19:11:53</td>\n",
       "      <td>1412</td>\n",
       "      <td>1304</td>\n",
       "      <td>[-1.0, -1.0, -1.0, -1.0, -1.0, -1.0, -1.0, -1.0, -1.0, 4559.0]</td>\n",
       "    </tr>\n",
       "    <tr>\n",
       "      <th>20470</th>\n",
       "      <td>AEEV5YWQKPBTLFWHKOBBULYA2RDQ</td>\n",
       "      <td>B0B7FN67QT</td>\n",
       "      <td>5.0</td>\n",
       "      <td>2014-07-17 19:11:53</td>\n",
       "      <td>1412</td>\n",
       "      <td>4443</td>\n",
       "      <td>[-1.0, -1.0, -1.0, -1.0, -1.0, -1.0, -1.0, -1.0, -1.0, 4559.0]</td>\n",
       "    </tr>\n",
       "    <tr>\n",
       "      <th>171811</th>\n",
       "      <td>AEEV5YWQKPBTLFWHKOBBULYA2RDQ</td>\n",
       "      <td>B0B7FN67QT</td>\n",
       "      <td>0.0</td>\n",
       "      <td>2014-07-17 19:11:53</td>\n",
       "      <td>1412</td>\n",
       "      <td>3228</td>\n",
       "      <td>[-1.0, -1.0, -1.0, -1.0, -1.0, -1.0, -1.0, -1.0, -1.0, 4559.0]</td>\n",
       "    </tr>\n",
       "    <tr>\n",
       "      <th>20469</th>\n",
       "      <td>AEEV5YWQKPBTLFWHKOBBULYA2RDQ</td>\n",
       "      <td>B0BM6ZLKPL</td>\n",
       "      <td>5.0</td>\n",
       "      <td>2014-07-17 19:11:13</td>\n",
       "      <td>1412</td>\n",
       "      <td>4559</td>\n",
       "      <td>[-1.0, -1.0, -1.0, -1.0, -1.0, -1.0, -1.0, -1.0, -1.0, -1.0]</td>\n",
       "    </tr>\n",
       "    <tr>\n",
       "      <th>171809</th>\n",
       "      <td>AEEV5YWQKPBTLFWHKOBBULYA2RDQ</td>\n",
       "      <td>B0BM6ZLKPL</td>\n",
       "      <td>0.0</td>\n",
       "      <td>2014-07-17 19:11:13</td>\n",
       "      <td>1412</td>\n",
       "      <td>2958</td>\n",
       "      <td>[-1.0, -1.0, -1.0, -1.0, -1.0, -1.0, -1.0, -1.0, -1.0, -1.0]</td>\n",
       "    </tr>\n",
       "    <tr>\n",
       "      <th>171810</th>\n",
       "      <td>AEEV5YWQKPBTLFWHKOBBULYA2RDQ</td>\n",
       "      <td>B0BM6ZLKPL</td>\n",
       "      <td>0.0</td>\n",
       "      <td>2014-07-17 19:11:13</td>\n",
       "      <td>1412</td>\n",
       "      <td>4445</td>\n",
       "      <td>[-1.0, -1.0, -1.0, -1.0, -1.0, -1.0, -1.0, -1.0, -1.0, -1.0]</td>\n",
       "    </tr>\n",
       "  </tbody>\n",
       "</table>\n",
       "</div>"
      ],
      "text/plain": [
       "                             user_id parent_asin  rating           timestamp  \\\n",
       "213464  AEEV5YWQKPBTLFWHKOBBULYA2RDQ  B07C1RSV9C     0.0 2015-08-05 16:31:49   \n",
       "41296   AEEV5YWQKPBTLFWHKOBBULYA2RDQ  B07C1RSV9C     5.0 2015-08-05 16:31:49   \n",
       "213463  AEEV5YWQKPBTLFWHKOBBULYA2RDQ  B07C1RSV9C     0.0 2015-08-05 16:31:49   \n",
       "171822  AEEV5YWQKPBTLFWHKOBBULYA2RDQ  B07CB22VVJ     0.0 2014-07-17 19:19:28   \n",
       "171821  AEEV5YWQKPBTLFWHKOBBULYA2RDQ  B07CB22VVJ     0.0 2014-07-17 19:19:28   \n",
       "20475   AEEV5YWQKPBTLFWHKOBBULYA2RDQ  B07CB22VVJ     5.0 2014-07-17 19:19:28   \n",
       "171820  AEEV5YWQKPBTLFWHKOBBULYA2RDQ  B000I23TTE     0.0 2014-07-17 19:16:43   \n",
       "171819  AEEV5YWQKPBTLFWHKOBBULYA2RDQ  B000I23TTE     0.0 2014-07-17 19:16:43   \n",
       "20474   AEEV5YWQKPBTLFWHKOBBULYA2RDQ  B000I23TTE     5.0 2014-07-17 19:16:43   \n",
       "171818  AEEV5YWQKPBTLFWHKOBBULYA2RDQ  B0BYSP9676     0.0 2014-07-17 19:16:20   \n",
       "20473   AEEV5YWQKPBTLFWHKOBBULYA2RDQ  B0BYSP9676     5.0 2014-07-17 19:16:20   \n",
       "171817  AEEV5YWQKPBTLFWHKOBBULYA2RDQ  B0BYSP9676     0.0 2014-07-17 19:16:20   \n",
       "171815  AEEV5YWQKPBTLFWHKOBBULYA2RDQ  B009RUZ7TS     0.0 2014-07-17 19:15:55   \n",
       "20472   AEEV5YWQKPBTLFWHKOBBULYA2RDQ  B009RUZ7TS     5.0 2014-07-17 19:15:55   \n",
       "171816  AEEV5YWQKPBTLFWHKOBBULYA2RDQ  B009RUZ7TS     0.0 2014-07-17 19:15:55   \n",
       "171814  AEEV5YWQKPBTLFWHKOBBULYA2RDQ  B0787JNNXH     0.0 2014-07-17 19:12:09   \n",
       "20471   AEEV5YWQKPBTLFWHKOBBULYA2RDQ  B0787JNNXH     5.0 2014-07-17 19:12:09   \n",
       "171813  AEEV5YWQKPBTLFWHKOBBULYA2RDQ  B0787JNNXH     0.0 2014-07-17 19:12:09   \n",
       "171812  AEEV5YWQKPBTLFWHKOBBULYA2RDQ  B0B7FN67QT     0.0 2014-07-17 19:11:53   \n",
       "20470   AEEV5YWQKPBTLFWHKOBBULYA2RDQ  B0B7FN67QT     5.0 2014-07-17 19:11:53   \n",
       "171811  AEEV5YWQKPBTLFWHKOBBULYA2RDQ  B0B7FN67QT     0.0 2014-07-17 19:11:53   \n",
       "20469   AEEV5YWQKPBTLFWHKOBBULYA2RDQ  B0BM6ZLKPL     5.0 2014-07-17 19:11:13   \n",
       "171809  AEEV5YWQKPBTLFWHKOBBULYA2RDQ  B0BM6ZLKPL     0.0 2014-07-17 19:11:13   \n",
       "171810  AEEV5YWQKPBTLFWHKOBBULYA2RDQ  B0BM6ZLKPL     0.0 2014-07-17 19:11:13   \n",
       "\n",
       "        user_indice  item_indice  \\\n",
       "213464         1412         4273   \n",
       "41296          1412         3276   \n",
       "213463         1412         2770   \n",
       "171822         1412         3078   \n",
       "171821         1412         1496   \n",
       "20475          1412         3295   \n",
       "171820         1412            6   \n",
       "171819         1412         4771   \n",
       "20474          1412          107   \n",
       "171818         1412         1903   \n",
       "20473          1412         4685   \n",
       "171817         1412         2919   \n",
       "171815         1412         3023   \n",
       "20472          1412         1047   \n",
       "171816         1412         4592   \n",
       "171814         1412         1264   \n",
       "20471          1412         3164   \n",
       "171813         1412         3730   \n",
       "171812         1412         1304   \n",
       "20470          1412         4443   \n",
       "171811         1412         3228   \n",
       "20469          1412         4559   \n",
       "171809         1412         2958   \n",
       "171810         1412         4445   \n",
       "\n",
       "                                                                    item_sequence  \n",
       "213464  [-1.0, -1.0, -1.0, 4559.0, 4443.0, 3164.0, 1047.0, 4685.0, 107.0, 3295.0]  \n",
       "41296   [-1.0, -1.0, -1.0, 4559.0, 4443.0, 3164.0, 1047.0, 4685.0, 107.0, 3295.0]  \n",
       "213463  [-1.0, -1.0, -1.0, 4559.0, 4443.0, 3164.0, 1047.0, 4685.0, 107.0, 3295.0]  \n",
       "171822    [-1.0, -1.0, -1.0, -1.0, 4559.0, 4443.0, 3164.0, 1047.0, 4685.0, 107.0]  \n",
       "171821    [-1.0, -1.0, -1.0, -1.0, 4559.0, 4443.0, 3164.0, 1047.0, 4685.0, 107.0]  \n",
       "20475     [-1.0, -1.0, -1.0, -1.0, 4559.0, 4443.0, 3164.0, 1047.0, 4685.0, 107.0]  \n",
       "171820     [-1.0, -1.0, -1.0, -1.0, -1.0, 4559.0, 4443.0, 3164.0, 1047.0, 4685.0]  \n",
       "171819     [-1.0, -1.0, -1.0, -1.0, -1.0, 4559.0, 4443.0, 3164.0, 1047.0, 4685.0]  \n",
       "20474      [-1.0, -1.0, -1.0, -1.0, -1.0, 4559.0, 4443.0, 3164.0, 1047.0, 4685.0]  \n",
       "171818       [-1.0, -1.0, -1.0, -1.0, -1.0, -1.0, 4559.0, 4443.0, 3164.0, 1047.0]  \n",
       "20473        [-1.0, -1.0, -1.0, -1.0, -1.0, -1.0, 4559.0, 4443.0, 3164.0, 1047.0]  \n",
       "171817       [-1.0, -1.0, -1.0, -1.0, -1.0, -1.0, 4559.0, 4443.0, 3164.0, 1047.0]  \n",
       "171815         [-1.0, -1.0, -1.0, -1.0, -1.0, -1.0, -1.0, 4559.0, 4443.0, 3164.0]  \n",
       "20472          [-1.0, -1.0, -1.0, -1.0, -1.0, -1.0, -1.0, 4559.0, 4443.0, 3164.0]  \n",
       "171816         [-1.0, -1.0, -1.0, -1.0, -1.0, -1.0, -1.0, 4559.0, 4443.0, 3164.0]  \n",
       "171814           [-1.0, -1.0, -1.0, -1.0, -1.0, -1.0, -1.0, -1.0, 4559.0, 4443.0]  \n",
       "20471            [-1.0, -1.0, -1.0, -1.0, -1.0, -1.0, -1.0, -1.0, 4559.0, 4443.0]  \n",
       "171813           [-1.0, -1.0, -1.0, -1.0, -1.0, -1.0, -1.0, -1.0, 4559.0, 4443.0]  \n",
       "171812             [-1.0, -1.0, -1.0, -1.0, -1.0, -1.0, -1.0, -1.0, -1.0, 4559.0]  \n",
       "20470              [-1.0, -1.0, -1.0, -1.0, -1.0, -1.0, -1.0, -1.0, -1.0, 4559.0]  \n",
       "171811             [-1.0, -1.0, -1.0, -1.0, -1.0, -1.0, -1.0, -1.0, -1.0, 4559.0]  \n",
       "20469                [-1.0, -1.0, -1.0, -1.0, -1.0, -1.0, -1.0, -1.0, -1.0, -1.0]  \n",
       "171809               [-1.0, -1.0, -1.0, -1.0, -1.0, -1.0, -1.0, -1.0, -1.0, -1.0]  \n",
       "171810               [-1.0, -1.0, -1.0, -1.0, -1.0, -1.0, -1.0, -1.0, -1.0, -1.0]  "
      ]
     },
     "metadata": {},
     "output_type": "display_data"
    }
   ],
   "source": [
    "with pd.option_context(\"display.max_colwidth\", None):\n",
    "    display(train_df.loc[train_df[\"user_id\"] == \"AEEV5YWQKPBTLFWHKOBBULYA2RDQ\"].sort_values(by=args.timestamp_col, ascending=False))"
   ]
  },
  {
   "cell_type": "markdown",
   "metadata": {},
   "source": [
    "## Convert user_id and item_id into indices"
   ]
  },
  {
   "cell_type": "code",
   "execution_count": 81,
   "metadata": {},
   "outputs": [],
   "source": [
    "# idm_path = os.path.abspath(\"../data_for_ai/interim/idm_16407u.json\")\n",
    "# idm = IDMapper().load(idm_path)\n",
    "# idm.get_user_id(1)"
   ]
  },
  {
   "cell_type": "code",
   "execution_count": 82,
   "metadata": {},
   "outputs": [],
   "source": [
    "# train_df = train_df.pipe(idm.map_indices)\n",
    "# val_df = val_df.pipe(idm.map_indices)\n",
    "\n",
    "# assert idm.unknown_item_index not in train_df[\"item_indice\"].values, \"Unknown item index must be present in training data.\"\n",
    "# assert idm.unknown_user_index not in train_df[\"user_indice\"].values, \"Unknown user index must be present in training data.\"\n",
    "# assert idm.unknown_item_index not in val_df[\"item_indice\"].values, \"Unknown item index must be present in validation data.\"\n",
    "# assert idm.unknown_user_index not in val_df[\"user_indice\"].values, \"Unknown user index must be present in validation data.\""
   ]
  },
  {
   "cell_type": "code",
   "execution_count": 83,
   "metadata": {},
   "outputs": [],
   "source": [
    "# train_df.head(3)"
   ]
  },
  {
   "cell_type": "code",
   "execution_count": 84,
   "metadata": {},
   "outputs": [],
   "source": [
    "# assert train_df.groupby(args.user_col)[args.item_col].nunique().min() >= 5, \"Each user must have at least five items.\"\n",
    "# assert train_df.groupby(args.item_col)[args.user_col].nunique().min() >= 10, \"Each item must have at least ten users.\""
   ]
  },
  {
   "cell_type": "markdown",
   "metadata": {},
   "source": [
    "## Training loop"
   ]
  },
  {
   "cell_type": "code",
   "execution_count": 85,
   "metadata": {},
   "outputs": [],
   "source": [
    "rating_dataset = UserItemBinaryRatingDFDataset(\n",
    "    train_df, \"user_indice\", \"item_indice\", args.rating_col, args.timestamp_col, \"item_sequence\"\n",
    ")\n",
    "val_rating_dataset = UserItemBinaryRatingDFDataset(\n",
    "    val_df, \"user_indice\", \"item_indice\", args.rating_col, args.timestamp_col, \"item_sequence\"\n",
    ")\n",
    "\n",
    "train_loader = DataLoader(\n",
    "    rating_dataset, batch_size=args.batch_size, shuffle=True, drop_last=True\n",
    ")\n",
    "val_loader = DataLoader(\n",
    "    val_rating_dataset, batch_size=args.batch_size, shuffle=False, drop_last=False\n",
    ")"
   ]
  },
  {
   "cell_type": "code",
   "execution_count": 86,
   "metadata": {},
   "outputs": [
    {
     "name": "stderr",
     "output_type": "stream",
     "text": [
      "\u001b[32m2025-06-21 03:02:45.752\u001b[0m | \u001b[1mINFO    \u001b[0m | \u001b[36m__main__\u001b[0m:\u001b[36m<module>\u001b[0m:\u001b[36m6\u001b[0m - \u001b[1mNumber of users: 16407, Number of items: 4817\u001b[0m\n",
      "/home/dinhln/Desktop/real_time_recsys/.venv/lib/python3.11/site-packages/torch/nn/modules/transformer.py:385: UserWarning:\n",
      "\n",
      "enable_nested_tensor is True, but self.use_nested_tensor is False because encoder_layer.activation_relu_or_gelu was not True\n",
      "\n",
      "\u001b[32m2025-06-21 03:02:45.797\u001b[0m | \u001b[1mINFO    \u001b[0m | \u001b[36msrc.algo.sequence.model\u001b[0m:\u001b[36m__init__\u001b[0m:\u001b[36m118\u001b[0m - \u001b[1mStart token used: 4816, Padding token used: 4817\u001b[0m\n"
     ]
    }
   ],
   "source": [
    "item_indices = train_df[args.item_col].unique()\n",
    "user_indices = train_df[args.user_col].unique()\n",
    "n_items = len(item_indices)\n",
    "n_users = len(user_indices)\n",
    "\n",
    "logger.info(f\"Number of users: {n_users}, Number of items: {n_items}\")\n",
    "model = init_model(n_users, n_items, args.embedding_dim, args.dropout)"
   ]
  },
  {
   "cell_type": "code",
   "execution_count": 87,
   "metadata": {},
   "outputs": [
    {
     "data": {
      "text/plain": [
       "'AE227WAM4NWQPJI33OPN7ZARNNZQ'"
      ]
     },
     "execution_count": 87,
     "metadata": {},
     "output_type": "execute_result"
    }
   ],
   "source": [
    "idm_path = os.path.abspath(\"../data_for_ai/interim/idm_16407u.json\")\n",
    "idm = IDMapper().load(idm_path)\n",
    "idm.get_user_id(1)"
   ]
  },
  {
   "cell_type": "markdown",
   "metadata": {},
   "source": [
    "## Overfit 1 batch"
   ]
  },
  {
   "cell_type": "code",
   "execution_count": 88,
   "metadata": {},
   "outputs": [
    {
     "name": "stderr",
     "output_type": "stream",
     "text": [
      "\u001b[32m2025-06-21 03:02:45.972\u001b[0m | \u001b[1mINFO    \u001b[0m | \u001b[36msrc.algo.sequence.model\u001b[0m:\u001b[36m__init__\u001b[0m:\u001b[36m118\u001b[0m - \u001b[1mStart token used: 4816, Padding token used: 4817\u001b[0m\n",
      "You are using the plain ModelCheckpoint callback. Consider using LitModelCheckpoint which with seamless uploading to Model registry.\n",
      "GPU available: True (cuda), used: True\n",
      "TPU available: False, using: 0 TPU cores\n",
      "HPU available: False, using: 0 HPUs\n",
      "`Trainer(overfit_batches=1)` was configured so 1 batch will be used.\n",
      "LOCAL_RANK: 0 - CUDA_VISIBLE_DEVICES: [0]\n",
      "\n",
      "  | Name               | Type                     | Params | Mode \n",
      "------------------------------------------------------------------------\n",
      "0 | model              | SequenceRatingPrediction | 6.4 M  | train\n",
      "1 | val_roc_auc_metric | BinaryAUROC              | 0      | train\n",
      "2 | val_pr_auc_metric  | BinaryAveragePrecision   | 0      | train\n",
      "------------------------------------------------------------------------\n",
      "6.4 M     Trainable params\n",
      "0         Non-trainable params\n",
      "6.4 M     Total params\n",
      "25.689    Total estimated model params size (MB)\n",
      "33        Modules in train mode\n",
      "0         Modules in eval mode\n"
     ]
    },
    {
     "data": {
      "application/vnd.jupyter.widget-view+json": {
       "model_id": "64be115056c44f079524dc8421a75c06",
       "version_major": 2,
       "version_minor": 0
      },
      "text/plain": [
       "Sanity Checking: |          | 0/? [00:00<?, ?it/s]"
      ]
     },
     "metadata": {},
     "output_type": "display_data"
    },
    {
     "name": "stderr",
     "output_type": "stream",
     "text": [
      "/home/dinhln/Desktop/real_time_recsys/.venv/lib/python3.11/site-packages/lightning/pytorch/trainer/connectors/data_connector.py:252: UserWarning:\n",
      "\n",
      "You requested to overfit but enabled val dataloader shuffling. We are turning off the val dataloader shuffling for you.\n",
      "\n",
      "/home/dinhln/Desktop/real_time_recsys/.venv/lib/python3.11/site-packages/lightning/pytorch/trainer/connectors/data_connector.py:425: PossibleUserWarning:\n",
      "\n",
      "The 'val_dataloader' does not have many workers which may be a bottleneck. Consider increasing the value of the `num_workers` argument` to `num_workers=19` in the `DataLoader` to improve performance.\n",
      "\n",
      "/home/dinhln/Desktop/real_time_recsys/.venv/lib/python3.11/site-packages/lightning/pytorch/trainer/connectors/data_connector.py:252: UserWarning:\n",
      "\n",
      "You requested to overfit but enabled train dataloader shuffling. We are turning off the train dataloader shuffling for you.\n",
      "\n",
      "/home/dinhln/Desktop/real_time_recsys/.venv/lib/python3.11/site-packages/lightning/pytorch/trainer/connectors/data_connector.py:425: PossibleUserWarning:\n",
      "\n",
      "The 'train_dataloader' does not have many workers which may be a bottleneck. Consider increasing the value of the `num_workers` argument` to `num_workers=19` in the `DataLoader` to improve performance.\n",
      "\n",
      "/home/dinhln/Desktop/real_time_recsys/.venv/lib/python3.11/site-packages/lightning/pytorch/loops/fit_loop.py:310: PossibleUserWarning:\n",
      "\n",
      "The number of training batches (1) is smaller than the logging interval Trainer(log_every_n_steps=50). Set a lower value for log_every_n_steps if you want to see logs for the training epoch.\n",
      "\n"
     ]
    },
    {
     "data": {
      "application/vnd.jupyter.widget-view+json": {
       "model_id": "717bf729616048baac18e53e6fe8ad3d",
       "version_major": 2,
       "version_minor": 0
      },
      "text/plain": [
       "Training: |          | 0/? [00:00<?, ?it/s]"
      ]
     },
     "metadata": {},
     "output_type": "display_data"
    },
    {
     "data": {
      "application/vnd.jupyter.widget-view+json": {
       "model_id": "7a471511904345058b2888dbcca03463",
       "version_major": 2,
       "version_minor": 0
      },
      "text/plain": [
       "Validation: |          | 0/? [00:00<?, ?it/s]"
      ]
     },
     "metadata": {},
     "output_type": "display_data"
    },
    {
     "data": {
      "application/vnd.jupyter.widget-view+json": {
       "model_id": "3439e59324d54ae5b85369f9bb3c27db",
       "version_major": 2,
       "version_minor": 0
      },
      "text/plain": [
       "Validation: |          | 0/? [00:00<?, ?it/s]"
      ]
     },
     "metadata": {},
     "output_type": "display_data"
    },
    {
     "data": {
      "application/vnd.jupyter.widget-view+json": {
       "model_id": "161467c5ee4f44aaa21730463ed892b3",
       "version_major": 2,
       "version_minor": 0
      },
      "text/plain": [
       "Validation: |          | 0/? [00:00<?, ?it/s]"
      ]
     },
     "metadata": {},
     "output_type": "display_data"
    },
    {
     "data": {
      "application/vnd.jupyter.widget-view+json": {
       "model_id": "b1bb207fb3574598bcbf61c44ce7e159",
       "version_major": 2,
       "version_minor": 0
      },
      "text/plain": [
       "Validation: |          | 0/? [00:00<?, ?it/s]"
      ]
     },
     "metadata": {},
     "output_type": "display_data"
    },
    {
     "data": {
      "application/vnd.jupyter.widget-view+json": {
       "model_id": "9b27cd002eb44c4f821ec3688f644217",
       "version_major": 2,
       "version_minor": 0
      },
      "text/plain": [
       "Validation: |          | 0/? [00:00<?, ?it/s]"
      ]
     },
     "metadata": {},
     "output_type": "display_data"
    },
    {
     "data": {
      "application/vnd.jupyter.widget-view+json": {
       "model_id": "11fb5736236f45009f1c89f80e3f8fc5",
       "version_major": 2,
       "version_minor": 0
      },
      "text/plain": [
       "Validation: |          | 0/? [00:00<?, ?it/s]"
      ]
     },
     "metadata": {},
     "output_type": "display_data"
    },
    {
     "data": {
      "application/vnd.jupyter.widget-view+json": {
       "model_id": "2a3b5e07c1bc42f49c8e85877e138d51",
       "version_major": 2,
       "version_minor": 0
      },
      "text/plain": [
       "Validation: |          | 0/? [00:00<?, ?it/s]"
      ]
     },
     "metadata": {},
     "output_type": "display_data"
    },
    {
     "data": {
      "application/vnd.jupyter.widget-view+json": {
       "model_id": "c294aafe21604e68918d592a17c9ba87",
       "version_major": 2,
       "version_minor": 0
      },
      "text/plain": [
       "Validation: |          | 0/? [00:00<?, ?it/s]"
      ]
     },
     "metadata": {},
     "output_type": "display_data"
    },
    {
     "data": {
      "application/vnd.jupyter.widget-view+json": {
       "model_id": "d64232b95d8348538fc23901fecaae55",
       "version_major": 2,
       "version_minor": 0
      },
      "text/plain": [
       "Validation: |          | 0/? [00:00<?, ?it/s]"
      ]
     },
     "metadata": {},
     "output_type": "display_data"
    },
    {
     "data": {
      "application/vnd.jupyter.widget-view+json": {
       "model_id": "463e4d044cb049478a51466b25c6eaa6",
       "version_major": 2,
       "version_minor": 0
      },
      "text/plain": [
       "Validation: |          | 0/? [00:00<?, ?it/s]"
      ]
     },
     "metadata": {},
     "output_type": "display_data"
    },
    {
     "data": {
      "application/vnd.jupyter.widget-view+json": {
       "model_id": "66ffdc15f4e84cb1aa845770406987ac",
       "version_major": 2,
       "version_minor": 0
      },
      "text/plain": [
       "Validation: |          | 0/? [00:00<?, ?it/s]"
      ]
     },
     "metadata": {},
     "output_type": "display_data"
    },
    {
     "data": {
      "application/vnd.jupyter.widget-view+json": {
       "model_id": "403374e32a04417f95c41c20c08327e8",
       "version_major": 2,
       "version_minor": 0
      },
      "text/plain": [
       "Validation: |          | 0/? [00:00<?, ?it/s]"
      ]
     },
     "metadata": {},
     "output_type": "display_data"
    },
    {
     "data": {
      "application/vnd.jupyter.widget-view+json": {
       "model_id": "aeed0292d2114f2a9c481760a626cdd3",
       "version_major": 2,
       "version_minor": 0
      },
      "text/plain": [
       "Validation: |          | 0/? [00:00<?, ?it/s]"
      ]
     },
     "metadata": {},
     "output_type": "display_data"
    },
    {
     "data": {
      "application/vnd.jupyter.widget-view+json": {
       "model_id": "dae1228977d0446ab811fc998c135804",
       "version_major": 2,
       "version_minor": 0
      },
      "text/plain": [
       "Validation: |          | 0/? [00:00<?, ?it/s]"
      ]
     },
     "metadata": {},
     "output_type": "display_data"
    },
    {
     "data": {
      "application/vnd.jupyter.widget-view+json": {
       "model_id": "265871f40a9d41c59260b7f9183c5170",
       "version_major": 2,
       "version_minor": 0
      },
      "text/plain": [
       "Validation: |          | 0/? [00:00<?, ?it/s]"
      ]
     },
     "metadata": {},
     "output_type": "display_data"
    },
    {
     "data": {
      "application/vnd.jupyter.widget-view+json": {
       "model_id": "e99bee5ea3184239af1209fc4d6fc393",
       "version_major": 2,
       "version_minor": 0
      },
      "text/plain": [
       "Validation: |          | 0/? [00:00<?, ?it/s]"
      ]
     },
     "metadata": {},
     "output_type": "display_data"
    },
    {
     "data": {
      "application/vnd.jupyter.widget-view+json": {
       "model_id": "8eba16ecc8ef4d58b40bfe96946c3774",
       "version_major": 2,
       "version_minor": 0
      },
      "text/plain": [
       "Validation: |          | 0/? [00:00<?, ?it/s]"
      ]
     },
     "metadata": {},
     "output_type": "display_data"
    },
    {
     "data": {
      "application/vnd.jupyter.widget-view+json": {
       "model_id": "ae991fbe20ab43878a64f21f4ef8d89a",
       "version_major": 2,
       "version_minor": 0
      },
      "text/plain": [
       "Validation: |          | 0/? [00:00<?, ?it/s]"
      ]
     },
     "metadata": {},
     "output_type": "display_data"
    },
    {
     "data": {
      "application/vnd.jupyter.widget-view+json": {
       "model_id": "4c1451a6afef40e19f881beb6d3fe7c6",
       "version_major": 2,
       "version_minor": 0
      },
      "text/plain": [
       "Validation: |          | 0/? [00:00<?, ?it/s]"
      ]
     },
     "metadata": {},
     "output_type": "display_data"
    },
    {
     "data": {
      "application/vnd.jupyter.widget-view+json": {
       "model_id": "687d1dd5ec4d49f7a31903900a344afd",
       "version_major": 2,
       "version_minor": 0
      },
      "text/plain": [
       "Validation: |          | 0/? [00:00<?, ?it/s]"
      ]
     },
     "metadata": {},
     "output_type": "display_data"
    },
    {
     "data": {
      "application/vnd.jupyter.widget-view+json": {
       "model_id": "a5edd0b189f3448a9b749585d605313c",
       "version_major": 2,
       "version_minor": 0
      },
      "text/plain": [
       "Validation: |          | 0/? [00:00<?, ?it/s]"
      ]
     },
     "metadata": {},
     "output_type": "display_data"
    },
    {
     "data": {
      "application/vnd.jupyter.widget-view+json": {
       "model_id": "d4e6eedf42cb449eae8b91ed22bc97c6",
       "version_major": 2,
       "version_minor": 0
      },
      "text/plain": [
       "Validation: |          | 0/? [00:00<?, ?it/s]"
      ]
     },
     "metadata": {},
     "output_type": "display_data"
    },
    {
     "data": {
      "application/vnd.jupyter.widget-view+json": {
       "model_id": "d98fe45a3fb54cd09401763b79854e16",
       "version_major": 2,
       "version_minor": 0
      },
      "text/plain": [
       "Validation: |          | 0/? [00:00<?, ?it/s]"
      ]
     },
     "metadata": {},
     "output_type": "display_data"
    },
    {
     "data": {
      "application/vnd.jupyter.widget-view+json": {
       "model_id": "da4cd62418da4b41bd06975741852ef8",
       "version_major": 2,
       "version_minor": 0
      },
      "text/plain": [
       "Validation: |          | 0/? [00:00<?, ?it/s]"
      ]
     },
     "metadata": {},
     "output_type": "display_data"
    },
    {
     "data": {
      "application/vnd.jupyter.widget-view+json": {
       "model_id": "f21f43b747ce461b9465601dd6f7a97f",
       "version_major": 2,
       "version_minor": 0
      },
      "text/plain": [
       "Validation: |          | 0/? [00:00<?, ?it/s]"
      ]
     },
     "metadata": {},
     "output_type": "display_data"
    },
    {
     "data": {
      "application/vnd.jupyter.widget-view+json": {
       "model_id": "a59792a4e1a341698deeb27c7207afcc",
       "version_major": 2,
       "version_minor": 0
      },
      "text/plain": [
       "Validation: |          | 0/? [00:00<?, ?it/s]"
      ]
     },
     "metadata": {},
     "output_type": "display_data"
    },
    {
     "data": {
      "application/vnd.jupyter.widget-view+json": {
       "model_id": "e5572c50d36743e5894cd10f8aeff5a6",
       "version_major": 2,
       "version_minor": 0
      },
      "text/plain": [
       "Validation: |          | 0/? [00:00<?, ?it/s]"
      ]
     },
     "metadata": {},
     "output_type": "display_data"
    },
    {
     "name": "stderr",
     "output_type": "stream",
     "text": [
      "\u001b[32m2025-06-21 03:02:54.716\u001b[0m | \u001b[1mINFO    \u001b[0m | \u001b[36m__main__\u001b[0m:\u001b[36m<module>\u001b[0m:\u001b[36m30\u001b[0m - \u001b[1mLogs available at /home/dinhln/Desktop/real_time_recsys/notebooks/data/first-attempt/006-sequence-modelling-attn-256-dim-bce-prelu/logs/overfit/lightning_logs/version_14\u001b[0m\n"
     ]
    }
   ],
   "source": [
    "early_stopping = EarlyStopping(\n",
    "    monitor=\"val_loss\", patience=5, mode=\"min\", verbose=False\n",
    ")\n",
    "\n",
    "model = init_model(n_users, n_items, args.embedding_dim, args.dropout)\n",
    "lit_model = SeqModellingLitModule(\n",
    "    model,\n",
    "    learning_rate=args.learning_rate,\n",
    "    l2_reg=args.l2_reg,\n",
    "    log_dir=args.notebook_persit_dp,\n",
    "    accelerator=args.device,\n",
    "    idm= idm\n",
    ")\n",
    "\n",
    "log_dir = f\"{args.notebook_persit_dp}/logs/overfit\"\n",
    "\n",
    "# train model\n",
    "trainer = L.Trainer(\n",
    "    default_root_dir=log_dir,\n",
    "    accelerator=args.device if args.device else \"auto\",\n",
    "    max_epochs=300,\n",
    "    overfit_batches=1,\n",
    "    callbacks=[early_stopping],\n",
    ")\n",
    "trainer.fit(\n",
    "    model=lit_model,\n",
    "    train_dataloaders=train_loader,\n",
    "    val_dataloaders=train_loader,\n",
    ")\n",
    "logger.info(f\"Logs available at {trainer.log_dir}\")"
   ]
  },
  {
   "cell_type": "code",
   "execution_count": 89,
   "metadata": {},
   "outputs": [
    {
     "name": "stdout",
     "output_type": "stream",
     "text": [
      "{'user': tensor([ 8512, 12615,  2264, 11242,   914,  6131, 12624,  1059,  3250,  3115,\n",
      "         6735,  1133, 15637, 14998, 14034,  7308,  8181,  9651, 16196,  3756,\n",
      "        13708,  2419, 15171, 14030,  6298, 12269,  3622,  4953,   258,  8216,\n",
      "         7581,  6873,  5484, 12819, 11752,  1673, 13128,  5780,  1204,  8917,\n",
      "        12827, 15350,   505,  3314, 11497,  5003, 15973, 12756,  7398, 13538,\n",
      "        10852,  1876, 14061,  7144, 14264,  3873,  2530, 10412, 13512,   604,\n",
      "         5346,  7233,  5393, 10919,  8295,  5293,  7180, 13101, 13708,  8291,\n",
      "         7958,   114,  6590,  8334,  8212, 15497,  3294,   894,  7286,  8032,\n",
      "         2923, 13742, 14604,  7237,  4836,   475,   806, 11032,  9433, 15604,\n",
      "         7270,  3781,  6984, 10155, 14383,  1938, 12778, 16228,  2462, 10694,\n",
      "         7489,  1077,  3180,  4217,  1660,  3756,   268, 15712,  9974,  7635,\n",
      "          455, 11137,  8696,  7397,  2459, 12173,  5704, 14470,  1892,  3306,\n",
      "         5198,  8396,   760,  8681, 15618, 16356, 15029,  1066]), 'item': tensor([1610, 4709, 3987, 1764, 4122, 1538,  902, 1391, 2626,  994, 1281, 4798,\n",
      "        1058, 3224, 2025, 4235, 4777, 2157, 3750, 3602, 4301,  620, 1686,  338,\n",
      "        1039, 1823, 2796, 2866, 4699, 3699, 2837, 1993, 3679, 1976,  154, 3032,\n",
      "        2912, 1075,  858, 4742, 4752, 4710, 1322, 1208, 3833, 1173, 4663, 3030,\n",
      "        3532, 4399,  336, 4419, 1027, 3056, 2714, 4043, 3813, 4386, 1071, 4475,\n",
      "        3477,  154, 1670, 2429, 2101, 1859, 2916, 2694, 1757,  213, 2095, 1701,\n",
      "        2232, 2552, 1810, 2108,  411, 3111, 1140, 3975,   13, 4546, 1208, 4339,\n",
      "         703, 4518,  755, 4803, 3064,  723, 2725,  270, 3024, 1839, 3025, 2237,\n",
      "         742,  285, 3571, 2359, 3906, 3164, 2582, 1042,  225, 1816, 4564, 1452,\n",
      "        1474, 1790,  965, 1839, 2117, 4804, 2959,  225, 3059, 3151, 3443, 4437,\n",
      "        4731, 2978,  223, 4722, 1421, 2969, 3381, 4249]), 'rating': tensor([0., 1., 1., 1., 1., 1., 1., 1., 0., 0., 0., 0., 1., 0., 1., 0., 1., 1.,\n",
      "        0., 0., 0., 1., 1., 0., 0., 0., 0., 0., 0., 0., 0., 1., 0., 0., 0., 1.,\n",
      "        0., 0., 0., 0., 0., 0., 0., 1., 1., 0., 1., 0., 1., 0., 0., 1., 1., 1.,\n",
      "        0., 0., 1., 1., 1., 0., 1., 1., 1., 1., 0., 0., 1., 0., 0., 0., 0., 0.,\n",
      "        1., 0., 0., 1., 0., 1., 0., 0., 1., 0., 0., 0., 0., 0., 1., 0., 1., 0.,\n",
      "        0., 1., 0., 1., 1., 0., 0., 1., 1., 0., 0., 0., 0., 1., 1., 1., 1., 0.,\n",
      "        0., 0., 1., 1., 0., 1., 0., 1., 1., 1., 0., 0., 0., 0., 0., 0., 1., 0.,\n",
      "        0., 0.]), 'item_sequence': tensor([[  -1,   -1,   -1,  ..., 4168, 3204, 4613],\n",
      "        [  -1,   -1,   -1,  ..., 4799, 3571, 3529],\n",
      "        [  -1,   -1,   -1,  ...,   -1,   -1,   -1],\n",
      "        ...,\n",
      "        [  -1,   -1, 4320,  ..., 4492,   97,  789],\n",
      "        [  -1,   -1,   -1,  ...,   -1,   -1,   -1],\n",
      "        [ 283,  147, 1122,  ..., 3283, 1173, 3265]], dtype=torch.int32)}\n"
     ]
    }
   ],
   "source": [
    "for i in train_loader:\n",
    "    print(i)\n",
    "    break"
   ]
  },
  {
   "cell_type": "markdown",
   "metadata": {},
   "source": [
    "## Run on all data"
   ]
  },
  {
   "cell_type": "code",
   "execution_count": 90,
   "metadata": {},
   "outputs": [
    {
     "name": "stderr",
     "output_type": "stream",
     "text": [
      "\u001b[32m2025-06-21 03:02:54.923\u001b[0m | \u001b[1mINFO    \u001b[0m | \u001b[36msrc.algo.sequence.model\u001b[0m:\u001b[36m__init__\u001b[0m:\u001b[36m118\u001b[0m - \u001b[1mStart token used: 4816, Padding token used: 4817\u001b[0m\n",
      "GPU available: True (cuda), used: True\n",
      "TPU available: False, using: 0 TPU cores\n",
      "HPU available: False, using: 0 HPUs\n"
     ]
    },
    {
     "name": "stdout",
     "output_type": "stream",
     "text": [
      "Model: SequenceRatingPrediction(\n",
      "  (item_embedding): Embedding(4818, 256, padding_idx=4817)\n",
      "  (encoder_layer): TransformerEncoderLayer(\n",
      "    (self_attn): MultiheadAttention(\n",
      "      (out_proj): NonDynamicallyQuantizableLinear(in_features=256, out_features=256, bias=True)\n",
      "    )\n",
      "    (linear1): Linear(in_features=256, out_features=256, bias=True)\n",
      "    (dropout): Dropout(p=0.3, inplace=False)\n",
      "    (linear2): Linear(in_features=256, out_features=256, bias=True)\n",
      "    (norm1): LayerNorm((256,), eps=1e-05, elementwise_affine=True)\n",
      "    (norm2): LayerNorm((256,), eps=1e-05, elementwise_affine=True)\n",
      "    (dropout1): Dropout(p=0.3, inplace=False)\n",
      "    (dropout2): Dropout(p=0.3, inplace=False)\n",
      "    (activation): PReLU(num_parameters=1)\n",
      "  )\n",
      "  (encoder): TransformerEncoder(\n",
      "    (layers): ModuleList(\n",
      "      (0): TransformerEncoderLayer(\n",
      "        (self_attn): MultiheadAttention(\n",
      "          (out_proj): NonDynamicallyQuantizableLinear(in_features=256, out_features=256, bias=True)\n",
      "        )\n",
      "        (linear1): Linear(in_features=256, out_features=256, bias=True)\n",
      "        (dropout): Dropout(p=0.3, inplace=False)\n",
      "        (linear2): Linear(in_features=256, out_features=256, bias=True)\n",
      "        (norm1): LayerNorm((256,), eps=1e-05, elementwise_affine=True)\n",
      "        (norm2): LayerNorm((256,), eps=1e-05, elementwise_affine=True)\n",
      "        (dropout1): Dropout(p=0.3, inplace=False)\n",
      "        (dropout2): Dropout(p=0.3, inplace=False)\n",
      "        (activation): PReLU(num_parameters=1)\n",
      "      )\n",
      "    )\n",
      "  )\n",
      "  (prelu1): PReLU(num_parameters=1)\n",
      "  (dropout): Dropout(p=0.3, inplace=False)\n",
      "  (user_embedding): Embedding(16407, 256)\n",
      "  (final_fc): Linear(in_features=768, out_features=256, bias=True)\n",
      "  (score_fc): Linear(in_features=256, out_features=1, bias=True)\n",
      ")\n"
     ]
    },
    {
     "name": "stderr",
     "output_type": "stream",
     "text": [
      "/home/dinhln/Desktop/real_time_recsys/.venv/lib/python3.11/site-packages/lightning/pytorch/callbacks/model_checkpoint.py:654: UserWarning:\n",
      "\n",
      "Checkpoint directory /home/dinhln/Desktop/real_time_recsys/notebooks/data/first-attempt/006-sequence-modelling-attn-256-dim-bce-prelu/checkpoints exists and is not empty.\n",
      "\n",
      "LOCAL_RANK: 0 - CUDA_VISIBLE_DEVICES: [0]\n",
      "\n",
      "  | Name               | Type                     | Params | Mode \n",
      "------------------------------------------------------------------------\n",
      "0 | model              | SequenceRatingPrediction | 6.4 M  | train\n",
      "1 | val_roc_auc_metric | BinaryAUROC              | 0      | train\n",
      "2 | val_pr_auc_metric  | BinaryAveragePrecision   | 0      | train\n",
      "------------------------------------------------------------------------\n",
      "6.4 M     Trainable params\n",
      "0         Non-trainable params\n",
      "6.4 M     Total params\n",
      "25.689    Total estimated model params size (MB)\n",
      "33        Modules in train mode\n",
      "0         Modules in eval mode\n"
     ]
    },
    {
     "data": {
      "application/vnd.jupyter.widget-view+json": {
       "model_id": "cebd02d75975402aa0c460bdab45007c",
       "version_major": 2,
       "version_minor": 0
      },
      "text/plain": [
       "Sanity Checking: |          | 0/? [00:00<?, ?it/s]"
      ]
     },
     "metadata": {},
     "output_type": "display_data"
    },
    {
     "data": {
      "application/vnd.jupyter.widget-view+json": {
       "model_id": "73e754d8283447a08173945d4a4edc2a",
       "version_major": 2,
       "version_minor": 0
      },
      "text/plain": [
       "Training: |          | 0/? [00:00<?, ?it/s]"
      ]
     },
     "metadata": {},
     "output_type": "display_data"
    },
    {
     "data": {
      "application/vnd.jupyter.widget-view+json": {
       "model_id": "7f30f2aa1f214b78b913980640fd3b5e",
       "version_major": 2,
       "version_minor": 0
      },
      "text/plain": [
       "Validation: |          | 0/? [00:00<?, ?it/s]"
      ]
     },
     "metadata": {},
     "output_type": "display_data"
    },
    {
     "data": {
      "application/vnd.jupyter.widget-view+json": {
       "model_id": "9fe5666a09f2470abdb01b42aaed0013",
       "version_major": 2,
       "version_minor": 0
      },
      "text/plain": [
       "Validation: |          | 0/? [00:00<?, ?it/s]"
      ]
     },
     "metadata": {},
     "output_type": "display_data"
    },
    {
     "data": {
      "application/vnd.jupyter.widget-view+json": {
       "model_id": "b17dcfac0fe042de817e2171c768d521",
       "version_major": 2,
       "version_minor": 0
      },
      "text/plain": [
       "Validation: |          | 0/? [00:00<?, ?it/s]"
      ]
     },
     "metadata": {},
     "output_type": "display_data"
    },
    {
     "data": {
      "application/vnd.jupyter.widget-view+json": {
       "model_id": "b5faa45c2af44e92bc1278314b65b0ad",
       "version_major": 2,
       "version_minor": 0
      },
      "text/plain": [
       "Validation: |          | 0/? [00:00<?, ?it/s]"
      ]
     },
     "metadata": {},
     "output_type": "display_data"
    },
    {
     "data": {
      "application/vnd.jupyter.widget-view+json": {
       "model_id": "bc2050a2b7db441dbaf1620cd5ef00ba",
       "version_major": 2,
       "version_minor": 0
      },
      "text/plain": [
       "Validation: |          | 0/? [00:00<?, ?it/s]"
      ]
     },
     "metadata": {},
     "output_type": "display_data"
    },
    {
     "data": {
      "application/vnd.jupyter.widget-view+json": {
       "model_id": "ebdb3556a2fb4fd3a5cda29730f1caee",
       "version_major": 2,
       "version_minor": 0
      },
      "text/plain": [
       "Validation: |          | 0/? [00:00<?, ?it/s]"
      ]
     },
     "metadata": {},
     "output_type": "display_data"
    },
    {
     "data": {
      "application/vnd.jupyter.widget-view+json": {
       "model_id": "0e443136ff5e49cc9e45a8ce193fc0e5",
       "version_major": 2,
       "version_minor": 0
      },
      "text/plain": [
       "Validation: |          | 0/? [00:00<?, ?it/s]"
      ]
     },
     "metadata": {},
     "output_type": "display_data"
    },
    {
     "data": {
      "application/vnd.jupyter.widget-view+json": {
       "model_id": "c667ac7eb3ce4bd2828ea75677ae6159",
       "version_major": 2,
       "version_minor": 0
      },
      "text/plain": [
       "Validation: |          | 0/? [00:00<?, ?it/s]"
      ]
     },
     "metadata": {},
     "output_type": "display_data"
    },
    {
     "data": {
      "application/vnd.jupyter.widget-view+json": {
       "model_id": "5c29cab86297400ca4b9570e04c6329c",
       "version_major": 2,
       "version_minor": 0
      },
      "text/plain": [
       "Validation: |          | 0/? [00:00<?, ?it/s]"
      ]
     },
     "metadata": {},
     "output_type": "display_data"
    },
    {
     "data": {
      "application/vnd.jupyter.widget-view+json": {
       "model_id": "d3373b8bb8c84e5e845e98550313c60b",
       "version_major": 2,
       "version_minor": 0
      },
      "text/plain": [
       "Validation: |          | 0/? [00:00<?, ?it/s]"
      ]
     },
     "metadata": {},
     "output_type": "display_data"
    },
    {
     "data": {
      "application/vnd.jupyter.widget-view+json": {
       "model_id": "6a5a2a42f169404da4dcb447afe9303a",
       "version_major": 2,
       "version_minor": 0
      },
      "text/plain": [
       "Validation: |          | 0/? [00:00<?, ?it/s]"
      ]
     },
     "metadata": {},
     "output_type": "display_data"
    },
    {
     "data": {
      "application/vnd.jupyter.widget-view+json": {
       "model_id": "66fabefdab224c3596efded44141cbdd",
       "version_major": 2,
       "version_minor": 0
      },
      "text/plain": [
       "Validation: |          | 0/? [00:00<?, ?it/s]"
      ]
     },
     "metadata": {},
     "output_type": "display_data"
    },
    {
     "data": {
      "application/vnd.jupyter.widget-view+json": {
       "model_id": "44a7ada8b7b648b3956c47b3104080fa",
       "version_major": 2,
       "version_minor": 0
      },
      "text/plain": [
       "Validation: |          | 0/? [00:00<?, ?it/s]"
      ]
     },
     "metadata": {},
     "output_type": "display_data"
    },
    {
     "data": {
      "application/vnd.jupyter.widget-view+json": {
       "model_id": "386ef1c891f14a459a3d4c1350644376",
       "version_major": 2,
       "version_minor": 0
      },
      "text/plain": [
       "Validation: |          | 0/? [00:00<?, ?it/s]"
      ]
     },
     "metadata": {},
     "output_type": "display_data"
    },
    {
     "data": {
      "application/vnd.jupyter.widget-view+json": {
       "model_id": "87193d415a494a78b8d478c4eb3ba40b",
       "version_major": 2,
       "version_minor": 0
      },
      "text/plain": [
       "Validation: |          | 0/? [00:00<?, ?it/s]"
      ]
     },
     "metadata": {},
     "output_type": "display_data"
    },
    {
     "name": "stdout",
     "output_type": "stream",
     "text": [
      "🏃 View run 006-sequence-modelling-attn-256-dim-bce-prelu at: http://138.2.61.6:5002/#/experiments/2/runs/579c4df80338486badd9fe6174ab1b88\n",
      "🧪 View experiment at: http://138.2.61.6:5002/#/experiments/2\n"
     ]
    }
   ],
   "source": [
    "early_stopping = EarlyStopping(\n",
    "    monitor=\"val_roc_auc\", patience=args.early_stopping_patience, mode=\"max\", verbose=False, min_delta=0.001\n",
    ")\n",
    "\n",
    "checkpoint_callback = ModelCheckpoint(\n",
    "    dirpath=f\"{args.notebook_persit_dp}/checkpoints\",\n",
    "    filename=\"best-checkpoint\",\n",
    "    save_top_k=1,\n",
    "    monitor=\"val_roc_auc\",\n",
    "    mode=\"max\",\n",
    ")\n",
    "\n",
    "model = init_model(n_users, n_items, args.embedding_dim, args.dropout)\n",
    "\n",
    "print(f\"Model: {model}\")\n",
    "lit_model = SeqModellingLitModule(\n",
    "    model,\n",
    "    learning_rate=args.learning_rate,\n",
    "    l2_reg=args.l2_reg,\n",
    "    log_dir=args.notebook_persit_dp,\n",
    "    accelerator=args.device,\n",
    "    idm= idm\n",
    ")\n",
    "\n",
    "log_dir = f\"{args.notebook_persit_dp}/logs/run\"\n",
    "\n",
    "# train model\n",
    "trainer = L.Trainer(\n",
    "    default_root_dir=log_dir,\n",
    "    accelerator=args.device if args.device else \"auto\",\n",
    "    max_epochs=args.max_epochs,\n",
    "    callbacks=[early_stopping, checkpoint_callback],\n",
    "    logger=args._mlf_logger if args.log_to_mlflow else None,\n",
    "    \n",
    ")\n",
    "trainer.fit(\n",
    "    model=lit_model,\n",
    "    train_dataloaders=train_loader,\n",
    "    val_dataloaders=val_loader,\n",
    "    \n",
    ")\n",
    "\n",
    "# Change the library as a workaround for the issue in the latest Lightning release\n",
    "#https://github.com/Lightning-AI/pytorch-lightning/pull/20669/commits/429f732a0528c558e701da7ec01e51c1e2e4f32e"
   ]
  },
  {
   "cell_type": "markdown",
   "metadata": {},
   "source": [
    "## Log metrics"
   ]
  },
  {
   "cell_type": "code",
   "execution_count": 91,
   "metadata": {},
   "outputs": [
    {
     "name": "stderr",
     "output_type": "stream",
     "text": [
      "\u001b[32m2025-06-21 03:24:36.407\u001b[0m | \u001b[1mINFO    \u001b[0m | \u001b[36m__main__\u001b[0m:\u001b[36m<module>\u001b[0m:\u001b[36m1\u001b[0m - \u001b[1mLoading best checkpoint from /home/dinhln/Desktop/real_time_recsys/notebooks/data/first-attempt/006-sequence-modelling-attn-256-dim-bce-prelu/checkpoints/best-checkpoint-v13.ckpt...\u001b[0m\n",
      "\u001b[32m2025-06-21 03:24:36.447\u001b[0m | \u001b[1mINFO    \u001b[0m | \u001b[36msrc.algo.sequence.model\u001b[0m:\u001b[36m__init__\u001b[0m:\u001b[36m118\u001b[0m - \u001b[1mStart token used: 4816, Padding token used: 4817\u001b[0m\n"
     ]
    }
   ],
   "source": [
    "logger.info(f\"Loading best checkpoint from {checkpoint_callback.best_model_path}...\")\n",
    "args.best_checkpoint_path = checkpoint_callback.best_model_path\n",
    "\n",
    "best_trainer = SeqModellingLitModule.load_from_checkpoint(\n",
    "    checkpoint_path=checkpoint_callback.best_model_path,\n",
    "    model=init_model(n_users, n_items, args.embedding_dim, args.dropout),\n",
    ")"
   ]
  },
  {
   "cell_type": "code",
   "execution_count": 92,
   "metadata": {},
   "outputs": [
    {
     "data": {
      "text/plain": [
       "SequenceRatingPrediction(\n",
       "  (item_embedding): Embedding(4818, 256, padding_idx=4817)\n",
       "  (encoder_layer): TransformerEncoderLayer(\n",
       "    (self_attn): MultiheadAttention(\n",
       "      (out_proj): NonDynamicallyQuantizableLinear(in_features=256, out_features=256, bias=True)\n",
       "    )\n",
       "    (linear1): Linear(in_features=256, out_features=256, bias=True)\n",
       "    (dropout): Dropout(p=0.3, inplace=False)\n",
       "    (linear2): Linear(in_features=256, out_features=256, bias=True)\n",
       "    (norm1): LayerNorm((256,), eps=1e-05, elementwise_affine=True)\n",
       "    (norm2): LayerNorm((256,), eps=1e-05, elementwise_affine=True)\n",
       "    (dropout1): Dropout(p=0.3, inplace=False)\n",
       "    (dropout2): Dropout(p=0.3, inplace=False)\n",
       "    (activation): PReLU(num_parameters=1)\n",
       "  )\n",
       "  (encoder): TransformerEncoder(\n",
       "    (layers): ModuleList(\n",
       "      (0): TransformerEncoderLayer(\n",
       "        (self_attn): MultiheadAttention(\n",
       "          (out_proj): NonDynamicallyQuantizableLinear(in_features=256, out_features=256, bias=True)\n",
       "        )\n",
       "        (linear1): Linear(in_features=256, out_features=256, bias=True)\n",
       "        (dropout): Dropout(p=0.3, inplace=False)\n",
       "        (linear2): Linear(in_features=256, out_features=256, bias=True)\n",
       "        (norm1): LayerNorm((256,), eps=1e-05, elementwise_affine=True)\n",
       "        (norm2): LayerNorm((256,), eps=1e-05, elementwise_affine=True)\n",
       "        (dropout1): Dropout(p=0.3, inplace=False)\n",
       "        (dropout2): Dropout(p=0.3, inplace=False)\n",
       "        (activation): PReLU(num_parameters=1)\n",
       "      )\n",
       "    )\n",
       "  )\n",
       "  (prelu1): PReLU(num_parameters=1)\n",
       "  (dropout): Dropout(p=0.3, inplace=False)\n",
       "  (user_embedding): Embedding(16407, 256)\n",
       "  (final_fc): Linear(in_features=768, out_features=256, bias=True)\n",
       "  (score_fc): Linear(in_features=256, out_features=1, bias=True)\n",
       ")"
      ]
     },
     "execution_count": 92,
     "metadata": {},
     "output_type": "execute_result"
    }
   ],
   "source": [
    "best_model = best_trainer.model.to(args.device)\n",
    "best_model.eval()"
   ]
  },
  {
   "cell_type": "code",
   "execution_count": 93,
   "metadata": {},
   "outputs": [],
   "source": [
    "val_recs_df = val_df.sort_values(by=args.timestamp_col).drop_duplicates(subset=[args.user_col], keep=\"first\")"
   ]
  },
  {
   "cell_type": "code",
   "execution_count": 94,
   "metadata": {},
   "outputs": [
    {
     "data": {
      "text/plain": [
       "<ActiveRun: >"
      ]
     },
     "execution_count": 94,
     "metadata": {},
     "output_type": "execute_result"
    }
   ],
   "source": [
    "mlflow.start_run(run_id = trainer.logger.run_id)"
   ]
  },
  {
   "cell_type": "markdown",
   "metadata": {},
   "source": [
    "### Classification metrics"
   ]
  },
  {
   "cell_type": "code",
   "execution_count": 95,
   "metadata": {},
   "outputs": [],
   "source": [
    "val_user_indices = val_df[\"user_indice\"].values\n",
    "val_item_indices = val_df[\"item_indice\"].values\n",
    "val_item_sequences = val_df[\"item_sequence\"].values.tolist()"
   ]
  },
  {
   "cell_type": "code",
   "execution_count": 96,
   "metadata": {},
   "outputs": [
    {
     "ename": "OutOfMemoryError",
     "evalue": "CUDA out of memory. Tried to allocate 306.00 MiB. GPU 0 has a total capacity of 3.69 GiB of which 274.94 MiB is free. Process 101552 has 100.00 MiB memory in use. Process 105495 has 100.00 MiB memory in use. Process 107065 has 100.00 MiB memory in use. Process 108859 has 204.00 MiB memory in use. Process 412817 has 80.00 MiB memory in use. Process 412227 has 204.00 MiB memory in use. Process 452652 has 1.06 GiB memory in use. Including non-PyTorch memory, this process has 1.54 GiB memory in use. Of the allocated memory 1.40 GiB is allocated by PyTorch, and 41.54 MiB is reserved by PyTorch but unallocated. If reserved but unallocated memory is large try setting PYTORCH_CUDA_ALLOC_CONF=expandable_segments:True to avoid fragmentation.  See documentation for Memory Management  (https://pytorch.org/docs/stable/notes/cuda.html#environment-variables)",
     "output_type": "error",
     "traceback": [
      "\u001b[31m---------------------------------------------------------------------------\u001b[39m",
      "\u001b[31mOutOfMemoryError\u001b[39m                          Traceback (most recent call last)",
      "\u001b[36mCell\u001b[39m\u001b[36m \u001b[39m\u001b[32mIn[96]\u001b[39m\u001b[32m, line 4\u001b[39m\n\u001b[32m      2\u001b[39m item_sequences = torch.tensor(val_item_sequences, device=args.device)\n\u001b[32m      3\u001b[39m items = torch.tensor(val_item_indices, device=args.device)\n\u001b[32m----> \u001b[39m\u001b[32m4\u001b[39m classifications = \u001b[43mbest_model\u001b[49m\u001b[43m.\u001b[49m\u001b[43mpredict\u001b[49m\u001b[43m(\u001b[49m\u001b[43musers\u001b[49m\u001b[43m,\u001b[49m\u001b[43m \u001b[49m\u001b[43mitem_sequences\u001b[49m\u001b[43m,\u001b[49m\u001b[43m \u001b[49m\u001b[43mitems\u001b[49m\u001b[43m)\u001b[49m\n",
      "\u001b[36mFile \u001b[39m\u001b[32m~/Desktop/real_time_recsys/notebooks/../src/algo/sequence/model.py:273\u001b[39m, in \u001b[36mSequenceRatingPrediction.predict\u001b[39m\u001b[34m(self, user, item_sequence, target_item)\u001b[39m\n\u001b[32m    260\u001b[39m \u001b[38;5;28;01mdef\u001b[39;00m\u001b[38;5;250m \u001b[39m\u001b[34mpredict\u001b[39m(\u001b[38;5;28mself\u001b[39m, user, item_sequence, target_item):\n\u001b[32m    261\u001b[39m \u001b[38;5;250m    \u001b[39m\u001b[33;03m\"\"\"\u001b[39;00m\n\u001b[32m    262\u001b[39m \u001b[33;03m    Predict the rating for a specific user and item sequence using the forward method\u001b[39;00m\n\u001b[32m    263\u001b[39m \u001b[33;03m    and applying a Sigmoid function to the output.\u001b[39;00m\n\u001b[32m   (...)\u001b[39m\u001b[32m    271\u001b[39m \u001b[33;03m        torch.Tensor: Predicted rating after applying Sigmoid activation.\u001b[39;00m\n\u001b[32m    272\u001b[39m \u001b[33;03m    \"\"\"\u001b[39;00m\n\u001b[32m--> \u001b[39m\u001b[32m273\u001b[39m     output_rating = \u001b[38;5;28;43mself\u001b[39;49m\u001b[43m.\u001b[49m\u001b[43mforward\u001b[49m\u001b[43m(\u001b[49m\u001b[43muser\u001b[49m\u001b[43m,\u001b[49m\u001b[43m \u001b[49m\u001b[43mitem_sequence\u001b[49m\u001b[43m,\u001b[49m\u001b[43m \u001b[49m\u001b[43mtarget_item\u001b[49m\u001b[43m)\u001b[49m\n\u001b[32m    274\u001b[39m     \u001b[38;5;66;03m# Apply sigmoid activation to the output\u001b[39;00m\n\u001b[32m    275\u001b[39m     output_rating = nn.Sigmoid()(output_rating)\n",
      "\u001b[36mFile \u001b[39m\u001b[32m~/Desktop/real_time_recsys/notebooks/../src/algo/sequence/model.py:164\u001b[39m, in \u001b[36mSequenceRatingPrediction.forward\u001b[39m\u001b[34m(self, user_ids, input_seq, target_item)\u001b[39m\n\u001b[32m    149\u001b[39m embedded_seq = \u001b[38;5;28mself\u001b[39m.item_embedding(\n\u001b[32m    150\u001b[39m     input_seq\n\u001b[32m    151\u001b[39m )  \u001b[38;5;66;03m# Shape: [batch_size, seq_len, embedding_dim]\u001b[39;00m\n\u001b[32m    153\u001b[39m \u001b[38;5;66;03m# # # # GRU processing: output the hidden states and the final hidden state\u001b[39;00m\n\u001b[32m    154\u001b[39m \u001b[38;5;66;03m# # hidden_state = embedded_seq.mean(dim=1)  # Mean pooling over the sequence dimension\u001b[39;00m\n\u001b[32m    155\u001b[39m \u001b[38;5;66;03m# _, hidden_state = self.gru(\u001b[39;00m\n\u001b[32m   (...)\u001b[39m\u001b[32m    162\u001b[39m \u001b[38;5;66;03m# # query_embedding = self.query_fc(hidden_state)  # Shape: [batch_size, embedding_dim]\u001b[39;00m\n\u001b[32m    163\u001b[39m \u001b[38;5;66;03m# print(\"hehe\")\u001b[39;00m\n\u001b[32m--> \u001b[39m\u001b[32m164\u001b[39m hidden_state = \u001b[38;5;28;43mself\u001b[39;49m\u001b[43m.\u001b[49m\u001b[43mencoder\u001b[49m\u001b[43m.\u001b[49m\u001b[43mforward\u001b[49m\u001b[43m(\u001b[49m\n\u001b[32m    165\u001b[39m \u001b[43m    \u001b[49m\u001b[43msrc\u001b[49m\u001b[43m \u001b[49m\u001b[43m=\u001b[49m\u001b[43m \u001b[49m\u001b[43membedded_seq\u001b[49m\u001b[43m,\u001b[49m\n\u001b[32m    166\u001b[39m \u001b[43m    \u001b[49m\u001b[43msrc_key_padding_mask\u001b[49m\u001b[43m=\u001b[49m\u001b[43mmask\u001b[49m\u001b[43m,\u001b[49m\n\u001b[32m    167\u001b[39m \u001b[43m\u001b[49m\u001b[43m)\u001b[49m \u001b[38;5;66;03m# Shape: [batch_size, seq_len, embedding_dim]\u001b[39;00m\n\u001b[32m    168\u001b[39m \u001b[38;5;66;03m# print(\"hehe\")\u001b[39;00m\n\u001b[32m    169\u001b[39m \u001b[38;5;66;03m# Get the last hidden state\u001b[39;00m\n\u001b[32m    170\u001b[39m hidden_state = hidden_state[:, -\u001b[32m1\u001b[39m, :]  \u001b[38;5;66;03m# Shape: [batch_size, embedding_dim]\u001b[39;00m\n",
      "\u001b[36mFile \u001b[39m\u001b[32m~/Desktop/real_time_recsys/.venv/lib/python3.11/site-packages/torch/nn/modules/transformer.py:517\u001b[39m, in \u001b[36mTransformerEncoder.forward\u001b[39m\u001b[34m(self, src, mask, src_key_padding_mask, is_causal)\u001b[39m\n\u001b[32m    514\u001b[39m is_causal = _detect_is_causal_mask(mask, is_causal, seq_len)\n\u001b[32m    516\u001b[39m \u001b[38;5;28;01mfor\u001b[39;00m mod \u001b[38;5;129;01min\u001b[39;00m \u001b[38;5;28mself\u001b[39m.layers:\n\u001b[32m--> \u001b[39m\u001b[32m517\u001b[39m     output = \u001b[43mmod\u001b[49m\u001b[43m(\u001b[49m\n\u001b[32m    518\u001b[39m \u001b[43m        \u001b[49m\u001b[43moutput\u001b[49m\u001b[43m,\u001b[49m\n\u001b[32m    519\u001b[39m \u001b[43m        \u001b[49m\u001b[43msrc_mask\u001b[49m\u001b[43m=\u001b[49m\u001b[43mmask\u001b[49m\u001b[43m,\u001b[49m\n\u001b[32m    520\u001b[39m \u001b[43m        \u001b[49m\u001b[43mis_causal\u001b[49m\u001b[43m=\u001b[49m\u001b[43mis_causal\u001b[49m\u001b[43m,\u001b[49m\n\u001b[32m    521\u001b[39m \u001b[43m        \u001b[49m\u001b[43msrc_key_padding_mask\u001b[49m\u001b[43m=\u001b[49m\u001b[43msrc_key_padding_mask_for_layers\u001b[49m\u001b[43m,\u001b[49m\n\u001b[32m    522\u001b[39m \u001b[43m    \u001b[49m\u001b[43m)\u001b[49m\n\u001b[32m    524\u001b[39m \u001b[38;5;28;01mif\u001b[39;00m convert_to_nested:\n\u001b[32m    525\u001b[39m     output = output.to_padded_tensor(\u001b[32m0.0\u001b[39m, src.size())\n",
      "\u001b[36mFile \u001b[39m\u001b[32m~/Desktop/real_time_recsys/.venv/lib/python3.11/site-packages/torch/nn/modules/module.py:1739\u001b[39m, in \u001b[36mModule._wrapped_call_impl\u001b[39m\u001b[34m(self, *args, **kwargs)\u001b[39m\n\u001b[32m   1737\u001b[39m     \u001b[38;5;28;01mreturn\u001b[39;00m \u001b[38;5;28mself\u001b[39m._compiled_call_impl(*args, **kwargs)  \u001b[38;5;66;03m# type: ignore[misc]\u001b[39;00m\n\u001b[32m   1738\u001b[39m \u001b[38;5;28;01melse\u001b[39;00m:\n\u001b[32m-> \u001b[39m\u001b[32m1739\u001b[39m     \u001b[38;5;28;01mreturn\u001b[39;00m \u001b[38;5;28;43mself\u001b[39;49m\u001b[43m.\u001b[49m\u001b[43m_call_impl\u001b[49m\u001b[43m(\u001b[49m\u001b[43m*\u001b[49m\u001b[43margs\u001b[49m\u001b[43m,\u001b[49m\u001b[43m \u001b[49m\u001b[43m*\u001b[49m\u001b[43m*\u001b[49m\u001b[43mkwargs\u001b[49m\u001b[43m)\u001b[49m\n",
      "\u001b[36mFile \u001b[39m\u001b[32m~/Desktop/real_time_recsys/.venv/lib/python3.11/site-packages/torch/nn/modules/module.py:1750\u001b[39m, in \u001b[36mModule._call_impl\u001b[39m\u001b[34m(self, *args, **kwargs)\u001b[39m\n\u001b[32m   1745\u001b[39m \u001b[38;5;66;03m# If we don't have any hooks, we want to skip the rest of the logic in\u001b[39;00m\n\u001b[32m   1746\u001b[39m \u001b[38;5;66;03m# this function, and just call forward.\u001b[39;00m\n\u001b[32m   1747\u001b[39m \u001b[38;5;28;01mif\u001b[39;00m \u001b[38;5;129;01mnot\u001b[39;00m (\u001b[38;5;28mself\u001b[39m._backward_hooks \u001b[38;5;129;01mor\u001b[39;00m \u001b[38;5;28mself\u001b[39m._backward_pre_hooks \u001b[38;5;129;01mor\u001b[39;00m \u001b[38;5;28mself\u001b[39m._forward_hooks \u001b[38;5;129;01mor\u001b[39;00m \u001b[38;5;28mself\u001b[39m._forward_pre_hooks\n\u001b[32m   1748\u001b[39m         \u001b[38;5;129;01mor\u001b[39;00m _global_backward_pre_hooks \u001b[38;5;129;01mor\u001b[39;00m _global_backward_hooks\n\u001b[32m   1749\u001b[39m         \u001b[38;5;129;01mor\u001b[39;00m _global_forward_hooks \u001b[38;5;129;01mor\u001b[39;00m _global_forward_pre_hooks):\n\u001b[32m-> \u001b[39m\u001b[32m1750\u001b[39m     \u001b[38;5;28;01mreturn\u001b[39;00m \u001b[43mforward_call\u001b[49m\u001b[43m(\u001b[49m\u001b[43m*\u001b[49m\u001b[43margs\u001b[49m\u001b[43m,\u001b[49m\u001b[43m \u001b[49m\u001b[43m*\u001b[49m\u001b[43m*\u001b[49m\u001b[43mkwargs\u001b[49m\u001b[43m)\u001b[49m\n\u001b[32m   1752\u001b[39m result = \u001b[38;5;28;01mNone\u001b[39;00m\n\u001b[32m   1753\u001b[39m called_always_called_hooks = \u001b[38;5;28mset\u001b[39m()\n",
      "\u001b[36mFile \u001b[39m\u001b[32m~/Desktop/real_time_recsys/.venv/lib/python3.11/site-packages/torch/nn/modules/transformer.py:920\u001b[39m, in \u001b[36mTransformerEncoderLayer.forward\u001b[39m\u001b[34m(self, src, src_mask, src_key_padding_mask, is_causal)\u001b[39m\n\u001b[32m    916\u001b[39m     x = x + \u001b[38;5;28mself\u001b[39m._ff_block(\u001b[38;5;28mself\u001b[39m.norm2(x))\n\u001b[32m    917\u001b[39m \u001b[38;5;28;01melse\u001b[39;00m:\n\u001b[32m    918\u001b[39m     x = \u001b[38;5;28mself\u001b[39m.norm1(\n\u001b[32m    919\u001b[39m         x\n\u001b[32m--> \u001b[39m\u001b[32m920\u001b[39m         + \u001b[38;5;28;43mself\u001b[39;49m\u001b[43m.\u001b[49m\u001b[43m_sa_block\u001b[49m\u001b[43m(\u001b[49m\u001b[43mx\u001b[49m\u001b[43m,\u001b[49m\u001b[43m \u001b[49m\u001b[43msrc_mask\u001b[49m\u001b[43m,\u001b[49m\u001b[43m \u001b[49m\u001b[43msrc_key_padding_mask\u001b[49m\u001b[43m,\u001b[49m\u001b[43m \u001b[49m\u001b[43mis_causal\u001b[49m\u001b[43m=\u001b[49m\u001b[43mis_causal\u001b[49m\u001b[43m)\u001b[49m\n\u001b[32m    921\u001b[39m     )\n\u001b[32m    922\u001b[39m     x = \u001b[38;5;28mself\u001b[39m.norm2(x + \u001b[38;5;28mself\u001b[39m._ff_block(x))\n\u001b[32m    924\u001b[39m \u001b[38;5;28;01mreturn\u001b[39;00m x\n",
      "\u001b[36mFile \u001b[39m\u001b[32m~/Desktop/real_time_recsys/.venv/lib/python3.11/site-packages/torch/nn/modules/transformer.py:934\u001b[39m, in \u001b[36mTransformerEncoderLayer._sa_block\u001b[39m\u001b[34m(self, x, attn_mask, key_padding_mask, is_causal)\u001b[39m\n\u001b[32m    927\u001b[39m \u001b[38;5;28;01mdef\u001b[39;00m\u001b[38;5;250m \u001b[39m\u001b[34m_sa_block\u001b[39m(\n\u001b[32m    928\u001b[39m     \u001b[38;5;28mself\u001b[39m,\n\u001b[32m    929\u001b[39m     x: Tensor,\n\u001b[32m   (...)\u001b[39m\u001b[32m    932\u001b[39m     is_causal: \u001b[38;5;28mbool\u001b[39m = \u001b[38;5;28;01mFalse\u001b[39;00m,\n\u001b[32m    933\u001b[39m ) -> Tensor:\n\u001b[32m--> \u001b[39m\u001b[32m934\u001b[39m     x = \u001b[38;5;28;43mself\u001b[39;49m\u001b[43m.\u001b[49m\u001b[43mself_attn\u001b[49m\u001b[43m(\u001b[49m\n\u001b[32m    935\u001b[39m \u001b[43m        \u001b[49m\u001b[43mx\u001b[49m\u001b[43m,\u001b[49m\n\u001b[32m    936\u001b[39m \u001b[43m        \u001b[49m\u001b[43mx\u001b[49m\u001b[43m,\u001b[49m\n\u001b[32m    937\u001b[39m \u001b[43m        \u001b[49m\u001b[43mx\u001b[49m\u001b[43m,\u001b[49m\n\u001b[32m    938\u001b[39m \u001b[43m        \u001b[49m\u001b[43mattn_mask\u001b[49m\u001b[43m=\u001b[49m\u001b[43mattn_mask\u001b[49m\u001b[43m,\u001b[49m\n\u001b[32m    939\u001b[39m \u001b[43m        \u001b[49m\u001b[43mkey_padding_mask\u001b[49m\u001b[43m=\u001b[49m\u001b[43mkey_padding_mask\u001b[49m\u001b[43m,\u001b[49m\n\u001b[32m    940\u001b[39m \u001b[43m        \u001b[49m\u001b[43mneed_weights\u001b[49m\u001b[43m=\u001b[49m\u001b[38;5;28;43;01mFalse\u001b[39;49;00m\u001b[43m,\u001b[49m\n\u001b[32m    941\u001b[39m \u001b[43m        \u001b[49m\u001b[43mis_causal\u001b[49m\u001b[43m=\u001b[49m\u001b[43mis_causal\u001b[49m\u001b[43m,\u001b[49m\n\u001b[32m    942\u001b[39m \u001b[43m    \u001b[49m\u001b[43m)\u001b[49m[\u001b[32m0\u001b[39m]\n\u001b[32m    943\u001b[39m     \u001b[38;5;28;01mreturn\u001b[39;00m \u001b[38;5;28mself\u001b[39m.dropout1(x)\n",
      "\u001b[36mFile \u001b[39m\u001b[32m~/Desktop/real_time_recsys/.venv/lib/python3.11/site-packages/torch/nn/modules/module.py:1739\u001b[39m, in \u001b[36mModule._wrapped_call_impl\u001b[39m\u001b[34m(self, *args, **kwargs)\u001b[39m\n\u001b[32m   1737\u001b[39m     \u001b[38;5;28;01mreturn\u001b[39;00m \u001b[38;5;28mself\u001b[39m._compiled_call_impl(*args, **kwargs)  \u001b[38;5;66;03m# type: ignore[misc]\u001b[39;00m\n\u001b[32m   1738\u001b[39m \u001b[38;5;28;01melse\u001b[39;00m:\n\u001b[32m-> \u001b[39m\u001b[32m1739\u001b[39m     \u001b[38;5;28;01mreturn\u001b[39;00m \u001b[38;5;28;43mself\u001b[39;49m\u001b[43m.\u001b[49m\u001b[43m_call_impl\u001b[49m\u001b[43m(\u001b[49m\u001b[43m*\u001b[49m\u001b[43margs\u001b[49m\u001b[43m,\u001b[49m\u001b[43m \u001b[49m\u001b[43m*\u001b[49m\u001b[43m*\u001b[49m\u001b[43mkwargs\u001b[49m\u001b[43m)\u001b[49m\n",
      "\u001b[36mFile \u001b[39m\u001b[32m~/Desktop/real_time_recsys/.venv/lib/python3.11/site-packages/torch/nn/modules/module.py:1750\u001b[39m, in \u001b[36mModule._call_impl\u001b[39m\u001b[34m(self, *args, **kwargs)\u001b[39m\n\u001b[32m   1745\u001b[39m \u001b[38;5;66;03m# If we don't have any hooks, we want to skip the rest of the logic in\u001b[39;00m\n\u001b[32m   1746\u001b[39m \u001b[38;5;66;03m# this function, and just call forward.\u001b[39;00m\n\u001b[32m   1747\u001b[39m \u001b[38;5;28;01mif\u001b[39;00m \u001b[38;5;129;01mnot\u001b[39;00m (\u001b[38;5;28mself\u001b[39m._backward_hooks \u001b[38;5;129;01mor\u001b[39;00m \u001b[38;5;28mself\u001b[39m._backward_pre_hooks \u001b[38;5;129;01mor\u001b[39;00m \u001b[38;5;28mself\u001b[39m._forward_hooks \u001b[38;5;129;01mor\u001b[39;00m \u001b[38;5;28mself\u001b[39m._forward_pre_hooks\n\u001b[32m   1748\u001b[39m         \u001b[38;5;129;01mor\u001b[39;00m _global_backward_pre_hooks \u001b[38;5;129;01mor\u001b[39;00m _global_backward_hooks\n\u001b[32m   1749\u001b[39m         \u001b[38;5;129;01mor\u001b[39;00m _global_forward_hooks \u001b[38;5;129;01mor\u001b[39;00m _global_forward_pre_hooks):\n\u001b[32m-> \u001b[39m\u001b[32m1750\u001b[39m     \u001b[38;5;28;01mreturn\u001b[39;00m \u001b[43mforward_call\u001b[49m\u001b[43m(\u001b[49m\u001b[43m*\u001b[49m\u001b[43margs\u001b[49m\u001b[43m,\u001b[49m\u001b[43m \u001b[49m\u001b[43m*\u001b[49m\u001b[43m*\u001b[49m\u001b[43mkwargs\u001b[49m\u001b[43m)\u001b[49m\n\u001b[32m   1752\u001b[39m result = \u001b[38;5;28;01mNone\u001b[39;00m\n\u001b[32m   1753\u001b[39m called_always_called_hooks = \u001b[38;5;28mset\u001b[39m()\n",
      "\u001b[36mFile \u001b[39m\u001b[32m~/Desktop/real_time_recsys/.venv/lib/python3.11/site-packages/torch/nn/modules/activation.py:1373\u001b[39m, in \u001b[36mMultiheadAttention.forward\u001b[39m\u001b[34m(self, query, key, value, key_padding_mask, need_weights, attn_mask, average_attn_weights, is_causal)\u001b[39m\n\u001b[32m   1347\u001b[39m     attn_output, attn_output_weights = F.multi_head_attention_forward(\n\u001b[32m   1348\u001b[39m         query,\n\u001b[32m   1349\u001b[39m         key,\n\u001b[32m   (...)\u001b[39m\u001b[32m   1370\u001b[39m         is_causal=is_causal,\n\u001b[32m   1371\u001b[39m     )\n\u001b[32m   1372\u001b[39m \u001b[38;5;28;01melse\u001b[39;00m:\n\u001b[32m-> \u001b[39m\u001b[32m1373\u001b[39m     attn_output, attn_output_weights = \u001b[43mF\u001b[49m\u001b[43m.\u001b[49m\u001b[43mmulti_head_attention_forward\u001b[49m\u001b[43m(\u001b[49m\n\u001b[32m   1374\u001b[39m \u001b[43m        \u001b[49m\u001b[43mquery\u001b[49m\u001b[43m,\u001b[49m\n\u001b[32m   1375\u001b[39m \u001b[43m        \u001b[49m\u001b[43mkey\u001b[49m\u001b[43m,\u001b[49m\n\u001b[32m   1376\u001b[39m \u001b[43m        \u001b[49m\u001b[43mvalue\u001b[49m\u001b[43m,\u001b[49m\n\u001b[32m   1377\u001b[39m \u001b[43m        \u001b[49m\u001b[38;5;28;43mself\u001b[39;49m\u001b[43m.\u001b[49m\u001b[43membed_dim\u001b[49m\u001b[43m,\u001b[49m\n\u001b[32m   1378\u001b[39m \u001b[43m        \u001b[49m\u001b[38;5;28;43mself\u001b[39;49m\u001b[43m.\u001b[49m\u001b[43mnum_heads\u001b[49m\u001b[43m,\u001b[49m\n\u001b[32m   1379\u001b[39m \u001b[43m        \u001b[49m\u001b[38;5;28;43mself\u001b[39;49m\u001b[43m.\u001b[49m\u001b[43min_proj_weight\u001b[49m\u001b[43m,\u001b[49m\n\u001b[32m   1380\u001b[39m \u001b[43m        \u001b[49m\u001b[38;5;28;43mself\u001b[39;49m\u001b[43m.\u001b[49m\u001b[43min_proj_bias\u001b[49m\u001b[43m,\u001b[49m\n\u001b[32m   1381\u001b[39m \u001b[43m        \u001b[49m\u001b[38;5;28;43mself\u001b[39;49m\u001b[43m.\u001b[49m\u001b[43mbias_k\u001b[49m\u001b[43m,\u001b[49m\n\u001b[32m   1382\u001b[39m \u001b[43m        \u001b[49m\u001b[38;5;28;43mself\u001b[39;49m\u001b[43m.\u001b[49m\u001b[43mbias_v\u001b[49m\u001b[43m,\u001b[49m\n\u001b[32m   1383\u001b[39m \u001b[43m        \u001b[49m\u001b[38;5;28;43mself\u001b[39;49m\u001b[43m.\u001b[49m\u001b[43madd_zero_attn\u001b[49m\u001b[43m,\u001b[49m\n\u001b[32m   1384\u001b[39m \u001b[43m        \u001b[49m\u001b[38;5;28;43mself\u001b[39;49m\u001b[43m.\u001b[49m\u001b[43mdropout\u001b[49m\u001b[43m,\u001b[49m\n\u001b[32m   1385\u001b[39m \u001b[43m        \u001b[49m\u001b[38;5;28;43mself\u001b[39;49m\u001b[43m.\u001b[49m\u001b[43mout_proj\u001b[49m\u001b[43m.\u001b[49m\u001b[43mweight\u001b[49m\u001b[43m,\u001b[49m\n\u001b[32m   1386\u001b[39m \u001b[43m        \u001b[49m\u001b[38;5;28;43mself\u001b[39;49m\u001b[43m.\u001b[49m\u001b[43mout_proj\u001b[49m\u001b[43m.\u001b[49m\u001b[43mbias\u001b[49m\u001b[43m,\u001b[49m\n\u001b[32m   1387\u001b[39m \u001b[43m        \u001b[49m\u001b[43mtraining\u001b[49m\u001b[43m=\u001b[49m\u001b[38;5;28;43mself\u001b[39;49m\u001b[43m.\u001b[49m\u001b[43mtraining\u001b[49m\u001b[43m,\u001b[49m\n\u001b[32m   1388\u001b[39m \u001b[43m        \u001b[49m\u001b[43mkey_padding_mask\u001b[49m\u001b[43m=\u001b[49m\u001b[43mkey_padding_mask\u001b[49m\u001b[43m,\u001b[49m\n\u001b[32m   1389\u001b[39m \u001b[43m        \u001b[49m\u001b[43mneed_weights\u001b[49m\u001b[43m=\u001b[49m\u001b[43mneed_weights\u001b[49m\u001b[43m,\u001b[49m\n\u001b[32m   1390\u001b[39m \u001b[43m        \u001b[49m\u001b[43mattn_mask\u001b[49m\u001b[43m=\u001b[49m\u001b[43mattn_mask\u001b[49m\u001b[43m,\u001b[49m\n\u001b[32m   1391\u001b[39m \u001b[43m        \u001b[49m\u001b[43maverage_attn_weights\u001b[49m\u001b[43m=\u001b[49m\u001b[43maverage_attn_weights\u001b[49m\u001b[43m,\u001b[49m\n\u001b[32m   1392\u001b[39m \u001b[43m        \u001b[49m\u001b[43mis_causal\u001b[49m\u001b[43m=\u001b[49m\u001b[43mis_causal\u001b[49m\u001b[43m,\u001b[49m\n\u001b[32m   1393\u001b[39m \u001b[43m    \u001b[49m\u001b[43m)\u001b[49m\n\u001b[32m   1394\u001b[39m \u001b[38;5;28;01mif\u001b[39;00m \u001b[38;5;28mself\u001b[39m.batch_first \u001b[38;5;129;01mand\u001b[39;00m is_batched:\n\u001b[32m   1395\u001b[39m     \u001b[38;5;28;01mreturn\u001b[39;00m attn_output.transpose(\u001b[32m1\u001b[39m, \u001b[32m0\u001b[39m), attn_output_weights\n",
      "\u001b[36mFile \u001b[39m\u001b[32m~/Desktop/real_time_recsys/.venv/lib/python3.11/site-packages/torch/nn/functional.py:6230\u001b[39m, in \u001b[36mmulti_head_attention_forward\u001b[39m\u001b[34m(query, key, value, embed_dim_to_check, num_heads, in_proj_weight, in_proj_bias, bias_k, bias_v, add_zero_attn, dropout_p, out_proj_weight, out_proj_bias, training, key_padding_mask, need_weights, attn_mask, use_separate_proj_weight, q_proj_weight, k_proj_weight, v_proj_weight, static_k, static_v, average_attn_weights, is_causal)\u001b[39m\n\u001b[32m   6226\u001b[39m \u001b[38;5;28;01mif\u001b[39;00m \u001b[38;5;129;01mnot\u001b[39;00m use_separate_proj_weight:\n\u001b[32m   6227\u001b[39m     \u001b[38;5;28;01massert\u001b[39;00m (\n\u001b[32m   6228\u001b[39m         in_proj_weight \u001b[38;5;129;01mis\u001b[39;00m \u001b[38;5;129;01mnot\u001b[39;00m \u001b[38;5;28;01mNone\u001b[39;00m\n\u001b[32m   6229\u001b[39m     ), \u001b[33m\"\u001b[39m\u001b[33muse_separate_proj_weight is False but in_proj_weight is None\u001b[39m\u001b[33m\"\u001b[39m\n\u001b[32m-> \u001b[39m\u001b[32m6230\u001b[39m     q, k, v = \u001b[43m_in_projection_packed\u001b[49m\u001b[43m(\u001b[49m\u001b[43mquery\u001b[49m\u001b[43m,\u001b[49m\u001b[43m \u001b[49m\u001b[43mkey\u001b[49m\u001b[43m,\u001b[49m\u001b[43m \u001b[49m\u001b[43mvalue\u001b[49m\u001b[43m,\u001b[49m\u001b[43m \u001b[49m\u001b[43min_proj_weight\u001b[49m\u001b[43m,\u001b[49m\u001b[43m \u001b[49m\u001b[43min_proj_bias\u001b[49m\u001b[43m)\u001b[49m\n\u001b[32m   6231\u001b[39m \u001b[38;5;28;01melse\u001b[39;00m:\n\u001b[32m   6232\u001b[39m     \u001b[38;5;28;01massert\u001b[39;00m (\n\u001b[32m   6233\u001b[39m         q_proj_weight \u001b[38;5;129;01mis\u001b[39;00m \u001b[38;5;129;01mnot\u001b[39;00m \u001b[38;5;28;01mNone\u001b[39;00m\n\u001b[32m   6234\u001b[39m     ), \u001b[33m\"\u001b[39m\u001b[33muse_separate_proj_weight is True but q_proj_weight is None\u001b[39m\u001b[33m\"\u001b[39m\n",
      "\u001b[36mFile \u001b[39m\u001b[32m~/Desktop/real_time_recsys/.venv/lib/python3.11/site-packages/torch/nn/functional.py:5614\u001b[39m, in \u001b[36m_in_projection_packed\u001b[39m\u001b[34m(q, k, v, w, b)\u001b[39m\n\u001b[32m   5611\u001b[39m \u001b[38;5;28;01mif\u001b[39;00m k \u001b[38;5;129;01mis\u001b[39;00m v:\n\u001b[32m   5612\u001b[39m     \u001b[38;5;28;01mif\u001b[39;00m q \u001b[38;5;129;01mis\u001b[39;00m k:\n\u001b[32m   5613\u001b[39m         \u001b[38;5;66;03m# self-attention\u001b[39;00m\n\u001b[32m-> \u001b[39m\u001b[32m5614\u001b[39m         proj = \u001b[43mlinear\u001b[49m\u001b[43m(\u001b[49m\u001b[43mq\u001b[49m\u001b[43m,\u001b[49m\u001b[43m \u001b[49m\u001b[43mw\u001b[49m\u001b[43m,\u001b[49m\u001b[43m \u001b[49m\u001b[43mb\u001b[49m\u001b[43m)\u001b[49m\n\u001b[32m   5615\u001b[39m         \u001b[38;5;66;03m# reshape to 3, E and not E, 3 is deliberate for better memory coalescing and keeping same order as chunk()\u001b[39;00m\n\u001b[32m   5616\u001b[39m         proj = (\n\u001b[32m   5617\u001b[39m             proj.unflatten(-\u001b[32m1\u001b[39m, (\u001b[32m3\u001b[39m, E))\n\u001b[32m   5618\u001b[39m             .unsqueeze(\u001b[32m0\u001b[39m)\n\u001b[32m   (...)\u001b[39m\u001b[32m   5621\u001b[39m             .contiguous()\n\u001b[32m   5622\u001b[39m         )\n",
      "\u001b[31mOutOfMemoryError\u001b[39m: CUDA out of memory. Tried to allocate 306.00 MiB. GPU 0 has a total capacity of 3.69 GiB of which 274.94 MiB is free. Process 101552 has 100.00 MiB memory in use. Process 105495 has 100.00 MiB memory in use. Process 107065 has 100.00 MiB memory in use. Process 108859 has 204.00 MiB memory in use. Process 412817 has 80.00 MiB memory in use. Process 412227 has 204.00 MiB memory in use. Process 452652 has 1.06 GiB memory in use. Including non-PyTorch memory, this process has 1.54 GiB memory in use. Of the allocated memory 1.40 GiB is allocated by PyTorch, and 41.54 MiB is reserved by PyTorch but unallocated. If reserved but unallocated memory is large try setting PYTORCH_CUDA_ALLOC_CONF=expandable_segments:True to avoid fragmentation.  See documentation for Memory Management  (https://pytorch.org/docs/stable/notes/cuda.html#environment-variables)"
     ]
    }
   ],
   "source": [
    "users = torch.tensor(val_user_indices, device=args.device)\n",
    "item_sequences = torch.tensor(val_item_sequences, device=args.device)\n",
    "items = torch.tensor(val_item_indices, device=args.device)\n",
    "classifications = best_model.predict(users, item_sequences, items)"
   ]
  },
  {
   "cell_type": "code",
   "execution_count": null,
   "metadata": {},
   "outputs": [
    {
     "data": {
      "text/plain": [
       "torch.Size([10437, 1])"
      ]
     },
     "execution_count": 53,
     "metadata": {},
     "output_type": "execute_result"
    }
   ],
   "source": [
    "classifications.shape"
   ]
  },
  {
   "cell_type": "code",
   "execution_count": null,
   "metadata": {},
   "outputs": [],
   "source": [
    "eval_classification_df = val_df.assign(\n",
    "    classification_proba=classifications.cpu().detach().numpy(),\n",
    "    label=lambda df: df[args.rating_col].gt(0).astype(int),\n",
    ")"
   ]
  },
  {
   "cell_type": "code",
   "execution_count": null,
   "metadata": {},
   "outputs": [
    {
     "data": {
      "text/html": [
       "<div>\n",
       "<style scoped>\n",
       "    .dataframe tbody tr th:only-of-type {\n",
       "        vertical-align: middle;\n",
       "    }\n",
       "\n",
       "    .dataframe tbody tr th {\n",
       "        vertical-align: top;\n",
       "    }\n",
       "\n",
       "    .dataframe thead th {\n",
       "        text-align: right;\n",
       "    }\n",
       "</style>\n",
       "<table border=\"1\" class=\"dataframe\">\n",
       "  <thead>\n",
       "    <tr style=\"text-align: right;\">\n",
       "      <th></th>\n",
       "      <th>user_id</th>\n",
       "      <th>parent_asin</th>\n",
       "      <th>rating</th>\n",
       "      <th>timestamp</th>\n",
       "      <th>user_indice</th>\n",
       "      <th>item_indice</th>\n",
       "      <th>item_sequence</th>\n",
       "      <th>classification_proba</th>\n",
       "      <th>label</th>\n",
       "    </tr>\n",
       "  </thead>\n",
       "  <tbody>\n",
       "    <tr>\n",
       "      <th>129609</th>\n",
       "      <td>AGYYEQ2BPGILFTNVVZGEEK4AP5QA</td>\n",
       "      <td>B0854CTL5N</td>\n",
       "      <td>5.0</td>\n",
       "      <td>2021-08-10 01:19:51.147</td>\n",
       "      <td>12109</td>\n",
       "      <td>3857</td>\n",
       "      <td>[-1, -1, 2822, 3056, 4462, 2519, 1791, 1396, 2...</td>\n",
       "      <td>0.834647</td>\n",
       "      <td>1</td>\n",
       "    </tr>\n",
       "    <tr>\n",
       "      <th>391795</th>\n",
       "      <td>AFSU64CATRPYNY6C6PCI6FGKCJ4Q</td>\n",
       "      <td>B0C1Z2FM57</td>\n",
       "      <td>0.0</td>\n",
       "      <td>2021-12-24 19:34:06.504</td>\n",
       "      <td>7275</td>\n",
       "      <td>3944</td>\n",
       "      <td>[-1, 394, 3954, 1498, 2648, 3731, 4611, 1682, ...</td>\n",
       "      <td>0.301493</td>\n",
       "      <td>0</td>\n",
       "    </tr>\n",
       "    <tr>\n",
       "      <th>128128</th>\n",
       "      <td>AHP6PY4J6DB72JLOALVFWIOZ6EHA</td>\n",
       "      <td>B0B4SWZTZ1</td>\n",
       "      <td>1.0</td>\n",
       "      <td>2021-02-23 00:36:06.416</td>\n",
       "      <td>15029</td>\n",
       "      <td>4413</td>\n",
       "      <td>[-1, -1, -1, 1280, 2811, 3304, 3153, 3188, 478...</td>\n",
       "      <td>0.823260</td>\n",
       "      <td>1</td>\n",
       "    </tr>\n",
       "  </tbody>\n",
       "</table>\n",
       "</div>"
      ],
      "text/plain": [
       "                             user_id parent_asin  rating  \\\n",
       "129609  AGYYEQ2BPGILFTNVVZGEEK4AP5QA  B0854CTL5N     5.0   \n",
       "391795  AFSU64CATRPYNY6C6PCI6FGKCJ4Q  B0C1Z2FM57     0.0   \n",
       "128128  AHP6PY4J6DB72JLOALVFWIOZ6EHA  B0B4SWZTZ1     1.0   \n",
       "\n",
       "                     timestamp  user_indice  item_indice  \\\n",
       "129609 2021-08-10 01:19:51.147        12109         3857   \n",
       "391795 2021-12-24 19:34:06.504         7275         3944   \n",
       "128128 2021-02-23 00:36:06.416        15029         4413   \n",
       "\n",
       "                                            item_sequence  \\\n",
       "129609  [-1, -1, 2822, 3056, 4462, 2519, 1791, 1396, 2...   \n",
       "391795  [-1, 394, 3954, 1498, 2648, 3731, 4611, 1682, ...   \n",
       "128128  [-1, -1, -1, 1280, 2811, 3304, 3153, 3188, 478...   \n",
       "\n",
       "        classification_proba  label  \n",
       "129609              0.834647      1  \n",
       "391795              0.301493      0  \n",
       "128128              0.823260      1  "
      ]
     },
     "execution_count": 55,
     "metadata": {},
     "output_type": "execute_result"
    }
   ],
   "source": [
    "eval_classification_df.head(3)"
   ]
  },
  {
   "cell_type": "code",
   "execution_count": null,
   "metadata": {},
   "outputs": [],
   "source": [
    "classification_report = log_classification_metrics(\n",
    "    args,\n",
    "    eval_classification_df,\n",
    "    target_col=\"label\",\n",
    "    prediction_col=\"classification_proba\",\n",
    ")"
   ]
  },
  {
   "cell_type": "markdown",
   "metadata": {},
   "source": [
    "### Ranking metrics"
   ]
  },
  {
   "cell_type": "code",
   "execution_count": null,
   "metadata": {},
   "outputs": [
    {
     "data": {
      "text/html": [
       "<div>\n",
       "<style scoped>\n",
       "    .dataframe tbody tr th:only-of-type {\n",
       "        vertical-align: middle;\n",
       "    }\n",
       "\n",
       "    .dataframe tbody tr th {\n",
       "        vertical-align: top;\n",
       "    }\n",
       "\n",
       "    .dataframe thead th {\n",
       "        text-align: right;\n",
       "    }\n",
       "</style>\n",
       "<table border=\"1\" class=\"dataframe\">\n",
       "  <thead>\n",
       "    <tr style=\"text-align: right;\">\n",
       "      <th></th>\n",
       "      <th>user_id</th>\n",
       "      <th>parent_asin</th>\n",
       "      <th>rating</th>\n",
       "      <th>timestamp</th>\n",
       "      <th>user_indice</th>\n",
       "      <th>item_indice</th>\n",
       "      <th>item_sequence</th>\n",
       "    </tr>\n",
       "  </thead>\n",
       "  <tbody>\n",
       "    <tr>\n",
       "      <th>127392</th>\n",
       "      <td>AGSP5XAQPQBUUXZHEZSC65FD7NOQ</td>\n",
       "      <td>B004FV4ROA</td>\n",
       "      <td>1.0</td>\n",
       "      <td>2020-12-27 00:30:31.146</td>\n",
       "      <td>11295</td>\n",
       "      <td>528</td>\n",
       "      <td>[1715, 2537, 3743, 506, 4490, 3479, 3908, 2723...</td>\n",
       "    </tr>\n",
       "    <tr>\n",
       "      <th>385658</th>\n",
       "      <td>AEHS7YR7BGGWMZS24H5UR5IP46HQ</td>\n",
       "      <td>B08F1P3BCC</td>\n",
       "      <td>0.0</td>\n",
       "      <td>2020-12-27 01:44:52.242</td>\n",
       "      <td>1784</td>\n",
       "      <td>4451</td>\n",
       "      <td>[-1, -1, -1, -1, -1, 3382, 4330, 423, 3167, 2677]</td>\n",
       "    </tr>\n",
       "    <tr>\n",
       "      <th>385660</th>\n",
       "      <td>AGAVHCK42EGMVS7DGPRX6HBCUCNQ</td>\n",
       "      <td>B09Q3NR84W</td>\n",
       "      <td>0.0</td>\n",
       "      <td>2020-12-27 02:25:48.357</td>\n",
       "      <td>9042</td>\n",
       "      <td>4650</td>\n",
       "      <td>[-1, -1, -1, -1, 3104, 1416, 3743, 2694, 3612,...</td>\n",
       "    </tr>\n",
       "    <tr>\n",
       "      <th>385662</th>\n",
       "      <td>AEFVBMCJAFNULDI5V2CKKTBCPURA</td>\n",
       "      <td>B07N1L5HX1</td>\n",
       "      <td>0.0</td>\n",
       "      <td>2020-12-27 02:32:15.171</td>\n",
       "      <td>1542</td>\n",
       "      <td>2677</td>\n",
       "      <td>[-1, -1, -1, -1, -1, 1320, 2162, 2472, 2694, 3...</td>\n",
       "    </tr>\n",
       "    <tr>\n",
       "      <th>385664</th>\n",
       "      <td>AGLXMKHBLTBNT3X2CLBAPW6QUTQA</td>\n",
       "      <td>B0BB6Y5N3M</td>\n",
       "      <td>0.0</td>\n",
       "      <td>2020-12-27 03:37:22.772</td>\n",
       "      <td>10418</td>\n",
       "      <td>1230</td>\n",
       "      <td>[341, 3803, 4431, 1067, 4530, 4018, 2688, 4365...</td>\n",
       "    </tr>\n",
       "    <tr>\n",
       "      <th>...</th>\n",
       "      <td>...</td>\n",
       "      <td>...</td>\n",
       "      <td>...</td>\n",
       "      <td>...</td>\n",
       "      <td>...</td>\n",
       "      <td>...</td>\n",
       "      <td>...</td>\n",
       "    </tr>\n",
       "    <tr>\n",
       "      <th>130864</th>\n",
       "      <td>AGGDNWGN3NDJ2DI5CBSFOMUAM6XA</td>\n",
       "      <td>B083YHS7SV</td>\n",
       "      <td>4.0</td>\n",
       "      <td>2022-02-18 19:43:25.492</td>\n",
       "      <td>9711</td>\n",
       "      <td>3844</td>\n",
       "      <td>[-1, -1, -1, -1, 1019, 754, 2059, 413, 4262, 3...</td>\n",
       "    </tr>\n",
       "    <tr>\n",
       "      <th>392604</th>\n",
       "      <td>AEKUF6AOVWDWFYOKPWO2CV72PEDQ</td>\n",
       "      <td>B07QN33986</td>\n",
       "      <td>0.0</td>\n",
       "      <td>2022-02-19 01:32:51.519</td>\n",
       "      <td>2171</td>\n",
       "      <td>1860</td>\n",
       "      <td>[-1, -1, 2627, 4216, 4743, 1945, 2355, 1831, 9...</td>\n",
       "    </tr>\n",
       "    <tr>\n",
       "      <th>392606</th>\n",
       "      <td>AFBTD25HPE4BE4LUFV3DTI2E2N2A</td>\n",
       "      <td>B07TMJ8S5Z</td>\n",
       "      <td>0.0</td>\n",
       "      <td>2022-02-19 16:49:57.966</td>\n",
       "      <td>5159</td>\n",
       "      <td>3411</td>\n",
       "      <td>[-1, -1, -1, -1, 2260, 3517, 3609, 3495, 3625,...</td>\n",
       "    </tr>\n",
       "    <tr>\n",
       "      <th>392609</th>\n",
       "      <td>AHLN6GKTKZE22AON34YAQXTGK63A</td>\n",
       "      <td>B0C682GZ5X</td>\n",
       "      <td>0.0</td>\n",
       "      <td>2022-02-19 17:28:55.519</td>\n",
       "      <td>14550</td>\n",
       "      <td>4201</td>\n",
       "      <td>[-1, -1, -1, -1, -1, 1812, 4165, 4575, 4807, 374]</td>\n",
       "    </tr>\n",
       "    <tr>\n",
       "      <th>392611</th>\n",
       "      <td>AEMYBWDN67IB5IBTMHLHN76V4QHQ</td>\n",
       "      <td>B091K4WYD1</td>\n",
       "      <td>0.0</td>\n",
       "      <td>2022-02-19 22:08:53.253</td>\n",
       "      <td>2446</td>\n",
       "      <td>768</td>\n",
       "      <td>[2677, 1610, 2694, 3695, 4429, 3602, 4569, 365...</td>\n",
       "    </tr>\n",
       "  </tbody>\n",
       "</table>\n",
       "<p>2424 rows × 7 columns</p>\n",
       "</div>"
      ],
      "text/plain": [
       "                             user_id parent_asin  rating  \\\n",
       "127392  AGSP5XAQPQBUUXZHEZSC65FD7NOQ  B004FV4ROA     1.0   \n",
       "385658  AEHS7YR7BGGWMZS24H5UR5IP46HQ  B08F1P3BCC     0.0   \n",
       "385660  AGAVHCK42EGMVS7DGPRX6HBCUCNQ  B09Q3NR84W     0.0   \n",
       "385662  AEFVBMCJAFNULDI5V2CKKTBCPURA  B07N1L5HX1     0.0   \n",
       "385664  AGLXMKHBLTBNT3X2CLBAPW6QUTQA  B0BB6Y5N3M     0.0   \n",
       "...                              ...         ...     ...   \n",
       "130864  AGGDNWGN3NDJ2DI5CBSFOMUAM6XA  B083YHS7SV     4.0   \n",
       "392604  AEKUF6AOVWDWFYOKPWO2CV72PEDQ  B07QN33986     0.0   \n",
       "392606  AFBTD25HPE4BE4LUFV3DTI2E2N2A  B07TMJ8S5Z     0.0   \n",
       "392609  AHLN6GKTKZE22AON34YAQXTGK63A  B0C682GZ5X     0.0   \n",
       "392611  AEMYBWDN67IB5IBTMHLHN76V4QHQ  B091K4WYD1     0.0   \n",
       "\n",
       "                     timestamp  user_indice  item_indice  \\\n",
       "127392 2020-12-27 00:30:31.146        11295          528   \n",
       "385658 2020-12-27 01:44:52.242         1784         4451   \n",
       "385660 2020-12-27 02:25:48.357         9042         4650   \n",
       "385662 2020-12-27 02:32:15.171         1542         2677   \n",
       "385664 2020-12-27 03:37:22.772        10418         1230   \n",
       "...                        ...          ...          ...   \n",
       "130864 2022-02-18 19:43:25.492         9711         3844   \n",
       "392604 2022-02-19 01:32:51.519         2171         1860   \n",
       "392606 2022-02-19 16:49:57.966         5159         3411   \n",
       "392609 2022-02-19 17:28:55.519        14550         4201   \n",
       "392611 2022-02-19 22:08:53.253         2446          768   \n",
       "\n",
       "                                            item_sequence  \n",
       "127392  [1715, 2537, 3743, 506, 4490, 3479, 3908, 2723...  \n",
       "385658  [-1, -1, -1, -1, -1, 3382, 4330, 423, 3167, 2677]  \n",
       "385660  [-1, -1, -1, -1, 3104, 1416, 3743, 2694, 3612,...  \n",
       "385662  [-1, -1, -1, -1, -1, 1320, 2162, 2472, 2694, 3...  \n",
       "385664  [341, 3803, 4431, 1067, 4530, 4018, 2688, 4365...  \n",
       "...                                                   ...  \n",
       "130864  [-1, -1, -1, -1, 1019, 754, 2059, 413, 4262, 3...  \n",
       "392604  [-1, -1, 2627, 4216, 4743, 1945, 2355, 1831, 9...  \n",
       "392606  [-1, -1, -1, -1, 2260, 3517, 3609, 3495, 3625,...  \n",
       "392609  [-1, -1, -1, -1, -1, 1812, 4165, 4575, 4807, 374]  \n",
       "392611  [2677, 1610, 2694, 3695, 4429, 3602, 4569, 365...  \n",
       "\n",
       "[2424 rows x 7 columns]"
      ]
     },
     "execution_count": 57,
     "metadata": {},
     "output_type": "execute_result"
    }
   ],
   "source": [
    "val_recs_df"
   ]
  },
  {
   "cell_type": "code",
   "execution_count": null,
   "metadata": {},
   "outputs": [
    {
     "data": {
      "application/vnd.jupyter.widget-view+json": {
       "model_id": "4065134ebd0b4d4ea379b2cbed7baf1b",
       "version_major": 2,
       "version_minor": 0
      },
      "text/plain": [
       "Generating recommendations:   0%|          | 0/2424 [00:00<?, ?it/s]"
      ]
     },
     "metadata": {},
     "output_type": "display_data"
    }
   ],
   "source": [
    "recommendations = best_model.recommend(\n",
    "    torch.tensor(val_recs_df[\"user_indice\"].values, device=args.device),\n",
    "    torch.tensor(val_recs_df[\"item_sequence\"].values.tolist(), device=args.device),\n",
    "    k=args.top_K,\n",
    "    batch_size=1)"
   ]
  },
  {
   "cell_type": "code",
   "execution_count": null,
   "metadata": {},
   "outputs": [
    {
     "data": {
      "text/html": [
       "<div>\n",
       "<style scoped>\n",
       "    .dataframe tbody tr th:only-of-type {\n",
       "        vertical-align: middle;\n",
       "    }\n",
       "\n",
       "    .dataframe tbody tr th {\n",
       "        vertical-align: top;\n",
       "    }\n",
       "\n",
       "    .dataframe thead th {\n",
       "        text-align: right;\n",
       "    }\n",
       "</style>\n",
       "<table border=\"1\" class=\"dataframe\">\n",
       "  <thead>\n",
       "    <tr style=\"text-align: right;\">\n",
       "      <th></th>\n",
       "      <th>user_indice</th>\n",
       "      <th>recommendation</th>\n",
       "      <th>score</th>\n",
       "      <th>rec_ranking</th>\n",
       "      <th>user_id</th>\n",
       "      <th>parent_asin</th>\n",
       "    </tr>\n",
       "  </thead>\n",
       "  <tbody>\n",
       "    <tr>\n",
       "      <th>0</th>\n",
       "      <td>11295</td>\n",
       "      <td>3381</td>\n",
       "      <td>0.887306</td>\n",
       "      <td>1.0</td>\n",
       "      <td>AGSP5XAQPQBUUXZHEZSC65FD7NOQ</td>\n",
       "      <td>B07F4P3JH7</td>\n",
       "    </tr>\n",
       "    <tr>\n",
       "      <th>1</th>\n",
       "      <td>11295</td>\n",
       "      <td>3188</td>\n",
       "      <td>0.873093</td>\n",
       "      <td>2.0</td>\n",
       "      <td>AGSP5XAQPQBUUXZHEZSC65FD7NOQ</td>\n",
       "      <td>B0791TX5P5</td>\n",
       "    </tr>\n",
       "    <tr>\n",
       "      <th>2</th>\n",
       "      <td>11295</td>\n",
       "      <td>3557</td>\n",
       "      <td>0.869680</td>\n",
       "      <td>3.0</td>\n",
       "      <td>AGSP5XAQPQBUUXZHEZSC65FD7NOQ</td>\n",
       "      <td>B07N86MCD2</td>\n",
       "    </tr>\n",
       "    <tr>\n",
       "      <th>3</th>\n",
       "      <td>11295</td>\n",
       "      <td>3558</td>\n",
       "      <td>0.868753</td>\n",
       "      <td>4.0</td>\n",
       "      <td>AGSP5XAQPQBUUXZHEZSC65FD7NOQ</td>\n",
       "      <td>B07N8VFFNS</td>\n",
       "    </tr>\n",
       "    <tr>\n",
       "      <th>4</th>\n",
       "      <td>11295</td>\n",
       "      <td>3195</td>\n",
       "      <td>0.867032</td>\n",
       "      <td>5.0</td>\n",
       "      <td>AGSP5XAQPQBUUXZHEZSC65FD7NOQ</td>\n",
       "      <td>B0792K2BK6</td>\n",
       "    </tr>\n",
       "    <tr>\n",
       "      <th>...</th>\n",
       "      <td>...</td>\n",
       "      <td>...</td>\n",
       "      <td>...</td>\n",
       "      <td>...</td>\n",
       "      <td>...</td>\n",
       "      <td>...</td>\n",
       "    </tr>\n",
       "    <tr>\n",
       "      <th>242395</th>\n",
       "      <td>2446</td>\n",
       "      <td>2811</td>\n",
       "      <td>0.775475</td>\n",
       "      <td>96.0</td>\n",
       "      <td>AEMYBWDN67IB5IBTMHLHN76V4QHQ</td>\n",
       "      <td>B01MTF2Z37</td>\n",
       "    </tr>\n",
       "    <tr>\n",
       "      <th>242396</th>\n",
       "      <td>2446</td>\n",
       "      <td>3037</td>\n",
       "      <td>0.775374</td>\n",
       "      <td>97.0</td>\n",
       "      <td>AEMYBWDN67IB5IBTMHLHN76V4QHQ</td>\n",
       "      <td>B074HVY1GR</td>\n",
       "    </tr>\n",
       "    <tr>\n",
       "      <th>242397</th>\n",
       "      <td>2446</td>\n",
       "      <td>3590</td>\n",
       "      <td>0.775267</td>\n",
       "      <td>98.0</td>\n",
       "      <td>AEMYBWDN67IB5IBTMHLHN76V4QHQ</td>\n",
       "      <td>B07PHQ93TV</td>\n",
       "    </tr>\n",
       "    <tr>\n",
       "      <th>242398</th>\n",
       "      <td>2446</td>\n",
       "      <td>4565</td>\n",
       "      <td>0.775224</td>\n",
       "      <td>99.0</td>\n",
       "      <td>AEMYBWDN67IB5IBTMHLHN76V4QHQ</td>\n",
       "      <td>B0BMK6DC5W</td>\n",
       "    </tr>\n",
       "    <tr>\n",
       "      <th>242399</th>\n",
       "      <td>2446</td>\n",
       "      <td>2912</td>\n",
       "      <td>0.775210</td>\n",
       "      <td>100.0</td>\n",
       "      <td>AEMYBWDN67IB5IBTMHLHN76V4QHQ</td>\n",
       "      <td>B06XRTFG29</td>\n",
       "    </tr>\n",
       "  </tbody>\n",
       "</table>\n",
       "<p>242400 rows × 6 columns</p>\n",
       "</div>"
      ],
      "text/plain": [
       "        user_indice  recommendation     score  rec_ranking  \\\n",
       "0             11295            3381  0.887306          1.0   \n",
       "1             11295            3188  0.873093          2.0   \n",
       "2             11295            3557  0.869680          3.0   \n",
       "3             11295            3558  0.868753          4.0   \n",
       "4             11295            3195  0.867032          5.0   \n",
       "...             ...             ...       ...          ...   \n",
       "242395         2446            2811  0.775475         96.0   \n",
       "242396         2446            3037  0.775374         97.0   \n",
       "242397         2446            3590  0.775267         98.0   \n",
       "242398         2446            4565  0.775224         99.0   \n",
       "242399         2446            2912  0.775210        100.0   \n",
       "\n",
       "                             user_id parent_asin  \n",
       "0       AGSP5XAQPQBUUXZHEZSC65FD7NOQ  B07F4P3JH7  \n",
       "1       AGSP5XAQPQBUUXZHEZSC65FD7NOQ  B0791TX5P5  \n",
       "2       AGSP5XAQPQBUUXZHEZSC65FD7NOQ  B07N86MCD2  \n",
       "3       AGSP5XAQPQBUUXZHEZSC65FD7NOQ  B07N8VFFNS  \n",
       "4       AGSP5XAQPQBUUXZHEZSC65FD7NOQ  B0792K2BK6  \n",
       "...                              ...         ...  \n",
       "242395  AEMYBWDN67IB5IBTMHLHN76V4QHQ  B01MTF2Z37  \n",
       "242396  AEMYBWDN67IB5IBTMHLHN76V4QHQ  B074HVY1GR  \n",
       "242397  AEMYBWDN67IB5IBTMHLHN76V4QHQ  B07PHQ93TV  \n",
       "242398  AEMYBWDN67IB5IBTMHLHN76V4QHQ  B0BMK6DC5W  \n",
       "242399  AEMYBWDN67IB5IBTMHLHN76V4QHQ  B06XRTFG29  \n",
       "\n",
       "[242400 rows x 6 columns]"
      ]
     },
     "execution_count": 59,
     "metadata": {},
     "output_type": "execute_result"
    }
   ],
   "source": [
    "recommendations_df = pd.DataFrame(recommendations).pipe(\n",
    "    create_rec_df, idm, args.user_col, args.item_col\n",
    ")\n",
    "recommendations_df"
   ]
  },
  {
   "cell_type": "code",
   "execution_count": null,
   "metadata": {},
   "outputs": [
    {
     "data": {
      "text/html": [
       "<div>\n",
       "<style scoped>\n",
       "    .dataframe tbody tr th:only-of-type {\n",
       "        vertical-align: middle;\n",
       "    }\n",
       "\n",
       "    .dataframe tbody tr th {\n",
       "        vertical-align: top;\n",
       "    }\n",
       "\n",
       "    .dataframe thead th {\n",
       "        text-align: right;\n",
       "    }\n",
       "</style>\n",
       "<table border=\"1\" class=\"dataframe\">\n",
       "  <thead>\n",
       "    <tr style=\"text-align: right;\">\n",
       "      <th></th>\n",
       "      <th>user_id</th>\n",
       "      <th>parent_asin</th>\n",
       "      <th>rating</th>\n",
       "      <th>rating_rank</th>\n",
       "    </tr>\n",
       "  </thead>\n",
       "  <tbody>\n",
       "    <tr>\n",
       "      <th>128912</th>\n",
       "      <td>AG2EMAD6UILFF4ITMMKH2NEFTYHA</td>\n",
       "      <td>B0BZJGGX2T</td>\n",
       "      <td>5.0</td>\n",
       "      <td>1.0</td>\n",
       "    </tr>\n",
       "    <tr>\n",
       "      <th>127943</th>\n",
       "      <td>AHPI7N36W4JJYOAA6MBAGWTDF3FA</td>\n",
       "      <td>B072MKFNV6</td>\n",
       "      <td>4.0</td>\n",
       "      <td>1.0</td>\n",
       "    </tr>\n",
       "    <tr>\n",
       "      <th>129406</th>\n",
       "      <td>AGOBLEZGF5OSPDVTIMA3DPWAENGA</td>\n",
       "      <td>B07H65KP63</td>\n",
       "      <td>5.0</td>\n",
       "      <td>1.0</td>\n",
       "    </tr>\n",
       "    <tr>\n",
       "      <th>130173</th>\n",
       "      <td>AFXRWTDGQJIDOTGMCIZKH5QPK5KA</td>\n",
       "      <td>B00PKTU83U</td>\n",
       "      <td>5.0</td>\n",
       "      <td>1.0</td>\n",
       "    </tr>\n",
       "    <tr>\n",
       "      <th>128534</th>\n",
       "      <td>AHWDVLU5PTXMLD6PSJ2Z5Q3JP4OA</td>\n",
       "      <td>B0719SNR5N</td>\n",
       "      <td>3.0</td>\n",
       "      <td>1.0</td>\n",
       "    </tr>\n",
       "    <tr>\n",
       "      <th>...</th>\n",
       "      <td>...</td>\n",
       "      <td>...</td>\n",
       "      <td>...</td>\n",
       "      <td>...</td>\n",
       "    </tr>\n",
       "    <tr>\n",
       "      <th>386737</th>\n",
       "      <td>AEN2KQVSR5TWRXNQS3OTFT4EZQCA</td>\n",
       "      <td>B0BRT7XFM5</td>\n",
       "      <td>0.0</td>\n",
       "      <td>27.0</td>\n",
       "    </tr>\n",
       "    <tr>\n",
       "      <th>388052</th>\n",
       "      <td>AFKERAMSXU4MWO3H53R7DEFOHUVQ</td>\n",
       "      <td>B07G5YXYFL</td>\n",
       "      <td>0.0</td>\n",
       "      <td>27.0</td>\n",
       "    </tr>\n",
       "    <tr>\n",
       "      <th>388051</th>\n",
       "      <td>AFKERAMSXU4MWO3H53R7DEFOHUVQ</td>\n",
       "      <td>B07G5YXYFL</td>\n",
       "      <td>0.0</td>\n",
       "      <td>28.0</td>\n",
       "    </tr>\n",
       "    <tr>\n",
       "      <th>387885</th>\n",
       "      <td>AFKERAMSXU4MWO3H53R7DEFOHUVQ</td>\n",
       "      <td>B07ZZVX1F2</td>\n",
       "      <td>0.0</td>\n",
       "      <td>29.0</td>\n",
       "    </tr>\n",
       "    <tr>\n",
       "      <th>387886</th>\n",
       "      <td>AFKERAMSXU4MWO3H53R7DEFOHUVQ</td>\n",
       "      <td>B07ZZVX1F2</td>\n",
       "      <td>0.0</td>\n",
       "      <td>30.0</td>\n",
       "    </tr>\n",
       "  </tbody>\n",
       "</table>\n",
       "<p>10437 rows × 4 columns</p>\n",
       "</div>"
      ],
      "text/plain": [
       "                             user_id parent_asin  rating  rating_rank\n",
       "128912  AG2EMAD6UILFF4ITMMKH2NEFTYHA  B0BZJGGX2T     5.0          1.0\n",
       "127943  AHPI7N36W4JJYOAA6MBAGWTDF3FA  B072MKFNV6     4.0          1.0\n",
       "129406  AGOBLEZGF5OSPDVTIMA3DPWAENGA  B07H65KP63     5.0          1.0\n",
       "130173  AFXRWTDGQJIDOTGMCIZKH5QPK5KA  B00PKTU83U     5.0          1.0\n",
       "128534  AHWDVLU5PTXMLD6PSJ2Z5Q3JP4OA  B0719SNR5N     3.0          1.0\n",
       "...                              ...         ...     ...          ...\n",
       "386737  AEN2KQVSR5TWRXNQS3OTFT4EZQCA  B0BRT7XFM5     0.0         27.0\n",
       "388052  AFKERAMSXU4MWO3H53R7DEFOHUVQ  B07G5YXYFL     0.0         27.0\n",
       "388051  AFKERAMSXU4MWO3H53R7DEFOHUVQ  B07G5YXYFL     0.0         28.0\n",
       "387885  AFKERAMSXU4MWO3H53R7DEFOHUVQ  B07ZZVX1F2     0.0         29.0\n",
       "387886  AFKERAMSXU4MWO3H53R7DEFOHUVQ  B07ZZVX1F2     0.0         30.0\n",
       "\n",
       "[10437 rows x 4 columns]"
      ]
     },
     "execution_count": 60,
     "metadata": {},
     "output_type": "execute_result"
    }
   ],
   "source": [
    "label_df = create_label_df(\n",
    "    val_df,\n",
    "    user_col=args.user_col,\n",
    "    item_col=args.item_col,\n",
    "    rating_col=args.rating_col,\n",
    "    timestamp_col=args.timestamp_col,\n",
    ")\n",
    "label_df"
   ]
  },
  {
   "cell_type": "code",
   "execution_count": null,
   "metadata": {},
   "outputs": [
    {
     "data": {
      "text/html": [
       "<div>\n",
       "<style scoped>\n",
       "    .dataframe tbody tr th:only-of-type {\n",
       "        vertical-align: middle;\n",
       "    }\n",
       "\n",
       "    .dataframe tbody tr th {\n",
       "        vertical-align: top;\n",
       "    }\n",
       "\n",
       "    .dataframe thead th {\n",
       "        text-align: right;\n",
       "    }\n",
       "</style>\n",
       "<table border=\"1\" class=\"dataframe\">\n",
       "  <thead>\n",
       "    <tr style=\"text-align: right;\">\n",
       "      <th></th>\n",
       "      <th>user_indice</th>\n",
       "      <th>recommendation</th>\n",
       "      <th>score</th>\n",
       "      <th>rec_ranking</th>\n",
       "      <th>user_id</th>\n",
       "      <th>parent_asin</th>\n",
       "      <th>rating</th>\n",
       "      <th>rating_rank</th>\n",
       "    </tr>\n",
       "  </thead>\n",
       "  <tbody>\n",
       "    <tr>\n",
       "      <th>42</th>\n",
       "      <td>8.0</td>\n",
       "      <td>3381.0</td>\n",
       "      <td>0.838484</td>\n",
       "      <td>1</td>\n",
       "      <td>AE24AB4DW5KYK3F5DYOT5VPW2VLA</td>\n",
       "      <td>B07F4P3JH7</td>\n",
       "      <td>0</td>\n",
       "      <td>NaN</td>\n",
       "    </tr>\n",
       "    <tr>\n",
       "      <th>51</th>\n",
       "      <td>8.0</td>\n",
       "      <td>3476.0</td>\n",
       "      <td>0.829306</td>\n",
       "      <td>2</td>\n",
       "      <td>AE24AB4DW5KYK3F5DYOT5VPW2VLA</td>\n",
       "      <td>B07J2FGZSM</td>\n",
       "      <td>0</td>\n",
       "      <td>NaN</td>\n",
       "    </tr>\n",
       "    <tr>\n",
       "      <th>76</th>\n",
       "      <td>8.0</td>\n",
       "      <td>3908.0</td>\n",
       "      <td>0.826412</td>\n",
       "      <td>3</td>\n",
       "      <td>AE24AB4DW5KYK3F5DYOT5VPW2VLA</td>\n",
       "      <td>B08CLNX58K</td>\n",
       "      <td>0</td>\n",
       "      <td>NaN</td>\n",
       "    </tr>\n",
       "    <tr>\n",
       "      <th>11</th>\n",
       "      <td>8.0</td>\n",
       "      <td>2874.0</td>\n",
       "      <td>0.822509</td>\n",
       "      <td>4</td>\n",
       "      <td>AE24AB4DW5KYK3F5DYOT5VPW2VLA</td>\n",
       "      <td>B01NBTFNVA</td>\n",
       "      <td>0</td>\n",
       "      <td>NaN</td>\n",
       "    </tr>\n",
       "    <tr>\n",
       "      <th>33</th>\n",
       "      <td>8.0</td>\n",
       "      <td>3188.0</td>\n",
       "      <td>0.820618</td>\n",
       "      <td>5</td>\n",
       "      <td>AE24AB4DW5KYK3F5DYOT5VPW2VLA</td>\n",
       "      <td>B0791TX5P5</td>\n",
       "      <td>0</td>\n",
       "      <td>NaN</td>\n",
       "    </tr>\n",
       "    <tr>\n",
       "      <th>...</th>\n",
       "      <td>...</td>\n",
       "      <td>...</td>\n",
       "      <td>...</td>\n",
       "      <td>...</td>\n",
       "      <td>...</td>\n",
       "      <td>...</td>\n",
       "      <td>...</td>\n",
       "      <td>...</td>\n",
       "    </tr>\n",
       "    <tr>\n",
       "      <th>252450</th>\n",
       "      <td>16403.0</td>\n",
       "      <td>4415.0</td>\n",
       "      <td>0.782819</td>\n",
       "      <td>99</td>\n",
       "      <td>AHZZM7BCJAF2UEMMBHZCLXBB2SVA</td>\n",
       "      <td>B0B5153M52</td>\n",
       "      <td>0</td>\n",
       "      <td>NaN</td>\n",
       "    </tr>\n",
       "    <tr>\n",
       "      <th>252426</th>\n",
       "      <td>16403.0</td>\n",
       "      <td>3589.0</td>\n",
       "      <td>0.782705</td>\n",
       "      <td>100</td>\n",
       "      <td>AHZZM7BCJAF2UEMMBHZCLXBB2SVA</td>\n",
       "      <td>B07PHB491R</td>\n",
       "      <td>0</td>\n",
       "      <td>NaN</td>\n",
       "    </tr>\n",
       "    <tr>\n",
       "      <th>252388</th>\n",
       "      <td>NaN</td>\n",
       "      <td>NaN</td>\n",
       "      <td>NaN</td>\n",
       "      <td>101</td>\n",
       "      <td>AHZZM7BCJAF2UEMMBHZCLXBB2SVA</td>\n",
       "      <td>B075QC3TZY</td>\n",
       "      <td>1</td>\n",
       "      <td>1.0</td>\n",
       "    </tr>\n",
       "    <tr>\n",
       "      <th>252389</th>\n",
       "      <td>NaN</td>\n",
       "      <td>NaN</td>\n",
       "      <td>NaN</td>\n",
       "      <td>101</td>\n",
       "      <td>AHZZM7BCJAF2UEMMBHZCLXBB2SVA</td>\n",
       "      <td>B075QC3TZY</td>\n",
       "      <td>0</td>\n",
       "      <td>2.0</td>\n",
       "    </tr>\n",
       "    <tr>\n",
       "      <th>252390</th>\n",
       "      <td>NaN</td>\n",
       "      <td>NaN</td>\n",
       "      <td>NaN</td>\n",
       "      <td>101</td>\n",
       "      <td>AHZZM7BCJAF2UEMMBHZCLXBB2SVA</td>\n",
       "      <td>B075QC3TZY</td>\n",
       "      <td>0</td>\n",
       "      <td>3.0</td>\n",
       "    </tr>\n",
       "  </tbody>\n",
       "</table>\n",
       "<p>252463 rows × 8 columns</p>\n",
       "</div>"
      ],
      "text/plain": [
       "        user_indice  recommendation     score  rec_ranking  \\\n",
       "42              8.0          3381.0  0.838484            1   \n",
       "51              8.0          3476.0  0.829306            2   \n",
       "76              8.0          3908.0  0.826412            3   \n",
       "11              8.0          2874.0  0.822509            4   \n",
       "33              8.0          3188.0  0.820618            5   \n",
       "...             ...             ...       ...          ...   \n",
       "252450      16403.0          4415.0  0.782819           99   \n",
       "252426      16403.0          3589.0  0.782705          100   \n",
       "252388          NaN             NaN       NaN          101   \n",
       "252389          NaN             NaN       NaN          101   \n",
       "252390          NaN             NaN       NaN          101   \n",
       "\n",
       "                             user_id parent_asin  rating  rating_rank  \n",
       "42      AE24AB4DW5KYK3F5DYOT5VPW2VLA  B07F4P3JH7       0          NaN  \n",
       "51      AE24AB4DW5KYK3F5DYOT5VPW2VLA  B07J2FGZSM       0          NaN  \n",
       "76      AE24AB4DW5KYK3F5DYOT5VPW2VLA  B08CLNX58K       0          NaN  \n",
       "11      AE24AB4DW5KYK3F5DYOT5VPW2VLA  B01NBTFNVA       0          NaN  \n",
       "33      AE24AB4DW5KYK3F5DYOT5VPW2VLA  B0791TX5P5       0          NaN  \n",
       "...                              ...         ...     ...          ...  \n",
       "252450  AHZZM7BCJAF2UEMMBHZCLXBB2SVA  B0B5153M52       0          NaN  \n",
       "252426  AHZZM7BCJAF2UEMMBHZCLXBB2SVA  B07PHB491R       0          NaN  \n",
       "252388  AHZZM7BCJAF2UEMMBHZCLXBB2SVA  B075QC3TZY       1          1.0  \n",
       "252389  AHZZM7BCJAF2UEMMBHZCLXBB2SVA  B075QC3TZY       0          2.0  \n",
       "252390  AHZZM7BCJAF2UEMMBHZCLXBB2SVA  B075QC3TZY       0          3.0  \n",
       "\n",
       "[252463 rows x 8 columns]"
      ]
     },
     "execution_count": 61,
     "metadata": {},
     "output_type": "execute_result"
    }
   ],
   "source": [
    "eval_df = merge_recs_with_target(\n",
    "    recommendations_df,\n",
    "    label_df,\n",
    "    k=args.top_K,\n",
    "    user_col=args.user_col,\n",
    "    item_col=args.item_col,\n",
    "    rating_col=args.rating_col,\n",
    ")\n",
    "eval_df"
   ]
  },
  {
   "cell_type": "code",
   "execution_count": null,
   "metadata": {},
   "outputs": [],
   "source": [
    "ranking_report = log_ranking_metrics(args, eval_df)"
   ]
  },
  {
   "cell_type": "code",
   "execution_count": null,
   "metadata": {},
   "outputs": [
    {
     "name": "stdout",
     "output_type": "stream",
     "text": [
      "🏃 View run 006-sequence-modelling-attn-256-dim-bce-prelu at: http://138.2.61.6:5002/#/experiments/2/runs/babe0da54ed64ca19db3a2cc29c87e74\n",
      "🧪 View experiment at: http://138.2.61.6:5002/#/experiments/2\n"
     ]
    }
   ],
   "source": [
    "mlflow.end_run()"
   ]
  },
  {
   "cell_type": "markdown",
   "metadata": {},
   "source": [
    "## Clean up"
   ]
  },
  {
   "cell_type": "code",
   "execution_count": null,
   "metadata": {},
   "outputs": [
    {
     "name": "stdout",
     "output_type": "stream",
     "text": [
      "🏃 View run 006-sequence-modelling-attn-256-dim-bce-prelu at: http://138.2.61.6:5002/#/experiments/2/runs/babe0da54ed64ca19db3a2cc29c87e74\n",
      "🧪 View experiment at: http://138.2.61.6:5002/#/experiments/2\n"
     ]
    }
   ],
   "source": [
    "all_params = [args]\n",
    "\n",
    "if args.log_to_mlflow:\n",
    "    run_id = trainer.logger.run_id\n",
    "\n",
    "    with mlflow.start_run(run_id=run_id):\n",
    "        for params in all_params:\n",
    "            params_dict = params.model_dump()\n",
    "            params_ = dict()\n",
    "            for k, v in params_dict.items():\n",
    "                if k == \"top_K\":\n",
    "                    k = \"top_big_K\"\n",
    "                if k == \"top_k\":\n",
    "                    k = \"top_small_k\"\n",
    "                params_[f\"{params.__repr_name__()}.{k}\"] = v\n",
    "            mlflow.log_params(params_)"
   ]
  },
  {
   "cell_type": "code",
   "execution_count": null,
   "metadata": {},
   "outputs": [
    {
     "data": {
      "text/html": [
       "<div>\n",
       "<style scoped>\n",
       "    .dataframe tbody tr th:only-of-type {\n",
       "        vertical-align: middle;\n",
       "    }\n",
       "\n",
       "    .dataframe tbody tr th {\n",
       "        vertical-align: top;\n",
       "    }\n",
       "\n",
       "    .dataframe thead th {\n",
       "        text-align: right;\n",
       "    }\n",
       "</style>\n",
       "<table border=\"1\" class=\"dataframe\">\n",
       "  <thead>\n",
       "    <tr style=\"text-align: right;\">\n",
       "      <th></th>\n",
       "      <th>user_id</th>\n",
       "      <th>parent_asin</th>\n",
       "      <th>rating</th>\n",
       "      <th>timestamp</th>\n",
       "      <th>user_indice</th>\n",
       "      <th>item_indice</th>\n",
       "      <th>item_sequence</th>\n",
       "    </tr>\n",
       "  </thead>\n",
       "  <tbody>\n",
       "    <tr>\n",
       "      <th>129609</th>\n",
       "      <td>AGYYEQ2BPGILFTNVVZGEEK4AP5QA</td>\n",
       "      <td>B0854CTL5N</td>\n",
       "      <td>5.0</td>\n",
       "      <td>2021-08-10 01:19:51.147</td>\n",
       "      <td>12109</td>\n",
       "      <td>3857</td>\n",
       "      <td>[-1, -1, 2822, 3056, 4462, 2519, 1791, 1396, 2...</td>\n",
       "    </tr>\n",
       "    <tr>\n",
       "      <th>391795</th>\n",
       "      <td>AFSU64CATRPYNY6C6PCI6FGKCJ4Q</td>\n",
       "      <td>B0C1Z2FM57</td>\n",
       "      <td>0.0</td>\n",
       "      <td>2021-12-24 19:34:06.504</td>\n",
       "      <td>7275</td>\n",
       "      <td>3944</td>\n",
       "      <td>[-1, 394, 3954, 1498, 2648, 3731, 4611, 1682, ...</td>\n",
       "    </tr>\n",
       "    <tr>\n",
       "      <th>128128</th>\n",
       "      <td>AHP6PY4J6DB72JLOALVFWIOZ6EHA</td>\n",
       "      <td>B0B4SWZTZ1</td>\n",
       "      <td>1.0</td>\n",
       "      <td>2021-02-23 00:36:06.416</td>\n",
       "      <td>15029</td>\n",
       "      <td>4413</td>\n",
       "      <td>[-1, -1, -1, 1280, 2811, 3304, 3153, 3188, 478...</td>\n",
       "    </tr>\n",
       "    <tr>\n",
       "      <th>390725</th>\n",
       "      <td>AEWIG2ZQRJD6GWLETDOPW4SROWDQ</td>\n",
       "      <td>B008ALAAV0</td>\n",
       "      <td>0.0</td>\n",
       "      <td>2021-09-28 14:36:12.232</td>\n",
       "      <td>3651</td>\n",
       "      <td>1434</td>\n",
       "      <td>[-1, -1, -1, -1, 57, 4097, 2367, 3578, 3202, 3...</td>\n",
       "    </tr>\n",
       "    <tr>\n",
       "      <th>390937</th>\n",
       "      <td>AH7JQQJXJT7ZTDVHTBEVY4Z6KWXQ</td>\n",
       "      <td>B074P4MG1Q</td>\n",
       "      <td>0.0</td>\n",
       "      <td>2021-10-13 19:02:20.376</td>\n",
       "      <td>12922</td>\n",
       "      <td>4244</td>\n",
       "      <td>[-1, 631, 172, 751, 2285, 4748, 3372, 3261, 27...</td>\n",
       "    </tr>\n",
       "    <tr>\n",
       "      <th>...</th>\n",
       "      <td>...</td>\n",
       "      <td>...</td>\n",
       "      <td>...</td>\n",
       "      <td>...</td>\n",
       "      <td>...</td>\n",
       "      <td>...</td>\n",
       "      <td>...</td>\n",
       "    </tr>\n",
       "    <tr>\n",
       "      <th>385719</th>\n",
       "      <td>AG3SRHRTZRVUR5FDMYIH5KZERM2A</td>\n",
       "      <td>B08RLW7918</td>\n",
       "      <td>0.0</td>\n",
       "      <td>2020-12-30 01:31:04.861</td>\n",
       "      <td>8429</td>\n",
       "      <td>3096</td>\n",
       "      <td>[-1, -1, 3744, 1451, 3576, 4608, 4219, 4621, 3...</td>\n",
       "    </tr>\n",
       "    <tr>\n",
       "      <th>130708</th>\n",
       "      <td>AFAFYOKLVZYF2VM2VZ6H37ATHOOA</td>\n",
       "      <td>B0BPZFW1JH</td>\n",
       "      <td>5.0</td>\n",
       "      <td>2022-01-26 18:05:13.266</td>\n",
       "      <td>4968</td>\n",
       "      <td>4595</td>\n",
       "      <td>[-1, 3326, 2830, 1420, 4007, 426, 1375, 1678, ...</td>\n",
       "    </tr>\n",
       "    <tr>\n",
       "      <th>385697</th>\n",
       "      <td>AFTVQN7ZMD2BL2MXQAAUVFB5OLFA</td>\n",
       "      <td>B07GTGHQHB</td>\n",
       "      <td>0.0</td>\n",
       "      <td>2020-12-29 04:55:44.239</td>\n",
       "      <td>7417</td>\n",
       "      <td>1423</td>\n",
       "      <td>[-1, -1, -1, -1, 1332, 3839, 3530, 2874, 3203,...</td>\n",
       "    </tr>\n",
       "    <tr>\n",
       "      <th>386113</th>\n",
       "      <td>AHR2PRQPTUBBLQF6LY3CSFAU3TIA</td>\n",
       "      <td>B00KFD0SYK</td>\n",
       "      <td>0.0</td>\n",
       "      <td>2021-01-13 15:07:02.170</td>\n",
       "      <td>15249</td>\n",
       "      <td>3033</td>\n",
       "      <td>[-1, -1, 3886, 2954, 2353, 1806, 3419, 4415, 1...</td>\n",
       "    </tr>\n",
       "    <tr>\n",
       "      <th>389527</th>\n",
       "      <td>AEFRHS7JRVRAFSNJYKNMD7BJNZBQ</td>\n",
       "      <td>B07GZFM1ZM</td>\n",
       "      <td>0.0</td>\n",
       "      <td>2021-07-05 17:14:16.571</td>\n",
       "      <td>1528</td>\n",
       "      <td>4421</td>\n",
       "      <td>[3930, 4324, 305, 3590, 3816, 3310, 4393, 3137...</td>\n",
       "    </tr>\n",
       "  </tbody>\n",
       "</table>\n",
       "<p>10437 rows × 7 columns</p>\n",
       "</div>"
      ],
      "text/plain": [
       "                             user_id parent_asin  rating  \\\n",
       "129609  AGYYEQ2BPGILFTNVVZGEEK4AP5QA  B0854CTL5N     5.0   \n",
       "391795  AFSU64CATRPYNY6C6PCI6FGKCJ4Q  B0C1Z2FM57     0.0   \n",
       "128128  AHP6PY4J6DB72JLOALVFWIOZ6EHA  B0B4SWZTZ1     1.0   \n",
       "390725  AEWIG2ZQRJD6GWLETDOPW4SROWDQ  B008ALAAV0     0.0   \n",
       "390937  AH7JQQJXJT7ZTDVHTBEVY4Z6KWXQ  B074P4MG1Q     0.0   \n",
       "...                              ...         ...     ...   \n",
       "385719  AG3SRHRTZRVUR5FDMYIH5KZERM2A  B08RLW7918     0.0   \n",
       "130708  AFAFYOKLVZYF2VM2VZ6H37ATHOOA  B0BPZFW1JH     5.0   \n",
       "385697  AFTVQN7ZMD2BL2MXQAAUVFB5OLFA  B07GTGHQHB     0.0   \n",
       "386113  AHR2PRQPTUBBLQF6LY3CSFAU3TIA  B00KFD0SYK     0.0   \n",
       "389527  AEFRHS7JRVRAFSNJYKNMD7BJNZBQ  B07GZFM1ZM     0.0   \n",
       "\n",
       "                     timestamp  user_indice  item_indice  \\\n",
       "129609 2021-08-10 01:19:51.147        12109         3857   \n",
       "391795 2021-12-24 19:34:06.504         7275         3944   \n",
       "128128 2021-02-23 00:36:06.416        15029         4413   \n",
       "390725 2021-09-28 14:36:12.232         3651         1434   \n",
       "390937 2021-10-13 19:02:20.376        12922         4244   \n",
       "...                        ...          ...          ...   \n",
       "385719 2020-12-30 01:31:04.861         8429         3096   \n",
       "130708 2022-01-26 18:05:13.266         4968         4595   \n",
       "385697 2020-12-29 04:55:44.239         7417         1423   \n",
       "386113 2021-01-13 15:07:02.170        15249         3033   \n",
       "389527 2021-07-05 17:14:16.571         1528         4421   \n",
       "\n",
       "                                            item_sequence  \n",
       "129609  [-1, -1, 2822, 3056, 4462, 2519, 1791, 1396, 2...  \n",
       "391795  [-1, 394, 3954, 1498, 2648, 3731, 4611, 1682, ...  \n",
       "128128  [-1, -1, -1, 1280, 2811, 3304, 3153, 3188, 478...  \n",
       "390725  [-1, -1, -1, -1, 57, 4097, 2367, 3578, 3202, 3...  \n",
       "390937  [-1, 631, 172, 751, 2285, 4748, 3372, 3261, 27...  \n",
       "...                                                   ...  \n",
       "385719  [-1, -1, 3744, 1451, 3576, 4608, 4219, 4621, 3...  \n",
       "130708  [-1, 3326, 2830, 1420, 4007, 426, 1375, 1678, ...  \n",
       "385697  [-1, -1, -1, -1, 1332, 3839, 3530, 2874, 3203,...  \n",
       "386113  [-1, -1, 3886, 2954, 2353, 1806, 3419, 4415, 1...  \n",
       "389527  [3930, 4324, 305, 3590, 3816, 3310, 4393, 3137...  \n",
       "\n",
       "[10437 rows x 7 columns]"
      ]
     },
     "execution_count": 65,
     "metadata": {},
     "output_type": "execute_result"
    }
   ],
   "source": [
    "val_df"
   ]
  },
  {
   "cell_type": "code",
   "execution_count": null,
   "metadata": {},
   "outputs": [
    {
     "data": {
      "text/html": [
       "<div>\n",
       "<style scoped>\n",
       "    .dataframe tbody tr th:only-of-type {\n",
       "        vertical-align: middle;\n",
       "    }\n",
       "\n",
       "    .dataframe tbody tr th {\n",
       "        vertical-align: top;\n",
       "    }\n",
       "\n",
       "    .dataframe thead th {\n",
       "        text-align: right;\n",
       "    }\n",
       "</style>\n",
       "<table border=\"1\" class=\"dataframe\">\n",
       "  <thead>\n",
       "    <tr style=\"text-align: right;\">\n",
       "      <th></th>\n",
       "      <th>user_id</th>\n",
       "      <th>parent_asin</th>\n",
       "      <th>rating</th>\n",
       "      <th>timestamp</th>\n",
       "      <th>user_indice</th>\n",
       "      <th>item_indice</th>\n",
       "      <th>item_sequence</th>\n",
       "    </tr>\n",
       "  </thead>\n",
       "  <tbody>\n",
       "    <tr>\n",
       "      <th>386494</th>\n",
       "      <td>AFDFMCKM4YEZG7MSZQOIFQZBORHQ</td>\n",
       "      <td>B08D7638C8</td>\n",
       "      <td>0.0</td>\n",
       "      <td>2021-01-27 01:03:20.667</td>\n",
       "      <td>5348</td>\n",
       "      <td>2965</td>\n",
       "      <td>[2123, 422, 1137, 4016, 3503, 1571, 158, 2110, 4089, 487]</td>\n",
       "    </tr>\n",
       "    <tr>\n",
       "      <th>127811</th>\n",
       "      <td>AFDFMCKM4YEZG7MSZQOIFQZBORHQ</td>\n",
       "      <td>B08D7638C8</td>\n",
       "      <td>5.0</td>\n",
       "      <td>2021-01-27 01:03:20.667</td>\n",
       "      <td>5348</td>\n",
       "      <td>3914</td>\n",
       "      <td>[2123, 422, 1137, 4016, 3503, 1571, 158, 2110, 4089, 487]</td>\n",
       "    </tr>\n",
       "    <tr>\n",
       "      <th>386493</th>\n",
       "      <td>AFDFMCKM4YEZG7MSZQOIFQZBORHQ</td>\n",
       "      <td>B08D7638C8</td>\n",
       "      <td>0.0</td>\n",
       "      <td>2021-01-27 01:03:20.667</td>\n",
       "      <td>5348</td>\n",
       "      <td>4520</td>\n",
       "      <td>[2123, 422, 1137, 4016, 3503, 1571, 158, 2110, 4089, 487]</td>\n",
       "    </tr>\n",
       "    <tr>\n",
       "      <th>127486</th>\n",
       "      <td>AFDFMCKM4YEZG7MSZQOIFQZBORHQ</td>\n",
       "      <td>B0043T7FXE</td>\n",
       "      <td>5.0</td>\n",
       "      <td>2021-01-02 20:56:05.330</td>\n",
       "      <td>5348</td>\n",
       "      <td>487</td>\n",
       "      <td>[115, 2123, 422, 1137, 4016, 3503, 1571, 158, 2110, 4089]</td>\n",
       "    </tr>\n",
       "    <tr>\n",
       "      <th>385843</th>\n",
       "      <td>AFDFMCKM4YEZG7MSZQOIFQZBORHQ</td>\n",
       "      <td>B0043T7FXE</td>\n",
       "      <td>0.0</td>\n",
       "      <td>2021-01-02 20:56:05.330</td>\n",
       "      <td>5348</td>\n",
       "      <td>3982</td>\n",
       "      <td>[115, 2123, 422, 1137, 4016, 3503, 1571, 158, 2110, 4089]</td>\n",
       "    </tr>\n",
       "    <tr>\n",
       "      <th>385844</th>\n",
       "      <td>AFDFMCKM4YEZG7MSZQOIFQZBORHQ</td>\n",
       "      <td>B0043T7FXE</td>\n",
       "      <td>0.0</td>\n",
       "      <td>2021-01-02 20:56:05.330</td>\n",
       "      <td>5348</td>\n",
       "      <td>1973</td>\n",
       "      <td>[115, 2123, 422, 1137, 4016, 3503, 1571, 158, 2110, 4089]</td>\n",
       "    </tr>\n",
       "    <tr>\n",
       "      <th>385842</th>\n",
       "      <td>AFDFMCKM4YEZG7MSZQOIFQZBORHQ</td>\n",
       "      <td>B091ZHX225</td>\n",
       "      <td>0.0</td>\n",
       "      <td>2021-01-02 20:37:37.904</td>\n",
       "      <td>5348</td>\n",
       "      <td>4139</td>\n",
       "      <td>[935, 115, 2123, 422, 1137, 4016, 3503, 1571, 158, 2110]</td>\n",
       "    </tr>\n",
       "    <tr>\n",
       "      <th>385841</th>\n",
       "      <td>AFDFMCKM4YEZG7MSZQOIFQZBORHQ</td>\n",
       "      <td>B091ZHX225</td>\n",
       "      <td>0.0</td>\n",
       "      <td>2021-01-02 20:37:37.904</td>\n",
       "      <td>5348</td>\n",
       "      <td>2677</td>\n",
       "      <td>[935, 115, 2123, 422, 1137, 4016, 3503, 1571, 158, 2110]</td>\n",
       "    </tr>\n",
       "    <tr>\n",
       "      <th>127485</th>\n",
       "      <td>AFDFMCKM4YEZG7MSZQOIFQZBORHQ</td>\n",
       "      <td>B091ZHX225</td>\n",
       "      <td>5.0</td>\n",
       "      <td>2021-01-02 20:37:37.904</td>\n",
       "      <td>5348</td>\n",
       "      <td>4089</td>\n",
       "      <td>[935, 115, 2123, 422, 1137, 4016, 3503, 1571, 158, 2110]</td>\n",
       "    </tr>\n",
       "  </tbody>\n",
       "</table>\n",
       "</div>"
      ],
      "text/plain": [
       "                             user_id parent_asin  rating  \\\n",
       "386494  AFDFMCKM4YEZG7MSZQOIFQZBORHQ  B08D7638C8     0.0   \n",
       "127811  AFDFMCKM4YEZG7MSZQOIFQZBORHQ  B08D7638C8     5.0   \n",
       "386493  AFDFMCKM4YEZG7MSZQOIFQZBORHQ  B08D7638C8     0.0   \n",
       "127486  AFDFMCKM4YEZG7MSZQOIFQZBORHQ  B0043T7FXE     5.0   \n",
       "385843  AFDFMCKM4YEZG7MSZQOIFQZBORHQ  B0043T7FXE     0.0   \n",
       "385844  AFDFMCKM4YEZG7MSZQOIFQZBORHQ  B0043T7FXE     0.0   \n",
       "385842  AFDFMCKM4YEZG7MSZQOIFQZBORHQ  B091ZHX225     0.0   \n",
       "385841  AFDFMCKM4YEZG7MSZQOIFQZBORHQ  B091ZHX225     0.0   \n",
       "127485  AFDFMCKM4YEZG7MSZQOIFQZBORHQ  B091ZHX225     5.0   \n",
       "\n",
       "                     timestamp  user_indice  item_indice  \\\n",
       "386494 2021-01-27 01:03:20.667         5348         2965   \n",
       "127811 2021-01-27 01:03:20.667         5348         3914   \n",
       "386493 2021-01-27 01:03:20.667         5348         4520   \n",
       "127486 2021-01-02 20:56:05.330         5348          487   \n",
       "385843 2021-01-02 20:56:05.330         5348         3982   \n",
       "385844 2021-01-02 20:56:05.330         5348         1973   \n",
       "385842 2021-01-02 20:37:37.904         5348         4139   \n",
       "385841 2021-01-02 20:37:37.904         5348         2677   \n",
       "127485 2021-01-02 20:37:37.904         5348         4089   \n",
       "\n",
       "                                                    item_sequence  \n",
       "386494  [2123, 422, 1137, 4016, 3503, 1571, 158, 2110, 4089, 487]  \n",
       "127811  [2123, 422, 1137, 4016, 3503, 1571, 158, 2110, 4089, 487]  \n",
       "386493  [2123, 422, 1137, 4016, 3503, 1571, 158, 2110, 4089, 487]  \n",
       "127486  [115, 2123, 422, 1137, 4016, 3503, 1571, 158, 2110, 4089]  \n",
       "385843  [115, 2123, 422, 1137, 4016, 3503, 1571, 158, 2110, 4089]  \n",
       "385844  [115, 2123, 422, 1137, 4016, 3503, 1571, 158, 2110, 4089]  \n",
       "385842   [935, 115, 2123, 422, 1137, 4016, 3503, 1571, 158, 2110]  \n",
       "385841   [935, 115, 2123, 422, 1137, 4016, 3503, 1571, 158, 2110]  \n",
       "127485   [935, 115, 2123, 422, 1137, 4016, 3503, 1571, 158, 2110]  "
      ]
     },
     "metadata": {},
     "output_type": "display_data"
    }
   ],
   "source": [
    "with pd.option_context(\"display.max_colwidth\", None):\n",
    "    display(val_df.loc[val_df[args.user_col] == \"AFDFMCKM4YEZG7MSZQOIFQZBORHQ\"].sort_values(by=args.timestamp_col, ascending=False))"
   ]
  },
  {
   "cell_type": "code",
   "execution_count": null,
   "metadata": {},
   "outputs": [
    {
     "data": {
      "text/html": [
       "<div>\n",
       "<style scoped>\n",
       "    .dataframe tbody tr th:only-of-type {\n",
       "        vertical-align: middle;\n",
       "    }\n",
       "\n",
       "    .dataframe tbody tr th {\n",
       "        vertical-align: top;\n",
       "    }\n",
       "\n",
       "    .dataframe thead th {\n",
       "        text-align: right;\n",
       "    }\n",
       "</style>\n",
       "<table border=\"1\" class=\"dataframe\">\n",
       "  <thead>\n",
       "    <tr style=\"text-align: right;\">\n",
       "      <th></th>\n",
       "      <th>user_id</th>\n",
       "      <th>parent_asin</th>\n",
       "      <th>rating</th>\n",
       "      <th>timestamp</th>\n",
       "      <th>user_indice</th>\n",
       "      <th>item_indice</th>\n",
       "      <th>item_sequence</th>\n",
       "    </tr>\n",
       "  </thead>\n",
       "  <tbody>\n",
       "    <tr>\n",
       "      <th>286258</th>\n",
       "      <td>AFDFMCKM4YEZG7MSZQOIFQZBORHQ</td>\n",
       "      <td>B00WUIC2KG</td>\n",
       "      <td>0.0</td>\n",
       "      <td>2017-04-26 01:15:29</td>\n",
       "      <td>5348</td>\n",
       "      <td>1432</td>\n",
       "      <td>[320.0, 935.0, 115.0, 2123.0, 422.0, 1137.0, 4016.0, 3503.0, 1571.0, 158.0]</td>\n",
       "    </tr>\n",
       "    <tr>\n",
       "      <th>286257</th>\n",
       "      <td>AFDFMCKM4YEZG7MSZQOIFQZBORHQ</td>\n",
       "      <td>B00WUIC2KG</td>\n",
       "      <td>0.0</td>\n",
       "      <td>2017-04-26 01:15:29</td>\n",
       "      <td>5348</td>\n",
       "      <td>2437</td>\n",
       "      <td>[320.0, 935.0, 115.0, 2123.0, 422.0, 1137.0, 4016.0, 3503.0, 1571.0, 158.0]</td>\n",
       "    </tr>\n",
       "    <tr>\n",
       "      <th>77693</th>\n",
       "      <td>AFDFMCKM4YEZG7MSZQOIFQZBORHQ</td>\n",
       "      <td>B00WUIC2KG</td>\n",
       "      <td>5.0</td>\n",
       "      <td>2017-04-26 01:15:29</td>\n",
       "      <td>5348</td>\n",
       "      <td>2110</td>\n",
       "      <td>[320.0, 935.0, 115.0, 2123.0, 422.0, 1137.0, 4016.0, 3503.0, 1571.0, 158.0]</td>\n",
       "    </tr>\n",
       "    <tr>\n",
       "      <th>59436</th>\n",
       "      <td>AFDFMCKM4YEZG7MSZQOIFQZBORHQ</td>\n",
       "      <td>B000YB862E</td>\n",
       "      <td>5.0</td>\n",
       "      <td>2016-06-10 01:18:59</td>\n",
       "      <td>5348</td>\n",
       "      <td>158</td>\n",
       "      <td>[550.0, 320.0, 935.0, 115.0, 2123.0, 422.0, 1137.0, 4016.0, 3503.0, 1571.0]</td>\n",
       "    </tr>\n",
       "    <tr>\n",
       "      <th>249744</th>\n",
       "      <td>AFDFMCKM4YEZG7MSZQOIFQZBORHQ</td>\n",
       "      <td>B000YB862E</td>\n",
       "      <td>0.0</td>\n",
       "      <td>2016-06-10 01:18:59</td>\n",
       "      <td>5348</td>\n",
       "      <td>201</td>\n",
       "      <td>[550.0, 320.0, 935.0, 115.0, 2123.0, 422.0, 1137.0, 4016.0, 3503.0, 1571.0]</td>\n",
       "    </tr>\n",
       "    <tr>\n",
       "      <th>249743</th>\n",
       "      <td>AFDFMCKM4YEZG7MSZQOIFQZBORHQ</td>\n",
       "      <td>B000YB862E</td>\n",
       "      <td>0.0</td>\n",
       "      <td>2016-06-10 01:18:59</td>\n",
       "      <td>5348</td>\n",
       "      <td>163</td>\n",
       "      <td>[550.0, 320.0, 935.0, 115.0, 2123.0, 422.0, 1137.0, 4016.0, 3503.0, 1571.0]</td>\n",
       "    </tr>\n",
       "    <tr>\n",
       "      <th>225291</th>\n",
       "      <td>AFDFMCKM4YEZG7MSZQOIFQZBORHQ</td>\n",
       "      <td>B00IVPU7AO</td>\n",
       "      <td>0.0</td>\n",
       "      <td>2015-11-20 05:16:02</td>\n",
       "      <td>5348</td>\n",
       "      <td>2189</td>\n",
       "      <td>[1730.0, 550.0, 320.0, 935.0, 115.0, 2123.0, 422.0, 1137.0, 4016.0, 3503.0]</td>\n",
       "    </tr>\n",
       "    <tr>\n",
       "      <th>225292</th>\n",
       "      <td>AFDFMCKM4YEZG7MSZQOIFQZBORHQ</td>\n",
       "      <td>B00IVPU7AO</td>\n",
       "      <td>0.0</td>\n",
       "      <td>2015-11-20 05:16:02</td>\n",
       "      <td>5348</td>\n",
       "      <td>4335</td>\n",
       "      <td>[1730.0, 550.0, 320.0, 935.0, 115.0, 2123.0, 422.0, 1137.0, 4016.0, 3503.0]</td>\n",
       "    </tr>\n",
       "    <tr>\n",
       "      <th>47210</th>\n",
       "      <td>AFDFMCKM4YEZG7MSZQOIFQZBORHQ</td>\n",
       "      <td>B00IVPU7AO</td>\n",
       "      <td>5.0</td>\n",
       "      <td>2015-11-20 05:16:02</td>\n",
       "      <td>5348</td>\n",
       "      <td>1571</td>\n",
       "      <td>[1730.0, 550.0, 320.0, 935.0, 115.0, 2123.0, 422.0, 1137.0, 4016.0, 3503.0]</td>\n",
       "    </tr>\n",
       "    <tr>\n",
       "      <th>225290</th>\n",
       "      <td>AFDFMCKM4YEZG7MSZQOIFQZBORHQ</td>\n",
       "      <td>B07KFQFDNB</td>\n",
       "      <td>0.0</td>\n",
       "      <td>2015-11-20 05:08:14</td>\n",
       "      <td>5348</td>\n",
       "      <td>4692</td>\n",
       "      <td>[455.0, 1730.0, 550.0, 320.0, 935.0, 115.0, 2123.0, 422.0, 1137.0, 4016.0]</td>\n",
       "    </tr>\n",
       "    <tr>\n",
       "      <th>47209</th>\n",
       "      <td>AFDFMCKM4YEZG7MSZQOIFQZBORHQ</td>\n",
       "      <td>B07KFQFDNB</td>\n",
       "      <td>4.0</td>\n",
       "      <td>2015-11-20 05:08:14</td>\n",
       "      <td>5348</td>\n",
       "      <td>3503</td>\n",
       "      <td>[455.0, 1730.0, 550.0, 320.0, 935.0, 115.0, 2123.0, 422.0, 1137.0, 4016.0]</td>\n",
       "    </tr>\n",
       "    <tr>\n",
       "      <th>225289</th>\n",
       "      <td>AFDFMCKM4YEZG7MSZQOIFQZBORHQ</td>\n",
       "      <td>B07KFQFDNB</td>\n",
       "      <td>0.0</td>\n",
       "      <td>2015-11-20 05:08:14</td>\n",
       "      <td>5348</td>\n",
       "      <td>3595</td>\n",
       "      <td>[455.0, 1730.0, 550.0, 320.0, 935.0, 115.0, 2123.0, 422.0, 1137.0, 4016.0]</td>\n",
       "    </tr>\n",
       "    <tr>\n",
       "      <th>225288</th>\n",
       "      <td>AFDFMCKM4YEZG7MSZQOIFQZBORHQ</td>\n",
       "      <td>B08RBNSHM9</td>\n",
       "      <td>0.0</td>\n",
       "      <td>2015-11-20 05:01:07</td>\n",
       "      <td>5348</td>\n",
       "      <td>3454</td>\n",
       "      <td>[439.0, 455.0, 1730.0, 550.0, 320.0, 935.0, 115.0, 2123.0, 422.0, 1137.0]</td>\n",
       "    </tr>\n",
       "    <tr>\n",
       "      <th>225287</th>\n",
       "      <td>AFDFMCKM4YEZG7MSZQOIFQZBORHQ</td>\n",
       "      <td>B08RBNSHM9</td>\n",
       "      <td>0.0</td>\n",
       "      <td>2015-11-20 05:01:07</td>\n",
       "      <td>5348</td>\n",
       "      <td>2939</td>\n",
       "      <td>[439.0, 455.0, 1730.0, 550.0, 320.0, 935.0, 115.0, 2123.0, 422.0, 1137.0]</td>\n",
       "    </tr>\n",
       "    <tr>\n",
       "      <th>47208</th>\n",
       "      <td>AFDFMCKM4YEZG7MSZQOIFQZBORHQ</td>\n",
       "      <td>B08RBNSHM9</td>\n",
       "      <td>4.0</td>\n",
       "      <td>2015-11-20 05:01:07</td>\n",
       "      <td>5348</td>\n",
       "      <td>4016</td>\n",
       "      <td>[439.0, 455.0, 1730.0, 550.0, 320.0, 935.0, 115.0, 2123.0, 422.0, 1137.0]</td>\n",
       "    </tr>\n",
       "    <tr>\n",
       "      <th>167400</th>\n",
       "      <td>AFDFMCKM4YEZG7MSZQOIFQZBORHQ</td>\n",
       "      <td>B00BEW8MVC</td>\n",
       "      <td>0.0</td>\n",
       "      <td>2014-05-08 18:26:19</td>\n",
       "      <td>5348</td>\n",
       "      <td>731</td>\n",
       "      <td>[-1.0, 439.0, 455.0, 1730.0, 550.0, 320.0, 935.0, 115.0, 2123.0, 422.0]</td>\n",
       "    </tr>\n",
       "    <tr>\n",
       "      <th>167399</th>\n",
       "      <td>AFDFMCKM4YEZG7MSZQOIFQZBORHQ</td>\n",
       "      <td>B00BEW8MVC</td>\n",
       "      <td>0.0</td>\n",
       "      <td>2014-05-08 18:26:19</td>\n",
       "      <td>5348</td>\n",
       "      <td>4148</td>\n",
       "      <td>[-1.0, 439.0, 455.0, 1730.0, 550.0, 320.0, 935.0, 115.0, 2123.0, 422.0]</td>\n",
       "    </tr>\n",
       "    <tr>\n",
       "      <th>18264</th>\n",
       "      <td>AFDFMCKM4YEZG7MSZQOIFQZBORHQ</td>\n",
       "      <td>B00BEW8MVC</td>\n",
       "      <td>5.0</td>\n",
       "      <td>2014-05-08 18:26:19</td>\n",
       "      <td>5348</td>\n",
       "      <td>1137</td>\n",
       "      <td>[-1.0, 439.0, 455.0, 1730.0, 550.0, 320.0, 935.0, 115.0, 2123.0, 422.0]</td>\n",
       "    </tr>\n",
       "    <tr>\n",
       "      <th>18263</th>\n",
       "      <td>AFDFMCKM4YEZG7MSZQOIFQZBORHQ</td>\n",
       "      <td>B003M8NVFS</td>\n",
       "      <td>5.0</td>\n",
       "      <td>2014-05-08 18:17:54</td>\n",
       "      <td>5348</td>\n",
       "      <td>422</td>\n",
       "      <td>[-1.0, -1.0, 439.0, 455.0, 1730.0, 550.0, 320.0, 935.0, 115.0, 2123.0]</td>\n",
       "    </tr>\n",
       "    <tr>\n",
       "      <th>167397</th>\n",
       "      <td>AFDFMCKM4YEZG7MSZQOIFQZBORHQ</td>\n",
       "      <td>B003M8NVFS</td>\n",
       "      <td>0.0</td>\n",
       "      <td>2014-05-08 18:17:54</td>\n",
       "      <td>5348</td>\n",
       "      <td>3576</td>\n",
       "      <td>[-1.0, -1.0, 439.0, 455.0, 1730.0, 550.0, 320.0, 935.0, 115.0, 2123.0]</td>\n",
       "    </tr>\n",
       "    <tr>\n",
       "      <th>167398</th>\n",
       "      <td>AFDFMCKM4YEZG7MSZQOIFQZBORHQ</td>\n",
       "      <td>B003M8NVFS</td>\n",
       "      <td>0.0</td>\n",
       "      <td>2014-05-08 18:17:54</td>\n",
       "      <td>5348</td>\n",
       "      <td>624</td>\n",
       "      <td>[-1.0, -1.0, 439.0, 455.0, 1730.0, 550.0, 320.0, 935.0, 115.0, 2123.0]</td>\n",
       "    </tr>\n",
       "    <tr>\n",
       "      <th>10950</th>\n",
       "      <td>AFDFMCKM4YEZG7MSZQOIFQZBORHQ</td>\n",
       "      <td>B00WUIP7YO</td>\n",
       "      <td>5.0</td>\n",
       "      <td>2013-08-22 21:16:05</td>\n",
       "      <td>5348</td>\n",
       "      <td>2123</td>\n",
       "      <td>[-1.0, -1.0, -1.0, 439.0, 455.0, 1730.0, 550.0, 320.0, 935.0, 115.0]</td>\n",
       "    </tr>\n",
       "    <tr>\n",
       "      <th>152771</th>\n",
       "      <td>AFDFMCKM4YEZG7MSZQOIFQZBORHQ</td>\n",
       "      <td>B00WUIP7YO</td>\n",
       "      <td>0.0</td>\n",
       "      <td>2013-08-22 21:16:05</td>\n",
       "      <td>5348</td>\n",
       "      <td>3269</td>\n",
       "      <td>[-1.0, -1.0, -1.0, 439.0, 455.0, 1730.0, 550.0, 320.0, 935.0, 115.0]</td>\n",
       "    </tr>\n",
       "    <tr>\n",
       "      <th>152772</th>\n",
       "      <td>AFDFMCKM4YEZG7MSZQOIFQZBORHQ</td>\n",
       "      <td>B00WUIP7YO</td>\n",
       "      <td>0.0</td>\n",
       "      <td>2013-08-22 21:16:05</td>\n",
       "      <td>5348</td>\n",
       "      <td>2775</td>\n",
       "      <td>[-1.0, -1.0, -1.0, 439.0, 455.0, 1730.0, 550.0, 320.0, 935.0, 115.0]</td>\n",
       "    </tr>\n",
       "    <tr>\n",
       "      <th>152770</th>\n",
       "      <td>AFDFMCKM4YEZG7MSZQOIFQZBORHQ</td>\n",
       "      <td>B000KO0GY6</td>\n",
       "      <td>0.0</td>\n",
       "      <td>2013-08-22 21:12:37</td>\n",
       "      <td>5348</td>\n",
       "      <td>1038</td>\n",
       "      <td>[-1.0, -1.0, -1.0, -1.0, 439.0, 455.0, 1730.0, 550.0, 320.0, 935.0]</td>\n",
       "    </tr>\n",
       "    <tr>\n",
       "      <th>10949</th>\n",
       "      <td>AFDFMCKM4YEZG7MSZQOIFQZBORHQ</td>\n",
       "      <td>B000KO0GY6</td>\n",
       "      <td>5.0</td>\n",
       "      <td>2013-08-22 21:12:37</td>\n",
       "      <td>5348</td>\n",
       "      <td>115</td>\n",
       "      <td>[-1.0, -1.0, -1.0, -1.0, 439.0, 455.0, 1730.0, 550.0, 320.0, 935.0]</td>\n",
       "    </tr>\n",
       "    <tr>\n",
       "      <th>152769</th>\n",
       "      <td>AFDFMCKM4YEZG7MSZQOIFQZBORHQ</td>\n",
       "      <td>B000KO0GY6</td>\n",
       "      <td>0.0</td>\n",
       "      <td>2013-08-22 21:12:37</td>\n",
       "      <td>5348</td>\n",
       "      <td>2385</td>\n",
       "      <td>[-1.0, -1.0, -1.0, -1.0, 439.0, 455.0, 1730.0, 550.0, 320.0, 935.0]</td>\n",
       "    </tr>\n",
       "    <tr>\n",
       "      <th>10948</th>\n",
       "      <td>AFDFMCKM4YEZG7MSZQOIFQZBORHQ</td>\n",
       "      <td>B008H08JZ8</td>\n",
       "      <td>4.0</td>\n",
       "      <td>2013-08-22 21:11:08</td>\n",
       "      <td>5348</td>\n",
       "      <td>935</td>\n",
       "      <td>[-1.0, -1.0, -1.0, -1.0, -1.0, 439.0, 455.0, 1730.0, 550.0, 320.0]</td>\n",
       "    </tr>\n",
       "    <tr>\n",
       "      <th>152767</th>\n",
       "      <td>AFDFMCKM4YEZG7MSZQOIFQZBORHQ</td>\n",
       "      <td>B008H08JZ8</td>\n",
       "      <td>0.0</td>\n",
       "      <td>2013-08-22 21:11:08</td>\n",
       "      <td>5348</td>\n",
       "      <td>925</td>\n",
       "      <td>[-1.0, -1.0, -1.0, -1.0, -1.0, 439.0, 455.0, 1730.0, 550.0, 320.0]</td>\n",
       "    </tr>\n",
       "    <tr>\n",
       "      <th>152768</th>\n",
       "      <td>AFDFMCKM4YEZG7MSZQOIFQZBORHQ</td>\n",
       "      <td>B008H08JZ8</td>\n",
       "      <td>0.0</td>\n",
       "      <td>2013-08-22 21:11:08</td>\n",
       "      <td>5348</td>\n",
       "      <td>4062</td>\n",
       "      <td>[-1.0, -1.0, -1.0, -1.0, -1.0, 439.0, 455.0, 1730.0, 550.0, 320.0]</td>\n",
       "    </tr>\n",
       "    <tr>\n",
       "      <th>10946</th>\n",
       "      <td>AFDFMCKM4YEZG7MSZQOIFQZBORHQ</td>\n",
       "      <td>B002K40R6G</td>\n",
       "      <td>4.0</td>\n",
       "      <td>2013-08-22 20:53:54</td>\n",
       "      <td>5348</td>\n",
       "      <td>320</td>\n",
       "      <td>[-1.0, -1.0, -1.0, -1.0, -1.0, -1.0, 439.0, 455.0, 1730.0, 550.0]</td>\n",
       "    </tr>\n",
       "    <tr>\n",
       "      <th>152763</th>\n",
       "      <td>AFDFMCKM4YEZG7MSZQOIFQZBORHQ</td>\n",
       "      <td>B002K40R6G</td>\n",
       "      <td>0.0</td>\n",
       "      <td>2013-08-22 20:53:54</td>\n",
       "      <td>5348</td>\n",
       "      <td>1655</td>\n",
       "      <td>[-1.0, -1.0, -1.0, -1.0, -1.0, -1.0, 439.0, 455.0, 1730.0, 550.0]</td>\n",
       "    </tr>\n",
       "    <tr>\n",
       "      <th>152764</th>\n",
       "      <td>AFDFMCKM4YEZG7MSZQOIFQZBORHQ</td>\n",
       "      <td>B002K40R6G</td>\n",
       "      <td>0.0</td>\n",
       "      <td>2013-08-22 20:53:54</td>\n",
       "      <td>5348</td>\n",
       "      <td>2939</td>\n",
       "      <td>[-1.0, -1.0, -1.0, -1.0, -1.0, -1.0, 439.0, 455.0, 1730.0, 550.0]</td>\n",
       "    </tr>\n",
       "    <tr>\n",
       "      <th>152760</th>\n",
       "      <td>AFDFMCKM4YEZG7MSZQOIFQZBORHQ</td>\n",
       "      <td>B004MFQ2I8</td>\n",
       "      <td>0.0</td>\n",
       "      <td>2013-08-22 20:50:22</td>\n",
       "      <td>5348</td>\n",
       "      <td>759</td>\n",
       "      <td>[-1.0, -1.0, -1.0, -1.0, -1.0, -1.0, -1.0, 439.0, 455.0, 1730.0]</td>\n",
       "    </tr>\n",
       "    <tr>\n",
       "      <th>152759</th>\n",
       "      <td>AFDFMCKM4YEZG7MSZQOIFQZBORHQ</td>\n",
       "      <td>B004MFQ2I8</td>\n",
       "      <td>0.0</td>\n",
       "      <td>2013-08-22 20:50:22</td>\n",
       "      <td>5348</td>\n",
       "      <td>4319</td>\n",
       "      <td>[-1.0, -1.0, -1.0, -1.0, -1.0, -1.0, -1.0, 439.0, 455.0, 1730.0]</td>\n",
       "    </tr>\n",
       "    <tr>\n",
       "      <th>10944</th>\n",
       "      <td>AFDFMCKM4YEZG7MSZQOIFQZBORHQ</td>\n",
       "      <td>B004MFQ2I8</td>\n",
       "      <td>5.0</td>\n",
       "      <td>2013-08-22 20:50:22</td>\n",
       "      <td>5348</td>\n",
       "      <td>550</td>\n",
       "      <td>[-1.0, -1.0, -1.0, -1.0, -1.0, -1.0, -1.0, 439.0, 455.0, 1730.0]</td>\n",
       "    </tr>\n",
       "    <tr>\n",
       "      <th>152753</th>\n",
       "      <td>AFDFMCKM4YEZG7MSZQOIFQZBORHQ</td>\n",
       "      <td>B00LX3P2XS</td>\n",
       "      <td>0.0</td>\n",
       "      <td>2013-08-22 20:21:35</td>\n",
       "      <td>5348</td>\n",
       "      <td>797</td>\n",
       "      <td>[-1.0, -1.0, -1.0, -1.0, -1.0, -1.0, -1.0, -1.0, 439.0, 455.0]</td>\n",
       "    </tr>\n",
       "    <tr>\n",
       "      <th>10941</th>\n",
       "      <td>AFDFMCKM4YEZG7MSZQOIFQZBORHQ</td>\n",
       "      <td>B00LX3P2XS</td>\n",
       "      <td>4.0</td>\n",
       "      <td>2013-08-22 20:21:35</td>\n",
       "      <td>5348</td>\n",
       "      <td>1730</td>\n",
       "      <td>[-1.0, -1.0, -1.0, -1.0, -1.0, -1.0, -1.0, -1.0, 439.0, 455.0]</td>\n",
       "    </tr>\n",
       "    <tr>\n",
       "      <th>152754</th>\n",
       "      <td>AFDFMCKM4YEZG7MSZQOIFQZBORHQ</td>\n",
       "      <td>B00LX3P2XS</td>\n",
       "      <td>0.0</td>\n",
       "      <td>2013-08-22 20:21:35</td>\n",
       "      <td>5348</td>\n",
       "      <td>325</td>\n",
       "      <td>[-1.0, -1.0, -1.0, -1.0, -1.0, -1.0, -1.0, -1.0, 439.0, 455.0]</td>\n",
       "    </tr>\n",
       "    <tr>\n",
       "      <th>152749</th>\n",
       "      <td>AFDFMCKM4YEZG7MSZQOIFQZBORHQ</td>\n",
       "      <td>B003WPTBAK</td>\n",
       "      <td>0.0</td>\n",
       "      <td>2013-08-22 20:17:01</td>\n",
       "      <td>5348</td>\n",
       "      <td>3556</td>\n",
       "      <td>[-1.0, -1.0, -1.0, -1.0, -1.0, -1.0, -1.0, -1.0, -1.0, 439.0]</td>\n",
       "    </tr>\n",
       "    <tr>\n",
       "      <th>10939</th>\n",
       "      <td>AFDFMCKM4YEZG7MSZQOIFQZBORHQ</td>\n",
       "      <td>B003WPTBAK</td>\n",
       "      <td>5.0</td>\n",
       "      <td>2013-08-22 20:17:01</td>\n",
       "      <td>5348</td>\n",
       "      <td>455</td>\n",
       "      <td>[-1.0, -1.0, -1.0, -1.0, -1.0, -1.0, -1.0, -1.0, -1.0, 439.0]</td>\n",
       "    </tr>\n",
       "    <tr>\n",
       "      <th>152750</th>\n",
       "      <td>AFDFMCKM4YEZG7MSZQOIFQZBORHQ</td>\n",
       "      <td>B003WPTBAK</td>\n",
       "      <td>0.0</td>\n",
       "      <td>2013-08-22 20:17:01</td>\n",
       "      <td>5348</td>\n",
       "      <td>2450</td>\n",
       "      <td>[-1.0, -1.0, -1.0, -1.0, -1.0, -1.0, -1.0, -1.0, -1.0, 439.0]</td>\n",
       "    </tr>\n",
       "    <tr>\n",
       "      <th>152747</th>\n",
       "      <td>AFDFMCKM4YEZG7MSZQOIFQZBORHQ</td>\n",
       "      <td>B003TLSXMO</td>\n",
       "      <td>0.0</td>\n",
       "      <td>2013-08-22 20:06:15</td>\n",
       "      <td>5348</td>\n",
       "      <td>2171</td>\n",
       "      <td>[-1.0, -1.0, -1.0, -1.0, -1.0, -1.0, -1.0, -1.0, -1.0, -1.0]</td>\n",
       "    </tr>\n",
       "    <tr>\n",
       "      <th>152748</th>\n",
       "      <td>AFDFMCKM4YEZG7MSZQOIFQZBORHQ</td>\n",
       "      <td>B003TLSXMO</td>\n",
       "      <td>0.0</td>\n",
       "      <td>2013-08-22 20:06:15</td>\n",
       "      <td>5348</td>\n",
       "      <td>2940</td>\n",
       "      <td>[-1.0, -1.0, -1.0, -1.0, -1.0, -1.0, -1.0, -1.0, -1.0, -1.0]</td>\n",
       "    </tr>\n",
       "    <tr>\n",
       "      <th>10938</th>\n",
       "      <td>AFDFMCKM4YEZG7MSZQOIFQZBORHQ</td>\n",
       "      <td>B003TLSXMO</td>\n",
       "      <td>5.0</td>\n",
       "      <td>2013-08-22 20:06:15</td>\n",
       "      <td>5348</td>\n",
       "      <td>439</td>\n",
       "      <td>[-1.0, -1.0, -1.0, -1.0, -1.0, -1.0, -1.0, -1.0, -1.0, -1.0]</td>\n",
       "    </tr>\n",
       "  </tbody>\n",
       "</table>\n",
       "</div>"
      ],
      "text/plain": [
       "                             user_id parent_asin  rating           timestamp  \\\n",
       "286258  AFDFMCKM4YEZG7MSZQOIFQZBORHQ  B00WUIC2KG     0.0 2017-04-26 01:15:29   \n",
       "286257  AFDFMCKM4YEZG7MSZQOIFQZBORHQ  B00WUIC2KG     0.0 2017-04-26 01:15:29   \n",
       "77693   AFDFMCKM4YEZG7MSZQOIFQZBORHQ  B00WUIC2KG     5.0 2017-04-26 01:15:29   \n",
       "59436   AFDFMCKM4YEZG7MSZQOIFQZBORHQ  B000YB862E     5.0 2016-06-10 01:18:59   \n",
       "249744  AFDFMCKM4YEZG7MSZQOIFQZBORHQ  B000YB862E     0.0 2016-06-10 01:18:59   \n",
       "249743  AFDFMCKM4YEZG7MSZQOIFQZBORHQ  B000YB862E     0.0 2016-06-10 01:18:59   \n",
       "225291  AFDFMCKM4YEZG7MSZQOIFQZBORHQ  B00IVPU7AO     0.0 2015-11-20 05:16:02   \n",
       "225292  AFDFMCKM4YEZG7MSZQOIFQZBORHQ  B00IVPU7AO     0.0 2015-11-20 05:16:02   \n",
       "47210   AFDFMCKM4YEZG7MSZQOIFQZBORHQ  B00IVPU7AO     5.0 2015-11-20 05:16:02   \n",
       "225290  AFDFMCKM4YEZG7MSZQOIFQZBORHQ  B07KFQFDNB     0.0 2015-11-20 05:08:14   \n",
       "47209   AFDFMCKM4YEZG7MSZQOIFQZBORHQ  B07KFQFDNB     4.0 2015-11-20 05:08:14   \n",
       "225289  AFDFMCKM4YEZG7MSZQOIFQZBORHQ  B07KFQFDNB     0.0 2015-11-20 05:08:14   \n",
       "225288  AFDFMCKM4YEZG7MSZQOIFQZBORHQ  B08RBNSHM9     0.0 2015-11-20 05:01:07   \n",
       "225287  AFDFMCKM4YEZG7MSZQOIFQZBORHQ  B08RBNSHM9     0.0 2015-11-20 05:01:07   \n",
       "47208   AFDFMCKM4YEZG7MSZQOIFQZBORHQ  B08RBNSHM9     4.0 2015-11-20 05:01:07   \n",
       "167400  AFDFMCKM4YEZG7MSZQOIFQZBORHQ  B00BEW8MVC     0.0 2014-05-08 18:26:19   \n",
       "167399  AFDFMCKM4YEZG7MSZQOIFQZBORHQ  B00BEW8MVC     0.0 2014-05-08 18:26:19   \n",
       "18264   AFDFMCKM4YEZG7MSZQOIFQZBORHQ  B00BEW8MVC     5.0 2014-05-08 18:26:19   \n",
       "18263   AFDFMCKM4YEZG7MSZQOIFQZBORHQ  B003M8NVFS     5.0 2014-05-08 18:17:54   \n",
       "167397  AFDFMCKM4YEZG7MSZQOIFQZBORHQ  B003M8NVFS     0.0 2014-05-08 18:17:54   \n",
       "167398  AFDFMCKM4YEZG7MSZQOIFQZBORHQ  B003M8NVFS     0.0 2014-05-08 18:17:54   \n",
       "10950   AFDFMCKM4YEZG7MSZQOIFQZBORHQ  B00WUIP7YO     5.0 2013-08-22 21:16:05   \n",
       "152771  AFDFMCKM4YEZG7MSZQOIFQZBORHQ  B00WUIP7YO     0.0 2013-08-22 21:16:05   \n",
       "152772  AFDFMCKM4YEZG7MSZQOIFQZBORHQ  B00WUIP7YO     0.0 2013-08-22 21:16:05   \n",
       "152770  AFDFMCKM4YEZG7MSZQOIFQZBORHQ  B000KO0GY6     0.0 2013-08-22 21:12:37   \n",
       "10949   AFDFMCKM4YEZG7MSZQOIFQZBORHQ  B000KO0GY6     5.0 2013-08-22 21:12:37   \n",
       "152769  AFDFMCKM4YEZG7MSZQOIFQZBORHQ  B000KO0GY6     0.0 2013-08-22 21:12:37   \n",
       "10948   AFDFMCKM4YEZG7MSZQOIFQZBORHQ  B008H08JZ8     4.0 2013-08-22 21:11:08   \n",
       "152767  AFDFMCKM4YEZG7MSZQOIFQZBORHQ  B008H08JZ8     0.0 2013-08-22 21:11:08   \n",
       "152768  AFDFMCKM4YEZG7MSZQOIFQZBORHQ  B008H08JZ8     0.0 2013-08-22 21:11:08   \n",
       "10946   AFDFMCKM4YEZG7MSZQOIFQZBORHQ  B002K40R6G     4.0 2013-08-22 20:53:54   \n",
       "152763  AFDFMCKM4YEZG7MSZQOIFQZBORHQ  B002K40R6G     0.0 2013-08-22 20:53:54   \n",
       "152764  AFDFMCKM4YEZG7MSZQOIFQZBORHQ  B002K40R6G     0.0 2013-08-22 20:53:54   \n",
       "152760  AFDFMCKM4YEZG7MSZQOIFQZBORHQ  B004MFQ2I8     0.0 2013-08-22 20:50:22   \n",
       "152759  AFDFMCKM4YEZG7MSZQOIFQZBORHQ  B004MFQ2I8     0.0 2013-08-22 20:50:22   \n",
       "10944   AFDFMCKM4YEZG7MSZQOIFQZBORHQ  B004MFQ2I8     5.0 2013-08-22 20:50:22   \n",
       "152753  AFDFMCKM4YEZG7MSZQOIFQZBORHQ  B00LX3P2XS     0.0 2013-08-22 20:21:35   \n",
       "10941   AFDFMCKM4YEZG7MSZQOIFQZBORHQ  B00LX3P2XS     4.0 2013-08-22 20:21:35   \n",
       "152754  AFDFMCKM4YEZG7MSZQOIFQZBORHQ  B00LX3P2XS     0.0 2013-08-22 20:21:35   \n",
       "152749  AFDFMCKM4YEZG7MSZQOIFQZBORHQ  B003WPTBAK     0.0 2013-08-22 20:17:01   \n",
       "10939   AFDFMCKM4YEZG7MSZQOIFQZBORHQ  B003WPTBAK     5.0 2013-08-22 20:17:01   \n",
       "152750  AFDFMCKM4YEZG7MSZQOIFQZBORHQ  B003WPTBAK     0.0 2013-08-22 20:17:01   \n",
       "152747  AFDFMCKM4YEZG7MSZQOIFQZBORHQ  B003TLSXMO     0.0 2013-08-22 20:06:15   \n",
       "152748  AFDFMCKM4YEZG7MSZQOIFQZBORHQ  B003TLSXMO     0.0 2013-08-22 20:06:15   \n",
       "10938   AFDFMCKM4YEZG7MSZQOIFQZBORHQ  B003TLSXMO     5.0 2013-08-22 20:06:15   \n",
       "\n",
       "        user_indice  item_indice  \\\n",
       "286258         5348         1432   \n",
       "286257         5348         2437   \n",
       "77693          5348         2110   \n",
       "59436          5348          158   \n",
       "249744         5348          201   \n",
       "249743         5348          163   \n",
       "225291         5348         2189   \n",
       "225292         5348         4335   \n",
       "47210          5348         1571   \n",
       "225290         5348         4692   \n",
       "47209          5348         3503   \n",
       "225289         5348         3595   \n",
       "225288         5348         3454   \n",
       "225287         5348         2939   \n",
       "47208          5348         4016   \n",
       "167400         5348          731   \n",
       "167399         5348         4148   \n",
       "18264          5348         1137   \n",
       "18263          5348          422   \n",
       "167397         5348         3576   \n",
       "167398         5348          624   \n",
       "10950          5348         2123   \n",
       "152771         5348         3269   \n",
       "152772         5348         2775   \n",
       "152770         5348         1038   \n",
       "10949          5348          115   \n",
       "152769         5348         2385   \n",
       "10948          5348          935   \n",
       "152767         5348          925   \n",
       "152768         5348         4062   \n",
       "10946          5348          320   \n",
       "152763         5348         1655   \n",
       "152764         5348         2939   \n",
       "152760         5348          759   \n",
       "152759         5348         4319   \n",
       "10944          5348          550   \n",
       "152753         5348          797   \n",
       "10941          5348         1730   \n",
       "152754         5348          325   \n",
       "152749         5348         3556   \n",
       "10939          5348          455   \n",
       "152750         5348         2450   \n",
       "152747         5348         2171   \n",
       "152748         5348         2940   \n",
       "10938          5348          439   \n",
       "\n",
       "                                                                      item_sequence  \n",
       "286258  [320.0, 935.0, 115.0, 2123.0, 422.0, 1137.0, 4016.0, 3503.0, 1571.0, 158.0]  \n",
       "286257  [320.0, 935.0, 115.0, 2123.0, 422.0, 1137.0, 4016.0, 3503.0, 1571.0, 158.0]  \n",
       "77693   [320.0, 935.0, 115.0, 2123.0, 422.0, 1137.0, 4016.0, 3503.0, 1571.0, 158.0]  \n",
       "59436   [550.0, 320.0, 935.0, 115.0, 2123.0, 422.0, 1137.0, 4016.0, 3503.0, 1571.0]  \n",
       "249744  [550.0, 320.0, 935.0, 115.0, 2123.0, 422.0, 1137.0, 4016.0, 3503.0, 1571.0]  \n",
       "249743  [550.0, 320.0, 935.0, 115.0, 2123.0, 422.0, 1137.0, 4016.0, 3503.0, 1571.0]  \n",
       "225291  [1730.0, 550.0, 320.0, 935.0, 115.0, 2123.0, 422.0, 1137.0, 4016.0, 3503.0]  \n",
       "225292  [1730.0, 550.0, 320.0, 935.0, 115.0, 2123.0, 422.0, 1137.0, 4016.0, 3503.0]  \n",
       "47210   [1730.0, 550.0, 320.0, 935.0, 115.0, 2123.0, 422.0, 1137.0, 4016.0, 3503.0]  \n",
       "225290   [455.0, 1730.0, 550.0, 320.0, 935.0, 115.0, 2123.0, 422.0, 1137.0, 4016.0]  \n",
       "47209    [455.0, 1730.0, 550.0, 320.0, 935.0, 115.0, 2123.0, 422.0, 1137.0, 4016.0]  \n",
       "225289   [455.0, 1730.0, 550.0, 320.0, 935.0, 115.0, 2123.0, 422.0, 1137.0, 4016.0]  \n",
       "225288    [439.0, 455.0, 1730.0, 550.0, 320.0, 935.0, 115.0, 2123.0, 422.0, 1137.0]  \n",
       "225287    [439.0, 455.0, 1730.0, 550.0, 320.0, 935.0, 115.0, 2123.0, 422.0, 1137.0]  \n",
       "47208     [439.0, 455.0, 1730.0, 550.0, 320.0, 935.0, 115.0, 2123.0, 422.0, 1137.0]  \n",
       "167400      [-1.0, 439.0, 455.0, 1730.0, 550.0, 320.0, 935.0, 115.0, 2123.0, 422.0]  \n",
       "167399      [-1.0, 439.0, 455.0, 1730.0, 550.0, 320.0, 935.0, 115.0, 2123.0, 422.0]  \n",
       "18264       [-1.0, 439.0, 455.0, 1730.0, 550.0, 320.0, 935.0, 115.0, 2123.0, 422.0]  \n",
       "18263        [-1.0, -1.0, 439.0, 455.0, 1730.0, 550.0, 320.0, 935.0, 115.0, 2123.0]  \n",
       "167397       [-1.0, -1.0, 439.0, 455.0, 1730.0, 550.0, 320.0, 935.0, 115.0, 2123.0]  \n",
       "167398       [-1.0, -1.0, 439.0, 455.0, 1730.0, 550.0, 320.0, 935.0, 115.0, 2123.0]  \n",
       "10950          [-1.0, -1.0, -1.0, 439.0, 455.0, 1730.0, 550.0, 320.0, 935.0, 115.0]  \n",
       "152771         [-1.0, -1.0, -1.0, 439.0, 455.0, 1730.0, 550.0, 320.0, 935.0, 115.0]  \n",
       "152772         [-1.0, -1.0, -1.0, 439.0, 455.0, 1730.0, 550.0, 320.0, 935.0, 115.0]  \n",
       "152770          [-1.0, -1.0, -1.0, -1.0, 439.0, 455.0, 1730.0, 550.0, 320.0, 935.0]  \n",
       "10949           [-1.0, -1.0, -1.0, -1.0, 439.0, 455.0, 1730.0, 550.0, 320.0, 935.0]  \n",
       "152769          [-1.0, -1.0, -1.0, -1.0, 439.0, 455.0, 1730.0, 550.0, 320.0, 935.0]  \n",
       "10948            [-1.0, -1.0, -1.0, -1.0, -1.0, 439.0, 455.0, 1730.0, 550.0, 320.0]  \n",
       "152767           [-1.0, -1.0, -1.0, -1.0, -1.0, 439.0, 455.0, 1730.0, 550.0, 320.0]  \n",
       "152768           [-1.0, -1.0, -1.0, -1.0, -1.0, 439.0, 455.0, 1730.0, 550.0, 320.0]  \n",
       "10946             [-1.0, -1.0, -1.0, -1.0, -1.0, -1.0, 439.0, 455.0, 1730.0, 550.0]  \n",
       "152763            [-1.0, -1.0, -1.0, -1.0, -1.0, -1.0, 439.0, 455.0, 1730.0, 550.0]  \n",
       "152764            [-1.0, -1.0, -1.0, -1.0, -1.0, -1.0, 439.0, 455.0, 1730.0, 550.0]  \n",
       "152760             [-1.0, -1.0, -1.0, -1.0, -1.0, -1.0, -1.0, 439.0, 455.0, 1730.0]  \n",
       "152759             [-1.0, -1.0, -1.0, -1.0, -1.0, -1.0, -1.0, 439.0, 455.0, 1730.0]  \n",
       "10944              [-1.0, -1.0, -1.0, -1.0, -1.0, -1.0, -1.0, 439.0, 455.0, 1730.0]  \n",
       "152753               [-1.0, -1.0, -1.0, -1.0, -1.0, -1.0, -1.0, -1.0, 439.0, 455.0]  \n",
       "10941                [-1.0, -1.0, -1.0, -1.0, -1.0, -1.0, -1.0, -1.0, 439.0, 455.0]  \n",
       "152754               [-1.0, -1.0, -1.0, -1.0, -1.0, -1.0, -1.0, -1.0, 439.0, 455.0]  \n",
       "152749                [-1.0, -1.0, -1.0, -1.0, -1.0, -1.0, -1.0, -1.0, -1.0, 439.0]  \n",
       "10939                 [-1.0, -1.0, -1.0, -1.0, -1.0, -1.0, -1.0, -1.0, -1.0, 439.0]  \n",
       "152750                [-1.0, -1.0, -1.0, -1.0, -1.0, -1.0, -1.0, -1.0, -1.0, 439.0]  \n",
       "152747                 [-1.0, -1.0, -1.0, -1.0, -1.0, -1.0, -1.0, -1.0, -1.0, -1.0]  \n",
       "152748                 [-1.0, -1.0, -1.0, -1.0, -1.0, -1.0, -1.0, -1.0, -1.0, -1.0]  \n",
       "10938                  [-1.0, -1.0, -1.0, -1.0, -1.0, -1.0, -1.0, -1.0, -1.0, -1.0]  "
      ]
     },
     "metadata": {},
     "output_type": "display_data"
    }
   ],
   "source": [
    "with pd.option_context(\"display.max_colwidth\", None):\n",
    "    display(train_df.loc[train_df[args.user_col] == \"AFDFMCKM4YEZG7MSZQOIFQZBORHQ\"].sort_values(by=args.timestamp_col, ascending=False))"
   ]
  },
  {
   "cell_type": "code",
   "execution_count": null,
   "metadata": {},
   "outputs": [],
   "source": []
  }
 ],
 "metadata": {
  "kernelspec": {
   "display_name": "Python 3",
   "language": "python",
   "name": "python3"
  },
  "language_info": {
   "codemirror_mode": {
    "name": "ipython",
    "version": 3
   },
   "file_extension": ".py",
   "mimetype": "text/x-python",
   "name": "python",
   "nbconvert_exporter": "python",
   "pygments_lexer": "ipython3",
   "version": "3.11.9"
  }
 },
 "nbformat": 4,
 "nbformat_minor": 2
}
