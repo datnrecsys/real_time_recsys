{
 "cells": [
  {
   "cell_type": "markdown",
   "metadata": {},
   "source": [
    "## Setup"
   ]
  },
  {
   "cell_type": "code",
   "execution_count": 1,
   "metadata": {},
   "outputs": [],
   "source": [
    "%load_ext autoreload\n",
    "%autoreload 2\n",
    "%load_ext tensorboard"
   ]
  },
  {
   "cell_type": "code",
   "execution_count": 2,
   "metadata": {},
   "outputs": [],
   "source": [
    "import pandas as pd\n",
    "from pydantic import BaseModel\n",
    "import sys\n",
    "import os\n",
    "from lightning.pytorch.loggers import MLFlowLogger\n",
    "from loguru import logger\n",
    "from load_dotenv import load_dotenv\n",
    "import torch\n",
    "from torch.utils.data import DataLoader\n",
    "import lightning as L\n",
    "from lightning.pytorch.callbacks.early_stopping import EarlyStopping\n",
    "from lightning.pytorch.callbacks import ModelCheckpoint\n",
    "import mlflow\n",
    "\n",
    "sys.path.insert(0, \"..\")\n",
    "\n",
    "from src.utils.embedding_id_mapper import IDMapper\n",
    "from src.algo.sequence.model import SequenceRatingPrediction\n",
    "from src.algo.sequence.dataset import UserItemBinaryRatingDFDataset\n",
    "from src.algo.sequence.trainer import SeqModellingLitModule\n",
    "from src.eval.utils import create_rec_df, create_label_df, merge_recs_with_target\n",
    "from src.eval.log_metrics import log_ranking_metrics, log_classification_metrics"
   ]
  },
  {
   "cell_type": "code",
   "execution_count": 3,
   "metadata": {},
   "outputs": [
    {
     "data": {
      "text/plain": [
       "True"
      ]
     },
     "execution_count": 3,
     "metadata": {},
     "output_type": "execute_result"
    }
   ],
   "source": [
    "load_dotenv(override = True)"
   ]
  },
  {
   "cell_type": "code",
   "execution_count": 4,
   "metadata": {},
   "outputs": [
    {
     "name": "stderr",
     "output_type": "stream",
     "text": [
      "\u001b[32m2025-06-20 02:32:26.427\u001b[0m | \u001b[1mINFO    \u001b[0m | \u001b[36m__main__\u001b[0m:\u001b[36minit\u001b[0m:\u001b[36m43\u001b[0m - \u001b[1mSetting up Mlflow experiment: first-attempt, run_name: 006-sequence-modelling-attn-128-dim-bce-prelu\u001b[0m\n"
     ]
    },
    {
     "name": "stdout",
     "output_type": "stream",
     "text": [
      "{\n",
      "  \"testing\": false,\n",
      "  \"log_to_mlflow\": true,\n",
      "  \"experiment_name\": \"first-attempt\",\n",
      "  \"notebook_persit_dp\": \"/home/dinhln/Desktop/real_time_recsys/notebooks/data/first-attempt/006-sequence-modelling-attn-128-dim-bce-prelu\",\n",
      "  \"run_name\": \"006-sequence-modelling-attn-128-dim-bce-prelu\",\n",
      "  \"user_col\": \"user_id\",\n",
      "  \"item_col\": \"parent_asin\",\n",
      "  \"rating_col\": \"rating\",\n",
      "  \"timestamp_col\": \"timestamp\",\n",
      "  \"group_name\": \"seq-modelling\",\n",
      "  \"top_K\": 100,\n",
      "  \"top_k\": 10,\n",
      "  \"batch_size\": 128,\n",
      "  \"learning_rate\": 0.006,\n",
      "  \"l2_reg\": 0.0,\n",
      "  \"early_stopping_patience\": 20,\n",
      "  \"device\": \"cuda\",\n",
      "  \"max_epochs\": 100,\n",
      "  \"dropout\": 0.1,\n",
      "  \"embedding_dim\": 128,\n",
      "  \"train_data_fp\": \"/home/dinhln/Desktop/real_time_recsys/data_for_ai/interim/train_sample_interactions_16407u_neg_seq.parquet\",\n",
      "  \"val_data_fp\": \"/home/dinhln/Desktop/real_time_recsys/data_for_ai/interim/val_sample_interactions_16407u_neg_seq.parquet\",\n",
      "  \"best_checkpoint_path\": null\n",
      "}\n"
     ]
    }
   ],
   "source": [
    "class Args(BaseModel):\n",
    "    testing: bool = False\n",
    "    log_to_mlflow: bool = True\n",
    "    experiment_name: str = \"first-attempt\"\n",
    "    notebook_persit_dp: str = None\n",
    "    \n",
    "    run_name: str = None\n",
    "\n",
    "    user_col: str = \"user_id\"\n",
    "    item_col: str = \"parent_asin\"\n",
    "    rating_col: str = \"rating\"\n",
    "    timestamp_col: str = \"timestamp\"\n",
    "    group_name: str = \"seq-modelling\"\n",
    "\n",
    "    top_K: int = 100\n",
    "    top_k: int = 10\n",
    "\n",
    "    batch_size: int = 128\n",
    "    learning_rate: float = 0.006\n",
    "    l2_reg: float = 0\n",
    "    early_stopping_patience: int = 20\n",
    "    device: str = \"cuda\" if torch.cuda.is_available() else \"cpu\"\n",
    "    max_epochs: int = 100\n",
    "\n",
    "    # TwoTower specific\n",
    "    dropout: float = 0.1\n",
    "    embedding_dim: int = 128\n",
    "\n",
    "\n",
    "    train_data_fp: str = os.path.abspath(\"../data_for_ai/interim/train_sample_interactions_16407u_neg_seq.parquet\")\n",
    "    val_data_fp: str = os.path.abspath(\"../data_for_ai/interim/val_sample_interactions_16407u_neg_seq.parquet\")\n",
    "\n",
    "    best_checkpoint_path: str = None\n",
    "    def init(self):\n",
    "        self.run_name: str = f\"006-sequence-modelling-attn-{self.embedding_dim}-dim-bce-prelu\"\n",
    "        self.notebook_persit_dp = os.path.abspath(f\"data/{self.experiment_name}/{self.run_name}\")\n",
    "\n",
    "        if not (mlflow_uri := os.environ.get(\"MLFLOW_TRACKING_URI\")):\n",
    "            self.log_to_mlflow = False\n",
    "            logger.warning(\"MLFlow is not enabled. Turn off tracking to Mlflow.\")\n",
    "\n",
    "        if self.log_to_mlflow:\n",
    "            logger.info(\n",
    "                f\"Setting up Mlflow experiment: {self.experiment_name}, run_name: {self.run_name}\"\n",
    "            )\n",
    "\n",
    "            self._mlf_logger = MLFlowLogger(\n",
    "                experiment_name=self.experiment_name,\n",
    "                run_name=self.run_name,\n",
    "                tracking_uri=mlflow_uri,\n",
    "                log_model=True,\n",
    "            )\n",
    "\n",
    "        if not self.testing:\n",
    "            os.makedirs(self.notebook_persit_dp, exist_ok=True)\n",
    "        return self\n",
    "    \n",
    "args = Args().init()\n",
    "print(args.model_dump_json(indent=2))"
   ]
  },
  {
   "cell_type": "markdown",
   "metadata": {},
   "source": [
    "## Init model"
   ]
  },
  {
   "cell_type": "code",
   "execution_count": 5,
   "metadata": {},
   "outputs": [],
   "source": [
    "def init_model(n_users, n_items, embedding_dim, dropout, item_embedding=None):\n",
    "    return SequenceRatingPrediction(\n",
    "        item_embedding=item_embedding,\n",
    "        num_users=n_users,\n",
    "        num_items=n_items,\n",
    "        embedding_dim=embedding_dim,\n",
    "        dropout=dropout,\n",
    "    )"
   ]
  },
  {
   "cell_type": "markdown",
   "metadata": {},
   "source": [
    "## Test implementation"
   ]
  },
  {
   "cell_type": "code",
   "execution_count": 6,
   "metadata": {},
   "outputs": [
    {
     "name": "stdout",
     "output_type": "stream",
     "text": [
      "tensor([[-0.0067]], grad_fn=<MaskedFillBackward0>)\n"
     ]
    },
    {
     "name": "stderr",
     "output_type": "stream",
     "text": [
      "/home/dinhln/Desktop/real_time_recsys/.venv/lib/python3.11/site-packages/torch/nn/modules/transformer.py:385: UserWarning:\n",
      "\n",
      "enable_nested_tensor is True, but self.use_nested_tensor is False because encoder_layer.activation_relu_or_gelu was not True\n",
      "\n"
     ]
    },
    {
     "data": {
      "text/plain": [
       "SequenceRatingPrediction(\n",
       "  (item_embedding): Embedding(7, 32, padding_idx=6)\n",
       "  (user_embedding): Embedding(3, 32)\n",
       "  (encoder_layer): TransformerEncoderLayer(\n",
       "    (self_attn): MultiheadAttention(\n",
       "      (out_proj): NonDynamicallyQuantizableLinear(in_features=32, out_features=32, bias=True)\n",
       "    )\n",
       "    (linear1): Linear(in_features=32, out_features=32, bias=True)\n",
       "    (dropout): Dropout(p=0.1, inplace=False)\n",
       "    (linear2): Linear(in_features=32, out_features=32, bias=True)\n",
       "    (norm1): LayerNorm((32,), eps=1e-05, elementwise_affine=True)\n",
       "    (norm2): LayerNorm((32,), eps=1e-05, elementwise_affine=True)\n",
       "    (dropout1): Dropout(p=0.1, inplace=False)\n",
       "    (dropout2): Dropout(p=0.1, inplace=False)\n",
       "    (activation): PReLU(num_parameters=1)\n",
       "  )\n",
       "  (encoder): TransformerEncoder(\n",
       "    (layers): ModuleList(\n",
       "      (0): TransformerEncoderLayer(\n",
       "        (self_attn): MultiheadAttention(\n",
       "          (out_proj): NonDynamicallyQuantizableLinear(in_features=32, out_features=32, bias=True)\n",
       "        )\n",
       "        (linear1): Linear(in_features=32, out_features=32, bias=True)\n",
       "        (dropout): Dropout(p=0.1, inplace=False)\n",
       "        (linear2): Linear(in_features=32, out_features=32, bias=True)\n",
       "        (norm1): LayerNorm((32,), eps=1e-05, elementwise_affine=True)\n",
       "        (norm2): LayerNorm((32,), eps=1e-05, elementwise_affine=True)\n",
       "        (dropout1): Dropout(p=0.1, inplace=False)\n",
       "        (dropout2): Dropout(p=0.1, inplace=False)\n",
       "        (activation): PReLU(num_parameters=1)\n",
       "      )\n",
       "    )\n",
       "  )\n",
       "  (prelu1): PReLU(num_parameters=1)\n",
       "  (prelu2): PReLU(num_parameters=1)\n",
       "  (dropout): Dropout(p=0.1, inplace=False)\n",
       "  (final_fc): Linear(in_features=64, out_features=32, bias=True)\n",
       "  (final_fc2): Linear(in_features=32, out_features=16, bias=True)\n",
       "  (score_fc): Linear(in_features=16, out_features=1, bias=True)\n",
       ")"
      ]
     },
     "execution_count": 6,
     "metadata": {},
     "output_type": "execute_result"
    }
   ],
   "source": [
    "embedding_dim = 32\n",
    "batch_size = 2\n",
    "\n",
    "# Mock data\n",
    "user_indices = [0, 0, 1, 2, 2]\n",
    "item_indices = [0, 1, 2, 3, 4]\n",
    "timestamps = [0, 1, 2, 3, 4]\n",
    "ratings = [0, 3, 1, 3, 0]\n",
    "# item_sequences = [\n",
    "#     [2, 3, -1, -1],\n",
    "#     [2, 4, -1, -1],\n",
    "#     [1, 3, -1, -1],\n",
    "#     [2, 1, -1, -1],\n",
    "#     [4, 1, -1, -1],\n",
    "# ]\n",
    "\n",
    "item_sequences = [\n",
    "    [-1, -1, 2, 3],\n",
    "    [-1, -1, 2, 4],\n",
    "    [-1, -1, 1, 3],\n",
    "    [-1, -1, 2, 1],\n",
    "    [-1, -1, 4, 1],\n",
    "]\n",
    "\n",
    "\n",
    "n_users = len(set(user_indices))\n",
    "\n",
    "n_items = len(set(item_indices))\n",
    "\n",
    "train_df = pd.DataFrame(\n",
    "    {\n",
    "        \"user_indice\": user_indices,\n",
    "        \"item_indice\": item_indices,\n",
    "        args.timestamp_col: timestamps,\n",
    "        args.rating_col: ratings,\n",
    "        \"item_sequence\": item_sequences,\n",
    "    }\n",
    ")\n",
    "\n",
    "model = init_model(n_users, n_items, embedding_dim, args.dropout)\n",
    "\n",
    "# Example forward pass\n",
    "model.eval()\n",
    "user = torch.tensor([0])\n",
    "item_sequence = torch.tensor([[-0, 1, -1, -1]])\n",
    "target_item = torch.tensor([2])\n",
    "predictions = model(user, item_sequence, target_item)\n",
    "print(predictions)\n",
    "model.train()"
   ]
  },
  {
   "cell_type": "code",
   "execution_count": 7,
   "metadata": {},
   "outputs": [],
   "source": [
    "rating_dataset = UserItemBinaryRatingDFDataset(\n",
    "    train_df, \"user_indice\", \"item_indice\", args.rating_col, args.timestamp_col,\"item_sequence\"\n",
    ")\n",
    "\n",
    "train_loader = DataLoader(\n",
    "    rating_dataset, batch_size=batch_size, shuffle=False, drop_last=True\n",
    ")"
   ]
  },
  {
   "cell_type": "code",
   "execution_count": 8,
   "metadata": {},
   "outputs": [
    {
     "name": "stdout",
     "output_type": "stream",
     "text": [
      "{'user': tensor([0, 0]), 'item': tensor([0, 1]), 'rating': tensor([0., 1.]), 'item_sequence': tensor([[-1, -1,  2,  3],\n",
      "        [-1, -1,  2,  4]], dtype=torch.int32)}\n",
      "{'user': tensor([1, 2]), 'item': tensor([2, 3]), 'rating': tensor([1., 1.]), 'item_sequence': tensor([[-1, -1,  1,  3],\n",
      "        [-1, -1,  2,  1]], dtype=torch.int32)}\n"
     ]
    }
   ],
   "source": [
    "for batch_input in train_loader:\n",
    "    print(batch_input)"
   ]
  },
  {
   "cell_type": "code",
   "execution_count": 9,
   "metadata": {},
   "outputs": [
    {
     "name": "stderr",
     "output_type": "stream",
     "text": [
      "You are using the plain ModelCheckpoint callback. Consider using LitModelCheckpoint which with seamless uploading to Model registry.\n",
      "GPU available: True (cuda), used: True\n",
      "TPU available: False, using: 0 TPU cores\n",
      "HPU available: False, using: 0 HPUs\n",
      "You are using a CUDA device ('NVIDIA GeForce RTX 3050 Laptop GPU') that has Tensor Cores. To properly utilize them, you should set `torch.set_float32_matmul_precision('medium' | 'high')` which will trade-off precision for performance. For more details, read https://pytorch.org/docs/stable/generated/torch.set_float32_matmul_precision.html#torch.set_float32_matmul_precision\n",
      "LOCAL_RANK: 0 - CUDA_VISIBLE_DEVICES: [0]\n",
      "\n",
      "  | Name               | Type                     | Params | Mode \n",
      "------------------------------------------------------------------------\n",
      "0 | model              | SequenceRatingPrediction | 15.9 K | train\n",
      "1 | val_roc_auc_metric | BinaryAUROC              | 0      | train\n",
      "2 | val_pr_auc_metric  | BinaryAveragePrecision   | 0      | train\n",
      "------------------------------------------------------------------------\n",
      "15.9 K    Trainable params\n",
      "0         Non-trainable params\n",
      "15.9 K    Total params\n",
      "0.064     Total estimated model params size (MB)\n",
      "35        Modules in train mode\n",
      "0         Modules in eval mode\n"
     ]
    },
    {
     "data": {
      "application/vnd.jupyter.widget-view+json": {
       "model_id": "e96e9b4465724dd3a6c9d17186e60918",
       "version_major": 2,
       "version_minor": 0
      },
      "text/plain": [
       "Sanity Checking: |          | 0/? [00:00<?, ?it/s]"
      ]
     },
     "metadata": {},
     "output_type": "display_data"
    },
    {
     "name": "stderr",
     "output_type": "stream",
     "text": [
      "/home/dinhln/Desktop/real_time_recsys/.venv/lib/python3.11/site-packages/lightning/pytorch/trainer/connectors/data_connector.py:425: PossibleUserWarning:\n",
      "\n",
      "The 'val_dataloader' does not have many workers which may be a bottleneck. Consider increasing the value of the `num_workers` argument` to `num_workers=19` in the `DataLoader` to improve performance.\n",
      "\n",
      "/home/dinhln/Desktop/real_time_recsys/.venv/lib/python3.11/site-packages/lightning/pytorch/trainer/connectors/data_connector.py:425: PossibleUserWarning:\n",
      "\n",
      "The 'train_dataloader' does not have many workers which may be a bottleneck. Consider increasing the value of the `num_workers` argument` to `num_workers=19` in the `DataLoader` to improve performance.\n",
      "\n",
      "/home/dinhln/Desktop/real_time_recsys/.venv/lib/python3.11/site-packages/lightning/pytorch/loops/fit_loop.py:310: PossibleUserWarning:\n",
      "\n",
      "The number of training batches (2) is smaller than the logging interval Trainer(log_every_n_steps=50). Set a lower value for log_every_n_steps if you want to see logs for the training epoch.\n",
      "\n"
     ]
    },
    {
     "data": {
      "application/vnd.jupyter.widget-view+json": {
       "model_id": "cb3592315ccc4eeb96f3eabaec4224be",
       "version_major": 2,
       "version_minor": 0
      },
      "text/plain": [
       "Training: |          | 0/? [00:00<?, ?it/s]"
      ]
     },
     "metadata": {},
     "output_type": "display_data"
    },
    {
     "data": {
      "application/vnd.jupyter.widget-view+json": {
       "model_id": "3e5c4b4b7fed40edbe5a2f84072d2405",
       "version_major": 2,
       "version_minor": 0
      },
      "text/plain": [
       "Validation: |          | 0/? [00:00<?, ?it/s]"
      ]
     },
     "metadata": {},
     "output_type": "display_data"
    },
    {
     "data": {
      "application/vnd.jupyter.widget-view+json": {
       "model_id": "932154e32720459fa869183221d64d62",
       "version_major": 2,
       "version_minor": 0
      },
      "text/plain": [
       "Validation: |          | 0/? [00:00<?, ?it/s]"
      ]
     },
     "metadata": {},
     "output_type": "display_data"
    },
    {
     "data": {
      "application/vnd.jupyter.widget-view+json": {
       "model_id": "ba6e62190e20426e8296178d9b7be649",
       "version_major": 2,
       "version_minor": 0
      },
      "text/plain": [
       "Validation: |          | 0/? [00:00<?, ?it/s]"
      ]
     },
     "metadata": {},
     "output_type": "display_data"
    },
    {
     "data": {
      "application/vnd.jupyter.widget-view+json": {
       "model_id": "63a0223b5d05452dad65da7d59cb3564",
       "version_major": 2,
       "version_minor": 0
      },
      "text/plain": [
       "Validation: |          | 0/? [00:00<?, ?it/s]"
      ]
     },
     "metadata": {},
     "output_type": "display_data"
    },
    {
     "data": {
      "application/vnd.jupyter.widget-view+json": {
       "model_id": "95bfc2e1cd314bce8e2d20df7b36308c",
       "version_major": 2,
       "version_minor": 0
      },
      "text/plain": [
       "Validation: |          | 0/? [00:00<?, ?it/s]"
      ]
     },
     "metadata": {},
     "output_type": "display_data"
    },
    {
     "data": {
      "application/vnd.jupyter.widget-view+json": {
       "model_id": "0642f54ac02646798288b444751bf75c",
       "version_major": 2,
       "version_minor": 0
      },
      "text/plain": [
       "Validation: |          | 0/? [00:00<?, ?it/s]"
      ]
     },
     "metadata": {},
     "output_type": "display_data"
    },
    {
     "data": {
      "application/vnd.jupyter.widget-view+json": {
       "model_id": "bb286f2c2adc46fd92e1bf346a941669",
       "version_major": 2,
       "version_minor": 0
      },
      "text/plain": [
       "Validation: |          | 0/? [00:00<?, ?it/s]"
      ]
     },
     "metadata": {},
     "output_type": "display_data"
    },
    {
     "data": {
      "application/vnd.jupyter.widget-view+json": {
       "model_id": "fd658f31a458453386e505013ea6efed",
       "version_major": 2,
       "version_minor": 0
      },
      "text/plain": [
       "Validation: |          | 0/? [00:00<?, ?it/s]"
      ]
     },
     "metadata": {},
     "output_type": "display_data"
    },
    {
     "data": {
      "application/vnd.jupyter.widget-view+json": {
       "model_id": "f72e38893d3247c3b8eec8d0969ee255",
       "version_major": 2,
       "version_minor": 0
      },
      "text/plain": [
       "Validation: |          | 0/? [00:00<?, ?it/s]"
      ]
     },
     "metadata": {},
     "output_type": "display_data"
    },
    {
     "data": {
      "application/vnd.jupyter.widget-view+json": {
       "model_id": "a2925e87a05f4cc9b7704d414c3d2fa3",
       "version_major": 2,
       "version_minor": 0
      },
      "text/plain": [
       "Validation: |          | 0/? [00:00<?, ?it/s]"
      ]
     },
     "metadata": {},
     "output_type": "display_data"
    },
    {
     "data": {
      "application/vnd.jupyter.widget-view+json": {
       "model_id": "1b3154d6357a44199356a154388115f4",
       "version_major": 2,
       "version_minor": 0
      },
      "text/plain": [
       "Validation: |          | 0/? [00:00<?, ?it/s]"
      ]
     },
     "metadata": {},
     "output_type": "display_data"
    },
    {
     "data": {
      "application/vnd.jupyter.widget-view+json": {
       "model_id": "0d1a94db99764e989aeeaa981eae3d6e",
       "version_major": 2,
       "version_minor": 0
      },
      "text/plain": [
       "Validation: |          | 0/? [00:00<?, ?it/s]"
      ]
     },
     "metadata": {},
     "output_type": "display_data"
    },
    {
     "data": {
      "application/vnd.jupyter.widget-view+json": {
       "model_id": "fb2fbb480a3f44d683cae4591c4e1c78",
       "version_major": 2,
       "version_minor": 0
      },
      "text/plain": [
       "Validation: |          | 0/? [00:00<?, ?it/s]"
      ]
     },
     "metadata": {},
     "output_type": "display_data"
    },
    {
     "data": {
      "application/vnd.jupyter.widget-view+json": {
       "model_id": "ef007005089f4854ae8fd93ad07d7eb5",
       "version_major": 2,
       "version_minor": 0
      },
      "text/plain": [
       "Validation: |          | 0/? [00:00<?, ?it/s]"
      ]
     },
     "metadata": {},
     "output_type": "display_data"
    },
    {
     "data": {
      "application/vnd.jupyter.widget-view+json": {
       "model_id": "b4bc9523bea64712b7511faf0d005dda",
       "version_major": 2,
       "version_minor": 0
      },
      "text/plain": [
       "Validation: |          | 0/? [00:00<?, ?it/s]"
      ]
     },
     "metadata": {},
     "output_type": "display_data"
    },
    {
     "data": {
      "application/vnd.jupyter.widget-view+json": {
       "model_id": "c83325072d0a431eb42baa16dfb3d487",
       "version_major": 2,
       "version_minor": 0
      },
      "text/plain": [
       "Validation: |          | 0/? [00:00<?, ?it/s]"
      ]
     },
     "metadata": {},
     "output_type": "display_data"
    },
    {
     "data": {
      "application/vnd.jupyter.widget-view+json": {
       "model_id": "1721cb9865664560b6fd42bda6fdf38b",
       "version_major": 2,
       "version_minor": 0
      },
      "text/plain": [
       "Validation: |          | 0/? [00:00<?, ?it/s]"
      ]
     },
     "metadata": {},
     "output_type": "display_data"
    },
    {
     "data": {
      "application/vnd.jupyter.widget-view+json": {
       "model_id": "f8d2e6f6c48646c194b33a19bd61d71c",
       "version_major": 2,
       "version_minor": 0
      },
      "text/plain": [
       "Validation: |          | 0/? [00:00<?, ?it/s]"
      ]
     },
     "metadata": {},
     "output_type": "display_data"
    },
    {
     "data": {
      "application/vnd.jupyter.widget-view+json": {
       "model_id": "7f07db573b2b433bb7e827f3710fa072",
       "version_major": 2,
       "version_minor": 0
      },
      "text/plain": [
       "Validation: |          | 0/? [00:00<?, ?it/s]"
      ]
     },
     "metadata": {},
     "output_type": "display_data"
    },
    {
     "data": {
      "application/vnd.jupyter.widget-view+json": {
       "model_id": "09be53b6270644a2881e0f54b75e2205",
       "version_major": 2,
       "version_minor": 0
      },
      "text/plain": [
       "Validation: |          | 0/? [00:00<?, ?it/s]"
      ]
     },
     "metadata": {},
     "output_type": "display_data"
    },
    {
     "data": {
      "application/vnd.jupyter.widget-view+json": {
       "model_id": "dee29640177a43d18236a806331b2633",
       "version_major": 2,
       "version_minor": 0
      },
      "text/plain": [
       "Validation: |          | 0/? [00:00<?, ?it/s]"
      ]
     },
     "metadata": {},
     "output_type": "display_data"
    },
    {
     "data": {
      "application/vnd.jupyter.widget-view+json": {
       "model_id": "101589d76c5f44a59838b3ee1b8ba15d",
       "version_major": 2,
       "version_minor": 0
      },
      "text/plain": [
       "Validation: |          | 0/? [00:00<?, ?it/s]"
      ]
     },
     "metadata": {},
     "output_type": "display_data"
    },
    {
     "data": {
      "application/vnd.jupyter.widget-view+json": {
       "model_id": "aba7b9e2b822408395cf5544bd8d08f9",
       "version_major": 2,
       "version_minor": 0
      },
      "text/plain": [
       "Validation: |          | 0/? [00:00<?, ?it/s]"
      ]
     },
     "metadata": {},
     "output_type": "display_data"
    },
    {
     "data": {
      "application/vnd.jupyter.widget-view+json": {
       "model_id": "a22fd028ad614a1da8e0df6a480fbdc2",
       "version_major": 2,
       "version_minor": 0
      },
      "text/plain": [
       "Validation: |          | 0/? [00:00<?, ?it/s]"
      ]
     },
     "metadata": {},
     "output_type": "display_data"
    },
    {
     "data": {
      "application/vnd.jupyter.widget-view+json": {
       "model_id": "6af9967ae2514154a7280213792b3c72",
       "version_major": 2,
       "version_minor": 0
      },
      "text/plain": [
       "Validation: |          | 0/? [00:00<?, ?it/s]"
      ]
     },
     "metadata": {},
     "output_type": "display_data"
    },
    {
     "data": {
      "application/vnd.jupyter.widget-view+json": {
       "model_id": "9e6500e6919f4a80b032cdd6da1044c2",
       "version_major": 2,
       "version_minor": 0
      },
      "text/plain": [
       "Validation: |          | 0/? [00:00<?, ?it/s]"
      ]
     },
     "metadata": {},
     "output_type": "display_data"
    },
    {
     "data": {
      "application/vnd.jupyter.widget-view+json": {
       "model_id": "1a79fe479813416b80f8d3331aa8d89f",
       "version_major": 2,
       "version_minor": 0
      },
      "text/plain": [
       "Validation: |          | 0/? [00:00<?, ?it/s]"
      ]
     },
     "metadata": {},
     "output_type": "display_data"
    },
    {
     "data": {
      "application/vnd.jupyter.widget-view+json": {
       "model_id": "38031cff3dc947c28f48d5f1a014f3f3",
       "version_major": 2,
       "version_minor": 0
      },
      "text/plain": [
       "Validation: |          | 0/? [00:00<?, ?it/s]"
      ]
     },
     "metadata": {},
     "output_type": "display_data"
    },
    {
     "data": {
      "application/vnd.jupyter.widget-view+json": {
       "model_id": "49f949efe1104507b9055ec4886c35e7",
       "version_major": 2,
       "version_minor": 0
      },
      "text/plain": [
       "Validation: |          | 0/? [00:00<?, ?it/s]"
      ]
     },
     "metadata": {},
     "output_type": "display_data"
    },
    {
     "data": {
      "application/vnd.jupyter.widget-view+json": {
       "model_id": "7741080a3a304e1889b4dca9bb4cb282",
       "version_major": 2,
       "version_minor": 0
      },
      "text/plain": [
       "Validation: |          | 0/? [00:00<?, ?it/s]"
      ]
     },
     "metadata": {},
     "output_type": "display_data"
    },
    {
     "data": {
      "application/vnd.jupyter.widget-view+json": {
       "model_id": "4ef5ea359f964355a44ea8f36ce270b6",
       "version_major": 2,
       "version_minor": 0
      },
      "text/plain": [
       "Validation: |          | 0/? [00:00<?, ?it/s]"
      ]
     },
     "metadata": {},
     "output_type": "display_data"
    },
    {
     "data": {
      "application/vnd.jupyter.widget-view+json": {
       "model_id": "e6bbbb93b300476e9563d28d12a3dd7b",
       "version_major": 2,
       "version_minor": 0
      },
      "text/plain": [
       "Validation: |          | 0/? [00:00<?, ?it/s]"
      ]
     },
     "metadata": {},
     "output_type": "display_data"
    },
    {
     "data": {
      "application/vnd.jupyter.widget-view+json": {
       "model_id": "1998e731bb6b4c14a8f15c90029cadef",
       "version_major": 2,
       "version_minor": 0
      },
      "text/plain": [
       "Validation: |          | 0/? [00:00<?, ?it/s]"
      ]
     },
     "metadata": {},
     "output_type": "display_data"
    },
    {
     "data": {
      "application/vnd.jupyter.widget-view+json": {
       "model_id": "7df658fec8874f90b38529f415d9870e",
       "version_major": 2,
       "version_minor": 0
      },
      "text/plain": [
       "Validation: |          | 0/? [00:00<?, ?it/s]"
      ]
     },
     "metadata": {},
     "output_type": "display_data"
    },
    {
     "data": {
      "application/vnd.jupyter.widget-view+json": {
       "model_id": "1b4d4003064c4a77bdab4e9960032223",
       "version_major": 2,
       "version_minor": 0
      },
      "text/plain": [
       "Validation: |          | 0/? [00:00<?, ?it/s]"
      ]
     },
     "metadata": {},
     "output_type": "display_data"
    },
    {
     "data": {
      "application/vnd.jupyter.widget-view+json": {
       "model_id": "df965637ec6541aab3d0ba768d163f57",
       "version_major": 2,
       "version_minor": 0
      },
      "text/plain": [
       "Validation: |          | 0/? [00:00<?, ?it/s]"
      ]
     },
     "metadata": {},
     "output_type": "display_data"
    },
    {
     "data": {
      "application/vnd.jupyter.widget-view+json": {
       "model_id": "86cd1505aa614baf8939ef89b185489f",
       "version_major": 2,
       "version_minor": 0
      },
      "text/plain": [
       "Validation: |          | 0/? [00:00<?, ?it/s]"
      ]
     },
     "metadata": {},
     "output_type": "display_data"
    },
    {
     "data": {
      "application/vnd.jupyter.widget-view+json": {
       "model_id": "1d76b805e1af40609cb003a3437d4510",
       "version_major": 2,
       "version_minor": 0
      },
      "text/plain": [
       "Validation: |          | 0/? [00:00<?, ?it/s]"
      ]
     },
     "metadata": {},
     "output_type": "display_data"
    },
    {
     "data": {
      "application/vnd.jupyter.widget-view+json": {
       "model_id": "ff6036dbdb2b440ba7c25b0f2841ce59",
       "version_major": 2,
       "version_minor": 0
      },
      "text/plain": [
       "Validation: |          | 0/? [00:00<?, ?it/s]"
      ]
     },
     "metadata": {},
     "output_type": "display_data"
    },
    {
     "data": {
      "application/vnd.jupyter.widget-view+json": {
       "model_id": "e0083b0344cc4c0f8249c3796257cf7c",
       "version_major": 2,
       "version_minor": 0
      },
      "text/plain": [
       "Validation: |          | 0/? [00:00<?, ?it/s]"
      ]
     },
     "metadata": {},
     "output_type": "display_data"
    },
    {
     "data": {
      "application/vnd.jupyter.widget-view+json": {
       "model_id": "17d9a7e70dbc4872ac4a2e30161076ff",
       "version_major": 2,
       "version_minor": 0
      },
      "text/plain": [
       "Validation: |          | 0/? [00:00<?, ?it/s]"
      ]
     },
     "metadata": {},
     "output_type": "display_data"
    },
    {
     "data": {
      "application/vnd.jupyter.widget-view+json": {
       "model_id": "b7c77d6411364b40b1da3037bf97558f",
       "version_major": 2,
       "version_minor": 0
      },
      "text/plain": [
       "Validation: |          | 0/? [00:00<?, ?it/s]"
      ]
     },
     "metadata": {},
     "output_type": "display_data"
    },
    {
     "data": {
      "application/vnd.jupyter.widget-view+json": {
       "model_id": "02aabab36e664db38191214751ba94b0",
       "version_major": 2,
       "version_minor": 0
      },
      "text/plain": [
       "Validation: |          | 0/? [00:00<?, ?it/s]"
      ]
     },
     "metadata": {},
     "output_type": "display_data"
    },
    {
     "data": {
      "application/vnd.jupyter.widget-view+json": {
       "model_id": "42b0b6d7a3624a698187893835bbc06c",
       "version_major": 2,
       "version_minor": 0
      },
      "text/plain": [
       "Validation: |          | 0/? [00:00<?, ?it/s]"
      ]
     },
     "metadata": {},
     "output_type": "display_data"
    },
    {
     "data": {
      "application/vnd.jupyter.widget-view+json": {
       "model_id": "3626467c727047a6b4abc7746f5d8d3d",
       "version_major": 2,
       "version_minor": 0
      },
      "text/plain": [
       "Validation: |          | 0/? [00:00<?, ?it/s]"
      ]
     },
     "metadata": {},
     "output_type": "display_data"
    },
    {
     "data": {
      "application/vnd.jupyter.widget-view+json": {
       "model_id": "1cfefc1273b4468e867c64f1808fa428",
       "version_major": 2,
       "version_minor": 0
      },
      "text/plain": [
       "Validation: |          | 0/? [00:00<?, ?it/s]"
      ]
     },
     "metadata": {},
     "output_type": "display_data"
    },
    {
     "data": {
      "application/vnd.jupyter.widget-view+json": {
       "model_id": "27ec37f2d24f43c8bb07e4019b11cfa1",
       "version_major": 2,
       "version_minor": 0
      },
      "text/plain": [
       "Validation: |          | 0/? [00:00<?, ?it/s]"
      ]
     },
     "metadata": {},
     "output_type": "display_data"
    },
    {
     "data": {
      "application/vnd.jupyter.widget-view+json": {
       "model_id": "7a8b946f834d49bda1e5e7b9def71983",
       "version_major": 2,
       "version_minor": 0
      },
      "text/plain": [
       "Validation: |          | 0/? [00:00<?, ?it/s]"
      ]
     },
     "metadata": {},
     "output_type": "display_data"
    },
    {
     "data": {
      "application/vnd.jupyter.widget-view+json": {
       "model_id": "7f23a1f3a3804320a4373bd47cc8c671",
       "version_major": 2,
       "version_minor": 0
      },
      "text/plain": [
       "Validation: |          | 0/? [00:00<?, ?it/s]"
      ]
     },
     "metadata": {},
     "output_type": "display_data"
    },
    {
     "data": {
      "application/vnd.jupyter.widget-view+json": {
       "model_id": "996724e936eb4accb8d83d7150a45fe2",
       "version_major": 2,
       "version_minor": 0
      },
      "text/plain": [
       "Validation: |          | 0/? [00:00<?, ?it/s]"
      ]
     },
     "metadata": {},
     "output_type": "display_data"
    },
    {
     "data": {
      "application/vnd.jupyter.widget-view+json": {
       "model_id": "42b45b8393f64a60a26a4963a6ef9e0d",
       "version_major": 2,
       "version_minor": 0
      },
      "text/plain": [
       "Validation: |          | 0/? [00:00<?, ?it/s]"
      ]
     },
     "metadata": {},
     "output_type": "display_data"
    },
    {
     "data": {
      "application/vnd.jupyter.widget-view+json": {
       "model_id": "6a34cfbbf7414bb78ad44308da6a0a3d",
       "version_major": 2,
       "version_minor": 0
      },
      "text/plain": [
       "Validation: |          | 0/? [00:00<?, ?it/s]"
      ]
     },
     "metadata": {},
     "output_type": "display_data"
    },
    {
     "data": {
      "application/vnd.jupyter.widget-view+json": {
       "model_id": "badd885f9d1148ae85c64e63aa61cf7b",
       "version_major": 2,
       "version_minor": 0
      },
      "text/plain": [
       "Validation: |          | 0/? [00:00<?, ?it/s]"
      ]
     },
     "metadata": {},
     "output_type": "display_data"
    },
    {
     "data": {
      "application/vnd.jupyter.widget-view+json": {
       "model_id": "5cbeac4cea4f47e4a8bd5df075461136",
       "version_major": 2,
       "version_minor": 0
      },
      "text/plain": [
       "Validation: |          | 0/? [00:00<?, ?it/s]"
      ]
     },
     "metadata": {},
     "output_type": "display_data"
    },
    {
     "data": {
      "application/vnd.jupyter.widget-view+json": {
       "model_id": "35977bf09c574279a514568654528e89",
       "version_major": 2,
       "version_minor": 0
      },
      "text/plain": [
       "Validation: |          | 0/? [00:00<?, ?it/s]"
      ]
     },
     "metadata": {},
     "output_type": "display_data"
    },
    {
     "data": {
      "application/vnd.jupyter.widget-view+json": {
       "model_id": "b0da93f4894a45c789dab77680099a4a",
       "version_major": 2,
       "version_minor": 0
      },
      "text/plain": [
       "Validation: |          | 0/? [00:00<?, ?it/s]"
      ]
     },
     "metadata": {},
     "output_type": "display_data"
    },
    {
     "data": {
      "application/vnd.jupyter.widget-view+json": {
       "model_id": "447d9286c1eb4014972d7f18900cf0d6",
       "version_major": 2,
       "version_minor": 0
      },
      "text/plain": [
       "Validation: |          | 0/? [00:00<?, ?it/s]"
      ]
     },
     "metadata": {},
     "output_type": "display_data"
    },
    {
     "data": {
      "application/vnd.jupyter.widget-view+json": {
       "model_id": "0d04a6a201874e62842f8be790bb985c",
       "version_major": 2,
       "version_minor": 0
      },
      "text/plain": [
       "Validation: |          | 0/? [00:00<?, ?it/s]"
      ]
     },
     "metadata": {},
     "output_type": "display_data"
    },
    {
     "data": {
      "application/vnd.jupyter.widget-view+json": {
       "model_id": "526024787be044138ede3f783e6bc66b",
       "version_major": 2,
       "version_minor": 0
      },
      "text/plain": [
       "Validation: |          | 0/? [00:00<?, ?it/s]"
      ]
     },
     "metadata": {},
     "output_type": "display_data"
    },
    {
     "data": {
      "application/vnd.jupyter.widget-view+json": {
       "model_id": "e3a6d40bbb494f66983ff4ee757ee245",
       "version_major": 2,
       "version_minor": 0
      },
      "text/plain": [
       "Validation: |          | 0/? [00:00<?, ?it/s]"
      ]
     },
     "metadata": {},
     "output_type": "display_data"
    },
    {
     "data": {
      "application/vnd.jupyter.widget-view+json": {
       "model_id": "ee6b5808b2994609870e5b14fdcd5160",
       "version_major": 2,
       "version_minor": 0
      },
      "text/plain": [
       "Validation: |          | 0/? [00:00<?, ?it/s]"
      ]
     },
     "metadata": {},
     "output_type": "display_data"
    },
    {
     "data": {
      "application/vnd.jupyter.widget-view+json": {
       "model_id": "3938b5dcc9db4bdeb869ed9e1da95077",
       "version_major": 2,
       "version_minor": 0
      },
      "text/plain": [
       "Validation: |          | 0/? [00:00<?, ?it/s]"
      ]
     },
     "metadata": {},
     "output_type": "display_data"
    },
    {
     "data": {
      "application/vnd.jupyter.widget-view+json": {
       "model_id": "637941b3f52146ac97da2b5fcb1f1e2f",
       "version_major": 2,
       "version_minor": 0
      },
      "text/plain": [
       "Validation: |          | 0/? [00:00<?, ?it/s]"
      ]
     },
     "metadata": {},
     "output_type": "display_data"
    },
    {
     "data": {
      "application/vnd.jupyter.widget-view+json": {
       "model_id": "521d294616b24053bc842c9f63286329",
       "version_major": 2,
       "version_minor": 0
      },
      "text/plain": [
       "Validation: |          | 0/? [00:00<?, ?it/s]"
      ]
     },
     "metadata": {},
     "output_type": "display_data"
    },
    {
     "data": {
      "application/vnd.jupyter.widget-view+json": {
       "model_id": "2d3f3ca9a6714e36bb39a495f7bcf25a",
       "version_major": 2,
       "version_minor": 0
      },
      "text/plain": [
       "Validation: |          | 0/? [00:00<?, ?it/s]"
      ]
     },
     "metadata": {},
     "output_type": "display_data"
    },
    {
     "data": {
      "application/vnd.jupyter.widget-view+json": {
       "model_id": "dff1ae820cc84c6294e735e791d5a53b",
       "version_major": 2,
       "version_minor": 0
      },
      "text/plain": [
       "Validation: |          | 0/? [00:00<?, ?it/s]"
      ]
     },
     "metadata": {},
     "output_type": "display_data"
    },
    {
     "data": {
      "application/vnd.jupyter.widget-view+json": {
       "model_id": "26f4c6d5a02c4af09cbf99078ff2b66c",
       "version_major": 2,
       "version_minor": 0
      },
      "text/plain": [
       "Validation: |          | 0/? [00:00<?, ?it/s]"
      ]
     },
     "metadata": {},
     "output_type": "display_data"
    },
    {
     "data": {
      "application/vnd.jupyter.widget-view+json": {
       "model_id": "581ab33737824c12b04e07d6bd108fa1",
       "version_major": 2,
       "version_minor": 0
      },
      "text/plain": [
       "Validation: |          | 0/? [00:00<?, ?it/s]"
      ]
     },
     "metadata": {},
     "output_type": "display_data"
    },
    {
     "data": {
      "application/vnd.jupyter.widget-view+json": {
       "model_id": "c3cc74084cc546b39fbce8832261bb94",
       "version_major": 2,
       "version_minor": 0
      },
      "text/plain": [
       "Validation: |          | 0/? [00:00<?, ?it/s]"
      ]
     },
     "metadata": {},
     "output_type": "display_data"
    },
    {
     "data": {
      "application/vnd.jupyter.widget-view+json": {
       "model_id": "0b0517d39d5d4c81b04fe24c620daf37",
       "version_major": 2,
       "version_minor": 0
      },
      "text/plain": [
       "Validation: |          | 0/? [00:00<?, ?it/s]"
      ]
     },
     "metadata": {},
     "output_type": "display_data"
    },
    {
     "data": {
      "application/vnd.jupyter.widget-view+json": {
       "model_id": "c84e35e87bd44e4aa435e62d226fa2ba",
       "version_major": 2,
       "version_minor": 0
      },
      "text/plain": [
       "Validation: |          | 0/? [00:00<?, ?it/s]"
      ]
     },
     "metadata": {},
     "output_type": "display_data"
    },
    {
     "data": {
      "application/vnd.jupyter.widget-view+json": {
       "model_id": "a00d7546cf8a438a87e1841e494337ea",
       "version_major": 2,
       "version_minor": 0
      },
      "text/plain": [
       "Validation: |          | 0/? [00:00<?, ?it/s]"
      ]
     },
     "metadata": {},
     "output_type": "display_data"
    },
    {
     "data": {
      "application/vnd.jupyter.widget-view+json": {
       "model_id": "0c7b96d7c42c47e6bddac9839d9af58a",
       "version_major": 2,
       "version_minor": 0
      },
      "text/plain": [
       "Validation: |          | 0/? [00:00<?, ?it/s]"
      ]
     },
     "metadata": {},
     "output_type": "display_data"
    },
    {
     "data": {
      "application/vnd.jupyter.widget-view+json": {
       "model_id": "9122d512a410442980bf9dcd7662ef3e",
       "version_major": 2,
       "version_minor": 0
      },
      "text/plain": [
       "Validation: |          | 0/? [00:00<?, ?it/s]"
      ]
     },
     "metadata": {},
     "output_type": "display_data"
    },
    {
     "data": {
      "application/vnd.jupyter.widget-view+json": {
       "model_id": "c9c1787eea134b2289aaed4e6391adbf",
       "version_major": 2,
       "version_minor": 0
      },
      "text/plain": [
       "Validation: |          | 0/? [00:00<?, ?it/s]"
      ]
     },
     "metadata": {},
     "output_type": "display_data"
    },
    {
     "data": {
      "application/vnd.jupyter.widget-view+json": {
       "model_id": "62d71f0d34654230b2423258b67cd5d6",
       "version_major": 2,
       "version_minor": 0
      },
      "text/plain": [
       "Validation: |          | 0/? [00:00<?, ?it/s]"
      ]
     },
     "metadata": {},
     "output_type": "display_data"
    },
    {
     "data": {
      "application/vnd.jupyter.widget-view+json": {
       "model_id": "67d6b399b65542408cb9b0313bd43128",
       "version_major": 2,
       "version_minor": 0
      },
      "text/plain": [
       "Validation: |          | 0/? [00:00<?, ?it/s]"
      ]
     },
     "metadata": {},
     "output_type": "display_data"
    },
    {
     "data": {
      "application/vnd.jupyter.widget-view+json": {
       "model_id": "de65cfbbd1d5472fa11426abf42a2664",
       "version_major": 2,
       "version_minor": 0
      },
      "text/plain": [
       "Validation: |          | 0/? [00:00<?, ?it/s]"
      ]
     },
     "metadata": {},
     "output_type": "display_data"
    },
    {
     "data": {
      "application/vnd.jupyter.widget-view+json": {
       "model_id": "e7f9964889b64a5fa54499837c0e901a",
       "version_major": 2,
       "version_minor": 0
      },
      "text/plain": [
       "Validation: |          | 0/? [00:00<?, ?it/s]"
      ]
     },
     "metadata": {},
     "output_type": "display_data"
    },
    {
     "data": {
      "application/vnd.jupyter.widget-view+json": {
       "model_id": "20f56cf8512f435888c9e94fc6619a69",
       "version_major": 2,
       "version_minor": 0
      },
      "text/plain": [
       "Validation: |          | 0/? [00:00<?, ?it/s]"
      ]
     },
     "metadata": {},
     "output_type": "display_data"
    },
    {
     "data": {
      "application/vnd.jupyter.widget-view+json": {
       "model_id": "0dd9d08ffd394d189fb541de36d05880",
       "version_major": 2,
       "version_minor": 0
      },
      "text/plain": [
       "Validation: |          | 0/? [00:00<?, ?it/s]"
      ]
     },
     "metadata": {},
     "output_type": "display_data"
    },
    {
     "data": {
      "application/vnd.jupyter.widget-view+json": {
       "model_id": "0c44616ac7d04a7c851354c0cd4ffcd1",
       "version_major": 2,
       "version_minor": 0
      },
      "text/plain": [
       "Validation: |          | 0/? [00:00<?, ?it/s]"
      ]
     },
     "metadata": {},
     "output_type": "display_data"
    },
    {
     "data": {
      "application/vnd.jupyter.widget-view+json": {
       "model_id": "3a796b7791494165b4f573427e9a2bc2",
       "version_major": 2,
       "version_minor": 0
      },
      "text/plain": [
       "Validation: |          | 0/? [00:00<?, ?it/s]"
      ]
     },
     "metadata": {},
     "output_type": "display_data"
    },
    {
     "data": {
      "application/vnd.jupyter.widget-view+json": {
       "model_id": "3d2417c20395495b93165c2c57ec3175",
       "version_major": 2,
       "version_minor": 0
      },
      "text/plain": [
       "Validation: |          | 0/? [00:00<?, ?it/s]"
      ]
     },
     "metadata": {},
     "output_type": "display_data"
    },
    {
     "data": {
      "application/vnd.jupyter.widget-view+json": {
       "model_id": "a2c30aebcc144c35bd94b82bce076da4",
       "version_major": 2,
       "version_minor": 0
      },
      "text/plain": [
       "Validation: |          | 0/? [00:00<?, ?it/s]"
      ]
     },
     "metadata": {},
     "output_type": "display_data"
    },
    {
     "data": {
      "application/vnd.jupyter.widget-view+json": {
       "model_id": "16262437c841483ca794520dcf516a77",
       "version_major": 2,
       "version_minor": 0
      },
      "text/plain": [
       "Validation: |          | 0/? [00:00<?, ?it/s]"
      ]
     },
     "metadata": {},
     "output_type": "display_data"
    },
    {
     "data": {
      "application/vnd.jupyter.widget-view+json": {
       "model_id": "16f2fdff2cbc414da02e3ca7af220fdb",
       "version_major": 2,
       "version_minor": 0
      },
      "text/plain": [
       "Validation: |          | 0/? [00:00<?, ?it/s]"
      ]
     },
     "metadata": {},
     "output_type": "display_data"
    },
    {
     "data": {
      "application/vnd.jupyter.widget-view+json": {
       "model_id": "9e740a0df4a34b9f84af1c6c11c36d62",
       "version_major": 2,
       "version_minor": 0
      },
      "text/plain": [
       "Validation: |          | 0/? [00:00<?, ?it/s]"
      ]
     },
     "metadata": {},
     "output_type": "display_data"
    },
    {
     "data": {
      "application/vnd.jupyter.widget-view+json": {
       "model_id": "78726ba27e2e46dfafff5acb2f68184b",
       "version_major": 2,
       "version_minor": 0
      },
      "text/plain": [
       "Validation: |          | 0/? [00:00<?, ?it/s]"
      ]
     },
     "metadata": {},
     "output_type": "display_data"
    },
    {
     "data": {
      "application/vnd.jupyter.widget-view+json": {
       "model_id": "81aa1bb227f5419d807d6ca5c809016d",
       "version_major": 2,
       "version_minor": 0
      },
      "text/plain": [
       "Validation: |          | 0/? [00:00<?, ?it/s]"
      ]
     },
     "metadata": {},
     "output_type": "display_data"
    },
    {
     "data": {
      "application/vnd.jupyter.widget-view+json": {
       "model_id": "5ed01820a55545819617d05435c278fa",
       "version_major": 2,
       "version_minor": 0
      },
      "text/plain": [
       "Validation: |          | 0/? [00:00<?, ?it/s]"
      ]
     },
     "metadata": {},
     "output_type": "display_data"
    },
    {
     "data": {
      "application/vnd.jupyter.widget-view+json": {
       "model_id": "a177378403d244a88a33a26386b290bb",
       "version_major": 2,
       "version_minor": 0
      },
      "text/plain": [
       "Validation: |          | 0/? [00:00<?, ?it/s]"
      ]
     },
     "metadata": {},
     "output_type": "display_data"
    },
    {
     "data": {
      "application/vnd.jupyter.widget-view+json": {
       "model_id": "c453f59bcd5a47298af99017c1c0a4f6",
       "version_major": 2,
       "version_minor": 0
      },
      "text/plain": [
       "Validation: |          | 0/? [00:00<?, ?it/s]"
      ]
     },
     "metadata": {},
     "output_type": "display_data"
    },
    {
     "data": {
      "application/vnd.jupyter.widget-view+json": {
       "model_id": "bdad19319bff4179ab531a5ba13b1fc2",
       "version_major": 2,
       "version_minor": 0
      },
      "text/plain": [
       "Validation: |          | 0/? [00:00<?, ?it/s]"
      ]
     },
     "metadata": {},
     "output_type": "display_data"
    },
    {
     "data": {
      "application/vnd.jupyter.widget-view+json": {
       "model_id": "d1d68d14c0c2471cba4a1781ef93c65e",
       "version_major": 2,
       "version_minor": 0
      },
      "text/plain": [
       "Validation: |          | 0/? [00:00<?, ?it/s]"
      ]
     },
     "metadata": {},
     "output_type": "display_data"
    },
    {
     "data": {
      "application/vnd.jupyter.widget-view+json": {
       "model_id": "138b294f823b4f3e977dfc66c7f50638",
       "version_major": 2,
       "version_minor": 0
      },
      "text/plain": [
       "Validation: |          | 0/? [00:00<?, ?it/s]"
      ]
     },
     "metadata": {},
     "output_type": "display_data"
    },
    {
     "data": {
      "application/vnd.jupyter.widget-view+json": {
       "model_id": "391ade2dd52a4cb3b89c9ff2298a13bf",
       "version_major": 2,
       "version_minor": 0
      },
      "text/plain": [
       "Validation: |          | 0/? [00:00<?, ?it/s]"
      ]
     },
     "metadata": {},
     "output_type": "display_data"
    },
    {
     "data": {
      "application/vnd.jupyter.widget-view+json": {
       "model_id": "7ac2b3bc838e4240bcbb57814538e4e2",
       "version_major": 2,
       "version_minor": 0
      },
      "text/plain": [
       "Validation: |          | 0/? [00:00<?, ?it/s]"
      ]
     },
     "metadata": {},
     "output_type": "display_data"
    },
    {
     "data": {
      "application/vnd.jupyter.widget-view+json": {
       "model_id": "e68dbedcd4e14062a9a3633520084d02",
       "version_major": 2,
       "version_minor": 0
      },
      "text/plain": [
       "Validation: |          | 0/? [00:00<?, ?it/s]"
      ]
     },
     "metadata": {},
     "output_type": "display_data"
    },
    {
     "data": {
      "application/vnd.jupyter.widget-view+json": {
       "model_id": "eeefdf0211d0493ea204d47e17dfd9a8",
       "version_major": 2,
       "version_minor": 0
      },
      "text/plain": [
       "Validation: |          | 0/? [00:00<?, ?it/s]"
      ]
     },
     "metadata": {},
     "output_type": "display_data"
    },
    {
     "name": "stderr",
     "output_type": "stream",
     "text": [
      "`Trainer.fit` stopped: `max_epochs=100` reached.\n"
     ]
    }
   ],
   "source": [
    "# model\n",
    "lit_model = SeqModellingLitModule(model, log_dir=args.notebook_persit_dp)\n",
    "\n",
    "# train model\n",
    "trainer = L.Trainer(\n",
    "    default_root_dir=f\"{args.notebook_persit_dp}/test\",\n",
    "    max_epochs=100,\n",
    "    accelerator=args.device if args.device else \"auto\",\n",
    ")\n",
    "trainer.fit(\n",
    "    model=lit_model, train_dataloaders=train_loader, val_dataloaders=train_loader\n",
    ")"
   ]
  },
  {
   "cell_type": "code",
   "execution_count": 10,
   "metadata": {},
   "outputs": [
    {
     "name": "stdout",
     "output_type": "stream",
     "text": [
      "tensor([[0.9998]], grad_fn=<SigmoidBackward0>)\n"
     ]
    }
   ],
   "source": [
    "model.eval()\n",
    "user = torch.tensor([0])\n",
    "item_sequence = torch.tensor([[-1, -1, -1, 0, 1]])\n",
    "target_item = torch.tensor([2])\n",
    "predictions = model.predict(user, item_sequence, target_item)\n",
    "print(predictions)"
   ]
  },
  {
   "cell_type": "markdown",
   "metadata": {},
   "source": [
    "## Training loop"
   ]
  },
  {
   "cell_type": "code",
   "execution_count": 11,
   "metadata": {},
   "outputs": [],
   "source": [
    "train_df = pd.read_parquet(args.train_data_fp)\n",
    "val_df = pd.read_parquet(args.val_data_fp)\n",
    "\n",
    "assert set(val_df[args.user_col].unique()).issubset(set(train_df[args.user_col].unique())), \"Validation users must be present in training users.\"\n",
    "\n",
    "assert set(val_df[args.item_col].unique()).issubset(set(train_df[args.item_col].unique())), \"Validation items must be present in training items.\"\n",
    "assert train_df[args.timestamp_col].max() < val_df[args.timestamp_col].min(), \"Validation data must be after training data. Otherwise, its a data contamination problem.\""
   ]
  },
  {
   "cell_type": "code",
   "execution_count": 12,
   "metadata": {},
   "outputs": [
    {
     "data": {
      "text/html": [
       "<div>\n",
       "<style scoped>\n",
       "    .dataframe tbody tr th:only-of-type {\n",
       "        vertical-align: middle;\n",
       "    }\n",
       "\n",
       "    .dataframe tbody tr th {\n",
       "        vertical-align: top;\n",
       "    }\n",
       "\n",
       "    .dataframe thead th {\n",
       "        text-align: right;\n",
       "    }\n",
       "</style>\n",
       "<table border=\"1\" class=\"dataframe\">\n",
       "  <thead>\n",
       "    <tr style=\"text-align: right;\">\n",
       "      <th></th>\n",
       "      <th>user_id</th>\n",
       "      <th>parent_asin</th>\n",
       "      <th>rating</th>\n",
       "      <th>timestamp</th>\n",
       "      <th>user_indice</th>\n",
       "      <th>item_indice</th>\n",
       "      <th>item_sequence</th>\n",
       "    </tr>\n",
       "  </thead>\n",
       "  <tbody>\n",
       "    <tr>\n",
       "      <th>151343</th>\n",
       "      <td>AEEV5YWQKPBTLFWHKOBBULYA2RDQ</td>\n",
       "      <td>B009RUZ7TS</td>\n",
       "      <td>0.0</td>\n",
       "      <td>2014-07-17 19:15:55.000</td>\n",
       "      <td>1412</td>\n",
       "      <td>4220</td>\n",
       "      <td>[-1.0, -1.0, -1.0, -1.0, -1.0, -1.0, -1.0, 455...</td>\n",
       "    </tr>\n",
       "    <tr>\n",
       "      <th>40958</th>\n",
       "      <td>AF7KZV4NJ5GBDVFTB7PEEUN4U53A</td>\n",
       "      <td>B0BBMLD8QT</td>\n",
       "      <td>5.0</td>\n",
       "      <td>2015-07-29 20:38:06.000</td>\n",
       "      <td>4871</td>\n",
       "      <td>4476</td>\n",
       "      <td>[-1.0, -1.0, -1.0, -1.0, -1.0, -1.0, -1.0, -1....</td>\n",
       "    </tr>\n",
       "    <tr>\n",
       "      <th>218918</th>\n",
       "      <td>AFVQ4K4KZPLQ3E2VFYSGX6HFXGNQ</td>\n",
       "      <td>B0BB6R89VF</td>\n",
       "      <td>0.0</td>\n",
       "      <td>2017-12-13 20:35:02.334</td>\n",
       "      <td>7616</td>\n",
       "      <td>1218</td>\n",
       "      <td>[-1.0, -1.0, -1.0, -1.0, -1.0, -1.0, -1.0, 129...</td>\n",
       "    </tr>\n",
       "    <tr>\n",
       "      <th>43115</th>\n",
       "      <td>AFCLWJMGYFCOJQR7T4454OF5A5WA</td>\n",
       "      <td>B00ENFP224</td>\n",
       "      <td>5.0</td>\n",
       "      <td>2015-09-06 12:09:59.000</td>\n",
       "      <td>5250</td>\n",
       "      <td>1355</td>\n",
       "      <td>[-1.0, -1.0, -1.0, -1.0, -1.0, -1.0, -1.0, -1....</td>\n",
       "    </tr>\n",
       "    <tr>\n",
       "      <th>233421</th>\n",
       "      <td>AFP4PHJ6Q2RRXLDPSDSH6VXJRUTA</td>\n",
       "      <td>B07CMXS5FP</td>\n",
       "      <td>0.0</td>\n",
       "      <td>2018-11-23 09:44:21.734</td>\n",
       "      <td>6792</td>\n",
       "      <td>838</td>\n",
       "      <td>[-1.0, -1.0, -1.0, 1055.0, 3572.0, 3865.0, 176...</td>\n",
       "    </tr>\n",
       "    <tr>\n",
       "      <th>...</th>\n",
       "      <td>...</td>\n",
       "      <td>...</td>\n",
       "      <td>...</td>\n",
       "      <td>...</td>\n",
       "      <td>...</td>\n",
       "      <td>...</td>\n",
       "      <td>...</td>\n",
       "    </tr>\n",
       "    <tr>\n",
       "      <th>250960</th>\n",
       "      <td>AGQHC7YNLYP4QV2PSBD6URSMJSVA</td>\n",
       "      <td>B07H65KP63</td>\n",
       "      <td>0.0</td>\n",
       "      <td>2020-02-08 04:09:50.457</td>\n",
       "      <td>11001</td>\n",
       "      <td>3568</td>\n",
       "      <td>[-1.0, -1.0, -1.0, -1.0, 3585.0, 1866.0, 4040....</td>\n",
       "    </tr>\n",
       "    <tr>\n",
       "      <th>217058</th>\n",
       "      <td>AHD65JAOVTTPDNJWOLSSGS3QVK6Q</td>\n",
       "      <td>B07DKMJ61N</td>\n",
       "      <td>0.0</td>\n",
       "      <td>2017-11-02 15:25:18.351</td>\n",
       "      <td>13410</td>\n",
       "      <td>4239</td>\n",
       "      <td>[-1.0, -1.0, -1.0, -1.0, -1.0, -1.0, -1.0, -1....</td>\n",
       "    </tr>\n",
       "    <tr>\n",
       "      <th>61324</th>\n",
       "      <td>AF32PWYNLPCVAU4UX35IEAZOFA3Q</td>\n",
       "      <td>B011BRUOMO</td>\n",
       "      <td>5.0</td>\n",
       "      <td>2016-07-18 05:42:21.000</td>\n",
       "      <td>4264</td>\n",
       "      <td>2253</td>\n",
       "      <td>[-1.0, -1.0, -1.0, -1.0, -1.0, -1.0, -1.0, -1....</td>\n",
       "    </tr>\n",
       "    <tr>\n",
       "      <th>132003</th>\n",
       "      <td>AGM65FYYAPHOLESGIDMFMPUQIYNA</td>\n",
       "      <td>B0016BVDIK</td>\n",
       "      <td>0.0</td>\n",
       "      <td>2010-12-16 19:59:19.000</td>\n",
       "      <td>10445</td>\n",
       "      <td>4250</td>\n",
       "      <td>[-1.0, -1.0, -1.0, -1.0, -1.0, -1.0, -1.0, -1....</td>\n",
       "    </tr>\n",
       "    <tr>\n",
       "      <th>34752</th>\n",
       "      <td>AFVQ4K4KZPLQ3E2VFYSGX6HFXGNQ</td>\n",
       "      <td>B00DR0B6XK</td>\n",
       "      <td>4.0</td>\n",
       "      <td>2015-04-02 17:48:23.000</td>\n",
       "      <td>7616</td>\n",
       "      <td>1293</td>\n",
       "      <td>[-1.0, -1.0, -1.0, -1.0, -1.0, -1.0, -1.0, -1....</td>\n",
       "    </tr>\n",
       "  </tbody>\n",
       "</table>\n",
       "<p>254784 rows × 7 columns</p>\n",
       "</div>"
      ],
      "text/plain": [
       "                             user_id parent_asin  rating  \\\n",
       "151343  AEEV5YWQKPBTLFWHKOBBULYA2RDQ  B009RUZ7TS     0.0   \n",
       "40958   AF7KZV4NJ5GBDVFTB7PEEUN4U53A  B0BBMLD8QT     5.0   \n",
       "218918  AFVQ4K4KZPLQ3E2VFYSGX6HFXGNQ  B0BB6R89VF     0.0   \n",
       "43115   AFCLWJMGYFCOJQR7T4454OF5A5WA  B00ENFP224     5.0   \n",
       "233421  AFP4PHJ6Q2RRXLDPSDSH6VXJRUTA  B07CMXS5FP     0.0   \n",
       "...                              ...         ...     ...   \n",
       "250960  AGQHC7YNLYP4QV2PSBD6URSMJSVA  B07H65KP63     0.0   \n",
       "217058  AHD65JAOVTTPDNJWOLSSGS3QVK6Q  B07DKMJ61N     0.0   \n",
       "61324   AF32PWYNLPCVAU4UX35IEAZOFA3Q  B011BRUOMO     5.0   \n",
       "132003  AGM65FYYAPHOLESGIDMFMPUQIYNA  B0016BVDIK     0.0   \n",
       "34752   AFVQ4K4KZPLQ3E2VFYSGX6HFXGNQ  B00DR0B6XK     4.0   \n",
       "\n",
       "                     timestamp  user_indice  item_indice  \\\n",
       "151343 2014-07-17 19:15:55.000         1412         4220   \n",
       "40958  2015-07-29 20:38:06.000         4871         4476   \n",
       "218918 2017-12-13 20:35:02.334         7616         1218   \n",
       "43115  2015-09-06 12:09:59.000         5250         1355   \n",
       "233421 2018-11-23 09:44:21.734         6792          838   \n",
       "...                        ...          ...          ...   \n",
       "250960 2020-02-08 04:09:50.457        11001         3568   \n",
       "217058 2017-11-02 15:25:18.351        13410         4239   \n",
       "61324  2016-07-18 05:42:21.000         4264         2253   \n",
       "132003 2010-12-16 19:59:19.000        10445         4250   \n",
       "34752  2015-04-02 17:48:23.000         7616         1293   \n",
       "\n",
       "                                            item_sequence  \n",
       "151343  [-1.0, -1.0, -1.0, -1.0, -1.0, -1.0, -1.0, 455...  \n",
       "40958   [-1.0, -1.0, -1.0, -1.0, -1.0, -1.0, -1.0, -1....  \n",
       "218918  [-1.0, -1.0, -1.0, -1.0, -1.0, -1.0, -1.0, 129...  \n",
       "43115   [-1.0, -1.0, -1.0, -1.0, -1.0, -1.0, -1.0, -1....  \n",
       "233421  [-1.0, -1.0, -1.0, 1055.0, 3572.0, 3865.0, 176...  \n",
       "...                                                   ...  \n",
       "250960  [-1.0, -1.0, -1.0, -1.0, 3585.0, 1866.0, 4040....  \n",
       "217058  [-1.0, -1.0, -1.0, -1.0, -1.0, -1.0, -1.0, -1....  \n",
       "61324   [-1.0, -1.0, -1.0, -1.0, -1.0, -1.0, -1.0, -1....  \n",
       "132003  [-1.0, -1.0, -1.0, -1.0, -1.0, -1.0, -1.0, -1....  \n",
       "34752   [-1.0, -1.0, -1.0, -1.0, -1.0, -1.0, -1.0, -1....  \n",
       "\n",
       "[254784 rows x 7 columns]"
      ]
     },
     "execution_count": 12,
     "metadata": {},
     "output_type": "execute_result"
    }
   ],
   "source": [
    "train_df"
   ]
  },
  {
   "cell_type": "code",
   "execution_count": 13,
   "metadata": {},
   "outputs": [
    {
     "data": {
      "text/html": [
       "<div>\n",
       "<style scoped>\n",
       "    .dataframe tbody tr th:only-of-type {\n",
       "        vertical-align: middle;\n",
       "    }\n",
       "\n",
       "    .dataframe tbody tr th {\n",
       "        vertical-align: top;\n",
       "    }\n",
       "\n",
       "    .dataframe thead th {\n",
       "        text-align: right;\n",
       "    }\n",
       "</style>\n",
       "<table border=\"1\" class=\"dataframe\">\n",
       "  <thead>\n",
       "    <tr style=\"text-align: right;\">\n",
       "      <th></th>\n",
       "      <th>user_id</th>\n",
       "      <th>parent_asin</th>\n",
       "      <th>rating</th>\n",
       "      <th>timestamp</th>\n",
       "      <th>user_indice</th>\n",
       "      <th>item_indice</th>\n",
       "      <th>item_sequence</th>\n",
       "    </tr>\n",
       "  </thead>\n",
       "  <tbody>\n",
       "    <tr>\n",
       "      <th>172167</th>\n",
       "      <td>AEEV5YWQKPBTLFWHKOBBULYA2RDQ</td>\n",
       "      <td>B07C1RSV9C</td>\n",
       "      <td>0.0</td>\n",
       "      <td>2015-08-05 16:31:49</td>\n",
       "      <td>1412</td>\n",
       "      <td>934</td>\n",
       "      <td>[-1.0, -1.0, -1.0, 4559.0, 4443.0, 3164.0, 1047.0, 4685.0, 107.0, 3295.0]</td>\n",
       "    </tr>\n",
       "    <tr>\n",
       "      <th>41296</th>\n",
       "      <td>AEEV5YWQKPBTLFWHKOBBULYA2RDQ</td>\n",
       "      <td>B07C1RSV9C</td>\n",
       "      <td>5.0</td>\n",
       "      <td>2015-08-05 16:31:49</td>\n",
       "      <td>1412</td>\n",
       "      <td>3276</td>\n",
       "      <td>[-1.0, -1.0, -1.0, 4559.0, 4443.0, 3164.0, 1047.0, 4685.0, 107.0, 3295.0]</td>\n",
       "    </tr>\n",
       "    <tr>\n",
       "      <th>151346</th>\n",
       "      <td>AEEV5YWQKPBTLFWHKOBBULYA2RDQ</td>\n",
       "      <td>B07CB22VVJ</td>\n",
       "      <td>0.0</td>\n",
       "      <td>2014-07-17 19:19:28</td>\n",
       "      <td>1412</td>\n",
       "      <td>4599</td>\n",
       "      <td>[-1.0, -1.0, -1.0, -1.0, 4559.0, 4443.0, 3164.0, 1047.0, 4685.0, 107.0]</td>\n",
       "    </tr>\n",
       "    <tr>\n",
       "      <th>20475</th>\n",
       "      <td>AEEV5YWQKPBTLFWHKOBBULYA2RDQ</td>\n",
       "      <td>B07CB22VVJ</td>\n",
       "      <td>5.0</td>\n",
       "      <td>2014-07-17 19:19:28</td>\n",
       "      <td>1412</td>\n",
       "      <td>3295</td>\n",
       "      <td>[-1.0, -1.0, -1.0, -1.0, 4559.0, 4443.0, 3164.0, 1047.0, 4685.0, 107.0]</td>\n",
       "    </tr>\n",
       "    <tr>\n",
       "      <th>20474</th>\n",
       "      <td>AEEV5YWQKPBTLFWHKOBBULYA2RDQ</td>\n",
       "      <td>B000I23TTE</td>\n",
       "      <td>5.0</td>\n",
       "      <td>2014-07-17 19:16:43</td>\n",
       "      <td>1412</td>\n",
       "      <td>107</td>\n",
       "      <td>[-1.0, -1.0, -1.0, -1.0, -1.0, 4559.0, 4443.0, 3164.0, 1047.0, 4685.0]</td>\n",
       "    </tr>\n",
       "    <tr>\n",
       "      <th>151345</th>\n",
       "      <td>AEEV5YWQKPBTLFWHKOBBULYA2RDQ</td>\n",
       "      <td>B000I23TTE</td>\n",
       "      <td>0.0</td>\n",
       "      <td>2014-07-17 19:16:43</td>\n",
       "      <td>1412</td>\n",
       "      <td>4659</td>\n",
       "      <td>[-1.0, -1.0, -1.0, -1.0, -1.0, 4559.0, 4443.0, 3164.0, 1047.0, 4685.0]</td>\n",
       "    </tr>\n",
       "    <tr>\n",
       "      <th>151344</th>\n",
       "      <td>AEEV5YWQKPBTLFWHKOBBULYA2RDQ</td>\n",
       "      <td>B0BYSP9676</td>\n",
       "      <td>0.0</td>\n",
       "      <td>2014-07-17 19:16:20</td>\n",
       "      <td>1412</td>\n",
       "      <td>3678</td>\n",
       "      <td>[-1.0, -1.0, -1.0, -1.0, -1.0, -1.0, 4559.0, 4443.0, 3164.0, 1047.0]</td>\n",
       "    </tr>\n",
       "    <tr>\n",
       "      <th>20473</th>\n",
       "      <td>AEEV5YWQKPBTLFWHKOBBULYA2RDQ</td>\n",
       "      <td>B0BYSP9676</td>\n",
       "      <td>5.0</td>\n",
       "      <td>2014-07-17 19:16:20</td>\n",
       "      <td>1412</td>\n",
       "      <td>4685</td>\n",
       "      <td>[-1.0, -1.0, -1.0, -1.0, -1.0, -1.0, 4559.0, 4443.0, 3164.0, 1047.0]</td>\n",
       "    </tr>\n",
       "    <tr>\n",
       "      <th>151343</th>\n",
       "      <td>AEEV5YWQKPBTLFWHKOBBULYA2RDQ</td>\n",
       "      <td>B009RUZ7TS</td>\n",
       "      <td>0.0</td>\n",
       "      <td>2014-07-17 19:15:55</td>\n",
       "      <td>1412</td>\n",
       "      <td>4220</td>\n",
       "      <td>[-1.0, -1.0, -1.0, -1.0, -1.0, -1.0, -1.0, 4559.0, 4443.0, 3164.0]</td>\n",
       "    </tr>\n",
       "    <tr>\n",
       "      <th>20472</th>\n",
       "      <td>AEEV5YWQKPBTLFWHKOBBULYA2RDQ</td>\n",
       "      <td>B009RUZ7TS</td>\n",
       "      <td>5.0</td>\n",
       "      <td>2014-07-17 19:15:55</td>\n",
       "      <td>1412</td>\n",
       "      <td>1047</td>\n",
       "      <td>[-1.0, -1.0, -1.0, -1.0, -1.0, -1.0, -1.0, 4559.0, 4443.0, 3164.0]</td>\n",
       "    </tr>\n",
       "    <tr>\n",
       "      <th>20471</th>\n",
       "      <td>AEEV5YWQKPBTLFWHKOBBULYA2RDQ</td>\n",
       "      <td>B0787JNNXH</td>\n",
       "      <td>5.0</td>\n",
       "      <td>2014-07-17 19:12:09</td>\n",
       "      <td>1412</td>\n",
       "      <td>3164</td>\n",
       "      <td>[-1.0, -1.0, -1.0, -1.0, -1.0, -1.0, -1.0, -1.0, 4559.0, 4443.0]</td>\n",
       "    </tr>\n",
       "    <tr>\n",
       "      <th>151342</th>\n",
       "      <td>AEEV5YWQKPBTLFWHKOBBULYA2RDQ</td>\n",
       "      <td>B0787JNNXH</td>\n",
       "      <td>0.0</td>\n",
       "      <td>2014-07-17 19:12:09</td>\n",
       "      <td>1412</td>\n",
       "      <td>121</td>\n",
       "      <td>[-1.0, -1.0, -1.0, -1.0, -1.0, -1.0, -1.0, -1.0, 4559.0, 4443.0]</td>\n",
       "    </tr>\n",
       "    <tr>\n",
       "      <th>151341</th>\n",
       "      <td>AEEV5YWQKPBTLFWHKOBBULYA2RDQ</td>\n",
       "      <td>B0B7FN67QT</td>\n",
       "      <td>0.0</td>\n",
       "      <td>2014-07-17 19:11:53</td>\n",
       "      <td>1412</td>\n",
       "      <td>4653</td>\n",
       "      <td>[-1.0, -1.0, -1.0, -1.0, -1.0, -1.0, -1.0, -1.0, -1.0, 4559.0]</td>\n",
       "    </tr>\n",
       "    <tr>\n",
       "      <th>20470</th>\n",
       "      <td>AEEV5YWQKPBTLFWHKOBBULYA2RDQ</td>\n",
       "      <td>B0B7FN67QT</td>\n",
       "      <td>5.0</td>\n",
       "      <td>2014-07-17 19:11:53</td>\n",
       "      <td>1412</td>\n",
       "      <td>4443</td>\n",
       "      <td>[-1.0, -1.0, -1.0, -1.0, -1.0, -1.0, -1.0, -1.0, -1.0, 4559.0]</td>\n",
       "    </tr>\n",
       "    <tr>\n",
       "      <th>20469</th>\n",
       "      <td>AEEV5YWQKPBTLFWHKOBBULYA2RDQ</td>\n",
       "      <td>B0BM6ZLKPL</td>\n",
       "      <td>5.0</td>\n",
       "      <td>2014-07-17 19:11:13</td>\n",
       "      <td>1412</td>\n",
       "      <td>4559</td>\n",
       "      <td>[-1.0, -1.0, -1.0, -1.0, -1.0, -1.0, -1.0, -1.0, -1.0, -1.0]</td>\n",
       "    </tr>\n",
       "    <tr>\n",
       "      <th>151340</th>\n",
       "      <td>AEEV5YWQKPBTLFWHKOBBULYA2RDQ</td>\n",
       "      <td>B0BM6ZLKPL</td>\n",
       "      <td>0.0</td>\n",
       "      <td>2014-07-17 19:11:13</td>\n",
       "      <td>1412</td>\n",
       "      <td>2004</td>\n",
       "      <td>[-1.0, -1.0, -1.0, -1.0, -1.0, -1.0, -1.0, -1.0, -1.0, -1.0]</td>\n",
       "    </tr>\n",
       "  </tbody>\n",
       "</table>\n",
       "</div>"
      ],
      "text/plain": [
       "                             user_id parent_asin  rating           timestamp  \\\n",
       "172167  AEEV5YWQKPBTLFWHKOBBULYA2RDQ  B07C1RSV9C     0.0 2015-08-05 16:31:49   \n",
       "41296   AEEV5YWQKPBTLFWHKOBBULYA2RDQ  B07C1RSV9C     5.0 2015-08-05 16:31:49   \n",
       "151346  AEEV5YWQKPBTLFWHKOBBULYA2RDQ  B07CB22VVJ     0.0 2014-07-17 19:19:28   \n",
       "20475   AEEV5YWQKPBTLFWHKOBBULYA2RDQ  B07CB22VVJ     5.0 2014-07-17 19:19:28   \n",
       "20474   AEEV5YWQKPBTLFWHKOBBULYA2RDQ  B000I23TTE     5.0 2014-07-17 19:16:43   \n",
       "151345  AEEV5YWQKPBTLFWHKOBBULYA2RDQ  B000I23TTE     0.0 2014-07-17 19:16:43   \n",
       "151344  AEEV5YWQKPBTLFWHKOBBULYA2RDQ  B0BYSP9676     0.0 2014-07-17 19:16:20   \n",
       "20473   AEEV5YWQKPBTLFWHKOBBULYA2RDQ  B0BYSP9676     5.0 2014-07-17 19:16:20   \n",
       "151343  AEEV5YWQKPBTLFWHKOBBULYA2RDQ  B009RUZ7TS     0.0 2014-07-17 19:15:55   \n",
       "20472   AEEV5YWQKPBTLFWHKOBBULYA2RDQ  B009RUZ7TS     5.0 2014-07-17 19:15:55   \n",
       "20471   AEEV5YWQKPBTLFWHKOBBULYA2RDQ  B0787JNNXH     5.0 2014-07-17 19:12:09   \n",
       "151342  AEEV5YWQKPBTLFWHKOBBULYA2RDQ  B0787JNNXH     0.0 2014-07-17 19:12:09   \n",
       "151341  AEEV5YWQKPBTLFWHKOBBULYA2RDQ  B0B7FN67QT     0.0 2014-07-17 19:11:53   \n",
       "20470   AEEV5YWQKPBTLFWHKOBBULYA2RDQ  B0B7FN67QT     5.0 2014-07-17 19:11:53   \n",
       "20469   AEEV5YWQKPBTLFWHKOBBULYA2RDQ  B0BM6ZLKPL     5.0 2014-07-17 19:11:13   \n",
       "151340  AEEV5YWQKPBTLFWHKOBBULYA2RDQ  B0BM6ZLKPL     0.0 2014-07-17 19:11:13   \n",
       "\n",
       "        user_indice  item_indice  \\\n",
       "172167         1412          934   \n",
       "41296          1412         3276   \n",
       "151346         1412         4599   \n",
       "20475          1412         3295   \n",
       "20474          1412          107   \n",
       "151345         1412         4659   \n",
       "151344         1412         3678   \n",
       "20473          1412         4685   \n",
       "151343         1412         4220   \n",
       "20472          1412         1047   \n",
       "20471          1412         3164   \n",
       "151342         1412          121   \n",
       "151341         1412         4653   \n",
       "20470          1412         4443   \n",
       "20469          1412         4559   \n",
       "151340         1412         2004   \n",
       "\n",
       "                                                                    item_sequence  \n",
       "172167  [-1.0, -1.0, -1.0, 4559.0, 4443.0, 3164.0, 1047.0, 4685.0, 107.0, 3295.0]  \n",
       "41296   [-1.0, -1.0, -1.0, 4559.0, 4443.0, 3164.0, 1047.0, 4685.0, 107.0, 3295.0]  \n",
       "151346    [-1.0, -1.0, -1.0, -1.0, 4559.0, 4443.0, 3164.0, 1047.0, 4685.0, 107.0]  \n",
       "20475     [-1.0, -1.0, -1.0, -1.0, 4559.0, 4443.0, 3164.0, 1047.0, 4685.0, 107.0]  \n",
       "20474      [-1.0, -1.0, -1.0, -1.0, -1.0, 4559.0, 4443.0, 3164.0, 1047.0, 4685.0]  \n",
       "151345     [-1.0, -1.0, -1.0, -1.0, -1.0, 4559.0, 4443.0, 3164.0, 1047.0, 4685.0]  \n",
       "151344       [-1.0, -1.0, -1.0, -1.0, -1.0, -1.0, 4559.0, 4443.0, 3164.0, 1047.0]  \n",
       "20473        [-1.0, -1.0, -1.0, -1.0, -1.0, -1.0, 4559.0, 4443.0, 3164.0, 1047.0]  \n",
       "151343         [-1.0, -1.0, -1.0, -1.0, -1.0, -1.0, -1.0, 4559.0, 4443.0, 3164.0]  \n",
       "20472          [-1.0, -1.0, -1.0, -1.0, -1.0, -1.0, -1.0, 4559.0, 4443.0, 3164.0]  \n",
       "20471            [-1.0, -1.0, -1.0, -1.0, -1.0, -1.0, -1.0, -1.0, 4559.0, 4443.0]  \n",
       "151342           [-1.0, -1.0, -1.0, -1.0, -1.0, -1.0, -1.0, -1.0, 4559.0, 4443.0]  \n",
       "151341             [-1.0, -1.0, -1.0, -1.0, -1.0, -1.0, -1.0, -1.0, -1.0, 4559.0]  \n",
       "20470              [-1.0, -1.0, -1.0, -1.0, -1.0, -1.0, -1.0, -1.0, -1.0, 4559.0]  \n",
       "20469                [-1.0, -1.0, -1.0, -1.0, -1.0, -1.0, -1.0, -1.0, -1.0, -1.0]  \n",
       "151340               [-1.0, -1.0, -1.0, -1.0, -1.0, -1.0, -1.0, -1.0, -1.0, -1.0]  "
      ]
     },
     "metadata": {},
     "output_type": "display_data"
    }
   ],
   "source": [
    "with pd.option_context(\"display.max_colwidth\", None):\n",
    "    display(train_df.loc[train_df[\"user_id\"] == \"AEEV5YWQKPBTLFWHKOBBULYA2RDQ\"].sort_values(by=args.timestamp_col, ascending=False))"
   ]
  },
  {
   "cell_type": "markdown",
   "metadata": {},
   "source": [
    "## Convert user_id and item_id into indices"
   ]
  },
  {
   "cell_type": "code",
   "execution_count": 14,
   "metadata": {},
   "outputs": [],
   "source": [
    "# idm_path = os.path.abspath(\"../data_for_ai/interim/idm_16407u.json\")\n",
    "# idm = IDMapper().load(idm_path)\n",
    "# idm.get_user_id(1)"
   ]
  },
  {
   "cell_type": "code",
   "execution_count": 15,
   "metadata": {},
   "outputs": [],
   "source": [
    "# train_df = train_df.pipe(idm.map_indices)\n",
    "# val_df = val_df.pipe(idm.map_indices)\n",
    "\n",
    "# assert idm.unknown_item_index not in train_df[\"item_indice\"].values, \"Unknown item index must be present in training data.\"\n",
    "# assert idm.unknown_user_index not in train_df[\"user_indice\"].values, \"Unknown user index must be present in training data.\"\n",
    "# assert idm.unknown_item_index not in val_df[\"item_indice\"].values, \"Unknown item index must be present in validation data.\"\n",
    "# assert idm.unknown_user_index not in val_df[\"user_indice\"].values, \"Unknown user index must be present in validation data.\""
   ]
  },
  {
   "cell_type": "code",
   "execution_count": 16,
   "metadata": {},
   "outputs": [],
   "source": [
    "# train_df.head(3)"
   ]
  },
  {
   "cell_type": "code",
   "execution_count": 17,
   "metadata": {},
   "outputs": [],
   "source": [
    "# assert train_df.groupby(args.user_col)[args.item_col].nunique().min() >= 5, \"Each user must have at least five items.\"\n",
    "# assert train_df.groupby(args.item_col)[args.user_col].nunique().min() >= 10, \"Each item must have at least ten users.\""
   ]
  },
  {
   "cell_type": "markdown",
   "metadata": {},
   "source": [
    "## Training loop"
   ]
  },
  {
   "cell_type": "code",
   "execution_count": 18,
   "metadata": {},
   "outputs": [],
   "source": [
    "rating_dataset = UserItemBinaryRatingDFDataset(\n",
    "    train_df, \"user_indice\", \"item_indice\", args.rating_col, args.timestamp_col, \"item_sequence\"\n",
    ")\n",
    "val_rating_dataset = UserItemBinaryRatingDFDataset(\n",
    "    val_df, \"user_indice\", \"item_indice\", args.rating_col, args.timestamp_col, \"item_sequence\"\n",
    ")\n",
    "\n",
    "train_loader = DataLoader(\n",
    "    rating_dataset, batch_size=args.batch_size, shuffle=True, drop_last=True\n",
    ")\n",
    "val_loader = DataLoader(\n",
    "    val_rating_dataset, batch_size=args.batch_size, shuffle=False, drop_last=False\n",
    ")"
   ]
  },
  {
   "cell_type": "code",
   "execution_count": 19,
   "metadata": {},
   "outputs": [
    {
     "name": "stderr",
     "output_type": "stream",
     "text": [
      "\u001b[32m2025-06-20 02:32:37.424\u001b[0m | \u001b[1mINFO    \u001b[0m | \u001b[36m__main__\u001b[0m:\u001b[36m<module>\u001b[0m:\u001b[36m6\u001b[0m - \u001b[1mNumber of users: 16407, Number of items: 4817\u001b[0m\n",
      "/home/dinhln/Desktop/real_time_recsys/.venv/lib/python3.11/site-packages/torch/nn/modules/transformer.py:385: UserWarning:\n",
      "\n",
      "enable_nested_tensor is True, but self.use_nested_tensor is False because encoder_layer.activation_relu_or_gelu was not True\n",
      "\n"
     ]
    }
   ],
   "source": [
    "item_indices = train_df[args.item_col].unique()\n",
    "user_indices = train_df[args.user_col].unique()\n",
    "n_items = len(item_indices)\n",
    "n_users = len(user_indices)\n",
    "\n",
    "logger.info(f\"Number of users: {n_users}, Number of items: {n_items}\")\n",
    "model = init_model(n_users, n_items, args.embedding_dim, args.dropout)"
   ]
  },
  {
   "cell_type": "code",
   "execution_count": 20,
   "metadata": {},
   "outputs": [
    {
     "data": {
      "text/plain": [
       "'AE227WAM4NWQPJI33OPN7ZARNNZQ'"
      ]
     },
     "execution_count": 20,
     "metadata": {},
     "output_type": "execute_result"
    }
   ],
   "source": [
    "idm_path = os.path.abspath(\"../data_for_ai/interim/idm_16407u.json\")\n",
    "idm = IDMapper().load(idm_path)\n",
    "idm.get_user_id(1)"
   ]
  },
  {
   "cell_type": "markdown",
   "metadata": {},
   "source": [
    "## Overfit 1 batch"
   ]
  },
  {
   "cell_type": "code",
   "execution_count": 21,
   "metadata": {},
   "outputs": [
    {
     "name": "stderr",
     "output_type": "stream",
     "text": [
      "You are using the plain ModelCheckpoint callback. Consider using LitModelCheckpoint which with seamless uploading to Model registry.\n",
      "GPU available: True (cuda), used: True\n",
      "TPU available: False, using: 0 TPU cores\n",
      "HPU available: False, using: 0 HPUs\n",
      "`Trainer(overfit_batches=1)` was configured so 1 batch will be used.\n",
      "LOCAL_RANK: 0 - CUDA_VISIBLE_DEVICES: [0]\n",
      "\n",
      "  | Name               | Type                     | Params | Mode \n",
      "------------------------------------------------------------------------\n",
      "0 | model              | SequenceRatingPrediction | 3.0 M  | train\n",
      "1 | val_roc_auc_metric | BinaryAUROC              | 0      | train\n",
      "2 | val_pr_auc_metric  | BinaryAveragePrecision   | 0      | train\n",
      "------------------------------------------------------------------------\n",
      "3.0 M     Trainable params\n",
      "0         Non-trainable params\n",
      "3.0 M     Total params\n",
      "11.829    Total estimated model params size (MB)\n",
      "35        Modules in train mode\n",
      "0         Modules in eval mode\n"
     ]
    },
    {
     "data": {
      "application/vnd.jupyter.widget-view+json": {
       "model_id": "31a1a30fd5e34bd7b89592a3a0ddd772",
       "version_major": 2,
       "version_minor": 0
      },
      "text/plain": [
       "Sanity Checking: |          | 0/? [00:00<?, ?it/s]"
      ]
     },
     "metadata": {},
     "output_type": "display_data"
    },
    {
     "name": "stderr",
     "output_type": "stream",
     "text": [
      "/home/dinhln/Desktop/real_time_recsys/.venv/lib/python3.11/site-packages/lightning/pytorch/trainer/connectors/data_connector.py:252: UserWarning:\n",
      "\n",
      "You requested to overfit but enabled val dataloader shuffling. We are turning off the val dataloader shuffling for you.\n",
      "\n",
      "/home/dinhln/Desktop/real_time_recsys/.venv/lib/python3.11/site-packages/lightning/pytorch/trainer/connectors/data_connector.py:425: PossibleUserWarning:\n",
      "\n",
      "The 'val_dataloader' does not have many workers which may be a bottleneck. Consider increasing the value of the `num_workers` argument` to `num_workers=19` in the `DataLoader` to improve performance.\n",
      "\n",
      "/home/dinhln/Desktop/real_time_recsys/.venv/lib/python3.11/site-packages/lightning/pytorch/trainer/connectors/data_connector.py:252: UserWarning:\n",
      "\n",
      "You requested to overfit but enabled train dataloader shuffling. We are turning off the train dataloader shuffling for you.\n",
      "\n",
      "/home/dinhln/Desktop/real_time_recsys/.venv/lib/python3.11/site-packages/lightning/pytorch/trainer/connectors/data_connector.py:425: PossibleUserWarning:\n",
      "\n",
      "The 'train_dataloader' does not have many workers which may be a bottleneck. Consider increasing the value of the `num_workers` argument` to `num_workers=19` in the `DataLoader` to improve performance.\n",
      "\n",
      "/home/dinhln/Desktop/real_time_recsys/.venv/lib/python3.11/site-packages/lightning/pytorch/loops/fit_loop.py:310: PossibleUserWarning:\n",
      "\n",
      "The number of training batches (1) is smaller than the logging interval Trainer(log_every_n_steps=50). Set a lower value for log_every_n_steps if you want to see logs for the training epoch.\n",
      "\n"
     ]
    },
    {
     "data": {
      "application/vnd.jupyter.widget-view+json": {
       "model_id": "42abccfbbfa043ffb2c8cfe94e1a94a2",
       "version_major": 2,
       "version_minor": 0
      },
      "text/plain": [
       "Training: |          | 0/? [00:00<?, ?it/s]"
      ]
     },
     "metadata": {},
     "output_type": "display_data"
    },
    {
     "data": {
      "application/vnd.jupyter.widget-view+json": {
       "model_id": "53e371bd2fc44924bfde379cd25f9546",
       "version_major": 2,
       "version_minor": 0
      },
      "text/plain": [
       "Validation: |          | 0/? [00:00<?, ?it/s]"
      ]
     },
     "metadata": {},
     "output_type": "display_data"
    },
    {
     "data": {
      "application/vnd.jupyter.widget-view+json": {
       "model_id": "1aa21a4b0c424330b77df394f7cfd84a",
       "version_major": 2,
       "version_minor": 0
      },
      "text/plain": [
       "Validation: |          | 0/? [00:00<?, ?it/s]"
      ]
     },
     "metadata": {},
     "output_type": "display_data"
    },
    {
     "data": {
      "application/vnd.jupyter.widget-view+json": {
       "model_id": "04ea9f83c7fe4cd1aab14bf9b3be2df9",
       "version_major": 2,
       "version_minor": 0
      },
      "text/plain": [
       "Validation: |          | 0/? [00:00<?, ?it/s]"
      ]
     },
     "metadata": {},
     "output_type": "display_data"
    },
    {
     "data": {
      "application/vnd.jupyter.widget-view+json": {
       "model_id": "8db82c75c4024e47b16212d8d2ea7ba8",
       "version_major": 2,
       "version_minor": 0
      },
      "text/plain": [
       "Validation: |          | 0/? [00:00<?, ?it/s]"
      ]
     },
     "metadata": {},
     "output_type": "display_data"
    },
    {
     "data": {
      "application/vnd.jupyter.widget-view+json": {
       "model_id": "76e3962948f84e94a55af75659c6423e",
       "version_major": 2,
       "version_minor": 0
      },
      "text/plain": [
       "Validation: |          | 0/? [00:00<?, ?it/s]"
      ]
     },
     "metadata": {},
     "output_type": "display_data"
    },
    {
     "data": {
      "application/vnd.jupyter.widget-view+json": {
       "model_id": "8103402778cd4621a299b81b4222a612",
       "version_major": 2,
       "version_minor": 0
      },
      "text/plain": [
       "Validation: |          | 0/? [00:00<?, ?it/s]"
      ]
     },
     "metadata": {},
     "output_type": "display_data"
    },
    {
     "data": {
      "application/vnd.jupyter.widget-view+json": {
       "model_id": "2e06bfb38e8a43a18e25d1f868cc6a26",
       "version_major": 2,
       "version_minor": 0
      },
      "text/plain": [
       "Validation: |          | 0/? [00:00<?, ?it/s]"
      ]
     },
     "metadata": {},
     "output_type": "display_data"
    },
    {
     "data": {
      "application/vnd.jupyter.widget-view+json": {
       "model_id": "f9d8d95fc486461fb8bde2983e64e245",
       "version_major": 2,
       "version_minor": 0
      },
      "text/plain": [
       "Validation: |          | 0/? [00:00<?, ?it/s]"
      ]
     },
     "metadata": {},
     "output_type": "display_data"
    },
    {
     "data": {
      "application/vnd.jupyter.widget-view+json": {
       "model_id": "f9506ce071e94b80b77c30d9948edaad",
       "version_major": 2,
       "version_minor": 0
      },
      "text/plain": [
       "Validation: |          | 0/? [00:00<?, ?it/s]"
      ]
     },
     "metadata": {},
     "output_type": "display_data"
    },
    {
     "data": {
      "application/vnd.jupyter.widget-view+json": {
       "model_id": "75364b36dafc40739b97c997e6bc7598",
       "version_major": 2,
       "version_minor": 0
      },
      "text/plain": [
       "Validation: |          | 0/? [00:00<?, ?it/s]"
      ]
     },
     "metadata": {},
     "output_type": "display_data"
    },
    {
     "data": {
      "application/vnd.jupyter.widget-view+json": {
       "model_id": "f93e77730ce04f9899d0177de47dba72",
       "version_major": 2,
       "version_minor": 0
      },
      "text/plain": [
       "Validation: |          | 0/? [00:00<?, ?it/s]"
      ]
     },
     "metadata": {},
     "output_type": "display_data"
    },
    {
     "data": {
      "application/vnd.jupyter.widget-view+json": {
       "model_id": "ab30991934dc4b718f2b2194116aec43",
       "version_major": 2,
       "version_minor": 0
      },
      "text/plain": [
       "Validation: |          | 0/? [00:00<?, ?it/s]"
      ]
     },
     "metadata": {},
     "output_type": "display_data"
    },
    {
     "data": {
      "application/vnd.jupyter.widget-view+json": {
       "model_id": "d0215ba3ed5b422f98b297c7d6dd1c01",
       "version_major": 2,
       "version_minor": 0
      },
      "text/plain": [
       "Validation: |          | 0/? [00:00<?, ?it/s]"
      ]
     },
     "metadata": {},
     "output_type": "display_data"
    },
    {
     "data": {
      "application/vnd.jupyter.widget-view+json": {
       "model_id": "ea4c04c9ae9240b0a3aeefdee0df5f66",
       "version_major": 2,
       "version_minor": 0
      },
      "text/plain": [
       "Validation: |          | 0/? [00:00<?, ?it/s]"
      ]
     },
     "metadata": {},
     "output_type": "display_data"
    },
    {
     "data": {
      "application/vnd.jupyter.widget-view+json": {
       "model_id": "6607b265f5fd40b7bdada20589fa78f3",
       "version_major": 2,
       "version_minor": 0
      },
      "text/plain": [
       "Validation: |          | 0/? [00:00<?, ?it/s]"
      ]
     },
     "metadata": {},
     "output_type": "display_data"
    },
    {
     "data": {
      "application/vnd.jupyter.widget-view+json": {
       "model_id": "a4efba29991e4d17b233ccb4b3045287",
       "version_major": 2,
       "version_minor": 0
      },
      "text/plain": [
       "Validation: |          | 0/? [00:00<?, ?it/s]"
      ]
     },
     "metadata": {},
     "output_type": "display_data"
    },
    {
     "data": {
      "application/vnd.jupyter.widget-view+json": {
       "model_id": "a6465d417dc94515bb4ef9751ac9b415",
       "version_major": 2,
       "version_minor": 0
      },
      "text/plain": [
       "Validation: |          | 0/? [00:00<?, ?it/s]"
      ]
     },
     "metadata": {},
     "output_type": "display_data"
    },
    {
     "data": {
      "application/vnd.jupyter.widget-view+json": {
       "model_id": "a29e357dfb374d56b7720a7b3bbfeced",
       "version_major": 2,
       "version_minor": 0
      },
      "text/plain": [
       "Validation: |          | 0/? [00:00<?, ?it/s]"
      ]
     },
     "metadata": {},
     "output_type": "display_data"
    },
    {
     "data": {
      "application/vnd.jupyter.widget-view+json": {
       "model_id": "5ff98cd378d14f28bb6269f3f4d99707",
       "version_major": 2,
       "version_minor": 0
      },
      "text/plain": [
       "Validation: |          | 0/? [00:00<?, ?it/s]"
      ]
     },
     "metadata": {},
     "output_type": "display_data"
    },
    {
     "data": {
      "application/vnd.jupyter.widget-view+json": {
       "model_id": "281ff6f82b2243ed86ac39d354233718",
       "version_major": 2,
       "version_minor": 0
      },
      "text/plain": [
       "Validation: |          | 0/? [00:00<?, ?it/s]"
      ]
     },
     "metadata": {},
     "output_type": "display_data"
    },
    {
     "data": {
      "application/vnd.jupyter.widget-view+json": {
       "model_id": "c6f64ab24bb945c8ad29aa57c865d736",
       "version_major": 2,
       "version_minor": 0
      },
      "text/plain": [
       "Validation: |          | 0/? [00:00<?, ?it/s]"
      ]
     },
     "metadata": {},
     "output_type": "display_data"
    },
    {
     "name": "stderr",
     "output_type": "stream",
     "text": [
      "\u001b[32m2025-06-20 02:32:40.604\u001b[0m | \u001b[1mINFO    \u001b[0m | \u001b[36m__main__\u001b[0m:\u001b[36m<module>\u001b[0m:\u001b[36m30\u001b[0m - \u001b[1mLogs available at /home/dinhln/Desktop/real_time_recsys/notebooks/data/first-attempt/006-sequence-modelling-attn-128-dim-bce-prelu/logs/overfit/lightning_logs/version_49\u001b[0m\n"
     ]
    }
   ],
   "source": [
    "early_stopping = EarlyStopping(\n",
    "    monitor=\"val_loss\", patience=5, mode=\"min\", verbose=False\n",
    ")\n",
    "\n",
    "model = init_model(n_users, n_items, args.embedding_dim, args.dropout)\n",
    "lit_model = SeqModellingLitModule(\n",
    "    model,\n",
    "    learning_rate=args.learning_rate,\n",
    "    l2_reg=args.l2_reg,\n",
    "    log_dir=args.notebook_persit_dp,\n",
    "    accelerator=args.device,\n",
    "    idm= idm\n",
    ")\n",
    "\n",
    "log_dir = f\"{args.notebook_persit_dp}/logs/overfit\"\n",
    "\n",
    "# train model\n",
    "trainer = L.Trainer(\n",
    "    default_root_dir=log_dir,\n",
    "    accelerator=args.device if args.device else \"auto\",\n",
    "    max_epochs=300,\n",
    "    overfit_batches=1,\n",
    "    callbacks=[early_stopping],\n",
    ")\n",
    "trainer.fit(\n",
    "    model=lit_model,\n",
    "    train_dataloaders=train_loader,\n",
    "    val_dataloaders=train_loader,\n",
    ")\n",
    "logger.info(f\"Logs available at {trainer.log_dir}\")"
   ]
  },
  {
   "cell_type": "code",
   "execution_count": 22,
   "metadata": {},
   "outputs": [
    {
     "name": "stdout",
     "output_type": "stream",
     "text": [
      "{'user': tensor([ 5201,  6902, 16186, 13880, 11628, 13687, 13493,  8173, 15120, 12682,\n",
      "         7967, 15976,  3245, 10300, 12010,   271, 13910, 11118, 14159, 14751,\n",
      "        11396,  8528, 13725, 13144, 10510,  5788, 12026, 14221,  4362,  3366,\n",
      "        10585,  9256, 15753, 14477,  6419,  9488,  9350,  9245,  9392,   618,\n",
      "         2022, 12952, 16390, 10678, 13781, 12556,  6169, 13951, 12914, 13557,\n",
      "        10861, 12474, 16121,  2941,  8406,  1507, 13077,  7662,  1950,  3248,\n",
      "         3392,  1785,  3996, 14867,  2754, 12189,  7436,  5224, 13243, 16386,\n",
      "        14316,  2638, 13015, 15781,  6673,   184,  4854,   922,  9819,  2618,\n",
      "         5215,  6233,  3436,  9539,  9776,  8423, 11134,   139,  3247,  5441,\n",
      "         5428, 13260, 14942,  2731,  1767,  2001,  4622,  6808,  4175, 10796,\n",
      "         8339,   998, 15676,  8066, 13287,  6706,  5245,  1202,  3412, 12580,\n",
      "         7962, 13843, 13833, 14522,  6396,  6823, 13560,  6390, 12356, 13341,\n",
      "         6541, 14306, 12995,  6957, 14489, 14096, 15275, 14739]), 'item': tensor([3743, 2498, 4386, 2126, 3813, 1883, 1479,  536, 3879, 4276, 4395, 4657,\n",
      "        1691, 3849, 2308, 3443,  954, 3553,  746, 2290,  276, 4255,  420, 1420,\n",
      "        2986, 3839, 3971, 4659, 4277,  858, 4709, 4194, 3500,  812,  417,  330,\n",
      "        3656, 4334, 3899, 4720, 2207, 2694, 3647, 4364, 3585, 4699, 3859, 2230,\n",
      "        2410,  914, 1093, 2507, 1556, 3580, 1091, 2694, 4275, 2074,  204, 3173,\n",
      "        2959, 4088, 3324, 2565,  954, 1731,  533, 3743, 3370, 4603, 4000,  450,\n",
      "        4710, 4596, 3010, 3483, 4154, 4345, 1049, 3568, 2694,  556, 2344, 3312,\n",
      "        4471, 2237, 4471, 3760,  820, 1504, 3721, 4727, 3580, 4511, 4726, 3743,\n",
      "        1642, 1172,  408, 3381, 1860, 2636, 1558, 4023, 3187,  620, 1630, 3024,\n",
      "        2184, 4130, 1681, 1808, 1728, 1758, 3329, 2493,  211, 2195, 1776, 1258,\n",
      "         680, 3259, 1064, 2879, 1273,  242, 2442, 4105]), 'rating': tensor([1., 0., 0., 0., 1., 0., 0., 1., 1., 1., 0., 0., 1., 0., 0., 0., 0., 1.,\n",
      "        0., 1., 1., 0., 0., 0., 0., 0., 0., 0., 1., 0., 1., 1., 1., 0., 0., 1.,\n",
      "        0., 0., 0., 0., 0., 0., 0., 1., 0., 1., 0., 1., 0., 1., 0., 1., 1., 0.,\n",
      "        0., 1., 1., 1., 1., 0., 1., 0., 1., 1., 1., 1., 1., 1., 0., 0., 1., 0.,\n",
      "        0., 0., 0., 1., 1., 0., 0., 0., 0., 1., 0., 0., 1., 1., 1., 0., 1., 1.,\n",
      "        0., 1., 1., 0., 0., 0., 0., 1., 1., 1., 0., 0., 0., 1., 0., 0., 0., 1.,\n",
      "        1., 1., 1., 1., 0., 0., 0., 1., 0., 1., 1., 1., 0., 1., 1., 1., 0., 1.,\n",
      "        0., 0.]), 'item_sequence': tensor([[  -1,   -1,   -1,  ..., 1839, 2332, 2225],\n",
      "        [1175, 4616, 4541,  ..., 2553, 3828, 4318],\n",
      "        [  -1,   -1,   -1,  ..., 3704, 1531, 3856],\n",
      "        ...,\n",
      "        [  -1,   -1,   -1,  ...,   -1,   -1, 2824],\n",
      "        [  -1,   -1,   -1,  ...,   -1,   -1,  269],\n",
      "        [  -1,   -1,   -1,  ...,   -1,   -1,   -1]], dtype=torch.int32)}\n"
     ]
    }
   ],
   "source": [
    "for i in train_loader:\n",
    "    print(i)\n",
    "    break"
   ]
  },
  {
   "cell_type": "markdown",
   "metadata": {},
   "source": [
    "## Run on all data"
   ]
  },
  {
   "cell_type": "code",
   "execution_count": null,
   "metadata": {},
   "outputs": [
    {
     "name": "stderr",
     "output_type": "stream",
     "text": [
      "GPU available: True (cuda), used: True\n",
      "TPU available: False, using: 0 TPU cores\n",
      "HPU available: False, using: 0 HPUs\n"
     ]
    },
    {
     "name": "stdout",
     "output_type": "stream",
     "text": [
      "Model: SequenceRatingPrediction(\n",
      "  (item_embedding): Embedding(4819, 128, padding_idx=4818)\n",
      "  (user_embedding): Embedding(16407, 128)\n",
      "  (encoder_layer): TransformerEncoderLayer(\n",
      "    (self_attn): MultiheadAttention(\n",
      "      (out_proj): NonDynamicallyQuantizableLinear(in_features=128, out_features=128, bias=True)\n",
      "    )\n",
      "    (linear1): Linear(in_features=128, out_features=128, bias=True)\n",
      "    (dropout): Dropout(p=0.1, inplace=False)\n",
      "    (linear2): Linear(in_features=128, out_features=128, bias=True)\n",
      "    (norm1): LayerNorm((128,), eps=1e-05, elementwise_affine=True)\n",
      "    (norm2): LayerNorm((128,), eps=1e-05, elementwise_affine=True)\n",
      "    (dropout1): Dropout(p=0.1, inplace=False)\n",
      "    (dropout2): Dropout(p=0.1, inplace=False)\n",
      "    (activation): PReLU(num_parameters=1)\n",
      "  )\n",
      "  (encoder): TransformerEncoder(\n",
      "    (layers): ModuleList(\n",
      "      (0): TransformerEncoderLayer(\n",
      "        (self_attn): MultiheadAttention(\n",
      "          (out_proj): NonDynamicallyQuantizableLinear(in_features=128, out_features=128, bias=True)\n",
      "        )\n",
      "        (linear1): Linear(in_features=128, out_features=128, bias=True)\n",
      "        (dropout): Dropout(p=0.1, inplace=False)\n",
      "        (linear2): Linear(in_features=128, out_features=128, bias=True)\n",
      "        (norm1): LayerNorm((128,), eps=1e-05, elementwise_affine=True)\n",
      "        (norm2): LayerNorm((128,), eps=1e-05, elementwise_affine=True)\n",
      "        (dropout1): Dropout(p=0.1, inplace=False)\n",
      "        (dropout2): Dropout(p=0.1, inplace=False)\n",
      "        (activation): PReLU(num_parameters=1)\n",
      "      )\n",
      "    )\n",
      "  )\n",
      "  (prelu1): PReLU(num_parameters=1)\n",
      "  (prelu2): PReLU(num_parameters=1)\n",
      "  (dropout): Dropout(p=0.1, inplace=False)\n",
      "  (final_fc): Linear(in_features=256, out_features=128, bias=True)\n",
      "  (final_fc2): Linear(in_features=128, out_features=64, bias=True)\n",
      "  (score_fc): Linear(in_features=64, out_features=1, bias=True)\n",
      ")\n"
     ]
    },
    {
     "name": "stderr",
     "output_type": "stream",
     "text": [
      "/home/dinhln/Desktop/real_time_recsys/.venv/lib/python3.11/site-packages/lightning/pytorch/callbacks/model_checkpoint.py:654: UserWarning:\n",
      "\n",
      "Checkpoint directory /home/dinhln/Desktop/real_time_recsys/notebooks/data/first-attempt/006-sequence-modelling-attn-128-dim-bce-prelu/checkpoints exists and is not empty.\n",
      "\n",
      "LOCAL_RANK: 0 - CUDA_VISIBLE_DEVICES: [0]\n",
      "\n",
      "  | Name               | Type                     | Params | Mode \n",
      "------------------------------------------------------------------------\n",
      "0 | model              | SequenceRatingPrediction | 3.0 M  | train\n",
      "1 | val_roc_auc_metric | BinaryAUROC              | 0      | train\n",
      "2 | val_pr_auc_metric  | BinaryAveragePrecision   | 0      | train\n",
      "------------------------------------------------------------------------\n",
      "3.0 M     Trainable params\n",
      "0         Non-trainable params\n",
      "3.0 M     Total params\n",
      "11.829    Total estimated model params size (MB)\n",
      "35        Modules in train mode\n",
      "0         Modules in eval mode\n"
     ]
    },
    {
     "data": {
      "application/vnd.jupyter.widget-view+json": {
       "model_id": "74e2901f0001498cb120cb47a683916c",
       "version_major": 2,
       "version_minor": 0
      },
      "text/plain": [
       "Sanity Checking: |          | 0/? [00:00<?, ?it/s]"
      ]
     },
     "metadata": {},
     "output_type": "display_data"
    },
    {
     "name": "stderr",
     "output_type": "stream",
     "text": [
      "/home/dinhln/Desktop/real_time_recsys/.venv/lib/python3.11/site-packages/lightning/pytorch/trainer/connectors/data_connector.py:425: PossibleUserWarning:\n",
      "\n",
      "The 'val_dataloader' does not have many workers which may be a bottleneck. Consider increasing the value of the `num_workers` argument` to `num_workers=19` in the `DataLoader` to improve performance.\n",
      "\n",
      "/home/dinhln/Desktop/real_time_recsys/notebooks/../src/algo/sequence/dataset.py:38: UserWarning:\n",
      "\n",
      "The given NumPy array is not writable, and PyTorch does not support non-writable tensors. This means writing to this tensor will result in undefined behavior. You may want to copy the array to protect its data or make it writable before converting it to a tensor. This type of warning will be suppressed for the rest of this program. (Triggered internally at /pytorch/torch/csrc/utils/tensor_numpy.cpp:203.)\n",
      "\n",
      "/home/dinhln/Desktop/real_time_recsys/.venv/lib/python3.11/site-packages/lightning/pytorch/trainer/connectors/data_connector.py:425: PossibleUserWarning:\n",
      "\n",
      "The 'train_dataloader' does not have many workers which may be a bottleneck. Consider increasing the value of the `num_workers` argument` to `num_workers=19` in the `DataLoader` to improve performance.\n",
      "\n"
     ]
    },
    {
     "data": {
      "application/vnd.jupyter.widget-view+json": {
       "model_id": "ac0c6875407743e3889c810de777a491",
       "version_major": 2,
       "version_minor": 0
      },
      "text/plain": [
       "Training: |          | 0/? [00:00<?, ?it/s]"
      ]
     },
     "metadata": {},
     "output_type": "display_data"
    },
    {
     "data": {
      "application/vnd.jupyter.widget-view+json": {
       "model_id": "3591816e1dc140ffa6d0dc3adbef2dcb",
       "version_major": 2,
       "version_minor": 0
      },
      "text/plain": [
       "Validation: |          | 0/? [00:00<?, ?it/s]"
      ]
     },
     "metadata": {},
     "output_type": "display_data"
    },
    {
     "data": {
      "application/vnd.jupyter.widget-view+json": {
       "model_id": "fcf42025479d4d118e2db85cfa88aed6",
       "version_major": 2,
       "version_minor": 0
      },
      "text/plain": [
       "Validation: |          | 0/? [00:00<?, ?it/s]"
      ]
     },
     "metadata": {},
     "output_type": "display_data"
    },
    {
     "data": {
      "application/vnd.jupyter.widget-view+json": {
       "model_id": "4337a8151617466faf6666971671d76d",
       "version_major": 2,
       "version_minor": 0
      },
      "text/plain": [
       "Validation: |          | 0/? [00:00<?, ?it/s]"
      ]
     },
     "metadata": {},
     "output_type": "display_data"
    },
    {
     "data": {
      "application/vnd.jupyter.widget-view+json": {
       "model_id": "db852ec2d8794877ad469afa4b44efae",
       "version_major": 2,
       "version_minor": 0
      },
      "text/plain": [
       "Validation: |          | 0/? [00:00<?, ?it/s]"
      ]
     },
     "metadata": {},
     "output_type": "display_data"
    },
    {
     "data": {
      "application/vnd.jupyter.widget-view+json": {
       "model_id": "974bb998e98a49feb020d41a86f2394a",
       "version_major": 2,
       "version_minor": 0
      },
      "text/plain": [
       "Validation: |          | 0/? [00:00<?, ?it/s]"
      ]
     },
     "metadata": {},
     "output_type": "display_data"
    },
    {
     "data": {
      "application/vnd.jupyter.widget-view+json": {
       "model_id": "35e8d1535378441d999e8856c3242a39",
       "version_major": 2,
       "version_minor": 0
      },
      "text/plain": [
       "Validation: |          | 0/? [00:00<?, ?it/s]"
      ]
     },
     "metadata": {},
     "output_type": "display_data"
    }
   ],
   "source": [
    "early_stopping = EarlyStopping(\n",
    "    monitor=\"val_roc_auc\", patience=args.early_stopping_patience, mode=\"max\", verbose=False, min_delta=0.001\n",
    ")\n",
    "\n",
    "checkpoint_callback = ModelCheckpoint(\n",
    "    dirpath=f\"{args.notebook_persit_dp}/checkpoints\",\n",
    "    filename=\"best-checkpoint\",\n",
    "    save_top_k=1,\n",
    "    monitor=\"val_roc_auc\",\n",
    "    mode=\"max\",\n",
    ")\n",
    "\n",
    "model = init_model(n_users, n_items, args.embedding_dim, args.dropout)\n",
    "\n",
    "print(f\"Model: {model}\")\n",
    "lit_model = SeqModellingLitModule(\n",
    "    model,\n",
    "    learning_rate=args.learning_rate,\n",
    "    l2_reg=args.l2_reg,\n",
    "    log_dir=args.notebook_persit_dp,\n",
    "    accelerator=args.device,\n",
    "    idm= idm\n",
    ")\n",
    "\n",
    "log_dir = f\"{args.notebook_persit_dp}/logs/run\"\n",
    "\n",
    "# train model\n",
    "trainer = L.Trainer(\n",
    "    default_root_dir=log_dir,\n",
    "    accelerator=args.device if args.device else \"auto\",\n",
    "    max_epochs=args.max_epochs,\n",
    "    callbacks=[early_stopping, checkpoint_callback],\n",
    "    logger=args._mlf_logger if args.log_to_mlflow else None,\n",
    "    \n",
    ")\n",
    "trainer.fit(\n",
    "    model=lit_model,\n",
    "    train_dataloaders=train_loader,\n",
    "    val_dataloaders=val_loader,\n",
    "    \n",
    ")\n",
    "\n",
    "# Change the library as a workaround for the issue in the latest Lightning release\n",
    "#https://github.com/Lightning-AI/pytorch-lightning/pull/20669/commits/429f732a0528c558e701da7ec01e51c1e2e4f32e"
   ]
  },
  {
   "cell_type": "markdown",
   "metadata": {},
   "source": [
    "## Log metrics"
   ]
  },
  {
   "cell_type": "code",
   "execution_count": null,
   "metadata": {},
   "outputs": [
    {
     "name": "stderr",
     "output_type": "stream",
     "text": [
      "\u001b[32m2025-06-20 00:44:48.529\u001b[0m | \u001b[1mINFO    \u001b[0m | \u001b[36m__main__\u001b[0m:\u001b[36m<module>\u001b[0m:\u001b[36m1\u001b[0m - \u001b[1mLoading best checkpoint from /home/dinhln/Desktop/real_time_recsys/notebooks/data/first-attempt/006-sequence-modelling-attn-64-dim-bce-prelu/checkpoints/best-checkpoint-v7.ckpt...\u001b[0m\n",
      "/home/dinhln/Desktop/real_time_recsys/.venv/lib/python3.11/site-packages/torch/nn/modules/transformer.py:385: UserWarning:\n",
      "\n",
      "enable_nested_tensor is True, but self.use_nested_tensor is False because encoder_layer.activation_relu_or_gelu was not True\n",
      "\n"
     ]
    }
   ],
   "source": [
    "logger.info(f\"Loading best checkpoint from {checkpoint_callback.best_model_path}...\")\n",
    "args.best_checkpoint_path = checkpoint_callback.best_model_path\n",
    "\n",
    "best_trainer = SeqModellingLitModule.load_from_checkpoint(\n",
    "    checkpoint_path=checkpoint_callback.best_model_path,\n",
    "    model=init_model(n_users, n_items, args.embedding_dim, args.dropout),\n",
    ")"
   ]
  },
  {
   "cell_type": "code",
   "execution_count": null,
   "metadata": {},
   "outputs": [
    {
     "data": {
      "text/plain": [
       "SequenceRatingPrediction(\n",
       "  (item_embedding): Embedding(4819, 64, padding_idx=4818)\n",
       "  (encoder_layer): TransformerEncoderLayer(\n",
       "    (self_attn): MultiheadAttention(\n",
       "      (out_proj): NonDynamicallyQuantizableLinear(in_features=64, out_features=64, bias=True)\n",
       "    )\n",
       "    (linear1): Linear(in_features=64, out_features=64, bias=True)\n",
       "    (dropout): Dropout(p=0.0, inplace=False)\n",
       "    (linear2): Linear(in_features=64, out_features=64, bias=True)\n",
       "    (norm1): LayerNorm((64,), eps=5e-05, elementwise_affine=True)\n",
       "    (norm2): LayerNorm((64,), eps=5e-05, elementwise_affine=True)\n",
       "    (dropout1): Dropout(p=0.0, inplace=False)\n",
       "    (dropout2): Dropout(p=0.0, inplace=False)\n",
       "    (activation): PReLU(num_parameters=1)\n",
       "  )\n",
       "  (encoder): TransformerEncoder(\n",
       "    (layers): ModuleList(\n",
       "      (0): TransformerEncoderLayer(\n",
       "        (self_attn): MultiheadAttention(\n",
       "          (out_proj): NonDynamicallyQuantizableLinear(in_features=64, out_features=64, bias=True)\n",
       "        )\n",
       "        (linear1): Linear(in_features=64, out_features=64, bias=True)\n",
       "        (dropout): Dropout(p=0.0, inplace=False)\n",
       "        (linear2): Linear(in_features=64, out_features=64, bias=True)\n",
       "        (norm1): LayerNorm((64,), eps=5e-05, elementwise_affine=True)\n",
       "        (norm2): LayerNorm((64,), eps=5e-05, elementwise_affine=True)\n",
       "        (dropout1): Dropout(p=0.0, inplace=False)\n",
       "        (dropout2): Dropout(p=0.0, inplace=False)\n",
       "        (activation): PReLU(num_parameters=1)\n",
       "      )\n",
       "    )\n",
       "  )\n",
       "  (prelu1): PReLU(num_parameters=1)\n",
       "  (dropout): Dropout(p=0.0, inplace=False)\n",
       "  (final_fc): Linear(in_features=128, out_features=64, bias=True)\n",
       "  (score_fc): Linear(in_features=64, out_features=1, bias=True)\n",
       ")"
      ]
     },
     "execution_count": 25,
     "metadata": {},
     "output_type": "execute_result"
    }
   ],
   "source": [
    "best_model = best_trainer.model.to(args.device)\n",
    "best_model.eval()"
   ]
  },
  {
   "cell_type": "code",
   "execution_count": null,
   "metadata": {},
   "outputs": [],
   "source": [
    "val_recs_df = val_df.sort_values(by=args.timestamp_col).drop_duplicates(subset=[args.user_col], keep=\"first\")"
   ]
  },
  {
   "cell_type": "code",
   "execution_count": null,
   "metadata": {},
   "outputs": [
    {
     "data": {
      "text/plain": [
       "<ActiveRun: >"
      ]
     },
     "execution_count": 27,
     "metadata": {},
     "output_type": "execute_result"
    }
   ],
   "source": [
    "mlflow.start_run(run_id = trainer.logger.run_id)"
   ]
  },
  {
   "cell_type": "markdown",
   "metadata": {},
   "source": [
    "### Classification metrics"
   ]
  },
  {
   "cell_type": "code",
   "execution_count": null,
   "metadata": {},
   "outputs": [],
   "source": [
    "val_user_indices = val_df[\"user_indice\"].values\n",
    "val_item_indices = val_df[\"item_indice\"].values\n",
    "val_item_sequences = val_df[\"item_sequence\"].values.tolist()"
   ]
  },
  {
   "cell_type": "code",
   "execution_count": null,
   "metadata": {},
   "outputs": [
    {
     "name": "stderr",
     "output_type": "stream",
     "text": [
      "/tmp/ipykernel_217211/3241326139.py:2: UserWarning:\n",
      "\n",
      "Creating a tensor from a list of numpy.ndarrays is extremely slow. Please consider converting the list to a single numpy.ndarray with numpy.array() before converting to a tensor. (Triggered internally at /pytorch/torch/csrc/utils/tensor_new.cpp:254.)\n",
      "\n"
     ]
    }
   ],
   "source": [
    "users = torch.tensor(val_user_indices, device=args.device)\n",
    "item_sequences = torch.tensor(val_item_sequences, device=args.device)\n",
    "items = torch.tensor(val_item_indices, device=args.device)\n",
    "classifications = best_model.predict(users, item_sequences, items)"
   ]
  },
  {
   "cell_type": "code",
   "execution_count": null,
   "metadata": {},
   "outputs": [
    {
     "data": {
      "text/plain": [
       "torch.Size([6958, 1])"
      ]
     },
     "execution_count": 30,
     "metadata": {},
     "output_type": "execute_result"
    }
   ],
   "source": [
    "classifications.shape"
   ]
  },
  {
   "cell_type": "code",
   "execution_count": null,
   "metadata": {},
   "outputs": [],
   "source": [
    "eval_classification_df = val_df.assign(\n",
    "    classification_proba=classifications.cpu().detach().numpy(),\n",
    "    label=lambda df: df[args.rating_col].gt(0).astype(int),\n",
    ")"
   ]
  },
  {
   "cell_type": "code",
   "execution_count": null,
   "metadata": {},
   "outputs": [
    {
     "data": {
      "text/html": [
       "<div>\n",
       "<style scoped>\n",
       "    .dataframe tbody tr th:only-of-type {\n",
       "        vertical-align: middle;\n",
       "    }\n",
       "\n",
       "    .dataframe tbody tr th {\n",
       "        vertical-align: top;\n",
       "    }\n",
       "\n",
       "    .dataframe thead th {\n",
       "        text-align: right;\n",
       "    }\n",
       "</style>\n",
       "<table border=\"1\" class=\"dataframe\">\n",
       "  <thead>\n",
       "    <tr style=\"text-align: right;\">\n",
       "      <th></th>\n",
       "      <th>user_id</th>\n",
       "      <th>parent_asin</th>\n",
       "      <th>rating</th>\n",
       "      <th>timestamp</th>\n",
       "      <th>user_indice</th>\n",
       "      <th>item_indice</th>\n",
       "      <th>item_sequence</th>\n",
       "      <th>classification_proba</th>\n",
       "      <th>label</th>\n",
       "    </tr>\n",
       "  </thead>\n",
       "  <tbody>\n",
       "    <tr>\n",
       "      <th>260331</th>\n",
       "      <td>AGMJWWTZ6HMM2FBRDLFW2CWMV5DQ</td>\n",
       "      <td>B00E0ISVLI</td>\n",
       "      <td>0.0</td>\n",
       "      <td>2021-07-18 15:44:29.739</td>\n",
       "      <td>10483</td>\n",
       "      <td>2563</td>\n",
       "      <td>[-1, 2906, 3011, 4674, 4593, 4755, 3810, 3921,...</td>\n",
       "      <td>0.495926</td>\n",
       "      <td>0</td>\n",
       "    </tr>\n",
       "    <tr>\n",
       "      <th>259198</th>\n",
       "      <td>AE3XVOCHEO5MTDIAIET5BZS26AJA</td>\n",
       "      <td>B07GPGVYGX</td>\n",
       "      <td>0.0</td>\n",
       "      <td>2021-03-12 03:28:00.854</td>\n",
       "      <td>254</td>\n",
       "      <td>3381</td>\n",
       "      <td>[-1, -1, -1, -1, 1188, 1510, 4399, 3089, 2290,...</td>\n",
       "      <td>0.493313</td>\n",
       "      <td>0</td>\n",
       "    </tr>\n",
       "    <tr>\n",
       "      <th>258841</th>\n",
       "      <td>AESPJW3GNHXNJNW5CYV7PTEX44MQ</td>\n",
       "      <td>B07GZFM1ZM</td>\n",
       "      <td>0.0</td>\n",
       "      <td>2021-02-09 16:08:20.512</td>\n",
       "      <td>3190</td>\n",
       "      <td>921</td>\n",
       "      <td>[-1, -1, -1, -1, -1, 2569, 2742, 2855, 2351, 346]</td>\n",
       "      <td>0.469531</td>\n",
       "      <td>0</td>\n",
       "    </tr>\n",
       "  </tbody>\n",
       "</table>\n",
       "</div>"
      ],
      "text/plain": [
       "                             user_id parent_asin  rating  \\\n",
       "260331  AGMJWWTZ6HMM2FBRDLFW2CWMV5DQ  B00E0ISVLI     0.0   \n",
       "259198  AE3XVOCHEO5MTDIAIET5BZS26AJA  B07GPGVYGX     0.0   \n",
       "258841  AESPJW3GNHXNJNW5CYV7PTEX44MQ  B07GZFM1ZM     0.0   \n",
       "\n",
       "                     timestamp  user_indice  item_indice  \\\n",
       "260331 2021-07-18 15:44:29.739        10483         2563   \n",
       "259198 2021-03-12 03:28:00.854          254         3381   \n",
       "258841 2021-02-09 16:08:20.512         3190          921   \n",
       "\n",
       "                                            item_sequence  \\\n",
       "260331  [-1, 2906, 3011, 4674, 4593, 4755, 3810, 3921,...   \n",
       "259198  [-1, -1, -1, -1, 1188, 1510, 4399, 3089, 2290,...   \n",
       "258841  [-1, -1, -1, -1, -1, 2569, 2742, 2855, 2351, 346]   \n",
       "\n",
       "        classification_proba  label  \n",
       "260331              0.495926      0  \n",
       "259198              0.493313      0  \n",
       "258841              0.469531      0  "
      ]
     },
     "execution_count": 32,
     "metadata": {},
     "output_type": "execute_result"
    }
   ],
   "source": [
    "eval_classification_df.head(3)"
   ]
  },
  {
   "cell_type": "code",
   "execution_count": null,
   "metadata": {},
   "outputs": [],
   "source": [
    "classification_report = log_classification_metrics(\n",
    "    args,\n",
    "    eval_classification_df,\n",
    "    target_col=\"label\",\n",
    "    prediction_col=\"classification_proba\",\n",
    ")"
   ]
  },
  {
   "cell_type": "markdown",
   "metadata": {},
   "source": [
    "### Ranking metrics"
   ]
  },
  {
   "cell_type": "code",
   "execution_count": null,
   "metadata": {},
   "outputs": [
    {
     "data": {
      "text/html": [
       "<div>\n",
       "<style scoped>\n",
       "    .dataframe tbody tr th:only-of-type {\n",
       "        vertical-align: middle;\n",
       "    }\n",
       "\n",
       "    .dataframe tbody tr th {\n",
       "        vertical-align: top;\n",
       "    }\n",
       "\n",
       "    .dataframe thead th {\n",
       "        text-align: right;\n",
       "    }\n",
       "</style>\n",
       "<table border=\"1\" class=\"dataframe\">\n",
       "  <thead>\n",
       "    <tr style=\"text-align: right;\">\n",
       "      <th></th>\n",
       "      <th>user_id</th>\n",
       "      <th>parent_asin</th>\n",
       "      <th>rating</th>\n",
       "      <th>timestamp</th>\n",
       "      <th>user_indice</th>\n",
       "      <th>item_indice</th>\n",
       "      <th>item_sequence</th>\n",
       "    </tr>\n",
       "  </thead>\n",
       "  <tbody>\n",
       "    <tr>\n",
       "      <th>258263</th>\n",
       "      <td>AGSP5XAQPQBUUXZHEZSC65FD7NOQ</td>\n",
       "      <td>B004FV4ROA</td>\n",
       "      <td>0.0</td>\n",
       "      <td>2020-12-27 00:30:31.146</td>\n",
       "      <td>11295</td>\n",
       "      <td>3051</td>\n",
       "      <td>[1715, 2537, 3743, 506, 4490, 3479, 3908, 2723...</td>\n",
       "    </tr>\n",
       "    <tr>\n",
       "      <th>258264</th>\n",
       "      <td>AEHS7YR7BGGWMZS24H5UR5IP46HQ</td>\n",
       "      <td>B08F1P3BCC</td>\n",
       "      <td>0.0</td>\n",
       "      <td>2020-12-27 01:44:52.242</td>\n",
       "      <td>1784</td>\n",
       "      <td>3316</td>\n",
       "      <td>[-1, -1, -1, -1, -1, 3382, 4330, 423, 3167, 2677]</td>\n",
       "    </tr>\n",
       "    <tr>\n",
       "      <th>258265</th>\n",
       "      <td>AGAVHCK42EGMVS7DGPRX6HBCUCNQ</td>\n",
       "      <td>B09Q3NR84W</td>\n",
       "      <td>0.0</td>\n",
       "      <td>2020-12-27 02:25:48.357</td>\n",
       "      <td>9042</td>\n",
       "      <td>32</td>\n",
       "      <td>[-1, -1, -1, -1, 3104, 1416, 3743, 2694, 3612,...</td>\n",
       "    </tr>\n",
       "    <tr>\n",
       "      <th>127395</th>\n",
       "      <td>AEFVBMCJAFNULDI5V2CKKTBCPURA</td>\n",
       "      <td>B07N1L5HX1</td>\n",
       "      <td>5.0</td>\n",
       "      <td>2020-12-27 02:32:15.171</td>\n",
       "      <td>1542</td>\n",
       "      <td>3550</td>\n",
       "      <td>[-1, -1, -1, -1, -1, 1320, 2162, 2472, 2694, 3...</td>\n",
       "    </tr>\n",
       "    <tr>\n",
       "      <th>127396</th>\n",
       "      <td>AGLXMKHBLTBNT3X2CLBAPW6QUTQA</td>\n",
       "      <td>B0BB6Y5N3M</td>\n",
       "      <td>5.0</td>\n",
       "      <td>2020-12-27 03:37:22.772</td>\n",
       "      <td>10418</td>\n",
       "      <td>4471</td>\n",
       "      <td>[341, 3803, 4431, 1067, 4530, 4018, 2688, 4365...</td>\n",
       "    </tr>\n",
       "    <tr>\n",
       "      <th>...</th>\n",
       "      <td>...</td>\n",
       "      <td>...</td>\n",
       "      <td>...</td>\n",
       "      <td>...</td>\n",
       "      <td>...</td>\n",
       "      <td>...</td>\n",
       "      <td>...</td>\n",
       "    </tr>\n",
       "    <tr>\n",
       "      <th>261735</th>\n",
       "      <td>AGGDNWGN3NDJ2DI5CBSFOMUAM6XA</td>\n",
       "      <td>B083YHS7SV</td>\n",
       "      <td>0.0</td>\n",
       "      <td>2022-02-18 19:43:25.492</td>\n",
       "      <td>9711</td>\n",
       "      <td>2513</td>\n",
       "      <td>[-1, -1, -1, -1, 1019, 754, 2059, 413, 4262, 3...</td>\n",
       "    </tr>\n",
       "    <tr>\n",
       "      <th>130866</th>\n",
       "      <td>AEKUF6AOVWDWFYOKPWO2CV72PEDQ</td>\n",
       "      <td>B07QN33986</td>\n",
       "      <td>5.0</td>\n",
       "      <td>2022-02-19 01:32:51.519</td>\n",
       "      <td>2171</td>\n",
       "      <td>3626</td>\n",
       "      <td>[-1, -1, 2627, 4216, 4743, 1945, 2355, 1831, 9...</td>\n",
       "    </tr>\n",
       "    <tr>\n",
       "      <th>130867</th>\n",
       "      <td>AFBTD25HPE4BE4LUFV3DTI2E2N2A</td>\n",
       "      <td>B07TMJ8S5Z</td>\n",
       "      <td>5.0</td>\n",
       "      <td>2022-02-19 16:49:57.966</td>\n",
       "      <td>5159</td>\n",
       "      <td>3699</td>\n",
       "      <td>[-1, -1, -1, -1, 2260, 3517, 3609, 3495, 3625,...</td>\n",
       "    </tr>\n",
       "    <tr>\n",
       "      <th>261740</th>\n",
       "      <td>AHLN6GKTKZE22AON34YAQXTGK63A</td>\n",
       "      <td>B0C682GZ5X</td>\n",
       "      <td>0.0</td>\n",
       "      <td>2022-02-19 17:28:55.519</td>\n",
       "      <td>14550</td>\n",
       "      <td>2383</td>\n",
       "      <td>[-1, -1, -1, -1, -1, 1812, 4165, 4575, 4807, 374]</td>\n",
       "    </tr>\n",
       "    <tr>\n",
       "      <th>261741</th>\n",
       "      <td>AEMYBWDN67IB5IBTMHLHN76V4QHQ</td>\n",
       "      <td>B091K4WYD1</td>\n",
       "      <td>0.0</td>\n",
       "      <td>2022-02-19 22:08:53.253</td>\n",
       "      <td>2446</td>\n",
       "      <td>2502</td>\n",
       "      <td>[2677, 1610, 2694, 3695, 4429, 3602, 4569, 365...</td>\n",
       "    </tr>\n",
       "  </tbody>\n",
       "</table>\n",
       "<p>2424 rows × 7 columns</p>\n",
       "</div>"
      ],
      "text/plain": [
       "                             user_id parent_asin  rating  \\\n",
       "258263  AGSP5XAQPQBUUXZHEZSC65FD7NOQ  B004FV4ROA     0.0   \n",
       "258264  AEHS7YR7BGGWMZS24H5UR5IP46HQ  B08F1P3BCC     0.0   \n",
       "258265  AGAVHCK42EGMVS7DGPRX6HBCUCNQ  B09Q3NR84W     0.0   \n",
       "127395  AEFVBMCJAFNULDI5V2CKKTBCPURA  B07N1L5HX1     5.0   \n",
       "127396  AGLXMKHBLTBNT3X2CLBAPW6QUTQA  B0BB6Y5N3M     5.0   \n",
       "...                              ...         ...     ...   \n",
       "261735  AGGDNWGN3NDJ2DI5CBSFOMUAM6XA  B083YHS7SV     0.0   \n",
       "130866  AEKUF6AOVWDWFYOKPWO2CV72PEDQ  B07QN33986     5.0   \n",
       "130867  AFBTD25HPE4BE4LUFV3DTI2E2N2A  B07TMJ8S5Z     5.0   \n",
       "261740  AHLN6GKTKZE22AON34YAQXTGK63A  B0C682GZ5X     0.0   \n",
       "261741  AEMYBWDN67IB5IBTMHLHN76V4QHQ  B091K4WYD1     0.0   \n",
       "\n",
       "                     timestamp  user_indice  item_indice  \\\n",
       "258263 2020-12-27 00:30:31.146        11295         3051   \n",
       "258264 2020-12-27 01:44:52.242         1784         3316   \n",
       "258265 2020-12-27 02:25:48.357         9042           32   \n",
       "127395 2020-12-27 02:32:15.171         1542         3550   \n",
       "127396 2020-12-27 03:37:22.772        10418         4471   \n",
       "...                        ...          ...          ...   \n",
       "261735 2022-02-18 19:43:25.492         9711         2513   \n",
       "130866 2022-02-19 01:32:51.519         2171         3626   \n",
       "130867 2022-02-19 16:49:57.966         5159         3699   \n",
       "261740 2022-02-19 17:28:55.519        14550         2383   \n",
       "261741 2022-02-19 22:08:53.253         2446         2502   \n",
       "\n",
       "                                            item_sequence  \n",
       "258263  [1715, 2537, 3743, 506, 4490, 3479, 3908, 2723...  \n",
       "258264  [-1, -1, -1, -1, -1, 3382, 4330, 423, 3167, 2677]  \n",
       "258265  [-1, -1, -1, -1, 3104, 1416, 3743, 2694, 3612,...  \n",
       "127395  [-1, -1, -1, -1, -1, 1320, 2162, 2472, 2694, 3...  \n",
       "127396  [341, 3803, 4431, 1067, 4530, 4018, 2688, 4365...  \n",
       "...                                                   ...  \n",
       "261735  [-1, -1, -1, -1, 1019, 754, 2059, 413, 4262, 3...  \n",
       "130866  [-1, -1, 2627, 4216, 4743, 1945, 2355, 1831, 9...  \n",
       "130867  [-1, -1, -1, -1, 2260, 3517, 3609, 3495, 3625,...  \n",
       "261740  [-1, -1, -1, -1, -1, 1812, 4165, 4575, 4807, 374]  \n",
       "261741  [2677, 1610, 2694, 3695, 4429, 3602, 4569, 365...  \n",
       "\n",
       "[2424 rows x 7 columns]"
      ]
     },
     "execution_count": 34,
     "metadata": {},
     "output_type": "execute_result"
    }
   ],
   "source": [
    "val_recs_df"
   ]
  },
  {
   "cell_type": "code",
   "execution_count": null,
   "metadata": {},
   "outputs": [
    {
     "data": {
      "application/vnd.jupyter.widget-view+json": {
       "model_id": "6337061fb8374ad7bb7eb32a22911ccc",
       "version_major": 2,
       "version_minor": 0
      },
      "text/plain": [
       "Generating recommendations:   0%|          | 0/2424 [00:00<?, ?it/s]"
      ]
     },
     "metadata": {},
     "output_type": "display_data"
    }
   ],
   "source": [
    "recommendations = best_model.recommend(\n",
    "    torch.tensor(val_recs_df[\"user_indice\"].values, device=args.device),\n",
    "    torch.tensor(val_recs_df[\"item_sequence\"].values.tolist(), device=args.device),\n",
    "    k=args.top_K,\n",
    "    batch_size=1)"
   ]
  },
  {
   "cell_type": "code",
   "execution_count": null,
   "metadata": {},
   "outputs": [
    {
     "data": {
      "text/html": [
       "<div>\n",
       "<style scoped>\n",
       "    .dataframe tbody tr th:only-of-type {\n",
       "        vertical-align: middle;\n",
       "    }\n",
       "\n",
       "    .dataframe tbody tr th {\n",
       "        vertical-align: top;\n",
       "    }\n",
       "\n",
       "    .dataframe thead th {\n",
       "        text-align: right;\n",
       "    }\n",
       "</style>\n",
       "<table border=\"1\" class=\"dataframe\">\n",
       "  <thead>\n",
       "    <tr style=\"text-align: right;\">\n",
       "      <th></th>\n",
       "      <th>user_indice</th>\n",
       "      <th>recommendation</th>\n",
       "      <th>score</th>\n",
       "      <th>rec_ranking</th>\n",
       "      <th>user_id</th>\n",
       "      <th>parent_asin</th>\n",
       "    </tr>\n",
       "  </thead>\n",
       "  <tbody>\n",
       "    <tr>\n",
       "      <th>0</th>\n",
       "      <td>11295</td>\n",
       "      <td>1789</td>\n",
       "      <td>0.495436</td>\n",
       "      <td>1.0</td>\n",
       "      <td>AGSP5XAQPQBUUXZHEZSC65FD7NOQ</td>\n",
       "      <td>B00N28AUK2</td>\n",
       "    </tr>\n",
       "    <tr>\n",
       "      <th>1</th>\n",
       "      <td>11295</td>\n",
       "      <td>2392</td>\n",
       "      <td>0.495384</td>\n",
       "      <td>2.0</td>\n",
       "      <td>AGSP5XAQPQBUUXZHEZSC65FD7NOQ</td>\n",
       "      <td>B017OJEAL4</td>\n",
       "    </tr>\n",
       "    <tr>\n",
       "      <th>2</th>\n",
       "      <td>11295</td>\n",
       "      <td>2986</td>\n",
       "      <td>0.495228</td>\n",
       "      <td>3.0</td>\n",
       "      <td>AGSP5XAQPQBUUXZHEZSC65FD7NOQ</td>\n",
       "      <td>B0723D3FVL</td>\n",
       "    </tr>\n",
       "    <tr>\n",
       "      <th>3</th>\n",
       "      <td>11295</td>\n",
       "      <td>851</td>\n",
       "      <td>0.495042</td>\n",
       "      <td>4.0</td>\n",
       "      <td>AGSP5XAQPQBUUXZHEZSC65FD7NOQ</td>\n",
       "      <td>B007SP2CO2</td>\n",
       "    </tr>\n",
       "    <tr>\n",
       "      <th>4</th>\n",
       "      <td>11295</td>\n",
       "      <td>1377</td>\n",
       "      <td>0.495018</td>\n",
       "      <td>5.0</td>\n",
       "      <td>AGSP5XAQPQBUUXZHEZSC65FD7NOQ</td>\n",
       "      <td>B00F0DD0I6</td>\n",
       "    </tr>\n",
       "    <tr>\n",
       "      <th>...</th>\n",
       "      <td>...</td>\n",
       "      <td>...</td>\n",
       "      <td>...</td>\n",
       "      <td>...</td>\n",
       "      <td>...</td>\n",
       "      <td>...</td>\n",
       "    </tr>\n",
       "    <tr>\n",
       "      <th>242395</th>\n",
       "      <td>2446</td>\n",
       "      <td>3821</td>\n",
       "      <td>0.494494</td>\n",
       "      <td>96.0</td>\n",
       "      <td>AEMYBWDN67IB5IBTMHLHN76V4QHQ</td>\n",
       "      <td>B081W67TTD</td>\n",
       "    </tr>\n",
       "    <tr>\n",
       "      <th>242396</th>\n",
       "      <td>2446</td>\n",
       "      <td>3952</td>\n",
       "      <td>0.494493</td>\n",
       "      <td>97.0</td>\n",
       "      <td>AEMYBWDN67IB5IBTMHLHN76V4QHQ</td>\n",
       "      <td>B08JYVX1W4</td>\n",
       "    </tr>\n",
       "    <tr>\n",
       "      <th>242397</th>\n",
       "      <td>2446</td>\n",
       "      <td>4063</td>\n",
       "      <td>0.494491</td>\n",
       "      <td>98.0</td>\n",
       "      <td>AEMYBWDN67IB5IBTMHLHN76V4QHQ</td>\n",
       "      <td>B08YF1VBYD</td>\n",
       "    </tr>\n",
       "    <tr>\n",
       "      <th>242398</th>\n",
       "      <td>2446</td>\n",
       "      <td>482</td>\n",
       "      <td>0.494489</td>\n",
       "      <td>99.0</td>\n",
       "      <td>AEMYBWDN67IB5IBTMHLHN76V4QHQ</td>\n",
       "      <td>B0042J7I3C</td>\n",
       "    </tr>\n",
       "    <tr>\n",
       "      <th>242399</th>\n",
       "      <td>2446</td>\n",
       "      <td>34</td>\n",
       "      <td>0.494485</td>\n",
       "      <td>100.0</td>\n",
       "      <td>AEMYBWDN67IB5IBTMHLHN76V4QHQ</td>\n",
       "      <td>B00007M1TZ</td>\n",
       "    </tr>\n",
       "  </tbody>\n",
       "</table>\n",
       "<p>242400 rows × 6 columns</p>\n",
       "</div>"
      ],
      "text/plain": [
       "        user_indice  recommendation     score  rec_ranking  \\\n",
       "0             11295            1789  0.495436          1.0   \n",
       "1             11295            2392  0.495384          2.0   \n",
       "2             11295            2986  0.495228          3.0   \n",
       "3             11295             851  0.495042          4.0   \n",
       "4             11295            1377  0.495018          5.0   \n",
       "...             ...             ...       ...          ...   \n",
       "242395         2446            3821  0.494494         96.0   \n",
       "242396         2446            3952  0.494493         97.0   \n",
       "242397         2446            4063  0.494491         98.0   \n",
       "242398         2446             482  0.494489         99.0   \n",
       "242399         2446              34  0.494485        100.0   \n",
       "\n",
       "                             user_id parent_asin  \n",
       "0       AGSP5XAQPQBUUXZHEZSC65FD7NOQ  B00N28AUK2  \n",
       "1       AGSP5XAQPQBUUXZHEZSC65FD7NOQ  B017OJEAL4  \n",
       "2       AGSP5XAQPQBUUXZHEZSC65FD7NOQ  B0723D3FVL  \n",
       "3       AGSP5XAQPQBUUXZHEZSC65FD7NOQ  B007SP2CO2  \n",
       "4       AGSP5XAQPQBUUXZHEZSC65FD7NOQ  B00F0DD0I6  \n",
       "...                              ...         ...  \n",
       "242395  AEMYBWDN67IB5IBTMHLHN76V4QHQ  B081W67TTD  \n",
       "242396  AEMYBWDN67IB5IBTMHLHN76V4QHQ  B08JYVX1W4  \n",
       "242397  AEMYBWDN67IB5IBTMHLHN76V4QHQ  B08YF1VBYD  \n",
       "242398  AEMYBWDN67IB5IBTMHLHN76V4QHQ  B0042J7I3C  \n",
       "242399  AEMYBWDN67IB5IBTMHLHN76V4QHQ  B00007M1TZ  \n",
       "\n",
       "[242400 rows x 6 columns]"
      ]
     },
     "execution_count": 35,
     "metadata": {},
     "output_type": "execute_result"
    }
   ],
   "source": [
    "recommendations_df = pd.DataFrame(recommendations).pipe(\n",
    "    create_rec_df, idm, args.user_col, args.item_col\n",
    ")\n",
    "recommendations_df"
   ]
  },
  {
   "cell_type": "code",
   "execution_count": null,
   "metadata": {},
   "outputs": [
    {
     "data": {
      "text/html": [
       "<div>\n",
       "<style scoped>\n",
       "    .dataframe tbody tr th:only-of-type {\n",
       "        vertical-align: middle;\n",
       "    }\n",
       "\n",
       "    .dataframe tbody tr th {\n",
       "        vertical-align: top;\n",
       "    }\n",
       "\n",
       "    .dataframe thead th {\n",
       "        text-align: right;\n",
       "    }\n",
       "</style>\n",
       "<table border=\"1\" class=\"dataframe\">\n",
       "  <thead>\n",
       "    <tr style=\"text-align: right;\">\n",
       "      <th></th>\n",
       "      <th>user_id</th>\n",
       "      <th>parent_asin</th>\n",
       "      <th>rating</th>\n",
       "      <th>rating_rank</th>\n",
       "    </tr>\n",
       "  </thead>\n",
       "  <tbody>\n",
       "    <tr>\n",
       "      <th>129964</th>\n",
       "      <td>AEYCWCUS5KEEK2OKQBLSVXZZ6VBA</td>\n",
       "      <td>B08Q4GN692</td>\n",
       "      <td>5.0</td>\n",
       "      <td>1.0</td>\n",
       "    </tr>\n",
       "    <tr>\n",
       "      <th>129787</th>\n",
       "      <td>AEG7WT2EMI52PJ57AJA6TPBNQOGA</td>\n",
       "      <td>B09Q6DF71H</td>\n",
       "      <td>5.0</td>\n",
       "      <td>1.0</td>\n",
       "    </tr>\n",
       "    <tr>\n",
       "      <th>128382</th>\n",
       "      <td>AEEBC7TYLIE3GCISTKMLBRGMRMNQ</td>\n",
       "      <td>B095L3HVW2</td>\n",
       "      <td>5.0</td>\n",
       "      <td>1.0</td>\n",
       "    </tr>\n",
       "    <tr>\n",
       "      <th>128388</th>\n",
       "      <td>AFE42WR7JECZU33ALXLCGL5DKQTA</td>\n",
       "      <td>B01M7NFWQ5</td>\n",
       "      <td>5.0</td>\n",
       "      <td>1.0</td>\n",
       "    </tr>\n",
       "    <tr>\n",
       "      <th>129784</th>\n",
       "      <td>AHT6DSKTG45Z2J2IULHIV5NYJKLA</td>\n",
       "      <td>B0BZ2NMZDY</td>\n",
       "      <td>5.0</td>\n",
       "      <td>1.0</td>\n",
       "    </tr>\n",
       "    <tr>\n",
       "      <th>...</th>\n",
       "      <td>...</td>\n",
       "      <td>...</td>\n",
       "      <td>...</td>\n",
       "      <td>...</td>\n",
       "    </tr>\n",
       "    <tr>\n",
       "      <th>258805</th>\n",
       "      <td>AEN2KQVSR5TWRXNQS3OTFT4EZQCA</td>\n",
       "      <td>B07Z18JVPH</td>\n",
       "      <td>0.0</td>\n",
       "      <td>17.0</td>\n",
       "    </tr>\n",
       "    <tr>\n",
       "      <th>258804</th>\n",
       "      <td>AEN2KQVSR5TWRXNQS3OTFT4EZQCA</td>\n",
       "      <td>B095ZV29YF</td>\n",
       "      <td>0.0</td>\n",
       "      <td>18.0</td>\n",
       "    </tr>\n",
       "    <tr>\n",
       "      <th>260020</th>\n",
       "      <td>AFKERAMSXU4MWO3H53R7DEFOHUVQ</td>\n",
       "      <td>B00A8F4TAY</td>\n",
       "      <td>0.0</td>\n",
       "      <td>18.0</td>\n",
       "    </tr>\n",
       "    <tr>\n",
       "      <th>259461</th>\n",
       "      <td>AFKERAMSXU4MWO3H53R7DEFOHUVQ</td>\n",
       "      <td>B000WYVBR0</td>\n",
       "      <td>0.0</td>\n",
       "      <td>19.0</td>\n",
       "    </tr>\n",
       "    <tr>\n",
       "      <th>259378</th>\n",
       "      <td>AFKERAMSXU4MWO3H53R7DEFOHUVQ</td>\n",
       "      <td>B00UAILN4E</td>\n",
       "      <td>0.0</td>\n",
       "      <td>20.0</td>\n",
       "    </tr>\n",
       "  </tbody>\n",
       "</table>\n",
       "<p>6958 rows × 4 columns</p>\n",
       "</div>"
      ],
      "text/plain": [
       "                             user_id parent_asin  rating  rating_rank\n",
       "129964  AEYCWCUS5KEEK2OKQBLSVXZZ6VBA  B08Q4GN692     5.0          1.0\n",
       "129787  AEG7WT2EMI52PJ57AJA6TPBNQOGA  B09Q6DF71H     5.0          1.0\n",
       "128382  AEEBC7TYLIE3GCISTKMLBRGMRMNQ  B095L3HVW2     5.0          1.0\n",
       "128388  AFE42WR7JECZU33ALXLCGL5DKQTA  B01M7NFWQ5     5.0          1.0\n",
       "129784  AHT6DSKTG45Z2J2IULHIV5NYJKLA  B0BZ2NMZDY     5.0          1.0\n",
       "...                              ...         ...     ...          ...\n",
       "258805  AEN2KQVSR5TWRXNQS3OTFT4EZQCA  B07Z18JVPH     0.0         17.0\n",
       "258804  AEN2KQVSR5TWRXNQS3OTFT4EZQCA  B095ZV29YF     0.0         18.0\n",
       "260020  AFKERAMSXU4MWO3H53R7DEFOHUVQ  B00A8F4TAY     0.0         18.0\n",
       "259461  AFKERAMSXU4MWO3H53R7DEFOHUVQ  B000WYVBR0     0.0         19.0\n",
       "259378  AFKERAMSXU4MWO3H53R7DEFOHUVQ  B00UAILN4E     0.0         20.0\n",
       "\n",
       "[6958 rows x 4 columns]"
      ]
     },
     "execution_count": 36,
     "metadata": {},
     "output_type": "execute_result"
    }
   ],
   "source": [
    "label_df = create_label_df(\n",
    "    val_df,\n",
    "    user_col=args.user_col,\n",
    "    item_col=args.item_col,\n",
    "    rating_col=args.rating_col,\n",
    "    timestamp_col=args.timestamp_col,\n",
    ")\n",
    "label_df"
   ]
  },
  {
   "cell_type": "code",
   "execution_count": null,
   "metadata": {},
   "outputs": [
    {
     "data": {
      "text/html": [
       "<div>\n",
       "<style scoped>\n",
       "    .dataframe tbody tr th:only-of-type {\n",
       "        vertical-align: middle;\n",
       "    }\n",
       "\n",
       "    .dataframe tbody tr th {\n",
       "        vertical-align: top;\n",
       "    }\n",
       "\n",
       "    .dataframe thead th {\n",
       "        text-align: right;\n",
       "    }\n",
       "</style>\n",
       "<table border=\"1\" class=\"dataframe\">\n",
       "  <thead>\n",
       "    <tr style=\"text-align: right;\">\n",
       "      <th></th>\n",
       "      <th>user_indice</th>\n",
       "      <th>recommendation</th>\n",
       "      <th>score</th>\n",
       "      <th>rec_ranking</th>\n",
       "      <th>user_id</th>\n",
       "      <th>parent_asin</th>\n",
       "      <th>rating</th>\n",
       "      <th>rating_rank</th>\n",
       "    </tr>\n",
       "  </thead>\n",
       "  <tbody>\n",
       "    <tr>\n",
       "      <th>60</th>\n",
       "      <td>8.0</td>\n",
       "      <td>2986.0</td>\n",
       "      <td>0.495456</td>\n",
       "      <td>1</td>\n",
       "      <td>AE24AB4DW5KYK3F5DYOT5VPW2VLA</td>\n",
       "      <td>B0723D3FVL</td>\n",
       "      <td>0</td>\n",
       "      <td>NaN</td>\n",
       "    </tr>\n",
       "    <tr>\n",
       "      <th>34</th>\n",
       "      <td>8.0</td>\n",
       "      <td>1789.0</td>\n",
       "      <td>0.495392</td>\n",
       "      <td>2</td>\n",
       "      <td>AE24AB4DW5KYK3F5DYOT5VPW2VLA</td>\n",
       "      <td>B00N28AUK2</td>\n",
       "      <td>0</td>\n",
       "      <td>NaN</td>\n",
       "    </tr>\n",
       "    <tr>\n",
       "      <th>43</th>\n",
       "      <td>8.0</td>\n",
       "      <td>2392.0</td>\n",
       "      <td>0.495309</td>\n",
       "      <td>3</td>\n",
       "      <td>AE24AB4DW5KYK3F5DYOT5VPW2VLA</td>\n",
       "      <td>B017OJEAL4</td>\n",
       "      <td>0</td>\n",
       "      <td>NaN</td>\n",
       "    </tr>\n",
       "    <tr>\n",
       "      <th>16</th>\n",
       "      <td>8.0</td>\n",
       "      <td>851.0</td>\n",
       "      <td>0.495031</td>\n",
       "      <td>4</td>\n",
       "      <td>AE24AB4DW5KYK3F5DYOT5VPW2VLA</td>\n",
       "      <td>B007SP2CO2</td>\n",
       "      <td>0</td>\n",
       "      <td>NaN</td>\n",
       "    </tr>\n",
       "    <tr>\n",
       "      <th>62</th>\n",
       "      <td>8.0</td>\n",
       "      <td>3288.0</td>\n",
       "      <td>0.494940</td>\n",
       "      <td>5</td>\n",
       "      <td>AE24AB4DW5KYK3F5DYOT5VPW2VLA</td>\n",
       "      <td>B07C5WBKWF</td>\n",
       "      <td>0</td>\n",
       "      <td>NaN</td>\n",
       "    </tr>\n",
       "    <tr>\n",
       "      <th>...</th>\n",
       "      <td>...</td>\n",
       "      <td>...</td>\n",
       "      <td>...</td>\n",
       "      <td>...</td>\n",
       "      <td>...</td>\n",
       "      <td>...</td>\n",
       "      <td>...</td>\n",
       "      <td>...</td>\n",
       "    </tr>\n",
       "    <tr>\n",
       "      <th>249155</th>\n",
       "      <td>16403.0</td>\n",
       "      <td>2972.0</td>\n",
       "      <td>0.494646</td>\n",
       "      <td>98</td>\n",
       "      <td>AHZZM7BCJAF2UEMMBHZCLXBB2SVA</td>\n",
       "      <td>B071WK17VV</td>\n",
       "      <td>0</td>\n",
       "      <td>NaN</td>\n",
       "    </tr>\n",
       "    <tr>\n",
       "      <th>249200</th>\n",
       "      <td>16403.0</td>\n",
       "      <td>4644.0</td>\n",
       "      <td>0.494644</td>\n",
       "      <td>99</td>\n",
       "      <td>AHZZM7BCJAF2UEMMBHZCLXBB2SVA</td>\n",
       "      <td>B0BTZDHJXY</td>\n",
       "      <td>0</td>\n",
       "      <td>NaN</td>\n",
       "    </tr>\n",
       "    <tr>\n",
       "      <th>249119</th>\n",
       "      <td>16403.0</td>\n",
       "      <td>1092.0</td>\n",
       "      <td>0.494643</td>\n",
       "      <td>100</td>\n",
       "      <td>AHZZM7BCJAF2UEMMBHZCLXBB2SVA</td>\n",
       "      <td>B00AMTRR5K</td>\n",
       "      <td>0</td>\n",
       "      <td>NaN</td>\n",
       "    </tr>\n",
       "    <tr>\n",
       "      <th>249158</th>\n",
       "      <td>NaN</td>\n",
       "      <td>NaN</td>\n",
       "      <td>NaN</td>\n",
       "      <td>101</td>\n",
       "      <td>AHZZM7BCJAF2UEMMBHZCLXBB2SVA</td>\n",
       "      <td>B075QC3TZY</td>\n",
       "      <td>1</td>\n",
       "      <td>1.0</td>\n",
       "    </tr>\n",
       "    <tr>\n",
       "      <th>249175</th>\n",
       "      <td>NaN</td>\n",
       "      <td>NaN</td>\n",
       "      <td>NaN</td>\n",
       "      <td>101</td>\n",
       "      <td>AHZZM7BCJAF2UEMMBHZCLXBB2SVA</td>\n",
       "      <td>B07SDH2Z56</td>\n",
       "      <td>0</td>\n",
       "      <td>2.0</td>\n",
       "    </tr>\n",
       "  </tbody>\n",
       "</table>\n",
       "<p>249204 rows × 8 columns</p>\n",
       "</div>"
      ],
      "text/plain": [
       "        user_indice  recommendation     score  rec_ranking  \\\n",
       "60              8.0          2986.0  0.495456            1   \n",
       "34              8.0          1789.0  0.495392            2   \n",
       "43              8.0          2392.0  0.495309            3   \n",
       "16              8.0           851.0  0.495031            4   \n",
       "62              8.0          3288.0  0.494940            5   \n",
       "...             ...             ...       ...          ...   \n",
       "249155      16403.0          2972.0  0.494646           98   \n",
       "249200      16403.0          4644.0  0.494644           99   \n",
       "249119      16403.0          1092.0  0.494643          100   \n",
       "249158          NaN             NaN       NaN          101   \n",
       "249175          NaN             NaN       NaN          101   \n",
       "\n",
       "                             user_id parent_asin  rating  rating_rank  \n",
       "60      AE24AB4DW5KYK3F5DYOT5VPW2VLA  B0723D3FVL       0          NaN  \n",
       "34      AE24AB4DW5KYK3F5DYOT5VPW2VLA  B00N28AUK2       0          NaN  \n",
       "43      AE24AB4DW5KYK3F5DYOT5VPW2VLA  B017OJEAL4       0          NaN  \n",
       "16      AE24AB4DW5KYK3F5DYOT5VPW2VLA  B007SP2CO2       0          NaN  \n",
       "62      AE24AB4DW5KYK3F5DYOT5VPW2VLA  B07C5WBKWF       0          NaN  \n",
       "...                              ...         ...     ...          ...  \n",
       "249155  AHZZM7BCJAF2UEMMBHZCLXBB2SVA  B071WK17VV       0          NaN  \n",
       "249200  AHZZM7BCJAF2UEMMBHZCLXBB2SVA  B0BTZDHJXY       0          NaN  \n",
       "249119  AHZZM7BCJAF2UEMMBHZCLXBB2SVA  B00AMTRR5K       0          NaN  \n",
       "249158  AHZZM7BCJAF2UEMMBHZCLXBB2SVA  B075QC3TZY       1          1.0  \n",
       "249175  AHZZM7BCJAF2UEMMBHZCLXBB2SVA  B07SDH2Z56       0          2.0  \n",
       "\n",
       "[249204 rows x 8 columns]"
      ]
     },
     "execution_count": 37,
     "metadata": {},
     "output_type": "execute_result"
    }
   ],
   "source": [
    "eval_df = merge_recs_with_target(\n",
    "    recommendations_df,\n",
    "    label_df,\n",
    "    k=args.top_K,\n",
    "    user_col=args.user_col,\n",
    "    item_col=args.item_col,\n",
    "    rating_col=args.rating_col,\n",
    ")\n",
    "eval_df"
   ]
  },
  {
   "cell_type": "code",
   "execution_count": null,
   "metadata": {},
   "outputs": [
    {
     "name": "stderr",
     "output_type": "stream",
     "text": [
      "/home/dinhln/Desktop/real_time_recsys/.venv/lib/python3.11/site-packages/evidently/metrics/recsys/f_beta_top_k.py:64: RuntimeWarning:\n",
      "\n",
      "invalid value encountered in divide\n",
      "\n"
     ]
    }
   ],
   "source": [
    "ranking_report = log_ranking_metrics(args, eval_df)"
   ]
  },
  {
   "cell_type": "code",
   "execution_count": null,
   "metadata": {},
   "outputs": [
    {
     "name": "stdout",
     "output_type": "stream",
     "text": [
      "🏃 View run 006-sequence-modelling-attn-64-dim-bce-prelu at: http://138.2.61.6:5002/#/experiments/2/runs/16eae0c60c06475898e50125b9379e6a\n",
      "🧪 View experiment at: http://138.2.61.6:5002/#/experiments/2\n"
     ]
    }
   ],
   "source": [
    "mlflow.end_run()"
   ]
  },
  {
   "cell_type": "markdown",
   "metadata": {},
   "source": [
    "## Clean up"
   ]
  },
  {
   "cell_type": "code",
   "execution_count": null,
   "metadata": {},
   "outputs": [
    {
     "name": "stdout",
     "output_type": "stream",
     "text": [
      "🏃 View run 006-sequence-modelling-attn-64-dim-bce-prelu at: http://138.2.61.6:5002/#/experiments/2/runs/16eae0c60c06475898e50125b9379e6a\n",
      "🧪 View experiment at: http://138.2.61.6:5002/#/experiments/2\n"
     ]
    }
   ],
   "source": [
    "all_params = [args]\n",
    "\n",
    "if args.log_to_mlflow:\n",
    "    run_id = trainer.logger.run_id\n",
    "\n",
    "    with mlflow.start_run(run_id=run_id):\n",
    "        for params in all_params:\n",
    "            params_dict = params.model_dump()\n",
    "            params_ = dict()\n",
    "            for k, v in params_dict.items():\n",
    "                if k == \"top_K\":\n",
    "                    k = \"top_big_K\"\n",
    "                if k == \"top_k\":\n",
    "                    k = \"top_small_k\"\n",
    "                params_[f\"{params.__repr_name__()}.{k}\"] = v\n",
    "            mlflow.log_params(params_)"
   ]
  }
 ],
 "metadata": {
  "kernelspec": {
   "display_name": "Python 3",
   "language": "python",
   "name": "python3"
  },
  "language_info": {
   "codemirror_mode": {
    "name": "ipython",
    "version": 3
   },
   "file_extension": ".py",
   "mimetype": "text/x-python",
   "name": "python",
   "nbconvert_exporter": "python",
   "pygments_lexer": "ipython3",
   "version": "3.11.9"
  }
 },
 "nbformat": 4,
 "nbformat_minor": 2
}
