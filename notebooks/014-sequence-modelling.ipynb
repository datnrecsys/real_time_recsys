{
 "cells": [
  {
   "cell_type": "markdown",
   "metadata": {},
   "source": [
    "## Setup"
   ]
  },
  {
   "cell_type": "code",
   "execution_count": 1,
   "metadata": {},
   "outputs": [],
   "source": [
    "%load_ext autoreload\n",
    "%autoreload 2\n",
    "%load_ext tensorboard"
   ]
  },
  {
   "cell_type": "code",
   "execution_count": 2,
   "metadata": {},
   "outputs": [
    {
     "name": "stderr",
     "output_type": "stream",
     "text": [
      "/home/dinhln/Desktop/real_time_recsys/.venv/lib/python3.11/site-packages/torch/nn/modules/transformer.py:385: UserWarning: enable_nested_tensor is True, but self.use_nested_tensor is False because encoder_layer.activation_relu_or_gelu was not True\n",
      "  warnings.warn(\n",
      "\u001b[32m2025-06-21 21:23:30.056\u001b[0m | \u001b[1mINFO    \u001b[0m | \u001b[36msrc.algo.sequence.model\u001b[0m:\u001b[36m__init__\u001b[0m:\u001b[36m118\u001b[0m - \u001b[1mStart token used: 9, Padding token used: 10\u001b[0m\n"
     ]
    },
    {
     "name": "stdout",
     "output_type": "stream",
     "text": [
      "tensor([[-0.0685],\n",
      "        [ 0.0776],\n",
      "        [ 0.0899]], grad_fn=<MaskedFillBackward0>)\n",
      "tensor([[0.4842],\n",
      "        [0.5305],\n",
      "        [0.5296]], grad_fn=<SigmoidBackward0>)\n"
     ]
    },
    {
     "data": {
      "application/vnd.jupyter.widget-view+json": {
       "model_id": "9ed2012f52854530a2d8dad80c8ae873",
       "version_major": 2,
       "version_minor": 0
      },
      "text/plain": [
       "Generating recommendations:   0%|          | 0/1 [00:00<?, ?it/s]"
      ]
     },
     "metadata": {},
     "output_type": "display_data"
    },
    {
     "name": "stdout",
     "output_type": "stream",
     "text": [
      "{'user_indice': [0, 0, 1, 1, 2, 2], 'recommendation': [5, 3, 5, 6, 5, 6], 'score': [0.5419806241989136, 0.5223592519760132, 0.5804939270019531, 0.5552590489387512, 0.5536717772483826, 0.5530886650085449]}\n"
     ]
    }
   ],
   "source": [
    "import pandas as pd\n",
    "from pydantic import BaseModel\n",
    "import sys\n",
    "import os\n",
    "from lightning.pytorch.loggers import MLFlowLogger\n",
    "from loguru import logger\n",
    "from load_dotenv import load_dotenv\n",
    "import torch\n",
    "from torch.utils.data import DataLoader\n",
    "import lightning as L\n",
    "from lightning.pytorch.callbacks.early_stopping import EarlyStopping\n",
    "from lightning.pytorch.callbacks import ModelCheckpoint\n",
    "import mlflow\n",
    "\n",
    "sys.path.insert(0, \"..\")\n",
    "\n",
    "from src.utils.embedding_id_mapper import IDMapper\n",
    "from src.algo.sequence.model import SequenceRatingPrediction\n",
    "from src.algo.sequence.dataset import UserItemBinaryRatingDFDataset\n",
    "from src.algo.sequence.trainer import SeqModellingLitModule\n",
    "from src.eval.utils import create_rec_df, create_label_df, merge_recs_with_target\n",
    "from src.eval.log_metrics import log_ranking_metrics, log_classification_metrics"
   ]
  },
  {
   "cell_type": "code",
   "execution_count": 3,
   "metadata": {},
   "outputs": [
    {
     "data": {
      "text/plain": [
       "True"
      ]
     },
     "execution_count": 3,
     "metadata": {},
     "output_type": "execute_result"
    }
   ],
   "source": [
    "load_dotenv(override = True)"
   ]
  },
  {
   "cell_type": "code",
   "execution_count": null,
   "metadata": {},
   "outputs": [
    {
     "name": "stderr",
     "output_type": "stream",
     "text": [
      "\u001b[32m2025-06-21 21:23:31.513\u001b[0m | \u001b[1mINFO    \u001b[0m | \u001b[36m__main__\u001b[0m:\u001b[36minit\u001b[0m:\u001b[36m43\u001b[0m - \u001b[1mSetting up Mlflow experiment: first-attempt, run_name: 006-sequence-modelling-attn-256-dim-bce-prelu\u001b[0m\n"
     ]
    },
    {
     "name": "stdout",
     "output_type": "stream",
     "text": [
      "{\n",
      "  \"testing\": false,\n",
      "  \"log_to_mlflow\": true,\n",
      "  \"experiment_name\": \"first-attempt\",\n",
      "  \"notebook_persit_dp\": \"/home/dinhln/Desktop/real_time_recsys/notebooks/data/first-attempt/006-sequence-modelling-attn-256-dim-bce-prelu\",\n",
      "  \"run_name\": \"006-sequence-modelling-attn-256-dim-bce-prelu\",\n",
      "  \"user_col\": \"user_id\",\n",
      "  \"item_col\": \"parent_asin\",\n",
      "  \"rating_col\": \"rating\",\n",
      "  \"timestamp_col\": \"timestamp\",\n",
      "  \"group_name\": \"seq-modelling\",\n",
      "  \"top_K\": 100,\n",
      "  \"top_k\": 10,\n",
      "  \"batch_size\": 128,\n",
      "  \"learning_rate\": 0.001,\n",
      "  \"l2_reg\": 1e-6,\n",
      "  \"early_stopping_patience\": 10,\n",
      "  \"device\": \"cuda\",\n",
      "  \"max_epochs\": 100,\n",
      "  \"dropout\": 0.3,\n",
      "  \"embedding_dim\": 256,\n",
      "  \"train_data_fp\": \"/home/dinhln/Desktop/real_time_recsys/data_for_ai/interim/train_sample_interactions_16407u_neg_seq_2.parquet\",\n",
      "  \"val_data_fp\": \"/home/dinhln/Desktop/real_time_recsys/data_for_ai/interim/val_sample_interactions_16407u_neg_seq_2.parquet\",\n",
      "  \"best_checkpoint_path\": null\n",
      "}\n"
     ]
    }
   ],
   "source": [
    "class Args(BaseModel):\n",
    "    testing: bool = False\n",
    "    log_to_mlflow: bool = True\n",
    "    experiment_name: str = \"first-attempt\"\n",
    "    notebook_persit_dp: str = None\n",
    "    \n",
    "    run_name: str = None\n",
    "\n",
    "    user_col: str = \"user_id\"\n",
    "    item_col: str = \"parent_asin\"\n",
    "    rating_col: str = \"rating\"\n",
    "    timestamp_col: str = \"timestamp\"\n",
    "    group_name: str = \"seq-modelling\"\n",
    "\n",
    "    top_K: int = 100\n",
    "    top_k: int = 10\n",
    "\n",
    "    batch_size: int = 128\n",
    "    learning_rate: float = 0.001\n",
    "    l2_reg: float = 1e-6\n",
    "    early_stopping_patience: int = 10\n",
    "    device: str = \"cuda\" if torch.cuda.is_available() else \"cpu\"\n",
    "    max_epochs: int = 100\n",
    "\n",
    "    # TwoTower specific\n",
    "    dropout: float = 0.3\n",
    "    embedding_dim: int = 256\n",
    "\n",
    "\n",
    "    train_data_fp: str = os.path.abspath(\"../data_for_ai/interim/train_sample_interactions_16407u_neg_seq.parquet\")\n",
    "    val_data_fp: str = os.path.abspath(\"../data_for_ai/interim/val_sample_interactions_16407u_neg_seq.parquet\")\n",
    "\n",
    "    best_checkpoint_path: str = None\n",
    "    def init(self):\n",
    "        self.run_name: str = f\"006-sequence-modelling-attn-{self.embedding_dim}-dim-bce-prelu\"\n",
    "        self.notebook_persit_dp = os.path.abspath(f\"data/{self.experiment_name}/{self.run_name}\")\n",
    "\n",
    "        if not (mlflow_uri := os.environ.get(\"MLFLOW_TRACKING_URI\")):\n",
    "            self.log_to_mlflow = False\n",
    "            logger.warning(\"MLFlow is not enabled. Turn off tracking to Mlflow.\")\n",
    "\n",
    "        if self.log_to_mlflow:\n",
    "            logger.info(\n",
    "                f\"Setting up Mlflow experiment: {self.experiment_name}, run_name: {self.run_name}\"\n",
    "            )\n",
    "\n",
    "            self._mlf_logger = MLFlowLogger(\n",
    "                experiment_name=self.experiment_name,\n",
    "                run_name=self.run_name,\n",
    "                tracking_uri=mlflow_uri,\n",
    "                log_model=True,\n",
    "            )\n",
    "\n",
    "        if not self.testing:\n",
    "            os.makedirs(self.notebook_persit_dp, exist_ok=True)\n",
    "        return self\n",
    "    \n",
    "args = Args().init()\n",
    "print(args.model_dump_json(indent=2))"
   ]
  },
  {
   "cell_type": "markdown",
   "metadata": {},
   "source": [
    "## Init model"
   ]
  },
  {
   "cell_type": "code",
   "execution_count": 5,
   "metadata": {},
   "outputs": [],
   "source": [
    "def init_model(n_users, n_items, embedding_dim, dropout, item_embedding=None):\n",
    "    return SequenceRatingPrediction(\n",
    "        item_embedding=item_embedding,\n",
    "        num_users=n_users,\n",
    "        num_items=n_items,\n",
    "        embedding_dim=embedding_dim,\n",
    "        dropout=dropout,\n",
    "    )"
   ]
  },
  {
   "cell_type": "markdown",
   "metadata": {},
   "source": [
    "## Test implementation"
   ]
  },
  {
   "cell_type": "code",
   "execution_count": 6,
   "metadata": {},
   "outputs": [
    {
     "name": "stderr",
     "output_type": "stream",
     "text": [
      "/home/dinhln/Desktop/real_time_recsys/.venv/lib/python3.11/site-packages/torch/nn/modules/transformer.py:385: UserWarning:\n",
      "\n",
      "enable_nested_tensor is True, but self.use_nested_tensor is False because encoder_layer.activation_relu_or_gelu was not True\n",
      "\n",
      "\u001b[32m2025-06-21 21:23:31.630\u001b[0m | \u001b[1mINFO    \u001b[0m | \u001b[36msrc.algo.sequence.model\u001b[0m:\u001b[36m__init__\u001b[0m:\u001b[36m118\u001b[0m - \u001b[1mStart token used: 4, Padding token used: 5\u001b[0m\n"
     ]
    },
    {
     "name": "stdout",
     "output_type": "stream",
     "text": [
      "tensor([[-0.1265]], grad_fn=<MaskedFillBackward0>)\n"
     ]
    },
    {
     "data": {
      "text/plain": [
       "SequenceRatingPrediction(\n",
       "  (item_embedding): Embedding(6, 32, padding_idx=5)\n",
       "  (encoder_layer): TransformerEncoderLayer(\n",
       "    (self_attn): MultiheadAttention(\n",
       "      (out_proj): NonDynamicallyQuantizableLinear(in_features=32, out_features=32, bias=True)\n",
       "    )\n",
       "    (linear1): Linear(in_features=32, out_features=32, bias=True)\n",
       "    (dropout): Dropout(p=0.3, inplace=False)\n",
       "    (linear2): Linear(in_features=32, out_features=32, bias=True)\n",
       "    (norm1): LayerNorm((32,), eps=1e-05, elementwise_affine=True)\n",
       "    (norm2): LayerNorm((32,), eps=1e-05, elementwise_affine=True)\n",
       "    (dropout1): Dropout(p=0.3, inplace=False)\n",
       "    (dropout2): Dropout(p=0.3, inplace=False)\n",
       "    (activation): PReLU(num_parameters=1)\n",
       "  )\n",
       "  (encoder): TransformerEncoder(\n",
       "    (layers): ModuleList(\n",
       "      (0): TransformerEncoderLayer(\n",
       "        (self_attn): MultiheadAttention(\n",
       "          (out_proj): NonDynamicallyQuantizableLinear(in_features=32, out_features=32, bias=True)\n",
       "        )\n",
       "        (linear1): Linear(in_features=32, out_features=32, bias=True)\n",
       "        (dropout): Dropout(p=0.3, inplace=False)\n",
       "        (linear2): Linear(in_features=32, out_features=32, bias=True)\n",
       "        (norm1): LayerNorm((32,), eps=1e-05, elementwise_affine=True)\n",
       "        (norm2): LayerNorm((32,), eps=1e-05, elementwise_affine=True)\n",
       "        (dropout1): Dropout(p=0.3, inplace=False)\n",
       "        (dropout2): Dropout(p=0.3, inplace=False)\n",
       "        (activation): PReLU(num_parameters=1)\n",
       "      )\n",
       "    )\n",
       "  )\n",
       "  (prelu1): PReLU(num_parameters=1)\n",
       "  (dropout): Dropout(p=0.3, inplace=False)\n",
       "  (user_embedding): Embedding(3, 32)\n",
       "  (final_fc): Linear(in_features=96, out_features=32, bias=True)\n",
       "  (score_fc): Linear(in_features=32, out_features=1, bias=True)\n",
       ")"
      ]
     },
     "execution_count": 6,
     "metadata": {},
     "output_type": "execute_result"
    }
   ],
   "source": [
    "embedding_dim = 32\n",
    "batch_size = 2\n",
    "\n",
    "# Mock data\n",
    "user_indices = [0, 0, 1, 2, 2]\n",
    "item_indices = [0, 1, 2, 3, 4]\n",
    "timestamps = [0, 1, 2, 3, 4]\n",
    "ratings = [0, 3, 1, 3, 0]\n",
    "# item_sequences = [\n",
    "#     [2, 3, -1, -1],\n",
    "#     [2, 4, -1, -1],\n",
    "#     [1, 3, -1, -1],\n",
    "#     [2, 1, -1, -1],\n",
    "#     [4, 1, -1, -1],\n",
    "# ]\n",
    "\n",
    "item_sequences = [\n",
    "    [-1, -1, 2, 3],\n",
    "    [-1, -1, 2, 4],\n",
    "    [-1, -1, 1, 3],\n",
    "    [-1, -1, 2, 1],\n",
    "    [-1, -1, 4, 1],\n",
    "]\n",
    "\n",
    "\n",
    "n_users = len(set(user_indices))\n",
    "\n",
    "n_items = len(set(item_indices))\n",
    "\n",
    "train_df = pd.DataFrame(\n",
    "    {\n",
    "        \"user_indice\": user_indices,\n",
    "        \"item_indice\": item_indices,\n",
    "        args.timestamp_col: timestamps,\n",
    "        args.rating_col: ratings,\n",
    "        \"item_sequence\": item_sequences,\n",
    "    }\n",
    ")\n",
    "\n",
    "model = init_model(n_users, n_items, embedding_dim, args.dropout)\n",
    "\n",
    "# Example forward pass\n",
    "model.eval()\n",
    "user = torch.tensor([0])\n",
    "item_sequence = torch.tensor([[-0, 1, -1, -1]])\n",
    "target_item = torch.tensor([2])\n",
    "predictions = model(user, item_sequence, target_item)\n",
    "print(predictions)\n",
    "model.train()"
   ]
  },
  {
   "cell_type": "code",
   "execution_count": 7,
   "metadata": {},
   "outputs": [],
   "source": [
    "rating_dataset = UserItemBinaryRatingDFDataset(\n",
    "    train_df, \"user_indice\", \"item_indice\", args.rating_col, args.timestamp_col,\"item_sequence\"\n",
    ")\n",
    "\n",
    "train_loader = DataLoader(\n",
    "    rating_dataset, batch_size=batch_size, shuffle=False, drop_last=True\n",
    ")"
   ]
  },
  {
   "cell_type": "code",
   "execution_count": 8,
   "metadata": {},
   "outputs": [
    {
     "name": "stdout",
     "output_type": "stream",
     "text": [
      "{'user': tensor([0, 0]), 'item': tensor([0, 1]), 'rating': tensor([0., 1.]), 'item_sequence': tensor([[-1, -1,  2,  3],\n",
      "        [-1, -1,  2,  4]], dtype=torch.int32)}\n",
      "{'user': tensor([1, 2]), 'item': tensor([2, 3]), 'rating': tensor([1., 1.]), 'item_sequence': tensor([[-1, -1,  1,  3],\n",
      "        [-1, -1,  2,  1]], dtype=torch.int32)}\n"
     ]
    }
   ],
   "source": [
    "for batch_input in train_loader:\n",
    "    print(batch_input)"
   ]
  },
  {
   "cell_type": "code",
   "execution_count": 9,
   "metadata": {},
   "outputs": [
    {
     "name": "stderr",
     "output_type": "stream",
     "text": [
      "You are using the plain ModelCheckpoint callback. Consider using LitModelCheckpoint which with seamless uploading to Model registry.\n",
      "GPU available: True (cuda), used: True\n",
      "TPU available: False, using: 0 TPU cores\n",
      "HPU available: False, using: 0 HPUs\n",
      "You are using a CUDA device ('NVIDIA GeForce RTX 3050 Laptop GPU') that has Tensor Cores. To properly utilize them, you should set `torch.set_float32_matmul_precision('medium' | 'high')` which will trade-off precision for performance. For more details, read https://pytorch.org/docs/stable/generated/torch.set_float32_matmul_precision.html#torch.set_float32_matmul_precision\n",
      "LOCAL_RANK: 0 - CUDA_VISIBLE_DEVICES: [0]\n",
      "\n",
      "  | Name               | Type                     | Params | Mode \n",
      "------------------------------------------------------------------------\n",
      "0 | model              | SequenceRatingPrediction | 16.4 K | train\n",
      "1 | val_roc_auc_metric | BinaryAUROC              | 0      | train\n",
      "2 | val_pr_auc_metric  | BinaryAveragePrecision   | 0      | train\n",
      "------------------------------------------------------------------------\n",
      "16.4 K    Trainable params\n",
      "0         Non-trainable params\n",
      "16.4 K    Total params\n",
      "0.065     Total estimated model params size (MB)\n",
      "33        Modules in train mode\n",
      "0         Modules in eval mode\n"
     ]
    },
    {
     "data": {
      "application/vnd.jupyter.widget-view+json": {
       "model_id": "9e2f47dabd024d3ea0a20b2d8d1a1866",
       "version_major": 2,
       "version_minor": 0
      },
      "text/plain": [
       "Sanity Checking: |          | 0/? [00:00<?, ?it/s]"
      ]
     },
     "metadata": {},
     "output_type": "display_data"
    },
    {
     "name": "stderr",
     "output_type": "stream",
     "text": [
      "/home/dinhln/Desktop/real_time_recsys/.venv/lib/python3.11/site-packages/lightning/pytorch/trainer/connectors/data_connector.py:425: PossibleUserWarning:\n",
      "\n",
      "The 'val_dataloader' does not have many workers which may be a bottleneck. Consider increasing the value of the `num_workers` argument` to `num_workers=19` in the `DataLoader` to improve performance.\n",
      "\n",
      "/home/dinhln/Desktop/real_time_recsys/.venv/lib/python3.11/site-packages/lightning/pytorch/trainer/connectors/data_connector.py:425: PossibleUserWarning:\n",
      "\n",
      "The 'train_dataloader' does not have many workers which may be a bottleneck. Consider increasing the value of the `num_workers` argument` to `num_workers=19` in the `DataLoader` to improve performance.\n",
      "\n",
      "/home/dinhln/Desktop/real_time_recsys/.venv/lib/python3.11/site-packages/lightning/pytorch/loops/fit_loop.py:310: PossibleUserWarning:\n",
      "\n",
      "The number of training batches (2) is smaller than the logging interval Trainer(log_every_n_steps=50). Set a lower value for log_every_n_steps if you want to see logs for the training epoch.\n",
      "\n"
     ]
    },
    {
     "data": {
      "application/vnd.jupyter.widget-view+json": {
       "model_id": "bd40b6cdb6e241dbade468efcb68eb81",
       "version_major": 2,
       "version_minor": 0
      },
      "text/plain": [
       "Training: |          | 0/? [00:00<?, ?it/s]"
      ]
     },
     "metadata": {},
     "output_type": "display_data"
    },
    {
     "data": {
      "application/vnd.jupyter.widget-view+json": {
       "model_id": "bbadfc2a617a4ae69808b7e16bd37f7c",
       "version_major": 2,
       "version_minor": 0
      },
      "text/plain": [
       "Validation: |          | 0/? [00:00<?, ?it/s]"
      ]
     },
     "metadata": {},
     "output_type": "display_data"
    },
    {
     "data": {
      "application/vnd.jupyter.widget-view+json": {
       "model_id": "f9b67cb351174b9f863e96fadf9997cd",
       "version_major": 2,
       "version_minor": 0
      },
      "text/plain": [
       "Validation: |          | 0/? [00:00<?, ?it/s]"
      ]
     },
     "metadata": {},
     "output_type": "display_data"
    },
    {
     "data": {
      "application/vnd.jupyter.widget-view+json": {
       "model_id": "69307dccc70d4b868590f6f11dfb9dbe",
       "version_major": 2,
       "version_minor": 0
      },
      "text/plain": [
       "Validation: |          | 0/? [00:00<?, ?it/s]"
      ]
     },
     "metadata": {},
     "output_type": "display_data"
    },
    {
     "data": {
      "application/vnd.jupyter.widget-view+json": {
       "model_id": "09b49002220949d3980ad60987b04e08",
       "version_major": 2,
       "version_minor": 0
      },
      "text/plain": [
       "Validation: |          | 0/? [00:00<?, ?it/s]"
      ]
     },
     "metadata": {},
     "output_type": "display_data"
    },
    {
     "data": {
      "application/vnd.jupyter.widget-view+json": {
       "model_id": "0c9eca16733b41a7a38fca10e8cf1340",
       "version_major": 2,
       "version_minor": 0
      },
      "text/plain": [
       "Validation: |          | 0/? [00:00<?, ?it/s]"
      ]
     },
     "metadata": {},
     "output_type": "display_data"
    },
    {
     "data": {
      "application/vnd.jupyter.widget-view+json": {
       "model_id": "bef8f43af1f346b387d495335169f037",
       "version_major": 2,
       "version_minor": 0
      },
      "text/plain": [
       "Validation: |          | 0/? [00:00<?, ?it/s]"
      ]
     },
     "metadata": {},
     "output_type": "display_data"
    },
    {
     "data": {
      "application/vnd.jupyter.widget-view+json": {
       "model_id": "0fa2ec56a11b46db963f34c77cdf0cb0",
       "version_major": 2,
       "version_minor": 0
      },
      "text/plain": [
       "Validation: |          | 0/? [00:00<?, ?it/s]"
      ]
     },
     "metadata": {},
     "output_type": "display_data"
    },
    {
     "data": {
      "application/vnd.jupyter.widget-view+json": {
       "model_id": "8180ace7233b4d72a52feee89affaafe",
       "version_major": 2,
       "version_minor": 0
      },
      "text/plain": [
       "Validation: |          | 0/? [00:00<?, ?it/s]"
      ]
     },
     "metadata": {},
     "output_type": "display_data"
    },
    {
     "data": {
      "application/vnd.jupyter.widget-view+json": {
       "model_id": "faf7ad46b6d24e4fa8e1b90d505e8f1a",
       "version_major": 2,
       "version_minor": 0
      },
      "text/plain": [
       "Validation: |          | 0/? [00:00<?, ?it/s]"
      ]
     },
     "metadata": {},
     "output_type": "display_data"
    },
    {
     "data": {
      "application/vnd.jupyter.widget-view+json": {
       "model_id": "4a5c3de29ee84503babae53c19fa09f3",
       "version_major": 2,
       "version_minor": 0
      },
      "text/plain": [
       "Validation: |          | 0/? [00:00<?, ?it/s]"
      ]
     },
     "metadata": {},
     "output_type": "display_data"
    },
    {
     "data": {
      "application/vnd.jupyter.widget-view+json": {
       "model_id": "6d24e291630c40efb784f4149da4955d",
       "version_major": 2,
       "version_minor": 0
      },
      "text/plain": [
       "Validation: |          | 0/? [00:00<?, ?it/s]"
      ]
     },
     "metadata": {},
     "output_type": "display_data"
    },
    {
     "data": {
      "application/vnd.jupyter.widget-view+json": {
       "model_id": "a76df02da63a4861aedddb68f1c2f262",
       "version_major": 2,
       "version_minor": 0
      },
      "text/plain": [
       "Validation: |          | 0/? [00:00<?, ?it/s]"
      ]
     },
     "metadata": {},
     "output_type": "display_data"
    },
    {
     "data": {
      "application/vnd.jupyter.widget-view+json": {
       "model_id": "ef40ed9b53fa407f8f66224e0803234e",
       "version_major": 2,
       "version_minor": 0
      },
      "text/plain": [
       "Validation: |          | 0/? [00:00<?, ?it/s]"
      ]
     },
     "metadata": {},
     "output_type": "display_data"
    },
    {
     "data": {
      "application/vnd.jupyter.widget-view+json": {
       "model_id": "fb3ba9b74b7046e18e5a5daa517d30f7",
       "version_major": 2,
       "version_minor": 0
      },
      "text/plain": [
       "Validation: |          | 0/? [00:00<?, ?it/s]"
      ]
     },
     "metadata": {},
     "output_type": "display_data"
    },
    {
     "data": {
      "application/vnd.jupyter.widget-view+json": {
       "model_id": "86c36626943d40d3a329fff252a3416c",
       "version_major": 2,
       "version_minor": 0
      },
      "text/plain": [
       "Validation: |          | 0/? [00:00<?, ?it/s]"
      ]
     },
     "metadata": {},
     "output_type": "display_data"
    },
    {
     "data": {
      "application/vnd.jupyter.widget-view+json": {
       "model_id": "4f03c1ac368a4d9797cae5237602182a",
       "version_major": 2,
       "version_minor": 0
      },
      "text/plain": [
       "Validation: |          | 0/? [00:00<?, ?it/s]"
      ]
     },
     "metadata": {},
     "output_type": "display_data"
    },
    {
     "data": {
      "application/vnd.jupyter.widget-view+json": {
       "model_id": "24bdb60b68d943fc967e93756b963252",
       "version_major": 2,
       "version_minor": 0
      },
      "text/plain": [
       "Validation: |          | 0/? [00:00<?, ?it/s]"
      ]
     },
     "metadata": {},
     "output_type": "display_data"
    },
    {
     "data": {
      "application/vnd.jupyter.widget-view+json": {
       "model_id": "69b0fd7f9d084c56abd558021c5b0690",
       "version_major": 2,
       "version_minor": 0
      },
      "text/plain": [
       "Validation: |          | 0/? [00:00<?, ?it/s]"
      ]
     },
     "metadata": {},
     "output_type": "display_data"
    },
    {
     "data": {
      "application/vnd.jupyter.widget-view+json": {
       "model_id": "7d7f7d3e04514ecd96439e47215ed38a",
       "version_major": 2,
       "version_minor": 0
      },
      "text/plain": [
       "Validation: |          | 0/? [00:00<?, ?it/s]"
      ]
     },
     "metadata": {},
     "output_type": "display_data"
    },
    {
     "data": {
      "application/vnd.jupyter.widget-view+json": {
       "model_id": "eadd27ce2de94ebab8d6a2df2708307c",
       "version_major": 2,
       "version_minor": 0
      },
      "text/plain": [
       "Validation: |          | 0/? [00:00<?, ?it/s]"
      ]
     },
     "metadata": {},
     "output_type": "display_data"
    },
    {
     "data": {
      "application/vnd.jupyter.widget-view+json": {
       "model_id": "cda80d4092e349cbae3ab34da34a3ddb",
       "version_major": 2,
       "version_minor": 0
      },
      "text/plain": [
       "Validation: |          | 0/? [00:00<?, ?it/s]"
      ]
     },
     "metadata": {},
     "output_type": "display_data"
    },
    {
     "data": {
      "application/vnd.jupyter.widget-view+json": {
       "model_id": "9c39870091a64b3b895b80df10cf8f61",
       "version_major": 2,
       "version_minor": 0
      },
      "text/plain": [
       "Validation: |          | 0/? [00:00<?, ?it/s]"
      ]
     },
     "metadata": {},
     "output_type": "display_data"
    },
    {
     "data": {
      "application/vnd.jupyter.widget-view+json": {
       "model_id": "b3a566b4a9d14c42a5cd83f20f78f395",
       "version_major": 2,
       "version_minor": 0
      },
      "text/plain": [
       "Validation: |          | 0/? [00:00<?, ?it/s]"
      ]
     },
     "metadata": {},
     "output_type": "display_data"
    },
    {
     "data": {
      "application/vnd.jupyter.widget-view+json": {
       "model_id": "211b8d826a4f4d3abb7c5cb3e91b4cec",
       "version_major": 2,
       "version_minor": 0
      },
      "text/plain": [
       "Validation: |          | 0/? [00:00<?, ?it/s]"
      ]
     },
     "metadata": {},
     "output_type": "display_data"
    },
    {
     "data": {
      "application/vnd.jupyter.widget-view+json": {
       "model_id": "9acb3a8e26d847af8558e2c5357dc79d",
       "version_major": 2,
       "version_minor": 0
      },
      "text/plain": [
       "Validation: |          | 0/? [00:00<?, ?it/s]"
      ]
     },
     "metadata": {},
     "output_type": "display_data"
    },
    {
     "data": {
      "application/vnd.jupyter.widget-view+json": {
       "model_id": "f5dee04999c04410b6cc8f0fa756cc35",
       "version_major": 2,
       "version_minor": 0
      },
      "text/plain": [
       "Validation: |          | 0/? [00:00<?, ?it/s]"
      ]
     },
     "metadata": {},
     "output_type": "display_data"
    },
    {
     "data": {
      "application/vnd.jupyter.widget-view+json": {
       "model_id": "85dfe082d475473c82844be955290da2",
       "version_major": 2,
       "version_minor": 0
      },
      "text/plain": [
       "Validation: |          | 0/? [00:00<?, ?it/s]"
      ]
     },
     "metadata": {},
     "output_type": "display_data"
    },
    {
     "data": {
      "application/vnd.jupyter.widget-view+json": {
       "model_id": "db624c376d634e2a811673ff38da730c",
       "version_major": 2,
       "version_minor": 0
      },
      "text/plain": [
       "Validation: |          | 0/? [00:00<?, ?it/s]"
      ]
     },
     "metadata": {},
     "output_type": "display_data"
    },
    {
     "data": {
      "application/vnd.jupyter.widget-view+json": {
       "model_id": "2f2fad9a5e5847098ed189c04d4d6faa",
       "version_major": 2,
       "version_minor": 0
      },
      "text/plain": [
       "Validation: |          | 0/? [00:00<?, ?it/s]"
      ]
     },
     "metadata": {},
     "output_type": "display_data"
    },
    {
     "data": {
      "application/vnd.jupyter.widget-view+json": {
       "model_id": "e5db6fcf7ceb4c2fa54634ec41bddd8c",
       "version_major": 2,
       "version_minor": 0
      },
      "text/plain": [
       "Validation: |          | 0/? [00:00<?, ?it/s]"
      ]
     },
     "metadata": {},
     "output_type": "display_data"
    },
    {
     "data": {
      "application/vnd.jupyter.widget-view+json": {
       "model_id": "1967e60cfc8647119972ce50d4d1c60d",
       "version_major": 2,
       "version_minor": 0
      },
      "text/plain": [
       "Validation: |          | 0/? [00:00<?, ?it/s]"
      ]
     },
     "metadata": {},
     "output_type": "display_data"
    },
    {
     "data": {
      "application/vnd.jupyter.widget-view+json": {
       "model_id": "378507a192764097bfb7bbcdb2502480",
       "version_major": 2,
       "version_minor": 0
      },
      "text/plain": [
       "Validation: |          | 0/? [00:00<?, ?it/s]"
      ]
     },
     "metadata": {},
     "output_type": "display_data"
    },
    {
     "data": {
      "application/vnd.jupyter.widget-view+json": {
       "model_id": "75f96e4e28f149dfb53c91faf97e92ed",
       "version_major": 2,
       "version_minor": 0
      },
      "text/plain": [
       "Validation: |          | 0/? [00:00<?, ?it/s]"
      ]
     },
     "metadata": {},
     "output_type": "display_data"
    },
    {
     "data": {
      "application/vnd.jupyter.widget-view+json": {
       "model_id": "256be6048a1d4d308f26be3849d17d16",
       "version_major": 2,
       "version_minor": 0
      },
      "text/plain": [
       "Validation: |          | 0/? [00:00<?, ?it/s]"
      ]
     },
     "metadata": {},
     "output_type": "display_data"
    },
    {
     "data": {
      "application/vnd.jupyter.widget-view+json": {
       "model_id": "bfb65a915a654305b9ad8d3a2bceb504",
       "version_major": 2,
       "version_minor": 0
      },
      "text/plain": [
       "Validation: |          | 0/? [00:00<?, ?it/s]"
      ]
     },
     "metadata": {},
     "output_type": "display_data"
    },
    {
     "data": {
      "application/vnd.jupyter.widget-view+json": {
       "model_id": "7b2256b79f05473c807a6f129b596985",
       "version_major": 2,
       "version_minor": 0
      },
      "text/plain": [
       "Validation: |          | 0/? [00:00<?, ?it/s]"
      ]
     },
     "metadata": {},
     "output_type": "display_data"
    },
    {
     "data": {
      "application/vnd.jupyter.widget-view+json": {
       "model_id": "ab8bd024112d487fbc988055f6f769b2",
       "version_major": 2,
       "version_minor": 0
      },
      "text/plain": [
       "Validation: |          | 0/? [00:00<?, ?it/s]"
      ]
     },
     "metadata": {},
     "output_type": "display_data"
    },
    {
     "data": {
      "application/vnd.jupyter.widget-view+json": {
       "model_id": "923d3ceff1d645be93e258ba9a9c08f8",
       "version_major": 2,
       "version_minor": 0
      },
      "text/plain": [
       "Validation: |          | 0/? [00:00<?, ?it/s]"
      ]
     },
     "metadata": {},
     "output_type": "display_data"
    },
    {
     "data": {
      "application/vnd.jupyter.widget-view+json": {
       "model_id": "e866c66ea0fb4408adfafa5ba9f298cb",
       "version_major": 2,
       "version_minor": 0
      },
      "text/plain": [
       "Validation: |          | 0/? [00:00<?, ?it/s]"
      ]
     },
     "metadata": {},
     "output_type": "display_data"
    },
    {
     "data": {
      "application/vnd.jupyter.widget-view+json": {
       "model_id": "7ec1235452c3453e8533cdf11e8dec89",
       "version_major": 2,
       "version_minor": 0
      },
      "text/plain": [
       "Validation: |          | 0/? [00:00<?, ?it/s]"
      ]
     },
     "metadata": {},
     "output_type": "display_data"
    },
    {
     "data": {
      "application/vnd.jupyter.widget-view+json": {
       "model_id": "8e6d482818324cd2a4479d7cc5c42b21",
       "version_major": 2,
       "version_minor": 0
      },
      "text/plain": [
       "Validation: |          | 0/? [00:00<?, ?it/s]"
      ]
     },
     "metadata": {},
     "output_type": "display_data"
    },
    {
     "data": {
      "application/vnd.jupyter.widget-view+json": {
       "model_id": "47301df0b66140cc9eebf553eda49969",
       "version_major": 2,
       "version_minor": 0
      },
      "text/plain": [
       "Validation: |          | 0/? [00:00<?, ?it/s]"
      ]
     },
     "metadata": {},
     "output_type": "display_data"
    },
    {
     "data": {
      "application/vnd.jupyter.widget-view+json": {
       "model_id": "c34b488fe7ec4ff6bb292a507e21714c",
       "version_major": 2,
       "version_minor": 0
      },
      "text/plain": [
       "Validation: |          | 0/? [00:00<?, ?it/s]"
      ]
     },
     "metadata": {},
     "output_type": "display_data"
    },
    {
     "data": {
      "application/vnd.jupyter.widget-view+json": {
       "model_id": "bf4c9712e76b4afb9339ffa6bde3da00",
       "version_major": 2,
       "version_minor": 0
      },
      "text/plain": [
       "Validation: |          | 0/? [00:00<?, ?it/s]"
      ]
     },
     "metadata": {},
     "output_type": "display_data"
    },
    {
     "data": {
      "application/vnd.jupyter.widget-view+json": {
       "model_id": "fb3b51df96914d22a544702d282e48d6",
       "version_major": 2,
       "version_minor": 0
      },
      "text/plain": [
       "Validation: |          | 0/? [00:00<?, ?it/s]"
      ]
     },
     "metadata": {},
     "output_type": "display_data"
    },
    {
     "data": {
      "application/vnd.jupyter.widget-view+json": {
       "model_id": "76fe205eb2384b2f8f0cb1d0e4bba587",
       "version_major": 2,
       "version_minor": 0
      },
      "text/plain": [
       "Validation: |          | 0/? [00:00<?, ?it/s]"
      ]
     },
     "metadata": {},
     "output_type": "display_data"
    },
    {
     "data": {
      "application/vnd.jupyter.widget-view+json": {
       "model_id": "5052e07b655e4678b488e36cd7165af3",
       "version_major": 2,
       "version_minor": 0
      },
      "text/plain": [
       "Validation: |          | 0/? [00:00<?, ?it/s]"
      ]
     },
     "metadata": {},
     "output_type": "display_data"
    },
    {
     "data": {
      "application/vnd.jupyter.widget-view+json": {
       "model_id": "34c859d7c44d40548e3a2e9cd991cb5c",
       "version_major": 2,
       "version_minor": 0
      },
      "text/plain": [
       "Validation: |          | 0/? [00:00<?, ?it/s]"
      ]
     },
     "metadata": {},
     "output_type": "display_data"
    },
    {
     "data": {
      "application/vnd.jupyter.widget-view+json": {
       "model_id": "c3fbee8af49647a8ad1b064e1b1bc65a",
       "version_major": 2,
       "version_minor": 0
      },
      "text/plain": [
       "Validation: |          | 0/? [00:00<?, ?it/s]"
      ]
     },
     "metadata": {},
     "output_type": "display_data"
    },
    {
     "data": {
      "application/vnd.jupyter.widget-view+json": {
       "model_id": "fe4508bf771a4d9ca8c950c0d36c5cbc",
       "version_major": 2,
       "version_minor": 0
      },
      "text/plain": [
       "Validation: |          | 0/? [00:00<?, ?it/s]"
      ]
     },
     "metadata": {},
     "output_type": "display_data"
    },
    {
     "data": {
      "application/vnd.jupyter.widget-view+json": {
       "model_id": "aeee04dc342246dbb96f3182bf28621c",
       "version_major": 2,
       "version_minor": 0
      },
      "text/plain": [
       "Validation: |          | 0/? [00:00<?, ?it/s]"
      ]
     },
     "metadata": {},
     "output_type": "display_data"
    },
    {
     "data": {
      "application/vnd.jupyter.widget-view+json": {
       "model_id": "5dfa211afae2435c83ae2a5714a33a94",
       "version_major": 2,
       "version_minor": 0
      },
      "text/plain": [
       "Validation: |          | 0/? [00:00<?, ?it/s]"
      ]
     },
     "metadata": {},
     "output_type": "display_data"
    },
    {
     "data": {
      "application/vnd.jupyter.widget-view+json": {
       "model_id": "3c43a82b9e42420386eaee0be25caf82",
       "version_major": 2,
       "version_minor": 0
      },
      "text/plain": [
       "Validation: |          | 0/? [00:00<?, ?it/s]"
      ]
     },
     "metadata": {},
     "output_type": "display_data"
    },
    {
     "data": {
      "application/vnd.jupyter.widget-view+json": {
       "model_id": "26963f9269eb426b96340cbd9bbe42be",
       "version_major": 2,
       "version_minor": 0
      },
      "text/plain": [
       "Validation: |          | 0/? [00:00<?, ?it/s]"
      ]
     },
     "metadata": {},
     "output_type": "display_data"
    },
    {
     "data": {
      "application/vnd.jupyter.widget-view+json": {
       "model_id": "5491207d8d404b8b9651d2ef1c5c994a",
       "version_major": 2,
       "version_minor": 0
      },
      "text/plain": [
       "Validation: |          | 0/? [00:00<?, ?it/s]"
      ]
     },
     "metadata": {},
     "output_type": "display_data"
    },
    {
     "data": {
      "application/vnd.jupyter.widget-view+json": {
       "model_id": "b6034fcd16cf4579bfa0cb9a79fb47da",
       "version_major": 2,
       "version_minor": 0
      },
      "text/plain": [
       "Validation: |          | 0/? [00:00<?, ?it/s]"
      ]
     },
     "metadata": {},
     "output_type": "display_data"
    },
    {
     "data": {
      "application/vnd.jupyter.widget-view+json": {
       "model_id": "57528bca8093480da959c540197a2d03",
       "version_major": 2,
       "version_minor": 0
      },
      "text/plain": [
       "Validation: |          | 0/? [00:00<?, ?it/s]"
      ]
     },
     "metadata": {},
     "output_type": "display_data"
    },
    {
     "data": {
      "application/vnd.jupyter.widget-view+json": {
       "model_id": "76c5ea4d957349f7a08f5a2cec255f7c",
       "version_major": 2,
       "version_minor": 0
      },
      "text/plain": [
       "Validation: |          | 0/? [00:00<?, ?it/s]"
      ]
     },
     "metadata": {},
     "output_type": "display_data"
    },
    {
     "data": {
      "application/vnd.jupyter.widget-view+json": {
       "model_id": "c6e0554cab6f4050bb8d390a28404937",
       "version_major": 2,
       "version_minor": 0
      },
      "text/plain": [
       "Validation: |          | 0/? [00:00<?, ?it/s]"
      ]
     },
     "metadata": {},
     "output_type": "display_data"
    },
    {
     "data": {
      "application/vnd.jupyter.widget-view+json": {
       "model_id": "5c4d2560001f4574ad785a043a949966",
       "version_major": 2,
       "version_minor": 0
      },
      "text/plain": [
       "Validation: |          | 0/? [00:00<?, ?it/s]"
      ]
     },
     "metadata": {},
     "output_type": "display_data"
    },
    {
     "data": {
      "application/vnd.jupyter.widget-view+json": {
       "model_id": "9adea233e44d4353adc7ba9364826d6a",
       "version_major": 2,
       "version_minor": 0
      },
      "text/plain": [
       "Validation: |          | 0/? [00:00<?, ?it/s]"
      ]
     },
     "metadata": {},
     "output_type": "display_data"
    },
    {
     "data": {
      "application/vnd.jupyter.widget-view+json": {
       "model_id": "506c3f19981149eba50b9ca74acdb544",
       "version_major": 2,
       "version_minor": 0
      },
      "text/plain": [
       "Validation: |          | 0/? [00:00<?, ?it/s]"
      ]
     },
     "metadata": {},
     "output_type": "display_data"
    },
    {
     "data": {
      "application/vnd.jupyter.widget-view+json": {
       "model_id": "7951018c4a6d4e1d95309bc9dbac8d16",
       "version_major": 2,
       "version_minor": 0
      },
      "text/plain": [
       "Validation: |          | 0/? [00:00<?, ?it/s]"
      ]
     },
     "metadata": {},
     "output_type": "display_data"
    },
    {
     "data": {
      "application/vnd.jupyter.widget-view+json": {
       "model_id": "a3697ce61a784b49ae809104e40ab968",
       "version_major": 2,
       "version_minor": 0
      },
      "text/plain": [
       "Validation: |          | 0/? [00:00<?, ?it/s]"
      ]
     },
     "metadata": {},
     "output_type": "display_data"
    },
    {
     "data": {
      "application/vnd.jupyter.widget-view+json": {
       "model_id": "e5c853eb2e2542598ea76d8511d9fa76",
       "version_major": 2,
       "version_minor": 0
      },
      "text/plain": [
       "Validation: |          | 0/? [00:00<?, ?it/s]"
      ]
     },
     "metadata": {},
     "output_type": "display_data"
    },
    {
     "data": {
      "application/vnd.jupyter.widget-view+json": {
       "model_id": "78969689c06e405bb7dd84fb3b4f2bc9",
       "version_major": 2,
       "version_minor": 0
      },
      "text/plain": [
       "Validation: |          | 0/? [00:00<?, ?it/s]"
      ]
     },
     "metadata": {},
     "output_type": "display_data"
    },
    {
     "data": {
      "application/vnd.jupyter.widget-view+json": {
       "model_id": "ec605b75f91d40259bc4519674c47d50",
       "version_major": 2,
       "version_minor": 0
      },
      "text/plain": [
       "Validation: |          | 0/? [00:00<?, ?it/s]"
      ]
     },
     "metadata": {},
     "output_type": "display_data"
    },
    {
     "data": {
      "application/vnd.jupyter.widget-view+json": {
       "model_id": "0cc7e629ecfe44bea6a6ed1c2b1ecb8c",
       "version_major": 2,
       "version_minor": 0
      },
      "text/plain": [
       "Validation: |          | 0/? [00:00<?, ?it/s]"
      ]
     },
     "metadata": {},
     "output_type": "display_data"
    },
    {
     "data": {
      "application/vnd.jupyter.widget-view+json": {
       "model_id": "11f7020fda744dddb778d99f5f1a50ff",
       "version_major": 2,
       "version_minor": 0
      },
      "text/plain": [
       "Validation: |          | 0/? [00:00<?, ?it/s]"
      ]
     },
     "metadata": {},
     "output_type": "display_data"
    },
    {
     "data": {
      "application/vnd.jupyter.widget-view+json": {
       "model_id": "6e009d9fa72647e8825690987df2c02c",
       "version_major": 2,
       "version_minor": 0
      },
      "text/plain": [
       "Validation: |          | 0/? [00:00<?, ?it/s]"
      ]
     },
     "metadata": {},
     "output_type": "display_data"
    },
    {
     "data": {
      "application/vnd.jupyter.widget-view+json": {
       "model_id": "71b10da2a3cc4605995a03b3443ca833",
       "version_major": 2,
       "version_minor": 0
      },
      "text/plain": [
       "Validation: |          | 0/? [00:00<?, ?it/s]"
      ]
     },
     "metadata": {},
     "output_type": "display_data"
    },
    {
     "data": {
      "application/vnd.jupyter.widget-view+json": {
       "model_id": "64c8bde1f8dc44fab235f6065c1c314c",
       "version_major": 2,
       "version_minor": 0
      },
      "text/plain": [
       "Validation: |          | 0/? [00:00<?, ?it/s]"
      ]
     },
     "metadata": {},
     "output_type": "display_data"
    },
    {
     "data": {
      "application/vnd.jupyter.widget-view+json": {
       "model_id": "45ec9cd7b75c4f5aadd70200c04e41d1",
       "version_major": 2,
       "version_minor": 0
      },
      "text/plain": [
       "Validation: |          | 0/? [00:00<?, ?it/s]"
      ]
     },
     "metadata": {},
     "output_type": "display_data"
    },
    {
     "data": {
      "application/vnd.jupyter.widget-view+json": {
       "model_id": "ec8c98fc95744bb1b13e4a77340a7062",
       "version_major": 2,
       "version_minor": 0
      },
      "text/plain": [
       "Validation: |          | 0/? [00:00<?, ?it/s]"
      ]
     },
     "metadata": {},
     "output_type": "display_data"
    },
    {
     "data": {
      "application/vnd.jupyter.widget-view+json": {
       "model_id": "7279fd9b73fe44b59592d00ee480ad80",
       "version_major": 2,
       "version_minor": 0
      },
      "text/plain": [
       "Validation: |          | 0/? [00:00<?, ?it/s]"
      ]
     },
     "metadata": {},
     "output_type": "display_data"
    },
    {
     "data": {
      "application/vnd.jupyter.widget-view+json": {
       "model_id": "4fa7bf500ddc4be0b2dfd9fd2a55660d",
       "version_major": 2,
       "version_minor": 0
      },
      "text/plain": [
       "Validation: |          | 0/? [00:00<?, ?it/s]"
      ]
     },
     "metadata": {},
     "output_type": "display_data"
    },
    {
     "data": {
      "application/vnd.jupyter.widget-view+json": {
       "model_id": "dbd09f7fb6ba4d2c919a49cc43cf88f3",
       "version_major": 2,
       "version_minor": 0
      },
      "text/plain": [
       "Validation: |          | 0/? [00:00<?, ?it/s]"
      ]
     },
     "metadata": {},
     "output_type": "display_data"
    },
    {
     "data": {
      "application/vnd.jupyter.widget-view+json": {
       "model_id": "c3beb8fb607b486db03345a7c338b53c",
       "version_major": 2,
       "version_minor": 0
      },
      "text/plain": [
       "Validation: |          | 0/? [00:00<?, ?it/s]"
      ]
     },
     "metadata": {},
     "output_type": "display_data"
    },
    {
     "data": {
      "application/vnd.jupyter.widget-view+json": {
       "model_id": "1adb014a0fb24f448635d5fdb2fafe63",
       "version_major": 2,
       "version_minor": 0
      },
      "text/plain": [
       "Validation: |          | 0/? [00:00<?, ?it/s]"
      ]
     },
     "metadata": {},
     "output_type": "display_data"
    },
    {
     "data": {
      "application/vnd.jupyter.widget-view+json": {
       "model_id": "ea0e1930cc4a45ad9dd138aa1107023b",
       "version_major": 2,
       "version_minor": 0
      },
      "text/plain": [
       "Validation: |          | 0/? [00:00<?, ?it/s]"
      ]
     },
     "metadata": {},
     "output_type": "display_data"
    },
    {
     "data": {
      "application/vnd.jupyter.widget-view+json": {
       "model_id": "8ad8734b9eb740518052eb22b6925244",
       "version_major": 2,
       "version_minor": 0
      },
      "text/plain": [
       "Validation: |          | 0/? [00:00<?, ?it/s]"
      ]
     },
     "metadata": {},
     "output_type": "display_data"
    },
    {
     "data": {
      "application/vnd.jupyter.widget-view+json": {
       "model_id": "47e989978c5a433eb440bdbac3c3e6b0",
       "version_major": 2,
       "version_minor": 0
      },
      "text/plain": [
       "Validation: |          | 0/? [00:00<?, ?it/s]"
      ]
     },
     "metadata": {},
     "output_type": "display_data"
    },
    {
     "data": {
      "application/vnd.jupyter.widget-view+json": {
       "model_id": "2b9394964a4f45749d01e5025a499277",
       "version_major": 2,
       "version_minor": 0
      },
      "text/plain": [
       "Validation: |          | 0/? [00:00<?, ?it/s]"
      ]
     },
     "metadata": {},
     "output_type": "display_data"
    },
    {
     "data": {
      "application/vnd.jupyter.widget-view+json": {
       "model_id": "13047b253a124116b7d7896285f453bf",
       "version_major": 2,
       "version_minor": 0
      },
      "text/plain": [
       "Validation: |          | 0/? [00:00<?, ?it/s]"
      ]
     },
     "metadata": {},
     "output_type": "display_data"
    },
    {
     "data": {
      "application/vnd.jupyter.widget-view+json": {
       "model_id": "d57760c6717d4bd094ff8122aecf29bc",
       "version_major": 2,
       "version_minor": 0
      },
      "text/plain": [
       "Validation: |          | 0/? [00:00<?, ?it/s]"
      ]
     },
     "metadata": {},
     "output_type": "display_data"
    },
    {
     "data": {
      "application/vnd.jupyter.widget-view+json": {
       "model_id": "5036b81c5c054f41b2c17c46b3d2955d",
       "version_major": 2,
       "version_minor": 0
      },
      "text/plain": [
       "Validation: |          | 0/? [00:00<?, ?it/s]"
      ]
     },
     "metadata": {},
     "output_type": "display_data"
    },
    {
     "data": {
      "application/vnd.jupyter.widget-view+json": {
       "model_id": "60c9b23ceac44198aa07c3d89bdb836c",
       "version_major": 2,
       "version_minor": 0
      },
      "text/plain": [
       "Validation: |          | 0/? [00:00<?, ?it/s]"
      ]
     },
     "metadata": {},
     "output_type": "display_data"
    },
    {
     "data": {
      "application/vnd.jupyter.widget-view+json": {
       "model_id": "0ca217bcb3964562a5c26ff0b59c578f",
       "version_major": 2,
       "version_minor": 0
      },
      "text/plain": [
       "Validation: |          | 0/? [00:00<?, ?it/s]"
      ]
     },
     "metadata": {},
     "output_type": "display_data"
    },
    {
     "data": {
      "application/vnd.jupyter.widget-view+json": {
       "model_id": "460574a262294ef6afdaaa6d0a5d6ddc",
       "version_major": 2,
       "version_minor": 0
      },
      "text/plain": [
       "Validation: |          | 0/? [00:00<?, ?it/s]"
      ]
     },
     "metadata": {},
     "output_type": "display_data"
    },
    {
     "data": {
      "application/vnd.jupyter.widget-view+json": {
       "model_id": "6df424fd7fb94839808fb904f01ffa64",
       "version_major": 2,
       "version_minor": 0
      },
      "text/plain": [
       "Validation: |          | 0/? [00:00<?, ?it/s]"
      ]
     },
     "metadata": {},
     "output_type": "display_data"
    },
    {
     "data": {
      "application/vnd.jupyter.widget-view+json": {
       "model_id": "158a66748f304afc83ed6d5f46449804",
       "version_major": 2,
       "version_minor": 0
      },
      "text/plain": [
       "Validation: |          | 0/? [00:00<?, ?it/s]"
      ]
     },
     "metadata": {},
     "output_type": "display_data"
    },
    {
     "data": {
      "application/vnd.jupyter.widget-view+json": {
       "model_id": "426a597a8747438081026e9037de417c",
       "version_major": 2,
       "version_minor": 0
      },
      "text/plain": [
       "Validation: |          | 0/? [00:00<?, ?it/s]"
      ]
     },
     "metadata": {},
     "output_type": "display_data"
    },
    {
     "data": {
      "application/vnd.jupyter.widget-view+json": {
       "model_id": "6511a37eb6a34b569121270b249677ea",
       "version_major": 2,
       "version_minor": 0
      },
      "text/plain": [
       "Validation: |          | 0/? [00:00<?, ?it/s]"
      ]
     },
     "metadata": {},
     "output_type": "display_data"
    },
    {
     "data": {
      "application/vnd.jupyter.widget-view+json": {
       "model_id": "207691b83c8e41bb9d5ec8815d0104f7",
       "version_major": 2,
       "version_minor": 0
      },
      "text/plain": [
       "Validation: |          | 0/? [00:00<?, ?it/s]"
      ]
     },
     "metadata": {},
     "output_type": "display_data"
    },
    {
     "data": {
      "application/vnd.jupyter.widget-view+json": {
       "model_id": "dbd213091fa6464481a04fbc5ad210e6",
       "version_major": 2,
       "version_minor": 0
      },
      "text/plain": [
       "Validation: |          | 0/? [00:00<?, ?it/s]"
      ]
     },
     "metadata": {},
     "output_type": "display_data"
    },
    {
     "data": {
      "application/vnd.jupyter.widget-view+json": {
       "model_id": "ab22cbb3f03c48d3b99c44de1f5bce14",
       "version_major": 2,
       "version_minor": 0
      },
      "text/plain": [
       "Validation: |          | 0/? [00:00<?, ?it/s]"
      ]
     },
     "metadata": {},
     "output_type": "display_data"
    },
    {
     "data": {
      "application/vnd.jupyter.widget-view+json": {
       "model_id": "fddb15a6c00c49ff93ec54adad2a638c",
       "version_major": 2,
       "version_minor": 0
      },
      "text/plain": [
       "Validation: |          | 0/? [00:00<?, ?it/s]"
      ]
     },
     "metadata": {},
     "output_type": "display_data"
    },
    {
     "data": {
      "application/vnd.jupyter.widget-view+json": {
       "model_id": "2b6588e928a74c96b719e17d82850c88",
       "version_major": 2,
       "version_minor": 0
      },
      "text/plain": [
       "Validation: |          | 0/? [00:00<?, ?it/s]"
      ]
     },
     "metadata": {},
     "output_type": "display_data"
    },
    {
     "data": {
      "application/vnd.jupyter.widget-view+json": {
       "model_id": "d5d6081951ee4630b1159b64bd45cd66",
       "version_major": 2,
       "version_minor": 0
      },
      "text/plain": [
       "Validation: |          | 0/? [00:00<?, ?it/s]"
      ]
     },
     "metadata": {},
     "output_type": "display_data"
    },
    {
     "data": {
      "application/vnd.jupyter.widget-view+json": {
       "model_id": "01bd2991f69142fc8f4b283905e6833a",
       "version_major": 2,
       "version_minor": 0
      },
      "text/plain": [
       "Validation: |          | 0/? [00:00<?, ?it/s]"
      ]
     },
     "metadata": {},
     "output_type": "display_data"
    },
    {
     "name": "stderr",
     "output_type": "stream",
     "text": [
      "`Trainer.fit` stopped: `max_epochs=100` reached.\n"
     ]
    }
   ],
   "source": [
    "# model\n",
    "lit_model = SeqModellingLitModule(model, log_dir=args.notebook_persit_dp)\n",
    "\n",
    "# train model\n",
    "trainer = L.Trainer(\n",
    "    default_root_dir=f\"{args.notebook_persit_dp}/test\",\n",
    "    max_epochs=100,\n",
    "    accelerator=args.device if args.device else \"auto\",\n",
    ")\n",
    "trainer.fit(\n",
    "    model=lit_model, train_dataloaders=train_loader, val_dataloaders=train_loader\n",
    ")"
   ]
  },
  {
   "cell_type": "code",
   "execution_count": 10,
   "metadata": {},
   "outputs": [
    {
     "name": "stdout",
     "output_type": "stream",
     "text": [
      "tensor([[0.9962]], grad_fn=<SigmoidBackward0>)\n"
     ]
    }
   ],
   "source": [
    "model.eval()\n",
    "user = torch.tensor([0])\n",
    "item_sequence = torch.tensor([[-1, -1, -1, 0, 1]])\n",
    "target_item = torch.tensor([2])\n",
    "predictions = model.predict(user, item_sequence, target_item)\n",
    "print(predictions)"
   ]
  },
  {
   "cell_type": "markdown",
   "metadata": {},
   "source": [
    "## Training loop"
   ]
  },
  {
   "cell_type": "code",
   "execution_count": 11,
   "metadata": {},
   "outputs": [],
   "source": [
    "train_df = pd.read_parquet(args.train_data_fp)\n",
    "val_df = pd.read_parquet(args.val_data_fp)\n",
    "\n",
    "assert set(val_df[args.user_col].unique()).issubset(set(train_df[args.user_col].unique())), \"Validation users must be present in training users.\"\n",
    "\n",
    "assert set(val_df[args.item_col].unique()).issubset(set(train_df[args.item_col].unique())), \"Validation items must be present in training items.\"\n",
    "assert train_df[args.timestamp_col].max() < val_df[args.timestamp_col].min(), \"Validation data must be after training data. Otherwise, its a data contamination problem.\""
   ]
  },
  {
   "cell_type": "code",
   "execution_count": 12,
   "metadata": {},
   "outputs": [
    {
     "data": {
      "text/html": [
       "<div>\n",
       "<style scoped>\n",
       "    .dataframe tbody tr th:only-of-type {\n",
       "        vertical-align: middle;\n",
       "    }\n",
       "\n",
       "    .dataframe tbody tr th {\n",
       "        vertical-align: top;\n",
       "    }\n",
       "\n",
       "    .dataframe thead th {\n",
       "        text-align: right;\n",
       "    }\n",
       "</style>\n",
       "<table border=\"1\" class=\"dataframe\">\n",
       "  <thead>\n",
       "    <tr style=\"text-align: right;\">\n",
       "      <th></th>\n",
       "      <th>user_id</th>\n",
       "      <th>parent_asin</th>\n",
       "      <th>rating</th>\n",
       "      <th>timestamp</th>\n",
       "      <th>user_indice</th>\n",
       "      <th>item_indice</th>\n",
       "      <th>item_sequence</th>\n",
       "    </tr>\n",
       "  </thead>\n",
       "  <tbody>\n",
       "    <tr>\n",
       "      <th>266890</th>\n",
       "      <td>AETCSNOCHP5YL3C67YWXHB54RCNA</td>\n",
       "      <td>B09BW3XJQV</td>\n",
       "      <td>0.0</td>\n",
       "      <td>2016-11-18 05:32:16.000</td>\n",
       "      <td>3257</td>\n",
       "      <td>1248</td>\n",
       "      <td>[-1.0, -1.0, -1.0, -1.0, -1.0, -1.0, -1.0, 142...</td>\n",
       "    </tr>\n",
       "    <tr>\n",
       "      <th>183685</th>\n",
       "      <td>AHUDTHSVE5XAFVPOHHBSPL7T7TNA</td>\n",
       "      <td>B00B3OA7R8</td>\n",
       "      <td>0.0</td>\n",
       "      <td>2014-11-23 14:06:52.000</td>\n",
       "      <td>15687</td>\n",
       "      <td>2394</td>\n",
       "      <td>[-1.0, -1.0, -1.0, -1.0, 3375.0, 3642.0, 954.0...</td>\n",
       "    </tr>\n",
       "    <tr>\n",
       "      <th>308523</th>\n",
       "      <td>AGYLXGPK4SKKQZ2OV3LXYGHFYM2A</td>\n",
       "      <td>B0895KGSY1</td>\n",
       "      <td>0.0</td>\n",
       "      <td>2017-12-31 06:21:06.077</td>\n",
       "      <td>12067</td>\n",
       "      <td>4591</td>\n",
       "      <td>[-1.0, -1.0, -1.0, -1.0, -1.0, 4458.0, 1570.0,...</td>\n",
       "    </tr>\n",
       "    <tr>\n",
       "      <th>99169</th>\n",
       "      <td>AENO3VFOX37KYSKS6FQOXWSHR74Q</td>\n",
       "      <td>B078CQSHDV</td>\n",
       "      <td>5.0</td>\n",
       "      <td>2018-08-06 20:46:04.598</td>\n",
       "      <td>2540</td>\n",
       "      <td>3168</td>\n",
       "      <td>[-1.0, -1.0, -1.0, 650.0, 2326.0, 3089.0, 2787...</td>\n",
       "    </tr>\n",
       "    <tr>\n",
       "      <th>64744</th>\n",
       "      <td>AHGMLXGDYDPBY3MIJZPHUAOVZFVQ</td>\n",
       "      <td>B08NW1RXPF</td>\n",
       "      <td>5.0</td>\n",
       "      <td>2016-09-14 05:18:06.000</td>\n",
       "      <td>13900</td>\n",
       "      <td>3988</td>\n",
       "      <td>[-1.0, -1.0, -1.0, -1.0, -1.0, -1.0, -1.0, 820...</td>\n",
       "    </tr>\n",
       "    <tr>\n",
       "      <th>...</th>\n",
       "      <td>...</td>\n",
       "      <td>...</td>\n",
       "      <td>...</td>\n",
       "      <td>...</td>\n",
       "      <td>...</td>\n",
       "      <td>...</td>\n",
       "      <td>...</td>\n",
       "    </tr>\n",
       "    <tr>\n",
       "      <th>250960</th>\n",
       "      <td>AFV5AGWZ6DBOVMW46FMMI2NSQCVA</td>\n",
       "      <td>B00OUUXOUY</td>\n",
       "      <td>0.0</td>\n",
       "      <td>2016-06-23 01:00:28.000</td>\n",
       "      <td>7553</td>\n",
       "      <td>3585</td>\n",
       "      <td>[843.0, 1601.0, 4169.0, 1691.0, 4546.0, 1814.0...</td>\n",
       "    </tr>\n",
       "    <tr>\n",
       "      <th>217058</th>\n",
       "      <td>AFSFLSMTEC4M3I6EBPF72B4PLEPQ</td>\n",
       "      <td>B0047E8DN6</td>\n",
       "      <td>0.0</td>\n",
       "      <td>2015-09-05 23:31:51.000</td>\n",
       "      <td>7208</td>\n",
       "      <td>2500</td>\n",
       "      <td>[-1.0, -1.0, -1.0, -1.0, -1.0, -1.0, -1.0, -1....</td>\n",
       "    </tr>\n",
       "    <tr>\n",
       "      <th>323468</th>\n",
       "      <td>AEKDV6VVNKWG2WIXFOVCJBRORELQ</td>\n",
       "      <td>B0BZ5KPQZK</td>\n",
       "      <td>0.0</td>\n",
       "      <td>2018-05-27 21:31:44.724</td>\n",
       "      <td>2106</td>\n",
       "      <td>2818</td>\n",
       "      <td>[667.0, 856.0, 984.0, 3151.0, 1499.0, 3774.0, ...</td>\n",
       "    </tr>\n",
       "    <tr>\n",
       "      <th>132003</th>\n",
       "      <td>AEXSP5TFL7PDBHBCWOSLKXXMCMNA</td>\n",
       "      <td>B004VFH76A</td>\n",
       "      <td>0.0</td>\n",
       "      <td>2009-12-29 14:04:58.000</td>\n",
       "      <td>3839</td>\n",
       "      <td>1935</td>\n",
       "      <td>[-1.0, -1.0, -1.0, -1.0, -1.0, -1.0, -1.0, -1....</td>\n",
       "    </tr>\n",
       "    <tr>\n",
       "      <th>296896</th>\n",
       "      <td>AHF35LRUNYZOMRV4544TOXUZKIWA</td>\n",
       "      <td>B092WHC7C1</td>\n",
       "      <td>0.0</td>\n",
       "      <td>2017-08-20 14:39:36.983</td>\n",
       "      <td>13703</td>\n",
       "      <td>3652</td>\n",
       "      <td>[-1.0, -1.0, -1.0, -1.0, -1.0, -1.0, -1.0, -1....</td>\n",
       "    </tr>\n",
       "  </tbody>\n",
       "</table>\n",
       "<p>382176 rows × 7 columns</p>\n",
       "</div>"
      ],
      "text/plain": [
       "                             user_id parent_asin  rating  \\\n",
       "266890  AETCSNOCHP5YL3C67YWXHB54RCNA  B09BW3XJQV     0.0   \n",
       "183685  AHUDTHSVE5XAFVPOHHBSPL7T7TNA  B00B3OA7R8     0.0   \n",
       "308523  AGYLXGPK4SKKQZ2OV3LXYGHFYM2A  B0895KGSY1     0.0   \n",
       "99169   AENO3VFOX37KYSKS6FQOXWSHR74Q  B078CQSHDV     5.0   \n",
       "64744   AHGMLXGDYDPBY3MIJZPHUAOVZFVQ  B08NW1RXPF     5.0   \n",
       "...                              ...         ...     ...   \n",
       "250960  AFV5AGWZ6DBOVMW46FMMI2NSQCVA  B00OUUXOUY     0.0   \n",
       "217058  AFSFLSMTEC4M3I6EBPF72B4PLEPQ  B0047E8DN6     0.0   \n",
       "323468  AEKDV6VVNKWG2WIXFOVCJBRORELQ  B0BZ5KPQZK     0.0   \n",
       "132003  AEXSP5TFL7PDBHBCWOSLKXXMCMNA  B004VFH76A     0.0   \n",
       "296896  AHF35LRUNYZOMRV4544TOXUZKIWA  B092WHC7C1     0.0   \n",
       "\n",
       "                     timestamp  user_indice  item_indice  \\\n",
       "266890 2016-11-18 05:32:16.000         3257         1248   \n",
       "183685 2014-11-23 14:06:52.000        15687         2394   \n",
       "308523 2017-12-31 06:21:06.077        12067         4591   \n",
       "99169  2018-08-06 20:46:04.598         2540         3168   \n",
       "64744  2016-09-14 05:18:06.000        13900         3988   \n",
       "...                        ...          ...          ...   \n",
       "250960 2016-06-23 01:00:28.000         7553         3585   \n",
       "217058 2015-09-05 23:31:51.000         7208         2500   \n",
       "323468 2018-05-27 21:31:44.724         2106         2818   \n",
       "132003 2009-12-29 14:04:58.000         3839         1935   \n",
       "296896 2017-08-20 14:39:36.983        13703         3652   \n",
       "\n",
       "                                            item_sequence  \n",
       "266890  [-1.0, -1.0, -1.0, -1.0, -1.0, -1.0, -1.0, 142...  \n",
       "183685  [-1.0, -1.0, -1.0, -1.0, 3375.0, 3642.0, 954.0...  \n",
       "308523  [-1.0, -1.0, -1.0, -1.0, -1.0, 4458.0, 1570.0,...  \n",
       "99169   [-1.0, -1.0, -1.0, 650.0, 2326.0, 3089.0, 2787...  \n",
       "64744   [-1.0, -1.0, -1.0, -1.0, -1.0, -1.0, -1.0, 820...  \n",
       "...                                                   ...  \n",
       "250960  [843.0, 1601.0, 4169.0, 1691.0, 4546.0, 1814.0...  \n",
       "217058  [-1.0, -1.0, -1.0, -1.0, -1.0, -1.0, -1.0, -1....  \n",
       "323468  [667.0, 856.0, 984.0, 3151.0, 1499.0, 3774.0, ...  \n",
       "132003  [-1.0, -1.0, -1.0, -1.0, -1.0, -1.0, -1.0, -1....  \n",
       "296896  [-1.0, -1.0, -1.0, -1.0, -1.0, -1.0, -1.0, -1....  \n",
       "\n",
       "[382176 rows x 7 columns]"
      ]
     },
     "execution_count": 12,
     "metadata": {},
     "output_type": "execute_result"
    }
   ],
   "source": [
    "train_df"
   ]
  },
  {
   "cell_type": "code",
   "execution_count": 13,
   "metadata": {},
   "outputs": [
    {
     "data": {
      "text/html": [
       "<div>\n",
       "<style scoped>\n",
       "    .dataframe tbody tr th:only-of-type {\n",
       "        vertical-align: middle;\n",
       "    }\n",
       "\n",
       "    .dataframe tbody tr th {\n",
       "        vertical-align: top;\n",
       "    }\n",
       "\n",
       "    .dataframe thead th {\n",
       "        text-align: right;\n",
       "    }\n",
       "</style>\n",
       "<table border=\"1\" class=\"dataframe\">\n",
       "  <thead>\n",
       "    <tr style=\"text-align: right;\">\n",
       "      <th></th>\n",
       "      <th>user_id</th>\n",
       "      <th>parent_asin</th>\n",
       "      <th>rating</th>\n",
       "      <th>timestamp</th>\n",
       "      <th>user_indice</th>\n",
       "      <th>item_indice</th>\n",
       "      <th>item_sequence</th>\n",
       "    </tr>\n",
       "  </thead>\n",
       "  <tbody>\n",
       "    <tr>\n",
       "      <th>213464</th>\n",
       "      <td>AEEV5YWQKPBTLFWHKOBBULYA2RDQ</td>\n",
       "      <td>B07C1RSV9C</td>\n",
       "      <td>0.0</td>\n",
       "      <td>2015-08-05 16:31:49</td>\n",
       "      <td>1412</td>\n",
       "      <td>4273</td>\n",
       "      <td>[-1.0, -1.0, -1.0, 4559.0, 4443.0, 3164.0, 1047.0, 4685.0, 107.0, 3295.0]</td>\n",
       "    </tr>\n",
       "    <tr>\n",
       "      <th>41296</th>\n",
       "      <td>AEEV5YWQKPBTLFWHKOBBULYA2RDQ</td>\n",
       "      <td>B07C1RSV9C</td>\n",
       "      <td>5.0</td>\n",
       "      <td>2015-08-05 16:31:49</td>\n",
       "      <td>1412</td>\n",
       "      <td>3276</td>\n",
       "      <td>[-1.0, -1.0, -1.0, 4559.0, 4443.0, 3164.0, 1047.0, 4685.0, 107.0, 3295.0]</td>\n",
       "    </tr>\n",
       "    <tr>\n",
       "      <th>213463</th>\n",
       "      <td>AEEV5YWQKPBTLFWHKOBBULYA2RDQ</td>\n",
       "      <td>B07C1RSV9C</td>\n",
       "      <td>0.0</td>\n",
       "      <td>2015-08-05 16:31:49</td>\n",
       "      <td>1412</td>\n",
       "      <td>2770</td>\n",
       "      <td>[-1.0, -1.0, -1.0, 4559.0, 4443.0, 3164.0, 1047.0, 4685.0, 107.0, 3295.0]</td>\n",
       "    </tr>\n",
       "    <tr>\n",
       "      <th>171822</th>\n",
       "      <td>AEEV5YWQKPBTLFWHKOBBULYA2RDQ</td>\n",
       "      <td>B07CB22VVJ</td>\n",
       "      <td>0.0</td>\n",
       "      <td>2014-07-17 19:19:28</td>\n",
       "      <td>1412</td>\n",
       "      <td>3078</td>\n",
       "      <td>[-1.0, -1.0, -1.0, -1.0, 4559.0, 4443.0, 3164.0, 1047.0, 4685.0, 107.0]</td>\n",
       "    </tr>\n",
       "    <tr>\n",
       "      <th>171821</th>\n",
       "      <td>AEEV5YWQKPBTLFWHKOBBULYA2RDQ</td>\n",
       "      <td>B07CB22VVJ</td>\n",
       "      <td>0.0</td>\n",
       "      <td>2014-07-17 19:19:28</td>\n",
       "      <td>1412</td>\n",
       "      <td>1496</td>\n",
       "      <td>[-1.0, -1.0, -1.0, -1.0, 4559.0, 4443.0, 3164.0, 1047.0, 4685.0, 107.0]</td>\n",
       "    </tr>\n",
       "    <tr>\n",
       "      <th>20475</th>\n",
       "      <td>AEEV5YWQKPBTLFWHKOBBULYA2RDQ</td>\n",
       "      <td>B07CB22VVJ</td>\n",
       "      <td>5.0</td>\n",
       "      <td>2014-07-17 19:19:28</td>\n",
       "      <td>1412</td>\n",
       "      <td>3295</td>\n",
       "      <td>[-1.0, -1.0, -1.0, -1.0, 4559.0, 4443.0, 3164.0, 1047.0, 4685.0, 107.0]</td>\n",
       "    </tr>\n",
       "    <tr>\n",
       "      <th>171820</th>\n",
       "      <td>AEEV5YWQKPBTLFWHKOBBULYA2RDQ</td>\n",
       "      <td>B000I23TTE</td>\n",
       "      <td>0.0</td>\n",
       "      <td>2014-07-17 19:16:43</td>\n",
       "      <td>1412</td>\n",
       "      <td>6</td>\n",
       "      <td>[-1.0, -1.0, -1.0, -1.0, -1.0, 4559.0, 4443.0, 3164.0, 1047.0, 4685.0]</td>\n",
       "    </tr>\n",
       "    <tr>\n",
       "      <th>171819</th>\n",
       "      <td>AEEV5YWQKPBTLFWHKOBBULYA2RDQ</td>\n",
       "      <td>B000I23TTE</td>\n",
       "      <td>0.0</td>\n",
       "      <td>2014-07-17 19:16:43</td>\n",
       "      <td>1412</td>\n",
       "      <td>4771</td>\n",
       "      <td>[-1.0, -1.0, -1.0, -1.0, -1.0, 4559.0, 4443.0, 3164.0, 1047.0, 4685.0]</td>\n",
       "    </tr>\n",
       "    <tr>\n",
       "      <th>20474</th>\n",
       "      <td>AEEV5YWQKPBTLFWHKOBBULYA2RDQ</td>\n",
       "      <td>B000I23TTE</td>\n",
       "      <td>5.0</td>\n",
       "      <td>2014-07-17 19:16:43</td>\n",
       "      <td>1412</td>\n",
       "      <td>107</td>\n",
       "      <td>[-1.0, -1.0, -1.0, -1.0, -1.0, 4559.0, 4443.0, 3164.0, 1047.0, 4685.0]</td>\n",
       "    </tr>\n",
       "    <tr>\n",
       "      <th>171818</th>\n",
       "      <td>AEEV5YWQKPBTLFWHKOBBULYA2RDQ</td>\n",
       "      <td>B0BYSP9676</td>\n",
       "      <td>0.0</td>\n",
       "      <td>2014-07-17 19:16:20</td>\n",
       "      <td>1412</td>\n",
       "      <td>1903</td>\n",
       "      <td>[-1.0, -1.0, -1.0, -1.0, -1.0, -1.0, 4559.0, 4443.0, 3164.0, 1047.0]</td>\n",
       "    </tr>\n",
       "    <tr>\n",
       "      <th>20473</th>\n",
       "      <td>AEEV5YWQKPBTLFWHKOBBULYA2RDQ</td>\n",
       "      <td>B0BYSP9676</td>\n",
       "      <td>5.0</td>\n",
       "      <td>2014-07-17 19:16:20</td>\n",
       "      <td>1412</td>\n",
       "      <td>4685</td>\n",
       "      <td>[-1.0, -1.0, -1.0, -1.0, -1.0, -1.0, 4559.0, 4443.0, 3164.0, 1047.0]</td>\n",
       "    </tr>\n",
       "    <tr>\n",
       "      <th>171817</th>\n",
       "      <td>AEEV5YWQKPBTLFWHKOBBULYA2RDQ</td>\n",
       "      <td>B0BYSP9676</td>\n",
       "      <td>0.0</td>\n",
       "      <td>2014-07-17 19:16:20</td>\n",
       "      <td>1412</td>\n",
       "      <td>2919</td>\n",
       "      <td>[-1.0, -1.0, -1.0, -1.0, -1.0, -1.0, 4559.0, 4443.0, 3164.0, 1047.0]</td>\n",
       "    </tr>\n",
       "    <tr>\n",
       "      <th>171815</th>\n",
       "      <td>AEEV5YWQKPBTLFWHKOBBULYA2RDQ</td>\n",
       "      <td>B009RUZ7TS</td>\n",
       "      <td>0.0</td>\n",
       "      <td>2014-07-17 19:15:55</td>\n",
       "      <td>1412</td>\n",
       "      <td>3023</td>\n",
       "      <td>[-1.0, -1.0, -1.0, -1.0, -1.0, -1.0, -1.0, 4559.0, 4443.0, 3164.0]</td>\n",
       "    </tr>\n",
       "    <tr>\n",
       "      <th>20472</th>\n",
       "      <td>AEEV5YWQKPBTLFWHKOBBULYA2RDQ</td>\n",
       "      <td>B009RUZ7TS</td>\n",
       "      <td>5.0</td>\n",
       "      <td>2014-07-17 19:15:55</td>\n",
       "      <td>1412</td>\n",
       "      <td>1047</td>\n",
       "      <td>[-1.0, -1.0, -1.0, -1.0, -1.0, -1.0, -1.0, 4559.0, 4443.0, 3164.0]</td>\n",
       "    </tr>\n",
       "    <tr>\n",
       "      <th>171816</th>\n",
       "      <td>AEEV5YWQKPBTLFWHKOBBULYA2RDQ</td>\n",
       "      <td>B009RUZ7TS</td>\n",
       "      <td>0.0</td>\n",
       "      <td>2014-07-17 19:15:55</td>\n",
       "      <td>1412</td>\n",
       "      <td>4592</td>\n",
       "      <td>[-1.0, -1.0, -1.0, -1.0, -1.0, -1.0, -1.0, 4559.0, 4443.0, 3164.0]</td>\n",
       "    </tr>\n",
       "    <tr>\n",
       "      <th>171814</th>\n",
       "      <td>AEEV5YWQKPBTLFWHKOBBULYA2RDQ</td>\n",
       "      <td>B0787JNNXH</td>\n",
       "      <td>0.0</td>\n",
       "      <td>2014-07-17 19:12:09</td>\n",
       "      <td>1412</td>\n",
       "      <td>1264</td>\n",
       "      <td>[-1.0, -1.0, -1.0, -1.0, -1.0, -1.0, -1.0, -1.0, 4559.0, 4443.0]</td>\n",
       "    </tr>\n",
       "    <tr>\n",
       "      <th>20471</th>\n",
       "      <td>AEEV5YWQKPBTLFWHKOBBULYA2RDQ</td>\n",
       "      <td>B0787JNNXH</td>\n",
       "      <td>5.0</td>\n",
       "      <td>2014-07-17 19:12:09</td>\n",
       "      <td>1412</td>\n",
       "      <td>3164</td>\n",
       "      <td>[-1.0, -1.0, -1.0, -1.0, -1.0, -1.0, -1.0, -1.0, 4559.0, 4443.0]</td>\n",
       "    </tr>\n",
       "    <tr>\n",
       "      <th>171813</th>\n",
       "      <td>AEEV5YWQKPBTLFWHKOBBULYA2RDQ</td>\n",
       "      <td>B0787JNNXH</td>\n",
       "      <td>0.0</td>\n",
       "      <td>2014-07-17 19:12:09</td>\n",
       "      <td>1412</td>\n",
       "      <td>3730</td>\n",
       "      <td>[-1.0, -1.0, -1.0, -1.0, -1.0, -1.0, -1.0, -1.0, 4559.0, 4443.0]</td>\n",
       "    </tr>\n",
       "    <tr>\n",
       "      <th>171812</th>\n",
       "      <td>AEEV5YWQKPBTLFWHKOBBULYA2RDQ</td>\n",
       "      <td>B0B7FN67QT</td>\n",
       "      <td>0.0</td>\n",
       "      <td>2014-07-17 19:11:53</td>\n",
       "      <td>1412</td>\n",
       "      <td>1304</td>\n",
       "      <td>[-1.0, -1.0, -1.0, -1.0, -1.0, -1.0, -1.0, -1.0, -1.0, 4559.0]</td>\n",
       "    </tr>\n",
       "    <tr>\n",
       "      <th>20470</th>\n",
       "      <td>AEEV5YWQKPBTLFWHKOBBULYA2RDQ</td>\n",
       "      <td>B0B7FN67QT</td>\n",
       "      <td>5.0</td>\n",
       "      <td>2014-07-17 19:11:53</td>\n",
       "      <td>1412</td>\n",
       "      <td>4443</td>\n",
       "      <td>[-1.0, -1.0, -1.0, -1.0, -1.0, -1.0, -1.0, -1.0, -1.0, 4559.0]</td>\n",
       "    </tr>\n",
       "    <tr>\n",
       "      <th>171811</th>\n",
       "      <td>AEEV5YWQKPBTLFWHKOBBULYA2RDQ</td>\n",
       "      <td>B0B7FN67QT</td>\n",
       "      <td>0.0</td>\n",
       "      <td>2014-07-17 19:11:53</td>\n",
       "      <td>1412</td>\n",
       "      <td>3228</td>\n",
       "      <td>[-1.0, -1.0, -1.0, -1.0, -1.0, -1.0, -1.0, -1.0, -1.0, 4559.0]</td>\n",
       "    </tr>\n",
       "    <tr>\n",
       "      <th>20469</th>\n",
       "      <td>AEEV5YWQKPBTLFWHKOBBULYA2RDQ</td>\n",
       "      <td>B0BM6ZLKPL</td>\n",
       "      <td>5.0</td>\n",
       "      <td>2014-07-17 19:11:13</td>\n",
       "      <td>1412</td>\n",
       "      <td>4559</td>\n",
       "      <td>[-1.0, -1.0, -1.0, -1.0, -1.0, -1.0, -1.0, -1.0, -1.0, -1.0]</td>\n",
       "    </tr>\n",
       "    <tr>\n",
       "      <th>171809</th>\n",
       "      <td>AEEV5YWQKPBTLFWHKOBBULYA2RDQ</td>\n",
       "      <td>B0BM6ZLKPL</td>\n",
       "      <td>0.0</td>\n",
       "      <td>2014-07-17 19:11:13</td>\n",
       "      <td>1412</td>\n",
       "      <td>2958</td>\n",
       "      <td>[-1.0, -1.0, -1.0, -1.0, -1.0, -1.0, -1.0, -1.0, -1.0, -1.0]</td>\n",
       "    </tr>\n",
       "    <tr>\n",
       "      <th>171810</th>\n",
       "      <td>AEEV5YWQKPBTLFWHKOBBULYA2RDQ</td>\n",
       "      <td>B0BM6ZLKPL</td>\n",
       "      <td>0.0</td>\n",
       "      <td>2014-07-17 19:11:13</td>\n",
       "      <td>1412</td>\n",
       "      <td>4445</td>\n",
       "      <td>[-1.0, -1.0, -1.0, -1.0, -1.0, -1.0, -1.0, -1.0, -1.0, -1.0]</td>\n",
       "    </tr>\n",
       "  </tbody>\n",
       "</table>\n",
       "</div>"
      ],
      "text/plain": [
       "                             user_id parent_asin  rating           timestamp  \\\n",
       "213464  AEEV5YWQKPBTLFWHKOBBULYA2RDQ  B07C1RSV9C     0.0 2015-08-05 16:31:49   \n",
       "41296   AEEV5YWQKPBTLFWHKOBBULYA2RDQ  B07C1RSV9C     5.0 2015-08-05 16:31:49   \n",
       "213463  AEEV5YWQKPBTLFWHKOBBULYA2RDQ  B07C1RSV9C     0.0 2015-08-05 16:31:49   \n",
       "171822  AEEV5YWQKPBTLFWHKOBBULYA2RDQ  B07CB22VVJ     0.0 2014-07-17 19:19:28   \n",
       "171821  AEEV5YWQKPBTLFWHKOBBULYA2RDQ  B07CB22VVJ     0.0 2014-07-17 19:19:28   \n",
       "20475   AEEV5YWQKPBTLFWHKOBBULYA2RDQ  B07CB22VVJ     5.0 2014-07-17 19:19:28   \n",
       "171820  AEEV5YWQKPBTLFWHKOBBULYA2RDQ  B000I23TTE     0.0 2014-07-17 19:16:43   \n",
       "171819  AEEV5YWQKPBTLFWHKOBBULYA2RDQ  B000I23TTE     0.0 2014-07-17 19:16:43   \n",
       "20474   AEEV5YWQKPBTLFWHKOBBULYA2RDQ  B000I23TTE     5.0 2014-07-17 19:16:43   \n",
       "171818  AEEV5YWQKPBTLFWHKOBBULYA2RDQ  B0BYSP9676     0.0 2014-07-17 19:16:20   \n",
       "20473   AEEV5YWQKPBTLFWHKOBBULYA2RDQ  B0BYSP9676     5.0 2014-07-17 19:16:20   \n",
       "171817  AEEV5YWQKPBTLFWHKOBBULYA2RDQ  B0BYSP9676     0.0 2014-07-17 19:16:20   \n",
       "171815  AEEV5YWQKPBTLFWHKOBBULYA2RDQ  B009RUZ7TS     0.0 2014-07-17 19:15:55   \n",
       "20472   AEEV5YWQKPBTLFWHKOBBULYA2RDQ  B009RUZ7TS     5.0 2014-07-17 19:15:55   \n",
       "171816  AEEV5YWQKPBTLFWHKOBBULYA2RDQ  B009RUZ7TS     0.0 2014-07-17 19:15:55   \n",
       "171814  AEEV5YWQKPBTLFWHKOBBULYA2RDQ  B0787JNNXH     0.0 2014-07-17 19:12:09   \n",
       "20471   AEEV5YWQKPBTLFWHKOBBULYA2RDQ  B0787JNNXH     5.0 2014-07-17 19:12:09   \n",
       "171813  AEEV5YWQKPBTLFWHKOBBULYA2RDQ  B0787JNNXH     0.0 2014-07-17 19:12:09   \n",
       "171812  AEEV5YWQKPBTLFWHKOBBULYA2RDQ  B0B7FN67QT     0.0 2014-07-17 19:11:53   \n",
       "20470   AEEV5YWQKPBTLFWHKOBBULYA2RDQ  B0B7FN67QT     5.0 2014-07-17 19:11:53   \n",
       "171811  AEEV5YWQKPBTLFWHKOBBULYA2RDQ  B0B7FN67QT     0.0 2014-07-17 19:11:53   \n",
       "20469   AEEV5YWQKPBTLFWHKOBBULYA2RDQ  B0BM6ZLKPL     5.0 2014-07-17 19:11:13   \n",
       "171809  AEEV5YWQKPBTLFWHKOBBULYA2RDQ  B0BM6ZLKPL     0.0 2014-07-17 19:11:13   \n",
       "171810  AEEV5YWQKPBTLFWHKOBBULYA2RDQ  B0BM6ZLKPL     0.0 2014-07-17 19:11:13   \n",
       "\n",
       "        user_indice  item_indice  \\\n",
       "213464         1412         4273   \n",
       "41296          1412         3276   \n",
       "213463         1412         2770   \n",
       "171822         1412         3078   \n",
       "171821         1412         1496   \n",
       "20475          1412         3295   \n",
       "171820         1412            6   \n",
       "171819         1412         4771   \n",
       "20474          1412          107   \n",
       "171818         1412         1903   \n",
       "20473          1412         4685   \n",
       "171817         1412         2919   \n",
       "171815         1412         3023   \n",
       "20472          1412         1047   \n",
       "171816         1412         4592   \n",
       "171814         1412         1264   \n",
       "20471          1412         3164   \n",
       "171813         1412         3730   \n",
       "171812         1412         1304   \n",
       "20470          1412         4443   \n",
       "171811         1412         3228   \n",
       "20469          1412         4559   \n",
       "171809         1412         2958   \n",
       "171810         1412         4445   \n",
       "\n",
       "                                                                    item_sequence  \n",
       "213464  [-1.0, -1.0, -1.0, 4559.0, 4443.0, 3164.0, 1047.0, 4685.0, 107.0, 3295.0]  \n",
       "41296   [-1.0, -1.0, -1.0, 4559.0, 4443.0, 3164.0, 1047.0, 4685.0, 107.0, 3295.0]  \n",
       "213463  [-1.0, -1.0, -1.0, 4559.0, 4443.0, 3164.0, 1047.0, 4685.0, 107.0, 3295.0]  \n",
       "171822    [-1.0, -1.0, -1.0, -1.0, 4559.0, 4443.0, 3164.0, 1047.0, 4685.0, 107.0]  \n",
       "171821    [-1.0, -1.0, -1.0, -1.0, 4559.0, 4443.0, 3164.0, 1047.0, 4685.0, 107.0]  \n",
       "20475     [-1.0, -1.0, -1.0, -1.0, 4559.0, 4443.0, 3164.0, 1047.0, 4685.0, 107.0]  \n",
       "171820     [-1.0, -1.0, -1.0, -1.0, -1.0, 4559.0, 4443.0, 3164.0, 1047.0, 4685.0]  \n",
       "171819     [-1.0, -1.0, -1.0, -1.0, -1.0, 4559.0, 4443.0, 3164.0, 1047.0, 4685.0]  \n",
       "20474      [-1.0, -1.0, -1.0, -1.0, -1.0, 4559.0, 4443.0, 3164.0, 1047.0, 4685.0]  \n",
       "171818       [-1.0, -1.0, -1.0, -1.0, -1.0, -1.0, 4559.0, 4443.0, 3164.0, 1047.0]  \n",
       "20473        [-1.0, -1.0, -1.0, -1.0, -1.0, -1.0, 4559.0, 4443.0, 3164.0, 1047.0]  \n",
       "171817       [-1.0, -1.0, -1.0, -1.0, -1.0, -1.0, 4559.0, 4443.0, 3164.0, 1047.0]  \n",
       "171815         [-1.0, -1.0, -1.0, -1.0, -1.0, -1.0, -1.0, 4559.0, 4443.0, 3164.0]  \n",
       "20472          [-1.0, -1.0, -1.0, -1.0, -1.0, -1.0, -1.0, 4559.0, 4443.0, 3164.0]  \n",
       "171816         [-1.0, -1.0, -1.0, -1.0, -1.0, -1.0, -1.0, 4559.0, 4443.0, 3164.0]  \n",
       "171814           [-1.0, -1.0, -1.0, -1.0, -1.0, -1.0, -1.0, -1.0, 4559.0, 4443.0]  \n",
       "20471            [-1.0, -1.0, -1.0, -1.0, -1.0, -1.0, -1.0, -1.0, 4559.0, 4443.0]  \n",
       "171813           [-1.0, -1.0, -1.0, -1.0, -1.0, -1.0, -1.0, -1.0, 4559.0, 4443.0]  \n",
       "171812             [-1.0, -1.0, -1.0, -1.0, -1.0, -1.0, -1.0, -1.0, -1.0, 4559.0]  \n",
       "20470              [-1.0, -1.0, -1.0, -1.0, -1.0, -1.0, -1.0, -1.0, -1.0, 4559.0]  \n",
       "171811             [-1.0, -1.0, -1.0, -1.0, -1.0, -1.0, -1.0, -1.0, -1.0, 4559.0]  \n",
       "20469                [-1.0, -1.0, -1.0, -1.0, -1.0, -1.0, -1.0, -1.0, -1.0, -1.0]  \n",
       "171809               [-1.0, -1.0, -1.0, -1.0, -1.0, -1.0, -1.0, -1.0, -1.0, -1.0]  \n",
       "171810               [-1.0, -1.0, -1.0, -1.0, -1.0, -1.0, -1.0, -1.0, -1.0, -1.0]  "
      ]
     },
     "metadata": {},
     "output_type": "display_data"
    }
   ],
   "source": [
    "with pd.option_context(\"display.max_colwidth\", None):\n",
    "    display(train_df.loc[train_df[\"user_id\"] == \"AEEV5YWQKPBTLFWHKOBBULYA2RDQ\"].sort_values(by=args.timestamp_col, ascending=False))"
   ]
  },
  {
   "cell_type": "markdown",
   "metadata": {},
   "source": [
    "## Convert user_id and item_id into indices"
   ]
  },
  {
   "cell_type": "code",
   "execution_count": 14,
   "metadata": {},
   "outputs": [],
   "source": [
    "# idm_path = os.path.abspath(\"../data_for_ai/interim/idm_16407u.json\")\n",
    "# idm = IDMapper().load(idm_path)\n",
    "# idm.get_user_id(1)"
   ]
  },
  {
   "cell_type": "code",
   "execution_count": 15,
   "metadata": {},
   "outputs": [],
   "source": [
    "# train_df = train_df.pipe(idm.map_indices)\n",
    "# val_df = val_df.pipe(idm.map_indices)\n",
    "\n",
    "# assert idm.unknown_item_index not in train_df[\"item_indice\"].values, \"Unknown item index must be present in training data.\"\n",
    "# assert idm.unknown_user_index not in train_df[\"user_indice\"].values, \"Unknown user index must be present in training data.\"\n",
    "# assert idm.unknown_item_index not in val_df[\"item_indice\"].values, \"Unknown item index must be present in validation data.\"\n",
    "# assert idm.unknown_user_index not in val_df[\"user_indice\"].values, \"Unknown user index must be present in validation data.\""
   ]
  },
  {
   "cell_type": "code",
   "execution_count": 16,
   "metadata": {},
   "outputs": [],
   "source": [
    "# train_df.head(3)"
   ]
  },
  {
   "cell_type": "code",
   "execution_count": 17,
   "metadata": {},
   "outputs": [],
   "source": [
    "# assert train_df.groupby(args.user_col)[args.item_col].nunique().min() >= 5, \"Each user must have at least five items.\"\n",
    "# assert train_df.groupby(args.item_col)[args.user_col].nunique().min() >= 10, \"Each item must have at least ten users.\""
   ]
  },
  {
   "cell_type": "markdown",
   "metadata": {},
   "source": [
    "## Training loop"
   ]
  },
  {
   "cell_type": "code",
   "execution_count": 18,
   "metadata": {},
   "outputs": [],
   "source": [
    "rating_dataset = UserItemBinaryRatingDFDataset(\n",
    "    train_df, \"user_indice\", \"item_indice\", args.rating_col, args.timestamp_col, \"item_sequence\"\n",
    ")\n",
    "val_rating_dataset = UserItemBinaryRatingDFDataset(\n",
    "    val_df, \"user_indice\", \"item_indice\", args.rating_col, args.timestamp_col, \"item_sequence\"\n",
    ")\n",
    "\n",
    "train_loader = DataLoader(\n",
    "    rating_dataset, batch_size=args.batch_size, shuffle=True, drop_last=True\n",
    ")\n",
    "val_loader = DataLoader(\n",
    "    val_rating_dataset, batch_size=args.batch_size, shuffle=False, drop_last=False\n",
    ")"
   ]
  },
  {
   "cell_type": "code",
   "execution_count": 19,
   "metadata": {},
   "outputs": [
    {
     "name": "stderr",
     "output_type": "stream",
     "text": [
      "\u001b[32m2025-06-21 21:23:41.045\u001b[0m | \u001b[1mINFO    \u001b[0m | \u001b[36m__main__\u001b[0m:\u001b[36m<module>\u001b[0m:\u001b[36m6\u001b[0m - \u001b[1mNumber of users: 16407, Number of items: 4817\u001b[0m\n",
      "/home/dinhln/Desktop/real_time_recsys/.venv/lib/python3.11/site-packages/torch/nn/modules/transformer.py:385: UserWarning:\n",
      "\n",
      "enable_nested_tensor is True, but self.use_nested_tensor is False because encoder_layer.activation_relu_or_gelu was not True\n",
      "\n",
      "\u001b[32m2025-06-21 21:23:41.084\u001b[0m | \u001b[1mINFO    \u001b[0m | \u001b[36msrc.algo.sequence.model\u001b[0m:\u001b[36m__init__\u001b[0m:\u001b[36m118\u001b[0m - \u001b[1mStart token used: 4816, Padding token used: 4817\u001b[0m\n"
     ]
    }
   ],
   "source": [
    "item_indices = train_df[args.item_col].unique()\n",
    "user_indices = train_df[args.user_col].unique()\n",
    "n_items = len(item_indices)\n",
    "n_users = len(user_indices)\n",
    "\n",
    "logger.info(f\"Number of users: {n_users}, Number of items: {n_items}\")\n",
    "model = init_model(n_users, n_items, args.embedding_dim, args.dropout)"
   ]
  },
  {
   "cell_type": "code",
   "execution_count": 20,
   "metadata": {},
   "outputs": [
    {
     "data": {
      "text/plain": [
       "'AE227WAM4NWQPJI33OPN7ZARNNZQ'"
      ]
     },
     "execution_count": 20,
     "metadata": {},
     "output_type": "execute_result"
    }
   ],
   "source": [
    "idm_path = os.path.abspath(\"../data_for_ai/interim/idm_16407u.json\")\n",
    "idm = IDMapper().load(idm_path)\n",
    "idm.get_user_id(1)"
   ]
  },
  {
   "cell_type": "markdown",
   "metadata": {},
   "source": [
    "## Overfit 1 batch"
   ]
  },
  {
   "cell_type": "code",
   "execution_count": 21,
   "metadata": {},
   "outputs": [
    {
     "name": "stderr",
     "output_type": "stream",
     "text": [
      "\u001b[32m2025-06-21 21:23:41.276\u001b[0m | \u001b[1mINFO    \u001b[0m | \u001b[36msrc.algo.sequence.model\u001b[0m:\u001b[36m__init__\u001b[0m:\u001b[36m118\u001b[0m - \u001b[1mStart token used: 4816, Padding token used: 4817\u001b[0m\n",
      "You are using the plain ModelCheckpoint callback. Consider using LitModelCheckpoint which with seamless uploading to Model registry.\n",
      "GPU available: True (cuda), used: True\n",
      "TPU available: False, using: 0 TPU cores\n",
      "HPU available: False, using: 0 HPUs\n",
      "`Trainer(overfit_batches=1)` was configured so 1 batch will be used.\n",
      "LOCAL_RANK: 0 - CUDA_VISIBLE_DEVICES: [0]\n",
      "\n",
      "  | Name               | Type                     | Params | Mode \n",
      "------------------------------------------------------------------------\n",
      "0 | model              | SequenceRatingPrediction | 6.4 M  | train\n",
      "1 | val_roc_auc_metric | BinaryAUROC              | 0      | train\n",
      "2 | val_pr_auc_metric  | BinaryAveragePrecision   | 0      | train\n",
      "------------------------------------------------------------------------\n",
      "6.4 M     Trainable params\n",
      "0         Non-trainable params\n",
      "6.4 M     Total params\n",
      "25.689    Total estimated model params size (MB)\n",
      "33        Modules in train mode\n",
      "0         Modules in eval mode\n"
     ]
    },
    {
     "data": {
      "application/vnd.jupyter.widget-view+json": {
       "model_id": "d1f49dff08304c9baef0d1205cf1d967",
       "version_major": 2,
       "version_minor": 0
      },
      "text/plain": [
       "Sanity Checking: |          | 0/? [00:00<?, ?it/s]"
      ]
     },
     "metadata": {},
     "output_type": "display_data"
    },
    {
     "name": "stderr",
     "output_type": "stream",
     "text": [
      "/home/dinhln/Desktop/real_time_recsys/.venv/lib/python3.11/site-packages/lightning/pytorch/trainer/connectors/data_connector.py:252: UserWarning:\n",
      "\n",
      "You requested to overfit but enabled val dataloader shuffling. We are turning off the val dataloader shuffling for you.\n",
      "\n",
      "/home/dinhln/Desktop/real_time_recsys/.venv/lib/python3.11/site-packages/lightning/pytorch/trainer/connectors/data_connector.py:425: PossibleUserWarning:\n",
      "\n",
      "The 'val_dataloader' does not have many workers which may be a bottleneck. Consider increasing the value of the `num_workers` argument` to `num_workers=19` in the `DataLoader` to improve performance.\n",
      "\n",
      "/home/dinhln/Desktop/real_time_recsys/.venv/lib/python3.11/site-packages/lightning/pytorch/trainer/connectors/data_connector.py:252: UserWarning:\n",
      "\n",
      "You requested to overfit but enabled train dataloader shuffling. We are turning off the train dataloader shuffling for you.\n",
      "\n",
      "/home/dinhln/Desktop/real_time_recsys/.venv/lib/python3.11/site-packages/lightning/pytorch/trainer/connectors/data_connector.py:425: PossibleUserWarning:\n",
      "\n",
      "The 'train_dataloader' does not have many workers which may be a bottleneck. Consider increasing the value of the `num_workers` argument` to `num_workers=19` in the `DataLoader` to improve performance.\n",
      "\n",
      "/home/dinhln/Desktop/real_time_recsys/.venv/lib/python3.11/site-packages/lightning/pytorch/loops/fit_loop.py:310: PossibleUserWarning:\n",
      "\n",
      "The number of training batches (1) is smaller than the logging interval Trainer(log_every_n_steps=50). Set a lower value for log_every_n_steps if you want to see logs for the training epoch.\n",
      "\n"
     ]
    },
    {
     "data": {
      "application/vnd.jupyter.widget-view+json": {
       "model_id": "42050aae86f34853894d8f31a84395b7",
       "version_major": 2,
       "version_minor": 0
      },
      "text/plain": [
       "Training: |          | 0/? [00:00<?, ?it/s]"
      ]
     },
     "metadata": {},
     "output_type": "display_data"
    },
    {
     "data": {
      "application/vnd.jupyter.widget-view+json": {
       "model_id": "1949d51e16404d36978368805895cf42",
       "version_major": 2,
       "version_minor": 0
      },
      "text/plain": [
       "Validation: |          | 0/? [00:00<?, ?it/s]"
      ]
     },
     "metadata": {},
     "output_type": "display_data"
    },
    {
     "data": {
      "application/vnd.jupyter.widget-view+json": {
       "model_id": "7284c87a178346679ae670517c198ca5",
       "version_major": 2,
       "version_minor": 0
      },
      "text/plain": [
       "Validation: |          | 0/? [00:00<?, ?it/s]"
      ]
     },
     "metadata": {},
     "output_type": "display_data"
    },
    {
     "data": {
      "application/vnd.jupyter.widget-view+json": {
       "model_id": "bc82491004714f60aac9eaa35cbd89cf",
       "version_major": 2,
       "version_minor": 0
      },
      "text/plain": [
       "Validation: |          | 0/? [00:00<?, ?it/s]"
      ]
     },
     "metadata": {},
     "output_type": "display_data"
    },
    {
     "data": {
      "application/vnd.jupyter.widget-view+json": {
       "model_id": "cc8aa10d9c694d168ba086f7cca3c66b",
       "version_major": 2,
       "version_minor": 0
      },
      "text/plain": [
       "Validation: |          | 0/? [00:00<?, ?it/s]"
      ]
     },
     "metadata": {},
     "output_type": "display_data"
    },
    {
     "data": {
      "application/vnd.jupyter.widget-view+json": {
       "model_id": "b3f19549948b4421b103fc96d620c8aa",
       "version_major": 2,
       "version_minor": 0
      },
      "text/plain": [
       "Validation: |          | 0/? [00:00<?, ?it/s]"
      ]
     },
     "metadata": {},
     "output_type": "display_data"
    },
    {
     "data": {
      "application/vnd.jupyter.widget-view+json": {
       "model_id": "9c357d356daf414cbe8beca0346683bd",
       "version_major": 2,
       "version_minor": 0
      },
      "text/plain": [
       "Validation: |          | 0/? [00:00<?, ?it/s]"
      ]
     },
     "metadata": {},
     "output_type": "display_data"
    },
    {
     "data": {
      "application/vnd.jupyter.widget-view+json": {
       "model_id": "8a64416f4d0d486d9455bcdc04470a96",
       "version_major": 2,
       "version_minor": 0
      },
      "text/plain": [
       "Validation: |          | 0/? [00:00<?, ?it/s]"
      ]
     },
     "metadata": {},
     "output_type": "display_data"
    },
    {
     "data": {
      "application/vnd.jupyter.widget-view+json": {
       "model_id": "5c64e817e6f647b89a08944a235aed01",
       "version_major": 2,
       "version_minor": 0
      },
      "text/plain": [
       "Validation: |          | 0/? [00:00<?, ?it/s]"
      ]
     },
     "metadata": {},
     "output_type": "display_data"
    },
    {
     "data": {
      "application/vnd.jupyter.widget-view+json": {
       "model_id": "50f440eaa4cb481aa5fb7dd966ee7775",
       "version_major": 2,
       "version_minor": 0
      },
      "text/plain": [
       "Validation: |          | 0/? [00:00<?, ?it/s]"
      ]
     },
     "metadata": {},
     "output_type": "display_data"
    },
    {
     "data": {
      "application/vnd.jupyter.widget-view+json": {
       "model_id": "c41a59bca01649a1bc231dff35b0c17f",
       "version_major": 2,
       "version_minor": 0
      },
      "text/plain": [
       "Validation: |          | 0/? [00:00<?, ?it/s]"
      ]
     },
     "metadata": {},
     "output_type": "display_data"
    },
    {
     "data": {
      "application/vnd.jupyter.widget-view+json": {
       "model_id": "11b309d1d04f4f65b7e413912821e902",
       "version_major": 2,
       "version_minor": 0
      },
      "text/plain": [
       "Validation: |          | 0/? [00:00<?, ?it/s]"
      ]
     },
     "metadata": {},
     "output_type": "display_data"
    },
    {
     "data": {
      "application/vnd.jupyter.widget-view+json": {
       "model_id": "f1de6b4f56974f29999bb2204217efb2",
       "version_major": 2,
       "version_minor": 0
      },
      "text/plain": [
       "Validation: |          | 0/? [00:00<?, ?it/s]"
      ]
     },
     "metadata": {},
     "output_type": "display_data"
    },
    {
     "data": {
      "application/vnd.jupyter.widget-view+json": {
       "model_id": "9f5103eaffb3495691a61fd9aa255b07",
       "version_major": 2,
       "version_minor": 0
      },
      "text/plain": [
       "Validation: |          | 0/? [00:00<?, ?it/s]"
      ]
     },
     "metadata": {},
     "output_type": "display_data"
    },
    {
     "data": {
      "application/vnd.jupyter.widget-view+json": {
       "model_id": "02f1c9edfeeb4352a411c46cffa60d94",
       "version_major": 2,
       "version_minor": 0
      },
      "text/plain": [
       "Validation: |          | 0/? [00:00<?, ?it/s]"
      ]
     },
     "metadata": {},
     "output_type": "display_data"
    },
    {
     "data": {
      "application/vnd.jupyter.widget-view+json": {
       "model_id": "2465ef2f152d4c9ca18e1557bee1fc17",
       "version_major": 2,
       "version_minor": 0
      },
      "text/plain": [
       "Validation: |          | 0/? [00:00<?, ?it/s]"
      ]
     },
     "metadata": {},
     "output_type": "display_data"
    },
    {
     "data": {
      "application/vnd.jupyter.widget-view+json": {
       "model_id": "293987be815f4fe4b1b6c8d8bd7f3c1f",
       "version_major": 2,
       "version_minor": 0
      },
      "text/plain": [
       "Validation: |          | 0/? [00:00<?, ?it/s]"
      ]
     },
     "metadata": {},
     "output_type": "display_data"
    },
    {
     "data": {
      "application/vnd.jupyter.widget-view+json": {
       "model_id": "468e9a6b18294cd995c92205fd30c7b5",
       "version_major": 2,
       "version_minor": 0
      },
      "text/plain": [
       "Validation: |          | 0/? [00:00<?, ?it/s]"
      ]
     },
     "metadata": {},
     "output_type": "display_data"
    },
    {
     "data": {
      "application/vnd.jupyter.widget-view+json": {
       "model_id": "4c5c2b6635164eb985a0239cea499879",
       "version_major": 2,
       "version_minor": 0
      },
      "text/plain": [
       "Validation: |          | 0/? [00:00<?, ?it/s]"
      ]
     },
     "metadata": {},
     "output_type": "display_data"
    },
    {
     "data": {
      "application/vnd.jupyter.widget-view+json": {
       "model_id": "7857011be5f3498b8420c3841f5c38a6",
       "version_major": 2,
       "version_minor": 0
      },
      "text/plain": [
       "Validation: |          | 0/? [00:00<?, ?it/s]"
      ]
     },
     "metadata": {},
     "output_type": "display_data"
    },
    {
     "data": {
      "application/vnd.jupyter.widget-view+json": {
       "model_id": "fa33d355adee4df096c4ad7c412229bd",
       "version_major": 2,
       "version_minor": 0
      },
      "text/plain": [
       "Validation: |          | 0/? [00:00<?, ?it/s]"
      ]
     },
     "metadata": {},
     "output_type": "display_data"
    },
    {
     "data": {
      "application/vnd.jupyter.widget-view+json": {
       "model_id": "46c1900ef3404613a1ff6ca514d7abff",
       "version_major": 2,
       "version_minor": 0
      },
      "text/plain": [
       "Validation: |          | 0/? [00:00<?, ?it/s]"
      ]
     },
     "metadata": {},
     "output_type": "display_data"
    },
    {
     "data": {
      "application/vnd.jupyter.widget-view+json": {
       "model_id": "628355c4ab074b9dbd82c2f5664a3f77",
       "version_major": 2,
       "version_minor": 0
      },
      "text/plain": [
       "Validation: |          | 0/? [00:00<?, ?it/s]"
      ]
     },
     "metadata": {},
     "output_type": "display_data"
    },
    {
     "data": {
      "application/vnd.jupyter.widget-view+json": {
       "model_id": "ae11ee694a6441699b4ab1a838179d27",
       "version_major": 2,
       "version_minor": 0
      },
      "text/plain": [
       "Validation: |          | 0/? [00:00<?, ?it/s]"
      ]
     },
     "metadata": {},
     "output_type": "display_data"
    },
    {
     "data": {
      "application/vnd.jupyter.widget-view+json": {
       "model_id": "daf89fbb13244704849c255af25352c5",
       "version_major": 2,
       "version_minor": 0
      },
      "text/plain": [
       "Validation: |          | 0/? [00:00<?, ?it/s]"
      ]
     },
     "metadata": {},
     "output_type": "display_data"
    },
    {
     "data": {
      "application/vnd.jupyter.widget-view+json": {
       "model_id": "6021a73527384e4faf3c5726eaf55f39",
       "version_major": 2,
       "version_minor": 0
      },
      "text/plain": [
       "Validation: |          | 0/? [00:00<?, ?it/s]"
      ]
     },
     "metadata": {},
     "output_type": "display_data"
    },
    {
     "data": {
      "application/vnd.jupyter.widget-view+json": {
       "model_id": "74929d0eb30d4eee815eeab47b2d674c",
       "version_major": 2,
       "version_minor": 0
      },
      "text/plain": [
       "Validation: |          | 0/? [00:00<?, ?it/s]"
      ]
     },
     "metadata": {},
     "output_type": "display_data"
    },
    {
     "data": {
      "application/vnd.jupyter.widget-view+json": {
       "model_id": "8753db10c1594781bffa7b84f955d428",
       "version_major": 2,
       "version_minor": 0
      },
      "text/plain": [
       "Validation: |          | 0/? [00:00<?, ?it/s]"
      ]
     },
     "metadata": {},
     "output_type": "display_data"
    },
    {
     "data": {
      "application/vnd.jupyter.widget-view+json": {
       "model_id": "a576152953bf46f2a149c277ad2c27ae",
       "version_major": 2,
       "version_minor": 0
      },
      "text/plain": [
       "Validation: |          | 0/? [00:00<?, ?it/s]"
      ]
     },
     "metadata": {},
     "output_type": "display_data"
    },
    {
     "data": {
      "application/vnd.jupyter.widget-view+json": {
       "model_id": "6a9dc8a93deb4a54a20859eabfe78401",
       "version_major": 2,
       "version_minor": 0
      },
      "text/plain": [
       "Validation: |          | 0/? [00:00<?, ?it/s]"
      ]
     },
     "metadata": {},
     "output_type": "display_data"
    },
    {
     "data": {
      "application/vnd.jupyter.widget-view+json": {
       "model_id": "876ef4db69194b42b20165cc5cf163ae",
       "version_major": 2,
       "version_minor": 0
      },
      "text/plain": [
       "Validation: |          | 0/? [00:00<?, ?it/s]"
      ]
     },
     "metadata": {},
     "output_type": "display_data"
    },
    {
     "data": {
      "application/vnd.jupyter.widget-view+json": {
       "model_id": "c72fa5ce736142358a492f4c8bf74956",
       "version_major": 2,
       "version_minor": 0
      },
      "text/plain": [
       "Validation: |          | 0/? [00:00<?, ?it/s]"
      ]
     },
     "metadata": {},
     "output_type": "display_data"
    },
    {
     "data": {
      "application/vnd.jupyter.widget-view+json": {
       "model_id": "c82be46802c84df2a9a2aeffa2f8d2d2",
       "version_major": 2,
       "version_minor": 0
      },
      "text/plain": [
       "Validation: |          | 0/? [00:00<?, ?it/s]"
      ]
     },
     "metadata": {},
     "output_type": "display_data"
    },
    {
     "data": {
      "application/vnd.jupyter.widget-view+json": {
       "model_id": "0add9c08f08646efb73a0ee6f06fe2eb",
       "version_major": 2,
       "version_minor": 0
      },
      "text/plain": [
       "Validation: |          | 0/? [00:00<?, ?it/s]"
      ]
     },
     "metadata": {},
     "output_type": "display_data"
    },
    {
     "data": {
      "application/vnd.jupyter.widget-view+json": {
       "model_id": "fddece909cf5427dbcd552fe32b44060",
       "version_major": 2,
       "version_minor": 0
      },
      "text/plain": [
       "Validation: |          | 0/? [00:00<?, ?it/s]"
      ]
     },
     "metadata": {},
     "output_type": "display_data"
    },
    {
     "data": {
      "application/vnd.jupyter.widget-view+json": {
       "model_id": "e17a64d9658948e2aa6be484f520fbd2",
       "version_major": 2,
       "version_minor": 0
      },
      "text/plain": [
       "Validation: |          | 0/? [00:00<?, ?it/s]"
      ]
     },
     "metadata": {},
     "output_type": "display_data"
    },
    {
     "data": {
      "application/vnd.jupyter.widget-view+json": {
       "model_id": "66aacb64c817435d8a7a9c148e172d58",
       "version_major": 2,
       "version_minor": 0
      },
      "text/plain": [
       "Validation: |          | 0/? [00:00<?, ?it/s]"
      ]
     },
     "metadata": {},
     "output_type": "display_data"
    },
    {
     "data": {
      "application/vnd.jupyter.widget-view+json": {
       "model_id": "4381173c1d894756aa9adbbf2624722f",
       "version_major": 2,
       "version_minor": 0
      },
      "text/plain": [
       "Validation: |          | 0/? [00:00<?, ?it/s]"
      ]
     },
     "metadata": {},
     "output_type": "display_data"
    },
    {
     "data": {
      "application/vnd.jupyter.widget-view+json": {
       "model_id": "60ac84d1fa5a4ae4b6cc0a26e08dee67",
       "version_major": 2,
       "version_minor": 0
      },
      "text/plain": [
       "Validation: |          | 0/? [00:00<?, ?it/s]"
      ]
     },
     "metadata": {},
     "output_type": "display_data"
    },
    {
     "data": {
      "application/vnd.jupyter.widget-view+json": {
       "model_id": "a98ad00608244634b2e19407af8d5345",
       "version_major": 2,
       "version_minor": 0
      },
      "text/plain": [
       "Validation: |          | 0/? [00:00<?, ?it/s]"
      ]
     },
     "metadata": {},
     "output_type": "display_data"
    },
    {
     "name": "stderr",
     "output_type": "stream",
     "text": [
      "\u001b[32m2025-06-21 21:23:50.841\u001b[0m | \u001b[1mINFO    \u001b[0m | \u001b[36m__main__\u001b[0m:\u001b[36m<module>\u001b[0m:\u001b[36m30\u001b[0m - \u001b[1mLogs available at /home/dinhln/Desktop/real_time_recsys/notebooks/data/first-attempt/006-sequence-modelling-attn-256-dim-bce-prelu/logs/overfit/lightning_logs/version_18\u001b[0m\n"
     ]
    }
   ],
   "source": [
    "early_stopping = EarlyStopping(\n",
    "    monitor=\"val_loss\", patience=5, mode=\"min\", verbose=False\n",
    ")\n",
    "\n",
    "model = init_model(n_users, n_items, args.embedding_dim, args.dropout)\n",
    "lit_model = SeqModellingLitModule(\n",
    "    model,\n",
    "    learning_rate=args.learning_rate,\n",
    "    l2_reg=args.l2_reg,\n",
    "    log_dir=args.notebook_persit_dp,\n",
    "    accelerator=args.device,\n",
    "    idm= idm\n",
    ")\n",
    "\n",
    "log_dir = f\"{args.notebook_persit_dp}/logs/overfit\"\n",
    "\n",
    "# train model\n",
    "trainer = L.Trainer(\n",
    "    default_root_dir=log_dir,\n",
    "    accelerator=args.device if args.device else \"auto\",\n",
    "    max_epochs=300,\n",
    "    overfit_batches=1,\n",
    "    callbacks=[early_stopping],\n",
    ")\n",
    "trainer.fit(\n",
    "    model=lit_model,\n",
    "    train_dataloaders=train_loader,\n",
    "    val_dataloaders=train_loader,\n",
    ")\n",
    "logger.info(f\"Logs available at {trainer.log_dir}\")"
   ]
  },
  {
   "cell_type": "code",
   "execution_count": 22,
   "metadata": {},
   "outputs": [
    {
     "name": "stdout",
     "output_type": "stream",
     "text": [
      "{'user': tensor([10291, 12114,  1380, 14879,    38,  2694,  4004, 14307,  4663,   596,\n",
      "        15159, 16102, 13506,  6671,  2626,  4365, 11491,  1593,  4139, 15640,\n",
      "        15337,  7267,  2373,  4078,  6558,  7399,  5610,  6169, 16374,  2797,\n",
      "         2406,  8707, 11210,  1967,  7199, 13392,  4963, 14593, 14712, 12461,\n",
      "         6967,  3342,   742,  5128, 15842,  9458, 10346, 13710,  2974, 13860,\n",
      "        15521,  7703,  1298,  8191,  6845, 15344, 12011, 14029,  7291, 15527,\n",
      "         2451,  6927, 13315, 15380, 12502, 15335,  7707,  4662, 15466, 10033,\n",
      "        15772,  8525,  4313, 12346,  8437, 13852, 12435,  6404, 16063,  7019,\n",
      "         2214, 13659,  9585,  6192,  3095,  1881,  5297,  8945, 14917,  3961,\n",
      "         9856, 12383,  5872,  2211, 14978,  7861,  1073,  5058, 14257, 14253,\n",
      "         6900,  2981,  1754,  4527,  2481, 10653,  3683,  6804,  1416, 13637,\n",
      "        11672, 16373, 14721,  5399,  3575, 10304,  4573,  8775,  3399, 10160,\n",
      "        15496, 13290, 12076, 15185,  2017,  2492,  2469,   342]), 'item': tensor([3541, 3024, 2749, 4608, 4616, 4402, 3615,  431, 3236, 4647, 2093,  569,\n",
      "        4097, 2022, 3760, 3805, 4143, 1859,  977, 4611, 2635, 1332, 4206, 2122,\n",
      "        4617,  222, 4764, 2262, 2184, 3313, 1182, 2619, 4114, 3580, 3183, 4288,\n",
      "        3454, 4366, 4753, 1929, 3077,  727, 2100, 3723,  266, 1509, 1591, 3893,\n",
      "        4098, 3952, 3839, 4124, 3275, 1839, 2809, 4107, 3228, 4137,   87, 1418,\n",
      "        4285, 3483, 1415, 1115, 2480, 3571, 1291, 1427, 4019, 3517, 1610, 4304,\n",
      "        4575,  858, 4078, 4269, 1449, 1756, 2185, 4056, 3074, 2902, 1205, 1263,\n",
      "        2766, 2887, 3210, 2702, 2621,  201, 2939, 3559, 3807, 4575, 4305, 3550,\n",
      "        4729,  560, 2496, 4131, 4605, 3086, 1066, 2450, 1601, 4653, 4662, 3205,\n",
      "        3590, 2584, 4692,  361, 4481,  301,  150, 2841,  355, 4187, 2811, 1768,\n",
      "        3177,  662, 3989, 1354, 2253,  529, 3135, 1160]), 'rating': tensor([0., 1., 1., 0., 0., 1., 0., 1., 0., 1., 1., 0., 0., 0., 0., 1., 0., 1.,\n",
      "        0., 1., 0., 0., 0., 0., 1., 0., 0., 0., 1., 1., 0., 1., 0., 0., 1., 0.,\n",
      "        0., 0., 0., 0., 0., 0., 1., 0., 1., 0., 0., 0., 0., 0., 1., 1., 1., 0.,\n",
      "        0., 0., 0., 1., 1., 0., 1., 1., 0., 1., 0., 0., 1., 0., 0., 0., 0., 0.,\n",
      "        1., 0., 0., 1., 0., 1., 1., 0., 0., 1., 1., 0., 0., 1., 1., 0., 1., 0.,\n",
      "        0., 0., 0., 0., 0., 1., 0., 0., 0., 0., 1., 1., 1., 0., 1., 0., 0., 1.,\n",
      "        0., 1., 0., 0., 0., 1., 0., 1., 0., 0., 0., 0., 1., 1., 1., 1., 0., 0.,\n",
      "        1., 0.]), 'item_sequence': tensor([[  -1,   -1,   -1,  ...,   -1,   -1,  827],\n",
      "        [  -1,   -1,   -1,  ..., 1691, 2195,  193],\n",
      "        [  -1,   -1,   -1,  ...,   -1, 3134, 1944],\n",
      "        ...,\n",
      "        [  -1,   -1,   -1,  ...,   -1,  449, 4492],\n",
      "        [  -1,   -1,   -1,  ..., 1465,  904, 1244],\n",
      "        [  -1,   -1,   -1,  ...,   -1,   -1,   -1]], dtype=torch.int32)}\n"
     ]
    }
   ],
   "source": [
    "for i in train_loader:\n",
    "    print(i)\n",
    "    break"
   ]
  },
  {
   "cell_type": "markdown",
   "metadata": {},
   "source": [
    "## Run on all data"
   ]
  },
  {
   "cell_type": "code",
   "execution_count": 23,
   "metadata": {},
   "outputs": [
    {
     "name": "stderr",
     "output_type": "stream",
     "text": [
      "\u001b[32m2025-06-21 21:23:50.999\u001b[0m | \u001b[1mINFO    \u001b[0m | \u001b[36msrc.algo.sequence.model\u001b[0m:\u001b[36m__init__\u001b[0m:\u001b[36m118\u001b[0m - \u001b[1mStart token used: 4816, Padding token used: 4817\u001b[0m\n",
      "GPU available: True (cuda), used: True\n",
      "TPU available: False, using: 0 TPU cores\n",
      "HPU available: False, using: 0 HPUs\n"
     ]
    },
    {
     "name": "stdout",
     "output_type": "stream",
     "text": [
      "Model: SequenceRatingPrediction(\n",
      "  (item_embedding): Embedding(4818, 256, padding_idx=4817)\n",
      "  (encoder_layer): TransformerEncoderLayer(\n",
      "    (self_attn): MultiheadAttention(\n",
      "      (out_proj): NonDynamicallyQuantizableLinear(in_features=256, out_features=256, bias=True)\n",
      "    )\n",
      "    (linear1): Linear(in_features=256, out_features=256, bias=True)\n",
      "    (dropout): Dropout(p=0.3, inplace=False)\n",
      "    (linear2): Linear(in_features=256, out_features=256, bias=True)\n",
      "    (norm1): LayerNorm((256,), eps=1e-05, elementwise_affine=True)\n",
      "    (norm2): LayerNorm((256,), eps=1e-05, elementwise_affine=True)\n",
      "    (dropout1): Dropout(p=0.3, inplace=False)\n",
      "    (dropout2): Dropout(p=0.3, inplace=False)\n",
      "    (activation): PReLU(num_parameters=1)\n",
      "  )\n",
      "  (encoder): TransformerEncoder(\n",
      "    (layers): ModuleList(\n",
      "      (0): TransformerEncoderLayer(\n",
      "        (self_attn): MultiheadAttention(\n",
      "          (out_proj): NonDynamicallyQuantizableLinear(in_features=256, out_features=256, bias=True)\n",
      "        )\n",
      "        (linear1): Linear(in_features=256, out_features=256, bias=True)\n",
      "        (dropout): Dropout(p=0.3, inplace=False)\n",
      "        (linear2): Linear(in_features=256, out_features=256, bias=True)\n",
      "        (norm1): LayerNorm((256,), eps=1e-05, elementwise_affine=True)\n",
      "        (norm2): LayerNorm((256,), eps=1e-05, elementwise_affine=True)\n",
      "        (dropout1): Dropout(p=0.3, inplace=False)\n",
      "        (dropout2): Dropout(p=0.3, inplace=False)\n",
      "        (activation): PReLU(num_parameters=1)\n",
      "      )\n",
      "    )\n",
      "  )\n",
      "  (prelu1): PReLU(num_parameters=1)\n",
      "  (dropout): Dropout(p=0.3, inplace=False)\n",
      "  (user_embedding): Embedding(16407, 256)\n",
      "  (final_fc): Linear(in_features=768, out_features=256, bias=True)\n",
      "  (score_fc): Linear(in_features=256, out_features=1, bias=True)\n",
      ")\n"
     ]
    },
    {
     "name": "stderr",
     "output_type": "stream",
     "text": [
      "/home/dinhln/Desktop/real_time_recsys/.venv/lib/python3.11/site-packages/lightning/pytorch/callbacks/model_checkpoint.py:654: UserWarning:\n",
      "\n",
      "Checkpoint directory /home/dinhln/Desktop/real_time_recsys/notebooks/data/first-attempt/006-sequence-modelling-attn-256-dim-bce-prelu/checkpoints exists and is not empty.\n",
      "\n",
      "LOCAL_RANK: 0 - CUDA_VISIBLE_DEVICES: [0]\n",
      "\n",
      "  | Name               | Type                     | Params | Mode \n",
      "------------------------------------------------------------------------\n",
      "0 | model              | SequenceRatingPrediction | 6.4 M  | train\n",
      "1 | val_roc_auc_metric | BinaryAUROC              | 0      | train\n",
      "2 | val_pr_auc_metric  | BinaryAveragePrecision   | 0      | train\n",
      "------------------------------------------------------------------------\n",
      "6.4 M     Trainable params\n",
      "0         Non-trainable params\n",
      "6.4 M     Total params\n",
      "25.689    Total estimated model params size (MB)\n",
      "33        Modules in train mode\n",
      "0         Modules in eval mode\n"
     ]
    },
    {
     "data": {
      "application/vnd.jupyter.widget-view+json": {
       "model_id": "9693ac7c6444448faacfa4bbc769dbcd",
       "version_major": 2,
       "version_minor": 0
      },
      "text/plain": [
       "Sanity Checking: |          | 0/? [00:00<?, ?it/s]"
      ]
     },
     "metadata": {},
     "output_type": "display_data"
    },
    {
     "name": "stderr",
     "output_type": "stream",
     "text": [
      "/home/dinhln/Desktop/real_time_recsys/.venv/lib/python3.11/site-packages/lightning/pytorch/trainer/connectors/data_connector.py:425: PossibleUserWarning:\n",
      "\n",
      "The 'val_dataloader' does not have many workers which may be a bottleneck. Consider increasing the value of the `num_workers` argument` to `num_workers=19` in the `DataLoader` to improve performance.\n",
      "\n",
      "/home/dinhln/Desktop/real_time_recsys/notebooks/../src/algo/sequence/dataset.py:38: UserWarning:\n",
      "\n",
      "The given NumPy array is not writable, and PyTorch does not support non-writable tensors. This means writing to this tensor will result in undefined behavior. You may want to copy the array to protect its data or make it writable before converting it to a tensor. This type of warning will be suppressed for the rest of this program. (Triggered internally at /pytorch/torch/csrc/utils/tensor_numpy.cpp:203.)\n",
      "\n",
      "/home/dinhln/Desktop/real_time_recsys/.venv/lib/python3.11/site-packages/lightning/pytorch/trainer/connectors/data_connector.py:425: PossibleUserWarning:\n",
      "\n",
      "The 'train_dataloader' does not have many workers which may be a bottleneck. Consider increasing the value of the `num_workers` argument` to `num_workers=19` in the `DataLoader` to improve performance.\n",
      "\n"
     ]
    },
    {
     "data": {
      "application/vnd.jupyter.widget-view+json": {
       "model_id": "c506b6da7b75481f97e8c51e891003f6",
       "version_major": 2,
       "version_minor": 0
      },
      "text/plain": [
       "Training: |          | 0/? [00:00<?, ?it/s]"
      ]
     },
     "metadata": {},
     "output_type": "display_data"
    },
    {
     "data": {
      "application/vnd.jupyter.widget-view+json": {
       "model_id": "c1afa8f45699412aa1c79bfa81502e45",
       "version_major": 2,
       "version_minor": 0
      },
      "text/plain": [
       "Validation: |          | 0/? [00:00<?, ?it/s]"
      ]
     },
     "metadata": {},
     "output_type": "display_data"
    },
    {
     "data": {
      "application/vnd.jupyter.widget-view+json": {
       "model_id": "1f534f9ab56749729da0b1c216a811ad",
       "version_major": 2,
       "version_minor": 0
      },
      "text/plain": [
       "Validation: |          | 0/? [00:00<?, ?it/s]"
      ]
     },
     "metadata": {},
     "output_type": "display_data"
    },
    {
     "data": {
      "application/vnd.jupyter.widget-view+json": {
       "model_id": "c9005472cc924e0cabdc9da052cc35cf",
       "version_major": 2,
       "version_minor": 0
      },
      "text/plain": [
       "Validation: |          | 0/? [00:00<?, ?it/s]"
      ]
     },
     "metadata": {},
     "output_type": "display_data"
    },
    {
     "data": {
      "application/vnd.jupyter.widget-view+json": {
       "model_id": "35e4c2f65cdc4af39501f6036bd132cf",
       "version_major": 2,
       "version_minor": 0
      },
      "text/plain": [
       "Validation: |          | 0/? [00:00<?, ?it/s]"
      ]
     },
     "metadata": {},
     "output_type": "display_data"
    },
    {
     "data": {
      "application/vnd.jupyter.widget-view+json": {
       "model_id": "f357325b0ffd4e7bad1c8baf85e44107",
       "version_major": 2,
       "version_minor": 0
      },
      "text/plain": [
       "Validation: |          | 0/? [00:00<?, ?it/s]"
      ]
     },
     "metadata": {},
     "output_type": "display_data"
    },
    {
     "data": {
      "application/vnd.jupyter.widget-view+json": {
       "model_id": "f14f009ca1c140c1a2cd61acfe5b9400",
       "version_major": 2,
       "version_minor": 0
      },
      "text/plain": [
       "Validation: |          | 0/? [00:00<?, ?it/s]"
      ]
     },
     "metadata": {},
     "output_type": "display_data"
    },
    {
     "data": {
      "application/vnd.jupyter.widget-view+json": {
       "model_id": "ac37d3cace354172a595a56d6fe69cdd",
       "version_major": 2,
       "version_minor": 0
      },
      "text/plain": [
       "Validation: |          | 0/? [00:00<?, ?it/s]"
      ]
     },
     "metadata": {},
     "output_type": "display_data"
    },
    {
     "data": {
      "application/vnd.jupyter.widget-view+json": {
       "model_id": "434f8300aa3e4a5096de70e87df1ef84",
       "version_major": 2,
       "version_minor": 0
      },
      "text/plain": [
       "Validation: |          | 0/? [00:00<?, ?it/s]"
      ]
     },
     "metadata": {},
     "output_type": "display_data"
    },
    {
     "data": {
      "application/vnd.jupyter.widget-view+json": {
       "model_id": "f6169dad3b504ce8b88b4298259bce89",
       "version_major": 2,
       "version_minor": 0
      },
      "text/plain": [
       "Validation: |          | 0/? [00:00<?, ?it/s]"
      ]
     },
     "metadata": {},
     "output_type": "display_data"
    },
    {
     "data": {
      "application/vnd.jupyter.widget-view+json": {
       "model_id": "71b71b4e90764f84aabaa82142f984dc",
       "version_major": 2,
       "version_minor": 0
      },
      "text/plain": [
       "Validation: |          | 0/? [00:00<?, ?it/s]"
      ]
     },
     "metadata": {},
     "output_type": "display_data"
    },
    {
     "data": {
      "application/vnd.jupyter.widget-view+json": {
       "model_id": "d05a4c578a454cd8b03569284a277824",
       "version_major": 2,
       "version_minor": 0
      },
      "text/plain": [
       "Validation: |          | 0/? [00:00<?, ?it/s]"
      ]
     },
     "metadata": {},
     "output_type": "display_data"
    },
    {
     "data": {
      "application/vnd.jupyter.widget-view+json": {
       "model_id": "96e33327a33b40b69c8c49cbf2a8ebe2",
       "version_major": 2,
       "version_minor": 0
      },
      "text/plain": [
       "Validation: |          | 0/? [00:00<?, ?it/s]"
      ]
     },
     "metadata": {},
     "output_type": "display_data"
    },
    {
     "data": {
      "application/vnd.jupyter.widget-view+json": {
       "model_id": "ed616bff6a374d0389df7ee63fc8bb85",
       "version_major": 2,
       "version_minor": 0
      },
      "text/plain": [
       "Validation: |          | 0/? [00:00<?, ?it/s]"
      ]
     },
     "metadata": {},
     "output_type": "display_data"
    },
    {
     "data": {
      "application/vnd.jupyter.widget-view+json": {
       "model_id": "d1aa848486db438b8bd7ff3a849aaeed",
       "version_major": 2,
       "version_minor": 0
      },
      "text/plain": [
       "Validation: |          | 0/? [00:00<?, ?it/s]"
      ]
     },
     "metadata": {},
     "output_type": "display_data"
    },
    {
     "data": {
      "application/vnd.jupyter.widget-view+json": {
       "model_id": "9531b396b5d543a18468e2f620faf061",
       "version_major": 2,
       "version_minor": 0
      },
      "text/plain": [
       "Validation: |          | 0/? [00:00<?, ?it/s]"
      ]
     },
     "metadata": {},
     "output_type": "display_data"
    },
    {
     "data": {
      "application/vnd.jupyter.widget-view+json": {
       "model_id": "6f2d58e4d300434b994f25a5dacef751",
       "version_major": 2,
       "version_minor": 0
      },
      "text/plain": [
       "Validation: |          | 0/? [00:00<?, ?it/s]"
      ]
     },
     "metadata": {},
     "output_type": "display_data"
    },
    {
     "name": "stdout",
     "output_type": "stream",
     "text": [
      "🏃 View run 006-sequence-modelling-attn-256-dim-bce-prelu at: http://138.2.61.6:5002/#/experiments/2/runs/2a81df7b8a4d4fbaba79e8ff0d416664\n",
      "🧪 View experiment at: http://138.2.61.6:5002/#/experiments/2\n"
     ]
    }
   ],
   "source": [
    "early_stopping = EarlyStopping(\n",
    "    monitor=\"val_roc_auc\", patience=args.early_stopping_patience, mode=\"max\", verbose=False, min_delta=0.001\n",
    ")\n",
    "\n",
    "checkpoint_callback = ModelCheckpoint(\n",
    "    dirpath=f\"{args.notebook_persit_dp}/checkpoints\",\n",
    "    filename=\"best-checkpoint\",\n",
    "    save_top_k=1,\n",
    "    monitor=\"val_roc_auc\",\n",
    "    mode=\"max\",\n",
    ")\n",
    "\n",
    "model = init_model(n_users, n_items, args.embedding_dim, args.dropout)\n",
    "\n",
    "print(f\"Model: {model}\")\n",
    "lit_model = SeqModellingLitModule(\n",
    "    model,\n",
    "    learning_rate=args.learning_rate,\n",
    "    l2_reg=args.l2_reg,\n",
    "    log_dir=args.notebook_persit_dp,\n",
    "    accelerator=args.device,\n",
    "    idm= idm\n",
    ")\n",
    "\n",
    "log_dir = f\"{args.notebook_persit_dp}/logs/run\"\n",
    "\n",
    "# train model\n",
    "trainer = L.Trainer(\n",
    "    default_root_dir=log_dir,\n",
    "    accelerator=args.device if args.device else \"auto\",\n",
    "    max_epochs=args.max_epochs,\n",
    "    callbacks=[early_stopping, checkpoint_callback],\n",
    "    logger=args._mlf_logger if args.log_to_mlflow else None,\n",
    "    \n",
    ")\n",
    "trainer.fit(\n",
    "    model=lit_model,\n",
    "    train_dataloaders=train_loader,\n",
    "    val_dataloaders=val_loader,\n",
    "    \n",
    ")\n",
    "\n",
    "# Change the library as a workaround for the issue in the latest Lightning release\n",
    "#https://github.com/Lightning-AI/pytorch-lightning/pull/20669/commits/429f732a0528c558e701da7ec01e51c1e2e4f32e"
   ]
  },
  {
   "cell_type": "markdown",
   "metadata": {},
   "source": [
    "## Log metrics"
   ]
  },
  {
   "cell_type": "code",
   "execution_count": 24,
   "metadata": {},
   "outputs": [
    {
     "name": "stderr",
     "output_type": "stream",
     "text": [
      "\u001b[32m2025-06-21 21:41:45.636\u001b[0m | \u001b[1mINFO    \u001b[0m | \u001b[36m__main__\u001b[0m:\u001b[36m<module>\u001b[0m:\u001b[36m1\u001b[0m - \u001b[1mLoading best checkpoint from /home/dinhln/Desktop/real_time_recsys/notebooks/data/first-attempt/006-sequence-modelling-attn-256-dim-bce-prelu/checkpoints/best-checkpoint-v17.ckpt...\u001b[0m\n",
      "/home/dinhln/Desktop/real_time_recsys/.venv/lib/python3.11/site-packages/torch/nn/modules/transformer.py:385: UserWarning:\n",
      "\n",
      "enable_nested_tensor is True, but self.use_nested_tensor is False because encoder_layer.activation_relu_or_gelu was not True\n",
      "\n",
      "\u001b[32m2025-06-21 21:41:45.670\u001b[0m | \u001b[1mINFO    \u001b[0m | \u001b[36msrc.algo.sequence.model\u001b[0m:\u001b[36m__init__\u001b[0m:\u001b[36m118\u001b[0m - \u001b[1mStart token used: 4816, Padding token used: 4817\u001b[0m\n"
     ]
    }
   ],
   "source": [
    "logger.info(f\"Loading best checkpoint from {checkpoint_callback.best_model_path}...\")\n",
    "args.best_checkpoint_path = checkpoint_callback.best_model_path\n",
    "\n",
    "best_trainer = SeqModellingLitModule.load_from_checkpoint(\n",
    "    checkpoint_path=checkpoint_callback.best_model_path,\n",
    "    model=init_model(n_users, n_items, args.embedding_dim, args.dropout),\n",
    ")"
   ]
  },
  {
   "cell_type": "code",
   "execution_count": 25,
   "metadata": {},
   "outputs": [
    {
     "data": {
      "text/plain": [
       "SequenceRatingPrediction(\n",
       "  (item_embedding): Embedding(4818, 256, padding_idx=4817)\n",
       "  (encoder_layer): TransformerEncoderLayer(\n",
       "    (self_attn): MultiheadAttention(\n",
       "      (out_proj): NonDynamicallyQuantizableLinear(in_features=256, out_features=256, bias=True)\n",
       "    )\n",
       "    (linear1): Linear(in_features=256, out_features=256, bias=True)\n",
       "    (dropout): Dropout(p=0.3, inplace=False)\n",
       "    (linear2): Linear(in_features=256, out_features=256, bias=True)\n",
       "    (norm1): LayerNorm((256,), eps=1e-05, elementwise_affine=True)\n",
       "    (norm2): LayerNorm((256,), eps=1e-05, elementwise_affine=True)\n",
       "    (dropout1): Dropout(p=0.3, inplace=False)\n",
       "    (dropout2): Dropout(p=0.3, inplace=False)\n",
       "    (activation): PReLU(num_parameters=1)\n",
       "  )\n",
       "  (encoder): TransformerEncoder(\n",
       "    (layers): ModuleList(\n",
       "      (0): TransformerEncoderLayer(\n",
       "        (self_attn): MultiheadAttention(\n",
       "          (out_proj): NonDynamicallyQuantizableLinear(in_features=256, out_features=256, bias=True)\n",
       "        )\n",
       "        (linear1): Linear(in_features=256, out_features=256, bias=True)\n",
       "        (dropout): Dropout(p=0.3, inplace=False)\n",
       "        (linear2): Linear(in_features=256, out_features=256, bias=True)\n",
       "        (norm1): LayerNorm((256,), eps=1e-05, elementwise_affine=True)\n",
       "        (norm2): LayerNorm((256,), eps=1e-05, elementwise_affine=True)\n",
       "        (dropout1): Dropout(p=0.3, inplace=False)\n",
       "        (dropout2): Dropout(p=0.3, inplace=False)\n",
       "        (activation): PReLU(num_parameters=1)\n",
       "      )\n",
       "    )\n",
       "  )\n",
       "  (prelu1): PReLU(num_parameters=1)\n",
       "  (dropout): Dropout(p=0.3, inplace=False)\n",
       "  (user_embedding): Embedding(16407, 256)\n",
       "  (final_fc): Linear(in_features=768, out_features=256, bias=True)\n",
       "  (score_fc): Linear(in_features=256, out_features=1, bias=True)\n",
       ")"
      ]
     },
     "execution_count": 25,
     "metadata": {},
     "output_type": "execute_result"
    }
   ],
   "source": [
    "best_model = best_trainer.model.to(args.device)\n",
    "best_model.eval()"
   ]
  },
  {
   "cell_type": "code",
   "execution_count": 26,
   "metadata": {},
   "outputs": [],
   "source": [
    "val_recs_df = val_df.sort_values(by=args.timestamp_col).drop_duplicates(subset=[args.user_col], keep=\"first\")"
   ]
  },
  {
   "cell_type": "code",
   "execution_count": 27,
   "metadata": {},
   "outputs": [
    {
     "data": {
      "text/plain": [
       "<ActiveRun: >"
      ]
     },
     "execution_count": 27,
     "metadata": {},
     "output_type": "execute_result"
    }
   ],
   "source": [
    "mlflow.start_run(run_id = trainer.logger.run_id)"
   ]
  },
  {
   "cell_type": "markdown",
   "metadata": {},
   "source": [
    "### Classification metrics"
   ]
  },
  {
   "cell_type": "code",
   "execution_count": 28,
   "metadata": {},
   "outputs": [],
   "source": [
    "val_user_indices = val_df[\"user_indice\"].values\n",
    "val_item_indices = val_df[\"item_indice\"].values\n",
    "val_item_sequences = val_df[\"item_sequence\"].values.tolist()"
   ]
  },
  {
   "cell_type": "code",
   "execution_count": 29,
   "metadata": {},
   "outputs": [
    {
     "name": "stderr",
     "output_type": "stream",
     "text": [
      "/tmp/ipykernel_431539/3241326139.py:2: UserWarning:\n",
      "\n",
      "Creating a tensor from a list of numpy.ndarrays is extremely slow. Please consider converting the list to a single numpy.ndarray with numpy.array() before converting to a tensor. (Triggered internally at /pytorch/torch/csrc/utils/tensor_new.cpp:254.)\n",
      "\n"
     ]
    }
   ],
   "source": [
    "users = torch.tensor(val_user_indices, device=args.device)\n",
    "item_sequences = torch.tensor(val_item_sequences, device=args.device)\n",
    "items = torch.tensor(val_item_indices, device=args.device)\n",
    "classifications = best_model.predict(users, item_sequences, items)"
   ]
  },
  {
   "cell_type": "code",
   "execution_count": 30,
   "metadata": {},
   "outputs": [
    {
     "data": {
      "text/plain": [
       "torch.Size([10437, 1])"
      ]
     },
     "execution_count": 30,
     "metadata": {},
     "output_type": "execute_result"
    }
   ],
   "source": [
    "classifications.shape"
   ]
  },
  {
   "cell_type": "code",
   "execution_count": 31,
   "metadata": {},
   "outputs": [],
   "source": [
    "eval_classification_df = val_df.assign(\n",
    "    classification_proba=classifications.cpu().detach().numpy(),\n",
    "    label=lambda df: df[args.rating_col].gt(0).astype(int),\n",
    ")"
   ]
  },
  {
   "cell_type": "code",
   "execution_count": 32,
   "metadata": {},
   "outputs": [
    {
     "data": {
      "text/html": [
       "<div>\n",
       "<style scoped>\n",
       "    .dataframe tbody tr th:only-of-type {\n",
       "        vertical-align: middle;\n",
       "    }\n",
       "\n",
       "    .dataframe tbody tr th {\n",
       "        vertical-align: top;\n",
       "    }\n",
       "\n",
       "    .dataframe thead th {\n",
       "        text-align: right;\n",
       "    }\n",
       "</style>\n",
       "<table border=\"1\" class=\"dataframe\">\n",
       "  <thead>\n",
       "    <tr style=\"text-align: right;\">\n",
       "      <th></th>\n",
       "      <th>user_id</th>\n",
       "      <th>parent_asin</th>\n",
       "      <th>rating</th>\n",
       "      <th>timestamp</th>\n",
       "      <th>user_indice</th>\n",
       "      <th>item_indice</th>\n",
       "      <th>item_sequence</th>\n",
       "      <th>classification_proba</th>\n",
       "      <th>label</th>\n",
       "    </tr>\n",
       "  </thead>\n",
       "  <tbody>\n",
       "    <tr>\n",
       "      <th>129609</th>\n",
       "      <td>AGYYEQ2BPGILFTNVVZGEEK4AP5QA</td>\n",
       "      <td>B0854CTL5N</td>\n",
       "      <td>5.0</td>\n",
       "      <td>2021-08-10 01:19:51.147</td>\n",
       "      <td>12109</td>\n",
       "      <td>3857</td>\n",
       "      <td>[-1, -1, 2822, 3056, 4462, 2519, 1791, 1396, 2...</td>\n",
       "      <td>0.922151</td>\n",
       "      <td>1</td>\n",
       "    </tr>\n",
       "    <tr>\n",
       "      <th>391795</th>\n",
       "      <td>AFSU64CATRPYNY6C6PCI6FGKCJ4Q</td>\n",
       "      <td>B0C1Z2FM57</td>\n",
       "      <td>0.0</td>\n",
       "      <td>2021-12-24 19:34:06.504</td>\n",
       "      <td>7275</td>\n",
       "      <td>3944</td>\n",
       "      <td>[-1, 394, 3954, 1498, 2648, 3731, 4611, 1682, ...</td>\n",
       "      <td>0.351367</td>\n",
       "      <td>0</td>\n",
       "    </tr>\n",
       "    <tr>\n",
       "      <th>128128</th>\n",
       "      <td>AHP6PY4J6DB72JLOALVFWIOZ6EHA</td>\n",
       "      <td>B0B4SWZTZ1</td>\n",
       "      <td>1.0</td>\n",
       "      <td>2021-02-23 00:36:06.416</td>\n",
       "      <td>15029</td>\n",
       "      <td>4413</td>\n",
       "      <td>[-1, -1, -1, 1280, 2811, 3304, 3153, 3188, 478...</td>\n",
       "      <td>0.842930</td>\n",
       "      <td>1</td>\n",
       "    </tr>\n",
       "  </tbody>\n",
       "</table>\n",
       "</div>"
      ],
      "text/plain": [
       "                             user_id parent_asin  rating  \\\n",
       "129609  AGYYEQ2BPGILFTNVVZGEEK4AP5QA  B0854CTL5N     5.0   \n",
       "391795  AFSU64CATRPYNY6C6PCI6FGKCJ4Q  B0C1Z2FM57     0.0   \n",
       "128128  AHP6PY4J6DB72JLOALVFWIOZ6EHA  B0B4SWZTZ1     1.0   \n",
       "\n",
       "                     timestamp  user_indice  item_indice  \\\n",
       "129609 2021-08-10 01:19:51.147        12109         3857   \n",
       "391795 2021-12-24 19:34:06.504         7275         3944   \n",
       "128128 2021-02-23 00:36:06.416        15029         4413   \n",
       "\n",
       "                                            item_sequence  \\\n",
       "129609  [-1, -1, 2822, 3056, 4462, 2519, 1791, 1396, 2...   \n",
       "391795  [-1, 394, 3954, 1498, 2648, 3731, 4611, 1682, ...   \n",
       "128128  [-1, -1, -1, 1280, 2811, 3304, 3153, 3188, 478...   \n",
       "\n",
       "        classification_proba  label  \n",
       "129609              0.922151      1  \n",
       "391795              0.351367      0  \n",
       "128128              0.842930      1  "
      ]
     },
     "execution_count": 32,
     "metadata": {},
     "output_type": "execute_result"
    }
   ],
   "source": [
    "eval_classification_df.head(3)"
   ]
  },
  {
   "cell_type": "code",
   "execution_count": 33,
   "metadata": {},
   "outputs": [],
   "source": [
    "classification_report = log_classification_metrics(\n",
    "    args,\n",
    "    eval_classification_df,\n",
    "    target_col=\"label\",\n",
    "    prediction_col=\"classification_proba\",\n",
    ")"
   ]
  },
  {
   "cell_type": "markdown",
   "metadata": {},
   "source": [
    "### Ranking metrics"
   ]
  },
  {
   "cell_type": "code",
   "execution_count": 34,
   "metadata": {},
   "outputs": [
    {
     "data": {
      "text/html": [
       "<div>\n",
       "<style scoped>\n",
       "    .dataframe tbody tr th:only-of-type {\n",
       "        vertical-align: middle;\n",
       "    }\n",
       "\n",
       "    .dataframe tbody tr th {\n",
       "        vertical-align: top;\n",
       "    }\n",
       "\n",
       "    .dataframe thead th {\n",
       "        text-align: right;\n",
       "    }\n",
       "</style>\n",
       "<table border=\"1\" class=\"dataframe\">\n",
       "  <thead>\n",
       "    <tr style=\"text-align: right;\">\n",
       "      <th></th>\n",
       "      <th>user_id</th>\n",
       "      <th>parent_asin</th>\n",
       "      <th>rating</th>\n",
       "      <th>timestamp</th>\n",
       "      <th>user_indice</th>\n",
       "      <th>item_indice</th>\n",
       "      <th>item_sequence</th>\n",
       "    </tr>\n",
       "  </thead>\n",
       "  <tbody>\n",
       "    <tr>\n",
       "      <th>127392</th>\n",
       "      <td>AGSP5XAQPQBUUXZHEZSC65FD7NOQ</td>\n",
       "      <td>B004FV4ROA</td>\n",
       "      <td>1.0</td>\n",
       "      <td>2020-12-27 00:30:31.146</td>\n",
       "      <td>11295</td>\n",
       "      <td>528</td>\n",
       "      <td>[1715, 2537, 3743, 506, 4490, 3479, 3908, 2723...</td>\n",
       "    </tr>\n",
       "    <tr>\n",
       "      <th>385658</th>\n",
       "      <td>AEHS7YR7BGGWMZS24H5UR5IP46HQ</td>\n",
       "      <td>B08F1P3BCC</td>\n",
       "      <td>0.0</td>\n",
       "      <td>2020-12-27 01:44:52.242</td>\n",
       "      <td>1784</td>\n",
       "      <td>4451</td>\n",
       "      <td>[-1, -1, -1, -1, -1, 3382, 4330, 423, 3167, 2677]</td>\n",
       "    </tr>\n",
       "    <tr>\n",
       "      <th>385660</th>\n",
       "      <td>AGAVHCK42EGMVS7DGPRX6HBCUCNQ</td>\n",
       "      <td>B09Q3NR84W</td>\n",
       "      <td>0.0</td>\n",
       "      <td>2020-12-27 02:25:48.357</td>\n",
       "      <td>9042</td>\n",
       "      <td>4650</td>\n",
       "      <td>[-1, -1, -1, -1, 3104, 1416, 3743, 2694, 3612,...</td>\n",
       "    </tr>\n",
       "    <tr>\n",
       "      <th>385662</th>\n",
       "      <td>AEFVBMCJAFNULDI5V2CKKTBCPURA</td>\n",
       "      <td>B07N1L5HX1</td>\n",
       "      <td>0.0</td>\n",
       "      <td>2020-12-27 02:32:15.171</td>\n",
       "      <td>1542</td>\n",
       "      <td>2677</td>\n",
       "      <td>[-1, -1, -1, -1, -1, 1320, 2162, 2472, 2694, 3...</td>\n",
       "    </tr>\n",
       "    <tr>\n",
       "      <th>385664</th>\n",
       "      <td>AGLXMKHBLTBNT3X2CLBAPW6QUTQA</td>\n",
       "      <td>B0BB6Y5N3M</td>\n",
       "      <td>0.0</td>\n",
       "      <td>2020-12-27 03:37:22.772</td>\n",
       "      <td>10418</td>\n",
       "      <td>1230</td>\n",
       "      <td>[341, 3803, 4431, 1067, 4530, 4018, 2688, 4365...</td>\n",
       "    </tr>\n",
       "    <tr>\n",
       "      <th>...</th>\n",
       "      <td>...</td>\n",
       "      <td>...</td>\n",
       "      <td>...</td>\n",
       "      <td>...</td>\n",
       "      <td>...</td>\n",
       "      <td>...</td>\n",
       "      <td>...</td>\n",
       "    </tr>\n",
       "    <tr>\n",
       "      <th>130864</th>\n",
       "      <td>AGGDNWGN3NDJ2DI5CBSFOMUAM6XA</td>\n",
       "      <td>B083YHS7SV</td>\n",
       "      <td>4.0</td>\n",
       "      <td>2022-02-18 19:43:25.492</td>\n",
       "      <td>9711</td>\n",
       "      <td>3844</td>\n",
       "      <td>[-1, -1, -1, -1, 1019, 754, 2059, 413, 4262, 3...</td>\n",
       "    </tr>\n",
       "    <tr>\n",
       "      <th>392604</th>\n",
       "      <td>AEKUF6AOVWDWFYOKPWO2CV72PEDQ</td>\n",
       "      <td>B07QN33986</td>\n",
       "      <td>0.0</td>\n",
       "      <td>2022-02-19 01:32:51.519</td>\n",
       "      <td>2171</td>\n",
       "      <td>1860</td>\n",
       "      <td>[-1, -1, 2627, 4216, 4743, 1945, 2355, 1831, 9...</td>\n",
       "    </tr>\n",
       "    <tr>\n",
       "      <th>392606</th>\n",
       "      <td>AFBTD25HPE4BE4LUFV3DTI2E2N2A</td>\n",
       "      <td>B07TMJ8S5Z</td>\n",
       "      <td>0.0</td>\n",
       "      <td>2022-02-19 16:49:57.966</td>\n",
       "      <td>5159</td>\n",
       "      <td>3411</td>\n",
       "      <td>[-1, -1, -1, -1, 2260, 3517, 3609, 3495, 3625,...</td>\n",
       "    </tr>\n",
       "    <tr>\n",
       "      <th>392609</th>\n",
       "      <td>AHLN6GKTKZE22AON34YAQXTGK63A</td>\n",
       "      <td>B0C682GZ5X</td>\n",
       "      <td>0.0</td>\n",
       "      <td>2022-02-19 17:28:55.519</td>\n",
       "      <td>14550</td>\n",
       "      <td>4201</td>\n",
       "      <td>[-1, -1, -1, -1, -1, 1812, 4165, 4575, 4807, 374]</td>\n",
       "    </tr>\n",
       "    <tr>\n",
       "      <th>392611</th>\n",
       "      <td>AEMYBWDN67IB5IBTMHLHN76V4QHQ</td>\n",
       "      <td>B091K4WYD1</td>\n",
       "      <td>0.0</td>\n",
       "      <td>2022-02-19 22:08:53.253</td>\n",
       "      <td>2446</td>\n",
       "      <td>768</td>\n",
       "      <td>[2677, 1610, 2694, 3695, 4429, 3602, 4569, 365...</td>\n",
       "    </tr>\n",
       "  </tbody>\n",
       "</table>\n",
       "<p>2424 rows × 7 columns</p>\n",
       "</div>"
      ],
      "text/plain": [
       "                             user_id parent_asin  rating  \\\n",
       "127392  AGSP5XAQPQBUUXZHEZSC65FD7NOQ  B004FV4ROA     1.0   \n",
       "385658  AEHS7YR7BGGWMZS24H5UR5IP46HQ  B08F1P3BCC     0.0   \n",
       "385660  AGAVHCK42EGMVS7DGPRX6HBCUCNQ  B09Q3NR84W     0.0   \n",
       "385662  AEFVBMCJAFNULDI5V2CKKTBCPURA  B07N1L5HX1     0.0   \n",
       "385664  AGLXMKHBLTBNT3X2CLBAPW6QUTQA  B0BB6Y5N3M     0.0   \n",
       "...                              ...         ...     ...   \n",
       "130864  AGGDNWGN3NDJ2DI5CBSFOMUAM6XA  B083YHS7SV     4.0   \n",
       "392604  AEKUF6AOVWDWFYOKPWO2CV72PEDQ  B07QN33986     0.0   \n",
       "392606  AFBTD25HPE4BE4LUFV3DTI2E2N2A  B07TMJ8S5Z     0.0   \n",
       "392609  AHLN6GKTKZE22AON34YAQXTGK63A  B0C682GZ5X     0.0   \n",
       "392611  AEMYBWDN67IB5IBTMHLHN76V4QHQ  B091K4WYD1     0.0   \n",
       "\n",
       "                     timestamp  user_indice  item_indice  \\\n",
       "127392 2020-12-27 00:30:31.146        11295          528   \n",
       "385658 2020-12-27 01:44:52.242         1784         4451   \n",
       "385660 2020-12-27 02:25:48.357         9042         4650   \n",
       "385662 2020-12-27 02:32:15.171         1542         2677   \n",
       "385664 2020-12-27 03:37:22.772        10418         1230   \n",
       "...                        ...          ...          ...   \n",
       "130864 2022-02-18 19:43:25.492         9711         3844   \n",
       "392604 2022-02-19 01:32:51.519         2171         1860   \n",
       "392606 2022-02-19 16:49:57.966         5159         3411   \n",
       "392609 2022-02-19 17:28:55.519        14550         4201   \n",
       "392611 2022-02-19 22:08:53.253         2446          768   \n",
       "\n",
       "                                            item_sequence  \n",
       "127392  [1715, 2537, 3743, 506, 4490, 3479, 3908, 2723...  \n",
       "385658  [-1, -1, -1, -1, -1, 3382, 4330, 423, 3167, 2677]  \n",
       "385660  [-1, -1, -1, -1, 3104, 1416, 3743, 2694, 3612,...  \n",
       "385662  [-1, -1, -1, -1, -1, 1320, 2162, 2472, 2694, 3...  \n",
       "385664  [341, 3803, 4431, 1067, 4530, 4018, 2688, 4365...  \n",
       "...                                                   ...  \n",
       "130864  [-1, -1, -1, -1, 1019, 754, 2059, 413, 4262, 3...  \n",
       "392604  [-1, -1, 2627, 4216, 4743, 1945, 2355, 1831, 9...  \n",
       "392606  [-1, -1, -1, -1, 2260, 3517, 3609, 3495, 3625,...  \n",
       "392609  [-1, -1, -1, -1, -1, 1812, 4165, 4575, 4807, 374]  \n",
       "392611  [2677, 1610, 2694, 3695, 4429, 3602, 4569, 365...  \n",
       "\n",
       "[2424 rows x 7 columns]"
      ]
     },
     "execution_count": 34,
     "metadata": {},
     "output_type": "execute_result"
    }
   ],
   "source": [
    "val_recs_df"
   ]
  },
  {
   "cell_type": "code",
   "execution_count": 35,
   "metadata": {},
   "outputs": [
    {
     "data": {
      "application/vnd.jupyter.widget-view+json": {
       "model_id": "fad496c41f0e40ccb2496e163b36aead",
       "version_major": 2,
       "version_minor": 0
      },
      "text/plain": [
       "Generating recommendations:   0%|          | 0/364964 [00:00<?, ?it/s]"
      ]
     },
     "metadata": {},
     "output_type": "display_data"
    }
   ],
   "source": [
    "recommendations = best_model.recommend(\n",
    "    torch.tensor(val_recs_df[\"user_indice\"].values, device=args.device),\n",
    "    torch.tensor(val_recs_df[\"item_sequence\"].values.tolist(), device=args.device),\n",
    "    k=args.top_K,\n",
    "    batch_size=32)"
   ]
  },
  {
   "cell_type": "code",
   "execution_count": 36,
   "metadata": {},
   "outputs": [
    {
     "data": {
      "text/html": [
       "<div>\n",
       "<style scoped>\n",
       "    .dataframe tbody tr th:only-of-type {\n",
       "        vertical-align: middle;\n",
       "    }\n",
       "\n",
       "    .dataframe tbody tr th {\n",
       "        vertical-align: top;\n",
       "    }\n",
       "\n",
       "    .dataframe thead th {\n",
       "        text-align: right;\n",
       "    }\n",
       "</style>\n",
       "<table border=\"1\" class=\"dataframe\">\n",
       "  <thead>\n",
       "    <tr style=\"text-align: right;\">\n",
       "      <th></th>\n",
       "      <th>user_indice</th>\n",
       "      <th>recommendation</th>\n",
       "      <th>score</th>\n",
       "      <th>rec_ranking</th>\n",
       "      <th>user_id</th>\n",
       "      <th>parent_asin</th>\n",
       "    </tr>\n",
       "  </thead>\n",
       "  <tbody>\n",
       "    <tr>\n",
       "      <th>0</th>\n",
       "      <td>11295</td>\n",
       "      <td>3032</td>\n",
       "      <td>0.834206</td>\n",
       "      <td>1.0</td>\n",
       "      <td>AGSP5XAQPQBUUXZHEZSC65FD7NOQ</td>\n",
       "      <td>B074F3M2W8</td>\n",
       "    </tr>\n",
       "    <tr>\n",
       "      <th>1</th>\n",
       "      <td>11295</td>\n",
       "      <td>3188</td>\n",
       "      <td>0.830017</td>\n",
       "      <td>2.0</td>\n",
       "      <td>AGSP5XAQPQBUUXZHEZSC65FD7NOQ</td>\n",
       "      <td>B0791TX5P5</td>\n",
       "    </tr>\n",
       "    <tr>\n",
       "      <th>2</th>\n",
       "      <td>11295</td>\n",
       "      <td>3472</td>\n",
       "      <td>0.829827</td>\n",
       "      <td>3.0</td>\n",
       "      <td>AGSP5XAQPQBUUXZHEZSC65FD7NOQ</td>\n",
       "      <td>B07HZLHPKP</td>\n",
       "    </tr>\n",
       "    <tr>\n",
       "      <th>3</th>\n",
       "      <td>11295</td>\n",
       "      <td>3915</td>\n",
       "      <td>0.829290</td>\n",
       "      <td>4.0</td>\n",
       "      <td>AGSP5XAQPQBUUXZHEZSC65FD7NOQ</td>\n",
       "      <td>B08D7JPKLZ</td>\n",
       "    </tr>\n",
       "    <tr>\n",
       "      <th>4</th>\n",
       "      <td>11295</td>\n",
       "      <td>3983</td>\n",
       "      <td>0.825969</td>\n",
       "      <td>5.0</td>\n",
       "      <td>AGSP5XAQPQBUUXZHEZSC65FD7NOQ</td>\n",
       "      <td>B08N5TC2Z3</td>\n",
       "    </tr>\n",
       "    <tr>\n",
       "      <th>...</th>\n",
       "      <td>...</td>\n",
       "      <td>...</td>\n",
       "      <td>...</td>\n",
       "      <td>...</td>\n",
       "      <td>...</td>\n",
       "      <td>...</td>\n",
       "    </tr>\n",
       "    <tr>\n",
       "      <th>242395</th>\n",
       "      <td>2446</td>\n",
       "      <td>3200</td>\n",
       "      <td>0.825623</td>\n",
       "      <td>96.0</td>\n",
       "      <td>AEMYBWDN67IB5IBTMHLHN76V4QHQ</td>\n",
       "      <td>B0795DP124</td>\n",
       "    </tr>\n",
       "    <tr>\n",
       "      <th>242396</th>\n",
       "      <td>2446</td>\n",
       "      <td>2998</td>\n",
       "      <td>0.824843</td>\n",
       "      <td>97.0</td>\n",
       "      <td>AEMYBWDN67IB5IBTMHLHN76V4QHQ</td>\n",
       "      <td>B072KGYYKX</td>\n",
       "    </tr>\n",
       "    <tr>\n",
       "      <th>242397</th>\n",
       "      <td>2446</td>\n",
       "      <td>3476</td>\n",
       "      <td>0.824502</td>\n",
       "      <td>98.0</td>\n",
       "      <td>AEMYBWDN67IB5IBTMHLHN76V4QHQ</td>\n",
       "      <td>B07J2FGZSM</td>\n",
       "    </tr>\n",
       "    <tr>\n",
       "      <th>242398</th>\n",
       "      <td>2446</td>\n",
       "      <td>3659</td>\n",
       "      <td>0.823378</td>\n",
       "      <td>99.0</td>\n",
       "      <td>AEMYBWDN67IB5IBTMHLHN76V4QHQ</td>\n",
       "      <td>B07RR6HQKX</td>\n",
       "    </tr>\n",
       "    <tr>\n",
       "      <th>242399</th>\n",
       "      <td>2446</td>\n",
       "      <td>3381</td>\n",
       "      <td>0.822749</td>\n",
       "      <td>100.0</td>\n",
       "      <td>AEMYBWDN67IB5IBTMHLHN76V4QHQ</td>\n",
       "      <td>B07F4P3JH7</td>\n",
       "    </tr>\n",
       "  </tbody>\n",
       "</table>\n",
       "<p>242400 rows × 6 columns</p>\n",
       "</div>"
      ],
      "text/plain": [
       "        user_indice  recommendation     score  rec_ranking  \\\n",
       "0             11295            3032  0.834206          1.0   \n",
       "1             11295            3188  0.830017          2.0   \n",
       "2             11295            3472  0.829827          3.0   \n",
       "3             11295            3915  0.829290          4.0   \n",
       "4             11295            3983  0.825969          5.0   \n",
       "...             ...             ...       ...          ...   \n",
       "242395         2446            3200  0.825623         96.0   \n",
       "242396         2446            2998  0.824843         97.0   \n",
       "242397         2446            3476  0.824502         98.0   \n",
       "242398         2446            3659  0.823378         99.0   \n",
       "242399         2446            3381  0.822749        100.0   \n",
       "\n",
       "                             user_id parent_asin  \n",
       "0       AGSP5XAQPQBUUXZHEZSC65FD7NOQ  B074F3M2W8  \n",
       "1       AGSP5XAQPQBUUXZHEZSC65FD7NOQ  B0791TX5P5  \n",
       "2       AGSP5XAQPQBUUXZHEZSC65FD7NOQ  B07HZLHPKP  \n",
       "3       AGSP5XAQPQBUUXZHEZSC65FD7NOQ  B08D7JPKLZ  \n",
       "4       AGSP5XAQPQBUUXZHEZSC65FD7NOQ  B08N5TC2Z3  \n",
       "...                              ...         ...  \n",
       "242395  AEMYBWDN67IB5IBTMHLHN76V4QHQ  B0795DP124  \n",
       "242396  AEMYBWDN67IB5IBTMHLHN76V4QHQ  B072KGYYKX  \n",
       "242397  AEMYBWDN67IB5IBTMHLHN76V4QHQ  B07J2FGZSM  \n",
       "242398  AEMYBWDN67IB5IBTMHLHN76V4QHQ  B07RR6HQKX  \n",
       "242399  AEMYBWDN67IB5IBTMHLHN76V4QHQ  B07F4P3JH7  \n",
       "\n",
       "[242400 rows x 6 columns]"
      ]
     },
     "execution_count": 36,
     "metadata": {},
     "output_type": "execute_result"
    }
   ],
   "source": [
    "recommendations_df = pd.DataFrame(recommendations).pipe(\n",
    "    create_rec_df, idm, args.user_col, args.item_col\n",
    ")\n",
    "recommendations_df"
   ]
  },
  {
   "cell_type": "code",
   "execution_count": 37,
   "metadata": {},
   "outputs": [
    {
     "data": {
      "text/html": [
       "<div>\n",
       "<style scoped>\n",
       "    .dataframe tbody tr th:only-of-type {\n",
       "        vertical-align: middle;\n",
       "    }\n",
       "\n",
       "    .dataframe tbody tr th {\n",
       "        vertical-align: top;\n",
       "    }\n",
       "\n",
       "    .dataframe thead th {\n",
       "        text-align: right;\n",
       "    }\n",
       "</style>\n",
       "<table border=\"1\" class=\"dataframe\">\n",
       "  <thead>\n",
       "    <tr style=\"text-align: right;\">\n",
       "      <th></th>\n",
       "      <th>user_id</th>\n",
       "      <th>parent_asin</th>\n",
       "      <th>rating</th>\n",
       "      <th>rating_rank</th>\n",
       "    </tr>\n",
       "  </thead>\n",
       "  <tbody>\n",
       "    <tr>\n",
       "      <th>128912</th>\n",
       "      <td>AG2EMAD6UILFF4ITMMKH2NEFTYHA</td>\n",
       "      <td>B0BZJGGX2T</td>\n",
       "      <td>5.0</td>\n",
       "      <td>1.0</td>\n",
       "    </tr>\n",
       "    <tr>\n",
       "      <th>127943</th>\n",
       "      <td>AHPI7N36W4JJYOAA6MBAGWTDF3FA</td>\n",
       "      <td>B072MKFNV6</td>\n",
       "      <td>4.0</td>\n",
       "      <td>1.0</td>\n",
       "    </tr>\n",
       "    <tr>\n",
       "      <th>129406</th>\n",
       "      <td>AGOBLEZGF5OSPDVTIMA3DPWAENGA</td>\n",
       "      <td>B07H65KP63</td>\n",
       "      <td>5.0</td>\n",
       "      <td>1.0</td>\n",
       "    </tr>\n",
       "    <tr>\n",
       "      <th>130173</th>\n",
       "      <td>AFXRWTDGQJIDOTGMCIZKH5QPK5KA</td>\n",
       "      <td>B00PKTU83U</td>\n",
       "      <td>5.0</td>\n",
       "      <td>1.0</td>\n",
       "    </tr>\n",
       "    <tr>\n",
       "      <th>128534</th>\n",
       "      <td>AHWDVLU5PTXMLD6PSJ2Z5Q3JP4OA</td>\n",
       "      <td>B0719SNR5N</td>\n",
       "      <td>3.0</td>\n",
       "      <td>1.0</td>\n",
       "    </tr>\n",
       "    <tr>\n",
       "      <th>...</th>\n",
       "      <td>...</td>\n",
       "      <td>...</td>\n",
       "      <td>...</td>\n",
       "      <td>...</td>\n",
       "    </tr>\n",
       "    <tr>\n",
       "      <th>386737</th>\n",
       "      <td>AEN2KQVSR5TWRXNQS3OTFT4EZQCA</td>\n",
       "      <td>B0BRT7XFM5</td>\n",
       "      <td>0.0</td>\n",
       "      <td>27.0</td>\n",
       "    </tr>\n",
       "    <tr>\n",
       "      <th>388052</th>\n",
       "      <td>AFKERAMSXU4MWO3H53R7DEFOHUVQ</td>\n",
       "      <td>B07G5YXYFL</td>\n",
       "      <td>0.0</td>\n",
       "      <td>27.0</td>\n",
       "    </tr>\n",
       "    <tr>\n",
       "      <th>388051</th>\n",
       "      <td>AFKERAMSXU4MWO3H53R7DEFOHUVQ</td>\n",
       "      <td>B07G5YXYFL</td>\n",
       "      <td>0.0</td>\n",
       "      <td>28.0</td>\n",
       "    </tr>\n",
       "    <tr>\n",
       "      <th>387885</th>\n",
       "      <td>AFKERAMSXU4MWO3H53R7DEFOHUVQ</td>\n",
       "      <td>B07ZZVX1F2</td>\n",
       "      <td>0.0</td>\n",
       "      <td>29.0</td>\n",
       "    </tr>\n",
       "    <tr>\n",
       "      <th>387886</th>\n",
       "      <td>AFKERAMSXU4MWO3H53R7DEFOHUVQ</td>\n",
       "      <td>B07ZZVX1F2</td>\n",
       "      <td>0.0</td>\n",
       "      <td>30.0</td>\n",
       "    </tr>\n",
       "  </tbody>\n",
       "</table>\n",
       "<p>10437 rows × 4 columns</p>\n",
       "</div>"
      ],
      "text/plain": [
       "                             user_id parent_asin  rating  rating_rank\n",
       "128912  AG2EMAD6UILFF4ITMMKH2NEFTYHA  B0BZJGGX2T     5.0          1.0\n",
       "127943  AHPI7N36W4JJYOAA6MBAGWTDF3FA  B072MKFNV6     4.0          1.0\n",
       "129406  AGOBLEZGF5OSPDVTIMA3DPWAENGA  B07H65KP63     5.0          1.0\n",
       "130173  AFXRWTDGQJIDOTGMCIZKH5QPK5KA  B00PKTU83U     5.0          1.0\n",
       "128534  AHWDVLU5PTXMLD6PSJ2Z5Q3JP4OA  B0719SNR5N     3.0          1.0\n",
       "...                              ...         ...     ...          ...\n",
       "386737  AEN2KQVSR5TWRXNQS3OTFT4EZQCA  B0BRT7XFM5     0.0         27.0\n",
       "388052  AFKERAMSXU4MWO3H53R7DEFOHUVQ  B07G5YXYFL     0.0         27.0\n",
       "388051  AFKERAMSXU4MWO3H53R7DEFOHUVQ  B07G5YXYFL     0.0         28.0\n",
       "387885  AFKERAMSXU4MWO3H53R7DEFOHUVQ  B07ZZVX1F2     0.0         29.0\n",
       "387886  AFKERAMSXU4MWO3H53R7DEFOHUVQ  B07ZZVX1F2     0.0         30.0\n",
       "\n",
       "[10437 rows x 4 columns]"
      ]
     },
     "execution_count": 37,
     "metadata": {},
     "output_type": "execute_result"
    }
   ],
   "source": [
    "label_df = create_label_df(\n",
    "    val_df,\n",
    "    user_col=args.user_col,\n",
    "    item_col=args.item_col,\n",
    "    rating_col=args.rating_col,\n",
    "    timestamp_col=args.timestamp_col,\n",
    ")\n",
    "label_df"
   ]
  },
  {
   "cell_type": "code",
   "execution_count": 38,
   "metadata": {},
   "outputs": [
    {
     "data": {
      "text/html": [
       "<div>\n",
       "<style scoped>\n",
       "    .dataframe tbody tr th:only-of-type {\n",
       "        vertical-align: middle;\n",
       "    }\n",
       "\n",
       "    .dataframe tbody tr th {\n",
       "        vertical-align: top;\n",
       "    }\n",
       "\n",
       "    .dataframe thead th {\n",
       "        text-align: right;\n",
       "    }\n",
       "</style>\n",
       "<table border=\"1\" class=\"dataframe\">\n",
       "  <thead>\n",
       "    <tr style=\"text-align: right;\">\n",
       "      <th></th>\n",
       "      <th>user_indice</th>\n",
       "      <th>recommendation</th>\n",
       "      <th>score</th>\n",
       "      <th>rec_ranking</th>\n",
       "      <th>user_id</th>\n",
       "      <th>parent_asin</th>\n",
       "      <th>rating</th>\n",
       "      <th>rating_rank</th>\n",
       "    </tr>\n",
       "  </thead>\n",
       "  <tbody>\n",
       "    <tr>\n",
       "      <th>26</th>\n",
       "      <td>8.0</td>\n",
       "      <td>3251.0</td>\n",
       "      <td>0.912598</td>\n",
       "      <td>1</td>\n",
       "      <td>AE24AB4DW5KYK3F5DYOT5VPW2VLA</td>\n",
       "      <td>B07BPKL2D2</td>\n",
       "      <td>0</td>\n",
       "      <td>NaN</td>\n",
       "    </tr>\n",
       "    <tr>\n",
       "      <th>96</th>\n",
       "      <td>8.0</td>\n",
       "      <td>4669.0</td>\n",
       "      <td>0.908320</td>\n",
       "      <td>2</td>\n",
       "      <td>AE24AB4DW5KYK3F5DYOT5VPW2VLA</td>\n",
       "      <td>B0BXP3P132</td>\n",
       "      <td>0</td>\n",
       "      <td>NaN</td>\n",
       "    </tr>\n",
       "    <tr>\n",
       "      <th>72</th>\n",
       "      <td>8.0</td>\n",
       "      <td>4365.0</td>\n",
       "      <td>0.907467</td>\n",
       "      <td>3</td>\n",
       "      <td>AE24AB4DW5KYK3F5DYOT5VPW2VLA</td>\n",
       "      <td>B09ZMQWGCG</td>\n",
       "      <td>0</td>\n",
       "      <td>NaN</td>\n",
       "    </tr>\n",
       "    <tr>\n",
       "      <th>102</th>\n",
       "      <td>8.0</td>\n",
       "      <td>4785.0</td>\n",
       "      <td>0.904956</td>\n",
       "      <td>4</td>\n",
       "      <td>AE24AB4DW5KYK3F5DYOT5VPW2VLA</td>\n",
       "      <td>B0C6PRR41P</td>\n",
       "      <td>0</td>\n",
       "      <td>NaN</td>\n",
       "    </tr>\n",
       "    <tr>\n",
       "      <th>27</th>\n",
       "      <td>8.0</td>\n",
       "      <td>3300.0</td>\n",
       "      <td>0.904170</td>\n",
       "      <td>5</td>\n",
       "      <td>AE24AB4DW5KYK3F5DYOT5VPW2VLA</td>\n",
       "      <td>B07CG2PGY6</td>\n",
       "      <td>0</td>\n",
       "      <td>NaN</td>\n",
       "    </tr>\n",
       "    <tr>\n",
       "      <th>...</th>\n",
       "      <td>...</td>\n",
       "      <td>...</td>\n",
       "      <td>...</td>\n",
       "      <td>...</td>\n",
       "      <td>...</td>\n",
       "      <td>...</td>\n",
       "      <td>...</td>\n",
       "      <td>...</td>\n",
       "    </tr>\n",
       "    <tr>\n",
       "      <th>252360</th>\n",
       "      <td>16403.0</td>\n",
       "      <td>3550.0</td>\n",
       "      <td>0.787922</td>\n",
       "      <td>99</td>\n",
       "      <td>AHZZM7BCJAF2UEMMBHZCLXBB2SVA</td>\n",
       "      <td>B07N1L5HX1</td>\n",
       "      <td>0</td>\n",
       "      <td>NaN</td>\n",
       "    </tr>\n",
       "    <tr>\n",
       "      <th>252390</th>\n",
       "      <td>16403.0</td>\n",
       "      <td>3903.0</td>\n",
       "      <td>0.787658</td>\n",
       "      <td>100</td>\n",
       "      <td>AHZZM7BCJAF2UEMMBHZCLXBB2SVA</td>\n",
       "      <td>B08BZSCHZ3</td>\n",
       "      <td>0</td>\n",
       "      <td>NaN</td>\n",
       "    </tr>\n",
       "    <tr>\n",
       "      <th>252328</th>\n",
       "      <td>NaN</td>\n",
       "      <td>NaN</td>\n",
       "      <td>NaN</td>\n",
       "      <td>101</td>\n",
       "      <td>AHZZM7BCJAF2UEMMBHZCLXBB2SVA</td>\n",
       "      <td>B075QC3TZY</td>\n",
       "      <td>1</td>\n",
       "      <td>1.0</td>\n",
       "    </tr>\n",
       "    <tr>\n",
       "      <th>252329</th>\n",
       "      <td>NaN</td>\n",
       "      <td>NaN</td>\n",
       "      <td>NaN</td>\n",
       "      <td>101</td>\n",
       "      <td>AHZZM7BCJAF2UEMMBHZCLXBB2SVA</td>\n",
       "      <td>B075QC3TZY</td>\n",
       "      <td>0</td>\n",
       "      <td>2.0</td>\n",
       "    </tr>\n",
       "    <tr>\n",
       "      <th>252330</th>\n",
       "      <td>NaN</td>\n",
       "      <td>NaN</td>\n",
       "      <td>NaN</td>\n",
       "      <td>101</td>\n",
       "      <td>AHZZM7BCJAF2UEMMBHZCLXBB2SVA</td>\n",
       "      <td>B075QC3TZY</td>\n",
       "      <td>0</td>\n",
       "      <td>3.0</td>\n",
       "    </tr>\n",
       "  </tbody>\n",
       "</table>\n",
       "<p>252421 rows × 8 columns</p>\n",
       "</div>"
      ],
      "text/plain": [
       "        user_indice  recommendation     score  rec_ranking  \\\n",
       "26              8.0          3251.0  0.912598            1   \n",
       "96              8.0          4669.0  0.908320            2   \n",
       "72              8.0          4365.0  0.907467            3   \n",
       "102             8.0          4785.0  0.904956            4   \n",
       "27              8.0          3300.0  0.904170            5   \n",
       "...             ...             ...       ...          ...   \n",
       "252360      16403.0          3550.0  0.787922           99   \n",
       "252390      16403.0          3903.0  0.787658          100   \n",
       "252328          NaN             NaN       NaN          101   \n",
       "252329          NaN             NaN       NaN          101   \n",
       "252330          NaN             NaN       NaN          101   \n",
       "\n",
       "                             user_id parent_asin  rating  rating_rank  \n",
       "26      AE24AB4DW5KYK3F5DYOT5VPW2VLA  B07BPKL2D2       0          NaN  \n",
       "96      AE24AB4DW5KYK3F5DYOT5VPW2VLA  B0BXP3P132       0          NaN  \n",
       "72      AE24AB4DW5KYK3F5DYOT5VPW2VLA  B09ZMQWGCG       0          NaN  \n",
       "102     AE24AB4DW5KYK3F5DYOT5VPW2VLA  B0C6PRR41P       0          NaN  \n",
       "27      AE24AB4DW5KYK3F5DYOT5VPW2VLA  B07CG2PGY6       0          NaN  \n",
       "...                              ...         ...     ...          ...  \n",
       "252360  AHZZM7BCJAF2UEMMBHZCLXBB2SVA  B07N1L5HX1       0          NaN  \n",
       "252390  AHZZM7BCJAF2UEMMBHZCLXBB2SVA  B08BZSCHZ3       0          NaN  \n",
       "252328  AHZZM7BCJAF2UEMMBHZCLXBB2SVA  B075QC3TZY       1          1.0  \n",
       "252329  AHZZM7BCJAF2UEMMBHZCLXBB2SVA  B075QC3TZY       0          2.0  \n",
       "252330  AHZZM7BCJAF2UEMMBHZCLXBB2SVA  B075QC3TZY       0          3.0  \n",
       "\n",
       "[252421 rows x 8 columns]"
      ]
     },
     "execution_count": 38,
     "metadata": {},
     "output_type": "execute_result"
    }
   ],
   "source": [
    "eval_df = merge_recs_with_target(\n",
    "    recommendations_df,\n",
    "    label_df,\n",
    "    k=args.top_K,\n",
    "    user_col=args.user_col,\n",
    "    item_col=args.item_col,\n",
    "    rating_col=args.rating_col,\n",
    ")\n",
    "eval_df"
   ]
  },
  {
   "cell_type": "code",
   "execution_count": 39,
   "metadata": {},
   "outputs": [],
   "source": [
    "ranking_report = log_ranking_metrics(args, eval_df)"
   ]
  },
  {
   "cell_type": "code",
   "execution_count": 40,
   "metadata": {},
   "outputs": [
    {
     "name": "stdout",
     "output_type": "stream",
     "text": [
      "🏃 View run 006-sequence-modelling-attn-256-dim-bce-prelu at: http://138.2.61.6:5002/#/experiments/2/runs/2a81df7b8a4d4fbaba79e8ff0d416664\n",
      "🧪 View experiment at: http://138.2.61.6:5002/#/experiments/2\n"
     ]
    }
   ],
   "source": [
    "mlflow.end_run()"
   ]
  },
  {
   "cell_type": "markdown",
   "metadata": {},
   "source": [
    "## Clean up"
   ]
  },
  {
   "cell_type": "code",
   "execution_count": 41,
   "metadata": {},
   "outputs": [
    {
     "name": "stdout",
     "output_type": "stream",
     "text": [
      "🏃 View run 006-sequence-modelling-attn-256-dim-bce-prelu at: http://138.2.61.6:5002/#/experiments/2/runs/2a81df7b8a4d4fbaba79e8ff0d416664\n",
      "🧪 View experiment at: http://138.2.61.6:5002/#/experiments/2\n"
     ]
    }
   ],
   "source": [
    "all_params = [args]\n",
    "\n",
    "if args.log_to_mlflow:\n",
    "    run_id = trainer.logger.run_id\n",
    "\n",
    "    with mlflow.start_run(run_id=run_id):\n",
    "        for params in all_params:\n",
    "            params_dict = params.model_dump()\n",
    "            params_ = dict()\n",
    "            for k, v in params_dict.items():\n",
    "                if k == \"top_K\":\n",
    "                    k = \"top_big_K\"\n",
    "                if k == \"top_k\":\n",
    "                    k = \"top_small_k\"\n",
    "                params_[f\"{params.__repr_name__()}.{k}\"] = v\n",
    "            mlflow.log_params(params_)"
   ]
  }
 ],
 "metadata": {
  "kernelspec": {
   "display_name": "hm-scalablerecs-QHnDFvap-py3.11",
   "language": "python",
   "name": "python3"
  },
  "language_info": {
   "codemirror_mode": {
    "name": "ipython",
    "version": 3
   },
   "file_extension": ".py",
   "mimetype": "text/x-python",
   "name": "python",
   "nbconvert_exporter": "python",
   "pygments_lexer": "ipython3",
   "version": "3.11.9"
  }
 },
 "nbformat": 4,
 "nbformat_minor": 2
}
