{
 "cells": [
  {
   "cell_type": "markdown",
   "id": "bb459ce7",
   "metadata": {},
   "source": [
    "# Feature engineering"
   ]
  },
  {
   "cell_type": "markdown",
   "id": "20628e92",
   "metadata": {},
   "source": [
    "## Setup"
   ]
  },
  {
   "cell_type": "code",
   "execution_count": 25,
   "id": "c6ce221c",
   "metadata": {},
   "outputs": [
    {
     "name": "stdout",
     "output_type": "stream",
     "text": [
      "The autoreload extension is already loaded. To reload it, use:\n",
      "  %reload_ext autoreload\n"
     ]
    }
   ],
   "source": [
    "%load_ext autoreload\n",
    "%autoreload 2"
   ]
  },
  {
   "cell_type": "code",
   "execution_count": null,
   "id": "4af829f7",
   "metadata": {},
   "outputs": [],
   "source": [
    "import os\n",
    "import sys\n",
    "\n",
    "import dill\n",
    "import numpy as np\n",
    "import pandas as pd\n",
    "import plotly.express as px\n",
    "from datasets import load_dataset\n",
    "from feast import FeatureStore\n",
    "from loguru import logger\n",
    "from pydantic import BaseModel\n",
    "from sklearn.compose import ColumnTransformer\n",
    "from sklearn.pipeline import Pipeline\n",
    "from sklearn.preprocessing import OneHotEncoder, StandardScaler\n",
    "from src.algo.ranker.utils import calc_sequence_timestamp_bucket\n",
    "sys.path.insert(0, \"..\")\n",
    "\n",
    "from src.utils.embedding_id_mapper import IDMapper\n",
    "from src.algo.ranker.utils import pad_timestamp_sequence\n"
   ]
  },
  {
   "cell_type": "code",
   "execution_count": 27,
   "id": "c417e85f",
   "metadata": {},
   "outputs": [
    {
     "name": "stdout",
     "output_type": "stream",
     "text": [
      "{\n",
      "  \"run_name\": \"000-prep-data\",\n",
      "  \"testing\": true,\n",
      "  \"notebook_persist_dp\": \"c:\\\\Users\\\\Trieu\\\\OneDrive\\\\Desktop\\\\recsys\\\\real_time_recsys\\\\notebooks\\\\data\\\\000-prep-data\",\n",
      "  \"random_seed\": 41,\n",
      "  \"user_col\": \"user_id\",\n",
      "  \"item_col\": \"parent_asin\",\n",
      "  \"rating_col\": \"rating\",\n",
      "  \"timestamp_col\": \"timestamp\",\n",
      "  \"tfm_chunk_size\": 5000,\n",
      "  \"sequence_length\": 10\n",
      "}\n"
     ]
    }
   ],
   "source": [
    "class Args(BaseModel):\n",
    "    run_name: str = \"000-prep-data\"\n",
    "    testing: bool = True\n",
    "    notebook_persist_dp: str = None\n",
    "    random_seed: int = 41\n",
    "\n",
    "    user_col: str = \"user_id\"\n",
    "    item_col: str = \"parent_asin\"\n",
    "    rating_col: str = \"rating\"\n",
    "    timestamp_col: str = \"timestamp\"\n",
    "\n",
    "    tfm_chunk_size: int = 5000\n",
    "\n",
    "    sequence_length: int = 10\n",
    "\n",
    "    def init(self):\n",
    "        self.notebook_persist_dp = os.path.abspath(f\"data/{self.run_name}\")\n",
    "        if not self.testing:\n",
    "            os.makedirs(self.notebook_persist_dp, exist_ok=True)\n",
    "\n",
    "        return self\n",
    "\n",
    "\n",
    "args = Args().init()\n",
    "\n",
    "print(args.model_dump_json(indent=2))"
   ]
  },
  {
   "cell_type": "markdown",
   "id": "ce5202a8",
   "metadata": {},
   "source": [
    "## Load data"
   ]
  },
  {
   "cell_type": "code",
   "execution_count": 28,
   "id": "530b5915",
   "metadata": {},
   "outputs": [
    {
     "data": {
      "application/vnd.jupyter.widget-view+json": {
       "model_id": "1b3935063cce41a0a8163f91cf1ffe22",
       "version_major": 2,
       "version_minor": 0
      },
      "text/plain": [
       "Downloading builder script:   0%|          | 0.00/39.6k [00:00<?, ?B/s]"
      ]
     },
     "metadata": {},
     "output_type": "display_data"
    },
    {
     "data": {
      "application/vnd.jupyter.widget-view+json": {
       "model_id": "65e48e3b633c41e9b951f9c3a2d74531",
       "version_major": 2,
       "version_minor": 0
      },
      "text/plain": [
       "Downloading readme:   0%|          | 0.00/30.3k [00:00<?, ?B/s]"
      ]
     },
     "metadata": {},
     "output_type": "display_data"
    },
    {
     "data": {
      "application/vnd.jupyter.widget-view+json": {
       "model_id": "9b996f809e884fc582f4c25f36973f42",
       "version_major": 2,
       "version_minor": 0
      },
      "text/plain": [
       "Downloading data:   0%|          | 0.00/5.25G [00:00<?, ?B/s]"
      ]
     },
     "metadata": {},
     "output_type": "display_data"
    },
    {
     "ename": "KeyboardInterrupt",
     "evalue": "",
     "output_type": "error",
     "traceback": [
      "\u001b[31m---------------------------------------------------------------------------\u001b[39m",
      "\u001b[31mKeyboardInterrupt\u001b[39m                         Traceback (most recent call last)",
      "\u001b[36mCell\u001b[39m\u001b[36m \u001b[39m\u001b[32mIn[28]\u001b[39m\u001b[32m, line 1\u001b[39m\n\u001b[32m----> \u001b[39m\u001b[32m1\u001b[39m metadata_raw = \u001b[43mload_dataset\u001b[49m\u001b[43m(\u001b[49m\n\u001b[32m      2\u001b[39m \u001b[43m    \u001b[49m\u001b[33;43m\"\u001b[39;49m\u001b[33;43mMcAuley-Lab/Amazon-Reviews-2023\u001b[39;49m\u001b[33;43m\"\u001b[39;49m\u001b[43m,\u001b[49m\u001b[43m \u001b[49m\u001b[33;43m\"\u001b[39;49m\u001b[33;43mraw_meta_Electronics\u001b[39;49m\u001b[33;43m\"\u001b[39;49m\u001b[43m,\u001b[49m\u001b[43m \u001b[49m\u001b[43mtrust_remote_code\u001b[49m\u001b[43m=\u001b[49m\u001b[38;5;28;43;01mTrue\u001b[39;49;00m\n\u001b[32m      3\u001b[39m \u001b[43m)\u001b[49m\n\u001b[32m      4\u001b[39m metadata_raw_df = metadata_raw[\u001b[33m\"\u001b[39m\u001b[33mfull\u001b[39m\u001b[33m\"\u001b[39m].to_pandas()\n\u001b[32m      5\u001b[39m metadata_raw_df\n",
      "\u001b[36mFile \u001b[39m\u001b[32mc:\\Users\\Trieu\\AppData\\Local\\pypoetry\\Cache\\virtualenvs\\hm-scalablerecs-QHnDFvap-py3.11\\Lib\\site-packages\\datasets\\load.py:2628\u001b[39m, in \u001b[36mload_dataset\u001b[39m\u001b[34m(path, name, data_dir, data_files, split, cache_dir, features, download_config, download_mode, verification_mode, ignore_verifications, keep_in_memory, save_infos, revision, token, use_auth_token, task, streaming, num_proc, storage_options, trust_remote_code, **config_kwargs)\u001b[39m\n\u001b[32m   2625\u001b[39m     \u001b[38;5;28;01mreturn\u001b[39;00m builder_instance.as_streaming_dataset(split=split)\n\u001b[32m   2627\u001b[39m \u001b[38;5;66;03m# Download and prepare data\u001b[39;00m\n\u001b[32m-> \u001b[39m\u001b[32m2628\u001b[39m \u001b[43mbuilder_instance\u001b[49m\u001b[43m.\u001b[49m\u001b[43mdownload_and_prepare\u001b[49m\u001b[43m(\u001b[49m\n\u001b[32m   2629\u001b[39m \u001b[43m    \u001b[49m\u001b[43mdownload_config\u001b[49m\u001b[43m=\u001b[49m\u001b[43mdownload_config\u001b[49m\u001b[43m,\u001b[49m\n\u001b[32m   2630\u001b[39m \u001b[43m    \u001b[49m\u001b[43mdownload_mode\u001b[49m\u001b[43m=\u001b[49m\u001b[43mdownload_mode\u001b[49m\u001b[43m,\u001b[49m\n\u001b[32m   2631\u001b[39m \u001b[43m    \u001b[49m\u001b[43mverification_mode\u001b[49m\u001b[43m=\u001b[49m\u001b[43mverification_mode\u001b[49m\u001b[43m,\u001b[49m\n\u001b[32m   2632\u001b[39m \u001b[43m    \u001b[49m\u001b[43mnum_proc\u001b[49m\u001b[43m=\u001b[49m\u001b[43mnum_proc\u001b[49m\u001b[43m,\u001b[49m\n\u001b[32m   2633\u001b[39m \u001b[43m    \u001b[49m\u001b[43mstorage_options\u001b[49m\u001b[43m=\u001b[49m\u001b[43mstorage_options\u001b[49m\u001b[43m,\u001b[49m\n\u001b[32m   2634\u001b[39m \u001b[43m\u001b[49m\u001b[43m)\u001b[49m\n\u001b[32m   2636\u001b[39m \u001b[38;5;66;03m# Build dataset for splits\u001b[39;00m\n\u001b[32m   2637\u001b[39m keep_in_memory = (\n\u001b[32m   2638\u001b[39m     keep_in_memory \u001b[38;5;28;01mif\u001b[39;00m keep_in_memory \u001b[38;5;129;01mis\u001b[39;00m \u001b[38;5;129;01mnot\u001b[39;00m \u001b[38;5;28;01mNone\u001b[39;00m \u001b[38;5;28;01melse\u001b[39;00m is_small_dataset(builder_instance.info.dataset_size)\n\u001b[32m   2639\u001b[39m )\n",
      "\u001b[36mFile \u001b[39m\u001b[32mc:\\Users\\Trieu\\AppData\\Local\\pypoetry\\Cache\\virtualenvs\\hm-scalablerecs-QHnDFvap-py3.11\\Lib\\site-packages\\datasets\\builder.py:1029\u001b[39m, in \u001b[36mDatasetBuilder.download_and_prepare\u001b[39m\u001b[34m(self, output_dir, download_config, download_mode, verification_mode, ignore_verifications, try_from_hf_gcs, dl_manager, base_path, use_auth_token, file_format, max_shard_size, num_proc, storage_options, **download_and_prepare_kwargs)\u001b[39m\n\u001b[32m   1027\u001b[39m     \u001b[38;5;28;01mif\u001b[39;00m num_proc \u001b[38;5;129;01mis\u001b[39;00m \u001b[38;5;129;01mnot\u001b[39;00m \u001b[38;5;28;01mNone\u001b[39;00m:\n\u001b[32m   1028\u001b[39m         prepare_split_kwargs[\u001b[33m\"\u001b[39m\u001b[33mnum_proc\u001b[39m\u001b[33m\"\u001b[39m] = num_proc\n\u001b[32m-> \u001b[39m\u001b[32m1029\u001b[39m     \u001b[38;5;28;43mself\u001b[39;49m\u001b[43m.\u001b[49m\u001b[43m_download_and_prepare\u001b[49m\u001b[43m(\u001b[49m\n\u001b[32m   1030\u001b[39m \u001b[43m        \u001b[49m\u001b[43mdl_manager\u001b[49m\u001b[43m=\u001b[49m\u001b[43mdl_manager\u001b[49m\u001b[43m,\u001b[49m\n\u001b[32m   1031\u001b[39m \u001b[43m        \u001b[49m\u001b[43mverification_mode\u001b[49m\u001b[43m=\u001b[49m\u001b[43mverification_mode\u001b[49m\u001b[43m,\u001b[49m\n\u001b[32m   1032\u001b[39m \u001b[43m        \u001b[49m\u001b[43m*\u001b[49m\u001b[43m*\u001b[49m\u001b[43mprepare_split_kwargs\u001b[49m\u001b[43m,\u001b[49m\n\u001b[32m   1033\u001b[39m \u001b[43m        \u001b[49m\u001b[43m*\u001b[49m\u001b[43m*\u001b[49m\u001b[43mdownload_and_prepare_kwargs\u001b[49m\u001b[43m,\u001b[49m\n\u001b[32m   1034\u001b[39m \u001b[43m    \u001b[49m\u001b[43m)\u001b[49m\n\u001b[32m   1035\u001b[39m \u001b[38;5;66;03m# Sync info\u001b[39;00m\n\u001b[32m   1036\u001b[39m \u001b[38;5;28mself\u001b[39m.info.dataset_size = \u001b[38;5;28msum\u001b[39m(split.num_bytes \u001b[38;5;28;01mfor\u001b[39;00m split \u001b[38;5;129;01min\u001b[39;00m \u001b[38;5;28mself\u001b[39m.info.splits.values())\n",
      "\u001b[36mFile \u001b[39m\u001b[32mc:\\Users\\Trieu\\AppData\\Local\\pypoetry\\Cache\\virtualenvs\\hm-scalablerecs-QHnDFvap-py3.11\\Lib\\site-packages\\datasets\\builder.py:1791\u001b[39m, in \u001b[36mGeneratorBasedBuilder._download_and_prepare\u001b[39m\u001b[34m(self, dl_manager, verification_mode, **prepare_splits_kwargs)\u001b[39m\n\u001b[32m   1790\u001b[39m \u001b[38;5;28;01mdef\u001b[39;00m\u001b[38;5;250m \u001b[39m\u001b[34m_download_and_prepare\u001b[39m(\u001b[38;5;28mself\u001b[39m, dl_manager, verification_mode, **prepare_splits_kwargs):\n\u001b[32m-> \u001b[39m\u001b[32m1791\u001b[39m     \u001b[38;5;28;43msuper\u001b[39;49m\u001b[43m(\u001b[49m\u001b[43m)\u001b[49m\u001b[43m.\u001b[49m\u001b[43m_download_and_prepare\u001b[49m\u001b[43m(\u001b[49m\n\u001b[32m   1792\u001b[39m \u001b[43m        \u001b[49m\u001b[43mdl_manager\u001b[49m\u001b[43m,\u001b[49m\n\u001b[32m   1793\u001b[39m \u001b[43m        \u001b[49m\u001b[43mverification_mode\u001b[49m\u001b[43m,\u001b[49m\n\u001b[32m   1794\u001b[39m \u001b[43m        \u001b[49m\u001b[43mcheck_duplicate_keys\u001b[49m\u001b[43m=\u001b[49m\u001b[43mverification_mode\u001b[49m\u001b[43m \u001b[49m\u001b[43m==\u001b[49m\u001b[43m \u001b[49m\u001b[43mVerificationMode\u001b[49m\u001b[43m.\u001b[49m\u001b[43mBASIC_CHECKS\u001b[49m\n\u001b[32m   1795\u001b[39m \u001b[43m        \u001b[49m\u001b[38;5;129;43;01mor\u001b[39;49;00m\u001b[43m \u001b[49m\u001b[43mverification_mode\u001b[49m\u001b[43m \u001b[49m\u001b[43m==\u001b[49m\u001b[43m \u001b[49m\u001b[43mVerificationMode\u001b[49m\u001b[43m.\u001b[49m\u001b[43mALL_CHECKS\u001b[49m\u001b[43m,\u001b[49m\n\u001b[32m   1796\u001b[39m \u001b[43m        \u001b[49m\u001b[43m*\u001b[49m\u001b[43m*\u001b[49m\u001b[43mprepare_splits_kwargs\u001b[49m\u001b[43m,\u001b[49m\n\u001b[32m   1797\u001b[39m \u001b[43m    \u001b[49m\u001b[43m)\u001b[49m\n",
      "\u001b[36mFile \u001b[39m\u001b[32mc:\\Users\\Trieu\\AppData\\Local\\pypoetry\\Cache\\virtualenvs\\hm-scalablerecs-QHnDFvap-py3.11\\Lib\\site-packages\\datasets\\builder.py:1102\u001b[39m, in \u001b[36mDatasetBuilder._download_and_prepare\u001b[39m\u001b[34m(self, dl_manager, verification_mode, **prepare_split_kwargs)\u001b[39m\n\u001b[32m   1100\u001b[39m split_dict = SplitDict(dataset_name=\u001b[38;5;28mself\u001b[39m.dataset_name)\n\u001b[32m   1101\u001b[39m split_generators_kwargs = \u001b[38;5;28mself\u001b[39m._make_split_generators_kwargs(prepare_split_kwargs)\n\u001b[32m-> \u001b[39m\u001b[32m1102\u001b[39m split_generators = \u001b[38;5;28;43mself\u001b[39;49m\u001b[43m.\u001b[49m\u001b[43m_split_generators\u001b[49m\u001b[43m(\u001b[49m\u001b[43mdl_manager\u001b[49m\u001b[43m,\u001b[49m\u001b[43m \u001b[49m\u001b[43m*\u001b[49m\u001b[43m*\u001b[49m\u001b[43msplit_generators_kwargs\u001b[49m\u001b[43m)\u001b[49m\n\u001b[32m   1104\u001b[39m \u001b[38;5;66;03m# Checksums verification\u001b[39;00m\n\u001b[32m   1105\u001b[39m \u001b[38;5;28;01mif\u001b[39;00m verification_mode == VerificationMode.ALL_CHECKS \u001b[38;5;129;01mand\u001b[39;00m dl_manager.record_checksums:\n",
      "\u001b[36mFile \u001b[39m\u001b[32m~\\.cache\\huggingface\\modules\\datasets_modules\\datasets\\McAuley-Lab--Amazon-Reviews-2023\\16b76e0823d73bb8cff1e9c5e3e37dbc46ae3daee380417ae141f5e67d3ea8e8\\Amazon-Reviews-2023.py:509\u001b[39m, in \u001b[36mAmazonReview2023._split_generators\u001b[39m\u001b[34m(self, dl_manager)\u001b[39m\n\u001b[32m    508\u001b[39m \u001b[38;5;28;01mdef\u001b[39;00m\u001b[38;5;250m \u001b[39m\u001b[34m_split_generators\u001b[39m(\u001b[38;5;28mself\u001b[39m, dl_manager):\n\u001b[32m--> \u001b[39m\u001b[32m509\u001b[39m     dl_dir = \u001b[43mdl_manager\u001b[49m\u001b[43m.\u001b[49m\u001b[43mdownload_and_extract\u001b[49m\u001b[43m(\u001b[49m\u001b[38;5;28;43mself\u001b[39;49m\u001b[43m.\u001b[49m\u001b[43mconfig\u001b[49m\u001b[43m.\u001b[49m\u001b[43mdata_dir\u001b[49m\u001b[43m)\u001b[49m\n\u001b[32m    510\u001b[39m     \u001b[38;5;28;01mif\u001b[39;00m \u001b[38;5;28misinstance\u001b[39m(\u001b[38;5;28mself\u001b[39m.config, BenchmarkAmazonReview2023Config):\n\u001b[32m    511\u001b[39m         \u001b[38;5;28;01mreturn\u001b[39;00m [\n\u001b[32m    512\u001b[39m             datasets.SplitGenerator(name=\u001b[33m'\u001b[39m\u001b[33mtrain\u001b[39m\u001b[33m'\u001b[39m, gen_kwargs={\u001b[33m\"\u001b[39m\u001b[33mfilepath\u001b[39m\u001b[33m\"\u001b[39m: dl_dir[\u001b[33m'\u001b[39m\u001b[33mtrain\u001b[39m\u001b[33m'\u001b[39m]}),\n\u001b[32m    513\u001b[39m             datasets.SplitGenerator(name=\u001b[33m'\u001b[39m\u001b[33mvalid\u001b[39m\u001b[33m'\u001b[39m, gen_kwargs={\u001b[33m\"\u001b[39m\u001b[33mfilepath\u001b[39m\u001b[33m\"\u001b[39m: dl_dir[\u001b[33m'\u001b[39m\u001b[33mvalid\u001b[39m\u001b[33m'\u001b[39m]}),\n\u001b[32m    514\u001b[39m             datasets.SplitGenerator(name=\u001b[33m'\u001b[39m\u001b[33mtest\u001b[39m\u001b[33m'\u001b[39m, gen_kwargs={\u001b[33m\"\u001b[39m\u001b[33mfilepath\u001b[39m\u001b[33m\"\u001b[39m: dl_dir[\u001b[33m'\u001b[39m\u001b[33mtest\u001b[39m\u001b[33m'\u001b[39m]}),\n\u001b[32m    515\u001b[39m         ]\n",
      "\u001b[36mFile \u001b[39m\u001b[32mc:\\Users\\Trieu\\AppData\\Local\\pypoetry\\Cache\\virtualenvs\\hm-scalablerecs-QHnDFvap-py3.11\\Lib\\site-packages\\datasets\\download\\download_manager.py:434\u001b[39m, in \u001b[36mDownloadManager.download_and_extract\u001b[39m\u001b[34m(self, url_or_urls)\u001b[39m\n\u001b[32m    418\u001b[39m \u001b[38;5;28;01mdef\u001b[39;00m\u001b[38;5;250m \u001b[39m\u001b[34mdownload_and_extract\u001b[39m(\u001b[38;5;28mself\u001b[39m, url_or_urls):\n\u001b[32m    419\u001b[39m \u001b[38;5;250m    \u001b[39m\u001b[33;03m\"\"\"Download and extract given `url_or_urls`.\u001b[39;00m\n\u001b[32m    420\u001b[39m \n\u001b[32m    421\u001b[39m \u001b[33;03m    Is roughly equivalent to:\u001b[39;00m\n\u001b[32m   (...)\u001b[39m\u001b[32m    432\u001b[39m \u001b[33;03m        extracted_path(s): `str`, extracted paths of given URL(s).\u001b[39;00m\n\u001b[32m    433\u001b[39m \u001b[33;03m    \"\"\"\u001b[39;00m\n\u001b[32m--> \u001b[39m\u001b[32m434\u001b[39m     \u001b[38;5;28;01mreturn\u001b[39;00m \u001b[38;5;28mself\u001b[39m.extract(\u001b[38;5;28;43mself\u001b[39;49m\u001b[43m.\u001b[49m\u001b[43mdownload\u001b[49m\u001b[43m(\u001b[49m\u001b[43murl_or_urls\u001b[49m\u001b[43m)\u001b[49m)\n",
      "\u001b[36mFile \u001b[39m\u001b[32mc:\\Users\\Trieu\\AppData\\Local\\pypoetry\\Cache\\virtualenvs\\hm-scalablerecs-QHnDFvap-py3.11\\Lib\\site-packages\\datasets\\download\\download_manager.py:257\u001b[39m, in \u001b[36mDownloadManager.download\u001b[39m\u001b[34m(self, url_or_urls)\u001b[39m\n\u001b[32m    255\u001b[39m start_time = datetime.now()\n\u001b[32m    256\u001b[39m \u001b[38;5;28;01mwith\u001b[39;00m stack_multiprocessing_download_progress_bars():\n\u001b[32m--> \u001b[39m\u001b[32m257\u001b[39m     downloaded_path_or_paths = \u001b[43mmap_nested\u001b[49m\u001b[43m(\u001b[49m\n\u001b[32m    258\u001b[39m \u001b[43m        \u001b[49m\u001b[43mdownload_func\u001b[49m\u001b[43m,\u001b[49m\n\u001b[32m    259\u001b[39m \u001b[43m        \u001b[49m\u001b[43murl_or_urls\u001b[49m\u001b[43m,\u001b[49m\n\u001b[32m    260\u001b[39m \u001b[43m        \u001b[49m\u001b[43mmap_tuple\u001b[49m\u001b[43m=\u001b[49m\u001b[38;5;28;43;01mTrue\u001b[39;49;00m\u001b[43m,\u001b[49m\n\u001b[32m    261\u001b[39m \u001b[43m        \u001b[49m\u001b[43mnum_proc\u001b[49m\u001b[43m=\u001b[49m\u001b[43mdownload_config\u001b[49m\u001b[43m.\u001b[49m\u001b[43mnum_proc\u001b[49m\u001b[43m,\u001b[49m\n\u001b[32m    262\u001b[39m \u001b[43m        \u001b[49m\u001b[43mdesc\u001b[49m\u001b[43m=\u001b[49m\u001b[33;43m\"\u001b[39;49m\u001b[33;43mDownloading data files\u001b[39;49m\u001b[33;43m\"\u001b[39;49m\u001b[43m,\u001b[49m\n\u001b[32m    263\u001b[39m \u001b[43m        \u001b[49m\u001b[43mbatched\u001b[49m\u001b[43m=\u001b[49m\u001b[38;5;28;43;01mTrue\u001b[39;49;00m\u001b[43m,\u001b[49m\n\u001b[32m    264\u001b[39m \u001b[43m        \u001b[49m\u001b[43mbatch_size\u001b[49m\u001b[43m=\u001b[49m\u001b[43m-\u001b[49m\u001b[32;43m1\u001b[39;49m\u001b[43m,\u001b[49m\n\u001b[32m    265\u001b[39m \u001b[43m    \u001b[49m\u001b[43m)\u001b[49m\n\u001b[32m    266\u001b[39m duration = datetime.now() - start_time\n\u001b[32m    267\u001b[39m logger.info(\u001b[33mf\u001b[39m\u001b[33m\"\u001b[39m\u001b[33mDownloading took \u001b[39m\u001b[38;5;132;01m{\u001b[39;00mduration.total_seconds()\u001b[38;5;250m \u001b[39m//\u001b[38;5;250m \u001b[39m\u001b[32m60\u001b[39m\u001b[38;5;132;01m}\u001b[39;00m\u001b[33m min\u001b[39m\u001b[33m\"\u001b[39m)\n",
      "\u001b[36mFile \u001b[39m\u001b[32mc:\\Users\\Trieu\\AppData\\Local\\pypoetry\\Cache\\virtualenvs\\hm-scalablerecs-QHnDFvap-py3.11\\Lib\\site-packages\\datasets\\utils\\py_utils.py:484\u001b[39m, in \u001b[36mmap_nested\u001b[39m\u001b[34m(function, data_struct, dict_only, map_list, map_tuple, map_numpy, num_proc, parallel_min_length, batched, batch_size, types, disable_tqdm, desc)\u001b[39m\n\u001b[32m    482\u001b[39m \u001b[38;5;28;01mif\u001b[39;00m batched:\n\u001b[32m    483\u001b[39m     data_struct = [data_struct]\n\u001b[32m--> \u001b[39m\u001b[32m484\u001b[39m mapped = \u001b[43mfunction\u001b[49m\u001b[43m(\u001b[49m\u001b[43mdata_struct\u001b[49m\u001b[43m)\u001b[49m\n\u001b[32m    485\u001b[39m \u001b[38;5;28;01mif\u001b[39;00m batched:\n\u001b[32m    486\u001b[39m     mapped = mapped[\u001b[32m0\u001b[39m]\n",
      "\u001b[36mFile \u001b[39m\u001b[32mc:\\Users\\Trieu\\AppData\\Local\\pypoetry\\Cache\\virtualenvs\\hm-scalablerecs-QHnDFvap-py3.11\\Lib\\site-packages\\datasets\\download\\download_manager.py:313\u001b[39m, in \u001b[36mDownloadManager._download_batched\u001b[39m\u001b[34m(self, url_or_filenames, download_config)\u001b[39m\n\u001b[32m    300\u001b[39m     \u001b[38;5;28;01mreturn\u001b[39;00m thread_map(\n\u001b[32m    301\u001b[39m         download_func,\n\u001b[32m    302\u001b[39m         url_or_filenames,\n\u001b[32m   (...)\u001b[39m\u001b[32m    310\u001b[39m         tqdm_class=tqdm,\n\u001b[32m    311\u001b[39m     )\n\u001b[32m    312\u001b[39m \u001b[38;5;28;01melse\u001b[39;00m:\n\u001b[32m--> \u001b[39m\u001b[32m313\u001b[39m     \u001b[38;5;28;01mreturn\u001b[39;00m \u001b[43m[\u001b[49m\n\u001b[32m    314\u001b[39m \u001b[43m        \u001b[49m\u001b[38;5;28;43mself\u001b[39;49m\u001b[43m.\u001b[49m\u001b[43m_download_single\u001b[49m\u001b[43m(\u001b[49m\u001b[43murl_or_filename\u001b[49m\u001b[43m,\u001b[49m\u001b[43m \u001b[49m\u001b[43mdownload_config\u001b[49m\u001b[43m=\u001b[49m\u001b[43mdownload_config\u001b[49m\u001b[43m)\u001b[49m\n\u001b[32m    315\u001b[39m \u001b[43m        \u001b[49m\u001b[38;5;28;43;01mfor\u001b[39;49;00m\u001b[43m \u001b[49m\u001b[43murl_or_filename\u001b[49m\u001b[43m \u001b[49m\u001b[38;5;129;43;01min\u001b[39;49;00m\u001b[43m \u001b[49m\u001b[43murl_or_filenames\u001b[49m\n\u001b[32m    316\u001b[39m \u001b[43m    \u001b[49m\u001b[43m]\u001b[49m\n",
      "\u001b[36mFile \u001b[39m\u001b[32mc:\\Users\\Trieu\\AppData\\Local\\pypoetry\\Cache\\virtualenvs\\hm-scalablerecs-QHnDFvap-py3.11\\Lib\\site-packages\\datasets\\download\\download_manager.py:314\u001b[39m, in \u001b[36m<listcomp>\u001b[39m\u001b[34m(.0)\u001b[39m\n\u001b[32m    300\u001b[39m     \u001b[38;5;28;01mreturn\u001b[39;00m thread_map(\n\u001b[32m    301\u001b[39m         download_func,\n\u001b[32m    302\u001b[39m         url_or_filenames,\n\u001b[32m   (...)\u001b[39m\u001b[32m    310\u001b[39m         tqdm_class=tqdm,\n\u001b[32m    311\u001b[39m     )\n\u001b[32m    312\u001b[39m \u001b[38;5;28;01melse\u001b[39;00m:\n\u001b[32m    313\u001b[39m     \u001b[38;5;28;01mreturn\u001b[39;00m [\n\u001b[32m--> \u001b[39m\u001b[32m314\u001b[39m         \u001b[38;5;28;43mself\u001b[39;49m\u001b[43m.\u001b[49m\u001b[43m_download_single\u001b[49m\u001b[43m(\u001b[49m\u001b[43murl_or_filename\u001b[49m\u001b[43m,\u001b[49m\u001b[43m \u001b[49m\u001b[43mdownload_config\u001b[49m\u001b[43m=\u001b[49m\u001b[43mdownload_config\u001b[49m\u001b[43m)\u001b[49m\n\u001b[32m    315\u001b[39m         \u001b[38;5;28;01mfor\u001b[39;00m url_or_filename \u001b[38;5;129;01min\u001b[39;00m url_or_filenames\n\u001b[32m    316\u001b[39m     ]\n",
      "\u001b[36mFile \u001b[39m\u001b[32mc:\\Users\\Trieu\\AppData\\Local\\pypoetry\\Cache\\virtualenvs\\hm-scalablerecs-QHnDFvap-py3.11\\Lib\\site-packages\\datasets\\download\\download_manager.py:323\u001b[39m, in \u001b[36mDownloadManager._download_single\u001b[39m\u001b[34m(self, url_or_filename, download_config)\u001b[39m\n\u001b[32m    320\u001b[39m \u001b[38;5;28;01mif\u001b[39;00m is_relative_path(url_or_filename):\n\u001b[32m    321\u001b[39m     \u001b[38;5;66;03m# append the relative path to the base_path\u001b[39;00m\n\u001b[32m    322\u001b[39m     url_or_filename = url_or_path_join(\u001b[38;5;28mself\u001b[39m._base_path, url_or_filename)\n\u001b[32m--> \u001b[39m\u001b[32m323\u001b[39m out = \u001b[43mcached_path\u001b[49m\u001b[43m(\u001b[49m\u001b[43murl_or_filename\u001b[49m\u001b[43m,\u001b[49m\u001b[43m \u001b[49m\u001b[43mdownload_config\u001b[49m\u001b[43m=\u001b[49m\u001b[43mdownload_config\u001b[49m\u001b[43m)\u001b[49m\n\u001b[32m    324\u001b[39m out = tracked_str(out)\n\u001b[32m    325\u001b[39m out.set_origin(url_or_filename)\n",
      "\u001b[36mFile \u001b[39m\u001b[32mc:\\Users\\Trieu\\AppData\\Local\\pypoetry\\Cache\\virtualenvs\\hm-scalablerecs-QHnDFvap-py3.11\\Lib\\site-packages\\datasets\\utils\\file_utils.py:211\u001b[39m, in \u001b[36mcached_path\u001b[39m\u001b[34m(url_or_filename, download_config, **download_kwargs)\u001b[39m\n\u001b[32m    205\u001b[39m     \u001b[38;5;28;01mif\u001b[39;00m (\n\u001b[32m    206\u001b[39m         storage_options\n\u001b[32m    207\u001b[39m         \u001b[38;5;129;01mand\u001b[39;00m storage_options.keys() < {\u001b[33m\"\u001b[39m\u001b[33mhttp\u001b[39m\u001b[33m\"\u001b[39m, \u001b[33m\"\u001b[39m\u001b[33mhttps\u001b[39m\u001b[33m\"\u001b[39m}\n\u001b[32m    208\u001b[39m         \u001b[38;5;129;01mand\u001b[39;00m \u001b[38;5;129;01mnot\u001b[39;00m (download_config.storage_options \u001b[38;5;129;01mand\u001b[39;00m download_config.storage_options.keys() < {\u001b[33m\"\u001b[39m\u001b[33mhttp\u001b[39m\u001b[33m\"\u001b[39m, \u001b[33m\"\u001b[39m\u001b[33mhttps\u001b[39m\u001b[33m\"\u001b[39m})\n\u001b[32m    209\u001b[39m     ):\n\u001b[32m    210\u001b[39m         storage_options = {}\n\u001b[32m--> \u001b[39m\u001b[32m211\u001b[39m     output_path = \u001b[43mget_from_cache\u001b[49m\u001b[43m(\u001b[49m\n\u001b[32m    212\u001b[39m \u001b[43m        \u001b[49m\u001b[43murl_or_filename\u001b[49m\u001b[43m,\u001b[49m\n\u001b[32m    213\u001b[39m \u001b[43m        \u001b[49m\u001b[43mcache_dir\u001b[49m\u001b[43m=\u001b[49m\u001b[43mcache_dir\u001b[49m\u001b[43m,\u001b[49m\n\u001b[32m    214\u001b[39m \u001b[43m        \u001b[49m\u001b[43mforce_download\u001b[49m\u001b[43m=\u001b[49m\u001b[43mdownload_config\u001b[49m\u001b[43m.\u001b[49m\u001b[43mforce_download\u001b[49m\u001b[43m,\u001b[49m\n\u001b[32m    215\u001b[39m \u001b[43m        \u001b[49m\u001b[43mproxies\u001b[49m\u001b[43m=\u001b[49m\u001b[43mdownload_config\u001b[49m\u001b[43m.\u001b[49m\u001b[43mproxies\u001b[49m\u001b[43m,\u001b[49m\n\u001b[32m    216\u001b[39m \u001b[43m        \u001b[49m\u001b[43mresume_download\u001b[49m\u001b[43m=\u001b[49m\u001b[43mdownload_config\u001b[49m\u001b[43m.\u001b[49m\u001b[43mresume_download\u001b[49m\u001b[43m,\u001b[49m\n\u001b[32m    217\u001b[39m \u001b[43m        \u001b[49m\u001b[43muser_agent\u001b[49m\u001b[43m=\u001b[49m\u001b[43mdownload_config\u001b[49m\u001b[43m.\u001b[49m\u001b[43muser_agent\u001b[49m\u001b[43m,\u001b[49m\n\u001b[32m    218\u001b[39m \u001b[43m        \u001b[49m\u001b[43mlocal_files_only\u001b[49m\u001b[43m=\u001b[49m\u001b[43mdownload_config\u001b[49m\u001b[43m.\u001b[49m\u001b[43mlocal_files_only\u001b[49m\u001b[43m,\u001b[49m\n\u001b[32m    219\u001b[39m \u001b[43m        \u001b[49m\u001b[43muse_etag\u001b[49m\u001b[43m=\u001b[49m\u001b[43mdownload_config\u001b[49m\u001b[43m.\u001b[49m\u001b[43muse_etag\u001b[49m\u001b[43m,\u001b[49m\n\u001b[32m    220\u001b[39m \u001b[43m        \u001b[49m\u001b[43mmax_retries\u001b[49m\u001b[43m=\u001b[49m\u001b[43mdownload_config\u001b[49m\u001b[43m.\u001b[49m\u001b[43mmax_retries\u001b[49m\u001b[43m,\u001b[49m\n\u001b[32m    221\u001b[39m \u001b[43m        \u001b[49m\u001b[43mtoken\u001b[49m\u001b[43m=\u001b[49m\u001b[43mdownload_config\u001b[49m\u001b[43m.\u001b[49m\u001b[43mtoken\u001b[49m\u001b[43m,\u001b[49m\n\u001b[32m    222\u001b[39m \u001b[43m        \u001b[49m\u001b[43mignore_url_params\u001b[49m\u001b[43m=\u001b[49m\u001b[43mdownload_config\u001b[49m\u001b[43m.\u001b[49m\u001b[43mignore_url_params\u001b[49m\u001b[43m,\u001b[49m\n\u001b[32m    223\u001b[39m \u001b[43m        \u001b[49m\u001b[43mstorage_options\u001b[49m\u001b[43m=\u001b[49m\u001b[43mstorage_options\u001b[49m\u001b[43m,\u001b[49m\n\u001b[32m    224\u001b[39m \u001b[43m        \u001b[49m\u001b[43mdownload_desc\u001b[49m\u001b[43m=\u001b[49m\u001b[43mdownload_config\u001b[49m\u001b[43m.\u001b[49m\u001b[43mdownload_desc\u001b[49m\u001b[43m,\u001b[49m\n\u001b[32m    225\u001b[39m \u001b[43m        \u001b[49m\u001b[43mdisable_tqdm\u001b[49m\u001b[43m=\u001b[49m\u001b[43mdownload_config\u001b[49m\u001b[43m.\u001b[49m\u001b[43mdisable_tqdm\u001b[49m\u001b[43m,\u001b[49m\n\u001b[32m    226\u001b[39m \u001b[43m    \u001b[49m\u001b[43m)\u001b[49m\n\u001b[32m    227\u001b[39m \u001b[38;5;28;01melif\u001b[39;00m os.path.exists(url_or_filename):\n\u001b[32m    228\u001b[39m     \u001b[38;5;66;03m# File, and it exists.\u001b[39;00m\n\u001b[32m    229\u001b[39m     output_path = url_or_filename\n",
      "\u001b[36mFile \u001b[39m\u001b[32mc:\\Users\\Trieu\\AppData\\Local\\pypoetry\\Cache\\virtualenvs\\hm-scalablerecs-QHnDFvap-py3.11\\Lib\\site-packages\\datasets\\utils\\file_utils.py:689\u001b[39m, in \u001b[36mget_from_cache\u001b[39m\u001b[34m(url, cache_dir, force_download, proxies, etag_timeout, resume_download, user_agent, local_files_only, use_etag, max_retries, token, use_auth_token, ignore_url_params, storage_options, download_desc, disable_tqdm)\u001b[39m\n\u001b[32m    687\u001b[39m     ftp_get(url, temp_file)\n\u001b[32m    688\u001b[39m \u001b[38;5;28;01melif\u001b[39;00m scheme \u001b[38;5;129;01mnot\u001b[39;00m \u001b[38;5;129;01min\u001b[39;00m {\u001b[33m\"\u001b[39m\u001b[33mhttp\u001b[39m\u001b[33m\"\u001b[39m, \u001b[33m\"\u001b[39m\u001b[33mhttps\u001b[39m\u001b[33m\"\u001b[39m} \u001b[38;5;129;01mor\u001b[39;00m storage_options.get(scheme):\n\u001b[32m--> \u001b[39m\u001b[32m689\u001b[39m     \u001b[43mfsspec_get\u001b[49m\u001b[43m(\u001b[49m\n\u001b[32m    690\u001b[39m \u001b[43m        \u001b[49m\u001b[43murl\u001b[49m\u001b[43m,\u001b[49m\u001b[43m \u001b[49m\u001b[43mtemp_file\u001b[49m\u001b[43m,\u001b[49m\u001b[43m \u001b[49m\u001b[43mstorage_options\u001b[49m\u001b[43m=\u001b[49m\u001b[43mstorage_options\u001b[49m\u001b[43m,\u001b[49m\u001b[43m \u001b[49m\u001b[43mdesc\u001b[49m\u001b[43m=\u001b[49m\u001b[43mdownload_desc\u001b[49m\u001b[43m,\u001b[49m\u001b[43m \u001b[49m\u001b[43mdisable_tqdm\u001b[49m\u001b[43m=\u001b[49m\u001b[43mdisable_tqdm\u001b[49m\n\u001b[32m    691\u001b[39m \u001b[43m    \u001b[49m\u001b[43m)\u001b[49m\n\u001b[32m    692\u001b[39m \u001b[38;5;28;01melse\u001b[39;00m:\n\u001b[32m    693\u001b[39m     http_get(\n\u001b[32m    694\u001b[39m         url,\n\u001b[32m    695\u001b[39m         temp_file=temp_file,\n\u001b[32m   (...)\u001b[39m\u001b[32m    702\u001b[39m         disable_tqdm=disable_tqdm,\n\u001b[32m    703\u001b[39m     )\n",
      "\u001b[36mFile \u001b[39m\u001b[32mc:\\Users\\Trieu\\AppData\\Local\\pypoetry\\Cache\\virtualenvs\\hm-scalablerecs-QHnDFvap-py3.11\\Lib\\site-packages\\datasets\\utils\\file_utils.py:395\u001b[39m, in \u001b[36mfsspec_get\u001b[39m\u001b[34m(url, temp_file, storage_options, desc, disable_tqdm)\u001b[39m\n\u001b[32m    382\u001b[39m fs, path = url_to_fs(url, **(storage_options \u001b[38;5;129;01mor\u001b[39;00m {}))\n\u001b[32m    383\u001b[39m callback = TqdmCallback(\n\u001b[32m    384\u001b[39m     tqdm_kwargs={\n\u001b[32m    385\u001b[39m         \u001b[33m\"\u001b[39m\u001b[33mdesc\u001b[39m\u001b[33m\"\u001b[39m: desc \u001b[38;5;129;01mor\u001b[39;00m \u001b[33m\"\u001b[39m\u001b[33mDownloading\u001b[39m\u001b[33m\"\u001b[39m,\n\u001b[32m   (...)\u001b[39m\u001b[32m    393\u001b[39m     }\n\u001b[32m    394\u001b[39m )\n\u001b[32m--> \u001b[39m\u001b[32m395\u001b[39m \u001b[43mfs\u001b[49m\u001b[43m.\u001b[49m\u001b[43mget_file\u001b[49m\u001b[43m(\u001b[49m\u001b[43mpath\u001b[49m\u001b[43m,\u001b[49m\u001b[43m \u001b[49m\u001b[43mtemp_file\u001b[49m\u001b[43m.\u001b[49m\u001b[43mname\u001b[49m\u001b[43m,\u001b[49m\u001b[43m \u001b[49m\u001b[43mcallback\u001b[49m\u001b[43m=\u001b[49m\u001b[43mcallback\u001b[49m\u001b[43m)\u001b[49m\n",
      "\u001b[36mFile \u001b[39m\u001b[32mc:\\Users\\Trieu\\AppData\\Local\\pypoetry\\Cache\\virtualenvs\\hm-scalablerecs-QHnDFvap-py3.11\\Lib\\site-packages\\huggingface_hub\\hf_file_system.py:896\u001b[39m, in \u001b[36mHfFileSystem.get_file\u001b[39m\u001b[34m(self, rpath, lpath, callback, outfile, **kwargs)\u001b[39m\n\u001b[32m    894\u001b[39m callback.set_size(expected_size)\n\u001b[32m    895\u001b[39m \u001b[38;5;28;01mtry\u001b[39;00m:\n\u001b[32m--> \u001b[39m\u001b[32m896\u001b[39m     \u001b[43mhttp_get\u001b[49m\u001b[43m(\u001b[49m\n\u001b[32m    897\u001b[39m \u001b[43m        \u001b[49m\u001b[43murl\u001b[49m\u001b[43m=\u001b[49m\u001b[43mhf_hub_url\u001b[49m\u001b[43m(\u001b[49m\n\u001b[32m    898\u001b[39m \u001b[43m            \u001b[49m\u001b[43mrepo_id\u001b[49m\u001b[43m=\u001b[49m\u001b[43mresolve_remote_path\u001b[49m\u001b[43m.\u001b[49m\u001b[43mrepo_id\u001b[49m\u001b[43m,\u001b[49m\n\u001b[32m    899\u001b[39m \u001b[43m            \u001b[49m\u001b[43mrevision\u001b[49m\u001b[43m=\u001b[49m\u001b[43mresolve_remote_path\u001b[49m\u001b[43m.\u001b[49m\u001b[43mrevision\u001b[49m\u001b[43m,\u001b[49m\n\u001b[32m    900\u001b[39m \u001b[43m            \u001b[49m\u001b[43mfilename\u001b[49m\u001b[43m=\u001b[49m\u001b[43mresolve_remote_path\u001b[49m\u001b[43m.\u001b[49m\u001b[43mpath_in_repo\u001b[49m\u001b[43m,\u001b[49m\n\u001b[32m    901\u001b[39m \u001b[43m            \u001b[49m\u001b[43mrepo_type\u001b[49m\u001b[43m=\u001b[49m\u001b[43mresolve_remote_path\u001b[49m\u001b[43m.\u001b[49m\u001b[43mrepo_type\u001b[49m\u001b[43m,\u001b[49m\n\u001b[32m    902\u001b[39m \u001b[43m            \u001b[49m\u001b[43mendpoint\u001b[49m\u001b[43m=\u001b[49m\u001b[38;5;28;43mself\u001b[39;49m\u001b[43m.\u001b[49m\u001b[43mendpoint\u001b[49m\u001b[43m,\u001b[49m\n\u001b[32m    903\u001b[39m \u001b[43m        \u001b[49m\u001b[43m)\u001b[49m\u001b[43m,\u001b[49m\n\u001b[32m    904\u001b[39m \u001b[43m        \u001b[49m\u001b[43mtemp_file\u001b[49m\u001b[43m=\u001b[49m\u001b[43moutfile\u001b[49m\u001b[43m,\u001b[49m\n\u001b[32m    905\u001b[39m \u001b[43m        \u001b[49m\u001b[43mdisplayed_filename\u001b[49m\u001b[43m=\u001b[49m\u001b[43mrpath\u001b[49m\u001b[43m,\u001b[49m\n\u001b[32m    906\u001b[39m \u001b[43m        \u001b[49m\u001b[43mexpected_size\u001b[49m\u001b[43m=\u001b[49m\u001b[43mexpected_size\u001b[49m\u001b[43m,\u001b[49m\n\u001b[32m    907\u001b[39m \u001b[43m        \u001b[49m\u001b[43mresume_size\u001b[49m\u001b[43m=\u001b[49m\u001b[32;43m0\u001b[39;49m\u001b[43m,\u001b[49m\n\u001b[32m    908\u001b[39m \u001b[43m        \u001b[49m\u001b[43mheaders\u001b[49m\u001b[43m=\u001b[49m\u001b[38;5;28;43mself\u001b[39;49m\u001b[43m.\u001b[49m\u001b[43m_api\u001b[49m\u001b[43m.\u001b[49m\u001b[43m_build_hf_headers\u001b[49m\u001b[43m(\u001b[49m\u001b[43m)\u001b[49m\u001b[43m,\u001b[49m\n\u001b[32m    909\u001b[39m \u001b[43m        \u001b[49m\u001b[43m_tqdm_bar\u001b[49m\u001b[43m=\u001b[49m\u001b[43mcallback\u001b[49m\u001b[43m.\u001b[49m\u001b[43mtqdm\u001b[49m\u001b[43m \u001b[49m\u001b[38;5;28;43;01mif\u001b[39;49;00m\u001b[43m \u001b[49m\u001b[38;5;28;43misinstance\u001b[39;49m\u001b[43m(\u001b[49m\u001b[43mcallback\u001b[49m\u001b[43m,\u001b[49m\u001b[43m \u001b[49m\u001b[43mTqdmCallback\u001b[49m\u001b[43m)\u001b[49m\u001b[43m \u001b[49m\u001b[38;5;28;43;01melse\u001b[39;49;00m\u001b[43m \u001b[49m\u001b[38;5;28;43;01mNone\u001b[39;49;00m\u001b[43m,\u001b[49m\n\u001b[32m    910\u001b[39m \u001b[43m    \u001b[49m\u001b[43m)\u001b[49m\n\u001b[32m    911\u001b[39m     outfile.seek(initial_pos)\n\u001b[32m    912\u001b[39m \u001b[38;5;28;01mfinally\u001b[39;00m:\n\u001b[32m    913\u001b[39m     \u001b[38;5;66;03m# Close file only if we opened it ourselves\u001b[39;00m\n",
      "\u001b[36mFile \u001b[39m\u001b[32mc:\\Users\\Trieu\\AppData\\Local\\pypoetry\\Cache\\virtualenvs\\hm-scalablerecs-QHnDFvap-py3.11\\Lib\\site-packages\\huggingface_hub\\file_download.py:494\u001b[39m, in \u001b[36mhttp_get\u001b[39m\u001b[34m(url, temp_file, proxies, resume_size, headers, expected_size, displayed_filename, _nb_retries, _tqdm_bar)\u001b[39m\n\u001b[32m    492\u001b[39m new_resume_size = resume_size\n\u001b[32m    493\u001b[39m \u001b[38;5;28;01mtry\u001b[39;00m:\n\u001b[32m--> \u001b[39m\u001b[32m494\u001b[39m \u001b[43m    \u001b[49m\u001b[38;5;28;43;01mfor\u001b[39;49;00m\u001b[43m \u001b[49m\u001b[43mchunk\u001b[49m\u001b[43m \u001b[49m\u001b[38;5;129;43;01min\u001b[39;49;00m\u001b[43m \u001b[49m\u001b[43mr\u001b[49m\u001b[43m.\u001b[49m\u001b[43miter_content\u001b[49m\u001b[43m(\u001b[49m\u001b[43mchunk_size\u001b[49m\u001b[43m=\u001b[49m\u001b[43mconstants\u001b[49m\u001b[43m.\u001b[49m\u001b[43mDOWNLOAD_CHUNK_SIZE\u001b[49m\u001b[43m)\u001b[49m\u001b[43m:\u001b[49m\n\u001b[32m    495\u001b[39m \u001b[43m        \u001b[49m\u001b[38;5;28;43;01mif\u001b[39;49;00m\u001b[43m \u001b[49m\u001b[43mchunk\u001b[49m\u001b[43m:\u001b[49m\u001b[43m  \u001b[49m\u001b[38;5;66;43;03m# filter out keep-alive new chunks\u001b[39;49;00m\n\u001b[32m    496\u001b[39m \u001b[43m            \u001b[49m\u001b[43mprogress\u001b[49m\u001b[43m.\u001b[49m\u001b[43mupdate\u001b[49m\u001b[43m(\u001b[49m\u001b[38;5;28;43mlen\u001b[39;49m\u001b[43m(\u001b[49m\u001b[43mchunk\u001b[49m\u001b[43m)\u001b[49m\u001b[43m)\u001b[49m\n",
      "\u001b[36mFile \u001b[39m\u001b[32mc:\\Users\\Trieu\\AppData\\Local\\pypoetry\\Cache\\virtualenvs\\hm-scalablerecs-QHnDFvap-py3.11\\Lib\\site-packages\\requests\\models.py:820\u001b[39m, in \u001b[36mResponse.iter_content.<locals>.generate\u001b[39m\u001b[34m()\u001b[39m\n\u001b[32m    818\u001b[39m \u001b[38;5;28;01mif\u001b[39;00m \u001b[38;5;28mhasattr\u001b[39m(\u001b[38;5;28mself\u001b[39m.raw, \u001b[33m\"\u001b[39m\u001b[33mstream\u001b[39m\u001b[33m\"\u001b[39m):\n\u001b[32m    819\u001b[39m     \u001b[38;5;28;01mtry\u001b[39;00m:\n\u001b[32m--> \u001b[39m\u001b[32m820\u001b[39m         \u001b[38;5;28;01myield from\u001b[39;00m \u001b[38;5;28mself\u001b[39m.raw.stream(chunk_size, decode_content=\u001b[38;5;28;01mTrue\u001b[39;00m)\n\u001b[32m    821\u001b[39m     \u001b[38;5;28;01mexcept\u001b[39;00m ProtocolError \u001b[38;5;28;01mas\u001b[39;00m e:\n\u001b[32m    822\u001b[39m         \u001b[38;5;28;01mraise\u001b[39;00m ChunkedEncodingError(e)\n",
      "\u001b[36mFile \u001b[39m\u001b[32mc:\\Users\\Trieu\\AppData\\Local\\pypoetry\\Cache\\virtualenvs\\hm-scalablerecs-QHnDFvap-py3.11\\Lib\\site-packages\\urllib3\\response.py:1066\u001b[39m, in \u001b[36mHTTPResponse.stream\u001b[39m\u001b[34m(self, amt, decode_content)\u001b[39m\n\u001b[32m   1064\u001b[39m \u001b[38;5;28;01melse\u001b[39;00m:\n\u001b[32m   1065\u001b[39m     \u001b[38;5;28;01mwhile\u001b[39;00m \u001b[38;5;129;01mnot\u001b[39;00m is_fp_closed(\u001b[38;5;28mself\u001b[39m._fp) \u001b[38;5;129;01mor\u001b[39;00m \u001b[38;5;28mlen\u001b[39m(\u001b[38;5;28mself\u001b[39m._decoded_buffer) > \u001b[32m0\u001b[39m:\n\u001b[32m-> \u001b[39m\u001b[32m1066\u001b[39m         data = \u001b[38;5;28;43mself\u001b[39;49m\u001b[43m.\u001b[49m\u001b[43mread\u001b[49m\u001b[43m(\u001b[49m\u001b[43mamt\u001b[49m\u001b[43m=\u001b[49m\u001b[43mamt\u001b[49m\u001b[43m,\u001b[49m\u001b[43m \u001b[49m\u001b[43mdecode_content\u001b[49m\u001b[43m=\u001b[49m\u001b[43mdecode_content\u001b[49m\u001b[43m)\u001b[49m\n\u001b[32m   1068\u001b[39m         \u001b[38;5;28;01mif\u001b[39;00m data:\n\u001b[32m   1069\u001b[39m             \u001b[38;5;28;01myield\u001b[39;00m data\n",
      "\u001b[36mFile \u001b[39m\u001b[32mc:\\Users\\Trieu\\AppData\\Local\\pypoetry\\Cache\\virtualenvs\\hm-scalablerecs-QHnDFvap-py3.11\\Lib\\site-packages\\urllib3\\response.py:955\u001b[39m, in \u001b[36mHTTPResponse.read\u001b[39m\u001b[34m(self, amt, decode_content, cache_content)\u001b[39m\n\u001b[32m    952\u001b[39m     \u001b[38;5;28;01mif\u001b[39;00m \u001b[38;5;28mlen\u001b[39m(\u001b[38;5;28mself\u001b[39m._decoded_buffer) >= amt:\n\u001b[32m    953\u001b[39m         \u001b[38;5;28;01mreturn\u001b[39;00m \u001b[38;5;28mself\u001b[39m._decoded_buffer.get(amt)\n\u001b[32m--> \u001b[39m\u001b[32m955\u001b[39m data = \u001b[38;5;28;43mself\u001b[39;49m\u001b[43m.\u001b[49m\u001b[43m_raw_read\u001b[49m\u001b[43m(\u001b[49m\u001b[43mamt\u001b[49m\u001b[43m)\u001b[49m\n\u001b[32m    957\u001b[39m flush_decoder = amt \u001b[38;5;129;01mis\u001b[39;00m \u001b[38;5;28;01mNone\u001b[39;00m \u001b[38;5;129;01mor\u001b[39;00m (amt != \u001b[32m0\u001b[39m \u001b[38;5;129;01mand\u001b[39;00m \u001b[38;5;129;01mnot\u001b[39;00m data)\n\u001b[32m    959\u001b[39m \u001b[38;5;28;01mif\u001b[39;00m \u001b[38;5;129;01mnot\u001b[39;00m data \u001b[38;5;129;01mand\u001b[39;00m \u001b[38;5;28mlen\u001b[39m(\u001b[38;5;28mself\u001b[39m._decoded_buffer) == \u001b[32m0\u001b[39m:\n",
      "\u001b[36mFile \u001b[39m\u001b[32mc:\\Users\\Trieu\\AppData\\Local\\pypoetry\\Cache\\virtualenvs\\hm-scalablerecs-QHnDFvap-py3.11\\Lib\\site-packages\\urllib3\\response.py:879\u001b[39m, in \u001b[36mHTTPResponse._raw_read\u001b[39m\u001b[34m(self, amt, read1)\u001b[39m\n\u001b[32m    876\u001b[39m fp_closed = \u001b[38;5;28mgetattr\u001b[39m(\u001b[38;5;28mself\u001b[39m._fp, \u001b[33m\"\u001b[39m\u001b[33mclosed\u001b[39m\u001b[33m\"\u001b[39m, \u001b[38;5;28;01mFalse\u001b[39;00m)\n\u001b[32m    878\u001b[39m \u001b[38;5;28;01mwith\u001b[39;00m \u001b[38;5;28mself\u001b[39m._error_catcher():\n\u001b[32m--> \u001b[39m\u001b[32m879\u001b[39m     data = \u001b[38;5;28;43mself\u001b[39;49m\u001b[43m.\u001b[49m\u001b[43m_fp_read\u001b[49m\u001b[43m(\u001b[49m\u001b[43mamt\u001b[49m\u001b[43m,\u001b[49m\u001b[43m \u001b[49m\u001b[43mread1\u001b[49m\u001b[43m=\u001b[49m\u001b[43mread1\u001b[49m\u001b[43m)\u001b[49m \u001b[38;5;28;01mif\u001b[39;00m \u001b[38;5;129;01mnot\u001b[39;00m fp_closed \u001b[38;5;28;01melse\u001b[39;00m \u001b[33mb\u001b[39m\u001b[33m\"\u001b[39m\u001b[33m\"\u001b[39m\n\u001b[32m    880\u001b[39m     \u001b[38;5;28;01mif\u001b[39;00m amt \u001b[38;5;129;01mis\u001b[39;00m \u001b[38;5;129;01mnot\u001b[39;00m \u001b[38;5;28;01mNone\u001b[39;00m \u001b[38;5;129;01mand\u001b[39;00m amt != \u001b[32m0\u001b[39m \u001b[38;5;129;01mand\u001b[39;00m \u001b[38;5;129;01mnot\u001b[39;00m data:\n\u001b[32m    881\u001b[39m         \u001b[38;5;66;03m# Platform-specific: Buggy versions of Python.\u001b[39;00m\n\u001b[32m    882\u001b[39m         \u001b[38;5;66;03m# Close the connection when no data is returned\u001b[39;00m\n\u001b[32m   (...)\u001b[39m\u001b[32m    887\u001b[39m         \u001b[38;5;66;03m# not properly close the connection in all cases. There is\u001b[39;00m\n\u001b[32m    888\u001b[39m         \u001b[38;5;66;03m# no harm in redundantly calling close.\u001b[39;00m\n\u001b[32m    889\u001b[39m         \u001b[38;5;28mself\u001b[39m._fp.close()\n",
      "\u001b[36mFile \u001b[39m\u001b[32mc:\\Users\\Trieu\\AppData\\Local\\pypoetry\\Cache\\virtualenvs\\hm-scalablerecs-QHnDFvap-py3.11\\Lib\\site-packages\\urllib3\\response.py:862\u001b[39m, in \u001b[36mHTTPResponse._fp_read\u001b[39m\u001b[34m(self, amt, read1)\u001b[39m\n\u001b[32m    859\u001b[39m     \u001b[38;5;28;01mreturn\u001b[39;00m \u001b[38;5;28mself\u001b[39m._fp.read1(amt) \u001b[38;5;28;01mif\u001b[39;00m amt \u001b[38;5;129;01mis\u001b[39;00m \u001b[38;5;129;01mnot\u001b[39;00m \u001b[38;5;28;01mNone\u001b[39;00m \u001b[38;5;28;01melse\u001b[39;00m \u001b[38;5;28mself\u001b[39m._fp.read1()\n\u001b[32m    860\u001b[39m \u001b[38;5;28;01melse\u001b[39;00m:\n\u001b[32m    861\u001b[39m     \u001b[38;5;66;03m# StringIO doesn't like amt=None\u001b[39;00m\n\u001b[32m--> \u001b[39m\u001b[32m862\u001b[39m     \u001b[38;5;28;01mreturn\u001b[39;00m \u001b[38;5;28;43mself\u001b[39;49m\u001b[43m.\u001b[49m\u001b[43m_fp\u001b[49m\u001b[43m.\u001b[49m\u001b[43mread\u001b[49m\u001b[43m(\u001b[49m\u001b[43mamt\u001b[49m\u001b[43m)\u001b[49m \u001b[38;5;28;01mif\u001b[39;00m amt \u001b[38;5;129;01mis\u001b[39;00m \u001b[38;5;129;01mnot\u001b[39;00m \u001b[38;5;28;01mNone\u001b[39;00m \u001b[38;5;28;01melse\u001b[39;00m \u001b[38;5;28mself\u001b[39m._fp.read()\n",
      "\u001b[36mFile \u001b[39m\u001b[32m~\\miniconda3\\envs\\resys\\Lib\\http\\client.py:473\u001b[39m, in \u001b[36mHTTPResponse.read\u001b[39m\u001b[34m(self, amt)\u001b[39m\n\u001b[32m    470\u001b[39m \u001b[38;5;28;01mif\u001b[39;00m \u001b[38;5;28mself\u001b[39m.length \u001b[38;5;129;01mis\u001b[39;00m \u001b[38;5;129;01mnot\u001b[39;00m \u001b[38;5;28;01mNone\u001b[39;00m \u001b[38;5;129;01mand\u001b[39;00m amt > \u001b[38;5;28mself\u001b[39m.length:\n\u001b[32m    471\u001b[39m     \u001b[38;5;66;03m# clip the read to the \"end of response\"\u001b[39;00m\n\u001b[32m    472\u001b[39m     amt = \u001b[38;5;28mself\u001b[39m.length\n\u001b[32m--> \u001b[39m\u001b[32m473\u001b[39m s = \u001b[38;5;28mself\u001b[39m.fp.read(amt)\n\u001b[32m    474\u001b[39m \u001b[38;5;28;01mif\u001b[39;00m \u001b[38;5;129;01mnot\u001b[39;00m s \u001b[38;5;129;01mand\u001b[39;00m amt:\n\u001b[32m    475\u001b[39m     \u001b[38;5;66;03m# Ideally, we would raise IncompleteRead if the content-length\u001b[39;00m\n\u001b[32m    476\u001b[39m     \u001b[38;5;66;03m# wasn't satisfied, but it might break compatibility.\u001b[39;00m\n\u001b[32m    477\u001b[39m     \u001b[38;5;28mself\u001b[39m._close_conn()\n",
      "\u001b[36mFile \u001b[39m\u001b[32m~\\miniconda3\\envs\\resys\\Lib\\socket.py:706\u001b[39m, in \u001b[36mSocketIO.readinto\u001b[39m\u001b[34m(self, b)\u001b[39m\n\u001b[32m    704\u001b[39m \u001b[38;5;28;01mwhile\u001b[39;00m \u001b[38;5;28;01mTrue\u001b[39;00m:\n\u001b[32m    705\u001b[39m     \u001b[38;5;28;01mtry\u001b[39;00m:\n\u001b[32m--> \u001b[39m\u001b[32m706\u001b[39m         \u001b[38;5;28;01mreturn\u001b[39;00m \u001b[38;5;28;43mself\u001b[39;49m\u001b[43m.\u001b[49m\u001b[43m_sock\u001b[49m\u001b[43m.\u001b[49m\u001b[43mrecv_into\u001b[49m\u001b[43m(\u001b[49m\u001b[43mb\u001b[49m\u001b[43m)\u001b[49m\n\u001b[32m    707\u001b[39m     \u001b[38;5;28;01mexcept\u001b[39;00m timeout:\n\u001b[32m    708\u001b[39m         \u001b[38;5;28mself\u001b[39m._timeout_occurred = \u001b[38;5;28;01mTrue\u001b[39;00m\n",
      "\u001b[36mFile \u001b[39m\u001b[32m~\\miniconda3\\envs\\resys\\Lib\\ssl.py:1314\u001b[39m, in \u001b[36mSSLSocket.recv_into\u001b[39m\u001b[34m(self, buffer, nbytes, flags)\u001b[39m\n\u001b[32m   1310\u001b[39m     \u001b[38;5;28;01mif\u001b[39;00m flags != \u001b[32m0\u001b[39m:\n\u001b[32m   1311\u001b[39m         \u001b[38;5;28;01mraise\u001b[39;00m \u001b[38;5;167;01mValueError\u001b[39;00m(\n\u001b[32m   1312\u001b[39m           \u001b[33m\"\u001b[39m\u001b[33mnon-zero flags not allowed in calls to recv_into() on \u001b[39m\u001b[38;5;132;01m%s\u001b[39;00m\u001b[33m\"\u001b[39m %\n\u001b[32m   1313\u001b[39m           \u001b[38;5;28mself\u001b[39m.\u001b[34m__class__\u001b[39m)\n\u001b[32m-> \u001b[39m\u001b[32m1314\u001b[39m     \u001b[38;5;28;01mreturn\u001b[39;00m \u001b[38;5;28;43mself\u001b[39;49m\u001b[43m.\u001b[49m\u001b[43mread\u001b[49m\u001b[43m(\u001b[49m\u001b[43mnbytes\u001b[49m\u001b[43m,\u001b[49m\u001b[43m \u001b[49m\u001b[43mbuffer\u001b[49m\u001b[43m)\u001b[49m\n\u001b[32m   1315\u001b[39m \u001b[38;5;28;01melse\u001b[39;00m:\n\u001b[32m   1316\u001b[39m     \u001b[38;5;28;01mreturn\u001b[39;00m \u001b[38;5;28msuper\u001b[39m().recv_into(buffer, nbytes, flags)\n",
      "\u001b[36mFile \u001b[39m\u001b[32m~\\miniconda3\\envs\\resys\\Lib\\ssl.py:1166\u001b[39m, in \u001b[36mSSLSocket.read\u001b[39m\u001b[34m(self, len, buffer)\u001b[39m\n\u001b[32m   1164\u001b[39m \u001b[38;5;28;01mtry\u001b[39;00m:\n\u001b[32m   1165\u001b[39m     \u001b[38;5;28;01mif\u001b[39;00m buffer \u001b[38;5;129;01mis\u001b[39;00m \u001b[38;5;129;01mnot\u001b[39;00m \u001b[38;5;28;01mNone\u001b[39;00m:\n\u001b[32m-> \u001b[39m\u001b[32m1166\u001b[39m         \u001b[38;5;28;01mreturn\u001b[39;00m \u001b[38;5;28;43mself\u001b[39;49m\u001b[43m.\u001b[49m\u001b[43m_sslobj\u001b[49m\u001b[43m.\u001b[49m\u001b[43mread\u001b[49m\u001b[43m(\u001b[49m\u001b[38;5;28;43mlen\u001b[39;49m\u001b[43m,\u001b[49m\u001b[43m \u001b[49m\u001b[43mbuffer\u001b[49m\u001b[43m)\u001b[49m\n\u001b[32m   1167\u001b[39m     \u001b[38;5;28;01melse\u001b[39;00m:\n\u001b[32m   1168\u001b[39m         \u001b[38;5;28;01mreturn\u001b[39;00m \u001b[38;5;28mself\u001b[39m._sslobj.read(\u001b[38;5;28mlen\u001b[39m)\n",
      "\u001b[31mKeyboardInterrupt\u001b[39m: "
     ]
    }
   ],
   "source": [
    "metadata_raw = load_dataset(\n",
    "    \"McAuley-Lab/Amazon-Reviews-2023\", \"raw_meta_Electronics\", trust_remote_code=True\n",
    ")\n",
    "metadata_raw_df = metadata_raw[\"full\"].to_pandas()\n",
    "metadata_raw_df"
   ]
  },
  {
   "cell_type": "code",
   "execution_count": null,
   "id": "39a6e28c",
   "metadata": {},
   "outputs": [
    {
     "data": {
      "text/html": [
       "<div>\n",
       "<style scoped>\n",
       "    .dataframe tbody tr th:only-of-type {\n",
       "        vertical-align: middle;\n",
       "    }\n",
       "\n",
       "    .dataframe tbody tr th {\n",
       "        vertical-align: top;\n",
       "    }\n",
       "\n",
       "    .dataframe thead th {\n",
       "        text-align: right;\n",
       "    }\n",
       "</style>\n",
       "<table border=\"1\" class=\"dataframe\">\n",
       "  <thead>\n",
       "    <tr style=\"text-align: right;\">\n",
       "      <th></th>\n",
       "      <th>title</th>\n",
       "      <th>main_category</th>\n",
       "      <th>categories</th>\n",
       "      <th>features</th>\n",
       "      <th>description</th>\n",
       "      <th>store</th>\n",
       "      <th>details</th>\n",
       "    </tr>\n",
       "  </thead>\n",
       "  <tbody>\n",
       "    <tr>\n",
       "      <th>6</th>\n",
       "      <td>QGHXO Band for Garmin Vivofit 4, Soft Silicone Replacement Watch Band Strap for Garmin Vivofit 4 Activity Tracker, Small, Large, Ten Colors (5PCS Bands-Girl, Large)</td>\n",
       "      <td>Cell Phones &amp; Accessories</td>\n",
       "      <td>[Electronics, Wearable Technology, Arm &amp; Wristband Accessories]</td>\n",
       "      <td>[Personalized Your Garmin Vivofit 4 Activity Tracker with this refined replacement wrist band, Small fits wrists with a circumference of 122-188mm. Large fits wrists with a circumference of 148-215mm, Easy and direct installation and removal. Replacement Bands Only! Garmin device NOT included, Garmin Vivofit 4 Buckle Bracelet. Never lose your Garmin Vivofit 4. Fix the tracker fall off problem, Soft silicone with smooth finish for a sporty look, metal parts made with high quality stainless steel]</td>\n",
       "      <td>[Compatibility, Custom designed for your precious, Garmin Vivofit 4, Activity Tracker, this Garmin Watch Sport Band features a combination of functionality and style. Fit for, Garmin Vivofit 4, Activity Tracker ONLY. NOT for Garmin Vivofit 1/Garmin Vivofit 2/Garmin Vivofit 3., Feature, Material: Silicone. NOTE: Replacement Bands Only! Small fits wrists with a circumference of 122-188mm.  Large fits wrists with a circumference of 148-215mm. Models for selection: For Garmin Vivofit 4 Activity Tracker Only. Contracted design style, with you life contracted and not simple., Package Included, Soft Silicone Replacement Watch Band Strap for Garmin Vivofit 4 Activity Tracker (No Tracker)]</td>\n",
       "      <td>QGHXO</td>\n",
       "      <td>{\"Package Dimensions\": \"6.85 x 4.37 x 1.1 inches\", \"Item Weight\": \"2.64 ounces\", \"Item model number\": \"GM-VF4-L14GIRL\", \"Best Sellers Rank\": {\"Electronics\": 317736, \"Smart Arm &amp; Wristband Accessories\": 12926}, \"Is Discontinued By Manufacturer\": \"No\", \"Special features\": \"activity tracker\", \"Other display features\": \"Sports\", \"Color\": \"5PCS Bands-Girl\", \"Manufacturer\": \"QGHXO\", \"Date First Available\": \"March 17, 2018\"}</td>\n",
       "    </tr>\n",
       "  </tbody>\n",
       "</table>\n",
       "</div>"
      ],
      "text/plain": [
       "                                                                                                                                                                  title  \\\n",
       "6  QGHXO Band for Garmin Vivofit 4, Soft Silicone Replacement Watch Band Strap for Garmin Vivofit 4 Activity Tracker, Small, Large, Ten Colors (5PCS Bands-Girl, Large)   \n",
       "\n",
       "               main_category  \\\n",
       "6  Cell Phones & Accessories   \n",
       "\n",
       "                                                        categories  \\\n",
       "6  [Electronics, Wearable Technology, Arm & Wristband Accessories]   \n",
       "\n",
       "                                                                                                                                                                                                                                                                                                                                                                                                                                                                                                               features  \\\n",
       "6  [Personalized Your Garmin Vivofit 4 Activity Tracker with this refined replacement wrist band, Small fits wrists with a circumference of 122-188mm. Large fits wrists with a circumference of 148-215mm, Easy and direct installation and removal. Replacement Bands Only! Garmin device NOT included, Garmin Vivofit 4 Buckle Bracelet. Never lose your Garmin Vivofit 4. Fix the tracker fall off problem, Soft silicone with smooth finish for a sporty look, metal parts made with high quality stainless steel]   \n",
       "\n",
       "                                                                                                                                                                                                                                                                                                                                                                                                                                                                                                                                                                                                                                                                                                         description  \\\n",
       "6  [Compatibility, Custom designed for your precious, Garmin Vivofit 4, Activity Tracker, this Garmin Watch Sport Band features a combination of functionality and style. Fit for, Garmin Vivofit 4, Activity Tracker ONLY. NOT for Garmin Vivofit 1/Garmin Vivofit 2/Garmin Vivofit 3., Feature, Material: Silicone. NOTE: Replacement Bands Only! Small fits wrists with a circumference of 122-188mm.  Large fits wrists with a circumference of 148-215mm. Models for selection: For Garmin Vivofit 4 Activity Tracker Only. Contracted design style, with you life contracted and not simple., Package Included, Soft Silicone Replacement Watch Band Strap for Garmin Vivofit 4 Activity Tracker (No Tracker)]   \n",
       "\n",
       "   store  \\\n",
       "6  QGHXO   \n",
       "\n",
       "                                                                                                                                                                                                                                                                                                                                                                                                                                 details  \n",
       "6  {\"Package Dimensions\": \"6.85 x 4.37 x 1.1 inches\", \"Item Weight\": \"2.64 ounces\", \"Item model number\": \"GM-VF4-L14GIRL\", \"Best Sellers Rank\": {\"Electronics\": 317736, \"Smart Arm & Wristband Accessories\": 12926}, \"Is Discontinued By Manufacturer\": \"No\", \"Special features\": \"activity tracker\", \"Other display features\": \"Sports\", \"Color\": \"5PCS Bands-Girl\", \"Manufacturer\": \"QGHXO\", \"Date First Available\": \"March 17, 2018\"}  "
      ]
     },
     "metadata": {},
     "output_type": "display_data"
    }
   ],
   "source": [
    "with pd.option_context(\"display.max_colwidth\", None):\n",
    "    display(\n",
    "        metadata_raw_df.iloc[[6]][\n",
    "            [\n",
    "                \"title\",\n",
    "                \"main_category\",\n",
    "                \"categories\",\n",
    "                \"features\",\n",
    "                \"description\",\n",
    "                \"store\",\n",
    "                \"details\",\n",
    "            ]\n",
    "        ]\n",
    "    )"
   ]
  },
  {
   "cell_type": "code",
   "execution_count": null,
   "id": "6056eaa8",
   "metadata": {},
   "outputs": [],
   "source": [
    "train_df = pd.read_parquet(\"../data_for_ai/interim/train_sample_interactions_16407u_neg_seq.parquet\")\n",
    "val_df = pd.read_parquet(\"../data_for_ai/interim/val_sample_interactions_16407u_neg_seq.parquet\")\n",
    "full_df = (\n",
    "    pd.concat([train_df, val_df], axis=0)\n",
    "    .assign(timestamp_unix=lambda df: df[args.timestamp_col].astype(\"int64\") // 10**9)\n",
    ")"
   ]
  },
  {
   "cell_type": "code",
   "execution_count": null,
   "id": "f9149d68",
   "metadata": {},
   "outputs": [
    {
     "data": {
      "text/html": [
       "<div>\n",
       "<style scoped>\n",
       "    .dataframe tbody tr th:only-of-type {\n",
       "        vertical-align: middle;\n",
       "    }\n",
       "\n",
       "    .dataframe tbody tr th {\n",
       "        vertical-align: top;\n",
       "    }\n",
       "\n",
       "    .dataframe thead th {\n",
       "        text-align: right;\n",
       "    }\n",
       "</style>\n",
       "<table border=\"1\" class=\"dataframe\">\n",
       "  <thead>\n",
       "    <tr style=\"text-align: right;\">\n",
       "      <th></th>\n",
       "      <th>user_id</th>\n",
       "      <th>parent_asin</th>\n",
       "      <th>rating</th>\n",
       "      <th>timestamp</th>\n",
       "      <th>timestamp_unix</th>\n",
       "    </tr>\n",
       "  </thead>\n",
       "  <tbody>\n",
       "    <tr>\n",
       "      <th>3194</th>\n",
       "      <td>AEYGPUCRKH7G4VM22FM3VAKSQ23Q</td>\n",
       "      <td>B06XKCPK5W</td>\n",
       "      <td>2.0</td>\n",
       "      <td>2012-06-11 16:41:10.000</td>\n",
       "      <td>1339432870</td>\n",
       "    </tr>\n",
       "    <tr>\n",
       "      <th>3199</th>\n",
       "      <td>AEYGPUCRKH7G4VM22FM3VAKSQ23Q</td>\n",
       "      <td>B000CKVOOY</td>\n",
       "      <td>3.0</td>\n",
       "      <td>2012-08-02 02:04:13.000</td>\n",
       "      <td>1343873053</td>\n",
       "    </tr>\n",
       "    <tr>\n",
       "      <th>3200</th>\n",
       "      <td>AEYGPUCRKH7G4VM22FM3VAKSQ23Q</td>\n",
       "      <td>B006GWO5WK</td>\n",
       "      <td>5.0</td>\n",
       "      <td>2012-09-15 16:34:46.000</td>\n",
       "      <td>1347726886</td>\n",
       "    </tr>\n",
       "    <tr>\n",
       "      <th>3204</th>\n",
       "      <td>AEYGPUCRKH7G4VM22FM3VAKSQ23Q</td>\n",
       "      <td>B008LURQ76</td>\n",
       "      <td>5.0</td>\n",
       "      <td>2013-01-03 23:08:45.000</td>\n",
       "      <td>1357254525</td>\n",
       "    </tr>\n",
       "    <tr>\n",
       "      <th>3208</th>\n",
       "      <td>AEYGPUCRKH7G4VM22FM3VAKSQ23Q</td>\n",
       "      <td>B00AQRUW4Q</td>\n",
       "      <td>4.0</td>\n",
       "      <td>2013-05-06 01:24:39.000</td>\n",
       "      <td>1367803479</td>\n",
       "    </tr>\n",
       "    <tr>\n",
       "      <th>...</th>\n",
       "      <td>...</td>\n",
       "      <td>...</td>\n",
       "      <td>...</td>\n",
       "      <td>...</td>\n",
       "      <td>...</td>\n",
       "    </tr>\n",
       "    <tr>\n",
       "      <th>33760091</th>\n",
       "      <td>AHIIISHZP6YAVVHMDEBLJ5CWZ7ZA</td>\n",
       "      <td>B0BZ62FQ13</td>\n",
       "      <td>3.0</td>\n",
       "      <td>2021-07-16 17:08:55.044</td>\n",
       "      <td>1626455335</td>\n",
       "    </tr>\n",
       "    <tr>\n",
       "      <th>34470392</th>\n",
       "      <td>AFTE3G43QHXWD3DJGDCI2DHEWQJQ</td>\n",
       "      <td>B08DMXDPW5</td>\n",
       "      <td>5.0</td>\n",
       "      <td>2021-01-14 01:48:09.423</td>\n",
       "      <td>1610588889</td>\n",
       "    </tr>\n",
       "    <tr>\n",
       "      <th>35019360</th>\n",
       "      <td>AFENZZDPVUYFVBS47YDOWJCDYBSQ</td>\n",
       "      <td>B09XBT6DS9</td>\n",
       "      <td>4.0</td>\n",
       "      <td>2021-12-05 00:35:40.874</td>\n",
       "      <td>1638664540</td>\n",
       "    </tr>\n",
       "    <tr>\n",
       "      <th>35323250</th>\n",
       "      <td>AFMBZYPDAXT5VO3ME67HW5Q5TAOQ</td>\n",
       "      <td>B097KBF8JK</td>\n",
       "      <td>5.0</td>\n",
       "      <td>2022-02-18 11:32:46.732</td>\n",
       "      <td>1645183966</td>\n",
       "    </tr>\n",
       "    <tr>\n",
       "      <th>36341797</th>\n",
       "      <td>AEMSEOMPBE6KWOZWCX4VE4E2E7HQ</td>\n",
       "      <td>B00FB45USW</td>\n",
       "      <td>5.0</td>\n",
       "      <td>2021-08-12 00:42:48.843</td>\n",
       "      <td>1628728968</td>\n",
       "    </tr>\n",
       "  </tbody>\n",
       "</table>\n",
       "<p>130871 rows × 5 columns</p>\n",
       "</div>"
      ],
      "text/plain": [
       "                               user_id parent_asin  rating  \\\n",
       "3194      AEYGPUCRKH7G4VM22FM3VAKSQ23Q  B06XKCPK5W     2.0   \n",
       "3199      AEYGPUCRKH7G4VM22FM3VAKSQ23Q  B000CKVOOY     3.0   \n",
       "3200      AEYGPUCRKH7G4VM22FM3VAKSQ23Q  B006GWO5WK     5.0   \n",
       "3204      AEYGPUCRKH7G4VM22FM3VAKSQ23Q  B008LURQ76     5.0   \n",
       "3208      AEYGPUCRKH7G4VM22FM3VAKSQ23Q  B00AQRUW4Q     4.0   \n",
       "...                                ...         ...     ...   \n",
       "33760091  AHIIISHZP6YAVVHMDEBLJ5CWZ7ZA  B0BZ62FQ13     3.0   \n",
       "34470392  AFTE3G43QHXWD3DJGDCI2DHEWQJQ  B08DMXDPW5     5.0   \n",
       "35019360  AFENZZDPVUYFVBS47YDOWJCDYBSQ  B09XBT6DS9     4.0   \n",
       "35323250  AFMBZYPDAXT5VO3ME67HW5Q5TAOQ  B097KBF8JK     5.0   \n",
       "36341797  AEMSEOMPBE6KWOZWCX4VE4E2E7HQ  B00FB45USW     5.0   \n",
       "\n",
       "                       timestamp  timestamp_unix  \n",
       "3194     2012-06-11 16:41:10.000      1339432870  \n",
       "3199     2012-08-02 02:04:13.000      1343873053  \n",
       "3200     2012-09-15 16:34:46.000      1347726886  \n",
       "3204     2013-01-03 23:08:45.000      1357254525  \n",
       "3208     2013-05-06 01:24:39.000      1367803479  \n",
       "...                          ...             ...  \n",
       "33760091 2021-07-16 17:08:55.044      1626455335  \n",
       "34470392 2021-01-14 01:48:09.423      1610588889  \n",
       "35019360 2021-12-05 00:35:40.874      1638664540  \n",
       "35323250 2022-02-18 11:32:46.732      1645183966  \n",
       "36341797 2021-08-12 00:42:48.843      1628728968  \n",
       "\n",
       "[130871 rows x 5 columns]"
      ]
     },
     "execution_count": 8,
     "metadata": {},
     "output_type": "execute_result"
    }
   ],
   "source": [
    "full_df"
   ]
  },
  {
   "cell_type": "code",
   "execution_count": null,
   "id": "a1655a88",
   "metadata": {},
   "outputs": [
    {
     "name": "stdout",
     "output_type": "stream",
     "text": [
      "4817 items in the dataset\n"
     ]
    },
    {
     "data": {
      "text/plain": [
       "'AE227WAM4NWQPJI33OPN7ZARNNZQ'"
      ]
     },
     "execution_count": 15,
     "metadata": {},
     "output_type": "execute_result"
    }
   ],
   "source": [
    "# Load idm\n",
    "idm_path = os.path.abspath(\"../data_for_ai/interim/idm_16407u.json\")\n",
    "idm = IDMapper().load(idm_path)\n",
    "idm.get_user_id(1)"
   ]
  },
  {
   "cell_type": "markdown",
   "id": "36b951bd",
   "metadata": {},
   "source": [
    "## Load features from Feature Store"
   ]
  },
  {
   "cell_type": "code",
   "execution_count": null,
   "id": "fbef99f4",
   "metadata": {},
   "outputs": [
    {
     "name": "stderr",
     "output_type": "stream",
     "text": [
      "/home/dinhln/Desktop/real_time_recsys/.venv/lib/python3.11/site-packages/feast/repo_config.py:268: DeprecationWarning: The serialization version 2 and below will be deprecated in the next release. Specifying `entity_key_serialization_version` to 3 is recommended.\n",
      "  warnings.warn(\n"
     ]
    }
   ],
   "source": [
    "store = FeatureStore(\n",
    "    repo_path=\"../feature_pipeline/feature_store/feature_repo\",\n",
    ")"
   ]
  },
  {
   "cell_type": "code",
   "execution_count": null,
   "id": "dbbcf221",
   "metadata": {},
   "outputs": [],
   "source": [
    "item_features = [\n",
    "    \"parent_asin_rating_stats_fresh:parent_asin_rating_cnt_365d\",\n",
    "    \"parent_asin_rating_stats_fresh:parent_asin_rating_avg_prev_rating_365d\",\n",
    "    \"parent_asin_rating_stats_fresh:parent_asin_rating_cnt_90d\",\n",
    "    \"parent_asin_rating_stats_fresh:parent_asin_rating_avg_prev_rating_90d\",\n",
    "    \"parent_asin_rating_stats_fresh:parent_asin_rating_cnt_30d\",\n",
    "    \"parent_asin_rating_stats_fresh:parent_asin_rating_avg_prev_rating_30d\",\n",
    "    \"parent_asin_rating_stats_fresh:parent_asin_rating_cnt_7d\",\n",
    "    \"parent_asin_rating_stats_fresh:parent_asin_rating_avg_prev_rating_7d\",\n",
    "]"
   ]
  },
  {
   "cell_type": "code",
   "execution_count": null,
   "id": "9e5f6e2a",
   "metadata": {},
   "outputs": [
    {
     "name": "stdout",
     "output_type": "stream",
     "text": [
      "Using timestamp as the event timestamp. To specify a column explicitly, please name it event_timestamp.\n",
      "CPU times: user 1.87 s, sys: 254 ms, total: 2.12 s\n",
      "Wall time: 32.4 s\n"
     ]
    }
   ],
   "source": [
    "features_df = store.get_historical_features(\n",
    "    full_df[[args.item_col, args.timestamp_col]].drop_duplicates(), \n",
    "    item_features\n",
    ").to_df()\n",
    "\n"
   ]
  },
  {
   "cell_type": "code",
   "execution_count": null,
   "id": "f21061d1",
   "metadata": {},
   "outputs": [],
   "source": [
    "assert features_df.duplicated().sum() == 0, display(features_df.loc[features_df.duplicated()])\n",
    "features_df.sort_values(args.timestamp_col, ascending=False)"
   ]
  },
  {
   "cell_type": "code",
   "execution_count": null,
   "id": "d05e295b",
   "metadata": {},
   "outputs": [
    {
     "data": {
      "text/html": [
       "<div>\n",
       "<style scoped>\n",
       "    .dataframe tbody tr th:only-of-type {\n",
       "        vertical-align: middle;\n",
       "    }\n",
       "\n",
       "    .dataframe tbody tr th {\n",
       "        vertical-align: top;\n",
       "    }\n",
       "\n",
       "    .dataframe thead th {\n",
       "        text-align: right;\n",
       "    }\n",
       "</style>\n",
       "<table border=\"1\" class=\"dataframe\">\n",
       "  <thead>\n",
       "    <tr style=\"text-align: right;\">\n",
       "      <th></th>\n",
       "      <th>user_id</th>\n",
       "      <th>parent_asin</th>\n",
       "      <th>rating</th>\n",
       "      <th>timestamp</th>\n",
       "      <th>timestamp_unix</th>\n",
       "      <th>parent_asin_rating_cnt_365d</th>\n",
       "      <th>parent_asin_rating_avg_prev_rating_365d</th>\n",
       "      <th>parent_asin_rating_cnt_90d</th>\n",
       "      <th>parent_asin_rating_avg_prev_rating_90d</th>\n",
       "      <th>parent_asin_rating_cnt_30d</th>\n",
       "      <th>parent_asin_rating_avg_prev_rating_30d</th>\n",
       "      <th>parent_asin_rating_cnt_7d</th>\n",
       "      <th>parent_asin_rating_avg_prev_rating_7d</th>\n",
       "    </tr>\n",
       "  </thead>\n",
       "  <tbody>\n",
       "    <tr>\n",
       "      <th>0</th>\n",
       "      <td>AEYGPUCRKH7G4VM22FM3VAKSQ23Q</td>\n",
       "      <td>B06XKCPK5W</td>\n",
       "      <td>2.0</td>\n",
       "      <td>2012-06-11 16:41:10.000</td>\n",
       "      <td>1339432870</td>\n",
       "      <td>0.0</td>\n",
       "      <td>NaN</td>\n",
       "      <td>0.0</td>\n",
       "      <td>NaN</td>\n",
       "      <td>0.0</td>\n",
       "      <td>NaN</td>\n",
       "      <td>0.0</td>\n",
       "      <td>NaN</td>\n",
       "    </tr>\n",
       "    <tr>\n",
       "      <th>1</th>\n",
       "      <td>AEYGPUCRKH7G4VM22FM3VAKSQ23Q</td>\n",
       "      <td>B000CKVOOY</td>\n",
       "      <td>3.0</td>\n",
       "      <td>2012-08-02 02:04:13.000</td>\n",
       "      <td>1343873053</td>\n",
       "      <td>3.0</td>\n",
       "      <td>5.000000</td>\n",
       "      <td>1.0</td>\n",
       "      <td>5.000000</td>\n",
       "      <td>1.0</td>\n",
       "      <td>5.00</td>\n",
       "      <td>1.0</td>\n",
       "      <td>5.0</td>\n",
       "    </tr>\n",
       "    <tr>\n",
       "      <th>2</th>\n",
       "      <td>AEYGPUCRKH7G4VM22FM3VAKSQ23Q</td>\n",
       "      <td>B006GWO5WK</td>\n",
       "      <td>5.0</td>\n",
       "      <td>2012-09-15 16:34:46.000</td>\n",
       "      <td>1347726886</td>\n",
       "      <td>0.0</td>\n",
       "      <td>NaN</td>\n",
       "      <td>0.0</td>\n",
       "      <td>NaN</td>\n",
       "      <td>0.0</td>\n",
       "      <td>NaN</td>\n",
       "      <td>0.0</td>\n",
       "      <td>NaN</td>\n",
       "    </tr>\n",
       "    <tr>\n",
       "      <th>3</th>\n",
       "      <td>AEYGPUCRKH7G4VM22FM3VAKSQ23Q</td>\n",
       "      <td>B008LURQ76</td>\n",
       "      <td>5.0</td>\n",
       "      <td>2013-01-03 23:08:45.000</td>\n",
       "      <td>1357254525</td>\n",
       "      <td>4.0</td>\n",
       "      <td>4.250000</td>\n",
       "      <td>2.0</td>\n",
       "      <td>5.000000</td>\n",
       "      <td>2.0</td>\n",
       "      <td>5.00</td>\n",
       "      <td>2.0</td>\n",
       "      <td>5.0</td>\n",
       "    </tr>\n",
       "    <tr>\n",
       "      <th>4</th>\n",
       "      <td>AEYGPUCRKH7G4VM22FM3VAKSQ23Q</td>\n",
       "      <td>B00AQRUW4Q</td>\n",
       "      <td>4.0</td>\n",
       "      <td>2013-05-06 01:24:39.000</td>\n",
       "      <td>1367803479</td>\n",
       "      <td>3.0</td>\n",
       "      <td>4.333333</td>\n",
       "      <td>3.0</td>\n",
       "      <td>4.333333</td>\n",
       "      <td>1.0</td>\n",
       "      <td>5.00</td>\n",
       "      <td>0.0</td>\n",
       "      <td>NaN</td>\n",
       "    </tr>\n",
       "    <tr>\n",
       "      <th>...</th>\n",
       "      <td>...</td>\n",
       "      <td>...</td>\n",
       "      <td>...</td>\n",
       "      <td>...</td>\n",
       "      <td>...</td>\n",
       "      <td>...</td>\n",
       "      <td>...</td>\n",
       "      <td>...</td>\n",
       "      <td>...</td>\n",
       "      <td>...</td>\n",
       "      <td>...</td>\n",
       "      <td>...</td>\n",
       "      <td>...</td>\n",
       "    </tr>\n",
       "    <tr>\n",
       "      <th>130866</th>\n",
       "      <td>AHIIISHZP6YAVVHMDEBLJ5CWZ7ZA</td>\n",
       "      <td>B0BZ62FQ13</td>\n",
       "      <td>3.0</td>\n",
       "      <td>2021-07-16 17:08:55.044</td>\n",
       "      <td>1626455335</td>\n",
       "      <td>3.0</td>\n",
       "      <td>5.000000</td>\n",
       "      <td>0.0</td>\n",
       "      <td>NaN</td>\n",
       "      <td>0.0</td>\n",
       "      <td>NaN</td>\n",
       "      <td>0.0</td>\n",
       "      <td>NaN</td>\n",
       "    </tr>\n",
       "    <tr>\n",
       "      <th>130867</th>\n",
       "      <td>AFTE3G43QHXWD3DJGDCI2DHEWQJQ</td>\n",
       "      <td>B08DMXDPW5</td>\n",
       "      <td>5.0</td>\n",
       "      <td>2021-01-14 01:48:09.423</td>\n",
       "      <td>1610588889</td>\n",
       "      <td>15.0</td>\n",
       "      <td>3.533333</td>\n",
       "      <td>15.0</td>\n",
       "      <td>3.533333</td>\n",
       "      <td>8.0</td>\n",
       "      <td>3.25</td>\n",
       "      <td>2.0</td>\n",
       "      <td>3.0</td>\n",
       "    </tr>\n",
       "    <tr>\n",
       "      <th>130868</th>\n",
       "      <td>AFENZZDPVUYFVBS47YDOWJCDYBSQ</td>\n",
       "      <td>B09XBT6DS9</td>\n",
       "      <td>4.0</td>\n",
       "      <td>2021-12-05 00:35:40.874</td>\n",
       "      <td>1638664540</td>\n",
       "      <td>2.0</td>\n",
       "      <td>5.000000</td>\n",
       "      <td>1.0</td>\n",
       "      <td>5.000000</td>\n",
       "      <td>0.0</td>\n",
       "      <td>NaN</td>\n",
       "      <td>0.0</td>\n",
       "      <td>NaN</td>\n",
       "    </tr>\n",
       "    <tr>\n",
       "      <th>130869</th>\n",
       "      <td>AFMBZYPDAXT5VO3ME67HW5Q5TAOQ</td>\n",
       "      <td>B097KBF8JK</td>\n",
       "      <td>5.0</td>\n",
       "      <td>2022-02-18 11:32:46.732</td>\n",
       "      <td>1645183966</td>\n",
       "      <td>NaN</td>\n",
       "      <td>NaN</td>\n",
       "      <td>NaN</td>\n",
       "      <td>NaN</td>\n",
       "      <td>NaN</td>\n",
       "      <td>NaN</td>\n",
       "      <td>NaN</td>\n",
       "      <td>NaN</td>\n",
       "    </tr>\n",
       "    <tr>\n",
       "      <th>130870</th>\n",
       "      <td>AEMSEOMPBE6KWOZWCX4VE4E2E7HQ</td>\n",
       "      <td>B00FB45USW</td>\n",
       "      <td>5.0</td>\n",
       "      <td>2021-08-12 00:42:48.843</td>\n",
       "      <td>1628728968</td>\n",
       "      <td>0.0</td>\n",
       "      <td>NaN</td>\n",
       "      <td>0.0</td>\n",
       "      <td>NaN</td>\n",
       "      <td>0.0</td>\n",
       "      <td>NaN</td>\n",
       "      <td>0.0</td>\n",
       "      <td>NaN</td>\n",
       "    </tr>\n",
       "  </tbody>\n",
       "</table>\n",
       "<p>130871 rows × 13 columns</p>\n",
       "</div>"
      ],
      "text/plain": [
       "                             user_id parent_asin  rating  \\\n",
       "0       AEYGPUCRKH7G4VM22FM3VAKSQ23Q  B06XKCPK5W     2.0   \n",
       "1       AEYGPUCRKH7G4VM22FM3VAKSQ23Q  B000CKVOOY     3.0   \n",
       "2       AEYGPUCRKH7G4VM22FM3VAKSQ23Q  B006GWO5WK     5.0   \n",
       "3       AEYGPUCRKH7G4VM22FM3VAKSQ23Q  B008LURQ76     5.0   \n",
       "4       AEYGPUCRKH7G4VM22FM3VAKSQ23Q  B00AQRUW4Q     4.0   \n",
       "...                              ...         ...     ...   \n",
       "130866  AHIIISHZP6YAVVHMDEBLJ5CWZ7ZA  B0BZ62FQ13     3.0   \n",
       "130867  AFTE3G43QHXWD3DJGDCI2DHEWQJQ  B08DMXDPW5     5.0   \n",
       "130868  AFENZZDPVUYFVBS47YDOWJCDYBSQ  B09XBT6DS9     4.0   \n",
       "130869  AFMBZYPDAXT5VO3ME67HW5Q5TAOQ  B097KBF8JK     5.0   \n",
       "130870  AEMSEOMPBE6KWOZWCX4VE4E2E7HQ  B00FB45USW     5.0   \n",
       "\n",
       "                     timestamp  timestamp_unix  parent_asin_rating_cnt_365d  \\\n",
       "0      2012-06-11 16:41:10.000      1339432870                          0.0   \n",
       "1      2012-08-02 02:04:13.000      1343873053                          3.0   \n",
       "2      2012-09-15 16:34:46.000      1347726886                          0.0   \n",
       "3      2013-01-03 23:08:45.000      1357254525                          4.0   \n",
       "4      2013-05-06 01:24:39.000      1367803479                          3.0   \n",
       "...                        ...             ...                          ...   \n",
       "130866 2021-07-16 17:08:55.044      1626455335                          3.0   \n",
       "130867 2021-01-14 01:48:09.423      1610588889                         15.0   \n",
       "130868 2021-12-05 00:35:40.874      1638664540                          2.0   \n",
       "130869 2022-02-18 11:32:46.732      1645183966                          NaN   \n",
       "130870 2021-08-12 00:42:48.843      1628728968                          0.0   \n",
       "\n",
       "        parent_asin_rating_avg_prev_rating_365d  parent_asin_rating_cnt_90d  \\\n",
       "0                                           NaN                         0.0   \n",
       "1                                      5.000000                         1.0   \n",
       "2                                           NaN                         0.0   \n",
       "3                                      4.250000                         2.0   \n",
       "4                                      4.333333                         3.0   \n",
       "...                                         ...                         ...   \n",
       "130866                                 5.000000                         0.0   \n",
       "130867                                 3.533333                        15.0   \n",
       "130868                                 5.000000                         1.0   \n",
       "130869                                      NaN                         NaN   \n",
       "130870                                      NaN                         0.0   \n",
       "\n",
       "        parent_asin_rating_avg_prev_rating_90d  parent_asin_rating_cnt_30d  \\\n",
       "0                                          NaN                         0.0   \n",
       "1                                     5.000000                         1.0   \n",
       "2                                          NaN                         0.0   \n",
       "3                                     5.000000                         2.0   \n",
       "4                                     4.333333                         1.0   \n",
       "...                                        ...                         ...   \n",
       "130866                                     NaN                         0.0   \n",
       "130867                                3.533333                         8.0   \n",
       "130868                                5.000000                         0.0   \n",
       "130869                                     NaN                         NaN   \n",
       "130870                                     NaN                         0.0   \n",
       "\n",
       "        parent_asin_rating_avg_prev_rating_30d  parent_asin_rating_cnt_7d  \\\n",
       "0                                          NaN                        0.0   \n",
       "1                                         5.00                        1.0   \n",
       "2                                          NaN                        0.0   \n",
       "3                                         5.00                        2.0   \n",
       "4                                         5.00                        0.0   \n",
       "...                                        ...                        ...   \n",
       "130866                                     NaN                        0.0   \n",
       "130867                                    3.25                        2.0   \n",
       "130868                                     NaN                        0.0   \n",
       "130869                                     NaN                        NaN   \n",
       "130870                                     NaN                        0.0   \n",
       "\n",
       "        parent_asin_rating_avg_prev_rating_7d  \n",
       "0                                         NaN  \n",
       "1                                         5.0  \n",
       "2                                         NaN  \n",
       "3                                         5.0  \n",
       "4                                         NaN  \n",
       "...                                       ...  \n",
       "130866                                    NaN  \n",
       "130867                                    3.0  \n",
       "130868                                    NaN  \n",
       "130869                                    NaN  \n",
       "130870                                    NaN  \n",
       "\n",
       "[130871 rows x 13 columns]"
      ]
     },
     "execution_count": 35,
     "metadata": {},
     "output_type": "execute_result"
    }
   ],
   "source": [
    "full_features_df = pd.merge(\n",
    "    full_df, features_df, on=[args.item_col, args.timestamp_col], how=\"left\"\n",
    ")\n",
    "full_features_df"
   ]
  },
  {
   "cell_type": "code",
   "execution_count": null,
   "id": "1968805f",
   "metadata": {},
   "outputs": [
    {
     "name": "stdout",
     "output_type": "stream",
     "text": [
      "CPU times: total: 0 ns\n",
      "Wall time: 0 ns\n"
     ]
    }
   ],
   "source": [
    "user_features = [\n",
    "    \"user_rating_stats_fresh:user_rating_cnt_90d\",\n",
    "    \"user_rating_stats_fresh:user_rating_avg_prev_rating_90d\",\n",
    "    \"user_rating_stats_fresh:user_rating_list_10_recent_asin\",\n",
    "    \"user_rating_stats_fresh:user_rating_list_10_recent_asin_timestamp\",\n",
    "]\n",
    "\n",
    "features_df = store.get_historical_features(full_df[[args.user_col, args.timestamp_col]].drop_duplicates(), user_features).to_df()\n",
    "assert features_df.duplicated().sum() == 0, display(features_df.loc[features_df.duplicated()])"
   ]
  },
  {
   "cell_type": "code",
   "execution_count": null,
   "id": "2e75d8de",
   "metadata": {},
   "outputs": [
    {
     "data": {
      "text/html": [
       "<div>\n",
       "<style scoped>\n",
       "    .dataframe tbody tr th:only-of-type {\n",
       "        vertical-align: middle;\n",
       "    }\n",
       "\n",
       "    .dataframe tbody tr th {\n",
       "        vertical-align: top;\n",
       "    }\n",
       "\n",
       "    .dataframe thead th {\n",
       "        text-align: right;\n",
       "    }\n",
       "</style>\n",
       "<table border=\"1\" class=\"dataframe\">\n",
       "  <thead>\n",
       "    <tr style=\"text-align: right;\">\n",
       "      <th></th>\n",
       "      <th>user_id</th>\n",
       "      <th>parent_asin</th>\n",
       "      <th>rating</th>\n",
       "      <th>timestamp</th>\n",
       "      <th>timestamp_unix</th>\n",
       "      <th>parent_asin_rating_cnt_365d</th>\n",
       "      <th>parent_asin_rating_avg_prev_rating_365d</th>\n",
       "      <th>parent_asin_rating_cnt_90d</th>\n",
       "      <th>parent_asin_rating_avg_prev_rating_90d</th>\n",
       "      <th>parent_asin_rating_cnt_30d</th>\n",
       "      <th>parent_asin_rating_avg_prev_rating_30d</th>\n",
       "      <th>parent_asin_rating_cnt_7d</th>\n",
       "      <th>parent_asin_rating_avg_prev_rating_7d</th>\n",
       "      <th>user_rating_cnt_90d</th>\n",
       "      <th>user_rating_avg_prev_rating_90d</th>\n",
       "      <th>user_rating_list_10_recent_asin</th>\n",
       "      <th>user_rating_list_10_recent_asin_timestamp</th>\n",
       "    </tr>\n",
       "  </thead>\n",
       "  <tbody>\n",
       "    <tr>\n",
       "      <th>0</th>\n",
       "      <td>AEYGPUCRKH7G4VM22FM3VAKSQ23Q</td>\n",
       "      <td>B06XKCPK5W</td>\n",
       "      <td>2.0</td>\n",
       "      <td>2012-06-11 16:41:10.000</td>\n",
       "      <td>1339432870</td>\n",
       "      <td>0.0</td>\n",
       "      <td>NaN</td>\n",
       "      <td>0.0</td>\n",
       "      <td>NaN</td>\n",
       "      <td>0.0</td>\n",
       "      <td>NaN</td>\n",
       "      <td>0.0</td>\n",
       "      <td>NaN</td>\n",
       "      <td>1.0</td>\n",
       "      <td>NaN</td>\n",
       "      <td>None</td>\n",
       "      <td>None</td>\n",
       "    </tr>\n",
       "    <tr>\n",
       "      <th>1</th>\n",
       "      <td>AEYGPUCRKH7G4VM22FM3VAKSQ23Q</td>\n",
       "      <td>B000CKVOOY</td>\n",
       "      <td>3.0</td>\n",
       "      <td>2012-08-02 02:04:13.000</td>\n",
       "      <td>1343873053</td>\n",
       "      <td>3.0</td>\n",
       "      <td>5.000000</td>\n",
       "      <td>1.0</td>\n",
       "      <td>5.000000</td>\n",
       "      <td>1.0</td>\n",
       "      <td>5.00</td>\n",
       "      <td>1.0</td>\n",
       "      <td>5.0</td>\n",
       "      <td>2.0</td>\n",
       "      <td>2.0</td>\n",
       "      <td>B06XKCPK5W</td>\n",
       "      <td>1339432870</td>\n",
       "    </tr>\n",
       "    <tr>\n",
       "      <th>2</th>\n",
       "      <td>AEYGPUCRKH7G4VM22FM3VAKSQ23Q</td>\n",
       "      <td>B006GWO5WK</td>\n",
       "      <td>5.0</td>\n",
       "      <td>2012-09-15 16:34:46.000</td>\n",
       "      <td>1347726886</td>\n",
       "      <td>0.0</td>\n",
       "      <td>NaN</td>\n",
       "      <td>0.0</td>\n",
       "      <td>NaN</td>\n",
       "      <td>0.0</td>\n",
       "      <td>NaN</td>\n",
       "      <td>0.0</td>\n",
       "      <td>NaN</td>\n",
       "      <td>2.0</td>\n",
       "      <td>3.0</td>\n",
       "      <td>B06XKCPK5W,B000CKVOOY</td>\n",
       "      <td>1339432870,1343873053</td>\n",
       "    </tr>\n",
       "    <tr>\n",
       "      <th>3</th>\n",
       "      <td>AEYGPUCRKH7G4VM22FM3VAKSQ23Q</td>\n",
       "      <td>B008LURQ76</td>\n",
       "      <td>5.0</td>\n",
       "      <td>2013-01-03 23:08:45.000</td>\n",
       "      <td>1357254525</td>\n",
       "      <td>4.0</td>\n",
       "      <td>4.250000</td>\n",
       "      <td>2.0</td>\n",
       "      <td>5.000000</td>\n",
       "      <td>2.0</td>\n",
       "      <td>5.00</td>\n",
       "      <td>2.0</td>\n",
       "      <td>5.0</td>\n",
       "      <td>1.0</td>\n",
       "      <td>NaN</td>\n",
       "      <td>B06XKCPK5W,B000CKVOOY,B006GWO5WK</td>\n",
       "      <td>1339432870,1343873053,1347726886</td>\n",
       "    </tr>\n",
       "    <tr>\n",
       "      <th>4</th>\n",
       "      <td>AEYGPUCRKH7G4VM22FM3VAKSQ23Q</td>\n",
       "      <td>B00AQRUW4Q</td>\n",
       "      <td>4.0</td>\n",
       "      <td>2013-05-06 01:24:39.000</td>\n",
       "      <td>1367803479</td>\n",
       "      <td>3.0</td>\n",
       "      <td>4.333333</td>\n",
       "      <td>3.0</td>\n",
       "      <td>4.333333</td>\n",
       "      <td>1.0</td>\n",
       "      <td>5.00</td>\n",
       "      <td>0.0</td>\n",
       "      <td>NaN</td>\n",
       "      <td>1.0</td>\n",
       "      <td>NaN</td>\n",
       "      <td>B06XKCPK5W,B000CKVOOY,B006GWO5WK,B008LURQ76</td>\n",
       "      <td>1339432870,1343873053,1347726886,1357254525</td>\n",
       "    </tr>\n",
       "    <tr>\n",
       "      <th>...</th>\n",
       "      <td>...</td>\n",
       "      <td>...</td>\n",
       "      <td>...</td>\n",
       "      <td>...</td>\n",
       "      <td>...</td>\n",
       "      <td>...</td>\n",
       "      <td>...</td>\n",
       "      <td>...</td>\n",
       "      <td>...</td>\n",
       "      <td>...</td>\n",
       "      <td>...</td>\n",
       "      <td>...</td>\n",
       "      <td>...</td>\n",
       "      <td>...</td>\n",
       "      <td>...</td>\n",
       "      <td>...</td>\n",
       "      <td>...</td>\n",
       "    </tr>\n",
       "    <tr>\n",
       "      <th>130866</th>\n",
       "      <td>AHIIISHZP6YAVVHMDEBLJ5CWZ7ZA</td>\n",
       "      <td>B0BZ62FQ13</td>\n",
       "      <td>3.0</td>\n",
       "      <td>2021-07-16 17:08:55.044</td>\n",
       "      <td>1626455335</td>\n",
       "      <td>3.0</td>\n",
       "      <td>5.000000</td>\n",
       "      <td>0.0</td>\n",
       "      <td>NaN</td>\n",
       "      <td>0.0</td>\n",
       "      <td>NaN</td>\n",
       "      <td>0.0</td>\n",
       "      <td>NaN</td>\n",
       "      <td>1.0</td>\n",
       "      <td>NaN</td>\n",
       "      <td>B074VMZ8JB,B00H8JVFCI,B00KO99GB6,B00CF4G7JC,B0...</td>\n",
       "      <td>1360730296,1432061059,1456243479,1456243487,14...</td>\n",
       "    </tr>\n",
       "    <tr>\n",
       "      <th>130867</th>\n",
       "      <td>AFTE3G43QHXWD3DJGDCI2DHEWQJQ</td>\n",
       "      <td>B08DMXDPW5</td>\n",
       "      <td>5.0</td>\n",
       "      <td>2021-01-14 01:48:09.423</td>\n",
       "      <td>1610588889</td>\n",
       "      <td>15.0</td>\n",
       "      <td>3.533333</td>\n",
       "      <td>15.0</td>\n",
       "      <td>3.533333</td>\n",
       "      <td>8.0</td>\n",
       "      <td>3.25</td>\n",
       "      <td>2.0</td>\n",
       "      <td>3.0</td>\n",
       "      <td>1.0</td>\n",
       "      <td>NaN</td>\n",
       "      <td>B07C8KVP9F,B09SBP9P92,B075X8471B,B0791TX5P5,B0...</td>\n",
       "      <td>1462221728,1488063495,1495905967,1564232045,15...</td>\n",
       "    </tr>\n",
       "    <tr>\n",
       "      <th>130868</th>\n",
       "      <td>AFENZZDPVUYFVBS47YDOWJCDYBSQ</td>\n",
       "      <td>B09XBT6DS9</td>\n",
       "      <td>4.0</td>\n",
       "      <td>2021-12-05 00:35:40.874</td>\n",
       "      <td>1638664540</td>\n",
       "      <td>2.0</td>\n",
       "      <td>5.000000</td>\n",
       "      <td>1.0</td>\n",
       "      <td>5.000000</td>\n",
       "      <td>0.0</td>\n",
       "      <td>NaN</td>\n",
       "      <td>0.0</td>\n",
       "      <td>NaN</td>\n",
       "      <td>1.0</td>\n",
       "      <td>NaN</td>\n",
       "      <td>B000QKKAPE,B001DKO7R8,B0BMJ89V4P,B0043T7FXE,B0...</td>\n",
       "      <td>1232828952,1305485716,1355137628,1452428556,14...</td>\n",
       "    </tr>\n",
       "    <tr>\n",
       "      <th>130869</th>\n",
       "      <td>AFMBZYPDAXT5VO3ME67HW5Q5TAOQ</td>\n",
       "      <td>B097KBF8JK</td>\n",
       "      <td>5.0</td>\n",
       "      <td>2022-02-18 11:32:46.732</td>\n",
       "      <td>1645183966</td>\n",
       "      <td>NaN</td>\n",
       "      <td>NaN</td>\n",
       "      <td>NaN</td>\n",
       "      <td>NaN</td>\n",
       "      <td>NaN</td>\n",
       "      <td>NaN</td>\n",
       "      <td>NaN</td>\n",
       "      <td>NaN</td>\n",
       "      <td>NaN</td>\n",
       "      <td>NaN</td>\n",
       "      <td>None</td>\n",
       "      <td>None</td>\n",
       "    </tr>\n",
       "    <tr>\n",
       "      <th>130870</th>\n",
       "      <td>AEMSEOMPBE6KWOZWCX4VE4E2E7HQ</td>\n",
       "      <td>B00FB45USW</td>\n",
       "      <td>5.0</td>\n",
       "      <td>2021-08-12 00:42:48.843</td>\n",
       "      <td>1628728968</td>\n",
       "      <td>0.0</td>\n",
       "      <td>NaN</td>\n",
       "      <td>0.0</td>\n",
       "      <td>NaN</td>\n",
       "      <td>0.0</td>\n",
       "      <td>NaN</td>\n",
       "      <td>0.0</td>\n",
       "      <td>NaN</td>\n",
       "      <td>1.0</td>\n",
       "      <td>NaN</td>\n",
       "      <td>B073GZBT36,B0791W7C9V,B0785NMZFJ,B00WUI8VYW,B0...</td>\n",
       "      <td>1519141529,1528983239,1529449098,1531165850,15...</td>\n",
       "    </tr>\n",
       "  </tbody>\n",
       "</table>\n",
       "<p>130871 rows × 17 columns</p>\n",
       "</div>"
      ],
      "text/plain": [
       "                             user_id parent_asin  rating  \\\n",
       "0       AEYGPUCRKH7G4VM22FM3VAKSQ23Q  B06XKCPK5W     2.0   \n",
       "1       AEYGPUCRKH7G4VM22FM3VAKSQ23Q  B000CKVOOY     3.0   \n",
       "2       AEYGPUCRKH7G4VM22FM3VAKSQ23Q  B006GWO5WK     5.0   \n",
       "3       AEYGPUCRKH7G4VM22FM3VAKSQ23Q  B008LURQ76     5.0   \n",
       "4       AEYGPUCRKH7G4VM22FM3VAKSQ23Q  B00AQRUW4Q     4.0   \n",
       "...                              ...         ...     ...   \n",
       "130866  AHIIISHZP6YAVVHMDEBLJ5CWZ7ZA  B0BZ62FQ13     3.0   \n",
       "130867  AFTE3G43QHXWD3DJGDCI2DHEWQJQ  B08DMXDPW5     5.0   \n",
       "130868  AFENZZDPVUYFVBS47YDOWJCDYBSQ  B09XBT6DS9     4.0   \n",
       "130869  AFMBZYPDAXT5VO3ME67HW5Q5TAOQ  B097KBF8JK     5.0   \n",
       "130870  AEMSEOMPBE6KWOZWCX4VE4E2E7HQ  B00FB45USW     5.0   \n",
       "\n",
       "                     timestamp  timestamp_unix  parent_asin_rating_cnt_365d  \\\n",
       "0      2012-06-11 16:41:10.000      1339432870                          0.0   \n",
       "1      2012-08-02 02:04:13.000      1343873053                          3.0   \n",
       "2      2012-09-15 16:34:46.000      1347726886                          0.0   \n",
       "3      2013-01-03 23:08:45.000      1357254525                          4.0   \n",
       "4      2013-05-06 01:24:39.000      1367803479                          3.0   \n",
       "...                        ...             ...                          ...   \n",
       "130866 2021-07-16 17:08:55.044      1626455335                          3.0   \n",
       "130867 2021-01-14 01:48:09.423      1610588889                         15.0   \n",
       "130868 2021-12-05 00:35:40.874      1638664540                          2.0   \n",
       "130869 2022-02-18 11:32:46.732      1645183966                          NaN   \n",
       "130870 2021-08-12 00:42:48.843      1628728968                          0.0   \n",
       "\n",
       "        parent_asin_rating_avg_prev_rating_365d  parent_asin_rating_cnt_90d  \\\n",
       "0                                           NaN                         0.0   \n",
       "1                                      5.000000                         1.0   \n",
       "2                                           NaN                         0.0   \n",
       "3                                      4.250000                         2.0   \n",
       "4                                      4.333333                         3.0   \n",
       "...                                         ...                         ...   \n",
       "130866                                 5.000000                         0.0   \n",
       "130867                                 3.533333                        15.0   \n",
       "130868                                 5.000000                         1.0   \n",
       "130869                                      NaN                         NaN   \n",
       "130870                                      NaN                         0.0   \n",
       "\n",
       "        parent_asin_rating_avg_prev_rating_90d  parent_asin_rating_cnt_30d  \\\n",
       "0                                          NaN                         0.0   \n",
       "1                                     5.000000                         1.0   \n",
       "2                                          NaN                         0.0   \n",
       "3                                     5.000000                         2.0   \n",
       "4                                     4.333333                         1.0   \n",
       "...                                        ...                         ...   \n",
       "130866                                     NaN                         0.0   \n",
       "130867                                3.533333                         8.0   \n",
       "130868                                5.000000                         0.0   \n",
       "130869                                     NaN                         NaN   \n",
       "130870                                     NaN                         0.0   \n",
       "\n",
       "        parent_asin_rating_avg_prev_rating_30d  parent_asin_rating_cnt_7d  \\\n",
       "0                                          NaN                        0.0   \n",
       "1                                         5.00                        1.0   \n",
       "2                                          NaN                        0.0   \n",
       "3                                         5.00                        2.0   \n",
       "4                                         5.00                        0.0   \n",
       "...                                        ...                        ...   \n",
       "130866                                     NaN                        0.0   \n",
       "130867                                    3.25                        2.0   \n",
       "130868                                     NaN                        0.0   \n",
       "130869                                     NaN                        NaN   \n",
       "130870                                     NaN                        0.0   \n",
       "\n",
       "        parent_asin_rating_avg_prev_rating_7d  user_rating_cnt_90d  \\\n",
       "0                                         NaN                  1.0   \n",
       "1                                         5.0                  2.0   \n",
       "2                                         NaN                  2.0   \n",
       "3                                         5.0                  1.0   \n",
       "4                                         NaN                  1.0   \n",
       "...                                       ...                  ...   \n",
       "130866                                    NaN                  1.0   \n",
       "130867                                    3.0                  1.0   \n",
       "130868                                    NaN                  1.0   \n",
       "130869                                    NaN                  NaN   \n",
       "130870                                    NaN                  1.0   \n",
       "\n",
       "        user_rating_avg_prev_rating_90d  \\\n",
       "0                                   NaN   \n",
       "1                                   2.0   \n",
       "2                                   3.0   \n",
       "3                                   NaN   \n",
       "4                                   NaN   \n",
       "...                                 ...   \n",
       "130866                              NaN   \n",
       "130867                              NaN   \n",
       "130868                              NaN   \n",
       "130869                              NaN   \n",
       "130870                              NaN   \n",
       "\n",
       "                          user_rating_list_10_recent_asin  \\\n",
       "0                                                    None   \n",
       "1                                              B06XKCPK5W   \n",
       "2                                   B06XKCPK5W,B000CKVOOY   \n",
       "3                        B06XKCPK5W,B000CKVOOY,B006GWO5WK   \n",
       "4             B06XKCPK5W,B000CKVOOY,B006GWO5WK,B008LURQ76   \n",
       "...                                                   ...   \n",
       "130866  B074VMZ8JB,B00H8JVFCI,B00KO99GB6,B00CF4G7JC,B0...   \n",
       "130867  B07C8KVP9F,B09SBP9P92,B075X8471B,B0791TX5P5,B0...   \n",
       "130868  B000QKKAPE,B001DKO7R8,B0BMJ89V4P,B0043T7FXE,B0...   \n",
       "130869                                               None   \n",
       "130870  B073GZBT36,B0791W7C9V,B0785NMZFJ,B00WUI8VYW,B0...   \n",
       "\n",
       "                user_rating_list_10_recent_asin_timestamp  \n",
       "0                                                    None  \n",
       "1                                              1339432870  \n",
       "2                                   1339432870,1343873053  \n",
       "3                        1339432870,1343873053,1347726886  \n",
       "4             1339432870,1343873053,1347726886,1357254525  \n",
       "...                                                   ...  \n",
       "130866  1360730296,1432061059,1456243479,1456243487,14...  \n",
       "130867  1462221728,1488063495,1495905967,1564232045,15...  \n",
       "130868  1232828952,1305485716,1355137628,1452428556,14...  \n",
       "130869                                               None  \n",
       "130870  1519141529,1528983239,1529449098,1531165850,15...  \n",
       "\n",
       "[130871 rows x 17 columns]"
      ]
     },
     "execution_count": 38,
     "metadata": {},
     "output_type": "execute_result"
    }
   ],
   "source": [
    "full_features_df = pd.merge(\n",
    "    full_features_df, features_df, on=[args.user_col, args.timestamp_col], how=\"left\"\n",
    ")\n",
    "full_features_df"
   ]
  },
  {
   "cell_type": "code",
   "execution_count": null,
   "id": "8ac4db0b",
   "metadata": {},
   "outputs": [
    {
     "name": "stderr",
     "output_type": "stream",
     "text": [
      "\u001b[32m2025-06-23 12:41:54.269\u001b[0m | \u001b[1mINFO    \u001b[0m | \u001b[36m__main__\u001b[0m:\u001b[36m<module>\u001b[0m:\u001b[36m2\u001b[0m - \u001b[1mEye-balling if the features are correct...\u001b[0m\n"
     ]
    },
    {
     "data": {
      "text/html": [
       "<div>\n",
       "<style scoped>\n",
       "    .dataframe tbody tr th:only-of-type {\n",
       "        vertical-align: middle;\n",
       "    }\n",
       "\n",
       "    .dataframe tbody tr th {\n",
       "        vertical-align: top;\n",
       "    }\n",
       "\n",
       "    .dataframe thead th {\n",
       "        text-align: right;\n",
       "    }\n",
       "</style>\n",
       "<table border=\"1\" class=\"dataframe\">\n",
       "  <thead>\n",
       "    <tr style=\"text-align: right;\">\n",
       "      <th></th>\n",
       "      <th>user_id</th>\n",
       "      <th>timestamp</th>\n",
       "      <th>timestamp_unix</th>\n",
       "      <th>parent_asin</th>\n",
       "      <th>user_rating_list_10_recent_asin</th>\n",
       "      <th>user_rating_list_10_recent_asin_timestamp</th>\n",
       "    </tr>\n",
       "  </thead>\n",
       "  <tbody>\n",
       "    <tr>\n",
       "      <th>0</th>\n",
       "      <td>AEYGPUCRKH7G4VM22FM3VAKSQ23Q</td>\n",
       "      <td>2012-06-11 16:41:10</td>\n",
       "      <td>1339432870</td>\n",
       "      <td>B06XKCPK5W</td>\n",
       "      <td>None</td>\n",
       "      <td>None</td>\n",
       "    </tr>\n",
       "    <tr>\n",
       "      <th>1</th>\n",
       "      <td>AEYGPUCRKH7G4VM22FM3VAKSQ23Q</td>\n",
       "      <td>2012-08-02 02:04:13</td>\n",
       "      <td>1343873053</td>\n",
       "      <td>B000CKVOOY</td>\n",
       "      <td>B06XKCPK5W</td>\n",
       "      <td>1339432870</td>\n",
       "    </tr>\n",
       "    <tr>\n",
       "      <th>2</th>\n",
       "      <td>AEYGPUCRKH7G4VM22FM3VAKSQ23Q</td>\n",
       "      <td>2012-09-15 16:34:46</td>\n",
       "      <td>1347726886</td>\n",
       "      <td>B006GWO5WK</td>\n",
       "      <td>B06XKCPK5W,B000CKVOOY</td>\n",
       "      <td>1339432870,1343873053</td>\n",
       "    </tr>\n",
       "    <tr>\n",
       "      <th>3</th>\n",
       "      <td>AEYGPUCRKH7G4VM22FM3VAKSQ23Q</td>\n",
       "      <td>2013-01-03 23:08:45</td>\n",
       "      <td>1357254525</td>\n",
       "      <td>B008LURQ76</td>\n",
       "      <td>B06XKCPK5W,B000CKVOOY,B006GWO5WK</td>\n",
       "      <td>1339432870,1343873053,1347726886</td>\n",
       "    </tr>\n",
       "    <tr>\n",
       "      <th>4</th>\n",
       "      <td>AEYGPUCRKH7G4VM22FM3VAKSQ23Q</td>\n",
       "      <td>2013-05-06 01:24:39</td>\n",
       "      <td>1367803479</td>\n",
       "      <td>B00AQRUW4Q</td>\n",
       "      <td>B06XKCPK5W,B000CKVOOY,B006GWO5WK,B008LURQ76</td>\n",
       "      <td>1339432870,1343873053,1347726886,1357254525</td>\n",
       "    </tr>\n",
       "    <tr>\n",
       "      <th>5</th>\n",
       "      <td>AEYGPUCRKH7G4VM22FM3VAKSQ23Q</td>\n",
       "      <td>2013-11-21 19:35:40</td>\n",
       "      <td>1385062540</td>\n",
       "      <td>B00EXK14S0</td>\n",
       "      <td>B06XKCPK5W,B000CKVOOY,B006GWO5WK,B008LURQ76,B0...</td>\n",
       "      <td>1339432870,1343873053,1347726886,1357254525,13...</td>\n",
       "    </tr>\n",
       "    <tr>\n",
       "      <th>6</th>\n",
       "      <td>AEYGPUCRKH7G4VM22FM3VAKSQ23Q</td>\n",
       "      <td>2014-09-15 00:49:08</td>\n",
       "      <td>1410742148</td>\n",
       "      <td>B00LSYHLR2</td>\n",
       "      <td>B06XKCPK5W,B000CKVOOY,B006GWO5WK,B008LURQ76,B0...</td>\n",
       "      <td>1339432870,1343873053,1347726886,1357254525,13...</td>\n",
       "    </tr>\n",
       "    <tr>\n",
       "      <th>7</th>\n",
       "      <td>AEYGPUCRKH7G4VM22FM3VAKSQ23Q</td>\n",
       "      <td>2014-10-06 00:33:31</td>\n",
       "      <td>1412555611</td>\n",
       "      <td>B01AS57B0I</td>\n",
       "      <td>B06XKCPK5W,B000CKVOOY,B006GWO5WK,B008LURQ76,B0...</td>\n",
       "      <td>1339432870,1343873053,1347726886,1357254525,13...</td>\n",
       "    </tr>\n",
       "    <tr>\n",
       "      <th>8</th>\n",
       "      <td>AEYGPUCRKH7G4VM22FM3VAKSQ23Q</td>\n",
       "      <td>2015-01-19 19:19:17</td>\n",
       "      <td>1421695157</td>\n",
       "      <td>B00ON7AX3U</td>\n",
       "      <td>B06XKCPK5W,B000CKVOOY,B006GWO5WK,B008LURQ76,B0...</td>\n",
       "      <td>1339432870,1343873053,1347726886,1357254525,13...</td>\n",
       "    </tr>\n",
       "    <tr>\n",
       "      <th>9</th>\n",
       "      <td>AEYGPUCRKH7G4VM22FM3VAKSQ23Q</td>\n",
       "      <td>2015-04-27 02:08:40</td>\n",
       "      <td>1430100520</td>\n",
       "      <td>B099RZY28N</td>\n",
       "      <td>B06XKCPK5W,B000CKVOOY,B006GWO5WK,B008LURQ76,B0...</td>\n",
       "      <td>1339432870,1343873053,1347726886,1357254525,13...</td>\n",
       "    </tr>\n",
       "  </tbody>\n",
       "</table>\n",
       "</div>"
      ],
      "text/plain": [
       "                        user_id           timestamp  timestamp_unix  \\\n",
       "0  AEYGPUCRKH7G4VM22FM3VAKSQ23Q 2012-06-11 16:41:10      1339432870   \n",
       "1  AEYGPUCRKH7G4VM22FM3VAKSQ23Q 2012-08-02 02:04:13      1343873053   \n",
       "2  AEYGPUCRKH7G4VM22FM3VAKSQ23Q 2012-09-15 16:34:46      1347726886   \n",
       "3  AEYGPUCRKH7G4VM22FM3VAKSQ23Q 2013-01-03 23:08:45      1357254525   \n",
       "4  AEYGPUCRKH7G4VM22FM3VAKSQ23Q 2013-05-06 01:24:39      1367803479   \n",
       "5  AEYGPUCRKH7G4VM22FM3VAKSQ23Q 2013-11-21 19:35:40      1385062540   \n",
       "6  AEYGPUCRKH7G4VM22FM3VAKSQ23Q 2014-09-15 00:49:08      1410742148   \n",
       "7  AEYGPUCRKH7G4VM22FM3VAKSQ23Q 2014-10-06 00:33:31      1412555611   \n",
       "8  AEYGPUCRKH7G4VM22FM3VAKSQ23Q 2015-01-19 19:19:17      1421695157   \n",
       "9  AEYGPUCRKH7G4VM22FM3VAKSQ23Q 2015-04-27 02:08:40      1430100520   \n",
       "\n",
       "  parent_asin                    user_rating_list_10_recent_asin  \\\n",
       "0  B06XKCPK5W                                               None   \n",
       "1  B000CKVOOY                                         B06XKCPK5W   \n",
       "2  B006GWO5WK                              B06XKCPK5W,B000CKVOOY   \n",
       "3  B008LURQ76                   B06XKCPK5W,B000CKVOOY,B006GWO5WK   \n",
       "4  B00AQRUW4Q        B06XKCPK5W,B000CKVOOY,B006GWO5WK,B008LURQ76   \n",
       "5  B00EXK14S0  B06XKCPK5W,B000CKVOOY,B006GWO5WK,B008LURQ76,B0...   \n",
       "6  B00LSYHLR2  B06XKCPK5W,B000CKVOOY,B006GWO5WK,B008LURQ76,B0...   \n",
       "7  B01AS57B0I  B06XKCPK5W,B000CKVOOY,B006GWO5WK,B008LURQ76,B0...   \n",
       "8  B00ON7AX3U  B06XKCPK5W,B000CKVOOY,B006GWO5WK,B008LURQ76,B0...   \n",
       "9  B099RZY28N  B06XKCPK5W,B000CKVOOY,B006GWO5WK,B008LURQ76,B0...   \n",
       "\n",
       "           user_rating_list_10_recent_asin_timestamp  \n",
       "0                                               None  \n",
       "1                                         1339432870  \n",
       "2                              1339432870,1343873053  \n",
       "3                   1339432870,1343873053,1347726886  \n",
       "4        1339432870,1343873053,1347726886,1357254525  \n",
       "5  1339432870,1343873053,1347726886,1357254525,13...  \n",
       "6  1339432870,1343873053,1347726886,1357254525,13...  \n",
       "7  1339432870,1343873053,1347726886,1357254525,13...  \n",
       "8  1339432870,1343873053,1347726886,1357254525,13...  \n",
       "9  1339432870,1343873053,1347726886,1357254525,13...  "
      ]
     },
     "execution_count": 43,
     "metadata": {},
     "output_type": "execute_result"
    }
   ],
   "source": [
    "user_id = full_features_df[args.user_col].iloc[3]\n",
    "logger.info(f\"Eye-balling if the features are correct...\")\n",
    "full_features_df.loc[lambda df: df[args.user_col].eq(user_id)].sort_values(\n",
    "    args.timestamp_col\n",
    ")[\n",
    "    [\n",
    "        args.user_col,\n",
    "        args.timestamp_col,\n",
    "        \"timestamp_unix\",\n",
    "        args.item_col,\n",
    "        \"user_rating_list_10_recent_asin\",\n",
    "        \"user_rating_list_10_recent_asin_timestamp\",\n",
    "    ]\n",
    "].head(10)"
   ]
  },
  {
   "cell_type": "code",
   "execution_count": null,
   "id": "a928ea67",
   "metadata": {},
   "outputs": [],
   "source": [
    "full_features_df = full_features_df.pipe(idm.map_indices, args.user_col, args.item_col)"
   ]
  },
  {
   "cell_type": "code",
   "execution_count": null,
   "id": "377839c4",
   "metadata": {},
   "outputs": [],
   "source": [
    "def convert_asin_to_idx(inp: str, sequence_length=10, padding_value=-1):\n",
    "    if inp is None:\n",
    "        return [padding_value] * sequence_length\n",
    "    asins = inp.split(\",\")\n",
    "    indices = [idm.get_item_index(item_id) for item_id in asins]\n",
    "    padding_needed = sequence_length - len(indices)\n",
    "    output = np.pad(\n",
    "        indices,\n",
    "        (padding_needed, 0),  # Add padding at the beginning\n",
    "        \"constant\",\n",
    "        constant_values=padding_value,\n",
    "    )\n",
    "    return output"
   ]
  },
  {
   "cell_type": "code",
   "execution_count": null,
   "id": "1ab8d05f",
   "metadata": {},
   "outputs": [
    {
     "data": {
      "text/html": [
       "<div>\n",
       "<style scoped>\n",
       "    .dataframe tbody tr th:only-of-type {\n",
       "        vertical-align: middle;\n",
       "    }\n",
       "\n",
       "    .dataframe tbody tr th {\n",
       "        vertical-align: top;\n",
       "    }\n",
       "\n",
       "    .dataframe thead th {\n",
       "        text-align: right;\n",
       "    }\n",
       "</style>\n",
       "<table border=\"1\" class=\"dataframe\">\n",
       "  <thead>\n",
       "    <tr style=\"text-align: right;\">\n",
       "      <th></th>\n",
       "      <th>user_id</th>\n",
       "      <th>parent_asin</th>\n",
       "      <th>rating</th>\n",
       "      <th>timestamp</th>\n",
       "      <th>timestamp_unix</th>\n",
       "      <th>parent_asin_rating_cnt_365d</th>\n",
       "      <th>parent_asin_rating_avg_prev_rating_365d</th>\n",
       "      <th>parent_asin_rating_cnt_90d</th>\n",
       "      <th>parent_asin_rating_avg_prev_rating_90d</th>\n",
       "      <th>parent_asin_rating_cnt_30d</th>\n",
       "      <th>...</th>\n",
       "      <th>parent_asin_rating_avg_prev_rating_7d</th>\n",
       "      <th>user_rating_cnt_90d</th>\n",
       "      <th>user_rating_avg_prev_rating_90d</th>\n",
       "      <th>user_rating_list_10_recent_asin</th>\n",
       "      <th>user_rating_list_10_recent_asin_timestamp</th>\n",
       "      <th>user_indice</th>\n",
       "      <th>item_indice</th>\n",
       "      <th>item_sequence</th>\n",
       "      <th>item_sequence_ts</th>\n",
       "      <th>item_sequence_ts_bucket</th>\n",
       "    </tr>\n",
       "  </thead>\n",
       "  <tbody>\n",
       "    <tr>\n",
       "      <th>0</th>\n",
       "      <td>AEYGPUCRKH7G4VM22FM3VAKSQ23Q</td>\n",
       "      <td>B06XKCPK5W</td>\n",
       "      <td>2.0</td>\n",
       "      <td>2012-06-11 16:41:10.000</td>\n",
       "      <td>1339432870</td>\n",
       "      <td>0.0</td>\n",
       "      <td>NaN</td>\n",
       "      <td>0.0</td>\n",
       "      <td>NaN</td>\n",
       "      <td>0.0</td>\n",
       "      <td>...</td>\n",
       "      <td>NaN</td>\n",
       "      <td>1.0</td>\n",
       "      <td>NaN</td>\n",
       "      <td>None</td>\n",
       "      <td>None</td>\n",
       "      <td>3931</td>\n",
       "      <td>2905</td>\n",
       "      <td>[-1, -1, -1, -1, -1, -1, -1, -1, -1, -1]</td>\n",
       "      <td>[-1, -1, -1, -1, -1, -1, -1, -1, -1, -1]</td>\n",
       "      <td>[-1, -1, -1, -1, -1, -1, -1, -1, -1, -1]</td>\n",
       "    </tr>\n",
       "    <tr>\n",
       "      <th>1</th>\n",
       "      <td>AEYGPUCRKH7G4VM22FM3VAKSQ23Q</td>\n",
       "      <td>B000CKVOOY</td>\n",
       "      <td>3.0</td>\n",
       "      <td>2012-08-02 02:04:13.000</td>\n",
       "      <td>1343873053</td>\n",
       "      <td>3.0</td>\n",
       "      <td>5.000000</td>\n",
       "      <td>1.0</td>\n",
       "      <td>5.000000</td>\n",
       "      <td>1.0</td>\n",
       "      <td>...</td>\n",
       "      <td>5.0</td>\n",
       "      <td>2.0</td>\n",
       "      <td>2.0</td>\n",
       "      <td>B06XKCPK5W</td>\n",
       "      <td>1339432870</td>\n",
       "      <td>3931</td>\n",
       "      <td>89</td>\n",
       "      <td>[-1, -1, -1, -1, -1, -1, -1, -1, -1, 2905]</td>\n",
       "      <td>[-1, -1, -1, -1, -1, -1, -1, -1, -1, 1339432870]</td>\n",
       "      <td>[-1, -1, -1, -1, -1, -1, -1, -1, -1, 5]</td>\n",
       "    </tr>\n",
       "    <tr>\n",
       "      <th>2</th>\n",
       "      <td>AEYGPUCRKH7G4VM22FM3VAKSQ23Q</td>\n",
       "      <td>B006GWO5WK</td>\n",
       "      <td>5.0</td>\n",
       "      <td>2012-09-15 16:34:46.000</td>\n",
       "      <td>1347726886</td>\n",
       "      <td>0.0</td>\n",
       "      <td>NaN</td>\n",
       "      <td>0.0</td>\n",
       "      <td>NaN</td>\n",
       "      <td>0.0</td>\n",
       "      <td>...</td>\n",
       "      <td>NaN</td>\n",
       "      <td>2.0</td>\n",
       "      <td>3.0</td>\n",
       "      <td>B06XKCPK5W,B000CKVOOY</td>\n",
       "      <td>1339432870,1343873053</td>\n",
       "      <td>3931</td>\n",
       "      <td>758</td>\n",
       "      <td>[-1, -1, -1, -1, -1, -1, -1, -1, 2905, 89]</td>\n",
       "      <td>[-1, -1, -1, -1, -1, -1, -1, -1, 1339432870, 1...</td>\n",
       "      <td>[-1, -1, -1, -1, -1, -1, -1, -1, 5, 5]</td>\n",
       "    </tr>\n",
       "    <tr>\n",
       "      <th>3</th>\n",
       "      <td>AEYGPUCRKH7G4VM22FM3VAKSQ23Q</td>\n",
       "      <td>B008LURQ76</td>\n",
       "      <td>5.0</td>\n",
       "      <td>2013-01-03 23:08:45.000</td>\n",
       "      <td>1357254525</td>\n",
       "      <td>4.0</td>\n",
       "      <td>4.250000</td>\n",
       "      <td>2.0</td>\n",
       "      <td>5.000000</td>\n",
       "      <td>2.0</td>\n",
       "      <td>...</td>\n",
       "      <td>5.0</td>\n",
       "      <td>1.0</td>\n",
       "      <td>NaN</td>\n",
       "      <td>B06XKCPK5W,B000CKVOOY,B006GWO5WK</td>\n",
       "      <td>1339432870,1343873053,1347726886</td>\n",
       "      <td>3931</td>\n",
       "      <td>959</td>\n",
       "      <td>[-1, -1, -1, -1, -1, -1, -1, 2905, 89, 758]</td>\n",
       "      <td>[-1, -1, -1, -1, -1, -1, -1, 1339432870, 13438...</td>\n",
       "      <td>[-1, -1, -1, -1, -1, -1, -1, 5, 5, 5]</td>\n",
       "    </tr>\n",
       "    <tr>\n",
       "      <th>4</th>\n",
       "      <td>AEYGPUCRKH7G4VM22FM3VAKSQ23Q</td>\n",
       "      <td>B00AQRUW4Q</td>\n",
       "      <td>4.0</td>\n",
       "      <td>2013-05-06 01:24:39.000</td>\n",
       "      <td>1367803479</td>\n",
       "      <td>3.0</td>\n",
       "      <td>4.333333</td>\n",
       "      <td>3.0</td>\n",
       "      <td>4.333333</td>\n",
       "      <td>1.0</td>\n",
       "      <td>...</td>\n",
       "      <td>NaN</td>\n",
       "      <td>1.0</td>\n",
       "      <td>NaN</td>\n",
       "      <td>B06XKCPK5W,B000CKVOOY,B006GWO5WK,B008LURQ76</td>\n",
       "      <td>1339432870,1343873053,1347726886,1357254525</td>\n",
       "      <td>3931</td>\n",
       "      <td>1096</td>\n",
       "      <td>[-1, -1, -1, -1, -1, -1, 2905, 89, 758, 959]</td>\n",
       "      <td>[-1, -1, -1, -1, -1, -1, 1339432870, 134387305...</td>\n",
       "      <td>[-1, -1, -1, -1, -1, -1, 5, 5, 5, 5]</td>\n",
       "    </tr>\n",
       "    <tr>\n",
       "      <th>...</th>\n",
       "      <td>...</td>\n",
       "      <td>...</td>\n",
       "      <td>...</td>\n",
       "      <td>...</td>\n",
       "      <td>...</td>\n",
       "      <td>...</td>\n",
       "      <td>...</td>\n",
       "      <td>...</td>\n",
       "      <td>...</td>\n",
       "      <td>...</td>\n",
       "      <td>...</td>\n",
       "      <td>...</td>\n",
       "      <td>...</td>\n",
       "      <td>...</td>\n",
       "      <td>...</td>\n",
       "      <td>...</td>\n",
       "      <td>...</td>\n",
       "      <td>...</td>\n",
       "      <td>...</td>\n",
       "      <td>...</td>\n",
       "      <td>...</td>\n",
       "    </tr>\n",
       "    <tr>\n",
       "      <th>130866</th>\n",
       "      <td>AHIIISHZP6YAVVHMDEBLJ5CWZ7ZA</td>\n",
       "      <td>B0BZ62FQ13</td>\n",
       "      <td>3.0</td>\n",
       "      <td>2021-07-16 17:08:55.044</td>\n",
       "      <td>1626455335</td>\n",
       "      <td>3.0</td>\n",
       "      <td>5.000000</td>\n",
       "      <td>0.0</td>\n",
       "      <td>NaN</td>\n",
       "      <td>0.0</td>\n",
       "      <td>...</td>\n",
       "      <td>NaN</td>\n",
       "      <td>1.0</td>\n",
       "      <td>NaN</td>\n",
       "      <td>B074VMZ8JB,B00H8JVFCI,B00KO99GB6,B00CF4G7JC,B0...</td>\n",
       "      <td>1360730296,1432061059,1456243479,1456243487,14...</td>\n",
       "      <td>14144</td>\n",
       "      <td>4693</td>\n",
       "      <td>[-1, -1, 3051, 1472, 1662, 1213, 819, 665, 261...</td>\n",
       "      <td>[-1, -1, 1360730296, 1432061059, 1456243479, 1...</td>\n",
       "      <td>[-1, -1, 8, 8, 8, 8, 8, 8, 7, 7]</td>\n",
       "    </tr>\n",
       "    <tr>\n",
       "      <th>130867</th>\n",
       "      <td>AFTE3G43QHXWD3DJGDCI2DHEWQJQ</td>\n",
       "      <td>B08DMXDPW5</td>\n",
       "      <td>5.0</td>\n",
       "      <td>2021-01-14 01:48:09.423</td>\n",
       "      <td>1610588889</td>\n",
       "      <td>15.0</td>\n",
       "      <td>3.533333</td>\n",
       "      <td>15.0</td>\n",
       "      <td>3.533333</td>\n",
       "      <td>8.0</td>\n",
       "      <td>...</td>\n",
       "      <td>3.0</td>\n",
       "      <td>1.0</td>\n",
       "      <td>NaN</td>\n",
       "      <td>B07C8KVP9F,B09SBP9P92,B075X8471B,B0791TX5P5,B0...</td>\n",
       "      <td>1462221728,1488063495,1495905967,1564232045,15...</td>\n",
       "      <td>7343</td>\n",
       "      <td>3923</td>\n",
       "      <td>[-1, -1, -1, -1, -1, 3290, 4295, 3089, 3188, 3...</td>\n",
       "      <td>[-1, -1, -1, -1, -1, 1462221728, 1488063495, 1...</td>\n",
       "      <td>[-1, -1, -1, -1, -1, 7, 7, 7, 6, 6]</td>\n",
       "    </tr>\n",
       "    <tr>\n",
       "      <th>130868</th>\n",
       "      <td>AFENZZDPVUYFVBS47YDOWJCDYBSQ</td>\n",
       "      <td>B09XBT6DS9</td>\n",
       "      <td>4.0</td>\n",
       "      <td>2021-12-05 00:35:40.874</td>\n",
       "      <td>1638664540</td>\n",
       "      <td>2.0</td>\n",
       "      <td>5.000000</td>\n",
       "      <td>1.0</td>\n",
       "      <td>5.000000</td>\n",
       "      <td>0.0</td>\n",
       "      <td>...</td>\n",
       "      <td>NaN</td>\n",
       "      <td>1.0</td>\n",
       "      <td>NaN</td>\n",
       "      <td>B000QKKAPE,B001DKO7R8,B0BMJ89V4P,B0043T7FXE,B0...</td>\n",
       "      <td>1232828952,1305485716,1355137628,1452428556,14...</td>\n",
       "      <td>5497</td>\n",
       "      <td>4335</td>\n",
       "      <td>[-1, -1, -1, 137, 209, 4564, 487, 1049, 1652, ...</td>\n",
       "      <td>[-1, -1, -1, 1232828952, 1305485716, 135513762...</td>\n",
       "      <td>[-1, -1, -1, 9, 9, 8, 8, 8, 7, 6]</td>\n",
       "    </tr>\n",
       "    <tr>\n",
       "      <th>130869</th>\n",
       "      <td>AFMBZYPDAXT5VO3ME67HW5Q5TAOQ</td>\n",
       "      <td>B097KBF8JK</td>\n",
       "      <td>5.0</td>\n",
       "      <td>2022-02-18 11:32:46.732</td>\n",
       "      <td>1645183966</td>\n",
       "      <td>NaN</td>\n",
       "      <td>NaN</td>\n",
       "      <td>NaN</td>\n",
       "      <td>NaN</td>\n",
       "      <td>NaN</td>\n",
       "      <td>...</td>\n",
       "      <td>NaN</td>\n",
       "      <td>NaN</td>\n",
       "      <td>NaN</td>\n",
       "      <td>None</td>\n",
       "      <td>None</td>\n",
       "      <td>6427</td>\n",
       "      <td>4147</td>\n",
       "      <td>[-1, -1, -1, -1, -1, -1, -1, -1, -1, -1]</td>\n",
       "      <td>[-1, -1, -1, -1, -1, -1, -1, -1, -1, -1]</td>\n",
       "      <td>[-1, -1, -1, -1, -1, -1, -1, -1, -1, -1]</td>\n",
       "    </tr>\n",
       "    <tr>\n",
       "      <th>130870</th>\n",
       "      <td>AEMSEOMPBE6KWOZWCX4VE4E2E7HQ</td>\n",
       "      <td>B00FB45USW</td>\n",
       "      <td>5.0</td>\n",
       "      <td>2021-08-12 00:42:48.843</td>\n",
       "      <td>1628728968</td>\n",
       "      <td>0.0</td>\n",
       "      <td>NaN</td>\n",
       "      <td>0.0</td>\n",
       "      <td>NaN</td>\n",
       "      <td>0.0</td>\n",
       "      <td>...</td>\n",
       "      <td>NaN</td>\n",
       "      <td>1.0</td>\n",
       "      <td>NaN</td>\n",
       "      <td>B073GZBT36,B0791W7C9V,B0785NMZFJ,B00WUI8VYW,B0...</td>\n",
       "      <td>1519141529,1528983239,1529449098,1531165850,15...</td>\n",
       "      <td>2423</td>\n",
       "      <td>1394</td>\n",
       "      <td>[-1, -1, -1, -1, 3009, 3190, 3161, 2104, 2586,...</td>\n",
       "      <td>[-1, -1, -1, -1, 1519141529, 1528983239, 15294...</td>\n",
       "      <td>[-1, -1, -1, -1, 7, 7, 7, 7, 7, 7]</td>\n",
       "    </tr>\n",
       "  </tbody>\n",
       "</table>\n",
       "<p>130871 rows × 22 columns</p>\n",
       "</div>"
      ],
      "text/plain": [
       "                             user_id parent_asin  rating  \\\n",
       "0       AEYGPUCRKH7G4VM22FM3VAKSQ23Q  B06XKCPK5W     2.0   \n",
       "1       AEYGPUCRKH7G4VM22FM3VAKSQ23Q  B000CKVOOY     3.0   \n",
       "2       AEYGPUCRKH7G4VM22FM3VAKSQ23Q  B006GWO5WK     5.0   \n",
       "3       AEYGPUCRKH7G4VM22FM3VAKSQ23Q  B008LURQ76     5.0   \n",
       "4       AEYGPUCRKH7G4VM22FM3VAKSQ23Q  B00AQRUW4Q     4.0   \n",
       "...                              ...         ...     ...   \n",
       "130866  AHIIISHZP6YAVVHMDEBLJ5CWZ7ZA  B0BZ62FQ13     3.0   \n",
       "130867  AFTE3G43QHXWD3DJGDCI2DHEWQJQ  B08DMXDPW5     5.0   \n",
       "130868  AFENZZDPVUYFVBS47YDOWJCDYBSQ  B09XBT6DS9     4.0   \n",
       "130869  AFMBZYPDAXT5VO3ME67HW5Q5TAOQ  B097KBF8JK     5.0   \n",
       "130870  AEMSEOMPBE6KWOZWCX4VE4E2E7HQ  B00FB45USW     5.0   \n",
       "\n",
       "                     timestamp  timestamp_unix  parent_asin_rating_cnt_365d  \\\n",
       "0      2012-06-11 16:41:10.000      1339432870                          0.0   \n",
       "1      2012-08-02 02:04:13.000      1343873053                          3.0   \n",
       "2      2012-09-15 16:34:46.000      1347726886                          0.0   \n",
       "3      2013-01-03 23:08:45.000      1357254525                          4.0   \n",
       "4      2013-05-06 01:24:39.000      1367803479                          3.0   \n",
       "...                        ...             ...                          ...   \n",
       "130866 2021-07-16 17:08:55.044      1626455335                          3.0   \n",
       "130867 2021-01-14 01:48:09.423      1610588889                         15.0   \n",
       "130868 2021-12-05 00:35:40.874      1638664540                          2.0   \n",
       "130869 2022-02-18 11:32:46.732      1645183966                          NaN   \n",
       "130870 2021-08-12 00:42:48.843      1628728968                          0.0   \n",
       "\n",
       "        parent_asin_rating_avg_prev_rating_365d  parent_asin_rating_cnt_90d  \\\n",
       "0                                           NaN                         0.0   \n",
       "1                                      5.000000                         1.0   \n",
       "2                                           NaN                         0.0   \n",
       "3                                      4.250000                         2.0   \n",
       "4                                      4.333333                         3.0   \n",
       "...                                         ...                         ...   \n",
       "130866                                 5.000000                         0.0   \n",
       "130867                                 3.533333                        15.0   \n",
       "130868                                 5.000000                         1.0   \n",
       "130869                                      NaN                         NaN   \n",
       "130870                                      NaN                         0.0   \n",
       "\n",
       "        parent_asin_rating_avg_prev_rating_90d  parent_asin_rating_cnt_30d  \\\n",
       "0                                          NaN                         0.0   \n",
       "1                                     5.000000                         1.0   \n",
       "2                                          NaN                         0.0   \n",
       "3                                     5.000000                         2.0   \n",
       "4                                     4.333333                         1.0   \n",
       "...                                        ...                         ...   \n",
       "130866                                     NaN                         0.0   \n",
       "130867                                3.533333                         8.0   \n",
       "130868                                5.000000                         0.0   \n",
       "130869                                     NaN                         NaN   \n",
       "130870                                     NaN                         0.0   \n",
       "\n",
       "        ...  parent_asin_rating_avg_prev_rating_7d  user_rating_cnt_90d  \\\n",
       "0       ...                                    NaN                  1.0   \n",
       "1       ...                                    5.0                  2.0   \n",
       "2       ...                                    NaN                  2.0   \n",
       "3       ...                                    5.0                  1.0   \n",
       "4       ...                                    NaN                  1.0   \n",
       "...     ...                                    ...                  ...   \n",
       "130866  ...                                    NaN                  1.0   \n",
       "130867  ...                                    3.0                  1.0   \n",
       "130868  ...                                    NaN                  1.0   \n",
       "130869  ...                                    NaN                  NaN   \n",
       "130870  ...                                    NaN                  1.0   \n",
       "\n",
       "        user_rating_avg_prev_rating_90d  \\\n",
       "0                                   NaN   \n",
       "1                                   2.0   \n",
       "2                                   3.0   \n",
       "3                                   NaN   \n",
       "4                                   NaN   \n",
       "...                                 ...   \n",
       "130866                              NaN   \n",
       "130867                              NaN   \n",
       "130868                              NaN   \n",
       "130869                              NaN   \n",
       "130870                              NaN   \n",
       "\n",
       "                          user_rating_list_10_recent_asin  \\\n",
       "0                                                    None   \n",
       "1                                              B06XKCPK5W   \n",
       "2                                   B06XKCPK5W,B000CKVOOY   \n",
       "3                        B06XKCPK5W,B000CKVOOY,B006GWO5WK   \n",
       "4             B06XKCPK5W,B000CKVOOY,B006GWO5WK,B008LURQ76   \n",
       "...                                                   ...   \n",
       "130866  B074VMZ8JB,B00H8JVFCI,B00KO99GB6,B00CF4G7JC,B0...   \n",
       "130867  B07C8KVP9F,B09SBP9P92,B075X8471B,B0791TX5P5,B0...   \n",
       "130868  B000QKKAPE,B001DKO7R8,B0BMJ89V4P,B0043T7FXE,B0...   \n",
       "130869                                               None   \n",
       "130870  B073GZBT36,B0791W7C9V,B0785NMZFJ,B00WUI8VYW,B0...   \n",
       "\n",
       "                user_rating_list_10_recent_asin_timestamp user_indice  \\\n",
       "0                                                    None        3931   \n",
       "1                                              1339432870        3931   \n",
       "2                                   1339432870,1343873053        3931   \n",
       "3                        1339432870,1343873053,1347726886        3931   \n",
       "4             1339432870,1343873053,1347726886,1357254525        3931   \n",
       "...                                                   ...         ...   \n",
       "130866  1360730296,1432061059,1456243479,1456243487,14...       14144   \n",
       "130867  1462221728,1488063495,1495905967,1564232045,15...        7343   \n",
       "130868  1232828952,1305485716,1355137628,1452428556,14...        5497   \n",
       "130869                                               None        6427   \n",
       "130870  1519141529,1528983239,1529449098,1531165850,15...        2423   \n",
       "\n",
       "       item_indice                                      item_sequence  \\\n",
       "0             2905           [-1, -1, -1, -1, -1, -1, -1, -1, -1, -1]   \n",
       "1               89         [-1, -1, -1, -1, -1, -1, -1, -1, -1, 2905]   \n",
       "2              758         [-1, -1, -1, -1, -1, -1, -1, -1, 2905, 89]   \n",
       "3              959        [-1, -1, -1, -1, -1, -1, -1, 2905, 89, 758]   \n",
       "4             1096       [-1, -1, -1, -1, -1, -1, 2905, 89, 758, 959]   \n",
       "...            ...                                                ...   \n",
       "130866        4693  [-1, -1, 3051, 1472, 1662, 1213, 819, 665, 261...   \n",
       "130867        3923  [-1, -1, -1, -1, -1, 3290, 4295, 3089, 3188, 3...   \n",
       "130868        4335  [-1, -1, -1, 137, 209, 4564, 487, 1049, 1652, ...   \n",
       "130869        4147           [-1, -1, -1, -1, -1, -1, -1, -1, -1, -1]   \n",
       "130870        1394  [-1, -1, -1, -1, 3009, 3190, 3161, 2104, 2586,...   \n",
       "\n",
       "                                         item_sequence_ts  \\\n",
       "0                [-1, -1, -1, -1, -1, -1, -1, -1, -1, -1]   \n",
       "1        [-1, -1, -1, -1, -1, -1, -1, -1, -1, 1339432870]   \n",
       "2       [-1, -1, -1, -1, -1, -1, -1, -1, 1339432870, 1...   \n",
       "3       [-1, -1, -1, -1, -1, -1, -1, 1339432870, 13438...   \n",
       "4       [-1, -1, -1, -1, -1, -1, 1339432870, 134387305...   \n",
       "...                                                   ...   \n",
       "130866  [-1, -1, 1360730296, 1432061059, 1456243479, 1...   \n",
       "130867  [-1, -1, -1, -1, -1, 1462221728, 1488063495, 1...   \n",
       "130868  [-1, -1, -1, 1232828952, 1305485716, 135513762...   \n",
       "130869           [-1, -1, -1, -1, -1, -1, -1, -1, -1, -1]   \n",
       "130870  [-1, -1, -1, -1, 1519141529, 1528983239, 15294...   \n",
       "\n",
       "                         item_sequence_ts_bucket  \n",
       "0       [-1, -1, -1, -1, -1, -1, -1, -1, -1, -1]  \n",
       "1        [-1, -1, -1, -1, -1, -1, -1, -1, -1, 5]  \n",
       "2         [-1, -1, -1, -1, -1, -1, -1, -1, 5, 5]  \n",
       "3          [-1, -1, -1, -1, -1, -1, -1, 5, 5, 5]  \n",
       "4           [-1, -1, -1, -1, -1, -1, 5, 5, 5, 5]  \n",
       "...                                          ...  \n",
       "130866          [-1, -1, 8, 8, 8, 8, 8, 8, 7, 7]  \n",
       "130867       [-1, -1, -1, -1, -1, 7, 7, 7, 6, 6]  \n",
       "130868         [-1, -1, -1, 9, 9, 8, 8, 8, 7, 6]  \n",
       "130869  [-1, -1, -1, -1, -1, -1, -1, -1, -1, -1]  \n",
       "130870        [-1, -1, -1, -1, 7, 7, 7, 7, 7, 7]  \n",
       "\n",
       "[130871 rows x 22 columns]"
      ]
     },
     "execution_count": 51,
     "metadata": {},
     "output_type": "execute_result"
    }
   ],
   "source": [
    "    \n",
    "full_features_df = full_features_df.assign(\n",
    "    item_sequence=lambda df: df[\"user_rating_list_10_recent_asin\"].apply(\n",
    "        convert_asin_to_idx\n",
    "    ),\n",
    "    item_sequence_ts=lambda df: df[\"user_rating_list_10_recent_asin_timestamp\"].apply(\n",
    "        pad_timestamp_sequence\n",
    "    ),\n",
    "    item_sequence_ts_bucket=lambda df: df.apply(calc_sequence_timestamp_bucket, axis=1),\n",
    ")\n",
    "full_features_df"
   ]
  },
  {
   "cell_type": "code",
   "execution_count": null,
   "id": "f12392aa",
   "metadata": {},
   "outputs": [],
   "source": [
    "# Split back\n",
    "\n",
    "val_timestamp = pd.to_datetime(val_df[args.timestamp_col].astype(int)).min()\n",
    "train_df_length = train_df.shape[0]\n",
    "train_df = full_features_df.loc[lambda df: df[\"timestamp\"].lt(val_timestamp)]\n",
    "assert train_df.shape[0] == train_df_length\n",
    "\n",
    "val_df_length = val_df.shape[0]\n",
    "val_df = full_features_df.loc[lambda df: df[\"timestamp\"].ge(val_timestamp)]\n",
    "assert val_df.shape[0] == val_df_length"
   ]
  },
  {
   "cell_type": "code",
   "execution_count": null,
   "id": "a0e50235",
   "metadata": {},
   "outputs": [],
   "source": [
    "import numpy as np\n",
    "import pandas as pd\n",
    "from sklearn.feature_extraction.text import CountVectorizer, TfidfVectorizer\n",
    "from sklearn.impute import SimpleImputer\n",
    "from sklearn.preprocessing import FunctionTransformer, MinMaxScaler, StandardScaler\n",
    "\n",
    "\n",
    "def reshape_2d_to_1d(X):\n",
    "    \"\"\"\n",
    "    Ensure the shape is working for TFIDF pipeline.\n",
    "    \"\"\"\n",
    "    return np.array(X).reshape(-1)\n",
    "\n",
    "\n",
    "def flatten_string_array_col(X):\n",
    "    \"\"\"\n",
    "    The inputs contain columns with list of sentences. To properly analyze them we would flatten them.\n",
    "    \"\"\"\n",
    "    assert isinstance(X, pd.Series)\n",
    "    output = X.fillna(\"\").str.join(\"\\n\")\n",
    "    assert X.shape[0] == output.shape[0]\n",
    "    return output.values\n",
    "\n",
    "\n",
    "def todense(X):\n",
    "    return np.asarray(X.todense())\n",
    "\n",
    "\n",
    "def title_pipeline_steps():\n",
    "    steps = [\n",
    "        (\"impute\", SimpleImputer(strategy=\"constant\", fill_value=\"\")),\n",
    "        (\"reshape\", FunctionTransformer(reshape_2d_to_1d, validate=False)),\n",
    "        (\"tfidf\", TfidfVectorizer(min_df=5, max_features=1000, ngram_range=(1, 2))),\n",
    "        (\"todense\", FunctionTransformer(todense, validate=False)),\n",
    "    ]\n",
    "    return steps\n",
    "\n",
    "\n",
    "def description_pipeline_steps():\n",
    "    steps = [\n",
    "        (\n",
    "            \"flatten_string_array_col\",\n",
    "            FunctionTransformer(flatten_string_array_col, validate=False),\n",
    "        ),\n",
    "        (\"tfidf\", TfidfVectorizer(min_df=5, max_features=1000, ngram_range=(1, 2))),\n",
    "        (\"todense\", FunctionTransformer(todense, validate=False)),\n",
    "    ]\n",
    "    return steps\n",
    "\n",
    "\n",
    "def tokenizer(s):\n",
    "    return s.split(\"\\n\")\n",
    "\n",
    "\n",
    "def categories_pipeline_steps():\n",
    "    steps = [\n",
    "        (\n",
    "            \"flatten_string_array_col\",\n",
    "            FunctionTransformer(flatten_string_array_col, validate=False),\n",
    "        ),\n",
    "        (\"count_vect\", CountVectorizer(tokenizer=tokenizer, token_pattern=None)),\n",
    "        (\"todense\", FunctionTransformer(todense, validate=False)),\n",
    "    ]\n",
    "    return steps\n",
    "\n",
    "\n",
    "def price_parse_dtype(series, pattern):\n",
    "    return series.str.extract(pattern).astype(float)\n",
    "\n",
    "\n",
    "def price_pipeline_steps(price_pattern=None):\n",
    "    if price_pattern is None:\n",
    "        price_pattern = r\"\\b((?:\\d+\\.\\d*)|(?:\\d+))\\b\"\n",
    "    steps = [\n",
    "        (\n",
    "            \"extract_price\",\n",
    "            FunctionTransformer(\n",
    "                price_parse_dtype, kw_args=dict(pattern=price_pattern), validate=False\n",
    "            ),\n",
    "        ),\n",
    "        (\"impute\", SimpleImputer(strategy=\"constant\", fill_value=0)),\n",
    "        (\"min_max_scale\", MinMaxScaler()),\n",
    "    ]\n",
    "    return steps\n",
    "\n",
    "\n",
    "def rating_agg_pipeline_steps():\n",
    "    steps = [\n",
    "        (\"impute\", SimpleImputer(strategy=\"constant\", fill_value=0)),\n",
    "        (\"normalize\", StandardScaler()),\n",
    "    ]\n",
    "    return steps\n"
   ]
  },
  {
   "cell_type": "code",
   "execution_count": null,
   "id": "c660058c",
   "metadata": {},
   "outputs": [
    {
     "data": {
      "text/plain": [
       "['main_category',\n",
       " 'title',\n",
       " 'description',\n",
       " 'categories',\n",
       " 'price',\n",
       " 'parent_asin_rating_cnt_365d',\n",
       " 'parent_asin_rating_avg_prev_rating_365d',\n",
       " 'parent_asin_rating_cnt_90d',\n",
       " 'parent_asin_rating_avg_prev_rating_90d',\n",
       " 'parent_asin_rating_cnt_30d',\n",
       " 'parent_asin_rating_avg_prev_rating_30d',\n",
       " 'parent_asin_rating_cnt_7d',\n",
       " 'parent_asin_rating_avg_prev_rating_7d']"
      ]
     },
     "execution_count": 20,
     "metadata": {},
     "output_type": "execute_result"
    }
   ],
   "source": [
    "# Define the transformations for the columns\n",
    "rating_agg_cols = [feature.split(\":\")[1] for feature in item_features]\n",
    "\n",
    "tfm = [\n",
    "    (\"main_category\", OneHotEncoder(handle_unknown=\"ignore\"), [\"main_category\"]),\n",
    "    (\"title\", Pipeline(title_pipeline_steps()), [\"title\"]),\n",
    "    (\"description\", Pipeline(description_pipeline_steps()), \"description\"),\n",
    "    (\n",
    "        \"categories\",\n",
    "        Pipeline(categories_pipeline_steps()),\n",
    "        \"categories\",\n",
    "    ),  # Count Vectorizer for multi-label categorical\n",
    "    (\n",
    "        \"price\",\n",
    "        Pipeline(price_pipeline_steps()),\n",
    "        \"price\",\n",
    "    ),  # Normalizing price\n",
    "    # (\n",
    "    #     \"rating_agg\",\n",
    "    #     Pipeline(rating_agg_pipeline_steps()),\n",
    "    #     rating_agg_cols,\n",
    "    # ),\n",
    "]\n",
    "meta_cols = [\"main_category\", \"title\", \"description\", \"categories\", \"price\"]\n",
    "cols = meta_cols + rating_agg_cols\n",
    "cols"
   ]
  },
  {
   "cell_type": "code",
   "execution_count": null,
   "id": "165cc2e5",
   "metadata": {},
   "outputs": [],
   "source": [
    "def check_dup(df):\n",
    "    assert (\n",
    "        df[[args.user_col, args.item_col, args.timestamp_col]].duplicated().sum() == 0\n",
    "    )"
   ]
  },
  {
   "cell_type": "code",
   "execution_count": null,
   "id": "e92a67eb",
   "metadata": {},
   "outputs": [
    {
     "data": {
      "text/html": [
       "<div>\n",
       "<style scoped>\n",
       "    .dataframe tbody tr th:only-of-type {\n",
       "        vertical-align: middle;\n",
       "    }\n",
       "\n",
       "    .dataframe tbody tr th {\n",
       "        vertical-align: top;\n",
       "    }\n",
       "\n",
       "    .dataframe thead th {\n",
       "        text-align: right;\n",
       "    }\n",
       "</style>\n",
       "<table border=\"1\" class=\"dataframe\">\n",
       "  <thead>\n",
       "    <tr style=\"text-align: right;\">\n",
       "      <th></th>\n",
       "      <th>user_id</th>\n",
       "      <th>parent_asin</th>\n",
       "      <th>rating</th>\n",
       "      <th>timestamp</th>\n",
       "      <th>timestamp_unix</th>\n",
       "      <th>parent_asin_rating_cnt_365d</th>\n",
       "      <th>parent_asin_rating_avg_prev_rating_365d</th>\n",
       "      <th>parent_asin_rating_cnt_90d</th>\n",
       "      <th>parent_asin_rating_avg_prev_rating_90d</th>\n",
       "      <th>parent_asin_rating_cnt_30d</th>\n",
       "      <th>...</th>\n",
       "      <th>user_indice</th>\n",
       "      <th>item_indice</th>\n",
       "      <th>item_sequence</th>\n",
       "      <th>item_sequence_ts</th>\n",
       "      <th>item_sequence_ts_bucket</th>\n",
       "      <th>main_category</th>\n",
       "      <th>title</th>\n",
       "      <th>description</th>\n",
       "      <th>categories</th>\n",
       "      <th>price</th>\n",
       "    </tr>\n",
       "  </thead>\n",
       "  <tbody>\n",
       "    <tr>\n",
       "      <th>0</th>\n",
       "      <td>AEYGPUCRKH7G4VM22FM3VAKSQ23Q</td>\n",
       "      <td>B06XKCPK5W</td>\n",
       "      <td>2.0</td>\n",
       "      <td>2012-06-11 16:41:10</td>\n",
       "      <td>1339432870</td>\n",
       "      <td>0.0</td>\n",
       "      <td>NaN</td>\n",
       "      <td>0.0</td>\n",
       "      <td>NaN</td>\n",
       "      <td>0.0</td>\n",
       "      <td>...</td>\n",
       "      <td>3931</td>\n",
       "      <td>2905</td>\n",
       "      <td>[-1, -1, -1, -1, -1, -1, -1, -1, -1, -1]</td>\n",
       "      <td>[-1, -1, -1, -1, -1, -1, -1, -1, -1, -1]</td>\n",
       "      <td>[-1, -1, -1, -1, -1, -1, -1, -1, -1, -1]</td>\n",
       "      <td>Computers</td>\n",
       "      <td>Targus CleanVu Cleaning Pads Touch Screen Devi...</td>\n",
       "      <td>[The Targus CleanVu Cleaning Pads for iPad off...</td>\n",
       "      <td>[Electronics, Television &amp; Video, Accessories,...</td>\n",
       "      <td>6.99</td>\n",
       "    </tr>\n",
       "    <tr>\n",
       "      <th>1</th>\n",
       "      <td>AEYGPUCRKH7G4VM22FM3VAKSQ23Q</td>\n",
       "      <td>B000CKVOOY</td>\n",
       "      <td>3.0</td>\n",
       "      <td>2012-08-02 02:04:13</td>\n",
       "      <td>1343873053</td>\n",
       "      <td>3.0</td>\n",
       "      <td>5.000000</td>\n",
       "      <td>1.0</td>\n",
       "      <td>5.000000</td>\n",
       "      <td>1.0</td>\n",
       "      <td>...</td>\n",
       "      <td>3931</td>\n",
       "      <td>89</td>\n",
       "      <td>[-1, -1, -1, -1, -1, -1, -1, -1, -1, 2905]</td>\n",
       "      <td>[-1, -1, -1, -1, -1, -1, -1, -1, -1, 1339432870]</td>\n",
       "      <td>[-1, -1, -1, -1, -1, -1, -1, -1, -1, 5]</td>\n",
       "      <td>Computers</td>\n",
       "      <td>Arkon Folding Tablet Stand Compatible with App...</td>\n",
       "      <td>[IPM-TAB1 is a highly versatile folding tablet...</td>\n",
       "      <td>[Electronics, Computers &amp; Accessories, Tablet ...</td>\n",
       "      <td>14.95</td>\n",
       "    </tr>\n",
       "    <tr>\n",
       "      <th>2</th>\n",
       "      <td>AEYGPUCRKH7G4VM22FM3VAKSQ23Q</td>\n",
       "      <td>B006GWO5WK</td>\n",
       "      <td>5.0</td>\n",
       "      <td>2012-09-15 16:34:46</td>\n",
       "      <td>1347726886</td>\n",
       "      <td>0.0</td>\n",
       "      <td>NaN</td>\n",
       "      <td>0.0</td>\n",
       "      <td>NaN</td>\n",
       "      <td>0.0</td>\n",
       "      <td>...</td>\n",
       "      <td>3931</td>\n",
       "      <td>758</td>\n",
       "      <td>[-1, -1, -1, -1, -1, -1, -1, -1, 2905, 89]</td>\n",
       "      <td>[-1, -1, -1, -1, -1, -1, -1, -1, 1339432870, 1...</td>\n",
       "      <td>[-1, -1, -1, -1, -1, -1, -1, -1, 5, 5]</td>\n",
       "      <td>Amazon Devices</td>\n",
       "      <td>Amazon Kindle 9W PowerFast Adapter for Acceler...</td>\n",
       "      <td>[]</td>\n",
       "      <td>[Electronics, Computers &amp; Accessories, Tablet ...</td>\n",
       "      <td>None</td>\n",
       "    </tr>\n",
       "    <tr>\n",
       "      <th>3</th>\n",
       "      <td>AEYGPUCRKH7G4VM22FM3VAKSQ23Q</td>\n",
       "      <td>B008LURQ76</td>\n",
       "      <td>5.0</td>\n",
       "      <td>2013-01-03 23:08:45</td>\n",
       "      <td>1357254525</td>\n",
       "      <td>4.0</td>\n",
       "      <td>4.250000</td>\n",
       "      <td>2.0</td>\n",
       "      <td>5.000000</td>\n",
       "      <td>2.0</td>\n",
       "      <td>...</td>\n",
       "      <td>3931</td>\n",
       "      <td>959</td>\n",
       "      <td>[-1, -1, -1, -1, -1, -1, -1, 2905, 89, 758]</td>\n",
       "      <td>[-1, -1, -1, -1, -1, -1, -1, 1339432870, 13438...</td>\n",
       "      <td>[-1, -1, -1, -1, -1, -1, -1, 5, 5, 5]</td>\n",
       "      <td>Computers</td>\n",
       "      <td>amFilm (TM) Premium Screen Protector Film Clea...</td>\n",
       "      <td>[Introducing amFilm® Premium Screen Protector ...</td>\n",
       "      <td>[Electronics, Computers &amp; Accessories, Tablet ...</td>\n",
       "      <td>None</td>\n",
       "    </tr>\n",
       "    <tr>\n",
       "      <th>4</th>\n",
       "      <td>AEYGPUCRKH7G4VM22FM3VAKSQ23Q</td>\n",
       "      <td>B00AQRUW4Q</td>\n",
       "      <td>4.0</td>\n",
       "      <td>2013-05-06 01:24:39</td>\n",
       "      <td>1367803479</td>\n",
       "      <td>3.0</td>\n",
       "      <td>4.333333</td>\n",
       "      <td>3.0</td>\n",
       "      <td>4.333333</td>\n",
       "      <td>1.0</td>\n",
       "      <td>...</td>\n",
       "      <td>3931</td>\n",
       "      <td>1096</td>\n",
       "      <td>[-1, -1, -1, -1, -1, -1, 2905, 89, 758, 959]</td>\n",
       "      <td>[-1, -1, -1, -1, -1, -1, 1339432870, 134387305...</td>\n",
       "      <td>[-1, -1, -1, -1, -1, -1, 5, 5, 5, 5]</td>\n",
       "      <td>Computers</td>\n",
       "      <td>Seagate Wireless Plus 1TB Portable Hard Drive ...</td>\n",
       "      <td>[With Seagate Wireless Plus, you can enjoy you...</td>\n",
       "      <td>[Electronics, Computers &amp; Accessories, Data St...</td>\n",
       "      <td>None</td>\n",
       "    </tr>\n",
       "    <tr>\n",
       "      <th>...</th>\n",
       "      <td>...</td>\n",
       "      <td>...</td>\n",
       "      <td>...</td>\n",
       "      <td>...</td>\n",
       "      <td>...</td>\n",
       "      <td>...</td>\n",
       "      <td>...</td>\n",
       "      <td>...</td>\n",
       "      <td>...</td>\n",
       "      <td>...</td>\n",
       "      <td>...</td>\n",
       "      <td>...</td>\n",
       "      <td>...</td>\n",
       "      <td>...</td>\n",
       "      <td>...</td>\n",
       "      <td>...</td>\n",
       "      <td>...</td>\n",
       "      <td>...</td>\n",
       "      <td>...</td>\n",
       "      <td>...</td>\n",
       "      <td>...</td>\n",
       "    </tr>\n",
       "    <tr>\n",
       "      <th>127387</th>\n",
       "      <td>AFB4DWWKZBQFS22FAWDEP37EL2FA</td>\n",
       "      <td>B00KAF5RQ2</td>\n",
       "      <td>5.0</td>\n",
       "      <td>2016-02-22 17:44:10</td>\n",
       "      <td>1456163050</td>\n",
       "      <td>3.0</td>\n",
       "      <td>2.333333</td>\n",
       "      <td>0.0</td>\n",
       "      <td>NaN</td>\n",
       "      <td>0.0</td>\n",
       "      <td>...</td>\n",
       "      <td>5059</td>\n",
       "      <td>1634</td>\n",
       "      <td>[-1, -1, -1, -1, -1, -1, -1, -1, -1, -1]</td>\n",
       "      <td>[-1, -1, -1, -1, -1, -1, -1, -1, -1, -1]</td>\n",
       "      <td>[-1, -1, -1, -1, -1, -1, -1, -1, -1, -1]</td>\n",
       "      <td>Camera &amp; Photo</td>\n",
       "      <td>STK EN-EL14 EN-EL14a Battery Pack for Nikon D3...</td>\n",
       "      <td>[The STK Nikon EN-EL14 battery is 100% compati...</td>\n",
       "      <td>[Electronics, Camera &amp; Photo, Accessories, Bat...</td>\n",
       "      <td>14.99</td>\n",
       "    </tr>\n",
       "    <tr>\n",
       "      <th>127388</th>\n",
       "      <td>AFB4DWWKZBQFS22FAWDEP37EL2FA</td>\n",
       "      <td>B001F6TXME</td>\n",
       "      <td>5.0</td>\n",
       "      <td>2016-02-22 17:44:40</td>\n",
       "      <td>1456163080</td>\n",
       "      <td>3.0</td>\n",
       "      <td>5.000000</td>\n",
       "      <td>2.0</td>\n",
       "      <td>5.000000</td>\n",
       "      <td>1.0</td>\n",
       "      <td>...</td>\n",
       "      <td>5059</td>\n",
       "      <td>219</td>\n",
       "      <td>[-1, -1, -1, -1, -1, -1, -1, -1, -1, 1634]</td>\n",
       "      <td>[-1, -1, -1, -1, -1, -1, -1, -1, -1, 1456163050]</td>\n",
       "      <td>[-1, -1, -1, -1, -1, -1, -1, -1, -1, 0]</td>\n",
       "      <td>Camera &amp; Photo</td>\n",
       "      <td>Nikon 25395 MC-DC2 Remote Release Cord (1 Meter)</td>\n",
       "      <td>[Nikon MC-DC2 Remote Release Cord for Nikon Di...</td>\n",
       "      <td>[Electronics, Camera &amp; Photo, Accessories, Dig...</td>\n",
       "      <td>26.95</td>\n",
       "    </tr>\n",
       "    <tr>\n",
       "      <th>127389</th>\n",
       "      <td>AFB4DWWKZBQFS22FAWDEP37EL2FA</td>\n",
       "      <td>B007VGGIB6</td>\n",
       "      <td>5.0</td>\n",
       "      <td>2016-02-22 17:45:10</td>\n",
       "      <td>1456163110</td>\n",
       "      <td>7.0</td>\n",
       "      <td>2.714286</td>\n",
       "      <td>3.0</td>\n",
       "      <td>2.666667</td>\n",
       "      <td>0.0</td>\n",
       "      <td>...</td>\n",
       "      <td>5059</td>\n",
       "      <td>864</td>\n",
       "      <td>[-1, -1, -1, -1, -1, -1, -1, -1, 1634, 219]</td>\n",
       "      <td>[-1, -1, -1, -1, -1, -1, -1, -1, 1456163050, 1...</td>\n",
       "      <td>[-1, -1, -1, -1, -1, -1, -1, -1, 0, 0]</td>\n",
       "      <td>Camera &amp; Photo</td>\n",
       "      <td>Nikon WU-1a Wireless Mobile Adapter 27081 for ...</td>\n",
       "      <td>[The WU-1a is compatible with the following Ni...</td>\n",
       "      <td>[Electronics, Camera &amp; Photo, Accessories, Bat...</td>\n",
       "      <td>98.89</td>\n",
       "    </tr>\n",
       "    <tr>\n",
       "      <th>127390</th>\n",
       "      <td>AFB4DWWKZBQFS22FAWDEP37EL2FA</td>\n",
       "      <td>B00WUID73W</td>\n",
       "      <td>5.0</td>\n",
       "      <td>2016-02-22 17:45:37</td>\n",
       "      <td>1456163137</td>\n",
       "      <td>7.0</td>\n",
       "      <td>4.000000</td>\n",
       "      <td>0.0</td>\n",
       "      <td>NaN</td>\n",
       "      <td>0.0</td>\n",
       "      <td>...</td>\n",
       "      <td>5059</td>\n",
       "      <td>2113</td>\n",
       "      <td>[-1, -1, -1, -1, -1, -1, -1, 1634, 219, 864]</td>\n",
       "      <td>[-1, -1, -1, -1, -1, -1, -1, 1456163050, 14561...</td>\n",
       "      <td>[-1, -1, -1, -1, -1, -1, -1, 0, 0, 0]</td>\n",
       "      <td>Camera &amp; Photo</td>\n",
       "      <td>eForCity Leather Hand Grip Strap Compatible wi...</td>\n",
       "      <td>[Product Description Cushioned camera grips fi...</td>\n",
       "      <td>[Electronics, Camera &amp; Photo, Bags &amp; Cases, Bi...</td>\n",
       "      <td>None</td>\n",
       "    </tr>\n",
       "    <tr>\n",
       "      <th>127391</th>\n",
       "      <td>AFB4DWWKZBQFS22FAWDEP37EL2FA</td>\n",
       "      <td>B00SFSU53G</td>\n",
       "      <td>5.0</td>\n",
       "      <td>2016-07-15 00:58:19</td>\n",
       "      <td>1468544299</td>\n",
       "      <td>4.0</td>\n",
       "      <td>4.750000</td>\n",
       "      <td>1.0</td>\n",
       "      <td>5.000000</td>\n",
       "      <td>0.0</td>\n",
       "      <td>...</td>\n",
       "      <td>5059</td>\n",
       "      <td>1949</td>\n",
       "      <td>[-1, -1, -1, -1, -1, -1, 1634, 219, 864, 2113]</td>\n",
       "      <td>[-1, -1, -1, -1, -1, -1, 1456163050, 145616308...</td>\n",
       "      <td>[-1, -1, -1, -1, -1, -1, 5, 5, 5, 5]</td>\n",
       "      <td>All Electronics</td>\n",
       "      <td>Mounting Dream TV Wall Mount for 32-65 Inch TV...</td>\n",
       "      <td>[]</td>\n",
       "      <td>[Electronics, Television &amp; Video, Accessories,...</td>\n",
       "      <td>47.99</td>\n",
       "    </tr>\n",
       "  </tbody>\n",
       "</table>\n",
       "<p>127392 rows × 27 columns</p>\n",
       "</div>"
      ],
      "text/plain": [
       "                             user_id parent_asin  rating           timestamp  \\\n",
       "0       AEYGPUCRKH7G4VM22FM3VAKSQ23Q  B06XKCPK5W     2.0 2012-06-11 16:41:10   \n",
       "1       AEYGPUCRKH7G4VM22FM3VAKSQ23Q  B000CKVOOY     3.0 2012-08-02 02:04:13   \n",
       "2       AEYGPUCRKH7G4VM22FM3VAKSQ23Q  B006GWO5WK     5.0 2012-09-15 16:34:46   \n",
       "3       AEYGPUCRKH7G4VM22FM3VAKSQ23Q  B008LURQ76     5.0 2013-01-03 23:08:45   \n",
       "4       AEYGPUCRKH7G4VM22FM3VAKSQ23Q  B00AQRUW4Q     4.0 2013-05-06 01:24:39   \n",
       "...                              ...         ...     ...                 ...   \n",
       "127387  AFB4DWWKZBQFS22FAWDEP37EL2FA  B00KAF5RQ2     5.0 2016-02-22 17:44:10   \n",
       "127388  AFB4DWWKZBQFS22FAWDEP37EL2FA  B001F6TXME     5.0 2016-02-22 17:44:40   \n",
       "127389  AFB4DWWKZBQFS22FAWDEP37EL2FA  B007VGGIB6     5.0 2016-02-22 17:45:10   \n",
       "127390  AFB4DWWKZBQFS22FAWDEP37EL2FA  B00WUID73W     5.0 2016-02-22 17:45:37   \n",
       "127391  AFB4DWWKZBQFS22FAWDEP37EL2FA  B00SFSU53G     5.0 2016-07-15 00:58:19   \n",
       "\n",
       "        timestamp_unix  parent_asin_rating_cnt_365d  \\\n",
       "0           1339432870                          0.0   \n",
       "1           1343873053                          3.0   \n",
       "2           1347726886                          0.0   \n",
       "3           1357254525                          4.0   \n",
       "4           1367803479                          3.0   \n",
       "...                ...                          ...   \n",
       "127387      1456163050                          3.0   \n",
       "127388      1456163080                          3.0   \n",
       "127389      1456163110                          7.0   \n",
       "127390      1456163137                          7.0   \n",
       "127391      1468544299                          4.0   \n",
       "\n",
       "        parent_asin_rating_avg_prev_rating_365d  parent_asin_rating_cnt_90d  \\\n",
       "0                                           NaN                         0.0   \n",
       "1                                      5.000000                         1.0   \n",
       "2                                           NaN                         0.0   \n",
       "3                                      4.250000                         2.0   \n",
       "4                                      4.333333                         3.0   \n",
       "...                                         ...                         ...   \n",
       "127387                                 2.333333                         0.0   \n",
       "127388                                 5.000000                         2.0   \n",
       "127389                                 2.714286                         3.0   \n",
       "127390                                 4.000000                         0.0   \n",
       "127391                                 4.750000                         1.0   \n",
       "\n",
       "        parent_asin_rating_avg_prev_rating_90d  parent_asin_rating_cnt_30d  \\\n",
       "0                                          NaN                         0.0   \n",
       "1                                     5.000000                         1.0   \n",
       "2                                          NaN                         0.0   \n",
       "3                                     5.000000                         2.0   \n",
       "4                                     4.333333                         1.0   \n",
       "...                                        ...                         ...   \n",
       "127387                                     NaN                         0.0   \n",
       "127388                                5.000000                         1.0   \n",
       "127389                                2.666667                         0.0   \n",
       "127390                                     NaN                         0.0   \n",
       "127391                                5.000000                         0.0   \n",
       "\n",
       "        ...  user_indice  item_indice  \\\n",
       "0       ...         3931         2905   \n",
       "1       ...         3931           89   \n",
       "2       ...         3931          758   \n",
       "3       ...         3931          959   \n",
       "4       ...         3931         1096   \n",
       "...     ...          ...          ...   \n",
       "127387  ...         5059         1634   \n",
       "127388  ...         5059          219   \n",
       "127389  ...         5059          864   \n",
       "127390  ...         5059         2113   \n",
       "127391  ...         5059         1949   \n",
       "\n",
       "                                         item_sequence  \\\n",
       "0             [-1, -1, -1, -1, -1, -1, -1, -1, -1, -1]   \n",
       "1           [-1, -1, -1, -1, -1, -1, -1, -1, -1, 2905]   \n",
       "2           [-1, -1, -1, -1, -1, -1, -1, -1, 2905, 89]   \n",
       "3          [-1, -1, -1, -1, -1, -1, -1, 2905, 89, 758]   \n",
       "4         [-1, -1, -1, -1, -1, -1, 2905, 89, 758, 959]   \n",
       "...                                                ...   \n",
       "127387        [-1, -1, -1, -1, -1, -1, -1, -1, -1, -1]   \n",
       "127388      [-1, -1, -1, -1, -1, -1, -1, -1, -1, 1634]   \n",
       "127389     [-1, -1, -1, -1, -1, -1, -1, -1, 1634, 219]   \n",
       "127390    [-1, -1, -1, -1, -1, -1, -1, 1634, 219, 864]   \n",
       "127391  [-1, -1, -1, -1, -1, -1, 1634, 219, 864, 2113]   \n",
       "\n",
       "                                         item_sequence_ts  \\\n",
       "0                [-1, -1, -1, -1, -1, -1, -1, -1, -1, -1]   \n",
       "1        [-1, -1, -1, -1, -1, -1, -1, -1, -1, 1339432870]   \n",
       "2       [-1, -1, -1, -1, -1, -1, -1, -1, 1339432870, 1...   \n",
       "3       [-1, -1, -1, -1, -1, -1, -1, 1339432870, 13438...   \n",
       "4       [-1, -1, -1, -1, -1, -1, 1339432870, 134387305...   \n",
       "...                                                   ...   \n",
       "127387           [-1, -1, -1, -1, -1, -1, -1, -1, -1, -1]   \n",
       "127388   [-1, -1, -1, -1, -1, -1, -1, -1, -1, 1456163050]   \n",
       "127389  [-1, -1, -1, -1, -1, -1, -1, -1, 1456163050, 1...   \n",
       "127390  [-1, -1, -1, -1, -1, -1, -1, 1456163050, 14561...   \n",
       "127391  [-1, -1, -1, -1, -1, -1, 1456163050, 145616308...   \n",
       "\n",
       "                         item_sequence_ts_bucket    main_category  \\\n",
       "0       [-1, -1, -1, -1, -1, -1, -1, -1, -1, -1]        Computers   \n",
       "1        [-1, -1, -1, -1, -1, -1, -1, -1, -1, 5]        Computers   \n",
       "2         [-1, -1, -1, -1, -1, -1, -1, -1, 5, 5]   Amazon Devices   \n",
       "3          [-1, -1, -1, -1, -1, -1, -1, 5, 5, 5]        Computers   \n",
       "4           [-1, -1, -1, -1, -1, -1, 5, 5, 5, 5]        Computers   \n",
       "...                                          ...              ...   \n",
       "127387  [-1, -1, -1, -1, -1, -1, -1, -1, -1, -1]   Camera & Photo   \n",
       "127388   [-1, -1, -1, -1, -1, -1, -1, -1, -1, 0]   Camera & Photo   \n",
       "127389    [-1, -1, -1, -1, -1, -1, -1, -1, 0, 0]   Camera & Photo   \n",
       "127390     [-1, -1, -1, -1, -1, -1, -1, 0, 0, 0]   Camera & Photo   \n",
       "127391      [-1, -1, -1, -1, -1, -1, 5, 5, 5, 5]  All Electronics   \n",
       "\n",
       "                                                    title  \\\n",
       "0       Targus CleanVu Cleaning Pads Touch Screen Devi...   \n",
       "1       Arkon Folding Tablet Stand Compatible with App...   \n",
       "2       Amazon Kindle 9W PowerFast Adapter for Acceler...   \n",
       "3       amFilm (TM) Premium Screen Protector Film Clea...   \n",
       "4       Seagate Wireless Plus 1TB Portable Hard Drive ...   \n",
       "...                                                   ...   \n",
       "127387  STK EN-EL14 EN-EL14a Battery Pack for Nikon D3...   \n",
       "127388   Nikon 25395 MC-DC2 Remote Release Cord (1 Meter)   \n",
       "127389  Nikon WU-1a Wireless Mobile Adapter 27081 for ...   \n",
       "127390  eForCity Leather Hand Grip Strap Compatible wi...   \n",
       "127391  Mounting Dream TV Wall Mount for 32-65 Inch TV...   \n",
       "\n",
       "                                              description  \\\n",
       "0       [The Targus CleanVu Cleaning Pads for iPad off...   \n",
       "1       [IPM-TAB1 is a highly versatile folding tablet...   \n",
       "2                                                      []   \n",
       "3       [Introducing amFilm® Premium Screen Protector ...   \n",
       "4       [With Seagate Wireless Plus, you can enjoy you...   \n",
       "...                                                   ...   \n",
       "127387  [The STK Nikon EN-EL14 battery is 100% compati...   \n",
       "127388  [Nikon MC-DC2 Remote Release Cord for Nikon Di...   \n",
       "127389  [The WU-1a is compatible with the following Ni...   \n",
       "127390  [Product Description Cushioned camera grips fi...   \n",
       "127391                                                 []   \n",
       "\n",
       "                                               categories  price  \n",
       "0       [Electronics, Television & Video, Accessories,...   6.99  \n",
       "1       [Electronics, Computers & Accessories, Tablet ...  14.95  \n",
       "2       [Electronics, Computers & Accessories, Tablet ...   None  \n",
       "3       [Electronics, Computers & Accessories, Tablet ...   None  \n",
       "4       [Electronics, Computers & Accessories, Data St...   None  \n",
       "...                                                   ...    ...  \n",
       "127387  [Electronics, Camera & Photo, Accessories, Bat...  14.99  \n",
       "127388  [Electronics, Camera & Photo, Accessories, Dig...  26.95  \n",
       "127389  [Electronics, Camera & Photo, Accessories, Bat...  98.89  \n",
       "127390  [Electronics, Camera & Photo, Bags & Cases, Bi...   None  \n",
       "127391  [Electronics, Television & Video, Accessories,...  47.99  \n",
       "\n",
       "[127392 rows x 27 columns]"
      ]
     },
     "execution_count": 60,
     "metadata": {},
     "output_type": "execute_result"
    }
   ],
   "source": [
    "# Merge the item features into the interaction data\n",
    "train_features_df = pd.merge(\n",
    "    train_df, metadata_raw_df[[args.item_col] + meta_cols], how=\"left\", on=args.item_col\n",
    ")\n",
    "val_features_df = pd.merge(\n",
    "    val_df, metadata_raw_df[[args.item_col] + meta_cols], how=\"left\", on=args.item_col\n",
    ")\n",
    "check_dup(train_features_df)\n",
    "check_dup(val_features_df)\n",
    "train_features_df"
   ]
  },
  {
   "cell_type": "code",
   "execution_count": null,
   "id": "cf927787",
   "metadata": {},
   "outputs": [],
   "source": [
    "# papermill_description=fit-tfm-pipeline\n",
    "preprocessing_pipeline = ColumnTransformer(\n",
    "    transformers=tfm, remainder=\"drop\"  # Drop any columns not specified in transformers\n",
    ")\n",
    "\n",
    "# Create a pipeline object\n",
    "item_metadata_pipeline = Pipeline(\n",
    "    steps=[\n",
    "        (\"preprocessing\", preprocessing_pipeline),\n",
    "        (\n",
    "            \"normalizer\",\n",
    "            StandardScaler(),\n",
    "        ),  # Normalize the numerical outputs since it's an important preconditions for any Deep Learning models\n",
    "    ]\n",
    ")\n",
    "\n",
    "# Fit the pipeline\n",
    "# Drop duplicated item so that the Pipeline only fit the unique item features\n",
    "fit_df = train_features_df.drop_duplicates(subset=[args.item_col])\n",
    "item_metadata_pipeline.fit(fit_df)"
   ]
  },
  {
   "cell_type": "code",
   "execution_count": null,
   "id": "25bdd2d3",
   "metadata": {},
   "outputs": [
    {
     "data": {
      "text/plain": [
       "819"
      ]
     },
     "execution_count": 62,
     "metadata": {},
     "output_type": "execute_result"
    }
   ],
   "source": [
    "# Reclaim memory\n",
    "import gc\n",
    "\n",
    "del fit_df\n",
    "del train_df\n",
    "del val_df\n",
    "gc.collect()"
   ]
  },
  {
   "cell_type": "code",
   "execution_count": null,
   "id": "7e1e681b",
   "metadata": {},
   "outputs": [],
   "source": [
    "import numpy as np\n",
    "import pandas as pd\n",
    "from scipy.sparse import issparse\n",
    "from tqdm.auto import tqdm\n",
    "\n",
    "\n",
    "def chunk_transform(df, pipeline, chunk_size=1000):\n",
    "    transformed_chunks = []\n",
    "\n",
    "    progress_bar = tqdm(range(0, df.shape[0], chunk_size), desc=\"Transforming chunks\")\n",
    "\n",
    "    # Iterate through the DataFrame in chunks\n",
    "    for start in progress_bar:\n",
    "        end = min(start + chunk_size, df.shape[0])\n",
    "        chunk_df = df.iloc[start:end]\n",
    "\n",
    "        # Apply the pipeline transformation to the chunk\n",
    "        transformed_chunk = pipeline.transform(chunk_df)\n",
    "\n",
    "        # Check if the transformed output is sparse, and convert to dense\n",
    "        if issparse(transformed_chunk):\n",
    "            transformed_chunk = transformed_chunk.toarray()\n",
    "\n",
    "        # Collect the transformed chunk\n",
    "        transformed_chunks.append(transformed_chunk)\n",
    "\n",
    "    # Concatenate the transformed chunks into a single NumPy array\n",
    "    transformed_full = np.vstack(transformed_chunks)\n",
    "\n",
    "    return transformed_full\n",
    "\n",
    "\n",
    "def parse_dt(df, cols=[\"timestamp\"]):\n",
    "    return df.assign(\n",
    "        **{\n",
    "            col: lambda df: pd.to_datetime(df[col].astype(int), unit=\"ms\")\n",
    "            for col in cols\n",
    "        }\n",
    "    )\n",
    "\n",
    "\n",
    "def handle_dtypes(df):\n",
    "    return df.assign(rating=lambda df: df[\"rating\"].astype(float))\n"
   ]
  },
  {
   "cell_type": "code",
   "execution_count": null,
   "id": "4f406436",
   "metadata": {},
   "outputs": [
    {
     "data": {
      "application/vnd.jupyter.widget-view+json": {
       "model_id": "0a9e3c0154c64361a7d9add6557fac78",
       "version_major": 2,
       "version_minor": 0
      },
      "text/plain": [
       "Transforming chunks:   0%|          | 0/26 [00:00<?, ?it/s]"
      ]
     },
     "metadata": {},
     "output_type": "display_data"
    },
    {
     "name": "stderr",
     "output_type": "stream",
     "text": [
      "\u001b[32m2025-06-23 13:53:01.067\u001b[0m | \u001b[1mINFO    \u001b[0m | \u001b[36m__main__\u001b[0m:\u001b[36m<module>\u001b[0m:\u001b[36m7\u001b[0m - \u001b[1mTransformed Item Metadata Shape: (127392, 626)\u001b[0m\n"
     ]
    }
   ],
   "source": [
    "# papermill_description=chunk-transform\n",
    "# Transform the data in chunks to avoid OOM\n",
    "transformed_item_metadata = chunk_transform(\n",
    "    train_features_df, item_metadata_pipeline, chunk_size=args.tfm_chunk_size\n",
    ")\n",
    "\n",
    "logger.info(f\"Transformed Item Metadata Shape: {transformed_item_metadata.shape}\")"
   ]
  },
  {
   "cell_type": "code",
   "execution_count": null,
   "id": "8b3dcff8",
   "metadata": {},
   "outputs": [
    {
     "name": "stderr",
     "output_type": "stream",
     "text": [
      "\u001b[32m2025-06-23 13:54:04.991\u001b[0m | \u001b[1mINFO    \u001b[0m | \u001b[36m__main__\u001b[0m:\u001b[36m<module>\u001b[0m:\u001b[36m1\u001b[0m - \u001b[1mChecking stats...\u001b[0m\n"
     ]
    },
    {
     "data": {
      "text/html": [
       "<div>\n",
       "<style scoped>\n",
       "    .dataframe tbody tr th:only-of-type {\n",
       "        vertical-align: middle;\n",
       "    }\n",
       "\n",
       "    .dataframe tbody tr th {\n",
       "        vertical-align: top;\n",
       "    }\n",
       "\n",
       "    .dataframe thead th {\n",
       "        text-align: right;\n",
       "    }\n",
       "</style>\n",
       "<table border=\"1\" class=\"dataframe\">\n",
       "  <thead>\n",
       "    <tr style=\"text-align: right;\">\n",
       "      <th></th>\n",
       "      <th>mean</th>\n",
       "      <th>std</th>\n",
       "    </tr>\n",
       "  </thead>\n",
       "  <tbody>\n",
       "    <tr>\n",
       "      <th>0</th>\n",
       "      <td>-0.000914</td>\n",
       "      <td>0.981541</td>\n",
       "    </tr>\n",
       "    <tr>\n",
       "      <th>1</th>\n",
       "      <td>-0.007469</td>\n",
       "      <td>0.694083</td>\n",
       "    </tr>\n",
       "    <tr>\n",
       "      <th>2</th>\n",
       "      <td>-0.018925</td>\n",
       "      <td>0.987723</td>\n",
       "    </tr>\n",
       "    <tr>\n",
       "      <th>3</th>\n",
       "      <td>0.259204</td>\n",
       "      <td>1.462195</td>\n",
       "    </tr>\n",
       "    <tr>\n",
       "      <th>4</th>\n",
       "      <td>-0.007391</td>\n",
       "      <td>0.878011</td>\n",
       "    </tr>\n",
       "    <tr>\n",
       "      <th>...</th>\n",
       "      <td>...</td>\n",
       "      <td>...</td>\n",
       "    </tr>\n",
       "    <tr>\n",
       "      <th>621</th>\n",
       "      <td>0.251963</td>\n",
       "      <td>0.898281</td>\n",
       "    </tr>\n",
       "    <tr>\n",
       "      <th>622</th>\n",
       "      <td>0.964547</td>\n",
       "      <td>3.576236</td>\n",
       "    </tr>\n",
       "    <tr>\n",
       "      <th>623</th>\n",
       "      <td>0.362030</td>\n",
       "      <td>1.054229</td>\n",
       "    </tr>\n",
       "    <tr>\n",
       "      <th>624</th>\n",
       "      <td>0.727273</td>\n",
       "      <td>3.153834</td>\n",
       "    </tr>\n",
       "    <tr>\n",
       "      <th>625</th>\n",
       "      <td>0.363779</td>\n",
       "      <td>1.317633</td>\n",
       "    </tr>\n",
       "  </tbody>\n",
       "</table>\n",
       "<p>626 rows × 2 columns</p>\n",
       "</div>"
      ],
      "text/plain": [
       "         mean       std\n",
       "0   -0.000914  0.981541\n",
       "1   -0.007469  0.694083\n",
       "2   -0.018925  0.987723\n",
       "3    0.259204  1.462195\n",
       "4   -0.007391  0.878011\n",
       "..        ...       ...\n",
       "621  0.251963  0.898281\n",
       "622  0.964547  3.576236\n",
       "623  0.362030  1.054229\n",
       "624  0.727273  3.153834\n",
       "625  0.363779  1.317633\n",
       "\n",
       "[626 rows x 2 columns]"
      ]
     },
     "execution_count": 65,
     "metadata": {},
     "output_type": "execute_result"
    }
   ],
   "source": [
    "logger.info(f\"Checking stats...\")\n",
    "transformed_df_stats = (\n",
    "    pd.DataFrame(transformed_item_metadata)\n",
    "    .sample(10000)\n",
    "    .T.assign(mean=lambda df: df.mean(axis=1), std=lambda df: df.std(axis=1))[\n",
    "        [\"mean\", \"std\"]\n",
    "    ]\n",
    ")\n",
    "transformed_df_stats"
   ]
  },
  {
   "cell_type": "code",
   "execution_count": null,
   "id": "51e37dd0",
   "metadata": {},
   "outputs": [
    {
     "data": {
      "application/vnd.plotly.v1+json": {
       "config": {
        "plotlyServerURL": "https://plot.ly"
       },
       "data": [
        {
         "hovertemplate": "mean=%{x}<br>std=%{y}<extra></extra>",
         "legendgroup": "",
         "marker": {
          "color": "#636efa",
          "symbol": "circle"
         },
         "mode": "markers",
         "name": "",
         "orientation": "v",
         "showlegend": false,
         "type": "scatter",
         "x": {
          "bdata": "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",
          "dtype": "f8"
         },
         "xaxis": "x",
         "y": {
          "bdata": "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",
          "dtype": "f8"
         },
         "yaxis": "y"
        }
       ],
       "layout": {
        "legend": {
         "tracegroupgap": 0
        },
        "margin": {
         "t": 60
        },
        "template": {
         "data": {
          "bar": [
           {
            "error_x": {
             "color": "#2a3f5f"
            },
            "error_y": {
             "color": "#2a3f5f"
            },
            "marker": {
             "line": {
              "color": "#E5ECF6",
              "width": 0.5
             },
             "pattern": {
              "fillmode": "overlay",
              "size": 10,
              "solidity": 0.2
             }
            },
            "type": "bar"
           }
          ],
          "barpolar": [
           {
            "marker": {
             "line": {
              "color": "#E5ECF6",
              "width": 0.5
             },
             "pattern": {
              "fillmode": "overlay",
              "size": 10,
              "solidity": 0.2
             }
            },
            "type": "barpolar"
           }
          ],
          "carpet": [
           {
            "aaxis": {
             "endlinecolor": "#2a3f5f",
             "gridcolor": "white",
             "linecolor": "white",
             "minorgridcolor": "white",
             "startlinecolor": "#2a3f5f"
            },
            "baxis": {
             "endlinecolor": "#2a3f5f",
             "gridcolor": "white",
             "linecolor": "white",
             "minorgridcolor": "white",
             "startlinecolor": "#2a3f5f"
            },
            "type": "carpet"
           }
          ],
          "choropleth": [
           {
            "colorbar": {
             "outlinewidth": 0,
             "ticks": ""
            },
            "type": "choropleth"
           }
          ],
          "contour": [
           {
            "colorbar": {
             "outlinewidth": 0,
             "ticks": ""
            },
            "colorscale": [
             [
              0,
              "#0d0887"
             ],
             [
              0.1111111111111111,
              "#46039f"
             ],
             [
              0.2222222222222222,
              "#7201a8"
             ],
             [
              0.3333333333333333,
              "#9c179e"
             ],
             [
              0.4444444444444444,
              "#bd3786"
             ],
             [
              0.5555555555555556,
              "#d8576b"
             ],
             [
              0.6666666666666666,
              "#ed7953"
             ],
             [
              0.7777777777777778,
              "#fb9f3a"
             ],
             [
              0.8888888888888888,
              "#fdca26"
             ],
             [
              1,
              "#f0f921"
             ]
            ],
            "type": "contour"
           }
          ],
          "contourcarpet": [
           {
            "colorbar": {
             "outlinewidth": 0,
             "ticks": ""
            },
            "type": "contourcarpet"
           }
          ],
          "heatmap": [
           {
            "colorbar": {
             "outlinewidth": 0,
             "ticks": ""
            },
            "colorscale": [
             [
              0,
              "#0d0887"
             ],
             [
              0.1111111111111111,
              "#46039f"
             ],
             [
              0.2222222222222222,
              "#7201a8"
             ],
             [
              0.3333333333333333,
              "#9c179e"
             ],
             [
              0.4444444444444444,
              "#bd3786"
             ],
             [
              0.5555555555555556,
              "#d8576b"
             ],
             [
              0.6666666666666666,
              "#ed7953"
             ],
             [
              0.7777777777777778,
              "#fb9f3a"
             ],
             [
              0.8888888888888888,
              "#fdca26"
             ],
             [
              1,
              "#f0f921"
             ]
            ],
            "type": "heatmap"
           }
          ],
          "histogram": [
           {
            "marker": {
             "pattern": {
              "fillmode": "overlay",
              "size": 10,
              "solidity": 0.2
             }
            },
            "type": "histogram"
           }
          ],
          "histogram2d": [
           {
            "colorbar": {
             "outlinewidth": 0,
             "ticks": ""
            },
            "colorscale": [
             [
              0,
              "#0d0887"
             ],
             [
              0.1111111111111111,
              "#46039f"
             ],
             [
              0.2222222222222222,
              "#7201a8"
             ],
             [
              0.3333333333333333,
              "#9c179e"
             ],
             [
              0.4444444444444444,
              "#bd3786"
             ],
             [
              0.5555555555555556,
              "#d8576b"
             ],
             [
              0.6666666666666666,
              "#ed7953"
             ],
             [
              0.7777777777777778,
              "#fb9f3a"
             ],
             [
              0.8888888888888888,
              "#fdca26"
             ],
             [
              1,
              "#f0f921"
             ]
            ],
            "type": "histogram2d"
           }
          ],
          "histogram2dcontour": [
           {
            "colorbar": {
             "outlinewidth": 0,
             "ticks": ""
            },
            "colorscale": [
             [
              0,
              "#0d0887"
             ],
             [
              0.1111111111111111,
              "#46039f"
             ],
             [
              0.2222222222222222,
              "#7201a8"
             ],
             [
              0.3333333333333333,
              "#9c179e"
             ],
             [
              0.4444444444444444,
              "#bd3786"
             ],
             [
              0.5555555555555556,
              "#d8576b"
             ],
             [
              0.6666666666666666,
              "#ed7953"
             ],
             [
              0.7777777777777778,
              "#fb9f3a"
             ],
             [
              0.8888888888888888,
              "#fdca26"
             ],
             [
              1,
              "#f0f921"
             ]
            ],
            "type": "histogram2dcontour"
           }
          ],
          "mesh3d": [
           {
            "colorbar": {
             "outlinewidth": 0,
             "ticks": ""
            },
            "type": "mesh3d"
           }
          ],
          "parcoords": [
           {
            "line": {
             "colorbar": {
              "outlinewidth": 0,
              "ticks": ""
             }
            },
            "type": "parcoords"
           }
          ],
          "pie": [
           {
            "automargin": true,
            "type": "pie"
           }
          ],
          "scatter": [
           {
            "fillpattern": {
             "fillmode": "overlay",
             "size": 10,
             "solidity": 0.2
            },
            "type": "scatter"
           }
          ],
          "scatter3d": [
           {
            "line": {
             "colorbar": {
              "outlinewidth": 0,
              "ticks": ""
             }
            },
            "marker": {
             "colorbar": {
              "outlinewidth": 0,
              "ticks": ""
             }
            },
            "type": "scatter3d"
           }
          ],
          "scattercarpet": [
           {
            "marker": {
             "colorbar": {
              "outlinewidth": 0,
              "ticks": ""
             }
            },
            "type": "scattercarpet"
           }
          ],
          "scattergeo": [
           {
            "marker": {
             "colorbar": {
              "outlinewidth": 0,
              "ticks": ""
             }
            },
            "type": "scattergeo"
           }
          ],
          "scattergl": [
           {
            "marker": {
             "colorbar": {
              "outlinewidth": 0,
              "ticks": ""
             }
            },
            "type": "scattergl"
           }
          ],
          "scattermap": [
           {
            "marker": {
             "colorbar": {
              "outlinewidth": 0,
              "ticks": ""
             }
            },
            "type": "scattermap"
           }
          ],
          "scattermapbox": [
           {
            "marker": {
             "colorbar": {
              "outlinewidth": 0,
              "ticks": ""
             }
            },
            "type": "scattermapbox"
           }
          ],
          "scatterpolar": [
           {
            "marker": {
             "colorbar": {
              "outlinewidth": 0,
              "ticks": ""
             }
            },
            "type": "scatterpolar"
           }
          ],
          "scatterpolargl": [
           {
            "marker": {
             "colorbar": {
              "outlinewidth": 0,
              "ticks": ""
             }
            },
            "type": "scatterpolargl"
           }
          ],
          "scatterternary": [
           {
            "marker": {
             "colorbar": {
              "outlinewidth": 0,
              "ticks": ""
             }
            },
            "type": "scatterternary"
           }
          ],
          "surface": [
           {
            "colorbar": {
             "outlinewidth": 0,
             "ticks": ""
            },
            "colorscale": [
             [
              0,
              "#0d0887"
             ],
             [
              0.1111111111111111,
              "#46039f"
             ],
             [
              0.2222222222222222,
              "#7201a8"
             ],
             [
              0.3333333333333333,
              "#9c179e"
             ],
             [
              0.4444444444444444,
              "#bd3786"
             ],
             [
              0.5555555555555556,
              "#d8576b"
             ],
             [
              0.6666666666666666,
              "#ed7953"
             ],
             [
              0.7777777777777778,
              "#fb9f3a"
             ],
             [
              0.8888888888888888,
              "#fdca26"
             ],
             [
              1,
              "#f0f921"
             ]
            ],
            "type": "surface"
           }
          ],
          "table": [
           {
            "cells": {
             "fill": {
              "color": "#EBF0F8"
             },
             "line": {
              "color": "white"
             }
            },
            "header": {
             "fill": {
              "color": "#C8D4E3"
             },
             "line": {
              "color": "white"
             }
            },
            "type": "table"
           }
          ]
         },
         "layout": {
          "annotationdefaults": {
           "arrowcolor": "#2a3f5f",
           "arrowhead": 0,
           "arrowwidth": 1
          },
          "autotypenumbers": "strict",
          "coloraxis": {
           "colorbar": {
            "outlinewidth": 0,
            "ticks": ""
           }
          },
          "colorscale": {
           "diverging": [
            [
             0,
             "#8e0152"
            ],
            [
             0.1,
             "#c51b7d"
            ],
            [
             0.2,
             "#de77ae"
            ],
            [
             0.3,
             "#f1b6da"
            ],
            [
             0.4,
             "#fde0ef"
            ],
            [
             0.5,
             "#f7f7f7"
            ],
            [
             0.6,
             "#e6f5d0"
            ],
            [
             0.7,
             "#b8e186"
            ],
            [
             0.8,
             "#7fbc41"
            ],
            [
             0.9,
             "#4d9221"
            ],
            [
             1,
             "#276419"
            ]
           ],
           "sequential": [
            [
             0,
             "#0d0887"
            ],
            [
             0.1111111111111111,
             "#46039f"
            ],
            [
             0.2222222222222222,
             "#7201a8"
            ],
            [
             0.3333333333333333,
             "#9c179e"
            ],
            [
             0.4444444444444444,
             "#bd3786"
            ],
            [
             0.5555555555555556,
             "#d8576b"
            ],
            [
             0.6666666666666666,
             "#ed7953"
            ],
            [
             0.7777777777777778,
             "#fb9f3a"
            ],
            [
             0.8888888888888888,
             "#fdca26"
            ],
            [
             1,
             "#f0f921"
            ]
           ],
           "sequentialminus": [
            [
             0,
             "#0d0887"
            ],
            [
             0.1111111111111111,
             "#46039f"
            ],
            [
             0.2222222222222222,
             "#7201a8"
            ],
            [
             0.3333333333333333,
             "#9c179e"
            ],
            [
             0.4444444444444444,
             "#bd3786"
            ],
            [
             0.5555555555555556,
             "#d8576b"
            ],
            [
             0.6666666666666666,
             "#ed7953"
            ],
            [
             0.7777777777777778,
             "#fb9f3a"
            ],
            [
             0.8888888888888888,
             "#fdca26"
            ],
            [
             1,
             "#f0f921"
            ]
           ]
          },
          "colorway": [
           "#636efa",
           "#EF553B",
           "#00cc96",
           "#ab63fa",
           "#FFA15A",
           "#19d3f3",
           "#FF6692",
           "#B6E880",
           "#FF97FF",
           "#FECB52"
          ],
          "font": {
           "color": "#2a3f5f"
          },
          "geo": {
           "bgcolor": "white",
           "lakecolor": "white",
           "landcolor": "#E5ECF6",
           "showlakes": true,
           "showland": true,
           "subunitcolor": "white"
          },
          "hoverlabel": {
           "align": "left"
          },
          "hovermode": "closest",
          "mapbox": {
           "style": "light"
          },
          "paper_bgcolor": "white",
          "plot_bgcolor": "#E5ECF6",
          "polar": {
           "angularaxis": {
            "gridcolor": "white",
            "linecolor": "white",
            "ticks": ""
           },
           "bgcolor": "#E5ECF6",
           "radialaxis": {
            "gridcolor": "white",
            "linecolor": "white",
            "ticks": ""
           }
          },
          "scene": {
           "xaxis": {
            "backgroundcolor": "#E5ECF6",
            "gridcolor": "white",
            "gridwidth": 2,
            "linecolor": "white",
            "showbackground": true,
            "ticks": "",
            "zerolinecolor": "white"
           },
           "yaxis": {
            "backgroundcolor": "#E5ECF6",
            "gridcolor": "white",
            "gridwidth": 2,
            "linecolor": "white",
            "showbackground": true,
            "ticks": "",
            "zerolinecolor": "white"
           },
           "zaxis": {
            "backgroundcolor": "#E5ECF6",
            "gridcolor": "white",
            "gridwidth": 2,
            "linecolor": "white",
            "showbackground": true,
            "ticks": "",
            "zerolinecolor": "white"
           }
          },
          "shapedefaults": {
           "line": {
            "color": "#2a3f5f"
           }
          },
          "ternary": {
           "aaxis": {
            "gridcolor": "white",
            "linecolor": "white",
            "ticks": ""
           },
           "baxis": {
            "gridcolor": "white",
            "linecolor": "white",
            "ticks": ""
           },
           "bgcolor": "#E5ECF6",
           "caxis": {
            "gridcolor": "white",
            "linecolor": "white",
            "ticks": ""
           }
          },
          "title": {
           "x": 0.05
          },
          "xaxis": {
           "automargin": true,
           "gridcolor": "white",
           "linecolor": "white",
           "ticks": "",
           "title": {
            "standoff": 15
           },
           "zerolinecolor": "white",
           "zerolinewidth": 2
          },
          "yaxis": {
           "automargin": true,
           "gridcolor": "white",
           "linecolor": "white",
           "ticks": "",
           "title": {
            "standoff": 15
           },
           "zerolinecolor": "white",
           "zerolinewidth": 2
          }
         }
        },
        "xaxis": {
         "anchor": "y",
         "domain": [
          0,
          1
         ],
         "title": {
          "text": "mean"
         }
        },
        "yaxis": {
         "anchor": "x",
         "domain": [
          0,
          1
         ],
         "title": {
          "text": "std"
         }
        }
       }
      }
     },
     "metadata": {},
     "output_type": "display_data"
    }
   ],
   "source": [
    "px.scatter(transformed_df_stats, x=\"mean\", y=\"std\")"
   ]
  },
  {
   "cell_type": "code",
   "execution_count": null,
   "id": "ae9c0870",
   "metadata": {},
   "outputs": [],
   "source": [
    "assert (\n",
    "    -1 < transformed_df_stats[\"mean\"].mean() < 1\n",
    "), \"Transformed mean is not centerred at 0\"\n",
    "assert (\n",
    "    0 < transformed_df_stats[\"std\"].mean() < 2\n",
    "), \"Transformed avg is not centerred at 1\""
   ]
  },
  {
   "cell_type": "code",
   "execution_count": null,
   "id": "9c3e80d1",
   "metadata": {},
   "outputs": [],
   "source": [
    "with open(\"../data_for_ai/interim/item_metadata_pipeline_wo_user_item_manipulate.dill\", \"wb\") as f:\n",
    "    dill.dump(item_metadata_pipeline, f)"
   ]
  },
  {
   "cell_type": "code",
   "execution_count": null,
   "id": "2b45906e",
   "metadata": {},
   "outputs": [],
   "source": [
    "with open(\"../data_for_ai/interim/item_metadata_pipeline_wo_user_item_manipulate.dill\", \"rb\") as f:\n",
    "    item_metadata_pipeline = dill.load(f)"
   ]
  },
  {
   "cell_type": "code",
   "execution_count": null,
   "id": "d7badce5",
   "metadata": {},
   "outputs": [],
   "source": [
    "train_persist_fp = \"../data_for_ai/interim/train_sample_interactions_16407u_features.parquet\"\n",
    "val_persist_fp = \"../data_for_ai/interim/val_sample_interactions_16407u_features.parquet\"\n",
    "\n",
    "train_features_df.to_parquet(train_persist_fp, index=False)\n",
    "val_features_df.to_parquet(val_persist_fp, index=False)"
   ]
  }
 ],
 "metadata": {
  "kernelspec": {
   "display_name": "hm-scalablerecs-QHnDFvap-py3.11",
   "language": "python",
   "name": "python3"
  },
  "language_info": {
   "codemirror_mode": {
    "name": "ipython",
    "version": 3
   },
   "file_extension": ".py",
   "mimetype": "text/x-python",
   "name": "python",
   "nbconvert_exporter": "python",
   "pygments_lexer": "ipython3",
   "version": "3.11.9"
  }
 },
 "nbformat": 4,
 "nbformat_minor": 5
}
