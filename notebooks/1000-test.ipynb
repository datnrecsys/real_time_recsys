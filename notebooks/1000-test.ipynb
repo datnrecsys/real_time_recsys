{
 "cells": [
  {
   "cell_type": "code",
   "execution_count": 1,
   "id": "6b7a9c68",
   "metadata": {},
   "outputs": [],
   "source": [
    "%load_ext autoreload\n",
    "%autoreload 2"
   ]
  },
  {
   "cell_type": "markdown",
   "id": "9d9002ee",
   "metadata": {},
   "source": [
    "- Test data model"
   ]
  },
  {
   "cell_type": "code",
   "execution_count": 2,
   "id": "4735b22d",
   "metadata": {},
   "outputs": [],
   "source": [
    "import sys\n",
    "\n",
    "sys.path.insert(0, \"..\")\n",
    "\n",
    "import pandas as pd\n",
    "from src.domain.model_request import ModelRequest, SequenceModelRequest"
   ]
  },
  {
   "cell_type": "code",
   "execution_count": 3,
   "id": "5240fa8a",
   "metadata": {},
   "outputs": [
    {
     "name": "stderr",
     "output_type": "stream",
     "text": [
      "\u001b[32m2025-06-27 02:22:49.500\u001b[0m | \u001b[1mINFO    \u001b[0m | \u001b[36msrc.domain.model_request\u001b[0m:\u001b[36mfrom_df_for_rec\u001b[0m:\u001b[36m36\u001b[0m - \u001b[1mUse user_col=user_id\u001b[0m\n"
     ]
    },
    {
     "name": "stdout",
     "output_type": "stream",
     "text": [
      "ModelRequest(user_id=tensor([1, 2, 3]), target_item=None, recommendation=True)\n"
     ]
    }
   ],
   "source": [
    "mock_simple_df = pd.DataFrame({\n",
    "    'user_id': [1, 2, 3]\n",
    "})  \n",
    "\n",
    "simple_input_data = ModelRequest.from_df_for_rec(mock_simple_df, user_col='user_id')\n",
    "\n",
    "print(simple_input_data)"
   ]
  },
  {
   "cell_type": "code",
   "execution_count": 4,
   "id": "931fbc0d",
   "metadata": {},
   "outputs": [
    {
     "name": "stderr",
     "output_type": "stream",
     "text": [
      "\u001b[32m2025-06-27 02:22:49.517\u001b[0m | \u001b[1mINFO    \u001b[0m | \u001b[36msrc.domain.model_request\u001b[0m:\u001b[36mfrom_df_for_rec\u001b[0m:\u001b[36m51\u001b[0m - \u001b[1mUse user_col=user_id\u001b[0m\n",
      "\u001b[32m2025-06-27 02:22:49.517\u001b[0m | \u001b[1mINFO    \u001b[0m | \u001b[36msrc.domain.model_request\u001b[0m:\u001b[36mfrom_df_for_rec\u001b[0m:\u001b[36m52\u001b[0m - \u001b[1mUse item_sequence_col=item_sequence\u001b[0m\n"
     ]
    },
    {
     "name": "stdout",
     "output_type": "stream",
     "text": [
      "SequenceModelRequest(user_id=tensor([1, 2, 3]), target_item=None, recommendation=True, item_sequence=tensor([[1, 2, 3],\n",
      "        [4, 5, 6],\n",
      "        [7, 8, 9]]))\n"
     ]
    }
   ],
   "source": [
    "mock_sequence_df = pd.DataFrame({\n",
    "    'user_id': [1, 2, 3],\n",
    "    'item_sequence': [[1, 2, 3], [4, 5, 6], [7, 8, 9]]\n",
    "})\n",
    "\n",
    "sequence_input_data = SequenceModelRequest.from_df_for_rec(mock_sequence_df, user_col='user_id', item_sequence_col='item_sequence')\n",
    "print(sequence_input_data)"
   ]
  },
  {
   "cell_type": "markdown",
   "id": "ea46304c",
   "metadata": {},
   "source": [
    "- Test recommendation metrics"
   ]
  },
  {
   "cell_type": "code",
   "execution_count": 5,
   "id": "4470c164",
   "metadata": {},
   "outputs": [],
   "source": [
    "from src.algo.sequence.model import SequenceRatingPrediction\n",
    "from src.eval.recommendation import RankingMetricComputer"
   ]
  },
  {
   "cell_type": "code",
   "execution_count": 6,
   "id": "7186fe54",
   "metadata": {},
   "outputs": [
    {
     "name": "stderr",
     "output_type": "stream",
     "text": [
      "/home/dinhln/Desktop/real_time_recsys/.venv/lib/python3.11/site-packages/torch/nn/modules/transformer.py:385: UserWarning:\n",
      "\n",
      "enable_nested_tensor is True, but self.use_nested_tensor is False because encoder_layer.activation_relu_or_gelu was not True\n",
      "\n",
      "\u001b[32m2025-06-27 02:22:50.840\u001b[0m | \u001b[1mINFO    \u001b[0m | \u001b[36msrc.algo.sequence.model\u001b[0m:\u001b[36m__init__\u001b[0m:\u001b[36m122\u001b[0m - \u001b[1mStart token used: 2, Padding token used: 3\u001b[0m\n"
     ]
    }
   ],
   "source": [
    "mock_sequence_df = pd.DataFrame({\n",
    "    'user_indice': [0, 1, 2],\n",
    "    'item_sequence': [[0, 1, 2], [0, 1, 2], [0, 1, 2]],\\\n",
    "    \"rating\": [5, 4, 3],\n",
    "    \"timestamp\": [1000, 2000, 3000],\n",
    "    \"item_indice\": [0, 1, 2]\n",
    "})\n",
    "\n",
    "num_users = mock_sequence_df[\"user_indice\"].nunique()\n",
    "num_items = mock_sequence_df[\"item_sequence\"].explode().nunique()\n",
    "embedding_dim = 8\n",
    "mock_model = SequenceRatingPrediction(num_users=num_users, num_items=num_items, embedding_dim=embedding_dim)\n",
    "\n",
    "rec_metric_computer = RankingMetricComputer(\n",
    "    rec_model= mock_model,\n",
    "    top_k= 2,\n",
    "    top_K=3\n",
    ")"
   ]
  },
  {
   "cell_type": "code",
   "execution_count": 7,
   "id": "8521b348",
   "metadata": {},
   "outputs": [
    {
     "name": "stderr",
     "output_type": "stream",
     "text": [
      "\u001b[32m2025-06-27 02:22:50.863\u001b[0m | \u001b[1mINFO    \u001b[0m | \u001b[36msrc.domain.model_request\u001b[0m:\u001b[36mfrom_df_for_rec\u001b[0m:\u001b[36m51\u001b[0m - \u001b[1mUse user_col=user_indice\u001b[0m\n"
     ]
    },
    {
     "name": "stderr",
     "output_type": "stream",
     "text": [
      "\u001b[32m2025-06-27 02:22:50.864\u001b[0m | \u001b[1mINFO    \u001b[0m | \u001b[36msrc.domain.model_request\u001b[0m:\u001b[36mfrom_df_for_rec\u001b[0m:\u001b[36m52\u001b[0m - \u001b[1mUse item_sequence_col=item_sequence\u001b[0m\n"
     ]
    },
    {
     "data": {
      "application/vnd.jupyter.widget-view+json": {
       "model_id": "c1416bc3e61846cd8e49de78a601c0e6",
       "version_major": 2,
       "version_minor": 0
      },
      "text/plain": [
       "Generating recommendations:   0%|          | 0/12 [00:00<?, ?it/s]"
      ]
     },
     "metadata": {},
     "output_type": "display_data"
    },
    {
     "data": {
      "text/plain": [
       "{'metrics': [{'metric': 'NDCGKMetric',\n",
       "   'result': {'k': 2,\n",
       "    'current': 1    0.333333\n",
       "    2    0.333333\n",
       "    3    0.500000\n",
       "    4    0.643559\n",
       "    dtype: float64,\n",
       "    'current_value': 0.3333333333333333,\n",
       "    'reference': None,\n",
       "    'reference_value': None}},\n",
       "  {'metric': 'RecallTopKMetric',\n",
       "   'result': {'k': 3, 'current': 0    0.333333\n",
       "    1    0.333333\n",
       "    2    0.666667\n",
       "    3    1.000000\n",
       "    dtype: float64, 'current_value': 0.6666666666666666, 'reference': None, 'reference_value': None}},\n",
       "  {'metric': 'PrecisionTopKMetric',\n",
       "   'result': {'k': 2, 'current': 0    0.333333\n",
       "    1    0.166667\n",
       "    2    0.222222\n",
       "    3    0.305556\n",
       "    dtype: float64, 'current_value': 0.16666666666666666, 'reference': None, 'reference_value': None}},\n",
       "  {'metric': 'FBetaTopKMetric',\n",
       "   'result': {'k': 2, 'current': 0    0.333333\n",
       "    1    0.222222\n",
       "    2    0.333333\n",
       "    3    0.468085\n",
       "    dtype: float64, 'current_value': 0.2222222222222222, 'reference': None, 'reference_value': None}},\n",
       "  {'metric': 'PersonalizationMetric',\n",
       "   'result': {'k': 2,\n",
       "    'current_value': 0.0,\n",
       "    'current_table': {'1': 3, '3': 3, '2': 3, '0': 1},\n",
       "    'reference_value': None,\n",
       "    'reference_table': None}}]}"
      ]
     },
     "execution_count": 7,
     "metadata": {},
     "output_type": "execute_result"
    }
   ],
   "source": [
    "rec_metric_computer.calculate(mock_sequence_df)"
   ]
  }
 ],
 "metadata": {
  "kernelspec": {
   "display_name": "Python 3",
   "language": "python",
   "name": "python3"
  },
  "language_info": {
   "codemirror_mode": {
    "name": "ipython",
    "version": 3
   },
   "file_extension": ".py",
   "mimetype": "text/x-python",
   "name": "python",
   "nbconvert_exporter": "python",
   "pygments_lexer": "ipython3",
   "version": "3.11.9"
  }
 },
 "nbformat": 4,
 "nbformat_minor": 5
}
