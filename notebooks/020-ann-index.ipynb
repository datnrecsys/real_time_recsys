{
 "cells": [
  {
   "cell_type": "code",
   "execution_count": 1,
   "id": "eba0f1be",
   "metadata": {},
   "outputs": [],
   "source": [
    "%load_ext autoreload\n",
    "%autoreload 2"
   ]
  },
  {
   "cell_type": "code",
   "execution_count": 2,
   "id": "680fae26",
   "metadata": {},
   "outputs": [
    {
     "data": {
      "text/plain": [
       "True"
      ]
     },
     "execution_count": 2,
     "metadata": {},
     "output_type": "execute_result"
    }
   ],
   "source": [
    "import os\n",
    "import sys\n",
    "\n",
    "import torch\n",
    "from dotenv import load_dotenv\n",
    "from loguru import logger\n",
    "from pydantic import BaseModel\n",
    "from qdrant_client import QdrantClient\n",
    "from qdrant_client.models import Distance, PointStruct, VectorParams\n",
    "\n",
    "import mlflow\n",
    "\n",
    "sys.path.insert(0, \"..\")\n",
    "load_dotenv()"
   ]
  },
  {
   "cell_type": "code",
   "execution_count": 3,
   "id": "6bcc00e3",
   "metadata": {},
   "outputs": [
    {
     "name": "stdout",
     "output_type": "stream",
     "text": [
      "{\n",
      "  \"testing\": false,\n",
      "  \"run_name\": \"000-first-attempt\",\n",
      "  \"notebook_persist_dp\": \"/home/dinhln/Desktop/real_time_recsys/notebooks/data/000-first-attempt\",\n",
      "  \"random_seed\": 41,\n",
      "  \"device\": null,\n",
      "  \"top_K\": 100,\n",
      "  \"top_k\": 10,\n",
      "  \"embedding_dim\": 128,\n",
      "  \"mlf_model_name\": \"two-tower\",\n",
      "  \"batch_recs_fp\": \"/home/dinhln/Desktop/real_time_recsys/notebooks/data/000-first-attempt/batch_recs.jsonl\",\n",
      "  \"qdrant_url\": \"138.2.61.6:6333\",\n",
      "  \"qdrant_collection_name\": \"two_tower\"\n",
      "}\n"
     ]
    }
   ],
   "source": [
    "class Args(BaseModel):\n",
    "    testing: bool = False\n",
    "    run_name: str = \"000-first-attempt\"\n",
    "    notebook_persist_dp: str = None\n",
    "    random_seed: int = 41\n",
    "    device: str = None\n",
    "\n",
    "    top_K: int = 100\n",
    "    top_k: int = 10\n",
    "\n",
    "    embedding_dim: int = 128\n",
    "\n",
    "    mlf_model_name: str = \"two-tower\"\n",
    "\n",
    "    batch_recs_fp: str = None\n",
    "\n",
    "    qdrant_url: str = None\n",
    "    qdrant_collection_name: str = \"two_tower\"\n",
    "    \n",
    "\n",
    "    def init(self):\n",
    "        self.notebook_persist_dp = os.path.abspath(f\"data/{self.run_name}\")\n",
    "        os.makedirs(self.notebook_persist_dp, exist_ok=True)\n",
    "        self.batch_recs_fp = f\"{self.notebook_persist_dp}/batch_recs.jsonl\"\n",
    "\n",
    "        if not (qdrant_host := os.getenv(\"QDRANT_HOST\")):\n",
    "            raise Exception(f\"Environment variable QDRANT_HOST is not set.\")\n",
    "\n",
    "        qdrant_port = os.getenv(\"QDRANT_PORT\")\n",
    "        self.qdrant_url = f\"{qdrant_host}:{qdrant_port}\"\n",
    "\n",
    "        return self\n",
    "\n",
    "\n",
    "args = Args().init()\n",
    "\n",
    "print(args.model_dump_json(indent=2))"
   ]
  },
  {
   "cell_type": "code",
   "execution_count": 4,
   "id": "9c58c8cd",
   "metadata": {},
   "outputs": [],
   "source": [
    "mlf_client = mlflow.MlflowClient()"
   ]
  },
  {
   "cell_type": "code",
   "execution_count": 5,
   "id": "f173a720",
   "metadata": {},
   "outputs": [
    {
     "data": {
      "application/vnd.jupyter.widget-view+json": {
       "model_id": "61ddea6e3b4e4f61947447157078a17d",
       "version_major": 2,
       "version_minor": 0
      },
      "text/plain": [
       "Downloading artifacts:   0%|          | 0/8 [00:00<?, ?it/s]"
      ]
     },
     "metadata": {},
     "output_type": "display_data"
    },
    {
     "name": "stderr",
     "output_type": "stream",
     "text": [
      "/home/dinhln/Desktop/real_time_recsys/.venv/lib/python3.11/site-packages/mlflow/pyfunc/utils/data_validation.py:168: UserWarning: \u001b[33mAdd type hints to the `predict` method to enable data validation and automatic signature inference during model logging. Check https://mlflow.org/docs/latest/model/python_model.html#type-hint-usage-in-pythonmodel for more details.\u001b[0m\n",
      "  color_warning(\n"
     ]
    }
   ],
   "source": [
    "model = mlflow.pyfunc.load_model(model_uri=f\"models:/{args.mlf_model_name}@champion\")"
   ]
  },
  {
   "cell_type": "code",
   "execution_count": 6,
   "id": "eef84bd2",
   "metadata": {},
   "outputs": [],
   "source": [
    "run_id = model.metadata.run_id\n",
    "run_info = mlf_client.get_run(run_id).info\n",
    "artifact_uri = run_info.artifact_uri"
   ]
  },
  {
   "cell_type": "code",
   "execution_count": 7,
   "id": "bb822e13",
   "metadata": {},
   "outputs": [
    {
     "data": {
      "application/vnd.jupyter.widget-view+json": {
       "model_id": "aeb9090c1ca246c283890b62e37529d8",
       "version_major": 2,
       "version_minor": 0
      },
      "text/plain": [
       "Downloading artifacts:   0%|          | 0/1 [00:00<?, ?it/s]"
      ]
     },
     "metadata": {},
     "output_type": "display_data"
    },
    {
     "data": {
      "text/plain": [
       "{'user_id': ['AGQ5ERLI2VUZVYLQV5WYJ5TLGVYA'], 'item_id': ['B0C2P7CNWG']}"
      ]
     },
     "execution_count": 7,
     "metadata": {},
     "output_type": "execute_result"
    }
   ],
   "source": [
    "sample_input = mlflow.artifacts.load_dict(f\"{artifact_uri}/inferrer/input_example.json\")\n",
    "sample_input"
   ]
  },
  {
   "cell_type": "code",
   "execution_count": 8,
   "id": "ccaf3442",
   "metadata": {},
   "outputs": [
    {
     "data": {
      "text/plain": [
       "{'user_id': ['AGQ5ERLI2VUZVYLQV5WYJ5TLGVYA'],\n",
       " 'item_id': ['B0C2P7CNWG'],\n",
       " 'scores': [0.466325581073761]}"
      ]
     },
     "execution_count": 8,
     "metadata": {},
     "output_type": "execute_result"
    }
   ],
   "source": [
    "prediction = model.predict(sample_input)\n",
    "prediction"
   ]
  },
  {
   "cell_type": "code",
   "execution_count": 9,
   "id": "5f2a80ac",
   "metadata": {},
   "outputs": [
    {
     "data": {
      "text/plain": [
       "tensor([ 4.0572e-02,  4.2762e-03, -7.4350e-02, -8.3112e-02,  8.6084e-02,\n",
       "         2.9183e-02,  4.6144e-02,  6.2827e-02, -6.3556e-02, -3.9409e-03,\n",
       "         2.0402e-02, -5.7586e-02, -2.0329e-02, -8.8266e-02, -2.2466e-03,\n",
       "         3.2479e-03, -4.8516e-02, -1.7956e-01, -2.6697e-02, -2.7128e-03,\n",
       "         1.9480e-02,  2.3961e-02,  4.7660e-02, -5.0532e-02, -4.7238e-02,\n",
       "        -8.5903e-02,  3.3863e-02,  4.5857e-02, -3.1144e-02, -2.1075e-02,\n",
       "         2.1401e-02,  1.4887e-01, -7.2768e-02,  6.0694e-02,  1.1149e-01,\n",
       "        -1.6692e-01,  1.7919e-01,  8.9292e-03, -8.9551e-02, -8.8214e-03,\n",
       "        -7.3826e-02,  2.0690e-02,  6.7625e-02, -1.0031e-01,  7.8096e-02,\n",
       "        -8.1078e-02, -9.6833e-02,  1.2702e-03, -3.4069e-02, -8.6842e-03,\n",
       "        -3.5066e-02, -1.4946e-02, -2.8548e-03,  2.4422e-03,  1.6283e-01,\n",
       "         1.0191e-01, -1.3933e-01,  5.3638e-02,  2.6835e-03,  4.7542e-02,\n",
       "        -6.4982e-02, -8.3644e-02, -1.8135e-02, -3.3626e-02, -5.9312e-02,\n",
       "        -2.8482e-02,  4.9219e-02,  1.1423e-01, -3.9217e-02, -5.1995e-02,\n",
       "         9.8878e-03,  4.5677e-02, -5.1611e-02, -5.1134e-02,  1.7825e-02,\n",
       "         2.3427e-03,  6.9706e-02,  5.0367e-02,  9.1377e-02, -4.0235e-02,\n",
       "         7.0576e-02,  7.4975e-02, -6.9072e-03, -7.5705e-02,  1.8312e-03,\n",
       "         1.2106e-02,  3.2652e-02, -5.1890e-03,  1.5062e-03, -2.6399e-02,\n",
       "        -1.0334e-01,  5.7301e-02,  8.1833e-02,  7.3022e-02,  1.4003e-01,\n",
       "         1.9296e-02,  2.1488e-02,  3.5500e-02, -4.6934e-02, -7.2822e-03,\n",
       "        -2.9024e-02,  3.4133e-03,  1.0208e-01, -7.1319e-02,  2.6556e-02,\n",
       "         9.3141e-05,  3.3039e-02, -7.6269e-02, -9.3570e-02, -8.4200e-02,\n",
       "         5.2017e-02, -7.4231e-02,  1.9053e-01,  2.8233e-02,  1.4204e-02,\n",
       "        -6.9628e-02, -3.4360e-02, -4.2800e-02,  1.9418e-02,  1.8327e-02,\n",
       "         7.2825e-02, -6.2190e-03, -1.0843e-01,  7.6925e-02, -2.1658e-02,\n",
       "        -3.6845e-02,  8.5487e-02, -5.9602e-02], grad_fn=<EmbeddingBackward0>)"
      ]
     },
     "execution_count": 9,
     "metadata": {},
     "output_type": "execute_result"
    }
   ],
   "source": [
    "two_tower_model = model.unwrap_python_model().model\n",
    "item_embedding_0 = two_tower_model.item_embedding(torch.tensor(0))\n",
    "item_embedding_dim = item_embedding_0.size()[0]\n",
    "item_embedding_0"
   ]
  },
  {
   "cell_type": "code",
   "execution_count": 10,
   "id": "98ca92c5",
   "metadata": {},
   "outputs": [
    {
     "name": "stderr",
     "output_type": "stream",
     "text": [
      "\u001b[32m2025-05-13 18:44:47.999\u001b[0m | \u001b[1mINFO    \u001b[0m | \u001b[36m__main__\u001b[0m:\u001b[36m<module>\u001b[0m:\u001b[36m5\u001b[0m - \u001b[1mitem_embedding.shape: (4817, 128)\u001b[0m\n",
      "\u001b[32m2025-05-13 18:44:48.000\u001b[0m | \u001b[1mINFO    \u001b[0m | \u001b[36m__main__\u001b[0m:\u001b[36m<module>\u001b[0m:\u001b[36m6\u001b[0m - \u001b[1muser_embedding.shape: (16407, 128)\u001b[0m\n"
     ]
    }
   ],
   "source": [
    "item_embedding = two_tower_model.item_embedding.weight.detach().numpy()\n",
    "\n",
    "user_embedding = two_tower_model.user_embedding.weight.detach().numpy()\n",
    "\n",
    "logger.info(f\"item_embedding.shape: {item_embedding.shape}\")\n",
    "logger.info(f\"user_embedding.shape: {user_embedding.shape}\")"
   ]
  },
  {
   "cell_type": "code",
   "execution_count": 11,
   "id": "72e495e3",
   "metadata": {},
   "outputs": [],
   "source": [
    "ann_index = QdrantClient(\n",
    "    url=args.qdrant_url,\n",
    "    prefer_grpc=True,\n",
    "\n",
    ")"
   ]
  },
  {
   "cell_type": "code",
   "execution_count": 12,
   "id": "fac58871",
   "metadata": {},
   "outputs": [
    {
     "name": "stderr",
     "output_type": "stream",
     "text": [
      "\u001b[32m2025-05-13 18:44:48.584\u001b[0m | \u001b[1mINFO    \u001b[0m | \u001b[36m__main__\u001b[0m:\u001b[36m<module>\u001b[0m:\u001b[36m8\u001b[0m - \u001b[1mDeleting existing Qdrant collection two_tower_item...\u001b[0m\n",
      "\u001b[32m2025-05-13 18:44:49.005\u001b[0m | \u001b[1mINFO    \u001b[0m | \u001b[36m__main__\u001b[0m:\u001b[36m<module>\u001b[0m:\u001b[36m8\u001b[0m - \u001b[1mDeleting existing Qdrant collection two_tower_user...\u001b[0m\n"
     ]
    }
   ],
   "source": [
    "embedding_type = [\"item\", \"user\"]\n",
    "\n",
    "for type in embedding_type:\n",
    "    collection_name = f\"{args.qdrant_collection_name}_{type}\"\n",
    "    embedding = item_embedding if type == \"item\" else user_embedding\n",
    "    collection_exists = ann_index.collection_exists(collection_name)\n",
    "    if collection_exists:\n",
    "        logger.info(f\"Deleting existing Qdrant collection {collection_name}...\")\n",
    "        ann_index.delete_collection(collection_name)\n",
    "\n",
    "    create_collection_result = ann_index.create_collection(\n",
    "        collection_name=collection_name,\n",
    "        vectors_config=VectorParams(size=embedding.shape[1], distance=Distance.COSINE),\n",
    "    )\n",
    "\n",
    "    assert create_collection_result == True"
   ]
  },
  {
   "cell_type": "code",
   "execution_count": 13,
   "id": "2517b5ed",
   "metadata": {},
   "outputs": [],
   "source": [
    "for embeddings, name in zip([item_embedding, user_embedding], [\"item\", \"user\"]):\n",
    "    collection_name = f\"{args.qdrant_collection_name}_{name}\"\n",
    "    upsert_result = ann_index.upsert(\n",
    "        collection_name=collection_name,\n",
    "        points=[\n",
    "            PointStruct(id=idx, vector=vector.tolist(), payload={})\n",
    "            for idx, vector in enumerate(embeddings)\n",
    "        ],\n",
    "    )\n",
    "    assert str(upsert_result.status) == \"completed\"\n",
    "    upsert_result"
   ]
  },
  {
   "cell_type": "code",
   "execution_count": 14,
   "id": "e4cef5ae",
   "metadata": {},
   "outputs": [
    {
     "data": {
      "text/plain": [
       "UpdateResult(operation_id=0, status=<UpdateStatus.COMPLETED: 'completed'>)"
      ]
     },
     "execution_count": 14,
     "metadata": {},
     "output_type": "execute_result"
    }
   ],
   "source": [
    "upsert_result"
   ]
  },
  {
   "cell_type": "code",
   "execution_count": null,
   "id": "caa2edd4",
   "metadata": {},
   "outputs": [],
   "source": []
  }
 ],
 "metadata": {
  "kernelspec": {
   "display_name": "Python 3",
   "language": "python",
   "name": "python3"
  },
  "language_info": {
   "codemirror_mode": {
    "name": "ipython",
    "version": 3
   },
   "file_extension": ".py",
   "mimetype": "text/x-python",
   "name": "python",
   "nbconvert_exporter": "python",
   "pygments_lexer": "ipython3",
   "version": "3.11.9"
  }
 },
 "nbformat": 4,
 "nbformat_minor": 5
}
