{
 "cells": [
  {
   "cell_type": "markdown",
   "metadata": {},
   "source": [
    "### Class and static methods\n"
   ]
  },
  {
   "cell_type": "code",
   "execution_count": 8,
   "metadata": {},
   "outputs": [
    {
     "name": "stdout",
     "output_type": "stream",
     "text": [
      "2\n"
     ]
    }
   ],
   "source": [
    "class Dog:\n",
    "    dogs_created = 0\n",
    "\n",
    "    def __init__(self, name):\n",
    "        self.name = name\n",
    "        Dog.increment_counter()\n",
    "\n",
    "    @classmethod\n",
    "    def increment_counter(cls):\n",
    "        cls.dogs_created += 1\n",
    "\n",
    "    @classmethod\n",
    "    def from_string(cls, dog_string):\n",
    "        name = dog_string.split(\"-\")[0]\n",
    "        return cls(name)\n",
    "\n",
    "# Create dogs\n",
    "d1 = Dog(\"Buddy\")\n",
    "d2 = Dog.from_string(\"Charlie-123\")\n",
    "\n",
    "print(Dog.dogs_created)  # Output: 2"
   ]
  },
  {
   "cell_type": "code",
   "execution_count": 17,
   "metadata": {},
   "outputs": [
    {
     "name": "stdout",
     "output_type": "stream",
     "text": [
      "5\n",
      "5\n"
     ]
    }
   ],
   "source": [
    "d2.increment_counter()\n",
    "print(Dog.dogs_created)\n",
    "print(d2.dogs_created)"
   ]
  },
  {
   "cell_type": "code",
   "execution_count": 13,
   "metadata": {},
   "outputs": [
    {
     "name": "stdout",
     "output_type": "stream",
     "text": [
      "5\n"
     ]
    }
   ],
   "source": [
    "class MathUtils:\n",
    "    def __init__(self):\n",
    "        self.not_accessible = \"This is not accessible\"\n",
    "    @staticmethod\n",
    "    def add(x, y):\n",
    "        return x + y\n",
    "\n",
    "print(MathUtils.add(2, 3))  # 5"
   ]
  },
  {
   "cell_type": "code",
   "execution_count": 15,
   "metadata": {},
   "outputs": [
    {
     "data": {
      "text/plain": [
       "'This is not accessible'"
      ]
     },
     "execution_count": 15,
     "metadata": {},
     "output_type": "execute_result"
    }
   ],
   "source": [
    "utils = MathUtils() \n",
    "\n",
    "utils.not_accessible"
   ]
  }
 ],
 "metadata": {
  "kernelspec": {
   "display_name": "Python 3",
   "language": "python",
   "name": "python3"
  },
  "language_info": {
   "codemirror_mode": {
    "name": "ipython",
    "version": 3
   },
   "file_extension": ".py",
   "mimetype": "text/x-python",
   "name": "python",
   "nbconvert_exporter": "python",
   "pygments_lexer": "ipython3",
   "version": "3.11.9"
  }
 },
 "nbformat": 4,
 "nbformat_minor": 2
}
