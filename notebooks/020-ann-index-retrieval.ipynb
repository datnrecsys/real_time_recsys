{
 "cells": [
  {
   "cell_type": "code",
   "execution_count": 1,
   "id": "eba0f1be",
   "metadata": {},
   "outputs": [],
   "source": [
    "%load_ext autoreload\n",
    "%autoreload 2"
   ]
  },
  {
   "cell_type": "code",
   "execution_count": 2,
   "id": "680fae26",
   "metadata": {},
   "outputs": [
    {
     "data": {
      "text/plain": [
       "True"
      ]
     },
     "execution_count": 2,
     "metadata": {},
     "output_type": "execute_result"
    }
   ],
   "source": [
    "import os\n",
    "import sys\n",
    "\n",
    "import torch\n",
    "from dotenv import load_dotenv\n",
    "from loguru import logger\n",
    "from pydantic import BaseModel\n",
    "from qdrant_client import QdrantClient\n",
    "from qdrant_client.models import Distance, PointStruct, VectorParams\n",
    "\n",
    "from datasets import load_dataset\n",
    "\n",
    "import mlflow\n",
    "import numpy as np\n",
    "\n",
    "sys.path.insert(0, \"..\")\n",
    "load_dotenv()"
   ]
  },
  {
   "cell_type": "code",
   "execution_count": 3,
   "id": "6bcc00e3",
   "metadata": {},
   "outputs": [
    {
     "name": "stdout",
     "output_type": "stream",
     "text": [
      "{\n",
      "  \"testing\": false,\n",
      "  \"run_name\": \"000-first-attempt\",\n",
      "  \"notebook_persist_dp\": null,\n",
      "  \"random_seed\": 41,\n",
      "  \"device\": null,\n",
      "  \"top_K\": 100,\n",
      "  \"top_k\": 10,\n",
      "  \"embedding_dim\": 128,\n",
      "  \"mlf_model_name\": \"sequence_two_tower_retrieval\",\n",
      "  \"batch_recs_fp\": null,\n",
      "  \"qdrant_url\": \"138.2.61.6:6333\",\n",
      "  \"qdrant_collection_name\": \"item2vec\"\n",
      "}\n"
     ]
    }
   ],
   "source": [
    "class Args(BaseModel):\n",
    "    testing: bool = False\n",
    "    run_name: str = \"000-first-attempt\"\n",
    "    notebook_persist_dp: str = None\n",
    "    random_seed: int = 41\n",
    "    device: str = None\n",
    "\n",
    "    top_K: int = 100\n",
    "    top_k: int = 10\n",
    "\n",
    "    embedding_dim: int = 128\n",
    "\n",
    "    mlf_model_name: str = \"sequence_two_tower_retrieval\"\n",
    "\n",
    "    batch_recs_fp: str = None\n",
    "\n",
    "    qdrant_url: str = None\n",
    "    qdrant_collection_name: str = None\n",
    "    \n",
    "\n",
    "    def init(self):\n",
    "\n",
    "        if not (qdrant_host := os.getenv(\"QDRANT_HOST\")):\n",
    "            raise Exception(f\"Environment variable QDRANT_HOST is not set.\")\n",
    "\n",
    "        qdrant_port = os.getenv(\"QDRANT_PORT\")\n",
    "        self.qdrant_url = f\"{qdrant_host}:{qdrant_port}\"\n",
    "        self.qdrant_collection_name = os.getenv(\"QDRANT_COLLECTION_NAME\")\n",
    "\n",
    "        return self\n",
    "\n",
    "\n",
    "args = Args().init()\n",
    "\n",
    "print(args.model_dump_json(indent=2))"
   ]
  },
  {
   "cell_type": "code",
   "execution_count": 4,
   "id": "9c58c8cd",
   "metadata": {},
   "outputs": [],
   "source": [
    "mlf_client = mlflow.MlflowClient()"
   ]
  },
  {
   "cell_type": "code",
   "execution_count": 5,
   "id": "f173a720",
   "metadata": {},
   "outputs": [
    {
     "data": {
      "application/vnd.jupyter.widget-view+json": {
       "model_id": "7b461a6f008a44f59f615f07d155fdbb",
       "version_major": 2,
       "version_minor": 0
      },
      "text/plain": [
       "Downloading artifacts:   0%|          | 0/8 [00:00<?, ?it/s]"
      ]
     },
     "metadata": {},
     "output_type": "display_data"
    },
    {
     "name": "stderr",
     "output_type": "stream",
     "text": [
      "/home/dinhln/Desktop/real_time_recsys/.venv/lib/python3.11/site-packages/mlflow/pyfunc/utils/data_validation.py:186: UserWarning: \u001b[33mAdd type hints to the `predict` method to enable data validation and automatic signature inference during model logging. Check https://mlflow.org/docs/latest/model/python_model.html#type-hint-usage-in-pythonmodel for more details.\u001b[0m\n",
      "  color_warning(\n"
     ]
    }
   ],
   "source": [
    "model = mlflow.pyfunc.load_model(\n",
    "    model_uri=f\"models:/{args.mlf_model_name}@champion\",\n",
    "    model_config = {\n",
    "        \"device\": \"cpu\"\n",
    "    }\n",
    "    )"
   ]
  },
  {
   "cell_type": "code",
   "execution_count": 6,
   "id": "eef84bd2",
   "metadata": {},
   "outputs": [],
   "source": [
    "run_id = model.metadata.run_id\n",
    "run_info = mlf_client.get_run(run_id).info\n",
    "artifact_uri = run_info.artifact_uri"
   ]
  },
  {
   "cell_type": "code",
   "execution_count": 7,
   "id": "bb822e13",
   "metadata": {},
   "outputs": [
    {
     "data": {
      "application/vnd.jupyter.widget-view+json": {
       "model_id": "d8ea18febe1945b2b9657994cc3e0773",
       "version_major": 2,
       "version_minor": 0
      },
      "text/plain": [
       "Downloading artifacts:   0%|          | 0/1 [00:00<?, ?it/s]"
      ]
     },
     "metadata": {},
     "output_type": "display_data"
    },
    {
     "data": {
      "text/plain": [
       "{'item_sequences': [['0972683275', '1449410243']], 'item_ids': ['0972683275']}"
      ]
     },
     "execution_count": 7,
     "metadata": {},
     "output_type": "execute_result"
    }
   ],
   "source": [
    "sample_input = mlflow.artifacts.load_dict(f\"{artifact_uri}/inferrer/input_example.json\")\n",
    "sample_input"
   ]
  },
  {
   "cell_type": "code",
   "execution_count": 8,
   "id": "ccaf3442",
   "metadata": {},
   "outputs": [
    {
     "name": "stderr",
     "output_type": "stream",
     "text": [
      "/home/dinhln/Desktop/real_time_recsys/notebooks/../src/algo/sequence_two_tower/inference.py:67: UserWarning: Creating a tensor from a list of numpy.ndarrays is extremely slow. Please consider converting the list to a single numpy.ndarray with numpy.array() before converting to a tensor. (Triggered internally at /pytorch/torch/csrc/utils/tensor_new.cpp:254.)\n",
      "  item_sequences = torch.tensor(item_sequences, device=self.device)\n"
     ]
    },
    {
     "data": {
      "text/plain": [
       "{'item_sequences': [['0972683275', '1449410243']],\n",
       " 'item_ids': ['0972683275'],\n",
       " 'scores': [0.4714652895927429]}"
      ]
     },
     "execution_count": 8,
     "metadata": {},
     "output_type": "execute_result"
    }
   ],
   "source": [
    "prediction = model.predict(sample_input)\n",
    "prediction"
   ]
  },
  {
   "cell_type": "code",
   "execution_count": 9,
   "id": "9cfb3477",
   "metadata": {},
   "outputs": [
    {
     "data": {
      "text/plain": [
       "device(type='cpu')"
      ]
     },
     "execution_count": 9,
     "metadata": {},
     "output_type": "execute_result"
    }
   ],
   "source": [
    "next(model.unwrap_python_model().model.parameters()).device"
   ]
  },
  {
   "cell_type": "markdown",
   "id": "6c9b7fc6",
   "metadata": {},
   "source": [
    "## Get item embeddings"
   ]
  },
  {
   "cell_type": "code",
   "execution_count": 10,
   "id": "886790ed",
   "metadata": {},
   "outputs": [
    {
     "data": {
      "text/plain": [
       "SequenceRatingPrediction(\n",
       "  (item_embedding): Embedding(4818, 128, padding_idx=4817)\n",
       "  (encoder_layer): TransformerEncoderLayer(\n",
       "    (self_attn): MultiheadAttention(\n",
       "      (out_proj): NonDynamicallyQuantizableLinear(in_features=128, out_features=128, bias=True)\n",
       "    )\n",
       "    (linear1): Linear(in_features=128, out_features=128, bias=True)\n",
       "    (dropout): Dropout(p=0.3, inplace=False)\n",
       "    (linear2): Linear(in_features=128, out_features=128, bias=True)\n",
       "    (norm1): LayerNorm((128,), eps=1e-05, elementwise_affine=True)\n",
       "    (norm2): LayerNorm((128,), eps=1e-05, elementwise_affine=True)\n",
       "    (dropout1): Dropout(p=0.3, inplace=False)\n",
       "    (dropout2): Dropout(p=0.3, inplace=False)\n",
       "    (activation): PReLU(num_parameters=1)\n",
       "  )\n",
       "  (encoder): TransformerEncoder(\n",
       "    (layers): ModuleList(\n",
       "      (0): TransformerEncoderLayer(\n",
       "        (self_attn): MultiheadAttention(\n",
       "          (out_proj): NonDynamicallyQuantizableLinear(in_features=128, out_features=128, bias=True)\n",
       "        )\n",
       "        (linear1): Linear(in_features=128, out_features=128, bias=True)\n",
       "        (dropout): Dropout(p=0.3, inplace=False)\n",
       "        (linear2): Linear(in_features=128, out_features=128, bias=True)\n",
       "        (norm1): LayerNorm((128,), eps=1e-05, elementwise_affine=True)\n",
       "        (norm2): LayerNorm((128,), eps=1e-05, elementwise_affine=True)\n",
       "        (dropout1): Dropout(p=0.3, inplace=False)\n",
       "        (dropout2): Dropout(p=0.3, inplace=False)\n",
       "        (activation): PReLU(num_parameters=1)\n",
       "      )\n",
       "    )\n",
       "  )\n",
       "  (prelu1): PReLU(num_parameters=1)\n",
       "  (dropout): Dropout(p=0.3, inplace=False)\n",
       "  (final_fc): Linear(in_features=256, out_features=128, bias=True)\n",
       "  (score_fc): Linear(in_features=128, out_features=1, bias=True)\n",
       ")"
      ]
     },
     "execution_count": 10,
     "metadata": {},
     "output_type": "execute_result"
    }
   ],
   "source": [
    "two_tower_model = model.unwrap_python_model().model\n",
    "two_tower_model"
   ]
  },
  {
   "cell_type": "code",
   "execution_count": 11,
   "id": "5f2a80ac",
   "metadata": {},
   "outputs": [
    {
     "data": {
      "text/plain": [
       "128"
      ]
     },
     "execution_count": 11,
     "metadata": {},
     "output_type": "execute_result"
    }
   ],
   "source": [
    "two_tower_model = model.unwrap_python_model().model\n",
    "item_embedding_0 = two_tower_model.item_embedding(torch.tensor(0))\n",
    "item_embedding_dim = item_embedding_0.size()[0]\n",
    "item_embedding_dim"
   ]
  },
  {
   "cell_type": "code",
   "execution_count": 12,
   "id": "98ca92c5",
   "metadata": {},
   "outputs": [
    {
     "name": "stderr",
     "output_type": "stream",
     "text": [
      "\u001b[32m2025-07-02 01:32:55.360\u001b[0m | \u001b[1mINFO    \u001b[0m | \u001b[36m__main__\u001b[0m:\u001b[36m<module>\u001b[0m:\u001b[36m3\u001b[0m - \u001b[1mitem_embedding.shape: (4818, 128)\u001b[0m\n"
     ]
    }
   ],
   "source": [
    "item_embedding = two_tower_model.item_embedding.weight.detach().numpy()\n",
    "\n",
    "logger.info(f\"item_embedding.shape: {item_embedding.shape}\")"
   ]
  },
  {
   "cell_type": "code",
   "execution_count": 13,
   "id": "72e495e3",
   "metadata": {},
   "outputs": [
    {
     "name": "stderr",
     "output_type": "stream",
     "text": [
      "/tmp/ipykernel_225693/1350049740.py:1: UserWarning: Qdrant client version 1.14.3 is incompatible with server version 1.12.0. Major versions should match and minor version difference must not exceed 1. Set check_compatibility=False to skip version check.\n",
      "  ann_index = QdrantClient(\n"
     ]
    }
   ],
   "source": [
    "ann_index = QdrantClient(\n",
    "    url=args.qdrant_url,\n",
    "    prefer_grpc=True,\n",
    "\n",
    ")"
   ]
  },
  {
   "cell_type": "code",
   "execution_count": 15,
   "id": "fac58871",
   "metadata": {},
   "outputs": [
    {
     "name": "stderr",
     "output_type": "stream",
     "text": [
      "\u001b[32m2025-07-02 01:36:54.574\u001b[0m | \u001b[1mINFO    \u001b[0m | \u001b[36m__main__\u001b[0m:\u001b[36m<module>\u001b[0m:\u001b[36m5\u001b[0m - \u001b[1mDeleting existing Qdrant collection two_tower_sequence_item_embedding...\u001b[0m\n"
     ]
    }
   ],
   "source": [
    "\n",
    "collection_name = \"two_tower_sequence_item_embedding\"\n",
    "embedding = item_embedding\n",
    "collection_exists = ann_index.collection_exists(collection_name)\n",
    "if collection_exists:\n",
    "    logger.info(f\"Deleting existing Qdrant collection {collection_name}...\")\n",
    "    ann_index.delete_collection(collection_name)\n",
    "\n",
    "create_collection_result = ann_index.create_collection(\n",
    "    collection_name=collection_name,\n",
    "    vectors_config=VectorParams(size=embedding.shape[1], distance=Distance.COSINE),\n",
    ")\n",
    "\n",
    "assert create_collection_result"
   ]
  },
  {
   "cell_type": "code",
   "execution_count": 54,
   "id": "2517b5ed",
   "metadata": {},
   "outputs": [],
   "source": [
    "# for embeddings, name in zip([item_embedding, user_embedding], [\"item\", \"user\"]):\n",
    "#     collection_name = f\"{args.qdrant_collection_name}_{name}\"\n",
    "#     upsert_result = ann_index.upsert(\n",
    "#         collection_name=collection_name,\n",
    "#         points=[\n",
    "#             PointStruct(id=idx, vector=vector.tolist(), payload={})\n",
    "#             for idx, vector in enumerate(embeddings)\n",
    "#         ],\n",
    "#     )\n",
    "#     assert str(upsert_result.status) == \"completed\"\n",
    "#     upsert_result"
   ]
  },
  {
   "cell_type": "code",
   "execution_count": 16,
   "id": "9697b0b5",
   "metadata": {},
   "outputs": [],
   "source": [
    "cols = [\n",
    "    \"parent_asin\",\n",
    "    \"title\",\n",
    "    \"average_rating\",\n",
    "    \"description\",\n",
    "    \"main_category\",\n",
    "    \"categories\",\n",
    "]"
   ]
  },
  {
   "cell_type": "code",
   "execution_count": 17,
   "id": "eabd2a0a",
   "metadata": {},
   "outputs": [
    {
     "data": {
      "text/html": [
       "<div>\n",
       "<style scoped>\n",
       "    .dataframe tbody tr th:only-of-type {\n",
       "        vertical-align: middle;\n",
       "    }\n",
       "\n",
       "    .dataframe tbody tr th {\n",
       "        vertical-align: top;\n",
       "    }\n",
       "\n",
       "    .dataframe thead th {\n",
       "        text-align: right;\n",
       "    }\n",
       "</style>\n",
       "<table border=\"1\" class=\"dataframe\">\n",
       "  <thead>\n",
       "    <tr style=\"text-align: right;\">\n",
       "      <th></th>\n",
       "      <th>main_category</th>\n",
       "      <th>title</th>\n",
       "      <th>average_rating</th>\n",
       "      <th>rating_number</th>\n",
       "      <th>features</th>\n",
       "      <th>description</th>\n",
       "      <th>price</th>\n",
       "      <th>images</th>\n",
       "      <th>videos</th>\n",
       "      <th>store</th>\n",
       "      <th>categories</th>\n",
       "      <th>details</th>\n",
       "      <th>parent_asin</th>\n",
       "      <th>bought_together</th>\n",
       "      <th>subtitle</th>\n",
       "      <th>author</th>\n",
       "    </tr>\n",
       "  </thead>\n",
       "  <tbody>\n",
       "    <tr>\n",
       "      <th>0</th>\n",
       "      <td>All Electronics</td>\n",
       "      <td>FS-1051 FATSHARK TELEPORTER V3 HEADSET</td>\n",
       "      <td>3.5</td>\n",
       "      <td>6</td>\n",
       "      <td>[]</td>\n",
       "      <td>[Teleporter V3 The “Teleporter V3” kit sets a ...</td>\n",
       "      <td>None</td>\n",
       "      <td>{'hi_res': [None], 'large': ['https://m.media-...</td>\n",
       "      <td>{'title': [], 'url': [], 'user_id': []}</td>\n",
       "      <td>Fat Shark</td>\n",
       "      <td>[Electronics, Television &amp; Video, Video Glasses]</td>\n",
       "      <td>{\"Date First Available\": \"August 2, 2014\", \"Ma...</td>\n",
       "      <td>B00MCW7G9M</td>\n",
       "      <td>None</td>\n",
       "      <td>None</td>\n",
       "      <td>None</td>\n",
       "    </tr>\n",
       "    <tr>\n",
       "      <th>1</th>\n",
       "      <td>All Electronics</td>\n",
       "      <td>Ce-H22B12-S1 4Kx2K Hdmi 4Port</td>\n",
       "      <td>5.0</td>\n",
       "      <td>1</td>\n",
       "      <td>[UPC: 662774021904, Weight: 0.600 lbs]</td>\n",
       "      <td>[HDMI In - HDMI Out]</td>\n",
       "      <td>None</td>\n",
       "      <td>{'hi_res': ['https://m.media-amazon.com/images...</td>\n",
       "      <td>{'title': [], 'url': [], 'user_id': []}</td>\n",
       "      <td>SIIG</td>\n",
       "      <td>[Electronics, Television &amp; Video, Accessories,...</td>\n",
       "      <td>{\"Product Dimensions\": \"0.83 x 4.17 x 2.05 inc...</td>\n",
       "      <td>B00YT6XQSE</td>\n",
       "      <td>None</td>\n",
       "      <td>None</td>\n",
       "      <td>None</td>\n",
       "    </tr>\n",
       "    <tr>\n",
       "      <th>2</th>\n",
       "      <td>Computers</td>\n",
       "      <td>Digi-Tatoo Decal Skin Compatible With MacBook ...</td>\n",
       "      <td>4.5</td>\n",
       "      <td>246</td>\n",
       "      <td>[WARNING: Please IDENTIFY MODEL NUMBER on the ...</td>\n",
       "      <td>[]</td>\n",
       "      <td>19.99</td>\n",
       "      <td>{'hi_res': ['https://m.media-amazon.com/images...</td>\n",
       "      <td>{'title': ['AL 2Sides Video', 'MacBook Protect...</td>\n",
       "      <td>Digi-Tatoo</td>\n",
       "      <td>[Electronics, Computers &amp; Accessories, Laptop ...</td>\n",
       "      <td>{\"Brand\": \"Digi-Tatoo\", \"Color\": \"Fresh Marble...</td>\n",
       "      <td>B07SM135LS</td>\n",
       "      <td>None</td>\n",
       "      <td>None</td>\n",
       "      <td>None</td>\n",
       "    </tr>\n",
       "  </tbody>\n",
       "</table>\n",
       "</div>"
      ],
      "text/plain": [
       "     main_category                                              title  \\\n",
       "0  All Electronics             FS-1051 FATSHARK TELEPORTER V3 HEADSET   \n",
       "1  All Electronics                      Ce-H22B12-S1 4Kx2K Hdmi 4Port   \n",
       "2        Computers  Digi-Tatoo Decal Skin Compatible With MacBook ...   \n",
       "\n",
       "   average_rating  rating_number  \\\n",
       "0             3.5              6   \n",
       "1             5.0              1   \n",
       "2             4.5            246   \n",
       "\n",
       "                                            features  \\\n",
       "0                                                 []   \n",
       "1             [UPC: 662774021904, Weight: 0.600 lbs]   \n",
       "2  [WARNING: Please IDENTIFY MODEL NUMBER on the ...   \n",
       "\n",
       "                                         description  price  \\\n",
       "0  [Teleporter V3 The “Teleporter V3” kit sets a ...   None   \n",
       "1                               [HDMI In - HDMI Out]   None   \n",
       "2                                                 []  19.99   \n",
       "\n",
       "                                              images  \\\n",
       "0  {'hi_res': [None], 'large': ['https://m.media-...   \n",
       "1  {'hi_res': ['https://m.media-amazon.com/images...   \n",
       "2  {'hi_res': ['https://m.media-amazon.com/images...   \n",
       "\n",
       "                                              videos       store  \\\n",
       "0            {'title': [], 'url': [], 'user_id': []}   Fat Shark   \n",
       "1            {'title': [], 'url': [], 'user_id': []}        SIIG   \n",
       "2  {'title': ['AL 2Sides Video', 'MacBook Protect...  Digi-Tatoo   \n",
       "\n",
       "                                          categories  \\\n",
       "0   [Electronics, Television & Video, Video Glasses]   \n",
       "1  [Electronics, Television & Video, Accessories,...   \n",
       "2  [Electronics, Computers & Accessories, Laptop ...   \n",
       "\n",
       "                                             details parent_asin  \\\n",
       "0  {\"Date First Available\": \"August 2, 2014\", \"Ma...  B00MCW7G9M   \n",
       "1  {\"Product Dimensions\": \"0.83 x 4.17 x 2.05 inc...  B00YT6XQSE   \n",
       "2  {\"Brand\": \"Digi-Tatoo\", \"Color\": \"Fresh Marble...  B07SM135LS   \n",
       "\n",
       "  bought_together subtitle author  \n",
       "0            None     None   None  \n",
       "1            None     None   None  \n",
       "2            None     None   None  "
      ]
     },
     "execution_count": 17,
     "metadata": {},
     "output_type": "execute_result"
    }
   ],
   "source": [
    "# Load metadata\n",
    "\n",
    "metadata_raw = load_dataset(\n",
    "    \"McAuley-Lab/Amazon-Reviews-2023\", \"raw_meta_Electronics\", trust_remote_code=True\n",
    ")\n",
    "metadata_raw_df = metadata_raw[\"full\"].to_pandas()\n",
    "metadata_raw_df.head(3)"
   ]
  },
  {
   "cell_type": "code",
   "execution_count": 18,
   "id": "63b8b05c",
   "metadata": {},
   "outputs": [
    {
     "data": {
      "text/html": [
       "<div>\n",
       "<style scoped>\n",
       "    .dataframe tbody tr th:only-of-type {\n",
       "        vertical-align: middle;\n",
       "    }\n",
       "\n",
       "    .dataframe tbody tr th {\n",
       "        vertical-align: top;\n",
       "    }\n",
       "\n",
       "    .dataframe thead th {\n",
       "        text-align: right;\n",
       "    }\n",
       "</style>\n",
       "<table border=\"1\" class=\"dataframe\">\n",
       "  <thead>\n",
       "    <tr style=\"text-align: right;\">\n",
       "      <th></th>\n",
       "      <th>parent_asin</th>\n",
       "      <th>title</th>\n",
       "      <th>average_rating</th>\n",
       "      <th>description</th>\n",
       "      <th>main_category</th>\n",
       "      <th>categories</th>\n",
       "    </tr>\n",
       "  </thead>\n",
       "  <tbody>\n",
       "    <tr>\n",
       "      <th>0</th>\n",
       "      <td>B00MCW7G9M</td>\n",
       "      <td>FS-1051 FATSHARK TELEPORTER V3 HEADSET</td>\n",
       "      <td>3.5</td>\n",
       "      <td>[Teleporter V3 The “Teleporter V3” kit sets a ...</td>\n",
       "      <td>All Electronics</td>\n",
       "      <td>[Electronics, Television &amp; Video, Video Glasses]</td>\n",
       "    </tr>\n",
       "    <tr>\n",
       "      <th>1</th>\n",
       "      <td>B00YT6XQSE</td>\n",
       "      <td>Ce-H22B12-S1 4Kx2K Hdmi 4Port</td>\n",
       "      <td>5.0</td>\n",
       "      <td>[HDMI In - HDMI Out]</td>\n",
       "      <td>All Electronics</td>\n",
       "      <td>[Electronics, Television &amp; Video, Accessories,...</td>\n",
       "    </tr>\n",
       "    <tr>\n",
       "      <th>2</th>\n",
       "      <td>B07SM135LS</td>\n",
       "      <td>Digi-Tatoo Decal Skin Compatible With MacBook ...</td>\n",
       "      <td>4.5</td>\n",
       "      <td>[]</td>\n",
       "      <td>Computers</td>\n",
       "      <td>[Electronics, Computers &amp; Accessories, Laptop ...</td>\n",
       "    </tr>\n",
       "  </tbody>\n",
       "</table>\n",
       "</div>"
      ],
      "text/plain": [
       "  parent_asin                                              title  \\\n",
       "0  B00MCW7G9M             FS-1051 FATSHARK TELEPORTER V3 HEADSET   \n",
       "1  B00YT6XQSE                      Ce-H22B12-S1 4Kx2K Hdmi 4Port   \n",
       "2  B07SM135LS  Digi-Tatoo Decal Skin Compatible With MacBook ...   \n",
       "\n",
       "   average_rating                                        description  \\\n",
       "0             3.5  [Teleporter V3 The “Teleporter V3” kit sets a ...   \n",
       "1             5.0                               [HDMI In - HDMI Out]   \n",
       "2             4.5                                                 []   \n",
       "\n",
       "     main_category                                         categories  \n",
       "0  All Electronics   [Electronics, Television & Video, Video Glasses]  \n",
       "1  All Electronics  [Electronics, Television & Video, Accessories,...  \n",
       "2        Computers  [Electronics, Computers & Accessories, Laptop ...  "
      ]
     },
     "execution_count": 18,
     "metadata": {},
     "output_type": "execute_result"
    }
   ],
   "source": [
    "metadata_raw_df = metadata_raw_df[cols]\n",
    "metadata_raw_df.head(3)"
   ]
  },
  {
   "cell_type": "code",
   "execution_count": 19,
   "id": "0ccdb361",
   "metadata": {},
   "outputs": [],
   "source": [
    "idm = model.unwrap_python_model().idm\n",
    "all_item_indices = np.arange(\n",
    "    item_embedding.shape[0]\n",
    ").tolist()\n",
    "\n",
    "all_item_ids =  [idm.get_item_id(indice) for indice in all_item_indices]"
   ]
  },
  {
   "cell_type": "code",
   "execution_count": 20,
   "id": "558d0339",
   "metadata": {},
   "outputs": [
    {
     "name": "stderr",
     "output_type": "stream",
     "text": [
      "/tmp/ipykernel_225693/1964751921.py:11: FutureWarning: DataFrame.applymap has been deprecated. Use DataFrame.map instead.\n",
      "  metadata_raw_df[list_columns] = metadata_raw_df[list_columns].applymap(safe_serialize)\n"
     ]
    }
   ],
   "source": [
    "import json\n",
    "import numpy as np\n",
    "\n",
    "# Convert ndarray to list first, then to JSON string\n",
    "def safe_serialize(x):\n",
    "    if isinstance(x, np.ndarray):\n",
    "        x = x.tolist()\n",
    "    return json.dumps(x)\n",
    "\n",
    "list_columns = [\"description\", \"categories\"]\n",
    "metadata_raw_df[list_columns] = metadata_raw_df[list_columns].applymap(safe_serialize)"
   ]
  },
  {
   "cell_type": "code",
   "execution_count": 21,
   "id": "a8c2cddf",
   "metadata": {},
   "outputs": [
    {
     "data": {
      "text/html": [
       "<div>\n",
       "<style scoped>\n",
       "    .dataframe tbody tr th:only-of-type {\n",
       "        vertical-align: middle;\n",
       "    }\n",
       "\n",
       "    .dataframe tbody tr th {\n",
       "        vertical-align: top;\n",
       "    }\n",
       "\n",
       "    .dataframe thead th {\n",
       "        text-align: right;\n",
       "    }\n",
       "</style>\n",
       "<table border=\"1\" class=\"dataframe\">\n",
       "  <thead>\n",
       "    <tr style=\"text-align: right;\">\n",
       "      <th></th>\n",
       "      <th>parent_asin</th>\n",
       "      <th>title</th>\n",
       "      <th>average_rating</th>\n",
       "      <th>description</th>\n",
       "      <th>main_category</th>\n",
       "      <th>categories</th>\n",
       "    </tr>\n",
       "  </thead>\n",
       "  <tbody>\n",
       "    <tr>\n",
       "      <th>0</th>\n",
       "      <td>B00MCW7G9M</td>\n",
       "      <td>FS-1051 FATSHARK TELEPORTER V3 HEADSET</td>\n",
       "      <td>3.5</td>\n",
       "      <td>[\"Teleporter V3 The \\u201cTeleporter V3\\u201d ...</td>\n",
       "      <td>All Electronics</td>\n",
       "      <td>[\"Electronics\", \"Television &amp; Video\", \"Video G...</td>\n",
       "    </tr>\n",
       "    <tr>\n",
       "      <th>1</th>\n",
       "      <td>B00YT6XQSE</td>\n",
       "      <td>Ce-H22B12-S1 4Kx2K Hdmi 4Port</td>\n",
       "      <td>5.0</td>\n",
       "      <td>[\"HDMI In - HDMI Out\"]</td>\n",
       "      <td>All Electronics</td>\n",
       "      <td>[\"Electronics\", \"Television &amp; Video\", \"Accesso...</td>\n",
       "    </tr>\n",
       "    <tr>\n",
       "      <th>2</th>\n",
       "      <td>B07SM135LS</td>\n",
       "      <td>Digi-Tatoo Decal Skin Compatible With MacBook ...</td>\n",
       "      <td>4.5</td>\n",
       "      <td>[]</td>\n",
       "      <td>Computers</td>\n",
       "      <td>[\"Electronics\", \"Computers &amp; Accessories\", \"La...</td>\n",
       "    </tr>\n",
       "    <tr>\n",
       "      <th>3</th>\n",
       "      <td>B089CNGZCW</td>\n",
       "      <td>NotoCity Compatible with Vivoactive 4 band 22m...</td>\n",
       "      <td>4.5</td>\n",
       "      <td>[]</td>\n",
       "      <td>AMAZON FASHION</td>\n",
       "      <td>[\"Electronics\", \"Wearable Technology\", \"Clips,...</td>\n",
       "    </tr>\n",
       "    <tr>\n",
       "      <th>4</th>\n",
       "      <td>B004E2Z88O</td>\n",
       "      <td>Motorola Droid X Essentials Combo Pack</td>\n",
       "      <td>3.8</td>\n",
       "      <td>[\"all Genuine High Quality Motorola Made Acces...</td>\n",
       "      <td>Cell Phones &amp; Accessories</td>\n",
       "      <td>[\"Electronics\", \"Computers &amp; Accessories\", \"Co...</td>\n",
       "    </tr>\n",
       "    <tr>\n",
       "      <th>...</th>\n",
       "      <td>...</td>\n",
       "      <td>...</td>\n",
       "      <td>...</td>\n",
       "      <td>...</td>\n",
       "      <td>...</td>\n",
       "      <td>...</td>\n",
       "    </tr>\n",
       "    <tr>\n",
       "      <th>1610007</th>\n",
       "      <td>B003NUIU9M</td>\n",
       "      <td>Wintec FileMate Pro USB Flash Drive, 3FMUSB32G...</td>\n",
       "      <td>5.0</td>\n",
       "      <td>[\"--New in retail packaging --Fast USB 2.0 dat...</td>\n",
       "      <td>Computers</td>\n",
       "      <td>[\"Electronics\", \"Computers &amp; Accessories\", \"Da...</td>\n",
       "    </tr>\n",
       "    <tr>\n",
       "      <th>1610008</th>\n",
       "      <td>B0BHVY33TL</td>\n",
       "      <td>Tsugar Noise Reduction Wireless Headphones Blu...</td>\n",
       "      <td>1.0</td>\n",
       "      <td>[\"Description: 100% brand new high quality 1.H...</td>\n",
       "      <td>None</td>\n",
       "      <td>[\"Electronics\", \"Headphones, Earbuds &amp; Accesso...</td>\n",
       "    </tr>\n",
       "    <tr>\n",
       "      <th>1610009</th>\n",
       "      <td>B09SQGRFFH</td>\n",
       "      <td>Hardshell Case for MacBook Pro (16-inch, 2021)...</td>\n",
       "      <td>4.6</td>\n",
       "      <td>[]</td>\n",
       "      <td>None</td>\n",
       "      <td>[\"Electronics\", \"Computers &amp; Accessories\", \"La...</td>\n",
       "    </tr>\n",
       "    <tr>\n",
       "      <th>1610010</th>\n",
       "      <td>B091JWCSG5</td>\n",
       "      <td>FYY 12-13.3\" Laptop Sleeve Case Bag, PU Leathe...</td>\n",
       "      <td>4.0</td>\n",
       "      <td>[]</td>\n",
       "      <td>Computers</td>\n",
       "      <td>[\"Electronics\", \"Computers &amp; Accessories\", \"La...</td>\n",
       "    </tr>\n",
       "    <tr>\n",
       "      <th>1610011</th>\n",
       "      <td>B08K7KC4GR</td>\n",
       "      <td>4MP Full Time Color Night Vision POE IP Camera...</td>\n",
       "      <td>4.1</td>\n",
       "      <td>[\"Camera\", \"Image Sensor: 1/1.8\\\" Progressive ...</td>\n",
       "      <td>Camera &amp; Photo</td>\n",
       "      <td>[\"Electronics\", \"Camera &amp; Photo\", \"Video Surve...</td>\n",
       "    </tr>\n",
       "  </tbody>\n",
       "</table>\n",
       "<p>1610012 rows × 6 columns</p>\n",
       "</div>"
      ],
      "text/plain": [
       "        parent_asin                                              title  \\\n",
       "0        B00MCW7G9M             FS-1051 FATSHARK TELEPORTER V3 HEADSET   \n",
       "1        B00YT6XQSE                      Ce-H22B12-S1 4Kx2K Hdmi 4Port   \n",
       "2        B07SM135LS  Digi-Tatoo Decal Skin Compatible With MacBook ...   \n",
       "3        B089CNGZCW  NotoCity Compatible with Vivoactive 4 band 22m...   \n",
       "4        B004E2Z88O             Motorola Droid X Essentials Combo Pack   \n",
       "...             ...                                                ...   \n",
       "1610007  B003NUIU9M  Wintec FileMate Pro USB Flash Drive, 3FMUSB32G...   \n",
       "1610008  B0BHVY33TL  Tsugar Noise Reduction Wireless Headphones Blu...   \n",
       "1610009  B09SQGRFFH  Hardshell Case for MacBook Pro (16-inch, 2021)...   \n",
       "1610010  B091JWCSG5  FYY 12-13.3\" Laptop Sleeve Case Bag, PU Leathe...   \n",
       "1610011  B08K7KC4GR  4MP Full Time Color Night Vision POE IP Camera...   \n",
       "\n",
       "         average_rating                                        description  \\\n",
       "0                   3.5  [\"Teleporter V3 The \\u201cTeleporter V3\\u201d ...   \n",
       "1                   5.0                             [\"HDMI In - HDMI Out\"]   \n",
       "2                   4.5                                                 []   \n",
       "3                   4.5                                                 []   \n",
       "4                   3.8  [\"all Genuine High Quality Motorola Made Acces...   \n",
       "...                 ...                                                ...   \n",
       "1610007             5.0  [\"--New in retail packaging --Fast USB 2.0 dat...   \n",
       "1610008             1.0  [\"Description: 100% brand new high quality 1.H...   \n",
       "1610009             4.6                                                 []   \n",
       "1610010             4.0                                                 []   \n",
       "1610011             4.1  [\"Camera\", \"Image Sensor: 1/1.8\\\" Progressive ...   \n",
       "\n",
       "                     main_category  \\\n",
       "0                  All Electronics   \n",
       "1                  All Electronics   \n",
       "2                        Computers   \n",
       "3                   AMAZON FASHION   \n",
       "4        Cell Phones & Accessories   \n",
       "...                            ...   \n",
       "1610007                  Computers   \n",
       "1610008                       None   \n",
       "1610009                       None   \n",
       "1610010                  Computers   \n",
       "1610011             Camera & Photo   \n",
       "\n",
       "                                                categories  \n",
       "0        [\"Electronics\", \"Television & Video\", \"Video G...  \n",
       "1        [\"Electronics\", \"Television & Video\", \"Accesso...  \n",
       "2        [\"Electronics\", \"Computers & Accessories\", \"La...  \n",
       "3        [\"Electronics\", \"Wearable Technology\", \"Clips,...  \n",
       "4        [\"Electronics\", \"Computers & Accessories\", \"Co...  \n",
       "...                                                    ...  \n",
       "1610007  [\"Electronics\", \"Computers & Accessories\", \"Da...  \n",
       "1610008  [\"Electronics\", \"Headphones, Earbuds & Accesso...  \n",
       "1610009  [\"Electronics\", \"Computers & Accessories\", \"La...  \n",
       "1610010  [\"Electronics\", \"Computers & Accessories\", \"La...  \n",
       "1610011  [\"Electronics\", \"Camera & Photo\", \"Video Surve...  \n",
       "\n",
       "[1610012 rows x 6 columns]"
      ]
     },
     "execution_count": 21,
     "metadata": {},
     "output_type": "execute_result"
    }
   ],
   "source": [
    "metadata_raw_df"
   ]
  },
  {
   "cell_type": "code",
   "execution_count": 22,
   "id": "b9093a00",
   "metadata": {},
   "outputs": [],
   "source": [
    "payload = (\n",
    "    metadata_raw_df[metadata_raw_df[\"parent_asin\"].isin(all_item_ids)]\n",
    "    .assign(item_index=lambda df: df[\"parent_asin\"].map(idm.get_item_index))\n",
    "    .set_index(\"item_index\")\n",
    "    .to_dict(orient=\"index\")\n",
    ")"
   ]
  },
  {
   "cell_type": "code",
   "execution_count": 23,
   "id": "74fc5886",
   "metadata": {},
   "outputs": [
    {
     "data": {
      "text/plain": [
       "UpdateResult(operation_id=0, status=<UpdateStatus.COMPLETED: 'completed'>)"
      ]
     },
     "execution_count": 23,
     "metadata": {},
     "output_type": "execute_result"
    }
   ],
   "source": [
    "collection_name = \"two_tower_sequence_item_embedding\"\n",
    "upsert_result = ann_index.upsert(\n",
    "    collection_name=collection_name,\n",
    "    points=[\n",
    "        PointStruct(id=idx, vector=vector.tolist(), payload=payload.get(idx, {}))\n",
    "        for idx, vector in enumerate(item_embedding[:-1])\n",
    "    ],\n",
    ")\n",
    "assert str(upsert_result.status) == \"completed\"\n",
    "upsert_result"
   ]
  }
 ],
 "metadata": {
  "kernelspec": {
   "display_name": "Python 3",
   "language": "python",
   "name": "python3"
  },
  "language_info": {
   "codemirror_mode": {
    "name": "ipython",
    "version": 3
   },
   "file_extension": ".py",
   "mimetype": "text/x-python",
   "name": "python",
   "nbconvert_exporter": "python",
   "pygments_lexer": "ipython3",
   "version": "3.11.9"
  }
 },
 "nbformat": 4,
 "nbformat_minor": 5
}
