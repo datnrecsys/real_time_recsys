{
 "cells": [
  {
   "cell_type": "code",
   "execution_count": 2,
   "metadata": {},
   "outputs": [],
   "source": [
    "%load_ext autoreload\n",
    "%autoreload 2"
   ]
  },
  {
   "cell_type": "markdown",
   "metadata": {},
   "source": [
    "## Setup"
   ]
  },
  {
   "cell_type": "code",
   "execution_count": 20,
   "metadata": {},
   "outputs": [],
   "source": [
    "from dotenv import load_dotenv\n",
    "import mlflow\n",
    "from pydantic import BaseModel"
   ]
  },
  {
   "cell_type": "code",
   "execution_count": 4,
   "metadata": {},
   "outputs": [
    {
     "data": {
      "text/plain": [
       "True"
      ]
     },
     "execution_count": 4,
     "metadata": {},
     "output_type": "execute_result"
    }
   ],
   "source": [
    "load_dotenv(override=True)"
   ]
  },
  {
   "cell_type": "markdown",
   "metadata": {},
   "source": [
    "## Log Mlflow"
   ]
  },
  {
   "cell_type": "code",
   "execution_count": 8,
   "metadata": {},
   "outputs": [],
   "source": [
    "client = mlflow.tracking.MlflowClient()\n",
    "experiment = client.get_experiment_by_name(\"first-attempt\")"
   ]
  },
  {
   "cell_type": "code",
   "execution_count": 17,
   "metadata": {},
   "outputs": [
    {
     "name": "stdout",
     "output_type": "stream",
     "text": [
      "005-two-tower-512-1024 , 94a1c928bd894d86ae99d933385cabf9\n",
      "005-two-tower-512-512 , 7a1334ca2d754c41a03c52f1387de01c\n",
      "005-two-tower-512-256 , c6b8b95668494d61802464e9cc53c94a\n",
      "005-two-tower-256-512 , 2c788748f7f242f0b1d95c130a9ef5b5\n",
      "005-two-tower-256-256 , f228b20bf6e54abf9183e35bf7291d2b\n",
      "005-two-tower-256-128 , c17a4dbfb645408a82127a4c2628a3fc\n",
      "005-two-tower-128-512 , 1501d1d5dc94448b8d3a495ed0f7bd67\n",
      "005-two-tower-128-64 , 3c89512dcb0e4a9cbba2f000c6350215\n",
      "005-two-tower-dim256 , 1aa40b57c3814b78a556bf41b83fc40c\n",
      "007-gsasrec , e58abd161d794d8ea68b9b158f9dbb52\n",
      "005-two-tower , 6bfe0479f8b640a38e7ffd6efce3fe1b\n",
      "007-gsasrec , 910a2d17ae254967a2fcb040fd957549\n",
      "007-gsasrec , fd9d630f70f94bb0ab2cc2e29b530651\n",
      "004-mf-cf , a8d3f24be439447cbf48177f34bb530c\n",
      "001-popular-baseline , 3ec1918b43d2431fa3fef53406a2a7f4\n",
      "002-u2u-cf , 8e1e168947af4c6b802dff2292cfedce\n",
      "003-i2i-cf-min-sim-count=10 , e4ea14bf92ab43919f24e0bf44914c75\n",
      "003-i2i-cf-min-sim-count=9 , 67ecd7a7c0694e778ae08839bd457d01\n",
      "003-i2i-cf-min-sim-count=8 , 20b11379d3454bd991c4e202d4bcb7a3\n",
      "003-i2i-cf-min-sim-count=7 , bd44a1c913ea4d43a9d3443288f09507\n",
      "003-i2i-cf-min-sim-count=6 , c4768621f11941dfb95eba9b0215ef19\n",
      "003-i2i-cf-min-sim-count=5 , a1304e9b09764f91b03c4f5a6d1d4717\n",
      "003-i2i-cf-min-sim-count=4 , 56184a6cc7cf4471a294d27474060f06\n",
      "003-i2i-cf-min-sim-count=3 , 3d572b68fad7499a88ee7b8e098f84c3\n",
      "003-i2i-cf-min-sim-count=2 , f053e3760d174e2dbbc3f9a54be68b7f\n",
      "003-i2i-cf , 9cf37392d3fb4519a05f47549a70755e\n"
     ]
    }
   ],
   "source": [
    "# Fetch all run names\n",
    "runs = client.search_runs(\n",
    "    experiment_ids=[experiment.experiment_id],\n",
    "    order_by=[\"start_time DESC\"],\n",
    ")\n",
    "\n",
    "for run in runs:\n",
    "    print(run.info.run_name,\",\", run.info.run_id)"
   ]
  },
  {
   "cell_type": "code",
   "execution_count": null,
   "metadata": {},
   "outputs": [],
   "source": [
    "# Log group name for i2i runs\n",
    "\n",
    "extra_params ={\n",
    "    \"Args.group_name\": \"i2i-cf\",\n",
    "}\n",
    "\n",
    "for run in runs:\n",
    "    run_name, run_id = run.info.run_name, run.info.run_id\n",
    "\n",
    "    if \"i2i-cf\" in run_name:\n",
    "        with mlflow.start_run(run_id=run_id):\n",
    "            mlflow.log_params(extra_params)\n",
    "            print(f\"Logged group name for run {run_name} ({run_id})\")"
   ]
  },
  {
   "cell_type": "code",
   "execution_count": 26,
   "metadata": {},
   "outputs": [
    {
     "name": "stdout",
     "output_type": "stream",
     "text": [
      "Logged group name for run 005-two-tower (6bfe0479f8b640a38e7ffd6efce3fe1b)\n",
      "🏃 View run 005-two-tower at: http://localhost:5002/#/experiments/9/runs/6bfe0479f8b640a38e7ffd6efce3fe1b\n",
      "🧪 View experiment at: http://localhost:5002/#/experiments/9\n"
     ]
    }
   ],
   "source": [
    "# Log group name for two-tower run\n",
    "extra_params ={\n",
    "    \"Args.group_name\": \"two-tower\",\n",
    "}\n",
    "for run in runs:\n",
    "    run_name, run_id = run.info.run_name, run.info.run_id\n",
    "\n",
    "    if run_name == \"005-two-tower\":\n",
    "        with mlflow.start_run(run_id=run_id):\n",
    "            mlflow.log_params(extra_params)\n",
    "            print(f\"Logged group name for run {run_name} ({run_id})\")"
   ]
  },
  {
   "cell_type": "code",
   "execution_count": 29,
   "metadata": {},
   "outputs": [
    {
     "name": "stdout",
     "output_type": "stream",
     "text": [
      "Logged group name for run 004-mf-cf (a8d3f24be439447cbf48177f34bb530c)\n",
      "🏃 View run 004-mf-cf at: http://localhost:5002/#/experiments/9/runs/a8d3f24be439447cbf48177f34bb530c\n",
      "🧪 View experiment at: http://localhost:5002/#/experiments/9\n"
     ]
    }
   ],
   "source": [
    "# Log group name for mf runs\n",
    "extra_params ={\n",
    "    \"Args.group_name\": \"matrix-factorization\",\n",
    "}\n",
    "for run in runs:\n",
    "    run_name, run_id = run.info.run_name, run.info.run_id\n",
    "\n",
    "    if \"mf-cf\" in run_name:\n",
    "        with mlflow.start_run(run_id=run_id):\n",
    "            mlflow.log_params(extra_params)\n",
    "            print(f\"Logged group name for run {run_name} ({run_id})\")"
   ]
  },
  {
   "cell_type": "code",
   "execution_count": null,
   "metadata": {},
   "outputs": [],
   "source": [
    "# Log group name for gsasrec runs\n",
    "extra_params ={\n",
    "    \"Args.group_name\": \"gsasrec\",\n",
    "}\n",
    "for run in runs:\n",
    "    run_name, run_id = run.info.run_name, run.info.run_id\n",
    "\n",
    "    if \"gsasrec\" in run_name:\n",
    "        with mlflow.start_run(run_id=run_id):\n",
    "            mlflow.log_params(extra_params)\n",
    "            print(f\"Logged group name for run {run_name} ({run_id})\")"
   ]
  }
 ],
 "metadata": {
  "kernelspec": {
   "display_name": "Python 3",
   "language": "python",
   "name": "python3"
  },
  "language_info": {
   "codemirror_mode": {
    "name": "ipython",
    "version": 3
   },
   "file_extension": ".py",
   "mimetype": "text/x-python",
   "name": "python",
   "nbconvert_exporter": "python",
   "pygments_lexer": "ipython3",
   "version": "3.11.9"
  }
 },
 "nbformat": 4,
 "nbformat_minor": 2
}
