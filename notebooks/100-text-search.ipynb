{
 "cells": [
  {
   "cell_type": "code",
   "execution_count": 2,
   "id": "0c82c6de",
   "metadata": {},
   "outputs": [],
   "source": [
    "from qdrant_client import QdrantClient"
   ]
  },
  {
   "cell_type": "code",
   "execution_count": 3,
   "id": "ff00b72a",
   "metadata": {},
   "outputs": [
    {
     "name": "stderr",
     "output_type": "stream",
     "text": [
      "/tmp/ipykernel_22552/3772273065.py:1: UserWarning: Qdrant client version 1.14.3 is incompatible with server version 1.12.0. Major versions should match and minor version difference must not exceed 1. Set check_compatibility=False to skip version check.\n",
      "  client = QdrantClient(\n"
     ]
    }
   ],
   "source": [
    "client = QdrantClient(\n",
    "    url=\"http://138.2.61.6:6333\",\n",
    "    prefer_grpc=False,)"
   ]
  },
  {
   "cell_type": "code",
   "execution_count": 4,
   "id": "e1a2411c",
   "metadata": {},
   "outputs": [],
   "source": [
    "from qdrant_client import QdrantClient, models\n"
   ]
  },
  {
   "cell_type": "code",
   "execution_count": 5,
   "id": "ac04ceff",
   "metadata": {},
   "outputs": [],
   "source": [
    "text = \"HDMI\""
   ]
  },
  {
   "cell_type": "code",
   "execution_count": 6,
   "id": "23aee1b0",
   "metadata": {},
   "outputs": [
    {
     "data": {
      "text/plain": [
       "UpdateResult(operation_id=8, status=<UpdateStatus.COMPLETED: 'completed'>)"
      ]
     },
     "execution_count": 6,
     "metadata": {},
     "output_type": "execute_result"
    }
   ],
   "source": [
    "from qdrant_client.models import TextIndexParams, TokenizerType\n",
    "\n",
    "client.create_payload_index(\n",
    "    collection_name=\"item2vec_item\",\n",
    "    field_name=\"title\",\n",
    "    field_schema=TextIndexParams(\n",
    "        type=\"text\",\n",
    "        tokenizer=TokenizerType.PREFIX,  # splits on spaces/punctuation\n",
    "        min_token_len=2,\n",
    "        max_token_len=20,\n",
    "        lowercase=True,\n",
    "        \n",
    "    )\n",
    ")\n"
   ]
  },
  {
   "cell_type": "code",
   "execution_count": 7,
   "id": "eb01611f",
   "metadata": {},
   "outputs": [],
   "source": [
    "from qdrant_client.models import FieldCondition, Filter, MatchText\n",
    "\n",
    "records, _ = client.scroll(\n",
    "    collection_name=\"item2vec_item\",\n",
    "    scroll_filter=Filter(\n",
    "        must=[\n",
    "            FieldCondition(\n",
    "                key=\"description\",\n",
    "                match=MatchText(text=\"HDMI\")  # full-text match\n",
    "            )\n",
    "        ]\n",
    "    ),\n",
    "    with_payload=True,\n",
    "    limit=10\n",
    ")\n"
   ]
  },
  {
   "cell_type": "code",
   "execution_count": 8,
   "id": "b6506838",
   "metadata": {},
   "outputs": [
    {
     "data": {
      "text/plain": [
       "[Record(id=137, payload={'title': 'Insten 352540 High Speed 50-Feet 15m Male HDMI Cable, Black', 'categories': '[\"Electronics\", \"Television & Video\", \"Accessories\", \"Cables\", \"HDMI Cables\"]', 'main_category': 'Home Audio & Theater', 'parent_asin': 'B000QKKAPE', 'description': '[\"A premium quality HDMI-HDMI cable suitable for use in HDTV, Home Theater, and business class projector based applications. Features gold-plated connectors, molded strain-relief, and Mylar-foil shielding. Cable constructed using the high quality material for best contact connection between HDMI equipment\\'s. Fully HDCP compliant to provide highest level of signal quality. Fully compatible with High Speed HDMI specification (Version 1.3b) Active HDMI cable using active electronics to boost and clean up the signal, which effectively doubled the range of a standard HDMI cable. Cable runs up to 30 meters (98ft) Transfer Digital Audio and Video signals at warp speed of 5 Gigabits per second approximately! A superb cable with excellent audio-visual transfer properties that deliver signal without compromising purity and balance. Digital video doesn\\'t get any better than this! Features: Gold-plated connectors for highest signal transfer rate and resistance in corrosion. Large gauge PVC jacket provides maximum shielding against wear and tear and extreme temperatures Reinforced quad-layer braided shielding and Mylar-foil shielding provides utmost protection against RF and EM interference Molded strain-relief design lessens plug/socket pressure Designed to meet all HDMI standards Supports 480i, 480p, 720p, 1080i, 1080p resolution Color: Black Cable Length: 50 FT/15 M Suggested Applications: multiple audio formats from stereo to multi-channel sound. Note: Even though HDMI cables support Hot Plug Detection, improper usage might result in resetting/restarting both devices, or even may cause damage to the devices. Therefore, we do not suggest Hot Plug action for any HDMI cables. Please make sure both input and output devices are off when plugging or unplugging HDMI cables.\"]', 'average_rating': 4.3}, vector=None, shard_key=None, order_value=None),\n",
       " Record(id=139, payload={'average_rating': 3.8, 'parent_asin': 'B000RZDBM2', 'description': '[\"Product Description\", \"Introducing TiVo HD, the digital video recorder that combines the intelligence of the TiVo service with the razor-sharp clarity of HD recording. Designed as a universal cable box to work with any cable provider, the TiVo HD box also offers network connectivity, delivering the best of broadcast and broadband TV, right to your living room.\", \"Amazon.com\", \"Amazon.comTiVo HD is a smart addition to any high-definition TV, combining the clarity of high definition with the smart, easy-to-use TiVo Service. The TiVo HD records up to 20 hours of high definition programming or 180 hours of standard definition. Download the latest movies straight from the Internet to your living room. Pause, rewind, and slow-motion your favorite moments with razor-sharp HD clarity. TiVo HD connects to any home network, so you get access to the best of both broadcast and broadband content. Plus, TiVo HD connects to virtually any cable service via CableCARDs, so it replaces your existing cable box.\", \"Key Features\", \"Save up to 20 hours of high definition programming or 180 hours of standard definition at any one time\", \"Save up to 20 hours of high definition programming or 180 hours of standard definition at any one time\", \"Record two shows at once\", \"Record two shows at once\", \"Includes remote control\", \"Includes remote control\", \"Works with cable and antenna; does NOT support satellite\", \"Works with cable and antenna; does NOT support satellite\", \"Use CableCARD decoders from your cable company to replace your cable box\", \"Use CableCARD decoders from your cable company to replace your cable box\", \"Supports high definition TV\", \"Supports high definition TV\", \"What\\'s in the box: TiVo HD DVR, remote control, Quick Start guide, Manual, Composite cable, component cable, phone cord, power cord, 2 AA batteries\", \"What\\'s in the box: TiVo HD DVR, remote control, Quick Start guide, Manual, Composite cable, component cable, phone cord, power cord, 2 AA batteries\", \"Learn More\", \"With a TiVo DVR connected to an existing phone line or home network you can\", \"Record Every Episode of Your Favorite Shows\", \"The TiVo service keeps track of the latest TV schedule, and automatically records every episode of your favorite shows, even if the day or time they air changes. All you do is find the show you want by searching or browsing the TV listings, and then specify whether you want to record all episodes or just the new ones.\", \"Record Two Shows at Once\", \"TiVo DVRs have two tuners, so they can record two different TV shows at the same time. You can even play back a third show that you\\\\u2019ve already saved while two new shows are recording.  TiVo HD DVR and TiVo Series3 HD DVRs work with the following configurations:\", \"Digital cable only (record 2 shows at once, requires up to two CableCARD decoders from your cable company; supports HD channels)\", \"Digital cable only (record 2 shows at once, requires up to two CableCARD decoders from your cable company; supports HD channels)\", \"Antenna only (record 2 shows at once; supports HD channels)\", \"Antenna only (record 2 shows at once; supports HD channels)\", \"Digital cable + antenna (record 2 shows at once; supports HD channels)\", \"Digital cable + antenna (record 2 shows at once; supports HD channels)\", \"Basic cable (record 2 shows at once; does not support HD or premium channels)\", \"Basic cable (record 2 shows at once; does not support HD or premium channels)\", \"Basic cable + antenna (record 2 shows at once; supports HD channels on antenna only)\", \"Basic cable + antenna (record 2 shows at once; supports HD channels on antenna only)\", \"Does NOT support:\", \"Satellite\", \"Satellite\", \"Cable box (replace your digital cable box with a CableCARD decoder)\", \"Cable box (replace your digital cable box with a CableCARD decoder)\", \"Control live or recorded shows\", \"TiVo DVRs can: Pause live or recorded shows (live TV can stay paused for 30 minutes), Rewind (3 different speeds), fast-forward (3 different speeds), instant replay, slow motion, frame forward, frame reverse, skip-to-tick (jump ahead or back in 15 minute increments in recorded shows), jump to the beginning of a show, the end of a show, or the point being broadcast live at that moment.\", \"Search for shows\", \"You can search for shows with a specific word in the title or episode description, like \\\\\"House\\\\\". You can search for shows in a particular category, like \\\\u201cCooking\\\\u201d shows about \\\\\"Chocolate\\\\\", or \\\\\"Football\\\\\" programs with \\\\\"Giants\\\\\". You can even find every movie with Johnny Depp, or every movie directed by Steven Spielberg. If it is available on your television lineup, the TiVo service can find it and record it for you.\", \"Record by actor, director, or keyword\", \"Use a TiVo WishList search to find every show with your favorite actor, director, keyword, or sports team. Your TiVo DVR will save your search, and if you like, automatically record every new show that matches it.\", \"TiVo Suggestions\", \"TiVo Suggestions are personalized shows selected to match your preferences. Any time you watch a live TV or recorded show, or see something you like or don\\\\u2019t like in the Guide, you can rate that show by using the THUMBS UP or the THUMBS DOWN buttons on your remote control. When the TiVo DVR has empty space, it will automatically record shows that are liked by other people who like the same shows you do. This is an excellent way to discover new shows that may interest you. TiVo Suggestions never replace any shows you request, or prevent them from being recorded. Suggestions are always the first programs to be deleted when it\\\\u2019s time for one of your shows to record.\", \"Pre-approve kids TV\", \"When you enable KidZone on your TiVo DVR, you can select the programs and channels that your children can watch. You can also block specific shows on channels that you have approved, to keep your kids from watching those shows you just can\\\\u2019t stand. When you let your children watch TV you\\\\u2019ll be comfortable knowing they can only get to shows you\\\\u2019ve approved.\", \"Schedule shows online\", \"You can search for TV shows by title, category, keyword, or person in the Find TV shows section of tivo.com. When you\\\\u2019ve found the show you want to record, simply log in to your tivo.com account, select the DVR you want to set to record, and decide whether you want to record just that episode or every episode of the series. You have access to the same settings as you do when you set up a recording on the DVR itself. You will receive one email confirmation when your request is received and a second one when the DVR has reported back whether your show will record.\", \"When the TiVo DVR is connected to a home network that includes a PC or Mac you can\", \"Take your shows with you Once you\\\\u2019ve recorded your favorite shows on your TiVo DVR, you can transfer them to your computer, iPod, PSP, or other compatible portable player \\\\u00a0as long as your DVR is connected to your home network. For PC, you will need TiVo Desktop for PC (transfer to computer only) or TiVo Desktop Plus for PC (t ransfer to portable player). For Macintosh computer, you will need Roxio Toast Titanium   Save shows to a DVD You can save your favorite TV shows and movies to a DVD using your network-connected TiVo DVR and your computer capable of creating DVDs. To save your TiVo shows to DVD using your PC, you will need Roxio Creator . To save your TiVo shows to DVD using your Macintosh, you will need Roxio Toast Titanium software.   Transfer shows between two TiVo DVRs  If you have more than one TiVo DVR with TiVo service on your home network , you can transfer shows between the two DVRs. That way you can start watching a show in the living room and finish it in the bedroom. High-definition shows can only transfer between two HD-compatible TiVo DVRs. Standard definition shows can transfer between all Series2, HD, and Series3 DVRs. Video downloads and any shows that have been protected by the copyright holder can not be transferred. If you don\\\\u2019t have a home network, you can directly connect two DVRs together by creating a peer-to-peer network.   Your own music library  If you have MP3 music files on your PC or Mac, you can stream them to your network-connected TiVo DVR for playback through your TV or home entertainment system. To stream music from your PC, you will need TiVo Desktop software for PC . To stream music from your Macintosh, you will need TiVo Desktop software for Mac.   Your photo library  If you have photos on your PC or Mac, you can use your network-connected TiVo DVR to view them on your TV. To view photos from your PC, you will need TiVo Desktop software for PC . To view photos from your Macintosh, you will need TiVo Desktop software for Mac .\", \"When your home network is connected to your high-speed internet connection you can\", \"Amazon Instant Video  Using your broadband-connected\\\\u00a0 TiVo DVR watch new release movies and your favorite TV shows in HD. Movies are typically available the same day they are released on DVD. TV shows are typically available within days of the original broadcast. Movie rentals are usually $2.99 or $3.99 (with HD titles only a dollar extra specials as low as 99 cents). Buy movies for $9.99 to $14.99 (with some titles as low as $5.49). TV show episodes may be purchased for as little as $1.89 each, with HD shows starting at $2.99 each. There are even shows and bonus footage you can download for free. Rentals must be viewed within 24 hours of starting playback. Rentals not started after 30 days will be deleted, and must be re-rented to view. Purchases may be kept on your TiVo DVR as long as you like. If you delete a purchase you can typically re-download it at no additional charge from your Amazon Media Library.   Music videos  You can download thousands of FREE music videos from Music Choice directly to your broadband-connected TiVo DVR.  Rhapsody music service  With Rhapsody on TiVo you cah choose from millions of songs, search for your favorite artists, tune into continuous music on Rhapsody Channels, and build your own music library\\\\u2013straight from your TV using your TiVo remote control. Whether you\\\\u2019re in the mood for classical, hip-hop, or anything in between, it\\\\u2019s all just a few clicks away. And with a Rhapsody membership you can listen all you want without the need to buy individual songs.\\\\u00a0 You can try the Rhapsody music service on your TiVo DVR free for 30 days. To continue using the service after the free trial, visit www.rhapsody.com/tivo/signup to join.    Internet radio & podcasts  You can play your favorite audio podcasts on your broadband-connected TiVo DVR using our Podcaster feature, or listen to the world\\\\u2019s largest Internet radio network with Live365.com. Take advantage of the great sound system on your TV or home entertainment system and relax and enjoy your favorite audio entertainment.\", \"View family and friends\\' photos from Photobucket or Picasa Web Albums on your TV\", \"You can make your personal photos available to your family and friends to view directly on their TV using their TiVo DVR. All you need to do is create an account with www.photobucket.com or www.picasa.google.com and upload your photos. Then let your family and friends know your user name, and they can search for and view your public photos on their broadband-connected TiVo DVRs\", \"Home videos  You can make your personal home movies available to your family and friends to watch directly on their TV using their TiVo DVR. All you need to do is create an account with www.onetruemedia.com and upload your photos and video footage, edit and customize your movie, and receive your private channel code. Then share that code with family and friends, and they can have your new videos automatically downloaded to their broadband-connected TiVo DVRs.  Internet feeds  Some videos on the Internet are available as part of regularly updated feeds (such as RSS or video podcasts). Using TiVo Desktop Plus software on your PC, the TiVo DVR can monitor your favorite feeds for updates. When a new video is available, it will be automatically downloaded and made available on your network-connected TiVo DVR, so you can watch it on your TV instead of on a computer monitor. Get free video downloads \\\\u2014 things not available on TV \\\\u2014 from dozens of leading providers.\", \"Connections\", \"Phone line: Connects to an existing home phone line, unless you connect an Ethernet cable to (G) or the TiVo wireless adapter to (H).\", \"Phone line: Connects to an existing home phone line, unless you connect an Ethernet cable to (G) or the TiVo wireless adapter to (H).\", \"Digital audio: Connects to your home theater system for digital sound using an optical digital audio cable. (Sold separately)\", \"Digital audio: Connects to your home theater system for digital sound using an optical digital audio cable. (Sold separately)\", \"S-Video out: Connects to a TV for a high-quality standard definition picture. It does not support high definition. Requires connecting a separate cable for audio.\", \"S-Video out: Connects to a TV for a high-quality standard definition picture. It does not support high definition. Requires connecting a separate cable for audio.\", \"Component video out: Connects to a TV for a high definition picture. Requires connecting a separate cable for audio.\", \"Component video out: Connects to a TV for a high definition picture. Requires connecting a separate cable for audio.\", \"Composite video and stereo out: Connects to a TV for a standard definition picture. Use only the white and red cables if all you need is audio for a different video source, like S-Video or Component video.\", \"Composite video and stereo out: Connects to a TV for a standard definition picture. Use only the white and red cables if all you need is audio for a different video source, like S-Video or Component video.\", \"HDMI out: Connects to a TV, A/V receiver, or home theater system for a pure digital connection that provides HD video and digital audio all in one cable.\", \"HDMI out: Connects to a TV, A/V receiver, or home theater system for a pure digital connection that provides HD video and digital audio all in one cable.\", \"Ethernet: Connects to an Ethernet cable to allow your DVR to access your home network and your broadband Internet connection.\", \"Ethernet: Connects to an Ethernet cable to allow your DVR to access your home network and your broadband Internet connection.\", \"2 USB ports: Connects to the TiVo wireless adapter if you want to wirelessly connect to your home network and broadband internet connection.\", \"2 USB ports: Connects to the TiVo wireless adapter if you want to wirelessly connect to your home network and broadband internet connection.\", \"E-SATA: Connects to the My DVR Expander to increase recording capacity.\", \"E-SATA: Connects to the My DVR Expander to increase recording capacity.\", \"Cable In: Connects to the coaxial cable in your wall that provides your cable TV programming. Satellite is not supported.\", \"Cable In: Connects to the coaxial cable in your wall that provides your cable TV programming. Satellite is not supported.\", \"Antenna in: Connects to the coaxial cable from a TV antenna in order to receive analog and digital broadcasts (including HD programming) over the air.\", \"Antenna in: Connects to the coaxial cable from a TV antenna in order to receive analog and digital broadcasts (including HD programming) over the air.\", \"From the Manufacturer\", \"TiVo HD is a smart addition to any high-definition TV, combining the clarity of high definition with the smart, easy-to-use TiVo Service. The TiVo HD records up to 20 hours of high definition programming or 180 hours of standard definition. Download the latest movies straight from the Internet to your living room. Pause, rewind, and slow-motion your favorite moments with razor-sharp HD clarity. TiVo HD connects to any home network, so you get access to the best of both broadcast and broadband content. Plus, TiVo HD connects to virtually any cable service via CableCARDs, so it replaces your existing cable box..\", \"See more\"]', 'title': 'TiVo HD Digital Video Recorder (Old Version)', 'main_category': 'All Electronics', 'categories': '[\"Electronics\", \"Television & Video\", \"Streaming Media Players\"]'}, vector=None, shard_key=None, order_value=None),\n",
       " Record(id=152, payload={'title': 'Cheetah Mounts APDAM2B Articulating Dual Arm TV Wall Mount Bracket for 32 to 65-Inch LCD, LED, Plasma, Flat Screen Monitors Bundle with Twisted Veins 10-Feet HDMI Cable and 6-Inch Level', 'main_category': 'Home Audio & Theater', 'categories': '[\"Electronics\", \"Headphones, Earbuds & Accessories\", \"Adapters\"]', 'average_rating': 4.6, 'parent_asin': 'B000WL6YY8', 'description': '[\"Fits 32-65\\\\\" Tus up to VESA 600 and 165lbs this mount fits virtually all 32-65\\\\\" Tus sold today. It will fit many larger TVs up to 75\\\\u201d or more as long as the hole pattern is less than VESA 600x400 (24x16\\\\u201d) and it weighs less than 165lbs. 20\\\\\" Extension, low 2. 9\\\\\" Profile, 130\\\\u00b0 swivel, 10\\\\u00b0 tilt the articulating arm extends up to 20\\\\\" From the wall yet collapses to 2. 8\\\\\". The mount allows for up to 130\\\\u00b0 swivel and 10\\\\u00b0 tilt. Allows 3\\\\u00b0 rotation adjustment to level after installation> slots in the TV plate allow for 3\\\\u00b0 of rotation adjustment to level the display after mounting. Mounts to 16\\\\u201d or 24\\\\u201d wooden studs as well as S all masonry the APDAM2B can be mounted to all types of masonry as well as two standard 16\\\\u201d or 24\\\\u201d wooden wall Studs. All mounting hardware is included. 10\\' Twisted veins HDMI cable and 6\\\\u201d magnetic bubble level> The mount includes a 10\\\\u2019 twisted veins high speed with Ethernet HDMI cable featuring 4K 60Hz 3D signal support and a protective braided jacket. A 6\\\\\" 3-Axis magnetic bubble level ensures level mounting. Includes all Necessary mounting hardware> This mount ships with hardware for both wall and TV mounting. Lifetime 100% all our mounts come with a lifetime. If you experience any issues, please contact us.\"]'}, vector=None, shard_key=None, order_value=None),\n",
       " Record(id=154, payload={'description': '[\"ML531BE2 is a low-profile full motion wall mount, It extends up to 20 inches off the wall, gives you maximum flexibility in positioning your TV to fit your environment for comfortable view. This heavy duty steel mount supports most TVs weighing up to 88 lbs. It fits most 26\\\\\"\\\\u201355\\\\\" flat panel TV and new LED TVs up to 60\\\\u201d. The mount can swivels in either direction, tilts up 5 degree, tilts down 15 degree, and has \\\\u00b15 degree screen level adjustment capability. To determine if the mount fits your TV, measure the vertical and horizontal distance between mounting holes on the back of the TV. A VESA pattern is measured in both horizontal and vertical distance in millimeters. 4\\\\\" is about 100mm, 7 7/8\\\\\" is 200mm, 11 13/16\\\\\" is 300mm, and 15 \\\\u00be\\\\\" is 400mm. This versatile mount supports TV with the following VESA mounting hole patterns: 100 x 100 mm, 150 x 150 mm, 200 x 100 mm, 200 x 200 mm, 300 x 200 mm, 300 x 300 mm, 400 x 200 mm, 400 x 300 mm, 400 x 400 mm.  6ft HDMI cable include in this new wall mounting kit. Common TV mounting hardware is included for easy installation.\"]', 'main_category': 'All Electronics', 'categories': '[\"Electronics\", \"Television & Video\", \"Accessories\", \"TV Mounts, Stands & Turntables\", \"TV Wall & Ceiling Mounts\"]', 'title': 'VideoSecu ML531BE2 TV Wall Mount kit with Free Magnetic Stud Finder and HDMI Cable for Most 26-55 TV and New LED UHD TV up to 60 inch 400x400 Full Motion with 20 inch Articulating Arm WT8', 'average_rating': 4.7, 'parent_asin': 'B000WYVBR0'}, vector=None, shard_key=None, order_value=None),\n",
       " Record(id=164, payload={'description': '[\"The Cmple Ultra High-Speed HDMI Cable Braided can help you obtain the maximum performance from your latest high-definition electronic devices. Use this cable to connect your HDTV to your cable box, satellite dish, Blu-Ray player, and more, and experience quality audio and video (up to 1080p) from your home. The cable is backwards compatible with all previous HDMI standards, so you\\'ll be able to use this cable with all your HDMI devices. When you connect two devices with different HDMI standards, they will automatically find the best available connection. This HDMI cable features shielding with a durable, black PVC outer layer. The shielding provides outstanding defense against outside interference and helps maintain the integrity and purity of the digital signal. The cable also features gold-plated connectors that resist corrosion while offering optimal signal transfer with lower distortion at the point of contact. The result is sound and picture quality that is faithful to the original. - See more at: http://www.cmple.com/p-464-30awg-high-speed-hdmi-cable-without-ferrite-cores-black-6ft.aspx#sthash.VkeB7nX0.dpuf\"]', 'parent_asin': 'B00123WZWK', 'categories': '[\"Electronics\", \"Television & Video\", \"Accessories\", \"Cables\", \"HDMI Cables\"]', 'average_rating': 4.6, 'main_category': 'All Electronics', 'title': '6ft ProMaxi Premium Gold Series Elegant Dual Tone HDMI Cable, Supports Deep Color'}, vector=None, shard_key=None, order_value=None),\n",
       " Record(id=193, payload={'description': '[\"Mediabridge\\\\u2122 ULTRA Series HDMI Cable\", \"Connects a Blu-Ray player, computer, Apple TV, Roku, cable box, PS4, Xbox One or other HDMI-compatible device to your HDTV/display source. It combines HD audio & video (up to 2160p) into 1 cable for many home theater needs. Durably built for clear signals & minimal interference/physical strain, this heavy-duty cable is tri-shielded with solid copper conductors & corrosion-resistant gold-plated solid metal-shielding. It allows for a shared internet connection among compatible devices, without extra wiring. Backwards compatibility ensure easy installs.\", \"Product Features\", \"- INDIVIDUALLY HAND-TESTED: We examine each cable at its manufactured length, between devices capable of supporting 4K (2160p) @ 60Hz- WHEN WE SAY 60Hz, WE MEAN IT: Our cables are built with the highest specs to make sure they work with even the most premium devices.- SUPPORT FOR ALL: Supports all HDMI 2.0b functions including 18Gbps transfer speed, 4K, UHD, 3D, 48-Bit Deep Color, HDR video & ARC- PREMIUM BUILD: 28AWG pure Copper conductors, tri-shielding & a gold-plated full metal jacket for optimal sound & picture quality- LIFETIME WARRANTY: We will catch virtually all manufacturing defects with our hand-testing process, but you\\\\u2019re still backed by our Limited Lifetime Warranty.\", \"Specifications\", \"Supports all HDMI 2.0b functions including 18Gbps transfer speed, 4K, UHD, 3D, 48-Bit Deep Color, HDR video & ARC\", \"Compatibility\", \"Devices with standard HDMI ports, like an HDTV, Blu-Ray player, computer, Apple TV, Roku, cable box, PS4, Xbox One\", \"Notes\", \"- HDMI ports supporting Ethernet are needed for internet sharing- Due to varying HDMI standards, no cable on the market can guarantee universal 60Hz compatibility.\"]', 'title': 'Mediabridge™ HDMI Cable (6 Feet) Supports 4K@60Hz, High Speed, Hand-Tested, HDMI 2.0 Ready - UHD, 18Gbps, Audio Return Channel', 'average_rating': 4.6, 'parent_asin': 'B0019EHU8G', 'categories': '[\"Electronics\", \"Television & Video\", \"Accessories\", \"Cables\", \"HDMI Cables\"]', 'main_category': 'Home Audio & Theater'}, vector=None, shard_key=None, order_value=None),\n",
       " Record(id=194, payload={'parent_asin': 'B0019HL8Q8', 'main_category': 'All Electronics', 'average_rating': 4.6, 'title': 'Mediabridge™ HDMI Cable (10 Feet) Supports 4K@60Hz, High Speed, Hand-Tested, HDMI 2.0 Ready - UHD, 18Gbps, Audio Return Channel', 'description': '[\"Mediabridge\\\\u2122 ULTRA Series HDMI Cable\", \"Connects a Blu-Ray player, computer, Apple TV, Roku, cable box, PS4, Xbox One or other HDMI-compatible device to your HDTV/display source. It combines HD audio & video (up to 2160p) into 1 cable for many home theater needs. Durably built for clear signals & minimal interference/physical strain, this heavy-duty cable is tri-shielded with solid copper conductors & corrosion-resistant gold-plated solid metal-shielding. It allows for a shared internet connection among compatible devices, without extra wiring. Backwards compatibility ensure easy installs.\", \"Product Features\", \"- INDIVIDUALLY HAND-TESTED: We examine each cable at its manufactured length, between devices capable of supporting 4K (2160p) @ 60Hz- WHEN WE SAY 60Hz, WE MEAN IT: Our cables are built with the highest specs to make sure they work with even the most premium devices.- SUPPORT FOR ALL: Supports all HDMI 2.0b functions including 18Gbps transfer speed, 4K, UHD, 3D, 48-Bit Deep Color, HDR video & ARC- PREMIUM BUILD: 28AWG pure Copper conductors, tri-shielding & a gold-plated full metal jacket for optimal sound & picture quality- LIFETIME WARRANTY: We will catch virtually all manufacturing defects with our hand-testing process, but you\\\\u2019re still backed by our Limited Lifetime Warranty.\", \"Specifications\", \"Supports all HDMI 2.0b functions including 18Gbps transfer speed, 4K, UHD, 3D, 48-Bit Deep Color, HDR video & ARC\", \"Compatibility\", \"Devices with standard HDMI ports, like an HDTV, Blu-Ray player, computer, Apple TV, Roku, cable box, PS4, Xbox One\", \"Notes\", \"- HDMI ports supporting Ethernet are needed for internet sharing- Due to varying HDMI standards, no cable on the market can guarantee universal 60Hz compatibility.\"]', 'categories': '[\"Electronics\", \"Television & Video\", \"Accessories\", \"Cables\", \"HDMI Cables\"]'}, vector=None, shard_key=None, order_value=None),\n",
       " Record(id=195, payload={'parent_asin': 'B001A5PDKQ', 'main_category': 'All Electronics', 'categories': '[\"Electronics\", \"Television & Video\", \"Accessories\", \"Cables\", \"HDMI Cables\"]', 'description': '[\"Mediabridge\\\\u2122 ULTRA Series HDMI Cable\", \"Connects a Blu-Ray player, computer, Apple TV, Roku, cable box, PS4, Xbox One or other HDMI-compatible device to your HDTV/display source. It combines HD audio & video (up to 2160p) into 1 cable for many home theater needs. Durably built for clear signals & minimal interference/physical strain, this heavy-duty cable is tri-shielded with solid copper conductors & corrosion-resistant gold-plated solid metal-shielding. It allows for a shared internet connection among compatible devices, without extra wiring. Backwards compatibility ensure easy installs.\", \"Product Features\", \"- INDIVIDUALLY HAND-TESTED: We examine each cable at its manufactured length, between devices capable of supporting 4K (2160p) @ 60Hz- WHEN WE SAY 60Hz, WE MEAN IT: Our cables are built with the highest specs to make sure they work with even the most premium devices.- SUPPORT FOR ALL: Supports all HDMI 2.0b functions including 18Gbps transfer speed, 4K, UHD, 3D, 48-Bit Deep Color, HDR video & ARC- PREMIUM BUILD: 28AWG pure Copper conductors, tri-shielding & a gold-plated full metal jacket for optimal sound & picture quality- LIFETIME WARRANTY: We will catch virtually all manufacturing defects with our hand-testing process, but you\\\\u2019re still backed by our Limited Lifetime Warranty.\", \"Specifications\", \"Supports all HDMI 2.0b functions including 18Gbps transfer speed, 4K, UHD, 3D, 48-Bit Deep Color, HDR video & ARC\", \"Compatibility\", \"Devices with standard HDMI ports, like an HDTV, Blu-Ray player, computer, Apple TV, Roku, cable box, PS4, Xbox One\", \"Notes\", \"- HDMI ports supporting Ethernet are needed for internet sharing- Due to varying HDMI standards, no cable on the market can guarantee universal 60Hz compatibility.\"]', 'title': 'Mediabridge™ HDMI Cable (15 Feet) Supports 4K@60Hz, High Speed, Hand-Tested, HDMI 2.0 Ready - UHD, 18Gbps, Audio Return Channel', 'average_rating': 4.6}, vector=None, shard_key=None, order_value=None),\n",
       " Record(id=229, payload={'average_rating': 3.9, 'title': 'Apogee HDMI 3x1 Mini Switcher - No power supply needed', 'parent_asin': 'B001JTQUYG', 'categories': '[\"Electronics\", \"Home Audio\", \"Home Audio Accessories\", \"Distribution\", \"Selector Switch Boxes\"]', 'main_category': 'All Electronics', 'description': '[\"The 3x1 HDMI mini switcher routes high definition video (in multiple resolutions up to 1080p) and digital audio from any one of the three sources to display unit. Three inputs accommodate the simultaneous connection of up to three high definition video sources, such as satellite systems and HD DVD players. The output sends the high definition audio/video signals to a high definition display. Aside from the manual switching, the switching can also done via the IR remote that is provided with the unit for added convenience. The compact design eliminates the bulk of an HDMI switcher while still having the same functionality.\"]'}, vector=None, shard_key=None, order_value=None),\n",
       " Record(id=230, payload={'title': 'Monoprice HDMI Port Saver Male to Female - 90 Degree (103733)', 'average_rating': 4.5, 'categories': '[\"Electronics\", \"Television & Video\", \"Accessories\", \"Cables\", \"HDMI Cables\"]', 'main_category': 'Computers', 'parent_asin': 'B001K38Z2G', 'description': '[\"Tight spaces giving you a problem connecting your HDMI cable? Tired of having to move your equipment just to reach those hard-to-get-to-places? Use an HDMI port saver to save time and efforts in your cable setup! Our 90 degree HDMI port saver (male to female) gives you the flexibility you need without risking bending your HDMI cables excessively which may damage the cable or even worse the ports on your expensive equipment. This port saver will help ease the strain at the point of connection to eliminate damage to the HDMI ports on your television and other devices. Dimensions: 1\\\\\" x 7/10\\\\\" x 1/2\\\\\"WARNING: Since port alignment differs from one device to another it is difficult to state which way this port saver will point on your particular device\"]'}, vector=None, shard_key=None, order_value=None)]"
      ]
     },
     "execution_count": 8,
     "metadata": {},
     "output_type": "execute_result"
    }
   ],
   "source": [
    "records"
   ]
  },
  {
   "cell_type": "code",
   "execution_count": 9,
   "id": "71f23519",
   "metadata": {},
   "outputs": [],
   "source": [
    "item_indices = [r.id for r in records]\n",
    "item_ids = [r.payload[\"parent_asin\"] for r in records]"
   ]
  },
  {
   "cell_type": "code",
   "execution_count": 10,
   "id": "2f2f6ec6",
   "metadata": {},
   "outputs": [
    {
     "data": {
      "text/plain": [
       "['B000QKKAPE',\n",
       " 'B000RZDBM2',\n",
       " 'B000WL6YY8',\n",
       " 'B000WYVBR0',\n",
       " 'B00123WZWK',\n",
       " 'B0019EHU8G',\n",
       " 'B0019HL8Q8',\n",
       " 'B001A5PDKQ',\n",
       " 'B001JTQUYG',\n",
       " 'B001K38Z2G']"
      ]
     },
     "execution_count": 10,
     "metadata": {},
     "output_type": "execute_result"
    }
   ],
   "source": [
    "item_ids"
   ]
  },
  {
   "cell_type": "code",
   "execution_count": null,
   "id": "57297696",
   "metadata": {},
   "outputs": [],
   "source": []
  }
 ],
 "metadata": {
  "kernelspec": {
   "display_name": "Python 3",
   "language": "python",
   "name": "python3"
  },
  "language_info": {
   "codemirror_mode": {
    "name": "ipython",
    "version": 3
   },
   "file_extension": ".py",
   "mimetype": "text/x-python",
   "name": "python",
   "nbconvert_exporter": "python",
   "pygments_lexer": "ipython3",
   "version": "3.11.9"
  }
 },
 "nbformat": 4,
 "nbformat_minor": 5
}
