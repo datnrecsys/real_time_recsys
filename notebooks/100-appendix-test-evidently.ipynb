{
 "cells": [
  {
   "cell_type": "code",
   "execution_count": 2,
   "metadata": {},
   "outputs": [],
   "source": [
    "from evidently.metrics import (\n",
    "    FBetaTopKMetric,\n",
    "    NDCGKMetric,\n",
    "    PersonalizationMetric,\n",
    "    PrecisionTopKMetric,\n",
    "    RecallTopKMetric,\n",
    ")\n",
    "from evidently.pipeline.column_mapping import ColumnMapping\n",
    "from evidently.report import Report\n",
    "import pandas as pd"
   ]
  },
  {
   "cell_type": "code",
   "execution_count": 14,
   "metadata": {},
   "outputs": [],
   "source": [
    "eval_df = pd.DataFrame(\n",
    "    {\n",
    "        \"user_id\": [1, 1, 1, 1, 1, 1, 1] + [2, 2, 2, 2, 2, 2, 2],\n",
    "        \"item_id\": [1, 2, 3, 4, 5, 6, 7]*2,\n",
    "        \"target\": [1, 1, 1, 0, 0, 0, 0]*2,\n",
    "        \"predictions\": [0.98, 0.97, 0.5, 0.9, 0.8, 0.95, 0.99] + [0.98, 0.97, 0.99, 0.9, 0.8, 0.95, 0.5],\n",
    "    }\n",
    ")"
   ]
  },
  {
   "cell_type": "code",
   "execution_count": 15,
   "metadata": {},
   "outputs": [
    {
     "name": "stderr",
     "output_type": "stream",
     "text": [
      "/home/dinhln/Desktop/real_time_recsys/.venv/lib/python3.11/site-packages/evidently/metrics/recsys/precision_recall_k.py:59: FutureWarning:\n",
      "\n",
      "Support for axis=1 in DataFrame.expanding is deprecated and will be removed in a future version. Use obj.T.expanding(...) instead\n",
      "\n",
      "/home/dinhln/Desktop/real_time_recsys/.venv/lib/python3.11/site-packages/evidently/metrics/recsys/precision_recall_k.py:68: FutureWarning:\n",
      "\n",
      "Support for axis=1 in DataFrame.expanding is deprecated and will be removed in a future version. Use obj.T.expanding(...) instead\n",
      "\n",
      "/home/dinhln/Desktop/real_time_recsys/.venv/lib/python3.11/site-packages/evidently/metrics/recsys/precision_recall_k.py:79: FutureWarning:\n",
      "\n",
      "Support for axis=1 in DataFrame.expanding is deprecated and will be removed in a future version. Use obj.T.expanding(...) instead\n",
      "\n",
      "/home/dinhln/Desktop/real_time_recsys/.venv/lib/python3.11/site-packages/evidently/metrics/recsys/precision_recall_k.py:88: FutureWarning:\n",
      "\n",
      "Support for axis=1 in DataFrame.expanding is deprecated and will be removed in a future version. Use obj.T.expanding(...) instead\n",
      "\n"
     ]
    }
   ],
   "source": [
    "column_mapping = ColumnMapping(\n",
    "        recommendations_type=\"score\",\n",
    "        target=\"target\",\n",
    "        prediction=\"predictions\",\n",
    "        item_id=\"item_id\",\n",
    "        user_id=\"user_id\",\n",
    "    )\n",
    "\n",
    "report = Report(\n",
    "        metrics=[\n",
    "            RecallTopKMetric(k=3),\n",
    "        ],\n",
    "    )\n",
    "\n",
    "report.run(\n",
    "    reference_data=None,\n",
    "    current_data=eval_df,\n",
    "    column_mapping=column_mapping,\n",
    ")\n"
   ]
  }
 ],
 "metadata": {
  "kernelspec": {
   "display_name": "Python 3",
   "language": "python",
   "name": "python3"
  },
  "language_info": {
   "codemirror_mode": {
    "name": "ipython",
    "version": 3
   },
   "file_extension": ".py",
   "mimetype": "text/x-python",
   "name": "python",
   "nbconvert_exporter": "python",
   "pygments_lexer": "ipython3",
   "version": "3.11.9"
  }
 },
 "nbformat": 4,
 "nbformat_minor": 2
}
