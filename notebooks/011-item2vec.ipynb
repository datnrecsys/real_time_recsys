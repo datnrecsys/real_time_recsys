{
 "cells": [
  {
   "cell_type": "code",
   "execution_count": 32,
   "metadata": {},
   "outputs": [
    {
     "name": "stdout",
     "output_type": "stream",
     "text": [
      "The autoreload extension is already loaded. To reload it, use:\n",
      "  %reload_ext autoreload\n"
     ]
    }
   ],
   "source": [
    "%load_ext autoreload\n",
    "%autoreload 2"
   ]
  },
  {
   "cell_type": "code",
   "execution_count": 33,
   "metadata": {},
   "outputs": [],
   "source": [
    "import json\n",
    "import os\n",
    "import sys\n",
    "from typing import Any\n",
    "\n",
    "import lightning as L\n",
    "import torch\n",
    "from dotenv import load_dotenv\n",
    "from lightning.pytorch.callbacks import ModelCheckpoint\n",
    "from lightning.pytorch.callbacks.early_stopping import EarlyStopping\n",
    "from lightning.pytorch.loggers import MLFlowLogger\n",
    "from loguru import logger\n",
    "from mlflow.models.signature import infer_signature\n",
    "from pydantic import BaseModel, PrivateAttr\n",
    "from torch.utils.data import DataLoader\n",
    "import pandas as pd\n",
    "import mlflow\n",
    "\n",
    "sys.path.insert(0, \"..\")\n",
    "\n",
    "from src.utils.embedding_id_mapper import IDMapper\n",
    "from src.algo.item2vec.dataset import SkipGramDataset\n",
    "# from src.algo.item2vec.inference import SkipGramInferenceWrapper\n",
    "from src.algo.item2vec.model import SkipGram\n",
    "from src.algo.item2vec.trainer import LitSkipGram\n",
    "\n",
    "_ = load_dotenv(override = True)"
   ]
  },
  {
   "cell_type": "markdown",
   "metadata": {},
   "source": [
    "## Controller"
   ]
  },
  {
   "cell_type": "code",
   "execution_count": 34,
   "metadata": {},
   "outputs": [
    {
     "name": "stderr",
     "output_type": "stream",
     "text": [
      "\u001b[32m2025-06-23 13:11:47.552\u001b[0m | \u001b[1mINFO    \u001b[0m | \u001b[36m__main__\u001b[0m:\u001b[36minit\u001b[0m:\u001b[36m41\u001b[0m - \u001b[1mSetting up MLflow experiment Item2vec - run 001-increse-8k-users-5-negative-samples-dim256...\u001b[0m\n"
     ]
    },
    {
     "name": "stdout",
     "output_type": "stream",
     "text": [
      "{\n",
      "  \"testing\": false,\n",
      "  \"log_to_mlflow\": true,\n",
      "  \"experiment_name\": \"Item2vec\",\n",
      "  \"run_name\": \"001-increse-8k-users-5-negative-samples-dim256\",\n",
      "  \"notebook_persist_dp\": \"c:\\\\Users\\\\Trieu\\\\OneDrive\\\\Desktop\\\\recsys\\\\real_time_recsys\\\\notebooks\\\\data\\\\001-increse-8k-users-5-negative-samples-dim256\",\n",
      "  \"random_seed\": 41,\n",
      "  \"device\": null,\n",
      "  \"max_epochs\": 100,\n",
      "  \"batch_size\": 128,\n",
      "  \"num_negative_samples\": 2,\n",
      "  \"window_size\": 1,\n",
      "  \"embedding_dim\": 256,\n",
      "  \"early_stopping_patience\": 15,\n",
      "  \"learning_rate\": 0.01,\n",
      "  \"l2_reg\": 0.00001,\n",
      "  \"mlf_model_name\": \"item2vec\",\n",
      "  \"min_roc_auc\": 0.7,\n",
      "  \"train_data_path\": \"c:\\\\Users\\\\Trieu\\\\OneDrive\\\\Desktop\\\\recsys\\\\real_time_recsys\\\\data_for_ai\\\\interim\\\\train_sample_interactions_16407u.parquet\",\n",
      "  \"val_data_path\": \"c:\\\\Users\\\\Trieu\\\\OneDrive\\\\Desktop\\\\recsys\\\\real_time_recsys\\\\data_for_ai\\\\interim\\\\val_sample_interactions_16407u.parquet\"\n",
      "}\n"
     ]
    }
   ],
   "source": [
    "class Args(BaseModel):\n",
    "    testing: bool = False\n",
    "    log_to_mlflow: bool = True\n",
    "    _mlf_logger: Any = PrivateAttr()\n",
    "    experiment_name: str = \"Item2vec\"\n",
    "    run_name: str = \"001-increse-8k-users-5-negative-samples-dim256\"\n",
    "    notebook_persist_dp: str = None\n",
    "    random_seed: int = 41\n",
    "    device: str = None\n",
    "\n",
    "    max_epochs: int = 100\n",
    "    batch_size: int = 128\n",
    "\n",
    "    num_negative_samples: int = 2\n",
    "    window_size: int = 1\n",
    "\n",
    "    embedding_dim: int = 256\n",
    "    early_stopping_patience: int = 15\n",
    "    \n",
    "    learning_rate: float = 0.01\n",
    "    l2_reg: float = 1e-5\n",
    "\n",
    "    mlf_model_name: str = \"item2vec\"\n",
    "    min_roc_auc: float = 0.7\n",
    "\n",
    "    train_data_path: str = os.path.abspath(\"../data_for_ai/interim/train_sample_interactions_16407u.parquet\")\n",
    "    val_data_path: str = os.path.abspath(\"../data_for_ai/interim/val_sample_interactions_16407u.parquet\")\n",
    "    # test_data_path:str = \"../data_for_ai/interim/test_sample_interactions_8000u.parquet\"\n",
    "\n",
    "    def init(self):\n",
    "        self.notebook_persist_dp = os.path.abspath(f\"data/{self.run_name}\")\n",
    "        os.makedirs(self.notebook_persist_dp, exist_ok=True)\n",
    "\n",
    "        if not (mlflow_uri := os.environ.get(\"MLFLOW_TRACKING_URI\")):\n",
    "            logger.warning(\n",
    "                f\"Environment variable MLFLOW_TRACKING_URI is not set. Setting self.log_to_mlflow to false.\"\n",
    "            )\n",
    "            self.log_to_mlflow = False\n",
    "\n",
    "        if self.log_to_mlflow:\n",
    "            logger.info(\n",
    "                f\"Setting up MLflow experiment {self.experiment_name} - run {self.run_name}...\"\n",
    "            )\n",
    "            self._mlf_logger = MLFlowLogger(\n",
    "                experiment_name=self.experiment_name,\n",
    "                run_name=self.run_name,\n",
    "                tracking_uri=mlflow_uri,\n",
    "                log_model=True,\n",
    "            )\n",
    "\n",
    "        return self\n",
    "\n",
    "\n",
    "args = Args().init()\n",
    "\n",
    "print(args.model_dump_json(indent=2))"
   ]
  },
  {
   "cell_type": "code",
   "execution_count": 35,
   "metadata": {},
   "outputs": [
    {
     "name": "stderr",
     "output_type": "stream",
     "text": [
      "\u001b[32m2025-06-23 13:11:47.929\u001b[0m | \u001b[1mINFO    \u001b[0m | \u001b[36m__main__\u001b[0m:\u001b[36m<module>\u001b[0m:\u001b[36m7\u001b[0m - \u001b[1mUsing cpu device\u001b[0m\n"
     ]
    }
   ],
   "source": [
    "device = (\n",
    "    \"cuda\"\n",
    "    if torch.cuda.is_available()\n",
    "    else \"mps\" if torch.backends.mps.is_available() else \"cpu\"\n",
    ")\n",
    "# device = 'cpu'\n",
    "logger.info(f\"Using {device} device\")"
   ]
  },
  {
   "cell_type": "code",
   "execution_count": 36,
   "metadata": {},
   "outputs": [],
   "source": [
    "def init_model(n_items, embedding_dim, device):\n",
    "    model = SkipGram(n_items, embedding_dim).to(device)\n",
    "    return model"
   ]
  },
  {
   "cell_type": "markdown",
   "metadata": {},
   "source": [
    "# Test implementation"
   ]
  },
  {
   "cell_type": "code",
   "execution_count": 37,
   "metadata": {},
   "outputs": [],
   "source": [
    "mock_df = pd.DataFrame(\n",
    "    {\n",
    "        'timestamp': [1,1,1,2,2,3,3,4,4,4,4,5,5,5],\n",
    "        'user_id': [101, 101, 103, 104, 103, 105, 107, 108, 109, 110, 111, 112, 113, 114],\n",
    "        'parent_asin': [1, 2, 3, 4, 5, 6, 7, 8, 9, 10, 11, 12, 13, 14]\n",
    "    }\n",
    ")"
   ]
  },
  {
   "cell_type": "code",
   "execution_count": 38,
   "metadata": {},
   "outputs": [
    {
     "data": {
      "text/html": [
       "<div>\n",
       "<style scoped>\n",
       "    .dataframe tbody tr th:only-of-type {\n",
       "        vertical-align: middle;\n",
       "    }\n",
       "\n",
       "    .dataframe tbody tr th {\n",
       "        vertical-align: top;\n",
       "    }\n",
       "\n",
       "    .dataframe thead th {\n",
       "        text-align: right;\n",
       "    }\n",
       "</style>\n",
       "<table border=\"1\" class=\"dataframe\">\n",
       "  <thead>\n",
       "    <tr style=\"text-align: right;\">\n",
       "      <th></th>\n",
       "      <th>timestamp</th>\n",
       "      <th>user_id</th>\n",
       "      <th>parent_asin</th>\n",
       "    </tr>\n",
       "  </thead>\n",
       "  <tbody>\n",
       "    <tr>\n",
       "      <th>0</th>\n",
       "      <td>1</td>\n",
       "      <td>101</td>\n",
       "      <td>1</td>\n",
       "    </tr>\n",
       "    <tr>\n",
       "      <th>1</th>\n",
       "      <td>1</td>\n",
       "      <td>101</td>\n",
       "      <td>2</td>\n",
       "    </tr>\n",
       "    <tr>\n",
       "      <th>2</th>\n",
       "      <td>1</td>\n",
       "      <td>103</td>\n",
       "      <td>3</td>\n",
       "    </tr>\n",
       "    <tr>\n",
       "      <th>3</th>\n",
       "      <td>2</td>\n",
       "      <td>104</td>\n",
       "      <td>4</td>\n",
       "    </tr>\n",
       "    <tr>\n",
       "      <th>4</th>\n",
       "      <td>2</td>\n",
       "      <td>103</td>\n",
       "      <td>5</td>\n",
       "    </tr>\n",
       "    <tr>\n",
       "      <th>5</th>\n",
       "      <td>3</td>\n",
       "      <td>105</td>\n",
       "      <td>6</td>\n",
       "    </tr>\n",
       "    <tr>\n",
       "      <th>6</th>\n",
       "      <td>3</td>\n",
       "      <td>107</td>\n",
       "      <td>7</td>\n",
       "    </tr>\n",
       "    <tr>\n",
       "      <th>7</th>\n",
       "      <td>4</td>\n",
       "      <td>108</td>\n",
       "      <td>8</td>\n",
       "    </tr>\n",
       "    <tr>\n",
       "      <th>8</th>\n",
       "      <td>4</td>\n",
       "      <td>109</td>\n",
       "      <td>9</td>\n",
       "    </tr>\n",
       "    <tr>\n",
       "      <th>9</th>\n",
       "      <td>4</td>\n",
       "      <td>110</td>\n",
       "      <td>10</td>\n",
       "    </tr>\n",
       "    <tr>\n",
       "      <th>10</th>\n",
       "      <td>4</td>\n",
       "      <td>111</td>\n",
       "      <td>11</td>\n",
       "    </tr>\n",
       "    <tr>\n",
       "      <th>11</th>\n",
       "      <td>5</td>\n",
       "      <td>112</td>\n",
       "      <td>12</td>\n",
       "    </tr>\n",
       "    <tr>\n",
       "      <th>12</th>\n",
       "      <td>5</td>\n",
       "      <td>113</td>\n",
       "      <td>13</td>\n",
       "    </tr>\n",
       "    <tr>\n",
       "      <th>13</th>\n",
       "      <td>5</td>\n",
       "      <td>114</td>\n",
       "      <td>14</td>\n",
       "    </tr>\n",
       "  </tbody>\n",
       "</table>\n",
       "</div>"
      ],
      "text/plain": [
       "    timestamp  user_id  parent_asin\n",
       "0           1      101            1\n",
       "1           1      101            2\n",
       "2           1      103            3\n",
       "3           2      104            4\n",
       "4           2      103            5\n",
       "5           3      105            6\n",
       "6           3      107            7\n",
       "7           4      108            8\n",
       "8           4      109            9\n",
       "9           4      110           10\n",
       "10          4      111           11\n",
       "11          5      112           12\n",
       "12          5      113           13\n",
       "13          5      114           14"
      ]
     },
     "execution_count": 38,
     "metadata": {},
     "output_type": "execute_result"
    }
   ],
   "source": [
    "mock_df"
   ]
  },
  {
   "cell_type": "code",
   "execution_count": 39,
   "metadata": {},
   "outputs": [
    {
     "name": "stderr",
     "output_type": "stream",
     "text": [
      "\u001b[32m2025-06-23 13:11:49.206\u001b[0m | \u001b[1mINFO    \u001b[0m | \u001b[36msrc.algo.item2vec.dataset\u001b[0m:\u001b[36m__init__\u001b[0m:\u001b[36m67\u001b[0m - \u001b[1mProcessing sequences...\u001b[0m\n"
     ]
    }
   ],
   "source": [
    "mock_dataset = SkipGramDataset(\n",
    "    train_interaction_df= mock_df, \n",
    "    val_interaction_df= None,\n",
    "    mode = \"train\",\n",
    "    negative_samples= 1,\n",
    ")"
   ]
  },
  {
   "cell_type": "code",
   "execution_count": 40,
   "metadata": {},
   "outputs": [
    {
     "data": {
      "text/plain": [
       "{'1': 0, '2': 1, '3': 2, '5': 3}"
      ]
     },
     "execution_count": 40,
     "metadata": {},
     "output_type": "execute_result"
    }
   ],
   "source": [
    "mock_dataset.item_id_to_idx"
   ]
  },
  {
   "cell_type": "code",
   "execution_count": 41,
   "metadata": {},
   "outputs": [
    {
     "data": {
      "text/plain": [
       "defaultdict(set, {0: {0, 1}, 1: {0, 1}, 2: {2, 3}, 3: {2, 3}})"
      ]
     },
     "execution_count": 41,
     "metadata": {},
     "output_type": "execute_result"
    }
   ],
   "source": [
    "mock_dataset.interacted"
   ]
  },
  {
   "cell_type": "code",
   "execution_count": 42,
   "metadata": {},
   "outputs": [
    {
     "name": "stdout",
     "output_type": "stream",
     "text": [
      "{'target_items': tensor([0, 0]), 'context_items': tensor([1, 3]), 'labels': tensor([1., 0.])}\n",
      "{'target_items': tensor([1, 1]), 'context_items': tensor([0, 3]), 'labels': tensor([1., 0.])}\n",
      "{'target_items': tensor([2, 2]), 'context_items': tensor([3, 0]), 'labels': tensor([1., 0.])}\n",
      "{'target_items': tensor([3, 3]), 'context_items': tensor([2, 0]), 'labels': tensor([1., 0.])}\n"
     ]
    }
   ],
   "source": [
    "for i in mock_dataset:\n",
    "    print(i)\n",
    "    "
   ]
  },
  {
   "cell_type": "code",
   "execution_count": 43,
   "metadata": {},
   "outputs": [
    {
     "name": "stderr",
     "output_type": "stream",
     "text": [
      "\u001b[32m2025-06-23 13:11:51.286\u001b[0m | \u001b[1mINFO    \u001b[0m | \u001b[36msrc.algo.item2vec.model\u001b[0m:\u001b[36m__init__\u001b[0m:\u001b[36m12\u001b[0m - \u001b[1mInitializing item embeddings with num items 1000, embedding dim 256\u001b[0m\n"
     ]
    },
    {
     "name": "stdout",
     "output_type": "stream",
     "text": [
      "tensor([0.4974, 0.5052, 0.4910, 0.5040], grad_fn=<SigmoidBackward0>)\n"
     ]
    }
   ],
   "source": [
    "n_items = 1000\n",
    "window_size = 1\n",
    "negative_samples = 2\n",
    "batch_size = 2\n",
    "\n",
    "model = init_model(n_items, args.embedding_dim, device = \"cpu\")\n",
    "\n",
    "# Example inputs\n",
    "target_items = torch.tensor([1, 2, 3, 1000])  # Target item IDs\n",
    "context_items = torch.tensor([10, 20, 30, 40])  # Context item IDs\n",
    "labels = torch.tensor([1, 0, 1])  # Positive or negative context pairs\n",
    "\n",
    "predictions = model(target_items, context_items)\n",
    "print(predictions)"
   ]
  },
  {
   "cell_type": "markdown",
   "metadata": {},
   "source": [
    "# Prep data"
   ]
  },
  {
   "cell_type": "code",
   "execution_count": 44,
   "metadata": {},
   "outputs": [],
   "source": [
    "# Read data\n",
    "train_df = pd.read_parquet(args.train_data_path)\n",
    "val_df = pd.read_parquet(args.val_data_path)"
   ]
  },
  {
   "cell_type": "code",
   "execution_count": 45,
   "metadata": {},
   "outputs": [
    {
     "data": {
      "text/html": [
       "<div>\n",
       "<style scoped>\n",
       "    .dataframe tbody tr th:only-of-type {\n",
       "        vertical-align: middle;\n",
       "    }\n",
       "\n",
       "    .dataframe tbody tr th {\n",
       "        vertical-align: top;\n",
       "    }\n",
       "\n",
       "    .dataframe thead th {\n",
       "        text-align: right;\n",
       "    }\n",
       "</style>\n",
       "<table border=\"1\" class=\"dataframe\">\n",
       "  <thead>\n",
       "    <tr style=\"text-align: right;\">\n",
       "      <th></th>\n",
       "      <th>user_id</th>\n",
       "      <th>parent_asin</th>\n",
       "      <th>rating</th>\n",
       "      <th>timestamp</th>\n",
       "    </tr>\n",
       "  </thead>\n",
       "  <tbody>\n",
       "    <tr>\n",
       "      <th>3194</th>\n",
       "      <td>AEYGPUCRKH7G4VM22FM3VAKSQ23Q</td>\n",
       "      <td>B06XKCPK5W</td>\n",
       "      <td>2.0</td>\n",
       "      <td>2012-06-11 16:41:10</td>\n",
       "    </tr>\n",
       "    <tr>\n",
       "      <th>3199</th>\n",
       "      <td>AEYGPUCRKH7G4VM22FM3VAKSQ23Q</td>\n",
       "      <td>B000CKVOOY</td>\n",
       "      <td>3.0</td>\n",
       "      <td>2012-08-02 02:04:13</td>\n",
       "    </tr>\n",
       "    <tr>\n",
       "      <th>3200</th>\n",
       "      <td>AEYGPUCRKH7G4VM22FM3VAKSQ23Q</td>\n",
       "      <td>B006GWO5WK</td>\n",
       "      <td>5.0</td>\n",
       "      <td>2012-09-15 16:34:46</td>\n",
       "    </tr>\n",
       "    <tr>\n",
       "      <th>3204</th>\n",
       "      <td>AEYGPUCRKH7G4VM22FM3VAKSQ23Q</td>\n",
       "      <td>B008LURQ76</td>\n",
       "      <td>5.0</td>\n",
       "      <td>2013-01-03 23:08:45</td>\n",
       "    </tr>\n",
       "    <tr>\n",
       "      <th>3208</th>\n",
       "      <td>AEYGPUCRKH7G4VM22FM3VAKSQ23Q</td>\n",
       "      <td>B00AQRUW4Q</td>\n",
       "      <td>4.0</td>\n",
       "      <td>2013-05-06 01:24:39</td>\n",
       "    </tr>\n",
       "    <tr>\n",
       "      <th>...</th>\n",
       "      <td>...</td>\n",
       "      <td>...</td>\n",
       "      <td>...</td>\n",
       "      <td>...</td>\n",
       "    </tr>\n",
       "    <tr>\n",
       "      <th>40882304</th>\n",
       "      <td>AFB4DWWKZBQFS22FAWDEP37EL2FA</td>\n",
       "      <td>B00KAF5RQ2</td>\n",
       "      <td>5.0</td>\n",
       "      <td>2016-02-22 17:44:10</td>\n",
       "    </tr>\n",
       "    <tr>\n",
       "      <th>40882305</th>\n",
       "      <td>AFB4DWWKZBQFS22FAWDEP37EL2FA</td>\n",
       "      <td>B001F6TXME</td>\n",
       "      <td>5.0</td>\n",
       "      <td>2016-02-22 17:44:40</td>\n",
       "    </tr>\n",
       "    <tr>\n",
       "      <th>40882306</th>\n",
       "      <td>AFB4DWWKZBQFS22FAWDEP37EL2FA</td>\n",
       "      <td>B007VGGIB6</td>\n",
       "      <td>5.0</td>\n",
       "      <td>2016-02-22 17:45:10</td>\n",
       "    </tr>\n",
       "    <tr>\n",
       "      <th>40882307</th>\n",
       "      <td>AFB4DWWKZBQFS22FAWDEP37EL2FA</td>\n",
       "      <td>B00WUID73W</td>\n",
       "      <td>5.0</td>\n",
       "      <td>2016-02-22 17:45:37</td>\n",
       "    </tr>\n",
       "    <tr>\n",
       "      <th>40882310</th>\n",
       "      <td>AFB4DWWKZBQFS22FAWDEP37EL2FA</td>\n",
       "      <td>B00SFSU53G</td>\n",
       "      <td>5.0</td>\n",
       "      <td>2016-07-15 00:58:19</td>\n",
       "    </tr>\n",
       "  </tbody>\n",
       "</table>\n",
       "<p>127392 rows × 4 columns</p>\n",
       "</div>"
      ],
      "text/plain": [
       "                               user_id parent_asin  rating           timestamp\n",
       "3194      AEYGPUCRKH7G4VM22FM3VAKSQ23Q  B06XKCPK5W     2.0 2012-06-11 16:41:10\n",
       "3199      AEYGPUCRKH7G4VM22FM3VAKSQ23Q  B000CKVOOY     3.0 2012-08-02 02:04:13\n",
       "3200      AEYGPUCRKH7G4VM22FM3VAKSQ23Q  B006GWO5WK     5.0 2012-09-15 16:34:46\n",
       "3204      AEYGPUCRKH7G4VM22FM3VAKSQ23Q  B008LURQ76     5.0 2013-01-03 23:08:45\n",
       "3208      AEYGPUCRKH7G4VM22FM3VAKSQ23Q  B00AQRUW4Q     4.0 2013-05-06 01:24:39\n",
       "...                                ...         ...     ...                 ...\n",
       "40882304  AFB4DWWKZBQFS22FAWDEP37EL2FA  B00KAF5RQ2     5.0 2016-02-22 17:44:10\n",
       "40882305  AFB4DWWKZBQFS22FAWDEP37EL2FA  B001F6TXME     5.0 2016-02-22 17:44:40\n",
       "40882306  AFB4DWWKZBQFS22FAWDEP37EL2FA  B007VGGIB6     5.0 2016-02-22 17:45:10\n",
       "40882307  AFB4DWWKZBQFS22FAWDEP37EL2FA  B00WUID73W     5.0 2016-02-22 17:45:37\n",
       "40882310  AFB4DWWKZBQFS22FAWDEP37EL2FA  B00SFSU53G     5.0 2016-07-15 00:58:19\n",
       "\n",
       "[127392 rows x 4 columns]"
      ]
     },
     "execution_count": 45,
     "metadata": {},
     "output_type": "execute_result"
    }
   ],
   "source": [
    "train_df"
   ]
  },
  {
   "cell_type": "code",
   "execution_count": 46,
   "metadata": {},
   "outputs": [
    {
     "data": {
      "text/html": [
       "<div>\n",
       "<style scoped>\n",
       "    .dataframe tbody tr th:only-of-type {\n",
       "        vertical-align: middle;\n",
       "    }\n",
       "\n",
       "    .dataframe tbody tr th {\n",
       "        vertical-align: top;\n",
       "    }\n",
       "\n",
       "    .dataframe thead th {\n",
       "        text-align: right;\n",
       "    }\n",
       "</style>\n",
       "<table border=\"1\" class=\"dataframe\">\n",
       "  <thead>\n",
       "    <tr style=\"text-align: right;\">\n",
       "      <th></th>\n",
       "      <th>user_id</th>\n",
       "      <th>parent_asin</th>\n",
       "      <th>rating</th>\n",
       "      <th>timestamp</th>\n",
       "    </tr>\n",
       "  </thead>\n",
       "  <tbody>\n",
       "    <tr>\n",
       "      <th>4668</th>\n",
       "      <td>AGZE3IYHOEGKUTJZSQCSFSQ4IFFQ</td>\n",
       "      <td>B0B787CN26</td>\n",
       "      <td>5.0</td>\n",
       "      <td>2021-10-27 19:43:57.873</td>\n",
       "    </tr>\n",
       "  </tbody>\n",
       "</table>\n",
       "</div>"
      ],
      "text/plain": [
       "                           user_id parent_asin  rating               timestamp\n",
       "4668  AGZE3IYHOEGKUTJZSQCSFSQ4IFFQ  B0B787CN26     5.0 2021-10-27 19:43:57.873"
      ]
     },
     "execution_count": 46,
     "metadata": {},
     "output_type": "execute_result"
    }
   ],
   "source": [
    "val_df.head(1)"
   ]
  },
  {
   "cell_type": "code",
   "execution_count": 47,
   "metadata": {},
   "outputs": [
    {
     "data": {
      "text/html": [
       "<div>\n",
       "<style scoped>\n",
       "    .dataframe tbody tr th:only-of-type {\n",
       "        vertical-align: middle;\n",
       "    }\n",
       "\n",
       "    .dataframe tbody tr th {\n",
       "        vertical-align: top;\n",
       "    }\n",
       "\n",
       "    .dataframe thead th {\n",
       "        text-align: right;\n",
       "    }\n",
       "</style>\n",
       "<table border=\"1\" class=\"dataframe\">\n",
       "  <thead>\n",
       "    <tr style=\"text-align: right;\">\n",
       "      <th></th>\n",
       "      <th>user_id</th>\n",
       "      <th>parent_asin</th>\n",
       "      <th>rating</th>\n",
       "      <th>timestamp</th>\n",
       "    </tr>\n",
       "  </thead>\n",
       "  <tbody>\n",
       "    <tr>\n",
       "      <th>4668</th>\n",
       "      <td>AGZE3IYHOEGKUTJZSQCSFSQ4IFFQ</td>\n",
       "      <td>B0B787CN26</td>\n",
       "      <td>5.0</td>\n",
       "      <td>2021-10-27 19:43:57.873</td>\n",
       "    </tr>\n",
       "    <tr>\n",
       "      <th>10425</th>\n",
       "      <td>AEANO5BIASSZNFWNXBR2ECHCPJQQ</td>\n",
       "      <td>B0002MQGOA</td>\n",
       "      <td>5.0</td>\n",
       "      <td>2021-02-02 14:20:48.424</td>\n",
       "    </tr>\n",
       "    <tr>\n",
       "      <th>10426</th>\n",
       "      <td>AEANO5BIASSZNFWNXBR2ECHCPJQQ</td>\n",
       "      <td>B07HZLHPKP</td>\n",
       "      <td>5.0</td>\n",
       "      <td>2021-03-08 13:56:57.795</td>\n",
       "    </tr>\n",
       "    <tr>\n",
       "      <th>13265</th>\n",
       "      <td>AHDXCFTV7RS3AM6E2TRPWOG3A33Q</td>\n",
       "      <td>B07QWPVZJY</td>\n",
       "      <td>3.0</td>\n",
       "      <td>2021-12-11 00:34:19.152</td>\n",
       "    </tr>\n",
       "    <tr>\n",
       "      <th>14423</th>\n",
       "      <td>AEFHRRLFCZQ3TWNYCBA7UD3NIXCA</td>\n",
       "      <td>B00D96J8IM</td>\n",
       "      <td>1.0</td>\n",
       "      <td>2021-10-17 20:54:19.325</td>\n",
       "    </tr>\n",
       "    <tr>\n",
       "      <th>...</th>\n",
       "      <td>...</td>\n",
       "      <td>...</td>\n",
       "      <td>...</td>\n",
       "      <td>...</td>\n",
       "    </tr>\n",
       "    <tr>\n",
       "      <th>33760091</th>\n",
       "      <td>AHIIISHZP6YAVVHMDEBLJ5CWZ7ZA</td>\n",
       "      <td>B0BZ62FQ13</td>\n",
       "      <td>3.0</td>\n",
       "      <td>2021-07-16 17:08:55.044</td>\n",
       "    </tr>\n",
       "    <tr>\n",
       "      <th>34470392</th>\n",
       "      <td>AFTE3G43QHXWD3DJGDCI2DHEWQJQ</td>\n",
       "      <td>B08DMXDPW5</td>\n",
       "      <td>5.0</td>\n",
       "      <td>2021-01-14 01:48:09.423</td>\n",
       "    </tr>\n",
       "    <tr>\n",
       "      <th>35019360</th>\n",
       "      <td>AFENZZDPVUYFVBS47YDOWJCDYBSQ</td>\n",
       "      <td>B09XBT6DS9</td>\n",
       "      <td>4.0</td>\n",
       "      <td>2021-12-05 00:35:40.874</td>\n",
       "    </tr>\n",
       "    <tr>\n",
       "      <th>35323250</th>\n",
       "      <td>AFMBZYPDAXT5VO3ME67HW5Q5TAOQ</td>\n",
       "      <td>B097KBF8JK</td>\n",
       "      <td>5.0</td>\n",
       "      <td>2022-02-18 11:32:46.732</td>\n",
       "    </tr>\n",
       "    <tr>\n",
       "      <th>36341797</th>\n",
       "      <td>AEMSEOMPBE6KWOZWCX4VE4E2E7HQ</td>\n",
       "      <td>B00FB45USW</td>\n",
       "      <td>5.0</td>\n",
       "      <td>2021-08-12 00:42:48.843</td>\n",
       "    </tr>\n",
       "  </tbody>\n",
       "</table>\n",
       "<p>3479 rows × 4 columns</p>\n",
       "</div>"
      ],
      "text/plain": [
       "                               user_id parent_asin  rating  \\\n",
       "4668      AGZE3IYHOEGKUTJZSQCSFSQ4IFFQ  B0B787CN26     5.0   \n",
       "10425     AEANO5BIASSZNFWNXBR2ECHCPJQQ  B0002MQGOA     5.0   \n",
       "10426     AEANO5BIASSZNFWNXBR2ECHCPJQQ  B07HZLHPKP     5.0   \n",
       "13265     AHDXCFTV7RS3AM6E2TRPWOG3A33Q  B07QWPVZJY     3.0   \n",
       "14423     AEFHRRLFCZQ3TWNYCBA7UD3NIXCA  B00D96J8IM     1.0   \n",
       "...                                ...         ...     ...   \n",
       "33760091  AHIIISHZP6YAVVHMDEBLJ5CWZ7ZA  B0BZ62FQ13     3.0   \n",
       "34470392  AFTE3G43QHXWD3DJGDCI2DHEWQJQ  B08DMXDPW5     5.0   \n",
       "35019360  AFENZZDPVUYFVBS47YDOWJCDYBSQ  B09XBT6DS9     4.0   \n",
       "35323250  AFMBZYPDAXT5VO3ME67HW5Q5TAOQ  B097KBF8JK     5.0   \n",
       "36341797  AEMSEOMPBE6KWOZWCX4VE4E2E7HQ  B00FB45USW     5.0   \n",
       "\n",
       "                       timestamp  \n",
       "4668     2021-10-27 19:43:57.873  \n",
       "10425    2021-02-02 14:20:48.424  \n",
       "10426    2021-03-08 13:56:57.795  \n",
       "13265    2021-12-11 00:34:19.152  \n",
       "14423    2021-10-17 20:54:19.325  \n",
       "...                          ...  \n",
       "33760091 2021-07-16 17:08:55.044  \n",
       "34470392 2021-01-14 01:48:09.423  \n",
       "35019360 2021-12-05 00:35:40.874  \n",
       "35323250 2022-02-18 11:32:46.732  \n",
       "36341797 2021-08-12 00:42:48.843  \n",
       "\n",
       "[3479 rows x 4 columns]"
      ]
     },
     "execution_count": 47,
     "metadata": {},
     "output_type": "execute_result"
    }
   ],
   "source": [
    "val_df"
   ]
  },
  {
   "cell_type": "code",
   "execution_count": 48,
   "metadata": {},
   "outputs": [
    {
     "name": "stderr",
     "output_type": "stream",
     "text": [
      "\u001b[32m2025-06-23 13:11:55.035\u001b[0m | \u001b[1mINFO    \u001b[0m | \u001b[36msrc.algo.item2vec.dataset\u001b[0m:\u001b[36m__init__\u001b[0m:\u001b[36m67\u001b[0m - \u001b[1mProcessing sequences...\u001b[0m\n"
     ]
    },
    {
     "name": "stdout",
     "output_type": "stream",
     "text": [
      "4817 items in the dataset\n",
      "4817\n"
     ]
    },
    {
     "name": "stderr",
     "output_type": "stream",
     "text": [
      "\u001b[32m2025-06-23 13:11:56.108\u001b[0m | \u001b[1mINFO    \u001b[0m | \u001b[36msrc.algo.item2vec.dataset\u001b[0m:\u001b[36m__init__\u001b[0m:\u001b[36m67\u001b[0m - \u001b[1mProcessing sequences...\u001b[0m\n"
     ]
    }
   ],
   "source": [
    "idm = IDMapper().load(\"../data_for_ai/interim/idm_16407u.json\")\n",
    "\n",
    "print(len(idm.item_to_index))\n",
    "\n",
    "train_dataset = SkipGramDataset(\n",
    "    train_interaction_df= train_df, \n",
    "    val_interaction_df= None,\n",
    "    mode = \"train\",\n",
    "    item_id_to_idx=idm.item_to_index,\n",
    "    negative_samples= 5\n",
    ")\n",
    "val_dataset = SkipGramDataset(\n",
    "    train_interaction_df= train_df, \n",
    "    val_interaction_df= val_df,\n",
    "    mode = \"val\",\n",
    "    item_id_to_idx=idm.item_to_index,\n",
    ")\n",
    "\n",
    "train_loader = DataLoader(\n",
    "    train_dataset,\n",
    "    batch_size=args.batch_size,\n",
    "    shuffle=False,\n",
    "    drop_last=True,\n",
    "    collate_fn=train_dataset.collate_fn,\n",
    "    num_workers=4,\n",
    ")\n",
    "val_loader = DataLoader(\n",
    "    val_dataset,\n",
    "    batch_size=args.batch_size,\n",
    "    shuffle=False,\n",
    "    drop_last=True,\n",
    "    collate_fn=val_dataset.collate_fn,\n",
    ")\n"
   ]
  },
  {
   "cell_type": "code",
   "execution_count": null,
   "metadata": {},
   "outputs": [
    {
     "name": "stdout",
     "output_type": "stream",
     "text": [
      "16407 16407\n",
      "4817 4817\n",
      "{'0972683275': 0, '1449410243': 1, 'B000001OM5': 2, 'B00000K2YR': 3, 'B00002EQCW': 4, 'B00004TBLW': 5, 'B00004THD0': 6, 'B00004WCGF': 7, 'B00004Z5D1': 8, 'B00004Z5M1': 9, 'B00004ZCJF': 10, 'B00004ZCJJ': 11, 'B00005N6KG': 12, 'B00005N9D3': 13, 'B00005NIMJ': 14, 'B000063TJY': 15, 'B0000645RH': 16, 'B000065BP9': 17, 'B000065UQA': 18, 'B00006B82A': 19, 'B00006B8K2': 20, 'B00006BBAC': 21, 'B00006HVLW': 22, 'B00006I5J7': 23, 'B00006JN3G': 24, 'B00006JPE1': 25, 'B00006JPEA': 26, 'B00006JQ5O': 27, 'B00007056H': 28, 'B00007AP2O': 29, 'B00007E7C8': 30, 'B00007FGU7': 31, 'B00007KDX6': 32, 'B00007LA0T': 33, 'B00007M1TZ': 34, 'B00008NJEP': 35, 'B00008SCFL': 36, 'B00009KYCN': 37, 'B00009OY9U': 38, 'B0000AI0N1': 39, 'B0000AQR8F': 40, 'B0000BYDKO': 41, 'B0000E1VRT': 42, 'B0000TO0BQ': 43, 'B0000VYJRY': 44, 'B0001FTVEA': 45, 'B0001FTVEK': 46, 'B00026BQJ6': 47, 'B000289DC6': 48, 'B00029MTMQ': 49, 'B0002BEQAM': 50, 'B0002CE0XO': 51, 'B0002GX1XA': 52, 'B0002J1WTC': 53, 'B0002J2B8I': 54, 'B0002J2MSW': 55, 'B0002J5TGY': 56, 'B0002JY712': 57, 'B0002MQGK4': 58, 'B0002MQGOA': 59, 'B0002MQGOK': 60, 'B0002QLQ96': 61, 'B0002SQ2P2': 62, 'B0002VFXFE': 63, 'B0002Y5WXE': 64, 'B0002Y5WZC': 65, 'B00042LC9M': 66, 'B00068YUN4': 67, 'B0007M6GI6': 68, 'B0007MXZB2': 69, 'B0007N55NW': 70, 'B0007QKN6S': 71, 'B0007TOR08': 72, 'B00093IIRA': 73, 'B0009IQ1BU': 74, 'B0009JFF7A': 75, 'B000AAN76Y': 76, 'B000ANCPNM': 77, 'B000ANOY7M': 78, 'B000AS9G9I': 79, 'B000BKJZ9Q': 80, 'B000BNY64C': 81, 'B000BSJFFC': 82, 'B000BSKOXE': 83, 'B000BSLW8U': 84, 'B000BSN4UY': 85, 'B000BYCKU8': 86, 'B000BYH8EQ': 87, 'B000C1Z0HA': 88, 'B000CKVOOY': 89, 'B000CLNHXY': 90, 'B000CRFOMK': 91, 'B000CSWCQA': 92, 'B000E6G9RI': 93, 'B000EH0NLK': 94, 'B000ENRQ3M': 95, 'B000ER5G6C': 96, 'B000EZL1EA': 97, 'B000F5K82A': 98, 'B000F7QRTG': 99, 'B000FI9VU2': 100, 'B000GGKOG8': 101, 'B000GIT002': 102, 'B000HDJT4S': 103, 'B000HKGK8Y': 104, 'B000HRYV38': 105, 'B000I20AJ6': 106, 'B000I23TTE': 107, 'B000I4RMOU': 108, 'B000I94FAE': 109, 'B000ID7QNI': 110, 'B000IDCDZY': 111, 'B000IF4788': 112, 'B000J4WPW8': 113, 'B000KK7FEY': 114, 'B000KO0GY6': 115, 'B000KZW9WM': 116, 'B000L47AHG': 117, 'B000L9OIQC': 118, 'B000LB7G00': 119, 'B000LIFB7S': 120, 'B000M87F0I': 121, 'B000MBUSD6': 122, 'B000MXWSWI': 123, 'B000MXWSY6': 124, 'B000NMFCIA': 125, 'B000NQ16NG': 126, 'B000OG88KY': 127, 'B000OGX5AM': 128, 'B000OL3QTW': 129, 'B000OPB4U6': 130, 'B000P1OA1O': 131, 'B000P8X65S': 132, 'B000PCEFXQ': 133, 'B000PMGZDO': 134, 'B000Q85WOK': 135, 'B000Q8UAWY': 136, 'B000QKKAPE': 137, 'B000RB60H4': 138, 'B000RZDBM2': 139, 'B000SMVQK8': 140, 'B000TQ4D8K': 141, 'B000TUDOQ8': 142, 'B000ULAP4U': 143, 'B000UO6C5S': 144, 'B000UY3NR8': 145, 'B000V5K3FG': 146, 'B000V6R2OK': 147, 'B000VRREPG': 148, 'B000W8UIZW': 149, 'B000WH6H1M': 150, 'B000WL0I1I': 151, 'B000WL6YY8': 152, 'B000WXH1Z2': 153, 'B000WYVBR0': 154, 'B000X1TS54': 155, 'B000X9O8SI': 156, 'B000XSBVMU': 157, 'B000YB862E': 158, 'B000YM2OIK': 159, 'B000Z31G3M': 160, 'B000Z80ICM': 161, 'B00109Y2DQ': 162, 'B001202C44': 163, 'B00123WZWK': 164, 'B0012BL8LG': 165, 'B0012YB17Y': 166, 'B001342KM8': 167, 'B0013441J8': 168, 'B00139W0XM': 169, 'B00139XOCI': 170, 'B0013BM7TW': 171, 'B0013CED4I': 172, 'B0013OWPV4': 173, 'B00140DBRY': 174, 'B0014KKV7W': 175, 'B00154JDAI': 176, 'B0015A6YN6': 177, 'B0015A8Y5M': 178, 'B0015ACUKC': 179, 'B0015AFVBC': 180, 'B0015C30J0': 181, 'B0015TJNEY': 182, 'B0016BVDIK': 183, 'B0016OEV7C': 184, 'B0016P392O': 185, 'B00176T9OY': 186, 'B0017U0WM8': 187, 'B0018BQR84': 188, 'B0018BTPLK': 189, 'B0018O9JIG': 190, 'B0018P7WZ2': 191, 'B001985SWW': 192, 'B0019EHU8G': 193, 'B0019HL8Q8': 194, 'B001A5PDKQ': 195, 'B001AAVA08': 196, 'B001AIM5ZE': 197, 'B001B077PO': 198, 'B001BDP956': 199, 'B001BPE3KQ': 200, 'B001BXS4LW': 201, 'B001CJOLBW': 202, 'B001CQT0X4': 203, 'B001CY0P7G': 204, 'B001DAT0XE': 205, 'B001DETCUG': 206, 'B001DFS49U': 207, 'B001DFZ5HO': 208, 'B001DKO7R8': 209, 'B001DVZXC0': 210, 'B001E1UJFU': 211, 'B001EAQTRI': 212, 'B001EKCGT8': 213, 'B001ELJ9QK': 214, 'B001ELJER4': 215, 'B001ET5O70': 216, 'B001EZYMF4': 217, 'B001F42MKG': 218, 'B001F6TXME': 219, 'B001F7AHOG': 220, 'B001F7AJKI': 221, 'B001FA1O0O': 222, 'B001FA1O18': 223, 'B001FVI91U': 224, 'B001FWYGJS': 225, 'B001H4B0AC': 226, 'B001IBFSJ8': 227, 'B001J4ZOAW': 228, 'B001JTQUYG': 229, 'B001K38Z2G': 230, 'B001KB6Z2U': 231, 'B001KPILLE': 232, 'B001L1H0SC': 233, 'B001L6EPCQ': 234, 'B001LL5JDA': 235, 'B001MTE32Y': 236, 'B001MZXUI6': 237, 'B001NEK2GE': 238, 'B001NIEK3Q': 239, 'B001NS828K': 240, 'B001OAR26K': 241, 'B001OBV7T2': 242, 'B001OORMVQ': 243, 'B001P3PSS0': 244, 'B001PBWNOY': 245, 'B001PBYQHG': 246, 'B001PHLMAE': 247, 'B001PS9UKW': 248, 'B001QNBUA4': 249, 'B001RB24S2': 250, 'B001S2RCWI': 251, 'B001S2RCXW': 252, 'B001S4OTS6': 253, 'B001SEB45M': 254, 'B001T9NUJE': 255, 'B001TH7GUA': 256, 'B001TH7GUK': 257, 'B001TH7GUU': 258, 'B001TH7GV4': 259, 'B001TICH08': 260, 'B001TIG36C': 261, 'B001TKAE7O': 262, 'B001TOD7ME': 263, 'B001TOD7MO': 264, 'B001TVAU0E': 265, 'B001TZUS98': 266, 'B001TZWNF0': 267, 'B001U2DPUE': 268, 'B001UI2FPE': 269, 'B001UI4RTG': 270, 'B001V5J7YI': 271, 'B001V5J82E': 272, 'B001W26TIW': 273, 'B001W6Q7SU': 274, 'B001XURP86': 275, 'B001XXUOQI': 276, 'B00200JZE0': 277, 'B0020ZDI5C': 278, 'B00213KDQK': 279, 'B0025PKFUI': 280, 'B0027EMHM6': 281, 'B0027FFZEW': 282, 'B0027FGW3K': 283, 'B0027VSSJU': 284, 'B0027VT6V4': 285, 'B0027YYMU6': 286, 'B0028N6YH0': 287, 'B0028R3NCU': 288, 'B0029U2YSA': 289, 'B0029Z9UNW': 290, 'B002A6CWCQ': 291, 'B002A92OVM': 292, 'B002AR5XIK': 293, 'B002BH3Z8E': 294, 'B002C0SKBW': 295, 'B002CQU14A': 296, 'B002DILLMS': 297, 'B002DNGAZ6': 298, 'B002DPUUL4': 299, 'B002DS4HTM': 300, 'B002EUCU3O': 301, 'B002FFT8Z6': 302, 'B002FU5QMK': 303, 'B002G1YPH0': 304, 'B002G392ZI': 305, 'B002GR1YZ0': 306, 'B002GYPS3M': 307, 'B002GYWHSQ': 308, 'B002HMWQE2': 309, 'B002HU39BS': 310, 'B002HWRJBM': 311, 'B002HWRJY4': 312, 'B002HZHUCW': 313, 'B002IC0YLS': 314, 'B002ISZD2C': 315, 'B002J9HBIO': 316, 'B002J9HBSE': 317, 'B002JIMZU4': 318, 'B002K3Z3E8': 319, 'B002K40R6G': 320, 'B002KKFP9Y': 321, 'B002KTVFTE': 322, 'B002LARRDK': 323, 'B002LBROAA': 324, 'B002LH3ZKC': 325, 'B002LITI7K': 326, 'B002LITT3I': 327, 'B002M3SHXA': 328, 'B002MAO142': 329, 'B002MMY4WY': 330, 'B002MU1ZRS': 331, 'B002OFP6QW': 332, 'B002ONSZPI': 333, 'B002PAR1FK': 334, 'B002PMV3O8': 335, 'B002Q4U5DK': 336, 'B002QUZM0U': 337, 'B002R9HQLI': 338, 'B002R9RBO0': 339, 'B002RM08RE': 340, 'B002RMPHMU': 341, 'B002RYYZZS': 342, 'B002S4027C': 343, 'B002SBB0SU': 344, 'B002SZEOLG': 345, 'B002TZ4CRG': 346, 'B002U5XPBE': 347, 'B002UQWGM2': 348, 'B002UUTCMU': 349, 'B002VJL0OS': 350, 'B002VKVZ1A': 351, 'B002VPDQLC': 352, 'B002VPE1Q6': 353, 'B002VPE1WK': 354, 'B002WLHPNK': 355, 'B002XISUDQ': 356, 'B002Y6CJJ8': 357, 'B002YETVXC': 358, 'B002YIG9AQ': 359, 'B002YK5OX2': 360, 'B002YLAUU8': 361, 'B002ZIN9DU': 362, 'B00305GHAE': 363, 'B00305GHF4': 364, 'B0030FMQ90': 365, 'B0030ICO3U': 366, 'B0031GK3OI': 367, 'B0031TRZX2': 368, 'B0032CP24W': 369, 'B0032HM6HS': 370, 'B0032HM6JG': 371, 'B0032PHZ1W': 372, 'B0032Z73B4': 373, 'B0033Z2BAQ': 374, 'B0034CSUZ8': 375, 'B0034JSYZ2': 376, 'B0035B4LJM': 377, 'B0036E8V08': 378, 'B0036OR91A': 379, 'B0037AKXKM': 380, 'B0037NX6JY': 381, 'B0037TO5C0': 382, 'B00385XUG0': 383, 'B0038JE07O': 384, 'B0038JECKY': 385, 'B0038M3YM8': 386, 'B0038OLX10': 387, 'B0039BPG1A': 388, 'B0039H2W66': 389, 'B0039ORBLK': 390, 'B0039XRUBM': 391, 'B003B3P2CY': 392, 'B003B48UQ8': 393, 'B003B4BBFK': 394, 'B003BRNZTM': 395, 'B003BT6BM8': 396, 'B003C1AO2I': 397, 'B003CJTR8M': 398, 'B003CK70VC': 399, 'B003CKC8W8': 400, 'B003CVLTCW': 401, 'B003D5MY5I': 402, 'B003D8GAA0': 403, 'B003DQ1DCM': 404, 'B003DRMKXW': 405, 'B003DZJQQI': 406, 'B003ES5ZSW': 407, 'B003FVX9FO': 408, 'B003FVYXY0': 409, 'B003FW0WIK': 410, 'B003G2Z1M6': 411, 'B003GXFNC8': 412, 'B003H4QPJQ': 413, 'B003IZFCFW': 414, 'B003JTHMRS': 415, 'B003KP8VSK': 416, 'B003KPBRRW': 417, 'B003L13A7K': 418, 'B003L1ZYYW': 419, 'B003M0NT1M': 420, 'B003M2YT96': 421, 'B003M8NVFS': 422, 'B003MTTJOY': 423, 'B003MVZ60S': 424, 'B003MX4D0U': 425, 'B003NR57BY': 426, 'B003O1UYHG': 427, 'B003O973OA': 428, 'B003P2UMQ2': 429, 'B003P92D9Y': 430, 'B003PBZNF8': 431, 'B003PEUA30': 432, 'B003RCI5A0': 433, 'B003SP4QAE': 434, 'B003SQEAY0': 435, 'B003SVSJ1K': 436, 'B003SWLRLS': 437, 'B003TG75EG': 438, 'B003TLSXMO': 439, 'B003TZM6AK': 440, 'B003UE52ME': 441, 'B003UI62AG': 442, 'B003UT6C9G': 443, 'B003V5B72G': 444, 'B003VAGXZC': 445, 'B003VAHYNC': 446, 'B003VAHYQY': 447, 'B003VAK1I2': 448, 'B003VANO7C': 449, 'B003VANOFY': 450, 'B003VSTDFG': 451, 'B003VYEYE0': 452, 'B003WD2SLQ': 453, 'B003WGJYCY': 454, 'B003WPTBAK': 455, 'B003X26VV4': 456, 'B003XN3BZC': 457, 'B003XRES32': 458, 'B003XRESCS': 459, 'B003Y06336': 460, 'B003Y30334': 461, 'B003YIFHJY': 462, 'B003YUEF0E': 463, 'B003Z4G3I6': 464, 'B003ZX8B0U': 465, 'B003ZX8B2S': 466, 'B003ZX8B3W': 467, 'B003ZYF3M8': 468, 'B00405T24Q': 469, 'B0040IUI46': 470, 'B0040QE98O': 471, 'B00413PHDM': 472, 'B00416Q5KI': 473, 'B0041LYY6K': 474, 'B0041MY32Y': 475, 'B00425S1H8': 476, 'B00426C57O': 477, 'B00428N9OK': 478, 'B0042A68R8': 479, 'B0042F3K9W': 480, 'B0042IEVD8': 481, 'B0042J7I3C': 482, 'B0043EV20Q': 483, 'B0043M668G': 484, 'B0043RTLNS': 485, 'B0043T34RK': 486, 'B0043T7FXE': 487, 'B00449F6I4': 488, 'B0044YU60M': 489, 'B0045BLP1S': 490, 'B0045DMA42': 491, 'B0045EOWS8': 492, 'B0045EQUBK': 493, 'B0045JAJR6': 494, 'B0045JHJSS': 495, 'B0045TYDNC': 496, 'B0046EDOWW': 497, 'B0046RDQGS': 498, 'B0046RDR5I': 499, 'B0046TJG1U': 500, 'B0046XRCP8': 501, 'B0046XUMDW': 502, 'B004713JLU': 503, 'B0047E8DN6': 504, 'B0047T79VS': 505, 'B0047WZOOO': 506, 'B0047X01Q4': 507, 'B0047Y1HMK': 508, 'B00483WRZ6': 509, 'B00484IEJS': 510, 'B00488G6P8': 511, 'B0048IW030': 512, 'B00492BASG': 513, 'B00499DUAK': 514, 'B0049LBJ56': 515, 'B0049YQVHE': 516, 'B004AH10K8': 517, 'B004AZ38Z0': 518, 'B004B8VCJU': 519, 'B004BHCSQC': 520, 'B004CLYJ0U': 521, 'B004CLYJ2I': 522, 'B004CRSM4I': 523, 'B004D8NZ52': 524, 'B004DBD4TG': 525, 'B004DER1O2': 526, 'B004EBX5GW': 527, 'B004FV4ROA': 528, 'B004G60AD6': 529, 'B004G7D0EG': 530, 'B004H912FC': 531, 'B004HFS6Z0': 532, 'B004HJ1ZB8': 533, 'B004HKIB6E': 534, 'B004HT6TS2': 535, 'B004HZYA6E': 536, 'B004I5UDO6': 537, 'B004IZN3K2': 538, 'B004J3Y9U6': 539, 'B004J6DLD4': 540, 'B004JISIE4': 541, 'B004JWA70I': 542, 'B004JXW34U': 543, 'B004K1EDG2': 544, 'B004K1EZDS': 545, 'B004L6MLPQ': 546, 'B004LT6O56': 547, 'B004MCJBJI': 548, 'B004MF11MU': 549, 'B004MFQ2I8': 550, 'B004MU8VCS': 551, 'B004MYFTFQ': 552, 'B004N8ZQKY': 553, 'B004NBZ98K': 554, 'B004NNUN02': 555, 'B004NQU4YY': 556, 'B004OAFO0I': 557, 'B004OB0EBQ': 558, 'B004OF9XGO': 559, 'B004OGXY72': 560, 'B004OVECU0': 561, 'B004OVECUA': 562, 'B004P1IU5C': 563, 'B004PEIYMS': 564, 'B004Q3C98S': 565, 'B004Q7K3XM': 566, 'B004QIPH5U': 567, 'B004R7A9NU': 568, 'B004RB7ATC': 569, 'B004RBX0GO': 570, 'B004RDWVUS': 571, 'B004RL6QUQ': 572, 'B004RO3QPQ': 573, 'B004S4GZJE': 574, 'B004S7Q8CA': 575, 'B004SBBD1C': 576, 'B004SBBD8U': 577, 'B004SUO1QM': 578, 'B004SUO1R6': 579, 'B004T9RR4A': 580, 'B004T9RR6I': 581, 'B004TS1J18': 582, 'B004TS1J1I': 583, 'B004U78628': 584, 'B004UAKCS6': 585, 'B004UBU8IE': 586, 'B004UGG5KE': 587, 'B004UR486G': 588, 'B004UW0EMS': 589, 'B004UWXW0Y': 590, 'B004VFH76A': 591, 'B004VFJ9MK': 592, 'B004VM0SE6': 593, 'B004VM1T5S': 594, 'B004VRMXZI': 595, 'B004VRQNS6': 596, 'B004VTAVLE': 597, 'B004WR125O': 598, 'B004WYA852': 599, 'B004X8EO6Q': 600, 'B004XC6GJ0': 601, 'B004XIT4NO': 602, 'B004XXMUCQ': 603, 'B004XYIV6Y': 604, 'B004XZL980': 605, 'B004YG7JXW': 606, 'B004YHVNWO': 607, 'B004Z94BA2': 608, 'B004ZGN6MY': 609, 'B004ZKXXAK': 610, 'B004ZMG55I': 611, 'B004ZMVQRA': 612, 'B00502W88U': 613, 'B00507GV38': 614, 'B0051FWA7U': 615, 'B0051LSKQY': 616, 'B0051PGX2I': 617, 'B0051T3KMA': 618, 'B0051UY168': 619, 'B0051VVOB2': 620, 'B0051XDOZO': 621, 'B0052AWGLE': 622, 'B0052BH5UU': 623, 'B0052BH690': 624, 'B0052SCTLI': 625, 'B0052SCU8U': 626, 'B0053DDNW6': 627, 'B0053OLY9O': 628, 'B005433I3O': 629, 'B0054JGGGY': 630, 'B0054JJ0QW': 631, 'B0054L8N7M': 632, 'B0055D66V4': 633, 'B0055QYKQO': 634, 'B0055QZ216': 635, 'B0055U90EW': 636, 'B0057AVXJA': 637, 'B0057CVH6W': 638, 'B0057R0RL8': 639, 'B0057Z7EIY': 640, 'B005890G8Y': 641, 'B0058AH2US': 642, 'B0058I7CVE': 643, 'B0058OU8VY': 644, 'B0058RLD9C': 645, 'B005A0B7CA': 646, 'B005ALITZM': 647, 'B005ARQV6U': 648, 'B005BV0FHG': 649, 'B005BZNDS0': 650, 'B005C24OP8': 651, 'B005CLPP84': 652, 'B005CLPP8E': 653, 'B005CTKYB4': 654, 'B005D2JE2A': 655, 'B005D5M136': 656, 'B005DEHVC8': 657, 'B005DIBHCE': 658, 'B005DIRI6I': 659, 'B005DJOIHE': 660, 'B005DL2OVE': 661, 'B005DLDO4U': 662, 'B005DOK8NW': 663, 'B005DSPLDA': 664, 'B005EIGUD4': 665, 'B005EORRBW': 666, 'B005ES0YYA': 667, 'B005FDXMJS': 668, 'B005FHZ2SI': 669, 'B005FOVCCG': 670, 'B005FUGPP4': 671, 'B005FVNGRS': 672, 'B005GS3C2O': 673, 'B005GTNZUM': 674, 'B005H16S6M': 675, 'B005H3Q5E0': 676, 'B005HJWWW8': 677, 'B005HQ5138': 678, 'B005HQ514C': 679, 'B005HS4RF4': 680, 'B005IDVKR6': 681, 'B005IMB5SG': 682, 'B005IW3HM8': 683, 'B005JBWX46': 684, 'B005JDOZNG': 685, 'B005KG44V0': 686, 'B005KGNXTE': 687, 'B005KN1YV6': 688, 'B005L38VRU': 689, 'B005LKB0IU': 690, 'B005LZX81W': 691, 'B005LZX88A': 692, 'B005LZX902': 693, 'B005LZX9GG': 694, 'B005M08KMS': 695, 'B005M08M2Q': 696, 'B005M08MJ4': 697, 'B005M08NE8': 698, 'B005MHH2AC': 699, 'B005MKINUW': 700, 'B005MUHJ4I': 701, 'B005MWKKPG': 702, 'B005MX9OSE': 703, 'B005MX9PMO': 704, 'B005N6XBDO': 705, 'B005NC8BF6': 706, 'B005NGQWL2': 707, 'B005NHIQ06': 708, 'B005O0FZT2': 709, 'B005OJ4N6E': 710, 'B005ONMDYE': 711, 'B005OTPVMY': 712, 'B005PZDVF6': 713, 'B005Q65ZIK': 714, 'B005QRA5IY': 715, 'B005QT6F0E': 716, 'B005RUP5UI': 717, 'B005S0BYQ6': 718, 'B005SEZR0G': 719, 'B005T4G0A6': 720, 'B005UE3C24': 721, 'B005UFZ7F8': 722, 'B005UVO37U': 723, 'B005VBNYDS': 724, 'B005WKIKA0': 725, 'B005Y1CYSQ': 726, 'B005Y37HRM': 727, 'B005Z4ROIW': 728, 'B005Z5HT2M': 729, 'B005ZDLD6M': 730, 'B005ZDLEHK': 731, 'B0062EUE54': 732, 'B0062GG4XI': 733, 'B0062P7ISY': 734, 'B00630WKGI': 735, 'B00637X42A': 736, 'B0063K4NN6': 737, 'B0063N7OZ2': 738, 'B0064I7INO': 739, 'B0064I7J2E': 740, 'B0064I7MU8': 741, 'B00650P2ZC': 742, 'B00651CLCS': 743, 'B0065DUJ0C': 744, 'B0065E80OI': 745, 'B0067HY7HW': 746, 'B0067XXRZO': 747, 'B00691WMJG': 748, 'B0069IT396': 749, 'B0069LY4KG': 750, 'B006BGZJJ4': 751, 'B006C1ILUC': 752, 'B006FKPLFS': 753, 'B006FNCWSY': 754, 'B006GDTTM0': 755, 'B006GQIIEM': 756, 'B006GWO5NE': 757, 'B006GWO5WK': 758, 'B006GY3MY0': 759, 'B006HUMYCO': 760, 'B006I0KL6Y': 761, 'B006JGXOSY': 762, 'B006JH8T3S': 763, 'B006JWMOOI': 764, 'B006MCDUZM': 765, 'B006MUMLK4': 766, 'B006P88VSE': 767, 'B006QB1RPY': 768, 'B006R0VWSG': 769, 'B006T9B6R2': 770, 'B006TAEH7W': 771, 'B006TZM6XO': 772, 'B006U1YUZE': 773, 'B006U1YVZ8': 774, 'B006V72AHC': 775, 'B006VAD2C6': 776, 'B006VCP7NQ': 777, 'B006VOU090': 778, 'B006W41W7S': 779, 'B006W8U2MU': 780, 'B006W8U2WU': 781, 'B006WG5628': 782, 'B006YG89Q6': 783, 'B006Z0Q2SI': 784, 'B006ZT4VA0': 785, 'B0070WU51U': 786, 'B0071369M2': 787, 'B007136EDG': 788, 'B00713RSE0': 789, 'B0071O4ETQ': 790, 'B00721TUNS': 791, 'B00728ZBA2': 792, 'B0074FGR74': 793, 'B0074GVJ2Q': 794, 'B00762YNMG': 795, 'B0076GEMGO': 796, 'B0077BB3VA': 797, 'B0077HED8O': 798, 'B0077KWMF2': 799, 'B0077L8YOO': 800, 'B0077V88V8': 801, 'B0077V88W2': 802, 'B0077V8930': 803, 'B00794RDVY': 804, 'B00796D03C': 805, 'B0079KZZKO': 806, 'B0079T2KHG': 807, 'B0079U1N00': 808, 'B007ABANFY': 809, 'B007B5YUMQ': 810, 'B007B60SCG': 811, 'B007B6YPAM': 812, 'B007BZOGLG': 813, 'B007CGFAPK': 814, 'B007FUDKB4': 815, 'B007G5NNOW': 816, 'B007GFX0PY': 817, 'B007GJ5DN2': 818, 'B007GMPZ0A': 819, 'B007HCCNJU': 820, 'B007HQR710': 821, 'B007IL7AKM': 822, 'B007IMPMW4': 823, 'B007JZGO6S': 824, 'B007KEZMX4': 825, 'B007L5NKZO': 826, 'B007LTH1X2': 827, 'B007M50PTM': 828, 'B007M51J3I': 829, 'B007M51J42': 830, 'B007MHFMMU': 831, 'B007OYAVLI': 832, 'B007OZNUCE': 833, 'B007OZNZG0': 834, 'B007OZNZQ0': 835, 'B007P2NKBC': 836, 'B007PJ4Q3Q': 837, 'B007PJ4Q4A': 838, 'B007PLL4CK': 839, 'B007PTCFFW': 840, 'B007PZALFC': 841, 'B007Q2TG5U': 842, 'B007Q45EF4': 843, 'B007RBME2M': 844, 'B007RBSWAK': 845, 'B007RN5WDS': 846, 'B007S642BW': 847, 'B007S8S518': 848, 'B007SJGGAE': 849, 'B007SLDF7O': 850, 'B007SP2CO2': 851, 'B007SXJ26A': 852, 'B007SZ0E1K': 853, 'B007SZ0EOW': 854, 'B007T1CTF2': 855, 'B007T356BO': 856, 'B007T36PSM': 857, 'B007TISRBK': 858, 'B007TIYYQ2': 859, 'B007TMZ1BK': 860, 'B007UO51XK': 861, 'B007UQRC0S': 862, 'B007UUWOF2': 863, 'B007VGGIB6': 864, 'B007XOQ3BQ': 865, 'B007YV0UQW': 866, 'B007ZC8GSY': 867, 'B007ZHAYL6': 868, 'B007ZHXFJY': 869, 'B007ZSV9XM': 870, 'B00815AB00': 871, 'B00816GY4G': 872, 'B0081930RM': 873, 'B008194UIU': 874, 'B008195P34': 875, 'B0081ER9KG': 876, 'B0081F2Z40': 877, 'B0081H8TRA': 878, 'B00823170Y': 879, 'B00825BZUY': 880, 'B00829E7XC': 881, 'B0082D5660': 882, 'B0082E9K7U': 883, 'B00834SIO0': 884, 'B0083J9330': 885, 'B0083LW9PW': 886, 'B0083Q04IQ': 887, 'B0083UXMFO': 888, 'B0083UXMHC': 889, 'B008422IL0': 890, 'B0084OPT8C': 891, 'B0084Y96FE': 892, 'B0085O6A20': 893, 'B0086YC6JU': 894, 'B0087AQO3M': 895, 'B0087BDWBI': 896, 'B0087FFTT2': 897, 'B0087NZ31S': 898, 'B0087OZ5FG': 899, 'B0087X728K': 900, 'B0088CJT4U': 901, 'B0088HP93A': 902, 'B0088PPFP4': 903, 'B0088TKTY2': 904, 'B00894YP00': 905, 'B0089E5R0W': 906, 'B0089STHD6': 907, 'B0089W5Q1O': 908, 'B008A3KFB8': 909, 'B008AJNF78': 910, 'B008AL9VXI': 911, 'B008ALA6DW': 912, 'B008ALAAV0': 913, 'B008AZYIKU': 914, 'B008B1125W': 915, 'B008BC1U4O': 916, 'B008C27NGM': 917, 'B008CNXXM4': 918, 'B008CPUJAQ': 919, 'B008CS67F4': 920, 'B008CZ7PR6': 921, 'B008DVMRXG': 922, 'B008DWH00K': 923, 'B008DWITHI': 924, 'B008EQYRRY': 925, 'B008EQZ25K': 926, 'B008EWNVI4': 927, 'B008F4USMS': 928, 'B008GAT8EU': 929, 'B008GFRE5A': 930, 'B008GFREAU': 931, 'B008GGH4FY': 932, 'B008GVETNE': 933, 'B008GVOVK0': 934, 'B008H08JZ8': 935, 'B008H0QXT2': 936, 'B008H0QXYC': 937, 'B008HDLI9Y': 938, 'B008HY8XTG': 939, 'B008I2175E': 940, 'B008I21EA2': 941, 'B008I640HW': 942, 'B008I640QS': 943, 'B008I64126': 944, 'B008I646WG': 945, 'B008I647AM': 946, 'B008I647MA': 947, 'B008I648Q0': 948, 'B008I64J9G': 949, 'B008I64LC6': 950, 'B008I64QVW': 951, 'B008I64TOQ': 952, 'B008I64UF4': 953, 'B008J0Z9TA': 954, 'B008JR72SO': 955, 'B008KEPWMY': 956, 'B008KRZDYI': 957, 'B008KVUAGU': 958, 'B008LURQ76': 959, 'B008M04V1E': 960, 'B008MLAT78': 961, 'B008MUD9IK': 962, 'B008MW6Y12': 963, 'B008MWBY6W': 964, 'B008NCD2PC': 965, 'B008NN54M0': 966, 'B008O6R5ZK': 967, 'B008ODMSO6': 968, 'B008OEHT30': 969, 'B008PQ1QOA': 970, 'B008PXMWIW': 971, 'B008QZTJH6': 972, 'B008R6OPJQ': 973, 'B008R79VMQ': 974, 'B008RBHP98': 975, 'B008RDI0TU': 976, 'B008RKEIZ8': 977, 'B008RV51EE': 978, 'B008RXYOKY': 979, 'B008SFPMRK': 980, 'B008SYWFNA': 981, 'B008UHKTCY': 982, 'B008XVAVAW': 983, 'B00902SFC4': 984, 'B00904JILO': 985, 'B00906D9YE': 986, 'B00906E03I': 987, 'B0090DX8O8': 988, 'B0090XWU8S': 989, 'B0090Z3SPU': 990, 'B0091GU4OQ': 991, 'B0091UW7F6': 992, 'B0092ML0OC': 993, 'B0092ZUJMI': 994, 'B0093162RM': 995, 'B0093F4ROI': 996, 'B0093H4WT6': 997, 'B00942XWYQ': 998, 'B0095PZHPE': 999, 'B0095ZKUD8': 1000, 'B0096239G0': 1001, 'B0096BEJDI': 1002, 'B0096M8VR2': 1003, 'B0097BEFKE': 1004, 'B0097BEFWC': 1005, 'B0098QV038': 1006, 'B0098Y77N2': 1007, 'B0098Y77OG': 1008, 'B0098Y77U0': 1009, 'B00990Z4W6': 1010, 'B0099SMFP2': 1011, 'B0099TX7O4': 1012, 'B009A8D4L0': 1013, 'B009AYLDSU': 1014, 'B009CCOI9Q': 1015, 'B009CP4PIW': 1016, 'B009DMFOVG': 1017, 'B009DQJ8X2': 1018, 'B009E6R89C': 1019, 'B009F1DYF8': 1020, 'B009F7TXMK': 1021, 'B009GG06F8': 1022, 'B009GHYMB6': 1023, 'B009GXZ8MM': 1024, 'B009H0XQQY': 1025, 'B009H8JOZS': 1026, 'B009HU6RI8': 1027, 'B009IBX7Z2': 1028, 'B009JJJ7S4': 1029, 'B009K62HQ0': 1030, 'B009KY58FE': 1031, 'B009KYWL0O': 1032, 'B009L7G8GI': 1033, 'B009LGLEFY': 1034, 'B009M27MB2': 1035, 'B009NHAEXE': 1036, 'B009NHAF06': 1037, 'B009NHAF3I': 1038, 'B009NLTW60': 1039, 'B009NQLT0M': 1040, 'B009O7YU3S': 1041, 'B009OBCAW2': 1042, 'B009OWVUJ0': 1043, 'B009QBIZ60': 1044, 'B009RCQWLI': 1045, 'B009RUPD7E': 1046, 'B009RUZ7TS': 1047, 'B009RVNLW2': 1048, 'B009RVUYAY': 1049, 'B009RVVO2Q': 1050, 'B009RWAYTE': 1051, 'B009S2CXLK': 1052, 'B009S331VU': 1053, 'B009SPWCFY': 1054, 'B009T3EYHO': 1055, 'B009T4WYQ6': 1056, 'B009TS84RK': 1057, 'B009UDYQJ4': 1058, 'B009UNGYHG': 1059, 'B009UOIAEU': 1060, 'B009UQZPA0': 1061, 'B009VCAJ7W': 1062, 'B009X21N1G': 1063, 'B009X3UW2G': 1064, 'B009XCK6PK': 1065, 'B009ZGK6QS': 1066, 'B009ZIILLI': 1067, 'B009ZQKMDA': 1068, 'B00A1W44PO': 1069, 'B00A2E1MQA': 1070, 'B00A2T6X0K': 1071, 'B00A30FELW': 1072, 'B00A36QXI4': 1073, 'B00A36QZ1Y': 1074, 'B00A3KKL56': 1075, 'B00A3YN0Z0': 1076, 'B00A47U22U': 1077, 'B00A7VYO90': 1078, 'B00A83I8G2': 1079, 'B00A8F4TAY': 1080, 'B00A8F52C8': 1081, 'B00AA9Q8FW': 1082, 'B00AA9Q94C': 1083, 'B00AAIPT76': 1084, 'B00ACVI202': 1085, 'B00ADICJHQ': 1086, 'B00AF56QA8': 1087, 'B00AGV7T5W': 1088, 'B00AHU2QH8': 1089, 'B00AHWL9R4': 1090, 'B00AJHDZSI': 1091, 'B00AMTRR5K': 1092, 'B00AO1XFM0': 1093, 'B00APVQZ8U': 1094, 'B00AQM8586': 1095, 'B00AQRUW4Q': 1096, 'B00ASLSQHK': 1097, 'B00AT0CMPC': 1098, 'B00ATXERNO': 1099, 'B00AVLOHJ8': 1100, 'B00AVWKUXE': 1101, 'B00AWKC0EC': 1102, 'B00AWKC0JM': 1103, 'B00AWRUIY4': 1104, 'B00AWYMXZY': 1105, 'B00AXX0IC4': 1106, 'B00AYJFXIQ': 1107, 'B00B0CQCCC': 1108, 'B00B0FYHUI': 1109, 'B00B0RD2RA': 1110, 'B00B1KJK22': 1111, 'B00B1N06PO': 1112, 'B00B3OA7R8': 1113, 'B00B3P15M8': 1114, 'B00B3P1IGG': 1115, 'B00B46XKKQ': 1116, 'B00B4G2YXA': 1117, 'B00B4QESVQ': 1118, 'B00B52LLJ6': 1119, 'B00B5RGAWY': 1120, 'B00B6ZCNGM': 1121, 'B00B71NRI8': 1122, 'B00B71NVGG': 1123, 'B00B71ZZMY': 1124, 'B00B981F1U': 1125, 'B00B9996LA': 1126, 'B00B9BOC1C': 1127, 'B00B9DQ2QI': 1128, 'B00BARHMIU': 1129, 'B00BCA40S0': 1130, 'B00BCGRX9M': 1131, 'B00BCGRZ04': 1132, 'B00BCSYZG4': 1133, 'B00BCU4TZE': 1134, 'B00BCY1AA2': 1135, 'B00BD7UXT2': 1136, 'B00BEW8MVC': 1137, 'B00BEW9BBW': 1138, 'B00BEZZBFO': 1139, 'B00BFDHVAS': 1140, 'B00BFRKYVM': 1141, 'B00BGBU3X6': 1142, 'B00BGGIZ2W': 1143, 'B00BGIQS1A': 1144, 'B00BGO0QEO': 1145, 'B00BH5W848': 1146, 'B00BH61UV4': 1147, 'B00BHV4M0K': 1148, 'B00BIFNTMC': 1149, 'B00BIK06FU': 1150, 'B00BIKI2BK': 1151, 'B00BIP816Q': 1152, 'B00BJH6A1Q': 1153, 'B00BM82SWM': 1154, 'B00BN5Z2WM': 1155, 'B00BONB6SW': 1156, 'B00BONB8FS': 1157, 'B00BOXNSRY': 1158, 'B00BP4LQU8': 1159, 'B00BPO9HOA': 1160, 'B00BQ5RY1G': 1161, 'B00BQ5RYI4': 1162, 'B00BSKY1M4': 1163, 'B00BSXUEZY': 1164, 'B00BSYCZZ0': 1165, 'B00BTKGHDE': 1166, 'B00BTQJ7SA': 1167, 'B00BUCLVZU': 1168, 'B00BUN1WXA': 1169, 'B00BUN22KC': 1170, 'B00BUSDVBQ': 1171, 'B00BVKRPIS': 1172, 'B00BWF5U0M': 1173, 'B00BWH2SWI': 1174, 'B00BX0YKX4': 1175, 'B00BXFKZ9W': 1176, 'B00BXK7LX0': 1177, 'B00BXQ0370': 1178, 'B00BXX0QVQ': 1179, 'B00BY3XN7E': 1180, 'B00BYHTK5Y': 1181, 'B00BZC31WQ': 1182, 'B00C0Y6BQG': 1183, 'B00C28L51G': 1184, 'B00C28L5UW': 1185, 'B00C2PJVCE': 1186, 'B00C30FCUI': 1187, 'B00C30HUQ2': 1188, 'B00C4P6AKS': 1189, 'B00C4VSJD8': 1190, 'B00C4XVOOC': 1191, 'B00C631EYU': 1192, 'B00C8T5KOW': 1193, 'B00C9EYVGY': 1194, 'B00C9FLSLY': 1195, 'B00C9TEBJQ': 1196, 'B00C9UFTGO': 1197, 'B00C9UJLOU': 1198, 'B00CBNG10C': 1199, 'B00CCIL9NU': 1200, 'B00CCILYDA': 1201, 'B00CCJNYR8': 1202, 'B00CD4221G': 1203, 'B00CD5JC6S': 1204, 'B00CDGPIDI': 1205, 'B00CDJJZV6': 1206, 'B00CE58ZYC': 1207, 'B00CE8DUYY': 1208, 'B00CE8E0FW': 1209, 'B00CEO4BK0': 1210, 'B00CES44EO': 1211, 'B00CF1LS94': 1212, 'B00CF4G7JC': 1213, 'B00CF5OGP8': 1214, 'B00CGJF2O2': 1215, 'B00CGYCNG2': 1216, 'B00CHKQ28U': 1217, 'B00CI3BLPA': 1218, 'B00CIOA89E': 1219, 'B00CJ27AVO': 1220, 'B00CJGIWIA': 1221, 'B00CJGLBOW': 1222, 'B00CJHXY0U': 1223, 'B00CKINAUC': 1224, 'B00CMKOVPQ': 1225, 'B00CNY4NTK': 1226, 'B00CO07C5U': 1227, 'B00CO8TBOW': 1228, 'B00CO8TBQ0': 1229, 'B00COF3X94': 1230, 'B00COII2M4': 1231, 'B00COKNKS8': 1232, 'B00COYOAYW': 1233, 'B00CP6QLY6': 1234, 'B00CPJHGTM': 1235, 'B00CRQUKQ4': 1236, 'B00CRZ2PRM': 1237, 'B00CS4WPD6': 1238, 'B00CST4LBK': 1239, 'B00CTUXKWY': 1240, 'B00CUD1M66': 1241, 'B00CW6QESM': 1242, 'B00CWLYLWS': 1243, 'B00CX5P8FC': 1244, 'B00CXL0P5O': 1245, 'B00CXUT5ZG': 1246, 'B00CYX26BC': 1247, 'B00CYX54C0': 1248, 'B00CZDT30S': 1249, 'B00D0L5BH8': 1250, 'B00D2CO8WO': 1251, 'B00D2CSIUW': 1252, 'B00D2ZDY2Q': 1253, 'B00D38XF6M': 1254, 'B00D4ABOZS': 1255, 'B00D5KK9QC': 1256, 'B00D68ZVY8': 1257, 'B00D6GINF4': 1258, 'B00D6Y2OP6': 1259, 'B00D7B9O38': 1260, 'B00D7CWSCG': 1261, 'B00D96J8IM': 1262, 'B00DBV28TG': 1263, 'B00DCIZKPM': 1264, 'B00DDPZ4FA': 1265, 'B00DEJXRAE': 1266, 'B00DFVPAKG': 1267, 'B00DG6FOV0': 1268, 'B00DGJS5NG': 1269, 'B00DGJSDQ0': 1270, 'B00DGM6ZE4': 1271, 'B00DGM721O': 1272, 'B00DGRUY3M': 1273, 'B00DGZ42SM': 1274, 'B00DI12GSM': 1275, 'B00DI12KRO': 1276, 'B00DI12MQ8': 1277, 'B00DIFIM36': 1278, 'B00DIFIO8E': 1279, 'B00DIFIP06': 1280, 'B00DIOAM4Y': 1281, 'B00DJ5XH4O': 1282, 'B00DMCVKMU': 1283, 'B00DMJI9TA': 1284, 'B00DMWV3EU': 1285, 'B00DN3J03O': 1286, 'B00DOPGO2G': 1287, 'B00DOPNKLY': 1288, 'B00DPC015E': 1289, 'B00DQ5NU4O': 1290, 'B00DQJME7Y': 1291, 'B00DQJTYGS': 1292, 'B00DR0B6XK': 1293, 'B00DRG1SLO': 1294, 'B00DS4G2AW': 1295, 'B00DU0X4WI': 1296, 'B00DU15MU4': 1297, 'B00DUCB65I': 1298, 'B00DUHUPCS': 1299, 'B00DULMXTW': 1300, 'B00DULWSXI': 1301, 'B00DVFLJKQ': 1302, 'B00DVHWZ70': 1303, 'B00DW374W4': 1304, 'B00DWFPDJI': 1305, 'B00DWFPDNO': 1306, 'B00DY2Y28M': 1307, 'B00DYNRWX8': 1308, 'B00DYNS90I': 1309, 'B00DYQQSSK': 1310, 'B00DYQYITG': 1311, 'B00DYQYIZU': 1312, 'B00DYQYJ3Q': 1313, 'B00DYQYLP2': 1314, 'B00DZYEXPQ': 1315, 'B00E0ISM6M': 1316, 'B00E0ISVLI': 1317, 'B00E0J0EL2': 1318, 'B00E1CRC86': 1319, 'B00E362W9O': 1320, 'B00E363R02': 1321, 'B00E3CHLLC': 1322, 'B00E3FHXYO': 1323, 'B00E3SHFXU': 1324, 'B00E3W15P0': 1325, 'B00E3W1726': 1326, 'B00E45043A': 1327, 'B00E4TOWR0': 1328, 'B00E56J7FY': 1329, 'B00E56OIWG': 1330, 'B00E57BSMI': 1331, 'B00E5NOXM4': 1332, 'B00E5TQ3OY': 1333, 'B00E6GRHBO': 1334, 'B00E8CIGCA': 1335, 'B00E8HIN78': 1336, 'B00E98O7GC': 1337, 'B00E9MD700': 1338, 'B00E9W1ULS': 1339, 'B00EB90RFY': 1340, 'B00ECDM78E': 1341, 'B00EDPW0LA': 1342, 'B00EDPW2Q8': 1343, 'B00EDT0072': 1344, 'B00EEJHEU2': 1345, 'B00EEOSZK0': 1346, 'B00EHDPADS': 1347, 'B00EHFJGW2': 1348, 'B00EHFJJHY': 1349, 'B00EHZYWGM': 1350, 'B00EIB70N2': 1351, 'B00EL94Z4I': 1352, 'B00EN27SHY': 1353, 'B00EN9Q35A': 1354, 'B00ENFP224': 1355, 'B00ENZRP0G': 1356, 'B00EOEDJ9W': 1357, 'B00EOI3VC8': 1358, 'B00EP48NMY': 1359, 'B00EQ1LOF4': 1360, 'B00EQT0YK2': 1361, 'B00ERJXTE4': 1362, 'B00ESM3JUY': 1363, 'B00ESUXXZM': 1364, 'B00EU5W1VC': 1365, 'B00EUY59Z8': 1366, 'B00EVO6ETC': 1367, 'B00EVQJ6RM': 1368, 'B00EWCUK1Q': 1369, 'B00EWCUK98': 1370, 'B00EXK14S0': 1371, 'B00EYXZI4M': 1372, 'B00EZMT01Y': 1373, 'B00EZMZTBO': 1374, 'B00EZMZULI': 1375, 'B00EZT7RE4': 1376, 'B00F0DD0I6': 1377, 'B00F0H8TOC': 1378, 'B00F0IQTE8': 1379, 'B00F0R9V76': 1380, 'B00F0W1RIW': 1381, 'B00F19Q7YI': 1382, 'B00F25Z0FS': 1383, 'B00F3QFKNS': 1384, 'B00F5CTTAU': 1385, 'B00F5JH9FU': 1386, 'B00F5JV4NS': 1387, 'B00F5NB7JK': 1388, 'B00F5NB7MW': 1389, 'B00FA4Y66U': 1390, 'B00FA4Y7N2': 1391, 'B00FA4Y82W': 1392, 'B00FB1NTP6': 1393, 'B00FB45USW': 1394, 'B00FB50S0Q': 1395, 'B00FB50SBU': 1396, 'B00FCLG65U': 1397, 'B00FE8MKTM': 1398, 'B00FE9R4DI': 1399, 'B00FEAQ7WG': 1400, 'B00FEOB4EI': 1401, 'B00FFJ0HUE': 1402, 'B00FFVEPGE': 1403, 'B00FFVER08': 1404, 'B00FFVES48': 1405, 'B00FFVETII': 1406, 'B00FG7MZP0': 1407, 'B00FGARIM2': 1408, 'B00FGI3CBU': 1409, 'B00FGONRZK': 1410, 'B00FHASA3W': 1411, 'B00FIXVWK6': 1412, 'B00FJILVDS': 1413, 'B00FK0ELRI': 1414, 'B00FKTMWDE': 1415, 'B00FL3URX6': 1416, 'B00FN4M1E6': 1417, 'B00FNPD1VW': 1418, 'B00FO0IHMY': 1419, 'B00FOHDK7O': 1420, 'B00FONBG1A': 1421, 'B00FPAVUHC': 1422, 'B00FPIMICA': 1423, 'B00FPIMJEW': 1424, 'B00FPLMSK4': 1425, 'B00FQMWTGK': 1426, 'B00FRMAOIO': 1427, 'B00FVU5VJE': 1428, 'B00FWK8UWI': 1429, 'B00FXYTLIK': 1430, 'B00FZ1ABRQ': 1431, 'B00FZYT278': 1432, 'B00G059G86': 1433, 'B00G05A2MU': 1434, 'B00G1PNG54': 1435, 'B00G3788AS': 1436, 'B00G4SA1FG': 1437, 'B00G56ZNZU': 1438, 'B00G5AEZOQ': 1439, 'B00G5N0ZZQ': 1440, 'B00G97ALA2': 1441, 'B00GDHAT3W': 1442, 'B00GE4MNQA': 1443, 'B00GFM2RHQ': 1444, 'B00GFNH9H8': 1445, 'B00GFOXPZM': 1446, 'B00GGVPKKC': 1447, 'B00GHBBK82': 1448, 'B00GHUHMUS': 1449, 'B00GHY5F3K': 1450, 'B00GHY5JAO': 1451, 'B00GIGGS6A': 1452, 'B00GJFGE0K': 1453, 'B00GKGGICC': 1454, 'B00GLDVSNI': 1455, 'B00GOILYB6': 1456, 'B00GOX22WQ': 1457, 'B00GPAFHIO': 1458, 'B00GPL2ZJ2': 1459, 'B00GR8KEMS': 1460, 'B00GSJ9X4Q': 1461, 'B00GWC2S3M': 1462, 'B00GXOOL4S': 1463, 'B00GXUZA4M': 1464, 'B00GXXJF72': 1465, 'B00GY0UB54': 1466, 'B00H0CV9TM': 1467, 'B00H33SDR4': 1468, 'B00H33SFJU': 1469, 'B00H7PBWK8': 1470, 'B00H84WRK2': 1471, 'B00H8JVFCI': 1472, 'B00H8JVHP8': 1473, 'B00H8JVHZI': 1474, 'B00H8JVLCW': 1475, 'B00H9XGTXI': 1476, 'B00HC0ZDOE': 1477, 'B00HD3TF9Y': 1478, 'B00HEEOQBO': 1479, 'B00HEGP40E': 1480, 'B00HF8K0O6': 1481, 'B00HFEJNNO': 1482, 'B00HFNH8JQ': 1483, 'B00HG1TMK0': 1484, 'B00HHAJRU0': 1485, 'B00HHEAMXC': 1486, 'B00HIW1E4Y': 1487, 'B00HK0A6LQ': 1488, 'B00HNCPR92': 1489, 'B00HNFPZF0': 1490, 'B00HPMCO14': 1491, 'B00HPMCO4Q': 1492, 'B00HPMCO6O': 1493, 'B00HQ883QW': 1494, 'B00HQ883T4': 1495, 'B00HQWLHJI': 1496, 'B00HR7FWUC': 1497, 'B00HRUC1OO': 1498, 'B00HS5CFYY': 1499, 'B00HSMK59E': 1500, 'B00HT6GFX4': 1501, 'B00HT9MA1W': 1502, 'B00HUB0ONK': 1503, 'B00HV9V17Y': 1504, 'B00HX0RTKO': 1505, 'B00HX0SRXW': 1506, 'B00HXT8EKE': 1507, 'B00HY2NA5Y': 1508, 'B00I027GPC': 1509, 'B00I053ICY': 1510, 'B00I0C57BM': 1511, 'B00I0NGWRY': 1512, 'B00I0S6SK0': 1513, 'B00I3YLHAC': 1514, 'B00I482KZI': 1515, 'B00I59VBH4': 1516, 'B00I59XQKO': 1517, 'B00I5SW8MC': 1518, 'B00I8IVQ9K': 1519, 'B00I8Y6V9E': 1520, 'B00IAKLM54': 1521, 'B00IAM78WS': 1522, 'B00IBPLI48': 1523, 'B00ICDAAX4': 1524, 'B00ICDAAXO': 1525, 'B00ICDABYC': 1526, 'B00IEM6DBG': 1527, 'B00IEYHMPK': 1528, 'B00IF0JAIU': 1529, 'B00IF0JAYE': 1530, 'B00IF70QCW': 1531, 'B00IF70R7Q': 1532, 'B00IF70T4M': 1533, 'B00IF70TO2': 1534, 'B00IF70TSI': 1535, 'B00IG9LSGM': 1536, 'B00IHUWW06': 1537, 'B00IHVQBMK': 1538, 'B00IHVRNB8': 1539, 'B00IICMUWS': 1540, 'B00IIEICNC': 1541, 'B00IJ2J2K0': 1542, 'B00IJ8J7BI': 1543, 'B00IJ9S11O': 1544, 'B00IJ9S36C': 1545, 'B00IJ9S470': 1546, 'B00IJQ5IDG': 1547, 'B00IJU0K2Q': 1548, 'B00IK2OQM8': 1549, 'B00IK66LP4': 1550, 'B00IKAQ538': 1551, 'B00IKC14OG': 1552, 'B00IKDETOC': 1553, 'B00IM3P8GS': 1554, 'B00IMXOP1M': 1555, 'B00INKHXY0': 1556, 'B00INMB23Q': 1557, 'B00INNP5VU': 1558, 'B00INO6JX2': 1559, 'B00IOWB438': 1560, 'B00IOXCG7U': 1561, 'B00IQBSW28': 1562, 'B00IRZMYN6': 1563, 'B00ISVKHBK': 1564, 'B00ITORMDC': 1565, 'B00IU1R29I': 1566, 'B00IU6R2AW': 1567, 'B00IUICTMQ': 1568, 'B00IUUN6L2': 1569, 'B00IVPU786': 1570, 'B00IVPU7AO': 1571, 'B00IVPU7KE': 1572, 'B00IWA1MNE': 1573, 'B00IWQREOE': 1574, 'B00IX5IDD0': 1575, 'B00IYA2ZJW': 1576, 'B00IYETYX8': 1577, 'B00IYOCBMO': 1578, 'B00IYOCFWU': 1579, 'B00IYOJD84': 1580, 'B00J22TM7Y': 1581, 'B00J24PN20': 1582, 'B00J2L8S5W': 1583, 'B00J2TGZTK': 1584, 'B00J3MWPH2': 1585, 'B00J3TOIJI': 1586, 'B00J46VW9O': 1587, 'B00J4EZE4U': 1588, 'B00J4NMTMQ': 1589, 'B00J65WQHU': 1590, 'B00J7KM5X4': 1591, 'B00J8NCVX4': 1592, 'B00J9C2JDG': 1593, 'B00J9RO4CU': 1594, 'B00JAAXH1A': 1595, 'B00JABGJSM': 1596, 'B00JAIEAU4': 1597, 'B00JAY397S': 1598, 'B00JBJ6VG8': 1599, 'B00JDRHQ58': 1600, 'B00JDVRCI0': 1601, 'B00JEI9M1W': 1602, 'B00JF2JM8K': 1603, 'B00JFC9ALE': 1604, 'B00JFC9BJU': 1605, 'B00JJNQG98': 1606, 'B00JLV4BWC': 1607, 'B00JLY7K7C': 1608, 'B00JO64MY6': 1609, 'B00JO6RO8C': 1610, 'B00JO80LUI': 1611, 'B00JQHTJS2': 1612, 'B00JQP6PTK': 1613, 'B00JQTO8TU': 1614, 'B00JT0E56M': 1615, 'B00JX3Q28Y': 1616, 'B00JYFODXW': 1617, 'B00JYFT4PO': 1618, 'B00JYSPH5M': 1619, 'B00JZFG6QS': 1620, 'B00K2MAU5Q': 1621, 'B00K2UBKHA': 1622, 'B00K34HUKQ': 1623, 'B00K35MU0K': 1624, 'B00K4QX99O': 1625, 'B00K5ZYG5U': 1626, 'B00K6C73ES': 1627, 'B00K85X23O': 1628, 'B00K85X2AW': 1629, 'B00K8GZED4': 1630, 'B00K8GZI08': 1631, 'B00K8MTPEW': 1632, 'B00K8WCG5M': 1633, 'B00KAF5RQ2': 1634, 'B00KAI3KW2': 1635, 'B00KBQ7U10': 1636, 'B00KC0HVTQ': 1637, 'B00KCRYIWM': 1638, 'B00KCVZ2FA': 1639, 'B00KD13ZXK': 1640, 'B00KF9IVKC': 1641, 'B00KFAGCUM': 1642, 'B00KFAGCWK': 1643, 'B00KFCRATC': 1644, 'B00KFCRF1A': 1645, 'B00KFD0O0I': 1646, 'B00KFD0SMC': 1647, 'B00KFD0SYK': 1648, 'B00KGQF4E0': 1649, 'B00KH6E1NO': 1650, 'B00KHA5G6G': 1651, 'B00KJGY3TO': 1652, 'B00KJLMBQQ': 1653, 'B00KJLMBSO': 1654, 'B00KK4B37U': 1655, 'B00KK8ZLEC': 1656, 'B00KKAQYXM': 1657, 'B00KLZLBCK': 1658, 'B00KMRGF28': 1659, 'B00KNJJPSG': 1660, 'B00KNNSKV0': 1661, 'B00KO99GB6': 1662, 'B00KPRWAX8': 1663, 'B00KPRWB9G': 1664, 'B00KQG6QFG': 1665, 'B00KQQHFVK': 1666, 'B00KR4XB64': 1667, 'B00KR4XJK2': 1668, 'B00KR6XXZ6': 1669, 'B00KSBB7EY': 1670, 'B00KT7DOSE': 1671, 'B00KU2E9IW': 1672, 'B00KV9TQXM': 1673, 'B00KVW6VP0': 1674, 'B00KWHMR6G': 1675, 'B00KWR8ME2': 1676, 'B00KWRQQPE': 1677, 'B00KWTXVOQ': 1678, 'B00KX1ZNF8': 1679, 'B00KX4QHZ0': 1680, 'B00KX4TORI': 1681, 'B00KXTZ3BE': 1682, 'B00KXWHWHO': 1683, 'B00KXWI1JW': 1684, 'B00KXWI7EG': 1685, 'B00KXYXXK2': 1686, 'B00KY054BG': 1687, 'B00KYF1LLI': 1688, 'B00KYK1CC6': 1689, 'B00KZEAR9A': 1690, 'B00L0YLRUW': 1691, 'B00L1LXOWS': 1692, 'B00L1Y11D4': 1693, 'B00L21Q5LY': 1694, 'B00L268TXQ': 1695, 'B00L31HXIC': 1696, 'B00L3KNOF4': 1697, 'B00L3KNY22': 1698, 'B00L3KNZZ8': 1699, 'B00L49X8E6': 1700, 'B00L4HWY3E': 1701, 'B00L5GDOS8': 1702, 'B00L7UZMAK': 1703, 'B00L87YMGM': 1704, 'B00L90R2H4': 1705, 'B00L9BUM48': 1706, 'B00L9EPT8O': 1707, 'B00LB060RK': 1708, 'B00LBPUBUC': 1709, 'B00LBQR18Q': 1710, 'B00LD3Q56G': 1711, 'B00LHERVM8': 1712, 'B00LI9DUG8': 1713, 'B00LIW3X3K': 1714, 'B00LIW4A14': 1715, 'B00LK77UX2': 1716, 'B00LM5N4OG': 1717, 'B00LO29KXQ': 1718, 'B00LORGAG6': 1719, 'B00LP6CFEC': 1720, 'B00LPESRUK': 1721, 'B00LSGKEC4': 1722, 'B00LSYHLR2': 1723, 'B00LT0ZWJE': 1724, 'B00LTHBCNM': 1725, 'B00LUF3DOY': 1726, 'B00LWHU9D8': 1727, 'B00LWHUBPO': 1728, 'B00LWHUCRQ': 1729, 'B00LX3P2XS': 1730, 'B00LX3PDIC': 1731, 'B00LX4RJXS': 1732, 'B00LZF58IS': 1733, 'B00LZSA736': 1734, 'B00M0HVTUG': 1735, 'B00M14VAD4': 1736, 'B00M1F4SBE': 1737, 'B00M265N7A': 1738, 'B00M2UJDQ8': 1739, 'B00M48154Q': 1740, 'B00M4I1BAY': 1741, 'B00M4QANB4': 1742, 'B00M4QAQI4': 1743, 'B00M55BMKK': 1744, 'B00M55C0LK': 1745, 'B00M562LF4': 1746, 'B00M5JG8ZK': 1747, 'B00M7T8T1E': 1748, 'B00M8ABEIM': 1749, 'B00M8ABFX6': 1750, 'B00M8ABHVQ': 1751, 'B00M8FZPEQ': 1752, 'B00M9DBBK4': 1753, 'B00MARDJZ4': 1754, 'B00MAULSOK': 1755, 'B00MBFPT44': 1756, 'B00MBWIL0G': 1757, 'B00MFJ6G20': 1758, 'B00MFRNC4C': 1759, 'B00MGJH5U6': 1760, 'B00MGMPT9W': 1761, 'B00MH4ZVHO': 1762, 'B00MIO2KRC': 1763, 'B00MMLV7VQ': 1764, 'B00MMZI3KA': 1765, 'B00MN284T2': 1766, 'B00MN98ATE': 1767, 'B00MOUBYDQ': 1768, 'B00MPI5N7U': 1769, 'B00MQB055Q': 1770, 'B00MQLB1N6': 1771, 'B00MRVJY1G': 1772, 'B00MRVJYEI': 1773, 'B00MRYHOQU': 1774, 'B00MT0SKAQ': 1775, 'B00MUTWLW4': 1776, 'B00MVQM0IQ': 1777, 'B00MW5Y7F0': 1778, 'B00MW5YDAE': 1779, 'B00MWCJ8VQ': 1780, 'B00MWH4FL4': 1781, 'B00MWLZR0I': 1782, 'B00MX57AO4': 1783, 'B00MXL9APK': 1784, 'B00MY05GNA': 1785, 'B00N05RL22': 1786, 'B00N1KXE9K': 1787, 'B00N1X40WW': 1788, 'B00N28AUK2': 1789, 'B00N2S6ZUQ': 1790, 'B00N2ZDXW2': 1791, 'B00N3J8NRW': 1792, 'B00N4UQV9W': 1793, 'B00N99FXIS': 1794, 'B00NAG6OTC': 1795, 'B00NBEWB4U': 1796, 'B00NDOIZ2K': 1797, 'B00NEMG62M': 1798, 'B00NF2J6ZK': 1799, 'B00NGCNPF6': 1800, 'B00NH11X64': 1801, 'B00NH126Q0': 1802, 'B00NH12EHQ': 1803, 'B00NH131LY': 1804, 'B00NH13YHK': 1805, 'B00NIYJKL0': 1806, 'B00NJ4B9LI': 1807, 'B00NJTO4CY': 1808, 'B00NKYYMAW': 1809, 'B00NKZ5R28': 1810, 'B00NMTXYN6': 1811, 'B00NMXY2MO': 1812, 'B00NNQDY74': 1813, 'B00NQ9OQU2': 1814, 'B00NR1EHP8': 1815, 'B00NS3MRKC': 1816, 'B00NTQ2JL0': 1817, 'B00NUS8QQY': 1818, 'B00NV3DE8I': 1819, 'B00NVKHLP8': 1820, 'B00NW2JBYO': 1821, 'B00NW31YSE': 1822, 'B00NWXM5U0': 1823, 'B00NX8C1N0': 1824, 'B00NYBGNQ2': 1825, 'B00O0ADQYS': 1826, 'B00O127A10': 1827, 'B00O12F210': 1828, 'B00O1C5R24': 1829, 'B00O1CVS0E': 1830, 'B00O1RTQJE': 1831, 'B00O1XZJZI': 1832, 'B00O4OR4GQ': 1833, 'B00O4RRHP6': 1834, 'B00O5WYV4A': 1835, 'B00O5X8YXS': 1836, 'B00OA6HZU8': 1837, 'B00OA7SG28': 1838, 'B00OAJ412U': 1839, 'B00OAJ5N6I': 1840, 'B00OAXPTV8': 1841, 'B00OAXPYXG': 1842, 'B00OAXQ2LE': 1843, 'B00OBRE5UE': 1844, 'B00OBRFFAS': 1845, 'B00OCBSASM': 1846, 'B00OCBXIY8': 1847, 'B00OFLNE1C': 1848, 'B00OFXHZRE': 1849, 'B00OGQW02K': 1850, 'B00OHDD9V8': 1851, 'B00OJCD41C': 1852, 'B00OM8NMBK': 1853, 'B00OMDZAV0': 1854, 'B00ON7AX3U': 1855, 'B00ONOKPHC': 1856, 'B00OQ0CYFE': 1857, 'B00OQJM8FG': 1858, 'B00OQVZDJM': 1859, 'B00OR7NZUO': 1860, 'B00OT7HSBO': 1861, 'B00OT7N2ZA': 1862, 'B00OTZWJE2': 1863, 'B00OUUTYIU': 1864, 'B00OUUX058': 1865, 'B00OUUXC7O': 1866, 'B00OUUXOUY': 1867, 'B00OVV2XX6': 1868, 'B00OY0WBTA': 1869, 'B00OZ10FI2': 1870, 'B00OZJQVTG': 1871, 'B00P14PD5M': 1872, 'B00P28VN38': 1873, 'B00P2UOU72': 1874, 'B00P3NMVVU': 1875, 'B00P7EVST6': 1876, 'B00P8F3LD0': 1877, 'B00P8PK1WE': 1878, 'B00P9J6RFO': 1879, 'B00PBIJHQY': 1880, 'B00PC07T02': 1881, 'B00PC0H9IE': 1882, 'B00PDLRHFW': 1883, 'B00PEHSJ98': 1884, 'B00PFQPX5Q': 1885, 'B00PGTOX26': 1886, 'B00PHRVHZS': 1887, 'B00PHRVLU4': 1888, 'B00PHRVNKM': 1889, 'B00PKKM2HO': 1890, 'B00PKTU83U': 1891, 'B00PL86T5Q': 1892, 'B00PN377C8': 1893, 'B00PV0IEDY': 1894, 'B00PVD81MK': 1895, 'B00PXYRMPE': 1896, 'B00Q1FITMO': 1897, 'B00Q1RL64U': 1898, 'B00Q2HYC8G': 1899, 'B00Q2VIW9M': 1900, 'B00Q41KYHI': 1901, 'B00Q4IPEKS': 1902, 'B00Q5W5BUQ': 1903, 'B00Q64O4KQ': 1904, 'B00Q75GF2E': 1905, 'B00QAJNO62': 1906, 'B00QEXM4YC': 1907, 'B00QF5MXFY': 1908, 'B00QFQRELG': 1909, 'B00QGH9S0O': 1910, 'B00QGOQ2BA': 1911, 'B00QHLSKOE': 1912, 'B00QL1ZN3G': 1913, 'B00QLEQAP8': 1914, 'B00QOOZ4DE': 1915, 'B00QOPG5MC': 1916, 'B00QQ7SG48': 1917, 'B00QQYM5O8': 1918, 'B00QRPPCMI': 1919, 'B00QS0AKVK': 1920, 'B00QXOJJHW': 1921, 'B00R11WPK4': 1922, 'B00R124LAK': 1923, 'B00R43VK5A': 1924, 'B00R92CL5E': 1925, 'B00R92CLD6': 1926, 'B00RBGYGPG': 1927, 'B00RE1UL52': 1928, 'B00RFLXE0A': 1929, 'B00RH29CJO': 1930, 'B00RH46PDS': 1931, 'B00RM3KXAU': 1932, 'B00RNGOBYK': 1933, 'B00RORBQNW': 1934, 'B00RQJRXMQ': 1935, 'B00RVFCFI2': 1936, 'B00RXEWOAA': 1937, 'B00RY35TES': 1938, 'B00RYVA4Y0': 1939, 'B00S0CTU2Y': 1940, 'B00S2HJAUE': 1941, 'B00S2P0M1C': 1942, 'B00S7YA5FQ': 1943, 'B00S99NW5E': 1944, 'B00S9SGNNS': 1945, 'B00SD9IS1S': 1946, 'B00SE9D6GO': 1947, 'B00SF6VSVG': 1948, 'B00SFSU53G': 1949, 'B00SG3CWGS': 1950, 'B00SKI6WTW': 1951, 'B00SMBFZNG': 1952, 'B00SMBG8NC': 1953, 'B00SMBG8QY': 1954, 'B00SMBGGV6': 1955, 'B00SMBGP76': 1956, 'B00SN6VN7W': 1957, 'B00SNBCBGE': 1958, 'B00SNK647M': 1959, 'B00SQ2CJUS': 1960, 'B00SQWNH7C': 1961, 'B00STNUB04': 1962, 'B00SURH7W4': 1963, 'B00SUX3XQC': 1964, 'B00SV7IEJI': 1965, 'B00SVVY844': 1966, 'B00SWEZXOY': 1967, 'B00T2CCSZM': 1968, 'B00T38OHQ8': 1969, 'B00T76ZGDO': 1970, 'B00T7GDZXM': 1971, 'B00T7W84FA': 1972, 'B00T7WCKBY': 1973, 'B00T9QONN6': 1974, 'B00TAEBVCI': 1975, 'B00TAEKUL6': 1976, 'B00TAEUMSM': 1977, 'B00TB8XZOK': 1978, 'B00TE94GEE': 1979, 'B00TG5FPHS': 1980, 'B00TIBFEIA': 1981, 'B00TIQ213Q': 1982, 'B00TKMQ3PK': 1983, 'B00TKPAW9A': 1984, 'B00TMFZS1K': 1985, 'B00TOVTZ7K': 1986, 'B00TPFKW0O': 1987, 'B00TQEX7AQ': 1988, 'B00TQEX8BO': 1989, 'B00TQKAO1K': 1990, 'B00TR05L9Y': 1991, 'B00TS3NA6Q': 1992, 'B00TS6JL4S': 1993, 'B00TX00IQY': 1994, 'B00TYTDPJ6': 1995, 'B00TZAO9D0': 1996, 'B00TZAO9DK': 1997, 'B00TZR3WRM': 1998, 'B00U10GB20': 1999, 'B00U14INHC': 2000, 'B00U2EJH3K': 2001, 'B00U2G8PUO': 2002, 'B00U3FPN4U': 2003, 'B00U43F99A': 2004, 'B00U6Y9CHW': 2005, 'B00U82O92U': 2006, 'B00U84SJRO': 2007, 'B00U87A5FU': 2008, 'B00UAA4J6G': 2009, 'B00UAILN4E': 2010, 'B00UAKWFB2': 2011, 'B00UB7ZUBG': 2012, 'B00UBNCLGC': 2013, 'B00UCUOUJK': 2014, 'B00UH4D8G2': 2015, 'B00UHIN6E2': 2016, 'B00UK0OW86': 2017, 'B00UP20VV6': 2018, 'B00UPLKF4A': 2019, 'B00UT3O46E': 2020, 'B00UTFZSXA': 2021, 'B00UVSJU4S': 2022, 'B00UVSZAA6': 2023, 'B00UVWUBKQ': 2024, 'B00UWV8JLY': 2025, 'B00UZRVY12': 2026, 'B00V0923TG': 2027, 'B00V3KLZSW': 2028, 'B00V54PYKQ': 2029, 'B00V54QDPQ': 2030, 'B00V7SFR8Y': 2031, 'B00V8VMLA2': 2032, 'B00V8VMXFU': 2033, 'B00V9FN2VY': 2034, 'B00VAGX6MW': 2035, 'B00VDVCQ84': 2036, 'B00VF4JT6G': 2037, 'B00VGVDAJU': 2038, 'B00VIZ60QY': 2039, 'B00VKIY9RG': 2040, 'B00VKLBU3Y': 2041, 'B00VMH7PQM': 2042, 'B00VMJEK2C': 2043, 'B00VMPVQDC': 2044, 'B00VNW556I': 2045, 'B00VRC6D3S': 2046, 'B00VRC6U2C': 2047, 'B00VRLUTWA': 2048, 'B00VTHAS00': 2049, 'B00VTJVJ3S': 2050, 'B00VU7PGPQ': 2051, 'B00VVWC20M': 2052, 'B00VX30760': 2053, 'B00VXS8E8S': 2054, 'B00W3BS7JU': 2055, 'B00W4RLE48': 2056, 'B00W4TKYCO': 2057, 'B00W4XM9CI': 2058, 'B00W4YBO1Y': 2059, 'B00W5Q06VU': 2060, 'B00W9FLKTY': 2061, 'B00WAG0WIM': 2062, 'B00WBD91L8': 2063, 'B00WCIIQOK': 2064, 'B00WCIIQVI': 2065, 'B00WECRAF0': 2066, 'B00WF78GS4': 2067, 'B00WIF2T7C': 2068, 'B00WIUIVJM': 2069, 'B00WJE31QK': 2070, 'B00WKRZSEO': 2071, 'B00WMFR5PY': 2072, 'B00WMLOQEG': 2073, 'B00WMLUZJ6': 2074, 'B00WMM3ZC4': 2075, 'B00WMM48Q6': 2076, 'B00WMWYUN2': 2077, 'B00WO9BR20': 2078, 'B00WQG6A8C': 2079, 'B00WRDS0AU': 2080, 'B00WSLWEQC': 2081, 'B00WSLWRAA': 2082, 'B00WSLYQ7C': 2083, 'B00WSLZFTK': 2084, 'B00WSM6W8W': 2085, 'B00WU0KVV6': 2086, 'B00WU0PYXG': 2087, 'B00WU2Y7PU': 2088, 'B00WU374RM': 2089, 'B00WU38N6I': 2090, 'B00WUI07XK': 2091, 'B00WUI0WOY': 2092, 'B00WUI2L5M': 2093, 'B00WUI38F4': 2094, 'B00WUI3O2Q': 2095, 'B00WUI3UNY': 2096, 'B00WUI4OWA': 2097, 'B00WUI53BG': 2098, 'B00WUI6D9C': 2099, 'B00WUI6HOS': 2100, 'B00WUI7VC0': 2101, 'B00WUI7ZNA': 2102, 'B00WUI8JN0': 2103, 'B00WUI8VYW': 2104, 'B00WUI8ZWA': 2105, 'B00WUI9MUE': 2106, 'B00WUIAPD2': 2107, 'B00WUIB9F0': 2108, 'B00WUIBCOS': 2109, 'B00WUIC2KG': 2110, 'B00WUICQT8': 2111, 'B00WUICTXG': 2112, 'B00WUID73W': 2113, 'B00WUIDMSC': 2114, 'B00WUIDQLK': 2115, 'B00WUIEZUQ': 2116, 'B00WUIIX72': 2117, 'B00WUIKHG2': 2118, 'B00WUIKOA6': 2119, 'B00WUIKWGM': 2120, 'B00WUIL5QS': 2121, 'B00WUILUP4': 2122, 'B00WUIP7YO': 2123, 'B00WUN9PE2': 2124, 'B00WUO8PZQ': 2125, 'B00WUOEKN2': 2126, 'B00WUS1UDQ': 2127, 'B00WVSUWI4': 2128, 'B00WWI9UW2': 2129, 'B00WX5SQV0': 2130, 'B00WX8JTRC': 2131, 'B00WXIYMNI': 2132, 'B00WY654TU': 2133, 'B00WZZ5KLW': 2134, 'B00X0VL4FG': 2135, 'B00X3O9BKK': 2136, 'B00X3TUHWG': 2137, 'B00X4RA74A': 2138, 'B00X4RAEZC': 2139, 'B00X5C22SS': 2140, 'B00X5C24IQ': 2141, 'B00X5P8BJO': 2142, 'B00X7DH5GE': 2143, 'B00X7WZ9U4': 2144, 'B00X7XEN1O': 2145, 'B00XAG2C16': 2146, 'B00XAJD7NA': 2147, 'B00XBZY0EI': 2148, 'B00XEW3YD6': 2149, 'B00XF7Z5DM': 2150, 'B00XHSALN8': 2151, 'B00XHU3354': 2152, 'B00XHUI052': 2153, 'B00XI4OL82': 2154, 'B00XI4SMGO': 2155, 'B00XIBU4FO': 2156, 'B00XIIGC80': 2157, 'B00XIMJG0W': 2158, 'B00XIOUGZE': 2159, 'B00XIP7G1A': 2160, 'B00XIQFJY0': 2161, 'B00XITMC9W': 2162, 'B00XIVH2LI': 2163, 'B00XIXCDLA': 2164, 'B00XIXD5IU': 2165, 'B00XIYJ2PE': 2166, 'B00XJ4J4B0': 2167, 'B00XJ5JMHU': 2168, 'B00XJ5XP3W': 2169, 'B00XJBCPY6': 2170, 'B00XJK7F60': 2171, 'B00XJPY07M': 2172, 'B00XJTJWDU': 2173, 'B00XJU45C2': 2174, 'B00XK1TWXW': 2175, 'B00XK3QKBW': 2176, 'B00XK4J900': 2177, 'B00XK57A3W': 2178, 'B00XK68OIG': 2179, 'B00XK9ORQQ': 2180, 'B00XKEA8UU': 2181, 'B00XNQECFM': 2182, 'B00XNYXQHE': 2183, 'B00XO7AK9M': 2184, 'B00XOUCNH6': 2185, 'B00XQNGMBO': 2186, 'B00XTGX3ME': 2187, 'B00XTH0WL8': 2188, 'B00XWE00F6': 2189, 'B00Y0959EE': 2190, 'B00Y095HY6': 2191, 'B00Y20UI1K': 2192, 'B00Y3IGB62': 2193, 'B00Y3QYTS6': 2194, 'B00Y7Y15IQ': 2195, 'B00YAJOWQU': 2196, 'B00YCAZVNK': 2197, 'B00YCBLR5U': 2198, 'B00YCC5HNM': 2199, 'B00YFJT29C': 2200, 'B00YHZTWQC': 2201, 'B00YIC97VE': 2202, 'B00YIRY64W': 2203, 'B00YLIDKY0': 2204, 'B00YLIDX6K': 2205, 'B00YLM3WB2': 2206, 'B00YNI7G8O': 2207, 'B00YOX4JU6': 2208, 'B00YPATOEE': 2209, 'B00YUAT8PO': 2210, 'B00YWLJNPQ': 2211, 'B00YYDHA9S': 2212, 'B00YYZCUGO': 2213, 'B00YYZEQ1G': 2214, 'B00YZ5Q7X0': 2215, 'B00Z07KXCI': 2216, 'B00Z08KW8C': 2217, 'B00Z08TZNU': 2218, 'B00Z0V2NQ8': 2219, 'B00Z7RPY2U': 2220, 'B00Z7TLG34': 2221, 'B00ZBA3OSO': 2222, 'B00ZCFYF2W': 2223, 'B00ZELEKIS': 2224, 'B00ZI9LWS2': 2225, 'B00ZLVU4BI': 2226, 'B00ZMV7RL2': 2227, 'B00ZONG9WQ': 2228, 'B00ZVJAF9G': 2229, 'B00ZWXIB5Q': 2230, 'B0102CK1BS': 2231, 'B01054S5FM': 2232, 'B0105VDCZ8': 2233, 'B0106IS5XY': 2234, 'B0107NIB4G': 2235, 'B0107WH8Q4': 2236, 'B010BWYDYA': 2237, 'B010LHRFM2': 2238, 'B010MNFRSE': 2239, 'B010NE3QPS': 2240, 'B010NZKKZQ': 2241, 'B010O0CBHU': 2242, 'B010ORIGMM': 2243, 'B010Q29KRK': 2244, 'B010U0JHXU': 2245, 'B01133ZTQM': 2246, 'B0113JAN8K': 2247, 'B01171X0UW': 2248, 'B01179M6DQ': 2249, 'B0117U82EM': 2250, 'B01195G5FS': 2251, 'B011BIIO9I': 2252, 'B011BRUOMO': 2253, 'B011HZ2EZK': 2254, 'B011KFQASE': 2255, 'B011LZY20G': 2256, 'B011NT1ODS': 2257, 'B011T5IF06': 2258, 'B011U6ZIPO': 2259, 'B011WESR1G': 2260, 'B01251KZUQ': 2261, 'B01273JZMG': 2262, 'B012BN15LQ': 2263, 'B012BTCZ9G': 2264, 'B012F8G1DO': 2265, 'B012JXHX28': 2266, 'B012SXB6WW': 2267, 'B012SXF71I': 2268, 'B012SXFW72': 2269, 'B012T1D0IG': 2270, 'B012VIWG28': 2271, 'B012VWH6PQ': 2272, 'B012WF7ORW': 2273, 'B013ALA9LA': 2274, 'B013CCTM2E': 2275, 'B013EKI2DY': 2276, 'B013HSW4SM': 2277, 'B013I35LV8': 2278, 'B013I3HIU0': 2279, 'B013JLRWKW': 2280, 'B013JMBAMC': 2281, 'B013JMOTXO': 2282, 'B013JZCAZK': 2283, 'B013Q0CNQE': 2284, 'B013S0N2OY': 2285, 'B013TMN4GW': 2286, 'B013TPI66C': 2287, 'B0141IMD38': 2288, 'B0142FO130': 2289, 'B0144AAIWQ': 2290, 'B0144ARCNY': 2291, 'B0144K10RI': 2292, 'B0145EOFDO': 2293, 'B0148N153A': 2294, 'B0148N1COC': 2295, 'B0148NPIQK': 2296, 'B0148NPJ78': 2297, 'B014FBJMVW': 2298, 'B014FEM0X6': 2299, 'B014FEM21G': 2300, 'B014HE1WTW': 2301, 'B014LBW3TY': 2302, 'B014P3FP34': 2303, 'B014QQE0Y0': 2304, 'B014QVM2KO': 2305, 'B014R4IFO2': 2306, 'B014TUZ92U': 2307, 'B014UWIKX2': 2308, 'B014VWSLIU': 2309, 'B014W20C90': 2310, 'B014YN7LVE': 2311, 'B014ZQ07NE': 2312, 'B01522TOL6': 2313, 'B0154RZUH6': 2314, 'B0156F38LG': 2315, 'B0158SZZOY': 2316, 'B0158TUIP4': 2317, 'B01597ENBA': 2318, 'B01597GXJU': 2319, 'B015DR9JCY': 2320, 'B015GBIN4M': 2321, 'B015IK5URY': 2322, 'B015IL0FIW': 2323, 'B015ILEN80': 2324, 'B015IYIFTU': 2325, 'B015JRP4IG': 2326, 'B015MEB1G0': 2327, 'B015MEYJWS': 2328, 'B015OTEPGQ': 2329, 'B015PD3HOC': 2330, 'B015PRCBBI': 2331, 'B015PRO512': 2332, 'B015PXUHYA': 2333, 'B015SLYAO2': 2334, 'B015VPX05A': 2335, 'B015WCV70W': 2336, 'B015WV1D20': 2337, 'B015WV1HO4': 2338, 'B015XPL2JE': 2339, 'B015XPQ5KK': 2340, 'B015XPU7RC': 2341, 'B015XR60MQ': 2342, 'B015YF5YIS': 2343, 'B015ZGMSSA': 2344, 'B01611VL68': 2345, 'B01621M1S4': 2346, 'B01639694M': 2347, 'B0163JVYEW': 2348, 'B0167HG1V6': 2349, 'B0168G0KZY': 2350, 'B01690F5KO': 2351, 'B01694XMF0': 2352, 'B0169O19GY': 2353, 'B0169T94KC': 2354, 'B016B12PUE': 2355, 'B016B13U9Y': 2356, 'B016F3M7OM': 2357, 'B016I3T3CI': 2358, 'B016I4QMOE': 2359, 'B016K07YT8': 2360, 'B016K0896K': 2361, 'B016L0DRXE': 2362, 'B016MAOS5E': 2363, 'B016MK32V0': 2364, 'B016NUTG5K': 2365, 'B016PMVM7Q': 2366, 'B016QO5YNG': 2367, 'B016QO5YWC': 2368, 'B016QO64FI': 2369, 'B016UFXLKO': 2370, 'B016VF5RSM': 2371, 'B016Y8XJCW': 2372, 'B016YLV3S6': 2373, 'B0170RBJ9Q': 2374, 'B0173QNVT0': 2375, 'B01773V970': 2376, 'B0177NSA9A': 2377, 'B0177NUYIU': 2378, 'B0177Q07ES': 2379, 'B0177Q42DK': 2380, 'B0178HOTOU': 2381, 'B017DYKCNA': 2382, 'B017DYMMKG': 2383, 'B017DYNXW2': 2384, 'B017DYXNU4': 2385, 'B017EVR2VM': 2386, 'B017JEF126': 2387, 'B017JX5366': 2388, 'B017L1JOX4': 2389, 'B017LSIXDE': 2390, 'B017NL2HG8': 2391, 'B017OJEAL4': 2392, 'B017OY19TU': 2393, 'B017T99JPG': 2394, 'B017TK4H6G': 2395, 'B017V9UG6K': 2396, 'B017VSPBGQ': 2397, 'B017YOOA14': 2398, 'B0184SAWXY': 2399, 'B0185I7OD4': 2400, 'B0185M6CRE': 2401, 'B0189XYY0Q': 2402, 'B018AAL1PY': 2403, 'B018H3B280': 2404, 'B018JYHBE6': 2405, 'B018K6DJAI': 2406, 'B018LVN8B2': 2407, 'B018LWW5PQ': 2408, 'B018Q3HEVU': 2409, 'B018SZT3BK': 2410, 'B018TX8IDA': 2411, 'B018U5NVNY': 2412, 'B018Y226XO': 2413, 'B018Y22C2Y': 2414, 'B0192911RA': 2415, 'B0192LPK5M': 2416, 'B0194JXWXO': 2417, 'B0199HAOAU': 2418, 'B0199TGZFQ': 2419, 'B019C7RYL4': 2420, 'B019DB5QQ4': 2421, 'B019ERMS90': 2422, 'B019F69V40': 2423, 'B019G7VPTC': 2424, 'B019GSZ6FK': 2425, 'B019GXCWMU': 2426, 'B019H0RE3O': 2427, 'B019H0RHE0': 2428, 'B019HRQNYI': 2429, 'B019IJONL0': 2430, 'B019KTWGMG': 2431, 'B019LR364O': 2432, 'B019MMRV1M': 2433, 'B019NLUPQ0': 2434, 'B019OB663A': 2435, 'B019RC1EI8': 2436, 'B019SU6YA2': 2437, 'B019TTJHCO': 2438, 'B019Z9VB22': 2439, 'B019ZY1ZWS': 2440, 'B01A08E70K': 2441, 'B01A0MTS3W': 2442, 'B01A6NLBQW': 2443, 'B01A8KBCX0': 2444, 'B01AAF8HVI': 2445, 'B01AG56HYQ': 2446, 'B01AI2YGK4': 2447, 'B01AKSJUH0': 2448, 'B01ANJRFX2': 2449, 'B01AOODE18': 2450, 'B01ARN28SQ': 2451, 'B01AS57B0I': 2452, 'B01ASSCPYC': 2453, 'B01AT23UGE': 2454, 'B01AUR77FI': 2455, 'B01AWBA8U8': 2456, 'B01AZC3J3M': 2457, 'B01AZC4NHS': 2458, 'B01B1B67RG': 2459, 'B01B1G2QBC': 2460, 'B01B1QBK78': 2461, 'B01B3934OA': 2462, 'B01B448PBG': 2463, 'B01B6KE5MG': 2464, 'B01B74OHU6': 2465, 'B01BCJC9CE': 2466, 'B01BCWKBZI': 2467, 'B01BDX1IVW': 2468, 'B01BE990XI': 2469, 'B01BFIBRIE': 2470, 'B01BH5TLK6': 2471, 'B01BH83OOM': 2472, 'B01BHLK0MS': 2473, 'B01BNKD0IO': 2474, 'B01BRWH8G8': 2475, 'B01BUMADSK': 2476, 'B01BVM77B0': 2477, 'B01BWE9GOI': 2478, 'B01BXYZ6G4': 2479, 'B01C3ZKJYQ': 2480, 'B01C4UY0JK': 2481, 'B01C4W2P18': 2482, 'B01C5JZ3QY': 2483, 'B01C6032G0': 2484, 'B01C6AVXKW': 2485, 'B01C6EN23O': 2486, 'B01C6EQNNK': 2487, 'B01C6ESQM6': 2488, 'B01C6EY9WW': 2489, 'B01C6FFNY4': 2490, 'B01C6Q2GSY': 2491, 'B01C7HZ47M': 2492, 'B01C8K7YNA': 2493, 'B01C9U3XI4': 2494, 'B01CA6DXKK': 2495, 'B01CCMUN8C': 2496, 'B01CEC7R5C': 2497, 'B01CFNURKW': 2498, 'B01CGXL2UK': 2499, 'B01CH8ZNJ0': 2500, 'B01CL2OEL0': 2501, 'B01CL4CUI2': 2502, 'B01CRA11IU': 2503, 'B01CRA4L9G': 2504, 'B01CRA9GU0': 2505, 'B01CVOLVPA': 2506, 'B01CW4AR9K': 2507, 'B01CW4BG4K': 2508, 'B01CW4BLG8': 2509, 'B01CW4BN5M': 2510, 'B01CZELIA4': 2511, 'B01CZKJW1A': 2512, 'B01D1EYS6I': 2513, 'B01D1EZIXA': 2514, 'B01D3NY9D4': 2515, 'B01D3QZ8EK': 2516, 'B01D4HTIOY': 2517, 'B01D5H8N8K': 2518, 'B01D92SSX6': 2519, 'B01DA0YCNC': 2520, 'B01DBEFRU4': 2521, 'B01DBGVB7K': 2522, 'B01DDIAX1Q': 2523, 'B01DE4CZJM': 2524, 'B01DEDDBRI': 2525, 'B01DFKBI6G': 2526, 'B01DFKC6CQ': 2527, 'B01DK1PULO': 2528, 'B01DK42Y6A': 2529, 'B01DKA81PW': 2530, 'B01DLKRLAW': 2531, 'B01DLLU13U': 2532, 'B01DLWBPCA': 2533, 'B01DMHPT3U': 2534, 'B01DMLPFG2': 2535, 'B01DMNQ9YC': 2536, 'B01DN7OJ30': 2537, 'B01DO07QK4': 2538, 'B01DOB6Y5Q': 2539, 'B01DOB6YQA': 2540, 'B01DOB6YW4': 2541, 'B01DQKRZF8': 2542, 'B01DR4T73Q': 2543, 'B01DRWCOGA': 2544, 'B01DU67QZM': 2545, 'B01DUF3UVC': 2546, 'B01DW1XOCY': 2547, 'B01DZS9UB8': 2548, 'B01E0Z7RN8': 2549, 'B01E3QM34W': 2550, 'B01E550IKM': 2551, 'B01E6MTP0S': 2552, 'B01E76S2TI': 2553, 'B01E9AHU8Q': 2554, 'B01EF9OI0O': 2555, 'B01EFPX9XA': 2556, 'B01EKKVO3W': 2557, 'B01EL0GY1S': 2558, 'B01EL4PVFE': 2559, 'B01EL7VTC0': 2560, 'B01ELRRKW8': 2561, 'B01EMNIFQQ': 2562, 'B01EMQ00UM': 2563, 'B01EN1PI8K': 2564, 'B01ENBNAWG': 2565, 'B01ENXMJ6M': 2566, 'B01EO5A3RQ': 2567, 'B01EOHX66O': 2568, 'B01ETRH0AM': 2569, 'B01EUC7NPI': 2570, 'B01EW098XS': 2571, 'B01EW18YQE': 2572, 'B01EWOE0UU': 2573, 'B01F52ZPBQ': 2574, 'B01F9RGJJO': 2575, 'B01F9RH0R4': 2576, 'B01FD8YJB4': 2577, 'B01FFFHDKO': 2578, 'B01FKLDCTY': 2579, 'B01FKSEL9M': 2580, 'B01FMOGIEK': 2581, 'B01FNAFLZA': 2582, 'B01FU08V64': 2583, 'B01FV93MV8': 2584, 'B01FVDTA0G': 2585, 'B01FWNEUIM': 2586, 'B01FWT4V12': 2587, 'B01FXPYXCW': 2588, 'B01G05YFZY': 2589, 'B01G2O77VC': 2590, 'B01G3FXMN2': 2591, 'B01G3FXX1I': 2592, 'B01G3J1I5M': 2593, 'B01G69E69E': 2594, 'B01G6KC15E': 2595, 'B01G8JO5F2': 2596, 'B01G9MNH6Q': 2597, 'B01GDIUA8Y': 2598, 'B01GDTAGJQ': 2599, 'B01GE19HMK': 2600, 'B01GF0KV6G': 2601, 'B01GF5ACUG': 2602, 'B01GFJNIKS': 2603, 'B01GG7EN6W': 2604, 'B01GHF5VS2': 2605, 'B01GIL6EU4': 2606, 'B01GJ3TPCU': 2607, 'B01GOAVEZY': 2608, 'B01GPAOJJG': 2609, 'B01GR12G9S': 2610, 'B01GR95HTQ': 2611, 'B01GTH5Z3E': 2612, 'B01GUIEFJC': 2613, 'B01GW1GO7S': 2614, 'B01GW7YJTC': 2615, 'B01H355BGM': 2616, 'B01H3I539E': 2617, 'B01H3LBIVS': 2618, 'B01H3LM75O': 2619, 'B01H8SKNQM': 2620, 'B01H9QMOMY': 2621, 'B01HCGVY1S': 2622, 'B01HCHVUOS': 2623, 'B01HDC21FE': 2624, 'B01HEIW10C': 2625, 'B01HEW1KTG': 2626, 'B01HEW2C9I': 2627, 'B01HFKDJAA': 2628, 'B01HHURN3W': 2629, 'B01HJ3JYMU': 2630, 'B01HJEDEIO': 2631, 'B01HLSMVTQ': 2632, 'B01HO5P0R6': 2633, 'B01HQCF6R6': 2634, 'B01HR9VS4I': 2635, 'B01HRIB0V0': 2636, 'B01HRPQKN6': 2637, 'B01HRVABD0': 2638, 'B01HSW9NCS': 2639, 'B01HSXI1DO': 2640, 'B01HVHIZFG': 2641, 'B01HXYNYUS': 2642, 'B01I01QLTE': 2643, 'B01I01Z1M2': 2644, 'B01I09WHLW': 2645, 'B01I0VD8JA': 2646, 'B01I2JJ7BI': 2647, 'B01I4TE612': 2648, 'B01I97QOKU': 2649, 'B01I9B3404': 2650, 'B01IDA4G3K': 2651, 'B01IEKG402': 2652, 'B01IEKG4NE': 2653, 'B01IEU7UZ0': 2654, 'B01IEXUS9W': 2655, 'B01IJT0N50': 2656, 'B01IK58RZ6': 2657, 'B01IQD9K5I': 2658, 'B01IQEAEDY': 2659, 'B01IQEJBNS': 2660, 'B01ISM267G': 2661, 'B01ITOEQT4': 2662, 'B01ITOESHY': 2663, 'B01ITOFEX6': 2664, 'B01IU9UMVY': 2665, 'B01IUDUJE0': 2666, 'B01IUO068S': 2667, 'B01J1YUH3U': 2668, 'B01J2G4VBG': 2669, 'B01J2W4JUI': 2670, 'B01J3GG82U': 2671, 'B01J5RH06K': 2672, 'B01J5RHBQ4': 2673, 'B01J5RHD58': 2674, 'B01J94SBEY': 2675, 'B01J94SCAM': 2676, 'B01J94SWWU': 2677, 'B01J94T4R2': 2678, 'B01JAGMI7M': 2679, 'B01JFSW0UK': 2680, 'B01JGBIFGO': 2681, 'B01JGBVRE6': 2682, 'B01JGHAX5O': 2683, 'B01JGHAYIU': 2684, 'B01JGT2JI6': 2685, 'B01JPDTZXK': 2686, 'B01JS6QHWQ': 2687, 'B01JW0ASNW': 2688, 'B01JZ8Z7C8': 2689, 'B01JZ8ZAXO': 2690, 'B01JZ8ZID6': 2691, 'B01K1IO3QW': 2692, 'B01K3ZR0RC': 2693, 'B01K8B8YA8': 2694, 'B01K9KW9A4': 2695, 'B01K9KWA3U': 2696, 'B01KBEOL5E': 2697, 'B01KBQ25SW': 2698, 'B01KICHFQQ': 2699, 'B01KIHMHBO': 2700, 'B01KIOU214': 2701, 'B01KIOU4EO': 2702, 'B01KNFEOX0': 2703, 'B01KPG6BLK': 2704, 'B01KSTSV76': 2705, 'B01KT301YC': 2706, 'B01KUXVKK0': 2707, 'B01KXWIHZY': 2708, 'B01KY7W4Y8': 2709, 'B01L38MEEC': 2710, 'B01L3VEC08': 2711, 'B01L3VEC94': 2712, 'B01L8GG6PW': 2713, 'B01L8LLP2G': 2714, 'B01L8P11LC': 2715, 'B01L9L685O': 2716, 'B01L9O07FS': 2717, 'B01LA5B0W0': 2718, 'B01LAWOYE4': 2719, 'B01LAYSXYE': 2720, 'B01LF37K80': 2721, 'B01LFXQ01I': 2722, 'B01LLANEAU': 2723, 'B01LNA0XCU': 2724, 'B01LNJBA2I': 2725, 'B01LPJSV96': 2726, 'B01LVVG5XS': 2727, 'B01LW2YJRG': 2728, 'B01LW71IBJ': 2729, 'B01LW7ZQCT': 2730, 'B01LW95DWF': 2731, 'B01LW9B75D': 2732, 'B01LWPGB6C': 2733, 'B01LWRTRZU': 2734, 'B01LWX4JJH': 2735, 'B01LX3VDXT': 2736, 'B01LX4CG4N': 2737, 'B01LX4TJY1': 2738, 'B01LXC2329': 2739, 'B01LXDZ8WB': 2740, 'B01LXHZLY7': 2741, 'B01LXJA5JD': 2742, 'B01LXJFMGF': 2743, 'B01LXKQ07C': 2744, 'B01LXN6QE2': 2745, 'B01LXOT3DN': 2746, 'B01LXUZPQU': 2747, 'B01LY54Q7R': 2748, 'B01LYHE511': 2749, 'B01LYHEC16': 2750, 'B01LZ1UKS5': 2751, 'B01LZDH2T9': 2752, 'B01LZHRYJS': 2753, 'B01LZJG4F0': 2754, 'B01LZTMML7': 2755, 'B01LZV6TYQ': 2756, 'B01M0CP2ZG': 2757, 'B01M0GB8CC': 2758, 'B01M0SFMIH': 2759, 'B01M0SN42N': 2760, 'B01M12RE4A': 2761, 'B01M15WH9C': 2762, 'B01M1OGKBK': 2763, 'B01M1OZGUV': 2764, 'B01M2AJZ5P': 2765, 'B01M2W9KS4': 2766, 'B01M3575QC': 2767, 'B01M357WMG': 2768, 'B01M3PQKN6': 2769, 'B01M3ULMWP': 2770, 'B01M3Y66CY': 2771, 'B01M4NU4OM': 2772, 'B01M4OOY4U': 2773, 'B01M5845U8': 2774, 'B01M70M9QT': 2775, 'B01M7NCT5O': 2776, 'B01M7NFWQ5': 2777, 'B01M7O2MZ7': 2778, 'B01M7VOJFW': 2779, 'B01M7WS2VR': 2780, 'B01M8L8SOB': 2781, 'B01MA1MJ6H': 2782, 'B01MDKJXCH': 2783, 'B01MDNPKNT': 2784, 'B01MFCFKG5': 2785, 'B01MFX5ZK1': 2786, 'B01MG4DIDO': 2787, 'B01MG8HV3L': 2788, 'B01MQ1YEYH': 2789, 'B01MQFY948': 2790, 'B01MQGLIKL': 2791, 'B01MQGMSVQ': 2792, 'B01MQHCN8R': 2793, 'B01MQIEUG8': 2794, 'B01MQJ2XE6': 2795, 'B01MQMJFDK': 2796, 'B01MQPMLBR': 2797, 'B01MQWUXZS': 2798, 'B01MR1X6ZU': 2799, 'B01MRQKP88': 2800, 'B01MRYSEG0': 2801, 'B01MS1PMML': 2802, 'B01MS84IIF': 2803, 'B01MSNCDTA': 2804, 'B01MSTB5KW': 2805, 'B01MSTHCDX': 2806, 'B01MSUWCZ0': 2807, 'B01MSZRFML': 2808, 'B01MT0TJOM': 2809, 'B01MTDB1GJ': 2810, 'B01MTF2Z37': 2811, 'B01MTONBI1': 2812, 'B01MTY7MSK': 2813, 'B01MUBG2CR': 2814, 'B01MUD2CEB': 2815, 'B01MUGQA4A': 2816, 'B01MUXYVOA': 2817, 'B01MV2YGRR': 2818, 'B01MXI561P': 2819, 'B01MXKJC4M': 2820, 'B01MXMETD0': 2821, 'B01MXSLM3Z': 2822, 'B01MXXQKGM': 2823, 'B01MY48T0O': 2824, 'B01MYEHP5K': 2825, 'B01MYMMZS1': 2826, 'B01MZ3Z5TD': 2827, 'B01MZGMCF1': 2828, 'B01MZGZYSB': 2829, 'B01MZYDZUI': 2830, 'B01N075VU6': 2831, 'B01N07VKIK': 2832, 'B01N0H8WUZ': 2833, 'B01N0RSB09': 2834, 'B01N0VNIA9': 2835, 'B01N11XYYF': 2836, 'B01N183L5E': 2837, 'B01N1H6MS0': 2838, 'B01N1K0KZF': 2839, 'B01N1X28F1': 2840, 'B01N22LFPL': 2841, 'B01N24N9TH': 2842, 'B01N27P7ME': 2843, 'B01N2MYHIZ': 2844, 'B01N44JBS4': 2845, 'B01N4NS31O': 2846, 'B01N4P5SQ3': 2847, 'B01N4V4X5M': 2848, 'B01N51S7W1': 2849, 'B01N58WYS7': 2850, 'B01N5G5PG2': 2851, 'B01N5HB4U5': 2852, 'B01N5VB7QC': 2853, 'B01N6DC2ZE': 2854, 'B01N6RTS2B': 2855, 'B01N6VH0DA': 2856, 'B01N74NHXW': 2857, 'B01N75TWSA': 2858, 'B01N78T39B': 2859, 'B01N7RFDBA': 2860, 'B01N7RS0NG': 2861, 'B01N7SX2LD': 2862, 'B01N7U1UXQ': 2863, 'B01N8ROH7G': 2864, 'B01N987LAZ': 2865, 'B01N9EX0YR': 2866, 'B01N9FY70C': 2867, 'B01N9K9XOF': 2868, 'B01N9O3UTF': 2869, 'B01NAHJDYK': 2870, 'B01NAHJFI0': 2871, 'B01NAJ9XXG': 2872, 'B01NBJW3T5': 2873, 'B01NBTFNVA': 2874, 'B01NCNVXVI': 2875, 'B01ND0UV73': 2876, 'B06VT865HB': 2877, 'B06VTJWRJW': 2878, 'B06VX1PKQ7': 2879, 'B06VX1YGQX': 2880, 'B06W2PMP6C': 2881, 'B06W568Y6C': 2882, 'B06WD843ZM': 2883, 'B06WGL8X4D': 2884, 'B06WLM7RDQ': 2885, 'B06WP2ZT5N': 2886, 'B06WVGWWTR': 2887, 'B06X3SGR9Q': 2888, 'B06X3V98WV': 2889, 'B06X3WGFGK': 2890, 'B06X9FX834': 2891, 'B06X9FZNCF': 2892, 'B06XD5H7BF': 2893, 'B06XD5YCKX': 2894, 'B06XD6NWH8': 2895, 'B06XDYGD7W': 2896, 'B06XF7JBZ6': 2897, 'B06XG8Q4Z1': 2898, 'B06XGJVHV8': 2899, 'B06XGV4QXP': 2900, 'B06XH99NWW': 2901, 'B06XHWWJRW': 2902, 'B06XHXRXP1': 2903, 'B06XK9SPKC': 2904, 'B06XKCPK5W': 2905, 'B06XKM77TP': 2906, 'B06XKPQ6YZ': 2907, 'B06XKRXLDR': 2908, 'B06XL1GKRV': 2909, 'B06XNZJTGD': 2910, 'B06XRG9QDV': 2911, 'B06XRTFG29': 2912, 'B06XSBDQTN': 2913, 'B06XSGYL1Q': 2914, 'B06XSJV5B9': 2915, 'B06XSPNJF8': 2916, 'B06XSX2DYR': 2917, 'B06XT1BD3X': 2918, 'B06XTQ2QHF': 2919, 'B06XTXQ5V6': 2920, 'B06XWW5V91': 2921, 'B06XX29S9Q': 2922, 'B06XY1YTMJ': 2923, 'B06Y13JD9F': 2924, 'B06Y1J7WCC': 2925, 'B06Y2VP3C7': 2926, 'B06Y3M8CGQ': 2927, 'B06Y4B436D': 2928, 'B06Y5JVSMZ': 2929, 'B06Y5WDVV3': 2930, 'B06Y63W4SZ': 2931, 'B06ZXR7646': 2932, 'B06ZXY7XP9': 2933, 'B06ZY5GMN9': 2934, 'B06ZYJD13N': 2935, 'B06ZYSMKJ4': 2936, 'B06ZZ3NS5F': 2937, 'B06ZZB62XM': 2938, 'B06ZZCZS7R': 2939, 'B06ZZD1WGJ': 2940, 'B06ZZD3LF4': 2941, 'B06ZZD4P5X': 2942, 'B06ZZY14LK': 2943, 'B07116896T': 2944, 'B0711S7MJW': 2945, 'B07121TS59': 2946, 'B0713RRZMB': 2947, 'B0716CT9FS': 2948, 'B0716DTKXH': 2949, 'B07193SG3D': 2950, 'B0719KZW4L': 2951, 'B0719SNR5N': 2952, 'B071D41YC3': 2953, 'B071DWXLYL': 2954, 'B071FC3F3Z': 2955, 'B071FXZBMV': 2956, 'B071GNH9MT': 2957, 'B071HVYGNJ': 2958, 'B071J3PFJJ': 2959, 'B071J9GQP8': 2960, 'B071JN3KYN': 2961, 'B071JN4FW6': 2962, 'B071JY6ZYN': 2963, 'B071KP1SC8': 2964, 'B071KYY5K4': 2965, 'B071NM2P9W': 2966, 'B071P26PBW': 2967, 'B071P85SGX': 2968, 'B071R715MZ': 2969, 'B071V7SV6P': 2970, 'B071VCKPX6': 2971, 'B071WK17VV': 2972, 'B071WL63HB': 2973, 'B071WLPRHN': 2974, 'B071X8NZF8': 2975, 'B071XTGHFT': 2976, 'B071XXTTZ1': 2977, 'B071Y2SG3R': 2978, 'B071YPNMN1': 2979, 'B071ZFR7G2': 2980, 'B071ZN5PSS': 2981, 'B0721KR152': 2982, 'B0721MP41Q': 2983, 'B0721PM15W': 2984, 'B072281YD5': 2985, 'B0723D3FVL': 2986, 'B0725QJM6X': 2987, 'B0728GY2VR': 2988, 'B072BW91HP': 2989, 'B072C4KCQH': 2990, 'B072C73PK3': 2991, 'B072FBN83F': 2992, 'B072FHJVT2': 2993, 'B072FPNGZB': 2994, 'B072FPS5TC': 2995, 'B072JJFVJG': 2996, 'B072JW9LT8': 2997, 'B072KGYYKX': 2998, 'B072M34RQC': 2999, 'B072MKFNV6': 3000, 'B072ML61NW': 3001, 'B072MRBQQH': 3002, 'B072QLXK2T': 3003, 'B07319K943': 3004, 'B07324B77V': 3005, 'B0732QMQTC': 3006, 'B0739GSKV2': 3007, 'B073CTNHTH': 3008, 'B073GZBT36': 3009, 'B073J7KY1P': 3010, 'B073JWXGNT': 3011, 'B073JYC4XM': 3012, 'B073QX1ZMS': 3013, 'B073QZBD67': 3014, 'B073R52Y2H': 3015, 'B073SDH8KV': 3016, 'B073V2LY6B': 3017, 'B073VC4KGT': 3018, 'B073VMG4FN': 3019, 'B0741WGQ36': 3020, 'B07424N1SX': 3021, 'B0742J69SQ': 3022, 'B07454F4JH': 3023, 'B07456BG8N': 3024, 'B07458MP46': 3025, 'B07465WLVF': 3026, 'B0746MDWH9': 3027, 'B0748KYTZN': 3028, 'B0749T64G8': 3029, 'B074CPK9SB': 3030, 'B074DXQ5VL': 3031, 'B074F3M2W8': 3032, 'B074F3YW3R': 3033, 'B074G2SGPW': 3034, 'B074G884PQ': 3035, 'B074HLGLFT': 3036, 'B074HVY1GR': 3037, 'B074JKT894': 3038, 'B074JT3698': 3039, 'B074KBWL9J': 3040, 'B074KTJJ34': 3041, 'B074N81CZN': 3042, 'B074P4MG1Q': 3043, 'B074PN4P1Q': 3044, 'B074PP3ZPF': 3045, 'B074RNRM2B': 3046, 'B074TC662N': 3047, 'B074TMJ44M': 3048, 'B074V9XVZC': 3049, 'B074VF5N14': 3050, 'B074VMZ8JB': 3051, 'B074W2JMS6': 3052, 'B074WX654Z': 3053, 'B074ZN2FD1': 3054, 'B0751RYDQR': 3055, 'B07532HKWG': 3056, 'B07538T649': 3057, 'B0753CSBW1': 3058, 'B0753G7SJ5': 3059, 'B0753GNMW2': 3060, 'B0753P1GTS': 3061, 'B0753R2TWC': 3062, 'B0753R71ZH': 3063, 'B075425VZD': 3064, 'B0755KJ56W': 3065, 'B0755MYGW5': 3066, 'B0756HHHL2': 3067, 'B0756T7R5T': 3068, 'B0758P2VDP': 3069, 'B075B5T7L5': 3070, 'B075GD32WY': 3071, 'B075GYWPCJ': 3072, 'B075JB46XP': 3073, 'B075JZNHTD': 3074, 'B075K89NTR': 3075, 'B075KP9XHS': 3076, 'B075KZTN4J': 3077, 'B075LX7S6B': 3078, 'B075M6275Q': 3079, 'B075NRX6NR': 3080, 'B075NTQJ3D': 3081, 'B075NWYMRY': 3082, 'B075PW9M54': 3083, 'B075Q4WSXD': 3084, 'B075QC3TZY': 3085, 'B075RJS55D': 3086, 'B075SS891V': 3087, 'B075WXCSKG': 3088, 'B075X8471B': 3089, 'B075XMZMWY': 3090, 'B075XN1NZC': 3091, 'B075Y8QZYQ': 3092, 'B075YHVB7Y': 3093, 'B0762QT7S6': 3094, 'B07631T31N': 3095, 'B07647T8NX': 3096, 'B0764DQM28': 3097, 'B0764WCXCV': 3098, 'B0765YZMVY': 3099, 'B0765ZQJPK': 3100, 'B076671MC7': 3101, 'B076919RKR': 3102, 'B0769GMV9Y': 3103, 'B076B6HGNQ': 3104, 'B076DFGKCB': 3105, 'B076FCC6R3': 3106, 'B076GVVB6R': 3107, 'B076H6MYLW': 3108, 'B076HQPDRF': 3109, 'B076JDXPRG': 3110, 'B076K6QXF5': 3111, 'B076Q5K54R': 3112, 'B076V5CGJ4': 3113, 'B076X3TTMK': 3114, 'B076XFGK32': 3115, 'B076ZWHVG4': 3116, 'B07718V6S8': 3117, 'B0771VF9TJ': 3118, 'B07725JKKY': 3119, 'B0772Y1FVD': 3120, 'B0773ZPKS2': 3121, 'B0774RGDT5': 3122, 'B0774SWV7V': 3123, 'B0777KG1K2': 3124, 'B0777SJZ55': 3125, 'B07783VF16': 3126, 'B0778ZRVGJ': 3127, 'B0779V61XB': 3128, 'B077BB9QZW': 3129, 'B077BQL5G2': 3130, 'B077D5MC5M': 3131, 'B077P2ZX8X': 3132, 'B077Q9DVXJ': 3133, 'B077QGS9C6': 3134, 'B077RKPYCS': 3135, 'B077S54BMP': 3136, 'B077SCPGGL': 3137, 'B077SF8KMG': 3138, 'B077SMC7TN': 3139, 'B077T4G4PX': 3140, 'B077T6JB31': 3141, 'B077TDPVB6': 3142, 'B077TPFXZV': 3143, 'B077TPNHYM': 3144, 'B077V2BF3C': 3145, 'B077W8JVFY': 3146, 'B077XGL4PG': 3147, 'B077XJB1Z8': 3148, 'B077XNZV1S': 3149, 'B077Y84XBW': 3150, 'B077Y93YRR': 3151, 'B077YBMN1X': 3152, 'B077ZT29P2': 3153, 'B077ZVBJH2': 3154, 'B078162HNC': 3155, 'B0781J8WKW': 3156, 'B0781VC53L': 3157, 'B0781VN7W5': 3158, 'B07837W5NX': 3159, 'B0784SY515': 3160, 'B0785NMZFJ': 3161, 'B07864XM91': 3162, 'B0787HCKR2': 3163, 'B0787JNNXH': 3164, 'B078872GWH': 3165, 'B07889L6QH': 3166, 'B07894K3N5': 3167, 'B078CQSHDV': 3168, 'B078GM723Q': 3169, 'B078GWJ44Z': 3170, 'B078H4YD2L': 3171, 'B078HXF9H2': 3172, 'B078L5WKW3': 3173, 'B078LZYCBV': 3174, 'B078MW9GC6': 3175, 'B078PJX6ZJ': 3176, 'B078STRHBX': 3177, 'B078TMMDZZ': 3178, 'B078VBSDVQ': 3179, 'B078WMQ9VV': 3180, 'B078XDLDNM': 3181, 'B078YKTWV6': 3182, 'B078YN3VW8': 3183, 'B078YR2MTF': 3184, 'B0791SG138': 3185, 'B0791T9CV7': 3186, 'B0791TD73N': 3187, 'B0791TX5P5': 3188, 'B0791W7C8Z': 3189, 'B0791W7C9V': 3190, 'B07925B8PD': 3191, 'B07927MYHY': 3192, 'B0792GCG6X': 3193, 'B0792GSLTF': 3194, 'B0792K2BK6': 3195, 'B0792MJL1B': 3196, 'B0793QFP69': 3197, 'B0794QQCSS': 3198, 'B07953S2FD': 3199, 'B0795DP124': 3200, 'B07961C64Q': 3201, 'B0797LQT4V': 3202, 'B0798KX9VM': 3203, 'B0798VJN3Z': 3204, 'B079BZQ987': 3205, 'B079C7QGNY': 3206, 'B079D3DBNM': 3207, 'B079LNWB52': 3208, 'B079MRJHSD': 3209, 'B079P4J5TQ': 3210, 'B079PBR4VV': 3211, 'B079PG7JPP': 3212, 'B079QH5KW1': 3213, 'B079QPT28R': 3214, 'B079TGL2BZ': 3215, 'B079TXVL1W': 3216, 'B079VHLF8Y': 3217, 'B079VT3BDG': 3218, 'B079YGGXZR': 3219, 'B079Z981R2': 3220, 'B079ZNSHDN': 3221, 'B07B1NLJCF': 3222, 'B07B2TBQ56': 3223, 'B07B475HW6': 3224, 'B07B4P7CXS': 3225, 'B07B5FB67N': 3226, 'B07B6L2QCF': 3227, 'B07B6N2RVC': 3228, 'B07B6NM5MH': 3229, 'B07B8VKGLG': 3230, 'B07B9R67WR': 3231, 'B07BDR5PDW': 3232, 'B07BF9DLSJ': 3233, 'B07BFRHZLB': 3234, 'B07BHHB5RH': 3235, 'B07BHKZX6V': 3236, 'B07BHPX7B1': 3237, 'B07BHXYJXB': 3238, 'B07BKS5BY4': 3239, 'B07BLKHQK6': 3240, 'B07BM9DS5S': 3241, 'B07BMJH2XF': 3242, 'B07BMNKYYN': 3243, 'B07BMVY2JG': 3244, 'B07BMZ7H6R': 3245, 'B07BN1F7CX': 3246, 'B07BN3MLNR': 3247, 'B07BND69JJ': 3248, 'B07BNQ321S': 3249, 'B07BP1222X': 3250, 'B07BPKL2D2': 3251, 'B07BR8DXQJ': 3252, 'B07BRQPVFZ': 3253, 'B07BSJCMGS': 3254, 'B07BSVLHYD': 3255, 'B07BT6TH6X': 3256, 'B07BTHNW9W': 3257, 'B07BTLS3R8': 3258, 'B07BTS2KWK': 3259, 'B07BV5VMDS': 3260, 'B07BV97DCH': 3261, 'B07BW18XZP': 3262, 'B07BW1CNHM': 3263, 'B07BWBN5PP': 3264, 'B07BX4X77P': 3265, 'B07BXD6MB4': 3266, 'B07BXX3V3L': 3267, 'B07BYJ66FQ': 3268, 'B07BYR66X6': 3269, 'B07BZFJJNK': 3270, 'B07C1263TQ': 3271, 'B07C14ZM17': 3272, 'B07C1DGWHH': 3273, 'B07C1DJDSV': 3274, 'B07C1M321K': 3275, 'B07C1RSV9C': 3276, 'B07C28CWZD': 3277, 'B07C34VGKR': 3278, 'B07C3KCZML': 3279, 'B07C3W6DFP': 3280, 'B07C44Y1HV': 3281, 'B07C4J5718': 3282, 'B07C512D9Q': 3283, 'B07C54DVHR': 3284, 'B07C56JTN7': 3285, 'B07C5QRJZD': 3286, 'B07C5VG64V': 3287, 'B07C5WBKWF': 3288, 'B07C8KPPH9': 3289, 'B07C8KVP9F': 3290, 'B07C9C7N4G': 3291, 'B07C9FDHMW': 3292, 'B07C9H4JY8': 3293, 'B07CB1MGMZ': 3294, 'B07CB22VVJ': 3295, 'B07CBSSNXG': 3296, 'B07CCGSBM2': 3297, 'B07CCMYK16': 3298, 'B07CCZLJWP': 3299, 'B07CG2PGY6': 3300, 'B07CGB33W9': 3301, 'B07CGK4L9F': 3302, 'B07CH2V7WM': 3303, 'B07CH47861': 3304, 'B07CH7916H': 3305, 'B07CHXLSR7': 3306, 'B07CJ2Z4DZ': 3307, 'B07CJ7MBWL': 3308, 'B07CJYMRWM': 3309, 'B07CK7LG51': 3310, 'B07CKD3MD9': 3311, 'B07CKMGV8Z': 3312, 'B07CLBNM1C': 3313, 'B07CLK2XVV': 3314, 'B07CLWCVY4': 3315, 'B07CMBQFQL': 3316, 'B07CMFMQM7': 3317, 'B07CML419K': 3318, 'B07CMSMD5P': 3319, 'B07CMXS5FP': 3320, 'B07CN3RVTF': 3321, 'B07CN8LYFJ': 3322, 'B07CP3K5NP': 3323, 'B07CPL8QQ8': 3324, 'B07CQDHPFT': 3325, 'B07CQFHHK7': 3326, 'B07CQMZVZ6': 3327, 'B07CQP7P2S': 3328, 'B07CRD232T': 3329, 'B07CRF3PYW': 3330, 'B07CRQDTKM': 3331, 'B07CRSK5DM': 3332, 'B07CRW9JFS': 3333, 'B07CTR53KF': 3334, 'B07CVS184V': 3335, 'B07CVVP5X8': 3336, 'B07CWQ6WCX': 3337, 'B07CY7NLNN': 3338, 'B07CYJRCKH': 3339, 'B07CZ2PZJM': 3340, 'B07CZ4X3VM': 3341, 'B07CZ6DCZ7': 3342, 'B07D18BQ9S': 3343, 'B07D1XGQHJ': 3344, 'B07D3WRJ2K': 3345, 'B07D4734HR': 3346, 'B07D48JV9T': 3347, 'B07D4F2P26': 3348, 'B07D4FQB8S': 3349, 'B07D4Z36V8': 3350, 'B07D581GYH': 3351, 'B07D5CGJCM': 3352, 'B07D6L7N1G': 3353, 'B07D81YXPH': 3354, 'B07D8GPPKR': 3355, 'B07D8JK4HM': 3356, 'B07D9Y6SRJ': 3357, 'B07DBYS7DG': 3358, 'B07DC3TSMZ': 3359, 'B07DC4PZC4': 3360, 'B07DC7DCTG': 3361, 'B07DCPJBC3': 3362, 'B07DDJYBSW': 3363, 'B07DHLZ7Z2': 3364, 'B07DKMJ61N': 3365, 'B07DLP63DT': 3366, 'B07DNSZPXG': 3367, 'B07DNZZCPX': 3368, 'B07DQCDY9M': 3369, 'B07DQF8LHL': 3370, 'B07DQG49DK': 3371, 'B07DR89CD9': 3372, 'B07DW3S691': 3373, 'B07DX7TGJ2': 3374, 'B07F281TT7': 3375, 'B07F2YKPB3': 3376, 'B07F3HY5N3': 3377, 'B07F3TQW9K': 3378, 'B07F49QQDZ': 3379, 'B07F4MYW5B': 3380, 'B07F4P3JH7': 3381, 'B07FCHTPJ4': 3382, 'B07FCKYFRC': 3383, 'B07FFCTZLC': 3384, 'B07FFFBBWG': 3385, 'B07FG7SBS9': 3386, 'B07FHWB2V4': 3387, 'B07FJGGWJL': 3388, 'B07FK9RMGB': 3389, 'B07FKKHH16': 3390, 'B07FLQF7PM': 3391, 'B07FLXV8TT': 3392, 'B07FNL4STM': 3393, 'B07FP8VLXS': 3394, 'B07FPG94RP': 3395, 'B07FQDMKFT': 3396, 'B07FR6GVF1': 3397, 'B07FSSR6Z4': 3398, 'B07FSZKFX4': 3399, 'B07FTSFGXH': 3400, 'B07FTSXDK4': 3401, 'B07FV4HVS2': 3402, 'B07FW38SF8': 3403, 'B07G32CTT2': 3404, 'B07G3HYDJQ': 3405, 'B07G52NHBZ': 3406, 'B07G57JHYP': 3407, 'B07G5C4YLY': 3408, 'B07G5JV2B5': 3409, 'B07G5YXYFL': 3410, 'B07G5ZG3Q4': 3411, 'B07G61JRYR': 3412, 'B07G61MF64': 3413, 'B07G61MFF6': 3414, 'B07G62CTBW': 3415, 'B07G7468KK': 3416, 'B07G74V1YP': 3417, 'B07G7VFJ3J': 3418, 'B07G7VT8KQ': 3419, 'B07G8BR51Z': 3420, 'B07G9YJ8GD': 3421, 'B07GB3SGSF': 3422, 'B07GB3SVRD': 3423, 'B07GBNN79K': 3424, 'B07GDXCJLM': 3425, 'B07GK3LQVC': 3426, 'B07GKH4SLV': 3427, 'B07GKT53H5': 3428, 'B07GPGVYGX': 3429, 'B07GR78DKQ': 3430, 'B07GT37484': 3431, 'B07GTGHQHB': 3432, 'B07GV2WKFZ': 3433, 'B07GV5D9T8': 3434, 'B07GVS4RW2': 3435, 'B07GVWH35S': 3436, 'B07GW7X5MK': 3437, 'B07GW9TJ3G': 3438, 'B07GWWQK76': 3439, 'B07GXCFNKJ': 3440, 'B07GXDLJP9': 3441, 'B07GYRQVJF': 3442, 'B07GZFM1ZM': 3443, 'B07GZWCQV4': 3444, 'B07H1KQ3SH': 3445, 'B07H3MHQ5W': 3446, 'B07H3W1FD8': 3447, 'B07H4HXW14': 3448, 'B07H4VQ4BZ': 3449, 'B07H5G54RL': 3450, 'B07H5RNMP5': 3451, 'B07H5S7X4X': 3452, 'B07H5Z8BHT': 3453, 'B07H65KP63': 3454, 'B07H6DRP7F': 3455, 'B07H7Z43ZY': 3456, 'B07H87G3RV': 3457, 'B07H8WS1FT': 3458, 'B07H9YX94V': 3459, 'B07HBHVWS5': 3460, 'B07HD2W8XL': 3461, 'B07HDBZN7Q': 3462, 'B07HHJHXZJ': 3463, 'B07HHQBYMM': 3464, 'B07HL4PSH4': 3465, 'B07HL5SDPQ': 3466, 'B07HMLRWXH': 3467, 'B07HQ6GDH5': 3468, 'B07HRFLB6Y': 3469, 'B07HYK77H3': 3470, 'B07HYN4FX7': 3471, 'B07HZLHPKP': 3472, 'B07J21Y82K': 3473, 'B07J224T84': 3474, 'B07J27LFB5': 3475, 'B07J2FGZSM': 3476, 'B07J45XS7K': 3477, 'B07JF156L4': 3478, 'B07JG1VFBX': 3479, 'B07JGH7LT6': 3480, 'B07JGHZ45W': 3481, 'B07JKBJ8R4': 3482, 'B07JL18G1D': 3483, 'B07JMFQTC5': 3484, 'B07JMQP6T6': 3485, 'B07JN7V3MT': 3486, 'B07JNT5XLX': 3487, 'B07JPCWW76': 3488, 'B07JQWGPYJ': 3489, 'B07JR5Z472': 3490, 'B07JWF7VMJ': 3491, 'B07JY2HRM9': 3492, 'B07JYGBSJN': 3493, 'B07JZT6YMB': 3494, 'B07K1LLDG6': 3495, 'B07K387Y7K': 3496, 'B07K53QZTC': 3497, 'B07K7TFMTX': 3498, 'B07K95WFWM': 3499, 'B07KD63NJC': 3500, 'B07KD71BNB': 3501, 'B07KF6WSL8': 3502, 'B07KFQFDNB': 3503, 'B07KGVB6D6': 3504, 'B07KJBLDFM': 3505, 'B07KKMWWXB': 3506, 'B07KKZX2KR': 3507, 'B07KL17RKP': 3508, 'B07KM1CY1P': 3509, 'B07KML89F3': 3510, 'B07KPLTMYB': 3511, 'B07KPT46ZS': 3512, 'B07KQ2TLXF': 3513, 'B07KQWX947': 3514, 'B07KSC2HLW': 3515, 'B07KSPDR2K': 3516, 'B07KTYJ769': 3517, 'B07KVYG56Z': 3518, 'B07KWMJL9B': 3519, 'B07KXNYX1L': 3520, 'B07KZBLL3Z': 3521, 'B07L4B5DCT': 3522, 'B07L5YHD5N': 3523, 'B07L6KFGND': 3524, 'B07L913BK9': 3525, 'B07L92L2WW': 3526, 'B07L9BDY3T': 3527, 'B07LBRZ5TH': 3528, 'B07LCVR5BW': 3529, 'B07LD9TTZY': 3530, 'B07LDBSXKS': 3531, 'B07LFM1TH7': 3532, 'B07LG5WBTS': 3533, 'B07M5GFPQN': 3534, 'B07M7FGLJN': 3535, 'B07M7FTXM2': 3536, 'B07M7JJMHC': 3537, 'B07M7SK1T1': 3538, 'B07M87MHHD': 3539, 'B07MBT79Z9': 3540, 'B07MC2ZSNY': 3541, 'B07MHTRWLR': 3542, 'B07MJPGPQP': 3543, 'B07MKSGZM6': 3544, 'B07MLY3JKV': 3545, 'B07MLYD3ZK': 3546, 'B07MN67BCR': 3547, 'B07MNFH1PX': 3548, 'B07MQ6VPG7': 3549, 'B07N1L5HX1': 3550, 'B07N1RYQ5Y': 3551, 'B07N1W6XK6': 3552, 'B07N3GM473': 3553, 'B07N4LDGYR': 3554, 'B07N4NDCWM': 3555, 'B07N5ZPYFK': 3556, 'B07N86MCD2': 3557, 'B07N8VFFNS': 3558, 'B07NCRR12R': 3559, 'B07NF6V8SC': 3560, 'B07NGFQYNC': 3561, 'B07NGRTX9C': 3562, 'B07NK2NW84': 3563, 'B07NK8G2HH': 3564, 'B07NL2S9QW': 3565, 'B07NLNJQ25': 3566, 'B07NLWT9Z7': 3567, 'B07NPK4PY4': 3568, 'B07NQ8CTFT': 3569, 'B07NR9NF42': 3570, 'B07NRBL8CM': 3571, 'B07NRVZ3FD': 3572, 'B07NRX1CGM': 3573, 'B07NW6L27K': 3574, 'B07NW72QY9': 3575, 'B07NXJN1QW': 3576, 'B07NYZ3HVP': 3577, 'B07P16JC5W': 3578, 'B07P1FN7KQ': 3579, 'B07P374FF3': 3580, 'B07P5JV6HT': 3581, 'B07P6MW48Y': 3582, 'B07P8QMBWN': 3583, 'B07P8WTLQD': 3584, 'B07P9V8GSH': 3585, 'B07PCZV64H': 3586, 'B07PDHSLM6': 3587, 'B07PGL2N7J': 3588, 'B07PHB491R': 3589, 'B07PHQ93TV': 3590, 'B07PJFVYJC': 3591, 'B07PL1YM6T': 3592, 'B07PMFD12W': 3593, 'B07PMLK5SJ': 3594, 'B07PP4JXXS': 3595, 'B07PPK1RFM': 3596, 'B07PPPT1NG': 3597, 'B07PPXGXG5': 3598, 'B07PQ953Y3': 3599, 'B07PQTHXW9': 3600, 'B07PV958PN': 3601, 'B07PWCN4LC': 3602, 'B07PXGQC1Q': 3603, 'B07PXTP3CN': 3604, 'B07PYLT6DN': 3605, 'B07PZFC633': 3606, 'B07Q1CVZ9P': 3607, 'B07Q1FJKDD': 3608, 'B07Q1GJWV3': 3609, 'B07Q1JVCTS': 3610, 'B07Q41YB14': 3611, 'B07Q5CPHX2': 3612, 'B07Q6ZRWM2': 3613, 'B07Q76FTVS': 3614, 'B07Q849R2Y': 3615, 'B07Q8C334W': 3616, 'B07Q8N91HW': 3617, 'B07Q9F2FMR': 3618, 'B07QCRCP2R': 3619, 'B07QD2LFLX': 3620, 'B07QF4YYP7': 3621, 'B07QGS8VT7': 3622, 'B07QH5HD3R': 3623, 'B07QL36SDW': 3624, 'B07QMV54LY': 3625, 'B07QN33986': 3626, 'B07QTH2MVW': 3627, 'B07QW3MNXQ': 3628, 'B07QWP1RYY': 3629, 'B07QWPVZJY': 3630, 'B07QXB6V4Q': 3631, 'B07QYL62CZ': 3632, 'B07QZQJ1WD': 3633, 'B07QZVNG2T': 3634, 'B07R2N71B8': 3635, 'B07R2QKTK5': 3636, 'B07R4MVVK9': 3637, 'B07R5HM156': 3638, 'B07R5QJ6YS': 3639, 'B07R5VHKKZ': 3640, 'B07R73WZ9Y': 3641, 'B07R74DWW1': 3642, 'B07R7BFJ4B': 3643, 'B07R88MYSC': 3644, 'B07R8L532P': 3645, 'B07R8WVY4F': 3646, 'B07RB6ZGSP': 3647, 'B07RBBN3X3': 3648, 'B07RCMTLHD': 3649, 'B07RFZD8PL': 3650, 'B07RGJYJS5': 3651, 'B07RHWD55R': 3652, 'B07RJ28KYH': 3653, 'B07RJZPTLX': 3654, 'B07RL3LRZ8': 3655, 'B07RLZ1KDY': 3656, 'B07RM4NHV6': 3657, 'B07RPCD3DL': 3658, 'B07RR6HQKX': 3659, 'B07RRWZC2S': 3660, 'B07RS68PJ7': 3661, 'B07RS8J6QP': 3662, 'B07RVHKY76': 3663, 'B07RVM9276': 3664, 'B07RWDZ3HG': 3665, 'B07RY9HLRK': 3666, 'B07S1582YY': 3667, 'B07S247YBJ': 3668, 'B07S3ZY1HG': 3669, 'B07S4KJV6W': 3670, 'B07S4MFN8Z': 3671, 'B07S4N7K19': 3672, 'B07S5G2B6Y': 3673, 'B07S5NDN8T': 3674, 'B07S6VHC18': 3675, 'B07S6X2D8C': 3676, 'B07S6X6RLG': 3677, 'B07S764D9V': 3678, 'B07S84M2B1': 3679, 'B07S8PVSDS': 3680, 'B07S96LQNR': 3681, 'B07S9THRC5': 3682, 'B07SBT1FSK': 3683, 'B07SDGZ2NJ': 3684, 'B07SDH2Z56': 3685, 'B07SGW3YZG': 3686, 'B07SPZLWSP': 3687, 'B07SYW3XL1': 3688, 'B07SYY1BBJ': 3689, 'B07T2451BH': 3690, 'B07T2FNP5N': 3691, 'B07T7WRRD9': 3692, 'B07T85W8P7': 3693, 'B07T85ZMRB': 3694, 'B07T8BSMXD': 3695, 'B07T94HKTR': 3696, 'B07T99Q9PC': 3697, 'B07TJLM1YM': 3698, 'B07TMJ8S5Z': 3699, 'B07TMRFS6V': 3700, 'B07TRQ9JSH': 3701, 'B07TRZNXVF': 3702, 'B07TS32GFV': 3703, 'B07TZP1SD3': 3704, 'B07V2DMFM6': 3705, 'B07V2RK8ZB': 3706, 'B07V3FWFQG': 3707, 'B07V48GCZ7': 3708, 'B07V5DDC7R': 3709, 'B07V5WR9RM': 3710, 'B07V6MGX7P': 3711, 'B07V72HV66': 3712, 'B07VBJH9FW': 3713, 'B07VD3M6M3': 3714, 'B07VDMH5YD': 3715, 'B07VFBX16H': 3716, 'B07VHQW6F3': 3717, 'B07VJHZBVJ': 3718, 'B07VJQ5VBV': 3719, 'B07VLBTSZP': 3720, 'B07VNTM6R5': 3721, 'B07VPLP56D': 3722, 'B07VTK654B': 3723, 'B07VV9HSGL': 3724, 'B07VXCFZN1': 3725, 'B07VXXBTX4': 3726, 'B07VZZFWRM': 3727, 'B07VZZNCNW': 3728, 'B07W22QBH8': 3729, 'B07W36NHV8': 3730, 'B07W36WN5X': 3731, 'B07W371S8F': 3732, 'B07W43X45N': 3733, 'B07W4GJGCM': 3734, 'B07W4MGFS6': 3735, 'B07W5WFNY3': 3736, 'B07WC9Q84W': 3737, 'B07WD75HCD': 3738, 'B07WFQHWC6': 3739, 'B07WGPTZHR': 3740, 'B07WLR855R': 3741, 'B07WLT77K8': 3742, 'B07WMB4XS4': 3743, 'B07WNJQFP9': 3744, 'B07WNYLXM1': 3745, 'B07WNYRQPT': 3746, 'B07WQ5CQGZ': 3747, 'B07WQKKS8V': 3748, 'B07WRSHHW5': 3749, 'B07WT5Y7WP': 3750, 'B07WVXLG3F': 3751, 'B07WW1XR59': 3752, 'B07WWF89MS': 3753, 'B07WWGYJ8M': 3754, 'B07X1WNSHW': 3755, 'B07X6KGF9R': 3756, 'B07X81QW2H': 3757, 'B07XBNWBC1': 3758, 'B07XFBBLT3': 3759, 'B07XPQF1FJ': 3760, 'B07XQF72ZC': 3761, 'B07XVNJHKZ': 3762, 'B07XW17T26': 3763, 'B07XW26343': 3764, 'B07XWXYBW9': 3765, 'B07XZLW68F': 3766, 'B07Y2L7CYF': 3767, 'B07Y4822BG': 3768, 'B07Y545SQ9': 3769, 'B07Y59K6NG': 3770, 'B07Y5XFPNW': 3771, 'B07Y98X47F': 3772, 'B07YBJFG2Y': 3773, 'B07YD1D3XJ': 3774, 'B07YD48WNN': 3775, 'B07YFD37SF': 3776, 'B07YQFC61B': 3777, 'B07YT9CL3G': 3778, 'B07Z18JVPH': 3779, 'B07Z3ZF5NG': 3780, 'B07Z548JK5': 3781, 'B07ZD87L9W': 3782, 'B07ZDX78WP': 3783, 'B07ZDXHZ6J': 3784, 'B07ZFKHTCV': 3785, 'B07ZFKHTZB': 3786, 'B07ZG6Y66D': 3787, 'B07ZGBXHJV': 3788, 'B07ZGJ6T7B': 3789, 'B07ZKR5HTF': 3790, 'B07ZM33XMC': 3791, 'B07ZNBZCW5': 3792, 'B07ZPC9QD4': 3793, 'B07ZSBXMVB': 3794, 'B07ZT5Q1WM': 3795, 'B07ZVGXYZ3': 3796, 'B07ZWJR9GD': 3797, 'B07ZZHCYY2': 3798, 'B07ZZRMLHK': 3799, 'B07ZZVX1F2': 3800, 'B08145LN1D': 3801, 'B0816GVJVW': 3802, 'B0816JQQS6': 3803, 'B0819PCPBV': 3804, 'B0819VKC3Y': 3805, 'B0819W2H7V': 3806, 'B081B1R665': 3807, 'B081BHBHP5': 3808, 'B081C4XWXZ': 3809, 'B081CCP77B': 3810, 'B081D9XHPK': 3811, 'B081J66FMF': 3812, 'B081JCY2H4': 3813, 'B081K9C3Q1': 3814, 'B081KJBPYT': 3815, 'B081Q8JHJQ': 3816, 'B081R1QS8K': 3817, 'B081TJNLH2': 3818, 'B081TK1W3Z': 3819, 'B081TTX1Y6': 3820, 'B081W67TTD': 3821, 'B0822ZLRCM': 3822, 'B0829BW8JT': 3823, 'B0829FCS3F': 3824, 'B082D4W9FV': 3825, 'B082DYXRQV': 3826, 'B082L3TZVK': 3827, 'B082M4L6J6': 3828, 'B082P3XMS5': 3829, 'B082SK4C7F': 3830, 'B082SW81WD': 3831, 'B0832G3BBV': 3832, 'B0836GHD61': 3833, 'B083JFTZMN': 3834, 'B083JG3NKY': 3835, 'B083L23PKM': 3836, 'B083L4239G': 3837, 'B083QKN6L4': 3838, 'B083TH1B45': 3839, 'B083TP2P1Q': 3840, 'B083W4N1Z2': 3841, 'B083WC2GY9': 3842, 'B083Y4S579': 3843, 'B083YHS7SV': 3844, 'B083ZJYDRV': 3845, 'B0842YJ1Z6': 3846, 'B08484Q1JB': 3847, 'B0848CHPS1': 3848, 'B084BQPCNJ': 3849, 'B084H2NHL4': 3850, 'B084H2NHNN': 3851, 'B084J4PX72': 3852, 'B084LS3RQJ': 3853, 'B084LT1FJT': 3854, 'B084SJGL86': 3855, 'B084T3RMQ6': 3856, 'B0854CTL5N': 3857, 'B0858WGJ53': 3858, 'B085H9N7MW': 3859, 'B085HBM4Y5': 3860, 'B085MY79KW': 3861, 'B085N11H5T': 3862, 'B085SN7HF5': 3863, 'B085WM5MT2': 3864, 'B0862W5BQ8': 3865, 'B086GSYZP2': 3866, 'B086JHY1SD': 3867, 'B086ML9LRS': 3868, 'B086NXRY2Z': 3869, 'B086QGXBRW': 3870, 'B086Z4DNSD': 3871, 'B08723V9DD': 3872, 'B08739SDH3': 3873, 'B0873GV89G': 3874, 'B0873KJ12L': 3875, 'B0876XG5ZM': 3876, 'B087D9VRGC': 3877, 'B087FS6VR3': 3878, 'B087GS2956': 3879, 'B087MZ67V6': 3880, 'B087QP4G7B': 3881, 'B087Z1XR2R': 3882, 'B088BQZWVJ': 3883, 'B088C3KRH3': 3884, 'B088C3NSNG': 3885, 'B088C3ZJHV': 3886, 'B088C4L7CD': 3887, 'B088D3VXC6': 3888, 'B088HSR1GN': 3889, 'B088K3XLKF': 3890, 'B088KNRJ8L': 3891, 'B088KQ1P52': 3892, 'B088NJQQFH': 3893, 'B088PZR86K': 3894, 'B088RBT8RH': 3895, 'B0895KGSY1': 3896, 'B08971P7N4': 3897, 'B089LVSKZ7': 3898, 'B089PMMT1X': 3899, 'B08BCY3KJW': 3900, 'B08BJM6LCG': 3901, 'B08BXLM24S': 3902, 'B08BZSCHZ3': 3903, 'B08C1DSWHJ': 3904, 'B08C4Y26FP': 3905, 'B08CBNMV1R': 3906, 'B08CKZ36N7': 3907, 'B08CLNX58K': 3908, 'B08CQ2PP18': 3909, 'B08CS391BR': 3910, 'B08CVRMWSQ': 3911, 'B08CZ4KZHN': 3912, 'B08D73HWCX': 3913, 'B08D7638C8': 3914, 'B08D7JPKLZ': 3915, 'B08D8F6ZFV': 3916, 'B08D8KLVRG': 3917, 'B08DCYHFD4': 3918, 'B08DJC5BSD': 3919, 'B08DJVJN1V': 3920, 'B08DKR85CX': 3921, 'B08DKXZ9MS': 3922, 'B08DMXDPW5': 3923, 'B08DWN51TQ': 3924, 'B08F1P3BCC': 3925, 'B08F4RZXNG': 3926, 'B08F98WSWH': 3927, 'B08FBL6MFV': 3928, 'B08FG5D9ZV': 3929, 'B08FQTH839': 3930, 'B08FSBNYJW': 3931, 'B08FVMRW4D': 3932, 'B08G45Z8QB': 3933, 'B08GDRCCPK': 3934, 'B08GX2W7Z4': 3935, 'B08GZYBK6Z': 3936, 'B08HKGXGML': 3937, 'B08HND7GB1': 3938, 'B08HNDGRJ5': 3939, 'B08HNFD1JP': 3940, 'B08HRLQNY3': 3941, 'B08HTNC8PJ': 3942, 'B08HVXP1PM': 3943, 'B08HYTVDQ6': 3944, 'B08J91XPGV': 3945, 'B08J9JK4H5': 3946, 'B08J9NQ6CS': 3947, 'B08JJ3N9NK': 3948, 'B08JPHJX5S': 3949, 'B08JQ42WFN': 3950, 'B08JV8NB1Z': 3951, 'B08JYVX1W4': 3952, 'B08JZZ4TK7': 3953, 'B08K4FTDW6': 3954, 'B08K8WJTC8': 3955, 'B08KFRTLHC': 3956, 'B08KG14KCT': 3957, 'B08KGF1DPF': 3958, 'B08KGSZKCT': 3959, 'B08KGXGDX5': 3960, 'B08KHM6QJB': 3961, 'B08KHN8TPP': 3962, 'B08KRC18S8': 3963, 'B08KW1WY24': 3964, 'B08KZ1TZYB': 3965, 'B08L4VBZ7Y': 3966, 'B08L5417YW': 3967, 'B08L6BD4BR': 3968, 'B08L9F82N4': 3969, 'B08LHQS6CM': 3970, 'B08LNZY64W': 3971, 'B08LXZPC1M': 3972, 'B08M3TZBQ9': 3973, 'B08M3Y8DSL': 3974, 'B08M8Y6473': 3975, 'B08MRTZWJ5': 3976, 'B08MT5HMCB': 3977, 'B08MWHSF8M': 3978, 'B08MWKDCCF': 3979, 'B08MXVP2CL': 3980, 'B08N1DF9BX': 3981, 'B08N51H3LB': 3982, 'B08N5TC2Z3': 3983, 'B08N6CD324': 3984, 'B08N6HJ3FB': 3985, 'B08N6PZR6Y': 3986, 'B08N8GCHGJ': 3987, 'B08NW1RXPF': 3988, 'B08NXP7MN7': 3989, 'B08NYH8NHR': 3990, 'B08NYYFSQL': 3991, 'B08P39QZJK': 3992, 'B08P3VMW76': 3993, 'B08P4VX48V': 3994, 'B08P72Y8MN': 3995, 'B08PBS5CBX': 3996, 'B08PD6GCSW': 3997, 'B08PFW1S1V': 3998, 'B08PSQ2SS1': 3999, 'B08PSRDKRM': 4000, 'B08PSX2JVN': 4001, 'B08PWWD2Q9': 4002, 'B08PXZT9X8': 4003, 'B08Q2D3XR1': 4004, 'B08Q4GN692': 4005, 'B08QCYR7P5': 4006, 'B08QKRLVDC': 4007, 'B08QKWQS9J': 4008, 'B08QMV7BG8': 4009, 'B08QSB7SR3': 4010, 'B08QTVZKFV': 4011, 'B08QYJYLXD': 4012, 'B08QZNFH1W': 4013, 'B08R3D8R9W': 4014, 'B08R7HBWCF': 4015, 'B08RBNSHM9': 4016, 'B08RHZXQQK': 4017, 'B08RLW7918': 4018, 'B08RTN8KZC': 4019, 'B08S35QX36': 4020, 'B08SBZJQG4': 4021, 'B08SC3SD7F': 4022, 'B08SCF2HC2': 4023, 'B08SM6BYB5': 4024, 'B08SM7QW5K': 4025, 'B08STSQNG3': 4026, 'B08SXQPZKF': 4027, 'B08TBYS1CT': 4028, 'B08TCCVSMZ': 4029, 'B08TJ3JC8Y': 4030, 'B08TMJFSV3': 4031, 'B08TRCQHWZ': 4032, 'B08TTT6F56': 4033, 'B08TX9GNB3': 4034, 'B08TZX2DW5': 4035, 'B08V2MLHLN': 4036, 'B08V31ZJ3R': 4037, 'B08V47HYBW': 4038, 'B08V9VN5Q6': 4039, 'B08VCZDZSP': 4040, 'B08VT1LLSL': 4041, 'B08VWZRB92': 4042, 'B08W5G45PR': 4043, 'B08W7RKGDB': 4044, 'B08W8ND3W3': 4045, 'B08WLQGKM2': 4046, 'B08WQ55H4Y': 4047, 'B08WR4DVYV': 4048, 'B08WXWJKR3': 4049, 'B08X23NDDH': 4050, 'B08X2DCF2B': 4051, 'B08X9HYPZJ': 4052, 'B08XM7BLKF': 4053, 'B08XNCHTCY': 4054, 'B08XPWDSWW': 4055, 'B08Y28TY6Q': 4056, 'B08Y5F6DYW': 4057, 'B08Y66PKV6': 4058, 'B08Y68GYDP': 4059, 'B08Y8FSTMT': 4060, 'B08Y8WLKT2': 4061, 'B08YB2CN2M': 4062, 'B08YF1VBYD': 4063, 'B08YHYHHDM': 4064, 'B08YLDQ45Y': 4065, 'B08YMVB98D': 4066, 'B08YYLLVFW': 4067, 'B08Z3HBVCG': 4068, 'B08ZDF3WT3': 4069, 'B08ZF2Z7Y1': 4070, 'B08ZFS2NFC': 4071, 'B08ZMYMRNL': 4072, 'B08ZN7YXTQ': 4073, 'B08ZT2BTZ1': 4074, 'B0914FVW5Z': 4075, 'B0915XSNRP': 4076, 'B09163WV34': 4077, 'B0919NL52L': 4078, 'B091BD9T1Z': 4079, 'B091D4VGZY': 4080, 'B091FZ89QR': 4081, 'B091H5NBQG': 4082, 'B091J9NCWC': 4083, 'B091JB6HQ7': 4084, 'B091JV819F': 4085, 'B091K4WYD1': 4086, 'B091LDVYZK': 4087, 'B091VTJKKX': 4088, 'B091ZHX225': 4089, 'B091ZLXZKD': 4090, 'B0921LXGF9': 4091, 'B0928YC2P4': 4092, 'B092CTKMQ8': 4093, 'B092CW6CWC': 4094, 'B092CYKT29': 4095, 'B092DD5L2V': 4096, 'B092FKXJGX': 4097, 'B092HSPZJ3': 4098, 'B092JDKT8F': 4099, 'B092K1Z84G': 4100, 'B092M1H8C2': 4101, 'B092RVYFG2': 4102, 'B092V5DNH6': 4103, 'B092W3K376': 4104, 'B092WHC7C1': 4105, 'B092WMCV57': 4106, 'B092Y427N8': 4107, 'B09315SB39': 4108, 'B0935ZDCYD': 4109, 'B0937GW8R9': 4110, 'B0939S6BWT': 4111, 'B093CYLDBP': 4112, 'B093F9WMN9': 4113, 'B093H9PY4L': 4114, 'B093K4ZYFV': 4115, 'B093QHMGRS': 4116, 'B093QLDGNJ': 4117, 'B093SVDY5V': 4118, 'B093Y1PB91': 4119, 'B09472VM57': 4120, 'B0949SYKMX': 4121, 'B094BYMYGR': 4122, 'B094JD6SHP': 4123, 'B094NDM6ZH': 4124, 'B094V36L6Q': 4125, 'B094V7S7D7': 4126, 'B094YFRL85': 4127, 'B09554QF7L': 4128, 'B09591PF47': 4129, 'B095CF8C2B': 4130, 'B095GYWXJZ': 4131, 'B095JX15XF': 4132, 'B095L3HVW2': 4133, 'B095Q19Y77': 4134, 'B095VSZN8R': 4135, 'B095ZV29YF': 4136, 'B0963TH5MF': 4137, 'B096B6SYK5': 4138, 'B096BD8XT4': 4139, 'B096LN5FLN': 4140, 'B096MBY491': 4141, 'B096T31Z9T': 4142, 'B0971T9PYY': 4143, 'B097CMW9T9': 4144, 'B097CPFD6F': 4145, 'B097D8D6L1': 4146, 'B097KBF8JK': 4147, 'B097NPQMYH': 4148, 'B097QFQ8X3': 4149, 'B097RTX8R9': 4150, 'B097VT3G4B': 4151, 'B097Z62WGP': 4152, 'B09854KSCF': 4153, 'B0987C9SFD': 4154, 'B0989LC3Q5': 4155, 'B098D94F83': 4156, 'B098DSFTQM': 4157, 'B098DXZN3V': 4158, 'B098HS1NDV': 4159, 'B098L1QK3G': 4160, 'B098NWL6H4': 4161, 'B098RJMJTW': 4162, 'B098VHF5X1': 4163, 'B09966K2LT': 4164, 'B0997YZWNG': 4165, 'B099NY674N': 4166, 'B099P7T7BT': 4167, 'B099PGFK8W': 4168, 'B099Q9B6JV': 4169, 'B099QB16MK': 4170, 'B099RZY28N': 4171, 'B099V8GPR4': 4172, 'B09B389TPN': 4173, 'B09B4SHPQC': 4174, 'B09BC2YNKF': 4175, 'B09BDX2C9X': 4176, 'B09BNLV4B3': 4177, 'B09BP1LB8L': 4178, 'B09BW3XJQV': 4179, 'B09BZGJCGD': 4180, 'B09C172P8Q': 4181, 'B09C2GZZ5X': 4182, 'B09C2RQ7F4': 4183, 'B09C7R12WC': 4184, 'B09CDNM3VW': 4185, 'B09CGC842P': 4186, 'B09CKV22L7': 4187, 'B09D5D6PXR': 4188, 'B09DCPPYNR': 4189, 'B09DK1FDS4': 4190, 'B09DP8YW6P': 4191, 'B09DVHKL3C': 4192, 'B09F1JCXMQ': 4193, 'B09F66RRYN': 4194, 'B09F7QCM4R': 4195, 'B09FC5PYHG': 4196, 'B09FN58JBR': 4197, 'B09FP1QSDD': 4198, 'B09FQFFX15': 4199, 'B09G2SFXSZ': 4200, 'B09G3MBH6V': 4201, 'B09G5PPLZY': 4202, 'B09G789X3L': 4203, 'B09G9STJF6': 4204, 'B09GBPVD27': 4205, 'B09GL247NY': 4206, 'B09GNLLS7B': 4207, 'B09GXBB183': 4208, 'B09H23TPRY': 4209, 'B09H3KKV3J': 4210, 'B09H3XZYY6': 4211, 'B09H83QHPC': 4212, 'B09HCFHR8C': 4213, 'B09HDZ8FQY': 4214, 'B09HLGPB3D': 4215, 'B09HRD9X5P': 4216, 'B09HTV2T4T': 4217, 'B09HV56NJ5': 4218, 'B09J8ZFZ48': 4219, 'B09JC4RSGG': 4220, 'B09JF83P1H': 4221, 'B09JH82GSF': 4222, 'B09JKYBVJD': 4223, 'B09JQLTLG3': 4224, 'B09K14GHHD': 4225, 'B09K4R9KDM': 4226, 'B09K6DHBN4': 4227, 'B09K7JMBYK': 4228, 'B09K8CBWBG': 4229, 'B09K8T2SBQ': 4230, 'B09KFYG5G6': 4231, 'B09KKBLNVD': 4232, 'B09KQC7Z4S': 4233, 'B09KV19HQ5': 4234, 'B09L52XKBD': 4235, 'B09L5H8BXJ': 4236, 'B09L8RVPCK': 4237, 'B09LCH5MZM': 4238, 'B09LD8TJXV': 4239, 'B09LPKCCLW': 4240, 'B09LRLD1Z3': 4241, 'B09LSJS48Q': 4242, 'B09LYWCHJX': 4243, 'B09M3BZYVP': 4244, 'B09M3TZ3Q6': 4245, 'B09M85W9P8': 4246, 'B09M93BVBY': 4247, 'B09MFJQBYR': 4248, 'B09MK5D6JH': 4249, 'B09MPKCQGT': 4250, 'B09MTSLT2T': 4251, 'B09N42GVF7': 4252, 'B09N5LVWH7': 4253, 'B09N72XPK3': 4254, 'B09N7SXX1X': 4255, 'B09NCBBB7P': 4256, 'B09NDHYLRH': 4257, 'B09NFRTY83': 4258, 'B09NLKB6RX': 4259, 'B09NM6TXRN': 4260, 'B09NNGN2WG': 4261, 'B09NWGVKZ3': 4262, 'B09NYDJJRM': 4263, 'B09P1MZ6KG': 4264, 'B09P4FVYK9': 4265, 'B09P4KJSTQ': 4266, 'B09P4NGVWB': 4267, 'B09P4Q7JK4': 4268, 'B09P5HMNDF': 4269, 'B09PB85B9K': 4270, 'B09PRD4T26': 4271, 'B09PZ9MMQY': 4272, 'B09Q3NR84W': 4273, 'B09Q6DF71H': 4274, 'B09Q7JDCGN': 4275, 'B09Q7YPZPJ': 4276, 'B09QMVWM1F': 4277, 'B09QPFKTBK': 4278, 'B09QY1BNWW': 4279, 'B09R3ZDWKJ': 4280, 'B09R4C84NX': 4281, 'B09RB7R9TT': 4282, 'B09RBBB9FF': 4283, 'B09RCQFWWV': 4284, 'B09RD36X6L': 4285, 'B09RH3B1YG': 4286, 'B09RHY1JRD': 4287, 'B09RS2KZK4': 4288, 'B09RXJHHX7': 4289, 'B09RZY5RRV': 4290, 'B09S6QPQFS': 4291, 'B09S6Y5BRG': 4292, 'B09S6ZWPS5': 4293, 'B09SBJ38J7': 4294, 'B09SBP9P92': 4295, 'B09SFXWW5M': 4296, 'B09SGK6Q9Q': 4297, 'B09SHLTSG7': 4298, 'B09SHZWKR3': 4299, 'B09SJ9192T': 4300, 'B09SM7NC9J': 4301, 'B09SMNKMFH': 4302, 'B09SWWCN6Q': 4303, 'B09SXP5VB5': 4304, 'B09T5ZPV9P': 4305, 'B09T78HB28': 4306, 'B09TB1MYCZ': 4307, 'B09TC1K4GY': 4308, 'B09TGJGSQD': 4309, 'B09TPYR4F3': 4310, 'B09TWVB2TH': 4311, 'B09TWYBW14': 4312, 'B09V1FT19S': 4313, 'B09V36QXT6': 4314, 'B09V6M8K1Y': 4315, 'B09V6Q26GD': 4316, 'B09V9J124H': 4317, 'B09VDNQH8B': 4318, 'B09VS4V18K': 4319, 'B09VYMTDF9': 4320, 'B09W4W9SYF': 4321, 'B09W9HM13F': 4322, 'B09WBKKRFN': 4323, 'B09WCW4L4G': 4324, 'B09WDS7KLW': 4325, 'B09WKJQKGJ': 4326, 'B09WLDFF2T': 4327, 'B09WMQZ6BV': 4328, 'B09WR1GBC7': 4329, 'B09WR3VDZ7': 4330, 'B09WRF4Y6G': 4331, 'B09WWG19YS': 4332, 'B09X2J3LGX': 4333, 'B09X7S3FHH': 4334, 'B09XBT6DS9': 4335, 'B09XJRGQL6': 4336, 'B09XT8WXMN': 4337, 'B09XV625Z1': 4338, 'B09XWXHRJP': 4339, 'B09XYMSZLL': 4340, 'B09Y3H915M': 4341, 'B09Y54MQWT': 4342, 'B09Y5D6NS5': 4343, 'B09Y5PWHZM': 4344, 'B09Y8PFMZV': 4345, 'B09Y986Q2K': 4346, 'B09YDHLYRL': 4347, 'B09YH2K3FL': 4348, 'B09YJXSPPW': 4349, 'B09YLQS31X': 4350, 'B09YLRS99D': 4351, 'B09YQGRG1Q': 4352, 'B09YQXGDQ3': 4353, 'B09YVQ8RZ9': 4354, 'B09YXNFG22': 4355, 'B09Z2TFKPN': 4356, 'B09Z3BM734': 4357, 'B09Z9DXDL2': 4358, 'B09ZBJKPX1': 4359, 'B09ZF4LT72': 4360, 'B09ZJWLQ7X': 4361, 'B09ZLL36JF': 4362, 'B09ZLMFPPM': 4363, 'B09ZMLX5DB': 4364, 'B09ZMQWGCG': 4365, 'B09ZQ4GHM8': 4366, 'B0B119Z74Y': 4367, 'B0B11GNM6K': 4368, 'B0B12PXQYM': 4369, 'B0B192XWBV': 4370, 'B0B1DLFXPD': 4371, 'B0B1FNP19X': 4372, 'B0B1HJ23M3': 4373, 'B0B1M6Q6XC': 4374, 'B0B1S5LBRQ': 4375, 'B0B1SCRLRG': 4376, 'B0B1STPFF6': 4377, 'B0B1SWPFZS': 4378, 'B0B1YBHS7T': 4379, 'B0B285L64J': 4380, 'B0B2DD1SC2': 4381, 'B0B2JYYR6C': 4382, 'B0B2KHS3ZZ': 4383, 'B0B2MTJHQW': 4384, 'B0B2N1G19W': 4385, 'B0B2TJTHKK': 4386, 'B0B2V9KS41': 4387, 'B0B2VDVB92': 4388, 'B0B2WN8222': 4389, 'B0B2Y5WYRG': 4390, 'B0B31S1BF5': 4391, 'B0B339DYGG': 4392, 'B0B35BGQ55': 4393, 'B0B37TT7JB': 4394, 'B0B37TV4WJ': 4395, 'B0B3CL5JW7': 4396, 'B0B3JVPY1K': 4397, 'B0B3N4KFY3': 4398, 'B0B3PSH1VX': 4399, 'B0B3RVRQKG': 4400, 'B0B3T4JWN9': 4401, 'B0B42NYTZZ': 4402, 'B0B4682QQQ': 4403, 'B0B46FYQVX': 4404, 'B0B4784PXV': 4405, 'B0B4BMHPJ2': 4406, 'B0B4FJ4G3J': 4407, 'B0B4GK7GNQ': 4408, 'B0B4GZRCF7': 4409, 'B0B4NCQ3XF': 4410, 'B0B4QS4F25': 4411, 'B0B4RZW56L': 4412, 'B0B4SWZTZ1': 4413, 'B0B4WQRYK4': 4414, 'B0B5153M52': 4415, 'B0B56SFKZ8': 4416, 'B0B59D5468': 4417, 'B0B59QBY9G': 4418, 'B0B5FV2J3S': 4419, 'B0B5FZNZN7': 4420, 'B0B5HGCJR5': 4421, 'B0B5J7MLTS': 4422, 'B0B62FJF1J': 4423, 'B0B636J9N2': 4424, 'B0B63MV3DH': 4425, 'B0B65G444N': 4426, 'B0B696YT88': 4427, 'B0B6BX424S': 4428, 'B0B6D4W3R7': 4429, 'B0B6H44S6C': 4430, 'B0B6HR2RKV': 4431, 'B0B6MZC4HQ': 4432, 'B0B6QHB66K': 4433, 'B0B6QVY9VB': 4434, 'B0B6T5ZWCM': 4435, 'B0B724PK33': 4436, 'B0B75PV61F': 4437, 'B0B778WW4T': 4438, 'B0B77F6ZHY': 4439, 'B0B787CN26': 4440, 'B0B7DQTZ7D': 4441, 'B0B7F2GWDS': 4442, 'B0B7FN67QT': 4443, 'B0B7GB8BNC': 4444, 'B0B7HTGNQK': 4445, 'B0B7JYBD4L': 4446, 'B0B7N8S4T5': 4447, 'B0B84XMBTM': 4448, 'B0B8GXBY8T': 4449, 'B0B8HFDJFL': 4450, 'B0B8T9RF31': 4451, 'B0B8YVVFNT': 4452, 'B0B933F7G2': 4453, 'B0B9BK7PQN': 4454, 'B0B9GFKYSZ': 4455, 'B0B9HYYT23': 4456, 'B0B9HZHGMG': 4457, 'B0B9J2JWSX': 4458, 'B0B9J6BVDT': 4459, 'B0B9S3TK5X': 4460, 'B0B9S7TTCZ': 4461, 'B0B9SNBLNC': 4462, 'B0B9SXHRFZ': 4463, 'B0B9TWC5KW': 4464, 'B0BB6R89VF': 4465, 'B0BB6RBYJ6': 4466, 'B0BB6SJHB5': 4467, 'B0BB6TYK7V': 4468, 'B0BB6VSW1H': 4469, 'B0BB6XM417': 4470, 'B0BB6Y5N3M': 4471, 'B0BB6Z4WNK': 4472, 'B0BBB6452B': 4473, 'B0BBDQRTWY': 4474, 'B0BBMGBM2H': 4475, 'B0BBMLD8QT': 4476, 'B0BBMN8HMM': 4477, 'B0BBP2DYBP': 4478, 'B0BBR3YMWF': 4479, 'B0BBR71NCL': 4480, 'B0BBY5TGTM': 4481, 'B0BC8C2KF2': 4482, 'B0BC8CL92P': 4483, 'B0BCDMS3PH': 4484, 'B0BCGK83LY': 4485, 'B0BCJKBSXK': 4486, 'B0BCPC68J6': 4487, 'B0BCTG71RQ': 4488, 'B0BCXYJ5ND': 4489, 'B0BD7FN8K9': 4490, 'B0BD99CPHB': 4491, 'B0BDDXWX5T': 4492, 'B0BDF1MVFM': 4493, 'B0BDF98BNH': 4494, 'B0BDFX1HPD': 4495, 'B0BDJ2L28L': 4496, 'B0BDT4L4FJ': 4497, 'B0BF46QK8M': 4498, 'B0BF59V2F7': 4499, 'B0BF5Q5S5G': 4500, 'B0BFCBMG7S': 4501, 'B0BFLR8H7X': 4502, 'B0BFM2GP2B': 4503, 'B0BFM4362X': 4504, 'B0BFM5TJ3N': 4505, 'B0BFWPD9J4': 4506, 'B0BG138L95': 4507, 'B0BG3JLNRH': 4508, 'B0BG4PPK34': 4509, 'B0BG59FG96': 4510, 'B0BG75H724': 4511, 'B0BG834YGG': 4512, 'B0BGCDYQQY': 4513, 'B0BGGR6K4M': 4514, 'B0BGJ1XH1Z': 4515, 'B0BGNG1294': 4516, 'B0BGQD8K3N': 4517, 'B0BGS23YKX': 4518, 'B0BGXS26QL': 4519, 'B0BH226BZL': 4520, 'B0BH4LX9K5': 4521, 'B0BHFGL8H8': 4522, 'B0BHGRJDCK': 4523, 'B0BHJRY8J4': 4524, 'B0BHMN1T7B': 4525, 'B0BHMVBV9M': 4526, 'B0BHQ3NSQ3': 4527, 'B0BHWQ3H17': 4528, 'B0BHYBC8NM': 4529, 'B0BHZ1GDVT': 4530, 'B0BJ13Q5JG': 4531, 'B0BJ1SLJH1': 4532, 'B0BJ517NSM': 4533, 'B0BJCGT426': 4534, 'B0BJD5994C': 4535, 'B0BJFLRMR2': 4536, 'B0BJGKZKV9': 4537, 'B0BJH5MKL5': 4538, 'B0BJP7Q5Y2': 4539, 'B0BJPSZ739': 4540, 'B0BJW2XLMR': 4541, 'B0BJW5LJ4J': 4542, 'B0BK6SGHHB': 4543, 'B0BKLGCC9S': 4544, 'B0BKLWZ4LD': 4545, 'B0BKR9NMMF': 4546, 'B0BKS4VHX7': 4547, 'B0BKVV246Q': 4548, 'B0BKWQXXFD': 4549, 'B0BL3B12HK': 4550, 'B0BL4X7168': 4551, 'B0BL6788GP': 4552, 'B0BLHNNSGG': 4553, 'B0BLM2HK53': 4554, 'B0BM11XSB1': 4555, 'B0BM5353Z3': 4556, 'B0BM55SJ58': 4557, 'B0BM5FP56J': 4558, 'B0BM6ZLKPL': 4559, 'B0BM73T3K6': 4560, 'B0BMF477PV': 4561, 'B0BMF81XH2': 4562, 'B0BMGZXST9': 4563, 'B0BMJ89V4P': 4564, 'B0BMK6DC5W': 4565, 'B0BML2MF98': 4566, 'B0BMQGZJMJ': 4567, 'B0BMQJYLQV': 4568, 'B0BMQL6DMR': 4569, 'B0BMQN7L6B': 4570, 'B0BMQT8LZ6': 4571, 'B0BMTWS2P3': 4572, 'B0BN2S5XP1': 4573, 'B0BN534JBB': 4574, 'B0BN74ZJDK': 4575, 'B0BN7FDPBY': 4576, 'B0BNCXKX3G': 4577, 'B0BNN7DCTY': 4578, 'B0BNN9DL8B': 4579, 'B0BNNRQK1J': 4580, 'B0BNPCDBNF': 4581, 'B0BNX9QVXZ': 4582, 'B0BP3ZSMH5': 4583, 'B0BP88GJVZ': 4584, 'B0BPB6R6RZ': 4585, 'B0BPD6Q7KC': 4586, 'B0BPL157WQ': 4587, 'B0BPMM75N8': 4588, 'B0BPMNH8LD': 4589, 'B0BPMNKQ7S': 4590, 'B0BPMNM5J3': 4591, 'B0BPN2DXC1': 4592, 'B0BPWG9DBX': 4593, 'B0BPWSQ5DK': 4594, 'B0BPZFW1JH': 4595, 'B0BQ5H62TT': 4596, 'B0BQ5JTZ89': 4597, 'B0BQGMX5PJ': 4598, 'B0BQLQHP74': 4599, 'B0BQPSNDNM': 4600, 'B0BR3MLGZZ': 4601, 'B0BR6ZF28J': 4602, 'B0BR9SP7QW': 4603, 'B0BRJH53N7': 4604, 'B0BRJJKD65': 4605, 'B0BRLZFYTJ': 4606, 'B0BRQ465SZ': 4607, 'B0BRSFW7RJ': 4608, 'B0BRSM8TCT': 4609, 'B0BRT3SCLX': 4610, 'B0BRT7XFM5': 4611, 'B0BRYP798M': 4612, 'B0BS1615YC': 4613, 'B0BS1QXF6M': 4614, 'B0BS2TMK39': 4615, 'B0BS2ZMHCL': 4616, 'B0BS6KLLT1': 4617, 'B0BS6RX6VY': 4618, 'B0BS96KRHH': 4619, 'B0BS9VBHP7': 4620, 'B0BSF17PM2': 4621, 'B0BSF5LM3J': 4622, 'B0BSFT117F': 4623, 'B0BSJ6JHP1': 4624, 'B0BSKR4FML': 4625, 'B0BSMXHH6T': 4626, 'B0BSRGRWNG': 4627, 'B0BSRMK724': 4628, 'B0BSTN9SNQ': 4629, 'B0BSVYHHDZ': 4630, 'B0BSXBNR8V': 4631, 'B0BSXSYLRF': 4632, 'B0BSY3N219': 4633, 'B0BT1BTW94': 4634, 'B0BTFS34T7': 4635, 'B0BTHJGP48': 4636, 'B0BTP8QNYX': 4637, 'B0BTT1Z16D': 4638, 'B0BTTWJT33': 4639, 'B0BTV585F9': 4640, 'B0BTVN2YTV': 4641, 'B0BTYHLSHQ': 4642, 'B0BTYP1CWP': 4643, 'B0BTZDHJXY': 4644, 'B0BV118GHT': 4645, 'B0BV2BDGV7': 4646, 'B0BV2M58F6': 4647, 'B0BV3NWX67': 4648, 'B0BV6RLX21': 4649, 'B0BV93KQZR': 4650, 'B0BVBDXFHM': 4651, 'B0BVH1QB5C': 4652, 'B0BVH24H94': 4653, 'B0BVJ4DHFQ': 4654, 'B0BVNQ9SRL': 4655, 'B0BVT19J7H': 4656, 'B0BVZZ36ZL': 4657, 'B0BW42NQD3': 4658, 'B0BW4PFM58': 4659, 'B0BW7WYB4K': 4660, 'B0BW977TR3': 4661, 'B0BWD4WGJB': 4662, 'B0BWMY8JZP': 4663, 'B0BWRH8VYM': 4664, 'B0BWVDRR6L': 4665, 'B0BWYPV5NY': 4666, 'B0BX7G1DR7': 4667, 'B0BXD2863F': 4668, 'B0BXP3P132': 4669, 'B0BXPLX4HW': 4670, 'B0BXPPZ3MK': 4671, 'B0BXSSK991': 4672, 'B0BXT863XV': 4673, 'B0BXX85J3Y': 4674, 'B0BXXHD8NZ': 4675, 'B0BXXS51NG': 4676, 'B0BXYGD4GG': 4677, 'B0BXYXD1Q2': 4678, 'B0BXZ4D1C2': 4679, 'B0BYDXXVW5': 4680, 'B0BYGS3RZ7': 4681, 'B0BYJHHV9C': 4682, 'B0BYJSGL3D': 4683, 'B0BYL2MQLY': 4684, 'B0BYSP9676': 4685, 'B0BYYJPGQB': 4686, 'B0BYYLHMD9': 4687, 'B0BYYQNJ3H': 4688, 'B0BZ2NMZDY': 4689, 'B0BZ5HGVQP': 4690, 'B0BZ5JPMNQ': 4691, 'B0BZ5KPQZK': 4692, 'B0BZ62FQ13': 4693, 'B0BZ67G5PT': 4694, 'B0BZC26QJ6': 4695, 'B0BZJ9BYZ3': 4696, 'B0BZJGGX2T': 4697, 'B0BZJZKYST': 4698, 'B0BZLBL1L9': 4699, 'B0BZND6YQR': 4700, 'B0BZRY8JPY': 4701, 'B0BZTQD3FK': 4702, 'B0C15Q5H7H': 4703, 'B0C19LF9N1': 4704, 'B0C1BKFZ5P': 4705, 'B0C1CPTMG9': 4706, 'B0C1FRBK4K': 4707, 'B0C1J4XGB1': 4708, 'B0C1J8RZ46': 4709, 'B0C1JGLV8T': 4710, 'B0C1TK3YL6': 4711, 'B0C1Z2FM57': 4712, 'B0C1ZSQL2V': 4713, 'B0C22WW175': 4714, 'B0C26NRH8Z': 4715, 'B0C2CQ1NYZ': 4716, 'B0C2DDPZ9M': 4717, 'B0C2HWSXNL': 4718, 'B0C2J1HF4Z': 4719, 'B0C2P7CNWG': 4720, 'B0C2PVFRWV': 4721, 'B0C2TZSCPT': 4722, 'B0C2VGGZFR': 4723, 'B0C2WWCBSG': 4724, 'B0C2XMC1TT': 4725, 'B0C2ZMJW53': 4726, 'B0C329PQRV': 4727, 'B0C337TNGS': 4728, 'B0C33Z5X4B': 4729, 'B0C36RFC6D': 4730, 'B0C38JGJW3': 4731, 'B0C3GDKZQT': 4732, 'B0C3GM8JQC': 4733, 'B0C3GSXJDJ': 4734, 'B0C3HNDTW1': 4735, 'B0C3P5XF9J': 4736, 'B0C3QXVTXB': 4737, 'B0C3TF6XZZ': 4738, 'B0C41BR1SM': 4739, 'B0C44HQ7CF': 4740, 'B0C44ZFYSH': 4741, 'B0C46HBG9F': 4742, 'B0C46LBLY2': 4743, 'B0C4GMXYGK': 4744, 'B0C4GTCXDY': 4745, 'B0C4K72PFB': 4746, 'B0C4K9K38B': 4747, 'B0C4LF1T4X': 4748, 'B0C4LSZS57': 4749, 'B0C4T2HF5W': 4750, 'B0C4T35BBG': 4751, 'B0C4Y7T5Z3': 4752, 'B0C51ZXFT8': 4753, 'B0C556BW5M': 4754, 'B0C5829XY7': 4755, 'B0C5B67Q9F': 4756, 'B0C5B6TQNL': 4757, 'B0C5LYJK9P': 4758, 'B0C5LYQL9L': 4759, 'B0C5MBN688': 4760, 'B0C5NLQ1ZR': 4761, 'B0C5PHZ4QS': 4762, 'B0C5QB1B1X': 4763, 'B0C5SBGRNJ': 4764, 'B0C5SC4TVZ': 4765, 'B0C5SV6LVK': 4766, 'B0C5WN1QFK': 4767, 'B0C5Y5SPW8': 4768, 'B0C62FZFH5': 4769, 'B0C643D1KG': 4770, 'B0C678Z6KG': 4771, 'B0C682GZ5X': 4772, 'B0C68VS6LH': 4773, 'B0C6D2VKPG': 4774, 'B0C6D5GYQ4': 4775, 'B0C6DDHVNP': 4776, 'B0C6FJFRJG': 4777, 'B0C6FN7MB4': 4778, 'B0C6G2BD65': 4779, 'B0C6G2STLP': 4780, 'B0C6H85C1T': 4781, 'B0C6HDQXMK': 4782, 'B0C6KPFH39': 4783, 'B0C6PGZ3MB': 4784, 'B0C6PRR41P': 4785, 'B0C6QKB234': 4786, 'B0C6Y77LBB': 4787, 'B0C71PTXVC': 4788, 'B0C71ZQTM5': 4789, 'B0C743FLMQ': 4790, 'B0C77LKF4F': 4791, 'B0C7KLM8L2': 4792, 'B0C7M5161K': 4793, 'B0C7S8NBJK': 4794, 'B0C7TS233Q': 4795, 'B0C7VXS94S': 4796, 'B0C7Z6ZQMZ': 4797, 'B0C8633DBV': 4798, 'B0C96HXJ5Q': 4799, 'B0C995MTMN': 4800, 'B0C9LYJSWN': 4801, 'B0CB11SDN1': 4802, 'B0CB1PRH8C': 4803, 'B0CB4DP1Y9': 4804, 'B0CBM8KZDB': 4805, 'B0CBVWHXTS': 4806, 'B0CCD3VDQN': 4807, 'B0CCDMQZM7': 4808, 'B0CCQHH8Z6': 4809, 'B0CCSMFH13': 4810, 'B0CD2GYCTB': 4811, 'B0CD3TKTQG': 4812, 'B0CDCN4S5F': 4813, 'B0CDLVKXF7': 4814, 'B0CDVW2RNG': 4815, 'B0CGZ1XLPX': 4816}\n",
      "\n"
     ]
    }
   ],
   "source": [
    "print(len(idm.index_to_user), len(idm.user_to_index))\n",
    "print(len(idm.index_to_item), len(idm.item_to_index))\n",
    "print(train_dataset.item_id_to_idx)\n",
    "print()"
   ]
  },
  {
   "cell_type": "code",
   "execution_count": null,
   "metadata": {},
   "outputs": [
    {
     "name": "stdout",
     "output_type": "stream",
     "text": [
      "Number of items in train dataset: 4817\n",
      "Number of items in IDMapper: 4817\n"
     ]
    }
   ],
   "source": [
    "assert train_dataset.item_id_to_idx == idm.item_to_index, \"ID Mappings are not matched!\"\n",
    "print(f\"Number of items in train dataset: {len(train_dataset.item_id_to_idx)}\")\n",
    "print(f\"Number of items in IDMapper: {len(idm.item_to_index)}\")\n",
    "assert train_df[\"parent_asin\"].nunique() == len(idm.item_to_index)  == len(train_dataset.item_id_to_idx), \"Mismatch in user mappings\""
   ]
  },
  {
   "cell_type": "markdown",
   "metadata": {},
   "source": [
    "# Train"
   ]
  },
  {
   "cell_type": "code",
   "execution_count": null,
   "metadata": {},
   "outputs": [
    {
     "data": {
      "text/plain": [
       "4817"
      ]
     },
     "execution_count": 24,
     "metadata": {},
     "output_type": "execute_result"
    }
   ],
   "source": [
    "n_items = len(train_dataset.items)\n",
    "n_items"
   ]
  },
  {
   "cell_type": "markdown",
   "metadata": {},
   "source": [
    "#### Optinal: Overfit 1 batch"
   ]
  },
  {
   "cell_type": "code",
   "execution_count": 27,
   "metadata": {},
   "outputs": [
    {
     "name": "stderr",
     "output_type": "stream",
     "text": [
      "\u001b[32m2025-06-23 12:24:27.959\u001b[0m | \u001b[1mINFO    \u001b[0m | \u001b[36msrc.algo.item2vec.dataset\u001b[0m:\u001b[36m__init__\u001b[0m:\u001b[36m30\u001b[0m - \u001b[1mProcessing sequences...\u001b[0m\n",
      "\u001b[32m2025-06-23 12:24:27.959\u001b[0m | \u001b[1mINFO    \u001b[0m | \u001b[36msrc.algo.item2vec.model\u001b[0m:\u001b[36m__init__\u001b[0m:\u001b[36m12\u001b[0m - \u001b[1mInitializing item embeddings with num items 10, embedding dim 32\u001b[0m\n"
     ]
    }
   ],
   "source": [
    "batch_size = 1  # Need to set to 1 else can not learn\n",
    "embedding_dim = 32\n",
    "window_size = 1\n",
    "num_negative_samples = 2\n",
    "\n",
    "batch_dataset = SkipGramDataset(\n",
    "    train_interaction_df= train_df[0:10], \n",
    "    val_interaction_df= None,\n",
    "    mode = \"train\",\n",
    "    negative_samples= num_negative_samples,\n",
    "    window_size= window_size,\n",
    ")\n",
    "\n",
    "batch_dataloader = DataLoader(\n",
    "    batch_dataset,\n",
    "    batch_size=batch_size,\n",
    "    shuffle=False,\n",
    "    drop_last=False,\n",
    "    collate_fn=batch_dataset.collate_fn,\n",
    ")\n",
    "\n",
    "\n",
    "model = init_model(len(batch_dataset.items), embedding_dim, device = device)"
   ]
  },
  {
   "cell_type": "code",
   "execution_count": 29,
   "metadata": {},
   "outputs": [
    {
     "name": "stderr",
     "output_type": "stream",
     "text": [
      "\u001b[32m2025-06-23 12:25:04.610\u001b[0m | \u001b[1mINFO    \u001b[0m | \u001b[36msrc.algo.item2vec.model\u001b[0m:\u001b[36m__init__\u001b[0m:\u001b[36m12\u001b[0m - \u001b[1mInitializing item embeddings with num items 10, embedding dim 256\u001b[0m\n",
      "You are using the plain ModelCheckpoint callback. Consider using LitModelCheckpoint which with seamless uploading to Model registry.\n",
      "GPU available: False, used: False\n",
      "TPU available: False, using: 0 TPU cores\n",
      "HPU available: False, using: 0 HPUs\n",
      "`Trainer(overfit_batches=1)` was configured so 1 batch will be used.\n",
      "\n",
      "  | Name           | Type     | Params | Mode \n",
      "----------------------------------------------------\n",
      "0 | skipgram_model | SkipGram | 2.8 K  | train\n",
      "----------------------------------------------------\n",
      "2.8 K     Trainable params\n",
      "0         Non-trainable params\n",
      "2.8 K     Total params\n",
      "0.011     Total estimated model params size (MB)\n",
      "2         Modules in train mode\n",
      "0         Modules in eval mode\n"
     ]
    },
    {
     "data": {
      "application/vnd.jupyter.widget-view+json": {
       "model_id": "8f680937448149d7acf2749f187ce974",
       "version_major": 2,
       "version_minor": 0
      },
      "text/plain": [
       "Sanity Checking: |          | 0/? [00:00<?, ?it/s]"
      ]
     },
     "metadata": {},
     "output_type": "display_data"
    },
    {
     "name": "stderr",
     "output_type": "stream",
     "text": [
      "c:\\Users\\Trieu\\AppData\\Local\\pypoetry\\Cache\\virtualenvs\\hm-scalablerecs-QHnDFvap-py3.11\\Lib\\site-packages\\lightning\\pytorch\\trainer\\connectors\\data_connector.py:252: UserWarning:\n",
      "\n",
      "You requested to overfit but enabled val dataloader shuffling. We are turning off the val dataloader shuffling for you.\n",
      "\n",
      "c:\\Users\\Trieu\\AppData\\Local\\pypoetry\\Cache\\virtualenvs\\hm-scalablerecs-QHnDFvap-py3.11\\Lib\\site-packages\\lightning\\pytorch\\trainer\\connectors\\data_connector.py:425: PossibleUserWarning:\n",
      "\n",
      "The 'val_dataloader' does not have many workers which may be a bottleneck. Consider increasing the value of the `num_workers` argument` to `num_workers=7` in the `DataLoader` to improve performance.\n",
      "\n",
      "c:\\Users\\Trieu\\AppData\\Local\\pypoetry\\Cache\\virtualenvs\\hm-scalablerecs-QHnDFvap-py3.11\\Lib\\site-packages\\lightning\\pytorch\\trainer\\connectors\\data_connector.py:252: UserWarning:\n",
      "\n",
      "You requested to overfit but enabled train dataloader shuffling. We are turning off the train dataloader shuffling for you.\n",
      "\n",
      "c:\\Users\\Trieu\\AppData\\Local\\pypoetry\\Cache\\virtualenvs\\hm-scalablerecs-QHnDFvap-py3.11\\Lib\\site-packages\\lightning\\pytorch\\trainer\\connectors\\data_connector.py:425: PossibleUserWarning:\n",
      "\n",
      "The 'train_dataloader' does not have many workers which may be a bottleneck. Consider increasing the value of the `num_workers` argument` to `num_workers=7` in the `DataLoader` to improve performance.\n",
      "\n",
      "c:\\Users\\Trieu\\AppData\\Local\\pypoetry\\Cache\\virtualenvs\\hm-scalablerecs-QHnDFvap-py3.11\\Lib\\site-packages\\lightning\\pytorch\\loops\\fit_loop.py:310: PossibleUserWarning:\n",
      "\n",
      "The number of training batches (1) is smaller than the logging interval Trainer(log_every_n_steps=50). Set a lower value for log_every_n_steps if you want to see logs for the training epoch.\n",
      "\n"
     ]
    },
    {
     "data": {
      "application/vnd.jupyter.widget-view+json": {
       "model_id": "eddd0522b9194243a1a5498b9712d4ac",
       "version_major": 2,
       "version_minor": 0
      },
      "text/plain": [
       "Training: |          | 0/? [00:00<?, ?it/s]"
      ]
     },
     "metadata": {},
     "output_type": "display_data"
    },
    {
     "data": {
      "application/vnd.jupyter.widget-view+json": {
       "model_id": "6121f1d0ceb44579ab154dc269255610",
       "version_major": 2,
       "version_minor": 0
      },
      "text/plain": [
       "Validation: |          | 0/? [00:00<?, ?it/s]"
      ]
     },
     "metadata": {},
     "output_type": "display_data"
    },
    {
     "data": {
      "application/vnd.jupyter.widget-view+json": {
       "model_id": "d1fa6db715114b6498d819d3c6fcfa8e",
       "version_major": 2,
       "version_minor": 0
      },
      "text/plain": [
       "Validation: |          | 0/? [00:00<?, ?it/s]"
      ]
     },
     "metadata": {},
     "output_type": "display_data"
    },
    {
     "data": {
      "application/vnd.jupyter.widget-view+json": {
       "model_id": "950aa26afb624f279b1e1ce7f22c5b49",
       "version_major": 2,
       "version_minor": 0
      },
      "text/plain": [
       "Validation: |          | 0/? [00:00<?, ?it/s]"
      ]
     },
     "metadata": {},
     "output_type": "display_data"
    },
    {
     "data": {
      "application/vnd.jupyter.widget-view+json": {
       "model_id": "b6bf99c4384044aaa76b8715f6a167e9",
       "version_major": 2,
       "version_minor": 0
      },
      "text/plain": [
       "Validation: |          | 0/? [00:00<?, ?it/s]"
      ]
     },
     "metadata": {},
     "output_type": "display_data"
    },
    {
     "data": {
      "application/vnd.jupyter.widget-view+json": {
       "model_id": "23f08c0eb6fc4f60a7ff65bf12a8f0ef",
       "version_major": 2,
       "version_minor": 0
      },
      "text/plain": [
       "Validation: |          | 0/? [00:00<?, ?it/s]"
      ]
     },
     "metadata": {},
     "output_type": "display_data"
    },
    {
     "data": {
      "application/vnd.jupyter.widget-view+json": {
       "model_id": "721a93871fc84ad283a79aed55b638ef",
       "version_major": 2,
       "version_minor": 0
      },
      "text/plain": [
       "Validation: |          | 0/? [00:00<?, ?it/s]"
      ]
     },
     "metadata": {},
     "output_type": "display_data"
    },
    {
     "data": {
      "application/vnd.jupyter.widget-view+json": {
       "model_id": "0fe6da0dc9404f2893992d068628b8da",
       "version_major": 2,
       "version_minor": 0
      },
      "text/plain": [
       "Validation: |          | 0/? [00:00<?, ?it/s]"
      ]
     },
     "metadata": {},
     "output_type": "display_data"
    },
    {
     "data": {
      "application/vnd.jupyter.widget-view+json": {
       "model_id": "27b0d09259384607972f2aa259c3b84d",
       "version_major": 2,
       "version_minor": 0
      },
      "text/plain": [
       "Validation: |          | 0/? [00:00<?, ?it/s]"
      ]
     },
     "metadata": {},
     "output_type": "display_data"
    },
    {
     "data": {
      "application/vnd.jupyter.widget-view+json": {
       "model_id": "6ef0399f82ed4dae8e1bc7bee2df0abf",
       "version_major": 2,
       "version_minor": 0
      },
      "text/plain": [
       "Validation: |          | 0/? [00:00<?, ?it/s]"
      ]
     },
     "metadata": {},
     "output_type": "display_data"
    },
    {
     "data": {
      "application/vnd.jupyter.widget-view+json": {
       "model_id": "1a53ad37be8f434a9add7c6ebbf7e849",
       "version_major": 2,
       "version_minor": 0
      },
      "text/plain": [
       "Validation: |          | 0/? [00:00<?, ?it/s]"
      ]
     },
     "metadata": {},
     "output_type": "display_data"
    },
    {
     "data": {
      "application/vnd.jupyter.widget-view+json": {
       "model_id": "6a7e6a7485714b6cbcfef30276f8885c",
       "version_major": 2,
       "version_minor": 0
      },
      "text/plain": [
       "Validation: |          | 0/? [00:00<?, ?it/s]"
      ]
     },
     "metadata": {},
     "output_type": "display_data"
    },
    {
     "data": {
      "application/vnd.jupyter.widget-view+json": {
       "model_id": "d603079182994885aa223acec00e50bc",
       "version_major": 2,
       "version_minor": 0
      },
      "text/plain": [
       "Validation: |          | 0/? [00:00<?, ?it/s]"
      ]
     },
     "metadata": {},
     "output_type": "display_data"
    },
    {
     "data": {
      "application/vnd.jupyter.widget-view+json": {
       "model_id": "4719f0fdd7304061920b3fd031b6e43e",
       "version_major": 2,
       "version_minor": 0
      },
      "text/plain": [
       "Validation: |          | 0/? [00:00<?, ?it/s]"
      ]
     },
     "metadata": {},
     "output_type": "display_data"
    },
    {
     "data": {
      "application/vnd.jupyter.widget-view+json": {
       "model_id": "92c8bd57e93f4ce59c6d4451d3266556",
       "version_major": 2,
       "version_minor": 0
      },
      "text/plain": [
       "Validation: |          | 0/? [00:00<?, ?it/s]"
      ]
     },
     "metadata": {},
     "output_type": "display_data"
    },
    {
     "data": {
      "application/vnd.jupyter.widget-view+json": {
       "model_id": "043413bddd2942e789752b1649678a56",
       "version_major": 2,
       "version_minor": 0
      },
      "text/plain": [
       "Validation: |          | 0/? [00:00<?, ?it/s]"
      ]
     },
     "metadata": {},
     "output_type": "display_data"
    },
    {
     "data": {
      "application/vnd.jupyter.widget-view+json": {
       "model_id": "796d6c778db4486a8f831562e63580c1",
       "version_major": 2,
       "version_minor": 0
      },
      "text/plain": [
       "Validation: |          | 0/? [00:00<?, ?it/s]"
      ]
     },
     "metadata": {},
     "output_type": "display_data"
    },
    {
     "data": {
      "application/vnd.jupyter.widget-view+json": {
       "model_id": "df62112cdfb043828beeca42eda962a5",
       "version_major": 2,
       "version_minor": 0
      },
      "text/plain": [
       "Validation: |          | 0/? [00:00<?, ?it/s]"
      ]
     },
     "metadata": {},
     "output_type": "display_data"
    },
    {
     "data": {
      "application/vnd.jupyter.widget-view+json": {
       "model_id": "ec15751eaabb4d92b5b8b2dc7abc9fa4",
       "version_major": 2,
       "version_minor": 0
      },
      "text/plain": [
       "Validation: |          | 0/? [00:00<?, ?it/s]"
      ]
     },
     "metadata": {},
     "output_type": "display_data"
    },
    {
     "data": {
      "application/vnd.jupyter.widget-view+json": {
       "model_id": "44c19a03e49745fa9bf9713f4771e9b7",
       "version_major": 2,
       "version_minor": 0
      },
      "text/plain": [
       "Validation: |          | 0/? [00:00<?, ?it/s]"
      ]
     },
     "metadata": {},
     "output_type": "display_data"
    },
    {
     "data": {
      "application/vnd.jupyter.widget-view+json": {
       "model_id": "e0ae5e842a6c425c8ae6018bb542d5d8",
       "version_major": 2,
       "version_minor": 0
      },
      "text/plain": [
       "Validation: |          | 0/? [00:00<?, ?it/s]"
      ]
     },
     "metadata": {},
     "output_type": "display_data"
    },
    {
     "data": {
      "application/vnd.jupyter.widget-view+json": {
       "model_id": "acc8ad442a57443b8e02cc49e190e969",
       "version_major": 2,
       "version_minor": 0
      },
      "text/plain": [
       "Validation: |          | 0/? [00:00<?, ?it/s]"
      ]
     },
     "metadata": {},
     "output_type": "display_data"
    },
    {
     "data": {
      "application/vnd.jupyter.widget-view+json": {
       "model_id": "5098ed92baac49df9578e23a4c38502b",
       "version_major": 2,
       "version_minor": 0
      },
      "text/plain": [
       "Validation: |          | 0/? [00:00<?, ?it/s]"
      ]
     },
     "metadata": {},
     "output_type": "display_data"
    },
    {
     "data": {
      "application/vnd.jupyter.widget-view+json": {
       "model_id": "16daf5d44002450d81ebb35f95bb54ce",
       "version_major": 2,
       "version_minor": 0
      },
      "text/plain": [
       "Validation: |          | 0/? [00:00<?, ?it/s]"
      ]
     },
     "metadata": {},
     "output_type": "display_data"
    },
    {
     "data": {
      "application/vnd.jupyter.widget-view+json": {
       "model_id": "288f75349b8b43a89d3a7db015508c01",
       "version_major": 2,
       "version_minor": 0
      },
      "text/plain": [
       "Validation: |          | 0/? [00:00<?, ?it/s]"
      ]
     },
     "metadata": {},
     "output_type": "display_data"
    },
    {
     "data": {
      "application/vnd.jupyter.widget-view+json": {
       "model_id": "60c82c6597844c5db55b5f2f803d0223",
       "version_major": 2,
       "version_minor": 0
      },
      "text/plain": [
       "Validation: |          | 0/? [00:00<?, ?it/s]"
      ]
     },
     "metadata": {},
     "output_type": "display_data"
    },
    {
     "data": {
      "application/vnd.jupyter.widget-view+json": {
       "model_id": "52bc8849ae2e46d783347796a95713e1",
       "version_major": 2,
       "version_minor": 0
      },
      "text/plain": [
       "Validation: |          | 0/? [00:00<?, ?it/s]"
      ]
     },
     "metadata": {},
     "output_type": "display_data"
    },
    {
     "data": {
      "application/vnd.jupyter.widget-view+json": {
       "model_id": "f16bea2bc03143d08148e1de0edb6f79",
       "version_major": 2,
       "version_minor": 0
      },
      "text/plain": [
       "Validation: |          | 0/? [00:00<?, ?it/s]"
      ]
     },
     "metadata": {},
     "output_type": "display_data"
    },
    {
     "data": {
      "application/vnd.jupyter.widget-view+json": {
       "model_id": "92a457904c2842c6aa85460c9307d6cf",
       "version_major": 2,
       "version_minor": 0
      },
      "text/plain": [
       "Validation: |          | 0/? [00:00<?, ?it/s]"
      ]
     },
     "metadata": {},
     "output_type": "display_data"
    },
    {
     "data": {
      "application/vnd.jupyter.widget-view+json": {
       "model_id": "d692fdfb0a1c450193fd9a4942ba1307",
       "version_major": 2,
       "version_minor": 0
      },
      "text/plain": [
       "Validation: |          | 0/? [00:00<?, ?it/s]"
      ]
     },
     "metadata": {},
     "output_type": "display_data"
    },
    {
     "data": {
      "application/vnd.jupyter.widget-view+json": {
       "model_id": "35e608fecb0f40baad9a29cb9cfdabbb",
       "version_major": 2,
       "version_minor": 0
      },
      "text/plain": [
       "Validation: |          | 0/? [00:00<?, ?it/s]"
      ]
     },
     "metadata": {},
     "output_type": "display_data"
    },
    {
     "data": {
      "application/vnd.jupyter.widget-view+json": {
       "model_id": "6257db3706c04b39b58742bf43ebad87",
       "version_major": 2,
       "version_minor": 0
      },
      "text/plain": [
       "Validation: |          | 0/? [00:00<?, ?it/s]"
      ]
     },
     "metadata": {},
     "output_type": "display_data"
    },
    {
     "data": {
      "application/vnd.jupyter.widget-view+json": {
       "model_id": "6bc2027351ba4732b6bda5419bacfdaf",
       "version_major": 2,
       "version_minor": 0
      },
      "text/plain": [
       "Validation: |          | 0/? [00:00<?, ?it/s]"
      ]
     },
     "metadata": {},
     "output_type": "display_data"
    },
    {
     "data": {
      "application/vnd.jupyter.widget-view+json": {
       "model_id": "d6459282a0084f339e931a8e2fb5ca92",
       "version_major": 2,
       "version_minor": 0
      },
      "text/plain": [
       "Validation: |          | 0/? [00:00<?, ?it/s]"
      ]
     },
     "metadata": {},
     "output_type": "display_data"
    },
    {
     "data": {
      "application/vnd.jupyter.widget-view+json": {
       "model_id": "02ff6d48ffc4464eb75582678db0622f",
       "version_major": 2,
       "version_minor": 0
      },
      "text/plain": [
       "Validation: |          | 0/? [00:00<?, ?it/s]"
      ]
     },
     "metadata": {},
     "output_type": "display_data"
    },
    {
     "data": {
      "application/vnd.jupyter.widget-view+json": {
       "model_id": "9198a38a2f98444086ed10cfbdd254ae",
       "version_major": 2,
       "version_minor": 0
      },
      "text/plain": [
       "Validation: |          | 0/? [00:00<?, ?it/s]"
      ]
     },
     "metadata": {},
     "output_type": "display_data"
    },
    {
     "data": {
      "application/vnd.jupyter.widget-view+json": {
       "model_id": "629c6eed537e426cb444dd593e442557",
       "version_major": 2,
       "version_minor": 0
      },
      "text/plain": [
       "Validation: |          | 0/? [00:00<?, ?it/s]"
      ]
     },
     "metadata": {},
     "output_type": "display_data"
    },
    {
     "data": {
      "application/vnd.jupyter.widget-view+json": {
       "model_id": "a386db64acbc4d65966403949bf6bdd4",
       "version_major": 2,
       "version_minor": 0
      },
      "text/plain": [
       "Validation: |          | 0/? [00:00<?, ?it/s]"
      ]
     },
     "metadata": {},
     "output_type": "display_data"
    },
    {
     "data": {
      "application/vnd.jupyter.widget-view+json": {
       "model_id": "a9bb65db99714ebca7a1b7c0c567efa2",
       "version_major": 2,
       "version_minor": 0
      },
      "text/plain": [
       "Validation: |          | 0/? [00:00<?, ?it/s]"
      ]
     },
     "metadata": {},
     "output_type": "display_data"
    },
    {
     "data": {
      "application/vnd.jupyter.widget-view+json": {
       "model_id": "be09e36d6d3c41e785522754439fc962",
       "version_major": 2,
       "version_minor": 0
      },
      "text/plain": [
       "Validation: |          | 0/? [00:00<?, ?it/s]"
      ]
     },
     "metadata": {},
     "output_type": "display_data"
    },
    {
     "data": {
      "application/vnd.jupyter.widget-view+json": {
       "model_id": "5c901a5d58fb4262a66828d3f48d1bf7",
       "version_major": 2,
       "version_minor": 0
      },
      "text/plain": [
       "Validation: |          | 0/? [00:00<?, ?it/s]"
      ]
     },
     "metadata": {},
     "output_type": "display_data"
    },
    {
     "data": {
      "application/vnd.jupyter.widget-view+json": {
       "model_id": "c820ee40b5a54b618e4f8414f0f84229",
       "version_major": 2,
       "version_minor": 0
      },
      "text/plain": [
       "Validation: |          | 0/? [00:00<?, ?it/s]"
      ]
     },
     "metadata": {},
     "output_type": "display_data"
    },
    {
     "data": {
      "application/vnd.jupyter.widget-view+json": {
       "model_id": "7c92e3b8dd914092a50499fc8db9dd3b",
       "version_major": 2,
       "version_minor": 0
      },
      "text/plain": [
       "Validation: |          | 0/? [00:00<?, ?it/s]"
      ]
     },
     "metadata": {},
     "output_type": "display_data"
    },
    {
     "data": {
      "application/vnd.jupyter.widget-view+json": {
       "model_id": "b0aab7b511af4e3f955a80353f2cc0a6",
       "version_major": 2,
       "version_minor": 0
      },
      "text/plain": [
       "Validation: |          | 0/? [00:00<?, ?it/s]"
      ]
     },
     "metadata": {},
     "output_type": "display_data"
    },
    {
     "data": {
      "application/vnd.jupyter.widget-view+json": {
       "model_id": "8f45146f3ea14ad09e881b7901c08ed3",
       "version_major": 2,
       "version_minor": 0
      },
      "text/plain": [
       "Validation: |          | 0/? [00:00<?, ?it/s]"
      ]
     },
     "metadata": {},
     "output_type": "display_data"
    },
    {
     "data": {
      "application/vnd.jupyter.widget-view+json": {
       "model_id": "9f212c60842d4ac096dc825129a8ad10",
       "version_major": 2,
       "version_minor": 0
      },
      "text/plain": [
       "Validation: |          | 0/? [00:00<?, ?it/s]"
      ]
     },
     "metadata": {},
     "output_type": "display_data"
    },
    {
     "data": {
      "application/vnd.jupyter.widget-view+json": {
       "model_id": "197c6c7e8b0841ebbddf5da7c0080565",
       "version_major": 2,
       "version_minor": 0
      },
      "text/plain": [
       "Validation: |          | 0/? [00:00<?, ?it/s]"
      ]
     },
     "metadata": {},
     "output_type": "display_data"
    },
    {
     "name": "stderr",
     "output_type": "stream",
     "text": [
      "\u001b[32m2025-06-23 12:25:08.357\u001b[0m | \u001b[1mINFO    \u001b[0m | \u001b[36m__main__\u001b[0m:\u001b[36m<module>\u001b[0m:\u001b[36m25\u001b[0m - \u001b[1mLogs available at c:\\Users\\Trieu\\OneDrive\\Desktop\\recsys\\real_time_recsys\\notebooks\\data\\001-increse-8k-users-5-negative-samples-dim256\\logs\\overfit\\lightning_logs\\version_1\u001b[0m\n"
     ]
    }
   ],
   "source": [
    "early_stopping = EarlyStopping(\n",
    "    monitor=\"val_loss\", patience=20, mode=\"min\", verbose=False\n",
    ")\n",
    "\n",
    "# model\n",
    "model = init_model(len(batch_dataset.items), args.embedding_dim, device= device)\n",
    "lit_model = LitSkipGram(\n",
    "    model, learning_rate=0.01, l2_reg=0.0, log_dir=args.notebook_persist_dp\n",
    ")\n",
    "\n",
    "log_dir = f\"{args.notebook_persist_dp}/logs/overfit\"\n",
    "\n",
    "# train model\n",
    "trainer = L.Trainer(\n",
    "    default_root_dir=log_dir,\n",
    "    max_epochs=100,\n",
    "    overfit_batches=1,\n",
    "    callbacks=[early_stopping],\n",
    ")\n",
    "trainer.fit(\n",
    "    model=lit_model,\n",
    "    train_dataloaders=batch_dataloader,\n",
    "    val_dataloaders=batch_dataloader,\n",
    ")\n",
    "logger.info(f\"Logs available at {trainer.log_dir}\")"
   ]
  },
  {
   "cell_type": "code",
   "execution_count": 30,
   "metadata": {},
   "outputs": [
    {
     "data": {
      "text/plain": [
       "tensor([0.5147], grad_fn=<SigmoidBackward0>)"
      ]
     },
     "execution_count": 30,
     "metadata": {},
     "output_type": "execute_result"
    }
   ],
   "source": [
    "model(torch.tensor([0]), torch.tensor([2]))"
   ]
  },
  {
   "cell_type": "markdown",
   "metadata": {},
   "source": [
    "# Run with all data"
   ]
  },
  {
   "cell_type": "code",
   "execution_count": null,
   "metadata": {},
   "outputs": [
    {
     "name": "stderr",
     "output_type": "stream",
     "text": [
      "\u001b[32m2025-06-23 12:25:59.066\u001b[0m | \u001b[1mINFO    \u001b[0m | \u001b[36msrc.algo.item2vec.model\u001b[0m:\u001b[36m__init__\u001b[0m:\u001b[36m12\u001b[0m - \u001b[1mInitializing item embeddings with num items 4817, embedding dim 256\u001b[0m\n",
      "GPU available: False, used: False\n",
      "TPU available: False, using: 0 TPU cores\n",
      "HPU available: False, using: 0 HPUs\n",
      "Experiment with name Item2vec not found. Creating it.\n",
      "\n",
      "  | Name           | Type     | Params | Mode \n",
      "----------------------------------------------------\n",
      "0 | skipgram_model | SkipGram | 1.2 M  | train\n",
      "----------------------------------------------------\n",
      "1.2 M     Trainable params\n",
      "0         Non-trainable params\n",
      "1.2 M     Total params\n",
      "4.934     Total estimated model params size (MB)\n",
      "2         Modules in train mode\n",
      "0         Modules in eval mode\n"
     ]
    },
    {
     "data": {
      "application/vnd.jupyter.widget-view+json": {
       "model_id": "407be4fe92b842279551f811eebab75e",
       "version_major": 2,
       "version_minor": 0
      },
      "text/plain": [
       "Sanity Checking: |          | 0/? [00:00<?, ?it/s]"
      ]
     },
     "metadata": {},
     "output_type": "display_data"
    },
    {
     "name": "stderr",
     "output_type": "stream",
     "text": [
      "c:\\Users\\Trieu\\AppData\\Local\\pypoetry\\Cache\\virtualenvs\\hm-scalablerecs-QHnDFvap-py3.11\\Lib\\site-packages\\lightning\\pytorch\\trainer\\connectors\\data_connector.py:425: PossibleUserWarning:\n",
      "\n",
      "The 'val_dataloader' does not have many workers which may be a bottleneck. Consider increasing the value of the `num_workers` argument` to `num_workers=7` in the `DataLoader` to improve performance.\n",
      "\n",
      "c:\\Users\\Trieu\\AppData\\Local\\pypoetry\\Cache\\virtualenvs\\hm-scalablerecs-QHnDFvap-py3.11\\Lib\\site-packages\\lightning\\pytorch\\trainer\\connectors\\data_connector.py:420: UserWarning:\n",
      "\n",
      "Consider setting `persistent_workers=True` in 'train_dataloader' to speed up the dataloader worker initialization.\n",
      "\n"
     ]
    },
    {
     "data": {
      "application/vnd.jupyter.widget-view+json": {
       "model_id": "4eb0a7fe936d4032919eae1a246006d1",
       "version_major": 2,
       "version_minor": 0
      },
      "text/plain": [
       "Training: |          | 0/? [00:00<?, ?it/s]"
      ]
     },
     "metadata": {},
     "output_type": "display_data"
    },
    {
     "data": {
      "application/vnd.jupyter.widget-view+json": {
       "model_id": "29874da7a75f453d92ee2b67ae0aed32",
       "version_major": 2,
       "version_minor": 0
      },
      "text/plain": [
       "Validation: |          | 0/? [00:00<?, ?it/s]"
      ]
     },
     "metadata": {},
     "output_type": "display_data"
    },
    {
     "name": "stderr",
     "output_type": "stream",
     "text": [
      "\n",
      "Detected KeyboardInterrupt, attempting graceful shutdown ...\n"
     ]
    }
   ],
   "source": [
    "# papermill_description=fit-model\n",
    "early_stopping = EarlyStopping(\n",
    "    monitor=\"val_loss\", patience=args.early_stopping_patience, mode=\"min\", verbose=False\n",
    ")\n",
    "\n",
    "checkpoint_callback = ModelCheckpoint(\n",
    "    dirpath=f\"{args.notebook_persist_dp}/checkpoints\",\n",
    "    filename=\"best-checkpoint\",\n",
    "    save_top_k=1,\n",
    "    monitor=\"val_loss\",\n",
    "    mode=\"min\",\n",
    ")\n",
    "\n",
    "# model\n",
    "model = init_model(n_items, args.embedding_dim, device=device)\n",
    "lit_model = LitSkipGram(\n",
    "    model,\n",
    "    learning_rate=args.learning_rate,\n",
    "    l2_reg=args.l2_reg,\n",
    "    log_dir=args.notebook_persist_dp,\n",
    ")\n",
    "\n",
    "log_dir = f\"{args.notebook_persist_dp}/logs/run\"\n",
    "\n",
    "# train model\n",
    "trainer = L.Trainer(\n",
    "    default_root_dir=log_dir,\n",
    "    max_epochs=args.max_epochs,\n",
    "    callbacks=[early_stopping, checkpoint_callback],\n",
    "    accelerator=args.device if args.device else \"auto\",\n",
    "    logger=args._mlf_logger if args.log_to_mlflow else None,\n",
    ")\n",
    "trainer.fit(model=lit_model, train_dataloaders=train_loader, val_dataloaders=val_loader)"
   ]
  },
  {
   "cell_type": "code",
   "execution_count": null,
   "metadata": {},
   "outputs": [
    {
     "name": "stdout",
     "output_type": "stream",
     "text": [
      "\u001b[32m2025-03-20 21:23:37.449\u001b[0m | \u001b[1mINFO    \u001b[0m | \u001b[36msrc.skipgram.model\u001b[0m:\u001b[36m__init__\u001b[0m:\u001b[36m12\u001b[0m - \u001b[1mInitializing item embeddings with num items 4323, embedding dim 256\u001b[0m\n"
     ]
    }
   ],
   "source": [
    "best_trainer = LitSkipGram.load_from_checkpoint(\n",
    "    checkpoint_callback.best_model_path,\n",
    "    skipgram_model=init_model(n_items, args.embedding_dim, device=\"cpu\"),\n",
    ")\n",
    "# best_trainer = LitSkipGram.load_from_checkpoint(\n",
    "#     \"/home/dinhln/Desktop/MLOPS/recsys/HM-ScalableRecs/notebooks/data/000-first-attempt/checkpoints/best-checkpoint.ckpt\",\n",
    "#     skipgram_model=init_model(n_items, args.embedding_dim, device=\"cpu\"),\n",
    "# )"
   ]
  },
  {
   "cell_type": "code",
   "execution_count": null,
   "metadata": {},
   "outputs": [
    {
     "data": {
      "text/plain": [
       "SkipGram(\n",
       "  (embeddings): Embedding(4324, 256, padding_idx=4323)\n",
       ")"
      ]
     },
     "execution_count": 24,
     "metadata": {},
     "output_type": "execute_result"
    }
   ],
   "source": [
    "best_model = best_trainer.skipgram_model\n",
    "best_model.eval()"
   ]
  },
  {
   "cell_type": "code",
   "execution_count": null,
   "metadata": {},
   "outputs": [
    {
     "data": {
      "text/plain": [
       "tensor([[-0.0070,  0.0178, -0.0015,  0.1067, -0.0469, -0.0087, -0.0016, -0.0003,\n",
       "          0.0172,  0.1052]], grad_fn=<SliceBackward0>)"
      ]
     },
     "execution_count": 25,
     "metadata": {},
     "output_type": "execute_result"
    }
   ],
   "source": [
    "best_model.to(\"cpu\").embeddings(torch.tensor([8]))[: ,: 10]\n"
   ]
  },
  {
   "cell_type": "code",
   "execution_count": null,
   "metadata": {},
   "outputs": [
    {
     "data": {
      "text/plain": [
       "tensor([0.6239], grad_fn=<SigmoidBackward0>)"
      ]
     },
     "execution_count": 26,
     "metadata": {},
     "output_type": "execute_result"
    }
   ],
   "source": [
    "best_model(torch.tensor([600]), torch.tensor([603]))"
   ]
  },
  {
   "cell_type": "markdown",
   "metadata": {},
   "source": [
    "## Register model"
   ]
  },
  {
   "cell_type": "code",
   "execution_count": null,
   "metadata": {},
   "outputs": [
    {
     "name": "stderr",
     "output_type": "stream",
     "text": [
      "/home/dinhln/Desktop/MLOPS/recsys/HM-ScalableRecs/.venv/lib/python3.11/site-packages/mlflow/pyfunc/utils/data_validation.py:134: UserWarning:\n",
      "\n",
      "\u001b[33mAdd type hints to the `predict` method to enable data validation and automatic signature inference during model logging. Check https://mlflow.org/docs/latest/model/python_model.html#type-hint-usage-in-pythonmodel for more details.\u001b[0m\n",
      "\n"
     ]
    }
   ],
   "source": [
    "from src.algo.item2vec.inference import SkipGramInferenceWrapper\n",
    "inferrer = SkipGramInferenceWrapper(best_model)"
   ]
  },
  {
   "cell_type": "code",
   "execution_count": null,
   "metadata": {},
   "outputs": [
    {
     "data": {
      "text/plain": [
       "array([0.5327789], dtype=float32)"
      ]
     },
     "execution_count": 28,
     "metadata": {},
     "output_type": "execute_result"
    }
   ],
   "source": [
    "sample_input = {\n",
    "    \"item_1_ids\": [train_dataset.item_idx_to_id[0]],\n",
    "    \"item_2_ids\": [train_dataset.item_idx_to_id[1]],\n",
    "}\n",
    "sample_output = inferrer.infer([0], [1])\n",
    "sample_output"
   ]
  },
  {
   "cell_type": "code",
   "execution_count": null,
   "metadata": {},
   "outputs": [
    {
     "name": "stderr",
     "output_type": "stream",
     "text": [
      "2025/03/20 21:23:37 INFO mlflow.pyfunc: Validating input example against model signature\n"
     ]
    },
    {
     "data": {
      "application/vnd.jupyter.widget-view+json": {
       "model_id": "042eb18dc9324647bbcf5f565ff05fc9",
       "version_major": 2,
       "version_minor": 0
      },
      "text/plain": [
       "Downloading artifacts:   0%|          | 0/1 [00:00<?, ?it/s]"
      ]
     },
     "metadata": {},
     "output_type": "display_data"
    },
    {
     "name": "stderr",
     "output_type": "stream",
     "text": [
      "2025/03/20 21:23:41 WARNING mlflow.utils.requirements_utils: Found torch version (2.5.1+cu121) contains a local version label (+cu121). MLflow logged a pip requirement for this package as 'torch==2.5.1' without the local version label to make it installable from PyPI. To specify pip requirements containing local version labels, please use `conda_env` or `pip_requirements`.\n",
      "Registered model 'item2vec' already exists. Creating a new version of this model...\n",
      "2025/03/20 21:23:42 INFO mlflow.store.model_registry.abstract_store: Waiting up to 300 seconds for model version to finish creation. Model name: item2vec, version 7\n"
     ]
    },
    {
     "name": "stdout",
     "output_type": "stream",
     "text": [
      "\u001b[32m2025-03-20 21:23:41.865\u001b[0m | \u001b[1mINFO    \u001b[0m | \u001b[36msrc.skipgram.inference\u001b[0m:\u001b[36mload_context\u001b[0m:\u001b[36m19\u001b[0m - \u001b[1mLength of item: 4323\u001b[0m\n",
      "\u001b[32m2025-03-20 21:23:41.866\u001b[0m | \u001b[1mINFO    \u001b[0m | \u001b[36msrc.skipgram.inference\u001b[0m:\u001b[36mload_context\u001b[0m:\u001b[36m20\u001b[0m - \u001b[1mLength of user: 9495\u001b[0m\n",
      "🏃 View run 001-increse-8k-users-5-negative-samples-dim256 at: http://localhost:5002/#/experiments/8/runs/19bb6989961548e084636529c65dc214\n",
      "🧪 View experiment at: http://localhost:5002/#/experiments/8\n"
     ]
    },
    {
     "name": "stderr",
     "output_type": "stream",
     "text": [
      "Created version '7' of model 'item2vec'.\n"
     ]
    }
   ],
   "source": [
    "if args.log_to_mlflow:\n",
    "    run_id = trainer.logger.run_id\n",
    "    sample_output_np = sample_output\n",
    "    signature = infer_signature(sample_input, sample_output_np)\n",
    "    with mlflow.start_run(run_id=run_id):\n",
    "        mlflow.pyfunc.log_model(\n",
    "            python_model=inferrer,\n",
    "            artifact_path=\"inferrer\",\n",
    "            # We log the id_mapping to the predict function so that it can accept item_id and automatically convert ot item_indice for PyTorch model to use\n",
    "            artifacts={\"id_mapping\": \"C:/Users/Trieu/OneDrive/Desktop/recsys/real_time_recsys/data_for_ai/interim/idm_16407u.json\"},\n",
    "            signature=signature,\n",
    "            input_example=sample_input,\n",
    "            registered_model_name=args.mlf_model_name,\n",
    "        )"
   ]
  },
  {
   "cell_type": "code",
   "execution_count": null,
   "metadata": {},
   "outputs": [],
   "source": [
    "# # Set the new model as champion\n",
    "# mlf_client = trainer.logger.experiment\n",
    "# if args.log_to_mlflow:\n",
    "#     val_roc_auc = trainer.logger.experiment.get_run(trainer.logger.run_id).data.metrics[\n",
    "#         \"val_roc_auc\"\n",
    "#     ]\n",
    "\n",
    "#     if val_roc_auc > args.min_roc_auc:\n",
    "#         logger.info(f\"Aliasing the new model as champion...\")\n",
    "#         model_version = (\n",
    "#             mlf_client.get_registered_model(args.mlf_model_name)\n",
    "#             .latest_versions[0]\n",
    "#             .version\n",
    "#         )\n",
    "\n",
    "#         mlf_client.set_registered_model_alias(\n",
    "#             name=args.mlf_model_name, alias=\"champion\", version=model_version\n",
    "#         )\n",
    "\n",
    "#         mlf_client.set_model_version_tag(\n",
    "#             name=args.mlf_model_name,\n",
    "#             version=model_version,\n",
    "#             key=\"author\",\n",
    "#             value=\"dinhnehehe\",\n",
    "#         )"
   ]
  },
  {
   "cell_type": "code",
   "execution_count": null,
   "metadata": {},
   "outputs": [],
   "source": [
    "# model_uri = f\"models:/{args.mlf_model_name}@champion\"\n",
    "# model = mlflow.pyfunc.load_model(model_uri)"
   ]
  },
  {
   "cell_type": "code",
   "execution_count": null,
   "metadata": {},
   "outputs": [],
   "source": [
    "# sample_input = {\n",
    "#     \"item_1_ids\": [\"1111111111\"],\n",
    "#     \"item_2_ids\": [\"2222\"],\n",
    "# }\n",
    "# model.predict(sample_input)\n"
   ]
  },
  {
   "cell_type": "code",
   "execution_count": null,
   "metadata": {},
   "outputs": [],
   "source": [
    "# sample_input = {\n",
    "#     \"item_1_ids\": [train_dataset.item_idx_to_id[2]],\n",
    "#     \"item_2_ids\": [train_dataset.item_idx_to_id[1]],\n",
    "# }\n",
    "# model.predict(sample_input)"
   ]
  },
  {
   "cell_type": "markdown",
   "metadata": {},
   "source": [
    "## Log params and clean up"
   ]
  },
  {
   "cell_type": "code",
   "execution_count": null,
   "metadata": {},
   "outputs": [
    {
     "name": "stdout",
     "output_type": "stream",
     "text": [
      "🏃 View run 001-increse-8k-users-5-negative-samples-dim256 at: http://localhost:5002/#/experiments/8/runs/19bb6989961548e084636529c65dc214\n",
      "🧪 View experiment at: http://localhost:5002/#/experiments/8\n"
     ]
    }
   ],
   "source": [
    "all_params = [args]\n",
    "\n",
    "if args.log_to_mlflow:\n",
    "    with mlflow.start_run(run_id=run_id):\n",
    "        for params in all_params:\n",
    "            params_dict = params.model_dump()\n",
    "            params_ = {\n",
    "                f\"{params.__repr_name__()}.{k}\": v for k, v in params_dict.items()\n",
    "            }\n",
    "            mlflow.log_params(params_)"
   ]
  }
 ],
 "metadata": {
  "kernelspec": {
   "display_name": "hm-scalablerecs-QHnDFvap-py3.11",
   "language": "python",
   "name": "python3"
  },
  "language_info": {
   "codemirror_mode": {
    "name": "ipython",
    "version": 3
   },
   "file_extension": ".py",
   "mimetype": "text/x-python",
   "name": "python",
   "nbconvert_exporter": "python",
   "pygments_lexer": "ipython3",
   "version": "3.11.9"
  }
 },
 "nbformat": 4,
 "nbformat_minor": 2
}
