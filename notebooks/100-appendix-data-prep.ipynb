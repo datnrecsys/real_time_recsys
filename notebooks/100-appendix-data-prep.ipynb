{
 "cells": [
  {
   "cell_type": "markdown",
   "metadata": {},
   "source": [
    "# Data prep"
   ]
  },
  {
   "cell_type": "code",
   "execution_count": 3,
   "metadata": {},
   "outputs": [],
   "source": [
    "import os\n",
    "import sys\n",
    "\n",
    "import pandas as pd\n",
    "import numpy as np\n",
    "from loguru import logger\n",
    "from pydantic import BaseModel\n",
    "from tqdm import tqdm\n",
    "sys.path.insert(0, \"..\")"
   ]
  },
  {
   "cell_type": "code",
   "execution_count": 4,
   "metadata": {},
   "outputs": [
    {
     "name": "stdout",
     "output_type": "stream",
     "text": [
      "{\n",
      "  \"random_seed\": 41,\n",
      "  \"user_col\": \"user_id\",\n",
      "  \"item_col\": \"parent_asin\",\n",
      "  \"rating_col\": \"rating\",\n",
      "  \"timestamp_col\": \"timestamp\"\n",
      "}\n"
     ]
    }
   ],
   "source": [
    "class Args(BaseModel):\n",
    "    random_seed: int = 41\n",
    "\n",
    "    user_col: str = \"user_id\"\n",
    "    item_col: str = \"parent_asin\"\n",
    "    rating_col: str = \"rating\"\n",
    "    timestamp_col: str = \"timestamp\"\n",
    "\n",
    "args = Args()\n",
    "\n",
    "print(args.model_dump_json(indent=2))"
   ]
  },
  {
   "cell_type": "markdown",
   "metadata": {},
   "source": [
    "## Negative sampling"
   ]
  },
  {
   "cell_type": "code",
   "execution_count": 5,
   "metadata": {},
   "outputs": [
    {
     "data": {
      "text/html": [
       "<div>\n",
       "<style scoped>\n",
       "    .dataframe tbody tr th:only-of-type {\n",
       "        vertical-align: middle;\n",
       "    }\n",
       "\n",
       "    .dataframe tbody tr th {\n",
       "        vertical-align: top;\n",
       "    }\n",
       "\n",
       "    .dataframe thead th {\n",
       "        text-align: right;\n",
       "    }\n",
       "</style>\n",
       "<table border=\"1\" class=\"dataframe\">\n",
       "  <thead>\n",
       "    <tr style=\"text-align: right;\">\n",
       "      <th></th>\n",
       "      <th>user_id</th>\n",
       "      <th>parent_asin</th>\n",
       "      <th>rating</th>\n",
       "      <th>timestamp</th>\n",
       "    </tr>\n",
       "  </thead>\n",
       "  <tbody>\n",
       "    <tr>\n",
       "      <th>3194</th>\n",
       "      <td>AEYGPUCRKH7G4VM22FM3VAKSQ23Q</td>\n",
       "      <td>B06XKCPK5W</td>\n",
       "      <td>2.0</td>\n",
       "      <td>2012-06-11 16:41:10</td>\n",
       "    </tr>\n",
       "    <tr>\n",
       "      <th>3199</th>\n",
       "      <td>AEYGPUCRKH7G4VM22FM3VAKSQ23Q</td>\n",
       "      <td>B000CKVOOY</td>\n",
       "      <td>3.0</td>\n",
       "      <td>2012-08-02 02:04:13</td>\n",
       "    </tr>\n",
       "    <tr>\n",
       "      <th>3200</th>\n",
       "      <td>AEYGPUCRKH7G4VM22FM3VAKSQ23Q</td>\n",
       "      <td>B006GWO5WK</td>\n",
       "      <td>5.0</td>\n",
       "      <td>2012-09-15 16:34:46</td>\n",
       "    </tr>\n",
       "  </tbody>\n",
       "</table>\n",
       "</div>"
      ],
      "text/plain": [
       "                           user_id parent_asin  rating           timestamp\n",
       "3194  AEYGPUCRKH7G4VM22FM3VAKSQ23Q  B06XKCPK5W     2.0 2012-06-11 16:41:10\n",
       "3199  AEYGPUCRKH7G4VM22FM3VAKSQ23Q  B000CKVOOY     3.0 2012-08-02 02:04:13\n",
       "3200  AEYGPUCRKH7G4VM22FM3VAKSQ23Q  B006GWO5WK     5.0 2012-09-15 16:34:46"
      ]
     },
     "execution_count": 5,
     "metadata": {},
     "output_type": "execute_result"
    }
   ],
   "source": [
    "train_df = pd.read_parquet(\"../data_for_ai/interim/train_sample_interactions_16407u.parquet\")\n",
    "val_df = pd.read_parquet(\"../data_for_ai/interim/val_sample_interactions_16407u.parquet\")\n",
    "train_df.head(3)"
   ]
  },
  {
   "cell_type": "code",
   "execution_count": 22,
   "metadata": {},
   "outputs": [],
   "source": [
    "# Test data\n",
    "train_df = pd.DataFrame(\n",
    "    {\n",
    "        args.user_col: [1, 2, 3, 1],\n",
    "        args.item_col: [4, 5, 6, 7],\n",
    "        args.rating_col: [1, 1, 1, 5],\n",
    "        args.timestamp_col: [1, 2, 3, 4],\n",
    "        'point_int_time_feat': [\"Goat M10\", \"hehe2\", \"hehe3\", \"new_value\"],\n",
    "\n",
    "    }\n",
    ")"
   ]
  },
  {
   "cell_type": "code",
   "execution_count": 23,
   "metadata": {},
   "outputs": [],
   "source": [
    "# Groupby user to get the set of item that each user has interacted with\n",
    "interacted = train_df.groupby(args.user_col)[args.item_col].apply(set).to_dict()"
   ]
  },
  {
   "cell_type": "code",
   "execution_count": 24,
   "metadata": {},
   "outputs": [],
   "source": [
    "# Groupby item to get the popularity of each item\n",
    "item_popularity = train_df.groupby(args.item_col)[args.user_col].count()\n",
    "\n",
    "# Alternative way\n",
    "item_popularity = train_df[args.item_col].value_counts()"
   ]
  },
  {
   "cell_type": "code",
   "execution_count": 25,
   "metadata": {},
   "outputs": [],
   "source": [
    "items = item_popularity.index.values\n",
    "items_set = set(items)\n",
    "popularity = item_popularity.values.astype(np.float64)"
   ]
  },
  {
   "cell_type": "code",
   "execution_count": 26,
   "metadata": {},
   "outputs": [
    {
     "data": {
      "text/plain": [
       "array([0.25, 0.25, 0.25, 0.25])"
      ]
     },
     "execution_count": 26,
     "metadata": {},
     "output_type": "execute_result"
    }
   ],
   "source": [
    "sampling_probs = popularity / np.sum(popularity)\n",
    "sampling_probs"
   ]
  },
  {
   "cell_type": "code",
   "execution_count": 27,
   "metadata": {},
   "outputs": [],
   "source": [
    "# Build up item2idx mapping\n",
    "item_to_idx = {item: idx for idx, item in enumerate(items)}"
   ]
  },
  {
   "cell_type": "code",
   "execution_count": 28,
   "metadata": {},
   "outputs": [
    {
     "name": "stdout",
     "output_type": "stream",
     "text": [
      "{1: {4, 7}, 2: {5}, 3: {6}}\n"
     ]
    }
   ],
   "source": [
    "print(interacted)"
   ]
  },
  {
   "cell_type": "code",
   "execution_count": 57,
   "metadata": {},
   "outputs": [
    {
     "name": "stderr",
     "output_type": "stream",
     "text": [
      "Generating negative samples: 100%|██████████| 4/4 [00:00<00:00, 4943.20it/s]\n"
     ]
    }
   ],
   "source": [
    "# Get negative samples for each row in order to get the corresponding point in time features\n",
    "tqdm.pandas(desc=\"Generating negative samples\")\n",
    "negative_samples = []\n",
    "ratio = 2\n",
    "features = []\n",
    "\n",
    "def generate_negative_samples(row):\n",
    "    user_id = row[args.user_col]\n",
    "\n",
    "    pos_items = interacted[user_id]\n",
    "    \n",
    "    negative_candidates = items_set  - pos_items\n",
    "    num_negative_candidates = len(negative_candidates)\n",
    "\n",
    "    if num_negative_candidates ==0:\n",
    "        print(f\"User {user_id} has interacted with all items, skipping...\")\n",
    "        return []\n",
    "    \n",
    "    num_negative = min(ratio, num_negative_candidates)\n",
    "\n",
    "    negative_candidates_list = list(negative_candidates)\n",
    "\n",
    "    negative_candidates_list_idx = [item_to_idx[item] for item in negative_candidates_list]\n",
    "    negative_candidates_sampling_probs = sampling_probs[negative_candidates_list_idx]\n",
    "    negative_candidates_sampling_probs /= np.sum(negative_candidates_sampling_probs)\n",
    "\n",
    "    negative_items = np.random.choice(\n",
    "        negative_candidates_list,\n",
    "        size=num_negative,\n",
    "        replace=False,\n",
    "        p=negative_candidates_sampling_probs\n",
    "    )\n",
    "    return negative_items\n",
    "\n",
    "\n",
    "df_negative = (train_df.assign(\n",
    "    negative_sample= lambda df: df.progress_apply(generate_negative_samples, axis=1))\n",
    "    .explode(\"negative_sample\")\n",
    "    .drop([args.item_col], axis = 1)\n",
    "    .rename(columns={\"negative_sample\": args.item_col})\n",
    "    .assign(rating=0)\n",
    "    [[args.timestamp_col, args.user_col, args.item_col, args.rating_col, *features]]\n",
    ")"
   ]
  },
  {
   "cell_type": "code",
   "execution_count": 58,
   "metadata": {},
   "outputs": [],
   "source": [
    "# negative_samples = []\n",
    "# ratio = 1\n",
    "# for user, pos_items in tqdm(interacted.items()):\n",
    "#     num_pos = len(pos_items)\n",
    "\n",
    "#     negative_candidates = items_set - pos_items\n",
    "    \n",
    "#     num_negative_candidates = len(negative_candidates)\n",
    "\n",
    "#     if num_negative_candidates ==0:\n",
    "#         print(f\"User {user} has interacted with all items, skipping...\")\n",
    "#         continue\n",
    "\n",
    "#     num_negative = min(num_pos * ratio, num_negative_candidates)\n",
    "\n",
    "#     negative_candidates_list = list(negative_candidates)\n",
    "\n",
    "#     negative_candidates_list_idx = [item_to_idx[item] for item in negative_candidates_list]\n",
    "#     negative_candidates_sampling_probs = sampling_probs[negative_candidates_list_idx]\n",
    "#     negative_candidates_sampling_probs /= np.sum(negative_candidates_sampling_probs)\n",
    "    \n",
    "#     negative_items = np.random.choice(\n",
    "#         negative_candidates_list,\n",
    "#         size=num_negative,\n",
    "#         replace=False,\n",
    "#         p=negative_candidates_sampling_probs,\n",
    "#     )\n",
    "\n",
    "#     negative_samples.extend([(user, item) for item in negative_items])"
   ]
  },
  {
   "cell_type": "code",
   "execution_count": 59,
   "metadata": {},
   "outputs": [],
   "source": [
    "# df_negative = pd.DataFrame(negative_samples, columns=[args.user_col, args.item_col])\n",
    "# df_negative[\"rating\"] = 0"
   ]
  },
  {
   "cell_type": "code",
   "execution_count": 64,
   "metadata": {},
   "outputs": [
    {
     "data": {
      "text/html": [
       "<div>\n",
       "<style scoped>\n",
       "    .dataframe tbody tr th:only-of-type {\n",
       "        vertical-align: middle;\n",
       "    }\n",
       "\n",
       "    .dataframe tbody tr th {\n",
       "        vertical-align: top;\n",
       "    }\n",
       "\n",
       "    .dataframe thead th {\n",
       "        text-align: right;\n",
       "    }\n",
       "</style>\n",
       "<table border=\"1\" class=\"dataframe\">\n",
       "  <thead>\n",
       "    <tr style=\"text-align: right;\">\n",
       "      <th></th>\n",
       "      <th>timestamp</th>\n",
       "      <th>user_id</th>\n",
       "      <th>parent_asin</th>\n",
       "      <th>rating</th>\n",
       "    </tr>\n",
       "  </thead>\n",
       "  <tbody>\n",
       "    <tr>\n",
       "      <th>0</th>\n",
       "      <td>1</td>\n",
       "      <td>1</td>\n",
       "      <td>6</td>\n",
       "      <td>0</td>\n",
       "    </tr>\n",
       "    <tr>\n",
       "      <th>0</th>\n",
       "      <td>1</td>\n",
       "      <td>1</td>\n",
       "      <td>5</td>\n",
       "      <td>0</td>\n",
       "    </tr>\n",
       "    <tr>\n",
       "      <th>1</th>\n",
       "      <td>2</td>\n",
       "      <td>2</td>\n",
       "      <td>7</td>\n",
       "      <td>0</td>\n",
       "    </tr>\n",
       "    <tr>\n",
       "      <th>1</th>\n",
       "      <td>2</td>\n",
       "      <td>2</td>\n",
       "      <td>4</td>\n",
       "      <td>0</td>\n",
       "    </tr>\n",
       "    <tr>\n",
       "      <th>2</th>\n",
       "      <td>3</td>\n",
       "      <td>3</td>\n",
       "      <td>7</td>\n",
       "      <td>0</td>\n",
       "    </tr>\n",
       "    <tr>\n",
       "      <th>2</th>\n",
       "      <td>3</td>\n",
       "      <td>3</td>\n",
       "      <td>5</td>\n",
       "      <td>0</td>\n",
       "    </tr>\n",
       "    <tr>\n",
       "      <th>3</th>\n",
       "      <td>4</td>\n",
       "      <td>1</td>\n",
       "      <td>6</td>\n",
       "      <td>0</td>\n",
       "    </tr>\n",
       "    <tr>\n",
       "      <th>3</th>\n",
       "      <td>4</td>\n",
       "      <td>1</td>\n",
       "      <td>5</td>\n",
       "      <td>0</td>\n",
       "    </tr>\n",
       "  </tbody>\n",
       "</table>\n",
       "</div>"
      ],
      "text/plain": [
       "   timestamp  user_id parent_asin  rating\n",
       "0          1        1           6       0\n",
       "0          1        1           5       0\n",
       "1          2        2           7       0\n",
       "1          2        2           4       0\n",
       "2          3        3           7       0\n",
       "2          3        3           5       0\n",
       "3          4        1           6       0\n",
       "3          4        1           5       0"
      ]
     },
     "execution_count": 64,
     "metadata": {},
     "output_type": "execute_result"
    }
   ],
   "source": [
    "df_negative"
   ]
  },
  {
   "cell_type": "code",
   "execution_count": 33,
   "metadata": {},
   "outputs": [],
   "source": [
    "# # Join with positive df\n",
    "# df_negative = df_negative.assign(\n",
    "#     timestamp_pseudo = lambda df: df.groupby(args.user_col).cumcount() + 1,\n",
    "# )\n",
    "# df_negative"
   ]
  },
  {
   "cell_type": "code",
   "execution_count": 63,
   "metadata": {},
   "outputs": [
    {
     "data": {
      "text/html": [
       "<div>\n",
       "<style scoped>\n",
       "    .dataframe tbody tr th:only-of-type {\n",
       "        vertical-align: middle;\n",
       "    }\n",
       "\n",
       "    .dataframe tbody tr th {\n",
       "        vertical-align: top;\n",
       "    }\n",
       "\n",
       "    .dataframe thead th {\n",
       "        text-align: right;\n",
       "    }\n",
       "</style>\n",
       "<table border=\"1\" class=\"dataframe\">\n",
       "  <thead>\n",
       "    <tr style=\"text-align: right;\">\n",
       "      <th></th>\n",
       "      <th>user_id</th>\n",
       "      <th>parent_asin</th>\n",
       "      <th>rating</th>\n",
       "      <th>timestamp</th>\n",
       "      <th>point_int_time_feat</th>\n",
       "    </tr>\n",
       "  </thead>\n",
       "  <tbody>\n",
       "    <tr>\n",
       "      <th>0</th>\n",
       "      <td>1</td>\n",
       "      <td>4</td>\n",
       "      <td>1</td>\n",
       "      <td>1</td>\n",
       "      <td>Goat M10</td>\n",
       "    </tr>\n",
       "    <tr>\n",
       "      <th>1</th>\n",
       "      <td>2</td>\n",
       "      <td>5</td>\n",
       "      <td>1</td>\n",
       "      <td>2</td>\n",
       "      <td>hehe2</td>\n",
       "    </tr>\n",
       "    <tr>\n",
       "      <th>2</th>\n",
       "      <td>3</td>\n",
       "      <td>6</td>\n",
       "      <td>1</td>\n",
       "      <td>3</td>\n",
       "      <td>hehe3</td>\n",
       "    </tr>\n",
       "    <tr>\n",
       "      <th>3</th>\n",
       "      <td>1</td>\n",
       "      <td>7</td>\n",
       "      <td>5</td>\n",
       "      <td>4</td>\n",
       "      <td>new_value</td>\n",
       "    </tr>\n",
       "  </tbody>\n",
       "</table>\n",
       "</div>"
      ],
      "text/plain": [
       "   user_id  parent_asin  rating  timestamp point_int_time_feat\n",
       "0        1            4       1          1            Goat M10\n",
       "1        2            5       1          2               hehe2\n",
       "2        3            6       1          3               hehe3\n",
       "3        1            7       5          4           new_value"
      ]
     },
     "execution_count": 63,
     "metadata": {},
     "output_type": "execute_result"
    }
   ],
   "source": [
    "train_df"
   ]
  },
  {
   "cell_type": "code",
   "execution_count": 61,
   "metadata": {},
   "outputs": [
    {
     "data": {
      "text/html": [
       "<div>\n",
       "<style scoped>\n",
       "    .dataframe tbody tr th:only-of-type {\n",
       "        vertical-align: middle;\n",
       "    }\n",
       "\n",
       "    .dataframe tbody tr th {\n",
       "        vertical-align: top;\n",
       "    }\n",
       "\n",
       "    .dataframe thead th {\n",
       "        text-align: right;\n",
       "    }\n",
       "</style>\n",
       "<table border=\"1\" class=\"dataframe\">\n",
       "  <thead>\n",
       "    <tr style=\"text-align: right;\">\n",
       "      <th></th>\n",
       "      <th>timestamp</th>\n",
       "      <th>user_id</th>\n",
       "      <th>parent_asin</th>\n",
       "      <th>rating_x</th>\n",
       "      <th>rating_y</th>\n",
       "      <th>point_int_time_feat</th>\n",
       "    </tr>\n",
       "  </thead>\n",
       "  <tbody>\n",
       "    <tr>\n",
       "      <th>0</th>\n",
       "      <td>1</td>\n",
       "      <td>1</td>\n",
       "      <td>6</td>\n",
       "      <td>0</td>\n",
       "      <td>NaN</td>\n",
       "      <td>NaN</td>\n",
       "    </tr>\n",
       "    <tr>\n",
       "      <th>1</th>\n",
       "      <td>1</td>\n",
       "      <td>1</td>\n",
       "      <td>5</td>\n",
       "      <td>0</td>\n",
       "      <td>NaN</td>\n",
       "      <td>NaN</td>\n",
       "    </tr>\n",
       "    <tr>\n",
       "      <th>2</th>\n",
       "      <td>2</td>\n",
       "      <td>2</td>\n",
       "      <td>7</td>\n",
       "      <td>0</td>\n",
       "      <td>NaN</td>\n",
       "      <td>NaN</td>\n",
       "    </tr>\n",
       "    <tr>\n",
       "      <th>3</th>\n",
       "      <td>2</td>\n",
       "      <td>2</td>\n",
       "      <td>4</td>\n",
       "      <td>0</td>\n",
       "      <td>NaN</td>\n",
       "      <td>NaN</td>\n",
       "    </tr>\n",
       "    <tr>\n",
       "      <th>4</th>\n",
       "      <td>3</td>\n",
       "      <td>3</td>\n",
       "      <td>7</td>\n",
       "      <td>0</td>\n",
       "      <td>NaN</td>\n",
       "      <td>NaN</td>\n",
       "    </tr>\n",
       "    <tr>\n",
       "      <th>5</th>\n",
       "      <td>3</td>\n",
       "      <td>3</td>\n",
       "      <td>5</td>\n",
       "      <td>0</td>\n",
       "      <td>NaN</td>\n",
       "      <td>NaN</td>\n",
       "    </tr>\n",
       "    <tr>\n",
       "      <th>6</th>\n",
       "      <td>4</td>\n",
       "      <td>1</td>\n",
       "      <td>6</td>\n",
       "      <td>0</td>\n",
       "      <td>NaN</td>\n",
       "      <td>NaN</td>\n",
       "    </tr>\n",
       "    <tr>\n",
       "      <th>7</th>\n",
       "      <td>4</td>\n",
       "      <td>1</td>\n",
       "      <td>5</td>\n",
       "      <td>0</td>\n",
       "      <td>NaN</td>\n",
       "      <td>NaN</td>\n",
       "    </tr>\n",
       "  </tbody>\n",
       "</table>\n",
       "</div>"
      ],
      "text/plain": [
       "   timestamp  user_id parent_asin  rating_x  rating_y point_int_time_feat\n",
       "0          1        1           6         0       NaN                 NaN\n",
       "1          1        1           5         0       NaN                 NaN\n",
       "2          2        2           7         0       NaN                 NaN\n",
       "3          2        2           4         0       NaN                 NaN\n",
       "4          3        3           7         0       NaN                 NaN\n",
       "5          3        3           5         0       NaN                 NaN\n",
       "6          4        1           6         0       NaN                 NaN\n",
       "7          4        1           5         0       NaN                 NaN"
      ]
     },
     "execution_count": 61,
     "metadata": {},
     "output_type": "execute_result"
    }
   ],
   "source": [
    "pd.merge(\n",
    "    df_negative,\n",
    "    train_df,\n",
    "    how=\"left\",\n",
    "    on=[args.user_col, args.item_col, args.timestamp_col],\n",
    "    validate=\"m:m\"\n",
    ")"
   ]
  }
 ],
 "metadata": {
  "kernelspec": {
   "display_name": "Python 3",
   "language": "python",
   "name": "python3"
  },
  "language_info": {
   "codemirror_mode": {
    "name": "ipython",
    "version": 3
   },
   "file_extension": ".py",
   "mimetype": "text/x-python",
   "name": "python",
   "nbconvert_exporter": "python",
   "pygments_lexer": "ipython3",
   "version": "3.11.9"
  }
 },
 "nbformat": 4,
 "nbformat_minor": 2
}
