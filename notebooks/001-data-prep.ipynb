{
 "cells": [
  {
   "cell_type": "code",
   "execution_count": null,
   "metadata": {},
   "outputs": [],
   "source": [
    "%load_ext autoreload\n",
    "%autoreload 2"
   ]
  },
  {
   "cell_type": "code",
   "execution_count": 6,
   "metadata": {},
   "outputs": [],
   "source": [
    "import os\n",
    "import sys\n",
    "from functools import partial\n",
    "\n",
    "import numpy as np\n",
    "import plotly.express as px\n",
    "from loguru import logger\n",
    "from pydantic import BaseModel, model_validator\n",
    "from load_dotenv import load_dotenv\n",
    "import pandas as pd\n",
    "\n",
    "from sqlalchemy import create_engine\n",
    "from feast import FeatureStore\n",
    "import pandas as pd\n",
    "\n",
    "sys.path.insert(0, \"..\")\n",
    "\n",
    "from src.utils.split_time_based import train_test_split_timebased\n",
    "from src.utils.embedding_id_mapper import IDMapper\n",
    "import plotly.express as px\n",
    "import plotly.graph_objects as go\n",
    "from plotly.subplots import make_subplots\n",
    "\n",
    "_ = load_dotenv(override=True)"
   ]
  },
  {
   "cell_type": "markdown",
   "metadata": {},
   "source": [
    "## Controler"
   ]
  },
  {
   "cell_type": "code",
   "execution_count": 98,
   "metadata": {},
   "outputs": [
    {
     "name": "stdout",
     "output_type": "stream",
     "text": [
      "{\n",
      "  \"run_name\": \"000-data-prep\",\n",
      "  \"run_description\": \"Splitting data into train, val, test sets, then sampling data for quick iteration\",\n",
      "  \"testing\": false,\n",
      "  \"sample_data_persit_path\": \"/home/dinhln/Desktop/real_time_recsys/data_for_ai/interim\",\n",
      "  \"notebook_persit_path\": \"/home/dinhln/Desktop/real_time_recsys/notebooks/data/000-data-prep\",\n",
      "  \"random_seed\": 41,\n",
      "  \"user_col\": \"user_id\",\n",
      "  \"item_col\": \"parent_asin\",\n",
      "  \"rating_col\": \"rating\",\n",
      "  \"timestamp_col\": \"timestamp\",\n",
      "  \"sample_users\": 5000,\n",
      "  \"min_user_interactions\": 5,\n",
      "  \"min_item_interactions\": 10,\n",
      "  \"val_num_days\": 420,\n",
      "  \"test_num_days\": 540,\n",
      "  \"rating_dataset_path\": \"/home/dinhln/Desktop/real_time_recsys/data_for_ai/raw/amz_raw_rating.parquet\"\n",
      "}\n"
     ]
    }
   ],
   "source": [
    "class Args(BaseModel):\n",
    "    run_name: str = \"000-data-prep\"\n",
    "    run_description: str = \"Splitting data into train, val, test sets, then sampling data for quick iteration\"\n",
    "    testing: bool = False\n",
    "    sample_data_persit_path: str = None    # path of the sampled data: train, test and val\n",
    "    notebook_persit_path: str = None    # path of the notebook\n",
    "    random_seed: int = 41\n",
    "\n",
    "    user_col: str = \"user_id\"\n",
    "    item_col: str = \"parent_asin\"\n",
    "    rating_col: str = \"rating\"\n",
    "    timestamp_col: str = \"timestamp\"\n",
    "\n",
    "    sample_users: int = 5000\n",
    "    min_user_interactions: int = 5\n",
    "    min_item_interactions: int = 10\n",
    "\n",
    "    val_num_days: int = 420\n",
    "    test_num_days: int = 540\n",
    "\n",
    "    rating_dataset_path: str = os.path.abspath(\"../data_for_ai/raw/amz_raw_rating.parquet\")\n",
    "\n",
    "    def init(self):\n",
    "        self.sample_data_persit_path = os.path.abspath(f\"../data_for_ai/interim\")\n",
    "        self.notebook_persit_path = os.path.abspath(f\"./data/{self.run_name}\")\n",
    "        if not self.testing:\n",
    "            os.makedirs(self.sample_data_persit_path, exist_ok=True)\n",
    "            os.makedirs(self.notebook_persit_path, exist_ok=True)\n",
    "\n",
    "        return self\n",
    "\n",
    "\n",
    "args = Args().init()\n",
    "\n",
    "print(args.model_dump_json(indent=2))"
   ]
  },
  {
   "cell_type": "markdown",
   "metadata": {},
   "source": [
    "## Load data from a specific period in order to train the model\n",
    "\n",
    "In notebook 002-simulate-oltp, we can see that the time period from March 2020 to Sep 2020 is the good choice. There are active interactions between users and items in this period and wen can keep the recency. So, we will load data from this period to train the model."
   ]
  },
  {
   "cell_type": "code",
   "execution_count": 65,
   "metadata": {},
   "outputs": [
    {
     "name": "stdout",
     "output_type": "stream",
     "text": [
      "DataFrame shape: (43334103, 4)\n"
     ]
    }
   ],
   "source": [
    "# Concatenate all processed chunks into a final DataFrame\n",
    "full_df = pd.read_parquet(args.rating_dataset_path)\n",
    "print(f\"DataFrame shape: {full_df.shape}\")\n"
   ]
  },
  {
   "cell_type": "code",
   "execution_count": 60,
   "metadata": {},
   "outputs": [
    {
     "data": {
      "text/html": [
       "<div>\n",
       "<style scoped>\n",
       "    .dataframe tbody tr th:only-of-type {\n",
       "        vertical-align: middle;\n",
       "    }\n",
       "\n",
       "    .dataframe tbody tr th {\n",
       "        vertical-align: top;\n",
       "    }\n",
       "\n",
       "    .dataframe thead th {\n",
       "        text-align: right;\n",
       "    }\n",
       "</style>\n",
       "<table border=\"1\" class=\"dataframe\">\n",
       "  <thead>\n",
       "    <tr style=\"text-align: right;\">\n",
       "      <th></th>\n",
       "      <th>user_id</th>\n",
       "      <th>parent_asin</th>\n",
       "      <th>rating</th>\n",
       "      <th>timestamp</th>\n",
       "    </tr>\n",
       "  </thead>\n",
       "  <tbody>\n",
       "    <tr>\n",
       "      <th>0</th>\n",
       "      <td>AFKZENTNBQ7A7V7UXW5JJI6UGRYQ</td>\n",
       "      <td>B01G8JO5F2</td>\n",
       "      <td>5.0</td>\n",
       "      <td>2018-04-07 09:23:37.534</td>\n",
       "    </tr>\n",
       "    <tr>\n",
       "      <th>1</th>\n",
       "      <td>AFKZENTNBQ7A7V7UXW5JJI6UGRYQ</td>\n",
       "      <td>B07N69T6TM</td>\n",
       "      <td>1.0</td>\n",
       "      <td>2020-06-20 18:42:29.731</td>\n",
       "    </tr>\n",
       "    <tr>\n",
       "      <th>2</th>\n",
       "      <td>AFKZENTNBQ7A7V7UXW5JJI6UGRYQ</td>\n",
       "      <td>B083NRGZMM</td>\n",
       "      <td>3.0</td>\n",
       "      <td>2022-07-18 22:58:37.948</td>\n",
       "    </tr>\n",
       "    <tr>\n",
       "      <th>3</th>\n",
       "      <td>AGGZ357AO26RQZVRLGU4D4N52DZQ</td>\n",
       "      <td>B001OC5JKY</td>\n",
       "      <td>5.0</td>\n",
       "      <td>2010-11-20 18:41:35.000</td>\n",
       "    </tr>\n",
       "    <tr>\n",
       "      <th>4</th>\n",
       "      <td>AG2L7H23R5LLKDKLBEF2Q3L2MVDA</td>\n",
       "      <td>B07CJYMRWM</td>\n",
       "      <td>5.0</td>\n",
       "      <td>2023-02-17 02:39:41.238</td>\n",
       "    </tr>\n",
       "  </tbody>\n",
       "</table>\n",
       "</div>"
      ],
      "text/plain": [
       "                        user_id parent_asin  rating               timestamp\n",
       "0  AFKZENTNBQ7A7V7UXW5JJI6UGRYQ  B01G8JO5F2     5.0 2018-04-07 09:23:37.534\n",
       "1  AFKZENTNBQ7A7V7UXW5JJI6UGRYQ  B07N69T6TM     1.0 2020-06-20 18:42:29.731\n",
       "2  AFKZENTNBQ7A7V7UXW5JJI6UGRYQ  B083NRGZMM     3.0 2022-07-18 22:58:37.948\n",
       "3  AGGZ357AO26RQZVRLGU4D4N52DZQ  B001OC5JKY     5.0 2010-11-20 18:41:35.000\n",
       "4  AG2L7H23R5LLKDKLBEF2Q3L2MVDA  B07CJYMRWM     5.0 2023-02-17 02:39:41.238"
      ]
     },
     "execution_count": 60,
     "metadata": {},
     "output_type": "execute_result"
    }
   ],
   "source": [
    "full_df.head()"
   ]
  },
  {
   "cell_type": "code",
   "execution_count": 31,
   "metadata": {},
   "outputs": [],
   "source": [
    "def remove_random_users(df, k=10):\n",
    "    users = df[args.user_col].unique()\n",
    "    np.random.seed(args.random_seed)\n",
    "    to_remove_users = np.random.choice(users, size=k, replace=False)\n",
    "    return df.loc[lambda df: ~df[args.user_col].isin(to_remove_users)]\n",
    "\n",
    "\n",
    "def get_unqualified(df, col: str, threshold: int):\n",
    "    unqualified = df.groupby(col).size().loc[lambda s: s < threshold].index\n",
    "    return unqualified"
   ]
  },
  {
   "cell_type": "code",
   "execution_count": 19,
   "metadata": {},
   "outputs": [],
   "source": [
    "get_unqualified_users = partial(\n",
    "    get_unqualified, col=args.user_col, threshold=5\n",
    ")\n",
    "get_unqualified_items = partial(\n",
    "    get_unqualified, col=args.item_col, threshold=5\n",
    ")"
   ]
  },
  {
   "cell_type": "code",
   "execution_count": 20,
   "metadata": {},
   "outputs": [
    {
     "name": "stdout",
     "output_type": "stream",
     "text": [
      "Number of unqualified users: 16420548\n",
      "Number of unqualified items: 987017\n"
     ]
    }
   ],
   "source": [
    "# get 5-core df\n",
    "uu = get_unqualified_users(full_df)\n",
    "ui = get_unqualified_items(full_df)\n",
    "print(f\"Number of unqualified users: {len(uu)}\")\n",
    "print(f\"Number of unqualified items: {len(ui)}\")"
   ]
  },
  {
   "cell_type": "code",
   "execution_count": 21,
   "metadata": {},
   "outputs": [
    {
     "name": "stdout",
     "output_type": "stream",
     "text": [
      "5-core DataFrame shape: (16879366, 4)\n"
     ]
    }
   ],
   "source": [
    "full_5core_df = full_df.loc[lambda df: ~df[args.user_col].isin(uu)]\n",
    "full_5core_df = full_5core_df.loc[lambda df: ~df[args.item_col].isin(ui)]\n",
    "print(f\"5-core DataFrame shape: {full_5core_df.shape}\")"
   ]
  },
  {
   "cell_type": "code",
   "execution_count": 22,
   "metadata": {},
   "outputs": [
    {
     "name": "stderr",
     "output_type": "stream",
     "text": [
      "\u001b[32m2025-03-26 23:40:31.668\u001b[0m | \u001b[1mINFO    \u001b[0m | \u001b[36m__main__\u001b[0m:\u001b[36m<module>\u001b[0m:\u001b[36m1\u001b[0m - \u001b[1m26454737 \u001b[0m\n"
     ]
    }
   ],
   "source": [
    "logger.info(f\"{len(full_df) - len(full_5core_df)} \")"
   ]
  },
  {
   "cell_type": "code",
   "execution_count": 99,
   "metadata": {},
   "outputs": [
    {
     "name": "stderr",
     "output_type": "stream",
     "text": [
      "\u001b[32m2025-03-27 01:23:18.987\u001b[0m | \u001b[1mINFO    \u001b[0m | \u001b[36msrc.utils.split_time_based\u001b[0m:\u001b[36mtrain_test_split_timebased\u001b[0m:\u001b[36m26\u001b[0m - \u001b[1mRemoving users from val and test sets...\u001b[0m\n",
      "\u001b[32m2025-03-27 01:23:24.875\u001b[0m | \u001b[1mINFO    \u001b[0m | \u001b[36msrc.utils.split_time_based\u001b[0m:\u001b[36mtrain_test_split_timebased\u001b[0m:\u001b[36m37\u001b[0m - \u001b[1mRemoved 141738 users from val set\u001b[0m\n",
      "\u001b[32m2025-03-27 01:23:25.016\u001b[0m | \u001b[1mINFO    \u001b[0m | \u001b[36msrc.utils.split_time_based\u001b[0m:\u001b[36mtrain_test_split_timebased\u001b[0m:\u001b[36m40\u001b[0m - \u001b[1mRemoved 265886 users from test set\u001b[0m\n",
      "\u001b[32m2025-03-27 01:23:25.017\u001b[0m | \u001b[1mINFO    \u001b[0m | \u001b[36msrc.utils.split_time_based\u001b[0m:\u001b[36mtrain_test_split_timebased\u001b[0m:\u001b[36m43\u001b[0m - \u001b[1mTrain set has 1762078 users\u001b[0m\n",
      "\u001b[32m2025-03-27 01:23:25.236\u001b[0m | \u001b[1mINFO    \u001b[0m | \u001b[36msrc.utils.split_time_based\u001b[0m:\u001b[36mtrain_test_split_timebased\u001b[0m:\u001b[36m44\u001b[0m - \u001b[1mVal set has 680644 users\u001b[0m\n",
      "\u001b[32m2025-03-27 01:23:25.424\u001b[0m | \u001b[1mINFO    \u001b[0m | \u001b[36msrc.utils.split_time_based\u001b[0m:\u001b[36mtrain_test_split_timebased\u001b[0m:\u001b[36m45\u001b[0m - \u001b[1mTest set has 432255 users\u001b[0m\n"
     ]
    }
   ],
   "source": [
    "# Split train, val, test\n",
    "train_df, val_df, test_df = train_test_split_timebased(\n",
    "    full_5core_df, user_id_col=\"user_id\",\n",
    "        item_id_col=\"parent_asin\",\n",
    "        timestamp_col=\"timestamp\",\n",
    "        val_num_days=args.val_num_days,\n",
    "        test_num_days=args.test_num_days)"
   ]
  },
  {
   "cell_type": "code",
   "execution_count": 100,
   "metadata": {},
   "outputs": [],
   "source": [
    "assert train_df[args.timestamp_col].max() < val_df[args.timestamp_col].min(), \"There are overlapping timestamps between train and validation datasets.\"\n",
    "assert val_df[args.timestamp_col].max() < test_df[args.timestamp_col].min(), \"There are overlapping timestamps between validation and test datasets.\""
   ]
  },
  {
   "cell_type": "code",
   "execution_count": 101,
   "metadata": {},
   "outputs": [
    {
     "name": "stderr",
     "output_type": "stream",
     "text": [
      "\u001b[32m2025-03-27 01:23:27.019\u001b[0m | \u001b[1mINFO    \u001b[0m | \u001b[36m__main__\u001b[0m:\u001b[36m<module>\u001b[0m:\u001b[36m1\u001b[0m - \u001b[1mTrain: (13043980, 4), Val: (1375948, 4), Test: (749578, 4)\u001b[0m\n"
     ]
    }
   ],
   "source": [
    "logger.info(f\"Train: {train_df.shape}, Val: {val_df.shape}, Test: {test_df.shape}\")"
   ]
  },
  {
   "cell_type": "markdown",
   "metadata": {},
   "source": [
    "## Sampling data\n",
    "\n",
    "Just randomly get X users will not guarantee that the output dataset would qualify the condition of **richness**. Instead we take an iterative approach where we gradually drop random users from the dataset while keeping an eye on the conditions and our sampling target."
   ]
  },
  {
   "cell_type": "code",
   "execution_count": 102,
   "metadata": {},
   "outputs": [],
   "source": [
    "get_unqualified_users = partial(\n",
    "    get_unqualified, col=args.user_col, threshold=args.min_user_interactions\n",
    ")\n",
    "get_unqualified_items = partial(\n",
    "    get_unqualified, col=args.item_col, threshold=args.min_item_interactions\n",
    ")"
   ]
  },
  {
   "cell_type": "code",
   "execution_count": 103,
   "metadata": {},
   "outputs": [
    {
     "name": "stdout",
     "output_type": "stream",
     "text": [
      "\n",
      "\n",
      "Randomly removing 88103 users - Round 1 started\n"
     ]
    },
    {
     "name": "stderr",
     "output_type": "stream",
     "text": [
      "\u001b[32m2025-03-27 01:23:39.852\u001b[0m | \u001b[1mINFO    \u001b[0m | \u001b[36m__main__\u001b[0m:\u001b[36m<module>\u001b[0m:\u001b[36m23\u001b[0m - \u001b[1mSampling round 1 started\u001b[0m\n",
      "\u001b[32m2025-03-27 01:23:43.850\u001b[0m | \u001b[1mINFO    \u001b[0m | \u001b[36m__main__\u001b[0m:\u001b[36m<module>\u001b[0m:\u001b[36m27\u001b[0m - \u001b[1mlen(uu)=503157\u001b[0m\n",
      "\u001b[32m2025-03-27 01:23:44.995\u001b[0m | \u001b[1mINFO    \u001b[0m | \u001b[36m__main__\u001b[0m:\u001b[36m<module>\u001b[0m:\u001b[36m31\u001b[0m - \u001b[1mAfter removing uu: len(sample_df)=10878907\u001b[0m\n",
      "\u001b[32m2025-03-27 01:23:49.717\u001b[0m | \u001b[1mINFO    \u001b[0m | \u001b[36m__main__\u001b[0m:\u001b[36m<module>\u001b[0m:\u001b[36m36\u001b[0m - \u001b[1mlen(ui)=318409\u001b[0m\n",
      "\u001b[32m2025-03-27 01:23:51.873\u001b[0m | \u001b[1mINFO    \u001b[0m | \u001b[36m__main__\u001b[0m:\u001b[36m<module>\u001b[0m:\u001b[36m40\u001b[0m - \u001b[1mAfter removing ui: len(sample_df)=9688502\u001b[0m\n",
      "\u001b[32m2025-03-27 01:23:53.200\u001b[0m | \u001b[1mINFO    \u001b[0m | \u001b[36m__main__\u001b[0m:\u001b[36m<module>\u001b[0m:\u001b[36m23\u001b[0m - \u001b[1mSampling round 2 started\u001b[0m\n",
      "\u001b[32m2025-03-27 01:23:55.868\u001b[0m | \u001b[1mINFO    \u001b[0m | \u001b[36m__main__\u001b[0m:\u001b[36m<module>\u001b[0m:\u001b[36m27\u001b[0m - \u001b[1mlen(uu)=183917\u001b[0m\n",
      "\u001b[32m2025-03-27 01:23:56.932\u001b[0m | \u001b[1mINFO    \u001b[0m | \u001b[36m__main__\u001b[0m:\u001b[36m<module>\u001b[0m:\u001b[36m31\u001b[0m - \u001b[1mAfter removing uu: len(sample_df)=9010705\u001b[0m\n",
      "\u001b[32m2025-03-27 01:24:00.149\u001b[0m | \u001b[1mINFO    \u001b[0m | \u001b[36m__main__\u001b[0m:\u001b[36m<module>\u001b[0m:\u001b[36m36\u001b[0m - \u001b[1mlen(ui)=9645\u001b[0m\n",
      "\u001b[32m2025-03-27 01:24:01.206\u001b[0m | \u001b[1mINFO    \u001b[0m | \u001b[36m__main__\u001b[0m:\u001b[36m<module>\u001b[0m:\u001b[36m40\u001b[0m - \u001b[1mAfter removing ui: len(sample_df)=8928358\u001b[0m\n",
      "\u001b[32m2025-03-27 01:24:02.263\u001b[0m | \u001b[1mINFO    \u001b[0m | \u001b[36m__main__\u001b[0m:\u001b[36m<module>\u001b[0m:\u001b[36m23\u001b[0m - \u001b[1mSampling round 3 started\u001b[0m\n",
      "\u001b[32m2025-03-27 01:24:04.572\u001b[0m | \u001b[1mINFO    \u001b[0m | \u001b[36m__main__\u001b[0m:\u001b[36m<module>\u001b[0m:\u001b[36m27\u001b[0m - \u001b[1mlen(uu)=14244\u001b[0m\n",
      "\u001b[32m2025-03-27 01:24:05.196\u001b[0m | \u001b[1mINFO    \u001b[0m | \u001b[36m__main__\u001b[0m:\u001b[36m<module>\u001b[0m:\u001b[36m31\u001b[0m - \u001b[1mAfter removing uu: len(sample_df)=8871783\u001b[0m\n",
      "\u001b[32m2025-03-27 01:24:08.282\u001b[0m | \u001b[1mINFO    \u001b[0m | \u001b[36m__main__\u001b[0m:\u001b[36m<module>\u001b[0m:\u001b[36m36\u001b[0m - \u001b[1mlen(ui)=830\u001b[0m\n",
      "\u001b[32m2025-03-27 01:24:08.974\u001b[0m | \u001b[1mINFO    \u001b[0m | \u001b[36m__main__\u001b[0m:\u001b[36m<module>\u001b[0m:\u001b[36m40\u001b[0m - \u001b[1mAfter removing ui: len(sample_df)=8864361\u001b[0m\n",
      "\u001b[32m2025-03-27 01:24:09.980\u001b[0m | \u001b[1mINFO    \u001b[0m | \u001b[36m__main__\u001b[0m:\u001b[36m<module>\u001b[0m:\u001b[36m23\u001b[0m - \u001b[1mSampling round 4 started\u001b[0m\n",
      "\u001b[32m2025-03-27 01:24:12.445\u001b[0m | \u001b[1mINFO    \u001b[0m | \u001b[36m__main__\u001b[0m:\u001b[36m<module>\u001b[0m:\u001b[36m27\u001b[0m - \u001b[1mlen(uu)=1349\u001b[0m\n",
      "\u001b[32m2025-03-27 01:24:13.151\u001b[0m | \u001b[1mINFO    \u001b[0m | \u001b[36m__main__\u001b[0m:\u001b[36m<module>\u001b[0m:\u001b[36m31\u001b[0m - \u001b[1mAfter removing uu: len(sample_df)=8858968\u001b[0m\n",
      "\u001b[32m2025-03-27 01:24:16.460\u001b[0m | \u001b[1mINFO    \u001b[0m | \u001b[36m__main__\u001b[0m:\u001b[36m<module>\u001b[0m:\u001b[36m36\u001b[0m - \u001b[1mlen(ui)=80\u001b[0m\n",
      "\u001b[32m2025-03-27 01:24:17.398\u001b[0m | \u001b[1mINFO    \u001b[0m | \u001b[36m__main__\u001b[0m:\u001b[36m<module>\u001b[0m:\u001b[36m40\u001b[0m - \u001b[1mAfter removing ui: len(sample_df)=8858248\u001b[0m\n",
      "\u001b[32m2025-03-27 01:24:18.445\u001b[0m | \u001b[1mINFO    \u001b[0m | \u001b[36m__main__\u001b[0m:\u001b[36m<module>\u001b[0m:\u001b[36m23\u001b[0m - \u001b[1mSampling round 5 started\u001b[0m\n",
      "\u001b[32m2025-03-27 01:24:20.549\u001b[0m | \u001b[1mINFO    \u001b[0m | \u001b[36m__main__\u001b[0m:\u001b[36m<module>\u001b[0m:\u001b[36m27\u001b[0m - \u001b[1mlen(uu)=131\u001b[0m\n",
      "\u001b[32m2025-03-27 01:24:21.111\u001b[0m | \u001b[1mINFO    \u001b[0m | \u001b[36m__main__\u001b[0m:\u001b[36m<module>\u001b[0m:\u001b[36m31\u001b[0m - \u001b[1mAfter removing uu: len(sample_df)=8857724\u001b[0m\n",
      "\u001b[32m2025-03-27 01:24:24.544\u001b[0m | \u001b[1mINFO    \u001b[0m | \u001b[36m__main__\u001b[0m:\u001b[36m<module>\u001b[0m:\u001b[36m36\u001b[0m - \u001b[1mlen(ui)=7\u001b[0m\n",
      "\u001b[32m2025-03-27 01:24:25.294\u001b[0m | \u001b[1mINFO    \u001b[0m | \u001b[36m__main__\u001b[0m:\u001b[36m<module>\u001b[0m:\u001b[36m40\u001b[0m - \u001b[1mAfter removing ui: len(sample_df)=8857661\u001b[0m\n",
      "\u001b[32m2025-03-27 01:24:26.467\u001b[0m | \u001b[1mINFO    \u001b[0m | \u001b[36m__main__\u001b[0m:\u001b[36m<module>\u001b[0m:\u001b[36m23\u001b[0m - \u001b[1mSampling round 6 started\u001b[0m\n",
      "\u001b[32m2025-03-27 01:24:28.858\u001b[0m | \u001b[1mINFO    \u001b[0m | \u001b[36m__main__\u001b[0m:\u001b[36m<module>\u001b[0m:\u001b[36m27\u001b[0m - \u001b[1mlen(uu)=4\u001b[0m\n",
      "\u001b[32m2025-03-27 01:24:29.493\u001b[0m | \u001b[1mINFO    \u001b[0m | \u001b[36m__main__\u001b[0m:\u001b[36m<module>\u001b[0m:\u001b[36m31\u001b[0m - \u001b[1mAfter removing uu: len(sample_df)=8857645\u001b[0m\n",
      "\u001b[32m2025-03-27 01:24:32.670\u001b[0m | \u001b[1mINFO    \u001b[0m | \u001b[36m__main__\u001b[0m:\u001b[36m<module>\u001b[0m:\u001b[36m36\u001b[0m - \u001b[1mlen(ui)=0\u001b[0m\n",
      "\u001b[32m2025-03-27 01:24:32.671\u001b[0m | \u001b[1mINFO    \u001b[0m | \u001b[36m__main__\u001b[0m:\u001b[36m<module>\u001b[0m:\u001b[36m23\u001b[0m - \u001b[1mSampling round 7 started\u001b[0m\n",
      "\u001b[32m2025-03-27 01:24:34.809\u001b[0m | \u001b[1mINFO    \u001b[0m | \u001b[36m__main__\u001b[0m:\u001b[36m<module>\u001b[0m:\u001b[36m27\u001b[0m - \u001b[1mlen(uu)=0\u001b[0m\n",
      "\u001b[32m2025-03-27 01:24:35.858\u001b[0m | \u001b[1mINFO    \u001b[0m | \u001b[36m__main__\u001b[0m:\u001b[36m<module>\u001b[0m:\u001b[36m36\u001b[0m - \u001b[1mlen(ui)=0\u001b[0m\n",
      "\u001b[32m2025-03-27 01:24:37.381\u001b[0m | \u001b[1mINFO    \u001b[0m | \u001b[36m__main__\u001b[0m:\u001b[36m<module>\u001b[0m:\u001b[36m48\u001b[0m - \u001b[1mAfter randomly removing users - round 1: num_users=971087\u001b[0m\n",
      "\u001b[32m2025-03-27 01:24:37.382\u001b[0m | \u001b[1mINFO    \u001b[0m | \u001b[36m__main__\u001b[0m:\u001b[36m<module>\u001b[0m:\u001b[36m54\u001b[0m - \u001b[1mNumber of users 971087 are still greater than expected, keep removing...\u001b[0m\n"
     ]
    },
    {
     "name": "stdout",
     "output_type": "stream",
     "text": [
      "\n",
      "\n",
      "Randomly removing 48554 users - Round 2 started\n"
     ]
    },
    {
     "name": "stderr",
     "output_type": "stream",
     "text": [
      "\u001b[32m2025-03-27 01:24:40.536\u001b[0m | \u001b[1mINFO    \u001b[0m | \u001b[36m__main__\u001b[0m:\u001b[36m<module>\u001b[0m:\u001b[36m23\u001b[0m - \u001b[1mSampling round 1 started\u001b[0m\n",
      "\u001b[32m2025-03-27 01:24:42.507\u001b[0m | \u001b[1mINFO    \u001b[0m | \u001b[36m__main__\u001b[0m:\u001b[36m<module>\u001b[0m:\u001b[36m27\u001b[0m - \u001b[1mlen(uu)=0\u001b[0m\n",
      "\u001b[32m2025-03-27 01:24:43.672\u001b[0m | \u001b[1mINFO    \u001b[0m | \u001b[36m__main__\u001b[0m:\u001b[36m<module>\u001b[0m:\u001b[36m36\u001b[0m - \u001b[1mlen(ui)=5242\u001b[0m\n",
      "\u001b[32m2025-03-27 01:24:44.679\u001b[0m | \u001b[1mINFO    \u001b[0m | \u001b[36m__main__\u001b[0m:\u001b[36m<module>\u001b[0m:\u001b[36m40\u001b[0m - \u001b[1mAfter removing ui: len(sample_df)=8367279\u001b[0m\n",
      "\u001b[32m2025-03-27 01:24:45.645\u001b[0m | \u001b[1mINFO    \u001b[0m | \u001b[36m__main__\u001b[0m:\u001b[36m<module>\u001b[0m:\u001b[36m23\u001b[0m - \u001b[1mSampling round 2 started\u001b[0m\n",
      "\u001b[32m2025-03-27 01:24:47.560\u001b[0m | \u001b[1mINFO    \u001b[0m | \u001b[36m__main__\u001b[0m:\u001b[36m<module>\u001b[0m:\u001b[36m27\u001b[0m - \u001b[1mlen(uu)=7120\u001b[0m\n",
      "\u001b[32m2025-03-27 01:24:48.092\u001b[0m | \u001b[1mINFO    \u001b[0m | \u001b[36m__main__\u001b[0m:\u001b[36m<module>\u001b[0m:\u001b[36m31\u001b[0m - \u001b[1mAfter removing uu: len(sample_df)=8338891\u001b[0m\n",
      "\u001b[32m2025-03-27 01:24:50.925\u001b[0m | \u001b[1mINFO    \u001b[0m | \u001b[36m__main__\u001b[0m:\u001b[36m<module>\u001b[0m:\u001b[36m36\u001b[0m - \u001b[1mlen(ui)=420\u001b[0m\n",
      "\u001b[32m2025-03-27 01:24:51.571\u001b[0m | \u001b[1mINFO    \u001b[0m | \u001b[36m__main__\u001b[0m:\u001b[36m<module>\u001b[0m:\u001b[36m40\u001b[0m - \u001b[1mAfter removing ui: len(sample_df)=8335118\u001b[0m\n",
      "\u001b[32m2025-03-27 01:24:52.515\u001b[0m | \u001b[1mINFO    \u001b[0m | \u001b[36m__main__\u001b[0m:\u001b[36m<module>\u001b[0m:\u001b[36m23\u001b[0m - \u001b[1mSampling round 3 started\u001b[0m\n",
      "\u001b[32m2025-03-27 01:24:54.439\u001b[0m | \u001b[1mINFO    \u001b[0m | \u001b[36m__main__\u001b[0m:\u001b[36m<module>\u001b[0m:\u001b[36m27\u001b[0m - \u001b[1mlen(uu)=629\u001b[0m\n",
      "\u001b[32m2025-03-27 01:24:55.012\u001b[0m | \u001b[1mINFO    \u001b[0m | \u001b[36m__main__\u001b[0m:\u001b[36m<module>\u001b[0m:\u001b[36m31\u001b[0m - \u001b[1mAfter removing uu: len(sample_df)=8332602\u001b[0m\n",
      "\u001b[32m2025-03-27 01:24:57.834\u001b[0m | \u001b[1mINFO    \u001b[0m | \u001b[36m__main__\u001b[0m:\u001b[36m<module>\u001b[0m:\u001b[36m36\u001b[0m - \u001b[1mlen(ui)=49\u001b[0m\n",
      "\u001b[32m2025-03-27 01:24:58.786\u001b[0m | \u001b[1mINFO    \u001b[0m | \u001b[36m__main__\u001b[0m:\u001b[36m<module>\u001b[0m:\u001b[36m40\u001b[0m - \u001b[1mAfter removing ui: len(sample_df)=8332161\u001b[0m\n",
      "\u001b[32m2025-03-27 01:24:59.706\u001b[0m | \u001b[1mINFO    \u001b[0m | \u001b[36m__main__\u001b[0m:\u001b[36m<module>\u001b[0m:\u001b[36m23\u001b[0m - \u001b[1mSampling round 4 started\u001b[0m\n",
      "\u001b[32m2025-03-27 01:25:01.547\u001b[0m | \u001b[1mINFO    \u001b[0m | \u001b[36m__main__\u001b[0m:\u001b[36m<module>\u001b[0m:\u001b[36m27\u001b[0m - \u001b[1mlen(uu)=71\u001b[0m\n",
      "\u001b[32m2025-03-27 01:25:02.074\u001b[0m | \u001b[1mINFO    \u001b[0m | \u001b[36m__main__\u001b[0m:\u001b[36m<module>\u001b[0m:\u001b[36m31\u001b[0m - \u001b[1mAfter removing uu: len(sample_df)=8331877\u001b[0m\n",
      "\u001b[32m2025-03-27 01:25:04.807\u001b[0m | \u001b[1mINFO    \u001b[0m | \u001b[36m__main__\u001b[0m:\u001b[36m<module>\u001b[0m:\u001b[36m36\u001b[0m - \u001b[1mlen(ui)=9\u001b[0m\n",
      "\u001b[32m2025-03-27 01:25:05.574\u001b[0m | \u001b[1mINFO    \u001b[0m | \u001b[36m__main__\u001b[0m:\u001b[36m<module>\u001b[0m:\u001b[36m40\u001b[0m - \u001b[1mAfter removing ui: len(sample_df)=8331796\u001b[0m\n",
      "\u001b[32m2025-03-27 01:25:06.477\u001b[0m | \u001b[1mINFO    \u001b[0m | \u001b[36m__main__\u001b[0m:\u001b[36m<module>\u001b[0m:\u001b[36m23\u001b[0m - \u001b[1mSampling round 5 started\u001b[0m\n",
      "\u001b[32m2025-03-27 01:25:08.344\u001b[0m | \u001b[1mINFO    \u001b[0m | \u001b[36m__main__\u001b[0m:\u001b[36m<module>\u001b[0m:\u001b[36m27\u001b[0m - \u001b[1mlen(uu)=15\u001b[0m\n",
      "\u001b[32m2025-03-27 01:25:08.848\u001b[0m | \u001b[1mINFO    \u001b[0m | \u001b[36m__main__\u001b[0m:\u001b[36m<module>\u001b[0m:\u001b[36m31\u001b[0m - \u001b[1mAfter removing uu: len(sample_df)=8331736\u001b[0m\n",
      "\u001b[32m2025-03-27 01:25:11.623\u001b[0m | \u001b[1mINFO    \u001b[0m | \u001b[36m__main__\u001b[0m:\u001b[36m<module>\u001b[0m:\u001b[36m36\u001b[0m - \u001b[1mlen(ui)=1\u001b[0m\n",
      "\u001b[32m2025-03-27 01:25:12.154\u001b[0m | \u001b[1mINFO    \u001b[0m | \u001b[36m__main__\u001b[0m:\u001b[36m<module>\u001b[0m:\u001b[36m40\u001b[0m - \u001b[1mAfter removing ui: len(sample_df)=8331727\u001b[0m\n",
      "\u001b[32m2025-03-27 01:25:13.061\u001b[0m | \u001b[1mINFO    \u001b[0m | \u001b[36m__main__\u001b[0m:\u001b[36m<module>\u001b[0m:\u001b[36m23\u001b[0m - \u001b[1mSampling round 6 started\u001b[0m\n",
      "\u001b[32m2025-03-27 01:25:14.893\u001b[0m | \u001b[1mINFO    \u001b[0m | \u001b[36m__main__\u001b[0m:\u001b[36m<module>\u001b[0m:\u001b[36m27\u001b[0m - \u001b[1mlen(uu)=1\u001b[0m\n",
      "\u001b[32m2025-03-27 01:25:15.336\u001b[0m | \u001b[1mINFO    \u001b[0m | \u001b[36m__main__\u001b[0m:\u001b[36m<module>\u001b[0m:\u001b[36m31\u001b[0m - \u001b[1mAfter removing uu: len(sample_df)=8331723\u001b[0m\n",
      "\u001b[32m2025-03-27 01:25:18.122\u001b[0m | \u001b[1mINFO    \u001b[0m | \u001b[36m__main__\u001b[0m:\u001b[36m<module>\u001b[0m:\u001b[36m36\u001b[0m - \u001b[1mlen(ui)=0\u001b[0m\n",
      "\u001b[32m2025-03-27 01:25:18.122\u001b[0m | \u001b[1mINFO    \u001b[0m | \u001b[36m__main__\u001b[0m:\u001b[36m<module>\u001b[0m:\u001b[36m23\u001b[0m - \u001b[1mSampling round 7 started\u001b[0m\n",
      "\u001b[32m2025-03-27 01:25:19.939\u001b[0m | \u001b[1mINFO    \u001b[0m | \u001b[36m__main__\u001b[0m:\u001b[36m<module>\u001b[0m:\u001b[36m27\u001b[0m - \u001b[1mlen(uu)=0\u001b[0m\n",
      "\u001b[32m2025-03-27 01:25:20.866\u001b[0m | \u001b[1mINFO    \u001b[0m | \u001b[36m__main__\u001b[0m:\u001b[36m<module>\u001b[0m:\u001b[36m36\u001b[0m - \u001b[1mlen(ui)=0\u001b[0m\n",
      "\u001b[32m2025-03-27 01:25:22.072\u001b[0m | \u001b[1mINFO    \u001b[0m | \u001b[36m__main__\u001b[0m:\u001b[36m<module>\u001b[0m:\u001b[36m48\u001b[0m - \u001b[1mAfter randomly removing users - round 2: num_users=914697\u001b[0m\n",
      "\u001b[32m2025-03-27 01:25:22.072\u001b[0m | \u001b[1mINFO    \u001b[0m | \u001b[36m__main__\u001b[0m:\u001b[36m<module>\u001b[0m:\u001b[36m54\u001b[0m - \u001b[1mNumber of users 914697 are still greater than expected, keep removing...\u001b[0m\n"
     ]
    },
    {
     "name": "stdout",
     "output_type": "stream",
     "text": [
      "\n",
      "\n",
      "Randomly removing 45734 users - Round 3 started\n"
     ]
    },
    {
     "name": "stderr",
     "output_type": "stream",
     "text": [
      "\u001b[32m2025-03-27 01:25:24.717\u001b[0m | \u001b[1mINFO    \u001b[0m | \u001b[36m__main__\u001b[0m:\u001b[36m<module>\u001b[0m:\u001b[36m23\u001b[0m - \u001b[1mSampling round 1 started\u001b[0m\n",
      "\u001b[32m2025-03-27 01:25:26.480\u001b[0m | \u001b[1mINFO    \u001b[0m | \u001b[36m__main__\u001b[0m:\u001b[36m<module>\u001b[0m:\u001b[36m27\u001b[0m - \u001b[1mlen(uu)=0\u001b[0m\n",
      "\u001b[32m2025-03-27 01:25:27.369\u001b[0m | \u001b[1mINFO    \u001b[0m | \u001b[36m__main__\u001b[0m:\u001b[36m<module>\u001b[0m:\u001b[36m36\u001b[0m - \u001b[1mlen(ui)=5128\u001b[0m\n",
      "\u001b[32m2025-03-27 01:25:28.245\u001b[0m | \u001b[1mINFO    \u001b[0m | \u001b[36m__main__\u001b[0m:\u001b[36m<module>\u001b[0m:\u001b[36m40\u001b[0m - \u001b[1mAfter removing ui: len(sample_df)=7867836\u001b[0m\n",
      "\u001b[32m2025-03-27 01:25:29.089\u001b[0m | \u001b[1mINFO    \u001b[0m | \u001b[36m__main__\u001b[0m:\u001b[36m<module>\u001b[0m:\u001b[36m23\u001b[0m - \u001b[1mSampling round 2 started\u001b[0m\n",
      "\u001b[32m2025-03-27 01:25:30.857\u001b[0m | \u001b[1mINFO    \u001b[0m | \u001b[36m__main__\u001b[0m:\u001b[36m<module>\u001b[0m:\u001b[36m27\u001b[0m - \u001b[1mlen(uu)=6896\u001b[0m\n",
      "\u001b[32m2025-03-27 01:25:31.344\u001b[0m | \u001b[1mINFO    \u001b[0m | \u001b[36m__main__\u001b[0m:\u001b[36m<module>\u001b[0m:\u001b[36m31\u001b[0m - \u001b[1mAfter removing uu: len(sample_df)=7840354\u001b[0m\n",
      "\u001b[32m2025-03-27 01:25:33.982\u001b[0m | \u001b[1mINFO    \u001b[0m | \u001b[36m__main__\u001b[0m:\u001b[36m<module>\u001b[0m:\u001b[36m36\u001b[0m - \u001b[1mlen(ui)=458\u001b[0m\n",
      "\u001b[32m2025-03-27 01:25:34.620\u001b[0m | \u001b[1mINFO    \u001b[0m | \u001b[36m__main__\u001b[0m:\u001b[36m<module>\u001b[0m:\u001b[36m40\u001b[0m - \u001b[1mAfter removing ui: len(sample_df)=7836240\u001b[0m\n",
      "\u001b[32m2025-03-27 01:25:35.472\u001b[0m | \u001b[1mINFO    \u001b[0m | \u001b[36m__main__\u001b[0m:\u001b[36m<module>\u001b[0m:\u001b[36m23\u001b[0m - \u001b[1mSampling round 3 started\u001b[0m\n",
      "\u001b[32m2025-03-27 01:25:37.225\u001b[0m | \u001b[1mINFO    \u001b[0m | \u001b[36m__main__\u001b[0m:\u001b[36m<module>\u001b[0m:\u001b[36m27\u001b[0m - \u001b[1mlen(uu)=693\u001b[0m\n",
      "\u001b[32m2025-03-27 01:25:37.793\u001b[0m | \u001b[1mINFO    \u001b[0m | \u001b[36m__main__\u001b[0m:\u001b[36m<module>\u001b[0m:\u001b[36m31\u001b[0m - \u001b[1mAfter removing uu: len(sample_df)=7833469\u001b[0m\n",
      "\u001b[32m2025-03-27 01:25:40.380\u001b[0m | \u001b[1mINFO    \u001b[0m | \u001b[36m__main__\u001b[0m:\u001b[36m<module>\u001b[0m:\u001b[36m36\u001b[0m - \u001b[1mlen(ui)=39\u001b[0m\n",
      "\u001b[32m2025-03-27 01:25:41.150\u001b[0m | \u001b[1mINFO    \u001b[0m | \u001b[36m__main__\u001b[0m:\u001b[36m<module>\u001b[0m:\u001b[36m40\u001b[0m - \u001b[1mAfter removing ui: len(sample_df)=7833118\u001b[0m\n",
      "\u001b[32m2025-03-27 01:25:42.036\u001b[0m | \u001b[1mINFO    \u001b[0m | \u001b[36m__main__\u001b[0m:\u001b[36m<module>\u001b[0m:\u001b[36m23\u001b[0m - \u001b[1mSampling round 4 started\u001b[0m\n",
      "\u001b[32m2025-03-27 01:25:43.796\u001b[0m | \u001b[1mINFO    \u001b[0m | \u001b[36m__main__\u001b[0m:\u001b[36m<module>\u001b[0m:\u001b[36m27\u001b[0m - \u001b[1mlen(uu)=61\u001b[0m\n",
      "\u001b[32m2025-03-27 01:25:44.259\u001b[0m | \u001b[1mINFO    \u001b[0m | \u001b[36m__main__\u001b[0m:\u001b[36m<module>\u001b[0m:\u001b[36m31\u001b[0m - \u001b[1mAfter removing uu: len(sample_df)=7832874\u001b[0m\n",
      "\u001b[32m2025-03-27 01:25:46.832\u001b[0m | \u001b[1mINFO    \u001b[0m | \u001b[36m__main__\u001b[0m:\u001b[36m<module>\u001b[0m:\u001b[36m36\u001b[0m - \u001b[1mlen(ui)=2\u001b[0m\n",
      "\u001b[32m2025-03-27 01:25:47.461\u001b[0m | \u001b[1mINFO    \u001b[0m | \u001b[36m__main__\u001b[0m:\u001b[36m<module>\u001b[0m:\u001b[36m40\u001b[0m - \u001b[1mAfter removing ui: len(sample_df)=7832856\u001b[0m\n",
      "\u001b[32m2025-03-27 01:25:48.323\u001b[0m | \u001b[1mINFO    \u001b[0m | \u001b[36m__main__\u001b[0m:\u001b[36m<module>\u001b[0m:\u001b[36m23\u001b[0m - \u001b[1mSampling round 5 started\u001b[0m\n",
      "\u001b[32m2025-03-27 01:25:50.059\u001b[0m | \u001b[1mINFO    \u001b[0m | \u001b[36m__main__\u001b[0m:\u001b[36m<module>\u001b[0m:\u001b[36m27\u001b[0m - \u001b[1mlen(uu)=1\u001b[0m\n",
      "\u001b[32m2025-03-27 01:25:50.480\u001b[0m | \u001b[1mINFO    \u001b[0m | \u001b[36m__main__\u001b[0m:\u001b[36m<module>\u001b[0m:\u001b[36m31\u001b[0m - \u001b[1mAfter removing uu: len(sample_df)=7832852\u001b[0m\n",
      "\u001b[32m2025-03-27 01:25:53.106\u001b[0m | \u001b[1mINFO    \u001b[0m | \u001b[36m__main__\u001b[0m:\u001b[36m<module>\u001b[0m:\u001b[36m36\u001b[0m - \u001b[1mlen(ui)=0\u001b[0m\n",
      "\u001b[32m2025-03-27 01:25:53.106\u001b[0m | \u001b[1mINFO    \u001b[0m | \u001b[36m__main__\u001b[0m:\u001b[36m<module>\u001b[0m:\u001b[36m23\u001b[0m - \u001b[1mSampling round 6 started\u001b[0m\n",
      "\u001b[32m2025-03-27 01:25:54.835\u001b[0m | \u001b[1mINFO    \u001b[0m | \u001b[36m__main__\u001b[0m:\u001b[36m<module>\u001b[0m:\u001b[36m27\u001b[0m - \u001b[1mlen(uu)=0\u001b[0m\n",
      "\u001b[32m2025-03-27 01:25:55.684\u001b[0m | \u001b[1mINFO    \u001b[0m | \u001b[36m__main__\u001b[0m:\u001b[36m<module>\u001b[0m:\u001b[36m36\u001b[0m - \u001b[1mlen(ui)=0\u001b[0m\n",
      "\u001b[32m2025-03-27 01:25:56.769\u001b[0m | \u001b[1mINFO    \u001b[0m | \u001b[36m__main__\u001b[0m:\u001b[36m<module>\u001b[0m:\u001b[36m48\u001b[0m - \u001b[1mAfter randomly removing users - round 3: num_users=861312\u001b[0m\n",
      "\u001b[32m2025-03-27 01:25:56.769\u001b[0m | \u001b[1mINFO    \u001b[0m | \u001b[36m__main__\u001b[0m:\u001b[36m<module>\u001b[0m:\u001b[36m54\u001b[0m - \u001b[1mNumber of users 861312 are still greater than expected, keep removing...\u001b[0m\n"
     ]
    },
    {
     "name": "stdout",
     "output_type": "stream",
     "text": [
      "\n",
      "\n",
      "Randomly removing 43065 users - Round 4 started\n"
     ]
    },
    {
     "name": "stderr",
     "output_type": "stream",
     "text": [
      "\u001b[32m2025-03-27 01:25:59.302\u001b[0m | \u001b[1mINFO    \u001b[0m | \u001b[36m__main__\u001b[0m:\u001b[36m<module>\u001b[0m:\u001b[36m23\u001b[0m - \u001b[1mSampling round 1 started\u001b[0m\n",
      "\u001b[32m2025-03-27 01:26:00.966\u001b[0m | \u001b[1mINFO    \u001b[0m | \u001b[36m__main__\u001b[0m:\u001b[36m<module>\u001b[0m:\u001b[36m27\u001b[0m - \u001b[1mlen(uu)=0\u001b[0m\n",
      "\u001b[32m2025-03-27 01:26:01.746\u001b[0m | \u001b[1mINFO    \u001b[0m | \u001b[36m__main__\u001b[0m:\u001b[36m<module>\u001b[0m:\u001b[36m36\u001b[0m - \u001b[1mlen(ui)=4835\u001b[0m\n",
      "\u001b[32m2025-03-27 01:26:02.528\u001b[0m | \u001b[1mINFO    \u001b[0m | \u001b[36m__main__\u001b[0m:\u001b[36m<module>\u001b[0m:\u001b[36m40\u001b[0m - \u001b[1mAfter removing ui: len(sample_df)=7401291\u001b[0m\n",
      "\u001b[32m2025-03-27 01:26:03.332\u001b[0m | \u001b[1mINFO    \u001b[0m | \u001b[36m__main__\u001b[0m:\u001b[36m<module>\u001b[0m:\u001b[36m23\u001b[0m - \u001b[1mSampling round 2 started\u001b[0m\n",
      "\u001b[32m2025-03-27 01:26:04.946\u001b[0m | \u001b[1mINFO    \u001b[0m | \u001b[36m__main__\u001b[0m:\u001b[36m<module>\u001b[0m:\u001b[36m27\u001b[0m - \u001b[1mlen(uu)=6501\u001b[0m\n",
      "\u001b[32m2025-03-27 01:26:05.392\u001b[0m | \u001b[1mINFO    \u001b[0m | \u001b[36m__main__\u001b[0m:\u001b[36m<module>\u001b[0m:\u001b[36m31\u001b[0m - \u001b[1mAfter removing uu: len(sample_df)=7375387\u001b[0m\n",
      "\u001b[32m2025-03-27 01:26:07.763\u001b[0m | \u001b[1mINFO    \u001b[0m | \u001b[36m__main__\u001b[0m:\u001b[36m<module>\u001b[0m:\u001b[36m36\u001b[0m - \u001b[1mlen(ui)=409\u001b[0m\n",
      "\u001b[32m2025-03-27 01:26:08.294\u001b[0m | \u001b[1mINFO    \u001b[0m | \u001b[36m__main__\u001b[0m:\u001b[36m<module>\u001b[0m:\u001b[36m40\u001b[0m - \u001b[1mAfter removing ui: len(sample_df)=7371715\u001b[0m\n",
      "\u001b[32m2025-03-27 01:26:09.072\u001b[0m | \u001b[1mINFO    \u001b[0m | \u001b[36m__main__\u001b[0m:\u001b[36m<module>\u001b[0m:\u001b[36m23\u001b[0m - \u001b[1mSampling round 3 started\u001b[0m\n",
      "\u001b[32m2025-03-27 01:26:10.664\u001b[0m | \u001b[1mINFO    \u001b[0m | \u001b[36m__main__\u001b[0m:\u001b[36m<module>\u001b[0m:\u001b[36m27\u001b[0m - \u001b[1mlen(uu)=622\u001b[0m\n",
      "\u001b[32m2025-03-27 01:26:11.154\u001b[0m | \u001b[1mINFO    \u001b[0m | \u001b[36m__main__\u001b[0m:\u001b[36m<module>\u001b[0m:\u001b[36m31\u001b[0m - \u001b[1mAfter removing uu: len(sample_df)=7369228\u001b[0m\n",
      "\u001b[32m2025-03-27 01:26:13.549\u001b[0m | \u001b[1mINFO    \u001b[0m | \u001b[36m__main__\u001b[0m:\u001b[36m<module>\u001b[0m:\u001b[36m36\u001b[0m - \u001b[1mlen(ui)=39\u001b[0m\n",
      "\u001b[32m2025-03-27 01:26:14.247\u001b[0m | \u001b[1mINFO    \u001b[0m | \u001b[36m__main__\u001b[0m:\u001b[36m<module>\u001b[0m:\u001b[36m40\u001b[0m - \u001b[1mAfter removing ui: len(sample_df)=7368877\u001b[0m\n",
      "\u001b[32m2025-03-27 01:26:15.033\u001b[0m | \u001b[1mINFO    \u001b[0m | \u001b[36m__main__\u001b[0m:\u001b[36m<module>\u001b[0m:\u001b[36m23\u001b[0m - \u001b[1mSampling round 4 started\u001b[0m\n",
      "\u001b[32m2025-03-27 01:26:16.650\u001b[0m | \u001b[1mINFO    \u001b[0m | \u001b[36m__main__\u001b[0m:\u001b[36m<module>\u001b[0m:\u001b[36m27\u001b[0m - \u001b[1mlen(uu)=58\u001b[0m\n",
      "\u001b[32m2025-03-27 01:26:17.086\u001b[0m | \u001b[1mINFO    \u001b[0m | \u001b[36m__main__\u001b[0m:\u001b[36m<module>\u001b[0m:\u001b[36m31\u001b[0m - \u001b[1mAfter removing uu: len(sample_df)=7368645\u001b[0m\n",
      "\u001b[32m2025-03-27 01:26:19.430\u001b[0m | \u001b[1mINFO    \u001b[0m | \u001b[36m__main__\u001b[0m:\u001b[36m<module>\u001b[0m:\u001b[36m36\u001b[0m - \u001b[1mlen(ui)=7\u001b[0m\n",
      "\u001b[32m2025-03-27 01:26:19.972\u001b[0m | \u001b[1mINFO    \u001b[0m | \u001b[36m__main__\u001b[0m:\u001b[36m<module>\u001b[0m:\u001b[36m40\u001b[0m - \u001b[1mAfter removing ui: len(sample_df)=7368582\u001b[0m\n",
      "\u001b[32m2025-03-27 01:26:20.777\u001b[0m | \u001b[1mINFO    \u001b[0m | \u001b[36m__main__\u001b[0m:\u001b[36m<module>\u001b[0m:\u001b[36m23\u001b[0m - \u001b[1mSampling round 5 started\u001b[0m\n",
      "\u001b[32m2025-03-27 01:26:22.375\u001b[0m | \u001b[1mINFO    \u001b[0m | \u001b[36m__main__\u001b[0m:\u001b[36m<module>\u001b[0m:\u001b[36m27\u001b[0m - \u001b[1mlen(uu)=12\u001b[0m\n",
      "\u001b[32m2025-03-27 01:26:22.915\u001b[0m | \u001b[1mINFO    \u001b[0m | \u001b[36m__main__\u001b[0m:\u001b[36m<module>\u001b[0m:\u001b[36m31\u001b[0m - \u001b[1mAfter removing uu: len(sample_df)=7368534\u001b[0m\n",
      "\u001b[32m2025-03-27 01:26:25.308\u001b[0m | \u001b[1mINFO    \u001b[0m | \u001b[36m__main__\u001b[0m:\u001b[36m<module>\u001b[0m:\u001b[36m36\u001b[0m - \u001b[1mlen(ui)=0\u001b[0m\n",
      "\u001b[32m2025-03-27 01:26:25.309\u001b[0m | \u001b[1mINFO    \u001b[0m | \u001b[36m__main__\u001b[0m:\u001b[36m<module>\u001b[0m:\u001b[36m23\u001b[0m - \u001b[1mSampling round 6 started\u001b[0m\n",
      "\u001b[32m2025-03-27 01:26:26.910\u001b[0m | \u001b[1mINFO    \u001b[0m | \u001b[36m__main__\u001b[0m:\u001b[36m<module>\u001b[0m:\u001b[36m27\u001b[0m - \u001b[1mlen(uu)=0\u001b[0m\n",
      "\u001b[32m2025-03-27 01:26:27.689\u001b[0m | \u001b[1mINFO    \u001b[0m | \u001b[36m__main__\u001b[0m:\u001b[36m<module>\u001b[0m:\u001b[36m36\u001b[0m - \u001b[1mlen(ui)=0\u001b[0m\n",
      "\u001b[32m2025-03-27 01:26:28.672\u001b[0m | \u001b[1mINFO    \u001b[0m | \u001b[36m__main__\u001b[0m:\u001b[36m<module>\u001b[0m:\u001b[36m48\u001b[0m - \u001b[1mAfter randomly removing users - round 4: num_users=811054\u001b[0m\n",
      "\u001b[32m2025-03-27 01:26:28.672\u001b[0m | \u001b[1mINFO    \u001b[0m | \u001b[36m__main__\u001b[0m:\u001b[36m<module>\u001b[0m:\u001b[36m54\u001b[0m - \u001b[1mNumber of users 811054 are still greater than expected, keep removing...\u001b[0m\n"
     ]
    },
    {
     "name": "stdout",
     "output_type": "stream",
     "text": [
      "\n",
      "\n",
      "Randomly removing 40552 users - Round 5 started\n"
     ]
    },
    {
     "name": "stderr",
     "output_type": "stream",
     "text": [
      "\u001b[32m2025-03-27 01:26:31.015\u001b[0m | \u001b[1mINFO    \u001b[0m | \u001b[36m__main__\u001b[0m:\u001b[36m<module>\u001b[0m:\u001b[36m23\u001b[0m - \u001b[1mSampling round 1 started\u001b[0m\n",
      "\u001b[32m2025-03-27 01:26:32.620\u001b[0m | \u001b[1mINFO    \u001b[0m | \u001b[36m__main__\u001b[0m:\u001b[36m<module>\u001b[0m:\u001b[36m27\u001b[0m - \u001b[1mlen(uu)=0\u001b[0m\n",
      "\u001b[32m2025-03-27 01:26:33.360\u001b[0m | \u001b[1mINFO    \u001b[0m | \u001b[36m__main__\u001b[0m:\u001b[36m<module>\u001b[0m:\u001b[36m36\u001b[0m - \u001b[1mlen(ui)=4850\u001b[0m\n",
      "\u001b[32m2025-03-27 01:26:34.078\u001b[0m | \u001b[1mINFO    \u001b[0m | \u001b[36m__main__\u001b[0m:\u001b[36m<module>\u001b[0m:\u001b[36m40\u001b[0m - \u001b[1mAfter removing ui: len(sample_df)=6958461\u001b[0m\n",
      "\u001b[32m2025-03-27 01:26:34.791\u001b[0m | \u001b[1mINFO    \u001b[0m | \u001b[36m__main__\u001b[0m:\u001b[36m<module>\u001b[0m:\u001b[36m23\u001b[0m - \u001b[1mSampling round 2 started\u001b[0m\n",
      "\u001b[32m2025-03-27 01:26:36.348\u001b[0m | \u001b[1mINFO    \u001b[0m | \u001b[36m__main__\u001b[0m:\u001b[36m<module>\u001b[0m:\u001b[36m27\u001b[0m - \u001b[1mlen(uu)=6952\u001b[0m\n",
      "\u001b[32m2025-03-27 01:26:36.788\u001b[0m | \u001b[1mINFO    \u001b[0m | \u001b[36m__main__\u001b[0m:\u001b[36m<module>\u001b[0m:\u001b[36m31\u001b[0m - \u001b[1mAfter removing uu: len(sample_df)=6930753\u001b[0m\n",
      "\u001b[32m2025-03-27 01:26:39.063\u001b[0m | \u001b[1mINFO    \u001b[0m | \u001b[36m__main__\u001b[0m:\u001b[36m<module>\u001b[0m:\u001b[36m36\u001b[0m - \u001b[1mlen(ui)=420\u001b[0m\n",
      "\u001b[32m2025-03-27 01:26:39.566\u001b[0m | \u001b[1mINFO    \u001b[0m | \u001b[36m__main__\u001b[0m:\u001b[36m<module>\u001b[0m:\u001b[36m40\u001b[0m - \u001b[1mAfter removing ui: len(sample_df)=6926986\u001b[0m\n",
      "\u001b[32m2025-03-27 01:26:40.281\u001b[0m | \u001b[1mINFO    \u001b[0m | \u001b[36m__main__\u001b[0m:\u001b[36m<module>\u001b[0m:\u001b[36m23\u001b[0m - \u001b[1mSampling round 3 started\u001b[0m\n",
      "\u001b[32m2025-03-27 01:26:41.819\u001b[0m | \u001b[1mINFO    \u001b[0m | \u001b[36m__main__\u001b[0m:\u001b[36m<module>\u001b[0m:\u001b[36m27\u001b[0m - \u001b[1mlen(uu)=604\u001b[0m\n",
      "\u001b[32m2025-03-27 01:26:42.268\u001b[0m | \u001b[1mINFO    \u001b[0m | \u001b[36m__main__\u001b[0m:\u001b[36m<module>\u001b[0m:\u001b[36m31\u001b[0m - \u001b[1mAfter removing uu: len(sample_df)=6924571\u001b[0m\n",
      "\u001b[32m2025-03-27 01:26:44.534\u001b[0m | \u001b[1mINFO    \u001b[0m | \u001b[36m__main__\u001b[0m:\u001b[36m<module>\u001b[0m:\u001b[36m36\u001b[0m - \u001b[1mlen(ui)=37\u001b[0m\n",
      "\u001b[32m2025-03-27 01:26:45.154\u001b[0m | \u001b[1mINFO    \u001b[0m | \u001b[36m__main__\u001b[0m:\u001b[36m<module>\u001b[0m:\u001b[36m40\u001b[0m - \u001b[1mAfter removing ui: len(sample_df)=6924239\u001b[0m\n",
      "\u001b[32m2025-03-27 01:26:45.870\u001b[0m | \u001b[1mINFO    \u001b[0m | \u001b[36m__main__\u001b[0m:\u001b[36m<module>\u001b[0m:\u001b[36m23\u001b[0m - \u001b[1mSampling round 4 started\u001b[0m\n",
      "\u001b[32m2025-03-27 01:26:47.405\u001b[0m | \u001b[1mINFO    \u001b[0m | \u001b[36m__main__\u001b[0m:\u001b[36m<module>\u001b[0m:\u001b[36m27\u001b[0m - \u001b[1mlen(uu)=56\u001b[0m\n",
      "\u001b[32m2025-03-27 01:26:47.817\u001b[0m | \u001b[1mINFO    \u001b[0m | \u001b[36m__main__\u001b[0m:\u001b[36m<module>\u001b[0m:\u001b[36m31\u001b[0m - \u001b[1mAfter removing uu: len(sample_df)=6924015\u001b[0m\n",
      "\u001b[32m2025-03-27 01:26:50.035\u001b[0m | \u001b[1mINFO    \u001b[0m | \u001b[36m__main__\u001b[0m:\u001b[36m<module>\u001b[0m:\u001b[36m36\u001b[0m - \u001b[1mlen(ui)=6\u001b[0m\n",
      "\u001b[32m2025-03-27 01:26:50.714\u001b[0m | \u001b[1mINFO    \u001b[0m | \u001b[36m__main__\u001b[0m:\u001b[36m<module>\u001b[0m:\u001b[36m40\u001b[0m - \u001b[1mAfter removing ui: len(sample_df)=6923961\u001b[0m\n",
      "\u001b[32m2025-03-27 01:26:51.449\u001b[0m | \u001b[1mINFO    \u001b[0m | \u001b[36m__main__\u001b[0m:\u001b[36m<module>\u001b[0m:\u001b[36m23\u001b[0m - \u001b[1mSampling round 5 started\u001b[0m\n",
      "\u001b[32m2025-03-27 01:26:53.005\u001b[0m | \u001b[1mINFO    \u001b[0m | \u001b[36m__main__\u001b[0m:\u001b[36m<module>\u001b[0m:\u001b[36m27\u001b[0m - \u001b[1mlen(uu)=12\u001b[0m\n",
      "\u001b[32m2025-03-27 01:26:53.537\u001b[0m | \u001b[1mINFO    \u001b[0m | \u001b[36m__main__\u001b[0m:\u001b[36m<module>\u001b[0m:\u001b[36m31\u001b[0m - \u001b[1mAfter removing uu: len(sample_df)=6923913\u001b[0m\n",
      "\u001b[32m2025-03-27 01:26:55.798\u001b[0m | \u001b[1mINFO    \u001b[0m | \u001b[36m__main__\u001b[0m:\u001b[36m<module>\u001b[0m:\u001b[36m36\u001b[0m - \u001b[1mlen(ui)=1\u001b[0m\n",
      "\u001b[32m2025-03-27 01:26:56.216\u001b[0m | \u001b[1mINFO    \u001b[0m | \u001b[36m__main__\u001b[0m:\u001b[36m<module>\u001b[0m:\u001b[36m40\u001b[0m - \u001b[1mAfter removing ui: len(sample_df)=6923904\u001b[0m\n",
      "\u001b[32m2025-03-27 01:26:56.934\u001b[0m | \u001b[1mINFO    \u001b[0m | \u001b[36m__main__\u001b[0m:\u001b[36m<module>\u001b[0m:\u001b[36m23\u001b[0m - \u001b[1mSampling round 6 started\u001b[0m\n",
      "\u001b[32m2025-03-27 01:26:58.504\u001b[0m | \u001b[1mINFO    \u001b[0m | \u001b[36m__main__\u001b[0m:\u001b[36m<module>\u001b[0m:\u001b[36m27\u001b[0m - \u001b[1mlen(uu)=2\u001b[0m\n",
      "\u001b[32m2025-03-27 01:26:58.902\u001b[0m | \u001b[1mINFO    \u001b[0m | \u001b[36m__main__\u001b[0m:\u001b[36m<module>\u001b[0m:\u001b[36m31\u001b[0m - \u001b[1mAfter removing uu: len(sample_df)=6923896\u001b[0m\n",
      "\u001b[32m2025-03-27 01:27:01.181\u001b[0m | \u001b[1mINFO    \u001b[0m | \u001b[36m__main__\u001b[0m:\u001b[36m<module>\u001b[0m:\u001b[36m36\u001b[0m - \u001b[1mlen(ui)=0\u001b[0m\n",
      "\u001b[32m2025-03-27 01:27:01.181\u001b[0m | \u001b[1mINFO    \u001b[0m | \u001b[36m__main__\u001b[0m:\u001b[36m<module>\u001b[0m:\u001b[36m23\u001b[0m - \u001b[1mSampling round 7 started\u001b[0m\n",
      "\u001b[32m2025-03-27 01:27:02.749\u001b[0m | \u001b[1mINFO    \u001b[0m | \u001b[36m__main__\u001b[0m:\u001b[36m<module>\u001b[0m:\u001b[36m27\u001b[0m - \u001b[1mlen(uu)=0\u001b[0m\n",
      "\u001b[32m2025-03-27 01:27:03.518\u001b[0m | \u001b[1mINFO    \u001b[0m | \u001b[36m__main__\u001b[0m:\u001b[36m<module>\u001b[0m:\u001b[36m36\u001b[0m - \u001b[1mlen(ui)=0\u001b[0m\n",
      "\u001b[32m2025-03-27 01:27:04.460\u001b[0m | \u001b[1mINFO    \u001b[0m | \u001b[36m__main__\u001b[0m:\u001b[36m<module>\u001b[0m:\u001b[36m48\u001b[0m - \u001b[1mAfter randomly removing users - round 5: num_users=762876\u001b[0m\n",
      "\u001b[32m2025-03-27 01:27:04.460\u001b[0m | \u001b[1mINFO    \u001b[0m | \u001b[36m__main__\u001b[0m:\u001b[36m<module>\u001b[0m:\u001b[36m54\u001b[0m - \u001b[1mNumber of users 762876 are still greater than expected, keep removing...\u001b[0m\n"
     ]
    },
    {
     "name": "stdout",
     "output_type": "stream",
     "text": [
      "\n",
      "\n",
      "Randomly removing 38143 users - Round 6 started\n"
     ]
    },
    {
     "name": "stderr",
     "output_type": "stream",
     "text": [
      "\u001b[32m2025-03-27 01:27:06.717\u001b[0m | \u001b[1mINFO    \u001b[0m | \u001b[36m__main__\u001b[0m:\u001b[36m<module>\u001b[0m:\u001b[36m23\u001b[0m - \u001b[1mSampling round 1 started\u001b[0m\n",
      "\u001b[32m2025-03-27 01:27:08.225\u001b[0m | \u001b[1mINFO    \u001b[0m | \u001b[36m__main__\u001b[0m:\u001b[36m<module>\u001b[0m:\u001b[36m27\u001b[0m - \u001b[1mlen(uu)=0\u001b[0m\n",
      "\u001b[32m2025-03-27 01:27:08.956\u001b[0m | \u001b[1mINFO    \u001b[0m | \u001b[36m__main__\u001b[0m:\u001b[36m<module>\u001b[0m:\u001b[36m36\u001b[0m - \u001b[1mlen(ui)=4679\u001b[0m\n",
      "\u001b[32m2025-03-27 01:27:09.602\u001b[0m | \u001b[1mINFO    \u001b[0m | \u001b[36m__main__\u001b[0m:\u001b[36m<module>\u001b[0m:\u001b[36m40\u001b[0m - \u001b[1mAfter removing ui: len(sample_df)=6538916\u001b[0m\n",
      "\u001b[32m2025-03-27 01:27:10.280\u001b[0m | \u001b[1mINFO    \u001b[0m | \u001b[36m__main__\u001b[0m:\u001b[36m<module>\u001b[0m:\u001b[36m23\u001b[0m - \u001b[1mSampling round 2 started\u001b[0m\n",
      "\u001b[32m2025-03-27 01:27:11.755\u001b[0m | \u001b[1mINFO    \u001b[0m | \u001b[36m__main__\u001b[0m:\u001b[36m<module>\u001b[0m:\u001b[36m27\u001b[0m - \u001b[1mlen(uu)=6560\u001b[0m\n",
      "\u001b[32m2025-03-27 01:27:12.163\u001b[0m | \u001b[1mINFO    \u001b[0m | \u001b[36m__main__\u001b[0m:\u001b[36m<module>\u001b[0m:\u001b[36m31\u001b[0m - \u001b[1mAfter removing uu: len(sample_df)=6512774\u001b[0m\n",
      "\u001b[32m2025-03-27 01:27:14.362\u001b[0m | \u001b[1mINFO    \u001b[0m | \u001b[36m__main__\u001b[0m:\u001b[36m<module>\u001b[0m:\u001b[36m36\u001b[0m - \u001b[1mlen(ui)=397\u001b[0m\n",
      "\u001b[32m2025-03-27 01:27:14.849\u001b[0m | \u001b[1mINFO    \u001b[0m | \u001b[36m__main__\u001b[0m:\u001b[36m<module>\u001b[0m:\u001b[36m40\u001b[0m - \u001b[1mAfter removing ui: len(sample_df)=6509210\u001b[0m\n",
      "\u001b[32m2025-03-27 01:27:15.531\u001b[0m | \u001b[1mINFO    \u001b[0m | \u001b[36m__main__\u001b[0m:\u001b[36m<module>\u001b[0m:\u001b[36m23\u001b[0m - \u001b[1mSampling round 3 started\u001b[0m\n",
      "\u001b[32m2025-03-27 01:27:16.992\u001b[0m | \u001b[1mINFO    \u001b[0m | \u001b[36m__main__\u001b[0m:\u001b[36m<module>\u001b[0m:\u001b[36m27\u001b[0m - \u001b[1mlen(uu)=622\u001b[0m\n",
      "\u001b[32m2025-03-27 01:27:17.432\u001b[0m | \u001b[1mINFO    \u001b[0m | \u001b[36m__main__\u001b[0m:\u001b[36m<module>\u001b[0m:\u001b[36m31\u001b[0m - \u001b[1mAfter removing uu: len(sample_df)=6506722\u001b[0m\n",
      "\u001b[32m2025-03-27 01:27:19.640\u001b[0m | \u001b[1mINFO    \u001b[0m | \u001b[36m__main__\u001b[0m:\u001b[36m<module>\u001b[0m:\u001b[36m36\u001b[0m - \u001b[1mlen(ui)=50\u001b[0m\n",
      "\u001b[32m2025-03-27 01:27:20.157\u001b[0m | \u001b[1mINFO    \u001b[0m | \u001b[36m__main__\u001b[0m:\u001b[36m<module>\u001b[0m:\u001b[36m40\u001b[0m - \u001b[1mAfter removing ui: len(sample_df)=6506272\u001b[0m\n",
      "\u001b[32m2025-03-27 01:27:20.877\u001b[0m | \u001b[1mINFO    \u001b[0m | \u001b[36m__main__\u001b[0m:\u001b[36m<module>\u001b[0m:\u001b[36m23\u001b[0m - \u001b[1mSampling round 4 started\u001b[0m\n",
      "\u001b[32m2025-03-27 01:27:22.358\u001b[0m | \u001b[1mINFO    \u001b[0m | \u001b[36m__main__\u001b[0m:\u001b[36m<module>\u001b[0m:\u001b[36m27\u001b[0m - \u001b[1mlen(uu)=61\u001b[0m\n",
      "\u001b[32m2025-03-27 01:27:22.748\u001b[0m | \u001b[1mINFO    \u001b[0m | \u001b[36m__main__\u001b[0m:\u001b[36m<module>\u001b[0m:\u001b[36m31\u001b[0m - \u001b[1mAfter removing uu: len(sample_df)=6506028\u001b[0m\n",
      "\u001b[32m2025-03-27 01:27:24.974\u001b[0m | \u001b[1mINFO    \u001b[0m | \u001b[36m__main__\u001b[0m:\u001b[36m<module>\u001b[0m:\u001b[36m36\u001b[0m - \u001b[1mlen(ui)=3\u001b[0m\n",
      "\u001b[32m2025-03-27 01:27:25.572\u001b[0m | \u001b[1mINFO    \u001b[0m | \u001b[36m__main__\u001b[0m:\u001b[36m<module>\u001b[0m:\u001b[36m40\u001b[0m - \u001b[1mAfter removing ui: len(sample_df)=6506001\u001b[0m\n",
      "\u001b[32m2025-03-27 01:27:26.255\u001b[0m | \u001b[1mINFO    \u001b[0m | \u001b[36m__main__\u001b[0m:\u001b[36m<module>\u001b[0m:\u001b[36m23\u001b[0m - \u001b[1mSampling round 5 started\u001b[0m\n",
      "\u001b[32m2025-03-27 01:27:27.707\u001b[0m | \u001b[1mINFO    \u001b[0m | \u001b[36m__main__\u001b[0m:\u001b[36m<module>\u001b[0m:\u001b[36m27\u001b[0m - \u001b[1mlen(uu)=3\u001b[0m\n",
      "\u001b[32m2025-03-27 01:27:28.135\u001b[0m | \u001b[1mINFO    \u001b[0m | \u001b[36m__main__\u001b[0m:\u001b[36m<module>\u001b[0m:\u001b[36m31\u001b[0m - \u001b[1mAfter removing uu: len(sample_df)=6505989\u001b[0m\n",
      "\u001b[32m2025-03-27 01:27:30.325\u001b[0m | \u001b[1mINFO    \u001b[0m | \u001b[36m__main__\u001b[0m:\u001b[36m<module>\u001b[0m:\u001b[36m36\u001b[0m - \u001b[1mlen(ui)=0\u001b[0m\n",
      "\u001b[32m2025-03-27 01:27:30.325\u001b[0m | \u001b[1mINFO    \u001b[0m | \u001b[36m__main__\u001b[0m:\u001b[36m<module>\u001b[0m:\u001b[36m23\u001b[0m - \u001b[1mSampling round 6 started\u001b[0m\n",
      "\u001b[32m2025-03-27 01:27:31.823\u001b[0m | \u001b[1mINFO    \u001b[0m | \u001b[36m__main__\u001b[0m:\u001b[36m<module>\u001b[0m:\u001b[36m27\u001b[0m - \u001b[1mlen(uu)=0\u001b[0m\n",
      "\u001b[32m2025-03-27 01:27:32.526\u001b[0m | \u001b[1mINFO    \u001b[0m | \u001b[36m__main__\u001b[0m:\u001b[36m<module>\u001b[0m:\u001b[36m36\u001b[0m - \u001b[1mlen(ui)=0\u001b[0m\n",
      "\u001b[32m2025-03-27 01:27:33.425\u001b[0m | \u001b[1mINFO    \u001b[0m | \u001b[36m__main__\u001b[0m:\u001b[36m<module>\u001b[0m:\u001b[36m48\u001b[0m - \u001b[1mAfter randomly removing users - round 6: num_users=717487\u001b[0m\n",
      "\u001b[32m2025-03-27 01:27:33.426\u001b[0m | \u001b[1mINFO    \u001b[0m | \u001b[36m__main__\u001b[0m:\u001b[36m<module>\u001b[0m:\u001b[36m54\u001b[0m - \u001b[1mNumber of users 717487 are still greater than expected, keep removing...\u001b[0m\n"
     ]
    },
    {
     "name": "stdout",
     "output_type": "stream",
     "text": [
      "\n",
      "\n",
      "Randomly removing 35874 users - Round 7 started\n"
     ]
    },
    {
     "name": "stderr",
     "output_type": "stream",
     "text": [
      "\u001b[32m2025-03-27 01:27:35.514\u001b[0m | \u001b[1mINFO    \u001b[0m | \u001b[36m__main__\u001b[0m:\u001b[36m<module>\u001b[0m:\u001b[36m23\u001b[0m - \u001b[1mSampling round 1 started\u001b[0m\n",
      "\u001b[32m2025-03-27 01:27:36.881\u001b[0m | \u001b[1mINFO    \u001b[0m | \u001b[36m__main__\u001b[0m:\u001b[36m<module>\u001b[0m:\u001b[36m27\u001b[0m - \u001b[1mlen(uu)=0\u001b[0m\n",
      "\u001b[32m2025-03-27 01:27:37.538\u001b[0m | \u001b[1mINFO    \u001b[0m | \u001b[36m__main__\u001b[0m:\u001b[36m<module>\u001b[0m:\u001b[36m36\u001b[0m - \u001b[1mlen(ui)=4509\u001b[0m\n",
      "\u001b[32m2025-03-27 01:27:38.142\u001b[0m | \u001b[1mINFO    \u001b[0m | \u001b[36m__main__\u001b[0m:\u001b[36m<module>\u001b[0m:\u001b[36m40\u001b[0m - \u001b[1mAfter removing ui: len(sample_df)=6143967\u001b[0m\n",
      "\u001b[32m2025-03-27 01:27:38.809\u001b[0m | \u001b[1mINFO    \u001b[0m | \u001b[36m__main__\u001b[0m:\u001b[36m<module>\u001b[0m:\u001b[36m23\u001b[0m - \u001b[1mSampling round 2 started\u001b[0m\n",
      "\u001b[32m2025-03-27 01:27:40.203\u001b[0m | \u001b[1mINFO    \u001b[0m | \u001b[36m__main__\u001b[0m:\u001b[36m<module>\u001b[0m:\u001b[36m27\u001b[0m - \u001b[1mlen(uu)=6262\u001b[0m\n",
      "\u001b[32m2025-03-27 01:27:40.781\u001b[0m | \u001b[1mINFO    \u001b[0m | \u001b[36m__main__\u001b[0m:\u001b[36m<module>\u001b[0m:\u001b[36m31\u001b[0m - \u001b[1mAfter removing uu: len(sample_df)=6119029\u001b[0m\n",
      "\u001b[32m2025-03-27 01:27:42.831\u001b[0m | \u001b[1mINFO    \u001b[0m | \u001b[36m__main__\u001b[0m:\u001b[36m<module>\u001b[0m:\u001b[36m36\u001b[0m - \u001b[1mlen(ui)=407\u001b[0m\n",
      "\u001b[32m2025-03-27 01:27:43.304\u001b[0m | \u001b[1mINFO    \u001b[0m | \u001b[36m__main__\u001b[0m:\u001b[36m<module>\u001b[0m:\u001b[36m40\u001b[0m - \u001b[1mAfter removing ui: len(sample_df)=6115380\u001b[0m\n",
      "\u001b[32m2025-03-27 01:27:43.997\u001b[0m | \u001b[1mINFO    \u001b[0m | \u001b[36m__main__\u001b[0m:\u001b[36m<module>\u001b[0m:\u001b[36m23\u001b[0m - \u001b[1mSampling round 3 started\u001b[0m\n",
      "\u001b[32m2025-03-27 01:27:45.372\u001b[0m | \u001b[1mINFO    \u001b[0m | \u001b[36m__main__\u001b[0m:\u001b[36m<module>\u001b[0m:\u001b[36m27\u001b[0m - \u001b[1mlen(uu)=607\u001b[0m\n",
      "\u001b[32m2025-03-27 01:27:45.790\u001b[0m | \u001b[1mINFO    \u001b[0m | \u001b[36m__main__\u001b[0m:\u001b[36m<module>\u001b[0m:\u001b[36m31\u001b[0m - \u001b[1mAfter removing uu: len(sample_df)=6112953\u001b[0m\n",
      "\u001b[32m2025-03-27 01:27:47.768\u001b[0m | \u001b[1mINFO    \u001b[0m | \u001b[36m__main__\u001b[0m:\u001b[36m<module>\u001b[0m:\u001b[36m36\u001b[0m - \u001b[1mlen(ui)=31\u001b[0m\n",
      "\u001b[32m2025-03-27 01:27:48.264\u001b[0m | \u001b[1mINFO    \u001b[0m | \u001b[36m__main__\u001b[0m:\u001b[36m<module>\u001b[0m:\u001b[36m40\u001b[0m - \u001b[1mAfter removing ui: len(sample_df)=6112674\u001b[0m\n",
      "\u001b[32m2025-03-27 01:27:48.961\u001b[0m | \u001b[1mINFO    \u001b[0m | \u001b[36m__main__\u001b[0m:\u001b[36m<module>\u001b[0m:\u001b[36m23\u001b[0m - \u001b[1mSampling round 4 started\u001b[0m\n",
      "\u001b[32m2025-03-27 01:27:50.338\u001b[0m | \u001b[1mINFO    \u001b[0m | \u001b[36m__main__\u001b[0m:\u001b[36m<module>\u001b[0m:\u001b[36m27\u001b[0m - \u001b[1mlen(uu)=35\u001b[0m\n",
      "\u001b[32m2025-03-27 01:27:50.734\u001b[0m | \u001b[1mINFO    \u001b[0m | \u001b[36m__main__\u001b[0m:\u001b[36m<module>\u001b[0m:\u001b[36m31\u001b[0m - \u001b[1mAfter removing uu: len(sample_df)=6112534\u001b[0m\n",
      "\u001b[32m2025-03-27 01:27:52.726\u001b[0m | \u001b[1mINFO    \u001b[0m | \u001b[36m__main__\u001b[0m:\u001b[36m<module>\u001b[0m:\u001b[36m36\u001b[0m - \u001b[1mlen(ui)=3\u001b[0m\n",
      "\u001b[32m2025-03-27 01:27:53.305\u001b[0m | \u001b[1mINFO    \u001b[0m | \u001b[36m__main__\u001b[0m:\u001b[36m<module>\u001b[0m:\u001b[36m40\u001b[0m - \u001b[1mAfter removing ui: len(sample_df)=6112507\u001b[0m\n",
      "\u001b[32m2025-03-27 01:27:54.002\u001b[0m | \u001b[1mINFO    \u001b[0m | \u001b[36m__main__\u001b[0m:\u001b[36m<module>\u001b[0m:\u001b[36m23\u001b[0m - \u001b[1mSampling round 5 started\u001b[0m\n",
      "\u001b[32m2025-03-27 01:27:55.390\u001b[0m | \u001b[1mINFO    \u001b[0m | \u001b[36m__main__\u001b[0m:\u001b[36m<module>\u001b[0m:\u001b[36m27\u001b[0m - \u001b[1mlen(uu)=6\u001b[0m\n",
      "\u001b[32m2025-03-27 01:27:55.841\u001b[0m | \u001b[1mINFO    \u001b[0m | \u001b[36m__main__\u001b[0m:\u001b[36m<module>\u001b[0m:\u001b[36m31\u001b[0m - \u001b[1mAfter removing uu: len(sample_df)=6112483\u001b[0m\n",
      "\u001b[32m2025-03-27 01:27:57.842\u001b[0m | \u001b[1mINFO    \u001b[0m | \u001b[36m__main__\u001b[0m:\u001b[36m<module>\u001b[0m:\u001b[36m36\u001b[0m - \u001b[1mlen(ui)=0\u001b[0m\n",
      "\u001b[32m2025-03-27 01:27:57.843\u001b[0m | \u001b[1mINFO    \u001b[0m | \u001b[36m__main__\u001b[0m:\u001b[36m<module>\u001b[0m:\u001b[36m23\u001b[0m - \u001b[1mSampling round 6 started\u001b[0m\n",
      "\u001b[32m2025-03-27 01:27:59.283\u001b[0m | \u001b[1mINFO    \u001b[0m | \u001b[36m__main__\u001b[0m:\u001b[36m<module>\u001b[0m:\u001b[36m27\u001b[0m - \u001b[1mlen(uu)=0\u001b[0m\n",
      "\u001b[32m2025-03-27 01:27:59.933\u001b[0m | \u001b[1mINFO    \u001b[0m | \u001b[36m__main__\u001b[0m:\u001b[36m<module>\u001b[0m:\u001b[36m36\u001b[0m - \u001b[1mlen(ui)=0\u001b[0m\n",
      "\u001b[32m2025-03-27 01:28:00.783\u001b[0m | \u001b[1mINFO    \u001b[0m | \u001b[36m__main__\u001b[0m:\u001b[36m<module>\u001b[0m:\u001b[36m48\u001b[0m - \u001b[1mAfter randomly removing users - round 7: num_users=674703\u001b[0m\n",
      "\u001b[32m2025-03-27 01:28:00.783\u001b[0m | \u001b[1mINFO    \u001b[0m | \u001b[36m__main__\u001b[0m:\u001b[36m<module>\u001b[0m:\u001b[36m54\u001b[0m - \u001b[1mNumber of users 674703 are still greater than expected, keep removing...\u001b[0m\n"
     ]
    },
    {
     "name": "stdout",
     "output_type": "stream",
     "text": [
      "\n",
      "\n",
      "Randomly removing 33735 users - Round 8 started\n"
     ]
    },
    {
     "name": "stderr",
     "output_type": "stream",
     "text": [
      "\u001b[32m2025-03-27 01:28:02.707\u001b[0m | \u001b[1mINFO    \u001b[0m | \u001b[36m__main__\u001b[0m:\u001b[36m<module>\u001b[0m:\u001b[36m23\u001b[0m - \u001b[1mSampling round 1 started\u001b[0m\n",
      "\u001b[32m2025-03-27 01:28:04.008\u001b[0m | \u001b[1mINFO    \u001b[0m | \u001b[36m__main__\u001b[0m:\u001b[36m<module>\u001b[0m:\u001b[36m27\u001b[0m - \u001b[1mlen(uu)=0\u001b[0m\n",
      "\u001b[32m2025-03-27 01:28:04.667\u001b[0m | \u001b[1mINFO    \u001b[0m | \u001b[36m__main__\u001b[0m:\u001b[36m<module>\u001b[0m:\u001b[36m36\u001b[0m - \u001b[1mlen(ui)=4268\u001b[0m\n",
      "\u001b[32m2025-03-27 01:28:05.191\u001b[0m | \u001b[1mINFO    \u001b[0m | \u001b[36m__main__\u001b[0m:\u001b[36m<module>\u001b[0m:\u001b[36m40\u001b[0m - \u001b[1mAfter removing ui: len(sample_df)=5770175\u001b[0m\n",
      "\u001b[32m2025-03-27 01:28:05.743\u001b[0m | \u001b[1mINFO    \u001b[0m | \u001b[36m__main__\u001b[0m:\u001b[36m<module>\u001b[0m:\u001b[36m23\u001b[0m - \u001b[1mSampling round 2 started\u001b[0m\n",
      "\u001b[32m2025-03-27 01:28:06.977\u001b[0m | \u001b[1mINFO    \u001b[0m | \u001b[36m__main__\u001b[0m:\u001b[36m<module>\u001b[0m:\u001b[36m27\u001b[0m - \u001b[1mlen(uu)=5882\u001b[0m\n",
      "\u001b[32m2025-03-27 01:28:07.448\u001b[0m | \u001b[1mINFO    \u001b[0m | \u001b[36m__main__\u001b[0m:\u001b[36m<module>\u001b[0m:\u001b[36m31\u001b[0m - \u001b[1mAfter removing uu: len(sample_df)=5746740\u001b[0m\n",
      "\u001b[32m2025-03-27 01:28:09.297\u001b[0m | \u001b[1mINFO    \u001b[0m | \u001b[36m__main__\u001b[0m:\u001b[36m<module>\u001b[0m:\u001b[36m36\u001b[0m - \u001b[1mlen(ui)=393\u001b[0m\n",
      "\u001b[32m2025-03-27 01:28:09.974\u001b[0m | \u001b[1mINFO    \u001b[0m | \u001b[36m__main__\u001b[0m:\u001b[36m<module>\u001b[0m:\u001b[36m40\u001b[0m - \u001b[1mAfter removing ui: len(sample_df)=5743214\u001b[0m\n",
      "\u001b[32m2025-03-27 01:28:10.721\u001b[0m | \u001b[1mINFO    \u001b[0m | \u001b[36m__main__\u001b[0m:\u001b[36m<module>\u001b[0m:\u001b[36m23\u001b[0m - \u001b[1mSampling round 3 started\u001b[0m\n",
      "\u001b[32m2025-03-27 01:28:12.108\u001b[0m | \u001b[1mINFO    \u001b[0m | \u001b[36m__main__\u001b[0m:\u001b[36m<module>\u001b[0m:\u001b[36m27\u001b[0m - \u001b[1mlen(uu)=655\u001b[0m\n",
      "\u001b[32m2025-03-27 01:28:12.518\u001b[0m | \u001b[1mINFO    \u001b[0m | \u001b[36m__main__\u001b[0m:\u001b[36m<module>\u001b[0m:\u001b[36m31\u001b[0m - \u001b[1mAfter removing uu: len(sample_df)=5740595\u001b[0m\n",
      "\u001b[32m2025-03-27 01:28:14.842\u001b[0m | \u001b[1mINFO    \u001b[0m | \u001b[36m__main__\u001b[0m:\u001b[36m<module>\u001b[0m:\u001b[36m36\u001b[0m - \u001b[1mlen(ui)=37\u001b[0m\n",
      "\u001b[32m2025-03-27 01:28:15.389\u001b[0m | \u001b[1mINFO    \u001b[0m | \u001b[36m__main__\u001b[0m:\u001b[36m<module>\u001b[0m:\u001b[36m40\u001b[0m - \u001b[1mAfter removing ui: len(sample_df)=5740262\u001b[0m\n",
      "\u001b[32m2025-03-27 01:28:16.100\u001b[0m | \u001b[1mINFO    \u001b[0m | \u001b[36m__main__\u001b[0m:\u001b[36m<module>\u001b[0m:\u001b[36m23\u001b[0m - \u001b[1mSampling round 4 started\u001b[0m\n",
      "\u001b[32m2025-03-27 01:28:17.446\u001b[0m | \u001b[1mINFO    \u001b[0m | \u001b[36m__main__\u001b[0m:\u001b[36m<module>\u001b[0m:\u001b[36m27\u001b[0m - \u001b[1mlen(uu)=59\u001b[0m\n",
      "\u001b[32m2025-03-27 01:28:17.859\u001b[0m | \u001b[1mINFO    \u001b[0m | \u001b[36m__main__\u001b[0m:\u001b[36m<module>\u001b[0m:\u001b[36m31\u001b[0m - \u001b[1mAfter removing uu: len(sample_df)=5740026\u001b[0m\n",
      "\u001b[32m2025-03-27 01:28:19.908\u001b[0m | \u001b[1mINFO    \u001b[0m | \u001b[36m__main__\u001b[0m:\u001b[36m<module>\u001b[0m:\u001b[36m36\u001b[0m - \u001b[1mlen(ui)=3\u001b[0m\n",
      "\u001b[32m2025-03-27 01:28:20.531\u001b[0m | \u001b[1mINFO    \u001b[0m | \u001b[36m__main__\u001b[0m:\u001b[36m<module>\u001b[0m:\u001b[36m40\u001b[0m - \u001b[1mAfter removing ui: len(sample_df)=5739999\u001b[0m\n",
      "\u001b[32m2025-03-27 01:28:21.161\u001b[0m | \u001b[1mINFO    \u001b[0m | \u001b[36m__main__\u001b[0m:\u001b[36m<module>\u001b[0m:\u001b[36m23\u001b[0m - \u001b[1mSampling round 5 started\u001b[0m\n",
      "\u001b[32m2025-03-27 01:28:22.552\u001b[0m | \u001b[1mINFO    \u001b[0m | \u001b[36m__main__\u001b[0m:\u001b[36m<module>\u001b[0m:\u001b[36m27\u001b[0m - \u001b[1mlen(uu)=3\u001b[0m\n",
      "\u001b[32m2025-03-27 01:28:22.984\u001b[0m | \u001b[1mINFO    \u001b[0m | \u001b[36m__main__\u001b[0m:\u001b[36m<module>\u001b[0m:\u001b[36m31\u001b[0m - \u001b[1mAfter removing uu: len(sample_df)=5739987\u001b[0m\n",
      "\u001b[32m2025-03-27 01:28:25.141\u001b[0m | \u001b[1mINFO    \u001b[0m | \u001b[36m__main__\u001b[0m:\u001b[36m<module>\u001b[0m:\u001b[36m36\u001b[0m - \u001b[1mlen(ui)=0\u001b[0m\n",
      "\u001b[32m2025-03-27 01:28:25.142\u001b[0m | \u001b[1mINFO    \u001b[0m | \u001b[36m__main__\u001b[0m:\u001b[36m<module>\u001b[0m:\u001b[36m23\u001b[0m - \u001b[1mSampling round 6 started\u001b[0m\n",
      "\u001b[32m2025-03-27 01:28:26.449\u001b[0m | \u001b[1mINFO    \u001b[0m | \u001b[36m__main__\u001b[0m:\u001b[36m<module>\u001b[0m:\u001b[36m27\u001b[0m - \u001b[1mlen(uu)=0\u001b[0m\n",
      "\u001b[32m2025-03-27 01:28:27.074\u001b[0m | \u001b[1mINFO    \u001b[0m | \u001b[36m__main__\u001b[0m:\u001b[36m<module>\u001b[0m:\u001b[36m36\u001b[0m - \u001b[1mlen(ui)=0\u001b[0m\n",
      "\u001b[32m2025-03-27 01:28:28.011\u001b[0m | \u001b[1mINFO    \u001b[0m | \u001b[36m__main__\u001b[0m:\u001b[36m<module>\u001b[0m:\u001b[36m48\u001b[0m - \u001b[1mAfter randomly removing users - round 8: num_users=634369\u001b[0m\n",
      "\u001b[32m2025-03-27 01:28:28.011\u001b[0m | \u001b[1mINFO    \u001b[0m | \u001b[36m__main__\u001b[0m:\u001b[36m<module>\u001b[0m:\u001b[36m54\u001b[0m - \u001b[1mNumber of users 634369 are still greater than expected, keep removing...\u001b[0m\n"
     ]
    },
    {
     "name": "stdout",
     "output_type": "stream",
     "text": [
      "\n",
      "\n",
      "Randomly removing 31718 users - Round 9 started\n"
     ]
    },
    {
     "name": "stderr",
     "output_type": "stream",
     "text": [
      "\u001b[32m2025-03-27 01:28:29.911\u001b[0m | \u001b[1mINFO    \u001b[0m | \u001b[36m__main__\u001b[0m:\u001b[36m<module>\u001b[0m:\u001b[36m23\u001b[0m - \u001b[1mSampling round 1 started\u001b[0m\n",
      "\u001b[32m2025-03-27 01:28:31.375\u001b[0m | \u001b[1mINFO    \u001b[0m | \u001b[36m__main__\u001b[0m:\u001b[36m<module>\u001b[0m:\u001b[36m27\u001b[0m - \u001b[1mlen(uu)=0\u001b[0m\n",
      "\u001b[32m2025-03-27 01:28:31.968\u001b[0m | \u001b[1mINFO    \u001b[0m | \u001b[36m__main__\u001b[0m:\u001b[36m<module>\u001b[0m:\u001b[36m36\u001b[0m - \u001b[1mlen(ui)=4276\u001b[0m\n",
      "\u001b[32m2025-03-27 01:28:32.506\u001b[0m | \u001b[1mINFO    \u001b[0m | \u001b[36m__main__\u001b[0m:\u001b[36m<module>\u001b[0m:\u001b[36m40\u001b[0m - \u001b[1mAfter removing ui: len(sample_df)=5412757\u001b[0m\n",
      "\u001b[32m2025-03-27 01:28:33.075\u001b[0m | \u001b[1mINFO    \u001b[0m | \u001b[36m__main__\u001b[0m:\u001b[36m<module>\u001b[0m:\u001b[36m23\u001b[0m - \u001b[1mSampling round 2 started\u001b[0m\n",
      "\u001b[32m2025-03-27 01:28:34.268\u001b[0m | \u001b[1mINFO    \u001b[0m | \u001b[36m__main__\u001b[0m:\u001b[36m<module>\u001b[0m:\u001b[36m27\u001b[0m - \u001b[1mlen(uu)=5981\u001b[0m\n",
      "\u001b[32m2025-03-27 01:28:34.757\u001b[0m | \u001b[1mINFO    \u001b[0m | \u001b[36m__main__\u001b[0m:\u001b[36m<module>\u001b[0m:\u001b[36m31\u001b[0m - \u001b[1mAfter removing uu: len(sample_df)=5388928\u001b[0m\n",
      "\u001b[32m2025-03-27 01:28:36.479\u001b[0m | \u001b[1mINFO    \u001b[0m | \u001b[36m__main__\u001b[0m:\u001b[36m<module>\u001b[0m:\u001b[36m36\u001b[0m - \u001b[1mlen(ui)=480\u001b[0m\n",
      "\u001b[32m2025-03-27 01:28:36.917\u001b[0m | \u001b[1mINFO    \u001b[0m | \u001b[36m__main__\u001b[0m:\u001b[36m<module>\u001b[0m:\u001b[36m40\u001b[0m - \u001b[1mAfter removing ui: len(sample_df)=5384615\u001b[0m\n",
      "\u001b[32m2025-03-27 01:28:37.445\u001b[0m | \u001b[1mINFO    \u001b[0m | \u001b[36m__main__\u001b[0m:\u001b[36m<module>\u001b[0m:\u001b[36m23\u001b[0m - \u001b[1mSampling round 3 started\u001b[0m\n",
      "\u001b[32m2025-03-27 01:28:38.633\u001b[0m | \u001b[1mINFO    \u001b[0m | \u001b[36m__main__\u001b[0m:\u001b[36m<module>\u001b[0m:\u001b[36m27\u001b[0m - \u001b[1mlen(uu)=712\u001b[0m\n",
      "\u001b[32m2025-03-27 01:28:39.063\u001b[0m | \u001b[1mINFO    \u001b[0m | \u001b[36m__main__\u001b[0m:\u001b[36m<module>\u001b[0m:\u001b[36m31\u001b[0m - \u001b[1mAfter removing uu: len(sample_df)=5381767\u001b[0m\n",
      "\u001b[32m2025-03-27 01:28:40.831\u001b[0m | \u001b[1mINFO    \u001b[0m | \u001b[36m__main__\u001b[0m:\u001b[36m<module>\u001b[0m:\u001b[36m36\u001b[0m - \u001b[1mlen(ui)=44\u001b[0m\n",
      "\u001b[32m2025-03-27 01:28:41.391\u001b[0m | \u001b[1mINFO    \u001b[0m | \u001b[36m__main__\u001b[0m:\u001b[36m<module>\u001b[0m:\u001b[36m40\u001b[0m - \u001b[1mAfter removing ui: len(sample_df)=5381371\u001b[0m\n",
      "\u001b[32m2025-03-27 01:28:41.944\u001b[0m | \u001b[1mINFO    \u001b[0m | \u001b[36m__main__\u001b[0m:\u001b[36m<module>\u001b[0m:\u001b[36m23\u001b[0m - \u001b[1mSampling round 4 started\u001b[0m\n",
      "\u001b[32m2025-03-27 01:28:43.087\u001b[0m | \u001b[1mINFO    \u001b[0m | \u001b[36m__main__\u001b[0m:\u001b[36m<module>\u001b[0m:\u001b[36m27\u001b[0m - \u001b[1mlen(uu)=53\u001b[0m\n",
      "\u001b[32m2025-03-27 01:28:43.422\u001b[0m | \u001b[1mINFO    \u001b[0m | \u001b[36m__main__\u001b[0m:\u001b[36m<module>\u001b[0m:\u001b[36m31\u001b[0m - \u001b[1mAfter removing uu: len(sample_df)=5381159\u001b[0m\n",
      "\u001b[32m2025-03-27 01:28:45.181\u001b[0m | \u001b[1mINFO    \u001b[0m | \u001b[36m__main__\u001b[0m:\u001b[36m<module>\u001b[0m:\u001b[36m36\u001b[0m - \u001b[1mlen(ui)=2\u001b[0m\n",
      "\u001b[32m2025-03-27 01:28:45.662\u001b[0m | \u001b[1mINFO    \u001b[0m | \u001b[36m__main__\u001b[0m:\u001b[36m<module>\u001b[0m:\u001b[36m40\u001b[0m - \u001b[1mAfter removing ui: len(sample_df)=5381141\u001b[0m\n",
      "\u001b[32m2025-03-27 01:28:46.357\u001b[0m | \u001b[1mINFO    \u001b[0m | \u001b[36m__main__\u001b[0m:\u001b[36m<module>\u001b[0m:\u001b[36m23\u001b[0m - \u001b[1mSampling round 5 started\u001b[0m\n",
      "\u001b[32m2025-03-27 01:28:47.577\u001b[0m | \u001b[1mINFO    \u001b[0m | \u001b[36m__main__\u001b[0m:\u001b[36m<module>\u001b[0m:\u001b[36m27\u001b[0m - \u001b[1mlen(uu)=5\u001b[0m\n",
      "\u001b[32m2025-03-27 01:28:47.931\u001b[0m | \u001b[1mINFO    \u001b[0m | \u001b[36m__main__\u001b[0m:\u001b[36m<module>\u001b[0m:\u001b[36m31\u001b[0m - \u001b[1mAfter removing uu: len(sample_df)=5381121\u001b[0m\n",
      "\u001b[32m2025-03-27 01:28:49.659\u001b[0m | \u001b[1mINFO    \u001b[0m | \u001b[36m__main__\u001b[0m:\u001b[36m<module>\u001b[0m:\u001b[36m36\u001b[0m - \u001b[1mlen(ui)=1\u001b[0m\n",
      "\u001b[32m2025-03-27 01:28:50.009\u001b[0m | \u001b[1mINFO    \u001b[0m | \u001b[36m__main__\u001b[0m:\u001b[36m<module>\u001b[0m:\u001b[36m40\u001b[0m - \u001b[1mAfter removing ui: len(sample_df)=5381112\u001b[0m\n",
      "\u001b[32m2025-03-27 01:28:50.643\u001b[0m | \u001b[1mINFO    \u001b[0m | \u001b[36m__main__\u001b[0m:\u001b[36m<module>\u001b[0m:\u001b[36m23\u001b[0m - \u001b[1mSampling round 6 started\u001b[0m\n",
      "\u001b[32m2025-03-27 01:28:51.840\u001b[0m | \u001b[1mINFO    \u001b[0m | \u001b[36m__main__\u001b[0m:\u001b[36m<module>\u001b[0m:\u001b[36m27\u001b[0m - \u001b[1mlen(uu)=2\u001b[0m\n",
      "\u001b[32m2025-03-27 01:28:52.175\u001b[0m | \u001b[1mINFO    \u001b[0m | \u001b[36m__main__\u001b[0m:\u001b[36m<module>\u001b[0m:\u001b[36m31\u001b[0m - \u001b[1mAfter removing uu: len(sample_df)=5381104\u001b[0m\n",
      "\u001b[32m2025-03-27 01:28:53.955\u001b[0m | \u001b[1mINFO    \u001b[0m | \u001b[36m__main__\u001b[0m:\u001b[36m<module>\u001b[0m:\u001b[36m36\u001b[0m - \u001b[1mlen(ui)=0\u001b[0m\n",
      "\u001b[32m2025-03-27 01:28:53.956\u001b[0m | \u001b[1mINFO    \u001b[0m | \u001b[36m__main__\u001b[0m:\u001b[36m<module>\u001b[0m:\u001b[36m23\u001b[0m - \u001b[1mSampling round 7 started\u001b[0m\n",
      "\u001b[32m2025-03-27 01:28:55.192\u001b[0m | \u001b[1mINFO    \u001b[0m | \u001b[36m__main__\u001b[0m:\u001b[36m<module>\u001b[0m:\u001b[36m27\u001b[0m - \u001b[1mlen(uu)=0\u001b[0m\n",
      "\u001b[32m2025-03-27 01:28:55.818\u001b[0m | \u001b[1mINFO    \u001b[0m | \u001b[36m__main__\u001b[0m:\u001b[36m<module>\u001b[0m:\u001b[36m36\u001b[0m - \u001b[1mlen(ui)=0\u001b[0m\n",
      "\u001b[32m2025-03-27 01:28:56.756\u001b[0m | \u001b[1mINFO    \u001b[0m | \u001b[36m__main__\u001b[0m:\u001b[36m<module>\u001b[0m:\u001b[36m48\u001b[0m - \u001b[1mAfter randomly removing users - round 9: num_users=595898\u001b[0m\n",
      "\u001b[32m2025-03-27 01:28:56.757\u001b[0m | \u001b[1mINFO    \u001b[0m | \u001b[36m__main__\u001b[0m:\u001b[36m<module>\u001b[0m:\u001b[36m54\u001b[0m - \u001b[1mNumber of users 595898 are still greater than expected, keep removing...\u001b[0m\n"
     ]
    },
    {
     "name": "stdout",
     "output_type": "stream",
     "text": [
      "\n",
      "\n",
      "Randomly removing 29794 users - Round 10 started\n"
     ]
    },
    {
     "name": "stderr",
     "output_type": "stream",
     "text": [
      "\u001b[32m2025-03-27 01:28:58.650\u001b[0m | \u001b[1mINFO    \u001b[0m | \u001b[36m__main__\u001b[0m:\u001b[36m<module>\u001b[0m:\u001b[36m23\u001b[0m - \u001b[1mSampling round 1 started\u001b[0m\n",
      "\u001b[32m2025-03-27 01:28:59.828\u001b[0m | \u001b[1mINFO    \u001b[0m | \u001b[36m__main__\u001b[0m:\u001b[36m<module>\u001b[0m:\u001b[36m27\u001b[0m - \u001b[1mlen(uu)=0\u001b[0m\n",
      "\u001b[32m2025-03-27 01:29:00.356\u001b[0m | \u001b[1mINFO    \u001b[0m | \u001b[36m__main__\u001b[0m:\u001b[36m<module>\u001b[0m:\u001b[36m36\u001b[0m - \u001b[1mlen(ui)=4036\u001b[0m\n",
      "\u001b[32m2025-03-27 01:29:00.798\u001b[0m | \u001b[1mINFO    \u001b[0m | \u001b[36m__main__\u001b[0m:\u001b[36m<module>\u001b[0m:\u001b[36m40\u001b[0m - \u001b[1mAfter removing ui: len(sample_df)=5076756\u001b[0m\n",
      "\u001b[32m2025-03-27 01:29:01.458\u001b[0m | \u001b[1mINFO    \u001b[0m | \u001b[36m__main__\u001b[0m:\u001b[36m<module>\u001b[0m:\u001b[36m23\u001b[0m - \u001b[1mSampling round 2 started\u001b[0m\n",
      "\u001b[32m2025-03-27 01:29:02.545\u001b[0m | \u001b[1mINFO    \u001b[0m | \u001b[36m__main__\u001b[0m:\u001b[36m<module>\u001b[0m:\u001b[36m27\u001b[0m - \u001b[1mlen(uu)=5605\u001b[0m\n",
      "\u001b[32m2025-03-27 01:29:02.951\u001b[0m | \u001b[1mINFO    \u001b[0m | \u001b[36m__main__\u001b[0m:\u001b[36m<module>\u001b[0m:\u001b[36m31\u001b[0m - \u001b[1mAfter removing uu: len(sample_df)=5054434\u001b[0m\n",
      "\u001b[32m2025-03-27 01:29:04.601\u001b[0m | \u001b[1mINFO    \u001b[0m | \u001b[36m__main__\u001b[0m:\u001b[36m<module>\u001b[0m:\u001b[36m36\u001b[0m - \u001b[1mlen(ui)=397\u001b[0m\n",
      "\u001b[32m2025-03-27 01:29:04.992\u001b[0m | \u001b[1mINFO    \u001b[0m | \u001b[36m__main__\u001b[0m:\u001b[36m<module>\u001b[0m:\u001b[36m40\u001b[0m - \u001b[1mAfter removing ui: len(sample_df)=5050873\u001b[0m\n",
      "\u001b[32m2025-03-27 01:29:05.511\u001b[0m | \u001b[1mINFO    \u001b[0m | \u001b[36m__main__\u001b[0m:\u001b[36m<module>\u001b[0m:\u001b[36m23\u001b[0m - \u001b[1mSampling round 3 started\u001b[0m\n",
      "\u001b[32m2025-03-27 01:29:06.644\u001b[0m | \u001b[1mINFO    \u001b[0m | \u001b[36m__main__\u001b[0m:\u001b[36m<module>\u001b[0m:\u001b[36m27\u001b[0m - \u001b[1mlen(uu)=603\u001b[0m\n",
      "\u001b[32m2025-03-27 01:29:06.995\u001b[0m | \u001b[1mINFO    \u001b[0m | \u001b[36m__main__\u001b[0m:\u001b[36m<module>\u001b[0m:\u001b[36m31\u001b[0m - \u001b[1mAfter removing uu: len(sample_df)=5048461\u001b[0m\n",
      "\u001b[32m2025-03-27 01:29:08.656\u001b[0m | \u001b[1mINFO    \u001b[0m | \u001b[36m__main__\u001b[0m:\u001b[36m<module>\u001b[0m:\u001b[36m36\u001b[0m - \u001b[1mlen(ui)=45\u001b[0m\n",
      "\u001b[32m2025-03-27 01:29:09.240\u001b[0m | \u001b[1mINFO    \u001b[0m | \u001b[36m__main__\u001b[0m:\u001b[36m<module>\u001b[0m:\u001b[36m40\u001b[0m - \u001b[1mAfter removing ui: len(sample_df)=5048057\u001b[0m\n",
      "\u001b[32m2025-03-27 01:29:09.815\u001b[0m | \u001b[1mINFO    \u001b[0m | \u001b[36m__main__\u001b[0m:\u001b[36m<module>\u001b[0m:\u001b[36m23\u001b[0m - \u001b[1mSampling round 4 started\u001b[0m\n",
      "\u001b[32m2025-03-27 01:29:11.067\u001b[0m | \u001b[1mINFO    \u001b[0m | \u001b[36m__main__\u001b[0m:\u001b[36m<module>\u001b[0m:\u001b[36m27\u001b[0m - \u001b[1mlen(uu)=58\u001b[0m\n",
      "\u001b[32m2025-03-27 01:29:11.495\u001b[0m | \u001b[1mINFO    \u001b[0m | \u001b[36m__main__\u001b[0m:\u001b[36m<module>\u001b[0m:\u001b[36m31\u001b[0m - \u001b[1mAfter removing uu: len(sample_df)=5047825\u001b[0m\n",
      "\u001b[32m2025-03-27 01:29:13.826\u001b[0m | \u001b[1mINFO    \u001b[0m | \u001b[36m__main__\u001b[0m:\u001b[36m<module>\u001b[0m:\u001b[36m36\u001b[0m - \u001b[1mlen(ui)=1\u001b[0m\n",
      "\u001b[32m2025-03-27 01:29:14.270\u001b[0m | \u001b[1mINFO    \u001b[0m | \u001b[36m__main__\u001b[0m:\u001b[36m<module>\u001b[0m:\u001b[36m40\u001b[0m - \u001b[1mAfter removing ui: len(sample_df)=5047816\u001b[0m\n",
      "\u001b[32m2025-03-27 01:29:15.149\u001b[0m | \u001b[1mINFO    \u001b[0m | \u001b[36m__main__\u001b[0m:\u001b[36m<module>\u001b[0m:\u001b[36m23\u001b[0m - \u001b[1mSampling round 5 started\u001b[0m\n",
      "\u001b[32m2025-03-27 01:29:16.597\u001b[0m | \u001b[1mINFO    \u001b[0m | \u001b[36m__main__\u001b[0m:\u001b[36m<module>\u001b[0m:\u001b[36m27\u001b[0m - \u001b[1mlen(uu)=3\u001b[0m\n",
      "\u001b[32m2025-03-27 01:29:16.956\u001b[0m | \u001b[1mINFO    \u001b[0m | \u001b[36m__main__\u001b[0m:\u001b[36m<module>\u001b[0m:\u001b[36m31\u001b[0m - \u001b[1mAfter removing uu: len(sample_df)=5047804\u001b[0m\n",
      "\u001b[32m2025-03-27 01:29:18.800\u001b[0m | \u001b[1mINFO    \u001b[0m | \u001b[36m__main__\u001b[0m:\u001b[36m<module>\u001b[0m:\u001b[36m36\u001b[0m - \u001b[1mlen(ui)=0\u001b[0m\n",
      "\u001b[32m2025-03-27 01:29:18.801\u001b[0m | \u001b[1mINFO    \u001b[0m | \u001b[36m__main__\u001b[0m:\u001b[36m<module>\u001b[0m:\u001b[36m23\u001b[0m - \u001b[1mSampling round 6 started\u001b[0m\n",
      "\u001b[32m2025-03-27 01:29:19.925\u001b[0m | \u001b[1mINFO    \u001b[0m | \u001b[36m__main__\u001b[0m:\u001b[36m<module>\u001b[0m:\u001b[36m27\u001b[0m - \u001b[1mlen(uu)=0\u001b[0m\n",
      "\u001b[32m2025-03-27 01:29:20.596\u001b[0m | \u001b[1mINFO    \u001b[0m | \u001b[36m__main__\u001b[0m:\u001b[36m<module>\u001b[0m:\u001b[36m36\u001b[0m - \u001b[1mlen(ui)=0\u001b[0m\n",
      "\u001b[32m2025-03-27 01:29:21.326\u001b[0m | \u001b[1mINFO    \u001b[0m | \u001b[36m__main__\u001b[0m:\u001b[36m<module>\u001b[0m:\u001b[36m48\u001b[0m - \u001b[1mAfter randomly removing users - round 10: num_users=559835\u001b[0m\n",
      "\u001b[32m2025-03-27 01:29:21.327\u001b[0m | \u001b[1mINFO    \u001b[0m | \u001b[36m__main__\u001b[0m:\u001b[36m<module>\u001b[0m:\u001b[36m54\u001b[0m - \u001b[1mNumber of users 559835 are still greater than expected, keep removing...\u001b[0m\n"
     ]
    },
    {
     "name": "stdout",
     "output_type": "stream",
     "text": [
      "\n",
      "\n",
      "Randomly removing 27991 users - Round 11 started\n"
     ]
    },
    {
     "name": "stderr",
     "output_type": "stream",
     "text": [
      "\u001b[32m2025-03-27 01:29:22.974\u001b[0m | \u001b[1mINFO    \u001b[0m | \u001b[36m__main__\u001b[0m:\u001b[36m<module>\u001b[0m:\u001b[36m23\u001b[0m - \u001b[1mSampling round 1 started\u001b[0m\n",
      "\u001b[32m2025-03-27 01:29:24.134\u001b[0m | \u001b[1mINFO    \u001b[0m | \u001b[36m__main__\u001b[0m:\u001b[36m<module>\u001b[0m:\u001b[36m27\u001b[0m - \u001b[1mlen(uu)=0\u001b[0m\n",
      "\u001b[32m2025-03-27 01:29:24.730\u001b[0m | \u001b[1mINFO    \u001b[0m | \u001b[36m__main__\u001b[0m:\u001b[36m<module>\u001b[0m:\u001b[36m36\u001b[0m - \u001b[1mlen(ui)=3894\u001b[0m\n",
      "\u001b[32m2025-03-27 01:29:25.179\u001b[0m | \u001b[1mINFO    \u001b[0m | \u001b[36m__main__\u001b[0m:\u001b[36m<module>\u001b[0m:\u001b[36m40\u001b[0m - \u001b[1mAfter removing ui: len(sample_df)=4762437\u001b[0m\n",
      "\u001b[32m2025-03-27 01:29:25.756\u001b[0m | \u001b[1mINFO    \u001b[0m | \u001b[36m__main__\u001b[0m:\u001b[36m<module>\u001b[0m:\u001b[36m23\u001b[0m - \u001b[1mSampling round 2 started\u001b[0m\n",
      "\u001b[32m2025-03-27 01:29:26.757\u001b[0m | \u001b[1mINFO    \u001b[0m | \u001b[36m__main__\u001b[0m:\u001b[36m<module>\u001b[0m:\u001b[36m27\u001b[0m - \u001b[1mlen(uu)=5374\u001b[0m\n",
      "\u001b[32m2025-03-27 01:29:27.133\u001b[0m | \u001b[1mINFO    \u001b[0m | \u001b[36m__main__\u001b[0m:\u001b[36m<module>\u001b[0m:\u001b[36m31\u001b[0m - \u001b[1mAfter removing uu: len(sample_df)=4741050\u001b[0m\n",
      "\u001b[32m2025-03-27 01:29:28.761\u001b[0m | \u001b[1mINFO    \u001b[0m | \u001b[36m__main__\u001b[0m:\u001b[36m<module>\u001b[0m:\u001b[36m36\u001b[0m - \u001b[1mlen(ui)=383\u001b[0m\n",
      "\u001b[32m2025-03-27 01:29:29.314\u001b[0m | \u001b[1mINFO    \u001b[0m | \u001b[36m__main__\u001b[0m:\u001b[36m<module>\u001b[0m:\u001b[36m40\u001b[0m - \u001b[1mAfter removing ui: len(sample_df)=4737623\u001b[0m\n",
      "\u001b[32m2025-03-27 01:29:29.836\u001b[0m | \u001b[1mINFO    \u001b[0m | \u001b[36m__main__\u001b[0m:\u001b[36m<module>\u001b[0m:\u001b[36m23\u001b[0m - \u001b[1mSampling round 3 started\u001b[0m\n",
      "\u001b[32m2025-03-27 01:29:30.889\u001b[0m | \u001b[1mINFO    \u001b[0m | \u001b[36m__main__\u001b[0m:\u001b[36m<module>\u001b[0m:\u001b[36m27\u001b[0m - \u001b[1mlen(uu)=572\u001b[0m\n",
      "\u001b[32m2025-03-27 01:29:31.243\u001b[0m | \u001b[1mINFO    \u001b[0m | \u001b[36m__main__\u001b[0m:\u001b[36m<module>\u001b[0m:\u001b[36m31\u001b[0m - \u001b[1mAfter removing uu: len(sample_df)=4735335\u001b[0m\n",
      "\u001b[32m2025-03-27 01:29:32.851\u001b[0m | \u001b[1mINFO    \u001b[0m | \u001b[36m__main__\u001b[0m:\u001b[36m<module>\u001b[0m:\u001b[36m36\u001b[0m - \u001b[1mlen(ui)=38\u001b[0m\n",
      "\u001b[32m2025-03-27 01:29:33.461\u001b[0m | \u001b[1mINFO    \u001b[0m | \u001b[36m__main__\u001b[0m:\u001b[36m<module>\u001b[0m:\u001b[36m40\u001b[0m - \u001b[1mAfter removing ui: len(sample_df)=4734993\u001b[0m\n",
      "\u001b[32m2025-03-27 01:29:34.093\u001b[0m | \u001b[1mINFO    \u001b[0m | \u001b[36m__main__\u001b[0m:\u001b[36m<module>\u001b[0m:\u001b[36m23\u001b[0m - \u001b[1mSampling round 4 started\u001b[0m\n",
      "\u001b[32m2025-03-27 01:29:35.150\u001b[0m | \u001b[1mINFO    \u001b[0m | \u001b[36m__main__\u001b[0m:\u001b[36m<module>\u001b[0m:\u001b[36m27\u001b[0m - \u001b[1mlen(uu)=70\u001b[0m\n",
      "\u001b[32m2025-03-27 01:29:35.476\u001b[0m | \u001b[1mINFO    \u001b[0m | \u001b[36m__main__\u001b[0m:\u001b[36m<module>\u001b[0m:\u001b[36m31\u001b[0m - \u001b[1mAfter removing uu: len(sample_df)=4734713\u001b[0m\n",
      "\u001b[32m2025-03-27 01:29:36.997\u001b[0m | \u001b[1mINFO    \u001b[0m | \u001b[36m__main__\u001b[0m:\u001b[36m<module>\u001b[0m:\u001b[36m36\u001b[0m - \u001b[1mlen(ui)=2\u001b[0m\n",
      "\u001b[32m2025-03-27 01:29:37.353\u001b[0m | \u001b[1mINFO    \u001b[0m | \u001b[36m__main__\u001b[0m:\u001b[36m<module>\u001b[0m:\u001b[36m40\u001b[0m - \u001b[1mAfter removing ui: len(sample_df)=4734695\u001b[0m\n",
      "\u001b[32m2025-03-27 01:29:37.857\u001b[0m | \u001b[1mINFO    \u001b[0m | \u001b[36m__main__\u001b[0m:\u001b[36m<module>\u001b[0m:\u001b[36m23\u001b[0m - \u001b[1mSampling round 5 started\u001b[0m\n",
      "\u001b[32m2025-03-27 01:29:38.897\u001b[0m | \u001b[1mINFO    \u001b[0m | \u001b[36m__main__\u001b[0m:\u001b[36m<module>\u001b[0m:\u001b[36m27\u001b[0m - \u001b[1mlen(uu)=4\u001b[0m\n",
      "\u001b[32m2025-03-27 01:29:39.212\u001b[0m | \u001b[1mINFO    \u001b[0m | \u001b[36m__main__\u001b[0m:\u001b[36m<module>\u001b[0m:\u001b[36m31\u001b[0m - \u001b[1mAfter removing uu: len(sample_df)=4734679\u001b[0m\n",
      "\u001b[32m2025-03-27 01:29:40.783\u001b[0m | \u001b[1mINFO    \u001b[0m | \u001b[36m__main__\u001b[0m:\u001b[36m<module>\u001b[0m:\u001b[36m36\u001b[0m - \u001b[1mlen(ui)=0\u001b[0m\n",
      "\u001b[32m2025-03-27 01:29:40.784\u001b[0m | \u001b[1mINFO    \u001b[0m | \u001b[36m__main__\u001b[0m:\u001b[36m<module>\u001b[0m:\u001b[36m23\u001b[0m - \u001b[1mSampling round 6 started\u001b[0m\n",
      "\u001b[32m2025-03-27 01:29:41.758\u001b[0m | \u001b[1mINFO    \u001b[0m | \u001b[36m__main__\u001b[0m:\u001b[36m<module>\u001b[0m:\u001b[36m27\u001b[0m - \u001b[1mlen(uu)=0\u001b[0m\n",
      "\u001b[32m2025-03-27 01:29:42.226\u001b[0m | \u001b[1mINFO    \u001b[0m | \u001b[36m__main__\u001b[0m:\u001b[36m<module>\u001b[0m:\u001b[36m36\u001b[0m - \u001b[1mlen(ui)=0\u001b[0m\n",
      "\u001b[32m2025-03-27 01:29:42.801\u001b[0m | \u001b[1mINFO    \u001b[0m | \u001b[36m__main__\u001b[0m:\u001b[36m<module>\u001b[0m:\u001b[36m48\u001b[0m - \u001b[1mAfter randomly removing users - round 11: num_users=525824\u001b[0m\n",
      "\u001b[32m2025-03-27 01:29:42.801\u001b[0m | \u001b[1mINFO    \u001b[0m | \u001b[36m__main__\u001b[0m:\u001b[36m<module>\u001b[0m:\u001b[36m54\u001b[0m - \u001b[1mNumber of users 525824 are still greater than expected, keep removing...\u001b[0m\n"
     ]
    },
    {
     "name": "stdout",
     "output_type": "stream",
     "text": [
      "\n",
      "\n",
      "Randomly removing 26291 users - Round 12 started\n"
     ]
    },
    {
     "name": "stderr",
     "output_type": "stream",
     "text": [
      "\u001b[32m2025-03-27 01:29:44.237\u001b[0m | \u001b[1mINFO    \u001b[0m | \u001b[36m__main__\u001b[0m:\u001b[36m<module>\u001b[0m:\u001b[36m23\u001b[0m - \u001b[1mSampling round 1 started\u001b[0m\n",
      "\u001b[32m2025-03-27 01:29:45.191\u001b[0m | \u001b[1mINFO    \u001b[0m | \u001b[36m__main__\u001b[0m:\u001b[36m<module>\u001b[0m:\u001b[36m27\u001b[0m - \u001b[1mlen(uu)=0\u001b[0m\n",
      "\u001b[32m2025-03-27 01:29:45.629\u001b[0m | \u001b[1mINFO    \u001b[0m | \u001b[36m__main__\u001b[0m:\u001b[36m<module>\u001b[0m:\u001b[36m36\u001b[0m - \u001b[1mlen(ui)=3798\u001b[0m\n",
      "\u001b[32m2025-03-27 01:29:45.998\u001b[0m | \u001b[1mINFO    \u001b[0m | \u001b[36m__main__\u001b[0m:\u001b[36m<module>\u001b[0m:\u001b[36m40\u001b[0m - \u001b[1mAfter removing ui: len(sample_df)=4463795\u001b[0m\n",
      "\u001b[32m2025-03-27 01:29:46.404\u001b[0m | \u001b[1mINFO    \u001b[0m | \u001b[36m__main__\u001b[0m:\u001b[36m<module>\u001b[0m:\u001b[36m23\u001b[0m - \u001b[1mSampling round 2 started\u001b[0m\n",
      "\u001b[32m2025-03-27 01:29:47.320\u001b[0m | \u001b[1mINFO    \u001b[0m | \u001b[36m__main__\u001b[0m:\u001b[36m<module>\u001b[0m:\u001b[36m27\u001b[0m - \u001b[1mlen(uu)=5158\u001b[0m\n",
      "\u001b[32m2025-03-27 01:29:47.655\u001b[0m | \u001b[1mINFO    \u001b[0m | \u001b[36m__main__\u001b[0m:\u001b[36m<module>\u001b[0m:\u001b[36m31\u001b[0m - \u001b[1mAfter removing uu: len(sample_df)=4443239\u001b[0m\n",
      "\u001b[32m2025-03-27 01:29:49.020\u001b[0m | \u001b[1mINFO    \u001b[0m | \u001b[36m__main__\u001b[0m:\u001b[36m<module>\u001b[0m:\u001b[36m36\u001b[0m - \u001b[1mlen(ui)=408\u001b[0m\n",
      "\u001b[32m2025-03-27 01:29:49.341\u001b[0m | \u001b[1mINFO    \u001b[0m | \u001b[36m__main__\u001b[0m:\u001b[36m<module>\u001b[0m:\u001b[36m40\u001b[0m - \u001b[1mAfter removing ui: len(sample_df)=4439580\u001b[0m\n",
      "\u001b[32m2025-03-27 01:29:49.850\u001b[0m | \u001b[1mINFO    \u001b[0m | \u001b[36m__main__\u001b[0m:\u001b[36m<module>\u001b[0m:\u001b[36m23\u001b[0m - \u001b[1mSampling round 3 started\u001b[0m\n",
      "\u001b[32m2025-03-27 01:29:50.810\u001b[0m | \u001b[1mINFO    \u001b[0m | \u001b[36m__main__\u001b[0m:\u001b[36m<module>\u001b[0m:\u001b[36m27\u001b[0m - \u001b[1mlen(uu)=615\u001b[0m\n",
      "\u001b[32m2025-03-27 01:29:51.167\u001b[0m | \u001b[1mINFO    \u001b[0m | \u001b[36m__main__\u001b[0m:\u001b[36m<module>\u001b[0m:\u001b[36m31\u001b[0m - \u001b[1mAfter removing uu: len(sample_df)=4437120\u001b[0m\n",
      "\u001b[32m2025-03-27 01:29:52.737\u001b[0m | \u001b[1mINFO    \u001b[0m | \u001b[36m__main__\u001b[0m:\u001b[36m<module>\u001b[0m:\u001b[36m36\u001b[0m - \u001b[1mlen(ui)=43\u001b[0m\n",
      "\u001b[32m2025-03-27 01:29:53.231\u001b[0m | \u001b[1mINFO    \u001b[0m | \u001b[36m__main__\u001b[0m:\u001b[36m<module>\u001b[0m:\u001b[36m40\u001b[0m - \u001b[1mAfter removing ui: len(sample_df)=4436734\u001b[0m\n",
      "\u001b[32m2025-03-27 01:29:53.738\u001b[0m | \u001b[1mINFO    \u001b[0m | \u001b[36m__main__\u001b[0m:\u001b[36m<module>\u001b[0m:\u001b[36m23\u001b[0m - \u001b[1mSampling round 4 started\u001b[0m\n",
      "\u001b[32m2025-03-27 01:29:54.724\u001b[0m | \u001b[1mINFO    \u001b[0m | \u001b[36m__main__\u001b[0m:\u001b[36m<module>\u001b[0m:\u001b[36m27\u001b[0m - \u001b[1mlen(uu)=78\u001b[0m\n",
      "\u001b[32m2025-03-27 01:29:55.043\u001b[0m | \u001b[1mINFO    \u001b[0m | \u001b[36m__main__\u001b[0m:\u001b[36m<module>\u001b[0m:\u001b[36m31\u001b[0m - \u001b[1mAfter removing uu: len(sample_df)=4436422\u001b[0m\n",
      "\u001b[32m2025-03-27 01:29:56.604\u001b[0m | \u001b[1mINFO    \u001b[0m | \u001b[36m__main__\u001b[0m:\u001b[36m<module>\u001b[0m:\u001b[36m36\u001b[0m - \u001b[1mlen(ui)=6\u001b[0m\n",
      "\u001b[32m2025-03-27 01:29:57.062\u001b[0m | \u001b[1mINFO    \u001b[0m | \u001b[36m__main__\u001b[0m:\u001b[36m<module>\u001b[0m:\u001b[36m40\u001b[0m - \u001b[1mAfter removing ui: len(sample_df)=4436368\u001b[0m\n",
      "\u001b[32m2025-03-27 01:29:57.479\u001b[0m | \u001b[1mINFO    \u001b[0m | \u001b[36m__main__\u001b[0m:\u001b[36m<module>\u001b[0m:\u001b[36m23\u001b[0m - \u001b[1mSampling round 5 started\u001b[0m\n",
      "\u001b[32m2025-03-27 01:29:58.391\u001b[0m | \u001b[1mINFO    \u001b[0m | \u001b[36m__main__\u001b[0m:\u001b[36m<module>\u001b[0m:\u001b[36m27\u001b[0m - \u001b[1mlen(uu)=7\u001b[0m\n",
      "\u001b[32m2025-03-27 01:29:58.644\u001b[0m | \u001b[1mINFO    \u001b[0m | \u001b[36m__main__\u001b[0m:\u001b[36m<module>\u001b[0m:\u001b[36m31\u001b[0m - \u001b[1mAfter removing uu: len(sample_df)=4436340\u001b[0m\n",
      "\u001b[32m2025-03-27 01:29:59.999\u001b[0m | \u001b[1mINFO    \u001b[0m | \u001b[36m__main__\u001b[0m:\u001b[36m<module>\u001b[0m:\u001b[36m36\u001b[0m - \u001b[1mlen(ui)=1\u001b[0m\n",
      "\u001b[32m2025-03-27 01:30:00.267\u001b[0m | \u001b[1mINFO    \u001b[0m | \u001b[36m__main__\u001b[0m:\u001b[36m<module>\u001b[0m:\u001b[36m40\u001b[0m - \u001b[1mAfter removing ui: len(sample_df)=4436331\u001b[0m\n",
      "\u001b[32m2025-03-27 01:30:00.691\u001b[0m | \u001b[1mINFO    \u001b[0m | \u001b[36m__main__\u001b[0m:\u001b[36m<module>\u001b[0m:\u001b[36m23\u001b[0m - \u001b[1mSampling round 6 started\u001b[0m\n",
      "\u001b[32m2025-03-27 01:30:01.595\u001b[0m | \u001b[1mINFO    \u001b[0m | \u001b[36m__main__\u001b[0m:\u001b[36m<module>\u001b[0m:\u001b[36m27\u001b[0m - \u001b[1mlen(uu)=3\u001b[0m\n",
      "\u001b[32m2025-03-27 01:30:01.889\u001b[0m | \u001b[1mINFO    \u001b[0m | \u001b[36m__main__\u001b[0m:\u001b[36m<module>\u001b[0m:\u001b[36m31\u001b[0m - \u001b[1mAfter removing uu: len(sample_df)=4436319\u001b[0m\n",
      "\u001b[32m2025-03-27 01:30:03.215\u001b[0m | \u001b[1mINFO    \u001b[0m | \u001b[36m__main__\u001b[0m:\u001b[36m<module>\u001b[0m:\u001b[36m36\u001b[0m - \u001b[1mlen(ui)=0\u001b[0m\n",
      "\u001b[32m2025-03-27 01:30:03.215\u001b[0m | \u001b[1mINFO    \u001b[0m | \u001b[36m__main__\u001b[0m:\u001b[36m<module>\u001b[0m:\u001b[36m23\u001b[0m - \u001b[1mSampling round 7 started\u001b[0m\n",
      "\u001b[32m2025-03-27 01:30:04.157\u001b[0m | \u001b[1mINFO    \u001b[0m | \u001b[36m__main__\u001b[0m:\u001b[36m<module>\u001b[0m:\u001b[36m27\u001b[0m - \u001b[1mlen(uu)=0\u001b[0m\n",
      "\u001b[32m2025-03-27 01:30:04.580\u001b[0m | \u001b[1mINFO    \u001b[0m | \u001b[36m__main__\u001b[0m:\u001b[36m<module>\u001b[0m:\u001b[36m36\u001b[0m - \u001b[1mlen(ui)=0\u001b[0m\n",
      "\u001b[32m2025-03-27 01:30:05.162\u001b[0m | \u001b[1mINFO    \u001b[0m | \u001b[36m__main__\u001b[0m:\u001b[36m<module>\u001b[0m:\u001b[36m48\u001b[0m - \u001b[1mAfter randomly removing users - round 12: num_users=493672\u001b[0m\n",
      "\u001b[32m2025-03-27 01:30:05.162\u001b[0m | \u001b[1mINFO    \u001b[0m | \u001b[36m__main__\u001b[0m:\u001b[36m<module>\u001b[0m:\u001b[36m54\u001b[0m - \u001b[1mNumber of users 493672 are still greater than expected, keep removing...\u001b[0m\n"
     ]
    },
    {
     "name": "stdout",
     "output_type": "stream",
     "text": [
      "\n",
      "\n",
      "Randomly removing 24683 users - Round 13 started\n"
     ]
    },
    {
     "name": "stderr",
     "output_type": "stream",
     "text": [
      "\u001b[32m2025-03-27 01:30:06.789\u001b[0m | \u001b[1mINFO    \u001b[0m | \u001b[36m__main__\u001b[0m:\u001b[36m<module>\u001b[0m:\u001b[36m23\u001b[0m - \u001b[1mSampling round 1 started\u001b[0m\n",
      "\u001b[32m2025-03-27 01:30:07.655\u001b[0m | \u001b[1mINFO    \u001b[0m | \u001b[36m__main__\u001b[0m:\u001b[36m<module>\u001b[0m:\u001b[36m27\u001b[0m - \u001b[1mlen(uu)=0\u001b[0m\n",
      "\u001b[32m2025-03-27 01:30:08.083\u001b[0m | \u001b[1mINFO    \u001b[0m | \u001b[36m__main__\u001b[0m:\u001b[36m<module>\u001b[0m:\u001b[36m36\u001b[0m - \u001b[1mlen(ui)=3746\u001b[0m\n",
      "\u001b[32m2025-03-27 01:30:08.411\u001b[0m | \u001b[1mINFO    \u001b[0m | \u001b[36m__main__\u001b[0m:\u001b[36m<module>\u001b[0m:\u001b[36m40\u001b[0m - \u001b[1mAfter removing ui: len(sample_df)=4183338\u001b[0m\n",
      "\u001b[32m2025-03-27 01:30:08.805\u001b[0m | \u001b[1mINFO    \u001b[0m | \u001b[36m__main__\u001b[0m:\u001b[36m<module>\u001b[0m:\u001b[36m23\u001b[0m - \u001b[1mSampling round 2 started\u001b[0m\n",
      "\u001b[32m2025-03-27 01:30:09.678\u001b[0m | \u001b[1mINFO    \u001b[0m | \u001b[36m__main__\u001b[0m:\u001b[36m<module>\u001b[0m:\u001b[36m27\u001b[0m - \u001b[1mlen(uu)=5220\u001b[0m\n",
      "\u001b[32m2025-03-27 01:30:09.985\u001b[0m | \u001b[1mINFO    \u001b[0m | \u001b[36m__main__\u001b[0m:\u001b[36m<module>\u001b[0m:\u001b[36m31\u001b[0m - \u001b[1mAfter removing uu: len(sample_df)=4162537\u001b[0m\n",
      "\u001b[32m2025-03-27 01:30:11.231\u001b[0m | \u001b[1mINFO    \u001b[0m | \u001b[36m__main__\u001b[0m:\u001b[36m<module>\u001b[0m:\u001b[36m36\u001b[0m - \u001b[1mlen(ui)=392\u001b[0m\n",
      "\u001b[32m2025-03-27 01:30:11.683\u001b[0m | \u001b[1mINFO    \u001b[0m | \u001b[36m__main__\u001b[0m:\u001b[36m<module>\u001b[0m:\u001b[36m40\u001b[0m - \u001b[1mAfter removing ui: len(sample_df)=4159021\u001b[0m\n",
      "\u001b[32m2025-03-27 01:30:12.086\u001b[0m | \u001b[1mINFO    \u001b[0m | \u001b[36m__main__\u001b[0m:\u001b[36m<module>\u001b[0m:\u001b[36m23\u001b[0m - \u001b[1mSampling round 3 started\u001b[0m\n",
      "\u001b[32m2025-03-27 01:30:12.968\u001b[0m | \u001b[1mINFO    \u001b[0m | \u001b[36m__main__\u001b[0m:\u001b[36m<module>\u001b[0m:\u001b[36m27\u001b[0m - \u001b[1mlen(uu)=575\u001b[0m\n",
      "\u001b[32m2025-03-27 01:30:13.224\u001b[0m | \u001b[1mINFO    \u001b[0m | \u001b[36m__main__\u001b[0m:\u001b[36m<module>\u001b[0m:\u001b[36m31\u001b[0m - \u001b[1mAfter removing uu: len(sample_df)=4156722\u001b[0m\n",
      "\u001b[32m2025-03-27 01:30:14.453\u001b[0m | \u001b[1mINFO    \u001b[0m | \u001b[36m__main__\u001b[0m:\u001b[36m<module>\u001b[0m:\u001b[36m36\u001b[0m - \u001b[1mlen(ui)=53\u001b[0m\n",
      "\u001b[32m2025-03-27 01:30:14.778\u001b[0m | \u001b[1mINFO    \u001b[0m | \u001b[36m__main__\u001b[0m:\u001b[36m<module>\u001b[0m:\u001b[36m40\u001b[0m - \u001b[1mAfter removing ui: len(sample_df)=4156245\u001b[0m\n",
      "\u001b[32m2025-03-27 01:30:15.150\u001b[0m | \u001b[1mINFO    \u001b[0m | \u001b[36m__main__\u001b[0m:\u001b[36m<module>\u001b[0m:\u001b[36m23\u001b[0m - \u001b[1mSampling round 4 started\u001b[0m\n",
      "\u001b[32m2025-03-27 01:30:15.995\u001b[0m | \u001b[1mINFO    \u001b[0m | \u001b[36m__main__\u001b[0m:\u001b[36m<module>\u001b[0m:\u001b[36m27\u001b[0m - \u001b[1mlen(uu)=76\u001b[0m\n",
      "\u001b[32m2025-03-27 01:30:16.270\u001b[0m | \u001b[1mINFO    \u001b[0m | \u001b[36m__main__\u001b[0m:\u001b[36m<module>\u001b[0m:\u001b[36m31\u001b[0m - \u001b[1mAfter removing uu: len(sample_df)=4155941\u001b[0m\n",
      "\u001b[32m2025-03-27 01:30:17.516\u001b[0m | \u001b[1mINFO    \u001b[0m | \u001b[36m__main__\u001b[0m:\u001b[36m<module>\u001b[0m:\u001b[36m36\u001b[0m - \u001b[1mlen(ui)=9\u001b[0m\n",
      "\u001b[32m2025-03-27 01:30:17.846\u001b[0m | \u001b[1mINFO    \u001b[0m | \u001b[36m__main__\u001b[0m:\u001b[36m<module>\u001b[0m:\u001b[36m40\u001b[0m - \u001b[1mAfter removing ui: len(sample_df)=4155860\u001b[0m\n",
      "\u001b[32m2025-03-27 01:30:18.258\u001b[0m | \u001b[1mINFO    \u001b[0m | \u001b[36m__main__\u001b[0m:\u001b[36m<module>\u001b[0m:\u001b[36m23\u001b[0m - \u001b[1mSampling round 5 started\u001b[0m\n",
      "\u001b[32m2025-03-27 01:30:19.109\u001b[0m | \u001b[1mINFO    \u001b[0m | \u001b[36m__main__\u001b[0m:\u001b[36m<module>\u001b[0m:\u001b[36m27\u001b[0m - \u001b[1mlen(uu)=13\u001b[0m\n",
      "\u001b[32m2025-03-27 01:30:19.334\u001b[0m | \u001b[1mINFO    \u001b[0m | \u001b[36m__main__\u001b[0m:\u001b[36m<module>\u001b[0m:\u001b[36m31\u001b[0m - \u001b[1mAfter removing uu: len(sample_df)=4155808\u001b[0m\n",
      "\u001b[32m2025-03-27 01:30:20.578\u001b[0m | \u001b[1mINFO    \u001b[0m | \u001b[36m__main__\u001b[0m:\u001b[36m<module>\u001b[0m:\u001b[36m36\u001b[0m - \u001b[1mlen(ui)=0\u001b[0m\n",
      "\u001b[32m2025-03-27 01:30:20.579\u001b[0m | \u001b[1mINFO    \u001b[0m | \u001b[36m__main__\u001b[0m:\u001b[36m<module>\u001b[0m:\u001b[36m23\u001b[0m - \u001b[1mSampling round 6 started\u001b[0m\n",
      "\u001b[32m2025-03-27 01:30:21.526\u001b[0m | \u001b[1mINFO    \u001b[0m | \u001b[36m__main__\u001b[0m:\u001b[36m<module>\u001b[0m:\u001b[36m27\u001b[0m - \u001b[1mlen(uu)=0\u001b[0m\n",
      "\u001b[32m2025-03-27 01:30:21.908\u001b[0m | \u001b[1mINFO    \u001b[0m | \u001b[36m__main__\u001b[0m:\u001b[36m<module>\u001b[0m:\u001b[36m36\u001b[0m - \u001b[1mlen(ui)=0\u001b[0m\n",
      "\u001b[32m2025-03-27 01:30:22.435\u001b[0m | \u001b[1mINFO    \u001b[0m | \u001b[36m__main__\u001b[0m:\u001b[36m<module>\u001b[0m:\u001b[36m48\u001b[0m - \u001b[1mAfter randomly removing users - round 13: num_users=463105\u001b[0m\n",
      "\u001b[32m2025-03-27 01:30:22.436\u001b[0m | \u001b[1mINFO    \u001b[0m | \u001b[36m__main__\u001b[0m:\u001b[36m<module>\u001b[0m:\u001b[36m54\u001b[0m - \u001b[1mNumber of users 463105 are still greater than expected, keep removing...\u001b[0m\n"
     ]
    },
    {
     "name": "stdout",
     "output_type": "stream",
     "text": [
      "\n",
      "\n",
      "Randomly removing 23155 users - Round 14 started\n"
     ]
    },
    {
     "name": "stderr",
     "output_type": "stream",
     "text": [
      "\u001b[32m2025-03-27 01:30:23.902\u001b[0m | \u001b[1mINFO    \u001b[0m | \u001b[36m__main__\u001b[0m:\u001b[36m<module>\u001b[0m:\u001b[36m23\u001b[0m - \u001b[1mSampling round 1 started\u001b[0m\n",
      "\u001b[32m2025-03-27 01:30:24.696\u001b[0m | \u001b[1mINFO    \u001b[0m | \u001b[36m__main__\u001b[0m:\u001b[36m<module>\u001b[0m:\u001b[36m27\u001b[0m - \u001b[1mlen(uu)=0\u001b[0m\n",
      "\u001b[32m2025-03-27 01:30:25.135\u001b[0m | \u001b[1mINFO    \u001b[0m | \u001b[36m__main__\u001b[0m:\u001b[36m<module>\u001b[0m:\u001b[36m36\u001b[0m - \u001b[1mlen(ui)=3596\u001b[0m\n",
      "\u001b[32m2025-03-27 01:30:25.505\u001b[0m | \u001b[1mINFO    \u001b[0m | \u001b[36m__main__\u001b[0m:\u001b[36m<module>\u001b[0m:\u001b[36m40\u001b[0m - \u001b[1mAfter removing ui: len(sample_df)=3913688\u001b[0m\n",
      "\u001b[32m2025-03-27 01:30:26.034\u001b[0m | \u001b[1mINFO    \u001b[0m | \u001b[36m__main__\u001b[0m:\u001b[36m<module>\u001b[0m:\u001b[36m23\u001b[0m - \u001b[1mSampling round 2 started\u001b[0m\n",
      "\u001b[32m2025-03-27 01:30:26.955\u001b[0m | \u001b[1mINFO    \u001b[0m | \u001b[36m__main__\u001b[0m:\u001b[36m<module>\u001b[0m:\u001b[36m27\u001b[0m - \u001b[1mlen(uu)=5047\u001b[0m\n",
      "\u001b[32m2025-03-27 01:30:27.236\u001b[0m | \u001b[1mINFO    \u001b[0m | \u001b[36m__main__\u001b[0m:\u001b[36m<module>\u001b[0m:\u001b[36m31\u001b[0m - \u001b[1mAfter removing uu: len(sample_df)=3893589\u001b[0m\n",
      "\u001b[32m2025-03-27 01:30:28.552\u001b[0m | \u001b[1mINFO    \u001b[0m | \u001b[36m__main__\u001b[0m:\u001b[36m<module>\u001b[0m:\u001b[36m36\u001b[0m - \u001b[1mlen(ui)=390\u001b[0m\n",
      "\u001b[32m2025-03-27 01:30:29.034\u001b[0m | \u001b[1mINFO    \u001b[0m | \u001b[36m__main__\u001b[0m:\u001b[36m<module>\u001b[0m:\u001b[36m40\u001b[0m - \u001b[1mAfter removing ui: len(sample_df)=3890085\u001b[0m\n",
      "\u001b[32m2025-03-27 01:30:29.389\u001b[0m | \u001b[1mINFO    \u001b[0m | \u001b[36m__main__\u001b[0m:\u001b[36m<module>\u001b[0m:\u001b[36m23\u001b[0m - \u001b[1mSampling round 3 started\u001b[0m\n",
      "\u001b[32m2025-03-27 01:30:30.276\u001b[0m | \u001b[1mINFO    \u001b[0m | \u001b[36m__main__\u001b[0m:\u001b[36m<module>\u001b[0m:\u001b[36m27\u001b[0m - \u001b[1mlen(uu)=597\u001b[0m\n",
      "\u001b[32m2025-03-27 01:30:30.535\u001b[0m | \u001b[1mINFO    \u001b[0m | \u001b[36m__main__\u001b[0m:\u001b[36m<module>\u001b[0m:\u001b[36m31\u001b[0m - \u001b[1mAfter removing uu: len(sample_df)=3887701\u001b[0m\n",
      "\u001b[32m2025-03-27 01:30:31.756\u001b[0m | \u001b[1mINFO    \u001b[0m | \u001b[36m__main__\u001b[0m:\u001b[36m<module>\u001b[0m:\u001b[36m36\u001b[0m - \u001b[1mlen(ui)=38\u001b[0m\n",
      "\u001b[32m2025-03-27 01:30:32.116\u001b[0m | \u001b[1mINFO    \u001b[0m | \u001b[36m__main__\u001b[0m:\u001b[36m<module>\u001b[0m:\u001b[36m40\u001b[0m - \u001b[1mAfter removing ui: len(sample_df)=3887359\u001b[0m\n",
      "\u001b[32m2025-03-27 01:30:32.533\u001b[0m | \u001b[1mINFO    \u001b[0m | \u001b[36m__main__\u001b[0m:\u001b[36m<module>\u001b[0m:\u001b[36m23\u001b[0m - \u001b[1mSampling round 4 started\u001b[0m\n",
      "\u001b[32m2025-03-27 01:30:33.336\u001b[0m | \u001b[1mINFO    \u001b[0m | \u001b[36m__main__\u001b[0m:\u001b[36m<module>\u001b[0m:\u001b[36m27\u001b[0m - \u001b[1mlen(uu)=58\u001b[0m\n",
      "\u001b[32m2025-03-27 01:30:33.553\u001b[0m | \u001b[1mINFO    \u001b[0m | \u001b[36m__main__\u001b[0m:\u001b[36m<module>\u001b[0m:\u001b[36m31\u001b[0m - \u001b[1mAfter removing uu: len(sample_df)=3887127\u001b[0m\n",
      "\u001b[32m2025-03-27 01:30:34.710\u001b[0m | \u001b[1mINFO    \u001b[0m | \u001b[36m__main__\u001b[0m:\u001b[36m<module>\u001b[0m:\u001b[36m36\u001b[0m - \u001b[1mlen(ui)=5\u001b[0m\n",
      "\u001b[32m2025-03-27 01:30:35.033\u001b[0m | \u001b[1mINFO    \u001b[0m | \u001b[36m__main__\u001b[0m:\u001b[36m<module>\u001b[0m:\u001b[36m40\u001b[0m - \u001b[1mAfter removing ui: len(sample_df)=3887082\u001b[0m\n",
      "\u001b[32m2025-03-27 01:30:35.372\u001b[0m | \u001b[1mINFO    \u001b[0m | \u001b[36m__main__\u001b[0m:\u001b[36m<module>\u001b[0m:\u001b[36m23\u001b[0m - \u001b[1mSampling round 5 started\u001b[0m\n",
      "\u001b[32m2025-03-27 01:30:36.161\u001b[0m | \u001b[1mINFO    \u001b[0m | \u001b[36m__main__\u001b[0m:\u001b[36m<module>\u001b[0m:\u001b[36m27\u001b[0m - \u001b[1mlen(uu)=4\u001b[0m\n",
      "\u001b[32m2025-03-27 01:30:36.383\u001b[0m | \u001b[1mINFO    \u001b[0m | \u001b[36m__main__\u001b[0m:\u001b[36m<module>\u001b[0m:\u001b[36m31\u001b[0m - \u001b[1mAfter removing uu: len(sample_df)=3887066\u001b[0m\n",
      "\u001b[32m2025-03-27 01:30:37.539\u001b[0m | \u001b[1mINFO    \u001b[0m | \u001b[36m__main__\u001b[0m:\u001b[36m<module>\u001b[0m:\u001b[36m36\u001b[0m - \u001b[1mlen(ui)=0\u001b[0m\n",
      "\u001b[32m2025-03-27 01:30:37.540\u001b[0m | \u001b[1mINFO    \u001b[0m | \u001b[36m__main__\u001b[0m:\u001b[36m<module>\u001b[0m:\u001b[36m23\u001b[0m - \u001b[1mSampling round 6 started\u001b[0m\n",
      "\u001b[32m2025-03-27 01:30:38.330\u001b[0m | \u001b[1mINFO    \u001b[0m | \u001b[36m__main__\u001b[0m:\u001b[36m<module>\u001b[0m:\u001b[36m27\u001b[0m - \u001b[1mlen(uu)=0\u001b[0m\n",
      "\u001b[32m2025-03-27 01:30:38.703\u001b[0m | \u001b[1mINFO    \u001b[0m | \u001b[36m__main__\u001b[0m:\u001b[36m<module>\u001b[0m:\u001b[36m36\u001b[0m - \u001b[1mlen(ui)=0\u001b[0m\n",
      "\u001b[32m2025-03-27 01:30:39.201\u001b[0m | \u001b[1mINFO    \u001b[0m | \u001b[36m__main__\u001b[0m:\u001b[36m<module>\u001b[0m:\u001b[36m48\u001b[0m - \u001b[1mAfter randomly removing users - round 14: num_users=434244\u001b[0m\n",
      "\u001b[32m2025-03-27 01:30:39.201\u001b[0m | \u001b[1mINFO    \u001b[0m | \u001b[36m__main__\u001b[0m:\u001b[36m<module>\u001b[0m:\u001b[36m54\u001b[0m - \u001b[1mNumber of users 434244 are still greater than expected, keep removing...\u001b[0m\n"
     ]
    },
    {
     "name": "stdout",
     "output_type": "stream",
     "text": [
      "\n",
      "\n",
      "Randomly removing 21712 users - Round 15 started\n"
     ]
    },
    {
     "name": "stderr",
     "output_type": "stream",
     "text": [
      "\u001b[32m2025-03-27 01:30:40.562\u001b[0m | \u001b[1mINFO    \u001b[0m | \u001b[36m__main__\u001b[0m:\u001b[36m<module>\u001b[0m:\u001b[36m23\u001b[0m - \u001b[1mSampling round 1 started\u001b[0m\n",
      "\u001b[32m2025-03-27 01:30:41.308\u001b[0m | \u001b[1mINFO    \u001b[0m | \u001b[36m__main__\u001b[0m:\u001b[36m<module>\u001b[0m:\u001b[36m27\u001b[0m - \u001b[1mlen(uu)=0\u001b[0m\n",
      "\u001b[32m2025-03-27 01:30:41.654\u001b[0m | \u001b[1mINFO    \u001b[0m | \u001b[36m__main__\u001b[0m:\u001b[36m<module>\u001b[0m:\u001b[36m36\u001b[0m - \u001b[1mlen(ui)=3521\u001b[0m\n",
      "\u001b[32m2025-03-27 01:30:41.918\u001b[0m | \u001b[1mINFO    \u001b[0m | \u001b[36m__main__\u001b[0m:\u001b[36m<module>\u001b[0m:\u001b[36m40\u001b[0m - \u001b[1mAfter removing ui: len(sample_df)=3659933\u001b[0m\n",
      "\u001b[32m2025-03-27 01:30:42.256\u001b[0m | \u001b[1mINFO    \u001b[0m | \u001b[36m__main__\u001b[0m:\u001b[36m<module>\u001b[0m:\u001b[36m23\u001b[0m - \u001b[1mSampling round 2 started\u001b[0m\n",
      "\u001b[32m2025-03-27 01:30:43.003\u001b[0m | \u001b[1mINFO    \u001b[0m | \u001b[36m__main__\u001b[0m:\u001b[36m<module>\u001b[0m:\u001b[36m27\u001b[0m - \u001b[1mlen(uu)=4830\u001b[0m\n",
      "\u001b[32m2025-03-27 01:30:43.247\u001b[0m | \u001b[1mINFO    \u001b[0m | \u001b[36m__main__\u001b[0m:\u001b[36m<module>\u001b[0m:\u001b[36m31\u001b[0m - \u001b[1mAfter removing uu: len(sample_df)=3640710\u001b[0m\n",
      "\u001b[32m2025-03-27 01:30:44.310\u001b[0m | \u001b[1mINFO    \u001b[0m | \u001b[36m__main__\u001b[0m:\u001b[36m<module>\u001b[0m:\u001b[36m36\u001b[0m - \u001b[1mlen(ui)=384\u001b[0m\n",
      "\u001b[32m2025-03-27 01:30:44.736\u001b[0m | \u001b[1mINFO    \u001b[0m | \u001b[36m__main__\u001b[0m:\u001b[36m<module>\u001b[0m:\u001b[36m40\u001b[0m - \u001b[1mAfter removing ui: len(sample_df)=3637265\u001b[0m\n",
      "\u001b[32m2025-03-27 01:30:45.059\u001b[0m | \u001b[1mINFO    \u001b[0m | \u001b[36m__main__\u001b[0m:\u001b[36m<module>\u001b[0m:\u001b[36m23\u001b[0m - \u001b[1mSampling round 3 started\u001b[0m\n",
      "\u001b[32m2025-03-27 01:30:45.786\u001b[0m | \u001b[1mINFO    \u001b[0m | \u001b[36m__main__\u001b[0m:\u001b[36m<module>\u001b[0m:\u001b[36m27\u001b[0m - \u001b[1mlen(uu)=579\u001b[0m\n",
      "\u001b[32m2025-03-27 01:30:46.009\u001b[0m | \u001b[1mINFO    \u001b[0m | \u001b[36m__main__\u001b[0m:\u001b[36m<module>\u001b[0m:\u001b[36m31\u001b[0m - \u001b[1mAfter removing uu: len(sample_df)=3634951\u001b[0m\n",
      "\u001b[32m2025-03-27 01:30:47.049\u001b[0m | \u001b[1mINFO    \u001b[0m | \u001b[36m__main__\u001b[0m:\u001b[36m<module>\u001b[0m:\u001b[36m36\u001b[0m - \u001b[1mlen(ui)=47\u001b[0m\n",
      "\u001b[32m2025-03-27 01:30:47.454\u001b[0m | \u001b[1mINFO    \u001b[0m | \u001b[36m__main__\u001b[0m:\u001b[36m<module>\u001b[0m:\u001b[36m40\u001b[0m - \u001b[1mAfter removing ui: len(sample_df)=3634528\u001b[0m\n",
      "\u001b[32m2025-03-27 01:30:47.796\u001b[0m | \u001b[1mINFO    \u001b[0m | \u001b[36m__main__\u001b[0m:\u001b[36m<module>\u001b[0m:\u001b[36m23\u001b[0m - \u001b[1mSampling round 4 started\u001b[0m\n",
      "\u001b[32m2025-03-27 01:30:48.537\u001b[0m | \u001b[1mINFO    \u001b[0m | \u001b[36m__main__\u001b[0m:\u001b[36m<module>\u001b[0m:\u001b[36m27\u001b[0m - \u001b[1mlen(uu)=72\u001b[0m\n",
      "\u001b[32m2025-03-27 01:30:48.761\u001b[0m | \u001b[1mINFO    \u001b[0m | \u001b[36m__main__\u001b[0m:\u001b[36m<module>\u001b[0m:\u001b[36m31\u001b[0m - \u001b[1mAfter removing uu: len(sample_df)=3634240\u001b[0m\n",
      "\u001b[32m2025-03-27 01:30:49.804\u001b[0m | \u001b[1mINFO    \u001b[0m | \u001b[36m__main__\u001b[0m:\u001b[36m<module>\u001b[0m:\u001b[36m36\u001b[0m - \u001b[1mlen(ui)=8\u001b[0m\n",
      "\u001b[32m2025-03-27 01:30:50.066\u001b[0m | \u001b[1mINFO    \u001b[0m | \u001b[36m__main__\u001b[0m:\u001b[36m<module>\u001b[0m:\u001b[36m40\u001b[0m - \u001b[1mAfter removing ui: len(sample_df)=3634168\u001b[0m\n",
      "\u001b[32m2025-03-27 01:30:50.379\u001b[0m | \u001b[1mINFO    \u001b[0m | \u001b[36m__main__\u001b[0m:\u001b[36m<module>\u001b[0m:\u001b[36m23\u001b[0m - \u001b[1mSampling round 5 started\u001b[0m\n",
      "\u001b[32m2025-03-27 01:30:51.098\u001b[0m | \u001b[1mINFO    \u001b[0m | \u001b[36m__main__\u001b[0m:\u001b[36m<module>\u001b[0m:\u001b[36m27\u001b[0m - \u001b[1mlen(uu)=12\u001b[0m\n",
      "\u001b[32m2025-03-27 01:30:51.364\u001b[0m | \u001b[1mINFO    \u001b[0m | \u001b[36m__main__\u001b[0m:\u001b[36m<module>\u001b[0m:\u001b[36m31\u001b[0m - \u001b[1mAfter removing uu: len(sample_df)=3634120\u001b[0m\n",
      "\u001b[32m2025-03-27 01:30:52.383\u001b[0m | \u001b[1mINFO    \u001b[0m | \u001b[36m__main__\u001b[0m:\u001b[36m<module>\u001b[0m:\u001b[36m36\u001b[0m - \u001b[1mlen(ui)=1\u001b[0m\n",
      "\u001b[32m2025-03-27 01:30:52.578\u001b[0m | \u001b[1mINFO    \u001b[0m | \u001b[36m__main__\u001b[0m:\u001b[36m<module>\u001b[0m:\u001b[36m40\u001b[0m - \u001b[1mAfter removing ui: len(sample_df)=3634111\u001b[0m\n",
      "\u001b[32m2025-03-27 01:30:52.918\u001b[0m | \u001b[1mINFO    \u001b[0m | \u001b[36m__main__\u001b[0m:\u001b[36m<module>\u001b[0m:\u001b[36m23\u001b[0m - \u001b[1mSampling round 6 started\u001b[0m\n",
      "\u001b[32m2025-03-27 01:30:53.659\u001b[0m | \u001b[1mINFO    \u001b[0m | \u001b[36m__main__\u001b[0m:\u001b[36m<module>\u001b[0m:\u001b[36m27\u001b[0m - \u001b[1mlen(uu)=0\u001b[0m\n",
      "\u001b[32m2025-03-27 01:30:53.989\u001b[0m | \u001b[1mINFO    \u001b[0m | \u001b[36m__main__\u001b[0m:\u001b[36m<module>\u001b[0m:\u001b[36m36\u001b[0m - \u001b[1mlen(ui)=0\u001b[0m\n",
      "\u001b[32m2025-03-27 01:30:54.429\u001b[0m | \u001b[1mINFO    \u001b[0m | \u001b[36m__main__\u001b[0m:\u001b[36m<module>\u001b[0m:\u001b[36m48\u001b[0m - \u001b[1mAfter randomly removing users - round 15: num_users=407039\u001b[0m\n",
      "\u001b[32m2025-03-27 01:30:54.430\u001b[0m | \u001b[1mINFO    \u001b[0m | \u001b[36m__main__\u001b[0m:\u001b[36m<module>\u001b[0m:\u001b[36m54\u001b[0m - \u001b[1mNumber of users 407039 are still greater than expected, keep removing...\u001b[0m\n"
     ]
    },
    {
     "name": "stdout",
     "output_type": "stream",
     "text": [
      "\n",
      "\n",
      "Randomly removing 20351 users - Round 16 started\n"
     ]
    },
    {
     "name": "stderr",
     "output_type": "stream",
     "text": [
      "\u001b[32m2025-03-27 01:30:55.695\u001b[0m | \u001b[1mINFO    \u001b[0m | \u001b[36m__main__\u001b[0m:\u001b[36m<module>\u001b[0m:\u001b[36m23\u001b[0m - \u001b[1mSampling round 1 started\u001b[0m\n",
      "\u001b[32m2025-03-27 01:30:56.407\u001b[0m | \u001b[1mINFO    \u001b[0m | \u001b[36m__main__\u001b[0m:\u001b[36m<module>\u001b[0m:\u001b[36m27\u001b[0m - \u001b[1mlen(uu)=0\u001b[0m\n",
      "\u001b[32m2025-03-27 01:30:56.727\u001b[0m | \u001b[1mINFO    \u001b[0m | \u001b[36m__main__\u001b[0m:\u001b[36m<module>\u001b[0m:\u001b[36m36\u001b[0m - \u001b[1mlen(ui)=3287\u001b[0m\n",
      "\u001b[32m2025-03-27 01:30:56.960\u001b[0m | \u001b[1mINFO    \u001b[0m | \u001b[36m__main__\u001b[0m:\u001b[36m<module>\u001b[0m:\u001b[36m40\u001b[0m - \u001b[1mAfter removing ui: len(sample_df)=3423192\u001b[0m\n",
      "\u001b[32m2025-03-27 01:30:57.256\u001b[0m | \u001b[1mINFO    \u001b[0m | \u001b[36m__main__\u001b[0m:\u001b[36m<module>\u001b[0m:\u001b[36m23\u001b[0m - \u001b[1mSampling round 2 started\u001b[0m\n",
      "\u001b[32m2025-03-27 01:30:57.972\u001b[0m | \u001b[1mINFO    \u001b[0m | \u001b[36m__main__\u001b[0m:\u001b[36m<module>\u001b[0m:\u001b[36m27\u001b[0m - \u001b[1mlen(uu)=4576\u001b[0m\n",
      "\u001b[32m2025-03-27 01:30:58.194\u001b[0m | \u001b[1mINFO    \u001b[0m | \u001b[36m__main__\u001b[0m:\u001b[36m<module>\u001b[0m:\u001b[36m31\u001b[0m - \u001b[1mAfter removing uu: len(sample_df)=3404974\u001b[0m\n",
      "\u001b[32m2025-03-27 01:30:59.201\u001b[0m | \u001b[1mINFO    \u001b[0m | \u001b[36m__main__\u001b[0m:\u001b[36m<module>\u001b[0m:\u001b[36m36\u001b[0m - \u001b[1mlen(ui)=356\u001b[0m\n",
      "\u001b[32m2025-03-27 01:30:59.530\u001b[0m | \u001b[1mINFO    \u001b[0m | \u001b[36m__main__\u001b[0m:\u001b[36m<module>\u001b[0m:\u001b[36m40\u001b[0m - \u001b[1mAfter removing ui: len(sample_df)=3401782\u001b[0m\n",
      "\u001b[32m2025-03-27 01:30:59.824\u001b[0m | \u001b[1mINFO    \u001b[0m | \u001b[36m__main__\u001b[0m:\u001b[36m<module>\u001b[0m:\u001b[36m23\u001b[0m - \u001b[1mSampling round 3 started\u001b[0m\n",
      "\u001b[32m2025-03-27 01:31:00.537\u001b[0m | \u001b[1mINFO    \u001b[0m | \u001b[36m__main__\u001b[0m:\u001b[36m<module>\u001b[0m:\u001b[36m27\u001b[0m - \u001b[1mlen(uu)=582\u001b[0m\n",
      "\u001b[32m2025-03-27 01:31:00.750\u001b[0m | \u001b[1mINFO    \u001b[0m | \u001b[36m__main__\u001b[0m:\u001b[36m<module>\u001b[0m:\u001b[36m31\u001b[0m - \u001b[1mAfter removing uu: len(sample_df)=3399455\u001b[0m\n",
      "\u001b[32m2025-03-27 01:31:01.741\u001b[0m | \u001b[1mINFO    \u001b[0m | \u001b[36m__main__\u001b[0m:\u001b[36m<module>\u001b[0m:\u001b[36m36\u001b[0m - \u001b[1mlen(ui)=43\u001b[0m\n",
      "\u001b[32m2025-03-27 01:31:02.042\u001b[0m | \u001b[1mINFO    \u001b[0m | \u001b[36m__main__\u001b[0m:\u001b[36m<module>\u001b[0m:\u001b[36m40\u001b[0m - \u001b[1mAfter removing ui: len(sample_df)=3399068\u001b[0m\n",
      "\u001b[32m2025-03-27 01:31:02.346\u001b[0m | \u001b[1mINFO    \u001b[0m | \u001b[36m__main__\u001b[0m:\u001b[36m<module>\u001b[0m:\u001b[36m23\u001b[0m - \u001b[1mSampling round 4 started\u001b[0m\n",
      "\u001b[32m2025-03-27 01:31:03.056\u001b[0m | \u001b[1mINFO    \u001b[0m | \u001b[36m__main__\u001b[0m:\u001b[36m<module>\u001b[0m:\u001b[36m27\u001b[0m - \u001b[1mlen(uu)=76\u001b[0m\n",
      "\u001b[32m2025-03-27 01:31:03.289\u001b[0m | \u001b[1mINFO    \u001b[0m | \u001b[36m__main__\u001b[0m:\u001b[36m<module>\u001b[0m:\u001b[36m31\u001b[0m - \u001b[1mAfter removing uu: len(sample_df)=3398764\u001b[0m\n",
      "\u001b[32m2025-03-27 01:31:04.295\u001b[0m | \u001b[1mINFO    \u001b[0m | \u001b[36m__main__\u001b[0m:\u001b[36m<module>\u001b[0m:\u001b[36m36\u001b[0m - \u001b[1mlen(ui)=5\u001b[0m\n",
      "\u001b[32m2025-03-27 01:31:04.571\u001b[0m | \u001b[1mINFO    \u001b[0m | \u001b[36m__main__\u001b[0m:\u001b[36m<module>\u001b[0m:\u001b[36m40\u001b[0m - \u001b[1mAfter removing ui: len(sample_df)=3398719\u001b[0m\n",
      "\u001b[32m2025-03-27 01:31:04.879\u001b[0m | \u001b[1mINFO    \u001b[0m | \u001b[36m__main__\u001b[0m:\u001b[36m<module>\u001b[0m:\u001b[36m23\u001b[0m - \u001b[1mSampling round 5 started\u001b[0m\n",
      "\u001b[32m2025-03-27 01:31:05.571\u001b[0m | \u001b[1mINFO    \u001b[0m | \u001b[36m__main__\u001b[0m:\u001b[36m<module>\u001b[0m:\u001b[36m27\u001b[0m - \u001b[1mlen(uu)=11\u001b[0m\n",
      "\u001b[32m2025-03-27 01:31:05.786\u001b[0m | \u001b[1mINFO    \u001b[0m | \u001b[36m__main__\u001b[0m:\u001b[36m<module>\u001b[0m:\u001b[36m31\u001b[0m - \u001b[1mAfter removing uu: len(sample_df)=3398675\u001b[0m\n",
      "\u001b[32m2025-03-27 01:31:06.786\u001b[0m | \u001b[1mINFO    \u001b[0m | \u001b[36m__main__\u001b[0m:\u001b[36m<module>\u001b[0m:\u001b[36m36\u001b[0m - \u001b[1mlen(ui)=2\u001b[0m\n",
      "\u001b[32m2025-03-27 01:31:07.010\u001b[0m | \u001b[1mINFO    \u001b[0m | \u001b[36m__main__\u001b[0m:\u001b[36m<module>\u001b[0m:\u001b[36m40\u001b[0m - \u001b[1mAfter removing ui: len(sample_df)=3398657\u001b[0m\n",
      "\u001b[32m2025-03-27 01:31:07.314\u001b[0m | \u001b[1mINFO    \u001b[0m | \u001b[36m__main__\u001b[0m:\u001b[36m<module>\u001b[0m:\u001b[36m23\u001b[0m - \u001b[1mSampling round 6 started\u001b[0m\n",
      "\u001b[32m2025-03-27 01:31:08.019\u001b[0m | \u001b[1mINFO    \u001b[0m | \u001b[36m__main__\u001b[0m:\u001b[36m<module>\u001b[0m:\u001b[36m27\u001b[0m - \u001b[1mlen(uu)=7\u001b[0m\n",
      "\u001b[32m2025-03-27 01:31:08.212\u001b[0m | \u001b[1mINFO    \u001b[0m | \u001b[36m__main__\u001b[0m:\u001b[36m<module>\u001b[0m:\u001b[36m31\u001b[0m - \u001b[1mAfter removing uu: len(sample_df)=3398629\u001b[0m\n",
      "\u001b[32m2025-03-27 01:31:09.207\u001b[0m | \u001b[1mINFO    \u001b[0m | \u001b[36m__main__\u001b[0m:\u001b[36m<module>\u001b[0m:\u001b[36m36\u001b[0m - \u001b[1mlen(ui)=1\u001b[0m\n",
      "\u001b[32m2025-03-27 01:31:09.387\u001b[0m | \u001b[1mINFO    \u001b[0m | \u001b[36m__main__\u001b[0m:\u001b[36m<module>\u001b[0m:\u001b[36m40\u001b[0m - \u001b[1mAfter removing ui: len(sample_df)=3398620\u001b[0m\n",
      "\u001b[32m2025-03-27 01:31:09.732\u001b[0m | \u001b[1mINFO    \u001b[0m | \u001b[36m__main__\u001b[0m:\u001b[36m<module>\u001b[0m:\u001b[36m23\u001b[0m - \u001b[1mSampling round 7 started\u001b[0m\n",
      "\u001b[32m2025-03-27 01:31:10.436\u001b[0m | \u001b[1mINFO    \u001b[0m | \u001b[36m__main__\u001b[0m:\u001b[36m<module>\u001b[0m:\u001b[36m27\u001b[0m - \u001b[1mlen(uu)=1\u001b[0m\n",
      "\u001b[32m2025-03-27 01:31:10.608\u001b[0m | \u001b[1mINFO    \u001b[0m | \u001b[36m__main__\u001b[0m:\u001b[36m<module>\u001b[0m:\u001b[36m31\u001b[0m - \u001b[1mAfter removing uu: len(sample_df)=3398616\u001b[0m\n",
      "\u001b[32m2025-03-27 01:31:11.611\u001b[0m | \u001b[1mINFO    \u001b[0m | \u001b[36m__main__\u001b[0m:\u001b[36m<module>\u001b[0m:\u001b[36m36\u001b[0m - \u001b[1mlen(ui)=0\u001b[0m\n",
      "\u001b[32m2025-03-27 01:31:11.612\u001b[0m | \u001b[1mINFO    \u001b[0m | \u001b[36m__main__\u001b[0m:\u001b[36m<module>\u001b[0m:\u001b[36m23\u001b[0m - \u001b[1mSampling round 8 started\u001b[0m\n",
      "\u001b[32m2025-03-27 01:31:12.332\u001b[0m | \u001b[1mINFO    \u001b[0m | \u001b[36m__main__\u001b[0m:\u001b[36m<module>\u001b[0m:\u001b[36m27\u001b[0m - \u001b[1mlen(uu)=0\u001b[0m\n",
      "\u001b[32m2025-03-27 01:31:12.631\u001b[0m | \u001b[1mINFO    \u001b[0m | \u001b[36m__main__\u001b[0m:\u001b[36m<module>\u001b[0m:\u001b[36m36\u001b[0m - \u001b[1mlen(ui)=0\u001b[0m\n",
      "\u001b[32m2025-03-27 01:31:13.049\u001b[0m | \u001b[1mINFO    \u001b[0m | \u001b[36m__main__\u001b[0m:\u001b[36m<module>\u001b[0m:\u001b[36m48\u001b[0m - \u001b[1mAfter randomly removing users - round 16: num_users=381435\u001b[0m\n",
      "\u001b[32m2025-03-27 01:31:13.049\u001b[0m | \u001b[1mINFO    \u001b[0m | \u001b[36m__main__\u001b[0m:\u001b[36m<module>\u001b[0m:\u001b[36m54\u001b[0m - \u001b[1mNumber of users 381435 are still greater than expected, keep removing...\u001b[0m\n"
     ]
    },
    {
     "name": "stdout",
     "output_type": "stream",
     "text": [
      "\n",
      "\n",
      "Randomly removing 19071 users - Round 17 started\n"
     ]
    },
    {
     "name": "stderr",
     "output_type": "stream",
     "text": [
      "\u001b[32m2025-03-27 01:31:14.354\u001b[0m | \u001b[1mINFO    \u001b[0m | \u001b[36m__main__\u001b[0m:\u001b[36m<module>\u001b[0m:\u001b[36m23\u001b[0m - \u001b[1mSampling round 1 started\u001b[0m\n",
      "\u001b[32m2025-03-27 01:31:15.011\u001b[0m | \u001b[1mINFO    \u001b[0m | \u001b[36m__main__\u001b[0m:\u001b[36m<module>\u001b[0m:\u001b[36m27\u001b[0m - \u001b[1mlen(uu)=0\u001b[0m\n",
      "\u001b[32m2025-03-27 01:31:15.299\u001b[0m | \u001b[1mINFO    \u001b[0m | \u001b[36m__main__\u001b[0m:\u001b[36m<module>\u001b[0m:\u001b[36m36\u001b[0m - \u001b[1mlen(ui)=3070\u001b[0m\n",
      "\u001b[32m2025-03-27 01:31:15.657\u001b[0m | \u001b[1mINFO    \u001b[0m | \u001b[36m__main__\u001b[0m:\u001b[36m<module>\u001b[0m:\u001b[36m40\u001b[0m - \u001b[1mAfter removing ui: len(sample_df)=3201611\u001b[0m\n",
      "\u001b[32m2025-03-27 01:31:15.927\u001b[0m | \u001b[1mINFO    \u001b[0m | \u001b[36m__main__\u001b[0m:\u001b[36m<module>\u001b[0m:\u001b[36m23\u001b[0m - \u001b[1mSampling round 2 started\u001b[0m\n",
      "\u001b[32m2025-03-27 01:31:16.576\u001b[0m | \u001b[1mINFO    \u001b[0m | \u001b[36m__main__\u001b[0m:\u001b[36m<module>\u001b[0m:\u001b[36m27\u001b[0m - \u001b[1mlen(uu)=4365\u001b[0m\n",
      "\u001b[32m2025-03-27 01:31:16.772\u001b[0m | \u001b[1mINFO    \u001b[0m | \u001b[36m__main__\u001b[0m:\u001b[36m<module>\u001b[0m:\u001b[36m31\u001b[0m - \u001b[1mAfter removing uu: len(sample_df)=3184227\u001b[0m\n",
      "\u001b[32m2025-03-27 01:31:17.694\u001b[0m | \u001b[1mINFO    \u001b[0m | \u001b[36m__main__\u001b[0m:\u001b[36m<module>\u001b[0m:\u001b[36m36\u001b[0m - \u001b[1mlen(ui)=368\u001b[0m\n",
      "\u001b[32m2025-03-27 01:31:18.019\u001b[0m | \u001b[1mINFO    \u001b[0m | \u001b[36m__main__\u001b[0m:\u001b[36m<module>\u001b[0m:\u001b[36m40\u001b[0m - \u001b[1mAfter removing ui: len(sample_df)=3180935\u001b[0m\n",
      "\u001b[32m2025-03-27 01:31:18.354\u001b[0m | \u001b[1mINFO    \u001b[0m | \u001b[36m__main__\u001b[0m:\u001b[36m<module>\u001b[0m:\u001b[36m23\u001b[0m - \u001b[1mSampling round 3 started\u001b[0m\n",
      "\u001b[32m2025-03-27 01:31:19.007\u001b[0m | \u001b[1mINFO    \u001b[0m | \u001b[36m__main__\u001b[0m:\u001b[36m<module>\u001b[0m:\u001b[36m27\u001b[0m - \u001b[1mlen(uu)=597\u001b[0m\n",
      "\u001b[32m2025-03-27 01:31:19.211\u001b[0m | \u001b[1mINFO    \u001b[0m | \u001b[36m__main__\u001b[0m:\u001b[36m<module>\u001b[0m:\u001b[36m31\u001b[0m - \u001b[1mAfter removing uu: len(sample_df)=3178547\u001b[0m\n",
      "\u001b[32m2025-03-27 01:31:20.125\u001b[0m | \u001b[1mINFO    \u001b[0m | \u001b[36m__main__\u001b[0m:\u001b[36m<module>\u001b[0m:\u001b[36m36\u001b[0m - \u001b[1mlen(ui)=47\u001b[0m\n",
      "\u001b[32m2025-03-27 01:31:20.428\u001b[0m | \u001b[1mINFO    \u001b[0m | \u001b[36m__main__\u001b[0m:\u001b[36m<module>\u001b[0m:\u001b[36m40\u001b[0m - \u001b[1mAfter removing ui: len(sample_df)=3178124\u001b[0m\n",
      "\u001b[32m2025-03-27 01:31:20.709\u001b[0m | \u001b[1mINFO    \u001b[0m | \u001b[36m__main__\u001b[0m:\u001b[36m<module>\u001b[0m:\u001b[36m23\u001b[0m - \u001b[1mSampling round 4 started\u001b[0m\n",
      "\u001b[32m2025-03-27 01:31:21.361\u001b[0m | \u001b[1mINFO    \u001b[0m | \u001b[36m__main__\u001b[0m:\u001b[36m<module>\u001b[0m:\u001b[36m27\u001b[0m - \u001b[1mlen(uu)=70\u001b[0m\n",
      "\u001b[32m2025-03-27 01:31:21.551\u001b[0m | \u001b[1mINFO    \u001b[0m | \u001b[36m__main__\u001b[0m:\u001b[36m<module>\u001b[0m:\u001b[36m31\u001b[0m - \u001b[1mAfter removing uu: len(sample_df)=3177844\u001b[0m\n",
      "\u001b[32m2025-03-27 01:31:22.470\u001b[0m | \u001b[1mINFO    \u001b[0m | \u001b[36m__main__\u001b[0m:\u001b[36m<module>\u001b[0m:\u001b[36m36\u001b[0m - \u001b[1mlen(ui)=7\u001b[0m\n",
      "\u001b[32m2025-03-27 01:31:22.683\u001b[0m | \u001b[1mINFO    \u001b[0m | \u001b[36m__main__\u001b[0m:\u001b[36m<module>\u001b[0m:\u001b[36m40\u001b[0m - \u001b[1mAfter removing ui: len(sample_df)=3177781\u001b[0m\n",
      "\u001b[32m2025-03-27 01:31:22.955\u001b[0m | \u001b[1mINFO    \u001b[0m | \u001b[36m__main__\u001b[0m:\u001b[36m<module>\u001b[0m:\u001b[36m23\u001b[0m - \u001b[1mSampling round 5 started\u001b[0m\n",
      "\u001b[32m2025-03-27 01:31:23.606\u001b[0m | \u001b[1mINFO    \u001b[0m | \u001b[36m__main__\u001b[0m:\u001b[36m<module>\u001b[0m:\u001b[36m27\u001b[0m - \u001b[1mlen(uu)=10\u001b[0m\n",
      "\u001b[32m2025-03-27 01:31:23.809\u001b[0m | \u001b[1mINFO    \u001b[0m | \u001b[36m__main__\u001b[0m:\u001b[36m<module>\u001b[0m:\u001b[36m31\u001b[0m - \u001b[1mAfter removing uu: len(sample_df)=3177741\u001b[0m\n",
      "\u001b[32m2025-03-27 01:31:24.728\u001b[0m | \u001b[1mINFO    \u001b[0m | \u001b[36m__main__\u001b[0m:\u001b[36m<module>\u001b[0m:\u001b[36m36\u001b[0m - \u001b[1mlen(ui)=0\u001b[0m\n",
      "\u001b[32m2025-03-27 01:31:24.728\u001b[0m | \u001b[1mINFO    \u001b[0m | \u001b[36m__main__\u001b[0m:\u001b[36m<module>\u001b[0m:\u001b[36m23\u001b[0m - \u001b[1mSampling round 6 started\u001b[0m\n",
      "\u001b[32m2025-03-27 01:31:25.379\u001b[0m | \u001b[1mINFO    \u001b[0m | \u001b[36m__main__\u001b[0m:\u001b[36m<module>\u001b[0m:\u001b[36m27\u001b[0m - \u001b[1mlen(uu)=0\u001b[0m\n",
      "\u001b[32m2025-03-27 01:31:25.640\u001b[0m | \u001b[1mINFO    \u001b[0m | \u001b[36m__main__\u001b[0m:\u001b[36m<module>\u001b[0m:\u001b[36m36\u001b[0m - \u001b[1mlen(ui)=0\u001b[0m\n",
      "\u001b[32m2025-03-27 01:31:26.019\u001b[0m | \u001b[1mINFO    \u001b[0m | \u001b[36m__main__\u001b[0m:\u001b[36m<module>\u001b[0m:\u001b[36m48\u001b[0m - \u001b[1mAfter randomly removing users - round 17: num_users=357322\u001b[0m\n",
      "\u001b[32m2025-03-27 01:31:26.019\u001b[0m | \u001b[1mINFO    \u001b[0m | \u001b[36m__main__\u001b[0m:\u001b[36m<module>\u001b[0m:\u001b[36m54\u001b[0m - \u001b[1mNumber of users 357322 are still greater than expected, keep removing...\u001b[0m\n"
     ]
    },
    {
     "name": "stdout",
     "output_type": "stream",
     "text": [
      "\n",
      "\n",
      "Randomly removing 17866 users - Round 18 started\n"
     ]
    },
    {
     "name": "stderr",
     "output_type": "stream",
     "text": [
      "\u001b[32m2025-03-27 01:31:27.253\u001b[0m | \u001b[1mINFO    \u001b[0m | \u001b[36m__main__\u001b[0m:\u001b[36m<module>\u001b[0m:\u001b[36m23\u001b[0m - \u001b[1mSampling round 1 started\u001b[0m\n",
      "\u001b[32m2025-03-27 01:31:27.864\u001b[0m | \u001b[1mINFO    \u001b[0m | \u001b[36m__main__\u001b[0m:\u001b[36m<module>\u001b[0m:\u001b[36m27\u001b[0m - \u001b[1mlen(uu)=0\u001b[0m\n",
      "\u001b[32m2025-03-27 01:31:28.137\u001b[0m | \u001b[1mINFO    \u001b[0m | \u001b[36m__main__\u001b[0m:\u001b[36m<module>\u001b[0m:\u001b[36m36\u001b[0m - \u001b[1mlen(ui)=2986\u001b[0m\n",
      "\u001b[32m2025-03-27 01:31:28.468\u001b[0m | \u001b[1mINFO    \u001b[0m | \u001b[36m__main__\u001b[0m:\u001b[36m<module>\u001b[0m:\u001b[36m40\u001b[0m - \u001b[1mAfter removing ui: len(sample_df)=2992965\u001b[0m\n",
      "\u001b[32m2025-03-27 01:31:28.732\u001b[0m | \u001b[1mINFO    \u001b[0m | \u001b[36m__main__\u001b[0m:\u001b[36m<module>\u001b[0m:\u001b[36m23\u001b[0m - \u001b[1mSampling round 2 started\u001b[0m\n",
      "\u001b[32m2025-03-27 01:31:29.343\u001b[0m | \u001b[1mINFO    \u001b[0m | \u001b[36m__main__\u001b[0m:\u001b[36m<module>\u001b[0m:\u001b[36m27\u001b[0m - \u001b[1mlen(uu)=4251\u001b[0m\n",
      "\u001b[32m2025-03-27 01:31:29.542\u001b[0m | \u001b[1mINFO    \u001b[0m | \u001b[36m__main__\u001b[0m:\u001b[36m<module>\u001b[0m:\u001b[36m31\u001b[0m - \u001b[1mAfter removing uu: len(sample_df)=2976045\u001b[0m\n",
      "\u001b[32m2025-03-27 01:31:30.393\u001b[0m | \u001b[1mINFO    \u001b[0m | \u001b[36m__main__\u001b[0m:\u001b[36m<module>\u001b[0m:\u001b[36m36\u001b[0m - \u001b[1mlen(ui)=343\u001b[0m\n",
      "\u001b[32m2025-03-27 01:31:30.669\u001b[0m | \u001b[1mINFO    \u001b[0m | \u001b[36m__main__\u001b[0m:\u001b[36m<module>\u001b[0m:\u001b[36m40\u001b[0m - \u001b[1mAfter removing ui: len(sample_df)=2972977\u001b[0m\n",
      "\u001b[32m2025-03-27 01:31:30.933\u001b[0m | \u001b[1mINFO    \u001b[0m | \u001b[36m__main__\u001b[0m:\u001b[36m<module>\u001b[0m:\u001b[36m23\u001b[0m - \u001b[1mSampling round 3 started\u001b[0m\n",
      "\u001b[32m2025-03-27 01:31:31.538\u001b[0m | \u001b[1mINFO    \u001b[0m | \u001b[36m__main__\u001b[0m:\u001b[36m<module>\u001b[0m:\u001b[36m27\u001b[0m - \u001b[1mlen(uu)=509\u001b[0m\n",
      "\u001b[32m2025-03-27 01:31:31.720\u001b[0m | \u001b[1mINFO    \u001b[0m | \u001b[36m__main__\u001b[0m:\u001b[36m<module>\u001b[0m:\u001b[36m31\u001b[0m - \u001b[1mAfter removing uu: len(sample_df)=2970944\u001b[0m\n",
      "\u001b[32m2025-03-27 01:31:32.576\u001b[0m | \u001b[1mINFO    \u001b[0m | \u001b[36m__main__\u001b[0m:\u001b[36m<module>\u001b[0m:\u001b[36m36\u001b[0m - \u001b[1mlen(ui)=36\u001b[0m\n",
      "\u001b[32m2025-03-27 01:31:32.809\u001b[0m | \u001b[1mINFO    \u001b[0m | \u001b[36m__main__\u001b[0m:\u001b[36m<module>\u001b[0m:\u001b[36m40\u001b[0m - \u001b[1mAfter removing ui: len(sample_df)=2970621\u001b[0m\n",
      "\u001b[32m2025-03-27 01:31:33.077\u001b[0m | \u001b[1mINFO    \u001b[0m | \u001b[36m__main__\u001b[0m:\u001b[36m<module>\u001b[0m:\u001b[36m23\u001b[0m - \u001b[1mSampling round 4 started\u001b[0m\n",
      "\u001b[32m2025-03-27 01:31:33.669\u001b[0m | \u001b[1mINFO    \u001b[0m | \u001b[36m__main__\u001b[0m:\u001b[36m<module>\u001b[0m:\u001b[36m27\u001b[0m - \u001b[1mlen(uu)=54\u001b[0m\n",
      "\u001b[32m2025-03-27 01:31:33.871\u001b[0m | \u001b[1mINFO    \u001b[0m | \u001b[36m__main__\u001b[0m:\u001b[36m<module>\u001b[0m:\u001b[36m31\u001b[0m - \u001b[1mAfter removing uu: len(sample_df)=2970405\u001b[0m\n",
      "\u001b[32m2025-03-27 01:31:34.726\u001b[0m | \u001b[1mINFO    \u001b[0m | \u001b[36m__main__\u001b[0m:\u001b[36m<module>\u001b[0m:\u001b[36m36\u001b[0m - \u001b[1mlen(ui)=6\u001b[0m\n",
      "\u001b[32m2025-03-27 01:31:34.985\u001b[0m | \u001b[1mINFO    \u001b[0m | \u001b[36m__main__\u001b[0m:\u001b[36m<module>\u001b[0m:\u001b[36m40\u001b[0m - \u001b[1mAfter removing ui: len(sample_df)=2970351\u001b[0m\n",
      "\u001b[32m2025-03-27 01:31:35.268\u001b[0m | \u001b[1mINFO    \u001b[0m | \u001b[36m__main__\u001b[0m:\u001b[36m<module>\u001b[0m:\u001b[36m23\u001b[0m - \u001b[1mSampling round 5 started\u001b[0m\n",
      "\u001b[32m2025-03-27 01:31:35.852\u001b[0m | \u001b[1mINFO    \u001b[0m | \u001b[36m__main__\u001b[0m:\u001b[36m<module>\u001b[0m:\u001b[36m27\u001b[0m - \u001b[1mlen(uu)=18\u001b[0m\n",
      "\u001b[32m2025-03-27 01:31:36.040\u001b[0m | \u001b[1mINFO    \u001b[0m | \u001b[36m__main__\u001b[0m:\u001b[36m<module>\u001b[0m:\u001b[36m31\u001b[0m - \u001b[1mAfter removing uu: len(sample_df)=2970279\u001b[0m\n",
      "\u001b[32m2025-03-27 01:31:36.894\u001b[0m | \u001b[1mINFO    \u001b[0m | \u001b[36m__main__\u001b[0m:\u001b[36m<module>\u001b[0m:\u001b[36m36\u001b[0m - \u001b[1mlen(ui)=1\u001b[0m\n",
      "\u001b[32m2025-03-27 01:31:37.046\u001b[0m | \u001b[1mINFO    \u001b[0m | \u001b[36m__main__\u001b[0m:\u001b[36m<module>\u001b[0m:\u001b[36m40\u001b[0m - \u001b[1mAfter removing ui: len(sample_df)=2970270\u001b[0m\n",
      "\u001b[32m2025-03-27 01:31:37.328\u001b[0m | \u001b[1mINFO    \u001b[0m | \u001b[36m__main__\u001b[0m:\u001b[36m<module>\u001b[0m:\u001b[36m23\u001b[0m - \u001b[1mSampling round 6 started\u001b[0m\n",
      "\u001b[32m2025-03-27 01:31:37.927\u001b[0m | \u001b[1mINFO    \u001b[0m | \u001b[36m__main__\u001b[0m:\u001b[36m<module>\u001b[0m:\u001b[36m27\u001b[0m - \u001b[1mlen(uu)=3\u001b[0m\n",
      "\u001b[32m2025-03-27 01:31:38.122\u001b[0m | \u001b[1mINFO    \u001b[0m | \u001b[36m__main__\u001b[0m:\u001b[36m<module>\u001b[0m:\u001b[36m31\u001b[0m - \u001b[1mAfter removing uu: len(sample_df)=2970258\u001b[0m\n",
      "\u001b[32m2025-03-27 01:31:38.980\u001b[0m | \u001b[1mINFO    \u001b[0m | \u001b[36m__main__\u001b[0m:\u001b[36m<module>\u001b[0m:\u001b[36m36\u001b[0m - \u001b[1mlen(ui)=1\u001b[0m\n",
      "\u001b[32m2025-03-27 01:31:39.141\u001b[0m | \u001b[1mINFO    \u001b[0m | \u001b[36m__main__\u001b[0m:\u001b[36m<module>\u001b[0m:\u001b[36m40\u001b[0m - \u001b[1mAfter removing ui: len(sample_df)=2970249\u001b[0m\n",
      "\u001b[32m2025-03-27 01:31:39.418\u001b[0m | \u001b[1mINFO    \u001b[0m | \u001b[36m__main__\u001b[0m:\u001b[36m<module>\u001b[0m:\u001b[36m23\u001b[0m - \u001b[1mSampling round 7 started\u001b[0m\n",
      "\u001b[32m2025-03-27 01:31:40.019\u001b[0m | \u001b[1mINFO    \u001b[0m | \u001b[36m__main__\u001b[0m:\u001b[36m<module>\u001b[0m:\u001b[36m27\u001b[0m - \u001b[1mlen(uu)=2\u001b[0m\n",
      "\u001b[32m2025-03-27 01:31:40.191\u001b[0m | \u001b[1mINFO    \u001b[0m | \u001b[36m__main__\u001b[0m:\u001b[36m<module>\u001b[0m:\u001b[36m31\u001b[0m - \u001b[1mAfter removing uu: len(sample_df)=2970241\u001b[0m\n",
      "\u001b[32m2025-03-27 01:31:41.047\u001b[0m | \u001b[1mINFO    \u001b[0m | \u001b[36m__main__\u001b[0m:\u001b[36m<module>\u001b[0m:\u001b[36m36\u001b[0m - \u001b[1mlen(ui)=0\u001b[0m\n",
      "\u001b[32m2025-03-27 01:31:41.048\u001b[0m | \u001b[1mINFO    \u001b[0m | \u001b[36m__main__\u001b[0m:\u001b[36m<module>\u001b[0m:\u001b[36m23\u001b[0m - \u001b[1mSampling round 8 started\u001b[0m\n",
      "\u001b[32m2025-03-27 01:31:41.645\u001b[0m | \u001b[1mINFO    \u001b[0m | \u001b[36m__main__\u001b[0m:\u001b[36m<module>\u001b[0m:\u001b[36m27\u001b[0m - \u001b[1mlen(uu)=0\u001b[0m\n",
      "\u001b[32m2025-03-27 01:31:41.898\u001b[0m | \u001b[1mINFO    \u001b[0m | \u001b[36m__main__\u001b[0m:\u001b[36m<module>\u001b[0m:\u001b[36m36\u001b[0m - \u001b[1mlen(ui)=0\u001b[0m\n",
      "\u001b[32m2025-03-27 01:31:42.271\u001b[0m | \u001b[1mINFO    \u001b[0m | \u001b[36m__main__\u001b[0m:\u001b[36m<module>\u001b[0m:\u001b[36m48\u001b[0m - \u001b[1mAfter randomly removing users - round 18: num_users=334619\u001b[0m\n",
      "\u001b[32m2025-03-27 01:31:42.271\u001b[0m | \u001b[1mINFO    \u001b[0m | \u001b[36m__main__\u001b[0m:\u001b[36m<module>\u001b[0m:\u001b[36m54\u001b[0m - \u001b[1mNumber of users 334619 are still greater than expected, keep removing...\u001b[0m\n"
     ]
    },
    {
     "name": "stdout",
     "output_type": "stream",
     "text": [
      "\n",
      "\n",
      "Randomly removing 16730 users - Round 19 started\n"
     ]
    },
    {
     "name": "stderr",
     "output_type": "stream",
     "text": [
      "\u001b[32m2025-03-27 01:31:43.369\u001b[0m | \u001b[1mINFO    \u001b[0m | \u001b[36m__main__\u001b[0m:\u001b[36m<module>\u001b[0m:\u001b[36m23\u001b[0m - \u001b[1mSampling round 1 started\u001b[0m\n",
      "\u001b[32m2025-03-27 01:31:43.939\u001b[0m | \u001b[1mINFO    \u001b[0m | \u001b[36m__main__\u001b[0m:\u001b[36m<module>\u001b[0m:\u001b[36m27\u001b[0m - \u001b[1mlen(uu)=0\u001b[0m\n",
      "\u001b[32m2025-03-27 01:31:44.174\u001b[0m | \u001b[1mINFO    \u001b[0m | \u001b[36m__main__\u001b[0m:\u001b[36m<module>\u001b[0m:\u001b[36m36\u001b[0m - \u001b[1mlen(ui)=2823\u001b[0m\n",
      "\u001b[32m2025-03-27 01:31:44.459\u001b[0m | \u001b[1mINFO    \u001b[0m | \u001b[36m__main__\u001b[0m:\u001b[36m<module>\u001b[0m:\u001b[36m40\u001b[0m - \u001b[1mAfter removing ui: len(sample_df)=2796753\u001b[0m\n",
      "\u001b[32m2025-03-27 01:31:44.708\u001b[0m | \u001b[1mINFO    \u001b[0m | \u001b[36m__main__\u001b[0m:\u001b[36m<module>\u001b[0m:\u001b[36m23\u001b[0m - \u001b[1mSampling round 2 started\u001b[0m\n",
      "\u001b[32m2025-03-27 01:31:45.268\u001b[0m | \u001b[1mINFO    \u001b[0m | \u001b[36m__main__\u001b[0m:\u001b[36m<module>\u001b[0m:\u001b[36m27\u001b[0m - \u001b[1mlen(uu)=4119\u001b[0m\n",
      "\u001b[32m2025-03-27 01:31:45.445\u001b[0m | \u001b[1mINFO    \u001b[0m | \u001b[36m__main__\u001b[0m:\u001b[36m<module>\u001b[0m:\u001b[36m31\u001b[0m - \u001b[1mAfter removing uu: len(sample_df)=2780366\u001b[0m\n",
      "\u001b[32m2025-03-27 01:31:46.275\u001b[0m | \u001b[1mINFO    \u001b[0m | \u001b[36m__main__\u001b[0m:\u001b[36m<module>\u001b[0m:\u001b[36m36\u001b[0m - \u001b[1mlen(ui)=341\u001b[0m\n",
      "\u001b[32m2025-03-27 01:31:46.526\u001b[0m | \u001b[1mINFO    \u001b[0m | \u001b[36m__main__\u001b[0m:\u001b[36m<module>\u001b[0m:\u001b[36m40\u001b[0m - \u001b[1mAfter removing ui: len(sample_df)=2777307\u001b[0m\n",
      "\u001b[32m2025-03-27 01:31:46.752\u001b[0m | \u001b[1mINFO    \u001b[0m | \u001b[36m__main__\u001b[0m:\u001b[36m<module>\u001b[0m:\u001b[36m23\u001b[0m - \u001b[1mSampling round 3 started\u001b[0m\n",
      "\u001b[32m2025-03-27 01:31:47.302\u001b[0m | \u001b[1mINFO    \u001b[0m | \u001b[36m__main__\u001b[0m:\u001b[36m<module>\u001b[0m:\u001b[36m27\u001b[0m - \u001b[1mlen(uu)=518\u001b[0m\n",
      "\u001b[32m2025-03-27 01:31:47.470\u001b[0m | \u001b[1mINFO    \u001b[0m | \u001b[36m__main__\u001b[0m:\u001b[36m<module>\u001b[0m:\u001b[36m31\u001b[0m - \u001b[1mAfter removing uu: len(sample_df)=2775238\u001b[0m\n",
      "\u001b[32m2025-03-27 01:31:48.243\u001b[0m | \u001b[1mINFO    \u001b[0m | \u001b[36m__main__\u001b[0m:\u001b[36m<module>\u001b[0m:\u001b[36m36\u001b[0m - \u001b[1mlen(ui)=37\u001b[0m\n",
      "\u001b[32m2025-03-27 01:31:48.470\u001b[0m | \u001b[1mINFO    \u001b[0m | \u001b[36m__main__\u001b[0m:\u001b[36m<module>\u001b[0m:\u001b[36m40\u001b[0m - \u001b[1mAfter removing ui: len(sample_df)=2774905\u001b[0m\n",
      "\u001b[32m2025-03-27 01:31:48.714\u001b[0m | \u001b[1mINFO    \u001b[0m | \u001b[36m__main__\u001b[0m:\u001b[36m<module>\u001b[0m:\u001b[36m23\u001b[0m - \u001b[1mSampling round 4 started\u001b[0m\n",
      "\u001b[32m2025-03-27 01:31:49.265\u001b[0m | \u001b[1mINFO    \u001b[0m | \u001b[36m__main__\u001b[0m:\u001b[36m<module>\u001b[0m:\u001b[36m27\u001b[0m - \u001b[1mlen(uu)=46\u001b[0m\n",
      "\u001b[32m2025-03-27 01:31:49.475\u001b[0m | \u001b[1mINFO    \u001b[0m | \u001b[36m__main__\u001b[0m:\u001b[36m<module>\u001b[0m:\u001b[36m31\u001b[0m - \u001b[1mAfter removing uu: len(sample_df)=2774721\u001b[0m\n",
      "\u001b[32m2025-03-27 01:31:50.260\u001b[0m | \u001b[1mINFO    \u001b[0m | \u001b[36m__main__\u001b[0m:\u001b[36m<module>\u001b[0m:\u001b[36m36\u001b[0m - \u001b[1mlen(ui)=2\u001b[0m\n",
      "\u001b[32m2025-03-27 01:31:50.455\u001b[0m | \u001b[1mINFO    \u001b[0m | \u001b[36m__main__\u001b[0m:\u001b[36m<module>\u001b[0m:\u001b[36m40\u001b[0m - \u001b[1mAfter removing ui: len(sample_df)=2774703\u001b[0m\n",
      "\u001b[32m2025-03-27 01:31:50.695\u001b[0m | \u001b[1mINFO    \u001b[0m | \u001b[36m__main__\u001b[0m:\u001b[36m<module>\u001b[0m:\u001b[36m23\u001b[0m - \u001b[1mSampling round 5 started\u001b[0m\n",
      "\u001b[32m2025-03-27 01:31:51.236\u001b[0m | \u001b[1mINFO    \u001b[0m | \u001b[36m__main__\u001b[0m:\u001b[36m<module>\u001b[0m:\u001b[36m27\u001b[0m - \u001b[1mlen(uu)=2\u001b[0m\n",
      "\u001b[32m2025-03-27 01:31:51.395\u001b[0m | \u001b[1mINFO    \u001b[0m | \u001b[36m__main__\u001b[0m:\u001b[36m<module>\u001b[0m:\u001b[36m31\u001b[0m - \u001b[1mAfter removing uu: len(sample_df)=2774695\u001b[0m\n",
      "\u001b[32m2025-03-27 01:31:52.192\u001b[0m | \u001b[1mINFO    \u001b[0m | \u001b[36m__main__\u001b[0m:\u001b[36m<module>\u001b[0m:\u001b[36m36\u001b[0m - \u001b[1mlen(ui)=0\u001b[0m\n",
      "\u001b[32m2025-03-27 01:31:52.192\u001b[0m | \u001b[1mINFO    \u001b[0m | \u001b[36m__main__\u001b[0m:\u001b[36m<module>\u001b[0m:\u001b[36m23\u001b[0m - \u001b[1mSampling round 6 started\u001b[0m\n",
      "\u001b[32m2025-03-27 01:31:52.796\u001b[0m | \u001b[1mINFO    \u001b[0m | \u001b[36m__main__\u001b[0m:\u001b[36m<module>\u001b[0m:\u001b[36m27\u001b[0m - \u001b[1mlen(uu)=0\u001b[0m\n",
      "\u001b[32m2025-03-27 01:31:53.041\u001b[0m | \u001b[1mINFO    \u001b[0m | \u001b[36m__main__\u001b[0m:\u001b[36m<module>\u001b[0m:\u001b[36m36\u001b[0m - \u001b[1mlen(ui)=0\u001b[0m\n",
      "\u001b[32m2025-03-27 01:31:53.368\u001b[0m | \u001b[1mINFO    \u001b[0m | \u001b[36m__main__\u001b[0m:\u001b[36m<module>\u001b[0m:\u001b[36m48\u001b[0m - \u001b[1mAfter randomly removing users - round 19: num_users=313204\u001b[0m\n",
      "\u001b[32m2025-03-27 01:31:53.369\u001b[0m | \u001b[1mINFO    \u001b[0m | \u001b[36m__main__\u001b[0m:\u001b[36m<module>\u001b[0m:\u001b[36m54\u001b[0m - \u001b[1mNumber of users 313204 are still greater than expected, keep removing...\u001b[0m\n"
     ]
    },
    {
     "name": "stdout",
     "output_type": "stream",
     "text": [
      "\n",
      "\n",
      "Randomly removing 15660 users - Round 20 started\n"
     ]
    },
    {
     "name": "stderr",
     "output_type": "stream",
     "text": [
      "\u001b[32m2025-03-27 01:31:54.382\u001b[0m | \u001b[1mINFO    \u001b[0m | \u001b[36m__main__\u001b[0m:\u001b[36m<module>\u001b[0m:\u001b[36m23\u001b[0m - \u001b[1mSampling round 1 started\u001b[0m\n",
      "\u001b[32m2025-03-27 01:31:54.918\u001b[0m | \u001b[1mINFO    \u001b[0m | \u001b[36m__main__\u001b[0m:\u001b[36m<module>\u001b[0m:\u001b[36m27\u001b[0m - \u001b[1mlen(uu)=0\u001b[0m\n",
      "\u001b[32m2025-03-27 01:31:55.143\u001b[0m | \u001b[1mINFO    \u001b[0m | \u001b[36m__main__\u001b[0m:\u001b[36m<module>\u001b[0m:\u001b[36m36\u001b[0m - \u001b[1mlen(ui)=2634\u001b[0m\n",
      "\u001b[32m2025-03-27 01:31:55.396\u001b[0m | \u001b[1mINFO    \u001b[0m | \u001b[36m__main__\u001b[0m:\u001b[36m<module>\u001b[0m:\u001b[36m40\u001b[0m - \u001b[1mAfter removing ui: len(sample_df)=2613534\u001b[0m\n",
      "\u001b[32m2025-03-27 01:31:55.609\u001b[0m | \u001b[1mINFO    \u001b[0m | \u001b[36m__main__\u001b[0m:\u001b[36m<module>\u001b[0m:\u001b[36m23\u001b[0m - \u001b[1mSampling round 2 started\u001b[0m\n",
      "\u001b[32m2025-03-27 01:31:56.138\u001b[0m | \u001b[1mINFO    \u001b[0m | \u001b[36m__main__\u001b[0m:\u001b[36m<module>\u001b[0m:\u001b[36m27\u001b[0m - \u001b[1mlen(uu)=3720\u001b[0m\n",
      "\u001b[32m2025-03-27 01:31:56.297\u001b[0m | \u001b[1mINFO    \u001b[0m | \u001b[36m__main__\u001b[0m:\u001b[36m<module>\u001b[0m:\u001b[36m31\u001b[0m - \u001b[1mAfter removing uu: len(sample_df)=2598722\u001b[0m\n",
      "\u001b[32m2025-03-27 01:31:57.030\u001b[0m | \u001b[1mINFO    \u001b[0m | \u001b[36m__main__\u001b[0m:\u001b[36m<module>\u001b[0m:\u001b[36m36\u001b[0m - \u001b[1mlen(ui)=333\u001b[0m\n",
      "\u001b[32m2025-03-27 01:31:57.261\u001b[0m | \u001b[1mINFO    \u001b[0m | \u001b[36m__main__\u001b[0m:\u001b[36m<module>\u001b[0m:\u001b[36m40\u001b[0m - \u001b[1mAfter removing ui: len(sample_df)=2595740\u001b[0m\n",
      "\u001b[32m2025-03-27 01:31:57.477\u001b[0m | \u001b[1mINFO    \u001b[0m | \u001b[36m__main__\u001b[0m:\u001b[36m<module>\u001b[0m:\u001b[36m23\u001b[0m - \u001b[1mSampling round 3 started\u001b[0m\n",
      "\u001b[32m2025-03-27 01:31:57.985\u001b[0m | \u001b[1mINFO    \u001b[0m | \u001b[36m__main__\u001b[0m:\u001b[36m<module>\u001b[0m:\u001b[36m27\u001b[0m - \u001b[1mlen(uu)=545\u001b[0m\n",
      "\u001b[32m2025-03-27 01:31:58.138\u001b[0m | \u001b[1mINFO    \u001b[0m | \u001b[36m__main__\u001b[0m:\u001b[36m<module>\u001b[0m:\u001b[36m31\u001b[0m - \u001b[1mAfter removing uu: len(sample_df)=2593561\u001b[0m\n",
      "\u001b[32m2025-03-27 01:31:58.865\u001b[0m | \u001b[1mINFO    \u001b[0m | \u001b[36m__main__\u001b[0m:\u001b[36m<module>\u001b[0m:\u001b[36m36\u001b[0m - \u001b[1mlen(ui)=45\u001b[0m\n",
      "\u001b[32m2025-03-27 01:31:59.097\u001b[0m | \u001b[1mINFO    \u001b[0m | \u001b[36m__main__\u001b[0m:\u001b[36m<module>\u001b[0m:\u001b[36m40\u001b[0m - \u001b[1mAfter removing ui: len(sample_df)=2593156\u001b[0m\n",
      "\u001b[32m2025-03-27 01:31:59.306\u001b[0m | \u001b[1mINFO    \u001b[0m | \u001b[36m__main__\u001b[0m:\u001b[36m<module>\u001b[0m:\u001b[36m23\u001b[0m - \u001b[1mSampling round 4 started\u001b[0m\n",
      "\u001b[32m2025-03-27 01:31:59.820\u001b[0m | \u001b[1mINFO    \u001b[0m | \u001b[36m__main__\u001b[0m:\u001b[36m<module>\u001b[0m:\u001b[36m27\u001b[0m - \u001b[1mlen(uu)=69\u001b[0m\n",
      "\u001b[32m2025-03-27 01:31:59.977\u001b[0m | \u001b[1mINFO    \u001b[0m | \u001b[36m__main__\u001b[0m:\u001b[36m<module>\u001b[0m:\u001b[36m31\u001b[0m - \u001b[1mAfter removing uu: len(sample_df)=2592880\u001b[0m\n",
      "\u001b[32m2025-03-27 01:32:00.710\u001b[0m | \u001b[1mINFO    \u001b[0m | \u001b[36m__main__\u001b[0m:\u001b[36m<module>\u001b[0m:\u001b[36m36\u001b[0m - \u001b[1mlen(ui)=6\u001b[0m\n",
      "\u001b[32m2025-03-27 01:32:00.937\u001b[0m | \u001b[1mINFO    \u001b[0m | \u001b[36m__main__\u001b[0m:\u001b[36m<module>\u001b[0m:\u001b[36m40\u001b[0m - \u001b[1mAfter removing ui: len(sample_df)=2592826\u001b[0m\n",
      "\u001b[32m2025-03-27 01:32:01.152\u001b[0m | \u001b[1mINFO    \u001b[0m | \u001b[36m__main__\u001b[0m:\u001b[36m<module>\u001b[0m:\u001b[36m23\u001b[0m - \u001b[1mSampling round 5 started\u001b[0m\n",
      "\u001b[32m2025-03-27 01:32:01.672\u001b[0m | \u001b[1mINFO    \u001b[0m | \u001b[36m__main__\u001b[0m:\u001b[36m<module>\u001b[0m:\u001b[36m27\u001b[0m - \u001b[1mlen(uu)=9\u001b[0m\n",
      "\u001b[32m2025-03-27 01:32:01.826\u001b[0m | \u001b[1mINFO    \u001b[0m | \u001b[36m__main__\u001b[0m:\u001b[36m<module>\u001b[0m:\u001b[36m31\u001b[0m - \u001b[1mAfter removing uu: len(sample_df)=2592790\u001b[0m\n",
      "\u001b[32m2025-03-27 01:32:02.552\u001b[0m | \u001b[1mINFO    \u001b[0m | \u001b[36m__main__\u001b[0m:\u001b[36m<module>\u001b[0m:\u001b[36m36\u001b[0m - \u001b[1mlen(ui)=0\u001b[0m\n",
      "\u001b[32m2025-03-27 01:32:02.553\u001b[0m | \u001b[1mINFO    \u001b[0m | \u001b[36m__main__\u001b[0m:\u001b[36m<module>\u001b[0m:\u001b[36m23\u001b[0m - \u001b[1mSampling round 6 started\u001b[0m\n",
      "\u001b[32m2025-03-27 01:32:03.075\u001b[0m | \u001b[1mINFO    \u001b[0m | \u001b[36m__main__\u001b[0m:\u001b[36m<module>\u001b[0m:\u001b[36m27\u001b[0m - \u001b[1mlen(uu)=0\u001b[0m\n",
      "\u001b[32m2025-03-27 01:32:03.301\u001b[0m | \u001b[1mINFO    \u001b[0m | \u001b[36m__main__\u001b[0m:\u001b[36m<module>\u001b[0m:\u001b[36m36\u001b[0m - \u001b[1mlen(ui)=0\u001b[0m\n",
      "\u001b[32m2025-03-27 01:32:03.604\u001b[0m | \u001b[1mINFO    \u001b[0m | \u001b[36m__main__\u001b[0m:\u001b[36m<module>\u001b[0m:\u001b[36m48\u001b[0m - \u001b[1mAfter randomly removing users - round 20: num_users=293201\u001b[0m\n",
      "\u001b[32m2025-03-27 01:32:03.605\u001b[0m | \u001b[1mINFO    \u001b[0m | \u001b[36m__main__\u001b[0m:\u001b[36m<module>\u001b[0m:\u001b[36m54\u001b[0m - \u001b[1mNumber of users 293201 are still greater than expected, keep removing...\u001b[0m\n"
     ]
    },
    {
     "name": "stdout",
     "output_type": "stream",
     "text": [
      "\n",
      "\n",
      "Randomly removing 14660 users - Round 21 started\n"
     ]
    },
    {
     "name": "stderr",
     "output_type": "stream",
     "text": [
      "\u001b[32m2025-03-27 01:32:04.549\u001b[0m | \u001b[1mINFO    \u001b[0m | \u001b[36m__main__\u001b[0m:\u001b[36m<module>\u001b[0m:\u001b[36m23\u001b[0m - \u001b[1mSampling round 1 started\u001b[0m\n",
      "\u001b[32m2025-03-27 01:32:05.045\u001b[0m | \u001b[1mINFO    \u001b[0m | \u001b[36m__main__\u001b[0m:\u001b[36m<module>\u001b[0m:\u001b[36m27\u001b[0m - \u001b[1mlen(uu)=0\u001b[0m\n",
      "\u001b[32m2025-03-27 01:32:05.251\u001b[0m | \u001b[1mINFO    \u001b[0m | \u001b[36m__main__\u001b[0m:\u001b[36m<module>\u001b[0m:\u001b[36m36\u001b[0m - \u001b[1mlen(ui)=2582\u001b[0m\n",
      "\u001b[32m2025-03-27 01:32:05.483\u001b[0m | \u001b[1mINFO    \u001b[0m | \u001b[36m__main__\u001b[0m:\u001b[36m<module>\u001b[0m:\u001b[36m40\u001b[0m - \u001b[1mAfter removing ui: len(sample_df)=2439755\u001b[0m\n",
      "\u001b[32m2025-03-27 01:32:05.686\u001b[0m | \u001b[1mINFO    \u001b[0m | \u001b[36m__main__\u001b[0m:\u001b[36m<module>\u001b[0m:\u001b[36m23\u001b[0m - \u001b[1mSampling round 2 started\u001b[0m\n",
      "\u001b[32m2025-03-27 01:32:06.161\u001b[0m | \u001b[1mINFO    \u001b[0m | \u001b[36m__main__\u001b[0m:\u001b[36m<module>\u001b[0m:\u001b[36m27\u001b[0m - \u001b[1mlen(uu)=3781\u001b[0m\n",
      "\u001b[32m2025-03-27 01:32:06.310\u001b[0m | \u001b[1mINFO    \u001b[0m | \u001b[36m__main__\u001b[0m:\u001b[36m<module>\u001b[0m:\u001b[36m31\u001b[0m - \u001b[1mAfter removing uu: len(sample_df)=2424707\u001b[0m\n",
      "\u001b[32m2025-03-27 01:32:06.980\u001b[0m | \u001b[1mINFO    \u001b[0m | \u001b[36m__main__\u001b[0m:\u001b[36m<module>\u001b[0m:\u001b[36m36\u001b[0m - \u001b[1mlen(ui)=333\u001b[0m\n",
      "\u001b[32m2025-03-27 01:32:07.187\u001b[0m | \u001b[1mINFO    \u001b[0m | \u001b[36m__main__\u001b[0m:\u001b[36m<module>\u001b[0m:\u001b[36m40\u001b[0m - \u001b[1mAfter removing ui: len(sample_df)=2421720\u001b[0m\n",
      "\u001b[32m2025-03-27 01:32:07.386\u001b[0m | \u001b[1mINFO    \u001b[0m | \u001b[36m__main__\u001b[0m:\u001b[36m<module>\u001b[0m:\u001b[36m23\u001b[0m - \u001b[1mSampling round 3 started\u001b[0m\n",
      "\u001b[32m2025-03-27 01:32:07.875\u001b[0m | \u001b[1mINFO    \u001b[0m | \u001b[36m__main__\u001b[0m:\u001b[36m<module>\u001b[0m:\u001b[36m27\u001b[0m - \u001b[1mlen(uu)=569\u001b[0m\n",
      "\u001b[32m2025-03-27 01:32:08.027\u001b[0m | \u001b[1mINFO    \u001b[0m | \u001b[36m__main__\u001b[0m:\u001b[36m<module>\u001b[0m:\u001b[36m31\u001b[0m - \u001b[1mAfter removing uu: len(sample_df)=2419445\u001b[0m\n",
      "\u001b[32m2025-03-27 01:32:08.678\u001b[0m | \u001b[1mINFO    \u001b[0m | \u001b[36m__main__\u001b[0m:\u001b[36m<module>\u001b[0m:\u001b[36m36\u001b[0m - \u001b[1mlen(ui)=55\u001b[0m\n",
      "\u001b[32m2025-03-27 01:32:08.837\u001b[0m | \u001b[1mINFO    \u001b[0m | \u001b[36m__main__\u001b[0m:\u001b[36m<module>\u001b[0m:\u001b[36m40\u001b[0m - \u001b[1mAfter removing ui: len(sample_df)=2418950\u001b[0m\n",
      "\u001b[32m2025-03-27 01:32:09.022\u001b[0m | \u001b[1mINFO    \u001b[0m | \u001b[36m__main__\u001b[0m:\u001b[36m<module>\u001b[0m:\u001b[36m23\u001b[0m - \u001b[1mSampling round 4 started\u001b[0m\n",
      "\u001b[32m2025-03-27 01:32:09.497\u001b[0m | \u001b[1mINFO    \u001b[0m | \u001b[36m__main__\u001b[0m:\u001b[36m<module>\u001b[0m:\u001b[36m27\u001b[0m - \u001b[1mlen(uu)=95\u001b[0m\n",
      "\u001b[32m2025-03-27 01:32:09.674\u001b[0m | \u001b[1mINFO    \u001b[0m | \u001b[36m__main__\u001b[0m:\u001b[36m<module>\u001b[0m:\u001b[36m31\u001b[0m - \u001b[1mAfter removing uu: len(sample_df)=2418570\u001b[0m\n",
      "\u001b[32m2025-03-27 01:32:10.361\u001b[0m | \u001b[1mINFO    \u001b[0m | \u001b[36m__main__\u001b[0m:\u001b[36m<module>\u001b[0m:\u001b[36m36\u001b[0m - \u001b[1mlen(ui)=13\u001b[0m\n",
      "\u001b[32m2025-03-27 01:32:10.506\u001b[0m | \u001b[1mINFO    \u001b[0m | \u001b[36m__main__\u001b[0m:\u001b[36m<module>\u001b[0m:\u001b[36m40\u001b[0m - \u001b[1mAfter removing ui: len(sample_df)=2418453\u001b[0m\n",
      "\u001b[32m2025-03-27 01:32:10.699\u001b[0m | \u001b[1mINFO    \u001b[0m | \u001b[36m__main__\u001b[0m:\u001b[36m<module>\u001b[0m:\u001b[36m23\u001b[0m - \u001b[1mSampling round 5 started\u001b[0m\n",
      "\u001b[32m2025-03-27 01:32:11.177\u001b[0m | \u001b[1mINFO    \u001b[0m | \u001b[36m__main__\u001b[0m:\u001b[36m<module>\u001b[0m:\u001b[36m27\u001b[0m - \u001b[1mlen(uu)=16\u001b[0m\n",
      "\u001b[32m2025-03-27 01:32:11.315\u001b[0m | \u001b[1mINFO    \u001b[0m | \u001b[36m__main__\u001b[0m:\u001b[36m<module>\u001b[0m:\u001b[36m31\u001b[0m - \u001b[1mAfter removing uu: len(sample_df)=2418389\u001b[0m\n",
      "\u001b[32m2025-03-27 01:32:11.979\u001b[0m | \u001b[1mINFO    \u001b[0m | \u001b[36m__main__\u001b[0m:\u001b[36m<module>\u001b[0m:\u001b[36m36\u001b[0m - \u001b[1mlen(ui)=2\u001b[0m\n",
      "\u001b[32m2025-03-27 01:32:12.189\u001b[0m | \u001b[1mINFO    \u001b[0m | \u001b[36m__main__\u001b[0m:\u001b[36m<module>\u001b[0m:\u001b[36m40\u001b[0m - \u001b[1mAfter removing ui: len(sample_df)=2418371\u001b[0m\n",
      "\u001b[32m2025-03-27 01:32:12.405\u001b[0m | \u001b[1mINFO    \u001b[0m | \u001b[36m__main__\u001b[0m:\u001b[36m<module>\u001b[0m:\u001b[36m23\u001b[0m - \u001b[1mSampling round 6 started\u001b[0m\n",
      "\u001b[32m2025-03-27 01:32:12.893\u001b[0m | \u001b[1mINFO    \u001b[0m | \u001b[36m__main__\u001b[0m:\u001b[36m<module>\u001b[0m:\u001b[36m27\u001b[0m - \u001b[1mlen(uu)=5\u001b[0m\n",
      "\u001b[32m2025-03-27 01:32:13.043\u001b[0m | \u001b[1mINFO    \u001b[0m | \u001b[36m__main__\u001b[0m:\u001b[36m<module>\u001b[0m:\u001b[36m31\u001b[0m - \u001b[1mAfter removing uu: len(sample_df)=2418351\u001b[0m\n",
      "\u001b[32m2025-03-27 01:32:13.725\u001b[0m | \u001b[1mINFO    \u001b[0m | \u001b[36m__main__\u001b[0m:\u001b[36m<module>\u001b[0m:\u001b[36m36\u001b[0m - \u001b[1mlen(ui)=0\u001b[0m\n",
      "\u001b[32m2025-03-27 01:32:13.726\u001b[0m | \u001b[1mINFO    \u001b[0m | \u001b[36m__main__\u001b[0m:\u001b[36m<module>\u001b[0m:\u001b[36m23\u001b[0m - \u001b[1mSampling round 7 started\u001b[0m\n",
      "\u001b[32m2025-03-27 01:32:14.214\u001b[0m | \u001b[1mINFO    \u001b[0m | \u001b[36m__main__\u001b[0m:\u001b[36m<module>\u001b[0m:\u001b[36m27\u001b[0m - \u001b[1mlen(uu)=0\u001b[0m\n",
      "\u001b[32m2025-03-27 01:32:14.400\u001b[0m | \u001b[1mINFO    \u001b[0m | \u001b[36m__main__\u001b[0m:\u001b[36m<module>\u001b[0m:\u001b[36m36\u001b[0m - \u001b[1mlen(ui)=0\u001b[0m\n",
      "\u001b[32m2025-03-27 01:32:14.679\u001b[0m | \u001b[1mINFO    \u001b[0m | \u001b[36m__main__\u001b[0m:\u001b[36m<module>\u001b[0m:\u001b[36m48\u001b[0m - \u001b[1mAfter randomly removing users - round 21: num_users=274075\u001b[0m\n",
      "\u001b[32m2025-03-27 01:32:14.679\u001b[0m | \u001b[1mINFO    \u001b[0m | \u001b[36m__main__\u001b[0m:\u001b[36m<module>\u001b[0m:\u001b[36m54\u001b[0m - \u001b[1mNumber of users 274075 are still greater than expected, keep removing...\u001b[0m\n"
     ]
    },
    {
     "name": "stdout",
     "output_type": "stream",
     "text": [
      "\n",
      "\n",
      "Randomly removing 13703 users - Round 22 started\n"
     ]
    },
    {
     "name": "stderr",
     "output_type": "stream",
     "text": [
      "\u001b[32m2025-03-27 01:32:15.563\u001b[0m | \u001b[1mINFO    \u001b[0m | \u001b[36m__main__\u001b[0m:\u001b[36m<module>\u001b[0m:\u001b[36m23\u001b[0m - \u001b[1mSampling round 1 started\u001b[0m\n",
      "\u001b[32m2025-03-27 01:32:16.019\u001b[0m | \u001b[1mINFO    \u001b[0m | \u001b[36m__main__\u001b[0m:\u001b[36m<module>\u001b[0m:\u001b[36m27\u001b[0m - \u001b[1mlen(uu)=0\u001b[0m\n",
      "\u001b[32m2025-03-27 01:32:16.220\u001b[0m | \u001b[1mINFO    \u001b[0m | \u001b[36m__main__\u001b[0m:\u001b[36m<module>\u001b[0m:\u001b[36m36\u001b[0m - \u001b[1mlen(ui)=2457\u001b[0m\n",
      "\u001b[32m2025-03-27 01:32:16.423\u001b[0m | \u001b[1mINFO    \u001b[0m | \u001b[36m__main__\u001b[0m:\u001b[36m<module>\u001b[0m:\u001b[36m40\u001b[0m - \u001b[1mAfter removing ui: len(sample_df)=2275634\u001b[0m\n",
      "\u001b[32m2025-03-27 01:32:16.611\u001b[0m | \u001b[1mINFO    \u001b[0m | \u001b[36m__main__\u001b[0m:\u001b[36m<module>\u001b[0m:\u001b[36m23\u001b[0m - \u001b[1mSampling round 2 started\u001b[0m\n",
      "\u001b[32m2025-03-27 01:32:17.061\u001b[0m | \u001b[1mINFO    \u001b[0m | \u001b[36m__main__\u001b[0m:\u001b[36m<module>\u001b[0m:\u001b[36m27\u001b[0m - \u001b[1mlen(uu)=3531\u001b[0m\n",
      "\u001b[32m2025-03-27 01:32:17.203\u001b[0m | \u001b[1mINFO    \u001b[0m | \u001b[36m__main__\u001b[0m:\u001b[36m<module>\u001b[0m:\u001b[36m31\u001b[0m - \u001b[1mAfter removing uu: len(sample_df)=2261593\u001b[0m\n",
      "\u001b[32m2025-03-27 01:32:17.833\u001b[0m | \u001b[1mINFO    \u001b[0m | \u001b[36m__main__\u001b[0m:\u001b[36m<module>\u001b[0m:\u001b[36m36\u001b[0m - \u001b[1mlen(ui)=324\u001b[0m\n",
      "\u001b[32m2025-03-27 01:32:18.034\u001b[0m | \u001b[1mINFO    \u001b[0m | \u001b[36m__main__\u001b[0m:\u001b[36m<module>\u001b[0m:\u001b[36m40\u001b[0m - \u001b[1mAfter removing ui: len(sample_df)=2258691\u001b[0m\n",
      "\u001b[32m2025-03-27 01:32:18.214\u001b[0m | \u001b[1mINFO    \u001b[0m | \u001b[36m__main__\u001b[0m:\u001b[36m<module>\u001b[0m:\u001b[36m23\u001b[0m - \u001b[1mSampling round 3 started\u001b[0m\n",
      "\u001b[32m2025-03-27 01:32:18.651\u001b[0m | \u001b[1mINFO    \u001b[0m | \u001b[36m__main__\u001b[0m:\u001b[36m<module>\u001b[0m:\u001b[36m27\u001b[0m - \u001b[1mlen(uu)=545\u001b[0m\n",
      "\u001b[32m2025-03-27 01:32:18.792\u001b[0m | \u001b[1mINFO    \u001b[0m | \u001b[36m__main__\u001b[0m:\u001b[36m<module>\u001b[0m:\u001b[36m31\u001b[0m - \u001b[1mAfter removing uu: len(sample_df)=2256515\u001b[0m\n",
      "\u001b[32m2025-03-27 01:32:19.434\u001b[0m | \u001b[1mINFO    \u001b[0m | \u001b[36m__main__\u001b[0m:\u001b[36m<module>\u001b[0m:\u001b[36m36\u001b[0m - \u001b[1mlen(ui)=52\u001b[0m\n",
      "\u001b[32m2025-03-27 01:32:19.578\u001b[0m | \u001b[1mINFO    \u001b[0m | \u001b[36m__main__\u001b[0m:\u001b[36m<module>\u001b[0m:\u001b[36m40\u001b[0m - \u001b[1mAfter removing ui: len(sample_df)=2256047\u001b[0m\n",
      "\u001b[32m2025-03-27 01:32:19.762\u001b[0m | \u001b[1mINFO    \u001b[0m | \u001b[36m__main__\u001b[0m:\u001b[36m<module>\u001b[0m:\u001b[36m23\u001b[0m - \u001b[1mSampling round 4 started\u001b[0m\n",
      "\u001b[32m2025-03-27 01:32:20.208\u001b[0m | \u001b[1mINFO    \u001b[0m | \u001b[36m__main__\u001b[0m:\u001b[36m<module>\u001b[0m:\u001b[36m27\u001b[0m - \u001b[1mlen(uu)=75\u001b[0m\n",
      "\u001b[32m2025-03-27 01:32:20.355\u001b[0m | \u001b[1mINFO    \u001b[0m | \u001b[36m__main__\u001b[0m:\u001b[36m<module>\u001b[0m:\u001b[36m31\u001b[0m - \u001b[1mAfter removing uu: len(sample_df)=2255747\u001b[0m\n",
      "\u001b[32m2025-03-27 01:32:21.004\u001b[0m | \u001b[1mINFO    \u001b[0m | \u001b[36m__main__\u001b[0m:\u001b[36m<module>\u001b[0m:\u001b[36m36\u001b[0m - \u001b[1mlen(ui)=2\u001b[0m\n",
      "\u001b[32m2025-03-27 01:32:21.147\u001b[0m | \u001b[1mINFO    \u001b[0m | \u001b[36m__main__\u001b[0m:\u001b[36m<module>\u001b[0m:\u001b[36m40\u001b[0m - \u001b[1mAfter removing ui: len(sample_df)=2255729\u001b[0m\n",
      "\u001b[32m2025-03-27 01:32:21.331\u001b[0m | \u001b[1mINFO    \u001b[0m | \u001b[36m__main__\u001b[0m:\u001b[36m<module>\u001b[0m:\u001b[36m23\u001b[0m - \u001b[1mSampling round 5 started\u001b[0m\n",
      "\u001b[32m2025-03-27 01:32:21.776\u001b[0m | \u001b[1mINFO    \u001b[0m | \u001b[36m__main__\u001b[0m:\u001b[36m<module>\u001b[0m:\u001b[36m27\u001b[0m - \u001b[1mlen(uu)=2\u001b[0m\n",
      "\u001b[32m2025-03-27 01:32:21.904\u001b[0m | \u001b[1mINFO    \u001b[0m | \u001b[36m__main__\u001b[0m:\u001b[36m<module>\u001b[0m:\u001b[36m31\u001b[0m - \u001b[1mAfter removing uu: len(sample_df)=2255721\u001b[0m\n",
      "\u001b[32m2025-03-27 01:32:22.515\u001b[0m | \u001b[1mINFO    \u001b[0m | \u001b[36m__main__\u001b[0m:\u001b[36m<module>\u001b[0m:\u001b[36m36\u001b[0m - \u001b[1mlen(ui)=0\u001b[0m\n",
      "\u001b[32m2025-03-27 01:32:22.516\u001b[0m | \u001b[1mINFO    \u001b[0m | \u001b[36m__main__\u001b[0m:\u001b[36m<module>\u001b[0m:\u001b[36m23\u001b[0m - \u001b[1mSampling round 6 started\u001b[0m\n",
      "\u001b[32m2025-03-27 01:32:22.956\u001b[0m | \u001b[1mINFO    \u001b[0m | \u001b[36m__main__\u001b[0m:\u001b[36m<module>\u001b[0m:\u001b[36m27\u001b[0m - \u001b[1mlen(uu)=0\u001b[0m\n",
      "\u001b[32m2025-03-27 01:32:23.147\u001b[0m | \u001b[1mINFO    \u001b[0m | \u001b[36m__main__\u001b[0m:\u001b[36m<module>\u001b[0m:\u001b[36m36\u001b[0m - \u001b[1mlen(ui)=0\u001b[0m\n",
      "\u001b[32m2025-03-27 01:32:23.402\u001b[0m | \u001b[1mINFO    \u001b[0m | \u001b[36m__main__\u001b[0m:\u001b[36m<module>\u001b[0m:\u001b[36m48\u001b[0m - \u001b[1mAfter randomly removing users - round 22: num_users=256219\u001b[0m\n",
      "\u001b[32m2025-03-27 01:32:23.402\u001b[0m | \u001b[1mINFO    \u001b[0m | \u001b[36m__main__\u001b[0m:\u001b[36m<module>\u001b[0m:\u001b[36m54\u001b[0m - \u001b[1mNumber of users 256219 are still greater than expected, keep removing...\u001b[0m\n"
     ]
    },
    {
     "name": "stdout",
     "output_type": "stream",
     "text": [
      "\n",
      "\n",
      "Randomly removing 12810 users - Round 23 started\n"
     ]
    },
    {
     "name": "stderr",
     "output_type": "stream",
     "text": [
      "\u001b[32m2025-03-27 01:32:24.278\u001b[0m | \u001b[1mINFO    \u001b[0m | \u001b[36m__main__\u001b[0m:\u001b[36m<module>\u001b[0m:\u001b[36m23\u001b[0m - \u001b[1mSampling round 1 started\u001b[0m\n",
      "\u001b[32m2025-03-27 01:32:24.692\u001b[0m | \u001b[1mINFO    \u001b[0m | \u001b[36m__main__\u001b[0m:\u001b[36m<module>\u001b[0m:\u001b[36m27\u001b[0m - \u001b[1mlen(uu)=0\u001b[0m\n",
      "\u001b[32m2025-03-27 01:32:24.888\u001b[0m | \u001b[1mINFO    \u001b[0m | \u001b[36m__main__\u001b[0m:\u001b[36m<module>\u001b[0m:\u001b[36m36\u001b[0m - \u001b[1mlen(ui)=2393\u001b[0m\n",
      "\u001b[32m2025-03-27 01:32:25.076\u001b[0m | \u001b[1mINFO    \u001b[0m | \u001b[36m__main__\u001b[0m:\u001b[36m<module>\u001b[0m:\u001b[36m40\u001b[0m - \u001b[1mAfter removing ui: len(sample_df)=2122172\u001b[0m\n",
      "\u001b[32m2025-03-27 01:32:25.267\u001b[0m | \u001b[1mINFO    \u001b[0m | \u001b[36m__main__\u001b[0m:\u001b[36m<module>\u001b[0m:\u001b[36m23\u001b[0m - \u001b[1mSampling round 2 started\u001b[0m\n",
      "\u001b[32m2025-03-27 01:32:25.678\u001b[0m | \u001b[1mINFO    \u001b[0m | \u001b[36m__main__\u001b[0m:\u001b[36m<module>\u001b[0m:\u001b[36m27\u001b[0m - \u001b[1mlen(uu)=3382\u001b[0m\n",
      "\u001b[32m2025-03-27 01:32:25.808\u001b[0m | \u001b[1mINFO    \u001b[0m | \u001b[36m__main__\u001b[0m:\u001b[36m<module>\u001b[0m:\u001b[36m31\u001b[0m - \u001b[1mAfter removing uu: len(sample_df)=2108726\u001b[0m\n",
      "\u001b[32m2025-03-27 01:32:26.380\u001b[0m | \u001b[1mINFO    \u001b[0m | \u001b[36m__main__\u001b[0m:\u001b[36m<module>\u001b[0m:\u001b[36m36\u001b[0m - \u001b[1mlen(ui)=302\u001b[0m\n",
      "\u001b[32m2025-03-27 01:32:26.555\u001b[0m | \u001b[1mINFO    \u001b[0m | \u001b[36m__main__\u001b[0m:\u001b[36m<module>\u001b[0m:\u001b[36m40\u001b[0m - \u001b[1mAfter removing ui: len(sample_df)=2106014\u001b[0m\n",
      "\u001b[32m2025-03-27 01:32:26.715\u001b[0m | \u001b[1mINFO    \u001b[0m | \u001b[36m__main__\u001b[0m:\u001b[36m<module>\u001b[0m:\u001b[36m23\u001b[0m - \u001b[1mSampling round 3 started\u001b[0m\n",
      "\u001b[32m2025-03-27 01:32:27.122\u001b[0m | \u001b[1mINFO    \u001b[0m | \u001b[36m__main__\u001b[0m:\u001b[36m<module>\u001b[0m:\u001b[36m27\u001b[0m - \u001b[1mlen(uu)=455\u001b[0m\n",
      "\u001b[32m2025-03-27 01:32:27.241\u001b[0m | \u001b[1mINFO    \u001b[0m | \u001b[36m__main__\u001b[0m:\u001b[36m<module>\u001b[0m:\u001b[36m31\u001b[0m - \u001b[1mAfter removing uu: len(sample_df)=2104194\u001b[0m\n",
      "\u001b[32m2025-03-27 01:32:27.823\u001b[0m | \u001b[1mINFO    \u001b[0m | \u001b[36m__main__\u001b[0m:\u001b[36m<module>\u001b[0m:\u001b[36m36\u001b[0m - \u001b[1mlen(ui)=51\u001b[0m\n",
      "\u001b[32m2025-03-27 01:32:27.962\u001b[0m | \u001b[1mINFO    \u001b[0m | \u001b[36m__main__\u001b[0m:\u001b[36m<module>\u001b[0m:\u001b[36m40\u001b[0m - \u001b[1mAfter removing ui: len(sample_df)=2103735\u001b[0m\n",
      "\u001b[32m2025-03-27 01:32:28.184\u001b[0m | \u001b[1mINFO    \u001b[0m | \u001b[36m__main__\u001b[0m:\u001b[36m<module>\u001b[0m:\u001b[36m23\u001b[0m - \u001b[1mSampling round 4 started\u001b[0m\n",
      "\u001b[32m2025-03-27 01:32:28.597\u001b[0m | \u001b[1mINFO    \u001b[0m | \u001b[36m__main__\u001b[0m:\u001b[36m<module>\u001b[0m:\u001b[36m27\u001b[0m - \u001b[1mlen(uu)=84\u001b[0m\n",
      "\u001b[32m2025-03-27 01:32:28.740\u001b[0m | \u001b[1mINFO    \u001b[0m | \u001b[36m__main__\u001b[0m:\u001b[36m<module>\u001b[0m:\u001b[36m31\u001b[0m - \u001b[1mAfter removing uu: len(sample_df)=2103399\u001b[0m\n",
      "\u001b[32m2025-03-27 01:32:29.318\u001b[0m | \u001b[1mINFO    \u001b[0m | \u001b[36m__main__\u001b[0m:\u001b[36m<module>\u001b[0m:\u001b[36m36\u001b[0m - \u001b[1mlen(ui)=6\u001b[0m\n",
      "\u001b[32m2025-03-27 01:32:29.476\u001b[0m | \u001b[1mINFO    \u001b[0m | \u001b[36m__main__\u001b[0m:\u001b[36m<module>\u001b[0m:\u001b[36m40\u001b[0m - \u001b[1mAfter removing ui: len(sample_df)=2103345\u001b[0m\n",
      "\u001b[32m2025-03-27 01:32:29.642\u001b[0m | \u001b[1mINFO    \u001b[0m | \u001b[36m__main__\u001b[0m:\u001b[36m<module>\u001b[0m:\u001b[36m23\u001b[0m - \u001b[1mSampling round 5 started\u001b[0m\n",
      "\u001b[32m2025-03-27 01:32:30.050\u001b[0m | \u001b[1mINFO    \u001b[0m | \u001b[36m__main__\u001b[0m:\u001b[36m<module>\u001b[0m:\u001b[36m27\u001b[0m - \u001b[1mlen(uu)=9\u001b[0m\n",
      "\u001b[32m2025-03-27 01:32:30.178\u001b[0m | \u001b[1mINFO    \u001b[0m | \u001b[36m__main__\u001b[0m:\u001b[36m<module>\u001b[0m:\u001b[36m31\u001b[0m - \u001b[1mAfter removing uu: len(sample_df)=2103309\u001b[0m\n",
      "\u001b[32m2025-03-27 01:32:30.832\u001b[0m | \u001b[1mINFO    \u001b[0m | \u001b[36m__main__\u001b[0m:\u001b[36m<module>\u001b[0m:\u001b[36m36\u001b[0m - \u001b[1mlen(ui)=0\u001b[0m\n",
      "\u001b[32m2025-03-27 01:32:30.832\u001b[0m | \u001b[1mINFO    \u001b[0m | \u001b[36m__main__\u001b[0m:\u001b[36m<module>\u001b[0m:\u001b[36m23\u001b[0m - \u001b[1mSampling round 6 started\u001b[0m\n",
      "\u001b[32m2025-03-27 01:32:31.240\u001b[0m | \u001b[1mINFO    \u001b[0m | \u001b[36m__main__\u001b[0m:\u001b[36m<module>\u001b[0m:\u001b[36m27\u001b[0m - \u001b[1mlen(uu)=0\u001b[0m\n",
      "\u001b[32m2025-03-27 01:32:31.412\u001b[0m | \u001b[1mINFO    \u001b[0m | \u001b[36m__main__\u001b[0m:\u001b[36m<module>\u001b[0m:\u001b[36m36\u001b[0m - \u001b[1mlen(ui)=0\u001b[0m\n",
      "\u001b[32m2025-03-27 01:32:31.654\u001b[0m | \u001b[1mINFO    \u001b[0m | \u001b[36m__main__\u001b[0m:\u001b[36m<module>\u001b[0m:\u001b[36m48\u001b[0m - \u001b[1mAfter randomly removing users - round 23: num_users=239479\u001b[0m\n",
      "\u001b[32m2025-03-27 01:32:31.655\u001b[0m | \u001b[1mINFO    \u001b[0m | \u001b[36m__main__\u001b[0m:\u001b[36m<module>\u001b[0m:\u001b[36m54\u001b[0m - \u001b[1mNumber of users 239479 are still greater than expected, keep removing...\u001b[0m\n"
     ]
    },
    {
     "name": "stdout",
     "output_type": "stream",
     "text": [
      "\n",
      "\n",
      "Randomly removing 11973 users - Round 24 started\n"
     ]
    },
    {
     "name": "stderr",
     "output_type": "stream",
     "text": [
      "\u001b[32m2025-03-27 01:32:32.596\u001b[0m | \u001b[1mINFO    \u001b[0m | \u001b[36m__main__\u001b[0m:\u001b[36m<module>\u001b[0m:\u001b[36m23\u001b[0m - \u001b[1mSampling round 1 started\u001b[0m\n",
      "\u001b[32m2025-03-27 01:32:32.984\u001b[0m | \u001b[1mINFO    \u001b[0m | \u001b[36m__main__\u001b[0m:\u001b[36m<module>\u001b[0m:\u001b[36m27\u001b[0m - \u001b[1mlen(uu)=0\u001b[0m\n",
      "\u001b[32m2025-03-27 01:32:33.151\u001b[0m | \u001b[1mINFO    \u001b[0m | \u001b[36m__main__\u001b[0m:\u001b[36m<module>\u001b[0m:\u001b[36m36\u001b[0m - \u001b[1mlen(ui)=2305\u001b[0m\n",
      "\u001b[32m2025-03-27 01:32:33.316\u001b[0m | \u001b[1mINFO    \u001b[0m | \u001b[36m__main__\u001b[0m:\u001b[36m<module>\u001b[0m:\u001b[36m40\u001b[0m - \u001b[1mAfter removing ui: len(sample_df)=1977145\u001b[0m\n",
      "\u001b[32m2025-03-27 01:32:33.480\u001b[0m | \u001b[1mINFO    \u001b[0m | \u001b[36m__main__\u001b[0m:\u001b[36m<module>\u001b[0m:\u001b[36m23\u001b[0m - \u001b[1mSampling round 2 started\u001b[0m\n",
      "\u001b[32m2025-03-27 01:32:33.880\u001b[0m | \u001b[1mINFO    \u001b[0m | \u001b[36m__main__\u001b[0m:\u001b[36m<module>\u001b[0m:\u001b[36m27\u001b[0m - \u001b[1mlen(uu)=3284\u001b[0m\n",
      "\u001b[32m2025-03-27 01:32:34.001\u001b[0m | \u001b[1mINFO    \u001b[0m | \u001b[36m__main__\u001b[0m:\u001b[36m<module>\u001b[0m:\u001b[36m31\u001b[0m - \u001b[1mAfter removing uu: len(sample_df)=1964101\u001b[0m\n",
      "\u001b[32m2025-03-27 01:32:34.535\u001b[0m | \u001b[1mINFO    \u001b[0m | \u001b[36m__main__\u001b[0m:\u001b[36m<module>\u001b[0m:\u001b[36m36\u001b[0m - \u001b[1mlen(ui)=316\u001b[0m\n",
      "\u001b[32m2025-03-27 01:32:34.694\u001b[0m | \u001b[1mINFO    \u001b[0m | \u001b[36m__main__\u001b[0m:\u001b[36m<module>\u001b[0m:\u001b[36m40\u001b[0m - \u001b[1mAfter removing ui: len(sample_df)=1961271\u001b[0m\n",
      "\u001b[32m2025-03-27 01:32:34.872\u001b[0m | \u001b[1mINFO    \u001b[0m | \u001b[36m__main__\u001b[0m:\u001b[36m<module>\u001b[0m:\u001b[36m23\u001b[0m - \u001b[1mSampling round 3 started\u001b[0m\n",
      "\u001b[32m2025-03-27 01:32:35.254\u001b[0m | \u001b[1mINFO    \u001b[0m | \u001b[36m__main__\u001b[0m:\u001b[36m<module>\u001b[0m:\u001b[36m27\u001b[0m - \u001b[1mlen(uu)=547\u001b[0m\n",
      "\u001b[32m2025-03-27 01:32:35.376\u001b[0m | \u001b[1mINFO    \u001b[0m | \u001b[36m__main__\u001b[0m:\u001b[36m<module>\u001b[0m:\u001b[36m31\u001b[0m - \u001b[1mAfter removing uu: len(sample_df)=1959084\u001b[0m\n",
      "\u001b[32m2025-03-27 01:32:35.904\u001b[0m | \u001b[1mINFO    \u001b[0m | \u001b[36m__main__\u001b[0m:\u001b[36m<module>\u001b[0m:\u001b[36m36\u001b[0m - \u001b[1mlen(ui)=59\u001b[0m\n",
      "\u001b[32m2025-03-27 01:32:36.039\u001b[0m | \u001b[1mINFO    \u001b[0m | \u001b[36m__main__\u001b[0m:\u001b[36m<module>\u001b[0m:\u001b[36m40\u001b[0m - \u001b[1mAfter removing ui: len(sample_df)=1958554\u001b[0m\n",
      "\u001b[32m2025-03-27 01:32:36.198\u001b[0m | \u001b[1mINFO    \u001b[0m | \u001b[36m__main__\u001b[0m:\u001b[36m<module>\u001b[0m:\u001b[36m23\u001b[0m - \u001b[1mSampling round 4 started\u001b[0m\n",
      "\u001b[32m2025-03-27 01:32:36.574\u001b[0m | \u001b[1mINFO    \u001b[0m | \u001b[36m__main__\u001b[0m:\u001b[36m<module>\u001b[0m:\u001b[36m27\u001b[0m - \u001b[1mlen(uu)=96\u001b[0m\n",
      "\u001b[32m2025-03-27 01:32:36.734\u001b[0m | \u001b[1mINFO    \u001b[0m | \u001b[36m__main__\u001b[0m:\u001b[36m<module>\u001b[0m:\u001b[36m31\u001b[0m - \u001b[1mAfter removing uu: len(sample_df)=1958170\u001b[0m\n",
      "\u001b[32m2025-03-27 01:32:37.260\u001b[0m | \u001b[1mINFO    \u001b[0m | \u001b[36m__main__\u001b[0m:\u001b[36m<module>\u001b[0m:\u001b[36m36\u001b[0m - \u001b[1mlen(ui)=11\u001b[0m\n",
      "\u001b[32m2025-03-27 01:32:37.425\u001b[0m | \u001b[1mINFO    \u001b[0m | \u001b[36m__main__\u001b[0m:\u001b[36m<module>\u001b[0m:\u001b[36m40\u001b[0m - \u001b[1mAfter removing ui: len(sample_df)=1958071\u001b[0m\n",
      "\u001b[32m2025-03-27 01:32:37.568\u001b[0m | \u001b[1mINFO    \u001b[0m | \u001b[36m__main__\u001b[0m:\u001b[36m<module>\u001b[0m:\u001b[36m23\u001b[0m - \u001b[1mSampling round 5 started\u001b[0m\n",
      "\u001b[32m2025-03-27 01:32:37.952\u001b[0m | \u001b[1mINFO    \u001b[0m | \u001b[36m__main__\u001b[0m:\u001b[36m<module>\u001b[0m:\u001b[36m27\u001b[0m - \u001b[1mlen(uu)=17\u001b[0m\n",
      "\u001b[32m2025-03-27 01:32:38.070\u001b[0m | \u001b[1mINFO    \u001b[0m | \u001b[36m__main__\u001b[0m:\u001b[36m<module>\u001b[0m:\u001b[36m31\u001b[0m - \u001b[1mAfter removing uu: len(sample_df)=1958003\u001b[0m\n",
      "\u001b[32m2025-03-27 01:32:38.605\u001b[0m | \u001b[1mINFO    \u001b[0m | \u001b[36m__main__\u001b[0m:\u001b[36m<module>\u001b[0m:\u001b[36m36\u001b[0m - \u001b[1mlen(ui)=0\u001b[0m\n",
      "\u001b[32m2025-03-27 01:32:38.605\u001b[0m | \u001b[1mINFO    \u001b[0m | \u001b[36m__main__\u001b[0m:\u001b[36m<module>\u001b[0m:\u001b[36m23\u001b[0m - \u001b[1mSampling round 6 started\u001b[0m\n",
      "\u001b[32m2025-03-27 01:32:38.989\u001b[0m | \u001b[1mINFO    \u001b[0m | \u001b[36m__main__\u001b[0m:\u001b[36m<module>\u001b[0m:\u001b[36m27\u001b[0m - \u001b[1mlen(uu)=0\u001b[0m\n",
      "\u001b[32m2025-03-27 01:32:39.151\u001b[0m | \u001b[1mINFO    \u001b[0m | \u001b[36m__main__\u001b[0m:\u001b[36m<module>\u001b[0m:\u001b[36m36\u001b[0m - \u001b[1mlen(ui)=0\u001b[0m\n",
      "\u001b[32m2025-03-27 01:32:39.376\u001b[0m | \u001b[1mINFO    \u001b[0m | \u001b[36m__main__\u001b[0m:\u001b[36m<module>\u001b[0m:\u001b[36m48\u001b[0m - \u001b[1mAfter randomly removing users - round 24: num_users=223562\u001b[0m\n",
      "\u001b[32m2025-03-27 01:32:39.376\u001b[0m | \u001b[1mINFO    \u001b[0m | \u001b[36m__main__\u001b[0m:\u001b[36m<module>\u001b[0m:\u001b[36m54\u001b[0m - \u001b[1mNumber of users 223562 are still greater than expected, keep removing...\u001b[0m\n"
     ]
    },
    {
     "name": "stdout",
     "output_type": "stream",
     "text": [
      "\n",
      "\n",
      "Randomly removing 11178 users - Round 25 started\n"
     ]
    },
    {
     "name": "stderr",
     "output_type": "stream",
     "text": [
      "\u001b[32m2025-03-27 01:32:40.240\u001b[0m | \u001b[1mINFO    \u001b[0m | \u001b[36m__main__\u001b[0m:\u001b[36m<module>\u001b[0m:\u001b[36m23\u001b[0m - \u001b[1mSampling round 1 started\u001b[0m\n",
      "\u001b[32m2025-03-27 01:32:40.591\u001b[0m | \u001b[1mINFO    \u001b[0m | \u001b[36m__main__\u001b[0m:\u001b[36m<module>\u001b[0m:\u001b[36m27\u001b[0m - \u001b[1mlen(uu)=0\u001b[0m\n",
      "\u001b[32m2025-03-27 01:32:40.746\u001b[0m | \u001b[1mINFO    \u001b[0m | \u001b[36m__main__\u001b[0m:\u001b[36m<module>\u001b[0m:\u001b[36m36\u001b[0m - \u001b[1mlen(ui)=2112\u001b[0m\n",
      "\u001b[32m2025-03-27 01:32:40.889\u001b[0m | \u001b[1mINFO    \u001b[0m | \u001b[36m__main__\u001b[0m:\u001b[36m<module>\u001b[0m:\u001b[36m40\u001b[0m - \u001b[1mAfter removing ui: len(sample_df)=1842305\u001b[0m\n",
      "\u001b[32m2025-03-27 01:32:41.037\u001b[0m | \u001b[1mINFO    \u001b[0m | \u001b[36m__main__\u001b[0m:\u001b[36m<module>\u001b[0m:\u001b[36m23\u001b[0m - \u001b[1mSampling round 2 started\u001b[0m\n",
      "\u001b[32m2025-03-27 01:32:41.395\u001b[0m | \u001b[1mINFO    \u001b[0m | \u001b[36m__main__\u001b[0m:\u001b[36m<module>\u001b[0m:\u001b[36m27\u001b[0m - \u001b[1mlen(uu)=3049\u001b[0m\n",
      "\u001b[32m2025-03-27 01:32:41.550\u001b[0m | \u001b[1mINFO    \u001b[0m | \u001b[36m__main__\u001b[0m:\u001b[36m<module>\u001b[0m:\u001b[36m31\u001b[0m - \u001b[1mAfter removing uu: len(sample_df)=1830191\u001b[0m\n",
      "\u001b[32m2025-03-27 01:32:42.061\u001b[0m | \u001b[1mINFO    \u001b[0m | \u001b[36m__main__\u001b[0m:\u001b[36m<module>\u001b[0m:\u001b[36m36\u001b[0m - \u001b[1mlen(ui)=311\u001b[0m\n",
      "\u001b[32m2025-03-27 01:32:42.218\u001b[0m | \u001b[1mINFO    \u001b[0m | \u001b[36m__main__\u001b[0m:\u001b[36m<module>\u001b[0m:\u001b[36m40\u001b[0m - \u001b[1mAfter removing ui: len(sample_df)=1827402\u001b[0m\n",
      "\u001b[32m2025-03-27 01:32:42.370\u001b[0m | \u001b[1mINFO    \u001b[0m | \u001b[36m__main__\u001b[0m:\u001b[36m<module>\u001b[0m:\u001b[36m23\u001b[0m - \u001b[1mSampling round 3 started\u001b[0m\n",
      "\u001b[32m2025-03-27 01:32:42.733\u001b[0m | \u001b[1mINFO    \u001b[0m | \u001b[36m__main__\u001b[0m:\u001b[36m<module>\u001b[0m:\u001b[36m27\u001b[0m - \u001b[1mlen(uu)=517\u001b[0m\n",
      "\u001b[32m2025-03-27 01:32:42.846\u001b[0m | \u001b[1mINFO    \u001b[0m | \u001b[36m__main__\u001b[0m:\u001b[36m<module>\u001b[0m:\u001b[36m31\u001b[0m - \u001b[1mAfter removing uu: len(sample_df)=1825335\u001b[0m\n",
      "\u001b[32m2025-03-27 01:32:43.347\u001b[0m | \u001b[1mINFO    \u001b[0m | \u001b[36m__main__\u001b[0m:\u001b[36m<module>\u001b[0m:\u001b[36m36\u001b[0m - \u001b[1mlen(ui)=56\u001b[0m\n",
      "\u001b[32m2025-03-27 01:32:43.471\u001b[0m | \u001b[1mINFO    \u001b[0m | \u001b[36m__main__\u001b[0m:\u001b[36m<module>\u001b[0m:\u001b[36m40\u001b[0m - \u001b[1mAfter removing ui: len(sample_df)=1824831\u001b[0m\n",
      "\u001b[32m2025-03-27 01:32:43.667\u001b[0m | \u001b[1mINFO    \u001b[0m | \u001b[36m__main__\u001b[0m:\u001b[36m<module>\u001b[0m:\u001b[36m23\u001b[0m - \u001b[1mSampling round 4 started\u001b[0m\n",
      "\u001b[32m2025-03-27 01:32:44.023\u001b[0m | \u001b[1mINFO    \u001b[0m | \u001b[36m__main__\u001b[0m:\u001b[36m<module>\u001b[0m:\u001b[36m27\u001b[0m - \u001b[1mlen(uu)=109\u001b[0m\n",
      "\u001b[32m2025-03-27 01:32:44.131\u001b[0m | \u001b[1mINFO    \u001b[0m | \u001b[36m__main__\u001b[0m:\u001b[36m<module>\u001b[0m:\u001b[36m31\u001b[0m - \u001b[1mAfter removing uu: len(sample_df)=1824396\u001b[0m\n",
      "\u001b[32m2025-03-27 01:32:44.629\u001b[0m | \u001b[1mINFO    \u001b[0m | \u001b[36m__main__\u001b[0m:\u001b[36m<module>\u001b[0m:\u001b[36m36\u001b[0m - \u001b[1mlen(ui)=7\u001b[0m\n",
      "\u001b[32m2025-03-27 01:32:44.746\u001b[0m | \u001b[1mINFO    \u001b[0m | \u001b[36m__main__\u001b[0m:\u001b[36m<module>\u001b[0m:\u001b[36m40\u001b[0m - \u001b[1mAfter removing ui: len(sample_df)=1824333\u001b[0m\n",
      "\u001b[32m2025-03-27 01:32:44.883\u001b[0m | \u001b[1mINFO    \u001b[0m | \u001b[36m__main__\u001b[0m:\u001b[36m<module>\u001b[0m:\u001b[36m23\u001b[0m - \u001b[1mSampling round 5 started\u001b[0m\n",
      "\u001b[32m2025-03-27 01:32:45.237\u001b[0m | \u001b[1mINFO    \u001b[0m | \u001b[36m__main__\u001b[0m:\u001b[36m<module>\u001b[0m:\u001b[36m27\u001b[0m - \u001b[1mlen(uu)=8\u001b[0m\n",
      "\u001b[32m2025-03-27 01:32:45.341\u001b[0m | \u001b[1mINFO    \u001b[0m | \u001b[36m__main__\u001b[0m:\u001b[36m<module>\u001b[0m:\u001b[36m31\u001b[0m - \u001b[1mAfter removing uu: len(sample_df)=1824301\u001b[0m\n",
      "\u001b[32m2025-03-27 01:32:45.831\u001b[0m | \u001b[1mINFO    \u001b[0m | \u001b[36m__main__\u001b[0m:\u001b[36m<module>\u001b[0m:\u001b[36m36\u001b[0m - \u001b[1mlen(ui)=2\u001b[0m\n",
      "\u001b[32m2025-03-27 01:32:45.940\u001b[0m | \u001b[1mINFO    \u001b[0m | \u001b[36m__main__\u001b[0m:\u001b[36m<module>\u001b[0m:\u001b[36m40\u001b[0m - \u001b[1mAfter removing ui: len(sample_df)=1824283\u001b[0m\n",
      "\u001b[32m2025-03-27 01:32:46.092\u001b[0m | \u001b[1mINFO    \u001b[0m | \u001b[36m__main__\u001b[0m:\u001b[36m<module>\u001b[0m:\u001b[36m23\u001b[0m - \u001b[1mSampling round 6 started\u001b[0m\n",
      "\u001b[32m2025-03-27 01:32:46.447\u001b[0m | \u001b[1mINFO    \u001b[0m | \u001b[36m__main__\u001b[0m:\u001b[36m<module>\u001b[0m:\u001b[36m27\u001b[0m - \u001b[1mlen(uu)=4\u001b[0m\n",
      "\u001b[32m2025-03-27 01:32:46.554\u001b[0m | \u001b[1mINFO    \u001b[0m | \u001b[36m__main__\u001b[0m:\u001b[36m<module>\u001b[0m:\u001b[36m31\u001b[0m - \u001b[1mAfter removing uu: len(sample_df)=1824267\u001b[0m\n",
      "\u001b[32m2025-03-27 01:32:47.049\u001b[0m | \u001b[1mINFO    \u001b[0m | \u001b[36m__main__\u001b[0m:\u001b[36m<module>\u001b[0m:\u001b[36m36\u001b[0m - \u001b[1mlen(ui)=0\u001b[0m\n",
      "\u001b[32m2025-03-27 01:32:47.049\u001b[0m | \u001b[1mINFO    \u001b[0m | \u001b[36m__main__\u001b[0m:\u001b[36m<module>\u001b[0m:\u001b[36m23\u001b[0m - \u001b[1mSampling round 7 started\u001b[0m\n",
      "\u001b[32m2025-03-27 01:32:47.405\u001b[0m | \u001b[1mINFO    \u001b[0m | \u001b[36m__main__\u001b[0m:\u001b[36m<module>\u001b[0m:\u001b[36m27\u001b[0m - \u001b[1mlen(uu)=0\u001b[0m\n",
      "\u001b[32m2025-03-27 01:32:47.554\u001b[0m | \u001b[1mINFO    \u001b[0m | \u001b[36m__main__\u001b[0m:\u001b[36m<module>\u001b[0m:\u001b[36m36\u001b[0m - \u001b[1mlen(ui)=0\u001b[0m\n",
      "\u001b[32m2025-03-27 01:32:47.761\u001b[0m | \u001b[1mINFO    \u001b[0m | \u001b[36m__main__\u001b[0m:\u001b[36m<module>\u001b[0m:\u001b[36m48\u001b[0m - \u001b[1mAfter randomly removing users - round 25: num_users=208697\u001b[0m\n",
      "\u001b[32m2025-03-27 01:32:47.761\u001b[0m | \u001b[1mINFO    \u001b[0m | \u001b[36m__main__\u001b[0m:\u001b[36m<module>\u001b[0m:\u001b[36m54\u001b[0m - \u001b[1mNumber of users 208697 are still greater than expected, keep removing...\u001b[0m\n"
     ]
    },
    {
     "name": "stdout",
     "output_type": "stream",
     "text": [
      "\n",
      "\n",
      "Randomly removing 10434 users - Round 26 started\n"
     ]
    },
    {
     "name": "stderr",
     "output_type": "stream",
     "text": [
      "\u001b[32m2025-03-27 01:32:48.577\u001b[0m | \u001b[1mINFO    \u001b[0m | \u001b[36m__main__\u001b[0m:\u001b[36m<module>\u001b[0m:\u001b[36m23\u001b[0m - \u001b[1mSampling round 1 started\u001b[0m\n",
      "\u001b[32m2025-03-27 01:32:48.950\u001b[0m | \u001b[1mINFO    \u001b[0m | \u001b[36m__main__\u001b[0m:\u001b[36m<module>\u001b[0m:\u001b[36m27\u001b[0m - \u001b[1mlen(uu)=0\u001b[0m\n",
      "\u001b[32m2025-03-27 01:32:49.096\u001b[0m | \u001b[1mINFO    \u001b[0m | \u001b[36m__main__\u001b[0m:\u001b[36m<module>\u001b[0m:\u001b[36m36\u001b[0m - \u001b[1mlen(ui)=2087\u001b[0m\n",
      "\u001b[32m2025-03-27 01:32:49.228\u001b[0m | \u001b[1mINFO    \u001b[0m | \u001b[36m__main__\u001b[0m:\u001b[36m<module>\u001b[0m:\u001b[36m40\u001b[0m - \u001b[1mAfter removing ui: len(sample_df)=1715032\u001b[0m\n",
      "\u001b[32m2025-03-27 01:32:49.359\u001b[0m | \u001b[1mINFO    \u001b[0m | \u001b[36m__main__\u001b[0m:\u001b[36m<module>\u001b[0m:\u001b[36m23\u001b[0m - \u001b[1mSampling round 2 started\u001b[0m\n",
      "\u001b[32m2025-03-27 01:32:49.711\u001b[0m | \u001b[1mINFO    \u001b[0m | \u001b[36m__main__\u001b[0m:\u001b[36m<module>\u001b[0m:\u001b[36m27\u001b[0m - \u001b[1mlen(uu)=3071\u001b[0m\n",
      "\u001b[32m2025-03-27 01:32:49.855\u001b[0m | \u001b[1mINFO    \u001b[0m | \u001b[36m__main__\u001b[0m:\u001b[36m<module>\u001b[0m:\u001b[36m31\u001b[0m - \u001b[1mAfter removing uu: len(sample_df)=1702820\u001b[0m\n",
      "\u001b[32m2025-03-27 01:32:50.343\u001b[0m | \u001b[1mINFO    \u001b[0m | \u001b[36m__main__\u001b[0m:\u001b[36m<module>\u001b[0m:\u001b[36m36\u001b[0m - \u001b[1mlen(ui)=327\u001b[0m\n",
      "\u001b[32m2025-03-27 01:32:50.488\u001b[0m | \u001b[1mINFO    \u001b[0m | \u001b[36m__main__\u001b[0m:\u001b[36m<module>\u001b[0m:\u001b[36m40\u001b[0m - \u001b[1mAfter removing ui: len(sample_df)=1699895\u001b[0m\n",
      "\u001b[32m2025-03-27 01:32:50.612\u001b[0m | \u001b[1mINFO    \u001b[0m | \u001b[36m__main__\u001b[0m:\u001b[36m<module>\u001b[0m:\u001b[36m23\u001b[0m - \u001b[1mSampling round 3 started\u001b[0m\n",
      "\u001b[32m2025-03-27 01:32:50.953\u001b[0m | \u001b[1mINFO    \u001b[0m | \u001b[36m__main__\u001b[0m:\u001b[36m<module>\u001b[0m:\u001b[36m27\u001b[0m - \u001b[1mlen(uu)=535\u001b[0m\n",
      "\u001b[32m2025-03-27 01:32:51.064\u001b[0m | \u001b[1mINFO    \u001b[0m | \u001b[36m__main__\u001b[0m:\u001b[36m<module>\u001b[0m:\u001b[36m31\u001b[0m - \u001b[1mAfter removing uu: len(sample_df)=1697756\u001b[0m\n",
      "\u001b[32m2025-03-27 01:32:51.542\u001b[0m | \u001b[1mINFO    \u001b[0m | \u001b[36m__main__\u001b[0m:\u001b[36m<module>\u001b[0m:\u001b[36m36\u001b[0m - \u001b[1mlen(ui)=46\u001b[0m\n",
      "\u001b[32m2025-03-27 01:32:51.692\u001b[0m | \u001b[1mINFO    \u001b[0m | \u001b[36m__main__\u001b[0m:\u001b[36m<module>\u001b[0m:\u001b[36m40\u001b[0m - \u001b[1mAfter removing ui: len(sample_df)=1697343\u001b[0m\n",
      "\u001b[32m2025-03-27 01:32:51.821\u001b[0m | \u001b[1mINFO    \u001b[0m | \u001b[36m__main__\u001b[0m:\u001b[36m<module>\u001b[0m:\u001b[36m23\u001b[0m - \u001b[1mSampling round 4 started\u001b[0m\n",
      "\u001b[32m2025-03-27 01:32:52.167\u001b[0m | \u001b[1mINFO    \u001b[0m | \u001b[36m__main__\u001b[0m:\u001b[36m<module>\u001b[0m:\u001b[36m27\u001b[0m - \u001b[1mlen(uu)=76\u001b[0m\n",
      "\u001b[32m2025-03-27 01:32:52.279\u001b[0m | \u001b[1mINFO    \u001b[0m | \u001b[36m__main__\u001b[0m:\u001b[36m<module>\u001b[0m:\u001b[36m31\u001b[0m - \u001b[1mAfter removing uu: len(sample_df)=1697039\u001b[0m\n",
      "\u001b[32m2025-03-27 01:32:52.749\u001b[0m | \u001b[1mINFO    \u001b[0m | \u001b[36m__main__\u001b[0m:\u001b[36m<module>\u001b[0m:\u001b[36m36\u001b[0m - \u001b[1mlen(ui)=7\u001b[0m\n",
      "\u001b[32m2025-03-27 01:32:52.859\u001b[0m | \u001b[1mINFO    \u001b[0m | \u001b[36m__main__\u001b[0m:\u001b[36m<module>\u001b[0m:\u001b[36m40\u001b[0m - \u001b[1mAfter removing ui: len(sample_df)=1696976\u001b[0m\n",
      "\u001b[32m2025-03-27 01:32:52.988\u001b[0m | \u001b[1mINFO    \u001b[0m | \u001b[36m__main__\u001b[0m:\u001b[36m<module>\u001b[0m:\u001b[36m23\u001b[0m - \u001b[1mSampling round 5 started\u001b[0m\n",
      "\u001b[32m2025-03-27 01:32:53.330\u001b[0m | \u001b[1mINFO    \u001b[0m | \u001b[36m__main__\u001b[0m:\u001b[36m<module>\u001b[0m:\u001b[36m27\u001b[0m - \u001b[1mlen(uu)=18\u001b[0m\n",
      "\u001b[32m2025-03-27 01:32:53.434\u001b[0m | \u001b[1mINFO    \u001b[0m | \u001b[36m__main__\u001b[0m:\u001b[36m<module>\u001b[0m:\u001b[36m31\u001b[0m - \u001b[1mAfter removing uu: len(sample_df)=1696904\u001b[0m\n",
      "\u001b[32m2025-03-27 01:32:53.922\u001b[0m | \u001b[1mINFO    \u001b[0m | \u001b[36m__main__\u001b[0m:\u001b[36m<module>\u001b[0m:\u001b[36m36\u001b[0m - \u001b[1mlen(ui)=0\u001b[0m\n",
      "\u001b[32m2025-03-27 01:32:53.923\u001b[0m | \u001b[1mINFO    \u001b[0m | \u001b[36m__main__\u001b[0m:\u001b[36m<module>\u001b[0m:\u001b[36m23\u001b[0m - \u001b[1mSampling round 6 started\u001b[0m\n",
      "\u001b[32m2025-03-27 01:32:54.274\u001b[0m | \u001b[1mINFO    \u001b[0m | \u001b[36m__main__\u001b[0m:\u001b[36m<module>\u001b[0m:\u001b[36m27\u001b[0m - \u001b[1mlen(uu)=0\u001b[0m\n",
      "\u001b[32m2025-03-27 01:32:54.411\u001b[0m | \u001b[1mINFO    \u001b[0m | \u001b[36m__main__\u001b[0m:\u001b[36m<module>\u001b[0m:\u001b[36m36\u001b[0m - \u001b[1mlen(ui)=0\u001b[0m\n",
      "\u001b[32m2025-03-27 01:32:54.601\u001b[0m | \u001b[1mINFO    \u001b[0m | \u001b[36m__main__\u001b[0m:\u001b[36m<module>\u001b[0m:\u001b[36m48\u001b[0m - \u001b[1mAfter randomly removing users - round 26: num_users=194563\u001b[0m\n",
      "\u001b[32m2025-03-27 01:32:54.602\u001b[0m | \u001b[1mINFO    \u001b[0m | \u001b[36m__main__\u001b[0m:\u001b[36m<module>\u001b[0m:\u001b[36m54\u001b[0m - \u001b[1mNumber of users 194563 are still greater than expected, keep removing...\u001b[0m\n",
      "\u001b[32m2025-03-27 01:32:55.510\u001b[0m | \u001b[1mINFO    \u001b[0m | \u001b[36m__main__\u001b[0m:\u001b[36m<module>\u001b[0m:\u001b[36m23\u001b[0m - \u001b[1mSampling round 1 started\u001b[0m\n"
     ]
    },
    {
     "name": "stdout",
     "output_type": "stream",
     "text": [
      "\n",
      "\n",
      "Randomly removing 9728 users - Round 27 started\n"
     ]
    },
    {
     "name": "stderr",
     "output_type": "stream",
     "text": [
      "\u001b[32m2025-03-27 01:32:55.828\u001b[0m | \u001b[1mINFO    \u001b[0m | \u001b[36m__main__\u001b[0m:\u001b[36m<module>\u001b[0m:\u001b[36m27\u001b[0m - \u001b[1mlen(uu)=0\u001b[0m\n",
      "\u001b[32m2025-03-27 01:32:55.958\u001b[0m | \u001b[1mINFO    \u001b[0m | \u001b[36m__main__\u001b[0m:\u001b[36m<module>\u001b[0m:\u001b[36m36\u001b[0m - \u001b[1mlen(ui)=1975\u001b[0m\n",
      "\u001b[32m2025-03-27 01:32:56.075\u001b[0m | \u001b[1mINFO    \u001b[0m | \u001b[36m__main__\u001b[0m:\u001b[36m<module>\u001b[0m:\u001b[36m40\u001b[0m - \u001b[1mAfter removing ui: len(sample_df)=1595181\u001b[0m\n",
      "\u001b[32m2025-03-27 01:32:56.205\u001b[0m | \u001b[1mINFO    \u001b[0m | \u001b[36m__main__\u001b[0m:\u001b[36m<module>\u001b[0m:\u001b[36m23\u001b[0m - \u001b[1mSampling round 2 started\u001b[0m\n",
      "\u001b[32m2025-03-27 01:32:56.528\u001b[0m | \u001b[1mINFO    \u001b[0m | \u001b[36m__main__\u001b[0m:\u001b[36m<module>\u001b[0m:\u001b[36m27\u001b[0m - \u001b[1mlen(uu)=2961\u001b[0m\n",
      "\u001b[32m2025-03-27 01:32:56.654\u001b[0m | \u001b[1mINFO    \u001b[0m | \u001b[36m__main__\u001b[0m:\u001b[36m<module>\u001b[0m:\u001b[36m31\u001b[0m - \u001b[1mAfter removing uu: len(sample_df)=1583409\u001b[0m\n",
      "\u001b[32m2025-03-27 01:32:57.074\u001b[0m | \u001b[1mINFO    \u001b[0m | \u001b[36m__main__\u001b[0m:\u001b[36m<module>\u001b[0m:\u001b[36m36\u001b[0m - \u001b[1mlen(ui)=305\u001b[0m\n",
      "\u001b[32m2025-03-27 01:32:57.198\u001b[0m | \u001b[1mINFO    \u001b[0m | \u001b[36m__main__\u001b[0m:\u001b[36m<module>\u001b[0m:\u001b[36m40\u001b[0m - \u001b[1mAfter removing ui: len(sample_df)=1580675\u001b[0m\n",
      "\u001b[32m2025-03-27 01:32:57.318\u001b[0m | \u001b[1mINFO    \u001b[0m | \u001b[36m__main__\u001b[0m:\u001b[36m<module>\u001b[0m:\u001b[36m23\u001b[0m - \u001b[1mSampling round 3 started\u001b[0m\n",
      "\u001b[32m2025-03-27 01:32:57.629\u001b[0m | \u001b[1mINFO    \u001b[0m | \u001b[36m__main__\u001b[0m:\u001b[36m<module>\u001b[0m:\u001b[36m27\u001b[0m - \u001b[1mlen(uu)=491\u001b[0m\n",
      "\u001b[32m2025-03-27 01:32:57.723\u001b[0m | \u001b[1mINFO    \u001b[0m | \u001b[36m__main__\u001b[0m:\u001b[36m<module>\u001b[0m:\u001b[36m31\u001b[0m - \u001b[1mAfter removing uu: len(sample_df)=1578713\u001b[0m\n",
      "\u001b[32m2025-03-27 01:32:58.140\u001b[0m | \u001b[1mINFO    \u001b[0m | \u001b[36m__main__\u001b[0m:\u001b[36m<module>\u001b[0m:\u001b[36m36\u001b[0m - \u001b[1mlen(ui)=52\u001b[0m\n",
      "\u001b[32m2025-03-27 01:32:58.236\u001b[0m | \u001b[1mINFO    \u001b[0m | \u001b[36m__main__\u001b[0m:\u001b[36m<module>\u001b[0m:\u001b[36m40\u001b[0m - \u001b[1mAfter removing ui: len(sample_df)=1578245\u001b[0m\n",
      "\u001b[32m2025-03-27 01:32:58.355\u001b[0m | \u001b[1mINFO    \u001b[0m | \u001b[36m__main__\u001b[0m:\u001b[36m<module>\u001b[0m:\u001b[36m23\u001b[0m - \u001b[1mSampling round 4 started\u001b[0m\n",
      "\u001b[32m2025-03-27 01:32:58.658\u001b[0m | \u001b[1mINFO    \u001b[0m | \u001b[36m__main__\u001b[0m:\u001b[36m<module>\u001b[0m:\u001b[36m27\u001b[0m - \u001b[1mlen(uu)=84\u001b[0m\n",
      "\u001b[32m2025-03-27 01:32:58.766\u001b[0m | \u001b[1mINFO    \u001b[0m | \u001b[36m__main__\u001b[0m:\u001b[36m<module>\u001b[0m:\u001b[36m31\u001b[0m - \u001b[1mAfter removing uu: len(sample_df)=1577909\u001b[0m\n",
      "\u001b[32m2025-03-27 01:32:59.191\u001b[0m | \u001b[1mINFO    \u001b[0m | \u001b[36m__main__\u001b[0m:\u001b[36m<module>\u001b[0m:\u001b[36m36\u001b[0m - \u001b[1mlen(ui)=4\u001b[0m\n",
      "\u001b[32m2025-03-27 01:32:59.293\u001b[0m | \u001b[1mINFO    \u001b[0m | \u001b[36m__main__\u001b[0m:\u001b[36m<module>\u001b[0m:\u001b[36m40\u001b[0m - \u001b[1mAfter removing ui: len(sample_df)=1577873\u001b[0m\n",
      "\u001b[32m2025-03-27 01:32:59.411\u001b[0m | \u001b[1mINFO    \u001b[0m | \u001b[36m__main__\u001b[0m:\u001b[36m<module>\u001b[0m:\u001b[36m23\u001b[0m - \u001b[1mSampling round 5 started\u001b[0m\n",
      "\u001b[32m2025-03-27 01:32:59.720\u001b[0m | \u001b[1mINFO    \u001b[0m | \u001b[36m__main__\u001b[0m:\u001b[36m<module>\u001b[0m:\u001b[36m27\u001b[0m - \u001b[1mlen(uu)=7\u001b[0m\n",
      "\u001b[32m2025-03-27 01:32:59.809\u001b[0m | \u001b[1mINFO    \u001b[0m | \u001b[36m__main__\u001b[0m:\u001b[36m<module>\u001b[0m:\u001b[36m31\u001b[0m - \u001b[1mAfter removing uu: len(sample_df)=1577845\u001b[0m\n",
      "\u001b[32m2025-03-27 01:33:00.237\u001b[0m | \u001b[1mINFO    \u001b[0m | \u001b[36m__main__\u001b[0m:\u001b[36m<module>\u001b[0m:\u001b[36m36\u001b[0m - \u001b[1mlen(ui)=1\u001b[0m\n",
      "\u001b[32m2025-03-27 01:33:00.347\u001b[0m | \u001b[1mINFO    \u001b[0m | \u001b[36m__main__\u001b[0m:\u001b[36m<module>\u001b[0m:\u001b[36m40\u001b[0m - \u001b[1mAfter removing ui: len(sample_df)=1577836\u001b[0m\n",
      "\u001b[32m2025-03-27 01:33:00.491\u001b[0m | \u001b[1mINFO    \u001b[0m | \u001b[36m__main__\u001b[0m:\u001b[36m<module>\u001b[0m:\u001b[36m23\u001b[0m - \u001b[1mSampling round 6 started\u001b[0m\n",
      "\u001b[32m2025-03-27 01:33:00.802\u001b[0m | \u001b[1mINFO    \u001b[0m | \u001b[36m__main__\u001b[0m:\u001b[36m<module>\u001b[0m:\u001b[36m27\u001b[0m - \u001b[1mlen(uu)=0\u001b[0m\n",
      "\u001b[32m2025-03-27 01:33:00.928\u001b[0m | \u001b[1mINFO    \u001b[0m | \u001b[36m__main__\u001b[0m:\u001b[36m<module>\u001b[0m:\u001b[36m36\u001b[0m - \u001b[1mlen(ui)=0\u001b[0m\n",
      "\u001b[32m2025-03-27 01:33:01.101\u001b[0m | \u001b[1mINFO    \u001b[0m | \u001b[36m__main__\u001b[0m:\u001b[36m<module>\u001b[0m:\u001b[36m48\u001b[0m - \u001b[1mAfter randomly removing users - round 27: num_users=181292\u001b[0m\n",
      "\u001b[32m2025-03-27 01:33:01.101\u001b[0m | \u001b[1mINFO    \u001b[0m | \u001b[36m__main__\u001b[0m:\u001b[36m<module>\u001b[0m:\u001b[36m54\u001b[0m - \u001b[1mNumber of users 181292 are still greater than expected, keep removing...\u001b[0m\n",
      "\u001b[32m2025-03-27 01:33:01.889\u001b[0m | \u001b[1mINFO    \u001b[0m | \u001b[36m__main__\u001b[0m:\u001b[36m<module>\u001b[0m:\u001b[36m23\u001b[0m - \u001b[1mSampling round 1 started\u001b[0m\n"
     ]
    },
    {
     "name": "stdout",
     "output_type": "stream",
     "text": [
      "\n",
      "\n",
      "Randomly removing 9064 users - Round 28 started\n"
     ]
    },
    {
     "name": "stderr",
     "output_type": "stream",
     "text": [
      "\u001b[32m2025-03-27 01:33:02.179\u001b[0m | \u001b[1mINFO    \u001b[0m | \u001b[36m__main__\u001b[0m:\u001b[36m<module>\u001b[0m:\u001b[36m27\u001b[0m - \u001b[1mlen(uu)=0\u001b[0m\n",
      "\u001b[32m2025-03-27 01:33:02.306\u001b[0m | \u001b[1mINFO    \u001b[0m | \u001b[36m__main__\u001b[0m:\u001b[36m<module>\u001b[0m:\u001b[36m36\u001b[0m - \u001b[1mlen(ui)=1914\u001b[0m\n",
      "\u001b[32m2025-03-27 01:33:02.412\u001b[0m | \u001b[1mINFO    \u001b[0m | \u001b[36m__main__\u001b[0m:\u001b[36m<module>\u001b[0m:\u001b[36m40\u001b[0m - \u001b[1mAfter removing ui: len(sample_df)=1482994\u001b[0m\n",
      "\u001b[32m2025-03-27 01:33:02.526\u001b[0m | \u001b[1mINFO    \u001b[0m | \u001b[36m__main__\u001b[0m:\u001b[36m<module>\u001b[0m:\u001b[36m23\u001b[0m - \u001b[1mSampling round 2 started\u001b[0m\n",
      "\u001b[32m2025-03-27 01:33:02.817\u001b[0m | \u001b[1mINFO    \u001b[0m | \u001b[36m__main__\u001b[0m:\u001b[36m<module>\u001b[0m:\u001b[36m27\u001b[0m - \u001b[1mlen(uu)=2842\u001b[0m\n",
      "\u001b[32m2025-03-27 01:33:02.932\u001b[0m | \u001b[1mINFO    \u001b[0m | \u001b[36m__main__\u001b[0m:\u001b[36m<module>\u001b[0m:\u001b[36m31\u001b[0m - \u001b[1mAfter removing uu: len(sample_df)=1471696\u001b[0m\n",
      "\u001b[32m2025-03-27 01:33:03.340\u001b[0m | \u001b[1mINFO    \u001b[0m | \u001b[36m__main__\u001b[0m:\u001b[36m<module>\u001b[0m:\u001b[36m36\u001b[0m - \u001b[1mlen(ui)=330\u001b[0m\n",
      "\u001b[32m2025-03-27 01:33:03.464\u001b[0m | \u001b[1mINFO    \u001b[0m | \u001b[36m__main__\u001b[0m:\u001b[36m<module>\u001b[0m:\u001b[36m40\u001b[0m - \u001b[1mAfter removing ui: len(sample_df)=1468739\u001b[0m\n",
      "\u001b[32m2025-03-27 01:33:03.573\u001b[0m | \u001b[1mINFO    \u001b[0m | \u001b[36m__main__\u001b[0m:\u001b[36m<module>\u001b[0m:\u001b[36m23\u001b[0m - \u001b[1mSampling round 3 started\u001b[0m\n",
      "\u001b[32m2025-03-27 01:33:03.859\u001b[0m | \u001b[1mINFO    \u001b[0m | \u001b[36m__main__\u001b[0m:\u001b[36m<module>\u001b[0m:\u001b[36m27\u001b[0m - \u001b[1mlen(uu)=525\u001b[0m\n",
      "\u001b[32m2025-03-27 01:33:03.949\u001b[0m | \u001b[1mINFO    \u001b[0m | \u001b[36m__main__\u001b[0m:\u001b[36m<module>\u001b[0m:\u001b[36m31\u001b[0m - \u001b[1mAfter removing uu: len(sample_df)=1466641\u001b[0m\n",
      "\u001b[32m2025-03-27 01:33:04.358\u001b[0m | \u001b[1mINFO    \u001b[0m | \u001b[36m__main__\u001b[0m:\u001b[36m<module>\u001b[0m:\u001b[36m36\u001b[0m - \u001b[1mlen(ui)=64\u001b[0m\n",
      "\u001b[32m2025-03-27 01:33:04.466\u001b[0m | \u001b[1mINFO    \u001b[0m | \u001b[36m__main__\u001b[0m:\u001b[36m<module>\u001b[0m:\u001b[36m40\u001b[0m - \u001b[1mAfter removing ui: len(sample_df)=1466065\u001b[0m\n",
      "\u001b[32m2025-03-27 01:33:04.573\u001b[0m | \u001b[1mINFO    \u001b[0m | \u001b[36m__main__\u001b[0m:\u001b[36m<module>\u001b[0m:\u001b[36m23\u001b[0m - \u001b[1mSampling round 4 started\u001b[0m\n",
      "\u001b[32m2025-03-27 01:33:04.857\u001b[0m | \u001b[1mINFO    \u001b[0m | \u001b[36m__main__\u001b[0m:\u001b[36m<module>\u001b[0m:\u001b[36m27\u001b[0m - \u001b[1mlen(uu)=125\u001b[0m\n",
      "\u001b[32m2025-03-27 01:33:04.944\u001b[0m | \u001b[1mINFO    \u001b[0m | \u001b[36m__main__\u001b[0m:\u001b[36m<module>\u001b[0m:\u001b[36m31\u001b[0m - \u001b[1mAfter removing uu: len(sample_df)=1465565\u001b[0m\n",
      "\u001b[32m2025-03-27 01:33:05.346\u001b[0m | \u001b[1mINFO    \u001b[0m | \u001b[36m__main__\u001b[0m:\u001b[36m<module>\u001b[0m:\u001b[36m36\u001b[0m - \u001b[1mlen(ui)=12\u001b[0m\n",
      "\u001b[32m2025-03-27 01:33:05.478\u001b[0m | \u001b[1mINFO    \u001b[0m | \u001b[36m__main__\u001b[0m:\u001b[36m<module>\u001b[0m:\u001b[36m40\u001b[0m - \u001b[1mAfter removing ui: len(sample_df)=1465457\u001b[0m\n",
      "\u001b[32m2025-03-27 01:33:05.587\u001b[0m | \u001b[1mINFO    \u001b[0m | \u001b[36m__main__\u001b[0m:\u001b[36m<module>\u001b[0m:\u001b[36m23\u001b[0m - \u001b[1mSampling round 5 started\u001b[0m\n",
      "\u001b[32m2025-03-27 01:33:05.882\u001b[0m | \u001b[1mINFO    \u001b[0m | \u001b[36m__main__\u001b[0m:\u001b[36m<module>\u001b[0m:\u001b[36m27\u001b[0m - \u001b[1mlen(uu)=26\u001b[0m\n",
      "\u001b[32m2025-03-27 01:33:05.969\u001b[0m | \u001b[1mINFO    \u001b[0m | \u001b[36m__main__\u001b[0m:\u001b[36m<module>\u001b[0m:\u001b[36m31\u001b[0m - \u001b[1mAfter removing uu: len(sample_df)=1465353\u001b[0m\n",
      "\u001b[32m2025-03-27 01:33:06.365\u001b[0m | \u001b[1mINFO    \u001b[0m | \u001b[36m__main__\u001b[0m:\u001b[36m<module>\u001b[0m:\u001b[36m36\u001b[0m - \u001b[1mlen(ui)=2\u001b[0m\n",
      "\u001b[32m2025-03-27 01:33:06.458\u001b[0m | \u001b[1mINFO    \u001b[0m | \u001b[36m__main__\u001b[0m:\u001b[36m<module>\u001b[0m:\u001b[36m40\u001b[0m - \u001b[1mAfter removing ui: len(sample_df)=1465335\u001b[0m\n",
      "\u001b[32m2025-03-27 01:33:06.569\u001b[0m | \u001b[1mINFO    \u001b[0m | \u001b[36m__main__\u001b[0m:\u001b[36m<module>\u001b[0m:\u001b[36m23\u001b[0m - \u001b[1mSampling round 6 started\u001b[0m\n",
      "\u001b[32m2025-03-27 01:33:06.857\u001b[0m | \u001b[1mINFO    \u001b[0m | \u001b[36m__main__\u001b[0m:\u001b[36m<module>\u001b[0m:\u001b[36m27\u001b[0m - \u001b[1mlen(uu)=4\u001b[0m\n",
      "\u001b[32m2025-03-27 01:33:06.941\u001b[0m | \u001b[1mINFO    \u001b[0m | \u001b[36m__main__\u001b[0m:\u001b[36m<module>\u001b[0m:\u001b[36m31\u001b[0m - \u001b[1mAfter removing uu: len(sample_df)=1465319\u001b[0m\n",
      "\u001b[32m2025-03-27 01:33:07.322\u001b[0m | \u001b[1mINFO    \u001b[0m | \u001b[36m__main__\u001b[0m:\u001b[36m<module>\u001b[0m:\u001b[36m36\u001b[0m - \u001b[1mlen(ui)=0\u001b[0m\n",
      "\u001b[32m2025-03-27 01:33:07.323\u001b[0m | \u001b[1mINFO    \u001b[0m | \u001b[36m__main__\u001b[0m:\u001b[36m<module>\u001b[0m:\u001b[36m23\u001b[0m - \u001b[1mSampling round 7 started\u001b[0m\n",
      "\u001b[32m2025-03-27 01:33:07.599\u001b[0m | \u001b[1mINFO    \u001b[0m | \u001b[36m__main__\u001b[0m:\u001b[36m<module>\u001b[0m:\u001b[36m27\u001b[0m - \u001b[1mlen(uu)=0\u001b[0m\n",
      "\u001b[32m2025-03-27 01:33:07.712\u001b[0m | \u001b[1mINFO    \u001b[0m | \u001b[36m__main__\u001b[0m:\u001b[36m<module>\u001b[0m:\u001b[36m36\u001b[0m - \u001b[1mlen(ui)=0\u001b[0m\n",
      "\u001b[32m2025-03-27 01:33:07.879\u001b[0m | \u001b[1mINFO    \u001b[0m | \u001b[36m__main__\u001b[0m:\u001b[36m<module>\u001b[0m:\u001b[36m48\u001b[0m - \u001b[1mAfter randomly removing users - round 28: num_users=168706\u001b[0m\n",
      "\u001b[32m2025-03-27 01:33:07.879\u001b[0m | \u001b[1mINFO    \u001b[0m | \u001b[36m__main__\u001b[0m:\u001b[36m<module>\u001b[0m:\u001b[36m54\u001b[0m - \u001b[1mNumber of users 168706 are still greater than expected, keep removing...\u001b[0m\n",
      "\u001b[32m2025-03-27 01:33:08.610\u001b[0m | \u001b[1mINFO    \u001b[0m | \u001b[36m__main__\u001b[0m:\u001b[36m<module>\u001b[0m:\u001b[36m23\u001b[0m - \u001b[1mSampling round 1 started\u001b[0m\n"
     ]
    },
    {
     "name": "stdout",
     "output_type": "stream",
     "text": [
      "\n",
      "\n",
      "Randomly removing 8435 users - Round 29 started\n"
     ]
    },
    {
     "name": "stderr",
     "output_type": "stream",
     "text": [
      "\u001b[32m2025-03-27 01:33:08.876\u001b[0m | \u001b[1mINFO    \u001b[0m | \u001b[36m__main__\u001b[0m:\u001b[36m<module>\u001b[0m:\u001b[36m27\u001b[0m - \u001b[1mlen(uu)=0\u001b[0m\n",
      "\u001b[32m2025-03-27 01:33:08.983\u001b[0m | \u001b[1mINFO    \u001b[0m | \u001b[36m__main__\u001b[0m:\u001b[36m<module>\u001b[0m:\u001b[36m36\u001b[0m - \u001b[1mlen(ui)=1773\u001b[0m\n",
      "\u001b[32m2025-03-27 01:33:09.075\u001b[0m | \u001b[1mINFO    \u001b[0m | \u001b[36m__main__\u001b[0m:\u001b[36m<module>\u001b[0m:\u001b[36m40\u001b[0m - \u001b[1mAfter removing ui: len(sample_df)=1376942\u001b[0m\n",
      "\u001b[32m2025-03-27 01:33:09.173\u001b[0m | \u001b[1mINFO    \u001b[0m | \u001b[36m__main__\u001b[0m:\u001b[36m<module>\u001b[0m:\u001b[36m23\u001b[0m - \u001b[1mSampling round 2 started\u001b[0m\n",
      "\u001b[32m2025-03-27 01:33:09.441\u001b[0m | \u001b[1mINFO    \u001b[0m | \u001b[36m__main__\u001b[0m:\u001b[36m<module>\u001b[0m:\u001b[36m27\u001b[0m - \u001b[1mlen(uu)=2627\u001b[0m\n",
      "\u001b[32m2025-03-27 01:33:09.540\u001b[0m | \u001b[1mINFO    \u001b[0m | \u001b[36m__main__\u001b[0m:\u001b[36m<module>\u001b[0m:\u001b[36m31\u001b[0m - \u001b[1mAfter removing uu: len(sample_df)=1366495\u001b[0m\n",
      "\u001b[32m2025-03-27 01:33:09.895\u001b[0m | \u001b[1mINFO    \u001b[0m | \u001b[36m__main__\u001b[0m:\u001b[36m<module>\u001b[0m:\u001b[36m36\u001b[0m - \u001b[1mlen(ui)=293\u001b[0m\n",
      "\u001b[32m2025-03-27 01:33:10.000\u001b[0m | \u001b[1mINFO    \u001b[0m | \u001b[36m__main__\u001b[0m:\u001b[36m<module>\u001b[0m:\u001b[36m40\u001b[0m - \u001b[1mAfter removing ui: len(sample_df)=1363873\u001b[0m\n",
      "\u001b[32m2025-03-27 01:33:10.085\u001b[0m | \u001b[1mINFO    \u001b[0m | \u001b[36m__main__\u001b[0m:\u001b[36m<module>\u001b[0m:\u001b[36m23\u001b[0m - \u001b[1mSampling round 3 started\u001b[0m\n",
      "\u001b[32m2025-03-27 01:33:10.340\u001b[0m | \u001b[1mINFO    \u001b[0m | \u001b[36m__main__\u001b[0m:\u001b[36m<module>\u001b[0m:\u001b[36m27\u001b[0m - \u001b[1mlen(uu)=454\u001b[0m\n",
      "\u001b[32m2025-03-27 01:33:10.415\u001b[0m | \u001b[1mINFO    \u001b[0m | \u001b[36m__main__\u001b[0m:\u001b[36m<module>\u001b[0m:\u001b[36m31\u001b[0m - \u001b[1mAfter removing uu: len(sample_df)=1362060\u001b[0m\n",
      "\u001b[32m2025-03-27 01:33:10.777\u001b[0m | \u001b[1mINFO    \u001b[0m | \u001b[36m__main__\u001b[0m:\u001b[36m<module>\u001b[0m:\u001b[36m36\u001b[0m - \u001b[1mlen(ui)=50\u001b[0m\n",
      "\u001b[32m2025-03-27 01:33:10.857\u001b[0m | \u001b[1mINFO    \u001b[0m | \u001b[36m__main__\u001b[0m:\u001b[36m<module>\u001b[0m:\u001b[36m40\u001b[0m - \u001b[1mAfter removing ui: len(sample_df)=1361610\u001b[0m\n",
      "\u001b[32m2025-03-27 01:33:10.959\u001b[0m | \u001b[1mINFO    \u001b[0m | \u001b[36m__main__\u001b[0m:\u001b[36m<module>\u001b[0m:\u001b[36m23\u001b[0m - \u001b[1mSampling round 4 started\u001b[0m\n",
      "\u001b[32m2025-03-27 01:33:11.221\u001b[0m | \u001b[1mINFO    \u001b[0m | \u001b[36m__main__\u001b[0m:\u001b[36m<module>\u001b[0m:\u001b[36m27\u001b[0m - \u001b[1mlen(uu)=89\u001b[0m\n",
      "\u001b[32m2025-03-27 01:33:11.322\u001b[0m | \u001b[1mINFO    \u001b[0m | \u001b[36m__main__\u001b[0m:\u001b[36m<module>\u001b[0m:\u001b[36m31\u001b[0m - \u001b[1mAfter removing uu: len(sample_df)=1361254\u001b[0m\n",
      "\u001b[32m2025-03-27 01:33:11.670\u001b[0m | \u001b[1mINFO    \u001b[0m | \u001b[36m__main__\u001b[0m:\u001b[36m<module>\u001b[0m:\u001b[36m36\u001b[0m - \u001b[1mlen(ui)=14\u001b[0m\n",
      "\u001b[32m2025-03-27 01:33:11.754\u001b[0m | \u001b[1mINFO    \u001b[0m | \u001b[36m__main__\u001b[0m:\u001b[36m<module>\u001b[0m:\u001b[36m40\u001b[0m - \u001b[1mAfter removing ui: len(sample_df)=1361128\u001b[0m\n",
      "\u001b[32m2025-03-27 01:33:11.853\u001b[0m | \u001b[1mINFO    \u001b[0m | \u001b[36m__main__\u001b[0m:\u001b[36m<module>\u001b[0m:\u001b[36m23\u001b[0m - \u001b[1mSampling round 5 started\u001b[0m\n",
      "\u001b[32m2025-03-27 01:33:12.105\u001b[0m | \u001b[1mINFO    \u001b[0m | \u001b[36m__main__\u001b[0m:\u001b[36m<module>\u001b[0m:\u001b[36m27\u001b[0m - \u001b[1mlen(uu)=29\u001b[0m\n",
      "\u001b[32m2025-03-27 01:33:12.184\u001b[0m | \u001b[1mINFO    \u001b[0m | \u001b[36m__main__\u001b[0m:\u001b[36m<module>\u001b[0m:\u001b[36m31\u001b[0m - \u001b[1mAfter removing uu: len(sample_df)=1361012\u001b[0m\n",
      "\u001b[32m2025-03-27 01:33:12.535\u001b[0m | \u001b[1mINFO    \u001b[0m | \u001b[36m__main__\u001b[0m:\u001b[36m<module>\u001b[0m:\u001b[36m36\u001b[0m - \u001b[1mlen(ui)=4\u001b[0m\n",
      "\u001b[32m2025-03-27 01:33:12.631\u001b[0m | \u001b[1mINFO    \u001b[0m | \u001b[36m__main__\u001b[0m:\u001b[36m<module>\u001b[0m:\u001b[36m40\u001b[0m - \u001b[1mAfter removing ui: len(sample_df)=1360976\u001b[0m\n",
      "\u001b[32m2025-03-27 01:33:12.728\u001b[0m | \u001b[1mINFO    \u001b[0m | \u001b[36m__main__\u001b[0m:\u001b[36m<module>\u001b[0m:\u001b[36m23\u001b[0m - \u001b[1mSampling round 6 started\u001b[0m\n",
      "\u001b[32m2025-03-27 01:33:13.003\u001b[0m | \u001b[1mINFO    \u001b[0m | \u001b[36m__main__\u001b[0m:\u001b[36m<module>\u001b[0m:\u001b[36m27\u001b[0m - \u001b[1mlen(uu)=6\u001b[0m\n",
      "\u001b[32m2025-03-27 01:33:13.098\u001b[0m | \u001b[1mINFO    \u001b[0m | \u001b[36m__main__\u001b[0m:\u001b[36m<module>\u001b[0m:\u001b[36m31\u001b[0m - \u001b[1mAfter removing uu: len(sample_df)=1360952\u001b[0m\n",
      "\u001b[32m2025-03-27 01:33:13.451\u001b[0m | \u001b[1mINFO    \u001b[0m | \u001b[36m__main__\u001b[0m:\u001b[36m<module>\u001b[0m:\u001b[36m36\u001b[0m - \u001b[1mlen(ui)=1\u001b[0m\n",
      "\u001b[32m2025-03-27 01:33:13.518\u001b[0m | \u001b[1mINFO    \u001b[0m | \u001b[36m__main__\u001b[0m:\u001b[36m<module>\u001b[0m:\u001b[36m40\u001b[0m - \u001b[1mAfter removing ui: len(sample_df)=1360943\u001b[0m\n",
      "\u001b[32m2025-03-27 01:33:13.613\u001b[0m | \u001b[1mINFO    \u001b[0m | \u001b[36m__main__\u001b[0m:\u001b[36m<module>\u001b[0m:\u001b[36m23\u001b[0m - \u001b[1mSampling round 7 started\u001b[0m\n",
      "\u001b[32m2025-03-27 01:33:13.875\u001b[0m | \u001b[1mINFO    \u001b[0m | \u001b[36m__main__\u001b[0m:\u001b[36m<module>\u001b[0m:\u001b[36m27\u001b[0m - \u001b[1mlen(uu)=1\u001b[0m\n",
      "\u001b[32m2025-03-27 01:33:13.947\u001b[0m | \u001b[1mINFO    \u001b[0m | \u001b[36m__main__\u001b[0m:\u001b[36m<module>\u001b[0m:\u001b[36m31\u001b[0m - \u001b[1mAfter removing uu: len(sample_df)=1360939\u001b[0m\n",
      "\u001b[32m2025-03-27 01:33:14.305\u001b[0m | \u001b[1mINFO    \u001b[0m | \u001b[36m__main__\u001b[0m:\u001b[36m<module>\u001b[0m:\u001b[36m36\u001b[0m - \u001b[1mlen(ui)=0\u001b[0m\n",
      "\u001b[32m2025-03-27 01:33:14.306\u001b[0m | \u001b[1mINFO    \u001b[0m | \u001b[36m__main__\u001b[0m:\u001b[36m<module>\u001b[0m:\u001b[36m23\u001b[0m - \u001b[1mSampling round 8 started\u001b[0m\n",
      "\u001b[32m2025-03-27 01:33:14.571\u001b[0m | \u001b[1mINFO    \u001b[0m | \u001b[36m__main__\u001b[0m:\u001b[36m<module>\u001b[0m:\u001b[36m27\u001b[0m - \u001b[1mlen(uu)=0\u001b[0m\n",
      "\u001b[32m2025-03-27 01:33:14.678\u001b[0m | \u001b[1mINFO    \u001b[0m | \u001b[36m__main__\u001b[0m:\u001b[36m<module>\u001b[0m:\u001b[36m36\u001b[0m - \u001b[1mlen(ui)=0\u001b[0m\n",
      "\u001b[32m2025-03-27 01:33:14.836\u001b[0m | \u001b[1mINFO    \u001b[0m | \u001b[36m__main__\u001b[0m:\u001b[36m<module>\u001b[0m:\u001b[36m48\u001b[0m - \u001b[1mAfter randomly removing users - round 29: num_users=157065\u001b[0m\n",
      "\u001b[32m2025-03-27 01:33:14.836\u001b[0m | \u001b[1mINFO    \u001b[0m | \u001b[36m__main__\u001b[0m:\u001b[36m<module>\u001b[0m:\u001b[36m54\u001b[0m - \u001b[1mNumber of users 157065 are still greater than expected, keep removing...\u001b[0m\n",
      "\u001b[32m2025-03-27 01:33:15.499\u001b[0m | \u001b[1mINFO    \u001b[0m | \u001b[36m__main__\u001b[0m:\u001b[36m<module>\u001b[0m:\u001b[36m23\u001b[0m - \u001b[1mSampling round 1 started\u001b[0m\n"
     ]
    },
    {
     "name": "stdout",
     "output_type": "stream",
     "text": [
      "\n",
      "\n",
      "Randomly removing 7853 users - Round 30 started\n"
     ]
    },
    {
     "name": "stderr",
     "output_type": "stream",
     "text": [
      "\u001b[32m2025-03-27 01:33:15.750\u001b[0m | \u001b[1mINFO    \u001b[0m | \u001b[36m__main__\u001b[0m:\u001b[36m<module>\u001b[0m:\u001b[36m27\u001b[0m - \u001b[1mlen(uu)=0\u001b[0m\n",
      "\u001b[32m2025-03-27 01:33:15.847\u001b[0m | \u001b[1mINFO    \u001b[0m | \u001b[36m__main__\u001b[0m:\u001b[36m<module>\u001b[0m:\u001b[36m36\u001b[0m - \u001b[1mlen(ui)=1787\u001b[0m\n",
      "\u001b[32m2025-03-27 01:33:15.935\u001b[0m | \u001b[1mINFO    \u001b[0m | \u001b[36m__main__\u001b[0m:\u001b[36m<module>\u001b[0m:\u001b[36m40\u001b[0m - \u001b[1mAfter removing ui: len(sample_df)=1277459\u001b[0m\n",
      "\u001b[32m2025-03-27 01:33:16.030\u001b[0m | \u001b[1mINFO    \u001b[0m | \u001b[36m__main__\u001b[0m:\u001b[36m<module>\u001b[0m:\u001b[36m23\u001b[0m - \u001b[1mSampling round 2 started\u001b[0m\n",
      "\u001b[32m2025-03-27 01:33:16.283\u001b[0m | \u001b[1mINFO    \u001b[0m | \u001b[36m__main__\u001b[0m:\u001b[36m<module>\u001b[0m:\u001b[36m27\u001b[0m - \u001b[1mlen(uu)=2588\u001b[0m\n",
      "\u001b[32m2025-03-27 01:33:16.415\u001b[0m | \u001b[1mINFO    \u001b[0m | \u001b[36m__main__\u001b[0m:\u001b[36m<module>\u001b[0m:\u001b[36m31\u001b[0m - \u001b[1mAfter removing uu: len(sample_df)=1267180\u001b[0m\n",
      "\u001b[32m2025-03-27 01:33:16.759\u001b[0m | \u001b[1mINFO    \u001b[0m | \u001b[36m__main__\u001b[0m:\u001b[36m<module>\u001b[0m:\u001b[36m36\u001b[0m - \u001b[1mlen(ui)=301\u001b[0m\n",
      "\u001b[32m2025-03-27 01:33:16.860\u001b[0m | \u001b[1mINFO    \u001b[0m | \u001b[36m__main__\u001b[0m:\u001b[36m<module>\u001b[0m:\u001b[36m40\u001b[0m - \u001b[1mAfter removing ui: len(sample_df)=1264483\u001b[0m\n",
      "\u001b[32m2025-03-27 01:33:16.997\u001b[0m | \u001b[1mINFO    \u001b[0m | \u001b[36m__main__\u001b[0m:\u001b[36m<module>\u001b[0m:\u001b[36m23\u001b[0m - \u001b[1mSampling round 3 started\u001b[0m\n",
      "\u001b[32m2025-03-27 01:33:17.238\u001b[0m | \u001b[1mINFO    \u001b[0m | \u001b[36m__main__\u001b[0m:\u001b[36m<module>\u001b[0m:\u001b[36m27\u001b[0m - \u001b[1mlen(uu)=489\u001b[0m\n",
      "\u001b[32m2025-03-27 01:33:17.316\u001b[0m | \u001b[1mINFO    \u001b[0m | \u001b[36m__main__\u001b[0m:\u001b[36m<module>\u001b[0m:\u001b[36m31\u001b[0m - \u001b[1mAfter removing uu: len(sample_df)=1262531\u001b[0m\n",
      "\u001b[32m2025-03-27 01:33:17.646\u001b[0m | \u001b[1mINFO    \u001b[0m | \u001b[36m__main__\u001b[0m:\u001b[36m<module>\u001b[0m:\u001b[36m36\u001b[0m - \u001b[1mlen(ui)=62\u001b[0m\n",
      "\u001b[32m2025-03-27 01:33:17.733\u001b[0m | \u001b[1mINFO    \u001b[0m | \u001b[36m__main__\u001b[0m:\u001b[36m<module>\u001b[0m:\u001b[36m40\u001b[0m - \u001b[1mAfter removing ui: len(sample_df)=1261973\u001b[0m\n",
      "\u001b[32m2025-03-27 01:33:17.834\u001b[0m | \u001b[1mINFO    \u001b[0m | \u001b[36m__main__\u001b[0m:\u001b[36m<module>\u001b[0m:\u001b[36m23\u001b[0m - \u001b[1mSampling round 4 started\u001b[0m\n",
      "\u001b[32m2025-03-27 01:33:18.081\u001b[0m | \u001b[1mINFO    \u001b[0m | \u001b[36m__main__\u001b[0m:\u001b[36m<module>\u001b[0m:\u001b[36m27\u001b[0m - \u001b[1mlen(uu)=92\u001b[0m\n",
      "\u001b[32m2025-03-27 01:33:18.177\u001b[0m | \u001b[1mINFO    \u001b[0m | \u001b[36m__main__\u001b[0m:\u001b[36m<module>\u001b[0m:\u001b[36m31\u001b[0m - \u001b[1mAfter removing uu: len(sample_df)=1261605\u001b[0m\n",
      "\u001b[32m2025-03-27 01:33:18.516\u001b[0m | \u001b[1mINFO    \u001b[0m | \u001b[36m__main__\u001b[0m:\u001b[36m<module>\u001b[0m:\u001b[36m36\u001b[0m - \u001b[1mlen(ui)=10\u001b[0m\n",
      "\u001b[32m2025-03-27 01:33:18.614\u001b[0m | \u001b[1mINFO    \u001b[0m | \u001b[36m__main__\u001b[0m:\u001b[36m<module>\u001b[0m:\u001b[36m40\u001b[0m - \u001b[1mAfter removing ui: len(sample_df)=1261515\u001b[0m\n",
      "\u001b[32m2025-03-27 01:33:18.710\u001b[0m | \u001b[1mINFO    \u001b[0m | \u001b[36m__main__\u001b[0m:\u001b[36m<module>\u001b[0m:\u001b[36m23\u001b[0m - \u001b[1mSampling round 5 started\u001b[0m\n",
      "\u001b[32m2025-03-27 01:33:18.962\u001b[0m | \u001b[1mINFO    \u001b[0m | \u001b[36m__main__\u001b[0m:\u001b[36m<module>\u001b[0m:\u001b[36m27\u001b[0m - \u001b[1mlen(uu)=15\u001b[0m\n",
      "\u001b[32m2025-03-27 01:33:19.038\u001b[0m | \u001b[1mINFO    \u001b[0m | \u001b[36m__main__\u001b[0m:\u001b[36m<module>\u001b[0m:\u001b[36m31\u001b[0m - \u001b[1mAfter removing uu: len(sample_df)=1261455\u001b[0m\n",
      "\u001b[32m2025-03-27 01:33:19.381\u001b[0m | \u001b[1mINFO    \u001b[0m | \u001b[36m__main__\u001b[0m:\u001b[36m<module>\u001b[0m:\u001b[36m36\u001b[0m - \u001b[1mlen(ui)=0\u001b[0m\n",
      "\u001b[32m2025-03-27 01:33:19.382\u001b[0m | \u001b[1mINFO    \u001b[0m | \u001b[36m__main__\u001b[0m:\u001b[36m<module>\u001b[0m:\u001b[36m23\u001b[0m - \u001b[1mSampling round 6 started\u001b[0m\n",
      "\u001b[32m2025-03-27 01:33:19.635\u001b[0m | \u001b[1mINFO    \u001b[0m | \u001b[36m__main__\u001b[0m:\u001b[36m<module>\u001b[0m:\u001b[36m27\u001b[0m - \u001b[1mlen(uu)=0\u001b[0m\n",
      "\u001b[32m2025-03-27 01:33:19.729\u001b[0m | \u001b[1mINFO    \u001b[0m | \u001b[36m__main__\u001b[0m:\u001b[36m<module>\u001b[0m:\u001b[36m36\u001b[0m - \u001b[1mlen(ui)=0\u001b[0m\n",
      "\u001b[32m2025-03-27 01:33:19.873\u001b[0m | \u001b[1mINFO    \u001b[0m | \u001b[36m__main__\u001b[0m:\u001b[36m<module>\u001b[0m:\u001b[36m48\u001b[0m - \u001b[1mAfter randomly removing users - round 30: num_users=146028\u001b[0m\n",
      "\u001b[32m2025-03-27 01:33:19.874\u001b[0m | \u001b[1mINFO    \u001b[0m | \u001b[36m__main__\u001b[0m:\u001b[36m<module>\u001b[0m:\u001b[36m54\u001b[0m - \u001b[1mNumber of users 146028 are still greater than expected, keep removing...\u001b[0m\n",
      "\u001b[32m2025-03-27 01:33:20.502\u001b[0m | \u001b[1mINFO    \u001b[0m | \u001b[36m__main__\u001b[0m:\u001b[36m<module>\u001b[0m:\u001b[36m23\u001b[0m - \u001b[1mSampling round 1 started\u001b[0m\n"
     ]
    },
    {
     "name": "stdout",
     "output_type": "stream",
     "text": [
      "\n",
      "\n",
      "Randomly removing 7301 users - Round 31 started\n"
     ]
    },
    {
     "name": "stderr",
     "output_type": "stream",
     "text": [
      "\u001b[32m2025-03-27 01:33:20.739\u001b[0m | \u001b[1mINFO    \u001b[0m | \u001b[36m__main__\u001b[0m:\u001b[36m<module>\u001b[0m:\u001b[36m27\u001b[0m - \u001b[1mlen(uu)=0\u001b[0m\n",
      "\u001b[32m2025-03-27 01:33:20.834\u001b[0m | \u001b[1mINFO    \u001b[0m | \u001b[36m__main__\u001b[0m:\u001b[36m<module>\u001b[0m:\u001b[36m36\u001b[0m - \u001b[1mlen(ui)=1645\u001b[0m\n",
      "\u001b[32m2025-03-27 01:33:20.914\u001b[0m | \u001b[1mINFO    \u001b[0m | \u001b[36m__main__\u001b[0m:\u001b[36m<module>\u001b[0m:\u001b[36m40\u001b[0m - \u001b[1mAfter removing ui: len(sample_df)=1183811\u001b[0m\n",
      "\u001b[32m2025-03-27 01:33:20.999\u001b[0m | \u001b[1mINFO    \u001b[0m | \u001b[36m__main__\u001b[0m:\u001b[36m<module>\u001b[0m:\u001b[36m23\u001b[0m - \u001b[1mSampling round 2 started\u001b[0m\n",
      "\u001b[32m2025-03-27 01:33:21.235\u001b[0m | \u001b[1mINFO    \u001b[0m | \u001b[36m__main__\u001b[0m:\u001b[36m<module>\u001b[0m:\u001b[36m27\u001b[0m - \u001b[1mlen(uu)=2469\u001b[0m\n",
      "\u001b[32m2025-03-27 01:33:21.324\u001b[0m | \u001b[1mINFO    \u001b[0m | \u001b[36m__main__\u001b[0m:\u001b[36m<module>\u001b[0m:\u001b[36m31\u001b[0m - \u001b[1mAfter removing uu: len(sample_df)=1174003\u001b[0m\n",
      "\u001b[32m2025-03-27 01:33:21.642\u001b[0m | \u001b[1mINFO    \u001b[0m | \u001b[36m__main__\u001b[0m:\u001b[36m<module>\u001b[0m:\u001b[36m36\u001b[0m - \u001b[1mlen(ui)=288\u001b[0m\n",
      "\u001b[32m2025-03-27 01:33:21.730\u001b[0m | \u001b[1mINFO    \u001b[0m | \u001b[36m__main__\u001b[0m:\u001b[36m<module>\u001b[0m:\u001b[36m40\u001b[0m - \u001b[1mAfter removing ui: len(sample_df)=1171420\u001b[0m\n",
      "\u001b[32m2025-03-27 01:33:21.816\u001b[0m | \u001b[1mINFO    \u001b[0m | \u001b[36m__main__\u001b[0m:\u001b[36m<module>\u001b[0m:\u001b[36m23\u001b[0m - \u001b[1mSampling round 3 started\u001b[0m\n",
      "\u001b[32m2025-03-27 01:33:22.042\u001b[0m | \u001b[1mINFO    \u001b[0m | \u001b[36m__main__\u001b[0m:\u001b[36m<module>\u001b[0m:\u001b[36m27\u001b[0m - \u001b[1mlen(uu)=455\u001b[0m\n",
      "\u001b[32m2025-03-27 01:33:22.110\u001b[0m | \u001b[1mINFO    \u001b[0m | \u001b[36m__main__\u001b[0m:\u001b[36m<module>\u001b[0m:\u001b[36m31\u001b[0m - \u001b[1mAfter removing uu: len(sample_df)=1169608\u001b[0m\n",
      "\u001b[32m2025-03-27 01:33:22.423\u001b[0m | \u001b[1mINFO    \u001b[0m | \u001b[36m__main__\u001b[0m:\u001b[36m<module>\u001b[0m:\u001b[36m36\u001b[0m - \u001b[1mlen(ui)=58\u001b[0m\n",
      "\u001b[32m2025-03-27 01:33:22.501\u001b[0m | \u001b[1mINFO    \u001b[0m | \u001b[36m__main__\u001b[0m:\u001b[36m<module>\u001b[0m:\u001b[36m40\u001b[0m - \u001b[1mAfter removing ui: len(sample_df)=1169087\u001b[0m\n",
      "\u001b[32m2025-03-27 01:33:22.589\u001b[0m | \u001b[1mINFO    \u001b[0m | \u001b[36m__main__\u001b[0m:\u001b[36m<module>\u001b[0m:\u001b[36m23\u001b[0m - \u001b[1mSampling round 4 started\u001b[0m\n",
      "\u001b[32m2025-03-27 01:33:22.820\u001b[0m | \u001b[1mINFO    \u001b[0m | \u001b[36m__main__\u001b[0m:\u001b[36m<module>\u001b[0m:\u001b[36m27\u001b[0m - \u001b[1mlen(uu)=96\u001b[0m\n",
      "\u001b[32m2025-03-27 01:33:22.918\u001b[0m | \u001b[1mINFO    \u001b[0m | \u001b[36m__main__\u001b[0m:\u001b[36m<module>\u001b[0m:\u001b[36m31\u001b[0m - \u001b[1mAfter removing uu: len(sample_df)=1168703\u001b[0m\n",
      "\u001b[32m2025-03-27 01:33:23.223\u001b[0m | \u001b[1mINFO    \u001b[0m | \u001b[36m__main__\u001b[0m:\u001b[36m<module>\u001b[0m:\u001b[36m36\u001b[0m - \u001b[1mlen(ui)=12\u001b[0m\n",
      "\u001b[32m2025-03-27 01:33:23.321\u001b[0m | \u001b[1mINFO    \u001b[0m | \u001b[36m__main__\u001b[0m:\u001b[36m<module>\u001b[0m:\u001b[36m40\u001b[0m - \u001b[1mAfter removing ui: len(sample_df)=1168595\u001b[0m\n",
      "\u001b[32m2025-03-27 01:33:23.406\u001b[0m | \u001b[1mINFO    \u001b[0m | \u001b[36m__main__\u001b[0m:\u001b[36m<module>\u001b[0m:\u001b[36m23\u001b[0m - \u001b[1mSampling round 5 started\u001b[0m\n",
      "\u001b[32m2025-03-27 01:33:23.636\u001b[0m | \u001b[1mINFO    \u001b[0m | \u001b[36m__main__\u001b[0m:\u001b[36m<module>\u001b[0m:\u001b[36m27\u001b[0m - \u001b[1mlen(uu)=17\u001b[0m\n",
      "\u001b[32m2025-03-27 01:33:23.708\u001b[0m | \u001b[1mINFO    \u001b[0m | \u001b[36m__main__\u001b[0m:\u001b[36m<module>\u001b[0m:\u001b[36m31\u001b[0m - \u001b[1mAfter removing uu: len(sample_df)=1168527\u001b[0m\n",
      "\u001b[32m2025-03-27 01:33:24.014\u001b[0m | \u001b[1mINFO    \u001b[0m | \u001b[36m__main__\u001b[0m:\u001b[36m<module>\u001b[0m:\u001b[36m36\u001b[0m - \u001b[1mlen(ui)=1\u001b[0m\n",
      "\u001b[32m2025-03-27 01:33:24.072\u001b[0m | \u001b[1mINFO    \u001b[0m | \u001b[36m__main__\u001b[0m:\u001b[36m<module>\u001b[0m:\u001b[36m40\u001b[0m - \u001b[1mAfter removing ui: len(sample_df)=1168518\u001b[0m\n",
      "\u001b[32m2025-03-27 01:33:24.159\u001b[0m | \u001b[1mINFO    \u001b[0m | \u001b[36m__main__\u001b[0m:\u001b[36m<module>\u001b[0m:\u001b[36m23\u001b[0m - \u001b[1mSampling round 6 started\u001b[0m\n",
      "\u001b[32m2025-03-27 01:33:24.385\u001b[0m | \u001b[1mINFO    \u001b[0m | \u001b[36m__main__\u001b[0m:\u001b[36m<module>\u001b[0m:\u001b[36m27\u001b[0m - \u001b[1mlen(uu)=1\u001b[0m\n",
      "\u001b[32m2025-03-27 01:33:24.451\u001b[0m | \u001b[1mINFO    \u001b[0m | \u001b[36m__main__\u001b[0m:\u001b[36m<module>\u001b[0m:\u001b[36m31\u001b[0m - \u001b[1mAfter removing uu: len(sample_df)=1168514\u001b[0m\n",
      "\u001b[32m2025-03-27 01:33:24.760\u001b[0m | \u001b[1mINFO    \u001b[0m | \u001b[36m__main__\u001b[0m:\u001b[36m<module>\u001b[0m:\u001b[36m36\u001b[0m - \u001b[1mlen(ui)=1\u001b[0m\n",
      "\u001b[32m2025-03-27 01:33:24.819\u001b[0m | \u001b[1mINFO    \u001b[0m | \u001b[36m__main__\u001b[0m:\u001b[36m<module>\u001b[0m:\u001b[36m40\u001b[0m - \u001b[1mAfter removing ui: len(sample_df)=1168505\u001b[0m\n",
      "\u001b[32m2025-03-27 01:33:24.907\u001b[0m | \u001b[1mINFO    \u001b[0m | \u001b[36m__main__\u001b[0m:\u001b[36m<module>\u001b[0m:\u001b[36m23\u001b[0m - \u001b[1mSampling round 7 started\u001b[0m\n",
      "\u001b[32m2025-03-27 01:33:25.122\u001b[0m | \u001b[1mINFO    \u001b[0m | \u001b[36m__main__\u001b[0m:\u001b[36m<module>\u001b[0m:\u001b[36m27\u001b[0m - \u001b[1mlen(uu)=1\u001b[0m\n",
      "\u001b[32m2025-03-27 01:33:25.187\u001b[0m | \u001b[1mINFO    \u001b[0m | \u001b[36m__main__\u001b[0m:\u001b[36m<module>\u001b[0m:\u001b[36m31\u001b[0m - \u001b[1mAfter removing uu: len(sample_df)=1168501\u001b[0m\n",
      "\u001b[32m2025-03-27 01:33:25.500\u001b[0m | \u001b[1mINFO    \u001b[0m | \u001b[36m__main__\u001b[0m:\u001b[36m<module>\u001b[0m:\u001b[36m36\u001b[0m - \u001b[1mlen(ui)=0\u001b[0m\n",
      "\u001b[32m2025-03-27 01:33:25.500\u001b[0m | \u001b[1mINFO    \u001b[0m | \u001b[36m__main__\u001b[0m:\u001b[36m<module>\u001b[0m:\u001b[36m23\u001b[0m - \u001b[1mSampling round 8 started\u001b[0m\n",
      "\u001b[32m2025-03-27 01:33:25.724\u001b[0m | \u001b[1mINFO    \u001b[0m | \u001b[36m__main__\u001b[0m:\u001b[36m<module>\u001b[0m:\u001b[36m27\u001b[0m - \u001b[1mlen(uu)=0\u001b[0m\n",
      "\u001b[32m2025-03-27 01:33:25.808\u001b[0m | \u001b[1mINFO    \u001b[0m | \u001b[36m__main__\u001b[0m:\u001b[36m<module>\u001b[0m:\u001b[36m36\u001b[0m - \u001b[1mlen(ui)=0\u001b[0m\n",
      "\u001b[32m2025-03-27 01:33:25.944\u001b[0m | \u001b[1mINFO    \u001b[0m | \u001b[36m__main__\u001b[0m:\u001b[36m<module>\u001b[0m:\u001b[36m48\u001b[0m - \u001b[1mAfter randomly removing users - round 31: num_users=135688\u001b[0m\n",
      "\u001b[32m2025-03-27 01:33:25.944\u001b[0m | \u001b[1mINFO    \u001b[0m | \u001b[36m__main__\u001b[0m:\u001b[36m<module>\u001b[0m:\u001b[36m54\u001b[0m - \u001b[1mNumber of users 135688 are still greater than expected, keep removing...\u001b[0m\n",
      "\u001b[32m2025-03-27 01:33:26.538\u001b[0m | \u001b[1mINFO    \u001b[0m | \u001b[36m__main__\u001b[0m:\u001b[36m<module>\u001b[0m:\u001b[36m23\u001b[0m - \u001b[1mSampling round 1 started\u001b[0m\n"
     ]
    },
    {
     "name": "stdout",
     "output_type": "stream",
     "text": [
      "\n",
      "\n",
      "Randomly removing 6784 users - Round 32 started\n"
     ]
    },
    {
     "name": "stderr",
     "output_type": "stream",
     "text": [
      "\u001b[32m2025-03-27 01:33:26.759\u001b[0m | \u001b[1mINFO    \u001b[0m | \u001b[36m__main__\u001b[0m:\u001b[36m<module>\u001b[0m:\u001b[36m27\u001b[0m - \u001b[1mlen(uu)=0\u001b[0m\n",
      "\u001b[32m2025-03-27 01:33:26.844\u001b[0m | \u001b[1mINFO    \u001b[0m | \u001b[36m__main__\u001b[0m:\u001b[36m<module>\u001b[0m:\u001b[36m36\u001b[0m - \u001b[1mlen(ui)=1511\u001b[0m\n",
      "\u001b[32m2025-03-27 01:33:26.951\u001b[0m | \u001b[1mINFO    \u001b[0m | \u001b[36m__main__\u001b[0m:\u001b[36m<module>\u001b[0m:\u001b[36m40\u001b[0m - \u001b[1mAfter removing ui: len(sample_df)=1096696\u001b[0m\n",
      "\u001b[32m2025-03-27 01:33:27.034\u001b[0m | \u001b[1mINFO    \u001b[0m | \u001b[36m__main__\u001b[0m:\u001b[36m<module>\u001b[0m:\u001b[36m23\u001b[0m - \u001b[1mSampling round 2 started\u001b[0m\n",
      "\u001b[32m2025-03-27 01:33:27.246\u001b[0m | \u001b[1mINFO    \u001b[0m | \u001b[36m__main__\u001b[0m:\u001b[36m<module>\u001b[0m:\u001b[36m27\u001b[0m - \u001b[1mlen(uu)=2348\u001b[0m\n",
      "\u001b[32m2025-03-27 01:33:27.318\u001b[0m | \u001b[1mINFO    \u001b[0m | \u001b[36m__main__\u001b[0m:\u001b[36m<module>\u001b[0m:\u001b[36m31\u001b[0m - \u001b[1mAfter removing uu: len(sample_df)=1087377\u001b[0m\n",
      "\u001b[32m2025-03-27 01:33:27.597\u001b[0m | \u001b[1mINFO    \u001b[0m | \u001b[36m__main__\u001b[0m:\u001b[36m<module>\u001b[0m:\u001b[36m36\u001b[0m - \u001b[1mlen(ui)=294\u001b[0m\n",
      "\u001b[32m2025-03-27 01:33:27.679\u001b[0m | \u001b[1mINFO    \u001b[0m | \u001b[36m__main__\u001b[0m:\u001b[36m<module>\u001b[0m:\u001b[36m40\u001b[0m - \u001b[1mAfter removing ui: len(sample_df)=1084748\u001b[0m\n",
      "\u001b[32m2025-03-27 01:33:27.757\u001b[0m | \u001b[1mINFO    \u001b[0m | \u001b[36m__main__\u001b[0m:\u001b[36m<module>\u001b[0m:\u001b[36m23\u001b[0m - \u001b[1mSampling round 3 started\u001b[0m\n",
      "\u001b[32m2025-03-27 01:33:27.957\u001b[0m | \u001b[1mINFO    \u001b[0m | \u001b[36m__main__\u001b[0m:\u001b[36m<module>\u001b[0m:\u001b[36m27\u001b[0m - \u001b[1mlen(uu)=517\u001b[0m\n",
      "\u001b[32m2025-03-27 01:33:28.026\u001b[0m | \u001b[1mINFO    \u001b[0m | \u001b[36m__main__\u001b[0m:\u001b[36m<module>\u001b[0m:\u001b[36m31\u001b[0m - \u001b[1mAfter removing uu: len(sample_df)=1082683\u001b[0m\n",
      "\u001b[32m2025-03-27 01:33:28.318\u001b[0m | \u001b[1mINFO    \u001b[0m | \u001b[36m__main__\u001b[0m:\u001b[36m<module>\u001b[0m:\u001b[36m36\u001b[0m - \u001b[1mlen(ui)=62\u001b[0m\n",
      "\u001b[32m2025-03-27 01:33:28.392\u001b[0m | \u001b[1mINFO    \u001b[0m | \u001b[36m__main__\u001b[0m:\u001b[36m<module>\u001b[0m:\u001b[36m40\u001b[0m - \u001b[1mAfter removing ui: len(sample_df)=1082127\u001b[0m\n",
      "\u001b[32m2025-03-27 01:33:28.467\u001b[0m | \u001b[1mINFO    \u001b[0m | \u001b[36m__main__\u001b[0m:\u001b[36m<module>\u001b[0m:\u001b[36m23\u001b[0m - \u001b[1mSampling round 4 started\u001b[0m\n",
      "\u001b[32m2025-03-27 01:33:28.669\u001b[0m | \u001b[1mINFO    \u001b[0m | \u001b[36m__main__\u001b[0m:\u001b[36m<module>\u001b[0m:\u001b[36m27\u001b[0m - \u001b[1mlen(uu)=96\u001b[0m\n",
      "\u001b[32m2025-03-27 01:33:28.753\u001b[0m | \u001b[1mINFO    \u001b[0m | \u001b[36m__main__\u001b[0m:\u001b[36m<module>\u001b[0m:\u001b[36m31\u001b[0m - \u001b[1mAfter removing uu: len(sample_df)=1081744\u001b[0m\n",
      "\u001b[32m2025-03-27 01:33:29.031\u001b[0m | \u001b[1mINFO    \u001b[0m | \u001b[36m__main__\u001b[0m:\u001b[36m<module>\u001b[0m:\u001b[36m36\u001b[0m - \u001b[1mlen(ui)=11\u001b[0m\n",
      "\u001b[32m2025-03-27 01:33:29.118\u001b[0m | \u001b[1mINFO    \u001b[0m | \u001b[36m__main__\u001b[0m:\u001b[36m<module>\u001b[0m:\u001b[36m40\u001b[0m - \u001b[1mAfter removing ui: len(sample_df)=1081645\u001b[0m\n",
      "\u001b[32m2025-03-27 01:33:29.196\u001b[0m | \u001b[1mINFO    \u001b[0m | \u001b[36m__main__\u001b[0m:\u001b[36m<module>\u001b[0m:\u001b[36m23\u001b[0m - \u001b[1mSampling round 5 started\u001b[0m\n",
      "\u001b[32m2025-03-27 01:33:29.399\u001b[0m | \u001b[1mINFO    \u001b[0m | \u001b[36m__main__\u001b[0m:\u001b[36m<module>\u001b[0m:\u001b[36m27\u001b[0m - \u001b[1mlen(uu)=23\u001b[0m\n",
      "\u001b[32m2025-03-27 01:33:29.479\u001b[0m | \u001b[1mINFO    \u001b[0m | \u001b[36m__main__\u001b[0m:\u001b[36m<module>\u001b[0m:\u001b[36m31\u001b[0m - \u001b[1mAfter removing uu: len(sample_df)=1081553\u001b[0m\n",
      "\u001b[32m2025-03-27 01:33:29.753\u001b[0m | \u001b[1mINFO    \u001b[0m | \u001b[36m__main__\u001b[0m:\u001b[36m<module>\u001b[0m:\u001b[36m36\u001b[0m - \u001b[1mlen(ui)=1\u001b[0m\n",
      "\u001b[32m2025-03-27 01:33:29.806\u001b[0m | \u001b[1mINFO    \u001b[0m | \u001b[36m__main__\u001b[0m:\u001b[36m<module>\u001b[0m:\u001b[36m40\u001b[0m - \u001b[1mAfter removing ui: len(sample_df)=1081544\u001b[0m\n",
      "\u001b[32m2025-03-27 01:33:29.882\u001b[0m | \u001b[1mINFO    \u001b[0m | \u001b[36m__main__\u001b[0m:\u001b[36m<module>\u001b[0m:\u001b[36m23\u001b[0m - \u001b[1mSampling round 6 started\u001b[0m\n",
      "\u001b[32m2025-03-27 01:33:30.080\u001b[0m | \u001b[1mINFO    \u001b[0m | \u001b[36m__main__\u001b[0m:\u001b[36m<module>\u001b[0m:\u001b[36m27\u001b[0m - \u001b[1mlen(uu)=0\u001b[0m\n",
      "\u001b[32m2025-03-27 01:33:30.158\u001b[0m | \u001b[1mINFO    \u001b[0m | \u001b[36m__main__\u001b[0m:\u001b[36m<module>\u001b[0m:\u001b[36m36\u001b[0m - \u001b[1mlen(ui)=0\u001b[0m\n",
      "\u001b[32m2025-03-27 01:33:30.279\u001b[0m | \u001b[1mINFO    \u001b[0m | \u001b[36m__main__\u001b[0m:\u001b[36m<module>\u001b[0m:\u001b[36m48\u001b[0m - \u001b[1mAfter randomly removing users - round 32: num_users=125920\u001b[0m\n",
      "\u001b[32m2025-03-27 01:33:30.279\u001b[0m | \u001b[1mINFO    \u001b[0m | \u001b[36m__main__\u001b[0m:\u001b[36m<module>\u001b[0m:\u001b[36m54\u001b[0m - \u001b[1mNumber of users 125920 are still greater than expected, keep removing...\u001b[0m\n",
      "\u001b[32m2025-03-27 01:33:30.889\u001b[0m | \u001b[1mINFO    \u001b[0m | \u001b[36m__main__\u001b[0m:\u001b[36m<module>\u001b[0m:\u001b[36m23\u001b[0m - \u001b[1mSampling round 1 started\u001b[0m\n"
     ]
    },
    {
     "name": "stdout",
     "output_type": "stream",
     "text": [
      "\n",
      "\n",
      "Randomly removing 6296 users - Round 33 started\n"
     ]
    },
    {
     "name": "stderr",
     "output_type": "stream",
     "text": [
      "\u001b[32m2025-03-27 01:33:31.088\u001b[0m | \u001b[1mINFO    \u001b[0m | \u001b[36m__main__\u001b[0m:\u001b[36m<module>\u001b[0m:\u001b[36m27\u001b[0m - \u001b[1mlen(uu)=0\u001b[0m\n",
      "\u001b[32m2025-03-27 01:33:31.169\u001b[0m | \u001b[1mINFO    \u001b[0m | \u001b[36m__main__\u001b[0m:\u001b[36m<module>\u001b[0m:\u001b[36m36\u001b[0m - \u001b[1mlen(ui)=1448\u001b[0m\n",
      "\u001b[32m2025-03-27 01:33:31.264\u001b[0m | \u001b[1mINFO    \u001b[0m | \u001b[36m__main__\u001b[0m:\u001b[36m<module>\u001b[0m:\u001b[36m40\u001b[0m - \u001b[1mAfter removing ui: len(sample_df)=1014966\u001b[0m\n",
      "\u001b[32m2025-03-27 01:33:31.330\u001b[0m | \u001b[1mINFO    \u001b[0m | \u001b[36m__main__\u001b[0m:\u001b[36m<module>\u001b[0m:\u001b[36m23\u001b[0m - \u001b[1mSampling round 2 started\u001b[0m\n",
      "\u001b[32m2025-03-27 01:33:31.527\u001b[0m | \u001b[1mINFO    \u001b[0m | \u001b[36m__main__\u001b[0m:\u001b[36m<module>\u001b[0m:\u001b[36m27\u001b[0m - \u001b[1mlen(uu)=2284\u001b[0m\n",
      "\u001b[32m2025-03-27 01:33:31.593\u001b[0m | \u001b[1mINFO    \u001b[0m | \u001b[36m__main__\u001b[0m:\u001b[36m<module>\u001b[0m:\u001b[36m31\u001b[0m - \u001b[1mAfter removing uu: len(sample_df)=1005898\u001b[0m\n",
      "\u001b[32m2025-03-27 01:33:31.858\u001b[0m | \u001b[1mINFO    \u001b[0m | \u001b[36m__main__\u001b[0m:\u001b[36m<module>\u001b[0m:\u001b[36m36\u001b[0m - \u001b[1mlen(ui)=268\u001b[0m\n",
      "\u001b[32m2025-03-27 01:33:31.930\u001b[0m | \u001b[1mINFO    \u001b[0m | \u001b[36m__main__\u001b[0m:\u001b[36m<module>\u001b[0m:\u001b[36m40\u001b[0m - \u001b[1mAfter removing ui: len(sample_df)=1003501\u001b[0m\n",
      "\u001b[32m2025-03-27 01:33:32.000\u001b[0m | \u001b[1mINFO    \u001b[0m | \u001b[36m__main__\u001b[0m:\u001b[36m<module>\u001b[0m:\u001b[36m23\u001b[0m - \u001b[1mSampling round 3 started\u001b[0m\n",
      "\u001b[32m2025-03-27 01:33:32.190\u001b[0m | \u001b[1mINFO    \u001b[0m | \u001b[36m__main__\u001b[0m:\u001b[36m<module>\u001b[0m:\u001b[36m27\u001b[0m - \u001b[1mlen(uu)=467\u001b[0m\n",
      "\u001b[32m2025-03-27 01:33:32.253\u001b[0m | \u001b[1mINFO    \u001b[0m | \u001b[36m__main__\u001b[0m:\u001b[36m<module>\u001b[0m:\u001b[36m31\u001b[0m - \u001b[1mAfter removing uu: len(sample_df)=1001636\u001b[0m\n",
      "\u001b[32m2025-03-27 01:33:32.505\u001b[0m | \u001b[1mINFO    \u001b[0m | \u001b[36m__main__\u001b[0m:\u001b[36m<module>\u001b[0m:\u001b[36m36\u001b[0m - \u001b[1mlen(ui)=46\u001b[0m\n",
      "\u001b[32m2025-03-27 01:33:32.595\u001b[0m | \u001b[1mINFO    \u001b[0m | \u001b[36m__main__\u001b[0m:\u001b[36m<module>\u001b[0m:\u001b[36m40\u001b[0m - \u001b[1mAfter removing ui: len(sample_df)=1001224\u001b[0m\n",
      "\u001b[32m2025-03-27 01:33:32.667\u001b[0m | \u001b[1mINFO    \u001b[0m | \u001b[36m__main__\u001b[0m:\u001b[36m<module>\u001b[0m:\u001b[36m23\u001b[0m - \u001b[1mSampling round 4 started\u001b[0m\n",
      "\u001b[32m2025-03-27 01:33:32.854\u001b[0m | \u001b[1mINFO    \u001b[0m | \u001b[36m__main__\u001b[0m:\u001b[36m<module>\u001b[0m:\u001b[36m27\u001b[0m - \u001b[1mlen(uu)=73\u001b[0m\n",
      "\u001b[32m2025-03-27 01:33:32.920\u001b[0m | \u001b[1mINFO    \u001b[0m | \u001b[36m__main__\u001b[0m:\u001b[36m<module>\u001b[0m:\u001b[36m31\u001b[0m - \u001b[1mAfter removing uu: len(sample_df)=1000932\u001b[0m\n",
      "\u001b[32m2025-03-27 01:33:33.180\u001b[0m | \u001b[1mINFO    \u001b[0m | \u001b[36m__main__\u001b[0m:\u001b[36m<module>\u001b[0m:\u001b[36m36\u001b[0m - \u001b[1mlen(ui)=11\u001b[0m\n",
      "\u001b[32m2025-03-27 01:33:33.263\u001b[0m | \u001b[1mINFO    \u001b[0m | \u001b[36m__main__\u001b[0m:\u001b[36m<module>\u001b[0m:\u001b[36m40\u001b[0m - \u001b[1mAfter removing ui: len(sample_df)=1000833\u001b[0m\n",
      "\u001b[32m2025-03-27 01:33:33.336\u001b[0m | \u001b[1mINFO    \u001b[0m | \u001b[36m__main__\u001b[0m:\u001b[36m<module>\u001b[0m:\u001b[36m23\u001b[0m - \u001b[1mSampling round 5 started\u001b[0m\n",
      "\u001b[32m2025-03-27 01:33:33.532\u001b[0m | \u001b[1mINFO    \u001b[0m | \u001b[36m__main__\u001b[0m:\u001b[36m<module>\u001b[0m:\u001b[36m27\u001b[0m - \u001b[1mlen(uu)=21\u001b[0m\n",
      "\u001b[32m2025-03-27 01:33:33.600\u001b[0m | \u001b[1mINFO    \u001b[0m | \u001b[36m__main__\u001b[0m:\u001b[36m<module>\u001b[0m:\u001b[36m31\u001b[0m - \u001b[1mAfter removing uu: len(sample_df)=1000749\u001b[0m\n",
      "\u001b[32m2025-03-27 01:33:33.856\u001b[0m | \u001b[1mINFO    \u001b[0m | \u001b[36m__main__\u001b[0m:\u001b[36m<module>\u001b[0m:\u001b[36m36\u001b[0m - \u001b[1mlen(ui)=2\u001b[0m\n",
      "\u001b[32m2025-03-27 01:33:33.918\u001b[0m | \u001b[1mINFO    \u001b[0m | \u001b[36m__main__\u001b[0m:\u001b[36m<module>\u001b[0m:\u001b[36m40\u001b[0m - \u001b[1mAfter removing ui: len(sample_df)=1000731\u001b[0m\n",
      "\u001b[32m2025-03-27 01:33:33.990\u001b[0m | \u001b[1mINFO    \u001b[0m | \u001b[36m__main__\u001b[0m:\u001b[36m<module>\u001b[0m:\u001b[36m23\u001b[0m - \u001b[1mSampling round 6 started\u001b[0m\n",
      "\u001b[32m2025-03-27 01:33:34.170\u001b[0m | \u001b[1mINFO    \u001b[0m | \u001b[36m__main__\u001b[0m:\u001b[36m<module>\u001b[0m:\u001b[36m27\u001b[0m - \u001b[1mlen(uu)=2\u001b[0m\n",
      "\u001b[32m2025-03-27 01:33:34.229\u001b[0m | \u001b[1mINFO    \u001b[0m | \u001b[36m__main__\u001b[0m:\u001b[36m<module>\u001b[0m:\u001b[36m31\u001b[0m - \u001b[1mAfter removing uu: len(sample_df)=1000723\u001b[0m\n",
      "\u001b[32m2025-03-27 01:33:34.526\u001b[0m | \u001b[1mINFO    \u001b[0m | \u001b[36m__main__\u001b[0m:\u001b[36m<module>\u001b[0m:\u001b[36m36\u001b[0m - \u001b[1mlen(ui)=1\u001b[0m\n",
      "\u001b[32m2025-03-27 01:33:34.578\u001b[0m | \u001b[1mINFO    \u001b[0m | \u001b[36m__main__\u001b[0m:\u001b[36m<module>\u001b[0m:\u001b[36m40\u001b[0m - \u001b[1mAfter removing ui: len(sample_df)=1000714\u001b[0m\n",
      "\u001b[32m2025-03-27 01:33:34.655\u001b[0m | \u001b[1mINFO    \u001b[0m | \u001b[36m__main__\u001b[0m:\u001b[36m<module>\u001b[0m:\u001b[36m23\u001b[0m - \u001b[1mSampling round 7 started\u001b[0m\n",
      "\u001b[32m2025-03-27 01:33:34.847\u001b[0m | \u001b[1mINFO    \u001b[0m | \u001b[36m__main__\u001b[0m:\u001b[36m<module>\u001b[0m:\u001b[36m27\u001b[0m - \u001b[1mlen(uu)=1\u001b[0m\n",
      "\u001b[32m2025-03-27 01:33:34.905\u001b[0m | \u001b[1mINFO    \u001b[0m | \u001b[36m__main__\u001b[0m:\u001b[36m<module>\u001b[0m:\u001b[36m31\u001b[0m - \u001b[1mAfter removing uu: len(sample_df)=1000710\u001b[0m\n",
      "\u001b[32m2025-03-27 01:33:35.164\u001b[0m | \u001b[1mINFO    \u001b[0m | \u001b[36m__main__\u001b[0m:\u001b[36m<module>\u001b[0m:\u001b[36m36\u001b[0m - \u001b[1mlen(ui)=0\u001b[0m\n",
      "\u001b[32m2025-03-27 01:33:35.164\u001b[0m | \u001b[1mINFO    \u001b[0m | \u001b[36m__main__\u001b[0m:\u001b[36m<module>\u001b[0m:\u001b[36m23\u001b[0m - \u001b[1mSampling round 8 started\u001b[0m\n",
      "\u001b[32m2025-03-27 01:33:35.360\u001b[0m | \u001b[1mINFO    \u001b[0m | \u001b[36m__main__\u001b[0m:\u001b[36m<module>\u001b[0m:\u001b[36m27\u001b[0m - \u001b[1mlen(uu)=0\u001b[0m\n",
      "\u001b[32m2025-03-27 01:33:35.435\u001b[0m | \u001b[1mINFO    \u001b[0m | \u001b[36m__main__\u001b[0m:\u001b[36m<module>\u001b[0m:\u001b[36m36\u001b[0m - \u001b[1mlen(ui)=0\u001b[0m\n",
      "\u001b[32m2025-03-27 01:33:35.552\u001b[0m | \u001b[1mINFO    \u001b[0m | \u001b[36m__main__\u001b[0m:\u001b[36m<module>\u001b[0m:\u001b[36m48\u001b[0m - \u001b[1mAfter randomly removing users - round 33: num_users=116776\u001b[0m\n",
      "\u001b[32m2025-03-27 01:33:35.552\u001b[0m | \u001b[1mINFO    \u001b[0m | \u001b[36m__main__\u001b[0m:\u001b[36m<module>\u001b[0m:\u001b[36m54\u001b[0m - \u001b[1mNumber of users 116776 are still greater than expected, keep removing...\u001b[0m\n",
      "\u001b[32m2025-03-27 01:33:36.102\u001b[0m | \u001b[1mINFO    \u001b[0m | \u001b[36m__main__\u001b[0m:\u001b[36m<module>\u001b[0m:\u001b[36m23\u001b[0m - \u001b[1mSampling round 1 started\u001b[0m\n"
     ]
    },
    {
     "name": "stdout",
     "output_type": "stream",
     "text": [
      "\n",
      "\n",
      "Randomly removing 5838 users - Round 34 started\n"
     ]
    },
    {
     "name": "stderr",
     "output_type": "stream",
     "text": [
      "\u001b[32m2025-03-27 01:33:36.281\u001b[0m | \u001b[1mINFO    \u001b[0m | \u001b[36m__main__\u001b[0m:\u001b[36m<module>\u001b[0m:\u001b[36m27\u001b[0m - \u001b[1mlen(uu)=0\u001b[0m\n",
      "\u001b[32m2025-03-27 01:33:36.352\u001b[0m | \u001b[1mINFO    \u001b[0m | \u001b[36m__main__\u001b[0m:\u001b[36m<module>\u001b[0m:\u001b[36m36\u001b[0m - \u001b[1mlen(ui)=1373\u001b[0m\n",
      "\u001b[32m2025-03-27 01:33:36.433\u001b[0m | \u001b[1mINFO    \u001b[0m | \u001b[36m__main__\u001b[0m:\u001b[36m<module>\u001b[0m:\u001b[36m40\u001b[0m - \u001b[1mAfter removing ui: len(sample_df)=938249\u001b[0m\n",
      "\u001b[32m2025-03-27 01:33:36.497\u001b[0m | \u001b[1mINFO    \u001b[0m | \u001b[36m__main__\u001b[0m:\u001b[36m<module>\u001b[0m:\u001b[36m23\u001b[0m - \u001b[1mSampling round 2 started\u001b[0m\n",
      "\u001b[32m2025-03-27 01:33:36.677\u001b[0m | \u001b[1mINFO    \u001b[0m | \u001b[36m__main__\u001b[0m:\u001b[36m<module>\u001b[0m:\u001b[36m27\u001b[0m - \u001b[1mlen(uu)=2139\u001b[0m\n",
      "\u001b[32m2025-03-27 01:33:36.735\u001b[0m | \u001b[1mINFO    \u001b[0m | \u001b[36m__main__\u001b[0m:\u001b[36m<module>\u001b[0m:\u001b[36m31\u001b[0m - \u001b[1mAfter removing uu: len(sample_df)=929748\u001b[0m\n",
      "\u001b[32m2025-03-27 01:33:36.970\u001b[0m | \u001b[1mINFO    \u001b[0m | \u001b[36m__main__\u001b[0m:\u001b[36m<module>\u001b[0m:\u001b[36m36\u001b[0m - \u001b[1mlen(ui)=241\u001b[0m\n",
      "\u001b[32m2025-03-27 01:33:37.033\u001b[0m | \u001b[1mINFO    \u001b[0m | \u001b[36m__main__\u001b[0m:\u001b[36m<module>\u001b[0m:\u001b[36m40\u001b[0m - \u001b[1mAfter removing ui: len(sample_df)=927593\u001b[0m\n",
      "\u001b[32m2025-03-27 01:33:37.099\u001b[0m | \u001b[1mINFO    \u001b[0m | \u001b[36m__main__\u001b[0m:\u001b[36m<module>\u001b[0m:\u001b[36m23\u001b[0m - \u001b[1mSampling round 3 started\u001b[0m\n",
      "\u001b[32m2025-03-27 01:33:37.271\u001b[0m | \u001b[1mINFO    \u001b[0m | \u001b[36m__main__\u001b[0m:\u001b[36m<module>\u001b[0m:\u001b[36m27\u001b[0m - \u001b[1mlen(uu)=433\u001b[0m\n",
      "\u001b[32m2025-03-27 01:33:37.328\u001b[0m | \u001b[1mINFO    \u001b[0m | \u001b[36m__main__\u001b[0m:\u001b[36m<module>\u001b[0m:\u001b[36m31\u001b[0m - \u001b[1mAfter removing uu: len(sample_df)=925864\u001b[0m\n",
      "\u001b[32m2025-03-27 01:33:37.565\u001b[0m | \u001b[1mINFO    \u001b[0m | \u001b[36m__main__\u001b[0m:\u001b[36m<module>\u001b[0m:\u001b[36m36\u001b[0m - \u001b[1mlen(ui)=57\u001b[0m\n",
      "\u001b[32m2025-03-27 01:33:37.623\u001b[0m | \u001b[1mINFO    \u001b[0m | \u001b[36m__main__\u001b[0m:\u001b[36m<module>\u001b[0m:\u001b[36m40\u001b[0m - \u001b[1mAfter removing ui: len(sample_df)=925351\u001b[0m\n",
      "\u001b[32m2025-03-27 01:33:37.690\u001b[0m | \u001b[1mINFO    \u001b[0m | \u001b[36m__main__\u001b[0m:\u001b[36m<module>\u001b[0m:\u001b[36m23\u001b[0m - \u001b[1mSampling round 4 started\u001b[0m\n",
      "\u001b[32m2025-03-27 01:33:37.895\u001b[0m | \u001b[1mINFO    \u001b[0m | \u001b[36m__main__\u001b[0m:\u001b[36m<module>\u001b[0m:\u001b[36m27\u001b[0m - \u001b[1mlen(uu)=93\u001b[0m\n",
      "\u001b[32m2025-03-27 01:33:37.966\u001b[0m | \u001b[1mINFO    \u001b[0m | \u001b[36m__main__\u001b[0m:\u001b[36m<module>\u001b[0m:\u001b[36m31\u001b[0m - \u001b[1mAfter removing uu: len(sample_df)=924979\u001b[0m\n",
      "\u001b[32m2025-03-27 01:33:38.199\u001b[0m | \u001b[1mINFO    \u001b[0m | \u001b[36m__main__\u001b[0m:\u001b[36m<module>\u001b[0m:\u001b[36m36\u001b[0m - \u001b[1mlen(ui)=12\u001b[0m\n",
      "\u001b[32m2025-03-27 01:33:38.279\u001b[0m | \u001b[1mINFO    \u001b[0m | \u001b[36m__main__\u001b[0m:\u001b[36m<module>\u001b[0m:\u001b[36m40\u001b[0m - \u001b[1mAfter removing ui: len(sample_df)=924871\u001b[0m\n",
      "\u001b[32m2025-03-27 01:33:38.344\u001b[0m | \u001b[1mINFO    \u001b[0m | \u001b[36m__main__\u001b[0m:\u001b[36m<module>\u001b[0m:\u001b[36m23\u001b[0m - \u001b[1mSampling round 5 started\u001b[0m\n",
      "\u001b[32m2025-03-27 01:33:38.516\u001b[0m | \u001b[1mINFO    \u001b[0m | \u001b[36m__main__\u001b[0m:\u001b[36m<module>\u001b[0m:\u001b[36m27\u001b[0m - \u001b[1mlen(uu)=24\u001b[0m\n",
      "\u001b[32m2025-03-27 01:33:38.589\u001b[0m | \u001b[1mINFO    \u001b[0m | \u001b[36m__main__\u001b[0m:\u001b[36m<module>\u001b[0m:\u001b[36m31\u001b[0m - \u001b[1mAfter removing uu: len(sample_df)=924775\u001b[0m\n",
      "\u001b[32m2025-03-27 01:33:38.831\u001b[0m | \u001b[1mINFO    \u001b[0m | \u001b[36m__main__\u001b[0m:\u001b[36m<module>\u001b[0m:\u001b[36m36\u001b[0m - \u001b[1mlen(ui)=4\u001b[0m\n",
      "\u001b[32m2025-03-27 01:33:38.891\u001b[0m | \u001b[1mINFO    \u001b[0m | \u001b[36m__main__\u001b[0m:\u001b[36m<module>\u001b[0m:\u001b[36m40\u001b[0m - \u001b[1mAfter removing ui: len(sample_df)=924739\u001b[0m\n",
      "\u001b[32m2025-03-27 01:33:38.955\u001b[0m | \u001b[1mINFO    \u001b[0m | \u001b[36m__main__\u001b[0m:\u001b[36m<module>\u001b[0m:\u001b[36m23\u001b[0m - \u001b[1mSampling round 6 started\u001b[0m\n",
      "\u001b[32m2025-03-27 01:33:39.127\u001b[0m | \u001b[1mINFO    \u001b[0m | \u001b[36m__main__\u001b[0m:\u001b[36m<module>\u001b[0m:\u001b[36m27\u001b[0m - \u001b[1mlen(uu)=10\u001b[0m\n",
      "\u001b[32m2025-03-27 01:33:39.190\u001b[0m | \u001b[1mINFO    \u001b[0m | \u001b[36m__main__\u001b[0m:\u001b[36m<module>\u001b[0m:\u001b[36m31\u001b[0m - \u001b[1mAfter removing uu: len(sample_df)=924699\u001b[0m\n",
      "\u001b[32m2025-03-27 01:33:39.424\u001b[0m | \u001b[1mINFO    \u001b[0m | \u001b[36m__main__\u001b[0m:\u001b[36m<module>\u001b[0m:\u001b[36m36\u001b[0m - \u001b[1mlen(ui)=2\u001b[0m\n",
      "\u001b[32m2025-03-27 01:33:39.485\u001b[0m | \u001b[1mINFO    \u001b[0m | \u001b[36m__main__\u001b[0m:\u001b[36m<module>\u001b[0m:\u001b[36m40\u001b[0m - \u001b[1mAfter removing ui: len(sample_df)=924681\u001b[0m\n",
      "\u001b[32m2025-03-27 01:33:39.549\u001b[0m | \u001b[1mINFO    \u001b[0m | \u001b[36m__main__\u001b[0m:\u001b[36m<module>\u001b[0m:\u001b[36m23\u001b[0m - \u001b[1mSampling round 7 started\u001b[0m\n",
      "\u001b[32m2025-03-27 01:33:39.718\u001b[0m | \u001b[1mINFO    \u001b[0m | \u001b[36m__main__\u001b[0m:\u001b[36m<module>\u001b[0m:\u001b[36m27\u001b[0m - \u001b[1mlen(uu)=7\u001b[0m\n",
      "\u001b[32m2025-03-27 01:33:39.776\u001b[0m | \u001b[1mINFO    \u001b[0m | \u001b[36m__main__\u001b[0m:\u001b[36m<module>\u001b[0m:\u001b[36m31\u001b[0m - \u001b[1mAfter removing uu: len(sample_df)=924653\u001b[0m\n",
      "\u001b[32m2025-03-27 01:33:40.012\u001b[0m | \u001b[1mINFO    \u001b[0m | \u001b[36m__main__\u001b[0m:\u001b[36m<module>\u001b[0m:\u001b[36m36\u001b[0m - \u001b[1mlen(ui)=1\u001b[0m\n",
      "\u001b[32m2025-03-27 01:33:40.059\u001b[0m | \u001b[1mINFO    \u001b[0m | \u001b[36m__main__\u001b[0m:\u001b[36m<module>\u001b[0m:\u001b[36m40\u001b[0m - \u001b[1mAfter removing ui: len(sample_df)=924644\u001b[0m\n",
      "\u001b[32m2025-03-27 01:33:40.124\u001b[0m | \u001b[1mINFO    \u001b[0m | \u001b[36m__main__\u001b[0m:\u001b[36m<module>\u001b[0m:\u001b[36m23\u001b[0m - \u001b[1mSampling round 8 started\u001b[0m\n",
      "\u001b[32m2025-03-27 01:33:40.301\u001b[0m | \u001b[1mINFO    \u001b[0m | \u001b[36m__main__\u001b[0m:\u001b[36m<module>\u001b[0m:\u001b[36m27\u001b[0m - \u001b[1mlen(uu)=1\u001b[0m\n",
      "\u001b[32m2025-03-27 01:33:40.349\u001b[0m | \u001b[1mINFO    \u001b[0m | \u001b[36m__main__\u001b[0m:\u001b[36m<module>\u001b[0m:\u001b[36m31\u001b[0m - \u001b[1mAfter removing uu: len(sample_df)=924640\u001b[0m\n",
      "\u001b[32m2025-03-27 01:33:40.587\u001b[0m | \u001b[1mINFO    \u001b[0m | \u001b[36m__main__\u001b[0m:\u001b[36m<module>\u001b[0m:\u001b[36m36\u001b[0m - \u001b[1mlen(ui)=0\u001b[0m\n",
      "\u001b[32m2025-03-27 01:33:40.587\u001b[0m | \u001b[1mINFO    \u001b[0m | \u001b[36m__main__\u001b[0m:\u001b[36m<module>\u001b[0m:\u001b[36m23\u001b[0m - \u001b[1mSampling round 9 started\u001b[0m\n",
      "\u001b[32m2025-03-27 01:33:40.766\u001b[0m | \u001b[1mINFO    \u001b[0m | \u001b[36m__main__\u001b[0m:\u001b[36m<module>\u001b[0m:\u001b[36m27\u001b[0m - \u001b[1mlen(uu)=0\u001b[0m\n",
      "\u001b[32m2025-03-27 01:33:40.833\u001b[0m | \u001b[1mINFO    \u001b[0m | \u001b[36m__main__\u001b[0m:\u001b[36m<module>\u001b[0m:\u001b[36m36\u001b[0m - \u001b[1mlen(ui)=0\u001b[0m\n",
      "\u001b[32m2025-03-27 01:33:40.945\u001b[0m | \u001b[1mINFO    \u001b[0m | \u001b[36m__main__\u001b[0m:\u001b[36m<module>\u001b[0m:\u001b[36m48\u001b[0m - \u001b[1mAfter randomly removing users - round 34: num_users=108231\u001b[0m\n",
      "\u001b[32m2025-03-27 01:33:40.945\u001b[0m | \u001b[1mINFO    \u001b[0m | \u001b[36m__main__\u001b[0m:\u001b[36m<module>\u001b[0m:\u001b[36m54\u001b[0m - \u001b[1mNumber of users 108231 are still greater than expected, keep removing...\u001b[0m\n",
      "\u001b[32m2025-03-27 01:33:41.473\u001b[0m | \u001b[1mINFO    \u001b[0m | \u001b[36m__main__\u001b[0m:\u001b[36m<module>\u001b[0m:\u001b[36m23\u001b[0m - \u001b[1mSampling round 1 started\u001b[0m\n"
     ]
    },
    {
     "name": "stdout",
     "output_type": "stream",
     "text": [
      "\n",
      "\n",
      "Randomly removing 5411 users - Round 35 started\n"
     ]
    },
    {
     "name": "stderr",
     "output_type": "stream",
     "text": [
      "\u001b[32m2025-03-27 01:33:41.642\u001b[0m | \u001b[1mINFO    \u001b[0m | \u001b[36m__main__\u001b[0m:\u001b[36m<module>\u001b[0m:\u001b[36m27\u001b[0m - \u001b[1mlen(uu)=0\u001b[0m\n",
      "\u001b[32m2025-03-27 01:33:41.710\u001b[0m | \u001b[1mINFO    \u001b[0m | \u001b[36m__main__\u001b[0m:\u001b[36m<module>\u001b[0m:\u001b[36m36\u001b[0m - \u001b[1mlen(ui)=1337\u001b[0m\n",
      "\u001b[32m2025-03-27 01:33:41.788\u001b[0m | \u001b[1mINFO    \u001b[0m | \u001b[36m__main__\u001b[0m:\u001b[36m<module>\u001b[0m:\u001b[36m40\u001b[0m - \u001b[1mAfter removing ui: len(sample_df)=865906\u001b[0m\n",
      "\u001b[32m2025-03-27 01:33:41.845\u001b[0m | \u001b[1mINFO    \u001b[0m | \u001b[36m__main__\u001b[0m:\u001b[36m<module>\u001b[0m:\u001b[36m23\u001b[0m - \u001b[1mSampling round 2 started\u001b[0m\n",
      "\u001b[32m2025-03-27 01:33:42.009\u001b[0m | \u001b[1mINFO    \u001b[0m | \u001b[36m__main__\u001b[0m:\u001b[36m<module>\u001b[0m:\u001b[36m27\u001b[0m - \u001b[1mlen(uu)=2045\u001b[0m\n",
      "\u001b[32m2025-03-27 01:33:42.062\u001b[0m | \u001b[1mINFO    \u001b[0m | \u001b[36m__main__\u001b[0m:\u001b[36m<module>\u001b[0m:\u001b[36m31\u001b[0m - \u001b[1mAfter removing uu: len(sample_df)=857794\u001b[0m\n",
      "\u001b[32m2025-03-27 01:33:42.289\u001b[0m | \u001b[1mINFO    \u001b[0m | \u001b[36m__main__\u001b[0m:\u001b[36m<module>\u001b[0m:\u001b[36m36\u001b[0m - \u001b[1mlen(ui)=264\u001b[0m\n",
      "\u001b[32m2025-03-27 01:33:42.351\u001b[0m | \u001b[1mINFO    \u001b[0m | \u001b[36m__main__\u001b[0m:\u001b[36m<module>\u001b[0m:\u001b[36m40\u001b[0m - \u001b[1mAfter removing ui: len(sample_df)=855439\u001b[0m\n",
      "\u001b[32m2025-03-27 01:33:42.409\u001b[0m | \u001b[1mINFO    \u001b[0m | \u001b[36m__main__\u001b[0m:\u001b[36m<module>\u001b[0m:\u001b[36m23\u001b[0m - \u001b[1mSampling round 3 started\u001b[0m\n",
      "\u001b[32m2025-03-27 01:33:42.580\u001b[0m | \u001b[1mINFO    \u001b[0m | \u001b[36m__main__\u001b[0m:\u001b[36m<module>\u001b[0m:\u001b[36m27\u001b[0m - \u001b[1mlen(uu)=435\u001b[0m\n",
      "\u001b[32m2025-03-27 01:33:42.633\u001b[0m | \u001b[1mINFO    \u001b[0m | \u001b[36m__main__\u001b[0m:\u001b[36m<module>\u001b[0m:\u001b[36m31\u001b[0m - \u001b[1mAfter removing uu: len(sample_df)=853701\u001b[0m\n",
      "\u001b[32m2025-03-27 01:33:42.859\u001b[0m | \u001b[1mINFO    \u001b[0m | \u001b[36m__main__\u001b[0m:\u001b[36m<module>\u001b[0m:\u001b[36m36\u001b[0m - \u001b[1mlen(ui)=60\u001b[0m\n",
      "\u001b[32m2025-03-27 01:33:42.919\u001b[0m | \u001b[1mINFO    \u001b[0m | \u001b[36m__main__\u001b[0m:\u001b[36m<module>\u001b[0m:\u001b[36m40\u001b[0m - \u001b[1mAfter removing ui: len(sample_df)=853161\u001b[0m\n",
      "\u001b[32m2025-03-27 01:33:42.979\u001b[0m | \u001b[1mINFO    \u001b[0m | \u001b[36m__main__\u001b[0m:\u001b[36m<module>\u001b[0m:\u001b[36m23\u001b[0m - \u001b[1mSampling round 4 started\u001b[0m\n",
      "\u001b[32m2025-03-27 01:33:43.146\u001b[0m | \u001b[1mINFO    \u001b[0m | \u001b[36m__main__\u001b[0m:\u001b[36m<module>\u001b[0m:\u001b[36m27\u001b[0m - \u001b[1mlen(uu)=100\u001b[0m\n",
      "\u001b[32m2025-03-27 01:33:43.193\u001b[0m | \u001b[1mINFO    \u001b[0m | \u001b[36m__main__\u001b[0m:\u001b[36m<module>\u001b[0m:\u001b[36m31\u001b[0m - \u001b[1mAfter removing uu: len(sample_df)=852762\u001b[0m\n",
      "\u001b[32m2025-03-27 01:33:43.410\u001b[0m | \u001b[1mINFO    \u001b[0m | \u001b[36m__main__\u001b[0m:\u001b[36m<module>\u001b[0m:\u001b[36m36\u001b[0m - \u001b[1mlen(ui)=12\u001b[0m\n",
      "\u001b[32m2025-03-27 01:33:43.481\u001b[0m | \u001b[1mINFO    \u001b[0m | \u001b[36m__main__\u001b[0m:\u001b[36m<module>\u001b[0m:\u001b[36m40\u001b[0m - \u001b[1mAfter removing ui: len(sample_df)=852654\u001b[0m\n",
      "\u001b[32m2025-03-27 01:33:43.541\u001b[0m | \u001b[1mINFO    \u001b[0m | \u001b[36m__main__\u001b[0m:\u001b[36m<module>\u001b[0m:\u001b[36m23\u001b[0m - \u001b[1mSampling round 5 started\u001b[0m\n",
      "\u001b[32m2025-03-27 01:33:43.705\u001b[0m | \u001b[1mINFO    \u001b[0m | \u001b[36m__main__\u001b[0m:\u001b[36m<module>\u001b[0m:\u001b[36m27\u001b[0m - \u001b[1mlen(uu)=21\u001b[0m\n",
      "\u001b[32m2025-03-27 01:33:43.764\u001b[0m | \u001b[1mINFO    \u001b[0m | \u001b[36m__main__\u001b[0m:\u001b[36m<module>\u001b[0m:\u001b[36m31\u001b[0m - \u001b[1mAfter removing uu: len(sample_df)=852570\u001b[0m\n",
      "\u001b[32m2025-03-27 01:33:43.984\u001b[0m | \u001b[1mINFO    \u001b[0m | \u001b[36m__main__\u001b[0m:\u001b[36m<module>\u001b[0m:\u001b[36m36\u001b[0m - \u001b[1mlen(ui)=3\u001b[0m\n",
      "\u001b[32m2025-03-27 01:33:44.048\u001b[0m | \u001b[1mINFO    \u001b[0m | \u001b[36m__main__\u001b[0m:\u001b[36m<module>\u001b[0m:\u001b[36m40\u001b[0m - \u001b[1mAfter removing ui: len(sample_df)=852543\u001b[0m\n",
      "\u001b[32m2025-03-27 01:33:44.108\u001b[0m | \u001b[1mINFO    \u001b[0m | \u001b[36m__main__\u001b[0m:\u001b[36m<module>\u001b[0m:\u001b[36m23\u001b[0m - \u001b[1mSampling round 6 started\u001b[0m\n",
      "\u001b[32m2025-03-27 01:33:44.274\u001b[0m | \u001b[1mINFO    \u001b[0m | \u001b[36m__main__\u001b[0m:\u001b[36m<module>\u001b[0m:\u001b[36m27\u001b[0m - \u001b[1mlen(uu)=5\u001b[0m\n",
      "\u001b[32m2025-03-27 01:33:44.333\u001b[0m | \u001b[1mINFO    \u001b[0m | \u001b[36m__main__\u001b[0m:\u001b[36m<module>\u001b[0m:\u001b[36m31\u001b[0m - \u001b[1mAfter removing uu: len(sample_df)=852523\u001b[0m\n",
      "\u001b[32m2025-03-27 01:33:44.556\u001b[0m | \u001b[1mINFO    \u001b[0m | \u001b[36m__main__\u001b[0m:\u001b[36m<module>\u001b[0m:\u001b[36m36\u001b[0m - \u001b[1mlen(ui)=0\u001b[0m\n",
      "\u001b[32m2025-03-27 01:33:44.556\u001b[0m | \u001b[1mINFO    \u001b[0m | \u001b[36m__main__\u001b[0m:\u001b[36m<module>\u001b[0m:\u001b[36m23\u001b[0m - \u001b[1mSampling round 7 started\u001b[0m\n",
      "\u001b[32m2025-03-27 01:33:44.721\u001b[0m | \u001b[1mINFO    \u001b[0m | \u001b[36m__main__\u001b[0m:\u001b[36m<module>\u001b[0m:\u001b[36m27\u001b[0m - \u001b[1mlen(uu)=0\u001b[0m\n",
      "\u001b[32m2025-03-27 01:33:44.791\u001b[0m | \u001b[1mINFO    \u001b[0m | \u001b[36m__main__\u001b[0m:\u001b[36m<module>\u001b[0m:\u001b[36m36\u001b[0m - \u001b[1mlen(ui)=0\u001b[0m\n",
      "\u001b[32m2025-03-27 01:33:44.886\u001b[0m | \u001b[1mINFO    \u001b[0m | \u001b[36m__main__\u001b[0m:\u001b[36m<module>\u001b[0m:\u001b[36m48\u001b[0m - \u001b[1mAfter randomly removing users - round 35: num_users=100214\u001b[0m\n",
      "\u001b[32m2025-03-27 01:33:44.887\u001b[0m | \u001b[1mINFO    \u001b[0m | \u001b[36m__main__\u001b[0m:\u001b[36m<module>\u001b[0m:\u001b[36m54\u001b[0m - \u001b[1mNumber of users 100214 are still greater than expected, keep removing...\u001b[0m\n",
      "\u001b[32m2025-03-27 01:33:45.637\u001b[0m | \u001b[1mINFO    \u001b[0m | \u001b[36m__main__\u001b[0m:\u001b[36m<module>\u001b[0m:\u001b[36m23\u001b[0m - \u001b[1mSampling round 1 started\u001b[0m\n"
     ]
    },
    {
     "name": "stdout",
     "output_type": "stream",
     "text": [
      "\n",
      "\n",
      "Randomly removing 5010 users - Round 36 started\n"
     ]
    },
    {
     "name": "stderr",
     "output_type": "stream",
     "text": [
      "\u001b[32m2025-03-27 01:33:45.794\u001b[0m | \u001b[1mINFO    \u001b[0m | \u001b[36m__main__\u001b[0m:\u001b[36m<module>\u001b[0m:\u001b[36m27\u001b[0m - \u001b[1mlen(uu)=0\u001b[0m\n",
      "\u001b[32m2025-03-27 01:33:45.853\u001b[0m | \u001b[1mINFO    \u001b[0m | \u001b[36m__main__\u001b[0m:\u001b[36m<module>\u001b[0m:\u001b[36m36\u001b[0m - \u001b[1mlen(ui)=1209\u001b[0m\n",
      "\u001b[32m2025-03-27 01:33:45.920\u001b[0m | \u001b[1mINFO    \u001b[0m | \u001b[36m__main__\u001b[0m:\u001b[36m<module>\u001b[0m:\u001b[36m40\u001b[0m - \u001b[1mAfter removing ui: len(sample_df)=799535\u001b[0m\n",
      "\u001b[32m2025-03-27 01:33:45.977\u001b[0m | \u001b[1mINFO    \u001b[0m | \u001b[36m__main__\u001b[0m:\u001b[36m<module>\u001b[0m:\u001b[36m23\u001b[0m - \u001b[1mSampling round 2 started\u001b[0m\n",
      "\u001b[32m2025-03-27 01:33:46.124\u001b[0m | \u001b[1mINFO    \u001b[0m | \u001b[36m__main__\u001b[0m:\u001b[36m<module>\u001b[0m:\u001b[36m27\u001b[0m - \u001b[1mlen(uu)=1853\u001b[0m\n",
      "\u001b[32m2025-03-27 01:33:46.175\u001b[0m | \u001b[1mINFO    \u001b[0m | \u001b[36m__main__\u001b[0m:\u001b[36m<module>\u001b[0m:\u001b[36m31\u001b[0m - \u001b[1mAfter removing uu: len(sample_df)=792187\u001b[0m\n",
      "\u001b[32m2025-03-27 01:33:46.376\u001b[0m | \u001b[1mINFO    \u001b[0m | \u001b[36m__main__\u001b[0m:\u001b[36m<module>\u001b[0m:\u001b[36m36\u001b[0m - \u001b[1mlen(ui)=239\u001b[0m\n",
      "\u001b[32m2025-03-27 01:33:46.428\u001b[0m | \u001b[1mINFO    \u001b[0m | \u001b[36m__main__\u001b[0m:\u001b[36m<module>\u001b[0m:\u001b[36m40\u001b[0m - \u001b[1mAfter removing ui: len(sample_df)=790051\u001b[0m\n",
      "\u001b[32m2025-03-27 01:33:46.480\u001b[0m | \u001b[1mINFO    \u001b[0m | \u001b[36m__main__\u001b[0m:\u001b[36m<module>\u001b[0m:\u001b[36m23\u001b[0m - \u001b[1mSampling round 3 started\u001b[0m\n",
      "\u001b[32m2025-03-27 01:33:46.631\u001b[0m | \u001b[1mINFO    \u001b[0m | \u001b[36m__main__\u001b[0m:\u001b[36m<module>\u001b[0m:\u001b[36m27\u001b[0m - \u001b[1mlen(uu)=399\u001b[0m\n",
      "\u001b[32m2025-03-27 01:33:46.708\u001b[0m | \u001b[1mINFO    \u001b[0m | \u001b[36m__main__\u001b[0m:\u001b[36m<module>\u001b[0m:\u001b[36m31\u001b[0m - \u001b[1mAfter removing uu: len(sample_df)=788459\u001b[0m\n",
      "\u001b[32m2025-03-27 01:33:46.927\u001b[0m | \u001b[1mINFO    \u001b[0m | \u001b[36m__main__\u001b[0m:\u001b[36m<module>\u001b[0m:\u001b[36m36\u001b[0m - \u001b[1mlen(ui)=44\u001b[0m\n",
      "\u001b[32m2025-03-27 01:33:46.993\u001b[0m | \u001b[1mINFO    \u001b[0m | \u001b[36m__main__\u001b[0m:\u001b[36m<module>\u001b[0m:\u001b[36m40\u001b[0m - \u001b[1mAfter removing ui: len(sample_df)=788063\u001b[0m\n",
      "\u001b[32m2025-03-27 01:33:47.048\u001b[0m | \u001b[1mINFO    \u001b[0m | \u001b[36m__main__\u001b[0m:\u001b[36m<module>\u001b[0m:\u001b[36m23\u001b[0m - \u001b[1mSampling round 4 started\u001b[0m\n",
      "\u001b[32m2025-03-27 01:33:47.198\u001b[0m | \u001b[1mINFO    \u001b[0m | \u001b[36m__main__\u001b[0m:\u001b[36m<module>\u001b[0m:\u001b[36m27\u001b[0m - \u001b[1mlen(uu)=89\u001b[0m\n",
      "\u001b[32m2025-03-27 01:33:47.258\u001b[0m | \u001b[1mINFO    \u001b[0m | \u001b[36m__main__\u001b[0m:\u001b[36m<module>\u001b[0m:\u001b[36m31\u001b[0m - \u001b[1mAfter removing uu: len(sample_df)=787707\u001b[0m\n",
      "\u001b[32m2025-03-27 01:33:47.458\u001b[0m | \u001b[1mINFO    \u001b[0m | \u001b[36m__main__\u001b[0m:\u001b[36m<module>\u001b[0m:\u001b[36m36\u001b[0m - \u001b[1mlen(ui)=11\u001b[0m\n",
      "\u001b[32m2025-03-27 01:33:47.516\u001b[0m | \u001b[1mINFO    \u001b[0m | \u001b[36m__main__\u001b[0m:\u001b[36m<module>\u001b[0m:\u001b[36m40\u001b[0m - \u001b[1mAfter removing ui: len(sample_df)=787608\u001b[0m\n",
      "\u001b[32m2025-03-27 01:33:47.573\u001b[0m | \u001b[1mINFO    \u001b[0m | \u001b[36m__main__\u001b[0m:\u001b[36m<module>\u001b[0m:\u001b[36m23\u001b[0m - \u001b[1mSampling round 5 started\u001b[0m\n",
      "\u001b[32m2025-03-27 01:33:47.725\u001b[0m | \u001b[1mINFO    \u001b[0m | \u001b[36m__main__\u001b[0m:\u001b[36m<module>\u001b[0m:\u001b[36m27\u001b[0m - \u001b[1mlen(uu)=22\u001b[0m\n",
      "\u001b[32m2025-03-27 01:33:47.782\u001b[0m | \u001b[1mINFO    \u001b[0m | \u001b[36m__main__\u001b[0m:\u001b[36m<module>\u001b[0m:\u001b[36m31\u001b[0m - \u001b[1mAfter removing uu: len(sample_df)=787520\u001b[0m\n",
      "\u001b[32m2025-03-27 01:33:47.987\u001b[0m | \u001b[1mINFO    \u001b[0m | \u001b[36m__main__\u001b[0m:\u001b[36m<module>\u001b[0m:\u001b[36m36\u001b[0m - \u001b[1mlen(ui)=1\u001b[0m\n",
      "\u001b[32m2025-03-27 01:33:48.027\u001b[0m | \u001b[1mINFO    \u001b[0m | \u001b[36m__main__\u001b[0m:\u001b[36m<module>\u001b[0m:\u001b[36m40\u001b[0m - \u001b[1mAfter removing ui: len(sample_df)=787511\u001b[0m\n",
      "\u001b[32m2025-03-27 01:33:48.082\u001b[0m | \u001b[1mINFO    \u001b[0m | \u001b[36m__main__\u001b[0m:\u001b[36m<module>\u001b[0m:\u001b[36m23\u001b[0m - \u001b[1mSampling round 6 started\u001b[0m\n",
      "\u001b[32m2025-03-27 01:33:48.235\u001b[0m | \u001b[1mINFO    \u001b[0m | \u001b[36m__main__\u001b[0m:\u001b[36m<module>\u001b[0m:\u001b[36m27\u001b[0m - \u001b[1mlen(uu)=1\u001b[0m\n",
      "\u001b[32m2025-03-27 01:33:48.276\u001b[0m | \u001b[1mINFO    \u001b[0m | \u001b[36m__main__\u001b[0m:\u001b[36m<module>\u001b[0m:\u001b[36m31\u001b[0m - \u001b[1mAfter removing uu: len(sample_df)=787507\u001b[0m\n",
      "\u001b[32m2025-03-27 01:33:48.478\u001b[0m | \u001b[1mINFO    \u001b[0m | \u001b[36m__main__\u001b[0m:\u001b[36m<module>\u001b[0m:\u001b[36m36\u001b[0m - \u001b[1mlen(ui)=0\u001b[0m\n",
      "\u001b[32m2025-03-27 01:33:48.479\u001b[0m | \u001b[1mINFO    \u001b[0m | \u001b[36m__main__\u001b[0m:\u001b[36m<module>\u001b[0m:\u001b[36m23\u001b[0m - \u001b[1mSampling round 7 started\u001b[0m\n",
      "\u001b[32m2025-03-27 01:33:48.624\u001b[0m | \u001b[1mINFO    \u001b[0m | \u001b[36m__main__\u001b[0m:\u001b[36m<module>\u001b[0m:\u001b[36m27\u001b[0m - \u001b[1mlen(uu)=0\u001b[0m\n",
      "\u001b[32m2025-03-27 01:33:48.680\u001b[0m | \u001b[1mINFO    \u001b[0m | \u001b[36m__main__\u001b[0m:\u001b[36m<module>\u001b[0m:\u001b[36m36\u001b[0m - \u001b[1mlen(ui)=0\u001b[0m\n",
      "\u001b[32m2025-03-27 01:33:48.770\u001b[0m | \u001b[1mINFO    \u001b[0m | \u001b[36m__main__\u001b[0m:\u001b[36m<module>\u001b[0m:\u001b[36m48\u001b[0m - \u001b[1mAfter randomly removing users - round 36: num_users=92840\u001b[0m\n",
      "\u001b[32m2025-03-27 01:33:48.770\u001b[0m | \u001b[1mINFO    \u001b[0m | \u001b[36m__main__\u001b[0m:\u001b[36m<module>\u001b[0m:\u001b[36m54\u001b[0m - \u001b[1mNumber of users 92840 are still greater than expected, keep removing...\u001b[0m\n",
      "\u001b[32m2025-03-27 01:33:49.421\u001b[0m | \u001b[1mINFO    \u001b[0m | \u001b[36m__main__\u001b[0m:\u001b[36m<module>\u001b[0m:\u001b[36m23\u001b[0m - \u001b[1mSampling round 1 started\u001b[0m\n"
     ]
    },
    {
     "name": "stdout",
     "output_type": "stream",
     "text": [
      "\n",
      "\n",
      "Randomly removing 4642 users - Round 37 started\n"
     ]
    },
    {
     "name": "stderr",
     "output_type": "stream",
     "text": [
      "\u001b[32m2025-03-27 01:33:49.570\u001b[0m | \u001b[1mINFO    \u001b[0m | \u001b[36m__main__\u001b[0m:\u001b[36m<module>\u001b[0m:\u001b[36m27\u001b[0m - \u001b[1mlen(uu)=0\u001b[0m\n",
      "\u001b[32m2025-03-27 01:33:49.623\u001b[0m | \u001b[1mINFO    \u001b[0m | \u001b[36m__main__\u001b[0m:\u001b[36m<module>\u001b[0m:\u001b[36m36\u001b[0m - \u001b[1mlen(ui)=1220\u001b[0m\n",
      "\u001b[32m2025-03-27 01:33:49.683\u001b[0m | \u001b[1mINFO    \u001b[0m | \u001b[36m__main__\u001b[0m:\u001b[36m<module>\u001b[0m:\u001b[36m40\u001b[0m - \u001b[1mAfter removing ui: len(sample_df)=736756\u001b[0m\n",
      "\u001b[32m2025-03-27 01:33:49.731\u001b[0m | \u001b[1mINFO    \u001b[0m | \u001b[36m__main__\u001b[0m:\u001b[36m<module>\u001b[0m:\u001b[36m23\u001b[0m - \u001b[1mSampling round 2 started\u001b[0m\n",
      "\u001b[32m2025-03-27 01:33:49.873\u001b[0m | \u001b[1mINFO    \u001b[0m | \u001b[36m__main__\u001b[0m:\u001b[36m<module>\u001b[0m:\u001b[36m27\u001b[0m - \u001b[1mlen(uu)=1829\u001b[0m\n",
      "\u001b[32m2025-03-27 01:33:49.919\u001b[0m | \u001b[1mINFO    \u001b[0m | \u001b[36m__main__\u001b[0m:\u001b[36m<module>\u001b[0m:\u001b[36m31\u001b[0m - \u001b[1mAfter removing uu: len(sample_df)=729498\u001b[0m\n",
      "\u001b[32m2025-03-27 01:33:50.104\u001b[0m | \u001b[1mINFO    \u001b[0m | \u001b[36m__main__\u001b[0m:\u001b[36m<module>\u001b[0m:\u001b[36m36\u001b[0m - \u001b[1mlen(ui)=239\u001b[0m\n",
      "\u001b[32m2025-03-27 01:33:50.151\u001b[0m | \u001b[1mINFO    \u001b[0m | \u001b[36m__main__\u001b[0m:\u001b[36m<module>\u001b[0m:\u001b[36m40\u001b[0m - \u001b[1mAfter removing ui: len(sample_df)=727354\u001b[0m\n",
      "\u001b[32m2025-03-27 01:33:50.199\u001b[0m | \u001b[1mINFO    \u001b[0m | \u001b[36m__main__\u001b[0m:\u001b[36m<module>\u001b[0m:\u001b[36m23\u001b[0m - \u001b[1mSampling round 3 started\u001b[0m\n",
      "\u001b[32m2025-03-27 01:33:50.338\u001b[0m | \u001b[1mINFO    \u001b[0m | \u001b[36m__main__\u001b[0m:\u001b[36m<module>\u001b[0m:\u001b[36m27\u001b[0m - \u001b[1mlen(uu)=386\u001b[0m\n",
      "\u001b[32m2025-03-27 01:33:50.401\u001b[0m | \u001b[1mINFO    \u001b[0m | \u001b[36m__main__\u001b[0m:\u001b[36m<module>\u001b[0m:\u001b[36m31\u001b[0m - \u001b[1mAfter removing uu: len(sample_df)=725810\u001b[0m\n",
      "\u001b[32m2025-03-27 01:33:50.584\u001b[0m | \u001b[1mINFO    \u001b[0m | \u001b[36m__main__\u001b[0m:\u001b[36m<module>\u001b[0m:\u001b[36m36\u001b[0m - \u001b[1mlen(ui)=43\u001b[0m\n",
      "\u001b[32m2025-03-27 01:33:50.642\u001b[0m | \u001b[1mINFO    \u001b[0m | \u001b[36m__main__\u001b[0m:\u001b[36m<module>\u001b[0m:\u001b[36m40\u001b[0m - \u001b[1mAfter removing ui: len(sample_df)=725423\u001b[0m\n",
      "\u001b[32m2025-03-27 01:33:50.691\u001b[0m | \u001b[1mINFO    \u001b[0m | \u001b[36m__main__\u001b[0m:\u001b[36m<module>\u001b[0m:\u001b[36m23\u001b[0m - \u001b[1mSampling round 4 started\u001b[0m\n",
      "\u001b[32m2025-03-27 01:33:50.823\u001b[0m | \u001b[1mINFO    \u001b[0m | \u001b[36m__main__\u001b[0m:\u001b[36m<module>\u001b[0m:\u001b[36m27\u001b[0m - \u001b[1mlen(uu)=74\u001b[0m\n",
      "\u001b[32m2025-03-27 01:33:50.873\u001b[0m | \u001b[1mINFO    \u001b[0m | \u001b[36m__main__\u001b[0m:\u001b[36m<module>\u001b[0m:\u001b[36m31\u001b[0m - \u001b[1mAfter removing uu: len(sample_df)=725127\u001b[0m\n",
      "\u001b[32m2025-03-27 01:33:51.055\u001b[0m | \u001b[1mINFO    \u001b[0m | \u001b[36m__main__\u001b[0m:\u001b[36m<module>\u001b[0m:\u001b[36m36\u001b[0m - \u001b[1mlen(ui)=7\u001b[0m\n",
      "\u001b[32m2025-03-27 01:33:51.099\u001b[0m | \u001b[1mINFO    \u001b[0m | \u001b[36m__main__\u001b[0m:\u001b[36m<module>\u001b[0m:\u001b[36m40\u001b[0m - \u001b[1mAfter removing ui: len(sample_df)=725064\u001b[0m\n",
      "\u001b[32m2025-03-27 01:33:51.151\u001b[0m | \u001b[1mINFO    \u001b[0m | \u001b[36m__main__\u001b[0m:\u001b[36m<module>\u001b[0m:\u001b[36m23\u001b[0m - \u001b[1mSampling round 5 started\u001b[0m\n",
      "\u001b[32m2025-03-27 01:33:51.288\u001b[0m | \u001b[1mINFO    \u001b[0m | \u001b[36m__main__\u001b[0m:\u001b[36m<module>\u001b[0m:\u001b[36m27\u001b[0m - \u001b[1mlen(uu)=15\u001b[0m\n",
      "\u001b[32m2025-03-27 01:33:51.332\u001b[0m | \u001b[1mINFO    \u001b[0m | \u001b[36m__main__\u001b[0m:\u001b[36m<module>\u001b[0m:\u001b[36m31\u001b[0m - \u001b[1mAfter removing uu: len(sample_df)=725004\u001b[0m\n",
      "\u001b[32m2025-03-27 01:33:51.523\u001b[0m | \u001b[1mINFO    \u001b[0m | \u001b[36m__main__\u001b[0m:\u001b[36m<module>\u001b[0m:\u001b[36m36\u001b[0m - \u001b[1mlen(ui)=2\u001b[0m\n",
      "\u001b[32m2025-03-27 01:33:51.566\u001b[0m | \u001b[1mINFO    \u001b[0m | \u001b[36m__main__\u001b[0m:\u001b[36m<module>\u001b[0m:\u001b[36m40\u001b[0m - \u001b[1mAfter removing ui: len(sample_df)=724986\u001b[0m\n",
      "\u001b[32m2025-03-27 01:33:51.661\u001b[0m | \u001b[1mINFO    \u001b[0m | \u001b[36m__main__\u001b[0m:\u001b[36m<module>\u001b[0m:\u001b[36m23\u001b[0m - \u001b[1mSampling round 6 started\u001b[0m\n",
      "\u001b[32m2025-03-27 01:33:51.807\u001b[0m | \u001b[1mINFO    \u001b[0m | \u001b[36m__main__\u001b[0m:\u001b[36m<module>\u001b[0m:\u001b[36m27\u001b[0m - \u001b[1mlen(uu)=5\u001b[0m\n",
      "\u001b[32m2025-03-27 01:33:51.853\u001b[0m | \u001b[1mINFO    \u001b[0m | \u001b[36m__main__\u001b[0m:\u001b[36m<module>\u001b[0m:\u001b[36m31\u001b[0m - \u001b[1mAfter removing uu: len(sample_df)=724966\u001b[0m\n",
      "\u001b[32m2025-03-27 01:33:52.041\u001b[0m | \u001b[1mINFO    \u001b[0m | \u001b[36m__main__\u001b[0m:\u001b[36m<module>\u001b[0m:\u001b[36m36\u001b[0m - \u001b[1mlen(ui)=3\u001b[0m\n",
      "\u001b[32m2025-03-27 01:33:52.095\u001b[0m | \u001b[1mINFO    \u001b[0m | \u001b[36m__main__\u001b[0m:\u001b[36m<module>\u001b[0m:\u001b[36m40\u001b[0m - \u001b[1mAfter removing ui: len(sample_df)=724939\u001b[0m\n",
      "\u001b[32m2025-03-27 01:33:52.144\u001b[0m | \u001b[1mINFO    \u001b[0m | \u001b[36m__main__\u001b[0m:\u001b[36m<module>\u001b[0m:\u001b[36m23\u001b[0m - \u001b[1mSampling round 7 started\u001b[0m\n",
      "\u001b[32m2025-03-27 01:33:52.281\u001b[0m | \u001b[1mINFO    \u001b[0m | \u001b[36m__main__\u001b[0m:\u001b[36m<module>\u001b[0m:\u001b[36m27\u001b[0m - \u001b[1mlen(uu)=3\u001b[0m\n",
      "\u001b[32m2025-03-27 01:33:52.329\u001b[0m | \u001b[1mINFO    \u001b[0m | \u001b[36m__main__\u001b[0m:\u001b[36m<module>\u001b[0m:\u001b[36m31\u001b[0m - \u001b[1mAfter removing uu: len(sample_df)=724927\u001b[0m\n",
      "\u001b[32m2025-03-27 01:33:52.514\u001b[0m | \u001b[1mINFO    \u001b[0m | \u001b[36m__main__\u001b[0m:\u001b[36m<module>\u001b[0m:\u001b[36m36\u001b[0m - \u001b[1mlen(ui)=0\u001b[0m\n",
      "\u001b[32m2025-03-27 01:33:52.515\u001b[0m | \u001b[1mINFO    \u001b[0m | \u001b[36m__main__\u001b[0m:\u001b[36m<module>\u001b[0m:\u001b[36m23\u001b[0m - \u001b[1mSampling round 8 started\u001b[0m\n",
      "\u001b[32m2025-03-27 01:33:52.655\u001b[0m | \u001b[1mINFO    \u001b[0m | \u001b[36m__main__\u001b[0m:\u001b[36m<module>\u001b[0m:\u001b[36m27\u001b[0m - \u001b[1mlen(uu)=0\u001b[0m\n",
      "\u001b[32m2025-03-27 01:33:52.707\u001b[0m | \u001b[1mINFO    \u001b[0m | \u001b[36m__main__\u001b[0m:\u001b[36m<module>\u001b[0m:\u001b[36m36\u001b[0m - \u001b[1mlen(ui)=0\u001b[0m\n",
      "\u001b[32m2025-03-27 01:33:52.792\u001b[0m | \u001b[1mINFO    \u001b[0m | \u001b[36m__main__\u001b[0m:\u001b[36m<module>\u001b[0m:\u001b[36m48\u001b[0m - \u001b[1mAfter randomly removing users - round 37: num_users=85886\u001b[0m\n",
      "\u001b[32m2025-03-27 01:33:52.793\u001b[0m | \u001b[1mINFO    \u001b[0m | \u001b[36m__main__\u001b[0m:\u001b[36m<module>\u001b[0m:\u001b[36m54\u001b[0m - \u001b[1mNumber of users 85886 are still greater than expected, keep removing...\u001b[0m\n",
      "\u001b[32m2025-03-27 01:33:53.393\u001b[0m | \u001b[1mINFO    \u001b[0m | \u001b[36m__main__\u001b[0m:\u001b[36m<module>\u001b[0m:\u001b[36m23\u001b[0m - \u001b[1mSampling round 1 started\u001b[0m\n"
     ]
    },
    {
     "name": "stdout",
     "output_type": "stream",
     "text": [
      "\n",
      "\n",
      "Randomly removing 4294 users - Round 38 started\n"
     ]
    },
    {
     "name": "stderr",
     "output_type": "stream",
     "text": [
      "\u001b[32m2025-03-27 01:33:53.520\u001b[0m | \u001b[1mINFO    \u001b[0m | \u001b[36m__main__\u001b[0m:\u001b[36m<module>\u001b[0m:\u001b[36m27\u001b[0m - \u001b[1mlen(uu)=0\u001b[0m\n",
      "\u001b[32m2025-03-27 01:33:53.575\u001b[0m | \u001b[1mINFO    \u001b[0m | \u001b[36m__main__\u001b[0m:\u001b[36m<module>\u001b[0m:\u001b[36m36\u001b[0m - \u001b[1mlen(ui)=1044\u001b[0m\n",
      "\u001b[32m2025-03-27 01:33:53.625\u001b[0m | \u001b[1mINFO    \u001b[0m | \u001b[36m__main__\u001b[0m:\u001b[36m<module>\u001b[0m:\u001b[36m40\u001b[0m - \u001b[1mAfter removing ui: len(sample_df)=679962\u001b[0m\n",
      "\u001b[32m2025-03-27 01:33:53.670\u001b[0m | \u001b[1mINFO    \u001b[0m | \u001b[36m__main__\u001b[0m:\u001b[36m<module>\u001b[0m:\u001b[36m23\u001b[0m - \u001b[1mSampling round 2 started\u001b[0m\n",
      "\u001b[32m2025-03-27 01:33:53.797\u001b[0m | \u001b[1mINFO    \u001b[0m | \u001b[36m__main__\u001b[0m:\u001b[36m<module>\u001b[0m:\u001b[36m27\u001b[0m - \u001b[1mlen(uu)=1665\u001b[0m\n",
      "\u001b[32m2025-03-27 01:33:53.836\u001b[0m | \u001b[1mINFO    \u001b[0m | \u001b[36m__main__\u001b[0m:\u001b[36m<module>\u001b[0m:\u001b[36m31\u001b[0m - \u001b[1mAfter removing uu: len(sample_df)=673349\u001b[0m\n",
      "\u001b[32m2025-03-27 01:33:54.009\u001b[0m | \u001b[1mINFO    \u001b[0m | \u001b[36m__main__\u001b[0m:\u001b[36m<module>\u001b[0m:\u001b[36m36\u001b[0m - \u001b[1mlen(ui)=249\u001b[0m\n",
      "\u001b[32m2025-03-27 01:33:54.055\u001b[0m | \u001b[1mINFO    \u001b[0m | \u001b[36m__main__\u001b[0m:\u001b[36m<module>\u001b[0m:\u001b[36m40\u001b[0m - \u001b[1mAfter removing ui: len(sample_df)=671127\u001b[0m\n",
      "\u001b[32m2025-03-27 01:33:54.100\u001b[0m | \u001b[1mINFO    \u001b[0m | \u001b[36m__main__\u001b[0m:\u001b[36m<module>\u001b[0m:\u001b[36m23\u001b[0m - \u001b[1mSampling round 3 started\u001b[0m\n",
      "\u001b[32m2025-03-27 01:33:54.227\u001b[0m | \u001b[1mINFO    \u001b[0m | \u001b[36m__main__\u001b[0m:\u001b[36m<module>\u001b[0m:\u001b[36m27\u001b[0m - \u001b[1mlen(uu)=452\u001b[0m\n",
      "\u001b[32m2025-03-27 01:33:54.266\u001b[0m | \u001b[1mINFO    \u001b[0m | \u001b[36m__main__\u001b[0m:\u001b[36m<module>\u001b[0m:\u001b[36m31\u001b[0m - \u001b[1mAfter removing uu: len(sample_df)=669323\u001b[0m\n",
      "\u001b[32m2025-03-27 01:33:54.439\u001b[0m | \u001b[1mINFO    \u001b[0m | \u001b[36m__main__\u001b[0m:\u001b[36m<module>\u001b[0m:\u001b[36m36\u001b[0m - \u001b[1mlen(ui)=66\u001b[0m\n",
      "\u001b[32m2025-03-27 01:33:54.485\u001b[0m | \u001b[1mINFO    \u001b[0m | \u001b[36m__main__\u001b[0m:\u001b[36m<module>\u001b[0m:\u001b[36m40\u001b[0m - \u001b[1mAfter removing ui: len(sample_df)=668730\u001b[0m\n",
      "\u001b[32m2025-03-27 01:33:54.534\u001b[0m | \u001b[1mINFO    \u001b[0m | \u001b[36m__main__\u001b[0m:\u001b[36m<module>\u001b[0m:\u001b[36m23\u001b[0m - \u001b[1mSampling round 4 started\u001b[0m\n",
      "\u001b[32m2025-03-27 01:33:54.687\u001b[0m | \u001b[1mINFO    \u001b[0m | \u001b[36m__main__\u001b[0m:\u001b[36m<module>\u001b[0m:\u001b[36m27\u001b[0m - \u001b[1mlen(uu)=121\u001b[0m\n",
      "\u001b[32m2025-03-27 01:33:54.728\u001b[0m | \u001b[1mINFO    \u001b[0m | \u001b[36m__main__\u001b[0m:\u001b[36m<module>\u001b[0m:\u001b[36m31\u001b[0m - \u001b[1mAfter removing uu: len(sample_df)=668246\u001b[0m\n",
      "\u001b[32m2025-03-27 01:33:54.894\u001b[0m | \u001b[1mINFO    \u001b[0m | \u001b[36m__main__\u001b[0m:\u001b[36m<module>\u001b[0m:\u001b[36m36\u001b[0m - \u001b[1mlen(ui)=10\u001b[0m\n",
      "\u001b[32m2025-03-27 01:33:54.942\u001b[0m | \u001b[1mINFO    \u001b[0m | \u001b[36m__main__\u001b[0m:\u001b[36m<module>\u001b[0m:\u001b[36m40\u001b[0m - \u001b[1mAfter removing ui: len(sample_df)=668156\u001b[0m\n",
      "\u001b[32m2025-03-27 01:33:54.989\u001b[0m | \u001b[1mINFO    \u001b[0m | \u001b[36m__main__\u001b[0m:\u001b[36m<module>\u001b[0m:\u001b[36m23\u001b[0m - \u001b[1mSampling round 5 started\u001b[0m\n",
      "\u001b[32m2025-03-27 01:33:55.115\u001b[0m | \u001b[1mINFO    \u001b[0m | \u001b[36m__main__\u001b[0m:\u001b[36m<module>\u001b[0m:\u001b[36m27\u001b[0m - \u001b[1mlen(uu)=12\u001b[0m\n",
      "\u001b[32m2025-03-27 01:33:55.162\u001b[0m | \u001b[1mINFO    \u001b[0m | \u001b[36m__main__\u001b[0m:\u001b[36m<module>\u001b[0m:\u001b[36m31\u001b[0m - \u001b[1mAfter removing uu: len(sample_df)=668108\u001b[0m\n",
      "\u001b[32m2025-03-27 01:33:55.329\u001b[0m | \u001b[1mINFO    \u001b[0m | \u001b[36m__main__\u001b[0m:\u001b[36m<module>\u001b[0m:\u001b[36m36\u001b[0m - \u001b[1mlen(ui)=2\u001b[0m\n",
      "\u001b[32m2025-03-27 01:33:55.367\u001b[0m | \u001b[1mINFO    \u001b[0m | \u001b[36m__main__\u001b[0m:\u001b[36m<module>\u001b[0m:\u001b[36m40\u001b[0m - \u001b[1mAfter removing ui: len(sample_df)=668090\u001b[0m\n",
      "\u001b[32m2025-03-27 01:33:55.416\u001b[0m | \u001b[1mINFO    \u001b[0m | \u001b[36m__main__\u001b[0m:\u001b[36m<module>\u001b[0m:\u001b[36m23\u001b[0m - \u001b[1mSampling round 6 started\u001b[0m\n",
      "\u001b[32m2025-03-27 01:33:55.558\u001b[0m | \u001b[1mINFO    \u001b[0m | \u001b[36m__main__\u001b[0m:\u001b[36m<module>\u001b[0m:\u001b[36m27\u001b[0m - \u001b[1mlen(uu)=1\u001b[0m\n",
      "\u001b[32m2025-03-27 01:33:55.594\u001b[0m | \u001b[1mINFO    \u001b[0m | \u001b[36m__main__\u001b[0m:\u001b[36m<module>\u001b[0m:\u001b[36m31\u001b[0m - \u001b[1mAfter removing uu: len(sample_df)=668086\u001b[0m\n",
      "\u001b[32m2025-03-27 01:33:55.757\u001b[0m | \u001b[1mINFO    \u001b[0m | \u001b[36m__main__\u001b[0m:\u001b[36m<module>\u001b[0m:\u001b[36m36\u001b[0m - \u001b[1mlen(ui)=0\u001b[0m\n",
      "\u001b[32m2025-03-27 01:33:55.758\u001b[0m | \u001b[1mINFO    \u001b[0m | \u001b[36m__main__\u001b[0m:\u001b[36m<module>\u001b[0m:\u001b[36m23\u001b[0m - \u001b[1mSampling round 7 started\u001b[0m\n",
      "\u001b[32m2025-03-27 01:33:55.881\u001b[0m | \u001b[1mINFO    \u001b[0m | \u001b[36m__main__\u001b[0m:\u001b[36m<module>\u001b[0m:\u001b[36m27\u001b[0m - \u001b[1mlen(uu)=0\u001b[0m\n",
      "\u001b[32m2025-03-27 01:33:55.929\u001b[0m | \u001b[1mINFO    \u001b[0m | \u001b[36m__main__\u001b[0m:\u001b[36m<module>\u001b[0m:\u001b[36m36\u001b[0m - \u001b[1mlen(ui)=0\u001b[0m\n",
      "\u001b[32m2025-03-27 01:33:56.003\u001b[0m | \u001b[1mINFO    \u001b[0m | \u001b[36m__main__\u001b[0m:\u001b[36m<module>\u001b[0m:\u001b[36m48\u001b[0m - \u001b[1mAfter randomly removing users - round 38: num_users=79341\u001b[0m\n",
      "\u001b[32m2025-03-27 01:33:56.004\u001b[0m | \u001b[1mINFO    \u001b[0m | \u001b[36m__main__\u001b[0m:\u001b[36m<module>\u001b[0m:\u001b[36m54\u001b[0m - \u001b[1mNumber of users 79341 are still greater than expected, keep removing...\u001b[0m\n",
      "\u001b[32m2025-03-27 01:33:56.527\u001b[0m | \u001b[1mINFO    \u001b[0m | \u001b[36m__main__\u001b[0m:\u001b[36m<module>\u001b[0m:\u001b[36m23\u001b[0m - \u001b[1mSampling round 1 started\u001b[0m\n",
      "\u001b[32m2025-03-27 01:33:56.642\u001b[0m | \u001b[1mINFO    \u001b[0m | \u001b[36m__main__\u001b[0m:\u001b[36m<module>\u001b[0m:\u001b[36m27\u001b[0m - \u001b[1mlen(uu)=0\u001b[0m\n"
     ]
    },
    {
     "name": "stdout",
     "output_type": "stream",
     "text": [
      "\n",
      "\n",
      "Randomly removing 3967 users - Round 39 started\n"
     ]
    },
    {
     "name": "stderr",
     "output_type": "stream",
     "text": [
      "\u001b[32m2025-03-27 01:33:56.692\u001b[0m | \u001b[1mINFO    \u001b[0m | \u001b[36m__main__\u001b[0m:\u001b[36m<module>\u001b[0m:\u001b[36m36\u001b[0m - \u001b[1mlen(ui)=1007\u001b[0m\n",
      "\u001b[32m2025-03-27 01:33:56.738\u001b[0m | \u001b[1mINFO    \u001b[0m | \u001b[36m__main__\u001b[0m:\u001b[36m<module>\u001b[0m:\u001b[36m40\u001b[0m - \u001b[1mAfter removing ui: len(sample_df)=626158\u001b[0m\n",
      "\u001b[32m2025-03-27 01:33:56.779\u001b[0m | \u001b[1mINFO    \u001b[0m | \u001b[36m__main__\u001b[0m:\u001b[36m<module>\u001b[0m:\u001b[36m23\u001b[0m - \u001b[1mSampling round 2 started\u001b[0m\n",
      "\u001b[32m2025-03-27 01:33:56.896\u001b[0m | \u001b[1mINFO    \u001b[0m | \u001b[36m__main__\u001b[0m:\u001b[36m<module>\u001b[0m:\u001b[36m27\u001b[0m - \u001b[1mlen(uu)=1613\u001b[0m\n",
      "\u001b[32m2025-03-27 01:33:56.935\u001b[0m | \u001b[1mINFO    \u001b[0m | \u001b[36m__main__\u001b[0m:\u001b[36m<module>\u001b[0m:\u001b[36m31\u001b[0m - \u001b[1mAfter removing uu: len(sample_df)=619752\u001b[0m\n",
      "\u001b[32m2025-03-27 01:33:57.092\u001b[0m | \u001b[1mINFO    \u001b[0m | \u001b[36m__main__\u001b[0m:\u001b[36m<module>\u001b[0m:\u001b[36m36\u001b[0m - \u001b[1mlen(ui)=222\u001b[0m\n",
      "\u001b[32m2025-03-27 01:33:57.131\u001b[0m | \u001b[1mINFO    \u001b[0m | \u001b[36m__main__\u001b[0m:\u001b[36m<module>\u001b[0m:\u001b[36m40\u001b[0m - \u001b[1mAfter removing ui: len(sample_df)=617766\u001b[0m\n",
      "\u001b[32m2025-03-27 01:33:57.175\u001b[0m | \u001b[1mINFO    \u001b[0m | \u001b[36m__main__\u001b[0m:\u001b[36m<module>\u001b[0m:\u001b[36m23\u001b[0m - \u001b[1mSampling round 3 started\u001b[0m\n",
      "\u001b[32m2025-03-27 01:33:57.293\u001b[0m | \u001b[1mINFO    \u001b[0m | \u001b[36m__main__\u001b[0m:\u001b[36m<module>\u001b[0m:\u001b[36m27\u001b[0m - \u001b[1mlen(uu)=370\u001b[0m\n",
      "\u001b[32m2025-03-27 01:33:57.341\u001b[0m | \u001b[1mINFO    \u001b[0m | \u001b[36m__main__\u001b[0m:\u001b[36m<module>\u001b[0m:\u001b[36m31\u001b[0m - \u001b[1mAfter removing uu: len(sample_df)=616287\u001b[0m\n",
      "\u001b[32m2025-03-27 01:33:57.490\u001b[0m | \u001b[1mINFO    \u001b[0m | \u001b[36m__main__\u001b[0m:\u001b[36m<module>\u001b[0m:\u001b[36m36\u001b[0m - \u001b[1mlen(ui)=61\u001b[0m\n",
      "\u001b[32m2025-03-27 01:33:57.533\u001b[0m | \u001b[1mINFO    \u001b[0m | \u001b[36m__main__\u001b[0m:\u001b[36m<module>\u001b[0m:\u001b[36m40\u001b[0m - \u001b[1mAfter removing ui: len(sample_df)=615739\u001b[0m\n",
      "\u001b[32m2025-03-27 01:33:57.574\u001b[0m | \u001b[1mINFO    \u001b[0m | \u001b[36m__main__\u001b[0m:\u001b[36m<module>\u001b[0m:\u001b[36m23\u001b[0m - \u001b[1mSampling round 4 started\u001b[0m\n",
      "\u001b[32m2025-03-27 01:33:57.688\u001b[0m | \u001b[1mINFO    \u001b[0m | \u001b[36m__main__\u001b[0m:\u001b[36m<module>\u001b[0m:\u001b[36m27\u001b[0m - \u001b[1mlen(uu)=111\u001b[0m\n",
      "\u001b[32m2025-03-27 01:33:57.723\u001b[0m | \u001b[1mINFO    \u001b[0m | \u001b[36m__main__\u001b[0m:\u001b[36m<module>\u001b[0m:\u001b[36m31\u001b[0m - \u001b[1mAfter removing uu: len(sample_df)=615295\u001b[0m\n",
      "\u001b[32m2025-03-27 01:33:57.875\u001b[0m | \u001b[1mINFO    \u001b[0m | \u001b[36m__main__\u001b[0m:\u001b[36m<module>\u001b[0m:\u001b[36m36\u001b[0m - \u001b[1mlen(ui)=13\u001b[0m\n",
      "\u001b[32m2025-03-27 01:33:57.911\u001b[0m | \u001b[1mINFO    \u001b[0m | \u001b[36m__main__\u001b[0m:\u001b[36m<module>\u001b[0m:\u001b[36m40\u001b[0m - \u001b[1mAfter removing ui: len(sample_df)=615178\u001b[0m\n",
      "\u001b[32m2025-03-27 01:33:57.952\u001b[0m | \u001b[1mINFO    \u001b[0m | \u001b[36m__main__\u001b[0m:\u001b[36m<module>\u001b[0m:\u001b[36m23\u001b[0m - \u001b[1mSampling round 5 started\u001b[0m\n",
      "\u001b[32m2025-03-27 01:33:58.074\u001b[0m | \u001b[1mINFO    \u001b[0m | \u001b[36m__main__\u001b[0m:\u001b[36m<module>\u001b[0m:\u001b[36m27\u001b[0m - \u001b[1mlen(uu)=17\u001b[0m\n",
      "\u001b[32m2025-03-27 01:33:58.109\u001b[0m | \u001b[1mINFO    \u001b[0m | \u001b[36m__main__\u001b[0m:\u001b[36m<module>\u001b[0m:\u001b[36m31\u001b[0m - \u001b[1mAfter removing uu: len(sample_df)=615110\u001b[0m\n",
      "\u001b[32m2025-03-27 01:33:58.264\u001b[0m | \u001b[1mINFO    \u001b[0m | \u001b[36m__main__\u001b[0m:\u001b[36m<module>\u001b[0m:\u001b[36m36\u001b[0m - \u001b[1mlen(ui)=4\u001b[0m\n",
      "\u001b[32m2025-03-27 01:33:58.304\u001b[0m | \u001b[1mINFO    \u001b[0m | \u001b[36m__main__\u001b[0m:\u001b[36m<module>\u001b[0m:\u001b[36m40\u001b[0m - \u001b[1mAfter removing ui: len(sample_df)=615074\u001b[0m\n",
      "\u001b[32m2025-03-27 01:33:58.350\u001b[0m | \u001b[1mINFO    \u001b[0m | \u001b[36m__main__\u001b[0m:\u001b[36m<module>\u001b[0m:\u001b[36m23\u001b[0m - \u001b[1mSampling round 6 started\u001b[0m\n",
      "\u001b[32m2025-03-27 01:33:58.467\u001b[0m | \u001b[1mINFO    \u001b[0m | \u001b[36m__main__\u001b[0m:\u001b[36m<module>\u001b[0m:\u001b[36m27\u001b[0m - \u001b[1mlen(uu)=7\u001b[0m\n",
      "\u001b[32m2025-03-27 01:33:58.504\u001b[0m | \u001b[1mINFO    \u001b[0m | \u001b[36m__main__\u001b[0m:\u001b[36m<module>\u001b[0m:\u001b[36m31\u001b[0m - \u001b[1mAfter removing uu: len(sample_df)=615046\u001b[0m\n",
      "\u001b[32m2025-03-27 01:33:58.658\u001b[0m | \u001b[1mINFO    \u001b[0m | \u001b[36m__main__\u001b[0m:\u001b[36m<module>\u001b[0m:\u001b[36m36\u001b[0m - \u001b[1mlen(ui)=1\u001b[0m\n",
      "\u001b[32m2025-03-27 01:33:58.690\u001b[0m | \u001b[1mINFO    \u001b[0m | \u001b[36m__main__\u001b[0m:\u001b[36m<module>\u001b[0m:\u001b[36m40\u001b[0m - \u001b[1mAfter removing ui: len(sample_df)=615037\u001b[0m\n",
      "\u001b[32m2025-03-27 01:33:58.731\u001b[0m | \u001b[1mINFO    \u001b[0m | \u001b[36m__main__\u001b[0m:\u001b[36m<module>\u001b[0m:\u001b[36m23\u001b[0m - \u001b[1mSampling round 7 started\u001b[0m\n",
      "\u001b[32m2025-03-27 01:33:58.848\u001b[0m | \u001b[1mINFO    \u001b[0m | \u001b[36m__main__\u001b[0m:\u001b[36m<module>\u001b[0m:\u001b[36m27\u001b[0m - \u001b[1mlen(uu)=2\u001b[0m\n",
      "\u001b[32m2025-03-27 01:33:58.881\u001b[0m | \u001b[1mINFO    \u001b[0m | \u001b[36m__main__\u001b[0m:\u001b[36m<module>\u001b[0m:\u001b[36m31\u001b[0m - \u001b[1mAfter removing uu: len(sample_df)=615029\u001b[0m\n",
      "\u001b[32m2025-03-27 01:33:59.036\u001b[0m | \u001b[1mINFO    \u001b[0m | \u001b[36m__main__\u001b[0m:\u001b[36m<module>\u001b[0m:\u001b[36m36\u001b[0m - \u001b[1mlen(ui)=0\u001b[0m\n",
      "\u001b[32m2025-03-27 01:33:59.036\u001b[0m | \u001b[1mINFO    \u001b[0m | \u001b[36m__main__\u001b[0m:\u001b[36m<module>\u001b[0m:\u001b[36m23\u001b[0m - \u001b[1mSampling round 8 started\u001b[0m\n",
      "\u001b[32m2025-03-27 01:33:59.151\u001b[0m | \u001b[1mINFO    \u001b[0m | \u001b[36m__main__\u001b[0m:\u001b[36m<module>\u001b[0m:\u001b[36m27\u001b[0m - \u001b[1mlen(uu)=0\u001b[0m\n",
      "\u001b[32m2025-03-27 01:33:59.193\u001b[0m | \u001b[1mINFO    \u001b[0m | \u001b[36m__main__\u001b[0m:\u001b[36m<module>\u001b[0m:\u001b[36m36\u001b[0m - \u001b[1mlen(ui)=0\u001b[0m\n",
      "\u001b[32m2025-03-27 01:33:59.269\u001b[0m | \u001b[1mINFO    \u001b[0m | \u001b[36m__main__\u001b[0m:\u001b[36m<module>\u001b[0m:\u001b[36m48\u001b[0m - \u001b[1mAfter randomly removing users - round 39: num_users=73254\u001b[0m\n",
      "\u001b[32m2025-03-27 01:33:59.269\u001b[0m | \u001b[1mINFO    \u001b[0m | \u001b[36m__main__\u001b[0m:\u001b[36m<module>\u001b[0m:\u001b[36m54\u001b[0m - \u001b[1mNumber of users 73254 are still greater than expected, keep removing...\u001b[0m\n",
      "\u001b[32m2025-03-27 01:33:59.743\u001b[0m | \u001b[1mINFO    \u001b[0m | \u001b[36m__main__\u001b[0m:\u001b[36m<module>\u001b[0m:\u001b[36m23\u001b[0m - \u001b[1mSampling round 1 started\u001b[0m\n",
      "\u001b[32m2025-03-27 01:33:59.845\u001b[0m | \u001b[1mINFO    \u001b[0m | \u001b[36m__main__\u001b[0m:\u001b[36m<module>\u001b[0m:\u001b[36m27\u001b[0m - \u001b[1mlen(uu)=0\u001b[0m\n"
     ]
    },
    {
     "name": "stdout",
     "output_type": "stream",
     "text": [
      "\n",
      "\n",
      "Randomly removing 3662 users - Round 40 started\n"
     ]
    },
    {
     "name": "stderr",
     "output_type": "stream",
     "text": [
      "\u001b[32m2025-03-27 01:33:59.885\u001b[0m | \u001b[1mINFO    \u001b[0m | \u001b[36m__main__\u001b[0m:\u001b[36m<module>\u001b[0m:\u001b[36m36\u001b[0m - \u001b[1mlen(ui)=964\u001b[0m\n",
      "\u001b[32m2025-03-27 01:33:59.926\u001b[0m | \u001b[1mINFO    \u001b[0m | \u001b[36m__main__\u001b[0m:\u001b[36m<module>\u001b[0m:\u001b[36m40\u001b[0m - \u001b[1mAfter removing ui: len(sample_df)=576031\u001b[0m\n",
      "\u001b[32m2025-03-27 01:33:59.964\u001b[0m | \u001b[1mINFO    \u001b[0m | \u001b[36m__main__\u001b[0m:\u001b[36m<module>\u001b[0m:\u001b[36m23\u001b[0m - \u001b[1mSampling round 2 started\u001b[0m\n",
      "\u001b[32m2025-03-27 01:34:00.074\u001b[0m | \u001b[1mINFO    \u001b[0m | \u001b[36m__main__\u001b[0m:\u001b[36m<module>\u001b[0m:\u001b[36m27\u001b[0m - \u001b[1mlen(uu)=1531\u001b[0m\n",
      "\u001b[32m2025-03-27 01:34:00.118\u001b[0m | \u001b[1mINFO    \u001b[0m | \u001b[36m__main__\u001b[0m:\u001b[36m<module>\u001b[0m:\u001b[36m31\u001b[0m - \u001b[1mAfter removing uu: len(sample_df)=569955\u001b[0m\n",
      "\u001b[32m2025-03-27 01:34:00.260\u001b[0m | \u001b[1mINFO    \u001b[0m | \u001b[36m__main__\u001b[0m:\u001b[36m<module>\u001b[0m:\u001b[36m36\u001b[0m - \u001b[1mlen(ui)=215\u001b[0m\n",
      "\u001b[32m2025-03-27 01:34:00.296\u001b[0m | \u001b[1mINFO    \u001b[0m | \u001b[36m__main__\u001b[0m:\u001b[36m<module>\u001b[0m:\u001b[36m40\u001b[0m - \u001b[1mAfter removing ui: len(sample_df)=568028\u001b[0m\n",
      "\u001b[32m2025-03-27 01:34:00.334\u001b[0m | \u001b[1mINFO    \u001b[0m | \u001b[36m__main__\u001b[0m:\u001b[36m<module>\u001b[0m:\u001b[36m23\u001b[0m - \u001b[1mSampling round 3 started\u001b[0m\n",
      "\u001b[32m2025-03-27 01:34:00.438\u001b[0m | \u001b[1mINFO    \u001b[0m | \u001b[36m__main__\u001b[0m:\u001b[36m<module>\u001b[0m:\u001b[36m27\u001b[0m - \u001b[1mlen(uu)=380\u001b[0m\n",
      "\u001b[32m2025-03-27 01:34:00.483\u001b[0m | \u001b[1mINFO    \u001b[0m | \u001b[36m__main__\u001b[0m:\u001b[36m<module>\u001b[0m:\u001b[36m31\u001b[0m - \u001b[1mAfter removing uu: len(sample_df)=566511\u001b[0m\n",
      "\u001b[32m2025-03-27 01:34:00.619\u001b[0m | \u001b[1mINFO    \u001b[0m | \u001b[36m__main__\u001b[0m:\u001b[36m<module>\u001b[0m:\u001b[36m36\u001b[0m - \u001b[1mlen(ui)=53\u001b[0m\n",
      "\u001b[32m2025-03-27 01:34:00.654\u001b[0m | \u001b[1mINFO    \u001b[0m | \u001b[36m__main__\u001b[0m:\u001b[36m<module>\u001b[0m:\u001b[36m40\u001b[0m - \u001b[1mAfter removing ui: len(sample_df)=566035\u001b[0m\n",
      "\u001b[32m2025-03-27 01:34:00.691\u001b[0m | \u001b[1mINFO    \u001b[0m | \u001b[36m__main__\u001b[0m:\u001b[36m<module>\u001b[0m:\u001b[36m23\u001b[0m - \u001b[1mSampling round 4 started\u001b[0m\n",
      "\u001b[32m2025-03-27 01:34:00.791\u001b[0m | \u001b[1mINFO    \u001b[0m | \u001b[36m__main__\u001b[0m:\u001b[36m<module>\u001b[0m:\u001b[36m27\u001b[0m - \u001b[1mlen(uu)=94\u001b[0m\n",
      "\u001b[32m2025-03-27 01:34:00.859\u001b[0m | \u001b[1mINFO    \u001b[0m | \u001b[36m__main__\u001b[0m:\u001b[36m<module>\u001b[0m:\u001b[36m31\u001b[0m - \u001b[1mAfter removing uu: len(sample_df)=565659\u001b[0m\n",
      "\u001b[32m2025-03-27 01:34:01.017\u001b[0m | \u001b[1mINFO    \u001b[0m | \u001b[36m__main__\u001b[0m:\u001b[36m<module>\u001b[0m:\u001b[36m36\u001b[0m - \u001b[1mlen(ui)=14\u001b[0m\n",
      "\u001b[32m2025-03-27 01:34:01.054\u001b[0m | \u001b[1mINFO    \u001b[0m | \u001b[36m__main__\u001b[0m:\u001b[36m<module>\u001b[0m:\u001b[36m40\u001b[0m - \u001b[1mAfter removing ui: len(sample_df)=565533\u001b[0m\n",
      "\u001b[32m2025-03-27 01:34:01.094\u001b[0m | \u001b[1mINFO    \u001b[0m | \u001b[36m__main__\u001b[0m:\u001b[36m<module>\u001b[0m:\u001b[36m23\u001b[0m - \u001b[1mSampling round 5 started\u001b[0m\n",
      "\u001b[32m2025-03-27 01:34:01.197\u001b[0m | \u001b[1mINFO    \u001b[0m | \u001b[36m__main__\u001b[0m:\u001b[36m<module>\u001b[0m:\u001b[36m27\u001b[0m - \u001b[1mlen(uu)=23\u001b[0m\n",
      "\u001b[32m2025-03-27 01:34:01.240\u001b[0m | \u001b[1mINFO    \u001b[0m | \u001b[36m__main__\u001b[0m:\u001b[36m<module>\u001b[0m:\u001b[36m31\u001b[0m - \u001b[1mAfter removing uu: len(sample_df)=565441\u001b[0m\n",
      "\u001b[32m2025-03-27 01:34:01.377\u001b[0m | \u001b[1mINFO    \u001b[0m | \u001b[36m__main__\u001b[0m:\u001b[36m<module>\u001b[0m:\u001b[36m36\u001b[0m - \u001b[1mlen(ui)=7\u001b[0m\n",
      "\u001b[32m2025-03-27 01:34:01.408\u001b[0m | \u001b[1mINFO    \u001b[0m | \u001b[36m__main__\u001b[0m:\u001b[36m<module>\u001b[0m:\u001b[36m40\u001b[0m - \u001b[1mAfter removing ui: len(sample_df)=565378\u001b[0m\n",
      "\u001b[32m2025-03-27 01:34:01.445\u001b[0m | \u001b[1mINFO    \u001b[0m | \u001b[36m__main__\u001b[0m:\u001b[36m<module>\u001b[0m:\u001b[36m23\u001b[0m - \u001b[1mSampling round 6 started\u001b[0m\n",
      "\u001b[32m2025-03-27 01:34:01.553\u001b[0m | \u001b[1mINFO    \u001b[0m | \u001b[36m__main__\u001b[0m:\u001b[36m<module>\u001b[0m:\u001b[36m27\u001b[0m - \u001b[1mlen(uu)=10\u001b[0m\n",
      "\u001b[32m2025-03-27 01:34:01.591\u001b[0m | \u001b[1mINFO    \u001b[0m | \u001b[36m__main__\u001b[0m:\u001b[36m<module>\u001b[0m:\u001b[36m31\u001b[0m - \u001b[1mAfter removing uu: len(sample_df)=565338\u001b[0m\n",
      "\u001b[32m2025-03-27 01:34:01.735\u001b[0m | \u001b[1mINFO    \u001b[0m | \u001b[36m__main__\u001b[0m:\u001b[36m<module>\u001b[0m:\u001b[36m36\u001b[0m - \u001b[1mlen(ui)=0\u001b[0m\n",
      "\u001b[32m2025-03-27 01:34:01.735\u001b[0m | \u001b[1mINFO    \u001b[0m | \u001b[36m__main__\u001b[0m:\u001b[36m<module>\u001b[0m:\u001b[36m23\u001b[0m - \u001b[1mSampling round 7 started\u001b[0m\n",
      "\u001b[32m2025-03-27 01:34:01.844\u001b[0m | \u001b[1mINFO    \u001b[0m | \u001b[36m__main__\u001b[0m:\u001b[36m<module>\u001b[0m:\u001b[36m27\u001b[0m - \u001b[1mlen(uu)=0\u001b[0m\n",
      "\u001b[32m2025-03-27 01:34:01.883\u001b[0m | \u001b[1mINFO    \u001b[0m | \u001b[36m__main__\u001b[0m:\u001b[36m<module>\u001b[0m:\u001b[36m36\u001b[0m - \u001b[1mlen(ui)=0\u001b[0m\n",
      "\u001b[32m2025-03-27 01:34:01.948\u001b[0m | \u001b[1mINFO    \u001b[0m | \u001b[36m__main__\u001b[0m:\u001b[36m<module>\u001b[0m:\u001b[36m48\u001b[0m - \u001b[1mAfter randomly removing users - round 40: num_users=67554\u001b[0m\n",
      "\u001b[32m2025-03-27 01:34:01.948\u001b[0m | \u001b[1mINFO    \u001b[0m | \u001b[36m__main__\u001b[0m:\u001b[36m<module>\u001b[0m:\u001b[36m54\u001b[0m - \u001b[1mNumber of users 67554 are still greater than expected, keep removing...\u001b[0m\n",
      "\u001b[32m2025-03-27 01:34:02.383\u001b[0m | \u001b[1mINFO    \u001b[0m | \u001b[36m__main__\u001b[0m:\u001b[36m<module>\u001b[0m:\u001b[36m23\u001b[0m - \u001b[1mSampling round 1 started\u001b[0m\n",
      "\u001b[32m2025-03-27 01:34:02.477\u001b[0m | \u001b[1mINFO    \u001b[0m | \u001b[36m__main__\u001b[0m:\u001b[36m<module>\u001b[0m:\u001b[36m27\u001b[0m - \u001b[1mlen(uu)=0\u001b[0m\n",
      "\u001b[32m2025-03-27 01:34:02.516\u001b[0m | \u001b[1mINFO    \u001b[0m | \u001b[36m__main__\u001b[0m:\u001b[36m<module>\u001b[0m:\u001b[36m36\u001b[0m - \u001b[1mlen(ui)=909\u001b[0m\n"
     ]
    },
    {
     "name": "stdout",
     "output_type": "stream",
     "text": [
      "\n",
      "\n",
      "Randomly removing 3377 users - Round 41 started\n"
     ]
    },
    {
     "name": "stderr",
     "output_type": "stream",
     "text": [
      "\u001b[32m2025-03-27 01:34:02.552\u001b[0m | \u001b[1mINFO    \u001b[0m | \u001b[36m__main__\u001b[0m:\u001b[36m<module>\u001b[0m:\u001b[36m40\u001b[0m - \u001b[1mAfter removing ui: len(sample_df)=529005\u001b[0m\n",
      "\u001b[32m2025-03-27 01:34:02.593\u001b[0m | \u001b[1mINFO    \u001b[0m | \u001b[36m__main__\u001b[0m:\u001b[36m<module>\u001b[0m:\u001b[36m23\u001b[0m - \u001b[1mSampling round 2 started\u001b[0m\n",
      "\u001b[32m2025-03-27 01:34:02.690\u001b[0m | \u001b[1mINFO    \u001b[0m | \u001b[36m__main__\u001b[0m:\u001b[36m<module>\u001b[0m:\u001b[36m27\u001b[0m - \u001b[1mlen(uu)=1508\u001b[0m\n",
      "\u001b[32m2025-03-27 01:34:02.731\u001b[0m | \u001b[1mINFO    \u001b[0m | \u001b[36m__main__\u001b[0m:\u001b[36m<module>\u001b[0m:\u001b[36m31\u001b[0m - \u001b[1mAfter removing uu: len(sample_df)=523023\u001b[0m\n",
      "\u001b[32m2025-03-27 01:34:02.861\u001b[0m | \u001b[1mINFO    \u001b[0m | \u001b[36m__main__\u001b[0m:\u001b[36m<module>\u001b[0m:\u001b[36m36\u001b[0m - \u001b[1mlen(ui)=198\u001b[0m\n",
      "\u001b[32m2025-03-27 01:34:02.892\u001b[0m | \u001b[1mINFO    \u001b[0m | \u001b[36m__main__\u001b[0m:\u001b[36m<module>\u001b[0m:\u001b[36m40\u001b[0m - \u001b[1mAfter removing ui: len(sample_df)=521251\u001b[0m\n",
      "\u001b[32m2025-03-27 01:34:02.927\u001b[0m | \u001b[1mINFO    \u001b[0m | \u001b[36m__main__\u001b[0m:\u001b[36m<module>\u001b[0m:\u001b[36m23\u001b[0m - \u001b[1mSampling round 3 started\u001b[0m\n",
      "\u001b[32m2025-03-27 01:34:03.028\u001b[0m | \u001b[1mINFO    \u001b[0m | \u001b[36m__main__\u001b[0m:\u001b[36m<module>\u001b[0m:\u001b[36m27\u001b[0m - \u001b[1mlen(uu)=364\u001b[0m\n",
      "\u001b[32m2025-03-27 01:34:03.069\u001b[0m | \u001b[1mINFO    \u001b[0m | \u001b[36m__main__\u001b[0m:\u001b[36m<module>\u001b[0m:\u001b[36m31\u001b[0m - \u001b[1mAfter removing uu: len(sample_df)=519797\u001b[0m\n",
      "\u001b[32m2025-03-27 01:34:03.194\u001b[0m | \u001b[1mINFO    \u001b[0m | \u001b[36m__main__\u001b[0m:\u001b[36m<module>\u001b[0m:\u001b[36m36\u001b[0m - \u001b[1mlen(ui)=55\u001b[0m\n",
      "\u001b[32m2025-03-27 01:34:03.227\u001b[0m | \u001b[1mINFO    \u001b[0m | \u001b[36m__main__\u001b[0m:\u001b[36m<module>\u001b[0m:\u001b[36m40\u001b[0m - \u001b[1mAfter removing ui: len(sample_df)=519306\u001b[0m\n",
      "\u001b[32m2025-03-27 01:34:03.260\u001b[0m | \u001b[1mINFO    \u001b[0m | \u001b[36m__main__\u001b[0m:\u001b[36m<module>\u001b[0m:\u001b[36m23\u001b[0m - \u001b[1mSampling round 4 started\u001b[0m\n",
      "\u001b[32m2025-03-27 01:34:03.361\u001b[0m | \u001b[1mINFO    \u001b[0m | \u001b[36m__main__\u001b[0m:\u001b[36m<module>\u001b[0m:\u001b[36m27\u001b[0m - \u001b[1mlen(uu)=117\u001b[0m\n",
      "\u001b[32m2025-03-27 01:34:03.390\u001b[0m | \u001b[1mINFO    \u001b[0m | \u001b[36m__main__\u001b[0m:\u001b[36m<module>\u001b[0m:\u001b[36m31\u001b[0m - \u001b[1mAfter removing uu: len(sample_df)=518838\u001b[0m\n",
      "\u001b[32m2025-03-27 01:34:03.515\u001b[0m | \u001b[1mINFO    \u001b[0m | \u001b[36m__main__\u001b[0m:\u001b[36m<module>\u001b[0m:\u001b[36m36\u001b[0m - \u001b[1mlen(ui)=13\u001b[0m\n",
      "\u001b[32m2025-03-27 01:34:03.548\u001b[0m | \u001b[1mINFO    \u001b[0m | \u001b[36m__main__\u001b[0m:\u001b[36m<module>\u001b[0m:\u001b[36m40\u001b[0m - \u001b[1mAfter removing ui: len(sample_df)=518721\u001b[0m\n",
      "\u001b[32m2025-03-27 01:34:03.581\u001b[0m | \u001b[1mINFO    \u001b[0m | \u001b[36m__main__\u001b[0m:\u001b[36m<module>\u001b[0m:\u001b[36m23\u001b[0m - \u001b[1mSampling round 5 started\u001b[0m\n",
      "\u001b[32m2025-03-27 01:34:03.678\u001b[0m | \u001b[1mINFO    \u001b[0m | \u001b[36m__main__\u001b[0m:\u001b[36m<module>\u001b[0m:\u001b[36m27\u001b[0m - \u001b[1mlen(uu)=20\u001b[0m\n",
      "\u001b[32m2025-03-27 01:34:03.714\u001b[0m | \u001b[1mINFO    \u001b[0m | \u001b[36m__main__\u001b[0m:\u001b[36m<module>\u001b[0m:\u001b[36m31\u001b[0m - \u001b[1mAfter removing uu: len(sample_df)=518641\u001b[0m\n",
      "\u001b[32m2025-03-27 01:34:03.836\u001b[0m | \u001b[1mINFO    \u001b[0m | \u001b[36m__main__\u001b[0m:\u001b[36m<module>\u001b[0m:\u001b[36m36\u001b[0m - \u001b[1mlen(ui)=3\u001b[0m\n",
      "\u001b[32m2025-03-27 01:34:03.870\u001b[0m | \u001b[1mINFO    \u001b[0m | \u001b[36m__main__\u001b[0m:\u001b[36m<module>\u001b[0m:\u001b[36m40\u001b[0m - \u001b[1mAfter removing ui: len(sample_df)=518614\u001b[0m\n",
      "\u001b[32m2025-03-27 01:34:03.904\u001b[0m | \u001b[1mINFO    \u001b[0m | \u001b[36m__main__\u001b[0m:\u001b[36m<module>\u001b[0m:\u001b[36m23\u001b[0m - \u001b[1mSampling round 6 started\u001b[0m\n",
      "\u001b[32m2025-03-27 01:34:04.000\u001b[0m | \u001b[1mINFO    \u001b[0m | \u001b[36m__main__\u001b[0m:\u001b[36m<module>\u001b[0m:\u001b[36m27\u001b[0m - \u001b[1mlen(uu)=7\u001b[0m\n",
      "\u001b[32m2025-03-27 01:34:04.062\u001b[0m | \u001b[1mINFO    \u001b[0m | \u001b[36m__main__\u001b[0m:\u001b[36m<module>\u001b[0m:\u001b[36m31\u001b[0m - \u001b[1mAfter removing uu: len(sample_df)=518586\u001b[0m\n",
      "\u001b[32m2025-03-27 01:34:04.206\u001b[0m | \u001b[1mINFO    \u001b[0m | \u001b[36m__main__\u001b[0m:\u001b[36m<module>\u001b[0m:\u001b[36m36\u001b[0m - \u001b[1mlen(ui)=0\u001b[0m\n",
      "\u001b[32m2025-03-27 01:34:04.207\u001b[0m | \u001b[1mINFO    \u001b[0m | \u001b[36m__main__\u001b[0m:\u001b[36m<module>\u001b[0m:\u001b[36m23\u001b[0m - \u001b[1mSampling round 7 started\u001b[0m\n",
      "\u001b[32m2025-03-27 01:34:04.294\u001b[0m | \u001b[1mINFO    \u001b[0m | \u001b[36m__main__\u001b[0m:\u001b[36m<module>\u001b[0m:\u001b[36m27\u001b[0m - \u001b[1mlen(uu)=0\u001b[0m\n",
      "\u001b[32m2025-03-27 01:34:04.331\u001b[0m | \u001b[1mINFO    \u001b[0m | \u001b[36m__main__\u001b[0m:\u001b[36m<module>\u001b[0m:\u001b[36m36\u001b[0m - \u001b[1mlen(ui)=0\u001b[0m\n",
      "\u001b[32m2025-03-27 01:34:04.388\u001b[0m | \u001b[1mINFO    \u001b[0m | \u001b[36m__main__\u001b[0m:\u001b[36m<module>\u001b[0m:\u001b[36m48\u001b[0m - \u001b[1mAfter randomly removing users - round 41: num_users=62161\u001b[0m\n",
      "\u001b[32m2025-03-27 01:34:04.388\u001b[0m | \u001b[1mINFO    \u001b[0m | \u001b[36m__main__\u001b[0m:\u001b[36m<module>\u001b[0m:\u001b[36m54\u001b[0m - \u001b[1mNumber of users 62161 are still greater than expected, keep removing...\u001b[0m\n",
      "\u001b[32m2025-03-27 01:34:04.823\u001b[0m | \u001b[1mINFO    \u001b[0m | \u001b[36m__main__\u001b[0m:\u001b[36m<module>\u001b[0m:\u001b[36m23\u001b[0m - \u001b[1mSampling round 1 started\u001b[0m\n",
      "\u001b[32m2025-03-27 01:34:04.909\u001b[0m | \u001b[1mINFO    \u001b[0m | \u001b[36m__main__\u001b[0m:\u001b[36m<module>\u001b[0m:\u001b[36m27\u001b[0m - \u001b[1mlen(uu)=0\u001b[0m\n",
      "\u001b[32m2025-03-27 01:34:04.943\u001b[0m | \u001b[1mINFO    \u001b[0m | \u001b[36m__main__\u001b[0m:\u001b[36m<module>\u001b[0m:\u001b[36m36\u001b[0m - \u001b[1mlen(ui)=854\u001b[0m\n"
     ]
    },
    {
     "name": "stdout",
     "output_type": "stream",
     "text": [
      "\n",
      "\n",
      "Randomly removing 3108 users - Round 42 started\n"
     ]
    },
    {
     "name": "stderr",
     "output_type": "stream",
     "text": [
      "\u001b[32m2025-03-27 01:34:04.977\u001b[0m | \u001b[1mINFO    \u001b[0m | \u001b[36m__main__\u001b[0m:\u001b[36m<module>\u001b[0m:\u001b[36m40\u001b[0m - \u001b[1mAfter removing ui: len(sample_df)=484851\u001b[0m\n",
      "\u001b[32m2025-03-27 01:34:05.012\u001b[0m | \u001b[1mINFO    \u001b[0m | \u001b[36m__main__\u001b[0m:\u001b[36m<module>\u001b[0m:\u001b[36m23\u001b[0m - \u001b[1mSampling round 2 started\u001b[0m\n",
      "\u001b[32m2025-03-27 01:34:05.106\u001b[0m | \u001b[1mINFO    \u001b[0m | \u001b[36m__main__\u001b[0m:\u001b[36m<module>\u001b[0m:\u001b[36m27\u001b[0m - \u001b[1mlen(uu)=1445\u001b[0m\n",
      "\u001b[32m2025-03-27 01:34:05.143\u001b[0m | \u001b[1mINFO    \u001b[0m | \u001b[36m__main__\u001b[0m:\u001b[36m<module>\u001b[0m:\u001b[36m31\u001b[0m - \u001b[1mAfter removing uu: len(sample_df)=479123\u001b[0m\n",
      "\u001b[32m2025-03-27 01:34:05.259\u001b[0m | \u001b[1mINFO    \u001b[0m | \u001b[36m__main__\u001b[0m:\u001b[36m<module>\u001b[0m:\u001b[36m36\u001b[0m - \u001b[1mlen(ui)=221\u001b[0m\n",
      "\u001b[32m2025-03-27 01:34:05.289\u001b[0m | \u001b[1mINFO    \u001b[0m | \u001b[36m__main__\u001b[0m:\u001b[36m<module>\u001b[0m:\u001b[36m40\u001b[0m - \u001b[1mAfter removing ui: len(sample_df)=477146\u001b[0m\n",
      "\u001b[32m2025-03-27 01:34:05.324\u001b[0m | \u001b[1mINFO    \u001b[0m | \u001b[36m__main__\u001b[0m:\u001b[36m<module>\u001b[0m:\u001b[36m23\u001b[0m - \u001b[1mSampling round 3 started\u001b[0m\n",
      "\u001b[32m2025-03-27 01:34:05.414\u001b[0m | \u001b[1mINFO    \u001b[0m | \u001b[36m__main__\u001b[0m:\u001b[36m<module>\u001b[0m:\u001b[36m27\u001b[0m - \u001b[1mlen(uu)=362\u001b[0m\n",
      "\u001b[32m2025-03-27 01:34:05.457\u001b[0m | \u001b[1mINFO    \u001b[0m | \u001b[36m__main__\u001b[0m:\u001b[36m<module>\u001b[0m:\u001b[36m31\u001b[0m - \u001b[1mAfter removing uu: len(sample_df)=475702\u001b[0m\n",
      "\u001b[32m2025-03-27 01:34:05.581\u001b[0m | \u001b[1mINFO    \u001b[0m | \u001b[36m__main__\u001b[0m:\u001b[36m<module>\u001b[0m:\u001b[36m36\u001b[0m - \u001b[1mlen(ui)=48\u001b[0m\n",
      "\u001b[32m2025-03-27 01:34:05.627\u001b[0m | \u001b[1mINFO    \u001b[0m | \u001b[36m__main__\u001b[0m:\u001b[36m<module>\u001b[0m:\u001b[36m40\u001b[0m - \u001b[1mAfter removing ui: len(sample_df)=475270\u001b[0m\n",
      "\u001b[32m2025-03-27 01:34:05.655\u001b[0m | \u001b[1mINFO    \u001b[0m | \u001b[36m__main__\u001b[0m:\u001b[36m<module>\u001b[0m:\u001b[36m23\u001b[0m - \u001b[1mSampling round 4 started\u001b[0m\n",
      "\u001b[32m2025-03-27 01:34:05.746\u001b[0m | \u001b[1mINFO    \u001b[0m | \u001b[36m__main__\u001b[0m:\u001b[36m<module>\u001b[0m:\u001b[36m27\u001b[0m - \u001b[1mlen(uu)=78\u001b[0m\n",
      "\u001b[32m2025-03-27 01:34:05.777\u001b[0m | \u001b[1mINFO    \u001b[0m | \u001b[36m__main__\u001b[0m:\u001b[36m<module>\u001b[0m:\u001b[36m31\u001b[0m - \u001b[1mAfter removing uu: len(sample_df)=474958\u001b[0m\n",
      "\u001b[32m2025-03-27 01:34:05.924\u001b[0m | \u001b[1mINFO    \u001b[0m | \u001b[36m__main__\u001b[0m:\u001b[36m<module>\u001b[0m:\u001b[36m36\u001b[0m - \u001b[1mlen(ui)=9\u001b[0m\n",
      "\u001b[32m2025-03-27 01:34:05.957\u001b[0m | \u001b[1mINFO    \u001b[0m | \u001b[36m__main__\u001b[0m:\u001b[36m<module>\u001b[0m:\u001b[36m40\u001b[0m - \u001b[1mAfter removing ui: len(sample_df)=474877\u001b[0m\n",
      "\u001b[32m2025-03-27 01:34:05.988\u001b[0m | \u001b[1mINFO    \u001b[0m | \u001b[36m__main__\u001b[0m:\u001b[36m<module>\u001b[0m:\u001b[36m23\u001b[0m - \u001b[1mSampling round 5 started\u001b[0m\n",
      "\u001b[32m2025-03-27 01:34:06.080\u001b[0m | \u001b[1mINFO    \u001b[0m | \u001b[36m__main__\u001b[0m:\u001b[36m<module>\u001b[0m:\u001b[36m27\u001b[0m - \u001b[1mlen(uu)=16\u001b[0m\n",
      "\u001b[32m2025-03-27 01:34:06.109\u001b[0m | \u001b[1mINFO    \u001b[0m | \u001b[36m__main__\u001b[0m:\u001b[36m<module>\u001b[0m:\u001b[36m31\u001b[0m - \u001b[1mAfter removing uu: len(sample_df)=474813\u001b[0m\n",
      "\u001b[32m2025-03-27 01:34:06.223\u001b[0m | \u001b[1mINFO    \u001b[0m | \u001b[36m__main__\u001b[0m:\u001b[36m<module>\u001b[0m:\u001b[36m36\u001b[0m - \u001b[1mlen(ui)=1\u001b[0m\n",
      "\u001b[32m2025-03-27 01:34:06.249\u001b[0m | \u001b[1mINFO    \u001b[0m | \u001b[36m__main__\u001b[0m:\u001b[36m<module>\u001b[0m:\u001b[36m40\u001b[0m - \u001b[1mAfter removing ui: len(sample_df)=474804\u001b[0m\n",
      "\u001b[32m2025-03-27 01:34:06.281\u001b[0m | \u001b[1mINFO    \u001b[0m | \u001b[36m__main__\u001b[0m:\u001b[36m<module>\u001b[0m:\u001b[36m23\u001b[0m - \u001b[1mSampling round 6 started\u001b[0m\n",
      "\u001b[32m2025-03-27 01:34:06.370\u001b[0m | \u001b[1mINFO    \u001b[0m | \u001b[36m__main__\u001b[0m:\u001b[36m<module>\u001b[0m:\u001b[36m27\u001b[0m - \u001b[1mlen(uu)=1\u001b[0m\n",
      "\u001b[32m2025-03-27 01:34:06.396\u001b[0m | \u001b[1mINFO    \u001b[0m | \u001b[36m__main__\u001b[0m:\u001b[36m<module>\u001b[0m:\u001b[36m31\u001b[0m - \u001b[1mAfter removing uu: len(sample_df)=474800\u001b[0m\n",
      "\u001b[32m2025-03-27 01:34:06.511\u001b[0m | \u001b[1mINFO    \u001b[0m | \u001b[36m__main__\u001b[0m:\u001b[36m<module>\u001b[0m:\u001b[36m36\u001b[0m - \u001b[1mlen(ui)=0\u001b[0m\n",
      "\u001b[32m2025-03-27 01:34:06.511\u001b[0m | \u001b[1mINFO    \u001b[0m | \u001b[36m__main__\u001b[0m:\u001b[36m<module>\u001b[0m:\u001b[36m23\u001b[0m - \u001b[1mSampling round 7 started\u001b[0m\n",
      "\u001b[32m2025-03-27 01:34:06.600\u001b[0m | \u001b[1mINFO    \u001b[0m | \u001b[36m__main__\u001b[0m:\u001b[36m<module>\u001b[0m:\u001b[36m27\u001b[0m - \u001b[1mlen(uu)=0\u001b[0m\n",
      "\u001b[32m2025-03-27 01:34:06.630\u001b[0m | \u001b[1mINFO    \u001b[0m | \u001b[36m__main__\u001b[0m:\u001b[36m<module>\u001b[0m:\u001b[36m36\u001b[0m - \u001b[1mlen(ui)=0\u001b[0m\n",
      "\u001b[32m2025-03-27 01:34:06.687\u001b[0m | \u001b[1mINFO    \u001b[0m | \u001b[36m__main__\u001b[0m:\u001b[36m<module>\u001b[0m:\u001b[36m48\u001b[0m - \u001b[1mAfter randomly removing users - round 42: num_users=57151\u001b[0m\n",
      "\u001b[32m2025-03-27 01:34:06.688\u001b[0m | \u001b[1mINFO    \u001b[0m | \u001b[36m__main__\u001b[0m:\u001b[36m<module>\u001b[0m:\u001b[36m54\u001b[0m - \u001b[1mNumber of users 57151 are still greater than expected, keep removing...\u001b[0m\n",
      "\u001b[32m2025-03-27 01:34:07.096\u001b[0m | \u001b[1mINFO    \u001b[0m | \u001b[36m__main__\u001b[0m:\u001b[36m<module>\u001b[0m:\u001b[36m23\u001b[0m - \u001b[1mSampling round 1 started\u001b[0m\n",
      "\u001b[32m2025-03-27 01:34:07.169\u001b[0m | \u001b[1mINFO    \u001b[0m | \u001b[36m__main__\u001b[0m:\u001b[36m<module>\u001b[0m:\u001b[36m27\u001b[0m - \u001b[1mlen(uu)=0\u001b[0m\n",
      "\u001b[32m2025-03-27 01:34:07.199\u001b[0m | \u001b[1mINFO    \u001b[0m | \u001b[36m__main__\u001b[0m:\u001b[36m<module>\u001b[0m:\u001b[36m36\u001b[0m - \u001b[1mlen(ui)=817\u001b[0m\n",
      "\u001b[32m2025-03-27 01:34:07.228\u001b[0m | \u001b[1mINFO    \u001b[0m | \u001b[36m__main__\u001b[0m:\u001b[36m<module>\u001b[0m:\u001b[36m40\u001b[0m - \u001b[1mAfter removing ui: len(sample_df)=443347\u001b[0m\n"
     ]
    },
    {
     "name": "stdout",
     "output_type": "stream",
     "text": [
      "\n",
      "\n",
      "Randomly removing 2857 users - Round 43 started\n"
     ]
    },
    {
     "name": "stderr",
     "output_type": "stream",
     "text": [
      "\u001b[32m2025-03-27 01:34:07.257\u001b[0m | \u001b[1mINFO    \u001b[0m | \u001b[36m__main__\u001b[0m:\u001b[36m<module>\u001b[0m:\u001b[36m23\u001b[0m - \u001b[1mSampling round 2 started\u001b[0m\n",
      "\u001b[32m2025-03-27 01:34:07.345\u001b[0m | \u001b[1mINFO    \u001b[0m | \u001b[36m__main__\u001b[0m:\u001b[36m<module>\u001b[0m:\u001b[36m27\u001b[0m - \u001b[1mlen(uu)=1364\u001b[0m\n",
      "\u001b[32m2025-03-27 01:34:07.380\u001b[0m | \u001b[1mINFO    \u001b[0m | \u001b[36m__main__\u001b[0m:\u001b[36m<module>\u001b[0m:\u001b[36m31\u001b[0m - \u001b[1mAfter removing uu: len(sample_df)=437942\u001b[0m\n",
      "\u001b[32m2025-03-27 01:34:07.485\u001b[0m | \u001b[1mINFO    \u001b[0m | \u001b[36m__main__\u001b[0m:\u001b[36m<module>\u001b[0m:\u001b[36m36\u001b[0m - \u001b[1mlen(ui)=182\u001b[0m\n",
      "\u001b[32m2025-03-27 01:34:07.523\u001b[0m | \u001b[1mINFO    \u001b[0m | \u001b[36m__main__\u001b[0m:\u001b[36m<module>\u001b[0m:\u001b[36m40\u001b[0m - \u001b[1mAfter removing ui: len(sample_df)=436318\u001b[0m\n",
      "\u001b[32m2025-03-27 01:34:07.550\u001b[0m | \u001b[1mINFO    \u001b[0m | \u001b[36m__main__\u001b[0m:\u001b[36m<module>\u001b[0m:\u001b[36m23\u001b[0m - \u001b[1mSampling round 3 started\u001b[0m\n",
      "\u001b[32m2025-03-27 01:34:07.634\u001b[0m | \u001b[1mINFO    \u001b[0m | \u001b[36m__main__\u001b[0m:\u001b[36m<module>\u001b[0m:\u001b[36m27\u001b[0m - \u001b[1mlen(uu)=313\u001b[0m\n",
      "\u001b[32m2025-03-27 01:34:07.662\u001b[0m | \u001b[1mINFO    \u001b[0m | \u001b[36m__main__\u001b[0m:\u001b[36m<module>\u001b[0m:\u001b[36m31\u001b[0m - \u001b[1mAfter removing uu: len(sample_df)=435072\u001b[0m\n",
      "\u001b[32m2025-03-27 01:34:07.767\u001b[0m | \u001b[1mINFO    \u001b[0m | \u001b[36m__main__\u001b[0m:\u001b[36m<module>\u001b[0m:\u001b[36m36\u001b[0m - \u001b[1mlen(ui)=39\u001b[0m\n",
      "\u001b[32m2025-03-27 01:34:07.800\u001b[0m | \u001b[1mINFO    \u001b[0m | \u001b[36m__main__\u001b[0m:\u001b[36m<module>\u001b[0m:\u001b[36m40\u001b[0m - \u001b[1mAfter removing ui: len(sample_df)=434723\u001b[0m\n",
      "\u001b[32m2025-03-27 01:34:07.829\u001b[0m | \u001b[1mINFO    \u001b[0m | \u001b[36m__main__\u001b[0m:\u001b[36m<module>\u001b[0m:\u001b[36m23\u001b[0m - \u001b[1mSampling round 4 started\u001b[0m\n",
      "\u001b[32m2025-03-27 01:34:07.912\u001b[0m | \u001b[1mINFO    \u001b[0m | \u001b[36m__main__\u001b[0m:\u001b[36m<module>\u001b[0m:\u001b[36m27\u001b[0m - \u001b[1mlen(uu)=78\u001b[0m\n",
      "\u001b[32m2025-03-27 01:34:07.940\u001b[0m | \u001b[1mINFO    \u001b[0m | \u001b[36m__main__\u001b[0m:\u001b[36m<module>\u001b[0m:\u001b[36m31\u001b[0m - \u001b[1mAfter removing uu: len(sample_df)=434411\u001b[0m\n",
      "\u001b[32m2025-03-27 01:34:08.045\u001b[0m | \u001b[1mINFO    \u001b[0m | \u001b[36m__main__\u001b[0m:\u001b[36m<module>\u001b[0m:\u001b[36m36\u001b[0m - \u001b[1mlen(ui)=11\u001b[0m\n",
      "\u001b[32m2025-03-27 01:34:08.079\u001b[0m | \u001b[1mINFO    \u001b[0m | \u001b[36m__main__\u001b[0m:\u001b[36m<module>\u001b[0m:\u001b[36m40\u001b[0m - \u001b[1mAfter removing ui: len(sample_df)=434312\u001b[0m\n",
      "\u001b[32m2025-03-27 01:34:08.107\u001b[0m | \u001b[1mINFO    \u001b[0m | \u001b[36m__main__\u001b[0m:\u001b[36m<module>\u001b[0m:\u001b[36m23\u001b[0m - \u001b[1mSampling round 5 started\u001b[0m\n",
      "\u001b[32m2025-03-27 01:34:08.186\u001b[0m | \u001b[1mINFO    \u001b[0m | \u001b[36m__main__\u001b[0m:\u001b[36m<module>\u001b[0m:\u001b[36m27\u001b[0m - \u001b[1mlen(uu)=19\u001b[0m\n",
      "\u001b[32m2025-03-27 01:34:08.217\u001b[0m | \u001b[1mINFO    \u001b[0m | \u001b[36m__main__\u001b[0m:\u001b[36m<module>\u001b[0m:\u001b[36m31\u001b[0m - \u001b[1mAfter removing uu: len(sample_df)=434236\u001b[0m\n",
      "\u001b[32m2025-03-27 01:34:08.321\u001b[0m | \u001b[1mINFO    \u001b[0m | \u001b[36m__main__\u001b[0m:\u001b[36m<module>\u001b[0m:\u001b[36m36\u001b[0m - \u001b[1mlen(ui)=3\u001b[0m\n",
      "\u001b[32m2025-03-27 01:34:08.353\u001b[0m | \u001b[1mINFO    \u001b[0m | \u001b[36m__main__\u001b[0m:\u001b[36m<module>\u001b[0m:\u001b[36m40\u001b[0m - \u001b[1mAfter removing ui: len(sample_df)=434210\u001b[0m\n",
      "\u001b[32m2025-03-27 01:34:08.382\u001b[0m | \u001b[1mINFO    \u001b[0m | \u001b[36m__main__\u001b[0m:\u001b[36m<module>\u001b[0m:\u001b[36m23\u001b[0m - \u001b[1mSampling round 6 started\u001b[0m\n",
      "\u001b[32m2025-03-27 01:34:08.462\u001b[0m | \u001b[1mINFO    \u001b[0m | \u001b[36m__main__\u001b[0m:\u001b[36m<module>\u001b[0m:\u001b[36m27\u001b[0m - \u001b[1mlen(uu)=4\u001b[0m\n",
      "\u001b[32m2025-03-27 01:34:08.488\u001b[0m | \u001b[1mINFO    \u001b[0m | \u001b[36m__main__\u001b[0m:\u001b[36m<module>\u001b[0m:\u001b[36m31\u001b[0m - \u001b[1mAfter removing uu: len(sample_df)=434194\u001b[0m\n",
      "\u001b[32m2025-03-27 01:34:08.591\u001b[0m | \u001b[1mINFO    \u001b[0m | \u001b[36m__main__\u001b[0m:\u001b[36m<module>\u001b[0m:\u001b[36m36\u001b[0m - \u001b[1mlen(ui)=1\u001b[0m\n",
      "\u001b[32m2025-03-27 01:34:08.615\u001b[0m | \u001b[1mINFO    \u001b[0m | \u001b[36m__main__\u001b[0m:\u001b[36m<module>\u001b[0m:\u001b[36m40\u001b[0m - \u001b[1mAfter removing ui: len(sample_df)=434185\u001b[0m\n",
      "\u001b[32m2025-03-27 01:34:08.643\u001b[0m | \u001b[1mINFO    \u001b[0m | \u001b[36m__main__\u001b[0m:\u001b[36m<module>\u001b[0m:\u001b[36m23\u001b[0m - \u001b[1mSampling round 7 started\u001b[0m\n",
      "\u001b[32m2025-03-27 01:34:08.722\u001b[0m | \u001b[1mINFO    \u001b[0m | \u001b[36m__main__\u001b[0m:\u001b[36m<module>\u001b[0m:\u001b[36m27\u001b[0m - \u001b[1mlen(uu)=3\u001b[0m\n",
      "\u001b[32m2025-03-27 01:34:08.749\u001b[0m | \u001b[1mINFO    \u001b[0m | \u001b[36m__main__\u001b[0m:\u001b[36m<module>\u001b[0m:\u001b[36m31\u001b[0m - \u001b[1mAfter removing uu: len(sample_df)=434173\u001b[0m\n",
      "\u001b[32m2025-03-27 01:34:08.856\u001b[0m | \u001b[1mINFO    \u001b[0m | \u001b[36m__main__\u001b[0m:\u001b[36m<module>\u001b[0m:\u001b[36m36\u001b[0m - \u001b[1mlen(ui)=0\u001b[0m\n",
      "\u001b[32m2025-03-27 01:34:08.857\u001b[0m | \u001b[1mINFO    \u001b[0m | \u001b[36m__main__\u001b[0m:\u001b[36m<module>\u001b[0m:\u001b[36m23\u001b[0m - \u001b[1mSampling round 8 started\u001b[0m\n",
      "\u001b[32m2025-03-27 01:34:08.934\u001b[0m | \u001b[1mINFO    \u001b[0m | \u001b[36m__main__\u001b[0m:\u001b[36m<module>\u001b[0m:\u001b[36m27\u001b[0m - \u001b[1mlen(uu)=0\u001b[0m\n",
      "\u001b[32m2025-03-27 01:34:08.963\u001b[0m | \u001b[1mINFO    \u001b[0m | \u001b[36m__main__\u001b[0m:\u001b[36m<module>\u001b[0m:\u001b[36m36\u001b[0m - \u001b[1mlen(ui)=0\u001b[0m\n",
      "\u001b[32m2025-03-27 01:34:09.016\u001b[0m | \u001b[1mINFO    \u001b[0m | \u001b[36m__main__\u001b[0m:\u001b[36m<module>\u001b[0m:\u001b[36m48\u001b[0m - \u001b[1mAfter randomly removing users - round 43: num_users=52513\u001b[0m\n",
      "\u001b[32m2025-03-27 01:34:09.017\u001b[0m | \u001b[1mINFO    \u001b[0m | \u001b[36m__main__\u001b[0m:\u001b[36m<module>\u001b[0m:\u001b[36m54\u001b[0m - \u001b[1mNumber of users 52513 are still greater than expected, keep removing...\u001b[0m\n",
      "\u001b[32m2025-03-27 01:34:09.402\u001b[0m | \u001b[1mINFO    \u001b[0m | \u001b[36m__main__\u001b[0m:\u001b[36m<module>\u001b[0m:\u001b[36m23\u001b[0m - \u001b[1mSampling round 1 started\u001b[0m\n",
      "\u001b[32m2025-03-27 01:34:09.476\u001b[0m | \u001b[1mINFO    \u001b[0m | \u001b[36m__main__\u001b[0m:\u001b[36m<module>\u001b[0m:\u001b[36m27\u001b[0m - \u001b[1mlen(uu)=0\u001b[0m\n",
      "\u001b[32m2025-03-27 01:34:09.502\u001b[0m | \u001b[1mINFO    \u001b[0m | \u001b[36m__main__\u001b[0m:\u001b[36m<module>\u001b[0m:\u001b[36m36\u001b[0m - \u001b[1mlen(ui)=785\u001b[0m\n",
      "\u001b[32m2025-03-27 01:34:09.542\u001b[0m | \u001b[1mINFO    \u001b[0m | \u001b[36m__main__\u001b[0m:\u001b[36m<module>\u001b[0m:\u001b[36m40\u001b[0m - \u001b[1mAfter removing ui: len(sample_df)=405265\u001b[0m\n"
     ]
    },
    {
     "name": "stdout",
     "output_type": "stream",
     "text": [
      "\n",
      "\n",
      "Randomly removing 2625 users - Round 44 started\n"
     ]
    },
    {
     "name": "stderr",
     "output_type": "stream",
     "text": [
      "\u001b[32m2025-03-27 01:34:09.571\u001b[0m | \u001b[1mINFO    \u001b[0m | \u001b[36m__main__\u001b[0m:\u001b[36m<module>\u001b[0m:\u001b[36m23\u001b[0m - \u001b[1mSampling round 2 started\u001b[0m\n",
      "\u001b[32m2025-03-27 01:34:09.653\u001b[0m | \u001b[1mINFO    \u001b[0m | \u001b[36m__main__\u001b[0m:\u001b[36m<module>\u001b[0m:\u001b[36m27\u001b[0m - \u001b[1mlen(uu)=1320\u001b[0m\n",
      "\u001b[32m2025-03-27 01:34:09.680\u001b[0m | \u001b[1mINFO    \u001b[0m | \u001b[36m__main__\u001b[0m:\u001b[36m<module>\u001b[0m:\u001b[36m31\u001b[0m - \u001b[1mAfter removing uu: len(sample_df)=400035\u001b[0m\n",
      "\u001b[32m2025-03-27 01:34:09.778\u001b[0m | \u001b[1mINFO    \u001b[0m | \u001b[36m__main__\u001b[0m:\u001b[36m<module>\u001b[0m:\u001b[36m36\u001b[0m - \u001b[1mlen(ui)=208\u001b[0m\n",
      "\u001b[32m2025-03-27 01:34:09.803\u001b[0m | \u001b[1mINFO    \u001b[0m | \u001b[36m__main__\u001b[0m:\u001b[36m<module>\u001b[0m:\u001b[36m40\u001b[0m - \u001b[1mAfter removing ui: len(sample_df)=398179\u001b[0m\n",
      "\u001b[32m2025-03-27 01:34:09.829\u001b[0m | \u001b[1mINFO    \u001b[0m | \u001b[36m__main__\u001b[0m:\u001b[36m<module>\u001b[0m:\u001b[36m23\u001b[0m - \u001b[1mSampling round 3 started\u001b[0m\n",
      "\u001b[32m2025-03-27 01:34:09.905\u001b[0m | \u001b[1mINFO    \u001b[0m | \u001b[36m__main__\u001b[0m:\u001b[36m<module>\u001b[0m:\u001b[36m27\u001b[0m - \u001b[1mlen(uu)=360\u001b[0m\n",
      "\u001b[32m2025-03-27 01:34:09.937\u001b[0m | \u001b[1mINFO    \u001b[0m | \u001b[36m__main__\u001b[0m:\u001b[36m<module>\u001b[0m:\u001b[36m31\u001b[0m - \u001b[1mAfter removing uu: len(sample_df)=396741\u001b[0m\n",
      "\u001b[32m2025-03-27 01:34:10.037\u001b[0m | \u001b[1mINFO    \u001b[0m | \u001b[36m__main__\u001b[0m:\u001b[36m<module>\u001b[0m:\u001b[36m36\u001b[0m - \u001b[1mlen(ui)=58\u001b[0m\n",
      "\u001b[32m2025-03-27 01:34:10.063\u001b[0m | \u001b[1mINFO    \u001b[0m | \u001b[36m__main__\u001b[0m:\u001b[36m<module>\u001b[0m:\u001b[36m40\u001b[0m - \u001b[1mAfter removing ui: len(sample_df)=396222\u001b[0m\n",
      "\u001b[32m2025-03-27 01:34:10.088\u001b[0m | \u001b[1mINFO    \u001b[0m | \u001b[36m__main__\u001b[0m:\u001b[36m<module>\u001b[0m:\u001b[36m23\u001b[0m - \u001b[1mSampling round 4 started\u001b[0m\n",
      "\u001b[32m2025-03-27 01:34:10.161\u001b[0m | \u001b[1mINFO    \u001b[0m | \u001b[36m__main__\u001b[0m:\u001b[36m<module>\u001b[0m:\u001b[36m27\u001b[0m - \u001b[1mlen(uu)=122\u001b[0m\n",
      "\u001b[32m2025-03-27 01:34:10.185\u001b[0m | \u001b[1mINFO    \u001b[0m | \u001b[36m__main__\u001b[0m:\u001b[36m<module>\u001b[0m:\u001b[36m31\u001b[0m - \u001b[1mAfter removing uu: len(sample_df)=395735\u001b[0m\n",
      "\u001b[32m2025-03-27 01:34:10.281\u001b[0m | \u001b[1mINFO    \u001b[0m | \u001b[36m__main__\u001b[0m:\u001b[36m<module>\u001b[0m:\u001b[36m36\u001b[0m - \u001b[1mlen(ui)=22\u001b[0m\n",
      "\u001b[32m2025-03-27 01:34:10.312\u001b[0m | \u001b[1mINFO    \u001b[0m | \u001b[36m__main__\u001b[0m:\u001b[36m<module>\u001b[0m:\u001b[36m40\u001b[0m - \u001b[1mAfter removing ui: len(sample_df)=395538\u001b[0m\n",
      "\u001b[32m2025-03-27 01:34:10.337\u001b[0m | \u001b[1mINFO    \u001b[0m | \u001b[36m__main__\u001b[0m:\u001b[36m<module>\u001b[0m:\u001b[36m23\u001b[0m - \u001b[1mSampling round 5 started\u001b[0m\n",
      "\u001b[32m2025-03-27 01:34:10.436\u001b[0m | \u001b[1mINFO    \u001b[0m | \u001b[36m__main__\u001b[0m:\u001b[36m<module>\u001b[0m:\u001b[36m27\u001b[0m - \u001b[1mlen(uu)=36\u001b[0m\n",
      "\u001b[32m2025-03-27 01:34:10.462\u001b[0m | \u001b[1mINFO    \u001b[0m | \u001b[36m__main__\u001b[0m:\u001b[36m<module>\u001b[0m:\u001b[36m31\u001b[0m - \u001b[1mAfter removing uu: len(sample_df)=395394\u001b[0m\n",
      "\u001b[32m2025-03-27 01:34:10.559\u001b[0m | \u001b[1mINFO    \u001b[0m | \u001b[36m__main__\u001b[0m:\u001b[36m<module>\u001b[0m:\u001b[36m36\u001b[0m - \u001b[1mlen(ui)=6\u001b[0m\n",
      "\u001b[32m2025-03-27 01:34:10.590\u001b[0m | \u001b[1mINFO    \u001b[0m | \u001b[36m__main__\u001b[0m:\u001b[36m<module>\u001b[0m:\u001b[36m40\u001b[0m - \u001b[1mAfter removing ui: len(sample_df)=395340\u001b[0m\n",
      "\u001b[32m2025-03-27 01:34:10.614\u001b[0m | \u001b[1mINFO    \u001b[0m | \u001b[36m__main__\u001b[0m:\u001b[36m<module>\u001b[0m:\u001b[36m23\u001b[0m - \u001b[1mSampling round 6 started\u001b[0m\n",
      "\u001b[32m2025-03-27 01:34:10.688\u001b[0m | \u001b[1mINFO    \u001b[0m | \u001b[36m__main__\u001b[0m:\u001b[36m<module>\u001b[0m:\u001b[36m27\u001b[0m - \u001b[1mlen(uu)=12\u001b[0m\n",
      "\u001b[32m2025-03-27 01:34:10.720\u001b[0m | \u001b[1mINFO    \u001b[0m | \u001b[36m__main__\u001b[0m:\u001b[36m<module>\u001b[0m:\u001b[36m31\u001b[0m - \u001b[1mAfter removing uu: len(sample_df)=395292\u001b[0m\n",
      "\u001b[32m2025-03-27 01:34:10.815\u001b[0m | \u001b[1mINFO    \u001b[0m | \u001b[36m__main__\u001b[0m:\u001b[36m<module>\u001b[0m:\u001b[36m36\u001b[0m - \u001b[1mlen(ui)=1\u001b[0m\n",
      "\u001b[32m2025-03-27 01:34:10.833\u001b[0m | \u001b[1mINFO    \u001b[0m | \u001b[36m__main__\u001b[0m:\u001b[36m<module>\u001b[0m:\u001b[36m40\u001b[0m - \u001b[1mAfter removing ui: len(sample_df)=395283\u001b[0m\n",
      "\u001b[32m2025-03-27 01:34:10.860\u001b[0m | \u001b[1mINFO    \u001b[0m | \u001b[36m__main__\u001b[0m:\u001b[36m<module>\u001b[0m:\u001b[36m23\u001b[0m - \u001b[1mSampling round 7 started\u001b[0m\n",
      "\u001b[32m2025-03-27 01:34:10.931\u001b[0m | \u001b[1mINFO    \u001b[0m | \u001b[36m__main__\u001b[0m:\u001b[36m<module>\u001b[0m:\u001b[36m27\u001b[0m - \u001b[1mlen(uu)=4\u001b[0m\n",
      "\u001b[32m2025-03-27 01:34:10.955\u001b[0m | \u001b[1mINFO    \u001b[0m | \u001b[36m__main__\u001b[0m:\u001b[36m<module>\u001b[0m:\u001b[36m31\u001b[0m - \u001b[1mAfter removing uu: len(sample_df)=395267\u001b[0m\n",
      "\u001b[32m2025-03-27 01:34:11.057\u001b[0m | \u001b[1mINFO    \u001b[0m | \u001b[36m__main__\u001b[0m:\u001b[36m<module>\u001b[0m:\u001b[36m36\u001b[0m - \u001b[1mlen(ui)=1\u001b[0m\n",
      "\u001b[32m2025-03-27 01:34:11.077\u001b[0m | \u001b[1mINFO    \u001b[0m | \u001b[36m__main__\u001b[0m:\u001b[36m<module>\u001b[0m:\u001b[36m40\u001b[0m - \u001b[1mAfter removing ui: len(sample_df)=395258\u001b[0m\n",
      "\u001b[32m2025-03-27 01:34:11.103\u001b[0m | \u001b[1mINFO    \u001b[0m | \u001b[36m__main__\u001b[0m:\u001b[36m<module>\u001b[0m:\u001b[36m23\u001b[0m - \u001b[1mSampling round 8 started\u001b[0m\n",
      "\u001b[32m2025-03-27 01:34:11.180\u001b[0m | \u001b[1mINFO    \u001b[0m | \u001b[36m__main__\u001b[0m:\u001b[36m<module>\u001b[0m:\u001b[36m27\u001b[0m - \u001b[1mlen(uu)=2\u001b[0m\n",
      "\u001b[32m2025-03-27 01:34:11.201\u001b[0m | \u001b[1mINFO    \u001b[0m | \u001b[36m__main__\u001b[0m:\u001b[36m<module>\u001b[0m:\u001b[36m31\u001b[0m - \u001b[1mAfter removing uu: len(sample_df)=395250\u001b[0m\n",
      "\u001b[32m2025-03-27 01:34:11.296\u001b[0m | \u001b[1mINFO    \u001b[0m | \u001b[36m__main__\u001b[0m:\u001b[36m<module>\u001b[0m:\u001b[36m36\u001b[0m - \u001b[1mlen(ui)=0\u001b[0m\n",
      "\u001b[32m2025-03-27 01:34:11.296\u001b[0m | \u001b[1mINFO    \u001b[0m | \u001b[36m__main__\u001b[0m:\u001b[36m<module>\u001b[0m:\u001b[36m23\u001b[0m - \u001b[1mSampling round 9 started\u001b[0m\n",
      "\u001b[32m2025-03-27 01:34:11.366\u001b[0m | \u001b[1mINFO    \u001b[0m | \u001b[36m__main__\u001b[0m:\u001b[36m<module>\u001b[0m:\u001b[36m27\u001b[0m - \u001b[1mlen(uu)=0\u001b[0m\n",
      "\u001b[32m2025-03-27 01:34:11.392\u001b[0m | \u001b[1mINFO    \u001b[0m | \u001b[36m__main__\u001b[0m:\u001b[36m<module>\u001b[0m:\u001b[36m36\u001b[0m - \u001b[1mlen(ui)=0\u001b[0m\n",
      "\u001b[32m2025-03-27 01:34:11.440\u001b[0m | \u001b[1mINFO    \u001b[0m | \u001b[36m__main__\u001b[0m:\u001b[36m<module>\u001b[0m:\u001b[36m48\u001b[0m - \u001b[1mAfter randomly removing users - round 44: num_users=48032\u001b[0m\n",
      "\u001b[32m2025-03-27 01:34:11.440\u001b[0m | \u001b[1mINFO    \u001b[0m | \u001b[36m__main__\u001b[0m:\u001b[36m<module>\u001b[0m:\u001b[36m54\u001b[0m - \u001b[1mNumber of users 48032 are still greater than expected, keep removing...\u001b[0m\n",
      "\u001b[32m2025-03-27 01:34:11.920\u001b[0m | \u001b[1mINFO    \u001b[0m | \u001b[36m__main__\u001b[0m:\u001b[36m<module>\u001b[0m:\u001b[36m23\u001b[0m - \u001b[1mSampling round 1 started\u001b[0m\n",
      "\u001b[32m2025-03-27 01:34:11.986\u001b[0m | \u001b[1mINFO    \u001b[0m | \u001b[36m__main__\u001b[0m:\u001b[36m<module>\u001b[0m:\u001b[36m27\u001b[0m - \u001b[1mlen(uu)=0\u001b[0m\n",
      "\u001b[32m2025-03-27 01:34:12.009\u001b[0m | \u001b[1mINFO    \u001b[0m | \u001b[36m__main__\u001b[0m:\u001b[36m<module>\u001b[0m:\u001b[36m36\u001b[0m - \u001b[1mlen(ui)=701\u001b[0m\n",
      "\u001b[32m2025-03-27 01:34:12.042\u001b[0m | \u001b[1mINFO    \u001b[0m | \u001b[36m__main__\u001b[0m:\u001b[36m<module>\u001b[0m:\u001b[36m40\u001b[0m - \u001b[1mAfter removing ui: len(sample_df)=369049\u001b[0m\n",
      "\u001b[32m2025-03-27 01:34:12.066\u001b[0m | \u001b[1mINFO    \u001b[0m | \u001b[36m__main__\u001b[0m:\u001b[36m<module>\u001b[0m:\u001b[36m23\u001b[0m - \u001b[1mSampling round 2 started\u001b[0m\n"
     ]
    },
    {
     "name": "stdout",
     "output_type": "stream",
     "text": [
      "\n",
      "\n",
      "Randomly removing 2401 users - Round 45 started\n"
     ]
    },
    {
     "name": "stderr",
     "output_type": "stream",
     "text": [
      "\u001b[32m2025-03-27 01:34:12.137\u001b[0m | \u001b[1mINFO    \u001b[0m | \u001b[36m__main__\u001b[0m:\u001b[36m<module>\u001b[0m:\u001b[36m27\u001b[0m - \u001b[1mlen(uu)=1148\u001b[0m\n",
      "\u001b[32m2025-03-27 01:34:12.162\u001b[0m | \u001b[1mINFO    \u001b[0m | \u001b[36m__main__\u001b[0m:\u001b[36m<module>\u001b[0m:\u001b[36m31\u001b[0m - \u001b[1mAfter removing uu: len(sample_df)=364497\u001b[0m\n",
      "\u001b[32m2025-03-27 01:34:12.250\u001b[0m | \u001b[1mINFO    \u001b[0m | \u001b[36m__main__\u001b[0m:\u001b[36m<module>\u001b[0m:\u001b[36m36\u001b[0m - \u001b[1mlen(ui)=184\u001b[0m\n",
      "\u001b[32m2025-03-27 01:34:12.280\u001b[0m | \u001b[1mINFO    \u001b[0m | \u001b[36m__main__\u001b[0m:\u001b[36m<module>\u001b[0m:\u001b[36m40\u001b[0m - \u001b[1mAfter removing ui: len(sample_df)=362851\u001b[0m\n",
      "\u001b[32m2025-03-27 01:34:12.302\u001b[0m | \u001b[1mINFO    \u001b[0m | \u001b[36m__main__\u001b[0m:\u001b[36m<module>\u001b[0m:\u001b[36m23\u001b[0m - \u001b[1mSampling round 3 started\u001b[0m\n",
      "\u001b[32m2025-03-27 01:34:12.374\u001b[0m | \u001b[1mINFO    \u001b[0m | \u001b[36m__main__\u001b[0m:\u001b[36m<module>\u001b[0m:\u001b[36m27\u001b[0m - \u001b[1mlen(uu)=346\u001b[0m\n",
      "\u001b[32m2025-03-27 01:34:12.405\u001b[0m | \u001b[1mINFO    \u001b[0m | \u001b[36m__main__\u001b[0m:\u001b[36m<module>\u001b[0m:\u001b[36m31\u001b[0m - \u001b[1mAfter removing uu: len(sample_df)=361478\u001b[0m\n",
      "\u001b[32m2025-03-27 01:34:12.488\u001b[0m | \u001b[1mINFO    \u001b[0m | \u001b[36m__main__\u001b[0m:\u001b[36m<module>\u001b[0m:\u001b[36m36\u001b[0m - \u001b[1mlen(ui)=56\u001b[0m\n",
      "\u001b[32m2025-03-27 01:34:12.513\u001b[0m | \u001b[1mINFO    \u001b[0m | \u001b[36m__main__\u001b[0m:\u001b[36m<module>\u001b[0m:\u001b[36m40\u001b[0m - \u001b[1mAfter removing ui: len(sample_df)=360976\u001b[0m\n",
      "\u001b[32m2025-03-27 01:34:12.536\u001b[0m | \u001b[1mINFO    \u001b[0m | \u001b[36m__main__\u001b[0m:\u001b[36m<module>\u001b[0m:\u001b[36m23\u001b[0m - \u001b[1mSampling round 4 started\u001b[0m\n",
      "\u001b[32m2025-03-27 01:34:12.599\u001b[0m | \u001b[1mINFO    \u001b[0m | \u001b[36m__main__\u001b[0m:\u001b[36m<module>\u001b[0m:\u001b[36m27\u001b[0m - \u001b[1mlen(uu)=106\u001b[0m\n",
      "\u001b[32m2025-03-27 01:34:12.621\u001b[0m | \u001b[1mINFO    \u001b[0m | \u001b[36m__main__\u001b[0m:\u001b[36m<module>\u001b[0m:\u001b[36m31\u001b[0m - \u001b[1mAfter removing uu: len(sample_df)=360552\u001b[0m\n",
      "\u001b[32m2025-03-27 01:34:12.704\u001b[0m | \u001b[1mINFO    \u001b[0m | \u001b[36m__main__\u001b[0m:\u001b[36m<module>\u001b[0m:\u001b[36m36\u001b[0m - \u001b[1mlen(ui)=21\u001b[0m\n",
      "\u001b[32m2025-03-27 01:34:12.732\u001b[0m | \u001b[1mINFO    \u001b[0m | \u001b[36m__main__\u001b[0m:\u001b[36m<module>\u001b[0m:\u001b[36m40\u001b[0m - \u001b[1mAfter removing ui: len(sample_df)=360363\u001b[0m\n",
      "\u001b[32m2025-03-27 01:34:12.753\u001b[0m | \u001b[1mINFO    \u001b[0m | \u001b[36m__main__\u001b[0m:\u001b[36m<module>\u001b[0m:\u001b[36m23\u001b[0m - \u001b[1mSampling round 5 started\u001b[0m\n",
      "\u001b[32m2025-03-27 01:34:12.819\u001b[0m | \u001b[1mINFO    \u001b[0m | \u001b[36m__main__\u001b[0m:\u001b[36m<module>\u001b[0m:\u001b[36m27\u001b[0m - \u001b[1mlen(uu)=45\u001b[0m\n",
      "\u001b[32m2025-03-27 01:34:12.845\u001b[0m | \u001b[1mINFO    \u001b[0m | \u001b[36m__main__\u001b[0m:\u001b[36m<module>\u001b[0m:\u001b[36m31\u001b[0m - \u001b[1mAfter removing uu: len(sample_df)=360183\u001b[0m\n",
      "\u001b[32m2025-03-27 01:34:12.933\u001b[0m | \u001b[1mINFO    \u001b[0m | \u001b[36m__main__\u001b[0m:\u001b[36m<module>\u001b[0m:\u001b[36m36\u001b[0m - \u001b[1mlen(ui)=6\u001b[0m\n",
      "\u001b[32m2025-03-27 01:34:12.961\u001b[0m | \u001b[1mINFO    \u001b[0m | \u001b[36m__main__\u001b[0m:\u001b[36m<module>\u001b[0m:\u001b[36m40\u001b[0m - \u001b[1mAfter removing ui: len(sample_df)=360129\u001b[0m\n",
      "\u001b[32m2025-03-27 01:34:12.992\u001b[0m | \u001b[1mINFO    \u001b[0m | \u001b[36m__main__\u001b[0m:\u001b[36m<module>\u001b[0m:\u001b[36m23\u001b[0m - \u001b[1mSampling round 6 started\u001b[0m\n",
      "\u001b[32m2025-03-27 01:34:13.095\u001b[0m | \u001b[1mINFO    \u001b[0m | \u001b[36m__main__\u001b[0m:\u001b[36m<module>\u001b[0m:\u001b[36m27\u001b[0m - \u001b[1mlen(uu)=9\u001b[0m\n",
      "\u001b[32m2025-03-27 01:34:13.118\u001b[0m | \u001b[1mINFO    \u001b[0m | \u001b[36m__main__\u001b[0m:\u001b[36m<module>\u001b[0m:\u001b[36m31\u001b[0m - \u001b[1mAfter removing uu: len(sample_df)=360093\u001b[0m\n",
      "\u001b[32m2025-03-27 01:34:13.212\u001b[0m | \u001b[1mINFO    \u001b[0m | \u001b[36m__main__\u001b[0m:\u001b[36m<module>\u001b[0m:\u001b[36m36\u001b[0m - \u001b[1mlen(ui)=2\u001b[0m\n",
      "\u001b[32m2025-03-27 01:34:13.234\u001b[0m | \u001b[1mINFO    \u001b[0m | \u001b[36m__main__\u001b[0m:\u001b[36m<module>\u001b[0m:\u001b[36m40\u001b[0m - \u001b[1mAfter removing ui: len(sample_df)=360075\u001b[0m\n",
      "\u001b[32m2025-03-27 01:34:13.258\u001b[0m | \u001b[1mINFO    \u001b[0m | \u001b[36m__main__\u001b[0m:\u001b[36m<module>\u001b[0m:\u001b[36m23\u001b[0m - \u001b[1mSampling round 7 started\u001b[0m\n",
      "\u001b[32m2025-03-27 01:34:13.325\u001b[0m | \u001b[1mINFO    \u001b[0m | \u001b[36m__main__\u001b[0m:\u001b[36m<module>\u001b[0m:\u001b[36m27\u001b[0m - \u001b[1mlen(uu)=6\u001b[0m\n",
      "\u001b[32m2025-03-27 01:34:13.349\u001b[0m | \u001b[1mINFO    \u001b[0m | \u001b[36m__main__\u001b[0m:\u001b[36m<module>\u001b[0m:\u001b[36m31\u001b[0m - \u001b[1mAfter removing uu: len(sample_df)=360051\u001b[0m\n",
      "\u001b[32m2025-03-27 01:34:13.442\u001b[0m | \u001b[1mINFO    \u001b[0m | \u001b[36m__main__\u001b[0m:\u001b[36m<module>\u001b[0m:\u001b[36m36\u001b[0m - \u001b[1mlen(ui)=4\u001b[0m\n",
      "\u001b[32m2025-03-27 01:34:13.465\u001b[0m | \u001b[1mINFO    \u001b[0m | \u001b[36m__main__\u001b[0m:\u001b[36m<module>\u001b[0m:\u001b[36m40\u001b[0m - \u001b[1mAfter removing ui: len(sample_df)=360015\u001b[0m\n",
      "\u001b[32m2025-03-27 01:34:13.487\u001b[0m | \u001b[1mINFO    \u001b[0m | \u001b[36m__main__\u001b[0m:\u001b[36m<module>\u001b[0m:\u001b[36m23\u001b[0m - \u001b[1mSampling round 8 started\u001b[0m\n",
      "\u001b[32m2025-03-27 01:34:13.558\u001b[0m | \u001b[1mINFO    \u001b[0m | \u001b[36m__main__\u001b[0m:\u001b[36m<module>\u001b[0m:\u001b[36m27\u001b[0m - \u001b[1mlen(uu)=13\u001b[0m\n",
      "\u001b[32m2025-03-27 01:34:13.579\u001b[0m | \u001b[1mINFO    \u001b[0m | \u001b[36m__main__\u001b[0m:\u001b[36m<module>\u001b[0m:\u001b[36m31\u001b[0m - \u001b[1mAfter removing uu: len(sample_df)=359963\u001b[0m\n",
      "\u001b[32m2025-03-27 01:34:13.668\u001b[0m | \u001b[1mINFO    \u001b[0m | \u001b[36m__main__\u001b[0m:\u001b[36m<module>\u001b[0m:\u001b[36m36\u001b[0m - \u001b[1mlen(ui)=2\u001b[0m\n",
      "\u001b[32m2025-03-27 01:34:13.690\u001b[0m | \u001b[1mINFO    \u001b[0m | \u001b[36m__main__\u001b[0m:\u001b[36m<module>\u001b[0m:\u001b[36m40\u001b[0m - \u001b[1mAfter removing ui: len(sample_df)=359945\u001b[0m\n",
      "\u001b[32m2025-03-27 01:34:13.713\u001b[0m | \u001b[1mINFO    \u001b[0m | \u001b[36m__main__\u001b[0m:\u001b[36m<module>\u001b[0m:\u001b[36m23\u001b[0m - \u001b[1mSampling round 9 started\u001b[0m\n",
      "\u001b[32m2025-03-27 01:34:13.782\u001b[0m | \u001b[1mINFO    \u001b[0m | \u001b[36m__main__\u001b[0m:\u001b[36m<module>\u001b[0m:\u001b[36m27\u001b[0m - \u001b[1mlen(uu)=4\u001b[0m\n",
      "\u001b[32m2025-03-27 01:34:13.804\u001b[0m | \u001b[1mINFO    \u001b[0m | \u001b[36m__main__\u001b[0m:\u001b[36m<module>\u001b[0m:\u001b[36m31\u001b[0m - \u001b[1mAfter removing uu: len(sample_df)=359929\u001b[0m\n",
      "\u001b[32m2025-03-27 01:34:13.894\u001b[0m | \u001b[1mINFO    \u001b[0m | \u001b[36m__main__\u001b[0m:\u001b[36m<module>\u001b[0m:\u001b[36m36\u001b[0m - \u001b[1mlen(ui)=0\u001b[0m\n",
      "\u001b[32m2025-03-27 01:34:13.894\u001b[0m | \u001b[1mINFO    \u001b[0m | \u001b[36m__main__\u001b[0m:\u001b[36m<module>\u001b[0m:\u001b[36m23\u001b[0m - \u001b[1mSampling round 10 started\u001b[0m\n",
      "\u001b[32m2025-03-27 01:34:13.960\u001b[0m | \u001b[1mINFO    \u001b[0m | \u001b[36m__main__\u001b[0m:\u001b[36m<module>\u001b[0m:\u001b[36m27\u001b[0m - \u001b[1mlen(uu)=0\u001b[0m\n",
      "\u001b[32m2025-03-27 01:34:13.985\u001b[0m | \u001b[1mINFO    \u001b[0m | \u001b[36m__main__\u001b[0m:\u001b[36m<module>\u001b[0m:\u001b[36m36\u001b[0m - \u001b[1mlen(ui)=0\u001b[0m\n",
      "\u001b[32m2025-03-27 01:34:14.029\u001b[0m | \u001b[1mINFO    \u001b[0m | \u001b[36m__main__\u001b[0m:\u001b[36m<module>\u001b[0m:\u001b[36m48\u001b[0m - \u001b[1mAfter randomly removing users - round 45: num_users=43954\u001b[0m\n",
      "\u001b[32m2025-03-27 01:34:14.029\u001b[0m | \u001b[1mINFO    \u001b[0m | \u001b[36m__main__\u001b[0m:\u001b[36m<module>\u001b[0m:\u001b[36m54\u001b[0m - \u001b[1mNumber of users 43954 are still greater than expected, keep removing...\u001b[0m\n",
      "\u001b[32m2025-03-27 01:34:14.517\u001b[0m | \u001b[1mINFO    \u001b[0m | \u001b[36m__main__\u001b[0m:\u001b[36m<module>\u001b[0m:\u001b[36m23\u001b[0m - \u001b[1mSampling round 1 started\u001b[0m\n",
      "\u001b[32m2025-03-27 01:34:14.577\u001b[0m | \u001b[1mINFO    \u001b[0m | \u001b[36m__main__\u001b[0m:\u001b[36m<module>\u001b[0m:\u001b[36m27\u001b[0m - \u001b[1mlen(uu)=0\u001b[0m\n",
      "\u001b[32m2025-03-27 01:34:14.598\u001b[0m | \u001b[1mINFO    \u001b[0m | \u001b[36m__main__\u001b[0m:\u001b[36m<module>\u001b[0m:\u001b[36m36\u001b[0m - \u001b[1mlen(ui)=693\u001b[0m\n",
      "\u001b[32m2025-03-27 01:34:14.628\u001b[0m | \u001b[1mINFO    \u001b[0m | \u001b[36m__main__\u001b[0m:\u001b[36m<module>\u001b[0m:\u001b[36m40\u001b[0m - \u001b[1mAfter removing ui: len(sample_df)=335712\u001b[0m\n",
      "\u001b[32m2025-03-27 01:34:14.651\u001b[0m | \u001b[1mINFO    \u001b[0m | \u001b[36m__main__\u001b[0m:\u001b[36m<module>\u001b[0m:\u001b[36m23\u001b[0m - \u001b[1mSampling round 2 started\u001b[0m\n"
     ]
    },
    {
     "name": "stdout",
     "output_type": "stream",
     "text": [
      "\n",
      "\n",
      "Randomly removing 2197 users - Round 46 started\n"
     ]
    },
    {
     "name": "stderr",
     "output_type": "stream",
     "text": [
      "\u001b[32m2025-03-27 01:34:14.719\u001b[0m | \u001b[1mINFO    \u001b[0m | \u001b[36m__main__\u001b[0m:\u001b[36m<module>\u001b[0m:\u001b[36m27\u001b[0m - \u001b[1mlen(uu)=1148\u001b[0m\n",
      "\u001b[32m2025-03-27 01:34:14.739\u001b[0m | \u001b[1mINFO    \u001b[0m | \u001b[36m__main__\u001b[0m:\u001b[36m<module>\u001b[0m:\u001b[36m31\u001b[0m - \u001b[1mAfter removing uu: len(sample_df)=331158\u001b[0m\n",
      "\u001b[32m2025-03-27 01:34:14.844\u001b[0m | \u001b[1mINFO    \u001b[0m | \u001b[36m__main__\u001b[0m:\u001b[36m<module>\u001b[0m:\u001b[36m36\u001b[0m - \u001b[1mlen(ui)=187\u001b[0m\n",
      "\u001b[32m2025-03-27 01:34:14.872\u001b[0m | \u001b[1mINFO    \u001b[0m | \u001b[36m__main__\u001b[0m:\u001b[36m<module>\u001b[0m:\u001b[36m40\u001b[0m - \u001b[1mAfter removing ui: len(sample_df)=329489\u001b[0m\n",
      "\u001b[32m2025-03-27 01:34:14.895\u001b[0m | \u001b[1mINFO    \u001b[0m | \u001b[36m__main__\u001b[0m:\u001b[36m<module>\u001b[0m:\u001b[36m23\u001b[0m - \u001b[1mSampling round 3 started\u001b[0m\n",
      "\u001b[32m2025-03-27 01:34:14.958\u001b[0m | \u001b[1mINFO    \u001b[0m | \u001b[36m__main__\u001b[0m:\u001b[36m<module>\u001b[0m:\u001b[36m27\u001b[0m - \u001b[1mlen(uu)=329\u001b[0m\n",
      "\u001b[32m2025-03-27 01:34:14.979\u001b[0m | \u001b[1mINFO    \u001b[0m | \u001b[36m__main__\u001b[0m:\u001b[36m<module>\u001b[0m:\u001b[36m31\u001b[0m - \u001b[1mAfter removing uu: len(sample_df)=328177\u001b[0m\n",
      "\u001b[32m2025-03-27 01:34:15.061\u001b[0m | \u001b[1mINFO    \u001b[0m | \u001b[36m__main__\u001b[0m:\u001b[36m<module>\u001b[0m:\u001b[36m36\u001b[0m - \u001b[1mlen(ui)=55\u001b[0m\n",
      "\u001b[32m2025-03-27 01:34:15.083\u001b[0m | \u001b[1mINFO    \u001b[0m | \u001b[36m__main__\u001b[0m:\u001b[36m<module>\u001b[0m:\u001b[36m40\u001b[0m - \u001b[1mAfter removing ui: len(sample_df)=327685\u001b[0m\n",
      "\u001b[32m2025-03-27 01:34:15.104\u001b[0m | \u001b[1mINFO    \u001b[0m | \u001b[36m__main__\u001b[0m:\u001b[36m<module>\u001b[0m:\u001b[36m23\u001b[0m - \u001b[1mSampling round 4 started\u001b[0m\n",
      "\u001b[32m2025-03-27 01:34:15.167\u001b[0m | \u001b[1mINFO    \u001b[0m | \u001b[36m__main__\u001b[0m:\u001b[36m<module>\u001b[0m:\u001b[36m27\u001b[0m - \u001b[1mlen(uu)=116\u001b[0m\n",
      "\u001b[32m2025-03-27 01:34:15.187\u001b[0m | \u001b[1mINFO    \u001b[0m | \u001b[36m__main__\u001b[0m:\u001b[36m<module>\u001b[0m:\u001b[36m31\u001b[0m - \u001b[1mAfter removing uu: len(sample_df)=327221\u001b[0m\n",
      "\u001b[32m2025-03-27 01:34:15.268\u001b[0m | \u001b[1mINFO    \u001b[0m | \u001b[36m__main__\u001b[0m:\u001b[36m<module>\u001b[0m:\u001b[36m36\u001b[0m - \u001b[1mlen(ui)=11\u001b[0m\n",
      "\u001b[32m2025-03-27 01:34:15.292\u001b[0m | \u001b[1mINFO    \u001b[0m | \u001b[36m__main__\u001b[0m:\u001b[36m<module>\u001b[0m:\u001b[36m40\u001b[0m - \u001b[1mAfter removing ui: len(sample_df)=327122\u001b[0m\n",
      "\u001b[32m2025-03-27 01:34:15.314\u001b[0m | \u001b[1mINFO    \u001b[0m | \u001b[36m__main__\u001b[0m:\u001b[36m<module>\u001b[0m:\u001b[36m23\u001b[0m - \u001b[1mSampling round 5 started\u001b[0m\n",
      "\u001b[32m2025-03-27 01:34:15.374\u001b[0m | \u001b[1mINFO    \u001b[0m | \u001b[36m__main__\u001b[0m:\u001b[36m<module>\u001b[0m:\u001b[36m27\u001b[0m - \u001b[1mlen(uu)=19\u001b[0m\n",
      "\u001b[32m2025-03-27 01:34:15.393\u001b[0m | \u001b[1mINFO    \u001b[0m | \u001b[36m__main__\u001b[0m:\u001b[36m<module>\u001b[0m:\u001b[36m31\u001b[0m - \u001b[1mAfter removing uu: len(sample_df)=327046\u001b[0m\n",
      "\u001b[32m2025-03-27 01:34:15.477\u001b[0m | \u001b[1mINFO    \u001b[0m | \u001b[36m__main__\u001b[0m:\u001b[36m<module>\u001b[0m:\u001b[36m36\u001b[0m - \u001b[1mlen(ui)=0\u001b[0m\n",
      "\u001b[32m2025-03-27 01:34:15.477\u001b[0m | \u001b[1mINFO    \u001b[0m | \u001b[36m__main__\u001b[0m:\u001b[36m<module>\u001b[0m:\u001b[36m23\u001b[0m - \u001b[1mSampling round 6 started\u001b[0m\n",
      "\u001b[32m2025-03-27 01:34:15.543\u001b[0m | \u001b[1mINFO    \u001b[0m | \u001b[36m__main__\u001b[0m:\u001b[36m<module>\u001b[0m:\u001b[36m27\u001b[0m - \u001b[1mlen(uu)=0\u001b[0m\n",
      "\u001b[32m2025-03-27 01:34:15.565\u001b[0m | \u001b[1mINFO    \u001b[0m | \u001b[36m__main__\u001b[0m:\u001b[36m<module>\u001b[0m:\u001b[36m36\u001b[0m - \u001b[1mlen(ui)=0\u001b[0m\n",
      "\u001b[32m2025-03-27 01:34:15.605\u001b[0m | \u001b[1mINFO    \u001b[0m | \u001b[36m__main__\u001b[0m:\u001b[36m<module>\u001b[0m:\u001b[36m48\u001b[0m - \u001b[1mAfter randomly removing users - round 46: num_users=40145\u001b[0m\n",
      "\u001b[32m2025-03-27 01:34:15.606\u001b[0m | \u001b[1mINFO    \u001b[0m | \u001b[36m__main__\u001b[0m:\u001b[36m<module>\u001b[0m:\u001b[36m54\u001b[0m - \u001b[1mNumber of users 40145 are still greater than expected, keep removing...\u001b[0m\n",
      "\u001b[32m2025-03-27 01:34:16.035\u001b[0m | \u001b[1mINFO    \u001b[0m | \u001b[36m__main__\u001b[0m:\u001b[36m<module>\u001b[0m:\u001b[36m23\u001b[0m - \u001b[1mSampling round 1 started\u001b[0m\n",
      "\u001b[32m2025-03-27 01:34:16.082\u001b[0m | \u001b[1mINFO    \u001b[0m | \u001b[36m__main__\u001b[0m:\u001b[36m<module>\u001b[0m:\u001b[36m27\u001b[0m - \u001b[1mlen(uu)=0\u001b[0m\n",
      "\u001b[32m2025-03-27 01:34:16.103\u001b[0m | \u001b[1mINFO    \u001b[0m | \u001b[36m__main__\u001b[0m:\u001b[36m<module>\u001b[0m:\u001b[36m36\u001b[0m - \u001b[1mlen(ui)=584\u001b[0m\n",
      "\u001b[32m2025-03-27 01:34:16.125\u001b[0m | \u001b[1mINFO    \u001b[0m | \u001b[36m__main__\u001b[0m:\u001b[36m<module>\u001b[0m:\u001b[36m40\u001b[0m - \u001b[1mAfter removing ui: len(sample_df)=305443\u001b[0m\n",
      "\u001b[32m2025-03-27 01:34:16.145\u001b[0m | \u001b[1mINFO    \u001b[0m | \u001b[36m__main__\u001b[0m:\u001b[36m<module>\u001b[0m:\u001b[36m23\u001b[0m - \u001b[1mSampling round 2 started\u001b[0m\n",
      "\u001b[32m2025-03-27 01:34:16.200\u001b[0m | \u001b[1mINFO    \u001b[0m | \u001b[36m__main__\u001b[0m:\u001b[36m<module>\u001b[0m:\u001b[36m27\u001b[0m - \u001b[1mlen(uu)=1028\u001b[0m\n"
     ]
    },
    {
     "name": "stdout",
     "output_type": "stream",
     "text": [
      "\n",
      "\n",
      "Randomly removing 2007 users - Round 47 started\n"
     ]
    },
    {
     "name": "stderr",
     "output_type": "stream",
     "text": [
      "\u001b[32m2025-03-27 01:34:16.221\u001b[0m | \u001b[1mINFO    \u001b[0m | \u001b[36m__main__\u001b[0m:\u001b[36m<module>\u001b[0m:\u001b[36m31\u001b[0m - \u001b[1mAfter removing uu: len(sample_df)=301366\u001b[0m\n",
      "\u001b[32m2025-03-27 01:34:16.299\u001b[0m | \u001b[1mINFO    \u001b[0m | \u001b[36m__main__\u001b[0m:\u001b[36m<module>\u001b[0m:\u001b[36m36\u001b[0m - \u001b[1mlen(ui)=174\u001b[0m\n",
      "\u001b[32m2025-03-27 01:34:16.322\u001b[0m | \u001b[1mINFO    \u001b[0m | \u001b[36m__main__\u001b[0m:\u001b[36m<module>\u001b[0m:\u001b[36m40\u001b[0m - \u001b[1mAfter removing ui: len(sample_df)=299808\u001b[0m\n",
      "\u001b[32m2025-03-27 01:34:16.340\u001b[0m | \u001b[1mINFO    \u001b[0m | \u001b[36m__main__\u001b[0m:\u001b[36m<module>\u001b[0m:\u001b[36m23\u001b[0m - \u001b[1mSampling round 3 started\u001b[0m\n",
      "\u001b[32m2025-03-27 01:34:16.397\u001b[0m | \u001b[1mINFO    \u001b[0m | \u001b[36m__main__\u001b[0m:\u001b[36m<module>\u001b[0m:\u001b[36m27\u001b[0m - \u001b[1mlen(uu)=325\u001b[0m\n",
      "\u001b[32m2025-03-27 01:34:16.419\u001b[0m | \u001b[1mINFO    \u001b[0m | \u001b[36m__main__\u001b[0m:\u001b[36m<module>\u001b[0m:\u001b[36m31\u001b[0m - \u001b[1mAfter removing uu: len(sample_df)=298517\u001b[0m\n",
      "\u001b[32m2025-03-27 01:34:16.494\u001b[0m | \u001b[1mINFO    \u001b[0m | \u001b[36m__main__\u001b[0m:\u001b[36m<module>\u001b[0m:\u001b[36m36\u001b[0m - \u001b[1mlen(ui)=51\u001b[0m\n",
      "\u001b[32m2025-03-27 01:34:16.511\u001b[0m | \u001b[1mINFO    \u001b[0m | \u001b[36m__main__\u001b[0m:\u001b[36m<module>\u001b[0m:\u001b[36m40\u001b[0m - \u001b[1mAfter removing ui: len(sample_df)=298059\u001b[0m\n",
      "\u001b[32m2025-03-27 01:34:16.531\u001b[0m | \u001b[1mINFO    \u001b[0m | \u001b[36m__main__\u001b[0m:\u001b[36m<module>\u001b[0m:\u001b[36m23\u001b[0m - \u001b[1mSampling round 4 started\u001b[0m\n",
      "\u001b[32m2025-03-27 01:34:16.587\u001b[0m | \u001b[1mINFO    \u001b[0m | \u001b[36m__main__\u001b[0m:\u001b[36m<module>\u001b[0m:\u001b[36m27\u001b[0m - \u001b[1mlen(uu)=111\u001b[0m\n",
      "\u001b[32m2025-03-27 01:34:16.603\u001b[0m | \u001b[1mINFO    \u001b[0m | \u001b[36m__main__\u001b[0m:\u001b[36m<module>\u001b[0m:\u001b[36m31\u001b[0m - \u001b[1mAfter removing uu: len(sample_df)=297617\u001b[0m\n",
      "\u001b[32m2025-03-27 01:34:16.680\u001b[0m | \u001b[1mINFO    \u001b[0m | \u001b[36m__main__\u001b[0m:\u001b[36m<module>\u001b[0m:\u001b[36m36\u001b[0m - \u001b[1mlen(ui)=10\u001b[0m\n",
      "\u001b[32m2025-03-27 01:34:16.703\u001b[0m | \u001b[1mINFO    \u001b[0m | \u001b[36m__main__\u001b[0m:\u001b[36m<module>\u001b[0m:\u001b[36m40\u001b[0m - \u001b[1mAfter removing ui: len(sample_df)=297527\u001b[0m\n",
      "\u001b[32m2025-03-27 01:34:16.722\u001b[0m | \u001b[1mINFO    \u001b[0m | \u001b[36m__main__\u001b[0m:\u001b[36m<module>\u001b[0m:\u001b[36m23\u001b[0m - \u001b[1mSampling round 5 started\u001b[0m\n",
      "\u001b[32m2025-03-27 01:34:16.777\u001b[0m | \u001b[1mINFO    \u001b[0m | \u001b[36m__main__\u001b[0m:\u001b[36m<module>\u001b[0m:\u001b[36m27\u001b[0m - \u001b[1mlen(uu)=28\u001b[0m\n",
      "\u001b[32m2025-03-27 01:34:16.793\u001b[0m | \u001b[1mINFO    \u001b[0m | \u001b[36m__main__\u001b[0m:\u001b[36m<module>\u001b[0m:\u001b[36m31\u001b[0m - \u001b[1mAfter removing uu: len(sample_df)=297415\u001b[0m\n",
      "\u001b[32m2025-03-27 01:34:16.863\u001b[0m | \u001b[1mINFO    \u001b[0m | \u001b[36m__main__\u001b[0m:\u001b[36m<module>\u001b[0m:\u001b[36m36\u001b[0m - \u001b[1mlen(ui)=1\u001b[0m\n",
      "\u001b[32m2025-03-27 01:34:16.879\u001b[0m | \u001b[1mINFO    \u001b[0m | \u001b[36m__main__\u001b[0m:\u001b[36m<module>\u001b[0m:\u001b[36m40\u001b[0m - \u001b[1mAfter removing ui: len(sample_df)=297406\u001b[0m\n",
      "\u001b[32m2025-03-27 01:34:16.898\u001b[0m | \u001b[1mINFO    \u001b[0m | \u001b[36m__main__\u001b[0m:\u001b[36m<module>\u001b[0m:\u001b[36m23\u001b[0m - \u001b[1mSampling round 6 started\u001b[0m\n",
      "\u001b[32m2025-03-27 01:34:16.954\u001b[0m | \u001b[1mINFO    \u001b[0m | \u001b[36m__main__\u001b[0m:\u001b[36m<module>\u001b[0m:\u001b[36m27\u001b[0m - \u001b[1mlen(uu)=2\u001b[0m\n",
      "\u001b[32m2025-03-27 01:34:16.971\u001b[0m | \u001b[1mINFO    \u001b[0m | \u001b[36m__main__\u001b[0m:\u001b[36m<module>\u001b[0m:\u001b[36m31\u001b[0m - \u001b[1mAfter removing uu: len(sample_df)=297398\u001b[0m\n",
      "\u001b[32m2025-03-27 01:34:17.044\u001b[0m | \u001b[1mINFO    \u001b[0m | \u001b[36m__main__\u001b[0m:\u001b[36m<module>\u001b[0m:\u001b[36m36\u001b[0m - \u001b[1mlen(ui)=0\u001b[0m\n",
      "\u001b[32m2025-03-27 01:34:17.044\u001b[0m | \u001b[1mINFO    \u001b[0m | \u001b[36m__main__\u001b[0m:\u001b[36m<module>\u001b[0m:\u001b[36m23\u001b[0m - \u001b[1mSampling round 7 started\u001b[0m\n",
      "\u001b[32m2025-03-27 01:34:17.095\u001b[0m | \u001b[1mINFO    \u001b[0m | \u001b[36m__main__\u001b[0m:\u001b[36m<module>\u001b[0m:\u001b[36m27\u001b[0m - \u001b[1mlen(uu)=0\u001b[0m\n",
      "\u001b[32m2025-03-27 01:34:17.114\u001b[0m | \u001b[1mINFO    \u001b[0m | \u001b[36m__main__\u001b[0m:\u001b[36m<module>\u001b[0m:\u001b[36m36\u001b[0m - \u001b[1mlen(ui)=0\u001b[0m\n",
      "\u001b[32m2025-03-27 01:34:17.150\u001b[0m | \u001b[1mINFO    \u001b[0m | \u001b[36m__main__\u001b[0m:\u001b[36m<module>\u001b[0m:\u001b[36m48\u001b[0m - \u001b[1mAfter randomly removing users - round 47: num_users=36644\u001b[0m\n",
      "\u001b[32m2025-03-27 01:34:17.150\u001b[0m | \u001b[1mINFO    \u001b[0m | \u001b[36m__main__\u001b[0m:\u001b[36m<module>\u001b[0m:\u001b[36m54\u001b[0m - \u001b[1mNumber of users 36644 are still greater than expected, keep removing...\u001b[0m\n",
      "\u001b[32m2025-03-27 01:34:17.541\u001b[0m | \u001b[1mINFO    \u001b[0m | \u001b[36m__main__\u001b[0m:\u001b[36m<module>\u001b[0m:\u001b[36m23\u001b[0m - \u001b[1mSampling round 1 started\u001b[0m\n",
      "\u001b[32m2025-03-27 01:34:17.588\u001b[0m | \u001b[1mINFO    \u001b[0m | \u001b[36m__main__\u001b[0m:\u001b[36m<module>\u001b[0m:\u001b[36m27\u001b[0m - \u001b[1mlen(uu)=0\u001b[0m\n",
      "\u001b[32m2025-03-27 01:34:17.605\u001b[0m | \u001b[1mINFO    \u001b[0m | \u001b[36m__main__\u001b[0m:\u001b[36m<module>\u001b[0m:\u001b[36m36\u001b[0m - \u001b[1mlen(ui)=577\u001b[0m\n",
      "\u001b[32m2025-03-27 01:34:17.626\u001b[0m | \u001b[1mINFO    \u001b[0m | \u001b[36m__main__\u001b[0m:\u001b[36m<module>\u001b[0m:\u001b[36m40\u001b[0m - \u001b[1mAfter removing ui: len(sample_df)=277147\u001b[0m\n",
      "\u001b[32m2025-03-27 01:34:17.644\u001b[0m | \u001b[1mINFO    \u001b[0m | \u001b[36m__main__\u001b[0m:\u001b[36m<module>\u001b[0m:\u001b[36m23\u001b[0m - \u001b[1mSampling round 2 started\u001b[0m\n",
      "\u001b[32m2025-03-27 01:34:17.697\u001b[0m | \u001b[1mINFO    \u001b[0m | \u001b[36m__main__\u001b[0m:\u001b[36m<module>\u001b[0m:\u001b[36m27\u001b[0m - \u001b[1mlen(uu)=1036\u001b[0m\n",
      "\u001b[32m2025-03-27 01:34:17.712\u001b[0m | \u001b[1mINFO    \u001b[0m | \u001b[36m__main__\u001b[0m:\u001b[36m<module>\u001b[0m:\u001b[36m31\u001b[0m - \u001b[1mAfter removing uu: len(sample_df)=273041\u001b[0m\n"
     ]
    },
    {
     "name": "stdout",
     "output_type": "stream",
     "text": [
      "\n",
      "\n",
      "Randomly removing 1832 users - Round 48 started\n"
     ]
    },
    {
     "name": "stderr",
     "output_type": "stream",
     "text": [
      "\u001b[32m2025-03-27 01:34:17.777\u001b[0m | \u001b[1mINFO    \u001b[0m | \u001b[36m__main__\u001b[0m:\u001b[36m<module>\u001b[0m:\u001b[36m36\u001b[0m - \u001b[1mlen(ui)=175\u001b[0m\n",
      "\u001b[32m2025-03-27 01:34:17.799\u001b[0m | \u001b[1mINFO    \u001b[0m | \u001b[36m__main__\u001b[0m:\u001b[36m<module>\u001b[0m:\u001b[36m40\u001b[0m - \u001b[1mAfter removing ui: len(sample_df)=271478\u001b[0m\n",
      "\u001b[32m2025-03-27 01:34:17.817\u001b[0m | \u001b[1mINFO    \u001b[0m | \u001b[36m__main__\u001b[0m:\u001b[36m<module>\u001b[0m:\u001b[36m23\u001b[0m - \u001b[1mSampling round 3 started\u001b[0m\n",
      "\u001b[32m2025-03-27 01:34:17.869\u001b[0m | \u001b[1mINFO    \u001b[0m | \u001b[36m__main__\u001b[0m:\u001b[36m<module>\u001b[0m:\u001b[36m27\u001b[0m - \u001b[1mlen(uu)=304\u001b[0m\n",
      "\u001b[32m2025-03-27 01:34:17.887\u001b[0m | \u001b[1mINFO    \u001b[0m | \u001b[36m__main__\u001b[0m:\u001b[36m<module>\u001b[0m:\u001b[36m31\u001b[0m - \u001b[1mAfter removing uu: len(sample_df)=270269\u001b[0m\n",
      "\u001b[32m2025-03-27 01:34:17.954\u001b[0m | \u001b[1mINFO    \u001b[0m | \u001b[36m__main__\u001b[0m:\u001b[36m<module>\u001b[0m:\u001b[36m36\u001b[0m - \u001b[1mlen(ui)=55\u001b[0m\n",
      "\u001b[32m2025-03-27 01:34:17.970\u001b[0m | \u001b[1mINFO    \u001b[0m | \u001b[36m__main__\u001b[0m:\u001b[36m<module>\u001b[0m:\u001b[36m40\u001b[0m - \u001b[1mAfter removing ui: len(sample_df)=269777\u001b[0m\n",
      "\u001b[32m2025-03-27 01:34:17.987\u001b[0m | \u001b[1mINFO    \u001b[0m | \u001b[36m__main__\u001b[0m:\u001b[36m<module>\u001b[0m:\u001b[36m23\u001b[0m - \u001b[1mSampling round 4 started\u001b[0m\n",
      "\u001b[32m2025-03-27 01:34:18.035\u001b[0m | \u001b[1mINFO    \u001b[0m | \u001b[36m__main__\u001b[0m:\u001b[36m<module>\u001b[0m:\u001b[36m27\u001b[0m - \u001b[1mlen(uu)=99\u001b[0m\n",
      "\u001b[32m2025-03-27 01:34:18.057\u001b[0m | \u001b[1mINFO    \u001b[0m | \u001b[36m__main__\u001b[0m:\u001b[36m<module>\u001b[0m:\u001b[36m31\u001b[0m - \u001b[1mAfter removing uu: len(sample_df)=269384\u001b[0m\n",
      "\u001b[32m2025-03-27 01:34:18.127\u001b[0m | \u001b[1mINFO    \u001b[0m | \u001b[36m__main__\u001b[0m:\u001b[36m<module>\u001b[0m:\u001b[36m36\u001b[0m - \u001b[1mlen(ui)=17\u001b[0m\n",
      "\u001b[32m2025-03-27 01:34:18.145\u001b[0m | \u001b[1mINFO    \u001b[0m | \u001b[36m__main__\u001b[0m:\u001b[36m<module>\u001b[0m:\u001b[36m40\u001b[0m - \u001b[1mAfter removing ui: len(sample_df)=269231\u001b[0m\n",
      "\u001b[32m2025-03-27 01:34:18.163\u001b[0m | \u001b[1mINFO    \u001b[0m | \u001b[36m__main__\u001b[0m:\u001b[36m<module>\u001b[0m:\u001b[36m23\u001b[0m - \u001b[1mSampling round 5 started\u001b[0m\n",
      "\u001b[32m2025-03-27 01:34:18.208\u001b[0m | \u001b[1mINFO    \u001b[0m | \u001b[36m__main__\u001b[0m:\u001b[36m<module>\u001b[0m:\u001b[36m27\u001b[0m - \u001b[1mlen(uu)=35\u001b[0m\n",
      "\u001b[32m2025-03-27 01:34:18.230\u001b[0m | \u001b[1mINFO    \u001b[0m | \u001b[36m__main__\u001b[0m:\u001b[36m<module>\u001b[0m:\u001b[36m31\u001b[0m - \u001b[1mAfter removing uu: len(sample_df)=269091\u001b[0m\n",
      "\u001b[32m2025-03-27 01:34:18.314\u001b[0m | \u001b[1mINFO    \u001b[0m | \u001b[36m__main__\u001b[0m:\u001b[36m<module>\u001b[0m:\u001b[36m36\u001b[0m - \u001b[1mlen(ui)=5\u001b[0m\n",
      "\u001b[32m2025-03-27 01:34:18.335\u001b[0m | \u001b[1mINFO    \u001b[0m | \u001b[36m__main__\u001b[0m:\u001b[36m<module>\u001b[0m:\u001b[36m40\u001b[0m - \u001b[1mAfter removing ui: len(sample_df)=269046\u001b[0m\n",
      "\u001b[32m2025-03-27 01:34:18.351\u001b[0m | \u001b[1mINFO    \u001b[0m | \u001b[36m__main__\u001b[0m:\u001b[36m<module>\u001b[0m:\u001b[36m23\u001b[0m - \u001b[1mSampling round 6 started\u001b[0m\n",
      "\u001b[32m2025-03-27 01:34:18.409\u001b[0m | \u001b[1mINFO    \u001b[0m | \u001b[36m__main__\u001b[0m:\u001b[36m<module>\u001b[0m:\u001b[36m27\u001b[0m - \u001b[1mlen(uu)=11\u001b[0m\n",
      "\u001b[32m2025-03-27 01:34:18.427\u001b[0m | \u001b[1mINFO    \u001b[0m | \u001b[36m__main__\u001b[0m:\u001b[36m<module>\u001b[0m:\u001b[36m31\u001b[0m - \u001b[1mAfter removing uu: len(sample_df)=269002\u001b[0m\n",
      "\u001b[32m2025-03-27 01:34:18.491\u001b[0m | \u001b[1mINFO    \u001b[0m | \u001b[36m__main__\u001b[0m:\u001b[36m<module>\u001b[0m:\u001b[36m36\u001b[0m - \u001b[1mlen(ui)=0\u001b[0m\n",
      "\u001b[32m2025-03-27 01:34:18.491\u001b[0m | \u001b[1mINFO    \u001b[0m | \u001b[36m__main__\u001b[0m:\u001b[36m<module>\u001b[0m:\u001b[36m23\u001b[0m - \u001b[1mSampling round 7 started\u001b[0m\n",
      "\u001b[32m2025-03-27 01:34:18.538\u001b[0m | \u001b[1mINFO    \u001b[0m | \u001b[36m__main__\u001b[0m:\u001b[36m<module>\u001b[0m:\u001b[36m27\u001b[0m - \u001b[1mlen(uu)=0\u001b[0m\n",
      "\u001b[32m2025-03-27 01:34:18.554\u001b[0m | \u001b[1mINFO    \u001b[0m | \u001b[36m__main__\u001b[0m:\u001b[36m<module>\u001b[0m:\u001b[36m36\u001b[0m - \u001b[1mlen(ui)=0\u001b[0m\n",
      "\u001b[32m2025-03-27 01:34:18.586\u001b[0m | \u001b[1mINFO    \u001b[0m | \u001b[36m__main__\u001b[0m:\u001b[36m<module>\u001b[0m:\u001b[36m48\u001b[0m - \u001b[1mAfter randomly removing users - round 48: num_users=33327\u001b[0m\n",
      "\u001b[32m2025-03-27 01:34:18.587\u001b[0m | \u001b[1mINFO    \u001b[0m | \u001b[36m__main__\u001b[0m:\u001b[36m<module>\u001b[0m:\u001b[36m54\u001b[0m - \u001b[1mNumber of users 33327 are still greater than expected, keep removing...\u001b[0m\n",
      "\u001b[32m2025-03-27 01:34:18.941\u001b[0m | \u001b[1mINFO    \u001b[0m | \u001b[36m__main__\u001b[0m:\u001b[36m<module>\u001b[0m:\u001b[36m23\u001b[0m - \u001b[1mSampling round 1 started\u001b[0m\n",
      "\u001b[32m2025-03-27 01:34:18.982\u001b[0m | \u001b[1mINFO    \u001b[0m | \u001b[36m__main__\u001b[0m:\u001b[36m<module>\u001b[0m:\u001b[36m27\u001b[0m - \u001b[1mlen(uu)=0\u001b[0m\n",
      "\u001b[32m2025-03-27 01:34:19.000\u001b[0m | \u001b[1mINFO    \u001b[0m | \u001b[36m__main__\u001b[0m:\u001b[36m<module>\u001b[0m:\u001b[36m36\u001b[0m - \u001b[1mlen(ui)=581\u001b[0m\n",
      "\u001b[32m2025-03-27 01:34:19.019\u001b[0m | \u001b[1mINFO    \u001b[0m | \u001b[36m__main__\u001b[0m:\u001b[36m<module>\u001b[0m:\u001b[36m40\u001b[0m - \u001b[1mAfter removing ui: len(sample_df)=250130\u001b[0m\n",
      "\u001b[32m2025-03-27 01:34:19.036\u001b[0m | \u001b[1mINFO    \u001b[0m | \u001b[36m__main__\u001b[0m:\u001b[36m<module>\u001b[0m:\u001b[36m23\u001b[0m - \u001b[1mSampling round 2 started\u001b[0m\n",
      "\u001b[32m2025-03-27 01:34:19.084\u001b[0m | \u001b[1mINFO    \u001b[0m | \u001b[36m__main__\u001b[0m:\u001b[36m<module>\u001b[0m:\u001b[36m27\u001b[0m - \u001b[1mlen(uu)=1036\u001b[0m\n",
      "\u001b[32m2025-03-27 01:34:19.100\u001b[0m | \u001b[1mINFO    \u001b[0m | \u001b[36m__main__\u001b[0m:\u001b[36m<module>\u001b[0m:\u001b[36m31\u001b[0m - \u001b[1mAfter removing uu: len(sample_df)=246022\u001b[0m\n"
     ]
    },
    {
     "name": "stdout",
     "output_type": "stream",
     "text": [
      "\n",
      "\n",
      "Randomly removing 1666 users - Round 49 started\n"
     ]
    },
    {
     "name": "stderr",
     "output_type": "stream",
     "text": [
      "\u001b[32m2025-03-27 01:34:19.160\u001b[0m | \u001b[1mINFO    \u001b[0m | \u001b[36m__main__\u001b[0m:\u001b[36m<module>\u001b[0m:\u001b[36m36\u001b[0m - \u001b[1mlen(ui)=187\u001b[0m\n",
      "\u001b[32m2025-03-27 01:34:19.181\u001b[0m | \u001b[1mINFO    \u001b[0m | \u001b[36m__main__\u001b[0m:\u001b[36m<module>\u001b[0m:\u001b[36m40\u001b[0m - \u001b[1mAfter removing ui: len(sample_df)=244355\u001b[0m\n",
      "\u001b[32m2025-03-27 01:34:19.198\u001b[0m | \u001b[1mINFO    \u001b[0m | \u001b[36m__main__\u001b[0m:\u001b[36m<module>\u001b[0m:\u001b[36m23\u001b[0m - \u001b[1mSampling round 3 started\u001b[0m\n",
      "\u001b[32m2025-03-27 01:34:19.244\u001b[0m | \u001b[1mINFO    \u001b[0m | \u001b[36m__main__\u001b[0m:\u001b[36m<module>\u001b[0m:\u001b[36m27\u001b[0m - \u001b[1mlen(uu)=335\u001b[0m\n",
      "\u001b[32m2025-03-27 01:34:19.258\u001b[0m | \u001b[1mINFO    \u001b[0m | \u001b[36m__main__\u001b[0m:\u001b[36m<module>\u001b[0m:\u001b[36m31\u001b[0m - \u001b[1mAfter removing uu: len(sample_df)=243019\u001b[0m\n",
      "\u001b[32m2025-03-27 01:34:19.315\u001b[0m | \u001b[1mINFO    \u001b[0m | \u001b[36m__main__\u001b[0m:\u001b[36m<module>\u001b[0m:\u001b[36m36\u001b[0m - \u001b[1mlen(ui)=54\u001b[0m\n",
      "\u001b[32m2025-03-27 01:34:19.330\u001b[0m | \u001b[1mINFO    \u001b[0m | \u001b[36m__main__\u001b[0m:\u001b[36m<module>\u001b[0m:\u001b[36m40\u001b[0m - \u001b[1mAfter removing ui: len(sample_df)=242533\u001b[0m\n",
      "\u001b[32m2025-03-27 01:34:19.345\u001b[0m | \u001b[1mINFO    \u001b[0m | \u001b[36m__main__\u001b[0m:\u001b[36m<module>\u001b[0m:\u001b[36m23\u001b[0m - \u001b[1mSampling round 4 started\u001b[0m\n",
      "\u001b[32m2025-03-27 01:34:19.390\u001b[0m | \u001b[1mINFO    \u001b[0m | \u001b[36m__main__\u001b[0m:\u001b[36m<module>\u001b[0m:\u001b[36m27\u001b[0m - \u001b[1mlen(uu)=93\u001b[0m\n",
      "\u001b[32m2025-03-27 01:34:19.414\u001b[0m | \u001b[1mINFO    \u001b[0m | \u001b[36m__main__\u001b[0m:\u001b[36m<module>\u001b[0m:\u001b[36m31\u001b[0m - \u001b[1mAfter removing uu: len(sample_df)=242161\u001b[0m\n",
      "\u001b[32m2025-03-27 01:34:19.490\u001b[0m | \u001b[1mINFO    \u001b[0m | \u001b[36m__main__\u001b[0m:\u001b[36m<module>\u001b[0m:\u001b[36m36\u001b[0m - \u001b[1mlen(ui)=15\u001b[0m\n",
      "\u001b[32m2025-03-27 01:34:19.507\u001b[0m | \u001b[1mINFO    \u001b[0m | \u001b[36m__main__\u001b[0m:\u001b[36m<module>\u001b[0m:\u001b[36m40\u001b[0m - \u001b[1mAfter removing ui: len(sample_df)=242026\u001b[0m\n",
      "\u001b[32m2025-03-27 01:34:19.531\u001b[0m | \u001b[1mINFO    \u001b[0m | \u001b[36m__main__\u001b[0m:\u001b[36m<module>\u001b[0m:\u001b[36m23\u001b[0m - \u001b[1mSampling round 5 started\u001b[0m\n",
      "\u001b[32m2025-03-27 01:34:19.580\u001b[0m | \u001b[1mINFO    \u001b[0m | \u001b[36m__main__\u001b[0m:\u001b[36m<module>\u001b[0m:\u001b[36m27\u001b[0m - \u001b[1mlen(uu)=32\u001b[0m\n",
      "\u001b[32m2025-03-27 01:34:19.595\u001b[0m | \u001b[1mINFO    \u001b[0m | \u001b[36m__main__\u001b[0m:\u001b[36m<module>\u001b[0m:\u001b[36m31\u001b[0m - \u001b[1mAfter removing uu: len(sample_df)=241898\u001b[0m\n",
      "\u001b[32m2025-03-27 01:34:19.646\u001b[0m | \u001b[1mINFO    \u001b[0m | \u001b[36m__main__\u001b[0m:\u001b[36m<module>\u001b[0m:\u001b[36m36\u001b[0m - \u001b[1mlen(ui)=8\u001b[0m\n",
      "\u001b[32m2025-03-27 01:34:19.661\u001b[0m | \u001b[1mINFO    \u001b[0m | \u001b[36m__main__\u001b[0m:\u001b[36m<module>\u001b[0m:\u001b[36m40\u001b[0m - \u001b[1mAfter removing ui: len(sample_df)=241826\u001b[0m\n",
      "\u001b[32m2025-03-27 01:34:19.676\u001b[0m | \u001b[1mINFO    \u001b[0m | \u001b[36m__main__\u001b[0m:\u001b[36m<module>\u001b[0m:\u001b[36m23\u001b[0m - \u001b[1mSampling round 6 started\u001b[0m\n",
      "\u001b[32m2025-03-27 01:34:19.722\u001b[0m | \u001b[1mINFO    \u001b[0m | \u001b[36m__main__\u001b[0m:\u001b[36m<module>\u001b[0m:\u001b[36m27\u001b[0m - \u001b[1mlen(uu)=11\u001b[0m\n",
      "\u001b[32m2025-03-27 01:34:19.736\u001b[0m | \u001b[1mINFO    \u001b[0m | \u001b[36m__main__\u001b[0m:\u001b[36m<module>\u001b[0m:\u001b[36m31\u001b[0m - \u001b[1mAfter removing uu: len(sample_df)=241782\u001b[0m\n",
      "\u001b[32m2025-03-27 01:34:19.789\u001b[0m | \u001b[1mINFO    \u001b[0m | \u001b[36m__main__\u001b[0m:\u001b[36m<module>\u001b[0m:\u001b[36m36\u001b[0m - \u001b[1mlen(ui)=2\u001b[0m\n",
      "\u001b[32m2025-03-27 01:34:19.804\u001b[0m | \u001b[1mINFO    \u001b[0m | \u001b[36m__main__\u001b[0m:\u001b[36m<module>\u001b[0m:\u001b[36m40\u001b[0m - \u001b[1mAfter removing ui: len(sample_df)=241764\u001b[0m\n",
      "\u001b[32m2025-03-27 01:34:19.820\u001b[0m | \u001b[1mINFO    \u001b[0m | \u001b[36m__main__\u001b[0m:\u001b[36m<module>\u001b[0m:\u001b[36m23\u001b[0m - \u001b[1mSampling round 7 started\u001b[0m\n",
      "\u001b[32m2025-03-27 01:34:19.910\u001b[0m | \u001b[1mINFO    \u001b[0m | \u001b[36m__main__\u001b[0m:\u001b[36m<module>\u001b[0m:\u001b[36m27\u001b[0m - \u001b[1mlen(uu)=5\u001b[0m\n",
      "\u001b[32m2025-03-27 01:34:19.936\u001b[0m | \u001b[1mINFO    \u001b[0m | \u001b[36m__main__\u001b[0m:\u001b[36m<module>\u001b[0m:\u001b[36m31\u001b[0m - \u001b[1mAfter removing uu: len(sample_df)=241744\u001b[0m\n",
      "\u001b[32m2025-03-27 01:34:20.001\u001b[0m | \u001b[1mINFO    \u001b[0m | \u001b[36m__main__\u001b[0m:\u001b[36m<module>\u001b[0m:\u001b[36m36\u001b[0m - \u001b[1mlen(ui)=0\u001b[0m\n",
      "\u001b[32m2025-03-27 01:34:20.002\u001b[0m | \u001b[1mINFO    \u001b[0m | \u001b[36m__main__\u001b[0m:\u001b[36m<module>\u001b[0m:\u001b[36m23\u001b[0m - \u001b[1mSampling round 8 started\u001b[0m\n",
      "\u001b[32m2025-03-27 01:34:20.045\u001b[0m | \u001b[1mINFO    \u001b[0m | \u001b[36m__main__\u001b[0m:\u001b[36m<module>\u001b[0m:\u001b[36m27\u001b[0m - \u001b[1mlen(uu)=0\u001b[0m\n",
      "\u001b[32m2025-03-27 01:34:20.062\u001b[0m | \u001b[1mINFO    \u001b[0m | \u001b[36m__main__\u001b[0m:\u001b[36m<module>\u001b[0m:\u001b[36m36\u001b[0m - \u001b[1mlen(ui)=0\u001b[0m\n",
      "\u001b[32m2025-03-27 01:34:20.090\u001b[0m | \u001b[1mINFO    \u001b[0m | \u001b[36m__main__\u001b[0m:\u001b[36m<module>\u001b[0m:\u001b[36m48\u001b[0m - \u001b[1mAfter randomly removing users - round 49: num_users=30149\u001b[0m\n",
      "\u001b[32m2025-03-27 01:34:20.091\u001b[0m | \u001b[1mINFO    \u001b[0m | \u001b[36m__main__\u001b[0m:\u001b[36m<module>\u001b[0m:\u001b[36m54\u001b[0m - \u001b[1mNumber of users 30149 are still greater than expected, keep removing...\u001b[0m\n",
      "\u001b[32m2025-03-27 01:34:20.463\u001b[0m | \u001b[1mINFO    \u001b[0m | \u001b[36m__main__\u001b[0m:\u001b[36m<module>\u001b[0m:\u001b[36m23\u001b[0m - \u001b[1mSampling round 1 started\u001b[0m\n",
      "\u001b[32m2025-03-27 01:34:20.500\u001b[0m | \u001b[1mINFO    \u001b[0m | \u001b[36m__main__\u001b[0m:\u001b[36m<module>\u001b[0m:\u001b[36m27\u001b[0m - \u001b[1mlen(uu)=0\u001b[0m\n",
      "\u001b[32m2025-03-27 01:34:20.515\u001b[0m | \u001b[1mINFO    \u001b[0m | \u001b[36m__main__\u001b[0m:\u001b[36m<module>\u001b[0m:\u001b[36m36\u001b[0m - \u001b[1mlen(ui)=474\u001b[0m\n",
      "\u001b[32m2025-03-27 01:34:20.532\u001b[0m | \u001b[1mINFO    \u001b[0m | \u001b[36m__main__\u001b[0m:\u001b[36m<module>\u001b[0m:\u001b[36m40\u001b[0m - \u001b[1mAfter removing ui: len(sample_df)=225906\u001b[0m\n",
      "\u001b[32m2025-03-27 01:34:20.546\u001b[0m | \u001b[1mINFO    \u001b[0m | \u001b[36m__main__\u001b[0m:\u001b[36m<module>\u001b[0m:\u001b[36m23\u001b[0m - \u001b[1mSampling round 2 started\u001b[0m\n",
      "\u001b[32m2025-03-27 01:34:20.589\u001b[0m | \u001b[1mINFO    \u001b[0m | \u001b[36m__main__\u001b[0m:\u001b[36m<module>\u001b[0m:\u001b[36m27\u001b[0m - \u001b[1mlen(uu)=843\u001b[0m\n",
      "\u001b[32m2025-03-27 01:34:20.600\u001b[0m | \u001b[1mINFO    \u001b[0m | \u001b[36m__main__\u001b[0m:\u001b[36m<module>\u001b[0m:\u001b[36m31\u001b[0m - \u001b[1mAfter removing uu: len(sample_df)=222557\u001b[0m\n"
     ]
    },
    {
     "name": "stdout",
     "output_type": "stream",
     "text": [
      "\n",
      "\n",
      "Randomly removing 1507 users - Round 50 started\n"
     ]
    },
    {
     "name": "stderr",
     "output_type": "stream",
     "text": [
      "\u001b[32m2025-03-27 01:34:20.649\u001b[0m | \u001b[1mINFO    \u001b[0m | \u001b[36m__main__\u001b[0m:\u001b[36m<module>\u001b[0m:\u001b[36m36\u001b[0m - \u001b[1mlen(ui)=137\u001b[0m\n",
      "\u001b[32m2025-03-27 01:34:20.664\u001b[0m | \u001b[1mINFO    \u001b[0m | \u001b[36m__main__\u001b[0m:\u001b[36m<module>\u001b[0m:\u001b[36m40\u001b[0m - \u001b[1mAfter removing ui: len(sample_df)=221335\u001b[0m\n",
      "\u001b[32m2025-03-27 01:34:20.680\u001b[0m | \u001b[1mINFO    \u001b[0m | \u001b[36m__main__\u001b[0m:\u001b[36m<module>\u001b[0m:\u001b[36m23\u001b[0m - \u001b[1mSampling round 3 started\u001b[0m\n",
      "\u001b[32m2025-03-27 01:34:20.724\u001b[0m | \u001b[1mINFO    \u001b[0m | \u001b[36m__main__\u001b[0m:\u001b[36m<module>\u001b[0m:\u001b[36m27\u001b[0m - \u001b[1mlen(uu)=270\u001b[0m\n",
      "\u001b[32m2025-03-27 01:34:20.738\u001b[0m | \u001b[1mINFO    \u001b[0m | \u001b[36m__main__\u001b[0m:\u001b[36m<module>\u001b[0m:\u001b[36m31\u001b[0m - \u001b[1mAfter removing uu: len(sample_df)=220260\u001b[0m\n",
      "\u001b[32m2025-03-27 01:34:20.791\u001b[0m | \u001b[1mINFO    \u001b[0m | \u001b[36m__main__\u001b[0m:\u001b[36m<module>\u001b[0m:\u001b[36m36\u001b[0m - \u001b[1mlen(ui)=56\u001b[0m\n",
      "\u001b[32m2025-03-27 01:34:20.804\u001b[0m | \u001b[1mINFO    \u001b[0m | \u001b[36m__main__\u001b[0m:\u001b[36m<module>\u001b[0m:\u001b[36m40\u001b[0m - \u001b[1mAfter removing ui: len(sample_df)=219758\u001b[0m\n",
      "\u001b[32m2025-03-27 01:34:20.817\u001b[0m | \u001b[1mINFO    \u001b[0m | \u001b[36m__main__\u001b[0m:\u001b[36m<module>\u001b[0m:\u001b[36m23\u001b[0m - \u001b[1mSampling round 4 started\u001b[0m\n",
      "\u001b[32m2025-03-27 01:34:20.857\u001b[0m | \u001b[1mINFO    \u001b[0m | \u001b[36m__main__\u001b[0m:\u001b[36m<module>\u001b[0m:\u001b[36m27\u001b[0m - \u001b[1mlen(uu)=107\u001b[0m\n",
      "\u001b[32m2025-03-27 01:34:20.867\u001b[0m | \u001b[1mINFO    \u001b[0m | \u001b[36m__main__\u001b[0m:\u001b[36m<module>\u001b[0m:\u001b[36m31\u001b[0m - \u001b[1mAfter removing uu: len(sample_df)=219330\u001b[0m\n",
      "\u001b[32m2025-03-27 01:34:20.920\u001b[0m | \u001b[1mINFO    \u001b[0m | \u001b[36m__main__\u001b[0m:\u001b[36m<module>\u001b[0m:\u001b[36m36\u001b[0m - \u001b[1mlen(ui)=16\u001b[0m\n",
      "\u001b[32m2025-03-27 01:34:20.935\u001b[0m | \u001b[1mINFO    \u001b[0m | \u001b[36m__main__\u001b[0m:\u001b[36m<module>\u001b[0m:\u001b[36m40\u001b[0m - \u001b[1mAfter removing ui: len(sample_df)=219187\u001b[0m\n",
      "\u001b[32m2025-03-27 01:34:20.949\u001b[0m | \u001b[1mINFO    \u001b[0m | \u001b[36m__main__\u001b[0m:\u001b[36m<module>\u001b[0m:\u001b[36m23\u001b[0m - \u001b[1mSampling round 5 started\u001b[0m\n",
      "\u001b[32m2025-03-27 01:34:20.988\u001b[0m | \u001b[1mINFO    \u001b[0m | \u001b[36m__main__\u001b[0m:\u001b[36m<module>\u001b[0m:\u001b[36m27\u001b[0m - \u001b[1mlen(uu)=32\u001b[0m\n",
      "\u001b[32m2025-03-27 01:34:21.005\u001b[0m | \u001b[1mINFO    \u001b[0m | \u001b[36m__main__\u001b[0m:\u001b[36m<module>\u001b[0m:\u001b[36m31\u001b[0m - \u001b[1mAfter removing uu: len(sample_df)=219059\u001b[0m\n",
      "\u001b[32m2025-03-27 01:34:21.057\u001b[0m | \u001b[1mINFO    \u001b[0m | \u001b[36m__main__\u001b[0m:\u001b[36m<module>\u001b[0m:\u001b[36m36\u001b[0m - \u001b[1mlen(ui)=4\u001b[0m\n",
      "\u001b[32m2025-03-27 01:34:21.071\u001b[0m | \u001b[1mINFO    \u001b[0m | \u001b[36m__main__\u001b[0m:\u001b[36m<module>\u001b[0m:\u001b[36m40\u001b[0m - \u001b[1mAfter removing ui: len(sample_df)=219023\u001b[0m\n",
      "\u001b[32m2025-03-27 01:34:21.085\u001b[0m | \u001b[1mINFO    \u001b[0m | \u001b[36m__main__\u001b[0m:\u001b[36m<module>\u001b[0m:\u001b[36m23\u001b[0m - \u001b[1mSampling round 6 started\u001b[0m\n",
      "\u001b[32m2025-03-27 01:34:21.124\u001b[0m | \u001b[1mINFO    \u001b[0m | \u001b[36m__main__\u001b[0m:\u001b[36m<module>\u001b[0m:\u001b[36m27\u001b[0m - \u001b[1mlen(uu)=10\u001b[0m\n",
      "\u001b[32m2025-03-27 01:34:21.139\u001b[0m | \u001b[1mINFO    \u001b[0m | \u001b[36m__main__\u001b[0m:\u001b[36m<module>\u001b[0m:\u001b[36m31\u001b[0m - \u001b[1mAfter removing uu: len(sample_df)=218983\u001b[0m\n",
      "\u001b[32m2025-03-27 01:34:21.188\u001b[0m | \u001b[1mINFO    \u001b[0m | \u001b[36m__main__\u001b[0m:\u001b[36m<module>\u001b[0m:\u001b[36m36\u001b[0m - \u001b[1mlen(ui)=1\u001b[0m\n",
      "\u001b[32m2025-03-27 01:34:21.198\u001b[0m | \u001b[1mINFO    \u001b[0m | \u001b[36m__main__\u001b[0m:\u001b[36m<module>\u001b[0m:\u001b[36m40\u001b[0m - \u001b[1mAfter removing ui: len(sample_df)=218974\u001b[0m\n",
      "\u001b[32m2025-03-27 01:34:21.212\u001b[0m | \u001b[1mINFO    \u001b[0m | \u001b[36m__main__\u001b[0m:\u001b[36m<module>\u001b[0m:\u001b[36m23\u001b[0m - \u001b[1mSampling round 7 started\u001b[0m\n",
      "\u001b[32m2025-03-27 01:34:21.257\u001b[0m | \u001b[1mINFO    \u001b[0m | \u001b[36m__main__\u001b[0m:\u001b[36m<module>\u001b[0m:\u001b[36m27\u001b[0m - \u001b[1mlen(uu)=0\u001b[0m\n",
      "\u001b[32m2025-03-27 01:34:21.275\u001b[0m | \u001b[1mINFO    \u001b[0m | \u001b[36m__main__\u001b[0m:\u001b[36m<module>\u001b[0m:\u001b[36m36\u001b[0m - \u001b[1mlen(ui)=0\u001b[0m\n",
      "\u001b[32m2025-03-27 01:34:21.303\u001b[0m | \u001b[1mINFO    \u001b[0m | \u001b[36m__main__\u001b[0m:\u001b[36m<module>\u001b[0m:\u001b[36m48\u001b[0m - \u001b[1mAfter randomly removing users - round 50: num_users=27380\u001b[0m\n",
      "\u001b[32m2025-03-27 01:34:21.303\u001b[0m | \u001b[1mINFO    \u001b[0m | \u001b[36m__main__\u001b[0m:\u001b[36m<module>\u001b[0m:\u001b[36m54\u001b[0m - \u001b[1mNumber of users 27380 are still greater than expected, keep removing...\u001b[0m\n",
      "\u001b[32m2025-03-27 01:34:21.632\u001b[0m | \u001b[1mINFO    \u001b[0m | \u001b[36m__main__\u001b[0m:\u001b[36m<module>\u001b[0m:\u001b[36m23\u001b[0m - \u001b[1mSampling round 1 started\u001b[0m\n",
      "\u001b[32m2025-03-27 01:34:21.665\u001b[0m | \u001b[1mINFO    \u001b[0m | \u001b[36m__main__\u001b[0m:\u001b[36m<module>\u001b[0m:\u001b[36m27\u001b[0m - \u001b[1mlen(uu)=0\u001b[0m\n",
      "\u001b[32m2025-03-27 01:34:21.679\u001b[0m | \u001b[1mINFO    \u001b[0m | \u001b[36m__main__\u001b[0m:\u001b[36m<module>\u001b[0m:\u001b[36m36\u001b[0m - \u001b[1mlen(ui)=484\u001b[0m\n",
      "\u001b[32m2025-03-27 01:34:21.692\u001b[0m | \u001b[1mINFO    \u001b[0m | \u001b[36m__main__\u001b[0m:\u001b[36m<module>\u001b[0m:\u001b[36m40\u001b[0m - \u001b[1mAfter removing ui: len(sample_df)=203402\u001b[0m\n",
      "\u001b[32m2025-03-27 01:34:21.707\u001b[0m | \u001b[1mINFO    \u001b[0m | \u001b[36m__main__\u001b[0m:\u001b[36m<module>\u001b[0m:\u001b[36m23\u001b[0m - \u001b[1mSampling round 2 started\u001b[0m\n",
      "\u001b[32m2025-03-27 01:34:21.744\u001b[0m | \u001b[1mINFO    \u001b[0m | \u001b[36m__main__\u001b[0m:\u001b[36m<module>\u001b[0m:\u001b[36m27\u001b[0m - \u001b[1mlen(uu)=842\u001b[0m\n",
      "\u001b[32m2025-03-27 01:34:21.754\u001b[0m | \u001b[1mINFO    \u001b[0m | \u001b[36m__main__\u001b[0m:\u001b[36m<module>\u001b[0m:\u001b[36m31\u001b[0m - \u001b[1mAfter removing uu: len(sample_df)=200082\u001b[0m\n",
      "\u001b[32m2025-03-27 01:34:21.800\u001b[0m | \u001b[1mINFO    \u001b[0m | \u001b[36m__main__\u001b[0m:\u001b[36m<module>\u001b[0m:\u001b[36m36\u001b[0m - \u001b[1mlen(ui)=144\u001b[0m\n"
     ]
    },
    {
     "name": "stdout",
     "output_type": "stream",
     "text": [
      "\n",
      "\n",
      "Randomly removing 1369 users - Round 51 started\n"
     ]
    },
    {
     "name": "stderr",
     "output_type": "stream",
     "text": [
      "\u001b[32m2025-03-27 01:34:21.814\u001b[0m | \u001b[1mINFO    \u001b[0m | \u001b[36m__main__\u001b[0m:\u001b[36m<module>\u001b[0m:\u001b[36m40\u001b[0m - \u001b[1mAfter removing ui: len(sample_df)=198799\u001b[0m\n",
      "\u001b[32m2025-03-27 01:34:21.826\u001b[0m | \u001b[1mINFO    \u001b[0m | \u001b[36m__main__\u001b[0m:\u001b[36m<module>\u001b[0m:\u001b[36m23\u001b[0m - \u001b[1mSampling round 3 started\u001b[0m\n",
      "\u001b[32m2025-03-27 01:34:21.867\u001b[0m | \u001b[1mINFO    \u001b[0m | \u001b[36m__main__\u001b[0m:\u001b[36m<module>\u001b[0m:\u001b[36m27\u001b[0m - \u001b[1mlen(uu)=279\u001b[0m\n",
      "\u001b[32m2025-03-27 01:34:21.878\u001b[0m | \u001b[1mINFO    \u001b[0m | \u001b[36m__main__\u001b[0m:\u001b[36m<module>\u001b[0m:\u001b[36m31\u001b[0m - \u001b[1mAfter removing uu: len(sample_df)=197686\u001b[0m\n",
      "\u001b[32m2025-03-27 01:34:21.923\u001b[0m | \u001b[1mINFO    \u001b[0m | \u001b[36m__main__\u001b[0m:\u001b[36m<module>\u001b[0m:\u001b[36m36\u001b[0m - \u001b[1mlen(ui)=57\u001b[0m\n",
      "\u001b[32m2025-03-27 01:34:21.935\u001b[0m | \u001b[1mINFO    \u001b[0m | \u001b[36m__main__\u001b[0m:\u001b[36m<module>\u001b[0m:\u001b[36m40\u001b[0m - \u001b[1mAfter removing ui: len(sample_df)=197173\u001b[0m\n",
      "\u001b[32m2025-03-27 01:34:21.947\u001b[0m | \u001b[1mINFO    \u001b[0m | \u001b[36m__main__\u001b[0m:\u001b[36m<module>\u001b[0m:\u001b[36m23\u001b[0m - \u001b[1mSampling round 4 started\u001b[0m\n",
      "\u001b[32m2025-03-27 01:34:21.983\u001b[0m | \u001b[1mINFO    \u001b[0m | \u001b[36m__main__\u001b[0m:\u001b[36m<module>\u001b[0m:\u001b[36m27\u001b[0m - \u001b[1mlen(uu)=112\u001b[0m\n",
      "\u001b[32m2025-03-27 01:34:21.994\u001b[0m | \u001b[1mINFO    \u001b[0m | \u001b[36m__main__\u001b[0m:\u001b[36m<module>\u001b[0m:\u001b[36m31\u001b[0m - \u001b[1mAfter removing uu: len(sample_df)=196726\u001b[0m\n",
      "\u001b[32m2025-03-27 01:34:22.042\u001b[0m | \u001b[1mINFO    \u001b[0m | \u001b[36m__main__\u001b[0m:\u001b[36m<module>\u001b[0m:\u001b[36m36\u001b[0m - \u001b[1mlen(ui)=17\u001b[0m\n",
      "\u001b[32m2025-03-27 01:34:22.055\u001b[0m | \u001b[1mINFO    \u001b[0m | \u001b[36m__main__\u001b[0m:\u001b[36m<module>\u001b[0m:\u001b[36m40\u001b[0m - \u001b[1mAfter removing ui: len(sample_df)=196573\u001b[0m\n",
      "\u001b[32m2025-03-27 01:34:22.067\u001b[0m | \u001b[1mINFO    \u001b[0m | \u001b[36m__main__\u001b[0m:\u001b[36m<module>\u001b[0m:\u001b[36m23\u001b[0m - \u001b[1mSampling round 5 started\u001b[0m\n",
      "\u001b[32m2025-03-27 01:34:22.103\u001b[0m | \u001b[1mINFO    \u001b[0m | \u001b[36m__main__\u001b[0m:\u001b[36m<module>\u001b[0m:\u001b[36m27\u001b[0m - \u001b[1mlen(uu)=37\u001b[0m\n",
      "\u001b[32m2025-03-27 01:34:22.114\u001b[0m | \u001b[1mINFO    \u001b[0m | \u001b[36m__main__\u001b[0m:\u001b[36m<module>\u001b[0m:\u001b[36m31\u001b[0m - \u001b[1mAfter removing uu: len(sample_df)=196425\u001b[0m\n",
      "\u001b[32m2025-03-27 01:34:22.162\u001b[0m | \u001b[1mINFO    \u001b[0m | \u001b[36m__main__\u001b[0m:\u001b[36m<module>\u001b[0m:\u001b[36m36\u001b[0m - \u001b[1mlen(ui)=6\u001b[0m\n",
      "\u001b[32m2025-03-27 01:34:22.178\u001b[0m | \u001b[1mINFO    \u001b[0m | \u001b[36m__main__\u001b[0m:\u001b[36m<module>\u001b[0m:\u001b[36m40\u001b[0m - \u001b[1mAfter removing ui: len(sample_df)=196371\u001b[0m\n",
      "\u001b[32m2025-03-27 01:34:22.187\u001b[0m | \u001b[1mINFO    \u001b[0m | \u001b[36m__main__\u001b[0m:\u001b[36m<module>\u001b[0m:\u001b[36m23\u001b[0m - \u001b[1mSampling round 6 started\u001b[0m\n",
      "\u001b[32m2025-03-27 01:34:22.225\u001b[0m | \u001b[1mINFO    \u001b[0m | \u001b[36m__main__\u001b[0m:\u001b[36m<module>\u001b[0m:\u001b[36m27\u001b[0m - \u001b[1mlen(uu)=17\u001b[0m\n",
      "\u001b[32m2025-03-27 01:34:22.239\u001b[0m | \u001b[1mINFO    \u001b[0m | \u001b[36m__main__\u001b[0m:\u001b[36m<module>\u001b[0m:\u001b[36m31\u001b[0m - \u001b[1mAfter removing uu: len(sample_df)=196303\u001b[0m\n",
      "\u001b[32m2025-03-27 01:34:22.286\u001b[0m | \u001b[1mINFO    \u001b[0m | \u001b[36m__main__\u001b[0m:\u001b[36m<module>\u001b[0m:\u001b[36m36\u001b[0m - \u001b[1mlen(ui)=3\u001b[0m\n",
      "\u001b[32m2025-03-27 01:34:22.299\u001b[0m | \u001b[1mINFO    \u001b[0m | \u001b[36m__main__\u001b[0m:\u001b[36m<module>\u001b[0m:\u001b[36m40\u001b[0m - \u001b[1mAfter removing ui: len(sample_df)=196276\u001b[0m\n",
      "\u001b[32m2025-03-27 01:34:22.311\u001b[0m | \u001b[1mINFO    \u001b[0m | \u001b[36m__main__\u001b[0m:\u001b[36m<module>\u001b[0m:\u001b[36m23\u001b[0m - \u001b[1mSampling round 7 started\u001b[0m\n",
      "\u001b[32m2025-03-27 01:34:22.350\u001b[0m | \u001b[1mINFO    \u001b[0m | \u001b[36m__main__\u001b[0m:\u001b[36m<module>\u001b[0m:\u001b[36m27\u001b[0m - \u001b[1mlen(uu)=9\u001b[0m\n",
      "\u001b[32m2025-03-27 01:34:22.363\u001b[0m | \u001b[1mINFO    \u001b[0m | \u001b[36m__main__\u001b[0m:\u001b[36m<module>\u001b[0m:\u001b[36m31\u001b[0m - \u001b[1mAfter removing uu: len(sample_df)=196240\u001b[0m\n",
      "\u001b[32m2025-03-27 01:34:22.408\u001b[0m | \u001b[1mINFO    \u001b[0m | \u001b[36m__main__\u001b[0m:\u001b[36m<module>\u001b[0m:\u001b[36m36\u001b[0m - \u001b[1mlen(ui)=3\u001b[0m\n",
      "\u001b[32m2025-03-27 01:34:22.421\u001b[0m | \u001b[1mINFO    \u001b[0m | \u001b[36m__main__\u001b[0m:\u001b[36m<module>\u001b[0m:\u001b[36m40\u001b[0m - \u001b[1mAfter removing ui: len(sample_df)=196213\u001b[0m\n",
      "\u001b[32m2025-03-27 01:34:22.433\u001b[0m | \u001b[1mINFO    \u001b[0m | \u001b[36m__main__\u001b[0m:\u001b[36m<module>\u001b[0m:\u001b[36m23\u001b[0m - \u001b[1mSampling round 8 started\u001b[0m\n",
      "\u001b[32m2025-03-27 01:34:22.477\u001b[0m | \u001b[1mINFO    \u001b[0m | \u001b[36m__main__\u001b[0m:\u001b[36m<module>\u001b[0m:\u001b[36m27\u001b[0m - \u001b[1mlen(uu)=8\u001b[0m\n",
      "\u001b[32m2025-03-27 01:34:22.485\u001b[0m | \u001b[1mINFO    \u001b[0m | \u001b[36m__main__\u001b[0m:\u001b[36m<module>\u001b[0m:\u001b[36m31\u001b[0m - \u001b[1mAfter removing uu: len(sample_df)=196181\u001b[0m\n",
      "\u001b[32m2025-03-27 01:34:22.532\u001b[0m | \u001b[1mINFO    \u001b[0m | \u001b[36m__main__\u001b[0m:\u001b[36m<module>\u001b[0m:\u001b[36m36\u001b[0m - \u001b[1mlen(ui)=0\u001b[0m\n",
      "\u001b[32m2025-03-27 01:34:22.532\u001b[0m | \u001b[1mINFO    \u001b[0m | \u001b[36m__main__\u001b[0m:\u001b[36m<module>\u001b[0m:\u001b[36m23\u001b[0m - \u001b[1mSampling round 9 started\u001b[0m\n",
      "\u001b[32m2025-03-27 01:34:22.570\u001b[0m | \u001b[1mINFO    \u001b[0m | \u001b[36m__main__\u001b[0m:\u001b[36m<module>\u001b[0m:\u001b[36m27\u001b[0m - \u001b[1mlen(uu)=0\u001b[0m\n",
      "\u001b[32m2025-03-27 01:34:22.584\u001b[0m | \u001b[1mINFO    \u001b[0m | \u001b[36m__main__\u001b[0m:\u001b[36m<module>\u001b[0m:\u001b[36m36\u001b[0m - \u001b[1mlen(ui)=0\u001b[0m\n",
      "\u001b[32m2025-03-27 01:34:22.607\u001b[0m | \u001b[1mINFO    \u001b[0m | \u001b[36m__main__\u001b[0m:\u001b[36m<module>\u001b[0m:\u001b[36m48\u001b[0m - \u001b[1mAfter randomly removing users - round 51: num_users=24707\u001b[0m\n",
      "\u001b[32m2025-03-27 01:34:22.608\u001b[0m | \u001b[1mINFO    \u001b[0m | \u001b[36m__main__\u001b[0m:\u001b[36m<module>\u001b[0m:\u001b[36m54\u001b[0m - \u001b[1mNumber of users 24707 are still greater than expected, keep removing...\u001b[0m\n",
      "\u001b[32m2025-03-27 01:34:23.009\u001b[0m | \u001b[1mINFO    \u001b[0m | \u001b[36m__main__\u001b[0m:\u001b[36m<module>\u001b[0m:\u001b[36m23\u001b[0m - \u001b[1mSampling round 1 started\u001b[0m\n",
      "\u001b[32m2025-03-27 01:34:23.039\u001b[0m | \u001b[1mINFO    \u001b[0m | \u001b[36m__main__\u001b[0m:\u001b[36m<module>\u001b[0m:\u001b[36m27\u001b[0m - \u001b[1mlen(uu)=0\u001b[0m\n",
      "\u001b[32m2025-03-27 01:34:23.052\u001b[0m | \u001b[1mINFO    \u001b[0m | \u001b[36m__main__\u001b[0m:\u001b[36m<module>\u001b[0m:\u001b[36m36\u001b[0m - \u001b[1mlen(ui)=414\u001b[0m\n",
      "\u001b[32m2025-03-27 01:34:23.064\u001b[0m | \u001b[1mINFO    \u001b[0m | \u001b[36m__main__\u001b[0m:\u001b[36m<module>\u001b[0m:\u001b[36m40\u001b[0m - \u001b[1mAfter removing ui: len(sample_df)=182803\u001b[0m\n",
      "\u001b[32m2025-03-27 01:34:23.076\u001b[0m | \u001b[1mINFO    \u001b[0m | \u001b[36m__main__\u001b[0m:\u001b[36m<module>\u001b[0m:\u001b[36m23\u001b[0m - \u001b[1mSampling round 2 started\u001b[0m\n",
      "\u001b[32m2025-03-27 01:34:23.109\u001b[0m | \u001b[1mINFO    \u001b[0m | \u001b[36m__main__\u001b[0m:\u001b[36m<module>\u001b[0m:\u001b[36m27\u001b[0m - \u001b[1mlen(uu)=777\u001b[0m\n",
      "\u001b[32m2025-03-27 01:34:23.126\u001b[0m | \u001b[1mINFO    \u001b[0m | \u001b[36m__main__\u001b[0m:\u001b[36m<module>\u001b[0m:\u001b[36m31\u001b[0m - \u001b[1mAfter removing uu: len(sample_df)=179720\u001b[0m\n",
      "\u001b[32m2025-03-27 01:34:23.165\u001b[0m | \u001b[1mINFO    \u001b[0m | \u001b[36m__main__\u001b[0m:\u001b[36m<module>\u001b[0m:\u001b[36m36\u001b[0m - \u001b[1mlen(ui)=117\u001b[0m\n",
      "\u001b[32m2025-03-27 01:34:23.177\u001b[0m | \u001b[1mINFO    \u001b[0m | \u001b[36m__main__\u001b[0m:\u001b[36m<module>\u001b[0m:\u001b[36m40\u001b[0m - \u001b[1mAfter removing ui: len(sample_df)=178675\u001b[0m\n",
      "\u001b[32m2025-03-27 01:34:23.189\u001b[0m | \u001b[1mINFO    \u001b[0m | \u001b[36m__main__\u001b[0m:\u001b[36m<module>\u001b[0m:\u001b[36m23\u001b[0m - \u001b[1mSampling round 3 started\u001b[0m\n"
     ]
    },
    {
     "name": "stdout",
     "output_type": "stream",
     "text": [
      "\n",
      "\n",
      "Randomly removing 1235 users - Round 52 started\n"
     ]
    },
    {
     "name": "stderr",
     "output_type": "stream",
     "text": [
      "\u001b[32m2025-03-27 01:34:23.236\u001b[0m | \u001b[1mINFO    \u001b[0m | \u001b[36m__main__\u001b[0m:\u001b[36m<module>\u001b[0m:\u001b[36m27\u001b[0m - \u001b[1mlen(uu)=211\u001b[0m\n",
      "\u001b[32m2025-03-27 01:34:23.253\u001b[0m | \u001b[1mINFO    \u001b[0m | \u001b[36m__main__\u001b[0m:\u001b[36m<module>\u001b[0m:\u001b[36m31\u001b[0m - \u001b[1mAfter removing uu: len(sample_df)=177833\u001b[0m\n",
      "\u001b[32m2025-03-27 01:34:23.306\u001b[0m | \u001b[1mINFO    \u001b[0m | \u001b[36m__main__\u001b[0m:\u001b[36m<module>\u001b[0m:\u001b[36m36\u001b[0m - \u001b[1mlen(ui)=31\u001b[0m\n",
      "\u001b[32m2025-03-27 01:34:23.318\u001b[0m | \u001b[1mINFO    \u001b[0m | \u001b[36m__main__\u001b[0m:\u001b[36m<module>\u001b[0m:\u001b[36m40\u001b[0m - \u001b[1mAfter removing ui: len(sample_df)=177554\u001b[0m\n",
      "\u001b[32m2025-03-27 01:34:23.330\u001b[0m | \u001b[1mINFO    \u001b[0m | \u001b[36m__main__\u001b[0m:\u001b[36m<module>\u001b[0m:\u001b[36m23\u001b[0m - \u001b[1mSampling round 4 started\u001b[0m\n",
      "\u001b[32m2025-03-27 01:34:23.361\u001b[0m | \u001b[1mINFO    \u001b[0m | \u001b[36m__main__\u001b[0m:\u001b[36m<module>\u001b[0m:\u001b[36m27\u001b[0m - \u001b[1mlen(uu)=58\u001b[0m\n",
      "\u001b[32m2025-03-27 01:34:23.371\u001b[0m | \u001b[1mINFO    \u001b[0m | \u001b[36m__main__\u001b[0m:\u001b[36m<module>\u001b[0m:\u001b[36m31\u001b[0m - \u001b[1mAfter removing uu: len(sample_df)=177322\u001b[0m\n",
      "\u001b[32m2025-03-27 01:34:23.412\u001b[0m | \u001b[1mINFO    \u001b[0m | \u001b[36m__main__\u001b[0m:\u001b[36m<module>\u001b[0m:\u001b[36m36\u001b[0m - \u001b[1mlen(ui)=9\u001b[0m\n",
      "\u001b[32m2025-03-27 01:34:23.424\u001b[0m | \u001b[1mINFO    \u001b[0m | \u001b[36m__main__\u001b[0m:\u001b[36m<module>\u001b[0m:\u001b[36m40\u001b[0m - \u001b[1mAfter removing ui: len(sample_df)=177241\u001b[0m\n",
      "\u001b[32m2025-03-27 01:34:23.435\u001b[0m | \u001b[1mINFO    \u001b[0m | \u001b[36m__main__\u001b[0m:\u001b[36m<module>\u001b[0m:\u001b[36m23\u001b[0m - \u001b[1mSampling round 5 started\u001b[0m\n",
      "\u001b[32m2025-03-27 01:34:23.467\u001b[0m | \u001b[1mINFO    \u001b[0m | \u001b[36m__main__\u001b[0m:\u001b[36m<module>\u001b[0m:\u001b[36m27\u001b[0m - \u001b[1mlen(uu)=16\u001b[0m\n",
      "\u001b[32m2025-03-27 01:34:23.477\u001b[0m | \u001b[1mINFO    \u001b[0m | \u001b[36m__main__\u001b[0m:\u001b[36m<module>\u001b[0m:\u001b[36m31\u001b[0m - \u001b[1mAfter removing uu: len(sample_df)=177177\u001b[0m\n",
      "\u001b[32m2025-03-27 01:34:23.519\u001b[0m | \u001b[1mINFO    \u001b[0m | \u001b[36m__main__\u001b[0m:\u001b[36m<module>\u001b[0m:\u001b[36m36\u001b[0m - \u001b[1mlen(ui)=4\u001b[0m\n",
      "\u001b[32m2025-03-27 01:34:23.531\u001b[0m | \u001b[1mINFO    \u001b[0m | \u001b[36m__main__\u001b[0m:\u001b[36m<module>\u001b[0m:\u001b[36m40\u001b[0m - \u001b[1mAfter removing ui: len(sample_df)=177141\u001b[0m\n",
      "\u001b[32m2025-03-27 01:34:23.542\u001b[0m | \u001b[1mINFO    \u001b[0m | \u001b[36m__main__\u001b[0m:\u001b[36m<module>\u001b[0m:\u001b[36m23\u001b[0m - \u001b[1mSampling round 6 started\u001b[0m\n",
      "\u001b[32m2025-03-27 01:34:23.574\u001b[0m | \u001b[1mINFO    \u001b[0m | \u001b[36m__main__\u001b[0m:\u001b[36m<module>\u001b[0m:\u001b[36m27\u001b[0m - \u001b[1mlen(uu)=8\u001b[0m\n",
      "\u001b[32m2025-03-27 01:34:23.587\u001b[0m | \u001b[1mINFO    \u001b[0m | \u001b[36m__main__\u001b[0m:\u001b[36m<module>\u001b[0m:\u001b[36m31\u001b[0m - \u001b[1mAfter removing uu: len(sample_df)=177109\u001b[0m\n",
      "\u001b[32m2025-03-27 01:34:23.629\u001b[0m | \u001b[1mINFO    \u001b[0m | \u001b[36m__main__\u001b[0m:\u001b[36m<module>\u001b[0m:\u001b[36m36\u001b[0m - \u001b[1mlen(ui)=1\u001b[0m\n",
      "\u001b[32m2025-03-27 01:34:23.637\u001b[0m | \u001b[1mINFO    \u001b[0m | \u001b[36m__main__\u001b[0m:\u001b[36m<module>\u001b[0m:\u001b[36m40\u001b[0m - \u001b[1mAfter removing ui: len(sample_df)=177100\u001b[0m\n",
      "\u001b[32m2025-03-27 01:34:23.648\u001b[0m | \u001b[1mINFO    \u001b[0m | \u001b[36m__main__\u001b[0m:\u001b[36m<module>\u001b[0m:\u001b[36m23\u001b[0m - \u001b[1mSampling round 7 started\u001b[0m\n",
      "\u001b[32m2025-03-27 01:34:23.679\u001b[0m | \u001b[1mINFO    \u001b[0m | \u001b[36m__main__\u001b[0m:\u001b[36m<module>\u001b[0m:\u001b[36m27\u001b[0m - \u001b[1mlen(uu)=1\u001b[0m\n",
      "\u001b[32m2025-03-27 01:34:23.688\u001b[0m | \u001b[1mINFO    \u001b[0m | \u001b[36m__main__\u001b[0m:\u001b[36m<module>\u001b[0m:\u001b[36m31\u001b[0m - \u001b[1mAfter removing uu: len(sample_df)=177096\u001b[0m\n",
      "\u001b[32m2025-03-27 01:34:23.726\u001b[0m | \u001b[1mINFO    \u001b[0m | \u001b[36m__main__\u001b[0m:\u001b[36m<module>\u001b[0m:\u001b[36m36\u001b[0m - \u001b[1mlen(ui)=0\u001b[0m\n",
      "\u001b[32m2025-03-27 01:34:23.727\u001b[0m | \u001b[1mINFO    \u001b[0m | \u001b[36m__main__\u001b[0m:\u001b[36m<module>\u001b[0m:\u001b[36m23\u001b[0m - \u001b[1mSampling round 8 started\u001b[0m\n",
      "\u001b[32m2025-03-27 01:34:23.758\u001b[0m | \u001b[1mINFO    \u001b[0m | \u001b[36m__main__\u001b[0m:\u001b[36m<module>\u001b[0m:\u001b[36m27\u001b[0m - \u001b[1mlen(uu)=0\u001b[0m\n",
      "\u001b[32m2025-03-27 01:34:23.770\u001b[0m | \u001b[1mINFO    \u001b[0m | \u001b[36m__main__\u001b[0m:\u001b[36m<module>\u001b[0m:\u001b[36m36\u001b[0m - \u001b[1mlen(ui)=0\u001b[0m\n",
      "\u001b[32m2025-03-27 01:34:23.789\u001b[0m | \u001b[1mINFO    \u001b[0m | \u001b[36m__main__\u001b[0m:\u001b[36m<module>\u001b[0m:\u001b[36m48\u001b[0m - \u001b[1mAfter randomly removing users - round 52: num_users=22401\u001b[0m\n",
      "\u001b[32m2025-03-27 01:34:23.789\u001b[0m | \u001b[1mINFO    \u001b[0m | \u001b[36m__main__\u001b[0m:\u001b[36m<module>\u001b[0m:\u001b[36m54\u001b[0m - \u001b[1mNumber of users 22401 are still greater than expected, keep removing...\u001b[0m\n",
      "\u001b[32m2025-03-27 01:34:24.135\u001b[0m | \u001b[1mINFO    \u001b[0m | \u001b[36m__main__\u001b[0m:\u001b[36m<module>\u001b[0m:\u001b[36m23\u001b[0m - \u001b[1mSampling round 1 started\u001b[0m\n",
      "\u001b[32m2025-03-27 01:34:24.157\u001b[0m | \u001b[1mINFO    \u001b[0m | \u001b[36m__main__\u001b[0m:\u001b[36m<module>\u001b[0m:\u001b[36m27\u001b[0m - \u001b[1mlen(uu)=0\u001b[0m\n",
      "\u001b[32m2025-03-27 01:34:24.168\u001b[0m | \u001b[1mINFO    \u001b[0m | \u001b[36m__main__\u001b[0m:\u001b[36m<module>\u001b[0m:\u001b[36m36\u001b[0m - \u001b[1mlen(ui)=391\u001b[0m\n",
      "\u001b[32m2025-03-27 01:34:24.184\u001b[0m | \u001b[1mINFO    \u001b[0m | \u001b[36m__main__\u001b[0m:\u001b[36m<module>\u001b[0m:\u001b[36m40\u001b[0m - \u001b[1mAfter removing ui: len(sample_df)=164667\u001b[0m\n",
      "\u001b[32m2025-03-27 01:34:24.195\u001b[0m | \u001b[1mINFO    \u001b[0m | \u001b[36m__main__\u001b[0m:\u001b[36m<module>\u001b[0m:\u001b[36m23\u001b[0m - \u001b[1mSampling round 2 started\u001b[0m\n",
      "\u001b[32m2025-03-27 01:34:24.225\u001b[0m | \u001b[1mINFO    \u001b[0m | \u001b[36m__main__\u001b[0m:\u001b[36m<module>\u001b[0m:\u001b[36m27\u001b[0m - \u001b[1mlen(uu)=682\u001b[0m\n",
      "\u001b[32m2025-03-27 01:34:24.239\u001b[0m | \u001b[1mINFO    \u001b[0m | \u001b[36m__main__\u001b[0m:\u001b[36m<module>\u001b[0m:\u001b[36m31\u001b[0m - \u001b[1mAfter removing uu: len(sample_df)=161976\u001b[0m\n",
      "\u001b[32m2025-03-27 01:34:24.272\u001b[0m | \u001b[1mINFO    \u001b[0m | \u001b[36m__main__\u001b[0m:\u001b[36m<module>\u001b[0m:\u001b[36m36\u001b[0m - \u001b[1mlen(ui)=120\u001b[0m\n",
      "\u001b[32m2025-03-27 01:34:24.282\u001b[0m | \u001b[1mINFO    \u001b[0m | \u001b[36m__main__\u001b[0m:\u001b[36m<module>\u001b[0m:\u001b[36m40\u001b[0m - \u001b[1mAfter removing ui: len(sample_df)=160903\u001b[0m\n",
      "\u001b[32m2025-03-27 01:34:24.293\u001b[0m | \u001b[1mINFO    \u001b[0m | \u001b[36m__main__\u001b[0m:\u001b[36m<module>\u001b[0m:\u001b[36m23\u001b[0m - \u001b[1mSampling round 3 started\u001b[0m\n",
      "\u001b[32m2025-03-27 01:34:24.320\u001b[0m | \u001b[1mINFO    \u001b[0m | \u001b[36m__main__\u001b[0m:\u001b[36m<module>\u001b[0m:\u001b[36m27\u001b[0m - \u001b[1mlen(uu)=245\u001b[0m\n"
     ]
    },
    {
     "name": "stdout",
     "output_type": "stream",
     "text": [
      "\n",
      "\n",
      "Randomly removing 1120 users - Round 53 started\n"
     ]
    },
    {
     "name": "stderr",
     "output_type": "stream",
     "text": [
      "\u001b[32m2025-03-27 01:34:24.328\u001b[0m | \u001b[1mINFO    \u001b[0m | \u001b[36m__main__\u001b[0m:\u001b[36m<module>\u001b[0m:\u001b[36m31\u001b[0m - \u001b[1mAfter removing uu: len(sample_df)=159926\u001b[0m\n",
      "\u001b[32m2025-03-27 01:34:24.371\u001b[0m | \u001b[1mINFO    \u001b[0m | \u001b[36m__main__\u001b[0m:\u001b[36m<module>\u001b[0m:\u001b[36m36\u001b[0m - \u001b[1mlen(ui)=53\u001b[0m\n",
      "\u001b[32m2025-03-27 01:34:24.381\u001b[0m | \u001b[1mINFO    \u001b[0m | \u001b[36m__main__\u001b[0m:\u001b[36m<module>\u001b[0m:\u001b[36m40\u001b[0m - \u001b[1mAfter removing ui: len(sample_df)=159452\u001b[0m\n",
      "\u001b[32m2025-03-27 01:34:24.392\u001b[0m | \u001b[1mINFO    \u001b[0m | \u001b[36m__main__\u001b[0m:\u001b[36m<module>\u001b[0m:\u001b[36m23\u001b[0m - \u001b[1mSampling round 4 started\u001b[0m\n",
      "\u001b[32m2025-03-27 01:34:24.420\u001b[0m | \u001b[1mINFO    \u001b[0m | \u001b[36m__main__\u001b[0m:\u001b[36m<module>\u001b[0m:\u001b[36m27\u001b[0m - \u001b[1mlen(uu)=96\u001b[0m\n",
      "\u001b[32m2025-03-27 01:34:24.434\u001b[0m | \u001b[1mINFO    \u001b[0m | \u001b[36m__main__\u001b[0m:\u001b[36m<module>\u001b[0m:\u001b[36m31\u001b[0m - \u001b[1mAfter removing uu: len(sample_df)=159068\u001b[0m\n",
      "\u001b[32m2025-03-27 01:34:24.468\u001b[0m | \u001b[1mINFO    \u001b[0m | \u001b[36m__main__\u001b[0m:\u001b[36m<module>\u001b[0m:\u001b[36m36\u001b[0m - \u001b[1mlen(ui)=18\u001b[0m\n",
      "\u001b[32m2025-03-27 01:34:24.479\u001b[0m | \u001b[1mINFO    \u001b[0m | \u001b[36m__main__\u001b[0m:\u001b[36m<module>\u001b[0m:\u001b[36m40\u001b[0m - \u001b[1mAfter removing ui: len(sample_df)=158906\u001b[0m\n",
      "\u001b[32m2025-03-27 01:34:24.489\u001b[0m | \u001b[1mINFO    \u001b[0m | \u001b[36m__main__\u001b[0m:\u001b[36m<module>\u001b[0m:\u001b[36m23\u001b[0m - \u001b[1mSampling round 5 started\u001b[0m\n",
      "\u001b[32m2025-03-27 01:34:24.520\u001b[0m | \u001b[1mINFO    \u001b[0m | \u001b[36m__main__\u001b[0m:\u001b[36m<module>\u001b[0m:\u001b[36m27\u001b[0m - \u001b[1mlen(uu)=32\u001b[0m\n",
      "\u001b[32m2025-03-27 01:34:24.529\u001b[0m | \u001b[1mINFO    \u001b[0m | \u001b[36m__main__\u001b[0m:\u001b[36m<module>\u001b[0m:\u001b[36m31\u001b[0m - \u001b[1mAfter removing uu: len(sample_df)=158778\u001b[0m\n",
      "\u001b[32m2025-03-27 01:34:24.566\u001b[0m | \u001b[1mINFO    \u001b[0m | \u001b[36m__main__\u001b[0m:\u001b[36m<module>\u001b[0m:\u001b[36m36\u001b[0m - \u001b[1mlen(ui)=3\u001b[0m\n",
      "\u001b[32m2025-03-27 01:34:24.577\u001b[0m | \u001b[1mINFO    \u001b[0m | \u001b[36m__main__\u001b[0m:\u001b[36m<module>\u001b[0m:\u001b[36m40\u001b[0m - \u001b[1mAfter removing ui: len(sample_df)=158751\u001b[0m\n",
      "\u001b[32m2025-03-27 01:34:24.587\u001b[0m | \u001b[1mINFO    \u001b[0m | \u001b[36m__main__\u001b[0m:\u001b[36m<module>\u001b[0m:\u001b[36m23\u001b[0m - \u001b[1mSampling round 6 started\u001b[0m\n",
      "\u001b[32m2025-03-27 01:34:24.616\u001b[0m | \u001b[1mINFO    \u001b[0m | \u001b[36m__main__\u001b[0m:\u001b[36m<module>\u001b[0m:\u001b[36m27\u001b[0m - \u001b[1mlen(uu)=6\u001b[0m\n",
      "\u001b[32m2025-03-27 01:34:24.625\u001b[0m | \u001b[1mINFO    \u001b[0m | \u001b[36m__main__\u001b[0m:\u001b[36m<module>\u001b[0m:\u001b[36m31\u001b[0m - \u001b[1mAfter removing uu: len(sample_df)=158727\u001b[0m\n",
      "\u001b[32m2025-03-27 01:34:24.661\u001b[0m | \u001b[1mINFO    \u001b[0m | \u001b[36m__main__\u001b[0m:\u001b[36m<module>\u001b[0m:\u001b[36m36\u001b[0m - \u001b[1mlen(ui)=0\u001b[0m\n",
      "\u001b[32m2025-03-27 01:34:24.661\u001b[0m | \u001b[1mINFO    \u001b[0m | \u001b[36m__main__\u001b[0m:\u001b[36m<module>\u001b[0m:\u001b[36m23\u001b[0m - \u001b[1mSampling round 7 started\u001b[0m\n",
      "\u001b[32m2025-03-27 01:34:24.693\u001b[0m | \u001b[1mINFO    \u001b[0m | \u001b[36m__main__\u001b[0m:\u001b[36m<module>\u001b[0m:\u001b[36m27\u001b[0m - \u001b[1mlen(uu)=0\u001b[0m\n",
      "\u001b[32m2025-03-27 01:34:24.704\u001b[0m | \u001b[1mINFO    \u001b[0m | \u001b[36m__main__\u001b[0m:\u001b[36m<module>\u001b[0m:\u001b[36m36\u001b[0m - \u001b[1mlen(ui)=0\u001b[0m\n",
      "\u001b[32m2025-03-27 01:34:24.723\u001b[0m | \u001b[1mINFO    \u001b[0m | \u001b[36m__main__\u001b[0m:\u001b[36m<module>\u001b[0m:\u001b[36m48\u001b[0m - \u001b[1mAfter randomly removing users - round 53: num_users=20220\u001b[0m\n",
      "\u001b[32m2025-03-27 01:34:24.723\u001b[0m | \u001b[1mINFO    \u001b[0m | \u001b[36m__main__\u001b[0m:\u001b[36m<module>\u001b[0m:\u001b[36m54\u001b[0m - \u001b[1mNumber of users 20220 are still greater than expected, keep removing...\u001b[0m\n",
      "\u001b[32m2025-03-27 01:34:25.097\u001b[0m | \u001b[1mINFO    \u001b[0m | \u001b[36m__main__\u001b[0m:\u001b[36m<module>\u001b[0m:\u001b[36m23\u001b[0m - \u001b[1mSampling round 1 started\u001b[0m\n",
      "\u001b[32m2025-03-27 01:34:25.121\u001b[0m | \u001b[1mINFO    \u001b[0m | \u001b[36m__main__\u001b[0m:\u001b[36m<module>\u001b[0m:\u001b[36m27\u001b[0m - \u001b[1mlen(uu)=0\u001b[0m\n",
      "\u001b[32m2025-03-27 01:34:25.132\u001b[0m | \u001b[1mINFO    \u001b[0m | \u001b[36m__main__\u001b[0m:\u001b[36m<module>\u001b[0m:\u001b[36m36\u001b[0m - \u001b[1mlen(ui)=326\u001b[0m\n",
      "\u001b[32m2025-03-27 01:34:25.143\u001b[0m | \u001b[1mINFO    \u001b[0m | \u001b[36m__main__\u001b[0m:\u001b[36m<module>\u001b[0m:\u001b[36m40\u001b[0m - \u001b[1mAfter removing ui: len(sample_df)=148089\u001b[0m\n",
      "\u001b[32m2025-03-27 01:34:25.152\u001b[0m | \u001b[1mINFO    \u001b[0m | \u001b[36m__main__\u001b[0m:\u001b[36m<module>\u001b[0m:\u001b[36m23\u001b[0m - \u001b[1mSampling round 2 started\u001b[0m\n",
      "\u001b[32m2025-03-27 01:34:25.179\u001b[0m | \u001b[1mINFO    \u001b[0m | \u001b[36m__main__\u001b[0m:\u001b[36m<module>\u001b[0m:\u001b[36m27\u001b[0m - \u001b[1mlen(uu)=603\u001b[0m\n",
      "\u001b[32m2025-03-27 01:34:25.188\u001b[0m | \u001b[1mINFO    \u001b[0m | \u001b[36m__main__\u001b[0m:\u001b[36m<module>\u001b[0m:\u001b[36m31\u001b[0m - \u001b[1mAfter removing uu: len(sample_df)=145706\u001b[0m\n",
      "\u001b[32m2025-03-27 01:34:25.222\u001b[0m | \u001b[1mINFO    \u001b[0m | \u001b[36m__main__\u001b[0m:\u001b[36m<module>\u001b[0m:\u001b[36m36\u001b[0m - \u001b[1mlen(ui)=124\u001b[0m\n",
      "\u001b[32m2025-03-27 01:34:25.232\u001b[0m | \u001b[1mINFO    \u001b[0m | \u001b[36m__main__\u001b[0m:\u001b[36m<module>\u001b[0m:\u001b[36m40\u001b[0m - \u001b[1mAfter removing ui: len(sample_df)=144601\u001b[0m\n",
      "\u001b[32m2025-03-27 01:34:25.241\u001b[0m | \u001b[1mINFO    \u001b[0m | \u001b[36m__main__\u001b[0m:\u001b[36m<module>\u001b[0m:\u001b[36m23\u001b[0m - \u001b[1mSampling round 3 started\u001b[0m\n",
      "\u001b[32m2025-03-27 01:34:25.268\u001b[0m | \u001b[1mINFO    \u001b[0m | \u001b[36m__main__\u001b[0m:\u001b[36m<module>\u001b[0m:\u001b[36m27\u001b[0m - \u001b[1mlen(uu)=237\u001b[0m\n",
      "\u001b[32m2025-03-27 01:34:25.276\u001b[0m | \u001b[1mINFO    \u001b[0m | \u001b[36m__main__\u001b[0m:\u001b[36m<module>\u001b[0m:\u001b[36m31\u001b[0m - \u001b[1mAfter removing uu: len(sample_df)=143656\u001b[0m\n"
     ]
    },
    {
     "name": "stdout",
     "output_type": "stream",
     "text": [
      "\n",
      "\n",
      "Randomly removing 1011 users - Round 54 started\n"
     ]
    },
    {
     "name": "stderr",
     "output_type": "stream",
     "text": [
      "\u001b[32m2025-03-27 01:34:25.312\u001b[0m | \u001b[1mINFO    \u001b[0m | \u001b[36m__main__\u001b[0m:\u001b[36m<module>\u001b[0m:\u001b[36m36\u001b[0m - \u001b[1mlen(ui)=39\u001b[0m\n",
      "\u001b[32m2025-03-27 01:34:25.325\u001b[0m | \u001b[1mINFO    \u001b[0m | \u001b[36m__main__\u001b[0m:\u001b[36m<module>\u001b[0m:\u001b[36m40\u001b[0m - \u001b[1mAfter removing ui: len(sample_df)=143307\u001b[0m\n",
      "\u001b[32m2025-03-27 01:34:25.334\u001b[0m | \u001b[1mINFO    \u001b[0m | \u001b[36m__main__\u001b[0m:\u001b[36m<module>\u001b[0m:\u001b[36m23\u001b[0m - \u001b[1mSampling round 4 started\u001b[0m\n",
      "\u001b[32m2025-03-27 01:34:25.358\u001b[0m | \u001b[1mINFO    \u001b[0m | \u001b[36m__main__\u001b[0m:\u001b[36m<module>\u001b[0m:\u001b[36m27\u001b[0m - \u001b[1mlen(uu)=86\u001b[0m\n",
      "\u001b[32m2025-03-27 01:34:25.370\u001b[0m | \u001b[1mINFO    \u001b[0m | \u001b[36m__main__\u001b[0m:\u001b[36m<module>\u001b[0m:\u001b[36m31\u001b[0m - \u001b[1mAfter removing uu: len(sample_df)=142963\u001b[0m\n",
      "\u001b[32m2025-03-27 01:34:25.402\u001b[0m | \u001b[1mINFO    \u001b[0m | \u001b[36m__main__\u001b[0m:\u001b[36m<module>\u001b[0m:\u001b[36m36\u001b[0m - \u001b[1mlen(ui)=10\u001b[0m\n",
      "\u001b[32m2025-03-27 01:34:25.413\u001b[0m | \u001b[1mINFO    \u001b[0m | \u001b[36m__main__\u001b[0m:\u001b[36m<module>\u001b[0m:\u001b[36m40\u001b[0m - \u001b[1mAfter removing ui: len(sample_df)=142874\u001b[0m\n",
      "\u001b[32m2025-03-27 01:34:25.422\u001b[0m | \u001b[1mINFO    \u001b[0m | \u001b[36m__main__\u001b[0m:\u001b[36m<module>\u001b[0m:\u001b[36m23\u001b[0m - \u001b[1mSampling round 5 started\u001b[0m\n",
      "\u001b[32m2025-03-27 01:34:25.446\u001b[0m | \u001b[1mINFO    \u001b[0m | \u001b[36m__main__\u001b[0m:\u001b[36m<module>\u001b[0m:\u001b[36m27\u001b[0m - \u001b[1mlen(uu)=10\u001b[0m\n",
      "\u001b[32m2025-03-27 01:34:25.457\u001b[0m | \u001b[1mINFO    \u001b[0m | \u001b[36m__main__\u001b[0m:\u001b[36m<module>\u001b[0m:\u001b[36m31\u001b[0m - \u001b[1mAfter removing uu: len(sample_df)=142834\u001b[0m\n",
      "\u001b[32m2025-03-27 01:34:25.489\u001b[0m | \u001b[1mINFO    \u001b[0m | \u001b[36m__main__\u001b[0m:\u001b[36m<module>\u001b[0m:\u001b[36m36\u001b[0m - \u001b[1mlen(ui)=2\u001b[0m\n",
      "\u001b[32m2025-03-27 01:34:25.500\u001b[0m | \u001b[1mINFO    \u001b[0m | \u001b[36m__main__\u001b[0m:\u001b[36m<module>\u001b[0m:\u001b[36m40\u001b[0m - \u001b[1mAfter removing ui: len(sample_df)=142816\u001b[0m\n",
      "\u001b[32m2025-03-27 01:34:25.508\u001b[0m | \u001b[1mINFO    \u001b[0m | \u001b[36m__main__\u001b[0m:\u001b[36m<module>\u001b[0m:\u001b[36m23\u001b[0m - \u001b[1mSampling round 6 started\u001b[0m\n",
      "\u001b[32m2025-03-27 01:34:25.534\u001b[0m | \u001b[1mINFO    \u001b[0m | \u001b[36m__main__\u001b[0m:\u001b[36m<module>\u001b[0m:\u001b[36m27\u001b[0m - \u001b[1mlen(uu)=4\u001b[0m\n",
      "\u001b[32m2025-03-27 01:34:25.545\u001b[0m | \u001b[1mINFO    \u001b[0m | \u001b[36m__main__\u001b[0m:\u001b[36m<module>\u001b[0m:\u001b[36m31\u001b[0m - \u001b[1mAfter removing uu: len(sample_df)=142800\u001b[0m\n",
      "\u001b[32m2025-03-27 01:34:25.579\u001b[0m | \u001b[1mINFO    \u001b[0m | \u001b[36m__main__\u001b[0m:\u001b[36m<module>\u001b[0m:\u001b[36m36\u001b[0m - \u001b[1mlen(ui)=0\u001b[0m\n",
      "\u001b[32m2025-03-27 01:34:25.579\u001b[0m | \u001b[1mINFO    \u001b[0m | \u001b[36m__main__\u001b[0m:\u001b[36m<module>\u001b[0m:\u001b[36m23\u001b[0m - \u001b[1mSampling round 7 started\u001b[0m\n",
      "\u001b[32m2025-03-27 01:34:25.605\u001b[0m | \u001b[1mINFO    \u001b[0m | \u001b[36m__main__\u001b[0m:\u001b[36m<module>\u001b[0m:\u001b[36m27\u001b[0m - \u001b[1mlen(uu)=0\u001b[0m\n",
      "\u001b[32m2025-03-27 01:34:25.616\u001b[0m | \u001b[1mINFO    \u001b[0m | \u001b[36m__main__\u001b[0m:\u001b[36m<module>\u001b[0m:\u001b[36m36\u001b[0m - \u001b[1mlen(ui)=0\u001b[0m\n",
      "\u001b[32m2025-03-27 01:34:25.634\u001b[0m | \u001b[1mINFO    \u001b[0m | \u001b[36m__main__\u001b[0m:\u001b[36m<module>\u001b[0m:\u001b[36m48\u001b[0m - \u001b[1mAfter randomly removing users - round 54: num_users=18269\u001b[0m\n",
      "\u001b[32m2025-03-27 01:34:25.634\u001b[0m | \u001b[1mINFO    \u001b[0m | \u001b[36m__main__\u001b[0m:\u001b[36m<module>\u001b[0m:\u001b[36m54\u001b[0m - \u001b[1mNumber of users 18269 are still greater than expected, keep removing...\u001b[0m\n",
      "\u001b[32m2025-03-27 01:34:26.026\u001b[0m | \u001b[1mINFO    \u001b[0m | \u001b[36m__main__\u001b[0m:\u001b[36m<module>\u001b[0m:\u001b[36m23\u001b[0m - \u001b[1mSampling round 1 started\u001b[0m\n",
      "\u001b[32m2025-03-27 01:34:26.047\u001b[0m | \u001b[1mINFO    \u001b[0m | \u001b[36m__main__\u001b[0m:\u001b[36m<module>\u001b[0m:\u001b[36m27\u001b[0m - \u001b[1mlen(uu)=0\u001b[0m\n",
      "\u001b[32m2025-03-27 01:34:26.056\u001b[0m | \u001b[1mINFO    \u001b[0m | \u001b[36m__main__\u001b[0m:\u001b[36m<module>\u001b[0m:\u001b[36m36\u001b[0m - \u001b[1mlen(ui)=318\u001b[0m\n",
      "\u001b[32m2025-03-27 01:34:26.068\u001b[0m | \u001b[1mINFO    \u001b[0m | \u001b[36m__main__\u001b[0m:\u001b[36m<module>\u001b[0m:\u001b[36m40\u001b[0m - \u001b[1mAfter removing ui: len(sample_df)=132795\u001b[0m\n",
      "\u001b[32m2025-03-27 01:34:26.077\u001b[0m | \u001b[1mINFO    \u001b[0m | \u001b[36m__main__\u001b[0m:\u001b[36m<module>\u001b[0m:\u001b[36m23\u001b[0m - \u001b[1mSampling round 2 started\u001b[0m\n",
      "\u001b[32m2025-03-27 01:34:26.111\u001b[0m | \u001b[1mINFO    \u001b[0m | \u001b[36m__main__\u001b[0m:\u001b[36m<module>\u001b[0m:\u001b[36m27\u001b[0m - \u001b[1mlen(uu)=587\u001b[0m\n",
      "\u001b[32m2025-03-27 01:34:26.119\u001b[0m | \u001b[1mINFO    \u001b[0m | \u001b[36m__main__\u001b[0m:\u001b[36m<module>\u001b[0m:\u001b[36m31\u001b[0m - \u001b[1mAfter removing uu: len(sample_df)=130471\u001b[0m\n",
      "\u001b[32m2025-03-27 01:34:26.149\u001b[0m | \u001b[1mINFO    \u001b[0m | \u001b[36m__main__\u001b[0m:\u001b[36m<module>\u001b[0m:\u001b[36m36\u001b[0m - \u001b[1mlen(ui)=113\u001b[0m\n",
      "\u001b[32m2025-03-27 01:34:26.157\u001b[0m | \u001b[1mINFO    \u001b[0m | \u001b[36m__main__\u001b[0m:\u001b[36m<module>\u001b[0m:\u001b[36m40\u001b[0m - \u001b[1mAfter removing ui: len(sample_df)=129465\u001b[0m\n",
      "\u001b[32m2025-03-27 01:34:26.166\u001b[0m | \u001b[1mINFO    \u001b[0m | \u001b[36m__main__\u001b[0m:\u001b[36m<module>\u001b[0m:\u001b[36m23\u001b[0m - \u001b[1mSampling round 3 started\u001b[0m\n",
      "\u001b[32m2025-03-27 01:34:26.189\u001b[0m | \u001b[1mINFO    \u001b[0m | \u001b[36m__main__\u001b[0m:\u001b[36m<module>\u001b[0m:\u001b[36m27\u001b[0m - \u001b[1mlen(uu)=235\u001b[0m\n",
      "\u001b[32m2025-03-27 01:34:26.198\u001b[0m | \u001b[1mINFO    \u001b[0m | \u001b[36m__main__\u001b[0m:\u001b[36m<module>\u001b[0m:\u001b[36m31\u001b[0m - \u001b[1mAfter removing uu: len(sample_df)=128529\u001b[0m\n"
     ]
    },
    {
     "name": "stdout",
     "output_type": "stream",
     "text": [
      "\n",
      "\n",
      "Randomly removing 913 users - Round 55 started\n"
     ]
    },
    {
     "name": "stderr",
     "output_type": "stream",
     "text": [
      "\u001b[32m2025-03-27 01:34:26.226\u001b[0m | \u001b[1mINFO    \u001b[0m | \u001b[36m__main__\u001b[0m:\u001b[36m<module>\u001b[0m:\u001b[36m36\u001b[0m - \u001b[1mlen(ui)=48\u001b[0m\n",
      "\u001b[32m2025-03-27 01:34:26.239\u001b[0m | \u001b[1mINFO    \u001b[0m | \u001b[36m__main__\u001b[0m:\u001b[36m<module>\u001b[0m:\u001b[36m40\u001b[0m - \u001b[1mAfter removing ui: len(sample_df)=128098\u001b[0m\n",
      "\u001b[32m2025-03-27 01:34:26.248\u001b[0m | \u001b[1mINFO    \u001b[0m | \u001b[36m__main__\u001b[0m:\u001b[36m<module>\u001b[0m:\u001b[36m23\u001b[0m - \u001b[1mSampling round 4 started\u001b[0m\n",
      "\u001b[32m2025-03-27 01:34:26.274\u001b[0m | \u001b[1mINFO    \u001b[0m | \u001b[36m__main__\u001b[0m:\u001b[36m<module>\u001b[0m:\u001b[36m27\u001b[0m - \u001b[1mlen(uu)=89\u001b[0m\n",
      "\u001b[32m2025-03-27 01:34:26.284\u001b[0m | \u001b[1mINFO    \u001b[0m | \u001b[36m__main__\u001b[0m:\u001b[36m<module>\u001b[0m:\u001b[36m31\u001b[0m - \u001b[1mAfter removing uu: len(sample_df)=127742\u001b[0m\n",
      "\u001b[32m2025-03-27 01:34:26.317\u001b[0m | \u001b[1mINFO    \u001b[0m | \u001b[36m__main__\u001b[0m:\u001b[36m<module>\u001b[0m:\u001b[36m36\u001b[0m - \u001b[1mlen(ui)=17\u001b[0m\n",
      "\u001b[32m2025-03-27 01:34:26.330\u001b[0m | \u001b[1mINFO    \u001b[0m | \u001b[36m__main__\u001b[0m:\u001b[36m<module>\u001b[0m:\u001b[36m40\u001b[0m - \u001b[1mAfter removing ui: len(sample_df)=127589\u001b[0m\n",
      "\u001b[32m2025-03-27 01:34:26.342\u001b[0m | \u001b[1mINFO    \u001b[0m | \u001b[36m__main__\u001b[0m:\u001b[36m<module>\u001b[0m:\u001b[36m23\u001b[0m - \u001b[1mSampling round 5 started\u001b[0m\n",
      "\u001b[32m2025-03-27 01:34:26.373\u001b[0m | \u001b[1mINFO    \u001b[0m | \u001b[36m__main__\u001b[0m:\u001b[36m<module>\u001b[0m:\u001b[36m27\u001b[0m - \u001b[1mlen(uu)=26\u001b[0m\n",
      "\u001b[32m2025-03-27 01:34:26.381\u001b[0m | \u001b[1mINFO    \u001b[0m | \u001b[36m__main__\u001b[0m:\u001b[36m<module>\u001b[0m:\u001b[36m31\u001b[0m - \u001b[1mAfter removing uu: len(sample_df)=127485\u001b[0m\n",
      "\u001b[32m2025-03-27 01:34:26.410\u001b[0m | \u001b[1mINFO    \u001b[0m | \u001b[36m__main__\u001b[0m:\u001b[36m<module>\u001b[0m:\u001b[36m36\u001b[0m - \u001b[1mlen(ui)=4\u001b[0m\n",
      "\u001b[32m2025-03-27 01:34:26.420\u001b[0m | \u001b[1mINFO    \u001b[0m | \u001b[36m__main__\u001b[0m:\u001b[36m<module>\u001b[0m:\u001b[36m40\u001b[0m - \u001b[1mAfter removing ui: len(sample_df)=127449\u001b[0m\n",
      "\u001b[32m2025-03-27 01:34:26.427\u001b[0m | \u001b[1mINFO    \u001b[0m | \u001b[36m__main__\u001b[0m:\u001b[36m<module>\u001b[0m:\u001b[36m23\u001b[0m - \u001b[1mSampling round 6 started\u001b[0m\n",
      "\u001b[32m2025-03-27 01:34:26.451\u001b[0m | \u001b[1mINFO    \u001b[0m | \u001b[36m__main__\u001b[0m:\u001b[36m<module>\u001b[0m:\u001b[36m27\u001b[0m - \u001b[1mlen(uu)=11\u001b[0m\n",
      "\u001b[32m2025-03-27 01:34:26.458\u001b[0m | \u001b[1mINFO    \u001b[0m | \u001b[36m__main__\u001b[0m:\u001b[36m<module>\u001b[0m:\u001b[36m31\u001b[0m - \u001b[1mAfter removing uu: len(sample_df)=127405\u001b[0m\n",
      "\u001b[32m2025-03-27 01:34:26.485\u001b[0m | \u001b[1mINFO    \u001b[0m | \u001b[36m__main__\u001b[0m:\u001b[36m<module>\u001b[0m:\u001b[36m36\u001b[0m - \u001b[1mlen(ui)=1\u001b[0m\n",
      "\u001b[32m2025-03-27 01:34:26.493\u001b[0m | \u001b[1mINFO    \u001b[0m | \u001b[36m__main__\u001b[0m:\u001b[36m<module>\u001b[0m:\u001b[36m40\u001b[0m - \u001b[1mAfter removing ui: len(sample_df)=127396\u001b[0m\n",
      "\u001b[32m2025-03-27 01:34:26.501\u001b[0m | \u001b[1mINFO    \u001b[0m | \u001b[36m__main__\u001b[0m:\u001b[36m<module>\u001b[0m:\u001b[36m23\u001b[0m - \u001b[1mSampling round 7 started\u001b[0m\n",
      "\u001b[32m2025-03-27 01:34:26.524\u001b[0m | \u001b[1mINFO    \u001b[0m | \u001b[36m__main__\u001b[0m:\u001b[36m<module>\u001b[0m:\u001b[36m27\u001b[0m - \u001b[1mlen(uu)=1\u001b[0m\n",
      "\u001b[32m2025-03-27 01:34:26.530\u001b[0m | \u001b[1mINFO    \u001b[0m | \u001b[36m__main__\u001b[0m:\u001b[36m<module>\u001b[0m:\u001b[36m31\u001b[0m - \u001b[1mAfter removing uu: len(sample_df)=127392\u001b[0m\n",
      "\u001b[32m2025-03-27 01:34:26.561\u001b[0m | \u001b[1mINFO    \u001b[0m | \u001b[36m__main__\u001b[0m:\u001b[36m<module>\u001b[0m:\u001b[36m36\u001b[0m - \u001b[1mlen(ui)=0\u001b[0m\n",
      "\u001b[32m2025-03-27 01:34:26.562\u001b[0m | \u001b[1mINFO    \u001b[0m | \u001b[36m__main__\u001b[0m:\u001b[36m<module>\u001b[0m:\u001b[36m23\u001b[0m - \u001b[1mSampling round 8 started\u001b[0m\n",
      "\u001b[32m2025-03-27 01:34:26.585\u001b[0m | \u001b[1mINFO    \u001b[0m | \u001b[36m__main__\u001b[0m:\u001b[36m<module>\u001b[0m:\u001b[36m27\u001b[0m - \u001b[1mlen(uu)=0\u001b[0m\n",
      "\u001b[32m2025-03-27 01:34:26.595\u001b[0m | \u001b[1mINFO    \u001b[0m | \u001b[36m__main__\u001b[0m:\u001b[36m<module>\u001b[0m:\u001b[36m36\u001b[0m - \u001b[1mlen(ui)=0\u001b[0m\n",
      "\u001b[32m2025-03-27 01:34:26.609\u001b[0m | \u001b[1mINFO    \u001b[0m | \u001b[36m__main__\u001b[0m:\u001b[36m<module>\u001b[0m:\u001b[36m48\u001b[0m - \u001b[1mAfter randomly removing users - round 55: num_users=16407\u001b[0m\n",
      "\u001b[32m2025-03-27 01:34:26.610\u001b[0m | \u001b[1mINFO    \u001b[0m | \u001b[36m__main__\u001b[0m:\u001b[36m<module>\u001b[0m:\u001b[36m54\u001b[0m - \u001b[1mNumber of users 16407 are still greater than expected, keep removing...\u001b[0m\n",
      "\u001b[32m2025-03-27 01:34:26.888\u001b[0m | \u001b[1mINFO    \u001b[0m | \u001b[36m__main__\u001b[0m:\u001b[36m<module>\u001b[0m:\u001b[36m77\u001b[0m - \u001b[1mNumber of test_df records 1,822 are falling below expected threshold, stop and use `sample_df` as final output...\u001b[0m\n",
      "\u001b[32m2025-03-27 01:34:26.903\u001b[0m | \u001b[1mINFO    \u001b[0m | \u001b[36m__main__\u001b[0m:\u001b[36m<module>\u001b[0m:\u001b[36m86\u001b[0m - \u001b[1mFinal sample sizes: len(sample_users)=16,407, len(sample_items)=4,817\u001b[0m\n"
     ]
    }
   ],
   "source": [
    "buffer_perc = 0.2\n",
    "perc_users_removed_each_round = 0.05\n",
    "debug = True\n",
    "keep_random_removing = True\n",
    "r = 1\n",
    "\n",
    "sample_df = train_df.copy()\n",
    "\n",
    "while keep_random_removing:\n",
    "    num_users_removed_each_round = int(\n",
    "        perc_users_removed_each_round * sample_df[args.user_col].nunique()\n",
    "    )\n",
    "    print(\n",
    "        f\"\\n\\nRandomly removing {num_users_removed_each_round} users - Round {r} started\"\n",
    "    )\n",
    "    sample_df = remove_random_users(sample_df, k=num_users_removed_each_round)\n",
    "\n",
    "    keep_removing = True\n",
    "    i = 1\n",
    "\n",
    "    while keep_removing:\n",
    "        if debug:\n",
    "            logger.info(f\"Sampling round {i} started\")\n",
    "        keep_removing = False\n",
    "        uu = get_unqualified_users(sample_df)\n",
    "        if debug:\n",
    "            logger.info(f\"{len(uu)=}\")\n",
    "        if len(uu):\n",
    "            sample_df = sample_df.loc[lambda df: ~df[args.user_col].isin(uu)]\n",
    "            if debug:\n",
    "                logger.info(f\"After removing uu: {len(sample_df)=}\")\n",
    "            assert len(get_unqualified_users(sample_df)) == 0\n",
    "            keep_removing = True\n",
    "        ui = get_unqualified_items(sample_df)\n",
    "        if debug:\n",
    "            logger.info(f\"{len(ui)=}\")\n",
    "        if len(ui):\n",
    "            sample_df = sample_df.loc[lambda df: ~df[args.item_col].isin(ui)]\n",
    "            if debug:\n",
    "                logger.info(f\"After removing ui: {len(sample_df)=}\")\n",
    "            assert len(get_unqualified_items(sample_df)) == 0\n",
    "            keep_removing = True\n",
    "        i += 1\n",
    "    \n",
    "    sample_users = sample_df[args.user_col].unique()\n",
    "    sample_items = sample_df[args.item_col].unique()\n",
    "    num_users = len(sample_users)\n",
    "    logger.info(f\"After randomly removing users - round {r}: {num_users=}\")\n",
    "    \n",
    "    if len(sample_df) < 20000:\n",
    "        perc_users_removed_each_round = 0.1\n",
    "\n",
    "    if num_users > args.sample_users * (1 + buffer_perc):\n",
    "        logger.info(\n",
    "            f\"Number of users {num_users} are still greater than expected, keep removing...\"\n",
    "        )\n",
    "    else:\n",
    "        logger.info(\n",
    "            f\"Number of users {num_users} are falling below expected threshold, stop and use `sample_df` as final output...\"\n",
    "        )\n",
    "        keep_random_removing = False\n",
    "    \n",
    "    val_sample_df = val_df.loc[\n",
    "                lambda df: df[args.user_col].isin(sample_users)\n",
    "                & df[args.item_col].isin(sample_items)\n",
    "            ]\n",
    "    test_sample_df = test_df.loc[\n",
    "                lambda df: df[args.user_col].isin(sample_users)\n",
    "                & df[args.item_col].isin(sample_items)\n",
    "            ]\n",
    "    if (num_val_records := val_sample_df.shape[0]) < 2000:\n",
    "        logger.info(\n",
    "            f\"Number of val_df records {num_val_records:,.0f} are falling below expected threshold, stop and use `sample_df` as final output...\"\n",
    "        )\n",
    "        keep_random_removing = False\n",
    "    if (num_test_records := test_sample_df.shape[0]) < 2000:\n",
    "        logger.info(\n",
    "            f\"Number of test_df records {num_test_records:,.0f} are falling below expected threshold, stop and use `sample_df` as final output...\"\n",
    "        )\n",
    "        keep_random_removing = False\n",
    "\n",
    "    r += 1\n",
    "\n",
    "sample_users = sample_df[args.user_col].unique()\n",
    "sample_items = sample_df[args.item_col].unique()\n",
    "logger.info(f\"Final sample sizes: {len(sample_users)=:,.0f}, {len(sample_items)=:,.0f}\")\n"
   ]
  },
  {
   "cell_type": "code",
   "execution_count": 104,
   "metadata": {},
   "outputs": [],
   "source": [
    "assert sample_df[args.timestamp_col].max() < val_sample_df[args.timestamp_col].min(), \"There are overlapping timestamps between train and validation datasets.\"\n",
    "assert val_sample_df[args.timestamp_col].max() < test_sample_df[args.timestamp_col].min(), \"There are overlapping timestamps between validation and test datasets.\""
   ]
  },
  {
   "cell_type": "code",
   "execution_count": 105,
   "metadata": {},
   "outputs": [],
   "source": [
    "assert val_sample_df.loc[lambda df: ~df[args.user_col].isin(sample_users)].shape[0] == 0, \"Validation DataFrame contains unexpected users.\"\n",
    "assert test_sample_df.loc[lambda df: ~df[args.user_col].isin(sample_users)].shape[0] == 0, \"Test DataFrame contains unexpected users.\"\n",
    "assert val_sample_df.loc[lambda df: ~df[args.item_col].isin(sample_items)].shape[0] == 0, \"Validation DataFrame contains unexpected items.\"\n",
    "assert test_sample_df.loc[lambda df: ~df[args.item_col].isin(sample_items)].shape[0] == 0, \"Test DataFrame contains unexpected items.\""
   ]
  },
  {
   "cell_type": "code",
   "execution_count": 106,
   "metadata": {},
   "outputs": [
    {
     "data": {
      "application/vnd.plotly.v1+json": {
       "config": {
        "plotlyServerURL": "https://plot.ly"
       },
       "data": [
        {
         "bingroup": "x",
         "hovertemplate": "variable=0<br>value=%{x}<br>count=%{y}<extra></extra>",
         "legendgroup": "0",
         "marker": {
          "color": "#636efa",
          "pattern": {
           "shape": ""
          }
         },
         "name": "0",
         "orientation": "v",
         "showlegend": true,
         "type": "histogram",
         "x": {
          "bdata": "BQUJCQwGBQUPBg4HBw8IBgUJDggFBRAFBwgJEwgFCggFBgwFBgcFDAUFCAcIBQsHBQUGBwUFBgYHBwkNCwUFBggHCwsGCggFBQUFBRcHCAcFCQUICQYGBQwGCgYYBQ4LBgYFBQUKCAUFBQYFBwYFBQkGCgUFBwUHBQ8IDQULBwYJCBEFBgUFCgoGFg4IBgUHBQkGDgcFCwUFBgcFCgUGBgUNBg0HBQUFBwwJCAwHBzQGCgUFBQUGBQUFCgcFBgUGCAgIBgcGCwoGBQUFBgoFBwUHBQoGBQUHBgUGBgkIBgcLBhQNBwUGEgUHFgYIBggFBQkFDgcFCA8KBQUFBw8GBwYIBgwFBRIHBQUFDAcGBQ8FBQcICAgPBgYFBgUFBQYHCAgLBwgFBRIHBggGBQUFBQYFBQsFBwwOBQUJCQoIBQYFBggHBQoKCQYGBQUQBgcIBQUFBQoIBQcFCAUGBggFBQYQBgUFBQUFBwsIBgUKBgU1BggIBQYGCwgGBQwGCAUHCAUHCwcICgUFCgUFBQcFCQcFCwUSBQYGDwYOBwgGBQsGCQkFBQYJBgUFCgYIBwYFCAUFBwgHCAUFBQsHBgUGCgwHBQUFCAUOCAgJBQULBQcJDgkHBgYiBQUFBQUKBRAFBwoOBQcFBhEGBQUGDAkFBQUFDAsGBQUGBgUKDwcRBQkLBQoFBwUGBQUQDQYFBwgNBQUFBQcHCQ0HBwYPBQgMBgUaBQYIFBsHCQcLCQYICgYHBwUFBwkHBgYFCAUJBQYGBg0FBQUIBQ0HCwUIBwcGBQYGBQgGCQYGBQYGCQcHBQUFEAUFCgkGBQUGBQYFBQ8FBwUGBQsGBQULBxYKCQUKBhAGBQUFEQYGBQoNBgYFBQUJCAgQDgUJBwYFBggFBQwFBQoFBQUGBwwFBQUFBQcHBgUGDQYFBQYHBwgFCQYFBwkFCQwJBQUGBQgFCAUGFQYHBRAKCgUHBgUFBggGBwUMBQYGCgUGGQ8FBQUHBwkGBQcFGw0HBQUFBQUGCAwFCQwIBwkJBQcLBQUFCAoUBQkGDgUGBgUFCAUFDgsJBw0FBgoFBQkNBwcGBQkJBwUHBQUKBgUGBggFBQYHBgUGCQYICAUJBQYHBwkFCQUGBgULBQUIBgUHCgcGBg0fBwUMDAsICQoGBQUGBgsNBggHBRQICAYGBQUFCQkHBQcGCQ0JDAcYBQYMBQoFBg0FBgUHBiUKBgUFBQUKBwcFDQgGCgUFCgUJDAUFBQYFCQUFBQcIBQcHCAgGBQgGBwoFBgYGBwwGBQgFCwoKBQUGGAcFFAgIEAYGBggfBQwJEhEFBQYGBwYFBQYuBgsFBQUKBgUFBgYFBQUJBQUeCAwFDw0FBwkFBwcQBQYFBQ4FBgULBgUFBQgLCQUGCQYKCw8NBgUHCwUFDQUFDwUHBQcFCQ4KCAkFBQ0LBQsFCAcGBgsGCwsFBQYGBgUHBgkFBwcMCwYFCwULCQYFBgcKBQUMCQYGBQwSBQYIBgUFBwUHCAUFBQUHCgcLBQUFBQUKCQUGEwUFCAwGCAgHDQUFBQkFBw4LDAcICgUFBgYGBgUFEgYUBgYHBgUFBgYHBQgFBQUHBwoFBwsFCQgTEAgFBQUFBQYSCwcFBgUFCgkFBQUGBQgFBgoHBgUFCAYFBQUFDAYTBQcKBQUGBwUHBQYKBiANBgYMCAUJCQUNBQkGNQYGBQUHCAYGBwUJBwcMBQUFBQUFCwUFBQYFBgUGCQYFByIHBwUKBQcGBgUSBQcGCgUHBwoJBgUMCAcFDAgFBREFBgYFBQUJBiAJBgYVBQYFCAsKBwwGBQgGBQ0FBQUICAcNBQYFBw8UEAkSBgUKCQgKDAYGBQYIBQYFBQUFCQgHCgUGDgoGCgUFDgsFBQUIBhMFCQYFBQkFGAcGBgsGBgUKBgcIDQUFBQUIBwUFBQYJBQgGBgYFEAgHBQUHBwUGBQUFCQUIBQULBQgRBQYGBgUKBgoGBRQFBQYGBQUFBQUNBQYFCAYHBQYGBQYHBwUFBQUFCQUICAUFDwYFBQkPCQYFChEFBwcHBwUKBQwFBQcFBQYFCwUFCQUFBQgJFA4IBggHCgkFCAUSBwcFCQcLBwUGCAUIBgcFBgYIBQkHCgcGBgwIBQoFCAUGCgcGBwUFCAgHCQwGBQUGBQcFBwwGBgUIBg0MBQgGDggFBQUGBwUFBhcGBQYGEwUFBQ4GBgYFBQYFBgYLBwYFBgYGBQoFBgUNCgcHCwoGBxAIBgUFDxAIBQgFBgYNBwcLBgYHBwUFGwULCQUPBQYFCgcGBQUFDQkFBQ8FCAkJBQcFBgUFBQgFBQcHBQoMBwUFCgsFBwkICAcHCAUQBgUFBQkFERcGBwcFBQcFBgUICwYFCREGBQkJBgYFCwgGBQoFCAcFBggHCAUFBgwFGwYGDwYNBQcGBQcGBg4GBgsFBQYJBggKCAYGBg8ICA4FCBwHCQUIBwoOBgUJBggKBQUHBgoGBQUMBQYMBQUHBQUJJQcFCgkGBgkHBgULLQUHBQwFBQYHBQUGCAcJBgoaBwcKBgcFBQcGBQYHBQcFCAoFBg4KBQUFDQoHDQUKFAUGBQUFBgsIDQsFCAcHDQYFDQsHCA8GBwgFBwYHBQUHBQULCCAIBQkFBQgNBQcFER4NBh0FBQwQBgUHCQYFBQkGBgkHBQ4IBwkGCQYIBQUFFgYFCAYFBQkJBgYMBQoGBggGBgUGCAYGBQgIBgUFCwUHCQYJFAcGBgYFBQYFBgYFBQUGBgULCAUHBQYFBRIJEAkFBREGBgUIBQUGCAUSBwcGBQUFCwUHBQUKBQUIBQkFEQUFCQYGCAYJCgULBggGCgUGBgYFBgYMBQcFBRIFBwUKBQcHBQUKBwUHEAgGCQYIBQ0KBQsHBQ0GBgoFCAYFBQUIBR8JDQgFDQoFCQ4FCx4FBgYOBgYFBQYFBgUHCwwGBQsFCCMGBQUFCAcFCAYGBwUGBQUQBQUHBgYFBggFBgwKBgUHBQURCgcFDAUFBwcFBwcMBgUGBREGBQUFCQYLCgkGDQUGDAwHBgkKBwYQCAUIBQoMBQUFBgcHCAUFBQUFBgYUCQYGBQUHCw8GBQYZDgUMBwUFBQsLCwcJDwUGDAUGBwcFBwUGBQoFBQcGBQsFCgcNDQUJBgsIBwYFBgoFCQUGChUFBQUGDwUFBQUFBQUHCwgHEwUFCAUFGgYGCQgGBQgJCAYGBwYIBQYGBwcFCAcGBQcFBQUFBgcIBQoGBwcGBQgIBQUIBw8GCQUXCQYIBgYLBRwICgYFCgYGBgYGBggIBQwJBQYGBg0KCQUJBggGDgkICwYJBgkHCQYNEAYIBwUJCAUKCQYGCgYFBgoFBgYFCAU8BggNBgcFBQsFBgYJBQUKCgkFBwUFCQgGDAkJCAcKBwUFCAUKCwgJBQ0IDgcHDgYGBwgIBggFBwkGCgkIBgYGBgYHCgUIBQUFBQsIBwoRDwwFDwgFBQYGCgYFBQYFBwgIBgcFBQUFBgcGBQcRBQUGBgUFBxAGCAoKBgUGDAcFDAgFDgYGCggGBQUFBgYGBQcJBgUHDAUFCwwIBgUICQUOBwgFBgoFEQ8IBQUKBQUFBQUHCAUFBQUFBwUFCgUFBQgtCAUGCAYGGwYFDAYKBQYJBQgGCAgHBQYFDQcHBQoHBwgFBw0FBgYHBQUGCAcFBwkHCwUIBQcFBQYHBQgGBgYFBggFBgwNBQUFBQgFBggFCAgLCAUFBQUIBgUGBwYHCAUGBQYFBwcFBQwJCAUMBQcFBwkJCQgGBwwFBQYFBQUFBQUHDAUJBwUFBQUGDQ4KCQcJBQsHBQwFCAcFCgcFBwgHBgUHEQYHBQkGBgcHCQgFBgUFBQYFDgwGCgwHCAcGBQUGBQUFBQUJBwwGBQgGCQcFDAcGBgYHCAcFBQYFBwUHBQUFBgULDQYHCAYRBggFBgwFBg0LBgYFCgUFCAwGBgUJCAcKCAUIBgcLBQULBQgFBgUFBRUFBQUGBQYHDgcFEgYIBgoSBgUFBQ4FBgkOBQYMBwYGEwYIDgcOBgkJIAcJBgUHEQUGBQgFBQUGBQUGDAUFBQUIBgUFDgsGBQUIBwUOBgceBQUFBQUGCgcFCgYHBgUFBQUGCg0FCgkFEgYFCAoFDgUIBQUFBQURDAgLCgcFBwYGBwkRJAUJCQYFBQULBwUMDQ8FBwYGBQkFBQkFBgUJBQUIDgUIBwYMBwUGBwUFBQUIBgYHCwgGBQUJBQgIBQYFBQoHCwUGBwgGCQ8FCwUGCC8ICQgFBQUFBQcLBwcNBwcIBwYFBgYFBQsGBQYIDQYGCAcGBgoKBgUFBgsFCAYJBwUIBQUFBwUHBggHCQkGBQUIBwkIBgwHBgkFEwUGBhEFBgUGBQcJBQgHBggFBQUFBgUFBg8FBwUHCwUFBgcHBQoIBwUFBQUGBgUFPQUIBgYFDwUPBgUFBQcLBQYFBgUGEQULBgYICAYOBQUGBwkLBQUFCgUFCgcFBQYFCAkjBgUHCgcGBgUFBQUKBRIIBQYFBQkFBgcHBwUPBwgHCQ8FCQUFGQUGBgUYBgwHBQUFCgURCQ4UBQwLBQsGBgYFBSAIBQUGChoFIQsFBwgGBQURBhUTBQUFBQURBwoGDQUGBRAHBQUIBg4FCAcGBQUHCAUFBgYFCQYFFggFBgsMFwULBQYFBQUJBgkIBQUIBgUlCggGBQUOBwYFCQcICAYGCQcJBQYLBwcFBQgFBggFBgUGBQUNLggIBQYPBhIFDQUFBQYGBwgKBQUJCAYHBgUFCgUFBgoMBgUKBQUqCAYGBQUFKQUFBQcNBQoHBxMHBQwHBgYLCAYGDAcJBQoFCAUJDAwGBQkHEgYGBQUHBQUFBQYJBgUFEgYGBQwFBwUHBwUFBgYFBQcIBgYFBgkFBQYFBwUHBQkHBQgFBQkLBQcGBgcFBQgFCgUFBQcIEQgHBwUIBQUFDAcFCQkKBQUGBQUFEAYRBQYFBQgGBwUFBQUHBwUFBQYIBQUTDQcGBQYGBgUNBgUGCQcFBQUGBQkKCQoOHAwGBgYIBRIaBRsJBwgHBQgFBQYFCAYFCAgFBQ4MBQURBgUNBQUFBQUJDAoFBgUQBwUGBwgFBQgIBgUFCwUFBQcGBSAHBQYHBQUGBgkIBwUGBQUFEi8WBgYJDwkFBwUHCAUFBgUIBQgKCAYGByAXBgkICgoFBgUGCgUGCgcKBgcKBQUPCQcRBQkHMgUGBQUFEQwGCgUGBREGBgUFBQUGCQUFDgoGBQUFCgUJCQUJBR4FBQYGBwsGCAcIBQwGBQYLBQUUDQgFBQkGBgYJCQYOBwgIBgoFBQgFBgoJBQUFBwUFCQcFCAsFBQkJBggJCQUaCBYFEQYLBRwFBQkFBwYOBQUGCAUKBgUFBQUJCAUGDQYFCAYLBQUIEgYFDwYFBgYHBQwXBQULCg4GCQUFEA4GBwoFBQcLCAkFEAsFCgYFCAkFGAgHBRYJBQkJBQYHBwkFBgYFBQUFBQcFEwUIBQcFBgYHBwUHCQcFBQUHBgkICAkJCQYFBgUGCxEFBgUGBggFFAwGBQYIBwwGBQUGBwsKBgUFBggHBQkFBwYFEAYIBQUGBQgGBQYHBgUFBgUFCQUFCgYKBwYFBgUIBwcGBwgFBQgGBQ0GBQ4HBgkGBgUFBwoHBgUOBQ8FCQUKBQgFCisGBgoLCAcOCwUFBQYGBQYFBQUJCAUGDAUGDAYFFwUKBQUFBQULBQUHCA0HBgUYCAYKCQUFCAUMDgUHBgkIBwgFBQUGBgUPBQkGBwYHBQkPBQUGBQUFBQgGBwYGBgUGBgUFBgcFBwUFFQcFBQgGBhYFCgkFBgYHBQYHBgUNCQYHFjMKDgYJBQYFBSYHBgYJBQUHBgUGCAYGBgYFBhIOCwUJCAYFBQYFBgoHEgYLBQUFBQcMCAYKBgYFBQUJCQUXBQUGCQUGBgoFDgYGBQgFBgUFBQYGDQoGBQUFBwcIBgcGBQYJBQYFBwUMBwwFCxcFCwUHCAUFBgUGCAgFBQsOBQoFDQgFBQcHCwgFBhIRCgkFCAYFBhUIEQYGDg4FDQgXBwkFBQYHFgUFBgcFDQYGBQYIBwYFBgoKBwUGBwoFBQUGEwUHBgYJBQYHBQUJBggFCgUHDAcHDAwJBgUHCA0HBgYFBQoGDgYGBQ8FBQwHCAYRBQYPBgULBQUFBQgFBwULCQcJBgsGBwYGCQUFBQkHBggFCQcFDzANBhIFCwcTCgwFCAUKCAYFBQgKFgwFCAUGBQUJCBIOBwUIBwYFCQ4IDg4GCQYPBQYFCg0FBwcJBQkFBwkLBgULBQYFBQkIBQUGCAYMIAcHBQYHCAkIBQcGCAcFBgYFBQgGDgYFBQYGCQwHEAUFCAcHBwUPDAcFBgcFBQUMBggFBgUHDgsGBgcLBgUGBQUdBwcJBQ8FCAUGBggGBgcQBQcNGwcFCAsJBQ4FBQYFBgUFBQcIBgUFCj4IBwgHCQgGEggGBRAHBgUGBxMHBgUGBgUICg4LBwUdHQUKBgYJBggFBgUHCQUFBQcJBQUFBQUFBQUIBgoJCQcFBwUIBwcICwYMCAUHBQsJBw4NCAkGBQcGCAUFBQwGBQUHBQoLBQkFBwUFDw0JBwYFBQYFCAgHCA0HBQUGCQURCAUFEwcUBQYJCAcFBhEQBwUMCQUFBQYFCRsVBQUHBQcGFwUFBQUUCAYGBQcFBgUIBgUGDxMHBgkFEgkFDQUFBQkHBwUGCAUFBQYFEQcFBQoFBQYFDAYFBgUFBQgGBggGBQUHBQUFDwcIBwkJDAUFBgkICAcHBgcFBwcKBQUFBgcFCgYFDQkFBQUHCQYIDAkaBQwLBwcFBgcFBgYHDAYIBRAFBgUFBQYFCAoFCgUFBQcIBQUHBQ0FBQUHBgsHBQUFBQULBgYFBQUYBQkIBQkFBwUGBwULBQYFBwcLBQgFBgYFBgUHCgcGBgoNBgURDAYFBQcGBQgFBwUGCgoKFAYGBQkFBQcHBw8IBg0FCAUHBwUIBQsFBQ0FBQUGBwYIBwUGBgYQCQcFBQUFBQYIBQoHBQcWBRcGBgYGDhEGDQgKBQ0JBQkJBQYGCAsJBQoIBQYFCQUFDQgGBgUJBQYJCQcFCwUFBQUFCgoGCAUFBgUFBQcFDgURDgYGBwcHBQgFBgUFBQcFBwcHCQUFBgYFBQcPBQ0GEQsHBgkLEwUNBQ4HCAUGBgUGBQYFCQUGBQYRBRoRBggMCwcFFQcHBQUGBQULBQUJBgYKBg4GBgUJCgoFBwUGBQUGBQUICAUGBwUQBkQGBQYHBgkGBQULBQwFBQUFCAYQBwUFBgUHCAgFCggFBgsGDwYGCAcFCQcFCAUIBQgQDAsLBgYGBQgHEgUGBgUIBgUHBgcFDwkGCAgFBgYFBwcFBwcFBwgLDgwMBQUGBgYOBQYFBQgLBQUGCgYLCBMJDgURBwUGBgUFBQYIBQYGBQoFBQcFBgsGBgUFCgcKBwUFBwUFBQYjCwULBwoHCAcJBQYHBwYJBwsFBQYGBgUGBwcKBggFBgYHCwYHCAcFBQYFBgUIBQkFBwcHBQkKBQoGBQcJGwYKBgYHBg0HBRIHBgYFCgcICQUFBgUFBwYFBgcGBQgFBQUFBQYFBgUHBgUFBQUHBQkFHQUKBQcIFwgGBQYGCQYIEwcFCRIFBQgIBQUFBwYPDAcFBQUVBQ0IEgkFCAcHCwcHBQkFCgUHCAYGBhgFBQUFBwUGDwUFCAYGBgUGBQUFBQUGCQcFBQUPCAUGBgUGDAwGBgcFBwUGBiEFBgULBgUGBQUTBgoHBwcFBQYJBxMRBgkbBhQFBQUFBQUFEQUFBQUIBwcGBQYFCAUHCQoLBgYOBQYKBwYGBQkGDgUFCwUGBgoHBQYFBwYGBQcFBwoKBwUJBwgGCgcFBQUGBxIHBwYGCQYIBQ4FDAcFBgkIBQoFCAYLBQgIBQUGCwYICAUJBQYGBgUFDQwMDgUGBQUVBQYJBhAFBwYGEg4JBggGBQgHBgYFBwUGDwYFBQUGBQcNBwkFBgUJDAUIBQULBQoFEAYFBQgHBggLEAcFBgsICwUFCQYGCAoFBwkFCBMMCQkGBwYGBgYGDwkFBwYHBwoHBgoFBgYGCAYJBQUNBQkFBwgFBQcPBQUKBgwGCAYFDQYJCAgGBQkHBQcHCQYGBQUIBQUOCA8KBQcFBgUGBwgJBgUHBQUGBgkFBwULBQUfBgUFBQUIBQUHBQ8FCwsMCAcHBQgFBwYFCAoJBQcGBRAFBgcFCgcHFgUKBQYGBgUMDAcGCAwHBgUHBwUGDAwFDQwFBgsFCAgFBQUKDw8LCQYGBgYFBQUFBgoGBQYIEQoGBgUHBgkHCAUFBwUJBgUJBwcFBgYGDQULCQYGBQgJBQYGBQUFBQoHBgcFBwgFCBEIBQUFBQkNEQkGEgsFCxMPCAcLCgUFBgcKBgUHBgcKEgULBQUHBQUFBQUGCAUGBwUFCAoFBQkFBgUFEQkTEgYaHQUFBxAGBQUGBw0JBQkGCQ0FBwgFBQUIFSQFBggFBwYFBQcJBgkUBggHBQYFBgUFBggFBgULBQsFCAcIBwsMBwUFDAgUCQcFDwUGBwkIDAUMCQUGBhAIBgYQCAUKBQsFCgwGBgUbBwUHBgkIBgcFBgYFDQgJBQcGBgcHBwUTCw4GEwsFCAUIBgYFBQ0HBQUFCAYGEgUFBQ8FBgYFBQcGBgUMBgkHCgoICQcFBQsFDAUFBwkGBQcIBgsHBQYJBQgUBgYLBwsFBQUFCAYHCAYGBQgKBQUFBQUFBQsICQYHDgUJBQUNBwgLBQgIBwUFDAYVBQUHBgUKBQUFBQUICAcHCAcJDQoFBggJCQUFBQUFBgkHBQUFBwcGBQUMBQUNBQoFCQYPBQcNDAkJBgUFDA0FBQ0GCQUIBgYYBQcGBQ0GBgYKCAgKBREXBgcJBwUHBggFBgwHBQgFCQYFEQUXBgoFBQYGBQYHBREHBQsGBQgMBQgFCxMGBgwFBQgFBgcHCgYFCQcGDAUHCAcPCAUIChIICgYGBgUFBQYFBwUQBRIGBQYIBQ4FEgUGCwULBQsIBw4HFQcHBwcHBhcOBQUJBgYJBwYFCgUGBwsLBQUHBQcGBRkGEAcFCAUHBwUJDggOBQYHDQYFBwkFBgUvBggICQYFCAwOBgwHCgYGBQUKBQ8JBQcLBgcIBwYJCQcKBgUFBQkIBRAFCAUGBwYGCwYIBQYFBwwLBQYKCwoFBQUFBQYJBgUFBwUHBhEICAcGKAsHCAUFBgUQBQUIBQkFBwgHCwUNBwcGBQUGBgUHCQUFBQUGBQ4GBg4HDQUFCggKIwgIBgcFBggFEgUFEQcGBQcFCAYFBwUHBgUIBgUFCwUGCQUFCgYHBggQBQYHBQkMBgcHBwUGBQ8GBQUFBQkNBQYQCAYPBwYFBQUHEQ4OBwcGBQsJDAcGBQkFBwkFCAUFBQcGBQcIBQUGBQkFBQUPBgcFBgoGBQkFBwgGBQgLBQYGEAwGBQYIBgoODQUHBQ0GBgUFBQsLCwgFCgYFBgUFBgUFBgUFBQgGCAgGDAYFBgUFBwoKBQYFBQUHBQoMBwYGCAsHBgkNBgcFBQcGBwYUBQUFBQUIBQgGCg4JDQcFBQcFBgUGBgUGBRgGBQgFBQYGBQ8GBQYKBwYGCQYGFxIFBQYIDQUQCQUHBQ4GBgUFCQUFDAUJBQkIBQcGBgUICAUGBQUJCAYFBQkHCAYJBgUFEgYHBgYGBQUGBQUIBQ0IBQUGBQoFBQYGBQUFCBAICBgHBQgICxIFBQgMCQUGBQYGBgYNBgYJCAgHBgcHBgkFBwYIBgUJBQUGBQgGBQUFCAcFBQgGBgUOBgUFBQwFDQYFBQYFBwgJBQkFCQgFBgUGBgYHBgsJBQoFBhMFBgUIBQYIDAcKBQkGBQUGBQYRDgkKEBIGBQsGBQUFBgcFCAUFCQUHDwkFFAYPBgwFBgYFBgYJCQkFBwUKBQUFBQUFBwUFBQcOBQcPBgUJBQcFBgkFBgUGBQsFCQYFBwcFBwUGCgYGBgYGBgUFBQoIEQYOBgcFCAYGBxEFEAYFBgULCg0FDQkFBQgFBQUFBQcFBQUFCwkFBwcFBgUHCQYODgUHFAgNChMJBg0FBxAFDAkGDwsJBgcFBQsVBQYlBwUXCQUFBwYGBQ8GEwYFBwUGBQcFCAUcBgcHBQYGBgcFBwUJGAUGBQ0VCw0HCQkHBQUGCQYLBQkFBgUGCAYGBgYVCwYJBQcHBQcFBQUIBQgFBQ8GCAcFMAkGBQwFBQUUCAYGBgcGBQUJBhMFBwYGBgUFBgcHDAYFBQwFBQUHBQUHBQUKCQkGBQUFFwURBwsHDAcLCAkGFgYFBwYHBgUHBg4GBgUIDAkHDAUFCxEICQYGBwUIBgcGBQULBQgGCggFBQcFBgYFBQULCgUFBQoKCgUIBwYVCwYGGwcFBgUHBQUFBgcJBQUFBQcFBgcNEwcHBwcNBQsFBQkKCAcFDA0GBQUGCAYFBwUHCQ8HCAYLBQYGBQYcCAYFCQUFBgUHBQUSBgcGBwULCAcFCQ0FCgcFCAYGBgUGBwUGBwULBQUHBgUGBgUQBQkGBQkFBQUFCRYNCAcIBQUFCBUFBQUFBQYJBwsFBQUIDRAKBQYGBRgHBgUFBwYICwcIBQUGBQgIBQYHCAkICAsJDAYVBwYGCQUGBQUyBgsFBQYWBQ0JBgYFCAUGBQgHCAUFCAgFDQUHCAUHBgYGBQUGCAwFBQUKFgUFBhEIBwUHBgUGCQsFBgkGCAUFBgUHBggPBwUGBRMGCg0GBQgJCwgRDQkMCw8HBQUGBgYKBgUIBQcMBQUICAUKCwYRCRYMBgYKBQUGCQUGBwUHBQgFBQUFBTcFFwYHDgUJDQUFCQUFBgkICAUGBgUFBQYGBQYFBwUJBQcFPhUFBQUFBQUMBQUUBgULBQkFDgoGBQgFBwUGBQYIDgkFBgYGBwcFBQUFBgYIBggNBQUHBgcFDQUGBQUHBgYJCQYIBwgUBggFEAYJBgUHBQcGBQgFBw4GBRAsBQcGCAUFBwUFBgcMBQoLBQYGBgUODQoQBQYFBgkFBwcHCgUGCgUGBQcKBgUQBwUFBgcHBQUJBQUHBQcFBQUFCAUFBQkGBgYICBAGBgYGBgYJBgkFBwgFBQcGBQcLCAUIBggOBgUMBQYHBQcIBgYJBQUFCwUFNQgICQsFBQUFDQcHBgcFDAUGDQUFBQwLBgUJDQUFBQUPCAYGBQYGBQoHBQoLBgUFBgcFBgcGEQUFBgcFBQgSDwUHBQYIBgUGCgUkBwkIBQUFBQoFBQUGBQUFBwcFBwUIBwUGCAUFBQYIBwgIBwUFBg4HBQUFCAkIDQYIBQ0FBQUMBQ0FDQoGCBQGBxsFBREGCAgFBQsKBwUFBQYFBgsGBgYFBQcFBQgIBw4FBQ4FBgUKBQUFBQULCQsFEwUFBQUJBQUFBQUHDwUFBwcFBQgFEAUKBQYFBgUFCAUFCwUHBQcFBgcIBQUGBwUIBgUGBQUFBQUGBQoKBgUMBQYIBQUGBgYHDAcHBwUFBQUFBQYFBQUIBwYGBggHCQYFCQkFBgwIBQUGBQUGBQgSBQUNBQsGBQcGBgYGDQUGBQYHBQYFEwgFBQcGBQUHCggKBR4FCg0GCQ4LBQYHBQYFBQUGBhYFBQwLCAUFBwYLBwYFBgoJDgUFBgkGBQsFBQoFBQgGCgUFBQoKBgUGBx0FBgYFBQUFBQoHCAkFBQUHDgUMBQYFBQsFBQULBgUGCQUHBgUFBgUFBQUGCwUGGgcFCAYFCAUNBwUFBR8LCAUKBgUFCgUFBQUIBgsHCgYFBwYIBQUFBwUFDwUHCQUGCQYGBQUFDQUJBwkFBQUHBwcFBQYFBQUFBwcLBQcMCgUMBQYFBgUGDwUGBQYGBgYFBQwFCAcFCAkFBwUFBQgHDwYGBwUFBQ4GBgkHCAYUBw8JBQcGCgUIBggVBgUIBgUMBQkFBQUFCwgFBQgFBQYFCgUHBggGBgUGDgUIBQcLCAYFBgUFCQgHDAUKBgYGCgsFBgcHBQYkBwcFBwcFBQcFBQYFBgUGCQkJBQYFCAYGBQYGBwgHFA8FBwoHCgoFBQYJCwUFBQcVBQYFBgUFCgYFEg8GBwUIBQsHBQcGCQYSBgYFBQYFBgUIBgUHCSEGBgsFBgoFCAgHBScIBgUFCgkFBQwFEQcIBgcJCgULBQUGDQYGBgwKBQUNBwULBggHBQUGBgUKBhAGBQ4LCwoGBgUGBgoHBQgFBw0GBQsHBQUGBQUHCAcGDAkVCQcIBgcFBQYMBQUJBQUFBwUFBwUGBgYFBgUHBQYFDAUFBwgFBQUICAoOBQ8GBQYIBgcHCREHBhQaBgcFBQcIJgUJBgcGBQUIChIGBQcIBQUFBgkJEwkJBwkVBgsHDwUFBQoHBQUHBQYFCQcFBQkGBQUKCwgFBQUWBQYHBQwFBQsGBwUHBwUHBwYGBQUHBwUGBQoFBQUFBQgFCQUFCQUKDgsFDwwGBQYGBQwIBQUHCAcFBQsFBQYGDQUFBgYHCgYFBwgGBQYIBgcFCAoPCgYKBQcFCAsOBRcGCAgGCQgFBQYFBQUMCgwIDgUIBgwFBgYGBQcGBwYFJgYNBgsGBQYIBwgFBgwFBRkHGRMFFAYFCggICAUHGwoJBQULBwUHCgsFBwUIBRoIBzIGBQUKBQgFCwgQBQsGCAgGBQUFBwkHCwcGBggGDA4bCQoOBg4HDAoHBQoNDg0UCggJBgUFBQYFBQULBgUGCQcGCggFBgUGBgUJBQUFCAkVBgYGBQcXEwcKBQUHCQkFBhIIBQwFBgwFBQYFDQUHBQUICAcHBQoPBQcGBgcGBQYKCQUFBggLBgYHDAUGBQYPCwYJCAgFCQsIBQULBQUGBwUFEgYOBwYGCgUHBhMFBQcHGgYHBgkFBQYGBwUGEQoHBRsFBwUHCAYIBQUJCQoFEAYOCQYJBg8MEwYFCQUJBwUWJgYGBgUFCg0FCAcGDg8UEgUHBQYFBgcGBQUGDwYFBgUGBQUFBwYHFQYGBQkQBgcGBQsHBwYFBgUKBQcHDwYFCAgFBgUKBSgFBgoGBwUGBwUMBggIBgcGBwUGBw0FBggFBgcKCAkGIwUYBQsGEQYWBwkMBgcGCAYJBgoGBxQGDQUTCQUGBQUGDwYHBgUPBQYFBQ8FBgYHBQYHBwUHBQUHBQYOBQoFBgYGBgUGBwYMBQkLBQcFBQkGBQUFEgUFBgULBRAFBgYKBg0GFwwGBgUGCgsHCQYGBxkFBwUFBQUHBwcMBhgFDAcFCAYGBQcKBQUFBwUFBQUGEQUJDgUFCQUHBwYGBgYKBgUFCgYFCQcYBQwFBQYKBQ8GCAUGBgYLBwUGBwYIBRUFBgUIBgUIBQUICAYIBQYGBgUGBQUGBQgKBhAICgUJBgUHBgUIBQkIFQYTBwcGBgYFBQYJFQcHBQUJDAcoCAUIBggFBQYLCQUFBQUFCAgHCgUGBgkRBgcHBQYGBQgFDQgFBwULCAYGCg0FCQcKBQYGBQUGBgUGCAUFCAYFBQYFCAsFFQYSBgkHBQUFCAUFDAwFCA4GBQUFCwcHBQYIBwcJBQkHBQkFCQgFDgUFBwYMBggIBQcFBwcGBg4FBw4FBQoGCwcFCAkFBgcIJAcFCQgNBhIFCAcGBwYGBgUHDQYFGgcFBgUFCQsGCQUGCQUFDwUFCAUKBwgLDA8FDAcHBgYGBwUFBQYWCAUFBgUFBggFBQUFBgYIBgYFCRwFBgcKCAUJBgcFBQYHBgYJBQkFBxUJCAUFCQoFBgURCQYLBQUFCysGBQgHBgcGDAoFFAoFCg0FEAUFCwYHCQUFBQYICAcHBwkFCwYFCQkFBwcGBwoFBgUHBggFBwgFBgYGBggJBwcGBgoFCQUFBQUICQUJBQwFCgoFDQcJBQYGBQYGDgsFBQUGBQkGCgYGBQsJEgkGBgcGBwULBQUlBg8JBQUFBgYGEwYGCAUFBQgJCQURBQYLBwcGBgYIDwUGBQUFBQ0KBQUGBxAFBQcFBwcFBQsNBQUHBQUGCQcFBwUGBxMFBQUFBwYFBwYJBQcFBwYFDAgHBQUFBQUFBgoFBQYFCg0FBQUJBREFBwYFBgcJBQUGBg4SBg8IBgUGBxkIBQYFCgUKDAYFBQUFBggFBQsFBQgGHwgJBQYFBQUFBwUFBgcHDQYFBQYFCgcLBQYHBwUGBQ0KCgUGBgYFCAYHBgoFBQUFCAgGBQcGBQcICQYJBgUHCgUHBgcFCwcHBQ0ICAkGBwUGCA8GBQcHCAcMBgYNCQUGCAYFBQcFBQYFBQYHBgwRBQULBgUGBQUFBgwGBQUIDgkUCgcFBwYFBQUJBQYKBgUGBQYoBQgFBwUKDQYGDgYHDAkGBQUMBQoJDA0FBQ4FBQYFBwoGCBoFBQUFBwYIBQUFBwcHCAoFCwUIBQUFBQUGDgUHBQYFBgYHIQsGBwsGDAcFBgUFBwUIBhAGCQ0GBQUFBQUFCRUPBwgSBgUGCwkFBgcHDgcGBQcFCQcGBQUGCAYHGgUTCQcGBQYFBQoFBgUHBxEFGgYHCwYHBQUGEgYIDQkKBgkKCgkQBQcFCgUFBgUHBg0MCAUJCQcjBgcFBQUFBgUJCAUFCQ8FBwgFBgUFBggGBQYKCQcJBQUHBwUIBQYUBwYMCggHBgkHBQYFBggFCAUGBgcJBQYFCQULBggVBQcGCQUFBQUGChEFBwkIBgUHBQYzBQsNBwgHCgUFBQUFBwcKBQUHCAYFBQoGBQcLCAUFDgYGCAYGCAkHBgYFBgYHBQcFBwkRBgYFBQUFBQYKBgUJBwwJBwUJDwYGBgoGBQ0GBggFFQYFBgwFDgkFBgUHCQ4LDggMBgsHBQcHBQwGBQgFCAYGBwkHBgYOBxAGBQ0IBxMFBQYFBgYGBQ8GCAUJBg8GBgUHBwUFCAgFEAgHDAUFCAUJBRIFBwUSEAgFBQUGCwYGBQkGCAULCAkJBQcFCAcMBQYHDgYGCAcFBwUGBQUGCAUGGgUGBQULBQUSBQUFDgkGBQUFBQUGHQwGBgcICAUFDgYHBgUFCQUNBQ4GDwcKBwYKBQkFCgUGBg4KBwYKDAYKBQYGBR0FBQUHBwoGBQgGBQgFBQcFCAgNBwUJBRoHGgUFBQUJBwYIBQYFBQsSBw8VBwYHBQUFDAcIBQgFBQUGBQYVBwUFBRIGFQUIBg4FBQUGBQUFBwUFDgUGBgkFCggJBQYHBRcFEQUGBQYFBQYGBQkFBggFBgYFCAYHEwgHBQcHBQUGBQYFDAUFCwYGBgwHBQcJCAYGBQUIBQUFDQUKBgUFBQUFBQUFBQgGBQ8FBgYMBgkFCAkFEQUIBQ4FEgYFDQYFCA0GCAUHCwUFCAYFBwUJBgUFDAkZBwwHEgUHBwcFBQ4JBQUFBgoHDQYGDAwGBQUFBwoHBQYRBQgGBggGCggHCgYFBQYJBQcYBQcLBwcGBQcFBgUFBgUGDgUFBgUGBQUFBRAGBQYFBwcKCAYJCwsJCAYVBgcGDwUFBxUXDQcFBgYGBwcFBgoIBgUHBQUNDBMFBQUGCQYGCAYGCQUFBwYGBwUFBwcKBQYFBQcHCgYGBwUJBwgNBgUMJQkGCAoHBgUFBwcJCAUICQsGBw0GBgYIBgUGBgcFCwgKBQYOBwYFBgkFBQkFBgYRBQYFCQYGBQYFBgUNBQ8HBwkFBgUSCAkGBg0ICQUHBQkIDwYFBQUKBgcJCQcJBQULDQYHCAUHBQ0GBQUJBQwFBQYRBQgKBRELDQYGCgoFCQkLCQUpBQsLBwYJBQcPCQsFDQYKBQYNBQUFBgcGBQYFBQYHBQUKBgcNBQUFBQwGBwUGBQgFBwURBgcNCAoFBQYIBRoFBQYGCwYHBgsGBwUGBwUFDQYHCgUHBQUGBgoGBwUFBgUHCAYpBRAJCQUNBgUIBwYFCQYHBQgIBQUFCAUJBQgICAUGBwYFBwUGBwgGCQwGBQkPBwsFBQYGCwYFCQUKFAUJBQkKBgUHBQgIBgUIBQcFCwUGBgUFBggFCQUJBQUFCQcFBQcGBwkGBQUFBwUHBQUIBQYFBQcFCAUFBQYGBgoFFQYFByIJBQUGBQkGDgoFDQcICggPBQUFCA4GBQYFBQwFBRIHCAsGBQUHBwcFBQUGCQgFBQ8JBgUFBQUIBQUGBwULBRQFCgUHCAUHBgwGBwYGBgkGCAsGBgUHBgUFBwYGCAkNBQcGBQUMBwYMCAUIBQcGBwUGBQUIBgUSCQYIBQYOCAYGBgcNCggXDwcFCAwHBgcRBgcMBQYFBwYGCggGBgUGCwgFBgUGBQUGBgUSBQcFBQUFBQUGBgYIBw0FBgsFBQUFBwUHCQUIDwUFDAUGEQYHBQgHBQkODAUFBQcFBQkdBwUGBwUJCAYICAUSBQkKBQUNCAsFBgUGBQgHBwsIBg4FCggFBwUGBgYHBgUFBQkFBQ8IBQYFBQUFBgUGBgYFCAYFBQcFCwgHBQUGBQUFDgcHBQgFBQUFBwcFCA0JBQUJDwUHBQUGBQgGBwsHBQsFFQYFBgUGCAUSBgwkBQYFBQUFBQoGCwYHBgcFCgUGDQUGBQYJBgUNBwYFBQUGBQctBgUGEgsJBgcFBQUFBgYGBgkFBwUGBQUHBgY1BgUHEgUKBQYIBwcGCAcGBgUHBwcGEBMHBwYLFQUHBwUHDgYFCQYLBgUFBQgHBwgFBwgIBQsJBgUHCAoFBQUFBgUFDgYJBgcGBgUUBgYGBQsGBQcHBQkFCwkFBwgGBQUJBwUGBwYGCAUHBwsHBQgFBQULBgUHEgYFBQUFBQYGBQwFCAUMBgUGCgUGCAUFEAsFBgoFCAcHDAgGBQcFBQURCgUHBgYFCgUFBQUFBQ0JCgUGBQUHCwUHEAUFBgcFBQUFBQcGHQcFBgYICQYGBQcGBQUIBwYFBwkGBQwFBQUIBgYGBQkGBRIHDwUFBgYJCQUHBgUKBQUGBgUGFQYFCQUIBgUHFQUIBwUJCAgIBQUVBQoFBgYFBgsHCgUKBgcHBgkGBgkSDgUPBwYJBQcJBQYFBQUFBQoKBQUGCAkNBgoFBQgOBQgIBwUGBiAFCQYFBQoHBQkHBwUFCAYKBSoGDAkFBQYJCAUICAULBgUGBwUIBgUGBQkKCAYHBwUIEwYFBQUFBQUHBgUFBQgIBw8IBgcJBQUICQcFBgkFBQYGBRoFCAYPBwoIBQgFDgUGCAcNBQUIEAYKFwcFBgsFBQYPBQYFBQUFBggFBgUHCQoJBwUGBQYGCwYHCw8GBgUGBQYHBRAMBQUTBQYTBQYMCQYHCQUFBQYYBgoFBQgFBwUGBg0KBgUMCAYQCAUGBQUGBQUIBwYRDwUHBQUGCAgIBgkTFQcHCAYKBgYGBgYFEQcGBQgGBQUFCwUFBgUGBwkFBQUMBgUFBgUFBQULBwYKCQUIBgUFCAgMBQUKDwcLDAUGBQUMBRAFBgwJBgoFCAcFBQULBgUVCAUFBQsGBwUFCgkFBgUFBQUFBQcHBgsFBg4MBQsFCwcGBgUHBgcQEQULDQUIBQcYEwUIBwcFBQcGEQUGBgUKCQkIBQ0HCgcFBggHBQYGCQkFBgYHBQUHBQUFCgoHFAYFCgkFCAgHBw8FCBIJHAUJBQkSCAoIBgcMCgoGCAUFCQ4GBgYFBQkJBgUGCAYFCQ0GBwUGCQUFBwUFDAUGBQgGFQ0HEgkPBgYFCAUMBgUFBQUFBgYFBgcHBgUFCRggBggMBQoGBwkFBQcaBRMGBQULBQYFBQYJBgcFBgYJCRUJBQYFBQsIBQcJBQcHBQUMBQUHDQUFBQcFBwcFBgYMCwUHBxMFBQYGEwUFDBAHBQUGBwcIBQ4FBgUHBgcFBQYTBQUKBQ0FBQwNBQkMBwUGBgYGDwUFBRMGBwcJBwULCgUFCAUNBQcGDQYHBQYRCAcICgYQCAYKCQgTBQYFBwUHBQUHBgUGBQ8JBxAJBQcFCggFBwkGCQUHBQwFCQUHEwUGCAYGCwUFBw0RCAcJDQgGBQUFDAUIBQkFDQcFBQUIBQYGBQgFBgYFBgkFBgYUBgUFBgohBxUGBQUkBwgJBQcFBQYGEgUJBQoIBQgFBgYGBQcJBQUFCQYFBgYFCgUGBwcKBgUJBQkLBwUFCQUFBgcGBQsFCwkGGRcFBQcLBwgHCAYFBQUHBwUFBQUKBQoFBQUKBwkFDAgFEw4KCgYFBgUHBwgHBQYFCQUIBgcFQAYIBQUFBgoFCQUICAUFBQYFCgcNBwYFBQUFBwUIBQYFCgYHBQgHBgUGCAYGBQUGBQUMBg8LBQUGBgYICgUFCAgFBQsJCgYJCwgGBgYFDgcFBgYpCwYFBQULGgcIBxIFCAUGBQYFCAUMCwcFBQsFBgYJCAYHBQsIBQUJCQUZBQgHBQgKBQYHDgYGBgUFCQsFBQcJBQkGBwUIBQcHEAwFEwUGCQcFBQUGBQUGBQUICAkFDxQFBwcHCQUFBgoHBwUFBgYHBwkNBQYHBQwKGg4HCgwFBxEFBQUGBwYGCgcSCAYGBgUFBQYIBQYFBgUFBhQIFwUKCgcMBQYFBQcGBQgFEQYGDQUFCA0FBQUFBwYHBgUGBgUFEwkUBhAFBQcFDwgHBQoHBQYXCgoFBQsdBwgKCAcHBQUWBQUFBQYGBgcFBgwKBQcMEQYHBgUJDAYFCAoaBgsKBQoJDAYGGQkHDRAFBgUNBQgPBQcMBRQLBQYFChsFBwUMMAYIBgUOBQY8CAUKBQwFBxMFBQcIBQcFBgcPBwoGBggGBwYNBgUHDQcFBQcIBgkgBQYJBwUFBQUFCA4JBwwFBQUFCwcFBQ0FBgUHCgcODAUHBgcGChkcCQUPBQYFBgcHBwUFBQYGBQUKBwUFBgkFBgYIBQcFBwcGHREJDgYFBwUFBQUGBwcHBQsOBQcFBgUGJhMFBgUHCA4FBQoTBgYJBgUFFAUFDBEFCAUJBQcFBgUFBQkFCQcJBQ0FBQYFBwYFBwkIBgUGBgkIBgsFBR4IBQUGBgUICwUFCQkGBQkGEAcIBQUHBQUGBQsFCAcGBQcFCQUFBwYFBQUFBREGCwYFBQoFBScHBQUFBQkFBQgGBQgFBQUFBgUFBQoFCAUICQYGBQoGBQYGBwYFCA0GBgUKBwgvCwUHJwYSBwUKBgsFBQcICAYFBw4JBg8ZBggGBgYJBwUOBhIHBwYIBggFBQ0FBQkOCgkHBQYJBQkHBgcFCwYHBwUIBgcJGQcFDQYFCiwIBgYFDAoFDAUHBQcRCAcRBQUFBgcKBQUGBQUFBg4JDAUIDQgICQUMBQ4HCAsFBgcWEAYGBQUFBREFBQcFBQcIDAgHCQUGBgUFBQUGBgYGDgUGBRQHBQUGBgkMCAUJCQUHCAgFBgcMBQgGDwgLEAYHBSQGBQUKBwUSBggGBQcFCggGCAcIBQYMBg4GChMIBgUGCAUKBQUFBQoIBQkLBQoHBQcOBQUHBQUMCQwIBQkRBgYGCAkIBwcGBgcSBSkGBwgIBgsNBgYGCgUGBgUHDAUSBwYGBQYHBgkIBgYHBQgFBwoaCAwFBQYQCAYPBQYFBgUGBQwIBQYGBQkGEgsFBQUHBggHCAUGBwYJBgUGBgoICwkLBQYGBgcFCgUIBQYIBgYJCAYICAUOBgsFBQUGBgoHBQUJBQUGBgUHBwcRCQgJCAcFDgUGCgYFBwYIBgwGCQUGBwYICgYiEQkGCQUFBggGCAcIDgYNDAYGCQUJCAUNCAYFBQUGBQUFBwcNGggFBgUHBQcLBQUFCwUKBQgFEQYFBwYIBQcIBQUGBwYKBQYFBQkGGggIBQUIBwURBQoFBQYGBQcFBgUGBgUKGQYGBgcFBwUOEgYHDRALBgUFDAUGBgkJBhAHBQoKBQYFBQUFBwUGBQUJBQcFCAUFBQUKCAUJBQYFBQYFCAUFBQcHBQYJCQUKBwkGBQsGBgUGCQYFCwcFCQcTCAYGBQUFCQUHBQ4HDQUGBgkHBQwKDQYFIQcFBQcFCQw7CQUKBQYGBggFCQYKBwUICAUFBggFCAUHBgsICBUGBxEJBQ8IBgkRDAUGBgsIBwYHBgsICQYmBQUGBgUFBgUIBQcFBgcKBwgsBgUFFQcHBQgHBwoIBQYHCQcGEQUFBgUHCgUFGAcPBRAGKQgGBRoFCQgGBwYGBQUIBhAPBgkFBwUJBQ0FCAkICAcFFBAGCgcJBgUGBQUHBQUFBgUHBwgQEAcGBgUGCAUKBQUKBQUIBQcFBwYFBw0FBQkFBgUMBQUJBgcGBgoGBQUFBQUFBQcKBgYLBgUFBQkLBgUFBwcGBQUFCwgNBg0FBwUGBggFBQUGCxoFDQoFFAUFBQoOBQUFCAcGBQUFEQkHCAgKBQUMDAUGCgsFGwcFCQUFBgUQEQUGDAUHBQcHBwUTBRELCAYGBQcFBgULBQcGBggJCQgGBQYKCQUFBQYMBwoFCQ4FCSELBQUFBggFBgYFCQUGBRIFBQUFBgcFBgwHDg4FBgUFBQUGBwYFCAUGBQcGBhcFCRELCAoFBQ0FBwUFBQsHBgUfBQUFBwgGHBYGBhEGBQUGCAUGBQsOEgcHCAUGCAoFCQwGBgUFHwUJBQUPBQUTBQcFDwYGBgcIBw8KFQgHBgUFBQYJBwUFBwgGCgkGDAoFBQUFCAUGBwkHCQkFBgYHBgYGCQcFBggHBRUHBwULBwYIEAcFBQgGBgUHBwYIBQofBQYGBQUGBQUGBggKBQUFDggGDAUFBgYIBgUHBgUFBQ0HCAcIBwUMBQUKBgUNBgYHBggFBRAIBQUFBgcFBgUOBQYIBQoGBgYHBwcGDgYFBQsFCgUFCgUFBQwGBgkFCgcIBgUFBgUFBwcGBQULCAwIBQUFBwYHBgYHCwYFBgUFBQYFCggHBQ0GEAcGBxEFDQUKBgoKBQkKBQoIBxAGDAUGBgUFBQUHBgYYCQwFBg4IBQYFCwcHBQUGBQUGCQcFBhMGBgUTBQcFBQoIBgsGBgcPBQ0FBg0ICgclCAUGBgUFDAcSCQgFBgoOEwsGBQUFBhMFCgUMBwcICA4FDAUHBQgFBQUGBRUGCgkIBQYKCwkGCQ8FCA0JDAUFGQUFBwYIBQgHCgYaBwgHFQcFCAcHCwkFBgYJBQ0MFwcIBgYIBQgFBQkLBQoFBQUFBgkHBwgPBhIFBw4FCgYICQUGBgYGFAYIBQoFBQgFBQgNBwYHCAgIBRwHBgUGBgYICQURFB0FDwYGBQ4GBwcMBQcQBQwFCAUFBQgFCBMVBQUGBwYGBQkFBQgFBgcGDgsHBgYPBwcKBgUKBwYHCggGBwgHBQUPEwoFBQYKGQsFBgcJDwYGCAkJBgcJBgYHBQgFBwYJCAcLCAUJCAUGCwcHBhAIBwgIBQUFCQoFBgUVBQ0FBwkFCgURCAUFCgUFCQYhBQwGEgYIBwUIBQUFBQkFBgoKDgcFBhQOBgcFDAoHBQwZBQcLBQcIBgYFBQUIBQ4HBQYHBQUJCgYNBQUFBwgFBgUFBwYLBQYNBQUFCwYFBQkGBgcFBwcJBwYRBggFBwYFBQYFBgcRBQULDgUGBQYNFwYFBQUFBQcLBwYFBQYIDgYSBRMGBgYJBgUFCA0FBQgGBQUGBgUJCgwHBQgJBQUGBR8GBwcGBQUGBwYFCAcGDQcGBQUFBQsFBQ8FBQYFBgYGBwoHBwUOBwYIBQUHBQUFCQoFBwUHBQgdBgUGBggGBRgHBgUGCAYFEgcFCwUGCgYJDQUFBQcICgYFBREICgUHBwYGBQ0IBwYFBwYGBgcFBwUIBQcQBwUFCgcIXAUFCQUXBwUHBQYFBQUHBgUHCQcFBQURBgUFBRELDAYHBwYFBQUFBgUGBQYHCAUHBwYFCwkGCAcGCAUGBgUGCAUHBgUJBgYGCAoLBgcJBQwGEQkFBgUFBwYFDgUFBwUJBQUGCg4FBQgHDQYFBRQHBQcFDAUGCAYGBQcFBwgFBRoGCAgKBwcFBQUJBgYOBgYHBwYJBQkFDwcMBwoJBR0GBggGFwsPBQUFDQUFBQgGBggHBgYHBQUJCAYGBgULBQYGDQUFCQUFBgUJ",
          "dtype": "i1"
         },
         "xaxis": "x",
         "yaxis": "y"
        }
       ],
       "layout": {
        "barmode": "relative",
        "legend": {
         "title": {
          "text": "variable"
         },
         "tracegroupgap": 0
        },
        "margin": {
         "t": 60
        },
        "template": {
         "data": {
          "bar": [
           {
            "error_x": {
             "color": "#2a3f5f"
            },
            "error_y": {
             "color": "#2a3f5f"
            },
            "marker": {
             "line": {
              "color": "#E5ECF6",
              "width": 0.5
             },
             "pattern": {
              "fillmode": "overlay",
              "size": 10,
              "solidity": 0.2
             }
            },
            "type": "bar"
           }
          ],
          "barpolar": [
           {
            "marker": {
             "line": {
              "color": "#E5ECF6",
              "width": 0.5
             },
             "pattern": {
              "fillmode": "overlay",
              "size": 10,
              "solidity": 0.2
             }
            },
            "type": "barpolar"
           }
          ],
          "carpet": [
           {
            "aaxis": {
             "endlinecolor": "#2a3f5f",
             "gridcolor": "white",
             "linecolor": "white",
             "minorgridcolor": "white",
             "startlinecolor": "#2a3f5f"
            },
            "baxis": {
             "endlinecolor": "#2a3f5f",
             "gridcolor": "white",
             "linecolor": "white",
             "minorgridcolor": "white",
             "startlinecolor": "#2a3f5f"
            },
            "type": "carpet"
           }
          ],
          "choropleth": [
           {
            "colorbar": {
             "outlinewidth": 0,
             "ticks": ""
            },
            "type": "choropleth"
           }
          ],
          "contour": [
           {
            "colorbar": {
             "outlinewidth": 0,
             "ticks": ""
            },
            "colorscale": [
             [
              0,
              "#0d0887"
             ],
             [
              0.1111111111111111,
              "#46039f"
             ],
             [
              0.2222222222222222,
              "#7201a8"
             ],
             [
              0.3333333333333333,
              "#9c179e"
             ],
             [
              0.4444444444444444,
              "#bd3786"
             ],
             [
              0.5555555555555556,
              "#d8576b"
             ],
             [
              0.6666666666666666,
              "#ed7953"
             ],
             [
              0.7777777777777778,
              "#fb9f3a"
             ],
             [
              0.8888888888888888,
              "#fdca26"
             ],
             [
              1,
              "#f0f921"
             ]
            ],
            "type": "contour"
           }
          ],
          "contourcarpet": [
           {
            "colorbar": {
             "outlinewidth": 0,
             "ticks": ""
            },
            "type": "contourcarpet"
           }
          ],
          "heatmap": [
           {
            "colorbar": {
             "outlinewidth": 0,
             "ticks": ""
            },
            "colorscale": [
             [
              0,
              "#0d0887"
             ],
             [
              0.1111111111111111,
              "#46039f"
             ],
             [
              0.2222222222222222,
              "#7201a8"
             ],
             [
              0.3333333333333333,
              "#9c179e"
             ],
             [
              0.4444444444444444,
              "#bd3786"
             ],
             [
              0.5555555555555556,
              "#d8576b"
             ],
             [
              0.6666666666666666,
              "#ed7953"
             ],
             [
              0.7777777777777778,
              "#fb9f3a"
             ],
             [
              0.8888888888888888,
              "#fdca26"
             ],
             [
              1,
              "#f0f921"
             ]
            ],
            "type": "heatmap"
           }
          ],
          "histogram": [
           {
            "marker": {
             "pattern": {
              "fillmode": "overlay",
              "size": 10,
              "solidity": 0.2
             }
            },
            "type": "histogram"
           }
          ],
          "histogram2d": [
           {
            "colorbar": {
             "outlinewidth": 0,
             "ticks": ""
            },
            "colorscale": [
             [
              0,
              "#0d0887"
             ],
             [
              0.1111111111111111,
              "#46039f"
             ],
             [
              0.2222222222222222,
              "#7201a8"
             ],
             [
              0.3333333333333333,
              "#9c179e"
             ],
             [
              0.4444444444444444,
              "#bd3786"
             ],
             [
              0.5555555555555556,
              "#d8576b"
             ],
             [
              0.6666666666666666,
              "#ed7953"
             ],
             [
              0.7777777777777778,
              "#fb9f3a"
             ],
             [
              0.8888888888888888,
              "#fdca26"
             ],
             [
              1,
              "#f0f921"
             ]
            ],
            "type": "histogram2d"
           }
          ],
          "histogram2dcontour": [
           {
            "colorbar": {
             "outlinewidth": 0,
             "ticks": ""
            },
            "colorscale": [
             [
              0,
              "#0d0887"
             ],
             [
              0.1111111111111111,
              "#46039f"
             ],
             [
              0.2222222222222222,
              "#7201a8"
             ],
             [
              0.3333333333333333,
              "#9c179e"
             ],
             [
              0.4444444444444444,
              "#bd3786"
             ],
             [
              0.5555555555555556,
              "#d8576b"
             ],
             [
              0.6666666666666666,
              "#ed7953"
             ],
             [
              0.7777777777777778,
              "#fb9f3a"
             ],
             [
              0.8888888888888888,
              "#fdca26"
             ],
             [
              1,
              "#f0f921"
             ]
            ],
            "type": "histogram2dcontour"
           }
          ],
          "mesh3d": [
           {
            "colorbar": {
             "outlinewidth": 0,
             "ticks": ""
            },
            "type": "mesh3d"
           }
          ],
          "parcoords": [
           {
            "line": {
             "colorbar": {
              "outlinewidth": 0,
              "ticks": ""
             }
            },
            "type": "parcoords"
           }
          ],
          "pie": [
           {
            "automargin": true,
            "type": "pie"
           }
          ],
          "scatter": [
           {
            "fillpattern": {
             "fillmode": "overlay",
             "size": 10,
             "solidity": 0.2
            },
            "type": "scatter"
           }
          ],
          "scatter3d": [
           {
            "line": {
             "colorbar": {
              "outlinewidth": 0,
              "ticks": ""
             }
            },
            "marker": {
             "colorbar": {
              "outlinewidth": 0,
              "ticks": ""
             }
            },
            "type": "scatter3d"
           }
          ],
          "scattercarpet": [
           {
            "marker": {
             "colorbar": {
              "outlinewidth": 0,
              "ticks": ""
             }
            },
            "type": "scattercarpet"
           }
          ],
          "scattergeo": [
           {
            "marker": {
             "colorbar": {
              "outlinewidth": 0,
              "ticks": ""
             }
            },
            "type": "scattergeo"
           }
          ],
          "scattergl": [
           {
            "marker": {
             "colorbar": {
              "outlinewidth": 0,
              "ticks": ""
             }
            },
            "type": "scattergl"
           }
          ],
          "scattermap": [
           {
            "marker": {
             "colorbar": {
              "outlinewidth": 0,
              "ticks": ""
             }
            },
            "type": "scattermap"
           }
          ],
          "scattermapbox": [
           {
            "marker": {
             "colorbar": {
              "outlinewidth": 0,
              "ticks": ""
             }
            },
            "type": "scattermapbox"
           }
          ],
          "scatterpolar": [
           {
            "marker": {
             "colorbar": {
              "outlinewidth": 0,
              "ticks": ""
             }
            },
            "type": "scatterpolar"
           }
          ],
          "scatterpolargl": [
           {
            "marker": {
             "colorbar": {
              "outlinewidth": 0,
              "ticks": ""
             }
            },
            "type": "scatterpolargl"
           }
          ],
          "scatterternary": [
           {
            "marker": {
             "colorbar": {
              "outlinewidth": 0,
              "ticks": ""
             }
            },
            "type": "scatterternary"
           }
          ],
          "surface": [
           {
            "colorbar": {
             "outlinewidth": 0,
             "ticks": ""
            },
            "colorscale": [
             [
              0,
              "#0d0887"
             ],
             [
              0.1111111111111111,
              "#46039f"
             ],
             [
              0.2222222222222222,
              "#7201a8"
             ],
             [
              0.3333333333333333,
              "#9c179e"
             ],
             [
              0.4444444444444444,
              "#bd3786"
             ],
             [
              0.5555555555555556,
              "#d8576b"
             ],
             [
              0.6666666666666666,
              "#ed7953"
             ],
             [
              0.7777777777777778,
              "#fb9f3a"
             ],
             [
              0.8888888888888888,
              "#fdca26"
             ],
             [
              1,
              "#f0f921"
             ]
            ],
            "type": "surface"
           }
          ],
          "table": [
           {
            "cells": {
             "fill": {
              "color": "#EBF0F8"
             },
             "line": {
              "color": "white"
             }
            },
            "header": {
             "fill": {
              "color": "#C8D4E3"
             },
             "line": {
              "color": "white"
             }
            },
            "type": "table"
           }
          ]
         },
         "layout": {
          "annotationdefaults": {
           "arrowcolor": "#2a3f5f",
           "arrowhead": 0,
           "arrowwidth": 1
          },
          "autotypenumbers": "strict",
          "coloraxis": {
           "colorbar": {
            "outlinewidth": 0,
            "ticks": ""
           }
          },
          "colorscale": {
           "diverging": [
            [
             0,
             "#8e0152"
            ],
            [
             0.1,
             "#c51b7d"
            ],
            [
             0.2,
             "#de77ae"
            ],
            [
             0.3,
             "#f1b6da"
            ],
            [
             0.4,
             "#fde0ef"
            ],
            [
             0.5,
             "#f7f7f7"
            ],
            [
             0.6,
             "#e6f5d0"
            ],
            [
             0.7,
             "#b8e186"
            ],
            [
             0.8,
             "#7fbc41"
            ],
            [
             0.9,
             "#4d9221"
            ],
            [
             1,
             "#276419"
            ]
           ],
           "sequential": [
            [
             0,
             "#0d0887"
            ],
            [
             0.1111111111111111,
             "#46039f"
            ],
            [
             0.2222222222222222,
             "#7201a8"
            ],
            [
             0.3333333333333333,
             "#9c179e"
            ],
            [
             0.4444444444444444,
             "#bd3786"
            ],
            [
             0.5555555555555556,
             "#d8576b"
            ],
            [
             0.6666666666666666,
             "#ed7953"
            ],
            [
             0.7777777777777778,
             "#fb9f3a"
            ],
            [
             0.8888888888888888,
             "#fdca26"
            ],
            [
             1,
             "#f0f921"
            ]
           ],
           "sequentialminus": [
            [
             0,
             "#0d0887"
            ],
            [
             0.1111111111111111,
             "#46039f"
            ],
            [
             0.2222222222222222,
             "#7201a8"
            ],
            [
             0.3333333333333333,
             "#9c179e"
            ],
            [
             0.4444444444444444,
             "#bd3786"
            ],
            [
             0.5555555555555556,
             "#d8576b"
            ],
            [
             0.6666666666666666,
             "#ed7953"
            ],
            [
             0.7777777777777778,
             "#fb9f3a"
            ],
            [
             0.8888888888888888,
             "#fdca26"
            ],
            [
             1,
             "#f0f921"
            ]
           ]
          },
          "colorway": [
           "#636efa",
           "#EF553B",
           "#00cc96",
           "#ab63fa",
           "#FFA15A",
           "#19d3f3",
           "#FF6692",
           "#B6E880",
           "#FF97FF",
           "#FECB52"
          ],
          "font": {
           "color": "#2a3f5f"
          },
          "geo": {
           "bgcolor": "white",
           "lakecolor": "white",
           "landcolor": "#E5ECF6",
           "showlakes": true,
           "showland": true,
           "subunitcolor": "white"
          },
          "hoverlabel": {
           "align": "left"
          },
          "hovermode": "closest",
          "mapbox": {
           "style": "light"
          },
          "paper_bgcolor": "white",
          "plot_bgcolor": "#E5ECF6",
          "polar": {
           "angularaxis": {
            "gridcolor": "white",
            "linecolor": "white",
            "ticks": ""
           },
           "bgcolor": "#E5ECF6",
           "radialaxis": {
            "gridcolor": "white",
            "linecolor": "white",
            "ticks": ""
           }
          },
          "scene": {
           "xaxis": {
            "backgroundcolor": "#E5ECF6",
            "gridcolor": "white",
            "gridwidth": 2,
            "linecolor": "white",
            "showbackground": true,
            "ticks": "",
            "zerolinecolor": "white"
           },
           "yaxis": {
            "backgroundcolor": "#E5ECF6",
            "gridcolor": "white",
            "gridwidth": 2,
            "linecolor": "white",
            "showbackground": true,
            "ticks": "",
            "zerolinecolor": "white"
           },
           "zaxis": {
            "backgroundcolor": "#E5ECF6",
            "gridcolor": "white",
            "gridwidth": 2,
            "linecolor": "white",
            "showbackground": true,
            "ticks": "",
            "zerolinecolor": "white"
           }
          },
          "shapedefaults": {
           "line": {
            "color": "#2a3f5f"
           }
          },
          "ternary": {
           "aaxis": {
            "gridcolor": "white",
            "linecolor": "white",
            "ticks": ""
           },
           "baxis": {
            "gridcolor": "white",
            "linecolor": "white",
            "ticks": ""
           },
           "bgcolor": "#E5ECF6",
           "caxis": {
            "gridcolor": "white",
            "linecolor": "white",
            "ticks": ""
           }
          },
          "title": {
           "x": 0.05
          },
          "xaxis": {
           "automargin": true,
           "gridcolor": "white",
           "linecolor": "white",
           "ticks": "",
           "title": {
            "standoff": 15
           },
           "zerolinecolor": "white",
           "zerolinewidth": 2
          },
          "yaxis": {
           "automargin": true,
           "gridcolor": "white",
           "linecolor": "white",
           "ticks": "",
           "title": {
            "standoff": 15
           },
           "zerolinecolor": "white",
           "zerolinewidth": 2
          }
         }
        },
        "xaxis": {
         "anchor": "y",
         "domain": [
          0,
          1
         ],
         "title": {
          "text": "value"
         }
        },
        "yaxis": {
         "anchor": "x",
         "domain": [
          0,
          1
         ],
         "title": {
          "text": "count"
         }
        }
       }
      }
     },
     "metadata": {},
     "output_type": "display_data"
    }
   ],
   "source": [
    "px.histogram(sample_df.groupby(args.user_col).size())"
   ]
  },
  {
   "cell_type": "code",
   "execution_count": 107,
   "metadata": {},
   "outputs": [
    {
     "data": {
      "application/vnd.plotly.v1+json": {
       "config": {
        "plotlyServerURL": "https://plot.ly"
       },
       "data": [
        {
         "bingroup": "x",
         "hovertemplate": "variable=0<br>value=%{x}<br>count=%{y}<extra></extra>",
         "legendgroup": "0",
         "marker": {
          "color": "#636efa",
          "pattern": {
           "shape": ""
          }
         },
         "name": "0",
         "orientation": "v",
         "showlegend": true,
         "type": "histogram",
         "x": {
          "bdata": "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",
          "dtype": "i2"
         },
         "xaxis": "x",
         "yaxis": "y"
        }
       ],
       "layout": {
        "barmode": "relative",
        "legend": {
         "title": {
          "text": "variable"
         },
         "tracegroupgap": 0
        },
        "margin": {
         "t": 60
        },
        "template": {
         "data": {
          "bar": [
           {
            "error_x": {
             "color": "#2a3f5f"
            },
            "error_y": {
             "color": "#2a3f5f"
            },
            "marker": {
             "line": {
              "color": "#E5ECF6",
              "width": 0.5
             },
             "pattern": {
              "fillmode": "overlay",
              "size": 10,
              "solidity": 0.2
             }
            },
            "type": "bar"
           }
          ],
          "barpolar": [
           {
            "marker": {
             "line": {
              "color": "#E5ECF6",
              "width": 0.5
             },
             "pattern": {
              "fillmode": "overlay",
              "size": 10,
              "solidity": 0.2
             }
            },
            "type": "barpolar"
           }
          ],
          "carpet": [
           {
            "aaxis": {
             "endlinecolor": "#2a3f5f",
             "gridcolor": "white",
             "linecolor": "white",
             "minorgridcolor": "white",
             "startlinecolor": "#2a3f5f"
            },
            "baxis": {
             "endlinecolor": "#2a3f5f",
             "gridcolor": "white",
             "linecolor": "white",
             "minorgridcolor": "white",
             "startlinecolor": "#2a3f5f"
            },
            "type": "carpet"
           }
          ],
          "choropleth": [
           {
            "colorbar": {
             "outlinewidth": 0,
             "ticks": ""
            },
            "type": "choropleth"
           }
          ],
          "contour": [
           {
            "colorbar": {
             "outlinewidth": 0,
             "ticks": ""
            },
            "colorscale": [
             [
              0,
              "#0d0887"
             ],
             [
              0.1111111111111111,
              "#46039f"
             ],
             [
              0.2222222222222222,
              "#7201a8"
             ],
             [
              0.3333333333333333,
              "#9c179e"
             ],
             [
              0.4444444444444444,
              "#bd3786"
             ],
             [
              0.5555555555555556,
              "#d8576b"
             ],
             [
              0.6666666666666666,
              "#ed7953"
             ],
             [
              0.7777777777777778,
              "#fb9f3a"
             ],
             [
              0.8888888888888888,
              "#fdca26"
             ],
             [
              1,
              "#f0f921"
             ]
            ],
            "type": "contour"
           }
          ],
          "contourcarpet": [
           {
            "colorbar": {
             "outlinewidth": 0,
             "ticks": ""
            },
            "type": "contourcarpet"
           }
          ],
          "heatmap": [
           {
            "colorbar": {
             "outlinewidth": 0,
             "ticks": ""
            },
            "colorscale": [
             [
              0,
              "#0d0887"
             ],
             [
              0.1111111111111111,
              "#46039f"
             ],
             [
              0.2222222222222222,
              "#7201a8"
             ],
             [
              0.3333333333333333,
              "#9c179e"
             ],
             [
              0.4444444444444444,
              "#bd3786"
             ],
             [
              0.5555555555555556,
              "#d8576b"
             ],
             [
              0.6666666666666666,
              "#ed7953"
             ],
             [
              0.7777777777777778,
              "#fb9f3a"
             ],
             [
              0.8888888888888888,
              "#fdca26"
             ],
             [
              1,
              "#f0f921"
             ]
            ],
            "type": "heatmap"
           }
          ],
          "histogram": [
           {
            "marker": {
             "pattern": {
              "fillmode": "overlay",
              "size": 10,
              "solidity": 0.2
             }
            },
            "type": "histogram"
           }
          ],
          "histogram2d": [
           {
            "colorbar": {
             "outlinewidth": 0,
             "ticks": ""
            },
            "colorscale": [
             [
              0,
              "#0d0887"
             ],
             [
              0.1111111111111111,
              "#46039f"
             ],
             [
              0.2222222222222222,
              "#7201a8"
             ],
             [
              0.3333333333333333,
              "#9c179e"
             ],
             [
              0.4444444444444444,
              "#bd3786"
             ],
             [
              0.5555555555555556,
              "#d8576b"
             ],
             [
              0.6666666666666666,
              "#ed7953"
             ],
             [
              0.7777777777777778,
              "#fb9f3a"
             ],
             [
              0.8888888888888888,
              "#fdca26"
             ],
             [
              1,
              "#f0f921"
             ]
            ],
            "type": "histogram2d"
           }
          ],
          "histogram2dcontour": [
           {
            "colorbar": {
             "outlinewidth": 0,
             "ticks": ""
            },
            "colorscale": [
             [
              0,
              "#0d0887"
             ],
             [
              0.1111111111111111,
              "#46039f"
             ],
             [
              0.2222222222222222,
              "#7201a8"
             ],
             [
              0.3333333333333333,
              "#9c179e"
             ],
             [
              0.4444444444444444,
              "#bd3786"
             ],
             [
              0.5555555555555556,
              "#d8576b"
             ],
             [
              0.6666666666666666,
              "#ed7953"
             ],
             [
              0.7777777777777778,
              "#fb9f3a"
             ],
             [
              0.8888888888888888,
              "#fdca26"
             ],
             [
              1,
              "#f0f921"
             ]
            ],
            "type": "histogram2dcontour"
           }
          ],
          "mesh3d": [
           {
            "colorbar": {
             "outlinewidth": 0,
             "ticks": ""
            },
            "type": "mesh3d"
           }
          ],
          "parcoords": [
           {
            "line": {
             "colorbar": {
              "outlinewidth": 0,
              "ticks": ""
             }
            },
            "type": "parcoords"
           }
          ],
          "pie": [
           {
            "automargin": true,
            "type": "pie"
           }
          ],
          "scatter": [
           {
            "fillpattern": {
             "fillmode": "overlay",
             "size": 10,
             "solidity": 0.2
            },
            "type": "scatter"
           }
          ],
          "scatter3d": [
           {
            "line": {
             "colorbar": {
              "outlinewidth": 0,
              "ticks": ""
             }
            },
            "marker": {
             "colorbar": {
              "outlinewidth": 0,
              "ticks": ""
             }
            },
            "type": "scatter3d"
           }
          ],
          "scattercarpet": [
           {
            "marker": {
             "colorbar": {
              "outlinewidth": 0,
              "ticks": ""
             }
            },
            "type": "scattercarpet"
           }
          ],
          "scattergeo": [
           {
            "marker": {
             "colorbar": {
              "outlinewidth": 0,
              "ticks": ""
             }
            },
            "type": "scattergeo"
           }
          ],
          "scattergl": [
           {
            "marker": {
             "colorbar": {
              "outlinewidth": 0,
              "ticks": ""
             }
            },
            "type": "scattergl"
           }
          ],
          "scattermap": [
           {
            "marker": {
             "colorbar": {
              "outlinewidth": 0,
              "ticks": ""
             }
            },
            "type": "scattermap"
           }
          ],
          "scattermapbox": [
           {
            "marker": {
             "colorbar": {
              "outlinewidth": 0,
              "ticks": ""
             }
            },
            "type": "scattermapbox"
           }
          ],
          "scatterpolar": [
           {
            "marker": {
             "colorbar": {
              "outlinewidth": 0,
              "ticks": ""
             }
            },
            "type": "scatterpolar"
           }
          ],
          "scatterpolargl": [
           {
            "marker": {
             "colorbar": {
              "outlinewidth": 0,
              "ticks": ""
             }
            },
            "type": "scatterpolargl"
           }
          ],
          "scatterternary": [
           {
            "marker": {
             "colorbar": {
              "outlinewidth": 0,
              "ticks": ""
             }
            },
            "type": "scatterternary"
           }
          ],
          "surface": [
           {
            "colorbar": {
             "outlinewidth": 0,
             "ticks": ""
            },
            "colorscale": [
             [
              0,
              "#0d0887"
             ],
             [
              0.1111111111111111,
              "#46039f"
             ],
             [
              0.2222222222222222,
              "#7201a8"
             ],
             [
              0.3333333333333333,
              "#9c179e"
             ],
             [
              0.4444444444444444,
              "#bd3786"
             ],
             [
              0.5555555555555556,
              "#d8576b"
             ],
             [
              0.6666666666666666,
              "#ed7953"
             ],
             [
              0.7777777777777778,
              "#fb9f3a"
             ],
             [
              0.8888888888888888,
              "#fdca26"
             ],
             [
              1,
              "#f0f921"
             ]
            ],
            "type": "surface"
           }
          ],
          "table": [
           {
            "cells": {
             "fill": {
              "color": "#EBF0F8"
             },
             "line": {
              "color": "white"
             }
            },
            "header": {
             "fill": {
              "color": "#C8D4E3"
             },
             "line": {
              "color": "white"
             }
            },
            "type": "table"
           }
          ]
         },
         "layout": {
          "annotationdefaults": {
           "arrowcolor": "#2a3f5f",
           "arrowhead": 0,
           "arrowwidth": 1
          },
          "autotypenumbers": "strict",
          "coloraxis": {
           "colorbar": {
            "outlinewidth": 0,
            "ticks": ""
           }
          },
          "colorscale": {
           "diverging": [
            [
             0,
             "#8e0152"
            ],
            [
             0.1,
             "#c51b7d"
            ],
            [
             0.2,
             "#de77ae"
            ],
            [
             0.3,
             "#f1b6da"
            ],
            [
             0.4,
             "#fde0ef"
            ],
            [
             0.5,
             "#f7f7f7"
            ],
            [
             0.6,
             "#e6f5d0"
            ],
            [
             0.7,
             "#b8e186"
            ],
            [
             0.8,
             "#7fbc41"
            ],
            [
             0.9,
             "#4d9221"
            ],
            [
             1,
             "#276419"
            ]
           ],
           "sequential": [
            [
             0,
             "#0d0887"
            ],
            [
             0.1111111111111111,
             "#46039f"
            ],
            [
             0.2222222222222222,
             "#7201a8"
            ],
            [
             0.3333333333333333,
             "#9c179e"
            ],
            [
             0.4444444444444444,
             "#bd3786"
            ],
            [
             0.5555555555555556,
             "#d8576b"
            ],
            [
             0.6666666666666666,
             "#ed7953"
            ],
            [
             0.7777777777777778,
             "#fb9f3a"
            ],
            [
             0.8888888888888888,
             "#fdca26"
            ],
            [
             1,
             "#f0f921"
            ]
           ],
           "sequentialminus": [
            [
             0,
             "#0d0887"
            ],
            [
             0.1111111111111111,
             "#46039f"
            ],
            [
             0.2222222222222222,
             "#7201a8"
            ],
            [
             0.3333333333333333,
             "#9c179e"
            ],
            [
             0.4444444444444444,
             "#bd3786"
            ],
            [
             0.5555555555555556,
             "#d8576b"
            ],
            [
             0.6666666666666666,
             "#ed7953"
            ],
            [
             0.7777777777777778,
             "#fb9f3a"
            ],
            [
             0.8888888888888888,
             "#fdca26"
            ],
            [
             1,
             "#f0f921"
            ]
           ]
          },
          "colorway": [
           "#636efa",
           "#EF553B",
           "#00cc96",
           "#ab63fa",
           "#FFA15A",
           "#19d3f3",
           "#FF6692",
           "#B6E880",
           "#FF97FF",
           "#FECB52"
          ],
          "font": {
           "color": "#2a3f5f"
          },
          "geo": {
           "bgcolor": "white",
           "lakecolor": "white",
           "landcolor": "#E5ECF6",
           "showlakes": true,
           "showland": true,
           "subunitcolor": "white"
          },
          "hoverlabel": {
           "align": "left"
          },
          "hovermode": "closest",
          "mapbox": {
           "style": "light"
          },
          "paper_bgcolor": "white",
          "plot_bgcolor": "#E5ECF6",
          "polar": {
           "angularaxis": {
            "gridcolor": "white",
            "linecolor": "white",
            "ticks": ""
           },
           "bgcolor": "#E5ECF6",
           "radialaxis": {
            "gridcolor": "white",
            "linecolor": "white",
            "ticks": ""
           }
          },
          "scene": {
           "xaxis": {
            "backgroundcolor": "#E5ECF6",
            "gridcolor": "white",
            "gridwidth": 2,
            "linecolor": "white",
            "showbackground": true,
            "ticks": "",
            "zerolinecolor": "white"
           },
           "yaxis": {
            "backgroundcolor": "#E5ECF6",
            "gridcolor": "white",
            "gridwidth": 2,
            "linecolor": "white",
            "showbackground": true,
            "ticks": "",
            "zerolinecolor": "white"
           },
           "zaxis": {
            "backgroundcolor": "#E5ECF6",
            "gridcolor": "white",
            "gridwidth": 2,
            "linecolor": "white",
            "showbackground": true,
            "ticks": "",
            "zerolinecolor": "white"
           }
          },
          "shapedefaults": {
           "line": {
            "color": "#2a3f5f"
           }
          },
          "ternary": {
           "aaxis": {
            "gridcolor": "white",
            "linecolor": "white",
            "ticks": ""
           },
           "baxis": {
            "gridcolor": "white",
            "linecolor": "white",
            "ticks": ""
           },
           "bgcolor": "#E5ECF6",
           "caxis": {
            "gridcolor": "white",
            "linecolor": "white",
            "ticks": ""
           }
          },
          "title": {
           "x": 0.05
          },
          "xaxis": {
           "automargin": true,
           "gridcolor": "white",
           "linecolor": "white",
           "ticks": "",
           "title": {
            "standoff": 15
           },
           "zerolinecolor": "white",
           "zerolinewidth": 2
          },
          "yaxis": {
           "automargin": true,
           "gridcolor": "white",
           "linecolor": "white",
           "ticks": "",
           "title": {
            "standoff": 15
           },
           "zerolinecolor": "white",
           "zerolinewidth": 2
          }
         }
        },
        "xaxis": {
         "anchor": "y",
         "domain": [
          0,
          1
         ],
         "title": {
          "text": "value"
         }
        },
        "yaxis": {
         "anchor": "x",
         "domain": [
          0,
          1
         ],
         "title": {
          "text": "count"
         }
        }
       }
      }
     },
     "metadata": {},
     "output_type": "display_data"
    }
   ],
   "source": [
    "px.histogram(sample_df.groupby(args.item_col).size())"
   ]
  },
  {
   "cell_type": "code",
   "execution_count": 108,
   "metadata": {},
   "outputs": [
    {
     "data": {
      "text/html": [
       "<div>\n",
       "<style scoped>\n",
       "    .dataframe tbody tr th:only-of-type {\n",
       "        vertical-align: middle;\n",
       "    }\n",
       "\n",
       "    .dataframe tbody tr th {\n",
       "        vertical-align: top;\n",
       "    }\n",
       "\n",
       "    .dataframe thead th {\n",
       "        text-align: right;\n",
       "    }\n",
       "</style>\n",
       "<table border=\"1\" class=\"dataframe\">\n",
       "  <thead>\n",
       "    <tr style=\"text-align: right;\">\n",
       "      <th></th>\n",
       "      <th>user_id</th>\n",
       "      <th>parent_asin</th>\n",
       "      <th>rating</th>\n",
       "      <th>timestamp</th>\n",
       "    </tr>\n",
       "  </thead>\n",
       "  <tbody>\n",
       "    <tr>\n",
       "      <th>3194</th>\n",
       "      <td>AEYGPUCRKH7G4VM22FM3VAKSQ23Q</td>\n",
       "      <td>B06XKCPK5W</td>\n",
       "      <td>2.0</td>\n",
       "      <td>2012-06-11 16:41:10</td>\n",
       "    </tr>\n",
       "    <tr>\n",
       "      <th>3199</th>\n",
       "      <td>AEYGPUCRKH7G4VM22FM3VAKSQ23Q</td>\n",
       "      <td>B000CKVOOY</td>\n",
       "      <td>3.0</td>\n",
       "      <td>2012-08-02 02:04:13</td>\n",
       "    </tr>\n",
       "    <tr>\n",
       "      <th>3200</th>\n",
       "      <td>AEYGPUCRKH7G4VM22FM3VAKSQ23Q</td>\n",
       "      <td>B006GWO5WK</td>\n",
       "      <td>5.0</td>\n",
       "      <td>2012-09-15 16:34:46</td>\n",
       "    </tr>\n",
       "    <tr>\n",
       "      <th>3204</th>\n",
       "      <td>AEYGPUCRKH7G4VM22FM3VAKSQ23Q</td>\n",
       "      <td>B008LURQ76</td>\n",
       "      <td>5.0</td>\n",
       "      <td>2013-01-03 23:08:45</td>\n",
       "    </tr>\n",
       "    <tr>\n",
       "      <th>3208</th>\n",
       "      <td>AEYGPUCRKH7G4VM22FM3VAKSQ23Q</td>\n",
       "      <td>B00AQRUW4Q</td>\n",
       "      <td>4.0</td>\n",
       "      <td>2013-05-06 01:24:39</td>\n",
       "    </tr>\n",
       "    <tr>\n",
       "      <th>...</th>\n",
       "      <td>...</td>\n",
       "      <td>...</td>\n",
       "      <td>...</td>\n",
       "      <td>...</td>\n",
       "    </tr>\n",
       "    <tr>\n",
       "      <th>40882304</th>\n",
       "      <td>AFB4DWWKZBQFS22FAWDEP37EL2FA</td>\n",
       "      <td>B00KAF5RQ2</td>\n",
       "      <td>5.0</td>\n",
       "      <td>2016-02-22 17:44:10</td>\n",
       "    </tr>\n",
       "    <tr>\n",
       "      <th>40882305</th>\n",
       "      <td>AFB4DWWKZBQFS22FAWDEP37EL2FA</td>\n",
       "      <td>B001F6TXME</td>\n",
       "      <td>5.0</td>\n",
       "      <td>2016-02-22 17:44:40</td>\n",
       "    </tr>\n",
       "    <tr>\n",
       "      <th>40882306</th>\n",
       "      <td>AFB4DWWKZBQFS22FAWDEP37EL2FA</td>\n",
       "      <td>B007VGGIB6</td>\n",
       "      <td>5.0</td>\n",
       "      <td>2016-02-22 17:45:10</td>\n",
       "    </tr>\n",
       "    <tr>\n",
       "      <th>40882307</th>\n",
       "      <td>AFB4DWWKZBQFS22FAWDEP37EL2FA</td>\n",
       "      <td>B00WUID73W</td>\n",
       "      <td>5.0</td>\n",
       "      <td>2016-02-22 17:45:37</td>\n",
       "    </tr>\n",
       "    <tr>\n",
       "      <th>40882310</th>\n",
       "      <td>AFB4DWWKZBQFS22FAWDEP37EL2FA</td>\n",
       "      <td>B00SFSU53G</td>\n",
       "      <td>5.0</td>\n",
       "      <td>2016-07-15 00:58:19</td>\n",
       "    </tr>\n",
       "  </tbody>\n",
       "</table>\n",
       "<p>127392 rows × 4 columns</p>\n",
       "</div>"
      ],
      "text/plain": [
       "                               user_id parent_asin  rating           timestamp\n",
       "3194      AEYGPUCRKH7G4VM22FM3VAKSQ23Q  B06XKCPK5W     2.0 2012-06-11 16:41:10\n",
       "3199      AEYGPUCRKH7G4VM22FM3VAKSQ23Q  B000CKVOOY     3.0 2012-08-02 02:04:13\n",
       "3200      AEYGPUCRKH7G4VM22FM3VAKSQ23Q  B006GWO5WK     5.0 2012-09-15 16:34:46\n",
       "3204      AEYGPUCRKH7G4VM22FM3VAKSQ23Q  B008LURQ76     5.0 2013-01-03 23:08:45\n",
       "3208      AEYGPUCRKH7G4VM22FM3VAKSQ23Q  B00AQRUW4Q     4.0 2013-05-06 01:24:39\n",
       "...                                ...         ...     ...                 ...\n",
       "40882304  AFB4DWWKZBQFS22FAWDEP37EL2FA  B00KAF5RQ2     5.0 2016-02-22 17:44:10\n",
       "40882305  AFB4DWWKZBQFS22FAWDEP37EL2FA  B001F6TXME     5.0 2016-02-22 17:44:40\n",
       "40882306  AFB4DWWKZBQFS22FAWDEP37EL2FA  B007VGGIB6     5.0 2016-02-22 17:45:10\n",
       "40882307  AFB4DWWKZBQFS22FAWDEP37EL2FA  B00WUID73W     5.0 2016-02-22 17:45:37\n",
       "40882310  AFB4DWWKZBQFS22FAWDEP37EL2FA  B00SFSU53G     5.0 2016-07-15 00:58:19\n",
       "\n",
       "[127392 rows x 4 columns]"
      ]
     },
     "execution_count": 108,
     "metadata": {},
     "output_type": "execute_result"
    }
   ],
   "source": [
    "sample_df"
   ]
  },
  {
   "cell_type": "code",
   "execution_count": 109,
   "metadata": {},
   "outputs": [
    {
     "data": {
      "text/html": [
       "<div>\n",
       "<style scoped>\n",
       "    .dataframe tbody tr th:only-of-type {\n",
       "        vertical-align: middle;\n",
       "    }\n",
       "\n",
       "    .dataframe tbody tr th {\n",
       "        vertical-align: top;\n",
       "    }\n",
       "\n",
       "    .dataframe thead th {\n",
       "        text-align: right;\n",
       "    }\n",
       "</style>\n",
       "<table border=\"1\" class=\"dataframe\">\n",
       "  <thead>\n",
       "    <tr style=\"text-align: right;\">\n",
       "      <th></th>\n",
       "      <th>user_id</th>\n",
       "      <th>parent_asin</th>\n",
       "      <th>rating</th>\n",
       "      <th>timestamp</th>\n",
       "    </tr>\n",
       "  </thead>\n",
       "  <tbody>\n",
       "    <tr>\n",
       "      <th>4668</th>\n",
       "      <td>AGZE3IYHOEGKUTJZSQCSFSQ4IFFQ</td>\n",
       "      <td>B0B787CN26</td>\n",
       "      <td>5.0</td>\n",
       "      <td>2021-10-27 19:43:57.873</td>\n",
       "    </tr>\n",
       "    <tr>\n",
       "      <th>10425</th>\n",
       "      <td>AEANO5BIASSZNFWNXBR2ECHCPJQQ</td>\n",
       "      <td>B0002MQGOA</td>\n",
       "      <td>5.0</td>\n",
       "      <td>2021-02-02 14:20:48.424</td>\n",
       "    </tr>\n",
       "    <tr>\n",
       "      <th>10426</th>\n",
       "      <td>AEANO5BIASSZNFWNXBR2ECHCPJQQ</td>\n",
       "      <td>B07HZLHPKP</td>\n",
       "      <td>5.0</td>\n",
       "      <td>2021-03-08 13:56:57.795</td>\n",
       "    </tr>\n",
       "    <tr>\n",
       "      <th>13265</th>\n",
       "      <td>AHDXCFTV7RS3AM6E2TRPWOG3A33Q</td>\n",
       "      <td>B07QWPVZJY</td>\n",
       "      <td>3.0</td>\n",
       "      <td>2021-12-11 00:34:19.152</td>\n",
       "    </tr>\n",
       "    <tr>\n",
       "      <th>14423</th>\n",
       "      <td>AEFHRRLFCZQ3TWNYCBA7UD3NIXCA</td>\n",
       "      <td>B00D96J8IM</td>\n",
       "      <td>1.0</td>\n",
       "      <td>2021-10-17 20:54:19.325</td>\n",
       "    </tr>\n",
       "    <tr>\n",
       "      <th>...</th>\n",
       "      <td>...</td>\n",
       "      <td>...</td>\n",
       "      <td>...</td>\n",
       "      <td>...</td>\n",
       "    </tr>\n",
       "    <tr>\n",
       "      <th>33760091</th>\n",
       "      <td>AHIIISHZP6YAVVHMDEBLJ5CWZ7ZA</td>\n",
       "      <td>B0BZ62FQ13</td>\n",
       "      <td>3.0</td>\n",
       "      <td>2021-07-16 17:08:55.044</td>\n",
       "    </tr>\n",
       "    <tr>\n",
       "      <th>34470392</th>\n",
       "      <td>AFTE3G43QHXWD3DJGDCI2DHEWQJQ</td>\n",
       "      <td>B08DMXDPW5</td>\n",
       "      <td>5.0</td>\n",
       "      <td>2021-01-14 01:48:09.423</td>\n",
       "    </tr>\n",
       "    <tr>\n",
       "      <th>35019360</th>\n",
       "      <td>AFENZZDPVUYFVBS47YDOWJCDYBSQ</td>\n",
       "      <td>B09XBT6DS9</td>\n",
       "      <td>4.0</td>\n",
       "      <td>2021-12-05 00:35:40.874</td>\n",
       "    </tr>\n",
       "    <tr>\n",
       "      <th>35323250</th>\n",
       "      <td>AFMBZYPDAXT5VO3ME67HW5Q5TAOQ</td>\n",
       "      <td>B097KBF8JK</td>\n",
       "      <td>5.0</td>\n",
       "      <td>2022-02-18 11:32:46.732</td>\n",
       "    </tr>\n",
       "    <tr>\n",
       "      <th>36341797</th>\n",
       "      <td>AEMSEOMPBE6KWOZWCX4VE4E2E7HQ</td>\n",
       "      <td>B00FB45USW</td>\n",
       "      <td>5.0</td>\n",
       "      <td>2021-08-12 00:42:48.843</td>\n",
       "    </tr>\n",
       "  </tbody>\n",
       "</table>\n",
       "<p>3479 rows × 4 columns</p>\n",
       "</div>"
      ],
      "text/plain": [
       "                               user_id parent_asin  rating  \\\n",
       "4668      AGZE3IYHOEGKUTJZSQCSFSQ4IFFQ  B0B787CN26     5.0   \n",
       "10425     AEANO5BIASSZNFWNXBR2ECHCPJQQ  B0002MQGOA     5.0   \n",
       "10426     AEANO5BIASSZNFWNXBR2ECHCPJQQ  B07HZLHPKP     5.0   \n",
       "13265     AHDXCFTV7RS3AM6E2TRPWOG3A33Q  B07QWPVZJY     3.0   \n",
       "14423     AEFHRRLFCZQ3TWNYCBA7UD3NIXCA  B00D96J8IM     1.0   \n",
       "...                                ...         ...     ...   \n",
       "33760091  AHIIISHZP6YAVVHMDEBLJ5CWZ7ZA  B0BZ62FQ13     3.0   \n",
       "34470392  AFTE3G43QHXWD3DJGDCI2DHEWQJQ  B08DMXDPW5     5.0   \n",
       "35019360  AFENZZDPVUYFVBS47YDOWJCDYBSQ  B09XBT6DS9     4.0   \n",
       "35323250  AFMBZYPDAXT5VO3ME67HW5Q5TAOQ  B097KBF8JK     5.0   \n",
       "36341797  AEMSEOMPBE6KWOZWCX4VE4E2E7HQ  B00FB45USW     5.0   \n",
       "\n",
       "                       timestamp  \n",
       "4668     2021-10-27 19:43:57.873  \n",
       "10425    2021-02-02 14:20:48.424  \n",
       "10426    2021-03-08 13:56:57.795  \n",
       "13265    2021-12-11 00:34:19.152  \n",
       "14423    2021-10-17 20:54:19.325  \n",
       "...                          ...  \n",
       "33760091 2021-07-16 17:08:55.044  \n",
       "34470392 2021-01-14 01:48:09.423  \n",
       "35019360 2021-12-05 00:35:40.874  \n",
       "35323250 2022-02-18 11:32:46.732  \n",
       "36341797 2021-08-12 00:42:48.843  \n",
       "\n",
       "[3479 rows x 4 columns]"
      ]
     },
     "execution_count": 109,
     "metadata": {},
     "output_type": "execute_result"
    }
   ],
   "source": [
    "val_sample_df"
   ]
  },
  {
   "cell_type": "code",
   "execution_count": 110,
   "metadata": {},
   "outputs": [
    {
     "data": {
      "text/html": [
       "<div>\n",
       "<style scoped>\n",
       "    .dataframe tbody tr th:only-of-type {\n",
       "        vertical-align: middle;\n",
       "    }\n",
       "\n",
       "    .dataframe tbody tr th {\n",
       "        vertical-align: top;\n",
       "    }\n",
       "\n",
       "    .dataframe thead th {\n",
       "        text-align: right;\n",
       "    }\n",
       "</style>\n",
       "<table border=\"1\" class=\"dataframe\">\n",
       "  <thead>\n",
       "    <tr style=\"text-align: right;\">\n",
       "      <th></th>\n",
       "      <th>user_id</th>\n",
       "      <th>parent_asin</th>\n",
       "      <th>rating</th>\n",
       "      <th>timestamp</th>\n",
       "    </tr>\n",
       "  </thead>\n",
       "  <tbody>\n",
       "    <tr>\n",
       "      <th>13270</th>\n",
       "      <td>AHDXCFTV7RS3AM6E2TRPWOG3A33Q</td>\n",
       "      <td>B0BHMVBV9M</td>\n",
       "      <td>2.0</td>\n",
       "      <td>2022-08-27 16:17:48.228</td>\n",
       "    </tr>\n",
       "    <tr>\n",
       "      <th>13271</th>\n",
       "      <td>AHDXCFTV7RS3AM6E2TRPWOG3A33Q</td>\n",
       "      <td>B08F1P3BCC</td>\n",
       "      <td>4.0</td>\n",
       "      <td>2023-01-16 04:19:10.669</td>\n",
       "    </tr>\n",
       "    <tr>\n",
       "      <th>29821</th>\n",
       "      <td>AHZ6GFHFM6Z7CRPSXRIYQ5Z7GERQ</td>\n",
       "      <td>B08YF1VBYD</td>\n",
       "      <td>4.0</td>\n",
       "      <td>2022-05-28 18:44:43.983</td>\n",
       "    </tr>\n",
       "    <tr>\n",
       "      <th>38367</th>\n",
       "      <td>AHAI4X3YAVRMXXUR6USAT5L5WG3A</td>\n",
       "      <td>B0BMK6DC5W</td>\n",
       "      <td>1.0</td>\n",
       "      <td>2022-09-16 13:15:24.402</td>\n",
       "    </tr>\n",
       "    <tr>\n",
       "      <th>41950</th>\n",
       "      <td>AGBF2BZRN6M65YBFZCF54ENDRRAA</td>\n",
       "      <td>B0BM73T3K6</td>\n",
       "      <td>5.0</td>\n",
       "      <td>2022-08-26 12:13:41.632</td>\n",
       "    </tr>\n",
       "    <tr>\n",
       "      <th>...</th>\n",
       "      <td>...</td>\n",
       "      <td>...</td>\n",
       "      <td>...</td>\n",
       "      <td>...</td>\n",
       "    </tr>\n",
       "    <tr>\n",
       "      <th>33756582</th>\n",
       "      <td>AEUXNGJ4HXZXHHU5OF3BPR6ZCLNQ</td>\n",
       "      <td>B0BHGRJDCK</td>\n",
       "      <td>5.0</td>\n",
       "      <td>2022-04-18 15:02:10.839</td>\n",
       "    </tr>\n",
       "    <tr>\n",
       "      <th>33756584</th>\n",
       "      <td>AEUXNGJ4HXZXHHU5OF3BPR6ZCLNQ</td>\n",
       "      <td>B08CKZ36N7</td>\n",
       "      <td>5.0</td>\n",
       "      <td>2023-01-28 23:46:05.518</td>\n",
       "    </tr>\n",
       "    <tr>\n",
       "      <th>35019361</th>\n",
       "      <td>AFENZZDPVUYFVBS47YDOWJCDYBSQ</td>\n",
       "      <td>B09PRD4T26</td>\n",
       "      <td>5.0</td>\n",
       "      <td>2023-03-13 00:48:18.717</td>\n",
       "    </tr>\n",
       "    <tr>\n",
       "      <th>35323251</th>\n",
       "      <td>AFMBZYPDAXT5VO3ME67HW5Q5TAOQ</td>\n",
       "      <td>B09PB85B9K</td>\n",
       "      <td>5.0</td>\n",
       "      <td>2022-07-05 23:12:38.472</td>\n",
       "    </tr>\n",
       "    <tr>\n",
       "      <th>35914658</th>\n",
       "      <td>AFGAI7HTUHW5ZEYMKJLFBOFZWZSQ</td>\n",
       "      <td>B00F0H8TOC</td>\n",
       "      <td>5.0</td>\n",
       "      <td>2022-05-31 01:21:50.584</td>\n",
       "    </tr>\n",
       "  </tbody>\n",
       "</table>\n",
       "<p>1822 rows × 4 columns</p>\n",
       "</div>"
      ],
      "text/plain": [
       "                               user_id parent_asin  rating  \\\n",
       "13270     AHDXCFTV7RS3AM6E2TRPWOG3A33Q  B0BHMVBV9M     2.0   \n",
       "13271     AHDXCFTV7RS3AM6E2TRPWOG3A33Q  B08F1P3BCC     4.0   \n",
       "29821     AHZ6GFHFM6Z7CRPSXRIYQ5Z7GERQ  B08YF1VBYD     4.0   \n",
       "38367     AHAI4X3YAVRMXXUR6USAT5L5WG3A  B0BMK6DC5W     1.0   \n",
       "41950     AGBF2BZRN6M65YBFZCF54ENDRRAA  B0BM73T3K6     5.0   \n",
       "...                                ...         ...     ...   \n",
       "33756582  AEUXNGJ4HXZXHHU5OF3BPR6ZCLNQ  B0BHGRJDCK     5.0   \n",
       "33756584  AEUXNGJ4HXZXHHU5OF3BPR6ZCLNQ  B08CKZ36N7     5.0   \n",
       "35019361  AFENZZDPVUYFVBS47YDOWJCDYBSQ  B09PRD4T26     5.0   \n",
       "35323251  AFMBZYPDAXT5VO3ME67HW5Q5TAOQ  B09PB85B9K     5.0   \n",
       "35914658  AFGAI7HTUHW5ZEYMKJLFBOFZWZSQ  B00F0H8TOC     5.0   \n",
       "\n",
       "                       timestamp  \n",
       "13270    2022-08-27 16:17:48.228  \n",
       "13271    2023-01-16 04:19:10.669  \n",
       "29821    2022-05-28 18:44:43.983  \n",
       "38367    2022-09-16 13:15:24.402  \n",
       "41950    2022-08-26 12:13:41.632  \n",
       "...                          ...  \n",
       "33756582 2022-04-18 15:02:10.839  \n",
       "33756584 2023-01-28 23:46:05.518  \n",
       "35019361 2023-03-13 00:48:18.717  \n",
       "35323251 2022-07-05 23:12:38.472  \n",
       "35914658 2022-05-31 01:21:50.584  \n",
       "\n",
       "[1822 rows x 4 columns]"
      ]
     },
     "execution_count": 110,
     "metadata": {},
     "output_type": "execute_result"
    }
   ],
   "source": [
    "test_sample_df"
   ]
  },
  {
   "cell_type": "code",
   "execution_count": 111,
   "metadata": {},
   "outputs": [],
   "source": [
    "subsets = [\"train\", \"val\", \"test\"]\n",
    "original_length = {\"train\": train_df.shape[0], \"val\": val_df.shape[0], \"test\": test_df.shape[0]}\n",
    "sampled_length = {\"train\": sample_df.shape[0], \"val\": val_sample_df.shape[0], \"test\": test_sample_df.shape[0]}\n"
   ]
  },
  {
   "cell_type": "code",
   "execution_count": 112,
   "metadata": {},
   "outputs": [
    {
     "data": {
      "text/plain": [
       "{'train': 13043980, 'val': 1375948, 'test': 749578}"
      ]
     },
     "execution_count": 112,
     "metadata": {},
     "output_type": "execute_result"
    }
   ],
   "source": [
    "original_length"
   ]
  },
  {
   "cell_type": "code",
   "execution_count": 113,
   "metadata": {},
   "outputs": [
    {
     "data": {
      "text/plain": [
       "{'train': 127392, 'val': 3479, 'test': 1822}"
      ]
     },
     "execution_count": 113,
     "metadata": {},
     "output_type": "execute_result"
    }
   ],
   "source": [
    "sampled_length"
   ]
  },
  {
   "cell_type": "code",
   "execution_count": 114,
   "metadata": {},
   "outputs": [
    {
     "data": {
      "application/vnd.plotly.v1+json": {
       "config": {
        "plotlyServerURL": "https://plot.ly"
       },
       "data": [
        {
         "marker": {
          "color": "lightblue"
         },
         "name": "original",
         "showlegend": true,
         "texttemplate": "%{y:.2}",
         "type": "bar",
         "x": [
          "train"
         ],
         "xaxis": "x",
         "y": [
          13043980
         ],
         "yaxis": "y"
        },
        {
         "marker": {
          "color": "lightgreen"
         },
         "name": "sample",
         "showlegend": true,
         "texttemplate": "%{y:.2}",
         "type": "bar",
         "x": [
          "train"
         ],
         "xaxis": "x",
         "y": [
          127392
         ],
         "yaxis": "y"
        },
        {
         "marker": {
          "color": "lightblue"
         },
         "name": "original",
         "showlegend": false,
         "texttemplate": "%{y:.2}",
         "type": "bar",
         "x": [
          "val"
         ],
         "xaxis": "x2",
         "y": [
          1375948
         ],
         "yaxis": "y2"
        },
        {
         "marker": {
          "color": "lightgreen"
         },
         "name": "sample",
         "showlegend": false,
         "texttemplate": "%{y:.2}",
         "type": "bar",
         "x": [
          "val"
         ],
         "xaxis": "x2",
         "y": [
          3479
         ],
         "yaxis": "y2"
        },
        {
         "marker": {
          "color": "lightblue"
         },
         "name": "original",
         "showlegend": false,
         "texttemplate": "%{y:.2}",
         "type": "bar",
         "x": [
          "test"
         ],
         "xaxis": "x3",
         "y": [
          749578
         ],
         "yaxis": "y3"
        },
        {
         "marker": {
          "color": "lightgreen"
         },
         "name": "sample",
         "showlegend": false,
         "texttemplate": "%{y:.2}",
         "type": "bar",
         "x": [
          "test"
         ],
         "xaxis": "x3",
         "y": [
          1822
         ],
         "yaxis": "y3"
        }
       ],
       "layout": {
        "annotations": [
         {
          "font": {
           "color": "black",
           "size": 14
          },
          "showarrow": false,
          "text": "Δ=-99.02%",
          "x": "train",
          "xref": "x",
          "y": 140131.2,
          "yref": "y"
         },
         {
          "font": {
           "color": "black",
           "size": 14
          },
          "showarrow": false,
          "text": "Δ=-99.75%",
          "x": "val",
          "xref": "x2",
          "y": 3826.9,
          "yref": "y2"
         },
         {
          "font": {
           "color": "black",
           "size": 14
          },
          "showarrow": false,
          "text": "Δ=-99.76%",
          "x": "test",
          "xref": "x3",
          "y": 2004.2000000000003,
          "yref": "y3"
         }
        ],
        "showlegend": true,
        "template": {
         "data": {
          "bar": [
           {
            "error_x": {
             "color": "#2a3f5f"
            },
            "error_y": {
             "color": "#2a3f5f"
            },
            "marker": {
             "line": {
              "color": "#E5ECF6",
              "width": 0.5
             },
             "pattern": {
              "fillmode": "overlay",
              "size": 10,
              "solidity": 0.2
             }
            },
            "type": "bar"
           }
          ],
          "barpolar": [
           {
            "marker": {
             "line": {
              "color": "#E5ECF6",
              "width": 0.5
             },
             "pattern": {
              "fillmode": "overlay",
              "size": 10,
              "solidity": 0.2
             }
            },
            "type": "barpolar"
           }
          ],
          "carpet": [
           {
            "aaxis": {
             "endlinecolor": "#2a3f5f",
             "gridcolor": "white",
             "linecolor": "white",
             "minorgridcolor": "white",
             "startlinecolor": "#2a3f5f"
            },
            "baxis": {
             "endlinecolor": "#2a3f5f",
             "gridcolor": "white",
             "linecolor": "white",
             "minorgridcolor": "white",
             "startlinecolor": "#2a3f5f"
            },
            "type": "carpet"
           }
          ],
          "choropleth": [
           {
            "colorbar": {
             "outlinewidth": 0,
             "ticks": ""
            },
            "type": "choropleth"
           }
          ],
          "contour": [
           {
            "colorbar": {
             "outlinewidth": 0,
             "ticks": ""
            },
            "colorscale": [
             [
              0,
              "#0d0887"
             ],
             [
              0.1111111111111111,
              "#46039f"
             ],
             [
              0.2222222222222222,
              "#7201a8"
             ],
             [
              0.3333333333333333,
              "#9c179e"
             ],
             [
              0.4444444444444444,
              "#bd3786"
             ],
             [
              0.5555555555555556,
              "#d8576b"
             ],
             [
              0.6666666666666666,
              "#ed7953"
             ],
             [
              0.7777777777777778,
              "#fb9f3a"
             ],
             [
              0.8888888888888888,
              "#fdca26"
             ],
             [
              1,
              "#f0f921"
             ]
            ],
            "type": "contour"
           }
          ],
          "contourcarpet": [
           {
            "colorbar": {
             "outlinewidth": 0,
             "ticks": ""
            },
            "type": "contourcarpet"
           }
          ],
          "heatmap": [
           {
            "colorbar": {
             "outlinewidth": 0,
             "ticks": ""
            },
            "colorscale": [
             [
              0,
              "#0d0887"
             ],
             [
              0.1111111111111111,
              "#46039f"
             ],
             [
              0.2222222222222222,
              "#7201a8"
             ],
             [
              0.3333333333333333,
              "#9c179e"
             ],
             [
              0.4444444444444444,
              "#bd3786"
             ],
             [
              0.5555555555555556,
              "#d8576b"
             ],
             [
              0.6666666666666666,
              "#ed7953"
             ],
             [
              0.7777777777777778,
              "#fb9f3a"
             ],
             [
              0.8888888888888888,
              "#fdca26"
             ],
             [
              1,
              "#f0f921"
             ]
            ],
            "type": "heatmap"
           }
          ],
          "histogram": [
           {
            "marker": {
             "pattern": {
              "fillmode": "overlay",
              "size": 10,
              "solidity": 0.2
             }
            },
            "type": "histogram"
           }
          ],
          "histogram2d": [
           {
            "colorbar": {
             "outlinewidth": 0,
             "ticks": ""
            },
            "colorscale": [
             [
              0,
              "#0d0887"
             ],
             [
              0.1111111111111111,
              "#46039f"
             ],
             [
              0.2222222222222222,
              "#7201a8"
             ],
             [
              0.3333333333333333,
              "#9c179e"
             ],
             [
              0.4444444444444444,
              "#bd3786"
             ],
             [
              0.5555555555555556,
              "#d8576b"
             ],
             [
              0.6666666666666666,
              "#ed7953"
             ],
             [
              0.7777777777777778,
              "#fb9f3a"
             ],
             [
              0.8888888888888888,
              "#fdca26"
             ],
             [
              1,
              "#f0f921"
             ]
            ],
            "type": "histogram2d"
           }
          ],
          "histogram2dcontour": [
           {
            "colorbar": {
             "outlinewidth": 0,
             "ticks": ""
            },
            "colorscale": [
             [
              0,
              "#0d0887"
             ],
             [
              0.1111111111111111,
              "#46039f"
             ],
             [
              0.2222222222222222,
              "#7201a8"
             ],
             [
              0.3333333333333333,
              "#9c179e"
             ],
             [
              0.4444444444444444,
              "#bd3786"
             ],
             [
              0.5555555555555556,
              "#d8576b"
             ],
             [
              0.6666666666666666,
              "#ed7953"
             ],
             [
              0.7777777777777778,
              "#fb9f3a"
             ],
             [
              0.8888888888888888,
              "#fdca26"
             ],
             [
              1,
              "#f0f921"
             ]
            ],
            "type": "histogram2dcontour"
           }
          ],
          "mesh3d": [
           {
            "colorbar": {
             "outlinewidth": 0,
             "ticks": ""
            },
            "type": "mesh3d"
           }
          ],
          "parcoords": [
           {
            "line": {
             "colorbar": {
              "outlinewidth": 0,
              "ticks": ""
             }
            },
            "type": "parcoords"
           }
          ],
          "pie": [
           {
            "automargin": true,
            "type": "pie"
           }
          ],
          "scatter": [
           {
            "fillpattern": {
             "fillmode": "overlay",
             "size": 10,
             "solidity": 0.2
            },
            "type": "scatter"
           }
          ],
          "scatter3d": [
           {
            "line": {
             "colorbar": {
              "outlinewidth": 0,
              "ticks": ""
             }
            },
            "marker": {
             "colorbar": {
              "outlinewidth": 0,
              "ticks": ""
             }
            },
            "type": "scatter3d"
           }
          ],
          "scattercarpet": [
           {
            "marker": {
             "colorbar": {
              "outlinewidth": 0,
              "ticks": ""
             }
            },
            "type": "scattercarpet"
           }
          ],
          "scattergeo": [
           {
            "marker": {
             "colorbar": {
              "outlinewidth": 0,
              "ticks": ""
             }
            },
            "type": "scattergeo"
           }
          ],
          "scattergl": [
           {
            "marker": {
             "colorbar": {
              "outlinewidth": 0,
              "ticks": ""
             }
            },
            "type": "scattergl"
           }
          ],
          "scattermap": [
           {
            "marker": {
             "colorbar": {
              "outlinewidth": 0,
              "ticks": ""
             }
            },
            "type": "scattermap"
           }
          ],
          "scattermapbox": [
           {
            "marker": {
             "colorbar": {
              "outlinewidth": 0,
              "ticks": ""
             }
            },
            "type": "scattermapbox"
           }
          ],
          "scatterpolar": [
           {
            "marker": {
             "colorbar": {
              "outlinewidth": 0,
              "ticks": ""
             }
            },
            "type": "scatterpolar"
           }
          ],
          "scatterpolargl": [
           {
            "marker": {
             "colorbar": {
              "outlinewidth": 0,
              "ticks": ""
             }
            },
            "type": "scatterpolargl"
           }
          ],
          "scatterternary": [
           {
            "marker": {
             "colorbar": {
              "outlinewidth": 0,
              "ticks": ""
             }
            },
            "type": "scatterternary"
           }
          ],
          "surface": [
           {
            "colorbar": {
             "outlinewidth": 0,
             "ticks": ""
            },
            "colorscale": [
             [
              0,
              "#0d0887"
             ],
             [
              0.1111111111111111,
              "#46039f"
             ],
             [
              0.2222222222222222,
              "#7201a8"
             ],
             [
              0.3333333333333333,
              "#9c179e"
             ],
             [
              0.4444444444444444,
              "#bd3786"
             ],
             [
              0.5555555555555556,
              "#d8576b"
             ],
             [
              0.6666666666666666,
              "#ed7953"
             ],
             [
              0.7777777777777778,
              "#fb9f3a"
             ],
             [
              0.8888888888888888,
              "#fdca26"
             ],
             [
              1,
              "#f0f921"
             ]
            ],
            "type": "surface"
           }
          ],
          "table": [
           {
            "cells": {
             "fill": {
              "color": "#EBF0F8"
             },
             "line": {
              "color": "white"
             }
            },
            "header": {
             "fill": {
              "color": "#C8D4E3"
             },
             "line": {
              "color": "white"
             }
            },
            "type": "table"
           }
          ]
         },
         "layout": {
          "annotationdefaults": {
           "arrowcolor": "#2a3f5f",
           "arrowhead": 0,
           "arrowwidth": 1
          },
          "autotypenumbers": "strict",
          "coloraxis": {
           "colorbar": {
            "outlinewidth": 0,
            "ticks": ""
           }
          },
          "colorscale": {
           "diverging": [
            [
             0,
             "#8e0152"
            ],
            [
             0.1,
             "#c51b7d"
            ],
            [
             0.2,
             "#de77ae"
            ],
            [
             0.3,
             "#f1b6da"
            ],
            [
             0.4,
             "#fde0ef"
            ],
            [
             0.5,
             "#f7f7f7"
            ],
            [
             0.6,
             "#e6f5d0"
            ],
            [
             0.7,
             "#b8e186"
            ],
            [
             0.8,
             "#7fbc41"
            ],
            [
             0.9,
             "#4d9221"
            ],
            [
             1,
             "#276419"
            ]
           ],
           "sequential": [
            [
             0,
             "#0d0887"
            ],
            [
             0.1111111111111111,
             "#46039f"
            ],
            [
             0.2222222222222222,
             "#7201a8"
            ],
            [
             0.3333333333333333,
             "#9c179e"
            ],
            [
             0.4444444444444444,
             "#bd3786"
            ],
            [
             0.5555555555555556,
             "#d8576b"
            ],
            [
             0.6666666666666666,
             "#ed7953"
            ],
            [
             0.7777777777777778,
             "#fb9f3a"
            ],
            [
             0.8888888888888888,
             "#fdca26"
            ],
            [
             1,
             "#f0f921"
            ]
           ],
           "sequentialminus": [
            [
             0,
             "#0d0887"
            ],
            [
             0.1111111111111111,
             "#46039f"
            ],
            [
             0.2222222222222222,
             "#7201a8"
            ],
            [
             0.3333333333333333,
             "#9c179e"
            ],
            [
             0.4444444444444444,
             "#bd3786"
            ],
            [
             0.5555555555555556,
             "#d8576b"
            ],
            [
             0.6666666666666666,
             "#ed7953"
            ],
            [
             0.7777777777777778,
             "#fb9f3a"
            ],
            [
             0.8888888888888888,
             "#fdca26"
            ],
            [
             1,
             "#f0f921"
            ]
           ]
          },
          "colorway": [
           "#636efa",
           "#EF553B",
           "#00cc96",
           "#ab63fa",
           "#FFA15A",
           "#19d3f3",
           "#FF6692",
           "#B6E880",
           "#FF97FF",
           "#FECB52"
          ],
          "font": {
           "color": "#2a3f5f"
          },
          "geo": {
           "bgcolor": "white",
           "lakecolor": "white",
           "landcolor": "#E5ECF6",
           "showlakes": true,
           "showland": true,
           "subunitcolor": "white"
          },
          "hoverlabel": {
           "align": "left"
          },
          "hovermode": "closest",
          "mapbox": {
           "style": "light"
          },
          "paper_bgcolor": "white",
          "plot_bgcolor": "#E5ECF6",
          "polar": {
           "angularaxis": {
            "gridcolor": "white",
            "linecolor": "white",
            "ticks": ""
           },
           "bgcolor": "#E5ECF6",
           "radialaxis": {
            "gridcolor": "white",
            "linecolor": "white",
            "ticks": ""
           }
          },
          "scene": {
           "xaxis": {
            "backgroundcolor": "#E5ECF6",
            "gridcolor": "white",
            "gridwidth": 2,
            "linecolor": "white",
            "showbackground": true,
            "ticks": "",
            "zerolinecolor": "white"
           },
           "yaxis": {
            "backgroundcolor": "#E5ECF6",
            "gridcolor": "white",
            "gridwidth": 2,
            "linecolor": "white",
            "showbackground": true,
            "ticks": "",
            "zerolinecolor": "white"
           },
           "zaxis": {
            "backgroundcolor": "#E5ECF6",
            "gridcolor": "white",
            "gridwidth": 2,
            "linecolor": "white",
            "showbackground": true,
            "ticks": "",
            "zerolinecolor": "white"
           }
          },
          "shapedefaults": {
           "line": {
            "color": "#2a3f5f"
           }
          },
          "ternary": {
           "aaxis": {
            "gridcolor": "white",
            "linecolor": "white",
            "ticks": ""
           },
           "baxis": {
            "gridcolor": "white",
            "linecolor": "white",
            "ticks": ""
           },
           "bgcolor": "#E5ECF6",
           "caxis": {
            "gridcolor": "white",
            "linecolor": "white",
            "ticks": ""
           }
          },
          "title": {
           "x": 0.05
          },
          "xaxis": {
           "automargin": true,
           "gridcolor": "white",
           "linecolor": "white",
           "ticks": "",
           "title": {
            "standoff": 15
           },
           "zerolinecolor": "white",
           "zerolinewidth": 2
          },
          "yaxis": {
           "automargin": true,
           "gridcolor": "white",
           "linecolor": "white",
           "ticks": "",
           "title": {
            "standoff": 15
           },
           "zerolinecolor": "white",
           "zerolinewidth": 2
          }
         }
        },
        "xaxis": {
         "anchor": "y",
         "domain": [
          0,
          0.2888888888888889
         ]
        },
        "xaxis2": {
         "anchor": "y2",
         "domain": [
          0.35555555555555557,
          0.6444444444444445
         ]
        },
        "xaxis3": {
         "anchor": "y3",
         "domain": [
          0.7111111111111111,
          1
         ]
        },
        "yaxis": {
         "anchor": "x",
         "domain": [
          0,
          1
         ]
        },
        "yaxis2": {
         "anchor": "x2",
         "domain": [
          0,
          1
         ]
        },
        "yaxis3": {
         "anchor": "x3",
         "domain": [
          0,
          1
         ]
        }
       }
      }
     },
     "metadata": {},
     "output_type": "display_data"
    }
   ],
   "source": [
    "fig = make_subplots(rows=1, cols=3)\n",
    "\n",
    "# Add data for each subset\n",
    "for i, subset in enumerate(subsets):\n",
    "    row = i // 3 + 1\n",
    "    col = i % 3 +1\n",
    "\n",
    "    # Add trace for 'curr'\n",
    "    fig.add_trace(\n",
    "        go.Bar(\n",
    "            name=\"original\",\n",
    "            x=[subset],\n",
    "            y=[original_length[subset]],\n",
    "            marker_color = \"lightblue\",\n",
    "            showlegend=(i == 0),\n",
    "            texttemplate=\"%{y:.2}\",\n",
    "        ),\n",
    "        row=row,\n",
    "        col=col,\n",
    "    )\n",
    "\n",
    "    # Add trace for 'new'\n",
    "    fig.add_trace(\n",
    "        go.Bar(\n",
    "            name=\"sample\",\n",
    "            x=[subset],\n",
    "            y=[sampled_length[subset]],\n",
    "            marker_color=\"lightgreen\",\n",
    "            showlegend=(i == 0),\n",
    "            texttemplate=\"%{y:.2}\",\n",
    "        ),\n",
    "        row=row,\n",
    "        col=col,\n",
    "    )\n",
    "\n",
    "    # Add diff annotation\n",
    "    difference = (sampled_length[subset] - original_length[subset]) / original_length[\n",
    "        subset\n",
    "    ]\n",
    "    fig.add_annotation(\n",
    "        x=subset,\n",
    "        y=sampled_length[subset] * 1.10,  # Position above the tallest bar\n",
    "        text=f\"Δ={difference:.2%}\",\n",
    "        showarrow=False,\n",
    "        font=dict(color=\"black\", size=14),\n",
    "        row=row,\n",
    "        col=col,\n",
    "    )\n",
    "\n",
    "fig.update_layout(showlegend=True)\n",
    "\n",
    "fig.show()"
   ]
  },
  {
   "cell_type": "code",
   "execution_count": 115,
   "metadata": {},
   "outputs": [
    {
     "data": {
      "text/plain": [
       "16407"
      ]
     },
     "execution_count": 115,
     "metadata": {},
     "output_type": "execute_result"
    }
   ],
   "source": [
    "num_users = sample_df[args.user_col].nunique()\n",
    "num_users"
   ]
  },
  {
   "cell_type": "code",
   "execution_count": 116,
   "metadata": {},
   "outputs": [],
   "source": [
    "# Perit the sampled data\n",
    "sample_df.to_parquet(f\"{args.sample_data_persit_path}/train_sample_interactions_{num_users}u.parquet\")\n",
    "val_sample_df.to_parquet(f\"{args.sample_data_persit_path}/val_sample_interactions_{num_users}u.parquet\")\n",
    "test_sample_df.to_parquet(f\"{args.sample_data_persit_path}/test_sample_interactions_{num_users}u.parquet\")"
   ]
  },
  {
   "cell_type": "markdown",
   "metadata": {},
   "source": [
    "Remember to version your data with dvc"
   ]
  },
  {
   "cell_type": "code",
   "execution_count": 117,
   "metadata": {},
   "outputs": [],
   "source": [
    "train_sample_df = pd.read_parquet(f\"{args.sample_data_persit_path}/train_sample_interactions_{num_users}u.parquet\")"
   ]
  },
  {
   "cell_type": "code",
   "execution_count": 118,
   "metadata": {},
   "outputs": [],
   "source": [
    "def plot_interactions_over_time(df):\n",
    "    df = df.assign(timestamp=df[args.timestamp_col].dt.date)\n",
    "    plot_df = df.groupby(args.timestamp_col).size()\n",
    "\n",
    "    fig = px.line(\n",
    "        x=plot_df.index,\n",
    "        y=plot_df.values,\n",
    "        labels={\"x\": \"Date\", \"y\": \"Number of Interactions\"},\n",
    "        title=\"Interactions Over Time\",\n",
    "        height=500,\n",
    "    )\n",
    "\n",
    "    fig.update_layout(yaxis=dict(showticklabels=True, tickformat=\",\"))\n",
    "\n",
    "    fig.show()"
   ]
  },
  {
   "cell_type": "code",
   "execution_count": 119,
   "metadata": {},
   "outputs": [
    {
     "data": {
      "text/html": [
       "<div>\n",
       "<style scoped>\n",
       "    .dataframe tbody tr th:only-of-type {\n",
       "        vertical-align: middle;\n",
       "    }\n",
       "\n",
       "    .dataframe tbody tr th {\n",
       "        vertical-align: top;\n",
       "    }\n",
       "\n",
       "    .dataframe thead th {\n",
       "        text-align: right;\n",
       "    }\n",
       "</style>\n",
       "<table border=\"1\" class=\"dataframe\">\n",
       "  <thead>\n",
       "    <tr style=\"text-align: right;\">\n",
       "      <th></th>\n",
       "      <th>user_id</th>\n",
       "      <th>parent_asin</th>\n",
       "      <th>rating</th>\n",
       "      <th>timestamp</th>\n",
       "    </tr>\n",
       "  </thead>\n",
       "  <tbody>\n",
       "    <tr>\n",
       "      <th>3194</th>\n",
       "      <td>AEYGPUCRKH7G4VM22FM3VAKSQ23Q</td>\n",
       "      <td>B06XKCPK5W</td>\n",
       "      <td>2.0</td>\n",
       "      <td>2012-06-11 16:41:10</td>\n",
       "    </tr>\n",
       "    <tr>\n",
       "      <th>3199</th>\n",
       "      <td>AEYGPUCRKH7G4VM22FM3VAKSQ23Q</td>\n",
       "      <td>B000CKVOOY</td>\n",
       "      <td>3.0</td>\n",
       "      <td>2012-08-02 02:04:13</td>\n",
       "    </tr>\n",
       "    <tr>\n",
       "      <th>3200</th>\n",
       "      <td>AEYGPUCRKH7G4VM22FM3VAKSQ23Q</td>\n",
       "      <td>B006GWO5WK</td>\n",
       "      <td>5.0</td>\n",
       "      <td>2012-09-15 16:34:46</td>\n",
       "    </tr>\n",
       "    <tr>\n",
       "      <th>3204</th>\n",
       "      <td>AEYGPUCRKH7G4VM22FM3VAKSQ23Q</td>\n",
       "      <td>B008LURQ76</td>\n",
       "      <td>5.0</td>\n",
       "      <td>2013-01-03 23:08:45</td>\n",
       "    </tr>\n",
       "    <tr>\n",
       "      <th>3208</th>\n",
       "      <td>AEYGPUCRKH7G4VM22FM3VAKSQ23Q</td>\n",
       "      <td>B00AQRUW4Q</td>\n",
       "      <td>4.0</td>\n",
       "      <td>2013-05-06 01:24:39</td>\n",
       "    </tr>\n",
       "    <tr>\n",
       "      <th>...</th>\n",
       "      <td>...</td>\n",
       "      <td>...</td>\n",
       "      <td>...</td>\n",
       "      <td>...</td>\n",
       "    </tr>\n",
       "    <tr>\n",
       "      <th>40882304</th>\n",
       "      <td>AFB4DWWKZBQFS22FAWDEP37EL2FA</td>\n",
       "      <td>B00KAF5RQ2</td>\n",
       "      <td>5.0</td>\n",
       "      <td>2016-02-22 17:44:10</td>\n",
       "    </tr>\n",
       "    <tr>\n",
       "      <th>40882305</th>\n",
       "      <td>AFB4DWWKZBQFS22FAWDEP37EL2FA</td>\n",
       "      <td>B001F6TXME</td>\n",
       "      <td>5.0</td>\n",
       "      <td>2016-02-22 17:44:40</td>\n",
       "    </tr>\n",
       "    <tr>\n",
       "      <th>40882306</th>\n",
       "      <td>AFB4DWWKZBQFS22FAWDEP37EL2FA</td>\n",
       "      <td>B007VGGIB6</td>\n",
       "      <td>5.0</td>\n",
       "      <td>2016-02-22 17:45:10</td>\n",
       "    </tr>\n",
       "    <tr>\n",
       "      <th>40882307</th>\n",
       "      <td>AFB4DWWKZBQFS22FAWDEP37EL2FA</td>\n",
       "      <td>B00WUID73W</td>\n",
       "      <td>5.0</td>\n",
       "      <td>2016-02-22 17:45:37</td>\n",
       "    </tr>\n",
       "    <tr>\n",
       "      <th>40882310</th>\n",
       "      <td>AFB4DWWKZBQFS22FAWDEP37EL2FA</td>\n",
       "      <td>B00SFSU53G</td>\n",
       "      <td>5.0</td>\n",
       "      <td>2016-07-15 00:58:19</td>\n",
       "    </tr>\n",
       "  </tbody>\n",
       "</table>\n",
       "<p>127392 rows × 4 columns</p>\n",
       "</div>"
      ],
      "text/plain": [
       "                               user_id parent_asin  rating           timestamp\n",
       "3194      AEYGPUCRKH7G4VM22FM3VAKSQ23Q  B06XKCPK5W     2.0 2012-06-11 16:41:10\n",
       "3199      AEYGPUCRKH7G4VM22FM3VAKSQ23Q  B000CKVOOY     3.0 2012-08-02 02:04:13\n",
       "3200      AEYGPUCRKH7G4VM22FM3VAKSQ23Q  B006GWO5WK     5.0 2012-09-15 16:34:46\n",
       "3204      AEYGPUCRKH7G4VM22FM3VAKSQ23Q  B008LURQ76     5.0 2013-01-03 23:08:45\n",
       "3208      AEYGPUCRKH7G4VM22FM3VAKSQ23Q  B00AQRUW4Q     4.0 2013-05-06 01:24:39\n",
       "...                                ...         ...     ...                 ...\n",
       "40882304  AFB4DWWKZBQFS22FAWDEP37EL2FA  B00KAF5RQ2     5.0 2016-02-22 17:44:10\n",
       "40882305  AFB4DWWKZBQFS22FAWDEP37EL2FA  B001F6TXME     5.0 2016-02-22 17:44:40\n",
       "40882306  AFB4DWWKZBQFS22FAWDEP37EL2FA  B007VGGIB6     5.0 2016-02-22 17:45:10\n",
       "40882307  AFB4DWWKZBQFS22FAWDEP37EL2FA  B00WUID73W     5.0 2016-02-22 17:45:37\n",
       "40882310  AFB4DWWKZBQFS22FAWDEP37EL2FA  B00SFSU53G     5.0 2016-07-15 00:58:19\n",
       "\n",
       "[127392 rows x 4 columns]"
      ]
     },
     "execution_count": 119,
     "metadata": {},
     "output_type": "execute_result"
    }
   ],
   "source": [
    "train_sample_df"
   ]
  },
  {
   "cell_type": "code",
   "execution_count": 120,
   "metadata": {},
   "outputs": [
    {
     "name": "stderr",
     "output_type": "stream",
     "text": [
      "\u001b[32m2025-03-27 01:37:15.000\u001b[0m | \u001b[1mINFO    \u001b[0m | \u001b[36m__main__\u001b[0m:\u001b[36m<module>\u001b[0m:\u001b[36m5\u001b[0m - \u001b[1mNumber of unique users: 16,407\u001b[0m\n",
      "\u001b[32m2025-03-27 01:37:15.000\u001b[0m | \u001b[1mINFO    \u001b[0m | \u001b[36m__main__\u001b[0m:\u001b[36m<module>\u001b[0m:\u001b[36m6\u001b[0m - \u001b[1mNumber of unique items: 4,817\u001b[0m\n"
     ]
    }
   ],
   "source": [
    "# Build up idm\n",
    "# Sorted to make sure that even rerun we get same idm mapping\n",
    "unique_user_ids = sorted(train_sample_df[args.user_col].unique())\n",
    "unique_item_ids = sorted(train_sample_df[args.item_col].unique())\n",
    "logger.info(f\"Number of unique users: {len(unique_user_ids):,.0f}\")\n",
    "logger.info(f\"Number of unique items: {len(unique_item_ids):,.0f}\")\n",
    "idm = IDMapper()\n",
    "idm.fit(unique_user_ids, unique_item_ids)"
   ]
  },
  {
   "cell_type": "code",
   "execution_count": 121,
   "metadata": {},
   "outputs": [],
   "source": [
    "idm.save(f\"{args.notebook_persit_path}/idm_{num_users}u.json\")\n",
    "idm_persist_fp = f\"{args.notebook_persit_path}/idm_{num_users}u.json\"\n",
    "idm = IDMapper().load(idm_persist_fp)"
   ]
  },
  {
   "cell_type": "code",
   "execution_count": 122,
   "metadata": {},
   "outputs": [
    {
     "data": {
      "text/plain": [
       "4817"
      ]
     },
     "execution_count": 122,
     "metadata": {},
     "output_type": "execute_result"
    }
   ],
   "source": [
    "len(idm.item_to_index)"
   ]
  },
  {
   "cell_type": "code",
   "execution_count": 123,
   "metadata": {},
   "outputs": [],
   "source": [
    "for k, _ in idm.item_to_index.items():\n",
    "    assert type(k) is str, \"Type of user id should be string\"\n",
    "for k,_ in idm.user_to_index.items():\n",
    "    assert type(k) is str, \"Type of item id should be string\""
   ]
  }
 ],
 "metadata": {
  "kernelspec": {
   "display_name": "Python 3",
   "language": "python",
   "name": "python3"
  },
  "language_info": {
   "codemirror_mode": {
    "name": "ipython",
    "version": 3
   },
   "file_extension": ".py",
   "mimetype": "text/x-python",
   "name": "python",
   "nbconvert_exporter": "python",
   "pygments_lexer": "ipython3",
   "version": "3.11.9"
  }
 },
 "nbformat": 4,
 "nbformat_minor": 2
}
