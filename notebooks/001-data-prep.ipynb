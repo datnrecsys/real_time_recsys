{
 "cells": [
  {
   "cell_type": "code",
   "execution_count": null,
   "metadata": {},
   "outputs": [],
   "source": [
    "%load_ext autoreload\n",
    "%autoreload 2"
   ]
  },
  {
   "cell_type": "code",
   "execution_count": 6,
   "metadata": {},
   "outputs": [],
   "source": [
    "import os\n",
    "import sys\n",
    "from functools import partial\n",
    "\n",
    "import numpy as np\n",
    "import plotly.express as px\n",
    "from loguru import logger\n",
    "from pydantic import BaseModel, model_validator\n",
    "from load_dotenv import load_dotenv\n",
    "import pandas as pd\n",
    "\n",
    "from sqlalchemy import create_engine\n",
    "from feast import FeatureStore\n",
    "import pandas as pd\n",
    "\n",
    "sys.path.insert(0, \"..\")\n",
    "\n",
    "from src.utils.split_time_based import train_test_split_timebased\n",
    "from src.utils.embedding_id_mapper import IDMapper\n",
    "import plotly.express as px\n",
    "import plotly.graph_objects as go\n",
    "from plotly.subplots import make_subplots\n",
    "\n",
    "_ = load_dotenv(override=True)"
   ]
  },
  {
   "cell_type": "markdown",
   "metadata": {},
   "source": [
    "## Controler"
   ]
  },
  {
   "cell_type": "code",
   "execution_count": 98,
   "metadata": {},
   "outputs": [
    {
     "name": "stdout",
     "output_type": "stream",
     "text": [
      "{\n",
      "  \"run_name\": \"000-data-prep\",\n",
      "  \"run_description\": \"Splitting data into train, val, test sets, then sampling data for quick iteration\",\n",
      "  \"testing\": false,\n",
      "  \"sample_data_persit_path\": \"/home/dinhln/Desktop/real_time_recsys/data_for_ai/interim\",\n",
      "  \"notebook_persit_path\": \"/home/dinhln/Desktop/real_time_recsys/notebooks/data/000-data-prep\",\n",
      "  \"random_seed\": 41,\n",
      "  \"user_col\": \"user_id\",\n",
      "  \"item_col\": \"parent_asin\",\n",
      "  \"rating_col\": \"rating\",\n",
      "  \"timestamp_col\": \"timestamp\",\n",
      "  \"sample_users\": 5000,\n",
      "  \"min_user_interactions\": 5,\n",
      "  \"min_item_interactions\": 10,\n",
      "  \"val_num_days\": 420,\n",
      "  \"test_num_days\": 540,\n",
      "  \"rating_dataset_path\": \"/home/dinhln/Desktop/real_time_recsys/data_for_ai/raw/amz_raw_rating.parquet\"\n",
      "}\n"
     ]
    }
   ],
   "source": [
    "class Args(BaseModel):\n",
    "    run_name: str = \"000-data-prep\"\n",
    "    run_description: str = \"Splitting data into train, val, test sets, then sampling data for quick iteration\"\n",
    "    testing: bool = False\n",
    "    sample_data_persit_path: str = None    # path of the sampled data: train, test and val\n",
    "    notebook_persit_path: str = None    # path of the notebook\n",
    "    random_seed: int = 41\n",
    "\n",
    "    user_col: str = \"user_id\"\n",
    "    item_col: str = \"parent_asin\"\n",
    "    rating_col: str = \"rating\"\n",
    "    timestamp_col: str = \"timestamp\"\n",
    "\n",
    "    sample_users: int = 5000\n",
    "    min_user_interactions: int = 5\n",
    "    min_item_interactions: int = 10\n",
    "\n",
    "    val_num_days: int = 420\n",
    "    test_num_days: int = 540\n",
    "\n",
    "    rating_dataset_path: str = os.path.abspath(\"../data_for_ai/raw/amz_raw_rating.parquet\")\n",
    "\n",
    "    def init(self):\n",
    "        self.sample_data_persit_path = os.path.abspath(f\"../data_for_ai/interim\")\n",
    "        self.notebook_persit_path = os.path.abspath(f\"./data/{self.run_name}\")\n",
    "        if not self.testing:\n",
    "            os.makedirs(self.sample_data_persit_path, exist_ok=True)\n",
    "            os.makedirs(self.notebook_persit_path, exist_ok=True)\n",
    "\n",
    "        return self\n",
    "\n",
    "\n",
    "args = Args().init()\n",
    "\n",
    "print(args.model_dump_json(indent=2))"
   ]
  },
  {
   "cell_type": "markdown",
   "metadata": {},
   "source": [
    "## Load data from a specific period in order to train the model\n",
    "\n",
    "In notebook 002-simulate-oltp, we can see that the time period from March 2020 to Sep 2020 is the good choice. There are active interactions between users and items in this period and wen can keep the recency. So, we will load data from this period to train the model."
   ]
  },
  {
   "cell_type": "code",
   "execution_count": 65,
   "metadata": {},
   "outputs": [
    {
     "name": "stdout",
     "output_type": "stream",
     "text": [
      "DataFrame shape: (43334103, 4)\n"
     ]
    }
   ],
   "source": [
    "# Concatenate all processed chunks into a final DataFrame\n",
    "full_df = pd.read_parquet(args.rating_dataset_path)\n",
    "print(f\"DataFrame shape: {full_df.shape}\")\n"
   ]
  },
  {
   "cell_type": "code",
   "execution_count": 60,
   "metadata": {},
   "outputs": [
    {
     "data": {
      "text/html": [
       "<div>\n",
       "<style scoped>\n",
       "    .dataframe tbody tr th:only-of-type {\n",
       "        vertical-align: middle;\n",
       "    }\n",
       "\n",
       "    .dataframe tbody tr th {\n",
       "        vertical-align: top;\n",
       "    }\n",
       "\n",
       "    .dataframe thead th {\n",
       "        text-align: right;\n",
       "    }\n",
       "</style>\n",
       "<table border=\"1\" class=\"dataframe\">\n",
       "  <thead>\n",
       "    <tr style=\"text-align: right;\">\n",
       "      <th></th>\n",
       "      <th>user_id</th>\n",
       "      <th>parent_asin</th>\n",
       "      <th>rating</th>\n",
       "      <th>timestamp</th>\n",
       "    </tr>\n",
       "  </thead>\n",
       "  <tbody>\n",
       "    <tr>\n",
       "      <th>0</th>\n",
       "      <td>AFKZENTNBQ7A7V7UXW5JJI6UGRYQ</td>\n",
       "      <td>B01G8JO5F2</td>\n",
       "      <td>5.0</td>\n",
       "      <td>2018-04-07 09:23:37.534</td>\n",
       "    </tr>\n",
       "    <tr>\n",
       "      <th>1</th>\n",
       "      <td>AFKZENTNBQ7A7V7UXW5JJI6UGRYQ</td>\n",
       "      <td>B07N69T6TM</td>\n",
       "      <td>1.0</td>\n",
       "      <td>2020-06-20 18:42:29.731</td>\n",
       "    </tr>\n",
       "    <tr>\n",
       "      <th>2</th>\n",
       "      <td>AFKZENTNBQ7A7V7UXW5JJI6UGRYQ</td>\n",
       "      <td>B083NRGZMM</td>\n",
       "      <td>3.0</td>\n",
       "      <td>2022-07-18 22:58:37.948</td>\n",
       "    </tr>\n",
       "    <tr>\n",
       "      <th>3</th>\n",
       "      <td>AGGZ357AO26RQZVRLGU4D4N52DZQ</td>\n",
       "      <td>B001OC5JKY</td>\n",
       "      <td>5.0</td>\n",
       "      <td>2010-11-20 18:41:35.000</td>\n",
       "    </tr>\n",
       "    <tr>\n",
       "      <th>4</th>\n",
       "      <td>AG2L7H23R5LLKDKLBEF2Q3L2MVDA</td>\n",
       "      <td>B07CJYMRWM</td>\n",
       "      <td>5.0</td>\n",
       "      <td>2023-02-17 02:39:41.238</td>\n",
       "    </tr>\n",
       "  </tbody>\n",
       "</table>\n",
       "</div>"
      ],
      "text/plain": [
       "                        user_id parent_asin  rating               timestamp\n",
       "0  AFKZENTNBQ7A7V7UXW5JJI6UGRYQ  B01G8JO5F2     5.0 2018-04-07 09:23:37.534\n",
       "1  AFKZENTNBQ7A7V7UXW5JJI6UGRYQ  B07N69T6TM     1.0 2020-06-20 18:42:29.731\n",
       "2  AFKZENTNBQ7A7V7UXW5JJI6UGRYQ  B083NRGZMM     3.0 2022-07-18 22:58:37.948\n",
       "3  AGGZ357AO26RQZVRLGU4D4N52DZQ  B001OC5JKY     5.0 2010-11-20 18:41:35.000\n",
       "4  AG2L7H23R5LLKDKLBEF2Q3L2MVDA  B07CJYMRWM     5.0 2023-02-17 02:39:41.238"
      ]
     },
     "execution_count": 60,
     "metadata": {},
     "output_type": "execute_result"
    }
   ],
   "source": [
    "full_df.head()"
   ]
  },
  {
   "cell_type": "code",
   "execution_count": 31,
   "metadata": {},
   "outputs": [],
   "source": [
    "def remove_random_users(df, k=10):\n",
    "    users = df[args.user_col].unique()\n",
    "    np.random.seed(args.random_seed)\n",
    "    to_remove_users = np.random.choice(users, size=k, replace=False)\n",
    "    return df.loc[lambda df: ~df[args.user_col].isin(to_remove_users)]\n",
    "\n",
    "\n",
    "def get_unqualified(df, col: str, threshold: int):\n",
    "    unqualified = df.groupby(col).size().loc[lambda s: s < threshold].index\n",
    "    return unqualified"
   ]
  },
  {
   "cell_type": "code",
   "execution_count": 19,
   "metadata": {},
   "outputs": [],
   "source": [
    "get_unqualified_users = partial(\n",
    "    get_unqualified, col=args.user_col, threshold=5\n",
    ")\n",
    "get_unqualified_items = partial(\n",
    "    get_unqualified, col=args.item_col, threshold=5\n",
    ")"
   ]
  },
  {
   "cell_type": "code",
   "execution_count": 20,
   "metadata": {},
   "outputs": [
    {
     "name": "stdout",
     "output_type": "stream",
     "text": [
      "Number of unqualified users: 16420548\n",
      "Number of unqualified items: 987017\n"
     ]
    }
   ],
   "source": [
    "# get 5-core df\n",
    "uu = get_unqualified_users(full_df)\n",
    "ui = get_unqualified_items(full_df)\n",
    "print(f\"Number of unqualified users: {len(uu)}\")\n",
    "print(f\"Number of unqualified items: {len(ui)}\")"
   ]
  },
  {
   "cell_type": "code",
   "execution_count": 21,
   "metadata": {},
   "outputs": [
    {
     "name": "stdout",
     "output_type": "stream",
     "text": [
      "5-core DataFrame shape: (16879366, 4)\n"
     ]
    }
   ],
   "source": [
    "full_5core_df = full_df.loc[lambda df: ~df[args.user_col].isin(uu)]\n",
    "full_5core_df = full_5core_df.loc[lambda df: ~df[args.item_col].isin(ui)]\n",
    "print(f\"5-core DataFrame shape: {full_5core_df.shape}\")"
   ]
  },
  {
   "cell_type": "code",
   "execution_count": 22,
   "metadata": {},
   "outputs": [
    {
     "name": "stderr",
     "output_type": "stream",
     "text": [
      "\u001b[32m2025-03-26 23:40:31.668\u001b[0m | \u001b[1mINFO    \u001b[0m | \u001b[36m__main__\u001b[0m:\u001b[36m<module>\u001b[0m:\u001b[36m1\u001b[0m - \u001b[1m26454737 \u001b[0m\n"
     ]
    }
   ],
   "source": [
    "logger.info(f\"{len(full_df) - len(full_5core_df)} \")"
   ]
  },
  {
   "cell_type": "code",
   "execution_count": 99,
   "metadata": {},
   "outputs": [
    {
     "name": "stderr",
     "output_type": "stream",
     "text": [
      "\u001b[32m2025-03-27 01:23:18.987\u001b[0m | \u001b[1mINFO    \u001b[0m | \u001b[36msrc.utils.split_time_based\u001b[0m:\u001b[36mtrain_test_split_timebased\u001b[0m:\u001b[36m26\u001b[0m - \u001b[1mRemoving users from val and test sets...\u001b[0m\n",
      "\u001b[32m2025-03-27 01:23:24.875\u001b[0m | \u001b[1mINFO    \u001b[0m | \u001b[36msrc.utils.split_time_based\u001b[0m:\u001b[36mtrain_test_split_timebased\u001b[0m:\u001b[36m37\u001b[0m - \u001b[1mRemoved 141738 users from val set\u001b[0m\n",
      "\u001b[32m2025-03-27 01:23:25.016\u001b[0m | \u001b[1mINFO    \u001b[0m | \u001b[36msrc.utils.split_time_based\u001b[0m:\u001b[36mtrain_test_split_timebased\u001b[0m:\u001b[36m40\u001b[0m - \u001b[1mRemoved 265886 users from test set\u001b[0m\n",
      "\u001b[32m2025-03-27 01:23:25.017\u001b[0m | \u001b[1mINFO    \u001b[0m | \u001b[36msrc.utils.split_time_based\u001b[0m:\u001b[36mtrain_test_split_timebased\u001b[0m:\u001b[36m43\u001b[0m - \u001b[1mTrain set has 1762078 users\u001b[0m\n",
      "\u001b[32m2025-03-27 01:23:25.236\u001b[0m | \u001b[1mINFO    \u001b[0m | \u001b[36msrc.utils.split_time_based\u001b[0m:\u001b[36mtrain_test_split_timebased\u001b[0m:\u001b[36m44\u001b[0m - \u001b[1mVal set has 680644 users\u001b[0m\n",
      "\u001b[32m2025-03-27 01:23:25.424\u001b[0m | \u001b[1mINFO    \u001b[0m | \u001b[36msrc.utils.split_time_based\u001b[0m:\u001b[36mtrain_test_split_timebased\u001b[0m:\u001b[36m45\u001b[0m - \u001b[1mTest set has 432255 users\u001b[0m\n"
     ]
    }
   ],
   "source": [
    "# Split train, val, test\n",
    "train_df, val_df, test_df = train_test_split_timebased(\n",
    "    full_5core_df, user_id_col=\"user_id\",\n",
    "        item_id_col=\"parent_asin\",\n",
    "        timestamp_col=\"timestamp\",\n",
    "        val_num_days=args.val_num_days,\n",
    "        test_num_days=args.test_num_days)"
   ]
  },
  {
   "cell_type": "code",
   "execution_count": 100,
   "metadata": {},
   "outputs": [],
   "source": [
    "assert train_df[args.timestamp_col].max() < val_df[args.timestamp_col].min(), \"There are overlapping timestamps between train and validation datasets.\"\n",
    "assert val_df[args.timestamp_col].max() < test_df[args.timestamp_col].min(), \"There are overlapping timestamps between validation and test datasets.\""
   ]
  },
  {
   "cell_type": "code",
   "execution_count": 101,
   "metadata": {},
   "outputs": [
    {
     "name": "stderr",
     "output_type": "stream",
     "text": [
      "\u001b[32m2025-03-27 01:23:27.019\u001b[0m | \u001b[1mINFO    \u001b[0m | \u001b[36m__main__\u001b[0m:\u001b[36m<module>\u001b[0m:\u001b[36m1\u001b[0m - \u001b[1mTrain: (13043980, 4), Val: (1375948, 4), Test: (749578, 4)\u001b[0m\n"
     ]
    }
   ],
   "source": [
    "logger.info(f\"Train: {train_df.shape}, Val: {val_df.shape}, Test: {test_df.shape}\")"
   ]
  },
  {
   "cell_type": "markdown",
   "metadata": {},
   "source": [
    "## Sampling data\n",
    "\n",
    "Just randomly get X users will not guarantee that the output dataset would qualify the condition of **richness**. Instead we take an iterative approach where we gradually drop random users from the dataset while keeping an eye on the conditions and our sampling target."
   ]
  },
  {
   "cell_type": "code",
   "execution_count": 102,
   "metadata": {},
   "outputs": [],
   "source": [
    "get_unqualified_users = partial(\n",
    "    get_unqualified, col=args.user_col, threshold=args.min_user_interactions\n",
    ")\n",
    "get_unqualified_items = partial(\n",
    "    get_unqualified, col=args.item_col, threshold=args.min_item_interactions\n",
    ")"
   ]
  },
  {
   "cell_type": "code",
   "execution_count": null,
   "metadata": {},
   "outputs": [],
   "source": [
    "buffer_perc = 0.2\n",
    "perc_users_removed_each_round = 0.05\n",
    "debug = True\n",
    "keep_random_removing = True\n",
    "r = 1\n",
    "\n",
    "sample_df = train_df.copy()\n",
    "\n",
    "while keep_random_removing:\n",
    "    num_users_removed_each_round = int(\n",
    "        perc_users_removed_each_round * sample_df[args.user_col].nunique()\n",
    "    )\n",
    "    print(\n",
    "        f\"\\n\\nRandomly removing {num_users_removed_each_round} users - Round {r} started\"\n",
    "    )\n",
    "    sample_df = remove_random_users(sample_df, k=num_users_removed_each_round)\n",
    "\n",
    "    keep_removing = True\n",
    "    i = 1\n",
    "\n",
    "    while keep_removing:\n",
    "        if debug:\n",
    "            logger.info(f\"Sampling round {i} started\")\n",
    "        keep_removing = False\n",
    "        uu = get_unqualified_users(sample_df)\n",
    "        if debug:\n",
    "            logger.info(f\"{len(uu)=}\")\n",
    "        if len(uu):\n",
    "            sample_df = sample_df.loc[lambda df: ~df[args.user_col].isin(uu)]\n",
    "            if debug:\n",
    "                logger.info(f\"After removing uu: {len(sample_df)=}\")\n",
    "            assert len(get_unqualified_users(sample_df)) == 0\n",
    "            keep_removing = True\n",
    "        ui = get_unqualified_items(sample_df)\n",
    "        if debug:\n",
    "            logger.info(f\"{len(ui)=}\")\n",
    "        if len(ui):\n",
    "            sample_df = sample_df.loc[lambda df: ~df[args.item_col].isin(ui)]\n",
    "            if debug:\n",
    "                logger.info(f\"After removing ui: {len(sample_df)=}\")\n",
    "            assert len(get_unqualified_items(sample_df)) == 0\n",
    "            keep_removing = True\n",
    "        i += 1\n",
    "    \n",
    "    sample_users = sample_df[args.user_col].unique()\n",
    "    sample_items = sample_df[args.item_col].unique()\n",
    "    num_users = len(sample_users)\n",
    "    logger.info(f\"After randomly removing users - round {r}: {num_users=}\")\n",
    "    \n",
    "    if len(sample_df) < 20000:\n",
    "        perc_users_removed_each_round = 0.1\n",
    "\n",
    "    if num_users > args.sample_users * (1 + buffer_perc):\n",
    "        logger.info(\n",
    "            f\"Number of users {num_users} are still greater than expected, keep removing...\"\n",
    "        )\n",
    "    else:\n",
    "        logger.info(\n",
    "            f\"Number of users {num_users} are falling below expected threshold, stop and use `sample_df` as final output...\"\n",
    "        )\n",
    "        keep_random_removing = False\n",
    "    \n",
    "    val_sample_df = val_df.loc[\n",
    "                lambda df: df[args.user_col].isin(sample_users)\n",
    "                & df[args.item_col].isin(sample_items)\n",
    "            ]\n",
    "    test_sample_df = test_df.loc[\n",
    "                lambda df: df[args.user_col].isin(sample_users)\n",
    "                & df[args.item_col].isin(sample_items)\n",
    "            ]\n",
    "    if (num_val_records := val_sample_df.shape[0]) < 2000:\n",
    "        logger.info(\n",
    "            f\"Number of val_df records {num_val_records:,.0f} are falling below expected threshold, stop and use `sample_df` as final output...\"\n",
    "        )\n",
    "        keep_random_removing = False\n",
    "    if (num_test_records := test_sample_df.shape[0]) < 2000:\n",
    "        logger.info(\n",
    "            f\"Number of test_df records {num_test_records:,.0f} are falling below expected threshold, stop and use `sample_df` as final output...\"\n",
    "        )\n",
    "        keep_random_removing = False\n",
    "\n",
    "    r += 1\n",
    "\n",
    "sample_users = sample_df[args.user_col].unique()\n",
    "sample_items = sample_df[args.item_col].unique()\n",
    "logger.info(f\"Final sample sizes: {len(sample_users)=:,.0f}, {len(sample_items)=:,.0f}\")\n"
   ]
  },
  {
   "cell_type": "code",
   "execution_count": 104,
   "metadata": {},
   "outputs": [],
   "source": [
    "assert sample_df[args.timestamp_col].max() < val_sample_df[args.timestamp_col].min(), \"There are overlapping timestamps between train and validation datasets.\"\n",
    "assert val_sample_df[args.timestamp_col].max() < test_sample_df[args.timestamp_col].min(), \"There are overlapping timestamps between validation and test datasets.\""
   ]
  },
  {
   "cell_type": "code",
   "execution_count": 105,
   "metadata": {},
   "outputs": [],
   "source": [
    "assert val_sample_df.loc[lambda df: ~df[args.user_col].isin(sample_users)].shape[0] == 0, \"Validation DataFrame contains unexpected users.\"\n",
    "assert test_sample_df.loc[lambda df: ~df[args.user_col].isin(sample_users)].shape[0] == 0, \"Test DataFrame contains unexpected users.\"\n",
    "assert val_sample_df.loc[lambda df: ~df[args.item_col].isin(sample_items)].shape[0] == 0, \"Validation DataFrame contains unexpected items.\"\n",
    "assert test_sample_df.loc[lambda df: ~df[args.item_col].isin(sample_items)].shape[0] == 0, \"Test DataFrame contains unexpected items.\""
   ]
  },
  {
   "cell_type": "code",
   "execution_count": 106,
   "metadata": {},
   "outputs": [
    {
     "data": {
      "application/vnd.plotly.v1+json": {
       "config": {
        "plotlyServerURL": "https://plot.ly"
       },
       "data": [
        {
         "bingroup": "x",
         "hovertemplate": "variable=0<br>value=%{x}<br>count=%{y}<extra></extra>",
         "legendgroup": "0",
         "marker": {
          "color": "#636efa",
          "pattern": {
           "shape": ""
          }
         },
         "name": "0",
         "orientation": "v",
         "showlegend": true,
         "type": "histogram",
         "x": {
          "bdata": "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",
          "dtype": "i1"
         },
         "xaxis": "x",
         "yaxis": "y"
        }
       ],
       "layout": {
        "barmode": "relative",
        "legend": {
         "title": {
          "text": "variable"
         },
         "tracegroupgap": 0
        },
        "margin": {
         "t": 60
        },
        "template": {
         "data": {
          "bar": [
           {
            "error_x": {
             "color": "#2a3f5f"
            },
            "error_y": {
             "color": "#2a3f5f"
            },
            "marker": {
             "line": {
              "color": "#E5ECF6",
              "width": 0.5
             },
             "pattern": {
              "fillmode": "overlay",
              "size": 10,
              "solidity": 0.2
             }
            },
            "type": "bar"
           }
          ],
          "barpolar": [
           {
            "marker": {
             "line": {
              "color": "#E5ECF6",
              "width": 0.5
             },
             "pattern": {
              "fillmode": "overlay",
              "size": 10,
              "solidity": 0.2
             }
            },
            "type": "barpolar"
           }
          ],
          "carpet": [
           {
            "aaxis": {
             "endlinecolor": "#2a3f5f",
             "gridcolor": "white",
             "linecolor": "white",
             "minorgridcolor": "white",
             "startlinecolor": "#2a3f5f"
            },
            "baxis": {
             "endlinecolor": "#2a3f5f",
             "gridcolor": "white",
             "linecolor": "white",
             "minorgridcolor": "white",
             "startlinecolor": "#2a3f5f"
            },
            "type": "carpet"
           }
          ],
          "choropleth": [
           {
            "colorbar": {
             "outlinewidth": 0,
             "ticks": ""
            },
            "type": "choropleth"
           }
          ],
          "contour": [
           {
            "colorbar": {
             "outlinewidth": 0,
             "ticks": ""
            },
            "colorscale": [
             [
              0,
              "#0d0887"
             ],
             [
              0.1111111111111111,
              "#46039f"
             ],
             [
              0.2222222222222222,
              "#7201a8"
             ],
             [
              0.3333333333333333,
              "#9c179e"
             ],
             [
              0.4444444444444444,
              "#bd3786"
             ],
             [
              0.5555555555555556,
              "#d8576b"
             ],
             [
              0.6666666666666666,
              "#ed7953"
             ],
             [
              0.7777777777777778,
              "#fb9f3a"
             ],
             [
              0.8888888888888888,
              "#fdca26"
             ],
             [
              1,
              "#f0f921"
             ]
            ],
            "type": "contour"
           }
          ],
          "contourcarpet": [
           {
            "colorbar": {
             "outlinewidth": 0,
             "ticks": ""
            },
            "type": "contourcarpet"
           }
          ],
          "heatmap": [
           {
            "colorbar": {
             "outlinewidth": 0,
             "ticks": ""
            },
            "colorscale": [
             [
              0,
              "#0d0887"
             ],
             [
              0.1111111111111111,
              "#46039f"
             ],
             [
              0.2222222222222222,
              "#7201a8"
             ],
             [
              0.3333333333333333,
              "#9c179e"
             ],
             [
              0.4444444444444444,
              "#bd3786"
             ],
             [
              0.5555555555555556,
              "#d8576b"
             ],
             [
              0.6666666666666666,
              "#ed7953"
             ],
             [
              0.7777777777777778,
              "#fb9f3a"
             ],
             [
              0.8888888888888888,
              "#fdca26"
             ],
             [
              1,
              "#f0f921"
             ]
            ],
            "type": "heatmap"
           }
          ],
          "histogram": [
           {
            "marker": {
             "pattern": {
              "fillmode": "overlay",
              "size": 10,
              "solidity": 0.2
             }
            },
            "type": "histogram"
           }
          ],
          "histogram2d": [
           {
            "colorbar": {
             "outlinewidth": 0,
             "ticks": ""
            },
            "colorscale": [
             [
              0,
              "#0d0887"
             ],
             [
              0.1111111111111111,
              "#46039f"
             ],
             [
              0.2222222222222222,
              "#7201a8"
             ],
             [
              0.3333333333333333,
              "#9c179e"
             ],
             [
              0.4444444444444444,
              "#bd3786"
             ],
             [
              0.5555555555555556,
              "#d8576b"
             ],
             [
              0.6666666666666666,
              "#ed7953"
             ],
             [
              0.7777777777777778,
              "#fb9f3a"
             ],
             [
              0.8888888888888888,
              "#fdca26"
             ],
             [
              1,
              "#f0f921"
             ]
            ],
            "type": "histogram2d"
           }
          ],
          "histogram2dcontour": [
           {
            "colorbar": {
             "outlinewidth": 0,
             "ticks": ""
            },
            "colorscale": [
             [
              0,
              "#0d0887"
             ],
             [
              0.1111111111111111,
              "#46039f"
             ],
             [
              0.2222222222222222,
              "#7201a8"
             ],
             [
              0.3333333333333333,
              "#9c179e"
             ],
             [
              0.4444444444444444,
              "#bd3786"
             ],
             [
              0.5555555555555556,
              "#d8576b"
             ],
             [
              0.6666666666666666,
              "#ed7953"
             ],
             [
              0.7777777777777778,
              "#fb9f3a"
             ],
             [
              0.8888888888888888,
              "#fdca26"
             ],
             [
              1,
              "#f0f921"
             ]
            ],
            "type": "histogram2dcontour"
           }
          ],
          "mesh3d": [
           {
            "colorbar": {
             "outlinewidth": 0,
             "ticks": ""
            },
            "type": "mesh3d"
           }
          ],
          "parcoords": [
           {
            "line": {
             "colorbar": {
              "outlinewidth": 0,
              "ticks": ""
             }
            },
            "type": "parcoords"
           }
          ],
          "pie": [
           {
            "automargin": true,
            "type": "pie"
           }
          ],
          "scatter": [
           {
            "fillpattern": {
             "fillmode": "overlay",
             "size": 10,
             "solidity": 0.2
            },
            "type": "scatter"
           }
          ],
          "scatter3d": [
           {
            "line": {
             "colorbar": {
              "outlinewidth": 0,
              "ticks": ""
             }
            },
            "marker": {
             "colorbar": {
              "outlinewidth": 0,
              "ticks": ""
             }
            },
            "type": "scatter3d"
           }
          ],
          "scattercarpet": [
           {
            "marker": {
             "colorbar": {
              "outlinewidth": 0,
              "ticks": ""
             }
            },
            "type": "scattercarpet"
           }
          ],
          "scattergeo": [
           {
            "marker": {
             "colorbar": {
              "outlinewidth": 0,
              "ticks": ""
             }
            },
            "type": "scattergeo"
           }
          ],
          "scattergl": [
           {
            "marker": {
             "colorbar": {
              "outlinewidth": 0,
              "ticks": ""
             }
            },
            "type": "scattergl"
           }
          ],
          "scattermap": [
           {
            "marker": {
             "colorbar": {
              "outlinewidth": 0,
              "ticks": ""
             }
            },
            "type": "scattermap"
           }
          ],
          "scattermapbox": [
           {
            "marker": {
             "colorbar": {
              "outlinewidth": 0,
              "ticks": ""
             }
            },
            "type": "scattermapbox"
           }
          ],
          "scatterpolar": [
           {
            "marker": {
             "colorbar": {
              "outlinewidth": 0,
              "ticks": ""
             }
            },
            "type": "scatterpolar"
           }
          ],
          "scatterpolargl": [
           {
            "marker": {
             "colorbar": {
              "outlinewidth": 0,
              "ticks": ""
             }
            },
            "type": "scatterpolargl"
           }
          ],
          "scatterternary": [
           {
            "marker": {
             "colorbar": {
              "outlinewidth": 0,
              "ticks": ""
             }
            },
            "type": "scatterternary"
           }
          ],
          "surface": [
           {
            "colorbar": {
             "outlinewidth": 0,
             "ticks": ""
            },
            "colorscale": [
             [
              0,
              "#0d0887"
             ],
             [
              0.1111111111111111,
              "#46039f"
             ],
             [
              0.2222222222222222,
              "#7201a8"
             ],
             [
              0.3333333333333333,
              "#9c179e"
             ],
             [
              0.4444444444444444,
              "#bd3786"
             ],
             [
              0.5555555555555556,
              "#d8576b"
             ],
             [
              0.6666666666666666,
              "#ed7953"
             ],
             [
              0.7777777777777778,
              "#fb9f3a"
             ],
             [
              0.8888888888888888,
              "#fdca26"
             ],
             [
              1,
              "#f0f921"
             ]
            ],
            "type": "surface"
           }
          ],
          "table": [
           {
            "cells": {
             "fill": {
              "color": "#EBF0F8"
             },
             "line": {
              "color": "white"
             }
            },
            "header": {
             "fill": {
              "color": "#C8D4E3"
             },
             "line": {
              "color": "white"
             }
            },
            "type": "table"
           }
          ]
         },
         "layout": {
          "annotationdefaults": {
           "arrowcolor": "#2a3f5f",
           "arrowhead": 0,
           "arrowwidth": 1
          },
          "autotypenumbers": "strict",
          "coloraxis": {
           "colorbar": {
            "outlinewidth": 0,
            "ticks": ""
           }
          },
          "colorscale": {
           "diverging": [
            [
             0,
             "#8e0152"
            ],
            [
             0.1,
             "#c51b7d"
            ],
            [
             0.2,
             "#de77ae"
            ],
            [
             0.3,
             "#f1b6da"
            ],
            [
             0.4,
             "#fde0ef"
            ],
            [
             0.5,
             "#f7f7f7"
            ],
            [
             0.6,
             "#e6f5d0"
            ],
            [
             0.7,
             "#b8e186"
            ],
            [
             0.8,
             "#7fbc41"
            ],
            [
             0.9,
             "#4d9221"
            ],
            [
             1,
             "#276419"
            ]
           ],
           "sequential": [
            [
             0,
             "#0d0887"
            ],
            [
             0.1111111111111111,
             "#46039f"
            ],
            [
             0.2222222222222222,
             "#7201a8"
            ],
            [
             0.3333333333333333,
             "#9c179e"
            ],
            [
             0.4444444444444444,
             "#bd3786"
            ],
            [
             0.5555555555555556,
             "#d8576b"
            ],
            [
             0.6666666666666666,
             "#ed7953"
            ],
            [
             0.7777777777777778,
             "#fb9f3a"
            ],
            [
             0.8888888888888888,
             "#fdca26"
            ],
            [
             1,
             "#f0f921"
            ]
           ],
           "sequentialminus": [
            [
             0,
             "#0d0887"
            ],
            [
             0.1111111111111111,
             "#46039f"
            ],
            [
             0.2222222222222222,
             "#7201a8"
            ],
            [
             0.3333333333333333,
             "#9c179e"
            ],
            [
             0.4444444444444444,
             "#bd3786"
            ],
            [
             0.5555555555555556,
             "#d8576b"
            ],
            [
             0.6666666666666666,
             "#ed7953"
            ],
            [
             0.7777777777777778,
             "#fb9f3a"
            ],
            [
             0.8888888888888888,
             "#fdca26"
            ],
            [
             1,
             "#f0f921"
            ]
           ]
          },
          "colorway": [
           "#636efa",
           "#EF553B",
           "#00cc96",
           "#ab63fa",
           "#FFA15A",
           "#19d3f3",
           "#FF6692",
           "#B6E880",
           "#FF97FF",
           "#FECB52"
          ],
          "font": {
           "color": "#2a3f5f"
          },
          "geo": {
           "bgcolor": "white",
           "lakecolor": "white",
           "landcolor": "#E5ECF6",
           "showlakes": true,
           "showland": true,
           "subunitcolor": "white"
          },
          "hoverlabel": {
           "align": "left"
          },
          "hovermode": "closest",
          "mapbox": {
           "style": "light"
          },
          "paper_bgcolor": "white",
          "plot_bgcolor": "#E5ECF6",
          "polar": {
           "angularaxis": {
            "gridcolor": "white",
            "linecolor": "white",
            "ticks": ""
           },
           "bgcolor": "#E5ECF6",
           "radialaxis": {
            "gridcolor": "white",
            "linecolor": "white",
            "ticks": ""
           }
          },
          "scene": {
           "xaxis": {
            "backgroundcolor": "#E5ECF6",
            "gridcolor": "white",
            "gridwidth": 2,
            "linecolor": "white",
            "showbackground": true,
            "ticks": "",
            "zerolinecolor": "white"
           },
           "yaxis": {
            "backgroundcolor": "#E5ECF6",
            "gridcolor": "white",
            "gridwidth": 2,
            "linecolor": "white",
            "showbackground": true,
            "ticks": "",
            "zerolinecolor": "white"
           },
           "zaxis": {
            "backgroundcolor": "#E5ECF6",
            "gridcolor": "white",
            "gridwidth": 2,
            "linecolor": "white",
            "showbackground": true,
            "ticks": "",
            "zerolinecolor": "white"
           }
          },
          "shapedefaults": {
           "line": {
            "color": "#2a3f5f"
           }
          },
          "ternary": {
           "aaxis": {
            "gridcolor": "white",
            "linecolor": "white",
            "ticks": ""
           },
           "baxis": {
            "gridcolor": "white",
            "linecolor": "white",
            "ticks": ""
           },
           "bgcolor": "#E5ECF6",
           "caxis": {
            "gridcolor": "white",
            "linecolor": "white",
            "ticks": ""
           }
          },
          "title": {
           "x": 0.05
          },
          "xaxis": {
           "automargin": true,
           "gridcolor": "white",
           "linecolor": "white",
           "ticks": "",
           "title": {
            "standoff": 15
           },
           "zerolinecolor": "white",
           "zerolinewidth": 2
          },
          "yaxis": {
           "automargin": true,
           "gridcolor": "white",
           "linecolor": "white",
           "ticks": "",
           "title": {
            "standoff": 15
           },
           "zerolinecolor": "white",
           "zerolinewidth": 2
          }
         }
        },
        "xaxis": {
         "anchor": "y",
         "domain": [
          0,
          1
         ],
         "title": {
          "text": "value"
         }
        },
        "yaxis": {
         "anchor": "x",
         "domain": [
          0,
          1
         ],
         "title": {
          "text": "count"
         }
        }
       }
      }
     },
     "metadata": {},
     "output_type": "display_data"
    }
   ],
   "source": [
    "px.histogram(sample_df.groupby(args.user_col).size())"
   ]
  },
  {
   "cell_type": "code",
   "execution_count": 107,
   "metadata": {},
   "outputs": [
    {
     "data": {
      "application/vnd.plotly.v1+json": {
       "config": {
        "plotlyServerURL": "https://plot.ly"
       },
       "data": [
        {
         "bingroup": "x",
         "hovertemplate": "variable=0<br>value=%{x}<br>count=%{y}<extra></extra>",
         "legendgroup": "0",
         "marker": {
          "color": "#636efa",
          "pattern": {
           "shape": ""
          }
         },
         "name": "0",
         "orientation": "v",
         "showlegend": true,
         "type": "histogram",
         "x": {
          "bdata": "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",
          "dtype": "i2"
         },
         "xaxis": "x",
         "yaxis": "y"
        }
       ],
       "layout": {
        "barmode": "relative",
        "legend": {
         "title": {
          "text": "variable"
         },
         "tracegroupgap": 0
        },
        "margin": {
         "t": 60
        },
        "template": {
         "data": {
          "bar": [
           {
            "error_x": {
             "color": "#2a3f5f"
            },
            "error_y": {
             "color": "#2a3f5f"
            },
            "marker": {
             "line": {
              "color": "#E5ECF6",
              "width": 0.5
             },
             "pattern": {
              "fillmode": "overlay",
              "size": 10,
              "solidity": 0.2
             }
            },
            "type": "bar"
           }
          ],
          "barpolar": [
           {
            "marker": {
             "line": {
              "color": "#E5ECF6",
              "width": 0.5
             },
             "pattern": {
              "fillmode": "overlay",
              "size": 10,
              "solidity": 0.2
             }
            },
            "type": "barpolar"
           }
          ],
          "carpet": [
           {
            "aaxis": {
             "endlinecolor": "#2a3f5f",
             "gridcolor": "white",
             "linecolor": "white",
             "minorgridcolor": "white",
             "startlinecolor": "#2a3f5f"
            },
            "baxis": {
             "endlinecolor": "#2a3f5f",
             "gridcolor": "white",
             "linecolor": "white",
             "minorgridcolor": "white",
             "startlinecolor": "#2a3f5f"
            },
            "type": "carpet"
           }
          ],
          "choropleth": [
           {
            "colorbar": {
             "outlinewidth": 0,
             "ticks": ""
            },
            "type": "choropleth"
           }
          ],
          "contour": [
           {
            "colorbar": {
             "outlinewidth": 0,
             "ticks": ""
            },
            "colorscale": [
             [
              0,
              "#0d0887"
             ],
             [
              0.1111111111111111,
              "#46039f"
             ],
             [
              0.2222222222222222,
              "#7201a8"
             ],
             [
              0.3333333333333333,
              "#9c179e"
             ],
             [
              0.4444444444444444,
              "#bd3786"
             ],
             [
              0.5555555555555556,
              "#d8576b"
             ],
             [
              0.6666666666666666,
              "#ed7953"
             ],
             [
              0.7777777777777778,
              "#fb9f3a"
             ],
             [
              0.8888888888888888,
              "#fdca26"
             ],
             [
              1,
              "#f0f921"
             ]
            ],
            "type": "contour"
           }
          ],
          "contourcarpet": [
           {
            "colorbar": {
             "outlinewidth": 0,
             "ticks": ""
            },
            "type": "contourcarpet"
           }
          ],
          "heatmap": [
           {
            "colorbar": {
             "outlinewidth": 0,
             "ticks": ""
            },
            "colorscale": [
             [
              0,
              "#0d0887"
             ],
             [
              0.1111111111111111,
              "#46039f"
             ],
             [
              0.2222222222222222,
              "#7201a8"
             ],
             [
              0.3333333333333333,
              "#9c179e"
             ],
             [
              0.4444444444444444,
              "#bd3786"
             ],
             [
              0.5555555555555556,
              "#d8576b"
             ],
             [
              0.6666666666666666,
              "#ed7953"
             ],
             [
              0.7777777777777778,
              "#fb9f3a"
             ],
             [
              0.8888888888888888,
              "#fdca26"
             ],
             [
              1,
              "#f0f921"
             ]
            ],
            "type": "heatmap"
           }
          ],
          "histogram": [
           {
            "marker": {
             "pattern": {
              "fillmode": "overlay",
              "size": 10,
              "solidity": 0.2
             }
            },
            "type": "histogram"
           }
          ],
          "histogram2d": [
           {
            "colorbar": {
             "outlinewidth": 0,
             "ticks": ""
            },
            "colorscale": [
             [
              0,
              "#0d0887"
             ],
             [
              0.1111111111111111,
              "#46039f"
             ],
             [
              0.2222222222222222,
              "#7201a8"
             ],
             [
              0.3333333333333333,
              "#9c179e"
             ],
             [
              0.4444444444444444,
              "#bd3786"
             ],
             [
              0.5555555555555556,
              "#d8576b"
             ],
             [
              0.6666666666666666,
              "#ed7953"
             ],
             [
              0.7777777777777778,
              "#fb9f3a"
             ],
             [
              0.8888888888888888,
              "#fdca26"
             ],
             [
              1,
              "#f0f921"
             ]
            ],
            "type": "histogram2d"
           }
          ],
          "histogram2dcontour": [
           {
            "colorbar": {
             "outlinewidth": 0,
             "ticks": ""
            },
            "colorscale": [
             [
              0,
              "#0d0887"
             ],
             [
              0.1111111111111111,
              "#46039f"
             ],
             [
              0.2222222222222222,
              "#7201a8"
             ],
             [
              0.3333333333333333,
              "#9c179e"
             ],
             [
              0.4444444444444444,
              "#bd3786"
             ],
             [
              0.5555555555555556,
              "#d8576b"
             ],
             [
              0.6666666666666666,
              "#ed7953"
             ],
             [
              0.7777777777777778,
              "#fb9f3a"
             ],
             [
              0.8888888888888888,
              "#fdca26"
             ],
             [
              1,
              "#f0f921"
             ]
            ],
            "type": "histogram2dcontour"
           }
          ],
          "mesh3d": [
           {
            "colorbar": {
             "outlinewidth": 0,
             "ticks": ""
            },
            "type": "mesh3d"
           }
          ],
          "parcoords": [
           {
            "line": {
             "colorbar": {
              "outlinewidth": 0,
              "ticks": ""
             }
            },
            "type": "parcoords"
           }
          ],
          "pie": [
           {
            "automargin": true,
            "type": "pie"
           }
          ],
          "scatter": [
           {
            "fillpattern": {
             "fillmode": "overlay",
             "size": 10,
             "solidity": 0.2
            },
            "type": "scatter"
           }
          ],
          "scatter3d": [
           {
            "line": {
             "colorbar": {
              "outlinewidth": 0,
              "ticks": ""
             }
            },
            "marker": {
             "colorbar": {
              "outlinewidth": 0,
              "ticks": ""
             }
            },
            "type": "scatter3d"
           }
          ],
          "scattercarpet": [
           {
            "marker": {
             "colorbar": {
              "outlinewidth": 0,
              "ticks": ""
             }
            },
            "type": "scattercarpet"
           }
          ],
          "scattergeo": [
           {
            "marker": {
             "colorbar": {
              "outlinewidth": 0,
              "ticks": ""
             }
            },
            "type": "scattergeo"
           }
          ],
          "scattergl": [
           {
            "marker": {
             "colorbar": {
              "outlinewidth": 0,
              "ticks": ""
             }
            },
            "type": "scattergl"
           }
          ],
          "scattermap": [
           {
            "marker": {
             "colorbar": {
              "outlinewidth": 0,
              "ticks": ""
             }
            },
            "type": "scattermap"
           }
          ],
          "scattermapbox": [
           {
            "marker": {
             "colorbar": {
              "outlinewidth": 0,
              "ticks": ""
             }
            },
            "type": "scattermapbox"
           }
          ],
          "scatterpolar": [
           {
            "marker": {
             "colorbar": {
              "outlinewidth": 0,
              "ticks": ""
             }
            },
            "type": "scatterpolar"
           }
          ],
          "scatterpolargl": [
           {
            "marker": {
             "colorbar": {
              "outlinewidth": 0,
              "ticks": ""
             }
            },
            "type": "scatterpolargl"
           }
          ],
          "scatterternary": [
           {
            "marker": {
             "colorbar": {
              "outlinewidth": 0,
              "ticks": ""
             }
            },
            "type": "scatterternary"
           }
          ],
          "surface": [
           {
            "colorbar": {
             "outlinewidth": 0,
             "ticks": ""
            },
            "colorscale": [
             [
              0,
              "#0d0887"
             ],
             [
              0.1111111111111111,
              "#46039f"
             ],
             [
              0.2222222222222222,
              "#7201a8"
             ],
             [
              0.3333333333333333,
              "#9c179e"
             ],
             [
              0.4444444444444444,
              "#bd3786"
             ],
             [
              0.5555555555555556,
              "#d8576b"
             ],
             [
              0.6666666666666666,
              "#ed7953"
             ],
             [
              0.7777777777777778,
              "#fb9f3a"
             ],
             [
              0.8888888888888888,
              "#fdca26"
             ],
             [
              1,
              "#f0f921"
             ]
            ],
            "type": "surface"
           }
          ],
          "table": [
           {
            "cells": {
             "fill": {
              "color": "#EBF0F8"
             },
             "line": {
              "color": "white"
             }
            },
            "header": {
             "fill": {
              "color": "#C8D4E3"
             },
             "line": {
              "color": "white"
             }
            },
            "type": "table"
           }
          ]
         },
         "layout": {
          "annotationdefaults": {
           "arrowcolor": "#2a3f5f",
           "arrowhead": 0,
           "arrowwidth": 1
          },
          "autotypenumbers": "strict",
          "coloraxis": {
           "colorbar": {
            "outlinewidth": 0,
            "ticks": ""
           }
          },
          "colorscale": {
           "diverging": [
            [
             0,
             "#8e0152"
            ],
            [
             0.1,
             "#c51b7d"
            ],
            [
             0.2,
             "#de77ae"
            ],
            [
             0.3,
             "#f1b6da"
            ],
            [
             0.4,
             "#fde0ef"
            ],
            [
             0.5,
             "#f7f7f7"
            ],
            [
             0.6,
             "#e6f5d0"
            ],
            [
             0.7,
             "#b8e186"
            ],
            [
             0.8,
             "#7fbc41"
            ],
            [
             0.9,
             "#4d9221"
            ],
            [
             1,
             "#276419"
            ]
           ],
           "sequential": [
            [
             0,
             "#0d0887"
            ],
            [
             0.1111111111111111,
             "#46039f"
            ],
            [
             0.2222222222222222,
             "#7201a8"
            ],
            [
             0.3333333333333333,
             "#9c179e"
            ],
            [
             0.4444444444444444,
             "#bd3786"
            ],
            [
             0.5555555555555556,
             "#d8576b"
            ],
            [
             0.6666666666666666,
             "#ed7953"
            ],
            [
             0.7777777777777778,
             "#fb9f3a"
            ],
            [
             0.8888888888888888,
             "#fdca26"
            ],
            [
             1,
             "#f0f921"
            ]
           ],
           "sequentialminus": [
            [
             0,
             "#0d0887"
            ],
            [
             0.1111111111111111,
             "#46039f"
            ],
            [
             0.2222222222222222,
             "#7201a8"
            ],
            [
             0.3333333333333333,
             "#9c179e"
            ],
            [
             0.4444444444444444,
             "#bd3786"
            ],
            [
             0.5555555555555556,
             "#d8576b"
            ],
            [
             0.6666666666666666,
             "#ed7953"
            ],
            [
             0.7777777777777778,
             "#fb9f3a"
            ],
            [
             0.8888888888888888,
             "#fdca26"
            ],
            [
             1,
             "#f0f921"
            ]
           ]
          },
          "colorway": [
           "#636efa",
           "#EF553B",
           "#00cc96",
           "#ab63fa",
           "#FFA15A",
           "#19d3f3",
           "#FF6692",
           "#B6E880",
           "#FF97FF",
           "#FECB52"
          ],
          "font": {
           "color": "#2a3f5f"
          },
          "geo": {
           "bgcolor": "white",
           "lakecolor": "white",
           "landcolor": "#E5ECF6",
           "showlakes": true,
           "showland": true,
           "subunitcolor": "white"
          },
          "hoverlabel": {
           "align": "left"
          },
          "hovermode": "closest",
          "mapbox": {
           "style": "light"
          },
          "paper_bgcolor": "white",
          "plot_bgcolor": "#E5ECF6",
          "polar": {
           "angularaxis": {
            "gridcolor": "white",
            "linecolor": "white",
            "ticks": ""
           },
           "bgcolor": "#E5ECF6",
           "radialaxis": {
            "gridcolor": "white",
            "linecolor": "white",
            "ticks": ""
           }
          },
          "scene": {
           "xaxis": {
            "backgroundcolor": "#E5ECF6",
            "gridcolor": "white",
            "gridwidth": 2,
            "linecolor": "white",
            "showbackground": true,
            "ticks": "",
            "zerolinecolor": "white"
           },
           "yaxis": {
            "backgroundcolor": "#E5ECF6",
            "gridcolor": "white",
            "gridwidth": 2,
            "linecolor": "white",
            "showbackground": true,
            "ticks": "",
            "zerolinecolor": "white"
           },
           "zaxis": {
            "backgroundcolor": "#E5ECF6",
            "gridcolor": "white",
            "gridwidth": 2,
            "linecolor": "white",
            "showbackground": true,
            "ticks": "",
            "zerolinecolor": "white"
           }
          },
          "shapedefaults": {
           "line": {
            "color": "#2a3f5f"
           }
          },
          "ternary": {
           "aaxis": {
            "gridcolor": "white",
            "linecolor": "white",
            "ticks": ""
           },
           "baxis": {
            "gridcolor": "white",
            "linecolor": "white",
            "ticks": ""
           },
           "bgcolor": "#E5ECF6",
           "caxis": {
            "gridcolor": "white",
            "linecolor": "white",
            "ticks": ""
           }
          },
          "title": {
           "x": 0.05
          },
          "xaxis": {
           "automargin": true,
           "gridcolor": "white",
           "linecolor": "white",
           "ticks": "",
           "title": {
            "standoff": 15
           },
           "zerolinecolor": "white",
           "zerolinewidth": 2
          },
          "yaxis": {
           "automargin": true,
           "gridcolor": "white",
           "linecolor": "white",
           "ticks": "",
           "title": {
            "standoff": 15
           },
           "zerolinecolor": "white",
           "zerolinewidth": 2
          }
         }
        },
        "xaxis": {
         "anchor": "y",
         "domain": [
          0,
          1
         ],
         "title": {
          "text": "value"
         }
        },
        "yaxis": {
         "anchor": "x",
         "domain": [
          0,
          1
         ],
         "title": {
          "text": "count"
         }
        }
       }
      }
     },
     "metadata": {},
     "output_type": "display_data"
    }
   ],
   "source": [
    "px.histogram(sample_df.groupby(args.item_col).size())"
   ]
  },
  {
   "cell_type": "code",
   "execution_count": 108,
   "metadata": {},
   "outputs": [
    {
     "data": {
      "text/html": [
       "<div>\n",
       "<style scoped>\n",
       "    .dataframe tbody tr th:only-of-type {\n",
       "        vertical-align: middle;\n",
       "    }\n",
       "\n",
       "    .dataframe tbody tr th {\n",
       "        vertical-align: top;\n",
       "    }\n",
       "\n",
       "    .dataframe thead th {\n",
       "        text-align: right;\n",
       "    }\n",
       "</style>\n",
       "<table border=\"1\" class=\"dataframe\">\n",
       "  <thead>\n",
       "    <tr style=\"text-align: right;\">\n",
       "      <th></th>\n",
       "      <th>user_id</th>\n",
       "      <th>parent_asin</th>\n",
       "      <th>rating</th>\n",
       "      <th>timestamp</th>\n",
       "    </tr>\n",
       "  </thead>\n",
       "  <tbody>\n",
       "    <tr>\n",
       "      <th>3194</th>\n",
       "      <td>AEYGPUCRKH7G4VM22FM3VAKSQ23Q</td>\n",
       "      <td>B06XKCPK5W</td>\n",
       "      <td>2.0</td>\n",
       "      <td>2012-06-11 16:41:10</td>\n",
       "    </tr>\n",
       "    <tr>\n",
       "      <th>3199</th>\n",
       "      <td>AEYGPUCRKH7G4VM22FM3VAKSQ23Q</td>\n",
       "      <td>B000CKVOOY</td>\n",
       "      <td>3.0</td>\n",
       "      <td>2012-08-02 02:04:13</td>\n",
       "    </tr>\n",
       "    <tr>\n",
       "      <th>3200</th>\n",
       "      <td>AEYGPUCRKH7G4VM22FM3VAKSQ23Q</td>\n",
       "      <td>B006GWO5WK</td>\n",
       "      <td>5.0</td>\n",
       "      <td>2012-09-15 16:34:46</td>\n",
       "    </tr>\n",
       "    <tr>\n",
       "      <th>3204</th>\n",
       "      <td>AEYGPUCRKH7G4VM22FM3VAKSQ23Q</td>\n",
       "      <td>B008LURQ76</td>\n",
       "      <td>5.0</td>\n",
       "      <td>2013-01-03 23:08:45</td>\n",
       "    </tr>\n",
       "    <tr>\n",
       "      <th>3208</th>\n",
       "      <td>AEYGPUCRKH7G4VM22FM3VAKSQ23Q</td>\n",
       "      <td>B00AQRUW4Q</td>\n",
       "      <td>4.0</td>\n",
       "      <td>2013-05-06 01:24:39</td>\n",
       "    </tr>\n",
       "    <tr>\n",
       "      <th>...</th>\n",
       "      <td>...</td>\n",
       "      <td>...</td>\n",
       "      <td>...</td>\n",
       "      <td>...</td>\n",
       "    </tr>\n",
       "    <tr>\n",
       "      <th>40882304</th>\n",
       "      <td>AFB4DWWKZBQFS22FAWDEP37EL2FA</td>\n",
       "      <td>B00KAF5RQ2</td>\n",
       "      <td>5.0</td>\n",
       "      <td>2016-02-22 17:44:10</td>\n",
       "    </tr>\n",
       "    <tr>\n",
       "      <th>40882305</th>\n",
       "      <td>AFB4DWWKZBQFS22FAWDEP37EL2FA</td>\n",
       "      <td>B001F6TXME</td>\n",
       "      <td>5.0</td>\n",
       "      <td>2016-02-22 17:44:40</td>\n",
       "    </tr>\n",
       "    <tr>\n",
       "      <th>40882306</th>\n",
       "      <td>AFB4DWWKZBQFS22FAWDEP37EL2FA</td>\n",
       "      <td>B007VGGIB6</td>\n",
       "      <td>5.0</td>\n",
       "      <td>2016-02-22 17:45:10</td>\n",
       "    </tr>\n",
       "    <tr>\n",
       "      <th>40882307</th>\n",
       "      <td>AFB4DWWKZBQFS22FAWDEP37EL2FA</td>\n",
       "      <td>B00WUID73W</td>\n",
       "      <td>5.0</td>\n",
       "      <td>2016-02-22 17:45:37</td>\n",
       "    </tr>\n",
       "    <tr>\n",
       "      <th>40882310</th>\n",
       "      <td>AFB4DWWKZBQFS22FAWDEP37EL2FA</td>\n",
       "      <td>B00SFSU53G</td>\n",
       "      <td>5.0</td>\n",
       "      <td>2016-07-15 00:58:19</td>\n",
       "    </tr>\n",
       "  </tbody>\n",
       "</table>\n",
       "<p>127392 rows × 4 columns</p>\n",
       "</div>"
      ],
      "text/plain": [
       "                               user_id parent_asin  rating           timestamp\n",
       "3194      AEYGPUCRKH7G4VM22FM3VAKSQ23Q  B06XKCPK5W     2.0 2012-06-11 16:41:10\n",
       "3199      AEYGPUCRKH7G4VM22FM3VAKSQ23Q  B000CKVOOY     3.0 2012-08-02 02:04:13\n",
       "3200      AEYGPUCRKH7G4VM22FM3VAKSQ23Q  B006GWO5WK     5.0 2012-09-15 16:34:46\n",
       "3204      AEYGPUCRKH7G4VM22FM3VAKSQ23Q  B008LURQ76     5.0 2013-01-03 23:08:45\n",
       "3208      AEYGPUCRKH7G4VM22FM3VAKSQ23Q  B00AQRUW4Q     4.0 2013-05-06 01:24:39\n",
       "...                                ...         ...     ...                 ...\n",
       "40882304  AFB4DWWKZBQFS22FAWDEP37EL2FA  B00KAF5RQ2     5.0 2016-02-22 17:44:10\n",
       "40882305  AFB4DWWKZBQFS22FAWDEP37EL2FA  B001F6TXME     5.0 2016-02-22 17:44:40\n",
       "40882306  AFB4DWWKZBQFS22FAWDEP37EL2FA  B007VGGIB6     5.0 2016-02-22 17:45:10\n",
       "40882307  AFB4DWWKZBQFS22FAWDEP37EL2FA  B00WUID73W     5.0 2016-02-22 17:45:37\n",
       "40882310  AFB4DWWKZBQFS22FAWDEP37EL2FA  B00SFSU53G     5.0 2016-07-15 00:58:19\n",
       "\n",
       "[127392 rows x 4 columns]"
      ]
     },
     "execution_count": 108,
     "metadata": {},
     "output_type": "execute_result"
    }
   ],
   "source": [
    "sample_df"
   ]
  },
  {
   "cell_type": "code",
   "execution_count": 109,
   "metadata": {},
   "outputs": [
    {
     "data": {
      "text/html": [
       "<div>\n",
       "<style scoped>\n",
       "    .dataframe tbody tr th:only-of-type {\n",
       "        vertical-align: middle;\n",
       "    }\n",
       "\n",
       "    .dataframe tbody tr th {\n",
       "        vertical-align: top;\n",
       "    }\n",
       "\n",
       "    .dataframe thead th {\n",
       "        text-align: right;\n",
       "    }\n",
       "</style>\n",
       "<table border=\"1\" class=\"dataframe\">\n",
       "  <thead>\n",
       "    <tr style=\"text-align: right;\">\n",
       "      <th></th>\n",
       "      <th>user_id</th>\n",
       "      <th>parent_asin</th>\n",
       "      <th>rating</th>\n",
       "      <th>timestamp</th>\n",
       "    </tr>\n",
       "  </thead>\n",
       "  <tbody>\n",
       "    <tr>\n",
       "      <th>4668</th>\n",
       "      <td>AGZE3IYHOEGKUTJZSQCSFSQ4IFFQ</td>\n",
       "      <td>B0B787CN26</td>\n",
       "      <td>5.0</td>\n",
       "      <td>2021-10-27 19:43:57.873</td>\n",
       "    </tr>\n",
       "    <tr>\n",
       "      <th>10425</th>\n",
       "      <td>AEANO5BIASSZNFWNXBR2ECHCPJQQ</td>\n",
       "      <td>B0002MQGOA</td>\n",
       "      <td>5.0</td>\n",
       "      <td>2021-02-02 14:20:48.424</td>\n",
       "    </tr>\n",
       "    <tr>\n",
       "      <th>10426</th>\n",
       "      <td>AEANO5BIASSZNFWNXBR2ECHCPJQQ</td>\n",
       "      <td>B07HZLHPKP</td>\n",
       "      <td>5.0</td>\n",
       "      <td>2021-03-08 13:56:57.795</td>\n",
       "    </tr>\n",
       "    <tr>\n",
       "      <th>13265</th>\n",
       "      <td>AHDXCFTV7RS3AM6E2TRPWOG3A33Q</td>\n",
       "      <td>B07QWPVZJY</td>\n",
       "      <td>3.0</td>\n",
       "      <td>2021-12-11 00:34:19.152</td>\n",
       "    </tr>\n",
       "    <tr>\n",
       "      <th>14423</th>\n",
       "      <td>AEFHRRLFCZQ3TWNYCBA7UD3NIXCA</td>\n",
       "      <td>B00D96J8IM</td>\n",
       "      <td>1.0</td>\n",
       "      <td>2021-10-17 20:54:19.325</td>\n",
       "    </tr>\n",
       "    <tr>\n",
       "      <th>...</th>\n",
       "      <td>...</td>\n",
       "      <td>...</td>\n",
       "      <td>...</td>\n",
       "      <td>...</td>\n",
       "    </tr>\n",
       "    <tr>\n",
       "      <th>33760091</th>\n",
       "      <td>AHIIISHZP6YAVVHMDEBLJ5CWZ7ZA</td>\n",
       "      <td>B0BZ62FQ13</td>\n",
       "      <td>3.0</td>\n",
       "      <td>2021-07-16 17:08:55.044</td>\n",
       "    </tr>\n",
       "    <tr>\n",
       "      <th>34470392</th>\n",
       "      <td>AFTE3G43QHXWD3DJGDCI2DHEWQJQ</td>\n",
       "      <td>B08DMXDPW5</td>\n",
       "      <td>5.0</td>\n",
       "      <td>2021-01-14 01:48:09.423</td>\n",
       "    </tr>\n",
       "    <tr>\n",
       "      <th>35019360</th>\n",
       "      <td>AFENZZDPVUYFVBS47YDOWJCDYBSQ</td>\n",
       "      <td>B09XBT6DS9</td>\n",
       "      <td>4.0</td>\n",
       "      <td>2021-12-05 00:35:40.874</td>\n",
       "    </tr>\n",
       "    <tr>\n",
       "      <th>35323250</th>\n",
       "      <td>AFMBZYPDAXT5VO3ME67HW5Q5TAOQ</td>\n",
       "      <td>B097KBF8JK</td>\n",
       "      <td>5.0</td>\n",
       "      <td>2022-02-18 11:32:46.732</td>\n",
       "    </tr>\n",
       "    <tr>\n",
       "      <th>36341797</th>\n",
       "      <td>AEMSEOMPBE6KWOZWCX4VE4E2E7HQ</td>\n",
       "      <td>B00FB45USW</td>\n",
       "      <td>5.0</td>\n",
       "      <td>2021-08-12 00:42:48.843</td>\n",
       "    </tr>\n",
       "  </tbody>\n",
       "</table>\n",
       "<p>3479 rows × 4 columns</p>\n",
       "</div>"
      ],
      "text/plain": [
       "                               user_id parent_asin  rating  \\\n",
       "4668      AGZE3IYHOEGKUTJZSQCSFSQ4IFFQ  B0B787CN26     5.0   \n",
       "10425     AEANO5BIASSZNFWNXBR2ECHCPJQQ  B0002MQGOA     5.0   \n",
       "10426     AEANO5BIASSZNFWNXBR2ECHCPJQQ  B07HZLHPKP     5.0   \n",
       "13265     AHDXCFTV7RS3AM6E2TRPWOG3A33Q  B07QWPVZJY     3.0   \n",
       "14423     AEFHRRLFCZQ3TWNYCBA7UD3NIXCA  B00D96J8IM     1.0   \n",
       "...                                ...         ...     ...   \n",
       "33760091  AHIIISHZP6YAVVHMDEBLJ5CWZ7ZA  B0BZ62FQ13     3.0   \n",
       "34470392  AFTE3G43QHXWD3DJGDCI2DHEWQJQ  B08DMXDPW5     5.0   \n",
       "35019360  AFENZZDPVUYFVBS47YDOWJCDYBSQ  B09XBT6DS9     4.0   \n",
       "35323250  AFMBZYPDAXT5VO3ME67HW5Q5TAOQ  B097KBF8JK     5.0   \n",
       "36341797  AEMSEOMPBE6KWOZWCX4VE4E2E7HQ  B00FB45USW     5.0   \n",
       "\n",
       "                       timestamp  \n",
       "4668     2021-10-27 19:43:57.873  \n",
       "10425    2021-02-02 14:20:48.424  \n",
       "10426    2021-03-08 13:56:57.795  \n",
       "13265    2021-12-11 00:34:19.152  \n",
       "14423    2021-10-17 20:54:19.325  \n",
       "...                          ...  \n",
       "33760091 2021-07-16 17:08:55.044  \n",
       "34470392 2021-01-14 01:48:09.423  \n",
       "35019360 2021-12-05 00:35:40.874  \n",
       "35323250 2022-02-18 11:32:46.732  \n",
       "36341797 2021-08-12 00:42:48.843  \n",
       "\n",
       "[3479 rows x 4 columns]"
      ]
     },
     "execution_count": 109,
     "metadata": {},
     "output_type": "execute_result"
    }
   ],
   "source": [
    "val_sample_df"
   ]
  },
  {
   "cell_type": "code",
   "execution_count": 110,
   "metadata": {},
   "outputs": [
    {
     "data": {
      "text/html": [
       "<div>\n",
       "<style scoped>\n",
       "    .dataframe tbody tr th:only-of-type {\n",
       "        vertical-align: middle;\n",
       "    }\n",
       "\n",
       "    .dataframe tbody tr th {\n",
       "        vertical-align: top;\n",
       "    }\n",
       "\n",
       "    .dataframe thead th {\n",
       "        text-align: right;\n",
       "    }\n",
       "</style>\n",
       "<table border=\"1\" class=\"dataframe\">\n",
       "  <thead>\n",
       "    <tr style=\"text-align: right;\">\n",
       "      <th></th>\n",
       "      <th>user_id</th>\n",
       "      <th>parent_asin</th>\n",
       "      <th>rating</th>\n",
       "      <th>timestamp</th>\n",
       "    </tr>\n",
       "  </thead>\n",
       "  <tbody>\n",
       "    <tr>\n",
       "      <th>13270</th>\n",
       "      <td>AHDXCFTV7RS3AM6E2TRPWOG3A33Q</td>\n",
       "      <td>B0BHMVBV9M</td>\n",
       "      <td>2.0</td>\n",
       "      <td>2022-08-27 16:17:48.228</td>\n",
       "    </tr>\n",
       "    <tr>\n",
       "      <th>13271</th>\n",
       "      <td>AHDXCFTV7RS3AM6E2TRPWOG3A33Q</td>\n",
       "      <td>B08F1P3BCC</td>\n",
       "      <td>4.0</td>\n",
       "      <td>2023-01-16 04:19:10.669</td>\n",
       "    </tr>\n",
       "    <tr>\n",
       "      <th>29821</th>\n",
       "      <td>AHZ6GFHFM6Z7CRPSXRIYQ5Z7GERQ</td>\n",
       "      <td>B08YF1VBYD</td>\n",
       "      <td>4.0</td>\n",
       "      <td>2022-05-28 18:44:43.983</td>\n",
       "    </tr>\n",
       "    <tr>\n",
       "      <th>38367</th>\n",
       "      <td>AHAI4X3YAVRMXXUR6USAT5L5WG3A</td>\n",
       "      <td>B0BMK6DC5W</td>\n",
       "      <td>1.0</td>\n",
       "      <td>2022-09-16 13:15:24.402</td>\n",
       "    </tr>\n",
       "    <tr>\n",
       "      <th>41950</th>\n",
       "      <td>AGBF2BZRN6M65YBFZCF54ENDRRAA</td>\n",
       "      <td>B0BM73T3K6</td>\n",
       "      <td>5.0</td>\n",
       "      <td>2022-08-26 12:13:41.632</td>\n",
       "    </tr>\n",
       "    <tr>\n",
       "      <th>...</th>\n",
       "      <td>...</td>\n",
       "      <td>...</td>\n",
       "      <td>...</td>\n",
       "      <td>...</td>\n",
       "    </tr>\n",
       "    <tr>\n",
       "      <th>33756582</th>\n",
       "      <td>AEUXNGJ4HXZXHHU5OF3BPR6ZCLNQ</td>\n",
       "      <td>B0BHGRJDCK</td>\n",
       "      <td>5.0</td>\n",
       "      <td>2022-04-18 15:02:10.839</td>\n",
       "    </tr>\n",
       "    <tr>\n",
       "      <th>33756584</th>\n",
       "      <td>AEUXNGJ4HXZXHHU5OF3BPR6ZCLNQ</td>\n",
       "      <td>B08CKZ36N7</td>\n",
       "      <td>5.0</td>\n",
       "      <td>2023-01-28 23:46:05.518</td>\n",
       "    </tr>\n",
       "    <tr>\n",
       "      <th>35019361</th>\n",
       "      <td>AFENZZDPVUYFVBS47YDOWJCDYBSQ</td>\n",
       "      <td>B09PRD4T26</td>\n",
       "      <td>5.0</td>\n",
       "      <td>2023-03-13 00:48:18.717</td>\n",
       "    </tr>\n",
       "    <tr>\n",
       "      <th>35323251</th>\n",
       "      <td>AFMBZYPDAXT5VO3ME67HW5Q5TAOQ</td>\n",
       "      <td>B09PB85B9K</td>\n",
       "      <td>5.0</td>\n",
       "      <td>2022-07-05 23:12:38.472</td>\n",
       "    </tr>\n",
       "    <tr>\n",
       "      <th>35914658</th>\n",
       "      <td>AFGAI7HTUHW5ZEYMKJLFBOFZWZSQ</td>\n",
       "      <td>B00F0H8TOC</td>\n",
       "      <td>5.0</td>\n",
       "      <td>2022-05-31 01:21:50.584</td>\n",
       "    </tr>\n",
       "  </tbody>\n",
       "</table>\n",
       "<p>1822 rows × 4 columns</p>\n",
       "</div>"
      ],
      "text/plain": [
       "                               user_id parent_asin  rating  \\\n",
       "13270     AHDXCFTV7RS3AM6E2TRPWOG3A33Q  B0BHMVBV9M     2.0   \n",
       "13271     AHDXCFTV7RS3AM6E2TRPWOG3A33Q  B08F1P3BCC     4.0   \n",
       "29821     AHZ6GFHFM6Z7CRPSXRIYQ5Z7GERQ  B08YF1VBYD     4.0   \n",
       "38367     AHAI4X3YAVRMXXUR6USAT5L5WG3A  B0BMK6DC5W     1.0   \n",
       "41950     AGBF2BZRN6M65YBFZCF54ENDRRAA  B0BM73T3K6     5.0   \n",
       "...                                ...         ...     ...   \n",
       "33756582  AEUXNGJ4HXZXHHU5OF3BPR6ZCLNQ  B0BHGRJDCK     5.0   \n",
       "33756584  AEUXNGJ4HXZXHHU5OF3BPR6ZCLNQ  B08CKZ36N7     5.0   \n",
       "35019361  AFENZZDPVUYFVBS47YDOWJCDYBSQ  B09PRD4T26     5.0   \n",
       "35323251  AFMBZYPDAXT5VO3ME67HW5Q5TAOQ  B09PB85B9K     5.0   \n",
       "35914658  AFGAI7HTUHW5ZEYMKJLFBOFZWZSQ  B00F0H8TOC     5.0   \n",
       "\n",
       "                       timestamp  \n",
       "13270    2022-08-27 16:17:48.228  \n",
       "13271    2023-01-16 04:19:10.669  \n",
       "29821    2022-05-28 18:44:43.983  \n",
       "38367    2022-09-16 13:15:24.402  \n",
       "41950    2022-08-26 12:13:41.632  \n",
       "...                          ...  \n",
       "33756582 2022-04-18 15:02:10.839  \n",
       "33756584 2023-01-28 23:46:05.518  \n",
       "35019361 2023-03-13 00:48:18.717  \n",
       "35323251 2022-07-05 23:12:38.472  \n",
       "35914658 2022-05-31 01:21:50.584  \n",
       "\n",
       "[1822 rows x 4 columns]"
      ]
     },
     "execution_count": 110,
     "metadata": {},
     "output_type": "execute_result"
    }
   ],
   "source": [
    "test_sample_df"
   ]
  },
  {
   "cell_type": "code",
   "execution_count": 111,
   "metadata": {},
   "outputs": [],
   "source": [
    "subsets = [\"train\", \"val\", \"test\"]\n",
    "original_length = {\"train\": train_df.shape[0], \"val\": val_df.shape[0], \"test\": test_df.shape[0]}\n",
    "sampled_length = {\"train\": sample_df.shape[0], \"val\": val_sample_df.shape[0], \"test\": test_sample_df.shape[0]}\n"
   ]
  },
  {
   "cell_type": "code",
   "execution_count": 112,
   "metadata": {},
   "outputs": [
    {
     "data": {
      "text/plain": [
       "{'train': 13043980, 'val': 1375948, 'test': 749578}"
      ]
     },
     "execution_count": 112,
     "metadata": {},
     "output_type": "execute_result"
    }
   ],
   "source": [
    "original_length"
   ]
  },
  {
   "cell_type": "code",
   "execution_count": 113,
   "metadata": {},
   "outputs": [
    {
     "data": {
      "text/plain": [
       "{'train': 127392, 'val': 3479, 'test': 1822}"
      ]
     },
     "execution_count": 113,
     "metadata": {},
     "output_type": "execute_result"
    }
   ],
   "source": [
    "sampled_length"
   ]
  },
  {
   "cell_type": "code",
   "execution_count": 114,
   "metadata": {},
   "outputs": [
    {
     "data": {
      "application/vnd.plotly.v1+json": {
       "config": {
        "plotlyServerURL": "https://plot.ly"
       },
       "data": [
        {
         "marker": {
          "color": "lightblue"
         },
         "name": "original",
         "showlegend": true,
         "texttemplate": "%{y:.2}",
         "type": "bar",
         "x": [
          "train"
         ],
         "xaxis": "x",
         "y": [
          13043980
         ],
         "yaxis": "y"
        },
        {
         "marker": {
          "color": "lightgreen"
         },
         "name": "sample",
         "showlegend": true,
         "texttemplate": "%{y:.2}",
         "type": "bar",
         "x": [
          "train"
         ],
         "xaxis": "x",
         "y": [
          127392
         ],
         "yaxis": "y"
        },
        {
         "marker": {
          "color": "lightblue"
         },
         "name": "original",
         "showlegend": false,
         "texttemplate": "%{y:.2}",
         "type": "bar",
         "x": [
          "val"
         ],
         "xaxis": "x2",
         "y": [
          1375948
         ],
         "yaxis": "y2"
        },
        {
         "marker": {
          "color": "lightgreen"
         },
         "name": "sample",
         "showlegend": false,
         "texttemplate": "%{y:.2}",
         "type": "bar",
         "x": [
          "val"
         ],
         "xaxis": "x2",
         "y": [
          3479
         ],
         "yaxis": "y2"
        },
        {
         "marker": {
          "color": "lightblue"
         },
         "name": "original",
         "showlegend": false,
         "texttemplate": "%{y:.2}",
         "type": "bar",
         "x": [
          "test"
         ],
         "xaxis": "x3",
         "y": [
          749578
         ],
         "yaxis": "y3"
        },
        {
         "marker": {
          "color": "lightgreen"
         },
         "name": "sample",
         "showlegend": false,
         "texttemplate": "%{y:.2}",
         "type": "bar",
         "x": [
          "test"
         ],
         "xaxis": "x3",
         "y": [
          1822
         ],
         "yaxis": "y3"
        }
       ],
       "layout": {
        "annotations": [
         {
          "font": {
           "color": "black",
           "size": 14
          },
          "showarrow": false,
          "text": "Δ=-99.02%",
          "x": "train",
          "xref": "x",
          "y": 140131.2,
          "yref": "y"
         },
         {
          "font": {
           "color": "black",
           "size": 14
          },
          "showarrow": false,
          "text": "Δ=-99.75%",
          "x": "val",
          "xref": "x2",
          "y": 3826.9,
          "yref": "y2"
         },
         {
          "font": {
           "color": "black",
           "size": 14
          },
          "showarrow": false,
          "text": "Δ=-99.76%",
          "x": "test",
          "xref": "x3",
          "y": 2004.2000000000003,
          "yref": "y3"
         }
        ],
        "showlegend": true,
        "template": {
         "data": {
          "bar": [
           {
            "error_x": {
             "color": "#2a3f5f"
            },
            "error_y": {
             "color": "#2a3f5f"
            },
            "marker": {
             "line": {
              "color": "#E5ECF6",
              "width": 0.5
             },
             "pattern": {
              "fillmode": "overlay",
              "size": 10,
              "solidity": 0.2
             }
            },
            "type": "bar"
           }
          ],
          "barpolar": [
           {
            "marker": {
             "line": {
              "color": "#E5ECF6",
              "width": 0.5
             },
             "pattern": {
              "fillmode": "overlay",
              "size": 10,
              "solidity": 0.2
             }
            },
            "type": "barpolar"
           }
          ],
          "carpet": [
           {
            "aaxis": {
             "endlinecolor": "#2a3f5f",
             "gridcolor": "white",
             "linecolor": "white",
             "minorgridcolor": "white",
             "startlinecolor": "#2a3f5f"
            },
            "baxis": {
             "endlinecolor": "#2a3f5f",
             "gridcolor": "white",
             "linecolor": "white",
             "minorgridcolor": "white",
             "startlinecolor": "#2a3f5f"
            },
            "type": "carpet"
           }
          ],
          "choropleth": [
           {
            "colorbar": {
             "outlinewidth": 0,
             "ticks": ""
            },
            "type": "choropleth"
           }
          ],
          "contour": [
           {
            "colorbar": {
             "outlinewidth": 0,
             "ticks": ""
            },
            "colorscale": [
             [
              0,
              "#0d0887"
             ],
             [
              0.1111111111111111,
              "#46039f"
             ],
             [
              0.2222222222222222,
              "#7201a8"
             ],
             [
              0.3333333333333333,
              "#9c179e"
             ],
             [
              0.4444444444444444,
              "#bd3786"
             ],
             [
              0.5555555555555556,
              "#d8576b"
             ],
             [
              0.6666666666666666,
              "#ed7953"
             ],
             [
              0.7777777777777778,
              "#fb9f3a"
             ],
             [
              0.8888888888888888,
              "#fdca26"
             ],
             [
              1,
              "#f0f921"
             ]
            ],
            "type": "contour"
           }
          ],
          "contourcarpet": [
           {
            "colorbar": {
             "outlinewidth": 0,
             "ticks": ""
            },
            "type": "contourcarpet"
           }
          ],
          "heatmap": [
           {
            "colorbar": {
             "outlinewidth": 0,
             "ticks": ""
            },
            "colorscale": [
             [
              0,
              "#0d0887"
             ],
             [
              0.1111111111111111,
              "#46039f"
             ],
             [
              0.2222222222222222,
              "#7201a8"
             ],
             [
              0.3333333333333333,
              "#9c179e"
             ],
             [
              0.4444444444444444,
              "#bd3786"
             ],
             [
              0.5555555555555556,
              "#d8576b"
             ],
             [
              0.6666666666666666,
              "#ed7953"
             ],
             [
              0.7777777777777778,
              "#fb9f3a"
             ],
             [
              0.8888888888888888,
              "#fdca26"
             ],
             [
              1,
              "#f0f921"
             ]
            ],
            "type": "heatmap"
           }
          ],
          "histogram": [
           {
            "marker": {
             "pattern": {
              "fillmode": "overlay",
              "size": 10,
              "solidity": 0.2
             }
            },
            "type": "histogram"
           }
          ],
          "histogram2d": [
           {
            "colorbar": {
             "outlinewidth": 0,
             "ticks": ""
            },
            "colorscale": [
             [
              0,
              "#0d0887"
             ],
             [
              0.1111111111111111,
              "#46039f"
             ],
             [
              0.2222222222222222,
              "#7201a8"
             ],
             [
              0.3333333333333333,
              "#9c179e"
             ],
             [
              0.4444444444444444,
              "#bd3786"
             ],
             [
              0.5555555555555556,
              "#d8576b"
             ],
             [
              0.6666666666666666,
              "#ed7953"
             ],
             [
              0.7777777777777778,
              "#fb9f3a"
             ],
             [
              0.8888888888888888,
              "#fdca26"
             ],
             [
              1,
              "#f0f921"
             ]
            ],
            "type": "histogram2d"
           }
          ],
          "histogram2dcontour": [
           {
            "colorbar": {
             "outlinewidth": 0,
             "ticks": ""
            },
            "colorscale": [
             [
              0,
              "#0d0887"
             ],
             [
              0.1111111111111111,
              "#46039f"
             ],
             [
              0.2222222222222222,
              "#7201a8"
             ],
             [
              0.3333333333333333,
              "#9c179e"
             ],
             [
              0.4444444444444444,
              "#bd3786"
             ],
             [
              0.5555555555555556,
              "#d8576b"
             ],
             [
              0.6666666666666666,
              "#ed7953"
             ],
             [
              0.7777777777777778,
              "#fb9f3a"
             ],
             [
              0.8888888888888888,
              "#fdca26"
             ],
             [
              1,
              "#f0f921"
             ]
            ],
            "type": "histogram2dcontour"
           }
          ],
          "mesh3d": [
           {
            "colorbar": {
             "outlinewidth": 0,
             "ticks": ""
            },
            "type": "mesh3d"
           }
          ],
          "parcoords": [
           {
            "line": {
             "colorbar": {
              "outlinewidth": 0,
              "ticks": ""
             }
            },
            "type": "parcoords"
           }
          ],
          "pie": [
           {
            "automargin": true,
            "type": "pie"
           }
          ],
          "scatter": [
           {
            "fillpattern": {
             "fillmode": "overlay",
             "size": 10,
             "solidity": 0.2
            },
            "type": "scatter"
           }
          ],
          "scatter3d": [
           {
            "line": {
             "colorbar": {
              "outlinewidth": 0,
              "ticks": ""
             }
            },
            "marker": {
             "colorbar": {
              "outlinewidth": 0,
              "ticks": ""
             }
            },
            "type": "scatter3d"
           }
          ],
          "scattercarpet": [
           {
            "marker": {
             "colorbar": {
              "outlinewidth": 0,
              "ticks": ""
             }
            },
            "type": "scattercarpet"
           }
          ],
          "scattergeo": [
           {
            "marker": {
             "colorbar": {
              "outlinewidth": 0,
              "ticks": ""
             }
            },
            "type": "scattergeo"
           }
          ],
          "scattergl": [
           {
            "marker": {
             "colorbar": {
              "outlinewidth": 0,
              "ticks": ""
             }
            },
            "type": "scattergl"
           }
          ],
          "scattermap": [
           {
            "marker": {
             "colorbar": {
              "outlinewidth": 0,
              "ticks": ""
             }
            },
            "type": "scattermap"
           }
          ],
          "scattermapbox": [
           {
            "marker": {
             "colorbar": {
              "outlinewidth": 0,
              "ticks": ""
             }
            },
            "type": "scattermapbox"
           }
          ],
          "scatterpolar": [
           {
            "marker": {
             "colorbar": {
              "outlinewidth": 0,
              "ticks": ""
             }
            },
            "type": "scatterpolar"
           }
          ],
          "scatterpolargl": [
           {
            "marker": {
             "colorbar": {
              "outlinewidth": 0,
              "ticks": ""
             }
            },
            "type": "scatterpolargl"
           }
          ],
          "scatterternary": [
           {
            "marker": {
             "colorbar": {
              "outlinewidth": 0,
              "ticks": ""
             }
            },
            "type": "scatterternary"
           }
          ],
          "surface": [
           {
            "colorbar": {
             "outlinewidth": 0,
             "ticks": ""
            },
            "colorscale": [
             [
              0,
              "#0d0887"
             ],
             [
              0.1111111111111111,
              "#46039f"
             ],
             [
              0.2222222222222222,
              "#7201a8"
             ],
             [
              0.3333333333333333,
              "#9c179e"
             ],
             [
              0.4444444444444444,
              "#bd3786"
             ],
             [
              0.5555555555555556,
              "#d8576b"
             ],
             [
              0.6666666666666666,
              "#ed7953"
             ],
             [
              0.7777777777777778,
              "#fb9f3a"
             ],
             [
              0.8888888888888888,
              "#fdca26"
             ],
             [
              1,
              "#f0f921"
             ]
            ],
            "type": "surface"
           }
          ],
          "table": [
           {
            "cells": {
             "fill": {
              "color": "#EBF0F8"
             },
             "line": {
              "color": "white"
             }
            },
            "header": {
             "fill": {
              "color": "#C8D4E3"
             },
             "line": {
              "color": "white"
             }
            },
            "type": "table"
           }
          ]
         },
         "layout": {
          "annotationdefaults": {
           "arrowcolor": "#2a3f5f",
           "arrowhead": 0,
           "arrowwidth": 1
          },
          "autotypenumbers": "strict",
          "coloraxis": {
           "colorbar": {
            "outlinewidth": 0,
            "ticks": ""
           }
          },
          "colorscale": {
           "diverging": [
            [
             0,
             "#8e0152"
            ],
            [
             0.1,
             "#c51b7d"
            ],
            [
             0.2,
             "#de77ae"
            ],
            [
             0.3,
             "#f1b6da"
            ],
            [
             0.4,
             "#fde0ef"
            ],
            [
             0.5,
             "#f7f7f7"
            ],
            [
             0.6,
             "#e6f5d0"
            ],
            [
             0.7,
             "#b8e186"
            ],
            [
             0.8,
             "#7fbc41"
            ],
            [
             0.9,
             "#4d9221"
            ],
            [
             1,
             "#276419"
            ]
           ],
           "sequential": [
            [
             0,
             "#0d0887"
            ],
            [
             0.1111111111111111,
             "#46039f"
            ],
            [
             0.2222222222222222,
             "#7201a8"
            ],
            [
             0.3333333333333333,
             "#9c179e"
            ],
            [
             0.4444444444444444,
             "#bd3786"
            ],
            [
             0.5555555555555556,
             "#d8576b"
            ],
            [
             0.6666666666666666,
             "#ed7953"
            ],
            [
             0.7777777777777778,
             "#fb9f3a"
            ],
            [
             0.8888888888888888,
             "#fdca26"
            ],
            [
             1,
             "#f0f921"
            ]
           ],
           "sequentialminus": [
            [
             0,
             "#0d0887"
            ],
            [
             0.1111111111111111,
             "#46039f"
            ],
            [
             0.2222222222222222,
             "#7201a8"
            ],
            [
             0.3333333333333333,
             "#9c179e"
            ],
            [
             0.4444444444444444,
             "#bd3786"
            ],
            [
             0.5555555555555556,
             "#d8576b"
            ],
            [
             0.6666666666666666,
             "#ed7953"
            ],
            [
             0.7777777777777778,
             "#fb9f3a"
            ],
            [
             0.8888888888888888,
             "#fdca26"
            ],
            [
             1,
             "#f0f921"
            ]
           ]
          },
          "colorway": [
           "#636efa",
           "#EF553B",
           "#00cc96",
           "#ab63fa",
           "#FFA15A",
           "#19d3f3",
           "#FF6692",
           "#B6E880",
           "#FF97FF",
           "#FECB52"
          ],
          "font": {
           "color": "#2a3f5f"
          },
          "geo": {
           "bgcolor": "white",
           "lakecolor": "white",
           "landcolor": "#E5ECF6",
           "showlakes": true,
           "showland": true,
           "subunitcolor": "white"
          },
          "hoverlabel": {
           "align": "left"
          },
          "hovermode": "closest",
          "mapbox": {
           "style": "light"
          },
          "paper_bgcolor": "white",
          "plot_bgcolor": "#E5ECF6",
          "polar": {
           "angularaxis": {
            "gridcolor": "white",
            "linecolor": "white",
            "ticks": ""
           },
           "bgcolor": "#E5ECF6",
           "radialaxis": {
            "gridcolor": "white",
            "linecolor": "white",
            "ticks": ""
           }
          },
          "scene": {
           "xaxis": {
            "backgroundcolor": "#E5ECF6",
            "gridcolor": "white",
            "gridwidth": 2,
            "linecolor": "white",
            "showbackground": true,
            "ticks": "",
            "zerolinecolor": "white"
           },
           "yaxis": {
            "backgroundcolor": "#E5ECF6",
            "gridcolor": "white",
            "gridwidth": 2,
            "linecolor": "white",
            "showbackground": true,
            "ticks": "",
            "zerolinecolor": "white"
           },
           "zaxis": {
            "backgroundcolor": "#E5ECF6",
            "gridcolor": "white",
            "gridwidth": 2,
            "linecolor": "white",
            "showbackground": true,
            "ticks": "",
            "zerolinecolor": "white"
           }
          },
          "shapedefaults": {
           "line": {
            "color": "#2a3f5f"
           }
          },
          "ternary": {
           "aaxis": {
            "gridcolor": "white",
            "linecolor": "white",
            "ticks": ""
           },
           "baxis": {
            "gridcolor": "white",
            "linecolor": "white",
            "ticks": ""
           },
           "bgcolor": "#E5ECF6",
           "caxis": {
            "gridcolor": "white",
            "linecolor": "white",
            "ticks": ""
           }
          },
          "title": {
           "x": 0.05
          },
          "xaxis": {
           "automargin": true,
           "gridcolor": "white",
           "linecolor": "white",
           "ticks": "",
           "title": {
            "standoff": 15
           },
           "zerolinecolor": "white",
           "zerolinewidth": 2
          },
          "yaxis": {
           "automargin": true,
           "gridcolor": "white",
           "linecolor": "white",
           "ticks": "",
           "title": {
            "standoff": 15
           },
           "zerolinecolor": "white",
           "zerolinewidth": 2
          }
         }
        },
        "xaxis": {
         "anchor": "y",
         "domain": [
          0,
          0.2888888888888889
         ]
        },
        "xaxis2": {
         "anchor": "y2",
         "domain": [
          0.35555555555555557,
          0.6444444444444445
         ]
        },
        "xaxis3": {
         "anchor": "y3",
         "domain": [
          0.7111111111111111,
          1
         ]
        },
        "yaxis": {
         "anchor": "x",
         "domain": [
          0,
          1
         ]
        },
        "yaxis2": {
         "anchor": "x2",
         "domain": [
          0,
          1
         ]
        },
        "yaxis3": {
         "anchor": "x3",
         "domain": [
          0,
          1
         ]
        }
       }
      }
     },
     "metadata": {},
     "output_type": "display_data"
    }
   ],
   "source": [
    "fig = make_subplots(rows=1, cols=3)\n",
    "\n",
    "# Add data for each subset\n",
    "for i, subset in enumerate(subsets):\n",
    "    row = i // 3 + 1\n",
    "    col = i % 3 +1\n",
    "\n",
    "    # Add trace for 'curr'\n",
    "    fig.add_trace(\n",
    "        go.Bar(\n",
    "            name=\"original\",\n",
    "            x=[subset],\n",
    "            y=[original_length[subset]],\n",
    "            marker_color = \"lightblue\",\n",
    "            showlegend=(i == 0),\n",
    "            texttemplate=\"%{y:.2}\",\n",
    "        ),\n",
    "        row=row,\n",
    "        col=col,\n",
    "    )\n",
    "\n",
    "    # Add trace for 'new'\n",
    "    fig.add_trace(\n",
    "        go.Bar(\n",
    "            name=\"sample\",\n",
    "            x=[subset],\n",
    "            y=[sampled_length[subset]],\n",
    "            marker_color=\"lightgreen\",\n",
    "            showlegend=(i == 0),\n",
    "            texttemplate=\"%{y:.2}\",\n",
    "        ),\n",
    "        row=row,\n",
    "        col=col,\n",
    "    )\n",
    "\n",
    "    # Add diff annotation\n",
    "    difference = (sampled_length[subset] - original_length[subset]) / original_length[\n",
    "        subset\n",
    "    ]\n",
    "    fig.add_annotation(\n",
    "        x=subset,\n",
    "        y=sampled_length[subset] * 1.10,  # Position above the tallest bar\n",
    "        text=f\"Δ={difference:.2%}\",\n",
    "        showarrow=False,\n",
    "        font=dict(color=\"black\", size=14),\n",
    "        row=row,\n",
    "        col=col,\n",
    "    )\n",
    "\n",
    "fig.update_layout(showlegend=True)\n",
    "\n",
    "fig.show()"
   ]
  },
  {
   "cell_type": "code",
   "execution_count": 115,
   "metadata": {},
   "outputs": [
    {
     "data": {
      "text/plain": [
       "16407"
      ]
     },
     "execution_count": 115,
     "metadata": {},
     "output_type": "execute_result"
    }
   ],
   "source": [
    "num_users = sample_df[args.user_col].nunique()\n",
    "num_users"
   ]
  },
  {
   "cell_type": "code",
   "execution_count": 116,
   "metadata": {},
   "outputs": [],
   "source": [
    "# Perit the sampled data\n",
    "sample_df.to_parquet(f\"{args.sample_data_persit_path}/train_sample_interactions_{num_users}u.parquet\")\n",
    "val_sample_df.to_parquet(f\"{args.sample_data_persit_path}/val_sample_interactions_{num_users}u.parquet\")\n",
    "test_sample_df.to_parquet(f\"{args.sample_data_persit_path}/test_sample_interactions_{num_users}u.parquet\")"
   ]
  },
  {
   "cell_type": "markdown",
   "metadata": {},
   "source": [
    "Remember to version your data with dvc"
   ]
  },
  {
   "cell_type": "code",
   "execution_count": 117,
   "metadata": {},
   "outputs": [],
   "source": [
    "train_sample_df = pd.read_parquet(f\"{args.sample_data_persit_path}/train_sample_interactions_{num_users}u.parquet\")"
   ]
  },
  {
   "cell_type": "code",
   "execution_count": 118,
   "metadata": {},
   "outputs": [],
   "source": [
    "def plot_interactions_over_time(df):\n",
    "    df = df.assign(timestamp=df[args.timestamp_col].dt.date)\n",
    "    plot_df = df.groupby(args.timestamp_col).size()\n",
    "\n",
    "    fig = px.line(\n",
    "        x=plot_df.index,\n",
    "        y=plot_df.values,\n",
    "        labels={\"x\": \"Date\", \"y\": \"Number of Interactions\"},\n",
    "        title=\"Interactions Over Time\",\n",
    "        height=500,\n",
    "    )\n",
    "\n",
    "    fig.update_layout(yaxis=dict(showticklabels=True, tickformat=\",\"))\n",
    "\n",
    "    fig.show()"
   ]
  },
  {
   "cell_type": "code",
   "execution_count": 119,
   "metadata": {},
   "outputs": [
    {
     "data": {
      "text/html": [
       "<div>\n",
       "<style scoped>\n",
       "    .dataframe tbody tr th:only-of-type {\n",
       "        vertical-align: middle;\n",
       "    }\n",
       "\n",
       "    .dataframe tbody tr th {\n",
       "        vertical-align: top;\n",
       "    }\n",
       "\n",
       "    .dataframe thead th {\n",
       "        text-align: right;\n",
       "    }\n",
       "</style>\n",
       "<table border=\"1\" class=\"dataframe\">\n",
       "  <thead>\n",
       "    <tr style=\"text-align: right;\">\n",
       "      <th></th>\n",
       "      <th>user_id</th>\n",
       "      <th>parent_asin</th>\n",
       "      <th>rating</th>\n",
       "      <th>timestamp</th>\n",
       "    </tr>\n",
       "  </thead>\n",
       "  <tbody>\n",
       "    <tr>\n",
       "      <th>3194</th>\n",
       "      <td>AEYGPUCRKH7G4VM22FM3VAKSQ23Q</td>\n",
       "      <td>B06XKCPK5W</td>\n",
       "      <td>2.0</td>\n",
       "      <td>2012-06-11 16:41:10</td>\n",
       "    </tr>\n",
       "    <tr>\n",
       "      <th>3199</th>\n",
       "      <td>AEYGPUCRKH7G4VM22FM3VAKSQ23Q</td>\n",
       "      <td>B000CKVOOY</td>\n",
       "      <td>3.0</td>\n",
       "      <td>2012-08-02 02:04:13</td>\n",
       "    </tr>\n",
       "    <tr>\n",
       "      <th>3200</th>\n",
       "      <td>AEYGPUCRKH7G4VM22FM3VAKSQ23Q</td>\n",
       "      <td>B006GWO5WK</td>\n",
       "      <td>5.0</td>\n",
       "      <td>2012-09-15 16:34:46</td>\n",
       "    </tr>\n",
       "    <tr>\n",
       "      <th>3204</th>\n",
       "      <td>AEYGPUCRKH7G4VM22FM3VAKSQ23Q</td>\n",
       "      <td>B008LURQ76</td>\n",
       "      <td>5.0</td>\n",
       "      <td>2013-01-03 23:08:45</td>\n",
       "    </tr>\n",
       "    <tr>\n",
       "      <th>3208</th>\n",
       "      <td>AEYGPUCRKH7G4VM22FM3VAKSQ23Q</td>\n",
       "      <td>B00AQRUW4Q</td>\n",
       "      <td>4.0</td>\n",
       "      <td>2013-05-06 01:24:39</td>\n",
       "    </tr>\n",
       "    <tr>\n",
       "      <th>...</th>\n",
       "      <td>...</td>\n",
       "      <td>...</td>\n",
       "      <td>...</td>\n",
       "      <td>...</td>\n",
       "    </tr>\n",
       "    <tr>\n",
       "      <th>40882304</th>\n",
       "      <td>AFB4DWWKZBQFS22FAWDEP37EL2FA</td>\n",
       "      <td>B00KAF5RQ2</td>\n",
       "      <td>5.0</td>\n",
       "      <td>2016-02-22 17:44:10</td>\n",
       "    </tr>\n",
       "    <tr>\n",
       "      <th>40882305</th>\n",
       "      <td>AFB4DWWKZBQFS22FAWDEP37EL2FA</td>\n",
       "      <td>B001F6TXME</td>\n",
       "      <td>5.0</td>\n",
       "      <td>2016-02-22 17:44:40</td>\n",
       "    </tr>\n",
       "    <tr>\n",
       "      <th>40882306</th>\n",
       "      <td>AFB4DWWKZBQFS22FAWDEP37EL2FA</td>\n",
       "      <td>B007VGGIB6</td>\n",
       "      <td>5.0</td>\n",
       "      <td>2016-02-22 17:45:10</td>\n",
       "    </tr>\n",
       "    <tr>\n",
       "      <th>40882307</th>\n",
       "      <td>AFB4DWWKZBQFS22FAWDEP37EL2FA</td>\n",
       "      <td>B00WUID73W</td>\n",
       "      <td>5.0</td>\n",
       "      <td>2016-02-22 17:45:37</td>\n",
       "    </tr>\n",
       "    <tr>\n",
       "      <th>40882310</th>\n",
       "      <td>AFB4DWWKZBQFS22FAWDEP37EL2FA</td>\n",
       "      <td>B00SFSU53G</td>\n",
       "      <td>5.0</td>\n",
       "      <td>2016-07-15 00:58:19</td>\n",
       "    </tr>\n",
       "  </tbody>\n",
       "</table>\n",
       "<p>127392 rows × 4 columns</p>\n",
       "</div>"
      ],
      "text/plain": [
       "                               user_id parent_asin  rating           timestamp\n",
       "3194      AEYGPUCRKH7G4VM22FM3VAKSQ23Q  B06XKCPK5W     2.0 2012-06-11 16:41:10\n",
       "3199      AEYGPUCRKH7G4VM22FM3VAKSQ23Q  B000CKVOOY     3.0 2012-08-02 02:04:13\n",
       "3200      AEYGPUCRKH7G4VM22FM3VAKSQ23Q  B006GWO5WK     5.0 2012-09-15 16:34:46\n",
       "3204      AEYGPUCRKH7G4VM22FM3VAKSQ23Q  B008LURQ76     5.0 2013-01-03 23:08:45\n",
       "3208      AEYGPUCRKH7G4VM22FM3VAKSQ23Q  B00AQRUW4Q     4.0 2013-05-06 01:24:39\n",
       "...                                ...         ...     ...                 ...\n",
       "40882304  AFB4DWWKZBQFS22FAWDEP37EL2FA  B00KAF5RQ2     5.0 2016-02-22 17:44:10\n",
       "40882305  AFB4DWWKZBQFS22FAWDEP37EL2FA  B001F6TXME     5.0 2016-02-22 17:44:40\n",
       "40882306  AFB4DWWKZBQFS22FAWDEP37EL2FA  B007VGGIB6     5.0 2016-02-22 17:45:10\n",
       "40882307  AFB4DWWKZBQFS22FAWDEP37EL2FA  B00WUID73W     5.0 2016-02-22 17:45:37\n",
       "40882310  AFB4DWWKZBQFS22FAWDEP37EL2FA  B00SFSU53G     5.0 2016-07-15 00:58:19\n",
       "\n",
       "[127392 rows x 4 columns]"
      ]
     },
     "execution_count": 119,
     "metadata": {},
     "output_type": "execute_result"
    }
   ],
   "source": [
    "train_sample_df"
   ]
  },
  {
   "cell_type": "code",
   "execution_count": 120,
   "metadata": {},
   "outputs": [
    {
     "name": "stderr",
     "output_type": "stream",
     "text": [
      "\u001b[32m2025-03-27 01:37:15.000\u001b[0m | \u001b[1mINFO    \u001b[0m | \u001b[36m__main__\u001b[0m:\u001b[36m<module>\u001b[0m:\u001b[36m5\u001b[0m - \u001b[1mNumber of unique users: 16,407\u001b[0m\n",
      "\u001b[32m2025-03-27 01:37:15.000\u001b[0m | \u001b[1mINFO    \u001b[0m | \u001b[36m__main__\u001b[0m:\u001b[36m<module>\u001b[0m:\u001b[36m6\u001b[0m - \u001b[1mNumber of unique items: 4,817\u001b[0m\n"
     ]
    }
   ],
   "source": [
    "# Build up idm\n",
    "# Sorted to make sure that even rerun we get same idm mapping\n",
    "unique_user_ids = sorted(train_sample_df[args.user_col].unique())\n",
    "unique_item_ids = sorted(train_sample_df[args.item_col].unique())\n",
    "logger.info(f\"Number of unique users: {len(unique_user_ids):,.0f}\")\n",
    "logger.info(f\"Number of unique items: {len(unique_item_ids):,.0f}\")\n",
    "idm = IDMapper()\n",
    "idm.fit(unique_user_ids, unique_item_ids)"
   ]
  },
  {
   "cell_type": "code",
   "execution_count": 121,
   "metadata": {},
   "outputs": [],
   "source": [
    "idm.save(f\"{args.notebook_persit_path}/idm_{num_users}u.json\")\n",
    "idm_persist_fp = f\"{args.notebook_persit_path}/idm_{num_users}u.json\"\n",
    "idm = IDMapper().load(idm_persist_fp)"
   ]
  },
  {
   "cell_type": "code",
   "execution_count": 122,
   "metadata": {},
   "outputs": [
    {
     "data": {
      "text/plain": [
       "4817"
      ]
     },
     "execution_count": 122,
     "metadata": {},
     "output_type": "execute_result"
    }
   ],
   "source": [
    "len(idm.item_to_index)"
   ]
  },
  {
   "cell_type": "code",
   "execution_count": 123,
   "metadata": {},
   "outputs": [],
   "source": [
    "for k, _ in idm.item_to_index.items():\n",
    "    assert type(k) is str, \"Type of user id should be string\"\n",
    "for k,_ in idm.user_to_index.items():\n",
    "    assert type(k) is str, \"Type of item id should be string\""
   ]
  }
 ],
 "metadata": {
  "kernelspec": {
   "display_name": "Python 3",
   "language": "python",
   "name": "python3"
  },
  "language_info": {
   "codemirror_mode": {
    "name": "ipython",
    "version": 3
   },
   "file_extension": ".py",
   "mimetype": "text/x-python",
   "name": "python",
   "nbconvert_exporter": "python",
   "pygments_lexer": "ipython3",
   "version": "3.11.9"
  }
 },
 "nbformat": 4,
 "nbformat_minor": 2
}
