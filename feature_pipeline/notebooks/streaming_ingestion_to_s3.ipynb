{
 "cells": [
  {
   "cell_type": "markdown",
   "metadata": {},
   "source": [
    "# Setup"
   ]
  },
  {
   "cell_type": "code",
   "execution_count": 2,
   "metadata": {},
   "outputs": [],
   "source": [
    "%load_ext autoreload\n",
    "%autoreload 2 "
   ]
  },
  {
   "cell_type": "code",
   "execution_count": 3,
   "metadata": {},
   "outputs": [],
   "source": [
    "import pandas as pd\n",
    "from sqlalchemy import create_engine\n",
    "from datasets import load_dataset\n",
    "from pydantic import BaseModel\n",
    "from dotenv import load_dotenv\n",
    "from loguru import logger\n",
    "from datetime import timedelta\n",
    "import sys\n",
    "import dask.dataframe as dd\n",
    "from sqlalchemy.types import Text, ARRAY, JSON\n",
    "import gc\n",
    "\n",
    "sys.path.insert(0, \"..\")\n",
    "sys.path.insert(1, \"../../\")\n",
    "\n",
    "from src.utils.data_prep import parse_dt, handle_dtypes\n",
    "from src.utils.data_prep import insert_chunk_to_oltp\n",
    "import os"
   ]
  },
  {
   "cell_type": "code",
   "execution_count": 4,
   "metadata": {},
   "outputs": [],
   "source": [
    "_ = load_dotenv(override=True)"
   ]
  },
  {
   "cell_type": "markdown",
   "metadata": {},
   "source": [
    "## Arguments"
   ]
  },
  {
   "cell_type": "code",
   "execution_count": 4,
   "metadata": {},
   "outputs": [
    {
     "name": "stdout",
     "output_type": "stream",
     "text": [
      "{\n",
      "  \"random_seed\": 41,\n",
      "  \"testing\": false,\n",
      "  \"user_col\": \"user_id\",\n",
      "  \"item_col\": \"parent_asin\",\n",
      "  \"rating_col\": \"rating\",\n",
      "  \"timestamp_col\": \"timestamp\",\n",
      "  \"transaction_table_name\": \"amz_review_rating_raw\",\n",
      "  \"metadata_table_name\": \"amz_review_metadata_raw\",\n",
      "  \"hf_dataset_name\": \"McAuley-Lab/Amazon-Reviews-2023\",\n",
      "  \"amz_rating_hf_dataset_path\": \"0core_rating_only_Electronics\",\n",
      "  \"amz_metadata_hf_dataset_path\": \"raw_meta_Electronics\",\n",
      "  \"holdout_days\": 30,\n",
      "  \"data_persist_dir\": \"/media/disk/real_time_recsys/data_for_ai/raw\"\n",
      "}\n"
     ]
    }
   ],
   "source": [
    "class Args(BaseModel):\n",
    "    random_seed: int = 41\n",
    "    testing: bool = False\n",
    "\n",
    "    user_col: str = \"user_id\"\n",
    "    item_col: str = \"parent_asin\"\n",
    "    rating_col: str = \"rating\"\n",
    "    timestamp_col: str = \"timestamp\"\n",
    "\n",
    "    transaction_table_name: str = \"amz_review_rating_raw\"\n",
    "    metadata_table_name: str = \"amz_review_metadata_raw\"\n",
    "\n",
    "    hf_dataset_name: str = \"McAuley-Lab/Amazon-Reviews-2023\"\n",
    "    amz_rating_hf_dataset_path: str = \"0core_rating_only_Electronics\"    #load o-core to demo real-world problem: cold-start, sparse data\n",
    "    amz_metadata_hf_dataset_path: str = \"raw_meta_Electronics\"\n",
    "\n",
    "    holdout_days: int = 30\n",
    "\n",
    "    data_persist_dir: str = None\n",
    "\n",
    "    def init(self):\n",
    "        if not self.testing:\n",
    "            self.data_persist_dir = os.path.abspath(\"../../data_for_ai/raw\")   \n",
    "            os.makedirs(self.data_persist_dir, exist_ok=True)\n",
    "        return self\n",
    "\n",
    "args = Args().init()\n",
    "print(args.model_dump_json(indent=2))\n"
   ]
  },
  {
   "cell_type": "markdown",
   "metadata": {},
   "source": [
    "## Load dataset"
   ]
  },
  {
   "cell_type": "code",
   "execution_count": null,
   "metadata": {},
   "outputs": [
    {
     "ename": "",
     "evalue": "",
     "output_type": "error",
     "traceback": [
      "\u001b[1;31mThe Kernel crashed while executing code in the current cell or a previous cell. \n",
      "\u001b[1;31mPlease review the code in the cell(s) to identify a possible cause of the failure. \n",
      "\u001b[1;31mClick <a href='https://aka.ms/vscodeJupyterKernelCrash'>here</a> for more info. \n",
      "\u001b[1;31mView Jupyter <a href='command:jupyter.viewOutput'>log</a> for further details."
     ]
    }
   ],
   "source": [
    "amz_rating_raw = load_dataset(args.hf_dataset_name,\n",
    "                              args.amz_rating_hf_dataset_path,\n",
    "                              split=\"full\",\n",
    "                              trust_remote_code=True)"
   ]
  },
  {
   "cell_type": "code",
   "execution_count": null,
   "metadata": {},
   "outputs": [],
   "source": [
    "amz_rating_df = amz_rating_raw.to_pandas()\n",
    "amz_rating_df.drop_duplicates(subset=[args.user_col, args.item_col], inplace=True)\n",
    "\n",
    "logger.info(f\"amz_rating_df.shape: {amz_rating_df.shape}\")"
   ]
  },
  {
   "cell_type": "code",
   "execution_count": null,
   "metadata": {},
   "outputs": [
    {
     "data": {
      "text/html": [
       "<div>\n",
       "<style scoped>\n",
       "    .dataframe tbody tr th:only-of-type {\n",
       "        vertical-align: middle;\n",
       "    }\n",
       "\n",
       "    .dataframe tbody tr th {\n",
       "        vertical-align: top;\n",
       "    }\n",
       "\n",
       "    .dataframe thead th {\n",
       "        text-align: right;\n",
       "    }\n",
       "</style>\n",
       "<table border=\"1\" class=\"dataframe\">\n",
       "  <thead>\n",
       "    <tr style=\"text-align: right;\">\n",
       "      <th></th>\n",
       "      <th>user_id</th>\n",
       "      <th>parent_asin</th>\n",
       "      <th>rating</th>\n",
       "      <th>timestamp</th>\n",
       "    </tr>\n",
       "  </thead>\n",
       "  <tbody>\n",
       "    <tr>\n",
       "      <th>0</th>\n",
       "      <td>AFKZENTNBQ7A7V7UXW5JJI6UGRYQ</td>\n",
       "      <td>B01G8JO5F2</td>\n",
       "      <td>5.0</td>\n",
       "      <td>1523093017534</td>\n",
       "    </tr>\n",
       "    <tr>\n",
       "      <th>1</th>\n",
       "      <td>AFKZENTNBQ7A7V7UXW5JJI6UGRYQ</td>\n",
       "      <td>B07N69T6TM</td>\n",
       "      <td>1.0</td>\n",
       "      <td>1592678549731</td>\n",
       "    </tr>\n",
       "    <tr>\n",
       "      <th>2</th>\n",
       "      <td>AFKZENTNBQ7A7V7UXW5JJI6UGRYQ</td>\n",
       "      <td>B083NRGZMM</td>\n",
       "      <td>3.0</td>\n",
       "      <td>1658185117948</td>\n",
       "    </tr>\n",
       "    <tr>\n",
       "      <th>3</th>\n",
       "      <td>AGGZ357AO26RQZVRLGU4D4N52DZQ</td>\n",
       "      <td>B001OC5JKY</td>\n",
       "      <td>5.0</td>\n",
       "      <td>1290278495000</td>\n",
       "    </tr>\n",
       "    <tr>\n",
       "      <th>4</th>\n",
       "      <td>AG2L7H23R5LLKDKLBEF2Q3L2MVDA</td>\n",
       "      <td>B07CJYMRWM</td>\n",
       "      <td>5.0</td>\n",
       "      <td>1676601581238</td>\n",
       "    </tr>\n",
       "  </tbody>\n",
       "</table>\n",
       "</div>"
      ],
      "text/plain": [
       "                        user_id parent_asin rating      timestamp\n",
       "0  AFKZENTNBQ7A7V7UXW5JJI6UGRYQ  B01G8JO5F2    5.0  1523093017534\n",
       "1  AFKZENTNBQ7A7V7UXW5JJI6UGRYQ  B07N69T6TM    1.0  1592678549731\n",
       "2  AFKZENTNBQ7A7V7UXW5JJI6UGRYQ  B083NRGZMM    3.0  1658185117948\n",
       "3  AGGZ357AO26RQZVRLGU4D4N52DZQ  B001OC5JKY    5.0  1290278495000\n",
       "4  AG2L7H23R5LLKDKLBEF2Q3L2MVDA  B07CJYMRWM    5.0  1676601581238"
      ]
     },
     "execution_count": 12,
     "metadata": {},
     "output_type": "execute_result"
    }
   ],
   "source": [
    "amz_rating_df.head(5)"
   ]
  },
  {
   "cell_type": "code",
   "execution_count": null,
   "metadata": {},
   "outputs": [],
   "source": [
    "amz_metadata_raw = load_dataset(args.hf_dataset_name,\n",
    "                                args.amz_metadata_hf_dataset_path,\n",
    "                                split=\"full\",\n",
    "                                trust_remote_code=True)"
   ]
  },
  {
   "cell_type": "code",
   "execution_count": null,
   "metadata": {},
   "outputs": [
    {
     "name": "stderr",
     "output_type": "stream",
     "text": [
      "\u001b[32m2025-03-26 21:37:45.583\u001b[0m | \u001b[1mINFO    \u001b[0m | \u001b[36m__main__\u001b[0m:\u001b[36m<module>\u001b[0m:\u001b[36m4\u001b[0m - \u001b[1mamz_metadata_df.shape: (1610012, 16)\u001b[0m\n"
     ]
    }
   ],
   "source": [
    "amz_metadata_df = amz_metadata_raw.to_pandas()\n",
    "amz_metadata_df.drop_duplicates(subset=[args.item_col], inplace=True)\n",
    "\n",
    "logger.info(f\"amz_metadata_df.shape: {amz_metadata_df.shape}\")"
   ]
  },
  {
   "cell_type": "code",
   "execution_count": null,
   "metadata": {},
   "outputs": [
    {
     "data": {
      "text/html": [
       "<div>\n",
       "<style scoped>\n",
       "    .dataframe tbody tr th:only-of-type {\n",
       "        vertical-align: middle;\n",
       "    }\n",
       "\n",
       "    .dataframe tbody tr th {\n",
       "        vertical-align: top;\n",
       "    }\n",
       "\n",
       "    .dataframe thead th {\n",
       "        text-align: right;\n",
       "    }\n",
       "</style>\n",
       "<table border=\"1\" class=\"dataframe\">\n",
       "  <thead>\n",
       "    <tr style=\"text-align: right;\">\n",
       "      <th></th>\n",
       "      <th>main_category</th>\n",
       "      <th>title</th>\n",
       "      <th>average_rating</th>\n",
       "      <th>rating_number</th>\n",
       "      <th>features</th>\n",
       "      <th>description</th>\n",
       "      <th>price</th>\n",
       "      <th>images</th>\n",
       "      <th>videos</th>\n",
       "      <th>store</th>\n",
       "      <th>categories</th>\n",
       "      <th>details</th>\n",
       "      <th>parent_asin</th>\n",
       "      <th>bought_together</th>\n",
       "      <th>subtitle</th>\n",
       "      <th>author</th>\n",
       "    </tr>\n",
       "  </thead>\n",
       "  <tbody>\n",
       "    <tr>\n",
       "      <th>0</th>\n",
       "      <td>All Electronics</td>\n",
       "      <td>FS-1051 FATSHARK TELEPORTER V3 HEADSET</td>\n",
       "      <td>3.5</td>\n",
       "      <td>6</td>\n",
       "      <td>[]</td>\n",
       "      <td>[Teleporter V3 The “Teleporter V3” kit sets a new level of value in the FPV world with Fat Shark...</td>\n",
       "      <td>None</td>\n",
       "      <td>{'hi_res': [None], 'large': ['https://m.media-amazon.com/images/I/41qrX56lsYL._AC_.jpg'], 'thumb...</td>\n",
       "      <td>{'title': [], 'url': [], 'user_id': []}</td>\n",
       "      <td>Fat Shark</td>\n",
       "      <td>[Electronics, Television &amp; Video, Video Glasses]</td>\n",
       "      <td>{\"Date First Available\": \"August 2, 2014\", \"Manufacturer\": \"Fatshark\"}</td>\n",
       "      <td>B00MCW7G9M</td>\n",
       "      <td>None</td>\n",
       "      <td>None</td>\n",
       "      <td>None</td>\n",
       "    </tr>\n",
       "    <tr>\n",
       "      <th>1</th>\n",
       "      <td>All Electronics</td>\n",
       "      <td>Ce-H22B12-S1 4Kx2K Hdmi 4Port</td>\n",
       "      <td>5.0</td>\n",
       "      <td>1</td>\n",
       "      <td>[UPC: 662774021904, Weight: 0.600 lbs]</td>\n",
       "      <td>[HDMI In - HDMI Out]</td>\n",
       "      <td>None</td>\n",
       "      <td>{'hi_res': ['https://m.media-amazon.com/images/I/51qxU4Zd5TL._AC_SL1050_.jpg', 'https://m.media-...</td>\n",
       "      <td>{'title': [], 'url': [], 'user_id': []}</td>\n",
       "      <td>SIIG</td>\n",
       "      <td>[Electronics, Television &amp; Video, Accessories, Cables, HDMI Cables]</td>\n",
       "      <td>{\"Product Dimensions\": \"0.83 x 4.17 x 2.05 inches\", \"Item Weight\": \"5.3 ounces\", \"Item model num...</td>\n",
       "      <td>B00YT6XQSE</td>\n",
       "      <td>None</td>\n",
       "      <td>None</td>\n",
       "      <td>None</td>\n",
       "    </tr>\n",
       "    <tr>\n",
       "      <th>2</th>\n",
       "      <td>Computers</td>\n",
       "      <td>Digi-Tatoo Decal Skin Compatible With MacBook Pro 13 inch (Model A2338/ A2289/ A2251) - Protecti...</td>\n",
       "      <td>4.5</td>\n",
       "      <td>246</td>\n",
       "      <td>[WARNING: Please IDENTIFY MODEL NUMBER on the bottom of your Macbook. Only fits for model A2338/...</td>\n",
       "      <td>[]</td>\n",
       "      <td>19.99</td>\n",
       "      <td>{'hi_res': ['https://m.media-amazon.com/images/I/61RPxmi+mPL._AC_SL1500_.jpg', 'https://m.media-...</td>\n",
       "      <td>{'title': ['AL 2Sides Video', 'MacBook Protective Skin', 'ARTSO 15.6\" Laptop Skin Sticker Univer...</td>\n",
       "      <td>Digi-Tatoo</td>\n",
       "      <td>[Electronics, Computers &amp; Accessories, Laptop Accessories, Skins &amp; Decals, Decals]</td>\n",
       "      <td>{\"Brand\": \"Digi-Tatoo\", \"Color\": \"Fresh Marble\", \"Room Type\": \"Bedroom\", \"Material\": \"Vinyl\", \"T...</td>\n",
       "      <td>B07SM135LS</td>\n",
       "      <td>None</td>\n",
       "      <td>None</td>\n",
       "      <td>None</td>\n",
       "    </tr>\n",
       "    <tr>\n",
       "      <th>3</th>\n",
       "      <td>AMAZON FASHION</td>\n",
       "      <td>NotoCity Compatible with Vivoactive 4 band 22mm Quick Release Silicone Bands/Garmin Darth Vader/...</td>\n",
       "      <td>4.5</td>\n",
       "      <td>233</td>\n",
       "      <td>[☛NotoCity 22mm band is designed for Vivoactive 4 / Samsung Gear S3 Classic / S3 Frontier / Gear...</td>\n",
       "      <td>[]</td>\n",
       "      <td>9.99</td>\n",
       "      <td>{'hi_res': ['https://m.media-amazon.com/images/I/51ajKKbi76L._AC_UL1000_.jpg', 'https://m.media-...</td>\n",
       "      <td>{'title': [], 'url': [], 'user_id': []}</td>\n",
       "      <td>NotoCity</td>\n",
       "      <td>[Electronics, Wearable Technology, Clips, Arm &amp; Wristbands]</td>\n",
       "      <td>{\"Date First Available\": \"May 29, 2020\", \"Manufacturer\": \"NotoCity\"}</td>\n",
       "      <td>B089CNGZCW</td>\n",
       "      <td>None</td>\n",
       "      <td>None</td>\n",
       "      <td>None</td>\n",
       "    </tr>\n",
       "    <tr>\n",
       "      <th>4</th>\n",
       "      <td>Cell Phones &amp; Accessories</td>\n",
       "      <td>Motorola Droid X Essentials Combo Pack</td>\n",
       "      <td>3.8</td>\n",
       "      <td>64</td>\n",
       "      <td>[New Droid X Essentials Combo Pack, Exclusive Package Incredible Value Worth $145!!!, Includes a...</td>\n",
       "      <td>[all Genuine High Quality Motorola Made Accessories, including Multimedia Station with HDMI tech...</td>\n",
       "      <td>14.99</td>\n",
       "      <td>{'hi_res': [None, None, None, None, None], 'large': ['https://m.media-amazon.com/images/I/51-DXS...</td>\n",
       "      <td>{'title': [], 'url': [], 'user_id': []}</td>\n",
       "      <td>Verizon</td>\n",
       "      <td>[Electronics, Computers &amp; Accessories, Computer Accessories &amp; Peripherals, Memory Cards, Micro S...</td>\n",
       "      <td>{\"Product Dimensions\": \"11.6 x 6.9 x 3.1 inches\", \"Item Weight\": \"1.5 pounds\", \"Other display fe...</td>\n",
       "      <td>B004E2Z88O</td>\n",
       "      <td>None</td>\n",
       "      <td>None</td>\n",
       "      <td>None</td>\n",
       "    </tr>\n",
       "  </tbody>\n",
       "</table>\n",
       "</div>"
      ],
      "text/plain": [
       "               main_category  \\\n",
       "0            All Electronics   \n",
       "1            All Electronics   \n",
       "2                  Computers   \n",
       "3             AMAZON FASHION   \n",
       "4  Cell Phones & Accessories   \n",
       "\n",
       "                                                                                                 title  \\\n",
       "0                                                               FS-1051 FATSHARK TELEPORTER V3 HEADSET   \n",
       "1                                                                        Ce-H22B12-S1 4Kx2K Hdmi 4Port   \n",
       "2  Digi-Tatoo Decal Skin Compatible With MacBook Pro 13 inch (Model A2338/ A2289/ A2251) - Protecti...   \n",
       "3  NotoCity Compatible with Vivoactive 4 band 22mm Quick Release Silicone Bands/Garmin Darth Vader/...   \n",
       "4                                                               Motorola Droid X Essentials Combo Pack   \n",
       "\n",
       "   average_rating  rating_number  \\\n",
       "0             3.5              6   \n",
       "1             5.0              1   \n",
       "2             4.5            246   \n",
       "3             4.5            233   \n",
       "4             3.8             64   \n",
       "\n",
       "                                                                                              features  \\\n",
       "0                                                                                                   []   \n",
       "1                                                               [UPC: 662774021904, Weight: 0.600 lbs]   \n",
       "2  [WARNING: Please IDENTIFY MODEL NUMBER on the bottom of your Macbook. Only fits for model A2338/...   \n",
       "3  [☛NotoCity 22mm band is designed for Vivoactive 4 / Samsung Gear S3 Classic / S3 Frontier / Gear...   \n",
       "4  [New Droid X Essentials Combo Pack, Exclusive Package Incredible Value Worth $145!!!, Includes a...   \n",
       "\n",
       "                                                                                           description  \\\n",
       "0  [Teleporter V3 The “Teleporter V3” kit sets a new level of value in the FPV world with Fat Shark...   \n",
       "1                                                                                 [HDMI In - HDMI Out]   \n",
       "2                                                                                                   []   \n",
       "3                                                                                                   []   \n",
       "4  [all Genuine High Quality Motorola Made Accessories, including Multimedia Station with HDMI tech...   \n",
       "\n",
       "   price  \\\n",
       "0   None   \n",
       "1   None   \n",
       "2  19.99   \n",
       "3   9.99   \n",
       "4  14.99   \n",
       "\n",
       "                                                                                                images  \\\n",
       "0  {'hi_res': [None], 'large': ['https://m.media-amazon.com/images/I/41qrX56lsYL._AC_.jpg'], 'thumb...   \n",
       "1  {'hi_res': ['https://m.media-amazon.com/images/I/51qxU4Zd5TL._AC_SL1050_.jpg', 'https://m.media-...   \n",
       "2  {'hi_res': ['https://m.media-amazon.com/images/I/61RPxmi+mPL._AC_SL1500_.jpg', 'https://m.media-...   \n",
       "3  {'hi_res': ['https://m.media-amazon.com/images/I/51ajKKbi76L._AC_UL1000_.jpg', 'https://m.media-...   \n",
       "4  {'hi_res': [None, None, None, None, None], 'large': ['https://m.media-amazon.com/images/I/51-DXS...   \n",
       "\n",
       "                                                                                                videos  \\\n",
       "0                                                              {'title': [], 'url': [], 'user_id': []}   \n",
       "1                                                              {'title': [], 'url': [], 'user_id': []}   \n",
       "2  {'title': ['AL 2Sides Video', 'MacBook Protective Skin', 'ARTSO 15.6\" Laptop Skin Sticker Univer...   \n",
       "3                                                              {'title': [], 'url': [], 'user_id': []}   \n",
       "4                                                              {'title': [], 'url': [], 'user_id': []}   \n",
       "\n",
       "        store  \\\n",
       "0   Fat Shark   \n",
       "1        SIIG   \n",
       "2  Digi-Tatoo   \n",
       "3    NotoCity   \n",
       "4     Verizon   \n",
       "\n",
       "                                                                                            categories  \\\n",
       "0                                                     [Electronics, Television & Video, Video Glasses]   \n",
       "1                                  [Electronics, Television & Video, Accessories, Cables, HDMI Cables]   \n",
       "2                   [Electronics, Computers & Accessories, Laptop Accessories, Skins & Decals, Decals]   \n",
       "3                                          [Electronics, Wearable Technology, Clips, Arm & Wristbands]   \n",
       "4  [Electronics, Computers & Accessories, Computer Accessories & Peripherals, Memory Cards, Micro S...   \n",
       "\n",
       "                                                                                               details  \\\n",
       "0                               {\"Date First Available\": \"August 2, 2014\", \"Manufacturer\": \"Fatshark\"}   \n",
       "1  {\"Product Dimensions\": \"0.83 x 4.17 x 2.05 inches\", \"Item Weight\": \"5.3 ounces\", \"Item model num...   \n",
       "2  {\"Brand\": \"Digi-Tatoo\", \"Color\": \"Fresh Marble\", \"Room Type\": \"Bedroom\", \"Material\": \"Vinyl\", \"T...   \n",
       "3                                 {\"Date First Available\": \"May 29, 2020\", \"Manufacturer\": \"NotoCity\"}   \n",
       "4  {\"Product Dimensions\": \"11.6 x 6.9 x 3.1 inches\", \"Item Weight\": \"1.5 pounds\", \"Other display fe...   \n",
       "\n",
       "  parent_asin bought_together subtitle author  \n",
       "0  B00MCW7G9M            None     None   None  \n",
       "1  B00YT6XQSE            None     None   None  \n",
       "2  B07SM135LS            None     None   None  \n",
       "3  B089CNGZCW            None     None   None  \n",
       "4  B004E2Z88O            None     None   None  "
      ]
     },
     "metadata": {},
     "output_type": "display_data"
    }
   ],
   "source": [
    "with pd.option_context('display.max_colwidth',100):\n",
    "    display(amz_metadata_df.head(5))"
   ]
  },
  {
   "cell_type": "code",
   "execution_count": null,
   "metadata": {},
   "outputs": [
    {
     "data": {
      "text/html": [
       "<div>\n",
       "<style scoped>\n",
       "    .dataframe tbody tr th:only-of-type {\n",
       "        vertical-align: middle;\n",
       "    }\n",
       "\n",
       "    .dataframe tbody tr th {\n",
       "        vertical-align: top;\n",
       "    }\n",
       "\n",
       "    .dataframe thead th {\n",
       "        text-align: right;\n",
       "    }\n",
       "</style>\n",
       "<table border=\"1\" class=\"dataframe\">\n",
       "  <thead>\n",
       "    <tr style=\"text-align: right;\">\n",
       "      <th></th>\n",
       "      <th>parent_asin</th>\n",
       "      <th>main_category</th>\n",
       "      <th>title</th>\n",
       "      <th>description</th>\n",
       "      <th>price</th>\n",
       "      <th>categories</th>\n",
       "      <th>details</th>\n",
       "    </tr>\n",
       "  </thead>\n",
       "  <tbody>\n",
       "    <tr>\n",
       "      <th>0</th>\n",
       "      <td>B00MCW7G9M</td>\n",
       "      <td>All Electronics</td>\n",
       "      <td>FS-1051 FATSHARK TELEPORTER V3 HEADSET</td>\n",
       "      <td>[Teleporter V3 The “Teleporter V3” kit sets a ...</td>\n",
       "      <td>None</td>\n",
       "      <td>[Electronics, Television &amp; Video, Video Glasses]</td>\n",
       "      <td>{\"Date First Available\": \"August 2, 2014\", \"Ma...</td>\n",
       "    </tr>\n",
       "    <tr>\n",
       "      <th>1</th>\n",
       "      <td>B00YT6XQSE</td>\n",
       "      <td>All Electronics</td>\n",
       "      <td>Ce-H22B12-S1 4Kx2K Hdmi 4Port</td>\n",
       "      <td>[HDMI In - HDMI Out]</td>\n",
       "      <td>None</td>\n",
       "      <td>[Electronics, Television &amp; Video, Accessories,...</td>\n",
       "      <td>{\"Product Dimensions\": \"0.83 x 4.17 x 2.05 inc...</td>\n",
       "    </tr>\n",
       "    <tr>\n",
       "      <th>2</th>\n",
       "      <td>B07SM135LS</td>\n",
       "      <td>Computers</td>\n",
       "      <td>Digi-Tatoo Decal Skin Compatible With MacBook ...</td>\n",
       "      <td>[]</td>\n",
       "      <td>19.99</td>\n",
       "      <td>[Electronics, Computers &amp; Accessories, Laptop ...</td>\n",
       "      <td>{\"Brand\": \"Digi-Tatoo\", \"Color\": \"Fresh Marble...</td>\n",
       "    </tr>\n",
       "    <tr>\n",
       "      <th>3</th>\n",
       "      <td>B089CNGZCW</td>\n",
       "      <td>AMAZON FASHION</td>\n",
       "      <td>NotoCity Compatible with Vivoactive 4 band 22m...</td>\n",
       "      <td>[]</td>\n",
       "      <td>9.99</td>\n",
       "      <td>[Electronics, Wearable Technology, Clips, Arm ...</td>\n",
       "      <td>{\"Date First Available\": \"May 29, 2020\", \"Manu...</td>\n",
       "    </tr>\n",
       "    <tr>\n",
       "      <th>4</th>\n",
       "      <td>B004E2Z88O</td>\n",
       "      <td>Cell Phones &amp; Accessories</td>\n",
       "      <td>Motorola Droid X Essentials Combo Pack</td>\n",
       "      <td>[all Genuine High Quality Motorola Made Access...</td>\n",
       "      <td>14.99</td>\n",
       "      <td>[Electronics, Computers &amp; Accessories, Compute...</td>\n",
       "      <td>{\"Product Dimensions\": \"11.6 x 6.9 x 3.1 inche...</td>\n",
       "    </tr>\n",
       "  </tbody>\n",
       "</table>\n",
       "</div>"
      ],
      "text/plain": [
       "  parent_asin              main_category  \\\n",
       "0  B00MCW7G9M            All Electronics   \n",
       "1  B00YT6XQSE            All Electronics   \n",
       "2  B07SM135LS                  Computers   \n",
       "3  B089CNGZCW             AMAZON FASHION   \n",
       "4  B004E2Z88O  Cell Phones & Accessories   \n",
       "\n",
       "                                               title  \\\n",
       "0             FS-1051 FATSHARK TELEPORTER V3 HEADSET   \n",
       "1                      Ce-H22B12-S1 4Kx2K Hdmi 4Port   \n",
       "2  Digi-Tatoo Decal Skin Compatible With MacBook ...   \n",
       "3  NotoCity Compatible with Vivoactive 4 band 22m...   \n",
       "4             Motorola Droid X Essentials Combo Pack   \n",
       "\n",
       "                                         description  price  \\\n",
       "0  [Teleporter V3 The “Teleporter V3” kit sets a ...   None   \n",
       "1                               [HDMI In - HDMI Out]   None   \n",
       "2                                                 []  19.99   \n",
       "3                                                 []   9.99   \n",
       "4  [all Genuine High Quality Motorola Made Access...  14.99   \n",
       "\n",
       "                                          categories  \\\n",
       "0   [Electronics, Television & Video, Video Glasses]   \n",
       "1  [Electronics, Television & Video, Accessories,...   \n",
       "2  [Electronics, Computers & Accessories, Laptop ...   \n",
       "3  [Electronics, Wearable Technology, Clips, Arm ...   \n",
       "4  [Electronics, Computers & Accessories, Compute...   \n",
       "\n",
       "                                             details  \n",
       "0  {\"Date First Available\": \"August 2, 2014\", \"Ma...  \n",
       "1  {\"Product Dimensions\": \"0.83 x 4.17 x 2.05 inc...  \n",
       "2  {\"Brand\": \"Digi-Tatoo\", \"Color\": \"Fresh Marble...  \n",
       "3  {\"Date First Available\": \"May 29, 2020\", \"Manu...  \n",
       "4  {\"Product Dimensions\": \"11.6 x 6.9 x 3.1 inche...  "
      ]
     },
     "execution_count": 16,
     "metadata": {},
     "output_type": "execute_result"
    }
   ],
   "source": [
    "cols = [\"parent_asin\", \"main_category\", \"title\", \"description\", \"price\", \"categories\", \"details\"]\n",
    "metadata_df = amz_metadata_df[cols]\n",
    "metadata_df.head(5)"
   ]
  },
  {
   "cell_type": "code",
   "execution_count": null,
   "metadata": {},
   "outputs": [
    {
     "data": {
      "text/plain": [
       "1609860"
      ]
     },
     "execution_count": 17,
     "metadata": {},
     "output_type": "execute_result"
    }
   ],
   "source": [
    "amz_rating_df[args.item_col].nunique()"
   ]
  },
  {
   "cell_type": "code",
   "execution_count": null,
   "metadata": {},
   "outputs": [
    {
     "data": {
      "text/plain": [
       "1610012"
      ]
     },
     "execution_count": 18,
     "metadata": {},
     "output_type": "execute_result"
    }
   ],
   "source": [
    "amz_metadata_df[args.item_col].nunique()"
   ]
  },
  {
   "cell_type": "markdown",
   "metadata": {},
   "source": [
    "## Get holdout in order to demo data pipeline"
   ]
  },
  {
   "cell_type": "code",
   "execution_count": null,
   "metadata": {},
   "outputs": [],
   "source": [
    "amz_rating_df = amz_rating_df.pipe(\n",
    "    parse_dt\n",
    ").pipe(\n",
    "    handle_dtypes\n",
    ")"
   ]
  },
  {
   "cell_type": "code",
   "execution_count": null,
   "metadata": {},
   "outputs": [
    {
     "name": "stderr",
     "output_type": "stream",
     "text": [
      "\u001b[32m2025-03-26 21:38:02.661\u001b[0m | \u001b[1mINFO    \u001b[0m | \u001b[36m__main__\u001b[0m:\u001b[36m<module>\u001b[0m:\u001b[36m3\u001b[0m - \u001b[1mThe original shape of amz_rating_df: (43365426, 4)\u001b[0m\n",
      "\u001b[32m2025-03-26 21:38:04.486\u001b[0m | \u001b[1mINFO    \u001b[0m | \u001b[36m__main__\u001b[0m:\u001b[36m<module>\u001b[0m:\u001b[36m5\u001b[0m - \u001b[1mThe shape of amz_rating_df after splitted: (43334103, 4)\u001b[0m\n",
      "\u001b[32m2025-03-26 21:38:04.599\u001b[0m | \u001b[1mINFO    \u001b[0m | \u001b[36m__main__\u001b[0m:\u001b[36m<module>\u001b[0m:\u001b[36m8\u001b[0m - \u001b[1mThe shape of holdout_rating_df: (31323, 4)\u001b[0m\n"
     ]
    }
   ],
   "source": [
    "holdout_min_date = amz_rating_df[args.timestamp_col].max() - timedelta(days=args.holdout_days)\n",
    "\n",
    "logger.info(f\"The original shape of amz_rating_df: {amz_rating_df.shape}\")\n",
    "amz_rating_df_full = amz_rating_df.loc[lambda df: df[args.timestamp_col] < holdout_min_date]\n",
    "logger.info(f\"The shape of amz_rating_df after splitted: {amz_rating_df_full.shape}\")\n",
    "\n",
    "holdout_rating_df = amz_rating_df.loc[lambda df: df[args.timestamp_col] >= holdout_min_date]\n",
    "logger.info(f\"The shape of holdout_rating_df: {holdout_rating_df.shape}\")\n",
    "\n",
    "assert len(amz_rating_df_full) + len(holdout_rating_df) == len(amz_rating_df), \"Total length of 2 subsets should be equal to the original length\""
   ]
  },
  {
   "cell_type": "code",
   "execution_count": null,
   "metadata": {},
   "outputs": [
    {
     "name": "stderr",
     "output_type": "stream",
     "text": [
      "\u001b[32m2025-03-26 21:38:10.508\u001b[0m | \u001b[1mINFO    \u001b[0m | \u001b[36m__main__\u001b[0m:\u001b[36m<module>\u001b[0m:\u001b[36m2\u001b[0m - \u001b[1mThe shape of amz_metadata_df_full: (1607931, 7)\u001b[0m\n",
      "\u001b[32m2025-03-26 21:38:11.233\u001b[0m | \u001b[1mINFO    \u001b[0m | \u001b[36m__main__\u001b[0m:\u001b[36m<module>\u001b[0m:\u001b[36m6\u001b[0m - \u001b[1mThe shape of holdout_metadata_df: (1929, 7)\u001b[0m\n"
     ]
    }
   ],
   "source": [
    "amz_metadata_df_full = metadata_df.loc[lambda df: df[args.item_col].isin(amz_rating_df_full[args.item_col].unique())]\n",
    "logger.info(f\"The shape of amz_metadata_df_full: {amz_metadata_df_full.shape}\")\n",
    "\n",
    "holdout_metadata_df = metadata_df.loc[lambda df: ~df[args.item_col].isin(amz_metadata_df_full[args.item_col].unique())\n",
    "                                      & df[args.item_col].isin(holdout_rating_df[args.item_col].unique())]\n",
    "logger.info(f\"The shape of holdout_metadata_df: {holdout_metadata_df.shape}\")\n",
    "\n",
    "assert len(amz_metadata_df_full) + len(holdout_metadata_df) == amz_rating_df[args.item_col].nunique(), \"Total length of 2 subsets should be equal to the original length\""
   ]
  },
  {
   "cell_type": "code",
   "execution_count": null,
   "metadata": {},
   "outputs": [],
   "source": [
    "amz_rating_df_full.to_parquet(args.data_persist_dir + \"/amz_raw_rating.parquet\", index=False)\n",
    "amz_metadata_df_full.to_parquet(args.data_persist_dir + \"/amz_raw_metadata.parquet\", index=False)\n",
    "\n",
    "holdout_rating_df.to_parquet(args.data_persist_dir + \"/amz_holdout_rating.parquet\", index=False)\n",
    "holdout_metadata_df.to_parquet(args.data_persist_dir + \"/amz_holdout_metadata.parquet\", index=False)"
   ]
  },
  {
   "cell_type": "markdown",
   "metadata": {},
   "source": [
    "# Persit to OLTP"
   ]
  },
  {
   "cell_type": "code",
   "execution_count": null,
   "metadata": {},
   "outputs": [],
   "source": [
    "# Read data from file\n",
    "#(this version caused oom on the 11gb ram machine)\n",
    "# amz_rating_df_full = pd.read_parquet(args.data_persist_dir + \"/amz_raw_rating.parquet\")"
   ]
  },
  {
   "cell_type": "code",
   "execution_count": null,
   "metadata": {},
   "outputs": [],
   "source": [
    "# Dask version\n",
    "# Worked with using dask, the memory usage is much lower: around 4gb ram\n",
    "amz_rating_df_full = dd.read_parquet(args.data_persist_dir + \"/amz_raw_rating.parquet\")\n",
    "amz_rating_df_full = amz_rating_df_full.compute()  # Convert to Pandas if needed\n"
   ]
  },
  {
   "cell_type": "code",
   "execution_count": null,
   "metadata": {},
   "outputs": [],
   "source": [
    "amz_rating_df_full.head(5)"
   ]
  },
  {
   "cell_type": "code",
   "execution_count": 5,
   "metadata": {},
   "outputs": [],
   "source": [
    "host = os.getenv(\"POSTGRES_HOST\")\n",
    "port = os.getenv(\"POSTGRES_PORT\")\n",
    "database = os.getenv(\"POSTGRES_DB\")\n",
    "user = os.getenv(\"POSTGRES_USER\")\n",
    "password = os.getenv(\"POSTGRES_PASSWORD\")\n",
    "schema = os.getenv(\"POSTGRES_OLTP_SCHEMA\")"
   ]
  },
  {
   "cell_type": "code",
   "execution_count": 6,
   "metadata": {},
   "outputs": [],
   "source": [
    "connection_string = f\"postgresql+psycopg2://{user}:{password}@{host}:{port}/{database}\"\n",
    "engine = create_engine(connection_string)"
   ]
  },
  {
   "cell_type": "code",
   "execution_count": 7,
   "metadata": {},
   "outputs": [
    {
     "name": "stdout",
     "output_type": "stream",
     "text": [
      "Connection successful: True\n"
     ]
    }
   ],
   "source": [
    "from sqlalchemy import create_engine, text\n",
    "try:\n",
    "    with engine.connect() as connection:\n",
    "        result = connection.execute(text(\"SELECT 1\"))\n",
    "        print(\"Connection successful:\", result.scalar() == 1)\n",
    "except Exception as e:\n",
    "    print(\"Connection failed:\", e)\n"
   ]
  },
  {
   "cell_type": "code",
   "execution_count": null,
   "metadata": {},
   "outputs": [],
   "source": [
    "insert_chunk_to_oltp(amz_rating_df_full, engine, schema, args.transaction_table_name)"
   ]
  },
  {
   "cell_type": "code",
   "execution_count": null,
   "metadata": {},
   "outputs": [],
   "source": [
    "import gc\n",
    "del amz_rating_df_full\n",
    "gc.collect()"
   ]
  },
  {
   "cell_type": "code",
   "execution_count": 8,
   "metadata": {},
   "outputs": [],
   "source": [
    "amz_metadata_df_full = dd.read_parquet(args.data_persist_dir + \"/amz_raw_metadata.parquet\")\n",
    "amz_metadata_df_full = amz_metadata_df_full.compute()  # Convert to Pandas if needed"
   ]
  },
  {
   "cell_type": "code",
   "execution_count": 9,
   "metadata": {},
   "outputs": [
    {
     "data": {
      "text/html": [
       "<div>\n",
       "<style scoped>\n",
       "    .dataframe tbody tr th:only-of-type {\n",
       "        vertical-align: middle;\n",
       "    }\n",
       "\n",
       "    .dataframe tbody tr th {\n",
       "        vertical-align: top;\n",
       "    }\n",
       "\n",
       "    .dataframe thead th {\n",
       "        text-align: right;\n",
       "    }\n",
       "</style>\n",
       "<table border=\"1\" class=\"dataframe\">\n",
       "  <thead>\n",
       "    <tr style=\"text-align: right;\">\n",
       "      <th></th>\n",
       "      <th>parent_asin</th>\n",
       "      <th>main_category</th>\n",
       "      <th>title</th>\n",
       "      <th>description</th>\n",
       "      <th>price</th>\n",
       "      <th>categories</th>\n",
       "      <th>details</th>\n",
       "    </tr>\n",
       "  </thead>\n",
       "  <tbody>\n",
       "    <tr>\n",
       "      <th>0</th>\n",
       "      <td>B00MCW7G9M</td>\n",
       "      <td>All Electronics</td>\n",
       "      <td>FS-1051 FATSHARK TELEPORTER V3 HEADSET</td>\n",
       "      <td>[Teleporter V3 The “Teleporter V3” kit sets a ...</td>\n",
       "      <td>None</td>\n",
       "      <td>[Electronics, Television &amp; Video, Video Glasses]</td>\n",
       "      <td>{\"Date First Available\": \"August 2, 2014\", \"Ma...</td>\n",
       "    </tr>\n",
       "    <tr>\n",
       "      <th>1</th>\n",
       "      <td>B00YT6XQSE</td>\n",
       "      <td>All Electronics</td>\n",
       "      <td>Ce-H22B12-S1 4Kx2K Hdmi 4Port</td>\n",
       "      <td>[HDMI In - HDMI Out]</td>\n",
       "      <td>None</td>\n",
       "      <td>[Electronics, Television &amp; Video, Accessories,...</td>\n",
       "      <td>{\"Product Dimensions\": \"0.83 x 4.17 x 2.05 inc...</td>\n",
       "    </tr>\n",
       "    <tr>\n",
       "      <th>2</th>\n",
       "      <td>B07SM135LS</td>\n",
       "      <td>Computers</td>\n",
       "      <td>Digi-Tatoo Decal Skin Compatible With MacBook ...</td>\n",
       "      <td>[]</td>\n",
       "      <td>19.99</td>\n",
       "      <td>[Electronics, Computers &amp; Accessories, Laptop ...</td>\n",
       "      <td>{\"Brand\": \"Digi-Tatoo\", \"Color\": \"Fresh Marble...</td>\n",
       "    </tr>\n",
       "  </tbody>\n",
       "</table>\n",
       "</div>"
      ],
      "text/plain": [
       "  parent_asin    main_category  \\\n",
       "0  B00MCW7G9M  All Electronics   \n",
       "1  B00YT6XQSE  All Electronics   \n",
       "2  B07SM135LS        Computers   \n",
       "\n",
       "                                               title  \\\n",
       "0             FS-1051 FATSHARK TELEPORTER V3 HEADSET   \n",
       "1                      Ce-H22B12-S1 4Kx2K Hdmi 4Port   \n",
       "2  Digi-Tatoo Decal Skin Compatible With MacBook ...   \n",
       "\n",
       "                                         description  price  \\\n",
       "0  [Teleporter V3 The “Teleporter V3” kit sets a ...   None   \n",
       "1                               [HDMI In - HDMI Out]   None   \n",
       "2                                                 []  19.99   \n",
       "\n",
       "                                          categories  \\\n",
       "0   [Electronics, Television & Video, Video Glasses]   \n",
       "1  [Electronics, Television & Video, Accessories,...   \n",
       "2  [Electronics, Computers & Accessories, Laptop ...   \n",
       "\n",
       "                                             details  \n",
       "0  {\"Date First Available\": \"August 2, 2014\", \"Ma...  \n",
       "1  {\"Product Dimensions\": \"0.83 x 4.17 x 2.05 inc...  \n",
       "2  {\"Brand\": \"Digi-Tatoo\", \"Color\": \"Fresh Marble...  "
      ]
     },
     "execution_count": 9,
     "metadata": {},
     "output_type": "execute_result"
    }
   ],
   "source": [
    "amz_metadata_df_full.head(3)"
   ]
  },
  {
   "cell_type": "code",
   "execution_count": 10,
   "metadata": {},
   "outputs": [],
   "source": [
    "dtype = {\n",
    "    \"parent_asin\": Text,\n",
    "    \"main_category\": Text,\n",
    "    \"title\": Text,\n",
    "    \"description\": ARRAY(Text),\n",
    "    \"price\": Text,\n",
    "    \"categories\": ARRAY(Text),\n",
    "    \"details\": JSON\n",
    "}"
   ]
  },
  {
   "cell_type": "code",
   "execution_count": 11,
   "metadata": {},
   "outputs": [
    {
     "data": {
      "application/vnd.jupyter.widget-view+json": {
       "model_id": "c678714e66b44eba9b0553e4244323f7",
       "version_major": 2,
       "version_minor": 0
      },
      "text/plain": [
       "Ingesting chunks:   0%|          | 0/1608 [00:00<?, ?it/s]"
      ]
     },
     "metadata": {},
     "output_type": "display_data"
    }
   ],
   "source": [
    "insert_chunk_to_oltp(amz_metadata_df_full, engine, schema, args.metadata_table_name, dtype=dtype)"
   ]
  },
  {
   "cell_type": "code",
   "execution_count": 12,
   "metadata": {},
   "outputs": [],
   "source": [
    "# Fetch data from OLTP\n",
    "with engine.connect() as connection:\n",
    "    result = connection.execute(text(f\"SELECT * FROM {schema}.amz_review_metadata_raw LIMIT 10\"))\n",
    "    test_df_hehe = pd.DataFrame(result.fetchall(), columns=result.keys())"
   ]
  },
  {
   "cell_type": "code",
   "execution_count": 13,
   "metadata": {},
   "outputs": [
    {
     "data": {
      "text/html": [
       "<div>\n",
       "<style scoped>\n",
       "    .dataframe tbody tr th:only-of-type {\n",
       "        vertical-align: middle;\n",
       "    }\n",
       "\n",
       "    .dataframe tbody tr th {\n",
       "        vertical-align: top;\n",
       "    }\n",
       "\n",
       "    .dataframe thead th {\n",
       "        text-align: right;\n",
       "    }\n",
       "</style>\n",
       "<table border=\"1\" class=\"dataframe\">\n",
       "  <thead>\n",
       "    <tr style=\"text-align: right;\">\n",
       "      <th></th>\n",
       "      <th>parent_asin</th>\n",
       "      <th>main_category</th>\n",
       "      <th>title</th>\n",
       "      <th>description</th>\n",
       "      <th>price</th>\n",
       "      <th>categories</th>\n",
       "      <th>details</th>\n",
       "    </tr>\n",
       "  </thead>\n",
       "  <tbody>\n",
       "    <tr>\n",
       "      <th>0</th>\n",
       "      <td>B0176741HM</td>\n",
       "      <td>Computers</td>\n",
       "      <td>GIGABYTE Video Card Graphics Cards GV-R545-1GI...</td>\n",
       "      <td>[GIGABYTE AMD Radeon HD 5450 1GB DDR3 VGA/DVI/...</td>\n",
       "      <td>128.86</td>\n",
       "      <td>[Electronics, Computers &amp; Accessories, Compute...</td>\n",
       "      <td>{'Max Screen Resolution': '2560 x 1600', 'Memo...</td>\n",
       "    </tr>\n",
       "    <tr>\n",
       "      <th>1</th>\n",
       "      <td>B086BXKMB5</td>\n",
       "      <td>All Electronics</td>\n",
       "      <td>hudiemm0B HDD PCI Bracket, PCI Slot 2.5inch HD...</td>\n",
       "      <td>[Specifications: Simply attach your existing 2...</td>\n",
       "      <td>0.93</td>\n",
       "      <td>[Electronics, Computers &amp; Accessories, Network...</td>\n",
       "      <td>{'Brand Name': 'hudiemm0B', 'Color': 'Multi', ...</td>\n",
       "    </tr>\n",
       "    <tr>\n",
       "      <th>2</th>\n",
       "      <td>B09KP2195S</td>\n",
       "      <td>Computers</td>\n",
       "      <td>HP [Windows 11 Home] 2021 Newest Slim Desktop ...</td>\n",
       "      <td>[Key Features and Benefits:, CPU, :, Intel Cel...</td>\n",
       "      <td>None</td>\n",
       "      <td>[Electronics, Computers &amp; Accessories, Compute...</td>\n",
       "      <td>{'Processor': '3.5 GHz celeron', 'RAM': '16 GB...</td>\n",
       "    </tr>\n",
       "  </tbody>\n",
       "</table>\n",
       "</div>"
      ],
      "text/plain": [
       "  parent_asin    main_category  \\\n",
       "0  B0176741HM        Computers   \n",
       "1  B086BXKMB5  All Electronics   \n",
       "2  B09KP2195S        Computers   \n",
       "\n",
       "                                               title  \\\n",
       "0  GIGABYTE Video Card Graphics Cards GV-R545-1GI...   \n",
       "1  hudiemm0B HDD PCI Bracket, PCI Slot 2.5inch HD...   \n",
       "2  HP [Windows 11 Home] 2021 Newest Slim Desktop ...   \n",
       "\n",
       "                                         description   price  \\\n",
       "0  [GIGABYTE AMD Radeon HD 5450 1GB DDR3 VGA/DVI/...  128.86   \n",
       "1  [Specifications: Simply attach your existing 2...    0.93   \n",
       "2  [Key Features and Benefits:, CPU, :, Intel Cel...    None   \n",
       "\n",
       "                                          categories  \\\n",
       "0  [Electronics, Computers & Accessories, Compute...   \n",
       "1  [Electronics, Computers & Accessories, Network...   \n",
       "2  [Electronics, Computers & Accessories, Compute...   \n",
       "\n",
       "                                             details  \n",
       "0  {'Max Screen Resolution': '2560 x 1600', 'Memo...  \n",
       "1  {'Brand Name': 'hudiemm0B', 'Color': 'Multi', ...  \n",
       "2  {'Processor': '3.5 GHz celeron', 'RAM': '16 GB...  "
      ]
     },
     "execution_count": 13,
     "metadata": {},
     "output_type": "execute_result"
    }
   ],
   "source": [
    "test_df_hehe.head(3)"
   ]
  },
  {
   "cell_type": "code",
   "execution_count": null,
   "metadata": {},
   "outputs": [
    {
     "data": {
      "text/plain": [
       "1064"
      ]
     },
     "execution_count": 17,
     "metadata": {},
     "output_type": "execute_result"
    }
   ],
   "source": [
    "del amz_metadata_df_full\n",
    "del test_df_hehe\n",
    "gc.collect()"
   ]
  }
 ],
 "metadata": {
  "kernelspec": {
   "display_name": "Python 3",
   "language": "python",
   "name": "python3"
  },
  "language_info": {
   "codemirror_mode": {
    "name": "ipython",
    "version": 3
   },
   "file_extension": ".py",
   "mimetype": "text/x-python",
   "name": "python",
   "nbconvert_exporter": "python",
   "pygments_lexer": "ipython3",
   "version": "3.11.9"
  }
 },
 "nbformat": 4,
 "nbformat_minor": 2
}
