{
 "cells": [
  {
   "cell_type": "markdown",
   "metadata": {},
   "source": [
    "# Setup"
   ]
  },
  {
   "cell_type": "code",
   "execution_count": 1,
   "metadata": {},
   "outputs": [],
   "source": [
    "%load_ext autoreload\n",
    "%autoreload 2 "
   ]
  },
  {
   "cell_type": "code",
   "execution_count": 6,
   "metadata": {},
   "outputs": [],
   "source": [
    "import numpy as np\n",
    "import pandas as pd\n",
    "from sqlalchemy import create_engine\n",
    "from datasets import load_dataset\n",
    "from pydantic import BaseModel\n",
    "from dotenv import load_dotenv\n",
    "import os"
   ]
  },
  {
   "cell_type": "code",
   "execution_count": 5,
   "metadata": {},
   "outputs": [],
   "source": [
    "_ = load_dotenv(override=True)"
   ]
  },
  {
   "cell_type": "markdown",
   "metadata": {},
   "source": [
    "## Arguments"
   ]
  },
  {
   "cell_type": "code",
   "execution_count": 11,
   "metadata": {},
   "outputs": [
    {
     "name": "stdout",
     "output_type": "stream",
     "text": [
      "{\n",
      "  \"random_seed\": 41,\n",
      "  \"user_col\": \"user_id\",\n",
      "  \"item_col\": \"parent_asin\",\n",
      "  \"rating_col\": \"rating\",\n",
      "  \"timestamp_col\": \"timestamp\",\n",
      "  \"transaction_table_name\": \"amz_review_rating_raw\",\n",
      "  \"metadata_table_name\": \"amz_review_metadata_raw\",\n",
      "  \"hf_dataset_name\": \"McAuley-Lab/Amazon-Reviews-2023\",\n",
      "  \"amz_rating_hf_dataset_path\": \"0core_rating_only_Electronics\",\n",
      "  \"amz_metadata_hf_dataset_path\": \"raw_metadata_Electronics\"\n",
      "}\n"
     ]
    }
   ],
   "source": [
    "class Args(BaseModel):\n",
    "    random_seed: int = 41\n",
    "\n",
    "    user_col: str = \"user_id\"\n",
    "    item_col: str = \"parent_asin\"\n",
    "    rating_col: str = \"rating\"\n",
    "    timestamp_col: str = \"timestamp\"\n",
    "\n",
    "    transaction_table_name: str = \"amz_review_rating_raw\"\n",
    "    metadata_table_name: str = \"amz_review_metadata_raw\"\n",
    "\n",
    "    hf_dataset_name: str = \"McAuley-Lab/Amazon-Reviews-2023\"\n",
    "    amz_rating_hf_dataset_path: str = \"0core_rating_only_Electronics\"    #load o-core to demo real-world problem: cold-start, sparse data\n",
    "    amz_metadata_hf_dataset_path: str = \"raw_metadata_Electronics\"   \n",
    "\n",
    "args = Args()\n",
    "print(args.model_dump_json(indent=2))\n"
   ]
  },
  {
   "cell_type": "markdown",
   "metadata": {},
   "source": [
    "## Load dataset"
   ]
  },
  {
   "cell_type": "code",
   "execution_count": 15,
   "metadata": {},
   "outputs": [
    {
     "data": {
      "application/vnd.jupyter.widget-view+json": {
       "model_id": "9371c790b7c64eb492f1db1b069f70e0",
       "version_major": 2,
       "version_minor": 0
      },
      "text/plain": [
       "Downloading data:   0%|          | 0.00/2.52G [00:00<?, ?B/s]"
      ]
     },
     "metadata": {},
     "output_type": "display_data"
    },
    {
     "data": {
      "application/vnd.jupyter.widget-view+json": {
       "model_id": "d9aef8e4868b4279910c81bc5e845eb8",
       "version_major": 2,
       "version_minor": 0
      },
      "text/plain": [
       "Generating full split: 0 examples [00:00, ? examples/s]"
      ]
     },
     "metadata": {},
     "output_type": "display_data"
    }
   ],
   "source": [
    "amz_rating_raw = load_dataset(args.hf_dataset_name,\n",
    "                              args.amz_rating_hf_dataset_path,\n",
    "                              split=\"full\",\n",
    "                              trust_remote_code=True)"
   ]
  },
  {
   "cell_type": "code",
   "execution_count": null,
   "metadata": {},
   "outputs": [],
   "source": [
    "amz_rating_df = amz_rating_raw.to_pandas()\n",
    "amz_rating_df.drop_duplicates(subset=[args.user_col, args.item_col], inplace=True)\n",
    "\n",
    "logger.info(f\"amz_rating_df.shape: {amz_rating_df.shape}\")"
   ]
  },
  {
   "cell_type": "code",
   "execution_count": null,
   "metadata": {},
   "outputs": [],
   "source": []
  }
 ],
 "metadata": {
  "kernelspec": {
   "display_name": "Python 3",
   "language": "python",
   "name": "python3"
  },
  "language_info": {
   "codemirror_mode": {
    "name": "ipython",
    "version": 3
   },
   "file_extension": ".py",
   "mimetype": "text/x-python",
   "name": "python",
   "nbconvert_exporter": "python",
   "pygments_lexer": "ipython3",
   "version": "3.11.9"
  }
 },
 "nbformat": 4,
 "nbformat_minor": 2
}
